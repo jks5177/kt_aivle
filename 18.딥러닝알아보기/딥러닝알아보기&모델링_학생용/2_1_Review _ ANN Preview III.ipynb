{
 "cells": [
  {
   "cell_type": "markdown",
   "metadata": {
    "id": "T7kdgJptO50L"
   },
   "source": [
    "# 1일차 Review : 같은 문제 다시 풀어보기\n",
    "\n",
    "    학습은 10번으로!"
   ]
  },
  {
   "cell_type": "code",
   "execution_count": 1,
   "metadata": {
    "id": "k-kIj84JQdd3"
   },
   "outputs": [],
   "source": [
    "from sklearn.datasets import load_iris"
   ]
  },
  {
   "cell_type": "code",
   "execution_count": 2,
   "metadata": {
    "id": "1F1kZLpEQof_"
   },
   "outputs": [],
   "source": [
    "iris = load_iris()"
   ]
  },
  {
   "cell_type": "code",
   "execution_count": 3,
   "metadata": {
    "id": "4uNPvbD_QyUh"
   },
   "outputs": [],
   "source": [
    "x = iris.data\n",
    "y = iris.target"
   ]
  },
  {
   "cell_type": "code",
   "execution_count": 4,
   "metadata": {
    "id": "6DfGrWUsQ3WC"
   },
   "outputs": [
    {
     "data": {
      "text/plain": [
       "((150, 4), (150,))"
      ]
     },
     "execution_count": 4,
     "metadata": {},
     "output_type": "execute_result"
    }
   ],
   "source": [
    "x.shape, y.shape"
   ]
  },
  {
   "cell_type": "code",
   "execution_count": 5,
   "metadata": {
    "id": "puqIL3FCRBs6"
   },
   "outputs": [],
   "source": [
    "#####################\n",
    "# 라이브러리 불러오기\n",
    "#####################\n",
    "import tensorflow as tf\n",
    "from tensorflow import keras\n",
    "import numpy as np"
   ]
  },
  {
   "cell_type": "code",
   "execution_count": 6,
   "metadata": {
    "id": "TY0leKum_owG"
   },
   "outputs": [
    {
     "data": {
      "text/plain": [
       "(150, 3)"
      ]
     },
     "execution_count": 6,
     "metadata": {},
     "output_type": "execute_result"
    }
   ],
   "source": [
    "#######################\n",
    "# 어떤 전처리 작업 필요\n",
    "# Hint : y.shape\n",
    "#######################\n",
    "from tensorflow.keras.utils import to_categorical\n",
    "y = to_categorical(y, 3)\n",
    "y.shape"
   ]
  },
  {
   "cell_type": "code",
   "execution_count": 7,
   "metadata": {},
   "outputs": [],
   "source": [
    "# 훈련, 테스트 데이터 분류\n",
    "from sklearn.model_selection import train_test_split\n",
    "\n",
    "x_train, x_test, y_train, y_test = train_test_split(x, y, test_size=0.2, random_state=2022)"
   ]
  },
  {
   "cell_type": "code",
   "execution_count": 8,
   "metadata": {
    "id": "broVdGpGbqrC"
   },
   "outputs": [
    {
     "name": "stdout",
     "output_type": "stream",
     "text": [
      "Model: \"model\"\n",
      "_________________________________________________________________\n",
      " Layer (type)                Output Shape              Param #   \n",
      "=================================================================\n",
      " input_1 (InputLayer)        [(None, 4)]               0         \n",
      "                                                                 \n",
      " dense (Dense)               (None, 3)                 15        \n",
      "                                                                 \n",
      "=================================================================\n",
      "Total params: 15\n",
      "Trainable params: 15\n",
      "Non-trainable params: 0\n",
      "_________________________________________________________________\n"
     ]
    }
   ],
   "source": [
    "########\n",
    "# 모델링\n",
    "########\n",
    "# 1. 모델 초기화\n",
    "keras.backend.clear_session()\n",
    "\n",
    "# 2. 레이어 생성\n",
    "input_layer = keras.layers.Input(shape=(4,))\n",
    "output_layer = keras.layers.Dense(3, activation='softmax')(input_layer)\n",
    "\n",
    "# 3. 모델 생성\n",
    "model = keras.models.Model(input_layer, output_layer)\n",
    "\n",
    "# 4. 모델 컴파일\n",
    "model.compile(loss=keras.losses.categorical_crossentropy, metrics=['accuracy'], optimizer=keras.optimizers.Adam())\n",
    "\n",
    "model.summary()"
   ]
  },
  {
   "cell_type": "code",
   "execution_count": 11,
   "metadata": {
    "id": "4U3tZ7PvbljS"
   },
   "outputs": [
    {
     "name": "stdout",
     "output_type": "stream",
     "text": [
      "Epoch 1/10\n",
      "3/3 [==============================] - 0s 121ms/step - loss: 2.1843 - accuracy: 0.3229 - val_loss: 1.9271 - val_accuracy: 0.4167\n",
      "Epoch 2/10\n",
      "3/3 [==============================] - 0s 19ms/step - loss: 2.1376 - accuracy: 0.3229 - val_loss: 1.8924 - val_accuracy: 0.4167\n",
      "Epoch 3/10\n",
      "3/3 [==============================] - 0s 22ms/step - loss: 2.0902 - accuracy: 0.3229 - val_loss: 1.8586 - val_accuracy: 0.4167\n",
      "Epoch 4/10\n",
      "3/3 [==============================] - 0s 21ms/step - loss: 2.0458 - accuracy: 0.3021 - val_loss: 1.8258 - val_accuracy: 0.4167\n",
      "Epoch 5/10\n",
      "3/3 [==============================] - 0s 21ms/step - loss: 2.0017 - accuracy: 0.3021 - val_loss: 1.7944 - val_accuracy: 0.3750\n",
      "Epoch 6/10\n",
      "3/3 [==============================] - 0s 22ms/step - loss: 1.9597 - accuracy: 0.3021 - val_loss: 1.7640 - val_accuracy: 0.3750\n",
      "Epoch 7/10\n",
      "3/3 [==============================] - 0s 21ms/step - loss: 1.9179 - accuracy: 0.3021 - val_loss: 1.7355 - val_accuracy: 0.3333\n",
      "Epoch 8/10\n",
      "3/3 [==============================] - 0s 21ms/step - loss: 1.8766 - accuracy: 0.3021 - val_loss: 1.7084 - val_accuracy: 0.3333\n",
      "Epoch 9/10\n",
      "3/3 [==============================] - 0s 22ms/step - loss: 1.8402 - accuracy: 0.2812 - val_loss: 1.6824 - val_accuracy: 0.3333\n",
      "Epoch 10/10\n",
      "3/3 [==============================] - 0s 21ms/step - loss: 1.8041 - accuracy: 0.2604 - val_loss: 1.6576 - val_accuracy: 0.3333\n"
     ]
    },
    {
     "data": {
      "text/plain": [
       "<keras.callbacks.History at 0x22230b0cee0>"
      ]
     },
     "execution_count": 11,
     "metadata": {},
     "output_type": "execute_result"
    }
   ],
   "source": [
    "###########\n",
    "# 모델 학습\n",
    "###########\n",
    "model.fit(x_train, y_train, epochs=10, validation_split=0.2)\n"
   ]
  },
  {
   "cell_type": "code",
   "execution_count": 12,
   "metadata": {
    "id": "prSYRU-_AlYz"
   },
   "outputs": [
    {
     "name": "stdout",
     "output_type": "stream",
     "text": [
      "[[0.7827563  0.15084419 0.06639951]\n",
      " [0.8911096  0.08260234 0.0262881 ]\n",
      " [0.5374147  0.17117348 0.29141176]\n",
      " [0.7529528  0.15346484 0.09358238]\n",
      " [0.48256484 0.17050329 0.3469318 ]]\n",
      "[[0. 0. 1.]\n",
      " [0. 0. 1.]\n",
      " [1. 0. 0.]\n",
      " [0. 0. 1.]\n",
      " [1. 0. 0.]]\n"
     ]
    }
   ],
   "source": [
    "###########\n",
    "# 모델 예측\n",
    "###########\n",
    "y_pred = model.predict(x_test)\n",
    "print(y_pred[:5])\n",
    "print(y_test[:5])"
   ]
  },
  {
   "cell_type": "markdown",
   "metadata": {
    "id": "0xVNQT9V-Iev"
   },
   "source": [
    "# 히든 레이어 추가하여 모델링! (Functional API)\n",
    "\n",
    "    히든 레이어 2개를 추가하여 다시 모델링!\n",
    "    히든 레이어 노드 수 : 32\n",
    "    히든 레이어 activation = 'relu'"
   ]
  },
  {
   "cell_type": "code",
   "execution_count": 29,
   "metadata": {
    "id": "y3PTU3m--xMa"
   },
   "outputs": [
    {
     "name": "stdout",
     "output_type": "stream",
     "text": [
      "Model: \"model\"\n",
      "_________________________________________________________________\n",
      " Layer (type)                Output Shape              Param #   \n",
      "=================================================================\n",
      " input_1 (InputLayer)        [(None, 4)]               0         \n",
      "                                                                 \n",
      " dense (Dense)               (None, 32)                160       \n",
      "                                                                 \n",
      " dense_1 (Dense)             (None, 32)                1056      \n",
      "                                                                 \n",
      " dense_2 (Dense)             (None, 3)                 99        \n",
      "                                                                 \n",
      "=================================================================\n",
      "Total params: 1,315\n",
      "Trainable params: 1,315\n",
      "Non-trainable params: 0\n",
      "_________________________________________________________________\n"
     ]
    }
   ],
   "source": [
    "########\n",
    "# 모델링\n",
    "########\n",
    "# 1. 모델 초기화\n",
    "keras.backend.clear_session()\n",
    "\n",
    "# 2. 레이어 생성\n",
    "input_layer = keras.layers.Input(shape=(4,))\n",
    "hiden_layer = keras.layers.Dense(32, activation='relu')(input_layer)\n",
    "hiden_layer = keras.layers.Dense(32, activation='relu')(hiden_layer)\n",
    "output_layer = keras.layers.Dense(3, activation='softmax')(hiden_layer)\n",
    "\n",
    "# 3. 모델 생성\n",
    "model = keras.models.Model(input_layer, output_layer)\n",
    "\n",
    "# 4. 컴파일\n",
    "model.compile(loss=keras.losses.categorical_crossentropy, metrics=['accuracy'], optimizer=keras.optimizers.Adam())\n",
    "\n",
    "model.summary()"
   ]
  },
  {
   "cell_type": "code",
   "execution_count": 30,
   "metadata": {},
   "outputs": [],
   "source": [
    "## Early Stopping\n",
    "from tensorflow.keras.callbacks import EarlyStopping\n",
    "\n",
    "es = EarlyStopping(monitor='val_loss',       # 무엇을 관찰할래?\n",
    "                   min_delta=0,              # 0이면 최소한 나빠지지만 않으면 괜찮아\n",
    "                   patience=5,               # mointer가 개선되지 않는 거를 몇 번 참을래?\n",
    "                   verbose=1,                # Early Stopping 된 것을 보여줍니다.\n",
    "                   restore_best_weights=True # 중요! 최적의 학습 가중치를 모델에 전달합니다.\n",
    "                  )"
   ]
  },
  {
   "cell_type": "code",
   "execution_count": 31,
   "metadata": {
    "id": "HbvMea71-xMb"
   },
   "outputs": [
    {
     "name": "stdout",
     "output_type": "stream",
     "text": [
      "Epoch 1/200\n",
      "3/3 [==============================] - 1s 127ms/step - loss: 1.0868 - accuracy: 0.2292 - val_loss: 1.1204 - val_accuracy: 0.2917\n",
      "Epoch 2/200\n",
      "3/3 [==============================] - 0s 22ms/step - loss: 1.0725 - accuracy: 0.1771 - val_loss: 1.1123 - val_accuracy: 0.1667\n",
      "Epoch 3/200\n",
      "3/3 [==============================] - 0s 24ms/step - loss: 1.0554 - accuracy: 0.3229 - val_loss: 1.0966 - val_accuracy: 0.2083\n",
      "Epoch 4/200\n",
      "3/3 [==============================] - 0s 23ms/step - loss: 1.0421 - accuracy: 0.3333 - val_loss: 1.0764 - val_accuracy: 0.2083\n",
      "Epoch 5/200\n",
      "3/3 [==============================] - 0s 22ms/step - loss: 1.0297 - accuracy: 0.3333 - val_loss: 1.0589 - val_accuracy: 0.2500\n",
      "Epoch 6/200\n",
      "3/3 [==============================] - 0s 28ms/step - loss: 1.0189 - accuracy: 0.3438 - val_loss: 1.0446 - val_accuracy: 0.2083\n",
      "Epoch 7/200\n",
      "3/3 [==============================] - 0s 25ms/step - loss: 1.0057 - accuracy: 0.3333 - val_loss: 1.0291 - val_accuracy: 0.2500\n",
      "Epoch 8/200\n",
      "3/3 [==============================] - 0s 24ms/step - loss: 0.9920 - accuracy: 0.3542 - val_loss: 1.0134 - val_accuracy: 0.2917\n",
      "Epoch 9/200\n",
      "3/3 [==============================] - 0s 23ms/step - loss: 0.9794 - accuracy: 0.4375 - val_loss: 0.9979 - val_accuracy: 0.6250\n",
      "Epoch 10/200\n",
      "3/3 [==============================] - 0s 25ms/step - loss: 0.9658 - accuracy: 0.6875 - val_loss: 0.9841 - val_accuracy: 0.6667\n",
      "Epoch 11/200\n",
      "3/3 [==============================] - 0s 25ms/step - loss: 0.9520 - accuracy: 0.6875 - val_loss: 0.9721 - val_accuracy: 0.6250\n",
      "Epoch 12/200\n",
      "3/3 [==============================] - 0s 23ms/step - loss: 0.9380 - accuracy: 0.6562 - val_loss: 0.9573 - val_accuracy: 0.6250\n",
      "Epoch 13/200\n",
      "3/3 [==============================] - 0s 23ms/step - loss: 0.9249 - accuracy: 0.6667 - val_loss: 0.9413 - val_accuracy: 0.6250\n",
      "Epoch 14/200\n",
      "3/3 [==============================] - 0s 22ms/step - loss: 0.9089 - accuracy: 0.6771 - val_loss: 0.9249 - val_accuracy: 0.6667\n",
      "Epoch 15/200\n",
      "3/3 [==============================] - 0s 23ms/step - loss: 0.8941 - accuracy: 0.6771 - val_loss: 0.9070 - val_accuracy: 0.6250\n",
      "Epoch 16/200\n",
      "3/3 [==============================] - 0s 24ms/step - loss: 0.8760 - accuracy: 0.6979 - val_loss: 0.8850 - val_accuracy: 0.7500\n",
      "Epoch 17/200\n",
      "3/3 [==============================] - 0s 23ms/step - loss: 0.8580 - accuracy: 0.7708 - val_loss: 0.8650 - val_accuracy: 0.7917\n",
      "Epoch 18/200\n",
      "3/3 [==============================] - 0s 23ms/step - loss: 0.8397 - accuracy: 0.8229 - val_loss: 0.8449 - val_accuracy: 0.7917\n",
      "Epoch 19/200\n",
      "3/3 [==============================] - 0s 22ms/step - loss: 0.8211 - accuracy: 0.8333 - val_loss: 0.8255 - val_accuracy: 0.7917\n",
      "Epoch 20/200\n",
      "3/3 [==============================] - 0s 22ms/step - loss: 0.8034 - accuracy: 0.8438 - val_loss: 0.8065 - val_accuracy: 0.7917\n",
      "Epoch 21/200\n",
      "3/3 [==============================] - 0s 20ms/step - loss: 0.7843 - accuracy: 0.8333 - val_loss: 0.7881 - val_accuracy: 0.7917\n",
      "Epoch 22/200\n",
      "3/3 [==============================] - 0s 21ms/step - loss: 0.7656 - accuracy: 0.8542 - val_loss: 0.7686 - val_accuracy: 0.8750\n",
      "Epoch 23/200\n",
      "3/3 [==============================] - 0s 20ms/step - loss: 0.7490 - accuracy: 0.9062 - val_loss: 0.7476 - val_accuracy: 0.9167\n",
      "Epoch 24/200\n",
      "3/3 [==============================] - 0s 22ms/step - loss: 0.7310 - accuracy: 0.9375 - val_loss: 0.7294 - val_accuracy: 0.9167\n",
      "Epoch 25/200\n",
      "3/3 [==============================] - 0s 23ms/step - loss: 0.7138 - accuracy: 0.8750 - val_loss: 0.7134 - val_accuracy: 0.7917\n",
      "Epoch 26/200\n",
      "3/3 [==============================] - 0s 22ms/step - loss: 0.6951 - accuracy: 0.8333 - val_loss: 0.6956 - val_accuracy: 0.7917\n",
      "Epoch 27/200\n",
      "3/3 [==============================] - 0s 22ms/step - loss: 0.6761 - accuracy: 0.8333 - val_loss: 0.6736 - val_accuracy: 0.8333\n",
      "Epoch 28/200\n",
      "3/3 [==============================] - 0s 21ms/step - loss: 0.6572 - accuracy: 0.8542 - val_loss: 0.6526 - val_accuracy: 0.8750\n",
      "Epoch 29/200\n",
      "3/3 [==============================] - 0s 24ms/step - loss: 0.6399 - accuracy: 0.9062 - val_loss: 0.6273 - val_accuracy: 0.9583\n",
      "Epoch 30/200\n",
      "3/3 [==============================] - 0s 24ms/step - loss: 0.6195 - accuracy: 0.9479 - val_loss: 0.6047 - val_accuracy: 0.9583\n",
      "Epoch 31/200\n",
      "3/3 [==============================] - 0s 25ms/step - loss: 0.5997 - accuracy: 0.9479 - val_loss: 0.5856 - val_accuracy: 0.9583\n",
      "Epoch 32/200\n",
      "3/3 [==============================] - 0s 30ms/step - loss: 0.5876 - accuracy: 0.9167 - val_loss: 0.5728 - val_accuracy: 0.8750\n",
      "Epoch 33/200\n",
      "3/3 [==============================] - 0s 23ms/step - loss: 0.5656 - accuracy: 0.9062 - val_loss: 0.5529 - val_accuracy: 0.9167\n",
      "Epoch 34/200\n",
      "3/3 [==============================] - 0s 23ms/step - loss: 0.5501 - accuracy: 0.9375 - val_loss: 0.5316 - val_accuracy: 0.9583\n",
      "Epoch 35/200\n",
      "3/3 [==============================] - 0s 24ms/step - loss: 0.5325 - accuracy: 0.9583 - val_loss: 0.5130 - val_accuracy: 0.9583\n",
      "Epoch 36/200\n",
      "3/3 [==============================] - 0s 25ms/step - loss: 0.5170 - accuracy: 0.9688 - val_loss: 0.4941 - val_accuracy: 0.9583\n",
      "Epoch 37/200\n",
      "3/3 [==============================] - 0s 27ms/step - loss: 0.5005 - accuracy: 0.9792 - val_loss: 0.4776 - val_accuracy: 0.9583\n",
      "Epoch 38/200\n",
      "3/3 [==============================] - 0s 25ms/step - loss: 0.4846 - accuracy: 0.9792 - val_loss: 0.4633 - val_accuracy: 0.9583\n",
      "Epoch 39/200\n",
      "3/3 [==============================] - 0s 28ms/step - loss: 0.4696 - accuracy: 0.9583 - val_loss: 0.4485 - val_accuracy: 0.9583\n",
      "Epoch 40/200\n",
      "3/3 [==============================] - 0s 24ms/step - loss: 0.4550 - accuracy: 0.9583 - val_loss: 0.4356 - val_accuracy: 0.9583\n",
      "Epoch 41/200\n",
      "3/3 [==============================] - 0s 25ms/step - loss: 0.4417 - accuracy: 0.9583 - val_loss: 0.4198 - val_accuracy: 0.9583\n",
      "Epoch 42/200\n",
      "3/3 [==============================] - 0s 24ms/step - loss: 0.4280 - accuracy: 0.9583 - val_loss: 0.4074 - val_accuracy: 0.9583\n",
      "Epoch 43/200\n",
      "3/3 [==============================] - 0s 23ms/step - loss: 0.4169 - accuracy: 0.9688 - val_loss: 0.3947 - val_accuracy: 0.9583\n",
      "Epoch 44/200\n",
      "3/3 [==============================] - 0s 27ms/step - loss: 0.4052 - accuracy: 0.9792 - val_loss: 0.3842 - val_accuracy: 0.9583\n",
      "Epoch 45/200\n",
      "3/3 [==============================] - 0s 27ms/step - loss: 0.3937 - accuracy: 0.9792 - val_loss: 0.3740 - val_accuracy: 0.9583\n",
      "Epoch 46/200\n",
      "3/3 [==============================] - 0s 27ms/step - loss: 0.3839 - accuracy: 0.9792 - val_loss: 0.3620 - val_accuracy: 0.9583\n",
      "Epoch 47/200\n",
      "3/3 [==============================] - 0s 24ms/step - loss: 0.3740 - accuracy: 0.9792 - val_loss: 0.3522 - val_accuracy: 0.9583\n",
      "Epoch 48/200\n",
      "3/3 [==============================] - 0s 24ms/step - loss: 0.3643 - accuracy: 0.9792 - val_loss: 0.3444 - val_accuracy: 0.9583\n",
      "Epoch 49/200\n",
      "3/3 [==============================] - 0s 24ms/step - loss: 0.3561 - accuracy: 0.9792 - val_loss: 0.3389 - val_accuracy: 0.9583\n",
      "Epoch 50/200\n",
      "3/3 [==============================] - 0s 26ms/step - loss: 0.3462 - accuracy: 0.9688 - val_loss: 0.3303 - val_accuracy: 0.9583\n",
      "Epoch 51/200\n",
      "3/3 [==============================] - 0s 24ms/step - loss: 0.3381 - accuracy: 0.9792 - val_loss: 0.3187 - val_accuracy: 0.9583\n",
      "Epoch 52/200\n",
      "3/3 [==============================] - 0s 26ms/step - loss: 0.3291 - accuracy: 0.9792 - val_loss: 0.3110 - val_accuracy: 0.9583\n",
      "Epoch 53/200\n",
      "3/3 [==============================] - 0s 27ms/step - loss: 0.3215 - accuracy: 0.9792 - val_loss: 0.3045 - val_accuracy: 0.9583\n",
      "Epoch 54/200\n",
      "3/3 [==============================] - 0s 25ms/step - loss: 0.3131 - accuracy: 0.9792 - val_loss: 0.2973 - val_accuracy: 0.9583\n",
      "Epoch 55/200\n",
      "3/3 [==============================] - 0s 24ms/step - loss: 0.3055 - accuracy: 0.9792 - val_loss: 0.2903 - val_accuracy: 0.9583\n",
      "Epoch 56/200\n",
      "3/3 [==============================] - 0s 22ms/step - loss: 0.2982 - accuracy: 0.9792 - val_loss: 0.2843 - val_accuracy: 0.9583\n",
      "Epoch 57/200\n",
      "3/3 [==============================] - 0s 25ms/step - loss: 0.2913 - accuracy: 0.9792 - val_loss: 0.2775 - val_accuracy: 0.9583\n",
      "Epoch 58/200\n",
      "3/3 [==============================] - 0s 23ms/step - loss: 0.2839 - accuracy: 0.9792 - val_loss: 0.2719 - val_accuracy: 0.9583\n",
      "Epoch 59/200\n"
     ]
    },
    {
     "name": "stdout",
     "output_type": "stream",
     "text": [
      "3/3 [==============================] - 0s 24ms/step - loss: 0.2778 - accuracy: 0.9792 - val_loss: 0.2645 - val_accuracy: 0.9583\n",
      "Epoch 60/200\n",
      "3/3 [==============================] - 0s 25ms/step - loss: 0.2710 - accuracy: 0.9792 - val_loss: 0.2604 - val_accuracy: 0.9583\n",
      "Epoch 61/200\n",
      "3/3 [==============================] - 0s 21ms/step - loss: 0.2645 - accuracy: 0.9792 - val_loss: 0.2537 - val_accuracy: 0.9583\n",
      "Epoch 62/200\n",
      "3/3 [==============================] - 0s 21ms/step - loss: 0.2591 - accuracy: 0.9792 - val_loss: 0.2465 - val_accuracy: 0.9583\n",
      "Epoch 63/200\n",
      "3/3 [==============================] - 0s 21ms/step - loss: 0.2523 - accuracy: 0.9792 - val_loss: 0.2420 - val_accuracy: 0.9583\n",
      "Epoch 64/200\n",
      "3/3 [==============================] - 0s 23ms/step - loss: 0.2460 - accuracy: 0.9792 - val_loss: 0.2380 - val_accuracy: 0.9583\n",
      "Epoch 65/200\n",
      "3/3 [==============================] - 0s 24ms/step - loss: 0.2405 - accuracy: 0.9792 - val_loss: 0.2332 - val_accuracy: 0.9583\n",
      "Epoch 66/200\n",
      "3/3 [==============================] - 0s 22ms/step - loss: 0.2349 - accuracy: 0.9792 - val_loss: 0.2278 - val_accuracy: 0.9583\n",
      "Epoch 67/200\n",
      "3/3 [==============================] - 0s 22ms/step - loss: 0.2294 - accuracy: 0.9792 - val_loss: 0.2221 - val_accuracy: 0.9583\n",
      "Epoch 68/200\n",
      "3/3 [==============================] - 0s 24ms/step - loss: 0.2243 - accuracy: 0.9792 - val_loss: 0.2175 - val_accuracy: 0.9583\n",
      "Epoch 69/200\n",
      "3/3 [==============================] - 0s 24ms/step - loss: 0.2203 - accuracy: 0.9792 - val_loss: 0.2122 - val_accuracy: 0.9583\n",
      "Epoch 70/200\n",
      "3/3 [==============================] - 0s 22ms/step - loss: 0.2145 - accuracy: 0.9792 - val_loss: 0.2087 - val_accuracy: 0.9583\n",
      "Epoch 71/200\n",
      "3/3 [==============================] - 0s 23ms/step - loss: 0.2098 - accuracy: 0.9792 - val_loss: 0.2055 - val_accuracy: 0.9583\n",
      "Epoch 72/200\n",
      "3/3 [==============================] - 0s 22ms/step - loss: 0.2053 - accuracy: 0.9792 - val_loss: 0.1999 - val_accuracy: 0.9583\n",
      "Epoch 73/200\n",
      "3/3 [==============================] - 0s 23ms/step - loss: 0.2006 - accuracy: 0.9792 - val_loss: 0.1960 - val_accuracy: 0.9583\n",
      "Epoch 74/200\n",
      "3/3 [==============================] - 0s 21ms/step - loss: 0.1969 - accuracy: 0.9792 - val_loss: 0.1914 - val_accuracy: 1.0000\n",
      "Epoch 75/200\n",
      "3/3 [==============================] - 0s 23ms/step - loss: 0.1923 - accuracy: 0.9792 - val_loss: 0.1882 - val_accuracy: 0.9583\n",
      "Epoch 76/200\n",
      "3/3 [==============================] - 0s 21ms/step - loss: 0.1878 - accuracy: 0.9792 - val_loss: 0.1857 - val_accuracy: 0.9583\n",
      "Epoch 77/200\n",
      "3/3 [==============================] - 0s 20ms/step - loss: 0.1845 - accuracy: 0.9792 - val_loss: 0.1820 - val_accuracy: 0.9583\n",
      "Epoch 78/200\n",
      "3/3 [==============================] - 0s 23ms/step - loss: 0.1806 - accuracy: 0.9792 - val_loss: 0.1789 - val_accuracy: 0.9583\n",
      "Epoch 79/200\n",
      "3/3 [==============================] - 0s 21ms/step - loss: 0.1779 - accuracy: 0.9792 - val_loss: 0.1747 - val_accuracy: 0.9583\n",
      "Epoch 80/200\n",
      "3/3 [==============================] - 0s 22ms/step - loss: 0.1733 - accuracy: 0.9792 - val_loss: 0.1719 - val_accuracy: 0.9583\n",
      "Epoch 81/200\n",
      "3/3 [==============================] - 0s 23ms/step - loss: 0.1701 - accuracy: 0.9792 - val_loss: 0.1688 - val_accuracy: 0.9583\n",
      "Epoch 82/200\n",
      "3/3 [==============================] - 0s 22ms/step - loss: 0.1669 - accuracy: 0.9792 - val_loss: 0.1662 - val_accuracy: 0.9583\n",
      "Epoch 83/200\n",
      "3/3 [==============================] - 0s 20ms/step - loss: 0.1637 - accuracy: 0.9792 - val_loss: 0.1630 - val_accuracy: 0.9583\n",
      "Epoch 84/200\n",
      "3/3 [==============================] - 0s 24ms/step - loss: 0.1608 - accuracy: 0.9792 - val_loss: 0.1595 - val_accuracy: 1.0000\n",
      "Epoch 85/200\n",
      "3/3 [==============================] - 0s 22ms/step - loss: 0.1582 - accuracy: 0.9792 - val_loss: 0.1574 - val_accuracy: 0.9583\n",
      "Epoch 86/200\n",
      "3/3 [==============================] - 0s 22ms/step - loss: 0.1552 - accuracy: 0.9792 - val_loss: 0.1554 - val_accuracy: 0.9583\n",
      "Epoch 87/200\n",
      "3/3 [==============================] - 0s 22ms/step - loss: 0.1518 - accuracy: 0.9792 - val_loss: 0.1523 - val_accuracy: 0.9583\n",
      "Epoch 88/200\n",
      "3/3 [==============================] - 0s 22ms/step - loss: 0.1498 - accuracy: 0.9792 - val_loss: 0.1493 - val_accuracy: 1.0000\n",
      "Epoch 89/200\n",
      "3/3 [==============================] - 0s 19ms/step - loss: 0.1470 - accuracy: 0.9792 - val_loss: 0.1473 - val_accuracy: 1.0000\n",
      "Epoch 90/200\n",
      "3/3 [==============================] - 0s 27ms/step - loss: 0.1441 - accuracy: 0.9792 - val_loss: 0.1452 - val_accuracy: 0.9583\n",
      "Epoch 91/200\n",
      "3/3 [==============================] - 0s 24ms/step - loss: 0.1428 - accuracy: 0.9792 - val_loss: 0.1442 - val_accuracy: 0.9583\n",
      "Epoch 92/200\n",
      "3/3 [==============================] - 0s 27ms/step - loss: 0.1395 - accuracy: 0.9792 - val_loss: 0.1411 - val_accuracy: 0.9583\n",
      "Epoch 93/200\n",
      "3/3 [==============================] - 0s 22ms/step - loss: 0.1376 - accuracy: 0.9792 - val_loss: 0.1384 - val_accuracy: 1.0000\n",
      "Epoch 94/200\n",
      "3/3 [==============================] - 0s 21ms/step - loss: 0.1360 - accuracy: 0.9792 - val_loss: 0.1363 - val_accuracy: 1.0000\n",
      "Epoch 95/200\n",
      "3/3 [==============================] - 0s 22ms/step - loss: 0.1329 - accuracy: 0.9792 - val_loss: 0.1350 - val_accuracy: 0.9583\n",
      "Epoch 96/200\n",
      "3/3 [==============================] - 0s 19ms/step - loss: 0.1329 - accuracy: 0.9792 - val_loss: 0.1352 - val_accuracy: 0.9583\n",
      "Epoch 97/200\n",
      "3/3 [==============================] - 0s 20ms/step - loss: 0.1300 - accuracy: 0.9792 - val_loss: 0.1320 - val_accuracy: 0.9583\n",
      "Epoch 98/200\n",
      "3/3 [==============================] - 0s 21ms/step - loss: 0.1270 - accuracy: 0.9792 - val_loss: 0.1291 - val_accuracy: 1.0000\n",
      "Epoch 99/200\n",
      "3/3 [==============================] - 0s 22ms/step - loss: 0.1263 - accuracy: 0.9896 - val_loss: 0.1277 - val_accuracy: 1.0000\n",
      "Epoch 100/200\n",
      "3/3 [==============================] - 0s 20ms/step - loss: 0.1248 - accuracy: 0.9896 - val_loss: 0.1256 - val_accuracy: 1.0000\n",
      "Epoch 101/200\n",
      "3/3 [==============================] - 0s 21ms/step - loss: 0.1238 - accuracy: 0.9792 - val_loss: 0.1252 - val_accuracy: 0.9583\n",
      "Epoch 102/200\n",
      "3/3 [==============================] - 0s 22ms/step - loss: 0.1208 - accuracy: 0.9792 - val_loss: 0.1238 - val_accuracy: 0.9583\n",
      "Epoch 103/200\n",
      "3/3 [==============================] - 0s 22ms/step - loss: 0.1188 - accuracy: 0.9792 - val_loss: 0.1217 - val_accuracy: 0.9583\n",
      "Epoch 104/200\n",
      "3/3 [==============================] - 0s 22ms/step - loss: 0.1168 - accuracy: 0.9792 - val_loss: 0.1195 - val_accuracy: 1.0000\n",
      "Epoch 105/200\n",
      "3/3 [==============================] - 0s 22ms/step - loss: 0.1170 - accuracy: 0.9896 - val_loss: 0.1185 - val_accuracy: 1.0000\n",
      "Epoch 106/200\n",
      "3/3 [==============================] - 0s 22ms/step - loss: 0.1141 - accuracy: 0.9896 - val_loss: 0.1168 - val_accuracy: 1.0000\n",
      "Epoch 107/200\n",
      "3/3 [==============================] - 0s 27ms/step - loss: 0.1119 - accuracy: 0.9792 - val_loss: 0.1166 - val_accuracy: 0.9583\n",
      "Epoch 108/200\n",
      "3/3 [==============================] - 0s 23ms/step - loss: 0.1117 - accuracy: 0.9792 - val_loss: 0.1151 - val_accuracy: 0.9583\n",
      "Epoch 109/200\n",
      "3/3 [==============================] - 0s 21ms/step - loss: 0.1100 - accuracy: 0.9792 - val_loss: 0.1136 - val_accuracy: 0.9583\n",
      "Epoch 110/200\n",
      "3/3 [==============================] - 0s 20ms/step - loss: 0.1088 - accuracy: 0.9792 - val_loss: 0.1117 - val_accuracy: 1.0000\n",
      "Epoch 111/200\n",
      "3/3 [==============================] - 0s 22ms/step - loss: 0.1072 - accuracy: 0.9792 - val_loss: 0.1104 - val_accuracy: 1.0000\n",
      "Epoch 112/200\n",
      "3/3 [==============================] - 0s 24ms/step - loss: 0.1062 - accuracy: 0.9792 - val_loss: 0.1093 - val_accuracy: 1.0000\n",
      "Epoch 113/200\n",
      "3/3 [==============================] - 0s 23ms/step - loss: 0.1050 - accuracy: 0.9792 - val_loss: 0.1081 - val_accuracy: 1.0000\n",
      "Epoch 114/200\n",
      "3/3 [==============================] - 0s 22ms/step - loss: 0.1042 - accuracy: 0.9792 - val_loss: 0.1072 - val_accuracy: 1.0000\n",
      "Epoch 115/200\n",
      "3/3 [==============================] - 0s 23ms/step - loss: 0.1022 - accuracy: 0.9792 - val_loss: 0.1061 - val_accuracy: 1.0000\n",
      "Epoch 116/200\n",
      "3/3 [==============================] - 0s 21ms/step - loss: 0.1022 - accuracy: 0.9792 - val_loss: 0.1048 - val_accuracy: 1.0000\n",
      "Epoch 117/200\n"
     ]
    },
    {
     "name": "stdout",
     "output_type": "stream",
     "text": [
      "3/3 [==============================] - 0s 23ms/step - loss: 0.0999 - accuracy: 0.9792 - val_loss: 0.1039 - val_accuracy: 1.0000\n",
      "Epoch 118/200\n",
      "3/3 [==============================] - 0s 19ms/step - loss: 0.0989 - accuracy: 0.9792 - val_loss: 0.1030 - val_accuracy: 1.0000\n",
      "Epoch 119/200\n",
      "3/3 [==============================] - 0s 21ms/step - loss: 0.0984 - accuracy: 0.9792 - val_loss: 0.1019 - val_accuracy: 1.0000\n",
      "Epoch 120/200\n",
      "3/3 [==============================] - 0s 21ms/step - loss: 0.0971 - accuracy: 0.9792 - val_loss: 0.1014 - val_accuracy: 0.9583\n",
      "Epoch 121/200\n",
      "3/3 [==============================] - 0s 23ms/step - loss: 0.0967 - accuracy: 0.9792 - val_loss: 0.1005 - val_accuracy: 0.9583\n",
      "Epoch 122/200\n",
      "3/3 [==============================] - 0s 22ms/step - loss: 0.0960 - accuracy: 0.9792 - val_loss: 0.0990 - val_accuracy: 1.0000\n",
      "Epoch 123/200\n",
      "3/3 [==============================] - 0s 21ms/step - loss: 0.0946 - accuracy: 0.9896 - val_loss: 0.0983 - val_accuracy: 1.0000\n",
      "Epoch 124/200\n",
      "3/3 [==============================] - 0s 22ms/step - loss: 0.0951 - accuracy: 0.9896 - val_loss: 0.0974 - val_accuracy: 1.0000\n",
      "Epoch 125/200\n",
      "3/3 [==============================] - 0s 22ms/step - loss: 0.0918 - accuracy: 0.9896 - val_loss: 0.0968 - val_accuracy: 0.9583\n",
      "Epoch 126/200\n",
      "3/3 [==============================] - 0s 21ms/step - loss: 0.0928 - accuracy: 0.9792 - val_loss: 0.0979 - val_accuracy: 0.9583\n",
      "Epoch 127/200\n",
      "3/3 [==============================] - 0s 22ms/step - loss: 0.0927 - accuracy: 0.9792 - val_loss: 0.0962 - val_accuracy: 0.9583\n",
      "Epoch 128/200\n",
      "3/3 [==============================] - 0s 22ms/step - loss: 0.0900 - accuracy: 0.9792 - val_loss: 0.0940 - val_accuracy: 1.0000\n",
      "Epoch 129/200\n",
      "3/3 [==============================] - 0s 21ms/step - loss: 0.0899 - accuracy: 0.9896 - val_loss: 0.0944 - val_accuracy: 1.0000\n",
      "Epoch 130/200\n",
      "3/3 [==============================] - 0s 23ms/step - loss: 0.0896 - accuracy: 0.9896 - val_loss: 0.0929 - val_accuracy: 1.0000\n",
      "Epoch 131/200\n",
      "3/3 [==============================] - 0s 25ms/step - loss: 0.0914 - accuracy: 0.9792 - val_loss: 0.0925 - val_accuracy: 0.9583\n",
      "Epoch 132/200\n",
      "3/3 [==============================] - 0s 22ms/step - loss: 0.0874 - accuracy: 0.9792 - val_loss: 0.0919 - val_accuracy: 0.9583\n",
      "Epoch 133/200\n",
      "3/3 [==============================] - 0s 24ms/step - loss: 0.0866 - accuracy: 0.9792 - val_loss: 0.0904 - val_accuracy: 1.0000\n",
      "Epoch 134/200\n",
      "3/3 [==============================] - 0s 24ms/step - loss: 0.0852 - accuracy: 0.9792 - val_loss: 0.0896 - val_accuracy: 1.0000\n",
      "Epoch 135/200\n",
      "3/3 [==============================] - 0s 25ms/step - loss: 0.0848 - accuracy: 0.9896 - val_loss: 0.0892 - val_accuracy: 1.0000\n",
      "Epoch 136/200\n",
      "3/3 [==============================] - 0s 22ms/step - loss: 0.0845 - accuracy: 0.9896 - val_loss: 0.0885 - val_accuracy: 1.0000\n",
      "Epoch 137/200\n",
      "3/3 [==============================] - 0s 20ms/step - loss: 0.0836 - accuracy: 0.9896 - val_loss: 0.0877 - val_accuracy: 1.0000\n",
      "Epoch 138/200\n",
      "3/3 [==============================] - 0s 22ms/step - loss: 0.0826 - accuracy: 0.9896 - val_loss: 0.0870 - val_accuracy: 1.0000\n",
      "Epoch 139/200\n",
      "3/3 [==============================] - 0s 23ms/step - loss: 0.0820 - accuracy: 0.9792 - val_loss: 0.0867 - val_accuracy: 0.9583\n",
      "Epoch 140/200\n",
      "3/3 [==============================] - 0s 23ms/step - loss: 0.0817 - accuracy: 0.9792 - val_loss: 0.0860 - val_accuracy: 1.0000\n",
      "Epoch 141/200\n",
      "3/3 [==============================] - 0s 22ms/step - loss: 0.0813 - accuracy: 0.9792 - val_loss: 0.0853 - val_accuracy: 1.0000\n",
      "Epoch 142/200\n",
      "3/3 [==============================] - 0s 23ms/step - loss: 0.0812 - accuracy: 0.9896 - val_loss: 0.0847 - val_accuracy: 1.0000\n",
      "Epoch 143/200\n",
      "3/3 [==============================] - 0s 23ms/step - loss: 0.0811 - accuracy: 0.9896 - val_loss: 0.0846 - val_accuracy: 1.0000\n",
      "Epoch 144/200\n",
      "3/3 [==============================] - 0s 21ms/step - loss: 0.0801 - accuracy: 0.9896 - val_loss: 0.0836 - val_accuracy: 1.0000\n",
      "Epoch 145/200\n",
      "3/3 [==============================] - 0s 20ms/step - loss: 0.0800 - accuracy: 0.9792 - val_loss: 0.0836 - val_accuracy: 0.9583\n",
      "Epoch 146/200\n",
      "3/3 [==============================] - 0s 21ms/step - loss: 0.0788 - accuracy: 0.9792 - val_loss: 0.0828 - val_accuracy: 0.9583\n",
      "Epoch 147/200\n",
      "3/3 [==============================] - 0s 24ms/step - loss: 0.0778 - accuracy: 0.9792 - val_loss: 0.0820 - val_accuracy: 1.0000\n",
      "Epoch 148/200\n",
      "3/3 [==============================] - 0s 23ms/step - loss: 0.0777 - accuracy: 0.9792 - val_loss: 0.0815 - val_accuracy: 1.0000\n",
      "Epoch 149/200\n",
      "3/3 [==============================] - 0s 22ms/step - loss: 0.0776 - accuracy: 0.9896 - val_loss: 0.0813 - val_accuracy: 1.0000\n",
      "Epoch 150/200\n",
      "3/3 [==============================] - 0s 22ms/step - loss: 0.0763 - accuracy: 0.9896 - val_loss: 0.0804 - val_accuracy: 1.0000\n",
      "Epoch 151/200\n",
      "3/3 [==============================] - 0s 21ms/step - loss: 0.0774 - accuracy: 0.9792 - val_loss: 0.0808 - val_accuracy: 0.9583\n",
      "Epoch 152/200\n",
      "3/3 [==============================] - 0s 24ms/step - loss: 0.0771 - accuracy: 0.9792 - val_loss: 0.0803 - val_accuracy: 0.9583\n",
      "Epoch 153/200\n",
      "3/3 [==============================] - 0s 21ms/step - loss: 0.0759 - accuracy: 0.9792 - val_loss: 0.0788 - val_accuracy: 1.0000\n",
      "Epoch 154/200\n",
      "3/3 [==============================] - 0s 21ms/step - loss: 0.0749 - accuracy: 0.9896 - val_loss: 0.0790 - val_accuracy: 1.0000\n",
      "Epoch 155/200\n",
      "3/3 [==============================] - 0s 22ms/step - loss: 0.0742 - accuracy: 0.9896 - val_loss: 0.0777 - val_accuracy: 1.0000\n",
      "Epoch 156/200\n",
      "3/3 [==============================] - 0s 24ms/step - loss: 0.0731 - accuracy: 0.9896 - val_loss: 0.0772 - val_accuracy: 1.0000\n",
      "Epoch 157/200\n",
      "3/3 [==============================] - 0s 21ms/step - loss: 0.0731 - accuracy: 0.9792 - val_loss: 0.0771 - val_accuracy: 0.9583\n",
      "Epoch 158/200\n",
      "3/3 [==============================] - 0s 23ms/step - loss: 0.0733 - accuracy: 0.9792 - val_loss: 0.0766 - val_accuracy: 0.9583\n",
      "Epoch 159/200\n",
      "3/3 [==============================] - 0s 22ms/step - loss: 0.0719 - accuracy: 0.9792 - val_loss: 0.0758 - val_accuracy: 1.0000\n",
      "Epoch 160/200\n",
      "3/3 [==============================] - 0s 25ms/step - loss: 0.0725 - accuracy: 0.9896 - val_loss: 0.0753 - val_accuracy: 1.0000\n",
      "Epoch 161/200\n",
      "3/3 [==============================] - 0s 22ms/step - loss: 0.0712 - accuracy: 0.9896 - val_loss: 0.0752 - val_accuracy: 1.0000\n",
      "Epoch 162/200\n",
      "3/3 [==============================] - 0s 22ms/step - loss: 0.0707 - accuracy: 0.9896 - val_loss: 0.0743 - val_accuracy: 1.0000\n",
      "Epoch 163/200\n",
      "3/3 [==============================] - 0s 22ms/step - loss: 0.0716 - accuracy: 0.9896 - val_loss: 0.0739 - val_accuracy: 1.0000\n",
      "Epoch 164/200\n",
      "3/3 [==============================] - 0s 21ms/step - loss: 0.0730 - accuracy: 0.9792 - val_loss: 0.0742 - val_accuracy: 0.9583\n",
      "Epoch 165/200\n",
      "3/3 [==============================] - 0s 20ms/step - loss: 0.0700 - accuracy: 0.9792 - val_loss: 0.0731 - val_accuracy: 1.0000\n",
      "Epoch 166/200\n",
      "3/3 [==============================] - 0s 22ms/step - loss: 0.0688 - accuracy: 0.9792 - val_loss: 0.0725 - val_accuracy: 1.0000\n",
      "Epoch 167/200\n",
      "3/3 [==============================] - 0s 21ms/step - loss: 0.0691 - accuracy: 0.9896 - val_loss: 0.0727 - val_accuracy: 1.0000\n",
      "Epoch 168/200\n",
      "3/3 [==============================] - 0s 24ms/step - loss: 0.0683 - accuracy: 0.9896 - val_loss: 0.0721 - val_accuracy: 1.0000\n",
      "Epoch 169/200\n",
      "3/3 [==============================] - 0s 24ms/step - loss: 0.0677 - accuracy: 0.9896 - val_loss: 0.0713 - val_accuracy: 1.0000\n",
      "Epoch 170/200\n",
      "3/3 [==============================] - 0s 25ms/step - loss: 0.0674 - accuracy: 0.9896 - val_loss: 0.0709 - val_accuracy: 1.0000\n",
      "Epoch 171/200\n",
      "3/3 [==============================] - 0s 21ms/step - loss: 0.0668 - accuracy: 0.9792 - val_loss: 0.0707 - val_accuracy: 1.0000\n",
      "Epoch 172/200\n",
      "3/3 [==============================] - 0s 21ms/step - loss: 0.0667 - accuracy: 0.9792 - val_loss: 0.0703 - val_accuracy: 1.0000\n",
      "Epoch 173/200\n",
      "3/3 [==============================] - 0s 21ms/step - loss: 0.0662 - accuracy: 0.9792 - val_loss: 0.0698 - val_accuracy: 1.0000\n",
      "Epoch 174/200\n",
      "3/3 [==============================] - 0s 21ms/step - loss: 0.0658 - accuracy: 0.9896 - val_loss: 0.0696 - val_accuracy: 1.0000\n"
     ]
    },
    {
     "name": "stdout",
     "output_type": "stream",
     "text": [
      "Epoch 175/200\n",
      "3/3 [==============================] - 0s 21ms/step - loss: 0.0675 - accuracy: 0.9896 - val_loss: 0.0697 - val_accuracy: 1.0000\n",
      "Epoch 176/200\n",
      "3/3 [==============================] - 0s 21ms/step - loss: 0.0655 - accuracy: 0.9896 - val_loss: 0.0688 - val_accuracy: 1.0000\n",
      "Epoch 177/200\n",
      "3/3 [==============================] - 0s 21ms/step - loss: 0.0652 - accuracy: 0.9896 - val_loss: 0.0684 - val_accuracy: 1.0000\n",
      "Epoch 178/200\n",
      "3/3 [==============================] - 0s 21ms/step - loss: 0.0659 - accuracy: 0.9792 - val_loss: 0.0686 - val_accuracy: 0.9583\n",
      "Epoch 179/200\n",
      "3/3 [==============================] - 0s 20ms/step - loss: 0.0655 - accuracy: 0.9792 - val_loss: 0.0677 - val_accuracy: 1.0000\n",
      "Epoch 180/200\n",
      "3/3 [==============================] - 0s 22ms/step - loss: 0.0649 - accuracy: 0.9792 - val_loss: 0.0674 - val_accuracy: 1.0000\n",
      "Epoch 181/200\n",
      "3/3 [==============================] - 0s 22ms/step - loss: 0.0633 - accuracy: 0.9896 - val_loss: 0.0674 - val_accuracy: 1.0000\n",
      "Epoch 182/200\n",
      "3/3 [==============================] - 0s 20ms/step - loss: 0.0637 - accuracy: 0.9896 - val_loss: 0.0677 - val_accuracy: 1.0000\n",
      "Epoch 183/200\n",
      "3/3 [==============================] - 0s 22ms/step - loss: 0.0640 - accuracy: 0.9896 - val_loss: 0.0672 - val_accuracy: 1.0000\n",
      "Epoch 184/200\n",
      "3/3 [==============================] - 0s 20ms/step - loss: 0.0641 - accuracy: 0.9896 - val_loss: 0.0664 - val_accuracy: 1.0000\n",
      "Epoch 185/200\n",
      "3/3 [==============================] - 0s 20ms/step - loss: 0.0638 - accuracy: 0.9792 - val_loss: 0.0666 - val_accuracy: 0.9583\n",
      "Epoch 186/200\n",
      "3/3 [==============================] - 0s 22ms/step - loss: 0.0627 - accuracy: 0.9792 - val_loss: 0.0657 - val_accuracy: 1.0000\n",
      "Epoch 187/200\n",
      "3/3 [==============================] - 0s 21ms/step - loss: 0.0621 - accuracy: 0.9896 - val_loss: 0.0659 - val_accuracy: 1.0000\n",
      "Epoch 188/200\n",
      "3/3 [==============================] - 0s 21ms/step - loss: 0.0621 - accuracy: 0.9896 - val_loss: 0.0660 - val_accuracy: 1.0000\n",
      "Epoch 189/200\n",
      "3/3 [==============================] - 0s 22ms/step - loss: 0.0621 - accuracy: 0.9896 - val_loss: 0.0653 - val_accuracy: 1.0000\n",
      "Epoch 190/200\n",
      "3/3 [==============================] - 0s 22ms/step - loss: 0.0616 - accuracy: 0.9896 - val_loss: 0.0646 - val_accuracy: 1.0000\n",
      "Epoch 191/200\n",
      "3/3 [==============================] - 0s 20ms/step - loss: 0.0626 - accuracy: 0.9792 - val_loss: 0.0648 - val_accuracy: 0.9583\n",
      "Epoch 192/200\n",
      "3/3 [==============================] - 0s 22ms/step - loss: 0.0616 - accuracy: 0.9792 - val_loss: 0.0641 - val_accuracy: 1.0000\n",
      "Epoch 193/200\n",
      "3/3 [==============================] - 0s 22ms/step - loss: 0.0619 - accuracy: 0.9896 - val_loss: 0.0649 - val_accuracy: 1.0000\n",
      "Epoch 194/200\n",
      "3/3 [==============================] - 0s 22ms/step - loss: 0.0624 - accuracy: 0.9896 - val_loss: 0.0637 - val_accuracy: 1.0000\n",
      "Epoch 195/200\n",
      "3/3 [==============================] - 0s 21ms/step - loss: 0.0608 - accuracy: 0.9896 - val_loss: 0.0633 - val_accuracy: 1.0000\n",
      "Epoch 196/200\n",
      "3/3 [==============================] - 0s 22ms/step - loss: 0.0600 - accuracy: 0.9896 - val_loss: 0.0631 - val_accuracy: 1.0000\n",
      "Epoch 197/200\n",
      "3/3 [==============================] - 0s 21ms/step - loss: 0.0596 - accuracy: 0.9896 - val_loss: 0.0632 - val_accuracy: 1.0000\n",
      "Epoch 198/200\n",
      "3/3 [==============================] - 0s 19ms/step - loss: 0.0611 - accuracy: 0.9896 - val_loss: 0.0637 - val_accuracy: 1.0000\n",
      "Epoch 199/200\n",
      "3/3 [==============================] - 0s 22ms/step - loss: 0.0611 - accuracy: 0.9896 - val_loss: 0.0624 - val_accuracy: 1.0000\n",
      "Epoch 200/200\n",
      "3/3 [==============================] - 0s 21ms/step - loss: 0.0595 - accuracy: 0.9896 - val_loss: 0.0623 - val_accuracy: 1.0000\n"
     ]
    }
   ],
   "source": [
    "###########\n",
    "# 모델 학습\n",
    "###########\n",
    "hist = model.fit(x_train, y_train, epochs=200, validation_split=0.2, callbacks=[es])\n"
   ]
  },
  {
   "cell_type": "code",
   "execution_count": 32,
   "metadata": {
    "id": "_BZMmR5--xMb"
   },
   "outputs": [
    {
     "name": "stdout",
     "output_type": "stream",
     "text": [
      "WARNING:tensorflow:5 out of the last 7 calls to <function Model.make_predict_function.<locals>.predict_function at 0x0000022232DFB040> triggered tf.function retracing. Tracing is expensive and the excessive number of tracings could be due to (1) creating @tf.function repeatedly in a loop, (2) passing tensors with different shapes, (3) passing Python objects instead of tensors. For (1), please define your @tf.function outside of the loop. For (2), @tf.function has experimental_relax_shapes=True option that relaxes argument shapes that can avoid unnecessary retracing. For (3), please refer to https://www.tensorflow.org/guide/function#controlling_retracing and https://www.tensorflow.org/api_docs/python/tf/function for  more details.\n",
      "[2 2 0 2 0]\n",
      "[2 2 0 2 0]\n"
     ]
    }
   ],
   "source": [
    "###########\n",
    "# 모델 예측\n",
    "###########\n",
    "y_pred = model.predict(x_test)\n",
    "print(y_pred[:5].argmax(axis=1).reshape(-1))\n",
    "print(y_test[:5].argmax(axis=1).reshape(-1))"
   ]
  },
  {
   "cell_type": "code",
   "execution_count": 36,
   "metadata": {},
   "outputs": [
    {
     "data": {
      "image/png": "[encoded data removed]",
      "text/plain": [
       "<Figure size 1080x720 with 1 Axes>"
      ]
     },
     "metadata": {
      "needs_background": "light"
     },
     "output_type": "display_data"
    }
   ],
   "source": [
    "import matplotlib.pyplot as plt\n",
    "plt.figure(figsize=(15, 10))\n",
    "plt.plot(hist.history['accuracy'], label='acc')\n",
    "plt.plot(hist.history['val_accuracy'], label='val_acc')\n",
    "plt.legend()\n",
    "plt.show()"
   ]
  },
  {
   "cell_type": "code",
   "execution_count": null,
   "metadata": {},
   "outputs": [],
   "source": []
  }
 ],
 "metadata": {
  "colab": {
   "collapsed_sections": [
    "0xVNQT9V-Iev"
   ],
   "name": "2_1_Review _ ANN Preview III.ipynb",
   "provenance": []
  },
  "kernelspec": {
   "display_name": "Python 3",
   "language": "python",
   "name": "python3"
  },
  "language_info": {
   "codemirror_mode": {
    "name": "ipython",
    "version": 3
   },
   "file_extension": ".py",
   "mimetype": "text/x-python",
   "name": "python",
   "nbconvert_exporter": "python",
   "pygments_lexer": "ipython3",
   "version": "3.8.8"
  }
 },
 "nbformat": 4,
 "nbformat_minor": 1
}
