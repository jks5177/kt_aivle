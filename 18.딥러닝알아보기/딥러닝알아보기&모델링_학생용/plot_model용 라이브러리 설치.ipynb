{
 "cells": [
  {
   "cell_type": "code",
   "execution_count": null,
   "id": "6e0b5ff5",
   "metadata": {},
   "outputs": [],
   "source": [
    "## 설치하고 커널 재시작 하세요\n",
    "\n",
    "!conda install python-graphviz\n",
    "#(plot_model)"
   ]
  },
  {
   "cell_type": "code",
   "execution_count": null,
   "id": "33694d93",
   "metadata": {},
   "outputs": [],
   "source": [
    "## 설치하고 커널 재시작 하세요\n",
    "\n",
    "!pip install pydot"
   ]
  }
 ],
 "metadata": {
  "kernelspec": {
   "display_name": "Python 3",
   "language": "python",
   "name": "python3"
  },
  "language_info": {
   "codemirror_mode": {
    "name": "ipython",
    "version": 3
   },
   "file_extension": ".py",
   "mimetype": "text/x-python",
   "name": "python",
   "nbconvert_exporter": "python",
   "pygments_lexer": "ipython3",
   "version": "3.8.8"
  }
 },
 "nbformat": 4,
 "nbformat_minor": 5
}
