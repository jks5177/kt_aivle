{
 "cells": [
  {
   "cell_type": "markdown",
   "metadata": {
    "id": "JR8jlMMPdIn8"
   },
   "source": [
    "# IRIS - Connection II\n",
    "\n",
    "![Add layer](https://github.com/DrKAI/image/blob/main/Add%20Layer.png?raw=true)"
   ]
  },
  {
   "cell_type": "code",
   "execution_count": 1,
   "metadata": {
    "id": "5Ryk5eNOb4-w"
   },
   "outputs": [],
   "source": [
    "import numpy as np\n",
    "import pandas as pd\n",
    "\n",
    "import tensorflow as tf\n",
    "from tensorflow import keras\n",
    "\n",
    "from sklearn.datasets import load_iris"
   ]
  },
  {
   "cell_type": "markdown",
   "metadata": {
    "id": "Y0a0ns5LXhDt"
   },
   "source": [
    "## 데이터 불러오기\n",
    "* iris.feature_names를 이용하여 판다스 데이터 프레임 만들기!"
   ]
  },
  {
   "cell_type": "code",
   "execution_count": 2,
   "metadata": {
    "id": "ZwstpfJnJj_M"
   },
   "outputs": [
    {
     "data": {
      "text/html": [
       "<div>\n",
       "<style scoped>\n",
       "    .dataframe tbody tr th:only-of-type {\n",
       "        vertical-align: middle;\n",
       "    }\n",
       "\n",
       "    .dataframe tbody tr th {\n",
       "        vertical-align: top;\n",
       "    }\n",
       "\n",
       "    .dataframe thead th {\n",
       "        text-align: right;\n",
       "    }\n",
       "</style>\n",
       "<table border=\"1\" class=\"dataframe\">\n",
       "  <thead>\n",
       "    <tr style=\"text-align: right;\">\n",
       "      <th></th>\n",
       "      <th>sepal length (cm)</th>\n",
       "      <th>sepal width (cm)</th>\n",
       "      <th>petal length (cm)</th>\n",
       "      <th>petal width (cm)</th>\n",
       "    </tr>\n",
       "  </thead>\n",
       "  <tbody>\n",
       "    <tr>\n",
       "      <th>0</th>\n",
       "      <td>5.1</td>\n",
       "      <td>3.5</td>\n",
       "      <td>1.4</td>\n",
       "      <td>0.2</td>\n",
       "    </tr>\n",
       "    <tr>\n",
       "      <th>1</th>\n",
       "      <td>4.9</td>\n",
       "      <td>3.0</td>\n",
       "      <td>1.4</td>\n",
       "      <td>0.2</td>\n",
       "    </tr>\n",
       "    <tr>\n",
       "      <th>2</th>\n",
       "      <td>4.7</td>\n",
       "      <td>3.2</td>\n",
       "      <td>1.3</td>\n",
       "      <td>0.2</td>\n",
       "    </tr>\n",
       "    <tr>\n",
       "      <th>3</th>\n",
       "      <td>4.6</td>\n",
       "      <td>3.1</td>\n",
       "      <td>1.5</td>\n",
       "      <td>0.2</td>\n",
       "    </tr>\n",
       "    <tr>\n",
       "      <th>4</th>\n",
       "      <td>5.0</td>\n",
       "      <td>3.6</td>\n",
       "      <td>1.4</td>\n",
       "      <td>0.2</td>\n",
       "    </tr>\n",
       "  </tbody>\n",
       "</table>\n",
       "</div>"
      ],
      "text/plain": [
       "   sepal length (cm)  sepal width (cm)  petal length (cm)  petal width (cm)\n",
       "0                5.1               3.5                1.4               0.2\n",
       "1                4.9               3.0                1.4               0.2\n",
       "2                4.7               3.2                1.3               0.2\n",
       "3                4.6               3.1                1.5               0.2\n",
       "4                5.0               3.6                1.4               0.2"
      ]
     },
     "execution_count": 2,
     "metadata": {},
     "output_type": "execute_result"
    }
   ],
   "source": [
    "data = load_iris()\n",
    "\n",
    "x = data.data\n",
    "y = data.target\n",
    "\n",
    "x_df = pd.DataFrame(x, columns=data.feature_names)\n",
    "\n",
    "x_df.head()"
   ]
  },
  {
   "cell_type": "markdown",
   "metadata": {
    "id": "JQb8AGsxgX9D"
   },
   "source": [
    "## train set, test set 구분하기"
   ]
  },
  {
   "cell_type": "code",
   "execution_count": 3,
   "metadata": {
    "id": "CwSPTbtVJiyi"
   },
   "outputs": [],
   "source": [
    "from sklearn.model_selection import train_test_split\n",
    "\n",
    "x_train, x_test, y_train, y_test = train_test_split(x_df, y, random_state=2022, test_size=0.2)"
   ]
  },
  {
   "cell_type": "markdown",
   "metadata": {
    "id": "vk5ON1iNgHZv"
   },
   "source": [
    "## **sepal끼리, petal끼리**"
   ]
  },
  {
   "cell_type": "code",
   "execution_count": 4,
   "metadata": {
    "id": "sjhmJMjLJhqq"
   },
   "outputs": [],
   "source": [
    "x_tr_se = x_train[['sepal length (cm)', 'sepal width (cm)']]\n",
    "x_tr_pe = x_train[['petal length (cm)', 'petal width (cm)']]\n",
    "\n",
    "x_te_se = x_test[['sepal length (cm)', 'sepal width (cm)']]\n",
    "x_te_pe = x_test[['petal length (cm)', 'petal width (cm)']]"
   ]
  },
  {
   "cell_type": "markdown",
   "metadata": {
    "id": "BubbIvpJmZhX"
   },
   "source": [
    "## One-hot Encoding"
   ]
  },
  {
   "cell_type": "code",
   "execution_count": 5,
   "metadata": {
    "id": "qTUl-T5Hmc8F"
   },
   "outputs": [],
   "source": [
    "from tensorflow.keras.utils import to_categorical\n",
    "\n",
    "y_len = len(np.unique(y_train))\n",
    "\n",
    "y_train = to_categorical(y_train, y_len)\n",
    "y_test = to_categorical(y_test, y_len)"
   ]
  },
  {
   "cell_type": "code",
   "execution_count": 6,
   "metadata": {},
   "outputs": [
    {
     "data": {
      "text/plain": [
       "(((120, 2), (120, 2), (120, 3)), ((30, 2), (30, 2), (30, 3)))"
      ]
     },
     "execution_count": 6,
     "metadata": {},
     "output_type": "execute_result"
    }
   ],
   "source": [
    "(x_tr_se.shape, x_tr_pe.shape, y_train.shape), (x_te_se.shape, x_te_pe.shape, y_test.shape)"
   ]
  },
  {
   "cell_type": "markdown",
   "metadata": {
    "id": "KJYhtxM3mc_R"
   },
   "source": [
    "## Modeling : multi-input & Add layer"
   ]
  },
  {
   "cell_type": "code",
   "execution_count": 41,
   "metadata": {
    "id": "5celtavonw75"
   },
   "outputs": [],
   "source": [
    "# 초기화\n",
    "keras.backend.clear_session()\n",
    "\n",
    "# 레이어 생성\n",
    "se_input_layer = keras.layers.Input(shape=(2,), name='se_input_layer')\n",
    "se_hiden_layer = keras.layers.Dense(4, activation='relu', name='se_hiden_layer')(se_input_layer)\n",
    "\n",
    "pe_input_layer = keras.layers.Input(shape=(2,), name='pe_input_layer')\n",
    "pe_hiden_layer = keras.layers.Dense(4, activation='relu', name='pe_hiden_layer')(pe_input_layer)\n",
    "\n",
    "concat_layer = keras.layers.Add()([se_input_layer, pe_input_layer])\n",
    "output_layer = keras.layers.Dense(y_len, activation='softmax', name='output')(concat_layer)\n",
    "\n",
    "# 모델 생성\n",
    "model = keras.models.Model([se_input_layer, pe_input_layer], output_layer)\n",
    "\n",
    "# 모델 컴파일\n",
    "model.compile(loss=keras.losses.categorical_crossentropy, metrics=['accuracy'], optimizer=keras.optimizers.Adam())"
   ]
  },
  {
   "cell_type": "markdown",
   "metadata": {
    "id": "qIg-W5eSWhyc"
   },
   "source": [
    "## 모델 시각화"
   ]
  },
  {
   "cell_type": "code",
   "execution_count": 42,
   "metadata": {
    "id": "22HFw8xavgGI"
   },
   "outputs": [
    {
     "data": {
      "image/png": "[encoded data removed]",
      "text/plain": [
       "<IPython.core.display.Image object>"
      ]
     },
     "execution_count": 42,
     "metadata": {},
     "output_type": "execute_result"
    }
   ],
   "source": [
    "from tensorflow.keras.utils import plot_model\n",
    "\n",
    "plot_model(model, show_shapes=True)"
   ]
  },
  {
   "cell_type": "markdown",
   "metadata": {
    "id": "vuJ7eKLkWnm2"
   },
   "source": [
    "## 학습 시켜보기!"
   ]
  },
  {
   "cell_type": "code",
   "execution_count": 43,
   "metadata": {
    "id": "6g05eHJAJdwg"
   },
   "outputs": [
    {
     "name": "stdout",
     "output_type": "stream",
     "text": [
      "Epoch 1/1000\n",
      "4/4 [==============================] - 1s 79ms/step - loss: 4.3301 - accuracy: 0.3235 - val_loss: 5.0812 - val_accuracy: 0.2222\n",
      "Epoch 2/1000\n",
      "4/4 [==============================] - 0s 14ms/step - loss: 4.2583 - accuracy: 0.3235 - val_loss: 5.0033 - val_accuracy: 0.2222\n",
      "Epoch 3/1000\n",
      "4/4 [==============================] - 0s 14ms/step - loss: 4.1882 - accuracy: 0.3235 - val_loss: 4.9251 - val_accuracy: 0.2222\n",
      "Epoch 4/1000\n",
      "4/4 [==============================] - 0s 14ms/step - loss: 4.1189 - accuracy: 0.3235 - val_loss: 4.8478 - val_accuracy: 0.2222\n",
      "Epoch 5/1000\n",
      "4/4 [==============================] - 0s 13ms/step - loss: 4.0463 - accuracy: 0.3235 - val_loss: 4.7720 - val_accuracy: 0.2222\n",
      "Epoch 6/1000\n",
      "4/4 [==============================] - 0s 16ms/step - loss: 3.9799 - accuracy: 0.3235 - val_loss: 4.6951 - val_accuracy: 0.2222\n",
      "Epoch 7/1000\n",
      "4/4 [==============================] - 0s 18ms/step - loss: 3.9094 - accuracy: 0.3235 - val_loss: 4.6191 - val_accuracy: 0.2222\n",
      "Epoch 8/1000\n",
      "4/4 [==============================] - 0s 18ms/step - loss: 3.8430 - accuracy: 0.3235 - val_loss: 4.5441 - val_accuracy: 0.2222\n",
      "Epoch 9/1000\n",
      "4/4 [==============================] - 0s 15ms/step - loss: 3.7740 - accuracy: 0.3235 - val_loss: 4.4706 - val_accuracy: 0.2222\n",
      "Epoch 10/1000\n",
      "4/4 [==============================] - 0s 16ms/step - loss: 3.7069 - accuracy: 0.3235 - val_loss: 4.3969 - val_accuracy: 0.2222\n",
      "Epoch 11/1000\n",
      "4/4 [==============================] - 0s 13ms/step - loss: 3.6423 - accuracy: 0.3235 - val_loss: 4.3233 - val_accuracy: 0.2222\n",
      "Epoch 12/1000\n",
      "4/4 [==============================] - 0s 15ms/step - loss: 3.5741 - accuracy: 0.3235 - val_loss: 4.2500 - val_accuracy: 0.2222\n",
      "Epoch 13/1000\n",
      "4/4 [==============================] - 0s 15ms/step - loss: 3.5063 - accuracy: 0.3235 - val_loss: 4.1754 - val_accuracy: 0.2222\n",
      "Epoch 14/1000\n",
      "4/4 [==============================] - 0s 16ms/step - loss: 3.4405 - accuracy: 0.3235 - val_loss: 4.0994 - val_accuracy: 0.2222\n",
      "Epoch 15/1000\n",
      "4/4 [==============================] - 0s 15ms/step - loss: 3.3711 - accuracy: 0.3235 - val_loss: 4.0249 - val_accuracy: 0.2222\n",
      "Epoch 16/1000\n",
      "4/4 [==============================] - 0s 17ms/step - loss: 3.3042 - accuracy: 0.3235 - val_loss: 3.9508 - val_accuracy: 0.2222\n",
      "Epoch 17/1000\n",
      "4/4 [==============================] - 0s 15ms/step - loss: 3.2379 - accuracy: 0.3235 - val_loss: 3.8765 - val_accuracy: 0.2222\n",
      "Epoch 18/1000\n",
      "4/4 [==============================] - 0s 14ms/step - loss: 3.1705 - accuracy: 0.3235 - val_loss: 3.8023 - val_accuracy: 0.2222\n",
      "Epoch 19/1000\n",
      "4/4 [==============================] - 0s 16ms/step - loss: 3.1041 - accuracy: 0.3235 - val_loss: 3.7275 - val_accuracy: 0.2222\n",
      "Epoch 20/1000\n",
      "4/4 [==============================] - 0s 17ms/step - loss: 3.0383 - accuracy: 0.3235 - val_loss: 3.6523 - val_accuracy: 0.2222\n",
      "Epoch 21/1000\n",
      "4/4 [==============================] - 0s 16ms/step - loss: 2.9704 - accuracy: 0.3235 - val_loss: 3.5794 - val_accuracy: 0.2222\n",
      "Epoch 22/1000\n",
      "4/4 [==============================] - 0s 17ms/step - loss: 2.9062 - accuracy: 0.3235 - val_loss: 3.5087 - val_accuracy: 0.2222\n",
      "Epoch 23/1000\n",
      "4/4 [==============================] - 0s 18ms/step - loss: 2.8433 - accuracy: 0.3235 - val_loss: 3.4399 - val_accuracy: 0.2222\n",
      "Epoch 24/1000\n",
      "4/4 [==============================] - 0s 16ms/step - loss: 2.7818 - accuracy: 0.3235 - val_loss: 3.3707 - val_accuracy: 0.2222\n",
      "Epoch 25/1000\n",
      "4/4 [==============================] - 0s 15ms/step - loss: 2.7201 - accuracy: 0.3235 - val_loss: 3.3020 - val_accuracy: 0.2222\n",
      "Epoch 26/1000\n",
      "4/4 [==============================] - 0s 15ms/step - loss: 2.6586 - accuracy: 0.3235 - val_loss: 3.2352 - val_accuracy: 0.2222\n",
      "Epoch 27/1000\n",
      "4/4 [==============================] - 0s 15ms/step - loss: 2.5977 - accuracy: 0.3235 - val_loss: 3.1701 - val_accuracy: 0.2222\n",
      "Epoch 28/1000\n",
      "4/4 [==============================] - 0s 19ms/step - loss: 2.5417 - accuracy: 0.3235 - val_loss: 3.1057 - val_accuracy: 0.2222\n",
      "Epoch 29/1000\n",
      "4/4 [==============================] - 0s 15ms/step - loss: 2.4844 - accuracy: 0.3235 - val_loss: 3.0435 - val_accuracy: 0.2222\n",
      "Epoch 30/1000\n",
      "4/4 [==============================] - 0s 17ms/step - loss: 2.4308 - accuracy: 0.3235 - val_loss: 2.9818 - val_accuracy: 0.2222\n",
      "Epoch 31/1000\n",
      "4/4 [==============================] - 0s 17ms/step - loss: 2.3738 - accuracy: 0.3235 - val_loss: 2.9224 - val_accuracy: 0.2222\n",
      "Epoch 32/1000\n",
      "4/4 [==============================] - 0s 18ms/step - loss: 2.3218 - accuracy: 0.3235 - val_loss: 2.8626 - val_accuracy: 0.2222\n",
      "Epoch 33/1000\n",
      "4/4 [==============================] - 0s 18ms/step - loss: 2.2693 - accuracy: 0.3235 - val_loss: 2.8048 - val_accuracy: 0.2222\n",
      "Epoch 34/1000\n",
      "4/4 [==============================] - 0s 34ms/step - loss: 2.2201 - accuracy: 0.3235 - val_loss: 2.7496 - val_accuracy: 0.2222\n",
      "Epoch 35/1000\n",
      "4/4 [==============================] - 0s 23ms/step - loss: 2.1730 - accuracy: 0.3235 - val_loss: 2.6977 - val_accuracy: 0.2222\n",
      "Epoch 36/1000\n",
      "4/4 [==============================] - 0s 16ms/step - loss: 2.1278 - accuracy: 0.3235 - val_loss: 2.6472 - val_accuracy: 0.2222\n",
      "Epoch 37/1000\n",
      "4/4 [==============================] - 0s 17ms/step - loss: 2.0842 - accuracy: 0.3235 - val_loss: 2.5980 - val_accuracy: 0.2222\n",
      "Epoch 38/1000\n",
      "4/4 [==============================] - 0s 16ms/step - loss: 2.0436 - accuracy: 0.3235 - val_loss: 2.5504 - val_accuracy: 0.2222\n",
      "Epoch 39/1000\n",
      "4/4 [==============================] - 0s 16ms/step - loss: 2.0036 - accuracy: 0.3235 - val_loss: 2.5034 - val_accuracy: 0.2222\n",
      "Epoch 40/1000\n",
      "4/4 [==============================] - 0s 17ms/step - loss: 1.9655 - accuracy: 0.3235 - val_loss: 2.4581 - val_accuracy: 0.2222\n",
      "Epoch 41/1000\n",
      "4/4 [==============================] - 0s 17ms/step - loss: 1.9293 - accuracy: 0.3235 - val_loss: 2.4160 - val_accuracy: 0.2222\n",
      "Epoch 42/1000\n",
      "4/4 [==============================] - 0s 17ms/step - loss: 1.8944 - accuracy: 0.3235 - val_loss: 2.3777 - val_accuracy: 0.2222\n",
      "Epoch 43/1000\n",
      "4/4 [==============================] - 0s 17ms/step - loss: 1.8651 - accuracy: 0.3235 - val_loss: 2.3406 - val_accuracy: 0.2222\n",
      "Epoch 44/1000\n",
      "4/4 [==============================] - 0s 16ms/step - loss: 1.8361 - accuracy: 0.3235 - val_loss: 2.3049 - val_accuracy: 0.2222\n",
      "Epoch 45/1000\n",
      "4/4 [==============================] - 0s 17ms/step - loss: 1.8077 - accuracy: 0.3235 - val_loss: 2.2713 - val_accuracy: 0.2222\n",
      "Epoch 46/1000\n",
      "4/4 [==============================] - 0s 17ms/step - loss: 1.7807 - accuracy: 0.3235 - val_loss: 2.2395 - val_accuracy: 0.2222\n",
      "Epoch 47/1000\n",
      "4/4 [==============================] - 0s 15ms/step - loss: 1.7572 - accuracy: 0.3235 - val_loss: 2.2064 - val_accuracy: 0.2222\n",
      "Epoch 48/1000\n",
      "4/4 [==============================] - 0s 16ms/step - loss: 1.7318 - accuracy: 0.3235 - val_loss: 2.1737 - val_accuracy: 0.2222\n",
      "Epoch 49/1000\n",
      "4/4 [==============================] - 0s 16ms/step - loss: 1.7071 - accuracy: 0.3235 - val_loss: 2.1412 - val_accuracy: 0.2222\n",
      "Epoch 50/1000\n",
      "4/4 [==============================] - 0s 18ms/step - loss: 1.6841 - accuracy: 0.3235 - val_loss: 2.1105 - val_accuracy: 0.2222\n",
      "Epoch 51/1000\n",
      "4/4 [==============================] - 0s 15ms/step - loss: 1.6612 - accuracy: 0.3235 - val_loss: 2.0814 - val_accuracy: 0.2222\n",
      "Epoch 52/1000\n",
      "4/4 [==============================] - 0s 18ms/step - loss: 1.6401 - accuracy: 0.3235 - val_loss: 2.0521 - val_accuracy: 0.2222\n",
      "Epoch 53/1000\n",
      "4/4 [==============================] - 0s 16ms/step - loss: 1.6199 - accuracy: 0.3235 - val_loss: 2.0243 - val_accuracy: 0.2222\n",
      "Epoch 54/1000\n",
      "4/4 [==============================] - 0s 16ms/step - loss: 1.5987 - accuracy: 0.3235 - val_loss: 1.9966 - val_accuracy: 0.2222\n",
      "Epoch 55/1000\n",
      "4/4 [==============================] - 0s 16ms/step - loss: 1.5796 - accuracy: 0.3235 - val_loss: 1.9688 - val_accuracy: 0.2222\n",
      "Epoch 56/1000\n",
      "4/4 [==============================] - 0s 15ms/step - loss: 1.5590 - accuracy: 0.3235 - val_loss: 1.9422 - val_accuracy: 0.2222\n",
      "Epoch 57/1000\n",
      "4/4 [==============================] - 0s 16ms/step - loss: 1.5417 - accuracy: 0.3235 - val_loss: 1.9150 - val_accuracy: 0.2222\n",
      "Epoch 58/1000\n",
      "4/4 [==============================] - 0s 17ms/step - loss: 1.5228 - accuracy: 0.3235 - val_loss: 1.8892 - val_accuracy: 0.2222\n"
     ]
    },
    {
     "name": "stdout",
     "output_type": "stream",
     "text": [
      "Epoch 59/1000\n",
      "4/4 [==============================] - 0s 15ms/step - loss: 1.5039 - accuracy: 0.3333 - val_loss: 1.8639 - val_accuracy: 0.2222\n",
      "Epoch 60/1000\n",
      "4/4 [==============================] - 0s 14ms/step - loss: 1.4861 - accuracy: 0.3333 - val_loss: 1.8376 - val_accuracy: 0.2222\n",
      "Epoch 61/1000\n",
      "4/4 [==============================] - 0s 15ms/step - loss: 1.4689 - accuracy: 0.3333 - val_loss: 1.8108 - val_accuracy: 0.2222\n",
      "Epoch 62/1000\n",
      "4/4 [==============================] - 0s 16ms/step - loss: 1.4503 - accuracy: 0.3431 - val_loss: 1.7850 - val_accuracy: 0.2222\n",
      "Epoch 63/1000\n",
      "4/4 [==============================] - 0s 16ms/step - loss: 1.4323 - accuracy: 0.3431 - val_loss: 1.7599 - val_accuracy: 0.2222\n",
      "Epoch 64/1000\n",
      "4/4 [==============================] - 0s 17ms/step - loss: 1.4146 - accuracy: 0.3529 - val_loss: 1.7345 - val_accuracy: 0.2222\n",
      "Epoch 65/1000\n",
      "4/4 [==============================] - 0s 16ms/step - loss: 1.3974 - accuracy: 0.3431 - val_loss: 1.7074 - val_accuracy: 0.2222\n",
      "Epoch 66/1000\n",
      "4/4 [==============================] - 0s 16ms/step - loss: 1.3797 - accuracy: 0.3431 - val_loss: 1.6808 - val_accuracy: 0.2222\n",
      "Epoch 67/1000\n",
      "4/4 [==============================] - 0s 20ms/step - loss: 1.3602 - accuracy: 0.3431 - val_loss: 1.6567 - val_accuracy: 0.2222\n",
      "Epoch 68/1000\n",
      "4/4 [==============================] - 0s 14ms/step - loss: 1.3445 - accuracy: 0.3431 - val_loss: 1.6330 - val_accuracy: 0.2222\n",
      "Epoch 69/1000\n",
      "4/4 [==============================] - 0s 15ms/step - loss: 1.3282 - accuracy: 0.3431 - val_loss: 1.6099 - val_accuracy: 0.2222\n",
      "Epoch 70/1000\n",
      "4/4 [==============================] - 0s 15ms/step - loss: 1.3126 - accuracy: 0.3333 - val_loss: 1.5877 - val_accuracy: 0.2778\n",
      "Epoch 71/1000\n",
      "4/4 [==============================] - 0s 16ms/step - loss: 1.2964 - accuracy: 0.3235 - val_loss: 1.5649 - val_accuracy: 0.3889\n",
      "Epoch 72/1000\n",
      "4/4 [==============================] - 0s 17ms/step - loss: 1.2811 - accuracy: 0.3333 - val_loss: 1.5412 - val_accuracy: 0.3889\n",
      "Epoch 73/1000\n",
      "4/4 [==============================] - 0s 16ms/step - loss: 1.2645 - accuracy: 0.3333 - val_loss: 1.5182 - val_accuracy: 0.3333\n",
      "Epoch 74/1000\n",
      "4/4 [==============================] - 0s 14ms/step - loss: 1.2500 - accuracy: 0.3333 - val_loss: 1.4944 - val_accuracy: 0.3333\n",
      "Epoch 75/1000\n",
      "4/4 [==============================] - 0s 16ms/step - loss: 1.2333 - accuracy: 0.3333 - val_loss: 1.4717 - val_accuracy: 0.3889\n",
      "Epoch 76/1000\n",
      "4/4 [==============================] - 0s 15ms/step - loss: 1.2180 - accuracy: 0.3333 - val_loss: 1.4496 - val_accuracy: 0.3889\n",
      "Epoch 77/1000\n",
      "4/4 [==============================] - 0s 16ms/step - loss: 1.2016 - accuracy: 0.3235 - val_loss: 1.4274 - val_accuracy: 0.3889\n",
      "Epoch 78/1000\n",
      "4/4 [==============================] - 0s 15ms/step - loss: 1.1868 - accuracy: 0.3333 - val_loss: 1.4049 - val_accuracy: 0.3889\n",
      "Epoch 79/1000\n",
      "4/4 [==============================] - 0s 15ms/step - loss: 1.1720 - accuracy: 0.3431 - val_loss: 1.3829 - val_accuracy: 0.3889\n",
      "Epoch 80/1000\n",
      "4/4 [==============================] - 0s 17ms/step - loss: 1.1569 - accuracy: 0.3431 - val_loss: 1.3619 - val_accuracy: 0.3889\n",
      "Epoch 81/1000\n",
      "4/4 [==============================] - 0s 15ms/step - loss: 1.1421 - accuracy: 0.3529 - val_loss: 1.3406 - val_accuracy: 0.3889\n",
      "Epoch 82/1000\n",
      "4/4 [==============================] - 0s 18ms/step - loss: 1.1277 - accuracy: 0.3529 - val_loss: 1.3188 - val_accuracy: 0.3889\n",
      "Epoch 83/1000\n",
      "4/4 [==============================] - 0s 20ms/step - loss: 1.1130 - accuracy: 0.3627 - val_loss: 1.2969 - val_accuracy: 0.3889\n",
      "Epoch 84/1000\n",
      "4/4 [==============================] - 0s 17ms/step - loss: 1.0990 - accuracy: 0.3627 - val_loss: 1.2760 - val_accuracy: 0.3889\n",
      "Epoch 85/1000\n",
      "4/4 [==============================] - 0s 23ms/step - loss: 1.0848 - accuracy: 0.3627 - val_loss: 1.2564 - val_accuracy: 0.3889\n",
      "Epoch 86/1000\n",
      "4/4 [==============================] - 0s 16ms/step - loss: 1.0717 - accuracy: 0.3627 - val_loss: 1.2371 - val_accuracy: 0.3889\n",
      "Epoch 87/1000\n",
      "4/4 [==============================] - 0s 17ms/step - loss: 1.0589 - accuracy: 0.3922 - val_loss: 1.2182 - val_accuracy: 0.3889\n",
      "Epoch 88/1000\n",
      "4/4 [==============================] - 0s 16ms/step - loss: 1.0468 - accuracy: 0.4020 - val_loss: 1.1998 - val_accuracy: 0.3889\n",
      "Epoch 89/1000\n",
      "4/4 [==============================] - 0s 17ms/step - loss: 1.0344 - accuracy: 0.4020 - val_loss: 1.1823 - val_accuracy: 0.3889\n",
      "Epoch 90/1000\n",
      "4/4 [==============================] - 0s 16ms/step - loss: 1.0219 - accuracy: 0.4020 - val_loss: 1.1653 - val_accuracy: 0.3889\n",
      "Epoch 91/1000\n",
      "4/4 [==============================] - 0s 14ms/step - loss: 1.0098 - accuracy: 0.3725 - val_loss: 1.1485 - val_accuracy: 0.3889\n",
      "Epoch 92/1000\n",
      "4/4 [==============================] - 0s 16ms/step - loss: 0.9985 - accuracy: 0.3529 - val_loss: 1.1310 - val_accuracy: 0.3889\n",
      "Epoch 93/1000\n",
      "4/4 [==============================] - 0s 15ms/step - loss: 0.9879 - accuracy: 0.3529 - val_loss: 1.1135 - val_accuracy: 0.3889\n",
      "Epoch 94/1000\n",
      "4/4 [==============================] - 0s 15ms/step - loss: 0.9750 - accuracy: 0.3627 - val_loss: 1.0972 - val_accuracy: 0.3889\n",
      "Epoch 95/1000\n",
      "4/4 [==============================] - 0s 16ms/step - loss: 0.9650 - accuracy: 0.3627 - val_loss: 1.0805 - val_accuracy: 0.3889\n",
      "Epoch 96/1000\n",
      "4/4 [==============================] - 0s 15ms/step - loss: 0.9540 - accuracy: 0.3627 - val_loss: 1.0646 - val_accuracy: 0.3889\n",
      "Epoch 97/1000\n",
      "4/4 [==============================] - 0s 15ms/step - loss: 0.9437 - accuracy: 0.3627 - val_loss: 1.0501 - val_accuracy: 0.3889\n",
      "Epoch 98/1000\n",
      "4/4 [==============================] - 0s 18ms/step - loss: 0.9350 - accuracy: 0.3627 - val_loss: 1.0364 - val_accuracy: 0.3889\n",
      "Epoch 99/1000\n",
      "4/4 [==============================] - 0s 15ms/step - loss: 0.9248 - accuracy: 0.3725 - val_loss: 1.0236 - val_accuracy: 0.3889\n",
      "Epoch 100/1000\n",
      "4/4 [==============================] - 0s 16ms/step - loss: 0.9170 - accuracy: 0.3725 - val_loss: 1.0104 - val_accuracy: 0.3889\n",
      "Epoch 101/1000\n",
      "4/4 [==============================] - 0s 15ms/step - loss: 0.9086 - accuracy: 0.3627 - val_loss: 0.9973 - val_accuracy: 0.4444\n",
      "Epoch 102/1000\n",
      "4/4 [==============================] - 0s 17ms/step - loss: 0.9003 - accuracy: 0.3627 - val_loss: 0.9842 - val_accuracy: 0.5000\n",
      "Epoch 103/1000\n",
      "4/4 [==============================] - 0s 18ms/step - loss: 0.8917 - accuracy: 0.3627 - val_loss: 0.9716 - val_accuracy: 0.5000\n",
      "Epoch 104/1000\n",
      "4/4 [==============================] - 0s 16ms/step - loss: 0.8837 - accuracy: 0.3922 - val_loss: 0.9596 - val_accuracy: 0.5000\n",
      "Epoch 105/1000\n",
      "4/4 [==============================] - 0s 15ms/step - loss: 0.8768 - accuracy: 0.4020 - val_loss: 0.9478 - val_accuracy: 0.5000\n",
      "Epoch 106/1000\n",
      "4/4 [==============================] - 0s 15ms/step - loss: 0.8691 - accuracy: 0.4216 - val_loss: 0.9370 - val_accuracy: 0.5000\n",
      "Epoch 107/1000\n",
      "4/4 [==============================] - 0s 16ms/step - loss: 0.8629 - accuracy: 0.4412 - val_loss: 0.9264 - val_accuracy: 0.5000\n",
      "Epoch 108/1000\n",
      "4/4 [==============================] - 0s 16ms/step - loss: 0.8566 - accuracy: 0.4510 - val_loss: 0.9156 - val_accuracy: 0.5000\n",
      "Epoch 109/1000\n",
      "4/4 [==============================] - 0s 16ms/step - loss: 0.8501 - accuracy: 0.4902 - val_loss: 0.9060 - val_accuracy: 0.5000\n",
      "Epoch 110/1000\n",
      "4/4 [==============================] - 0s 15ms/step - loss: 0.8441 - accuracy: 0.5000 - val_loss: 0.8969 - val_accuracy: 0.5000\n",
      "Epoch 111/1000\n",
      "4/4 [==============================] - 0s 15ms/step - loss: 0.8389 - accuracy: 0.5000 - val_loss: 0.8885 - val_accuracy: 0.5000\n",
      "Epoch 112/1000\n",
      "4/4 [==============================] - 0s 16ms/step - loss: 0.8336 - accuracy: 0.5098 - val_loss: 0.8801 - val_accuracy: 0.5000\n",
      "Epoch 113/1000\n",
      "4/4 [==============================] - 0s 15ms/step - loss: 0.8287 - accuracy: 0.5392 - val_loss: 0.8718 - val_accuracy: 0.5556\n",
      "Epoch 114/1000\n",
      "4/4 [==============================] - 0s 14ms/step - loss: 0.8246 - accuracy: 0.5392 - val_loss: 0.8643 - val_accuracy: 0.6111\n",
      "Epoch 115/1000\n",
      "4/4 [==============================] - 0s 14ms/step - loss: 0.8201 - accuracy: 0.5392 - val_loss: 0.8581 - val_accuracy: 0.6111\n",
      "Epoch 116/1000\n"
     ]
    },
    {
     "name": "stdout",
     "output_type": "stream",
     "text": [
      "4/4 [==============================] - 0s 16ms/step - loss: 0.8164 - accuracy: 0.5490 - val_loss: 0.8520 - val_accuracy: 0.6111\n",
      "Epoch 117/1000\n",
      "4/4 [==============================] - 0s 15ms/step - loss: 0.8136 - accuracy: 0.5980 - val_loss: 0.8459 - val_accuracy: 0.6667\n",
      "Epoch 118/1000\n",
      "4/4 [==============================] - 0s 15ms/step - loss: 0.8105 - accuracy: 0.6373 - val_loss: 0.8404 - val_accuracy: 0.7778\n",
      "Epoch 119/1000\n",
      "4/4 [==============================] - 0s 16ms/step - loss: 0.8074 - accuracy: 0.6863 - val_loss: 0.8348 - val_accuracy: 0.7778\n",
      "Epoch 120/1000\n",
      "4/4 [==============================] - 0s 16ms/step - loss: 0.8044 - accuracy: 0.7353 - val_loss: 0.8292 - val_accuracy: 0.7778\n",
      "Epoch 121/1000\n",
      "4/4 [==============================] - 0s 15ms/step - loss: 0.8020 - accuracy: 0.7549 - val_loss: 0.8237 - val_accuracy: 0.8333\n",
      "Epoch 122/1000\n",
      "4/4 [==============================] - 0s 16ms/step - loss: 0.7994 - accuracy: 0.7549 - val_loss: 0.8181 - val_accuracy: 0.8333\n",
      "Epoch 123/1000\n",
      "4/4 [==============================] - 0s 14ms/step - loss: 0.7968 - accuracy: 0.7647 - val_loss: 0.8125 - val_accuracy: 0.8333\n",
      "Epoch 124/1000\n",
      "4/4 [==============================] - 0s 14ms/step - loss: 0.7942 - accuracy: 0.7647 - val_loss: 0.8078 - val_accuracy: 0.8333\n",
      "Epoch 125/1000\n",
      "4/4 [==============================] - 0s 15ms/step - loss: 0.7916 - accuracy: 0.7647 - val_loss: 0.8034 - val_accuracy: 0.8333\n",
      "Epoch 126/1000\n",
      "4/4 [==============================] - 0s 15ms/step - loss: 0.7898 - accuracy: 0.7745 - val_loss: 0.7991 - val_accuracy: 0.8333\n",
      "Epoch 127/1000\n",
      "4/4 [==============================] - 0s 15ms/step - loss: 0.7876 - accuracy: 0.7745 - val_loss: 0.7953 - val_accuracy: 0.8333\n",
      "Epoch 128/1000\n",
      "4/4 [==============================] - 0s 15ms/step - loss: 0.7860 - accuracy: 0.7745 - val_loss: 0.7916 - val_accuracy: 0.8333\n",
      "Epoch 129/1000\n",
      "4/4 [==============================] - 0s 15ms/step - loss: 0.7840 - accuracy: 0.7843 - val_loss: 0.7880 - val_accuracy: 0.8333\n",
      "Epoch 130/1000\n",
      "4/4 [==============================] - 0s 16ms/step - loss: 0.7826 - accuracy: 0.7843 - val_loss: 0.7846 - val_accuracy: 0.8333\n",
      "Epoch 131/1000\n",
      "4/4 [==============================] - 0s 15ms/step - loss: 0.7814 - accuracy: 0.7745 - val_loss: 0.7807 - val_accuracy: 0.8333\n",
      "Epoch 132/1000\n",
      "4/4 [==============================] - 0s 16ms/step - loss: 0.7798 - accuracy: 0.7941 - val_loss: 0.7776 - val_accuracy: 0.8333\n",
      "Epoch 133/1000\n",
      "4/4 [==============================] - 0s 17ms/step - loss: 0.7783 - accuracy: 0.8039 - val_loss: 0.7749 - val_accuracy: 0.8333\n",
      "Epoch 134/1000\n",
      "4/4 [==============================] - 0s 17ms/step - loss: 0.7770 - accuracy: 0.7941 - val_loss: 0.7721 - val_accuracy: 0.8333\n",
      "Epoch 135/1000\n",
      "4/4 [==============================] - 0s 19ms/step - loss: 0.7759 - accuracy: 0.7941 - val_loss: 0.7697 - val_accuracy: 0.8333\n",
      "Epoch 136/1000\n",
      "4/4 [==============================] - 0s 18ms/step - loss: 0.7750 - accuracy: 0.7843 - val_loss: 0.7680 - val_accuracy: 0.8333\n",
      "Epoch 137/1000\n",
      "4/4 [==============================] - 0s 17ms/step - loss: 0.7742 - accuracy: 0.7745 - val_loss: 0.7664 - val_accuracy: 0.8333\n",
      "Epoch 138/1000\n",
      "4/4 [==============================] - 0s 19ms/step - loss: 0.7735 - accuracy: 0.7745 - val_loss: 0.7643 - val_accuracy: 0.8333\n",
      "Epoch 139/1000\n",
      "4/4 [==============================] - 0s 16ms/step - loss: 0.7727 - accuracy: 0.7745 - val_loss: 0.7623 - val_accuracy: 0.8333\n",
      "Epoch 140/1000\n",
      "4/4 [==============================] - 0s 17ms/step - loss: 0.7722 - accuracy: 0.7745 - val_loss: 0.7605 - val_accuracy: 0.8333\n",
      "Epoch 141/1000\n",
      "4/4 [==============================] - 0s 16ms/step - loss: 0.7716 - accuracy: 0.7745 - val_loss: 0.7592 - val_accuracy: 0.8333\n",
      "Epoch 142/1000\n",
      "4/4 [==============================] - 0s 16ms/step - loss: 0.7711 - accuracy: 0.7549 - val_loss: 0.7578 - val_accuracy: 0.8889\n",
      "Epoch 143/1000\n",
      "4/4 [==============================] - 0s 15ms/step - loss: 0.7707 - accuracy: 0.7451 - val_loss: 0.7566 - val_accuracy: 0.7778\n",
      "Epoch 144/1000\n",
      "4/4 [==============================] - 0s 16ms/step - loss: 0.7700 - accuracy: 0.7255 - val_loss: 0.7556 - val_accuracy: 0.7778\n",
      "Epoch 145/1000\n",
      "4/4 [==============================] - 0s 16ms/step - loss: 0.7699 - accuracy: 0.7255 - val_loss: 0.7548 - val_accuracy: 0.7778\n",
      "Epoch 146/1000\n",
      "4/4 [==============================] - 0s 15ms/step - loss: 0.7695 - accuracy: 0.6961 - val_loss: 0.7540 - val_accuracy: 0.7778\n",
      "Epoch 147/1000\n",
      "4/4 [==============================] - 0s 15ms/step - loss: 0.7692 - accuracy: 0.6863 - val_loss: 0.7531 - val_accuracy: 0.7778\n",
      "Epoch 148/1000\n",
      "4/4 [==============================] - 0s 16ms/step - loss: 0.7689 - accuracy: 0.6863 - val_loss: 0.7522 - val_accuracy: 0.7778\n",
      "Epoch 149/1000\n",
      "4/4 [==============================] - 0s 15ms/step - loss: 0.7688 - accuracy: 0.7059 - val_loss: 0.7516 - val_accuracy: 0.7778\n",
      "Epoch 150/1000\n",
      "4/4 [==============================] - 0s 14ms/step - loss: 0.7684 - accuracy: 0.6961 - val_loss: 0.7513 - val_accuracy: 0.7778\n",
      "Epoch 151/1000\n",
      "4/4 [==============================] - 0s 14ms/step - loss: 0.7684 - accuracy: 0.6863 - val_loss: 0.7509 - val_accuracy: 0.7778\n",
      "Epoch 152/1000\n",
      "4/4 [==============================] - 0s 14ms/step - loss: 0.7681 - accuracy: 0.6765 - val_loss: 0.7507 - val_accuracy: 0.7778\n",
      "Epoch 153/1000\n",
      "4/4 [==============================] - 0s 15ms/step - loss: 0.7679 - accuracy: 0.6765 - val_loss: 0.7502 - val_accuracy: 0.7778\n",
      "Epoch 154/1000\n",
      "4/4 [==============================] - 0s 14ms/step - loss: 0.7680 - accuracy: 0.6765 - val_loss: 0.7497 - val_accuracy: 0.7778\n",
      "Epoch 155/1000\n",
      "4/4 [==============================] - 0s 14ms/step - loss: 0.7677 - accuracy: 0.6765 - val_loss: 0.7488 - val_accuracy: 0.7778\n",
      "Epoch 156/1000\n",
      "4/4 [==============================] - 0s 14ms/step - loss: 0.7673 - accuracy: 0.6765 - val_loss: 0.7484 - val_accuracy: 0.7778\n",
      "Epoch 157/1000\n",
      "4/4 [==============================] - 0s 14ms/step - loss: 0.7672 - accuracy: 0.6765 - val_loss: 0.7479 - val_accuracy: 0.7778\n",
      "Epoch 158/1000\n",
      "4/4 [==============================] - 0s 14ms/step - loss: 0.7672 - accuracy: 0.6765 - val_loss: 0.7470 - val_accuracy: 0.7778\n",
      "Epoch 159/1000\n",
      "4/4 [==============================] - 0s 17ms/step - loss: 0.7667 - accuracy: 0.6765 - val_loss: 0.7460 - val_accuracy: 0.7778\n",
      "Epoch 160/1000\n",
      "4/4 [==============================] - 0s 21ms/step - loss: 0.7665 - accuracy: 0.6863 - val_loss: 0.7450 - val_accuracy: 0.7778\n",
      "Epoch 161/1000\n",
      "4/4 [==============================] - 0s 17ms/step - loss: 0.7661 - accuracy: 0.6863 - val_loss: 0.7444 - val_accuracy: 0.7778\n",
      "Epoch 162/1000\n",
      "4/4 [==============================] - 0s 16ms/step - loss: 0.7662 - accuracy: 0.6765 - val_loss: 0.7441 - val_accuracy: 0.7778\n",
      "Epoch 163/1000\n",
      "4/4 [==============================] - 0s 16ms/step - loss: 0.7660 - accuracy: 0.6765 - val_loss: 0.7434 - val_accuracy: 0.7778\n",
      "Epoch 164/1000\n",
      "4/4 [==============================] - 0s 15ms/step - loss: 0.7658 - accuracy: 0.6863 - val_loss: 0.7421 - val_accuracy: 0.7778\n",
      "Epoch 165/1000\n",
      "4/4 [==============================] - 0s 15ms/step - loss: 0.7655 - accuracy: 0.6863 - val_loss: 0.7412 - val_accuracy: 0.7778\n",
      "Epoch 166/1000\n",
      "4/4 [==============================] - 0s 16ms/step - loss: 0.7651 - accuracy: 0.7059 - val_loss: 0.7404 - val_accuracy: 0.7778\n",
      "Epoch 167/1000\n",
      "4/4 [==============================] - 0s 16ms/step - loss: 0.7651 - accuracy: 0.7255 - val_loss: 0.7396 - val_accuracy: 0.7778\n",
      "Epoch 168/1000\n",
      "4/4 [==============================] - 0s 17ms/step - loss: 0.7649 - accuracy: 0.7353 - val_loss: 0.7396 - val_accuracy: 0.7778\n",
      "Epoch 169/1000\n",
      "4/4 [==============================] - 0s 14ms/step - loss: 0.7647 - accuracy: 0.7255 - val_loss: 0.7397 - val_accuracy: 0.7778\n",
      "Epoch 170/1000\n",
      "4/4 [==============================] - 0s 15ms/step - loss: 0.7645 - accuracy: 0.7255 - val_loss: 0.7398 - val_accuracy: 0.7778\n",
      "Epoch 171/1000\n",
      "4/4 [==============================] - 0s 19ms/step - loss: 0.7644 - accuracy: 0.7255 - val_loss: 0.7398 - val_accuracy: 0.7778\n",
      "Epoch 172/1000\n",
      "4/4 [==============================] - 0s 23ms/step - loss: 0.7644 - accuracy: 0.7255 - val_loss: 0.7396 - val_accuracy: 0.7778\n",
      "Epoch 173/1000\n"
     ]
    },
    {
     "name": "stdout",
     "output_type": "stream",
     "text": [
      "4/4 [==============================] - 0s 18ms/step - loss: 0.7640 - accuracy: 0.7255 - val_loss: 0.7398 - val_accuracy: 0.7778\n",
      "Epoch 174/1000\n",
      "4/4 [==============================] - 0s 16ms/step - loss: 0.7638 - accuracy: 0.7157 - val_loss: 0.7401 - val_accuracy: 0.7778\n",
      "Epoch 175/1000\n",
      "4/4 [==============================] - 0s 18ms/step - loss: 0.7638 - accuracy: 0.6863 - val_loss: 0.7403 - val_accuracy: 0.7778\n",
      "Epoch 176/1000\n",
      "4/4 [==============================] - 0s 15ms/step - loss: 0.7640 - accuracy: 0.6765 - val_loss: 0.7407 - val_accuracy: 0.7778\n",
      "Epoch 177/1000\n",
      "4/4 [==============================] - 0s 15ms/step - loss: 0.7638 - accuracy: 0.6667 - val_loss: 0.7408 - val_accuracy: 0.7778\n",
      "Epoch 178/1000\n",
      "1/4 [======>.......................] - ETA: 0s - loss: 0.7882 - accuracy: 0.5938Restoring model weights from the end of the best epoch: 168.\n",
      "4/4 [==============================] - 0s 18ms/step - loss: 0.7641 - accuracy: 0.6569 - val_loss: 0.7407 - val_accuracy: 0.7778\n",
      "Epoch 178: early stopping\n"
     ]
    },
    {
     "data": {
      "text/plain": [
       "<keras.callbacks.History at 0x2110f2d87f0>"
      ]
     },
     "execution_count": 43,
     "metadata": {},
     "output_type": "execute_result"
    }
   ],
   "source": [
    "es = keras.callbacks.EarlyStopping(monitor='val_loss', min_delta=0, patience=10, verbose=1, restore_best_weights=True)\n",
    "\n",
    "model.fit([x_tr_se, x_tr_pe], y_train, epochs=1000, verbose=1, validation_split=0.15, callbacks=[es])"
   ]
  },
  {
   "cell_type": "code",
   "execution_count": null,
   "metadata": {},
   "outputs": [],
   "source": []
  }
 ],
 "metadata": {
  "colab": {
   "collapsed_sections": [],
   "name": "3_2_iris_connection_II.ipynb",
   "provenance": []
  },
  "kernelspec": {
   "display_name": "Python 3",
   "language": "python",
   "name": "python3"
  },
  "language_info": {
   "codemirror_mode": {
    "name": "ipython",
    "version": 3
   },
   "file_extension": ".py",
   "mimetype": "text/x-python",
   "name": "python",
   "nbconvert_exporter": "python",
   "pygments_lexer": "ipython3",
   "version": "3.8.8"
  }
 },
 "nbformat": 4,
 "nbformat_minor": 1
}
