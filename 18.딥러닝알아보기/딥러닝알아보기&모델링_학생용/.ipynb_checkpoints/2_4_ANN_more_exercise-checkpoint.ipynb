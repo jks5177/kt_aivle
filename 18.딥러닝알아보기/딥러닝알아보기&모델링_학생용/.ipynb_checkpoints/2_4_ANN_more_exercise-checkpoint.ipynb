{
 "cells": [
  {
   "cell_type": "markdown",
   "metadata": {
    "id": "HZc219MFFibh"
   },
   "source": [
    "# Before Convolutional Neural Network"
   ]
  },
  {
   "cell_type": "markdown",
   "metadata": {
    "id": "iLYle-HPFNgx"
   },
   "source": [
    "## Real Game : CIFAR-10\n",
    "\n",
    "여기에서는 여러분이 직접 코드를 완성해야 하는 문제가 곳곳에 있습니다!"
   ]
  },
  {
   "cell_type": "code",
   "execution_count": 1,
   "metadata": {
    "id": "SpxQtfTUUI5r"
   },
   "outputs": [],
   "source": [
    "'''\n",
    "matplolib inline 명령어를 통해서\n",
    "matplot으로 그리는 플롯들을 주피터 노트북 내에서 볼 수 있게 해준다.\n",
    "포맷을 retina로 바꾸면 그래프의 화질이 훨씬 좋아진다.\n",
    "'''\n",
    "%matplotlib inline\n",
    "%config InlineBackend.figure_format = 'retina'\n",
    "\n",
    "'''\n",
    "라이브러리들을 불러오자.\n",
    "'''\n",
    "import numpy as np\n",
    "import pandas as pd\n",
    "import matplotlib.pyplot as plt\n",
    "\n",
    "import tensorflow as tf\n",
    "from tensorflow import keras\n",
    "\n",
    "import random as rd\n",
    "\n",
    "from sklearn.metrics import accuracy_score"
   ]
  },
  {
   "cell_type": "markdown",
   "metadata": {
    "id": "dxB_-9itUhFy"
   },
   "source": [
    "### 데이터를 불러옵시다."
   ]
  },
  {
   "cell_type": "code",
   "execution_count": null,
   "metadata": {
    "id": "4uNApF4YVdf7"
   },
   "outputs": [],
   "source": [
    "(train_x, train_y), (test_x, test_y) = tf.keras.datasets.cifar10.load_data()"
   ]
  },
  {
   "cell_type": "code",
   "execution_count": null,
   "metadata": {
    "id": "0EcfUETOUhIy"
   },
   "outputs": [],
   "source": [
    "print(train_x.shape, train_y.shape, test_x.shape, test_y.shape)"
   ]
  },
  {
   "cell_type": "code",
   "execution_count": null,
   "metadata": {
    "id": "D7-ICNlAVhIM"
   },
   "outputs": [],
   "source": [
    "labels = { 0 : 'Airplane',\n",
    "          1 : 'Automobile',\n",
    "          2 : 'Bird',\n",
    "          3 : 'Cat',\n",
    "          4 : 'Deer',\n",
    "          5 : 'Dog',\n",
    "          6 : 'Frog',\n",
    "          7 : 'Horse',\n",
    "          8 : 'Ship',\n",
    "          9 : 'Truck' }\n",
    "\n",
    "print(labels)"
   ]
  },
  {
   "cell_type": "code",
   "execution_count": null,
   "metadata": {
    "id": "06UwAC3JV7uj"
   },
   "outputs": [],
   "source": [
    "'''\n",
    "Ctrl+Enter를 이용하여\n",
    "반복 실행 해보자!\n",
    "'''\n",
    "\n",
    "id = rd.randrange(0,10000)\n",
    "\n",
    "print('id = {}'.format(id))\n",
    "print('다음 그림은 {} 입니다.'.format( labels[test_y[id][0]] ))\n",
    "plt.imshow(test_x[id])\n",
    "plt.show()"
   ]
  },
  {
   "cell_type": "code",
   "execution_count": null,
   "metadata": {
    "id": "cWL_no_LR3U8"
   },
   "outputs": [],
   "source": [
    "print('max :', train_x.max(),'  min :', train_x.min())"
   ]
  },
  {
   "cell_type": "markdown",
   "metadata": {
    "id": "mQ_FTTj7XAtC"
   },
   "source": [
    "### 코드를 완성해주세요!\n",
    "\n",
    "해야 할 일\n",
    "\n",
    "1. 전처리\n",
    "    * x, y에 대하여 모두! 단, x에 대하여 reshape를 의도한 것은 아닙니다!\n",
    "\n",
    "2. 모델링\n",
    "    * 이미지 데이터를 펼쳐주는 레이어를 사용하세요.\n",
    "    * 히든 레이어 4개 사용, 각 노드는 512, 512, 256, 128\n",
    "    * 이 문제는 회귀? 분류?\n",
    "\n",
    "3. 학습\n",
    "    * epochs=50, validation_split=0.2, early stopping\n",
    "    * epoch별 accuracy, loss가 보고 싶다면 history라는 변수에 담아내자!"
   ]
  },
  {
   "cell_type": "code",
   "execution_count": null,
   "metadata": {
    "id": "3An_EZn0R4wM"
   },
   "outputs": [],
   "source": [
    "#############\n",
    "# Your Code #\n",
    "#############\n"
   ]
  },
  {
   "cell_type": "code",
   "execution_count": null,
   "metadata": {
    "id": "94brYg2lXPwO"
   },
   "outputs": [],
   "source": [
    "#############\n",
    "# Your Code #\n",
    "#############\n"
   ]
  },
  {
   "cell_type": "code",
   "execution_count": null,
   "metadata": {
    "id": "CBr9O24_JGPT"
   },
   "outputs": [],
   "source": [
    "#############\n",
    "# Your Code #\n",
    "#############\n"
   ]
  },
  {
   "cell_type": "code",
   "execution_count": null,
   "metadata": {
    "id": "JfLvdpqBJrs9"
   },
   "outputs": [],
   "source": [
    "#############\n",
    "# Your Code #\n",
    "#############\n"
   ]
  },
  {
   "cell_type": "markdown",
   "metadata": {
    "id": "AakFAYG8XlCh"
   },
   "source": [
    "\n",
    "\n",
    "---\n",
    "\n"
   ]
  },
  {
   "cell_type": "code",
   "execution_count": null,
   "metadata": {
    "id": "HEFalxVhJrvu"
   },
   "outputs": [],
   "source": [
    "performance_test = model.evaluate(test_x, test_y)\n",
    "\n",
    "print('Test Loss : {:.6f},  Test Accuracy : {:.3f}%'.format(performance_test[0], performance_test[1]*100))"
   ]
  },
  {
   "cell_type": "code",
   "execution_count": null,
   "metadata": {
    "id": "E3pexEleJryC"
   },
   "outputs": [],
   "source": [
    "if not isinstance(history, dict):\n",
    "    history = history.history\n",
    "\n",
    "plt.plot(history['accuracy'])\n",
    "plt.plot(history['val_accuracy'])\n",
    "plt.title('Accuracy : Training vs Validation')\n",
    "plt.ylabel('Accuracy')\n",
    "plt.xlabel('Epoch')\n",
    "plt.legend(['Training', 'Validation'], loc=0)\n",
    "plt.show()"
   ]
  },
  {
   "cell_type": "code",
   "execution_count": null,
   "metadata": {
    "id": "btFU0ZYtNkvf"
   },
   "outputs": [],
   "source": [
    "if not isinstance(history, dict):\n",
    "    history = history.history\n",
    "\n",
    "plt.plot(history['loss'])\n",
    "plt.plot(history['val_loss'])\n",
    "plt.title('Loss : Training vs Validation')\n",
    "plt.ylabel('Loss')\n",
    "plt.xlabel('Epoch')\n",
    "plt.legend(['Training', 'Validation'], loc=0)\n",
    "plt.show()"
   ]
  },
  {
   "cell_type": "code",
   "execution_count": null,
   "metadata": {
    "id": "qc3Ap5q_bNgN"
   },
   "outputs": [],
   "source": [
    "pred_train = model.predict(train_x)\n",
    "pred_test = model.predict(test_x)\n",
    "\n",
    "single_pred_train = pred_train.argmax(axis=1)\n",
    "single_pred_test = pred_test.argmax(axis=1)\n",
    "\n",
    "logi_train_accuracy = accuracy_score(train_y.argmax(axis=1), single_pred_train)\n",
    "logi_test_accuracy = accuracy_score(test_y.argmax(axis=1), single_pred_test)\n",
    "\n",
    "\n",
    "print('트레이닝 정확도 : {:.2f}%'.format(logi_train_accuracy*100))\n",
    "print('테스트 정확도 : {:.2f}%'.format(logi_test_accuracy*100))"
   ]
  },
  {
   "cell_type": "code",
   "execution_count": null,
   "metadata": {
    "id": "4D5LN9iNR3aW"
   },
   "outputs": [],
   "source": [
    "'''\n",
    "성능 확인을 위해\n",
    "Ctrl+Enter를 이용하여\n",
    "반복 실행 해보자!\n",
    "'''\n",
    "\n",
    "id = rd.randrange(0,10000)\n",
    "\n",
    "print('id = {}'.format(id))\n",
    "print('다음 그림은 {} 입니다.'.format(labels[test_y.argmax(axis=1)[id]] ))\n",
    "print('모델의 예측 : {}'.format(labels[single_pred_test[id]] ))\n",
    "\n",
    "prob = np.floor(pred_test[id]*100).tolist()\n",
    "prob_dict = {}\n",
    "\n",
    "for idx, prob in enumerate(prob) :\n",
    "    prob_dict[ labels[idx] ] = prob\n",
    "\n",
    "print('모델의 카테고리별 확률 : ')\n",
    "print(prob_dict)\n",
    "\n",
    "if test_y.argmax(axis=1)[id] == single_pred_test[id] :\n",
    "    print('정답입니다')\n",
    "else : \n",
    "    print('틀렸어요')\n",
    "    \n",
    "plt.imshow(test_x[id].reshape([32,32,-1]))\n",
    "plt.show()"
   ]
  },
  {
   "cell_type": "code",
   "execution_count": null,
   "metadata": {
    "id": "moXMYdwatMvp"
   },
   "outputs": [],
   "source": []
  }
 ],
 "metadata": {
  "accelerator": "GPU",
  "colab": {
   "collapsed_sections": [],
   "name": "2_4_ANN_more_exercise.ipynb",
   "provenance": []
  },
  "kernelspec": {
   "display_name": "Python 3",
   "language": "python",
   "name": "python3"
  },
  "language_info": {
   "codemirror_mode": {
    "name": "ipython",
    "version": 3
   },
   "file_extension": ".py",
   "mimetype": "text/x-python",
   "name": "python",
   "nbconvert_exporter": "python",
   "pygments_lexer": "ipython3",
   "version": "3.8.8"
  }
 },
 "nbformat": 4,
 "nbformat_minor": 1
}
