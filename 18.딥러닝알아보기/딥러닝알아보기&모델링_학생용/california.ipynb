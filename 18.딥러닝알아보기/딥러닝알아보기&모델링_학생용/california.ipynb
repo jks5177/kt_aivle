{
 "cells": [
  {
   "cell_type": "code",
   "execution_count": 1,
   "id": "1927b4d4",
   "metadata": {},
   "outputs": [],
   "source": [
    "from sklearn.datasets import fetch_california_housing"
   ]
  },
  {
   "cell_type": "code",
   "execution_count": 2,
   "id": "c40aef3c",
   "metadata": {},
   "outputs": [],
   "source": [
    "california = fetch_california_housing()"
   ]
  },
  {
   "cell_type": "code",
   "execution_count": 3,
   "id": "f3eaba4d",
   "metadata": {},
   "outputs": [],
   "source": [
    "x = california.data\n",
    "y = california.target"
   ]
  },
  {
   "cell_type": "code",
   "execution_count": 4,
   "id": "840ce641",
   "metadata": {
    "scrolled": true
   },
   "outputs": [
    {
     "data": {
      "text/plain": [
       "((20640, 8), (20640,))"
      ]
     },
     "execution_count": 4,
     "metadata": {},
     "output_type": "execute_result"
    }
   ],
   "source": [
    "x.shape, y.shape"
   ]
  },
  {
   "cell_type": "markdown",
   "id": "5ebd652d",
   "metadata": {},
   "source": [
    "## 분리 및 전처리 x"
   ]
  },
  {
   "cell_type": "code",
   "execution_count": 5,
   "id": "e53fcd24",
   "metadata": {},
   "outputs": [],
   "source": [
    "import tensorflow as tf\n",
    "from tensorflow import keras\n",
    "import numpy as np"
   ]
  },
  {
   "cell_type": "code",
   "execution_count": 9,
   "id": "adcedde6",
   "metadata": {},
   "outputs": [
    {
     "name": "stdout",
     "output_type": "stream",
     "text": [
      "Model: \"sequential\"\n",
      "_________________________________________________________________\n",
      " Layer (type)                Output Shape              Param #   \n",
      "=================================================================\n",
      " dense (Dense)               (None, 32)                288       \n",
      "                                                                 \n",
      " dense_1 (Dense)             (None, 32)                1056      \n",
      "                                                                 \n",
      " dense_2 (Dense)             (None, 1)                 33        \n",
      "                                                                 \n",
      "=================================================================\n",
      "Total params: 1,377\n",
      "Trainable params: 1,377\n",
      "Non-trainable params: 0\n",
      "_________________________________________________________________\n"
     ]
    }
   ],
   "source": [
    "# 모델 초기화\n",
    "keras.backend.clear_session()\n",
    "\n",
    "# 모델 생성\n",
    "model = keras.models.Sequential()\n",
    "\n",
    "# 레이어 추가\n",
    "model.add(keras.layers.Input(shape=(8,)))\n",
    "model.add(keras.layers.Dense(32, activation='relu'))\n",
    "model.add(keras.layers.Dense(32, activation='relu'))\n",
    "model.add(keras.layers.Dense(1))\n",
    "\n",
    "# 모델 컴파일\n",
    "model.compile(loss='mse', optimizer='adam')\n",
    "\n",
    "model.summary()"
   ]
  },
  {
   "cell_type": "code",
   "execution_count": 10,
   "id": "6eec11dd",
   "metadata": {},
   "outputs": [
    {
     "name": "stdout",
     "output_type": "stream",
     "text": [
      "Epoch 1/10\n",
      "645/645 [==============================] - 1s 2ms/step - loss: 250.6972\n",
      "Epoch 2/10\n",
      "645/645 [==============================] - 1s 2ms/step - loss: 1.7754\n",
      "Epoch 3/10\n",
      "645/645 [==============================] - 1s 2ms/step - loss: 1.4655\n",
      "Epoch 4/10\n",
      "645/645 [==============================] - 1s 2ms/step - loss: 1.4109\n",
      "Epoch 5/10\n",
      "645/645 [==============================] - 1s 2ms/step - loss: 1.1956\n",
      "Epoch 6/10\n",
      "645/645 [==============================] - 1s 2ms/step - loss: 2.3585\n",
      "Epoch 7/10\n",
      "645/645 [==============================] - 1s 2ms/step - loss: 2.8820\n",
      "Epoch 8/10\n",
      "645/645 [==============================] - 1s 2ms/step - loss: 29.4059\n",
      "Epoch 9/10\n",
      "645/645 [==============================] - 1s 2ms/step - loss: 0.9280\n",
      "Epoch 10/10\n",
      "645/645 [==============================] - 1s 2ms/step - loss: 0.7948\n"
     ]
    },
    {
     "data": {
      "text/plain": [
       "<keras.callbacks.History at 0x20352541b20>"
      ]
     },
     "execution_count": 10,
     "metadata": {},
     "output_type": "execute_result"
    }
   ],
   "source": [
    "# 모델 훈련\n",
    "model.fit(x, y, epochs=10)"
   ]
  },
  {
   "cell_type": "code",
   "execution_count": 11,
   "id": "2c9ac72e",
   "metadata": {},
   "outputs": [
    {
     "name": "stdout",
     "output_type": "stream",
     "text": [
      "[3.7815022 2.2508411 3.738875  3.0698328 2.436617 ]\n",
      "[4.526 3.585 3.521 3.413 3.422]\n"
     ]
    }
   ],
   "source": [
    "# 모델 예측\n",
    "y_pred = model.predict(x)\n",
    "print(y_pred[:5].reshape(-1))\n",
    "print(y[:5])"
   ]
  },
  {
   "cell_type": "markdown",
   "id": "17a30647",
   "metadata": {},
   "source": [
    "## train, test 분리 후 전처리"
   ]
  },
  {
   "cell_type": "code",
   "execution_count": 38,
   "id": "dee44750",
   "metadata": {},
   "outputs": [],
   "source": [
    "from sklearn.model_selection import train_test_split\n",
    "\n",
    "x_train, x_test, y_train, y_test = train_test_split(x, y, random_state=2022, test_size=0.2)"
   ]
  },
  {
   "cell_type": "code",
   "execution_count": 39,
   "id": "d3543c9f",
   "metadata": {},
   "outputs": [],
   "source": [
    "import tensorflow as tf\n",
    "from tensorflow import keras\n",
    "import numpy as np"
   ]
  },
  {
   "cell_type": "code",
   "execution_count": 40,
   "id": "633f7c57",
   "metadata": {},
   "outputs": [],
   "source": [
    "# # x : 스케일링\n",
    "# max_num = x_train.max()\n",
    "# min_num = x_train.min()\n",
    "\n",
    "# x_train = (x_train - min_num) / (max_num - min_num)\n",
    "# x_test = (x_test - min_num) / (max_num - min_num)\n",
    "\n",
    "# (x_train.min(), x_train.max()), (x_test.min(), x_test.max())"
   ]
  },
  {
   "cell_type": "code",
   "execution_count": 41,
   "id": "234e4414",
   "metadata": {},
   "outputs": [
    {
     "data": {
      "text/plain": [
       "((16512, 8), (16512,))"
      ]
     },
     "execution_count": 41,
     "metadata": {},
     "output_type": "execute_result"
    }
   ],
   "source": [
    "x_train.shape, y_train.shape"
   ]
  },
  {
   "cell_type": "code",
   "execution_count": 42,
   "id": "3dc91351",
   "metadata": {},
   "outputs": [
    {
     "name": "stdout",
     "output_type": "stream",
     "text": [
      "Model: \"model\"\n",
      "_________________________________________________________________\n",
      " Layer (type)                Output Shape              Param #   \n",
      "=================================================================\n",
      " input_1 (InputLayer)        [(None, 8)]               0         \n",
      "                                                                 \n",
      " dense (Dense)               (None, 32)                288       \n",
      "                                                                 \n",
      " dense_1 (Dense)             (None, 32)                1056      \n",
      "                                                                 \n",
      " dense_2 (Dense)             (None, 32)                1056      \n",
      "                                                                 \n",
      " dense_3 (Dense)             (None, 1)                 33        \n",
      "                                                                 \n",
      "=================================================================\n",
      "Total params: 2,433\n",
      "Trainable params: 2,433\n",
      "Non-trainable params: 0\n",
      "_________________________________________________________________\n"
     ]
    }
   ],
   "source": [
    "keras.backend.clear_session()\n",
    "\n",
    "input_layer = keras.layers.Input(shape=(8,))\n",
    "hiden_layer = keras.layers.Dense(32)(input_layer)\n",
    "hiden_layer = keras.layers.Dense(32)(hiden_layer)\n",
    "hiden_layer = keras.layers.Dense(32)(hiden_layer)\n",
    "output_layer = keras.layers.Dense(1)(hiden_layer)\n",
    "\n",
    "model = keras.models.Model(input_layer, output_layer)\n",
    "\n",
    "model.compile(loss=keras.losses.mse, optimizer=keras.optimizers.Adam(learning_rate=0.001))\n",
    "\n",
    "model.summary()"
   ]
  },
  {
   "cell_type": "code",
   "execution_count": 43,
   "id": "d99fd5b2",
   "metadata": {},
   "outputs": [
    {
     "name": "stdout",
     "output_type": "stream",
     "text": [
      "Epoch 1/50\n",
      "826/826 [==============================] - 2s 2ms/step - loss: 509.4885 - val_loss: 1.6927\n",
      "Epoch 2/50\n",
      "826/826 [==============================] - 1s 2ms/step - loss: 39.8299 - val_loss: 9.6992\n",
      "Epoch 3/50\n",
      "826/826 [==============================] - 1s 2ms/step - loss: 120.1347 - val_loss: 44.2716\n",
      "Epoch 4/50\n",
      "826/826 [==============================] - 2s 2ms/step - loss: 37.6558 - val_loss: 0.8026\n",
      "Epoch 5/50\n",
      "826/826 [==============================] - 2s 2ms/step - loss: 92.6419 - val_loss: 0.8674\n",
      "Epoch 6/50\n",
      "826/826 [==============================] - 2s 2ms/step - loss: 667.0056 - val_loss: 1.1543\n",
      "Epoch 7/50\n",
      "826/826 [==============================] - 2s 2ms/step - loss: 1.1187 - val_loss: 1.0614\n",
      "Epoch 8/50\n",
      "826/826 [==============================] - 2s 2ms/step - loss: 1.0921 - val_loss: 0.9257\n",
      "Epoch 9/50\n",
      "825/826 [============================>.] - ETA: 0s - loss: 1.0849Restoring model weights from the end of the best epoch: 4.\n",
      "826/826 [==============================] - 2s 2ms/step - loss: 1.0848 - val_loss: 0.8604\n",
      "Epoch 9: early stopping\n"
     ]
    }
   ],
   "source": [
    "es = keras.callbacks.EarlyStopping(monitor='val_loss', min_delta=0, patience=5, restore_best_weights=True, verbose=1)\n",
    "\n",
    "hist = model.fit(x_train, y_train, epochs=50, validation_split=0.2, callbacks=es, verbose=1, batch_size=16)"
   ]
  },
  {
   "cell_type": "code",
   "execution_count": 44,
   "id": "ab4a3680",
   "metadata": {},
   "outputs": [
    {
     "name": "stdout",
     "output_type": "stream",
     "text": [
      "[3.2760293 1.9354227 1.7453287 1.4282663 2.7116601]\n",
      "[4.526 3.585 3.521 3.413 3.422]\n"
     ]
    }
   ],
   "source": [
    "y_pred = model.predict(x_test)\n",
    "print(y_pred[:5].reshape(-1))\n",
    "print(y[:5])"
   ]
  },
  {
   "cell_type": "code",
   "execution_count": 45,
   "id": "4ba18dc4",
   "metadata": {},
   "outputs": [
    {
     "data": {
      "image/png": "[encoded data removed]",
      "text/plain": [
       "<Figure size 432x288 with 1 Axes>"
      ]
     },
     "metadata": {
      "needs_background": "light"
     },
     "output_type": "display_data"
    }
   ],
   "source": [
    "import matplotlib.pyplot as plt\n",
    "\n",
    "plt.plot(hist.history['loss'], label='loss')\n",
    "plt.plot(hist.history['val_loss'], label = 'val_loss')\n",
    "\n",
    "plt.legend()\n",
    "\n",
    "plt.show()"
   ]
  },
  {
   "cell_type": "code",
   "execution_count": null,
   "id": "b1447bf4",
   "metadata": {},
   "outputs": [],
   "source": []
  }
 ],
 "metadata": {
  "kernelspec": {
   "display_name": "Python 3",
   "language": "python",
   "name": "python3"
  },
  "language_info": {
   "codemirror_mode": {
    "name": "ipython",
    "version": 3
   },
   "file_extension": ".py",
   "mimetype": "text/x-python",
   "name": "python",
   "nbconvert_exporter": "python",
   "pygments_lexer": "ipython3",
   "version": "3.8.8"
  }
 },
 "nbformat": 4,
 "nbformat_minor": 5
}
