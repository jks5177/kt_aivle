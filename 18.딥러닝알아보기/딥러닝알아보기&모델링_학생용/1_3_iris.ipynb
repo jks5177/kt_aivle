{
 "cells": [
  {
   "cell_type": "markdown",
   "metadata": {
    "id": "P2n_mLirFD6s"
   },
   "source": [
    "# 멀티클래스 분류 연습 (over 2진분류)\n",
    "\n",
    "![iris_flower](https://media.istockphoto.com/photos/purple-iris-flowers-picture-id974833780?k=6&m=974833780&s=612x612&w=0&h=xANkJjTqlLuJUMLE0qNXjRUqXtr3b428xFm0IgZW8Kc=)"
   ]
  },
  {
   "cell_type": "code",
   "execution_count": 1,
   "metadata": {
    "id": "k-kIj84JQdd3"
   },
   "outputs": [],
   "source": [
    "from sklearn.datasets import load_iris"
   ]
  },
  {
   "cell_type": "code",
   "execution_count": 2,
   "metadata": {
    "id": "1F1kZLpEQof_"
   },
   "outputs": [],
   "source": [
    "iris = load_iris()"
   ]
  },
  {
   "cell_type": "code",
   "execution_count": 3,
   "metadata": {
    "id": "4uNPvbD_QyUh"
   },
   "outputs": [],
   "source": [
    "x = iris.data\n",
    "y = iris.target"
   ]
  },
  {
   "cell_type": "code",
   "execution_count": 4,
   "metadata": {
    "id": "6DfGrWUsQ3WC"
   },
   "outputs": [
    {
     "data": {
      "text/plain": [
       "((150, 4), (150,))"
      ]
     },
     "execution_count": 4,
     "metadata": {},
     "output_type": "execute_result"
    }
   ],
   "source": [
    "x.shape, y.shape"
   ]
  },
  {
   "cell_type": "code",
   "execution_count": 5,
   "metadata": {
    "id": "TNVycVIzQ4gl"
   },
   "outputs": [
    {
     "data": {
      "text/plain": [
       "array([0, 0, 0, 0, 0, 0, 0, 0, 0, 0, 0, 0, 0, 0, 0, 0, 0, 0, 0, 0, 0, 0,\n",
       "       0, 0, 0, 0, 0, 0, 0, 0, 0, 0, 0, 0, 0, 0, 0, 0, 0, 0, 0, 0, 0, 0,\n",
       "       0, 0, 0, 0, 0, 0, 1, 1, 1, 1, 1, 1, 1, 1, 1, 1, 1, 1, 1, 1, 1, 1,\n",
       "       1, 1, 1, 1, 1, 1, 1, 1, 1, 1, 1, 1, 1, 1, 1, 1, 1, 1, 1, 1, 1, 1,\n",
       "       1, 1, 1, 1, 1, 1, 1, 1, 1, 1, 1, 1, 2, 2, 2, 2, 2, 2, 2, 2, 2, 2,\n",
       "       2, 2, 2, 2, 2, 2, 2, 2, 2, 2, 2, 2, 2, 2, 2, 2, 2, 2, 2, 2, 2, 2,\n",
       "       2, 2, 2, 2, 2, 2, 2, 2, 2, 2, 2, 2, 2, 2, 2, 2, 2, 2])"
      ]
     },
     "execution_count": 5,
     "metadata": {},
     "output_type": "execute_result"
    }
   ],
   "source": [
    "y"
   ]
  },
  {
   "cell_type": "code",
   "execution_count": 6,
   "metadata": {
    "id": "98EdXISnGlOB"
   },
   "outputs": [
    {
     "data": {
      "text/plain": [
       "array(['setosa', 'versicolor', 'virginica'], dtype='<U10')"
      ]
     },
     "execution_count": 6,
     "metadata": {},
     "output_type": "execute_result"
    }
   ],
   "source": [
    "iris.target_names"
   ]
  },
  {
   "cell_type": "code",
   "execution_count": 7,
   "metadata": {
    "id": "14BEVhH1RLF9"
   },
   "outputs": [],
   "source": [
    "# One-Hot Encoding\n",
    "from tensorflow.keras.utils import to_categorical"
   ]
  },
  {
   "cell_type": "code",
   "execution_count": 8,
   "metadata": {
    "id": "8KsxiLIITAsY"
   },
   "outputs": [],
   "source": [
    "y = to_categorical(y, 3)"
   ]
  },
  {
   "cell_type": "code",
   "execution_count": 9,
   "metadata": {
    "id": "EnZVKiLRRuA8"
   },
   "outputs": [
    {
     "data": {
      "text/plain": [
       "((150, 4), (150, 3))"
      ]
     },
     "execution_count": 9,
     "metadata": {},
     "output_type": "execute_result"
    }
   ],
   "source": [
    "x.shape, y.shape"
   ]
  },
  {
   "cell_type": "markdown",
   "metadata": {
    "id": "MnwReDCpTTMP"
   },
   "source": [
    "# 1번. Sequential API style로 모델링 하세요\n",
    "\n",
    "    loss = 'categorical_crossentropy' 사용!"
   ]
  },
  {
   "cell_type": "code",
   "execution_count": 10,
   "metadata": {},
   "outputs": [],
   "source": [
    "import tensorflow as tf\n",
    "from tensorflow import keras\n",
    "\n",
    "import numpy as np"
   ]
  },
  {
   "cell_type": "code",
   "execution_count": 11,
   "metadata": {
    "id": "BS1dDAJITXPT"
   },
   "outputs": [
    {
     "name": "stdout",
     "output_type": "stream",
     "text": [
      "Model: \"sequential\"\n",
      "_________________________________________________________________\n",
      " Layer (type)                Output Shape              Param #   \n",
      "=================================================================\n",
      " dense (Dense)               (None, 3)                 15        \n",
      "                                                                 \n",
      "=================================================================\n",
      "Total params: 15\n",
      "Trainable params: 15\n",
      "Non-trainable params: 0\n",
      "_________________________________________________________________\n"
     ]
    }
   ],
   "source": [
    "# 1. 모델 초기화\n",
    "keras.backend.clear_session()\n",
    "\n",
    "# 2. 모델 생성\n",
    "model = keras.models.Sequential()\n",
    "\n",
    "# 3. 모델 추가\n",
    "model.add(keras.layers.Input(4,))\n",
    "model.add(keras.layers.Dense(3, activation='softmax'))\n",
    "\n",
    "# 4. 모델 컴파일\n",
    "model.compile(loss='categorical_crossentropy', metrics=['accuracy'], optimizer='adam')\n",
    "\n",
    "model.summary()"
   ]
  },
  {
   "cell_type": "code",
   "execution_count": 12,
   "metadata": {
    "id": "K-QZKTZr8HZb"
   },
   "outputs": [
    {
     "name": "stdout",
     "output_type": "stream",
     "text": [
      "Epoch 1/10\n",
      "5/5 [==============================] - 1s 2ms/step - loss: 3.0214 - accuracy: 0.3333\n",
      "Epoch 2/10\n",
      "5/5 [==============================] - 0s 2ms/step - loss: 2.9615 - accuracy: 0.3333\n",
      "Epoch 3/10\n",
      "5/5 [==============================] - 0s 3ms/step - loss: 2.9040 - accuracy: 0.3333\n",
      "Epoch 4/10\n",
      "5/5 [==============================] - 0s 2ms/step - loss: 2.8478 - accuracy: 0.3333\n",
      "Epoch 5/10\n",
      "5/5 [==============================] - 0s 2ms/step - loss: 2.7913 - accuracy: 0.3333\n",
      "Epoch 6/10\n",
      "5/5 [==============================] - 0s 3ms/step - loss: 2.7361 - accuracy: 0.3333\n",
      "Epoch 7/10\n",
      "5/5 [==============================] - 0s 2ms/step - loss: 2.6819 - accuracy: 0.3333\n",
      "Epoch 8/10\n",
      "5/5 [==============================] - 0s 3ms/step - loss: 2.6302 - accuracy: 0.3333\n",
      "Epoch 9/10\n",
      "5/5 [==============================] - 0s 2ms/step - loss: 2.5773 - accuracy: 0.3333\n",
      "Epoch 10/10\n",
      "5/5 [==============================] - 0s 3ms/step - loss: 2.5294 - accuracy: 0.3333\n"
     ]
    },
    {
     "data": {
      "text/plain": [
       "<keras.callbacks.History at 0x1f67390d9a0>"
      ]
     },
     "execution_count": 12,
     "metadata": {},
     "output_type": "execute_result"
    }
   ],
   "source": [
    "# 5. 모델 훈련\n",
    "model.fit(x,y, epochs=10)"
   ]
  },
  {
   "cell_type": "code",
   "execution_count": 13,
   "metadata": {},
   "outputs": [
    {
     "data": {
      "text/plain": [
       "array([[0.00925202, 0.8540432 , 0.13670468],\n",
       "       [0.01398309, 0.79857403, 0.1874429 ],\n",
       "       [0.01324802, 0.8295379 , 0.15721403],\n",
       "       [0.01650594, 0.76441723, 0.21907683],\n",
       "       [0.00924625, 0.8573047 , 0.13344915]], dtype=float32)"
      ]
     },
     "execution_count": 13,
     "metadata": {},
     "output_type": "execute_result"
    }
   ],
   "source": [
    "y_pred = model.predict(x)\n",
    "# y_pred = y_pred.argmax(axis=1)\n",
    "y_pred[:5]"
   ]
  },
  {
   "cell_type": "code",
   "execution_count": 14,
   "metadata": {},
   "outputs": [
    {
     "data": {
      "text/plain": [
       "array([[1., 0., 0.],\n",
       "       [1., 0., 0.],\n",
       "       [1., 0., 0.],\n",
       "       [1., 0., 0.],\n",
       "       [1., 0., 0.]], dtype=float32)"
      ]
     },
     "execution_count": 14,
     "metadata": {},
     "output_type": "execute_result"
    }
   ],
   "source": [
    "y[:5]"
   ]
  },
  {
   "cell_type": "markdown",
   "metadata": {
    "id": "-20qo3crbLy8"
   },
   "source": [
    "# 2번. Functional API style로 모델링 하세요"
   ]
  },
  {
   "cell_type": "code",
   "execution_count": 15,
   "metadata": {
    "id": "5aVZkBukdQ8u"
   },
   "outputs": [
    {
     "data": {
      "text/plain": [
       "((150, 4), (150, 3))"
      ]
     },
     "execution_count": 15,
     "metadata": {},
     "output_type": "execute_result"
    }
   ],
   "source": [
    "x.shape, y.shape"
   ]
  },
  {
   "cell_type": "code",
   "execution_count": 16,
   "metadata": {
    "id": "YaAA7ytbbOlQ"
   },
   "outputs": [],
   "source": [
    "# 1. 모델 초기화\n",
    "keras.backend.clear_session()\n",
    "\n",
    "# 2. 레이어 생성\n",
    "input_layer = keras.layers.Input(shape=(4,))\n",
    "output_layer = keras.layers.Dense(3, activation='softmax')(input_layer)\n",
    "\n",
    "# 3. 모델 생성\n",
    "model = keras.models.Model(input_layer, output_layer)\n",
    "\n",
    "# 4. 컴파일\n",
    "model.compile(loss=keras.losses.categorical_crossentropy, metrics=['accuracy'], optimizer='adam')"
   ]
  },
  {
   "cell_type": "code",
   "execution_count": 20,
   "metadata": {},
   "outputs": [
    {
     "name": "stdout",
     "output_type": "stream",
     "text": [
      "Model: \"model\"\n",
      "_________________________________________________________________\n",
      " Layer (type)                Output Shape              Param #   \n",
      "=================================================================\n",
      " input_1 (InputLayer)        [(None, 4)]               0         \n",
      "                                                                 \n",
      " dense (Dense)               (None, 3)                 15        \n",
      "                                                                 \n",
      "=================================================================\n",
      "Total params: 15\n",
      "Trainable params: 15\n",
      "Non-trainable params: 0\n",
      "_________________________________________________________________\n"
     ]
    }
   ],
   "source": [
    "model.summary()"
   ]
  },
  {
   "cell_type": "code",
   "execution_count": 17,
   "metadata": {
    "id": "NNl2wE-3eJ3u"
   },
   "outputs": [
    {
     "name": "stdout",
     "output_type": "stream",
     "text": [
      "Epoch 1/10\n",
      "5/5 [==============================] - 0s 2ms/step - loss: 8.5885 - accuracy: 0.3333\n",
      "Epoch 2/10\n",
      "5/5 [==============================] - 0s 3ms/step - loss: 8.4780 - accuracy: 0.3333\n",
      "Epoch 3/10\n",
      "5/5 [==============================] - 0s 3ms/step - loss: 8.3703 - accuracy: 0.3333\n",
      "Epoch 4/10\n",
      "5/5 [==============================] - 0s 2ms/step - loss: 8.2587 - accuracy: 0.3333\n",
      "Epoch 5/10\n",
      "5/5 [==============================] - 0s 3ms/step - loss: 8.1506 - accuracy: 0.3333\n",
      "Epoch 6/10\n",
      "5/5 [==============================] - 0s 2ms/step - loss: 8.0433 - accuracy: 0.3333\n",
      "Epoch 7/10\n",
      "5/5 [==============================] - 0s 3ms/step - loss: 7.9303 - accuracy: 0.3333\n",
      "Epoch 8/10\n",
      "5/5 [==============================] - 0s 2ms/step - loss: 7.8188 - accuracy: 0.3333\n",
      "Epoch 9/10\n",
      "5/5 [==============================] - 0s 3ms/step - loss: 7.7133 - accuracy: 0.3333\n",
      "Epoch 10/10\n",
      "5/5 [==============================] - 0s 2ms/step - loss: 7.6028 - accuracy: 0.3333\n"
     ]
    },
    {
     "data": {
      "text/plain": [
       "<keras.callbacks.History at 0x1f6778711f0>"
      ]
     },
     "execution_count": 17,
     "metadata": {},
     "output_type": "execute_result"
    }
   ],
   "source": [
    "# 5. 모델 훈련\n",
    "model.fit(x, y, epochs=10)"
   ]
  },
  {
   "cell_type": "code",
   "execution_count": 19,
   "metadata": {},
   "outputs": [
    {
     "name": "stdout",
     "output_type": "stream",
     "text": [
      "[[0.99560213 0.00133205 0.00306589]\n",
      " [0.9948053  0.00223415 0.00296057]\n",
      " [0.9931271  0.00223617 0.00463678]\n",
      " [0.99323684 0.00270931 0.00405386]\n",
      " [0.99500316 0.00134607 0.00365082]]\n",
      "[[1. 0. 0.]\n",
      " [1. 0. 0.]\n",
      " [1. 0. 0.]\n",
      " [1. 0. 0.]\n",
      " [1. 0. 0.]]\n"
     ]
    }
   ],
   "source": [
    "# 6. 모델 평가\n",
    "y_pred = model.predict(x)\n",
    "print(y_pred[:5])\n",
    "print(y[:5])"
   ]
  },
  {
   "cell_type": "code",
   "execution_count": null,
   "metadata": {},
   "outputs": [],
   "source": []
  }
 ],
 "metadata": {
  "colab": {
   "collapsed_sections": [],
   "name": "1_3_iris.ipynb",
   "provenance": []
  },
  "kernelspec": {
   "display_name": "Python 3",
   "language": "python",
   "name": "python3"
  },
  "language_info": {
   "codemirror_mode": {
    "name": "ipython",
    "version": 3
   },
   "file_extension": ".py",
   "mimetype": "text/x-python",
   "name": "python",
   "nbconvert_exporter": "python",
   "pygments_lexer": "ipython3",
   "version": "3.8.8"
  }
 },
 "nbformat": 4,
 "nbformat_minor": 1
}
