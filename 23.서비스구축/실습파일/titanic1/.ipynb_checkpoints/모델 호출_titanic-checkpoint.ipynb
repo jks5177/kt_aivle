{
 "cells": [
  {
   "cell_type": "markdown",
   "id": "0fb8b4da-c92f-4328-9b49-deba08fa3d41",
   "metadata": {},
   "source": [
    "# 클라이언트 API호출"
   ]
  },
  {
   "cell_type": "code",
   "execution_count": null,
   "id": "83afec4d-b384-432e-b7b8-1ab0e9637b67",
   "metadata": {},
   "outputs": [],
   "source": [
    "import pandas as pd\n",
    "import numpy as np\n",
    "import requests\n",
    "import json"
   ]
  },
  {
   "cell_type": "markdown",
   "id": "5e96a9d1-c8d8-4a03-803e-a841796a695e",
   "metadata": {},
   "source": [
    "### 1. 단일 값 호출"
   ]
  },
  {
   "cell_type": "code",
   "execution_count": null,
   "id": "51d0176a-1a09-4cf3-8dc4-8fb1cc96ad4b",
   "metadata": {},
   "outputs": [],
   "source": [
    "import requests\n",
    "\n",
    "input = {'Pclass': 1,\n",
    " 'Sex': 'male',\n",
    " 'Age': 22.0,\n",
    " 'SibSp': 0,\n",
    " 'Parch': 0,\n",
    " 'Fare':  71.89,\n",
    " 'Embarked': 'Q'}\n",
    "response = requests.post('http://127.0.0.1:8080/predict/', data = input)\n",
    "result = response.json() # 결과를 json 형태로 받아와 저장하지만, python에서는 딕셔너리로 저장됨.\n",
    "result['pred']"
   ]
  },
  {
   "cell_type": "markdown",
   "id": "b0907dea-4134-4727-9aaa-dd93f07974b6",
   "metadata": {},
   "source": [
    "## 2. 여러 값 호출"
   ]
  },
  {
   "cell_type": "code",
   "execution_count": null,
   "id": "dbe9a5c7-b90c-4839-9b86-b7d165a0bed2",
   "metadata": {
    "tags": []
   },
   "outputs": [],
   "source": [
    "input = {'Pclass': [1,2],\n",
    " 'Sex': ['male','female'],\n",
    " 'Age': [22.0, 34],\n",
    " 'SibSp': [0, 2],\n",
    " 'Parch': [0, 2],\n",
    " 'Fare':  [71.89, 31],\n",
    " 'Embarked': ['Q','S']}\n",
    "response = requests.post('http://127.0.0.1:8080/predict/', data = input)\n",
    "result = response.json() # 결과를 json 형태로 받아와 저장하지만, python에서는 딕셔너리로 저장됨.\n",
    "result['pred']"
   ]
  },
  {
   "cell_type": "markdown",
   "id": "2dce1777-4979-4173-a2b8-b607603aae61",
   "metadata": {
    "tags": []
   },
   "source": [
    "## 3. 데이터셋(배치)으로 전달하기"
   ]
  },
  {
   "cell_type": "markdown",
   "id": "00eb14a9-8932-4988-a479-69d9da4e1a06",
   "metadata": {},
   "source": [
    "* 데이터프레임으로 부터 정보 전달하기1"
   ]
  },
  {
   "cell_type": "code",
   "execution_count": null,
   "id": "c4acbf9a-aa5f-4ebd-b114-23a6b5f7e1f2",
   "metadata": {
    "tags": []
   },
   "outputs": [],
   "source": [
    "use_cols = ['Survived', 'Pclass', 'Sex', 'Age', 'SibSp' ,'Parch', 'Fare', 'Embarked']\n",
    "data = pd.read_csv('data/new_data.csv', usecols = use_cols)\n",
    "target = 'Survived'\n",
    "x = data.drop(target, axis = 1)\n",
    "y = data.loc[:, target]"
   ]
  },
  {
   "cell_type": "code",
   "execution_count": null,
   "id": "be226b2f-aca6-4aec-a743-84e212194312",
   "metadata": {},
   "outputs": [],
   "source": [
    "temp = x.sample(3)"
   ]
  },
  {
   "cell_type": "code",
   "execution_count": null,
   "id": "f3a46aca-0659-4f20-9247-f173d20f660c",
   "metadata": {},
   "outputs": [],
   "source": [
    "input = temp.to_json(orient = 'columns')\n",
    "input = json.loads(input)\n",
    "input"
   ]
  },
  {
   "cell_type": "code",
   "execution_count": null,
   "id": "4f3f0a45-0b6c-45ae-8723-1fdd69022dc6",
   "metadata": {},
   "outputs": [],
   "source": [
    "input = { key : list(temp[key]) for key in list(temp) }\n",
    "input"
   ]
  },
  {
   "cell_type": "code",
   "execution_count": null,
   "id": "258049fc-03f2-4aa5-b13b-36aea86133f1",
   "metadata": {
    "tags": []
   },
   "outputs": [],
   "source": [
    "response = requests.post('http://127.0.0.1:8080/predict/', data = input)\n",
    "result = response.json() \n",
    "result['pred']"
   ]
  },
  {
   "cell_type": "markdown",
   "id": "e7e3d6b1-983a-49c0-9479-2ce3c103a48c",
   "metadata": {},
   "source": [
    "* 데이터프레임으로 부터 정보전달하고, 예측결과 합치기"
   ]
  },
  {
   "cell_type": "code",
   "execution_count": null,
   "id": "37d65d7a-91ea-48e1-85b0-a95fafa27646",
   "metadata": {},
   "outputs": [],
   "source": [
    "# request\n",
    "input = { key : list(x[key]) for key in list(x) }\n",
    "response = requests.post('http://127.0.0.1:8080/predict/', data = input)\n",
    "result = response.json() "
   ]
  },
  {
   "cell_type": "code",
   "execution_count": null,
   "id": "79245f2c-f2f0-4d16-b696-7df1bbab37d1",
   "metadata": {},
   "outputs": [],
   "source": [
    "# 결과 합치기\n",
    "x['y'] = y\n",
    "x['y_pred'] = result['pred']\n",
    "x"
   ]
  },
  {
   "cell_type": "code",
   "execution_count": null,
   "id": "294a4bdd-6d69-4c96-a2e1-993e7e46524c",
   "metadata": {},
   "outputs": [],
   "source": []
  }
 ],
 "metadata": {
  "kernelspec": {
   "display_name": "Python 3 (ipykernel)",
   "language": "python",
   "name": "python3"
  },
  "language_info": {
   "codemirror_mode": {
    "name": "ipython",
    "version": 3
   },
   "file_extension": ".py",
   "mimetype": "text/x-python",
   "name": "python",
   "nbconvert_exporter": "python",
   "pygments_lexer": "ipython3",
   "version": "3.7.11"
  }
 },
 "nbformat": 4,
 "nbformat_minor": 5
}
