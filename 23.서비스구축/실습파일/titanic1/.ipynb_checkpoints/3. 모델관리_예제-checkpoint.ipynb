{
 "cells": [
  {
   "cell_type": "markdown",
   "id": "wo-iPN8Y1V5r",
   "metadata": {
    "id": "wo-iPN8Y1V5r"
   },
   "source": [
    "# ML Pipeline\n",
    "\n",
    "* 이제 여러분은 코드를 작성할 때, 두 가지를 고려해야 합니다.\n",
    "    * 재사용 하려면 어떻게 작성해야 할까?\n",
    "    * 물 흐르듯이 pipeline을 구성하려면 어떻게 작성해야 할까?"
   ]
  },
  {
   "cell_type": "markdown",
   "id": "gvFaKcmP1cwc",
   "metadata": {
    "id": "gvFaKcmP1cwc"
   },
   "source": [
    "## 0.환경준비 "
   ]
  },
  {
   "cell_type": "markdown",
   "id": "zWYL7Ojt1i_I",
   "metadata": {
    "id": "zWYL7Ojt1i_I"
   },
   "source": [
    "### 1) 라이브러리 "
   ]
  },
  {
   "cell_type": "code",
   "execution_count": 1,
   "id": "0d2934eb-098d-4480-8818-9147e3e8eb13",
   "metadata": {
    "id": "0d2934eb-098d-4480-8818-9147e3e8eb13"
   },
   "outputs": [],
   "source": [
    "import pandas as pd\n",
    "import numpy as np\n",
    "\n",
    "from sklearn.model_selection import train_test_split\n",
    "from sklearn.impute import SimpleImputer, KNNImputer\n",
    "from sklearn.preprocessing import MinMaxScaler\n",
    "\n",
    "from sklearn.svm import SVC\n",
    "from sklearn.metrics import classification_report"
   ]
  },
  {
   "cell_type": "markdown",
   "id": "kxg4SHQ91lMZ",
   "metadata": {
    "id": "kxg4SHQ91lMZ"
   },
   "source": [
    "### 2) 데이터 불러오기"
   ]
  },
  {
   "cell_type": "code",
   "execution_count": 2,
   "id": "29715899-12f6-440a-81b0-a3bb48996b30",
   "metadata": {
    "id": "29715899-12f6-440a-81b0-a3bb48996b30"
   },
   "outputs": [
    {
     "data": {
      "text/html": [
       "<div>\n",
       "<style scoped>\n",
       "    .dataframe tbody tr th:only-of-type {\n",
       "        vertical-align: middle;\n",
       "    }\n",
       "\n",
       "    .dataframe tbody tr th {\n",
       "        vertical-align: top;\n",
       "    }\n",
       "\n",
       "    .dataframe thead th {\n",
       "        text-align: right;\n",
       "    }\n",
       "</style>\n",
       "<table border=\"1\" class=\"dataframe\">\n",
       "  <thead>\n",
       "    <tr style=\"text-align: right;\">\n",
       "      <th></th>\n",
       "      <th>Survived</th>\n",
       "      <th>Pclass</th>\n",
       "      <th>Sex</th>\n",
       "      <th>Age</th>\n",
       "      <th>SibSp</th>\n",
       "      <th>Parch</th>\n",
       "      <th>Fare</th>\n",
       "      <th>Embarked</th>\n",
       "    </tr>\n",
       "  </thead>\n",
       "  <tbody>\n",
       "    <tr>\n",
       "      <th>0</th>\n",
       "      <td>0</td>\n",
       "      <td>3</td>\n",
       "      <td>male</td>\n",
       "      <td>22.0</td>\n",
       "      <td>1</td>\n",
       "      <td>0</td>\n",
       "      <td>7.2500</td>\n",
       "      <td>S</td>\n",
       "    </tr>\n",
       "    <tr>\n",
       "      <th>1</th>\n",
       "      <td>1</td>\n",
       "      <td>1</td>\n",
       "      <td>female</td>\n",
       "      <td>38.0</td>\n",
       "      <td>1</td>\n",
       "      <td>0</td>\n",
       "      <td>71.2833</td>\n",
       "      <td>C</td>\n",
       "    </tr>\n",
       "    <tr>\n",
       "      <th>2</th>\n",
       "      <td>1</td>\n",
       "      <td>3</td>\n",
       "      <td>female</td>\n",
       "      <td>26.0</td>\n",
       "      <td>0</td>\n",
       "      <td>0</td>\n",
       "      <td>7.9250</td>\n",
       "      <td>S</td>\n",
       "    </tr>\n",
       "    <tr>\n",
       "      <th>3</th>\n",
       "      <td>1</td>\n",
       "      <td>1</td>\n",
       "      <td>female</td>\n",
       "      <td>35.0</td>\n",
       "      <td>1</td>\n",
       "      <td>0</td>\n",
       "      <td>53.1000</td>\n",
       "      <td>S</td>\n",
       "    </tr>\n",
       "    <tr>\n",
       "      <th>4</th>\n",
       "      <td>0</td>\n",
       "      <td>3</td>\n",
       "      <td>male</td>\n",
       "      <td>35.0</td>\n",
       "      <td>0</td>\n",
       "      <td>0</td>\n",
       "      <td>8.0500</td>\n",
       "      <td>S</td>\n",
       "    </tr>\n",
       "  </tbody>\n",
       "</table>\n",
       "</div>"
      ],
      "text/plain": [
       "   Survived  Pclass     Sex   Age  SibSp  Parch     Fare Embarked\n",
       "0         0       3    male  22.0      1      0   7.2500        S\n",
       "1         1       1  female  38.0      1      0  71.2833        C\n",
       "2         1       3  female  26.0      0      0   7.9250        S\n",
       "3         1       1  female  35.0      1      0  53.1000        S\n",
       "4         0       3    male  35.0      0      0   8.0500        S"
      ]
     },
     "execution_count": 2,
     "metadata": {},
     "output_type": "execute_result"
    }
   ],
   "source": [
    "use_cols = ['Survived', 'Pclass', 'Sex', 'Age', 'SibSp' ,'Parch', 'Fare', 'Embarked']\n",
    "data = pd.read_csv('data/titanic.csv', usecols = use_cols)\n",
    "data.head()"
   ]
  },
  {
   "cell_type": "markdown",
   "id": "ebk_wcdx1zkK",
   "metadata": {
    "id": "ebk_wcdx1zkK"
   },
   "source": [
    "## 2.데이터 전처리"
   ]
  },
  {
   "cell_type": "markdown",
   "id": "XDfKLZPE4dvx",
   "metadata": {
    "id": "XDfKLZPE4dvx"
   },
   "source": [
    "### 1) 불필요한 데이터 처리\n",
    "처음부터 꼭 필요한 칼럼만 지정하여 불러오는 것이 좋습니다."
   ]
  },
  {
   "cell_type": "markdown",
   "id": "3Fq2110K5jzZ",
   "metadata": {
    "id": "3Fq2110K5jzZ"
   },
   "source": [
    "### 2) 데이터 분할"
   ]
  },
  {
   "cell_type": "markdown",
   "id": "PtSEkpMXj7Gr",
   "metadata": {
    "id": "PtSEkpMXj7Gr"
   },
   "source": [
    "#### x, y 분할"
   ]
  },
  {
   "cell_type": "code",
   "execution_count": 3,
   "id": "2bc62c05-b3ca-4e7f-a6b5-61d2efd4d309",
   "metadata": {
    "id": "2bc62c05-b3ca-4e7f-a6b5-61d2efd4d309",
    "tags": []
   },
   "outputs": [],
   "source": [
    "target = 'Survived'\n",
    "x0 = data.drop(target, axis = 1)\n",
    "y0 = data.loc[:, target]"
   ]
  },
  {
   "cell_type": "markdown",
   "id": "gx3dbA4B5rYs",
   "metadata": {
    "id": "gx3dbA4B5rYs"
   },
   "source": [
    "#### test 분할\n",
    "\n",
    "여기서는 조금만 떼어 냅시다."
   ]
  },
  {
   "cell_type": "code",
   "execution_count": 4,
   "id": "3b9bbb95-fd1d-424a-9f38-ddfdafbd729b",
   "metadata": {
    "id": "3b9bbb95-fd1d-424a-9f38-ddfdafbd729b"
   },
   "outputs": [],
   "source": [
    "x, x_test, y, y_test = train_test_split(x0, y0, test_size = 5, random_state = 2022)"
   ]
  },
  {
   "cell_type": "code",
   "execution_count": 5,
   "id": "559c2675-265d-4944-9a8d-cd080bd02474",
   "metadata": {
    "id": "559c2675-265d-4944-9a8d-cd080bd02474"
   },
   "outputs": [
    {
     "data": {
      "text/html": [
       "<div>\n",
       "<style scoped>\n",
       "    .dataframe tbody tr th:only-of-type {\n",
       "        vertical-align: middle;\n",
       "    }\n",
       "\n",
       "    .dataframe tbody tr th {\n",
       "        vertical-align: top;\n",
       "    }\n",
       "\n",
       "    .dataframe thead th {\n",
       "        text-align: right;\n",
       "    }\n",
       "</style>\n",
       "<table border=\"1\" class=\"dataframe\">\n",
       "  <thead>\n",
       "    <tr style=\"text-align: right;\">\n",
       "      <th></th>\n",
       "      <th>Pclass</th>\n",
       "      <th>Sex</th>\n",
       "      <th>Age</th>\n",
       "      <th>SibSp</th>\n",
       "      <th>Parch</th>\n",
       "      <th>Fare</th>\n",
       "      <th>Embarked</th>\n",
       "    </tr>\n",
       "  </thead>\n",
       "  <tbody>\n",
       "    <tr>\n",
       "      <th>106</th>\n",
       "      <td>3</td>\n",
       "      <td>female</td>\n",
       "      <td>21.0</td>\n",
       "      <td>0</td>\n",
       "      <td>0</td>\n",
       "      <td>7.6500</td>\n",
       "      <td>S</td>\n",
       "    </tr>\n",
       "    <tr>\n",
       "      <th>449</th>\n",
       "      <td>1</td>\n",
       "      <td>male</td>\n",
       "      <td>52.0</td>\n",
       "      <td>0</td>\n",
       "      <td>0</td>\n",
       "      <td>30.5000</td>\n",
       "      <td>S</td>\n",
       "    </tr>\n",
       "    <tr>\n",
       "      <th>785</th>\n",
       "      <td>3</td>\n",
       "      <td>male</td>\n",
       "      <td>25.0</td>\n",
       "      <td>0</td>\n",
       "      <td>0</td>\n",
       "      <td>7.2500</td>\n",
       "      <td>S</td>\n",
       "    </tr>\n",
       "    <tr>\n",
       "      <th>268</th>\n",
       "      <td>1</td>\n",
       "      <td>female</td>\n",
       "      <td>58.0</td>\n",
       "      <td>0</td>\n",
       "      <td>1</td>\n",
       "      <td>153.4625</td>\n",
       "      <td>S</td>\n",
       "    </tr>\n",
       "    <tr>\n",
       "      <th>608</th>\n",
       "      <td>2</td>\n",
       "      <td>female</td>\n",
       "      <td>22.0</td>\n",
       "      <td>1</td>\n",
       "      <td>2</td>\n",
       "      <td>41.5792</td>\n",
       "      <td>C</td>\n",
       "    </tr>\n",
       "  </tbody>\n",
       "</table>\n",
       "</div>"
      ],
      "text/plain": [
       "     Pclass     Sex   Age  SibSp  Parch      Fare Embarked\n",
       "106       3  female  21.0      0      0    7.6500        S\n",
       "449       1    male  52.0      0      0   30.5000        S\n",
       "785       3    male  25.0      0      0    7.2500        S\n",
       "268       1  female  58.0      0      1  153.4625        S\n",
       "608       2  female  22.0      1      2   41.5792        C"
      ]
     },
     "execution_count": 5,
     "metadata": {},
     "output_type": "execute_result"
    }
   ],
   "source": [
    "x_test"
   ]
  },
  {
   "cell_type": "markdown",
   "id": "SJ72dPUwbKO3",
   "metadata": {
    "id": "SJ72dPUwbKO3"
   },
   "source": [
    "#### train, val 분할"
   ]
  },
  {
   "cell_type": "code",
   "execution_count": 6,
   "id": "5b45c3c2-bc9d-4c5e-87b0-fd182d76fefd",
   "metadata": {
    "id": "5b45c3c2-bc9d-4c5e-87b0-fd182d76fefd"
   },
   "outputs": [],
   "source": [
    "x_train, x_val, y_train, y_val = train_test_split(x, y, test_size = .3, random_state = 2022)"
   ]
  },
  {
   "cell_type": "markdown",
   "id": "WS3xPbXr7ALa",
   "metadata": {
    "id": "WS3xPbXr7ALa"
   },
   "source": [
    "### 3) Feature Engineering\n",
    "* family 변수를 추가하려고 합니다. 가족과 관련된 변수가 SibSp, Parch 입니다. 이 둘을 더하고 자기자신까지 포함시켜서 가족 수 변수를 만듭시다.\n",
    "* 그리고, SibSp, Parch 는 제거합니다."
   ]
  },
  {
   "cell_type": "code",
   "execution_count": 7,
   "id": "kjH_JllN7Tyh",
   "metadata": {
    "id": "kjH_JllN7Tyh"
   },
   "outputs": [
    {
     "data": {
      "text/html": [
       "<div>\n",
       "<style scoped>\n",
       "    .dataframe tbody tr th:only-of-type {\n",
       "        vertical-align: middle;\n",
       "    }\n",
       "\n",
       "    .dataframe tbody tr th {\n",
       "        vertical-align: top;\n",
       "    }\n",
       "\n",
       "    .dataframe thead th {\n",
       "        text-align: right;\n",
       "    }\n",
       "</style>\n",
       "<table border=\"1\" class=\"dataframe\">\n",
       "  <thead>\n",
       "    <tr style=\"text-align: right;\">\n",
       "      <th></th>\n",
       "      <th>Pclass</th>\n",
       "      <th>Sex</th>\n",
       "      <th>Age</th>\n",
       "      <th>Fare</th>\n",
       "      <th>Embarked</th>\n",
       "      <th>Family</th>\n",
       "    </tr>\n",
       "  </thead>\n",
       "  <tbody>\n",
       "    <tr>\n",
       "      <th>767</th>\n",
       "      <td>3</td>\n",
       "      <td>female</td>\n",
       "      <td>30.5</td>\n",
       "      <td>7.7500</td>\n",
       "      <td>Q</td>\n",
       "      <td>1</td>\n",
       "    </tr>\n",
       "    <tr>\n",
       "      <th>122</th>\n",
       "      <td>2</td>\n",
       "      <td>male</td>\n",
       "      <td>32.5</td>\n",
       "      <td>30.0708</td>\n",
       "      <td>C</td>\n",
       "      <td>2</td>\n",
       "    </tr>\n",
       "    <tr>\n",
       "      <th>89</th>\n",
       "      <td>3</td>\n",
       "      <td>male</td>\n",
       "      <td>24.0</td>\n",
       "      <td>8.0500</td>\n",
       "      <td>S</td>\n",
       "      <td>1</td>\n",
       "    </tr>\n",
       "    <tr>\n",
       "      <th>519</th>\n",
       "      <td>3</td>\n",
       "      <td>male</td>\n",
       "      <td>32.0</td>\n",
       "      <td>7.8958</td>\n",
       "      <td>S</td>\n",
       "      <td>1</td>\n",
       "    </tr>\n",
       "    <tr>\n",
       "      <th>444</th>\n",
       "      <td>3</td>\n",
       "      <td>male</td>\n",
       "      <td>NaN</td>\n",
       "      <td>8.1125</td>\n",
       "      <td>S</td>\n",
       "      <td>1</td>\n",
       "    </tr>\n",
       "  </tbody>\n",
       "</table>\n",
       "</div>"
      ],
      "text/plain": [
       "     Pclass     Sex   Age     Fare Embarked  Family\n",
       "767       3  female  30.5   7.7500        Q       1\n",
       "122       2    male  32.5  30.0708        C       2\n",
       "89        3    male  24.0   8.0500        S       1\n",
       "519       3    male  32.0   7.8958        S       1\n",
       "444       3    male   NaN   8.1125        S       1"
      ]
     },
     "execution_count": 7,
     "metadata": {},
     "output_type": "execute_result"
    }
   ],
   "source": [
    "x_train['Family'] = x_train['SibSp'].astype('int') + x_train['Parch'].astype('int') + 1\n",
    "x_train.drop(['SibSp', 'Parch'], axis = 1, inplace = True)\n",
    "x_train.head()"
   ]
  },
  {
   "cell_type": "markdown",
   "id": "miMnMoZO9HOQ",
   "metadata": {
    "id": "miMnMoZO9HOQ"
   },
   "source": [
    "* 재사용을 위해서는 함수로 만드는 것이 좋습니다."
   ]
  },
  {
   "cell_type": "code",
   "execution_count": 8,
   "id": "QT_Bc5_x9KkT",
   "metadata": {
    "id": "QT_Bc5_x9KkT"
   },
   "outputs": [],
   "source": [
    "def titanic_fe(df):\n",
    "    temp = df.copy()\n",
    "    # Family 변수 추가\n",
    "    temp['Family'] = temp['SibSp'] + temp['Parch'] + 1\n",
    "    temp.drop(['SibSp', 'Parch'], axis = 1, inplace = True)\n",
    "\n",
    "    # OOO 추가...\n",
    "    return temp"
   ]
  },
  {
   "cell_type": "markdown",
   "id": "eoAIgkWOkUov",
   "metadata": {
    "id": "eoAIgkWOkUov"
   },
   "source": [
    "#### validation set에 적용하기"
   ]
  },
  {
   "cell_type": "code",
   "execution_count": 9,
   "id": "jQ5Ufb3f9GPM",
   "metadata": {
    "id": "jQ5Ufb3f9GPM"
   },
   "outputs": [
    {
     "data": {
      "text/html": [
       "<div>\n",
       "<style scoped>\n",
       "    .dataframe tbody tr th:only-of-type {\n",
       "        vertical-align: middle;\n",
       "    }\n",
       "\n",
       "    .dataframe tbody tr th {\n",
       "        vertical-align: top;\n",
       "    }\n",
       "\n",
       "    .dataframe thead th {\n",
       "        text-align: right;\n",
       "    }\n",
       "</style>\n",
       "<table border=\"1\" class=\"dataframe\">\n",
       "  <thead>\n",
       "    <tr style=\"text-align: right;\">\n",
       "      <th></th>\n",
       "      <th>Pclass</th>\n",
       "      <th>Sex</th>\n",
       "      <th>Age</th>\n",
       "      <th>Fare</th>\n",
       "      <th>Embarked</th>\n",
       "      <th>Family</th>\n",
       "    </tr>\n",
       "  </thead>\n",
       "  <tbody>\n",
       "    <tr>\n",
       "      <th>679</th>\n",
       "      <td>1</td>\n",
       "      <td>male</td>\n",
       "      <td>36.0</td>\n",
       "      <td>512.3292</td>\n",
       "      <td>C</td>\n",
       "      <td>2</td>\n",
       "    </tr>\n",
       "    <tr>\n",
       "      <th>302</th>\n",
       "      <td>3</td>\n",
       "      <td>male</td>\n",
       "      <td>19.0</td>\n",
       "      <td>0.0000</td>\n",
       "      <td>S</td>\n",
       "      <td>1</td>\n",
       "    </tr>\n",
       "    <tr>\n",
       "      <th>418</th>\n",
       "      <td>2</td>\n",
       "      <td>male</td>\n",
       "      <td>30.0</td>\n",
       "      <td>13.0000</td>\n",
       "      <td>S</td>\n",
       "      <td>1</td>\n",
       "    </tr>\n",
       "    <tr>\n",
       "      <th>346</th>\n",
       "      <td>2</td>\n",
       "      <td>female</td>\n",
       "      <td>40.0</td>\n",
       "      <td>13.0000</td>\n",
       "      <td>S</td>\n",
       "      <td>1</td>\n",
       "    </tr>\n",
       "    <tr>\n",
       "      <th>838</th>\n",
       "      <td>3</td>\n",
       "      <td>male</td>\n",
       "      <td>32.0</td>\n",
       "      <td>56.4958</td>\n",
       "      <td>S</td>\n",
       "      <td>1</td>\n",
       "    </tr>\n",
       "  </tbody>\n",
       "</table>\n",
       "</div>"
      ],
      "text/plain": [
       "     Pclass     Sex   Age      Fare Embarked  Family\n",
       "679       1    male  36.0  512.3292        C       2\n",
       "302       3    male  19.0    0.0000        S       1\n",
       "418       2    male  30.0   13.0000        S       1\n",
       "346       2  female  40.0   13.0000        S       1\n",
       "838       3    male  32.0   56.4958        S       1"
      ]
     },
     "execution_count": 9,
     "metadata": {},
     "output_type": "execute_result"
    }
   ],
   "source": [
    "x_val = titanic_fe(x_val)\n",
    "\n",
    "x_val.head()"
   ]
  },
  {
   "cell_type": "markdown",
   "id": "2FCZUkU28m_s",
   "metadata": {
    "id": "2FCZUkU28m_s"
   },
   "source": [
    "### 4) NaN 조치①"
   ]
  },
  {
   "cell_type": "markdown",
   "id": "eDPXTMOr8w96",
   "metadata": {
    "id": "eDPXTMOr8w96"
   },
   "source": [
    "* 먼저 x의 NaN을 조사해 봅시다."
   ]
  },
  {
   "cell_type": "code",
   "execution_count": 10,
   "id": "yu38DJkw81YG",
   "metadata": {
    "id": "yu38DJkw81YG"
   },
   "outputs": [
    {
     "data": {
      "text/plain": [
       "Pclass        0\n",
       "Sex           0\n",
       "Age         114\n",
       "Fare          0\n",
       "Embarked      2\n",
       "Family        0\n",
       "dtype: int64"
      ]
     },
     "execution_count": 10,
     "metadata": {},
     "output_type": "execute_result"
    }
   ],
   "source": [
    "x_train.isna().sum()"
   ]
  },
  {
   "cell_type": "markdown",
   "id": "NAI7-HYK9kF4",
   "metadata": {
    "id": "NAI7-HYK9kF4"
   },
   "source": [
    "* 어떻게 조치 방법에 따라 처리 시점이 달라집니다.\n",
    "    * Embarked는 최빈값으로 **지금** 채우고\n",
    "    * Age는 KNNImputer로 **가변수화 후에** 채우겠습니다.\n",
    "\n",
    "* NaN 행 삭제를 결정한다면...\n",
    "    * 운영에서 NaN이 들어오면 그 역시 버리겠다는 의미 입니다. \n",
    "        * 그래도 괜찮다면...\n",
    "        * 그러나 괜찮은 상황은 별로 없을 겁니다."
   ]
  },
  {
   "cell_type": "markdown",
   "id": "JmMoOjhN-byp",
   "metadata": {
    "id": "JmMoOjhN-byp"
   },
   "source": [
    "#### SimpleImputer \n",
    "\n",
    "https://scikit-learn.org/stable/modules/generated/sklearn.impute.SimpleImputer.html"
   ]
  },
  {
   "cell_type": "code",
   "execution_count": 11,
   "id": "h8X9ikWf-a85",
   "metadata": {
    "id": "h8X9ikWf-a85"
   },
   "outputs": [],
   "source": [
    "from sklearn.impute import SimpleImputer"
   ]
  },
  {
   "cell_type": "markdown",
   "id": "IIEBoPNXBYPK",
   "metadata": {
    "id": "IIEBoPNXBYPK"
   },
   "source": [
    "* 최빈값으로 채우기 : 보통 범주형(숫자는 이산형)을 채울 때 사용합니다.\n",
    "    * strategy = 'most_frequent'"
   ]
  },
  {
   "cell_type": "code",
   "execution_count": 12,
   "id": "Q3NDWUVwBPii",
   "metadata": {
    "id": "Q3NDWUVwBPii"
   },
   "outputs": [
    {
     "data": {
      "text/plain": [
       "Pclass        0\n",
       "Sex           0\n",
       "Age         114\n",
       "Fare          0\n",
       "Embarked      0\n",
       "Family        0\n",
       "dtype: int64"
      ]
     },
     "execution_count": 12,
     "metadata": {},
     "output_type": "execute_result"
    }
   ],
   "source": [
    "# 대상을 리스트로 선언합시다. \n",
    "imputer1_list = ['Embarked']\n",
    "\n",
    "# 선언하고 fit_transform\n",
    "imputer1 = SimpleImputer(strategy = 'most_frequent')\n",
    "x_train[imputer1_list] = imputer1.fit_transform(x_train[imputer1_list])\n",
    "x_train.isna().sum()"
   ]
  },
  {
   "cell_type": "markdown",
   "id": "Eo7jUhhSkukR",
   "metadata": {
    "id": "Eo7jUhhSkukR"
   },
   "source": [
    "#### validation set에 적용하기"
   ]
  },
  {
   "cell_type": "code",
   "execution_count": 13,
   "id": "BTyheb3kku6i",
   "metadata": {
    "id": "BTyheb3kku6i"
   },
   "outputs": [],
   "source": [
    "imputer1_list = ['Embarked']\n",
    "x_val[imputer1_list] = imputer1.fit_transform(x_val[imputer1_list])"
   ]
  },
  {
   "cell_type": "markdown",
   "id": "NJtEw33yEGHv",
   "metadata": {
    "id": "NJtEw33yEGHv"
   },
   "source": [
    "### 5) 가변수화"
   ]
  },
  {
   "cell_type": "code",
   "execution_count": 14,
   "id": "FlJjfxAzNQ-Z",
   "metadata": {
    "id": "FlJjfxAzNQ-Z"
   },
   "outputs": [
    {
     "name": "stdout",
     "output_type": "stream",
     "text": [
      "<class 'pandas.core.frame.DataFrame'>\n",
      "Int64Index: 866 entries, 536 to 220\n",
      "Data columns (total 7 columns):\n",
      " #   Column    Non-Null Count  Dtype  \n",
      "---  ------    --------------  -----  \n",
      " 0   Pclass    866 non-null    int64  \n",
      " 1   Sex       866 non-null    object \n",
      " 2   Age       691 non-null    float64\n",
      " 3   SibSp     866 non-null    int64  \n",
      " 4   Parch     866 non-null    int64  \n",
      " 5   Fare      866 non-null    float64\n",
      " 6   Embarked  864 non-null    object \n",
      "dtypes: float64(2), int64(3), object(2)\n",
      "memory usage: 54.1+ KB\n"
     ]
    }
   ],
   "source": [
    "cat = {'Sex':[\"female\", \"male\"]\n",
    "       , 'Embarked':[\"C\", \"Q\", \"S\"]\n",
    "       ,'Pclass':[1,2,3]}\n",
    "\n",
    "for k, v in cat.items():\n",
    "    x_train[k] = pd.Categorical(x_train[k], categories=v, ordered=False)\n",
    "\n",
    "x.info()"
   ]
  },
  {
   "cell_type": "code",
   "execution_count": 15,
   "id": "gXuRrHDMd-p8",
   "metadata": {
    "id": "gXuRrHDMd-p8"
   },
   "outputs": [],
   "source": [
    "x_train = pd.get_dummies(x_train, columns =cat.keys(), drop_first = 1)"
   ]
  },
  {
   "cell_type": "code",
   "execution_count": 16,
   "id": "UNAVMCTbmW3b",
   "metadata": {
    "id": "UNAVMCTbmW3b"
   },
   "outputs": [
    {
     "data": {
      "text/html": [
       "<div>\n",
       "<style scoped>\n",
       "    .dataframe tbody tr th:only-of-type {\n",
       "        vertical-align: middle;\n",
       "    }\n",
       "\n",
       "    .dataframe tbody tr th {\n",
       "        vertical-align: top;\n",
       "    }\n",
       "\n",
       "    .dataframe thead th {\n",
       "        text-align: right;\n",
       "    }\n",
       "</style>\n",
       "<table border=\"1\" class=\"dataframe\">\n",
       "  <thead>\n",
       "    <tr style=\"text-align: right;\">\n",
       "      <th></th>\n",
       "      <th>Age</th>\n",
       "      <th>Fare</th>\n",
       "      <th>Family</th>\n",
       "      <th>Sex_male</th>\n",
       "      <th>Embarked_Q</th>\n",
       "      <th>Embarked_S</th>\n",
       "      <th>Pclass_2</th>\n",
       "      <th>Pclass_3</th>\n",
       "    </tr>\n",
       "  </thead>\n",
       "  <tbody>\n",
       "    <tr>\n",
       "      <th>767</th>\n",
       "      <td>30.5</td>\n",
       "      <td>7.7500</td>\n",
       "      <td>1</td>\n",
       "      <td>0</td>\n",
       "      <td>1</td>\n",
       "      <td>0</td>\n",
       "      <td>0</td>\n",
       "      <td>1</td>\n",
       "    </tr>\n",
       "    <tr>\n",
       "      <th>122</th>\n",
       "      <td>32.5</td>\n",
       "      <td>30.0708</td>\n",
       "      <td>2</td>\n",
       "      <td>1</td>\n",
       "      <td>0</td>\n",
       "      <td>0</td>\n",
       "      <td>1</td>\n",
       "      <td>0</td>\n",
       "    </tr>\n",
       "    <tr>\n",
       "      <th>89</th>\n",
       "      <td>24.0</td>\n",
       "      <td>8.0500</td>\n",
       "      <td>1</td>\n",
       "      <td>1</td>\n",
       "      <td>0</td>\n",
       "      <td>1</td>\n",
       "      <td>0</td>\n",
       "      <td>1</td>\n",
       "    </tr>\n",
       "    <tr>\n",
       "      <th>519</th>\n",
       "      <td>32.0</td>\n",
       "      <td>7.8958</td>\n",
       "      <td>1</td>\n",
       "      <td>1</td>\n",
       "      <td>0</td>\n",
       "      <td>1</td>\n",
       "      <td>0</td>\n",
       "      <td>1</td>\n",
       "    </tr>\n",
       "    <tr>\n",
       "      <th>444</th>\n",
       "      <td>NaN</td>\n",
       "      <td>8.1125</td>\n",
       "      <td>1</td>\n",
       "      <td>1</td>\n",
       "      <td>0</td>\n",
       "      <td>1</td>\n",
       "      <td>0</td>\n",
       "      <td>1</td>\n",
       "    </tr>\n",
       "  </tbody>\n",
       "</table>\n",
       "</div>"
      ],
      "text/plain": [
       "      Age     Fare  Family  Sex_male  Embarked_Q  Embarked_S  Pclass_2  \\\n",
       "767  30.5   7.7500       1         0           1           0         0   \n",
       "122  32.5  30.0708       2         1           0           0         1   \n",
       "89   24.0   8.0500       1         1           0           1         0   \n",
       "519  32.0   7.8958       1         1           0           1         0   \n",
       "444   NaN   8.1125       1         1           0           1         0   \n",
       "\n",
       "     Pclass_3  \n",
       "767         1  \n",
       "122         0  \n",
       "89          1  \n",
       "519         1  \n",
       "444         1  "
      ]
     },
     "execution_count": 16,
     "metadata": {},
     "output_type": "execute_result"
    }
   ],
   "source": [
    "x_train.head()"
   ]
  },
  {
   "cell_type": "markdown",
   "id": "245yN7iqlSs5",
   "metadata": {
    "id": "245yN7iqlSs5"
   },
   "source": [
    "#### validation set에 적용하기"
   ]
  },
  {
   "cell_type": "code",
   "execution_count": 17,
   "id": "IquGZ7hdlWyP",
   "metadata": {
    "id": "IquGZ7hdlWyP"
   },
   "outputs": [
    {
     "data": {
      "text/html": [
       "<div>\n",
       "<style scoped>\n",
       "    .dataframe tbody tr th:only-of-type {\n",
       "        vertical-align: middle;\n",
       "    }\n",
       "\n",
       "    .dataframe tbody tr th {\n",
       "        vertical-align: top;\n",
       "    }\n",
       "\n",
       "    .dataframe thead th {\n",
       "        text-align: right;\n",
       "    }\n",
       "</style>\n",
       "<table border=\"1\" class=\"dataframe\">\n",
       "  <thead>\n",
       "    <tr style=\"text-align: right;\">\n",
       "      <th></th>\n",
       "      <th>Age</th>\n",
       "      <th>Fare</th>\n",
       "      <th>Family</th>\n",
       "      <th>Sex_male</th>\n",
       "      <th>Embarked_Q</th>\n",
       "      <th>Embarked_S</th>\n",
       "      <th>Pclass_2</th>\n",
       "      <th>Pclass_3</th>\n",
       "    </tr>\n",
       "  </thead>\n",
       "  <tbody>\n",
       "    <tr>\n",
       "      <th>679</th>\n",
       "      <td>36.0</td>\n",
       "      <td>512.3292</td>\n",
       "      <td>2</td>\n",
       "      <td>1</td>\n",
       "      <td>0</td>\n",
       "      <td>0</td>\n",
       "      <td>0</td>\n",
       "      <td>0</td>\n",
       "    </tr>\n",
       "    <tr>\n",
       "      <th>302</th>\n",
       "      <td>19.0</td>\n",
       "      <td>0.0000</td>\n",
       "      <td>1</td>\n",
       "      <td>1</td>\n",
       "      <td>0</td>\n",
       "      <td>1</td>\n",
       "      <td>0</td>\n",
       "      <td>1</td>\n",
       "    </tr>\n",
       "    <tr>\n",
       "      <th>418</th>\n",
       "      <td>30.0</td>\n",
       "      <td>13.0000</td>\n",
       "      <td>1</td>\n",
       "      <td>1</td>\n",
       "      <td>0</td>\n",
       "      <td>1</td>\n",
       "      <td>1</td>\n",
       "      <td>0</td>\n",
       "    </tr>\n",
       "    <tr>\n",
       "      <th>346</th>\n",
       "      <td>40.0</td>\n",
       "      <td>13.0000</td>\n",
       "      <td>1</td>\n",
       "      <td>0</td>\n",
       "      <td>0</td>\n",
       "      <td>1</td>\n",
       "      <td>1</td>\n",
       "      <td>0</td>\n",
       "    </tr>\n",
       "    <tr>\n",
       "      <th>838</th>\n",
       "      <td>32.0</td>\n",
       "      <td>56.4958</td>\n",
       "      <td>1</td>\n",
       "      <td>1</td>\n",
       "      <td>0</td>\n",
       "      <td>1</td>\n",
       "      <td>0</td>\n",
       "      <td>1</td>\n",
       "    </tr>\n",
       "  </tbody>\n",
       "</table>\n",
       "</div>"
      ],
      "text/plain": [
       "      Age      Fare  Family  Sex_male  Embarked_Q  Embarked_S  Pclass_2  \\\n",
       "679  36.0  512.3292       2         1           0           0         0   \n",
       "302  19.0    0.0000       1         1           0           1         0   \n",
       "418  30.0   13.0000       1         1           0           1         1   \n",
       "346  40.0   13.0000       1         0           0           1         1   \n",
       "838  32.0   56.4958       1         1           0           1         0   \n",
       "\n",
       "     Pclass_3  \n",
       "679         0  \n",
       "302         1  \n",
       "418         0  \n",
       "346         0  \n",
       "838         1  "
      ]
     },
     "execution_count": 17,
     "metadata": {},
     "output_type": "execute_result"
    }
   ],
   "source": [
    "# 함수로 생성\n",
    "\n",
    "cat = {'Sex':[\"female\", \"male\"]\n",
    "       , 'Embarked':[\"C\", \"Q\", \"S\"]\n",
    "       ,'Pclass':[1,2,3]}\n",
    "\n",
    "def titanic_dumm(df, cat):\n",
    "    temp = df.copy()\n",
    "    for k, v in cat.items():\n",
    "        temp[k] = pd.Categorical(temp[k], categories=v, ordered=False)\n",
    "    temp = pd.get_dummies(temp, columns =cat.keys(), drop_first = 1)\n",
    "    return temp\n",
    "x_val = titanic_dumm(x_val, cat)\n",
    "x_val.head()"
   ]
  },
  {
   "cell_type": "markdown",
   "id": "-2xRWYtL2iuU",
   "metadata": {
    "id": "-2xRWYtL2iuU"
   },
   "source": [
    "### 6) 스케일링\n"
   ]
  },
  {
   "cell_type": "code",
   "execution_count": 18,
   "id": "9U1E7u4u2iuV",
   "metadata": {
    "id": "9U1E7u4u2iuV"
   },
   "outputs": [],
   "source": [
    "scaler = MinMaxScaler()\n",
    "x_train_s = scaler.fit_transform(x_train)"
   ]
  },
  {
   "cell_type": "markdown",
   "id": "qUN4Fve52iuV",
   "metadata": {
    "id": "qUN4Fve52iuV"
   },
   "source": [
    "#### validation set에 적용하기"
   ]
  },
  {
   "cell_type": "code",
   "execution_count": 19,
   "id": "umMtJmiu2iuV",
   "metadata": {
    "id": "umMtJmiu2iuV"
   },
   "outputs": [],
   "source": [
    "# validation 적용\n",
    "x_val_s = scaler.transform(x_val)"
   ]
  },
  {
   "cell_type": "markdown",
   "id": "mORb7DAV2iuW",
   "metadata": {
    "id": "mORb7DAV2iuW"
   },
   "source": [
    "### 7) NaN 조치②"
   ]
  },
  {
   "cell_type": "markdown",
   "id": "EKkV0tOi2iuW",
   "metadata": {
    "id": "EKkV0tOi2iuW"
   },
   "source": [
    "#### KNNImputer\n",
    "https://scikit-learn.org/stable/modules/generated/sklearn.impute.KNNImputer.html"
   ]
  },
  {
   "cell_type": "code",
   "execution_count": 20,
   "id": "heYA5lfU2iuW",
   "metadata": {
    "id": "heYA5lfU2iuW"
   },
   "outputs": [],
   "source": [
    "from sklearn.impute import KNNImputer"
   ]
  },
  {
   "cell_type": "code",
   "execution_count": 21,
   "id": "IVRTPpc_0Y-Z",
   "metadata": {
    "id": "IVRTPpc_0Y-Z"
   },
   "outputs": [
    {
     "data": {
      "text/plain": [
       "['Age',\n",
       " 'Fare',\n",
       " 'Family',\n",
       " 'Sex_male',\n",
       " 'Embarked_Q',\n",
       " 'Embarked_S',\n",
       " 'Pclass_2',\n",
       " 'Pclass_3']"
      ]
     },
     "execution_count": 21,
     "metadata": {},
     "output_type": "execute_result"
    }
   ],
   "source": [
    "imputer2_list = list(x_train)\n",
    "imputer2_list"
   ]
  },
  {
   "cell_type": "code",
   "execution_count": 22,
   "id": "kBVZY-P62iuW",
   "metadata": {
    "id": "kBVZY-P62iuW"
   },
   "outputs": [],
   "source": [
    "# 선언하고 fit_transform\n",
    "imputer2 = KNNImputer()\n",
    "x_train_s = imputer2.fit_transform(x_train_s)"
   ]
  },
  {
   "cell_type": "markdown",
   "id": "dP1ZgLZf2iuX",
   "metadata": {
    "id": "dP1ZgLZf2iuX"
   },
   "source": [
    "#### validation set에 적용하기"
   ]
  },
  {
   "cell_type": "code",
   "execution_count": 23,
   "id": "94MwTYVG2iuX",
   "metadata": {
    "id": "94MwTYVG2iuX"
   },
   "outputs": [],
   "source": [
    "# validation 적용\n",
    "x_val_s = imputer2.transform(x_val_s)"
   ]
  },
  {
   "cell_type": "markdown",
   "id": "Ylj4JJqt2iuX",
   "metadata": {
    "id": "Ylj4JJqt2iuX"
   },
   "source": [
    "## 3.모델링\n",
    "\n",
    "여기에서는 성능 최적화가 주안점이 아니므로 기본값으로 모델링을 수행합니다."
   ]
  },
  {
   "cell_type": "code",
   "execution_count": 24,
   "id": "jr4TCApS2iuX",
   "metadata": {
    "id": "jr4TCApS2iuX"
   },
   "outputs": [
    {
     "data": {
      "text/plain": [
       "SVC()"
      ]
     },
     "execution_count": 24,
     "metadata": {},
     "output_type": "execute_result"
    }
   ],
   "source": [
    "# SVM으로 모델링 수행\n",
    "model = SVC()\n",
    "model.fit(x_train_s, y_train)"
   ]
  },
  {
   "cell_type": "code",
   "execution_count": 25,
   "id": "9Rxrhg_92iuX",
   "metadata": {
    "id": "9Rxrhg_92iuX"
   },
   "outputs": [
    {
     "name": "stdout",
     "output_type": "stream",
     "text": [
      "              precision    recall  f1-score   support\n",
      "\n",
      "           0       0.76      0.96      0.85       152\n",
      "           1       0.91      0.57      0.70       108\n",
      "\n",
      "    accuracy                           0.80       260\n",
      "   macro avg       0.84      0.77      0.78       260\n",
      "weighted avg       0.82      0.80      0.79       260\n",
      "\n"
     ]
    }
   ],
   "source": [
    "# validation\n",
    "pred = model.predict(x_val_s)\n",
    "print(classification_report(y_val, pred))"
   ]
  },
  {
   "cell_type": "markdown",
   "id": "1uiJYAwU2iuX",
   "metadata": {
    "id": "1uiJYAwU2iuX"
   },
   "source": [
    "## 4.Data Pipeline 정리\n",
    "\n",
    "* 이제 최적의 모델이 생성되어, 운영시스템에 배포되었습니다.\n",
    "* 운영에서 new data가 주어졌을 때, 어떤 절차로 파이프라인을 구성해야 할까요?"
   ]
  },
  {
   "cell_type": "code",
   "execution_count": 26,
   "id": "2vEYTdF12iuY",
   "metadata": {
    "id": "2vEYTdF12iuY"
   },
   "outputs": [
    {
     "data": {
      "text/html": [
       "<div>\n",
       "<style scoped>\n",
       "    .dataframe tbody tr th:only-of-type {\n",
       "        vertical-align: middle;\n",
       "    }\n",
       "\n",
       "    .dataframe tbody tr th {\n",
       "        vertical-align: top;\n",
       "    }\n",
       "\n",
       "    .dataframe thead th {\n",
       "        text-align: right;\n",
       "    }\n",
       "</style>\n",
       "<table border=\"1\" class=\"dataframe\">\n",
       "  <thead>\n",
       "    <tr style=\"text-align: right;\">\n",
       "      <th></th>\n",
       "      <th>Pclass</th>\n",
       "      <th>Sex</th>\n",
       "      <th>Age</th>\n",
       "      <th>SibSp</th>\n",
       "      <th>Parch</th>\n",
       "      <th>Fare</th>\n",
       "      <th>Embarked</th>\n",
       "    </tr>\n",
       "  </thead>\n",
       "  <tbody>\n",
       "    <tr>\n",
       "      <th>106</th>\n",
       "      <td>3</td>\n",
       "      <td>female</td>\n",
       "      <td>21.0</td>\n",
       "      <td>0</td>\n",
       "      <td>0</td>\n",
       "      <td>7.6500</td>\n",
       "      <td>S</td>\n",
       "    </tr>\n",
       "    <tr>\n",
       "      <th>449</th>\n",
       "      <td>1</td>\n",
       "      <td>male</td>\n",
       "      <td>52.0</td>\n",
       "      <td>0</td>\n",
       "      <td>0</td>\n",
       "      <td>30.5000</td>\n",
       "      <td>S</td>\n",
       "    </tr>\n",
       "    <tr>\n",
       "      <th>785</th>\n",
       "      <td>3</td>\n",
       "      <td>male</td>\n",
       "      <td>25.0</td>\n",
       "      <td>0</td>\n",
       "      <td>0</td>\n",
       "      <td>7.2500</td>\n",
       "      <td>S</td>\n",
       "    </tr>\n",
       "    <tr>\n",
       "      <th>268</th>\n",
       "      <td>1</td>\n",
       "      <td>female</td>\n",
       "      <td>58.0</td>\n",
       "      <td>0</td>\n",
       "      <td>1</td>\n",
       "      <td>153.4625</td>\n",
       "      <td>S</td>\n",
       "    </tr>\n",
       "    <tr>\n",
       "      <th>608</th>\n",
       "      <td>2</td>\n",
       "      <td>female</td>\n",
       "      <td>22.0</td>\n",
       "      <td>1</td>\n",
       "      <td>2</td>\n",
       "      <td>41.5792</td>\n",
       "      <td>C</td>\n",
       "    </tr>\n",
       "  </tbody>\n",
       "</table>\n",
       "</div>"
      ],
      "text/plain": [
       "     Pclass     Sex   Age  SibSp  Parch      Fare Embarked\n",
       "106       3  female  21.0      0      0    7.6500        S\n",
       "449       1    male  52.0      0      0   30.5000        S\n",
       "785       3    male  25.0      0      0    7.2500        S\n",
       "268       1  female  58.0      0      1  153.4625        S\n",
       "608       2  female  22.0      1      2   41.5792        C"
      ]
     },
     "execution_count": 26,
     "metadata": {},
     "output_type": "execute_result"
    }
   ],
   "source": [
    "# new data : x_test\n",
    "x_test.head()"
   ]
  },
  {
   "cell_type": "markdown",
   "id": "ruBY69362iuY",
   "metadata": {
    "id": "ruBY69362iuY"
   },
   "source": [
    "### 1) [validation에 적용하기] 코드들 가져오기"
   ]
  },
  {
   "cell_type": "markdown",
   "id": "vsDOdGa52iuY",
   "metadata": {
    "id": "vsDOdGa52iuY"
   },
   "source": [
    "* 함수, 변수 선언"
   ]
  },
  {
   "cell_type": "code",
   "execution_count": 27,
   "id": "theLxC6W2iuY",
   "metadata": {
    "id": "theLxC6W2iuY"
   },
   "outputs": [],
   "source": [
    "def titanic_fe(df):\n",
    "    temp = df.copy()\n",
    "    # Family 변수 추가\n",
    "    temp['Family'] = temp['SibSp'] + temp['Parch'] + 1\n",
    "    temp.drop(['SibSp', 'Parch'], axis = 1, inplace = True)\n",
    "\n",
    "    # OOO 추가...\n",
    "    return temp\n",
    "\n",
    "def titanic_dumm(df, cat):\n",
    "    for k, v in cat.items():\n",
    "        df[k] = pd.Categorical(df[k], categories=v, ordered=False)\n",
    "    df = pd.get_dummies(df, columns =cat.keys(), drop_first = 1)\n",
    "    return df\n",
    "\n",
    "imputer1_list = ['Embarked']\n",
    "\n",
    "cat = {'Sex':[\"female\", \"male\"]\n",
    "       , 'Embarked':[\"C\", \"Q\", \"S\"]\n",
    "       ,'Pclass':[1,2,3]}"
   ]
  },
  {
   "cell_type": "markdown",
   "id": "PQTTcMs42iuY",
   "metadata": {
    "id": "PQTTcMs42iuY"
   },
   "source": [
    "* 전처리 실행"
   ]
  },
  {
   "cell_type": "code",
   "execution_count": 28,
   "id": "BwoaTEfG2iuY",
   "metadata": {
    "id": "BwoaTEfG2iuY"
   },
   "outputs": [],
   "source": [
    "temp = x_test.copy()"
   ]
  },
  {
   "cell_type": "code",
   "execution_count": 29,
   "id": "luN0T9I02iuY",
   "metadata": {
    "id": "luN0T9I02iuY"
   },
   "outputs": [
    {
     "data": {
      "text/plain": [
       "array([[0.25860769, 0.01493181, 0.        , 0.        , 0.        ,\n",
       "        1.        , 0.        , 1.        ],\n",
       "       [0.6481528 , 0.05953204, 0.        , 1.        , 0.        ,\n",
       "        1.        , 0.        , 0.        ],\n",
       "       [0.30887158, 0.01415106, 0.        , 1.        , 0.        ,\n",
       "        1.        , 0.        , 1.        ],\n",
       "       [0.72354863, 0.29953885, 0.1       , 0.        , 0.        ,\n",
       "        1.        , 0.        , 0.        ],\n",
       "       [0.27117366, 0.08115719, 0.3       , 0.        , 0.        ,\n",
       "        0.        , 1.        , 0.        ]])"
      ]
     },
     "execution_count": 29,
     "metadata": {},
     "output_type": "execute_result"
    }
   ],
   "source": [
    "# Feature Engineering\n",
    "temp = titanic_fe(temp)\n",
    "\n",
    "# NaN 조치① : SimpleImputer\n",
    "temp[imputer1_list] = imputer1.fit_transform(temp[imputer1_list])\n",
    "\n",
    "# 가변수화\n",
    "temp = titanic_dumm(temp, cat)\n",
    "\n",
    "# 스케일링\n",
    "temp = scaler.transform(temp)\n",
    "\n",
    "# NaN 조치② : KNNImputer\n",
    "temp = imputer2.transform(temp)\n",
    "\n",
    "temp"
   ]
  },
  {
   "cell_type": "markdown",
   "id": "Znaw76ZE2iuZ",
   "metadata": {
    "id": "Znaw76ZE2iuZ"
   },
   "source": [
    "### 2) Data Pipeline 함수 만들고 실행하기"
   ]
  },
  {
   "cell_type": "code",
   "execution_count": 30,
   "id": "wYIca-Xz2iuZ",
   "metadata": {
    "id": "wYIca-Xz2iuZ"
   },
   "outputs": [],
   "source": [
    "def titanic_datapipeline(df, simpleimputer, simple_impute_list, dumm_list, scaler, knnimputer):\n",
    "\n",
    "    temp = df.copy()\n",
    "\n",
    "    # Feature Engineering\n",
    "    temp = titanic_fe(temp)\n",
    "\n",
    "    # NaN 조치① : SimpleImputer\n",
    "    temp[simple_impute_list] = simpleimputer.fit_transform(temp[simple_impute_list])\n",
    "\n",
    "    # 가변수화\n",
    "    temp = titanic_dumm(temp, dumm_list)\n",
    "\n",
    "    x_cols = list(temp)\n",
    "    # 스케일링\n",
    "    temp = scaler.transform(temp)\n",
    "\n",
    "    # NaN 조치② : KNNImputer\n",
    "    temp = knnimputer.transform(temp)\n",
    "\n",
    "    return pd.DataFrame(temp, columns = x_cols)\n"
   ]
  },
  {
   "cell_type": "markdown",
   "id": "CvRIe0yEoYAH",
   "metadata": {
    "id": "CvRIe0yEoYAH"
   },
   "source": [
    "## 5.파이썬 오브젝트 저장하기"
   ]
  },
  {
   "cell_type": "markdown",
   "id": "PfqlzAhYpQOc",
   "metadata": {
    "id": "PfqlzAhYpQOc"
   },
   "source": [
    "* data의 Embarked를 카테고리로 만들고 저장 \n"
   ]
  },
  {
   "cell_type": "code",
   "execution_count": 31,
   "id": "mKKKelsypchE",
   "metadata": {
    "id": "mKKKelsypchE"
   },
   "outputs": [
    {
     "name": "stdout",
     "output_type": "stream",
     "text": [
      "<class 'pandas.core.frame.DataFrame'>\n",
      "RangeIndex: 871 entries, 0 to 870\n",
      "Data columns (total 8 columns):\n",
      " #   Column    Non-Null Count  Dtype   \n",
      "---  ------    --------------  -----   \n",
      " 0   Survived  871 non-null    int64   \n",
      " 1   Pclass    871 non-null    int64   \n",
      " 2   Sex       871 non-null    object  \n",
      " 3   Age       696 non-null    float64 \n",
      " 4   SibSp     871 non-null    int64   \n",
      " 5   Parch     871 non-null    int64   \n",
      " 6   Fare      871 non-null    float64 \n",
      " 7   Embarked  869 non-null    category\n",
      "dtypes: category(1), float64(2), int64(4), object(1)\n",
      "memory usage: 48.7+ KB\n"
     ]
    }
   ],
   "source": [
    "data['Embarked'] = pd.Categorical(data['Embarked'], categories=['C','Q','S'], ordered=False)\n",
    "data.info()"
   ]
  },
  {
   "cell_type": "markdown",
   "id": "n-D_ZojkpaRm",
   "metadata": {
    "id": "n-D_ZojkpaRm"
   },
   "source": [
    "* csv로 저장하고 불러옵시다."
   ]
  },
  {
   "cell_type": "code",
   "execution_count": 32,
   "id": "70HT6X7gpWtr",
   "metadata": {
    "id": "70HT6X7gpWtr"
   },
   "outputs": [],
   "source": [
    "data.to_csv('data.csv', index = False)"
   ]
  },
  {
   "cell_type": "code",
   "execution_count": 33,
   "id": "NrXbR3qqpve5",
   "metadata": {
    "id": "NrXbR3qqpve5"
   },
   "outputs": [
    {
     "name": "stdout",
     "output_type": "stream",
     "text": [
      "<class 'pandas.core.frame.DataFrame'>\n",
      "RangeIndex: 871 entries, 0 to 870\n",
      "Data columns (total 8 columns):\n",
      " #   Column    Non-Null Count  Dtype  \n",
      "---  ------    --------------  -----  \n",
      " 0   Survived  871 non-null    int64  \n",
      " 1   Pclass    871 non-null    int64  \n",
      " 2   Sex       871 non-null    object \n",
      " 3   Age       696 non-null    float64\n",
      " 4   SibSp     871 non-null    int64  \n",
      " 5   Parch     871 non-null    int64  \n",
      " 6   Fare      871 non-null    float64\n",
      " 7   Embarked  869 non-null    object \n",
      "dtypes: float64(2), int64(4), object(2)\n",
      "memory usage: 54.6+ KB\n"
     ]
    }
   ],
   "source": [
    "data = pd.read_csv('data.csv')\n",
    "data.info()"
   ]
  },
  {
   "cell_type": "code",
   "execution_count": 34,
   "id": "Sfc9NGIbbz6j",
   "metadata": {
    "id": "Sfc9NGIbbz6j"
   },
   "outputs": [],
   "source": [
    "import joblib"
   ]
  },
  {
   "cell_type": "markdown",
   "id": "gzOYrir3dAC8",
   "metadata": {
    "id": "gzOYrir3dAC8"
   },
   "source": [
    "* 파일로 저장"
   ]
  },
  {
   "cell_type": "code",
   "execution_count": 35,
   "id": "0K2OsLT5rLAd",
   "metadata": {
    "id": "0K2OsLT5rLAd"
   },
   "outputs": [
    {
     "name": "stdout",
     "output_type": "stream",
     "text": [
      "<class 'pandas.core.frame.DataFrame'>\n",
      "RangeIndex: 871 entries, 0 to 870\n",
      "Data columns (total 8 columns):\n",
      " #   Column    Non-Null Count  Dtype   \n",
      "---  ------    --------------  -----   \n",
      " 0   Survived  871 non-null    int64   \n",
      " 1   Pclass    871 non-null    int64   \n",
      " 2   Sex       871 non-null    object  \n",
      " 3   Age       696 non-null    float64 \n",
      " 4   SibSp     871 non-null    int64   \n",
      " 5   Parch     871 non-null    int64   \n",
      " 6   Fare      871 non-null    float64 \n",
      " 7   Embarked  869 non-null    category\n",
      "dtypes: category(1), float64(2), int64(4), object(1)\n",
      "memory usage: 48.7+ KB\n"
     ]
    }
   ],
   "source": [
    "data['Embarked'] = pd.Categorical(data['Embarked'], categories=['C','Q','S'], ordered=False)\n",
    "data.info()"
   ]
  },
  {
   "cell_type": "code",
   "execution_count": 36,
   "id": "dZE4TUEZb1j8",
   "metadata": {
    "id": "dZE4TUEZb1j8"
   },
   "outputs": [
    {
     "data": {
      "text/plain": [
       "['data_df.pkl']"
      ]
     },
     "execution_count": 36,
     "metadata": {},
     "output_type": "execute_result"
    }
   ],
   "source": [
    "joblib.dump(data, 'data_df.pkl')"
   ]
  },
  {
   "cell_type": "markdown",
   "id": "Y0ptm57HdGag",
   "metadata": {
    "id": "Y0ptm57HdGag"
   },
   "source": [
    "* 파일로 부터 읽어 오기"
   ]
  },
  {
   "cell_type": "code",
   "execution_count": 37,
   "id": "l-0Pf1dfcBm7",
   "metadata": {
    "id": "l-0Pf1dfcBm7"
   },
   "outputs": [
    {
     "name": "stdout",
     "output_type": "stream",
     "text": [
      "<class 'pandas.core.frame.DataFrame'>\n",
      "RangeIndex: 871 entries, 0 to 870\n",
      "Data columns (total 8 columns):\n",
      " #   Column    Non-Null Count  Dtype   \n",
      "---  ------    --------------  -----   \n",
      " 0   Survived  871 non-null    int64   \n",
      " 1   Pclass    871 non-null    int64   \n",
      " 2   Sex       871 non-null    object  \n",
      " 3   Age       696 non-null    float64 \n",
      " 4   SibSp     871 non-null    int64   \n",
      " 5   Parch     871 non-null    int64   \n",
      " 6   Fare      871 non-null    float64 \n",
      " 7   Embarked  869 non-null    category\n",
      "dtypes: category(1), float64(2), int64(4), object(1)\n",
      "memory usage: 48.6+ KB\n"
     ]
    }
   ],
   "source": [
    "data2 = joblib.load('data_df.pkl')\n",
    "data2.info()"
   ]
  },
  {
   "cell_type": "markdown",
   "id": "EM3Si_W1uudA",
   "metadata": {
    "id": "EM3Si_W1uudA"
   },
   "source": [
    "* 딕셔너리  \n",
    "        b = { 'v1':[1,2,3,4,5], 'v2':[6,7,8,9,0] }\n"
   ]
  },
  {
   "cell_type": "code",
   "execution_count": 38,
   "id": "hWex9uLgu37t",
   "metadata": {
    "id": "hWex9uLgu37t"
   },
   "outputs": [],
   "source": [
    "b = { 'v1':[1,2,3,4,5], 'v2':[6,7,8,9,0] }\n",
    "joblib.dump(b, 'b.pkl')\n",
    "del b"
   ]
  },
  {
   "cell_type": "code",
   "execution_count": 39,
   "id": "XIj2icu1u37u",
   "metadata": {
    "id": "XIj2icu1u37u"
   },
   "outputs": [
    {
     "data": {
      "text/plain": [
       "{'v1': [1, 2, 3, 4, 5], 'v2': [6, 7, 8, 9, 0]}"
      ]
     },
     "execution_count": 39,
     "metadata": {},
     "output_type": "execute_result"
    }
   ],
   "source": [
    "b = joblib.load('b.pkl')\n",
    "b"
   ]
  },
  {
   "cell_type": "markdown",
   "id": "GwBMDt4cuwS5",
   "metadata": {
    "id": "GwBMDt4cuwS5"
   },
   "source": [
    "* 시리즈  \n",
    "        data['Fare']"
   ]
  },
  {
   "cell_type": "code",
   "execution_count": 40,
   "id": "qQSrWuVpu-yJ",
   "metadata": {
    "id": "qQSrWuVpu-yJ"
   },
   "outputs": [],
   "source": [
    "joblib.dump(data['Fare'], 'data_Fare.pkl')\n",
    "data.drop('Fare', axis = 1, inplace = True)"
   ]
  },
  {
   "cell_type": "code",
   "execution_count": 41,
   "id": "Tfka4uuxu-yJ",
   "metadata": {
    "id": "Tfka4uuxu-yJ"
   },
   "outputs": [
    {
     "data": {
      "text/html": [
       "<div>\n",
       "<style scoped>\n",
       "    .dataframe tbody tr th:only-of-type {\n",
       "        vertical-align: middle;\n",
       "    }\n",
       "\n",
       "    .dataframe tbody tr th {\n",
       "        vertical-align: top;\n",
       "    }\n",
       "\n",
       "    .dataframe thead th {\n",
       "        text-align: right;\n",
       "    }\n",
       "</style>\n",
       "<table border=\"1\" class=\"dataframe\">\n",
       "  <thead>\n",
       "    <tr style=\"text-align: right;\">\n",
       "      <th></th>\n",
       "      <th>Survived</th>\n",
       "      <th>Pclass</th>\n",
       "      <th>Sex</th>\n",
       "      <th>Age</th>\n",
       "      <th>SibSp</th>\n",
       "      <th>Parch</th>\n",
       "      <th>Embarked</th>\n",
       "      <th>Fare</th>\n",
       "    </tr>\n",
       "  </thead>\n",
       "  <tbody>\n",
       "    <tr>\n",
       "      <th>0</th>\n",
       "      <td>0</td>\n",
       "      <td>3</td>\n",
       "      <td>male</td>\n",
       "      <td>22.0</td>\n",
       "      <td>1</td>\n",
       "      <td>0</td>\n",
       "      <td>S</td>\n",
       "      <td>7.2500</td>\n",
       "    </tr>\n",
       "    <tr>\n",
       "      <th>1</th>\n",
       "      <td>1</td>\n",
       "      <td>1</td>\n",
       "      <td>female</td>\n",
       "      <td>38.0</td>\n",
       "      <td>1</td>\n",
       "      <td>0</td>\n",
       "      <td>C</td>\n",
       "      <td>71.2833</td>\n",
       "    </tr>\n",
       "    <tr>\n",
       "      <th>2</th>\n",
       "      <td>1</td>\n",
       "      <td>3</td>\n",
       "      <td>female</td>\n",
       "      <td>26.0</td>\n",
       "      <td>0</td>\n",
       "      <td>0</td>\n",
       "      <td>S</td>\n",
       "      <td>7.9250</td>\n",
       "    </tr>\n",
       "    <tr>\n",
       "      <th>3</th>\n",
       "      <td>1</td>\n",
       "      <td>1</td>\n",
       "      <td>female</td>\n",
       "      <td>35.0</td>\n",
       "      <td>1</td>\n",
       "      <td>0</td>\n",
       "      <td>S</td>\n",
       "      <td>53.1000</td>\n",
       "    </tr>\n",
       "    <tr>\n",
       "      <th>4</th>\n",
       "      <td>0</td>\n",
       "      <td>3</td>\n",
       "      <td>male</td>\n",
       "      <td>35.0</td>\n",
       "      <td>0</td>\n",
       "      <td>0</td>\n",
       "      <td>S</td>\n",
       "      <td>8.0500</td>\n",
       "    </tr>\n",
       "  </tbody>\n",
       "</table>\n",
       "</div>"
      ],
      "text/plain": [
       "   Survived  Pclass     Sex   Age  SibSp  Parch Embarked     Fare\n",
       "0         0       3    male  22.0      1      0        S   7.2500\n",
       "1         1       1  female  38.0      1      0        C  71.2833\n",
       "2         1       3  female  26.0      0      0        S   7.9250\n",
       "3         1       1  female  35.0      1      0        S  53.1000\n",
       "4         0       3    male  35.0      0      0        S   8.0500"
      ]
     },
     "execution_count": 41,
     "metadata": {},
     "output_type": "execute_result"
    }
   ],
   "source": [
    "data['Fare'] = joblib.load('data_Fare.pkl')\n",
    "data.head()"
   ]
  },
  {
   "cell_type": "markdown",
   "id": "Fye-0ACAgzaH",
   "metadata": {
    "id": "Fye-0ACAgzaH",
    "tags": []
   },
   "source": [
    "* 저장해야 할 오브젝트는 어떤 것들일까요?"
   ]
  },
  {
   "cell_type": "markdown",
   "id": "B1DuEstdhEY1",
   "metadata": {
    "id": "B1DuEstdhEY1"
   },
   "source": [
    "* 자료형 : imputer1_list, cat"
   ]
  },
  {
   "cell_type": "code",
   "execution_count": 42,
   "id": "b5fP1jB6g6OT",
   "metadata": {
    "id": "b5fP1jB6g6OT"
   },
   "outputs": [
    {
     "data": {
      "text/plain": [
       "['cat.pkl']"
      ]
     },
     "execution_count": 42,
     "metadata": {},
     "output_type": "execute_result"
    }
   ],
   "source": [
    "joblib.dump(imputer1_list, 'imputer1_list.pkl')\n",
    "joblib.dump(cat, 'cat.pkl')"
   ]
  },
  {
   "cell_type": "markdown",
   "id": "y7VtLQHAhc_s",
   "metadata": {
    "id": "y7VtLQHAhc_s"
   },
   "source": [
    "* fitting된 함수 : imputer1, imputer2, model"
   ]
  },
  {
   "cell_type": "code",
   "execution_count": 43,
   "id": "G1yjTKlGhdc_",
   "metadata": {
    "id": "G1yjTKlGhdc_"
   },
   "outputs": [
    {
     "data": {
      "text/plain": [
       "['model/model_ti1.pkl']"
      ]
     },
     "execution_count": 43,
     "metadata": {},
     "output_type": "execute_result"
    }
   ],
   "source": [
    "joblib.dump(imputer1, 'preprocess/imputer1_ti1.pkl')\n",
    "joblib.dump(imputer2, 'preprocess/imputer2_ti1.pkl')\n",
    "joblib.dump(scaler, 'preprocess/scaler_ti1.pkl')\n",
    "joblib.dump(model, 'model/model_ti1.pkl')"
   ]
  },
  {
   "cell_type": "markdown",
   "id": "9vYw53y3kZAl",
   "metadata": {
    "id": "9vYw53y3kZAl"
   },
   "source": [
    "* 커널 재시작"
   ]
  },
  {
   "cell_type": "markdown",
   "id": "68AH5RiskfJm",
   "metadata": {
    "id": "68AH5RiskfJm"
   },
   "source": [
    "* 환경 및 데이터 준비"
   ]
  },
  {
   "cell_type": "code",
   "execution_count": 44,
   "id": "XhTQ5K3Gkh-a",
   "metadata": {
    "id": "XhTQ5K3Gkh-a"
   },
   "outputs": [],
   "source": [
    "import pandas as pd\n",
    "import numpy as np\n",
    "import joblib\n",
    "\n",
    "from sklearn.model_selection import train_test_split\n",
    "from sklearn.impute import SimpleImputer, KNNImputer\n",
    "from sklearn.preprocessing import MinMaxScaler\n",
    "\n",
    "from sklearn.svm import SVC\n",
    "from sklearn.metrics import classification_report"
   ]
  },
  {
   "cell_type": "code",
   "execution_count": 45,
   "id": "ciw-c8dPkh-b",
   "metadata": {
    "id": "ciw-c8dPkh-b"
   },
   "outputs": [],
   "source": [
    "use_cols = ['Survived', 'Pclass', 'Sex', 'Age', 'SibSp' ,'Parch', 'Fare', 'Embarked']\n",
    "data = pd.read_csv('data/titanic.csv', usecols = use_cols)"
   ]
  },
  {
   "cell_type": "code",
   "execution_count": 46,
   "id": "Xosiv-MUknpf",
   "metadata": {
    "id": "Xosiv-MUknpf",
    "tags": []
   },
   "outputs": [],
   "source": [
    "target = 'Survived'\n",
    "x0 = data.drop(target, axis = 1)\n",
    "y0 = data.loc[:, target]"
   ]
  },
  {
   "cell_type": "code",
   "execution_count": 47,
   "id": "c-zP2E9Nknpg",
   "metadata": {
    "id": "c-zP2E9Nknpg"
   },
   "outputs": [],
   "source": [
    "x_train, x_test, y_train, y_test = train_test_split(x0, y0, test_size = 10, random_state = 2022)"
   ]
  },
  {
   "cell_type": "markdown",
   "id": "w2x9jPYDl2eD",
   "metadata": {
    "id": "w2x9jPYDl2eD"
   },
   "source": [
    "* 함수 생성하기"
   ]
  },
  {
   "cell_type": "code",
   "execution_count": 49,
   "id": "xiq4c0bQl5fm",
   "metadata": {
    "id": "xiq4c0bQl5fm"
   },
   "outputs": [],
   "source": [
    "def titanic_fe(df):\n",
    "    temp = df.copy()\n",
    "    # Family 변수 추가\n",
    "    temp['Family'] = temp['SibSp'] + temp['Parch'] + 1\n",
    "    temp.drop(['SibSp', 'Parch'], axis = 1, inplace = True)\n",
    "\n",
    "    # OOO 추가...\n",
    "    return temp\n",
    "\n",
    "def titanic_dumm(df, cat):\n",
    "    for k, v in cat.items():\n",
    "        df[k] = pd.Categorical(df[k], categories=v, ordered=False)\n",
    "    df = pd.get_dummies(df, columns =cat.keys(), drop_first = 1)\n",
    "    return df\n",
    "\n",
    "def titanic_datapipeline(df, simpleimputer, simple_impute_list, dumm_list, scaler, knnimputer):\n",
    "\n",
    "    temp = df.copy()\n",
    "\n",
    "    # Feature Engineering\n",
    "    temp = titanic_fe(temp)\n",
    "\n",
    "    # NaN 조치① : SimpleImputer\n",
    "    temp[simple_impute_list] = simpleimputer.fit_transform(temp[simple_impute_list])\n",
    "\n",
    "    # 가변수화\n",
    "    temp = titanic_dumm(temp, dumm_list)\n",
    "\n",
    "    x_cols = list(temp)\n",
    "\n",
    "    # 스케일링\n",
    "    temp = scaler.transform(temp)\n",
    "\n",
    "    # NaN 조치② : KNNImputer\n",
    "    temp = knnimputer.transform(temp)\n",
    "\n",
    "    return pd.DataFrame(temp, columns = x_cols)\n"
   ]
  },
  {
   "cell_type": "markdown",
   "id": "2pXrHi6lkuvP",
   "metadata": {
    "id": "2pXrHi6lkuvP"
   },
   "source": [
    "* 오브젝트들 불러오기"
   ]
  },
  {
   "cell_type": "code",
   "execution_count": 51,
   "id": "c1Sh4L5_k7rW",
   "metadata": {
    "id": "c1Sh4L5_k7rW"
   },
   "outputs": [],
   "source": [
    "imputer1_list = joblib.load('imputer1_list.pkl')\n",
    "cat = joblib.load('cat.pkl')\n",
    "\n",
    "imputer1 = joblib.load('preprocess/imputer1_ti1.pkl')\n",
    "imputer2 = joblib.load('preprocess/imputer2_ti1.pkl')\n",
    "scaler = joblib.load('preprocess/scaler_ti1.pkl')\n",
    "model = joblib.load('model/model_ti1.pkl')"
   ]
  },
  {
   "cell_type": "code",
   "execution_count": null,
   "id": "2Q1xH3p5k0Ph",
   "metadata": {
    "id": "2Q1xH3p5k0Ph"
   },
   "outputs": [],
   "source": []
  },
  {
   "cell_type": "markdown",
   "id": "zfYDTnVVmB3b",
   "metadata": {
    "id": "zfYDTnVVmB3b"
   },
   "source": [
    "* 적용하기"
   ]
  },
  {
   "cell_type": "code",
   "execution_count": 52,
   "id": "gEobfBor_1us",
   "metadata": {
    "id": "gEobfBor_1us"
   },
   "outputs": [],
   "source": [
    "# 적용\n",
    "input = titanic_datapipeline(x_test, imputer1, imputer1_list, cat, scaler, imputer2)"
   ]
  },
  {
   "cell_type": "code",
   "execution_count": 53,
   "id": "CUKyHVqynFMq",
   "metadata": {
    "id": "CUKyHVqynFMq"
   },
   "outputs": [
    {
     "data": {
      "text/html": [
       "<div>\n",
       "<style scoped>\n",
       "    .dataframe tbody tr th:only-of-type {\n",
       "        vertical-align: middle;\n",
       "    }\n",
       "\n",
       "    .dataframe tbody tr th {\n",
       "        vertical-align: top;\n",
       "    }\n",
       "\n",
       "    .dataframe thead th {\n",
       "        text-align: right;\n",
       "    }\n",
       "</style>\n",
       "<table border=\"1\" class=\"dataframe\">\n",
       "  <thead>\n",
       "    <tr style=\"text-align: right;\">\n",
       "      <th></th>\n",
       "      <th>Age</th>\n",
       "      <th>Fare</th>\n",
       "      <th>Family</th>\n",
       "      <th>Sex_male</th>\n",
       "      <th>Embarked_Q</th>\n",
       "      <th>Embarked_S</th>\n",
       "      <th>Pclass_2</th>\n",
       "      <th>Pclass_3</th>\n",
       "    </tr>\n",
       "  </thead>\n",
       "  <tbody>\n",
       "    <tr>\n",
       "      <th>0</th>\n",
       "      <td>0.258608</td>\n",
       "      <td>0.014932</td>\n",
       "      <td>0.0</td>\n",
       "      <td>0.0</td>\n",
       "      <td>0.0</td>\n",
       "      <td>1.0</td>\n",
       "      <td>0.0</td>\n",
       "      <td>1.0</td>\n",
       "    </tr>\n",
       "    <tr>\n",
       "      <th>1</th>\n",
       "      <td>0.648153</td>\n",
       "      <td>0.059532</td>\n",
       "      <td>0.0</td>\n",
       "      <td>1.0</td>\n",
       "      <td>0.0</td>\n",
       "      <td>1.0</td>\n",
       "      <td>0.0</td>\n",
       "      <td>0.0</td>\n",
       "    </tr>\n",
       "    <tr>\n",
       "      <th>2</th>\n",
       "      <td>0.308872</td>\n",
       "      <td>0.014151</td>\n",
       "      <td>0.0</td>\n",
       "      <td>1.0</td>\n",
       "      <td>0.0</td>\n",
       "      <td>1.0</td>\n",
       "      <td>0.0</td>\n",
       "      <td>1.0</td>\n",
       "    </tr>\n",
       "    <tr>\n",
       "      <th>3</th>\n",
       "      <td>0.723549</td>\n",
       "      <td>0.299539</td>\n",
       "      <td>0.1</td>\n",
       "      <td>0.0</td>\n",
       "      <td>0.0</td>\n",
       "      <td>1.0</td>\n",
       "      <td>0.0</td>\n",
       "      <td>0.0</td>\n",
       "    </tr>\n",
       "    <tr>\n",
       "      <th>4</th>\n",
       "      <td>0.271174</td>\n",
       "      <td>0.081157</td>\n",
       "      <td>0.3</td>\n",
       "      <td>0.0</td>\n",
       "      <td>0.0</td>\n",
       "      <td>0.0</td>\n",
       "      <td>1.0</td>\n",
       "      <td>0.0</td>\n",
       "    </tr>\n",
       "    <tr>\n",
       "      <th>5</th>\n",
       "      <td>0.560191</td>\n",
       "      <td>0.051822</td>\n",
       "      <td>0.0</td>\n",
       "      <td>1.0</td>\n",
       "      <td>0.0</td>\n",
       "      <td>1.0</td>\n",
       "      <td>0.0</td>\n",
       "      <td>0.0</td>\n",
       "    </tr>\n",
       "    <tr>\n",
       "      <th>6</th>\n",
       "      <td>0.208344</td>\n",
       "      <td>0.013907</td>\n",
       "      <td>0.0</td>\n",
       "      <td>1.0</td>\n",
       "      <td>0.0</td>\n",
       "      <td>1.0</td>\n",
       "      <td>0.0</td>\n",
       "      <td>1.0</td>\n",
       "    </tr>\n",
       "    <tr>\n",
       "      <th>7</th>\n",
       "      <td>0.447097</td>\n",
       "      <td>0.025374</td>\n",
       "      <td>0.0</td>\n",
       "      <td>1.0</td>\n",
       "      <td>0.0</td>\n",
       "      <td>1.0</td>\n",
       "      <td>1.0</td>\n",
       "      <td>0.0</td>\n",
       "    </tr>\n",
       "    <tr>\n",
       "      <th>8</th>\n",
       "      <td>0.648153</td>\n",
       "      <td>0.026350</td>\n",
       "      <td>0.0</td>\n",
       "      <td>1.0</td>\n",
       "      <td>0.0</td>\n",
       "      <td>1.0</td>\n",
       "      <td>1.0</td>\n",
       "      <td>0.0</td>\n",
       "    </tr>\n",
       "    <tr>\n",
       "      <th>9</th>\n",
       "      <td>0.377984</td>\n",
       "      <td>0.015713</td>\n",
       "      <td>0.0</td>\n",
       "      <td>1.0</td>\n",
       "      <td>0.0</td>\n",
       "      <td>1.0</td>\n",
       "      <td>0.0</td>\n",
       "      <td>1.0</td>\n",
       "    </tr>\n",
       "  </tbody>\n",
       "</table>\n",
       "</div>"
      ],
      "text/plain": [
       "        Age      Fare  Family  Sex_male  Embarked_Q  Embarked_S  Pclass_2  \\\n",
       "0  0.258608  0.014932     0.0       0.0         0.0         1.0       0.0   \n",
       "1  0.648153  0.059532     0.0       1.0         0.0         1.0       0.0   \n",
       "2  0.308872  0.014151     0.0       1.0         0.0         1.0       0.0   \n",
       "3  0.723549  0.299539     0.1       0.0         0.0         1.0       0.0   \n",
       "4  0.271174  0.081157     0.3       0.0         0.0         0.0       1.0   \n",
       "5  0.560191  0.051822     0.0       1.0         0.0         1.0       0.0   \n",
       "6  0.208344  0.013907     0.0       1.0         0.0         1.0       0.0   \n",
       "7  0.447097  0.025374     0.0       1.0         0.0         1.0       1.0   \n",
       "8  0.648153  0.026350     0.0       1.0         0.0         1.0       1.0   \n",
       "9  0.377984  0.015713     0.0       1.0         0.0         1.0       0.0   \n",
       "\n",
       "   Pclass_3  \n",
       "0       1.0  \n",
       "1       0.0  \n",
       "2       1.0  \n",
       "3       0.0  \n",
       "4       0.0  \n",
       "5       0.0  \n",
       "6       1.0  \n",
       "7       0.0  \n",
       "8       0.0  \n",
       "9       1.0  "
      ]
     },
     "execution_count": 53,
     "metadata": {},
     "output_type": "execute_result"
    }
   ],
   "source": [
    "input"
   ]
  },
  {
   "cell_type": "code",
   "execution_count": 54,
   "id": "xCLyPjMZ_2mG",
   "metadata": {
    "id": "xCLyPjMZ_2mG"
   },
   "outputs": [
    {
     "name": "stderr",
     "output_type": "stream",
     "text": [
      "C:\\Users\\User\\anaconda3\\lib\\site-packages\\sklearn\\base.py:443: UserWarning: X has feature names, but SVC was fitted without feature names\n",
      "  warnings.warn(\n"
     ]
    },
    {
     "data": {
      "text/plain": [
       "array([0, 0, 0, 1, 1, 0, 0, 0, 0, 0], dtype=int64)"
      ]
     },
     "execution_count": 54,
     "metadata": {},
     "output_type": "execute_result"
    }
   ],
   "source": [
    "# 예측\n",
    "model.predict(input)"
   ]
  },
  {
   "cell_type": "markdown",
   "id": "aZD55y7EyEnw",
   "metadata": {
    "id": "aZD55y7EyEnw"
   },
   "source": [
    "* 모델_timestamp.pkl 형식으로 모델에 대한 버전관리를 해 봅시다."
   ]
  },
  {
   "cell_type": "markdown",
   "id": "F4qZ_Yleznc5",
   "metadata": {
    "id": "F4qZ_Yleznc5"
   },
   "source": [
    "* timestamp 만들기"
   ]
  },
  {
   "cell_type": "code",
   "execution_count": 55,
   "id": "e6kniok5vcx8",
   "metadata": {
    "id": "e6kniok5vcx8"
   },
   "outputs": [
    {
     "name": "stdout",
     "output_type": "stream",
     "text": [
      "20220401_103218\n"
     ]
    }
   ],
   "source": [
    "import datetime\n",
    "\n",
    "now = datetime.datetime.now()\n",
    "timestamp = now.strftime(\"%Y%m%d_%H%M%S\")\n",
    "print(timestamp)"
   ]
  },
  {
   "cell_type": "markdown",
   "id": "tW9p4Gh1zsMh",
   "metadata": {
    "id": "tW9p4Gh1zsMh"
   },
   "source": [
    "* 모델 이름에 붙이기"
   ]
  },
  {
   "cell_type": "code",
   "execution_count": 56,
   "id": "OSmLEGDYvcsI",
   "metadata": {
    "id": "OSmLEGDYvcsI"
   },
   "outputs": [
    {
     "data": {
      "text/plain": [
       "['model_20220401_103218.pkl']"
      ]
     },
     "execution_count": 56,
     "metadata": {},
     "output_type": "execute_result"
    }
   ],
   "source": [
    "now = datetime.datetime.now()\n",
    "timestamp = now.strftime(\"%Y%m%d_%H%M%S\")\n",
    "\n",
    "model_fname = 'model_' + timestamp + '.pkl'\n",
    "joblib.dump(model, model_fname)"
   ]
  },
  {
   "cell_type": "markdown",
   "id": "RIthx2IJztxF",
   "metadata": {
    "id": "RIthx2IJztxF"
   },
   "source": [
    "* 모델을 추가해 봅시다."
   ]
  },
  {
   "cell_type": "code",
   "execution_count": 57,
   "id": "9UPLUbkqvco8",
   "metadata": {
    "id": "9UPLUbkqvco8"
   },
   "outputs": [
    {
     "name": "stderr",
     "output_type": "stream",
     "text": [
      "C:\\Users\\User\\anaconda3\\lib\\site-packages\\sklearn\\base.py:443: UserWarning: X has feature names, but KNNImputer was fitted without feature names\n",
      "  warnings.warn(\n",
      "C:\\Users\\User\\anaconda3\\lib\\site-packages\\sklearn\\base.py:450: UserWarning: X does not have valid feature names, but MinMaxScaler was fitted with feature names\n",
      "  warnings.warn(\n"
     ]
    },
    {
     "data": {
      "text/plain": [
       "['model_20220401_103219.pkl']"
      ]
     },
     "execution_count": 57,
     "metadata": {},
     "output_type": "execute_result"
    }
   ],
   "source": [
    "x_train = titanic_datapipeline(x_train, imputer1, imputer1_list, cat, imputer2, scaler)\n",
    "\n",
    "model = SVC(C=0.1)\n",
    "model.fit(x_train, y_train)\n",
    "\n",
    "now = datetime.datetime.now()\n",
    "timestamp = now.strftime(\"%Y%m%d_%H%M%S\")\n",
    "\n",
    "model_fname = 'model_' + timestamp + '.pkl'\n",
    "joblib.dump(model, model_fname)"
   ]
  },
  {
   "cell_type": "code",
   "execution_count": null,
   "id": "Kh0bD3Jxvcl7",
   "metadata": {
    "id": "Kh0bD3Jxvcl7"
   },
   "outputs": [],
   "source": []
  }
 ],
 "metadata": {
  "colab": {
   "collapsed_sections": [],
   "name": "3. 모델관리_예제.ipynb",
   "provenance": [],
   "toc_visible": true
  },
  "kernelspec": {
   "display_name": "Python 3",
   "language": "python",
   "name": "python3"
  },
  "language_info": {
   "codemirror_mode": {
    "name": "ipython",
    "version": 3
   },
   "file_extension": ".py",
   "mimetype": "text/x-python",
   "name": "python",
   "nbconvert_exporter": "python",
   "pygments_lexer": "ipython3",
   "version": "3.8.8"
  }
 },
 "nbformat": 4,
 "nbformat_minor": 5
}
