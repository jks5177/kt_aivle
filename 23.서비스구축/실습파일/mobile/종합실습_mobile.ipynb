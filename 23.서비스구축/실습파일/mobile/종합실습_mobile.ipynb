{
 "cells": [
  {
   "cell_type": "markdown",
   "id": "wo-iPN8Y1V5r",
   "metadata": {
    "id": "wo-iPN8Y1V5r"
   },
   "source": [
    "# ML Pipeline\n",
    "\n",
    "* 이제 여러분은 코드를 작성할 때, 두 가지를 고려해야 합니다.\n",
    "    * 재사용 하려면 어떻게 작성해야 할까?\n",
    "    * 물 흐르듯이 pipeline을 구성하려면 어떻게 작성해야 할까?"
   ]
  },
  {
   "cell_type": "markdown",
   "id": "3355e782-d77e-4fa0-8faa-aba12399c367",
   "metadata": {
    "id": "cdQaCT5I0IL_"
   },
   "source": [
    "* 여러분은 OO 통신화사 데이터분석가 입니다.\n",
    "* 회사는 약정기간이 끝난 고객이 번호이동(이탈)해 가는 문제를 해결하고자 합니다.\n",
    "* 그래서 여러분에게, 어떤 고객이 번호이동(이탈)해 가는지 데이터분석을 의뢰하였습니다.\n",
    "* 고객 이탈여부(CHURN)에 영향을 주는 요인을 찾아 봅시다."
   ]
  },
  {
   "cell_type": "markdown",
   "id": "7b9e600f-b85f-4b26-8c58-a7b80811774b",
   "metadata": {
    "id": "ExPzmVxJGvxq"
   },
   "source": [
    "![](https://d18lkz4dllo6v2.cloudfront.net/cumulus_uploads/entry/23964/mobile%20phones.png)"
   ]
  },
  {
   "cell_type": "markdown",
   "id": "87975d0c-1fd1-4dc9-b866-0db5c5d639cd",
   "metadata": {
    "id": "2VGIfdrXAvw_"
   },
   "source": [
    "|변수 명|내용|구분|\n",
    "|\t----\t|\t----\t|\t----\t|\n",
    "|\tCOLLEGE\t|\t대학졸업 여부(1,0) - 범주\t|\t\t|\n",
    "|\tINCOME\t|\t연 수입액(달러)\t|\t\t|\n",
    "|\tOVERAGE\t|\t월 초과사용 시간(분)\t|\t\t|\n",
    "|\tLEFTOVER\t|\t월 사용 잔여시간비율(%)\t|\t\t|\n",
    "|\tHOUSE\t|\t집 가격(달러)\t|\t\t|\n",
    "|\tHANDSET_PRICE\t|\t핸드폰 가격(달러)\t|\t\t|\n",
    "|\tOVER_15MINS_CALLS_PER_MONTH\t|\t 평균 장기통화(15분 이상) 횟수\t|\t\t|\n",
    "|\tAVERAGE_CALL_DURATION\t|\t평균 통화시간(분)\t|\t\t|\n",
    "|\tREPORTED_SATISFACTION\t|\t만족도 설문('very_unsat', 'unsat', 'avg', 'sat', 'very_sat' ) - 범주\t|\t\t|\n",
    "|\tREPORTED_USAGE_LEVEL\t|\t사용 수준 설문('very_little', 'little', 'avg', 'high', 'very_high') - 범주\t|\t\t|\n",
    "|\tCONSIDERING_CHANGE_OF_PLAN\t|\t변경 계획 설문('never_thought', 'no', 'perhaps', 'considering',   'actively_looking_into_it') - 범주\t|\t\t|\n",
    "|\t**CHURN**\t|\t이탈여부(1 : 이탈, 0 : 잔류)\t|\t**Target**\t|\n"
   ]
  },
  {
   "cell_type": "markdown",
   "id": "gvFaKcmP1cwc",
   "metadata": {
    "id": "gvFaKcmP1cwc"
   },
   "source": [
    "## 0.환경준비 "
   ]
  },
  {
   "cell_type": "markdown",
   "id": "zWYL7Ojt1i_I",
   "metadata": {
    "id": "zWYL7Ojt1i_I"
   },
   "source": [
    "### 1) 라이브러리 "
   ]
  },
  {
   "cell_type": "code",
   "execution_count": 1,
   "id": "0d2934eb-098d-4480-8818-9147e3e8eb13",
   "metadata": {
    "id": "0d2934eb-098d-4480-8818-9147e3e8eb13"
   },
   "outputs": [],
   "source": [
    "import pandas as pd\n",
    "import numpy as np\n",
    "\n",
    "from sklearn.model_selection import train_test_split\n",
    "from sklearn.impute import SimpleImputer, KNNImputer\n",
    "from sklearn.preprocessing import MinMaxScaler\n",
    "\n",
    "from sklearn.svm import SVC\n",
    "from sklearn.metrics import classification_report"
   ]
  },
  {
   "cell_type": "markdown",
   "id": "kxg4SHQ91lMZ",
   "metadata": {
    "id": "kxg4SHQ91lMZ"
   },
   "source": [
    "### 2) 데이터 불러오기"
   ]
  },
  {
   "cell_type": "code",
   "execution_count": 2,
   "id": "29715899-12f6-440a-81b0-a3bb48996b30",
   "metadata": {
    "colab": {
     "base_uri": "https://localhost:8080/",
     "height": 206
    },
    "executionInfo": {
     "elapsed": 37,
     "status": "ok",
     "timestamp": 1647767628621,
     "user": {
      "displayName": "한기영",
      "photoUrl": "https://lh3.googleusercontent.com/a/default-user=s64",
      "userId": "13049187003176135487"
     },
     "user_tz": -540
    },
    "id": "29715899-12f6-440a-81b0-a3bb48996b30",
    "outputId": "5e81b7f1-6609-46d4-e065-c0d3726bed71"
   },
   "outputs": [
    {
     "data": {
      "text/html": [
       "<div>\n",
       "<style scoped>\n",
       "    .dataframe tbody tr th:only-of-type {\n",
       "        vertical-align: middle;\n",
       "    }\n",
       "\n",
       "    .dataframe tbody tr th {\n",
       "        vertical-align: top;\n",
       "    }\n",
       "\n",
       "    .dataframe thead th {\n",
       "        text-align: right;\n",
       "    }\n",
       "</style>\n",
       "<table border=\"1\" class=\"dataframe\">\n",
       "  <thead>\n",
       "    <tr style=\"text-align: right;\">\n",
       "      <th></th>\n",
       "      <th>COLLEGE</th>\n",
       "      <th>INCOME</th>\n",
       "      <th>OVERAGE</th>\n",
       "      <th>LEFTOVER</th>\n",
       "      <th>HOUSE</th>\n",
       "      <th>HANDSET_PRICE</th>\n",
       "      <th>OVER_15MINS_CALLS_PER_MONTH</th>\n",
       "      <th>AVERAGE_CALL_DURATION</th>\n",
       "      <th>REPORTED_SATISFACTION</th>\n",
       "      <th>REPORTED_USAGE_LEVEL</th>\n",
       "      <th>CONSIDERING_CHANGE_OF_PLAN</th>\n",
       "      <th>CHURN</th>\n",
       "    </tr>\n",
       "  </thead>\n",
       "  <tbody>\n",
       "    <tr>\n",
       "      <th>0</th>\n",
       "      <td>1</td>\n",
       "      <td>47711</td>\n",
       "      <td>183</td>\n",
       "      <td>17</td>\n",
       "      <td>730589.0</td>\n",
       "      <td>192</td>\n",
       "      <td>19</td>\n",
       "      <td>5</td>\n",
       "      <td>unsat</td>\n",
       "      <td>little</td>\n",
       "      <td>considering</td>\n",
       "      <td>0</td>\n",
       "    </tr>\n",
       "    <tr>\n",
       "      <th>1</th>\n",
       "      <td>0</td>\n",
       "      <td>74132</td>\n",
       "      <td>191</td>\n",
       "      <td>43</td>\n",
       "      <td>535092.0</td>\n",
       "      <td>349</td>\n",
       "      <td>15</td>\n",
       "      <td>2</td>\n",
       "      <td>unsat</td>\n",
       "      <td>very_little</td>\n",
       "      <td>no</td>\n",
       "      <td>1</td>\n",
       "    </tr>\n",
       "    <tr>\n",
       "      <th>2</th>\n",
       "      <td>1</td>\n",
       "      <td>150419</td>\n",
       "      <td>0</td>\n",
       "      <td>14</td>\n",
       "      <td>204004.0</td>\n",
       "      <td>682</td>\n",
       "      <td>0</td>\n",
       "      <td>6</td>\n",
       "      <td>unsat</td>\n",
       "      <td>very_high</td>\n",
       "      <td>considering</td>\n",
       "      <td>0</td>\n",
       "    </tr>\n",
       "    <tr>\n",
       "      <th>3</th>\n",
       "      <td>0</td>\n",
       "      <td>159567</td>\n",
       "      <td>0</td>\n",
       "      <td>58</td>\n",
       "      <td>281969.0</td>\n",
       "      <td>634</td>\n",
       "      <td>1</td>\n",
       "      <td>1</td>\n",
       "      <td>very_unsat</td>\n",
       "      <td>very_high</td>\n",
       "      <td>never_thought</td>\n",
       "      <td>0</td>\n",
       "    </tr>\n",
       "    <tr>\n",
       "      <th>4</th>\n",
       "      <td>1</td>\n",
       "      <td>23392</td>\n",
       "      <td>0</td>\n",
       "      <td>0</td>\n",
       "      <td>216707.0</td>\n",
       "      <td>233</td>\n",
       "      <td>0</td>\n",
       "      <td>15</td>\n",
       "      <td>unsat</td>\n",
       "      <td>very_little</td>\n",
       "      <td>no</td>\n",
       "      <td>1</td>\n",
       "    </tr>\n",
       "  </tbody>\n",
       "</table>\n",
       "</div>"
      ],
      "text/plain": [
       "   COLLEGE  INCOME  OVERAGE  LEFTOVER     HOUSE  HANDSET_PRICE  \\\n",
       "0        1   47711      183        17  730589.0            192   \n",
       "1        0   74132      191        43  535092.0            349   \n",
       "2        1  150419        0        14  204004.0            682   \n",
       "3        0  159567        0        58  281969.0            634   \n",
       "4        1   23392        0         0  216707.0            233   \n",
       "\n",
       "   OVER_15MINS_CALLS_PER_MONTH  AVERAGE_CALL_DURATION REPORTED_SATISFACTION  \\\n",
       "0                           19                      5                 unsat   \n",
       "1                           15                      2                 unsat   \n",
       "2                            0                      6                 unsat   \n",
       "3                            1                      1            very_unsat   \n",
       "4                            0                     15                 unsat   \n",
       "\n",
       "  REPORTED_USAGE_LEVEL CONSIDERING_CHANGE_OF_PLAN  CHURN  \n",
       "0               little                considering      0  \n",
       "1          very_little                         no      1  \n",
       "2            very_high                considering      0  \n",
       "3            very_high              never_thought      0  \n",
       "4          very_little                         no      1  "
      ]
     },
     "execution_count": 2,
     "metadata": {},
     "output_type": "execute_result"
    }
   ],
   "source": [
    "use_cols = ['COLLEGE', 'INCOME', 'OVERAGE', 'LEFTOVER', 'HOUSE', 'HANDSET_PRICE', 'OVER_15MINS_CALLS_PER_MONTH', 'AVERAGE_CALL_DURATION',\n",
    "            'REPORTED_SATISFACTION', 'REPORTED_USAGE_LEVEL', 'CONSIDERING_CHANGE_OF_PLAN', 'CHURN']\n",
    "data = pd.read_csv('data/mobile.csv', usecols = use_cols )\n",
    "data.head()"
   ]
  },
  {
   "cell_type": "markdown",
   "id": "ebk_wcdx1zkK",
   "metadata": {
    "id": "ebk_wcdx1zkK"
   },
   "source": [
    "## 2.데이터 전처리"
   ]
  },
  {
   "cell_type": "markdown",
   "id": "XDfKLZPE4dvx",
   "metadata": {
    "id": "XDfKLZPE4dvx"
   },
   "source": [
    "### 1) 불필요한 데이터 처리\n",
    "처음부터 꼭 필요한 칼럼만 지정하여 불러오는 것이 좋습니다."
   ]
  },
  {
   "cell_type": "markdown",
   "id": "3Fq2110K5jzZ",
   "metadata": {
    "id": "3Fq2110K5jzZ"
   },
   "source": [
    "### 2) 데이터 분할"
   ]
  },
  {
   "cell_type": "markdown",
   "id": "PtSEkpMXj7Gr",
   "metadata": {
    "id": "PtSEkpMXj7Gr"
   },
   "source": [
    "#### x, y 분할"
   ]
  },
  {
   "cell_type": "code",
   "execution_count": 3,
   "id": "2bc62c05-b3ca-4e7f-a6b5-61d2efd4d309",
   "metadata": {
    "id": "2bc62c05-b3ca-4e7f-a6b5-61d2efd4d309",
    "tags": []
   },
   "outputs": [],
   "source": [
    "target = 'CHURN'\n",
    "x = data.drop(target, axis=1)\n",
    "y = data[target]"
   ]
  },
  {
   "cell_type": "markdown",
   "id": "gx3dbA4B5rYs",
   "metadata": {
    "id": "gx3dbA4B5rYs"
   },
   "source": [
    "#### test 분할\n",
    "\n",
    "여기서는 조금만 떼어 냅시다."
   ]
  },
  {
   "cell_type": "code",
   "execution_count": 4,
   "id": "3b9bbb95-fd1d-424a-9f38-ddfdafbd729b",
   "metadata": {
    "id": "3b9bbb95-fd1d-424a-9f38-ddfdafbd729b"
   },
   "outputs": [],
   "source": [
    "from sklearn.model_selection import train_test_split\n",
    "\n",
    "x_train, x_test, y_train, y_test = train_test_split(x, y, test_size=0.15, random_state=2022)"
   ]
  },
  {
   "cell_type": "markdown",
   "id": "SJ72dPUwbKO3",
   "metadata": {
    "id": "SJ72dPUwbKO3"
   },
   "source": [
    "#### train, val 분할"
   ]
  },
  {
   "cell_type": "code",
   "execution_count": 5,
   "id": "5b45c3c2-bc9d-4c5e-87b0-fd182d76fefd",
   "metadata": {
    "id": "5b45c3c2-bc9d-4c5e-87b0-fd182d76fefd"
   },
   "outputs": [],
   "source": [
    "x_train, x_val, y_train, y_val = train_test_split(x_train, y_train, test_size=0.2, random_state=2022)"
   ]
  },
  {
   "cell_type": "markdown",
   "id": "WS3xPbXr7ALa",
   "metadata": {
    "id": "WS3xPbXr7ALa"
   },
   "source": [
    "### 3) Feature Engineering"
   ]
  },
  {
   "cell_type": "markdown",
   "id": "2FCZUkU28m_s",
   "metadata": {
    "id": "2FCZUkU28m_s"
   },
   "source": [
    "### 4) NaN 조치①"
   ]
  },
  {
   "cell_type": "markdown",
   "id": "eDPXTMOr8w96",
   "metadata": {
    "id": "eDPXTMOr8w96"
   },
   "source": [
    "* 먼저 x의 NaN을 조사해 봅시다."
   ]
  },
  {
   "cell_type": "code",
   "execution_count": 6,
   "id": "yu38DJkw81YG",
   "metadata": {
    "colab": {
     "base_uri": "https://localhost:8080/"
    },
    "executionInfo": {
     "elapsed": 34,
     "status": "ok",
     "timestamp": 1647767628626,
     "user": {
      "displayName": "한기영",
      "photoUrl": "https://lh3.googleusercontent.com/a/default-user=s64",
      "userId": "13049187003176135487"
     },
     "user_tz": -540
    },
    "id": "yu38DJkw81YG",
    "outputId": "e5a1ca9c-1d10-4317-cc13-b6649a5f0c52"
   },
   "outputs": [
    {
     "data": {
      "text/plain": [
       "COLLEGE                         0\n",
       "INCOME                          0\n",
       "OVERAGE                         0\n",
       "LEFTOVER                        0\n",
       "HOUSE                           6\n",
       "HANDSET_PRICE                   0\n",
       "OVER_15MINS_CALLS_PER_MONTH     0\n",
       "AVERAGE_CALL_DURATION           0\n",
       "REPORTED_SATISFACTION          30\n",
       "REPORTED_USAGE_LEVEL            0\n",
       "CONSIDERING_CHANGE_OF_PLAN      0\n",
       "dtype: int64"
      ]
     },
     "execution_count": 6,
     "metadata": {},
     "output_type": "execute_result"
    }
   ],
   "source": [
    "x_train.isna().sum()"
   ]
  },
  {
   "cell_type": "markdown",
   "id": "JmMoOjhN-byp",
   "metadata": {
    "id": "JmMoOjhN-byp"
   },
   "source": [
    "#### SimpleImputer \n",
    "\n",
    "https://scikit-learn.org/stable/modules/generated/sklearn.impute.SimpleImputer.html"
   ]
  },
  {
   "cell_type": "code",
   "execution_count": 7,
   "id": "h8X9ikWf-a85",
   "metadata": {
    "id": "h8X9ikWf-a85"
   },
   "outputs": [],
   "source": [
    "from sklearn.impute import SimpleImputer\n",
    "\n",
    "imputer1_list = ['REPORTED_SATISFACTION']\n",
    "\n",
    "imputer1 = SimpleImputer(strategy='most_frequent')\n",
    "\n",
    "x_train[imputer1_list] = imputer1.fit_transform(x_train[imputer1_list])"
   ]
  },
  {
   "cell_type": "code",
   "execution_count": 8,
   "id": "Q3NDWUVwBPii",
   "metadata": {
    "colab": {
     "base_uri": "https://localhost:8080/"
    },
    "executionInfo": {
     "elapsed": 33,
     "status": "ok",
     "timestamp": 1647767628627,
     "user": {
      "displayName": "한기영",
      "photoUrl": "https://lh3.googleusercontent.com/a/default-user=s64",
      "userId": "13049187003176135487"
     },
     "user_tz": -540
    },
    "id": "Q3NDWUVwBPii",
    "outputId": "74899050-3fdb-4bc1-9b9a-23be9666bf5a"
   },
   "outputs": [
    {
     "data": {
      "text/plain": [
       "COLLEGE                        0\n",
       "INCOME                         0\n",
       "OVERAGE                        0\n",
       "LEFTOVER                       0\n",
       "HOUSE                          6\n",
       "HANDSET_PRICE                  0\n",
       "OVER_15MINS_CALLS_PER_MONTH    0\n",
       "AVERAGE_CALL_DURATION          0\n",
       "REPORTED_SATISFACTION          0\n",
       "REPORTED_USAGE_LEVEL           0\n",
       "CONSIDERING_CHANGE_OF_PLAN     0\n",
       "dtype: int64"
      ]
     },
     "execution_count": 8,
     "metadata": {},
     "output_type": "execute_result"
    }
   ],
   "source": [
    "x_train.isna().sum()"
   ]
  },
  {
   "cell_type": "markdown",
   "id": "Eo7jUhhSkukR",
   "metadata": {
    "id": "Eo7jUhhSkukR"
   },
   "source": [
    "#### validation set에 적용하기"
   ]
  },
  {
   "cell_type": "code",
   "execution_count": 9,
   "id": "BTyheb3kku6i",
   "metadata": {
    "id": "BTyheb3kku6i"
   },
   "outputs": [],
   "source": [
    "x_val[imputer1_list] = imputer1.fit_transform(x_val[imputer1_list])"
   ]
  },
  {
   "cell_type": "code",
   "execution_count": 10,
   "id": "765f0608-3644-4712-b027-7f41660d7e14",
   "metadata": {},
   "outputs": [
    {
     "data": {
      "text/plain": [
       "COLLEGE                        0\n",
       "INCOME                         0\n",
       "OVERAGE                        0\n",
       "LEFTOVER                       0\n",
       "HOUSE                          3\n",
       "HANDSET_PRICE                  0\n",
       "OVER_15MINS_CALLS_PER_MONTH    0\n",
       "AVERAGE_CALL_DURATION          0\n",
       "REPORTED_SATISFACTION          0\n",
       "REPORTED_USAGE_LEVEL           0\n",
       "CONSIDERING_CHANGE_OF_PLAN     0\n",
       "dtype: int64"
      ]
     },
     "execution_count": 10,
     "metadata": {},
     "output_type": "execute_result"
    }
   ],
   "source": [
    "x_val.isna().sum()"
   ]
  },
  {
   "cell_type": "markdown",
   "id": "NJtEw33yEGHv",
   "metadata": {
    "id": "NJtEw33yEGHv"
   },
   "source": [
    "### 5) 가변수화"
   ]
  },
  {
   "cell_type": "code",
   "execution_count": 11,
   "id": "b908767b-e73a-40ac-ab20-d7c0f8c5bfaa",
   "metadata": {
    "colab": {
     "base_uri": "https://localhost:8080/"
    },
    "executionInfo": {
     "elapsed": 282,
     "status": "ok",
     "timestamp": 1648167536204,
     "user": {
      "displayName": "한기영",
      "photoUrl": "https://lh3.googleusercontent.com/a/default-user=s64",
      "userId": "13049187003176135487"
     },
     "user_tz": -540
    },
    "id": "FlJjfxAzNQ-Z",
    "outputId": "831a1572-2133-4a8c-e08d-e81f965b549a"
   },
   "outputs": [],
   "source": [
    "cat = {'REPORTED_SATISFACTION':['very_unsat', 'unsat', 'avg', 'sat', 'very_sat'],\n",
    "       'REPORTED_USAGE_LEVEL':['very_little', 'little', 'avg', 'high', 'very_high'],\n",
    "       'CONSIDERING_CHANGE_OF_PLAN':['never_thought', 'no', 'perhaps', 'considering', 'actively_looking_into_it']}\n",
    "\n",
    "def mobile_to_categorical(df, cat) :\n",
    "    tmp = df.copy()\n",
    "    for k, v in cat.items() :\n",
    "        tmp[k] = pd.Categorical(tmp[k], categories=v, ordered=False)\n",
    "    tmp = pd.get_dummies(tmp, columns=cat.keys(), drop_first=True)\n",
    "    return tmp"
   ]
  },
  {
   "cell_type": "code",
   "execution_count": 12,
   "id": "acfd17c8-1291-43b7-9c1f-ba8a0994b7ef",
   "metadata": {
    "colab": {
     "base_uri": "https://localhost:8080/"
    },
    "executionInfo": {
     "elapsed": 257,
     "status": "ok",
     "timestamp": 1648167563125,
     "user": {
      "displayName": "한기영",
      "photoUrl": "https://lh3.googleusercontent.com/a/default-user=s64",
      "userId": "13049187003176135487"
     },
     "user_tz": -540
    },
    "id": "K4aMt7vRcSi7",
    "outputId": "66404647-6af6-41ea-c0fa-f9063376afbd"
   },
   "outputs": [],
   "source": [
    "x_train = mobile_to_categorical(x_train, cat)"
   ]
  },
  {
   "cell_type": "markdown",
   "id": "add5ed0f-c5d4-4761-853d-f0a2c210fe94",
   "metadata": {
    "id": "245yN7iqlSs5"
   },
   "source": [
    "#### validation set에 적용하기"
   ]
  },
  {
   "cell_type": "code",
   "execution_count": 13,
   "id": "97768214-811b-42c5-9cf6-e2dd147bff09",
   "metadata": {
    "colab": {
     "base_uri": "https://localhost:8080/",
     "height": 270
    },
    "executionInfo": {
     "elapsed": 275,
     "status": "ok",
     "timestamp": 1648167641749,
     "user": {
      "displayName": "한기영",
      "photoUrl": "https://lh3.googleusercontent.com/a/default-user=s64",
      "userId": "13049187003176135487"
     },
     "user_tz": -540
    },
    "id": "IquGZ7hdlWyP",
    "outputId": "3ac4fdd2-aaef-42b1-f9e4-c988631e837f"
   },
   "outputs": [],
   "source": [
    "x_val = mobile_to_categorical(x_val, cat)"
   ]
  },
  {
   "cell_type": "markdown",
   "id": "51bb3b5e-9c8e-4772-8201-e63511ea8675",
   "metadata": {
    "id": "CS15WVnCbd47"
   },
   "source": [
    "### 6) 스케일링\n"
   ]
  },
  {
   "cell_type": "code",
   "execution_count": 14,
   "id": "0d3f8922-509f-4f13-826a-c3b84848f455",
   "metadata": {
    "executionInfo": {
     "elapsed": 277,
     "status": "ok",
     "timestamp": 1648167717288,
     "user": {
      "displayName": "한기영",
      "photoUrl": "https://lh3.googleusercontent.com/a/default-user=s64",
      "userId": "13049187003176135487"
     },
     "user_tz": -540
    },
    "id": "hMc6VAEzc1Ku"
   },
   "outputs": [],
   "source": [
    "from sklearn.preprocessing import MinMaxScaler\n",
    "\n",
    "scaler = MinMaxScaler()\n",
    "\n",
    "x_train_s = scaler.fit_transform(x_train)"
   ]
  },
  {
   "cell_type": "markdown",
   "id": "19adbfe0-a71c-40f9-9b7a-f41119dabe65",
   "metadata": {
    "id": "pBFGCYp1nfmz"
   },
   "source": [
    "#### validation set에 적용하기"
   ]
  },
  {
   "cell_type": "code",
   "execution_count": 15,
   "id": "fb81310e-1999-498c-98cf-db6d764d3214",
   "metadata": {
    "executionInfo": {
     "elapsed": 271,
     "status": "ok",
     "timestamp": 1648167731591,
     "user": {
      "displayName": "한기영",
      "photoUrl": "https://lh3.googleusercontent.com/a/default-user=s64",
      "userId": "13049187003176135487"
     },
     "user_tz": -540
    },
    "id": "5zBcHvLtnfm0"
   },
   "outputs": [],
   "source": [
    "x_val_s = scaler.transform(x_val)"
   ]
  },
  {
   "cell_type": "markdown",
   "id": "oIpHRXv4blvU",
   "metadata": {
    "id": "oIpHRXv4blvU"
   },
   "source": [
    "### 7) NaN 조치②"
   ]
  },
  {
   "cell_type": "markdown",
   "id": "--vlRElYbsEn",
   "metadata": {
    "id": "--vlRElYbsEn"
   },
   "source": [
    "#### KNNImputer\n",
    "https://scikit-learn.org/stable/modules/generated/sklearn.impute.KNNImputer.html"
   ]
  },
  {
   "cell_type": "code",
   "execution_count": 16,
   "id": "MvX_sF9Dn9Sj",
   "metadata": {
    "executionInfo": {
     "elapsed": 3,
     "status": "ok",
     "timestamp": 1648167662878,
     "user": {
      "displayName": "한기영",
      "photoUrl": "https://lh3.googleusercontent.com/a/default-user=s64",
      "userId": "13049187003176135487"
     },
     "user_tz": -540
    },
    "id": "MvX_sF9Dn9Sj"
   },
   "outputs": [],
   "source": [
    "from sklearn.impute import KNNImputer\n",
    "\n",
    "col_list = list(x_train)\n",
    "\n",
    "imputer2 = KNNImputer()\n",
    "x_train_s = imputer2.fit_transform(x_train_s)\n",
    "\n",
    "x_train_s = pd.DataFrame(x_train_s, columns=col_list)"
   ]
  },
  {
   "cell_type": "code",
   "execution_count": 17,
   "id": "7ff0bbbf-2562-4e26-91e0-bf3c43acc95f",
   "metadata": {
    "colab": {
     "base_uri": "https://localhost:8080/"
    },
    "executionInfo": {
     "elapsed": 697,
     "status": "ok",
     "timestamp": 1648167672380,
     "user": {
      "displayName": "한기영",
      "photoUrl": "https://lh3.googleusercontent.com/a/default-user=s64",
      "userId": "13049187003176135487"
     },
     "user_tz": -540
    },
    "id": "7ff0bbbf-2562-4e26-91e0-bf3c43acc95f",
    "outputId": "3476ca2f-be5c-4776-c0d1-310eb2e7c3fe"
   },
   "outputs": [
    {
     "data": {
      "text/plain": [
       "COLLEGE                                                0\n",
       "INCOME                                                 0\n",
       "OVERAGE                                                0\n",
       "LEFTOVER                                               0\n",
       "HOUSE                                                  0\n",
       "HANDSET_PRICE                                          0\n",
       "OVER_15MINS_CALLS_PER_MONTH                            0\n",
       "AVERAGE_CALL_DURATION                                  0\n",
       "REPORTED_SATISFACTION_unsat                            0\n",
       "REPORTED_SATISFACTION_avg                              0\n",
       "REPORTED_SATISFACTION_sat                              0\n",
       "REPORTED_SATISFACTION_very_sat                         0\n",
       "REPORTED_USAGE_LEVEL_little                            0\n",
       "REPORTED_USAGE_LEVEL_avg                               0\n",
       "REPORTED_USAGE_LEVEL_high                              0\n",
       "REPORTED_USAGE_LEVEL_very_high                         0\n",
       "CONSIDERING_CHANGE_OF_PLAN_no                          0\n",
       "CONSIDERING_CHANGE_OF_PLAN_perhaps                     0\n",
       "CONSIDERING_CHANGE_OF_PLAN_considering                 0\n",
       "CONSIDERING_CHANGE_OF_PLAN_actively_looking_into_it    0\n",
       "dtype: int64"
      ]
     },
     "execution_count": 17,
     "metadata": {},
     "output_type": "execute_result"
    }
   ],
   "source": [
    "x_train_s.isna().sum()"
   ]
  },
  {
   "cell_type": "markdown",
   "id": "d49bd5fb-64ce-4f7a-867a-c23acd10f485",
   "metadata": {
    "id": "kDFEgZ0umuzU"
   },
   "source": [
    "#### validation set에 적용하기"
   ]
  },
  {
   "cell_type": "code",
   "execution_count": 18,
   "id": "pZZQbC97mvKw",
   "metadata": {
    "colab": {
     "base_uri": "https://localhost:8080/"
    },
    "executionInfo": {
     "elapsed": 296,
     "status": "ok",
     "timestamp": 1648167690078,
     "user": {
      "displayName": "한기영",
      "photoUrl": "https://lh3.googleusercontent.com/a/default-user=s64",
      "userId": "13049187003176135487"
     },
     "user_tz": -540
    },
    "id": "pZZQbC97mvKw",
    "outputId": "36be5a4a-acde-4905-9cdd-bda7488ec84c"
   },
   "outputs": [],
   "source": [
    "x_val_s = imputer2.transform(x_val_s)\n",
    "\n",
    "x_val_s = pd.DataFrame(x_val_s, columns=col_list)"
   ]
  },
  {
   "cell_type": "markdown",
   "id": "H4zsaCgtn5FJ",
   "metadata": {
    "id": "H4zsaCgtn5FJ"
   },
   "source": [
    "## 3.모델링\n"
   ]
  },
  {
   "cell_type": "code",
   "execution_count": 19,
   "id": "27143e60-a134-496e-b318-d52e45b19a8f",
   "metadata": {
    "colab": {
     "base_uri": "https://localhost:8080/"
    },
    "executionInfo": {
     "elapsed": 37,
     "status": "ok",
     "timestamp": 1647767629289,
     "user": {
      "displayName": "한기영",
      "photoUrl": "https://lh3.googleusercontent.com/a/default-user=s64",
      "userId": "13049187003176135487"
     },
     "user_tz": -540
    },
    "id": "27143e60-a134-496e-b318-d52e45b19a8f",
    "outputId": "2eda6d64-ac15-4058-c053-62edf835c725"
   },
   "outputs": [
    {
     "data": {
      "text/plain": [
       "SVC()"
      ]
     },
     "execution_count": 19,
     "metadata": {},
     "output_type": "execute_result"
    }
   ],
   "source": [
    "from sklearn.svm import SVC\n",
    "\n",
    "model = SVC()\n",
    "model.fit(x_train_s, y_train)"
   ]
  },
  {
   "cell_type": "code",
   "execution_count": 20,
   "id": "16c71a0f-aead-4124-be9a-c8188abe3599",
   "metadata": {
    "colab": {
     "base_uri": "https://localhost:8080/"
    },
    "executionInfo": {
     "elapsed": 36,
     "status": "ok",
     "timestamp": 1647767629290,
     "user": {
      "displayName": "한기영",
      "photoUrl": "https://lh3.googleusercontent.com/a/default-user=s64",
      "userId": "13049187003176135487"
     },
     "user_tz": -540
    },
    "id": "16c71a0f-aead-4124-be9a-c8188abe3599",
    "outputId": "2f83a745-81e9-4060-b3e2-4c140f3bf589"
   },
   "outputs": [
    {
     "name": "stdout",
     "output_type": "stream",
     "text": [
      "              precision    recall  f1-score   support\n",
      "\n",
      "           0       0.64      0.73      0.68      1511\n",
      "           1       0.69      0.59      0.64      1515\n",
      "\n",
      "    accuracy                           0.66      3026\n",
      "   macro avg       0.67      0.66      0.66      3026\n",
      "weighted avg       0.67      0.66      0.66      3026\n",
      "\n"
     ]
    }
   ],
   "source": [
    "from sklearn.metrics import classification_report\n",
    "\n",
    "y_pred = model.predict(x_val_s)\n",
    "print(classification_report(y_val, y_pred))"
   ]
  },
  {
   "cell_type": "markdown",
   "id": "exk5tsLfodSO",
   "metadata": {
    "id": "exk5tsLfodSO"
   },
   "source": [
    "## 4.Data Pipeline 정리\n",
    "\n",
    "* 이제 최적의 모델이 생성되어, 운영시스템에 배포되었습니다.\n",
    "* 운영에서 new data가 주어졌을 때, 어떤 절차로 파이프라인을 구성해야 할까요?"
   ]
  },
  {
   "cell_type": "code",
   "execution_count": 21,
   "id": "668cb59f-069b-497a-8680-e07e22455bd7",
   "metadata": {
    "colab": {
     "base_uri": "https://localhost:8080/",
     "height": 206
    },
    "executionInfo": {
     "elapsed": 34,
     "status": "ok",
     "timestamp": 1647767629290,
     "user": {
      "displayName": "한기영",
      "photoUrl": "https://lh3.googleusercontent.com/a/default-user=s64",
      "userId": "13049187003176135487"
     },
     "user_tz": -540
    },
    "id": "668cb59f-069b-497a-8680-e07e22455bd7",
    "outputId": "2b7a4870-bd58-49bf-efd0-f90fb72da8b0"
   },
   "outputs": [
    {
     "data": {
      "text/html": [
       "<div>\n",
       "<style scoped>\n",
       "    .dataframe tbody tr th:only-of-type {\n",
       "        vertical-align: middle;\n",
       "    }\n",
       "\n",
       "    .dataframe tbody tr th {\n",
       "        vertical-align: top;\n",
       "    }\n",
       "\n",
       "    .dataframe thead th {\n",
       "        text-align: right;\n",
       "    }\n",
       "</style>\n",
       "<table border=\"1\" class=\"dataframe\">\n",
       "  <thead>\n",
       "    <tr style=\"text-align: right;\">\n",
       "      <th></th>\n",
       "      <th>COLLEGE</th>\n",
       "      <th>INCOME</th>\n",
       "      <th>OVERAGE</th>\n",
       "      <th>LEFTOVER</th>\n",
       "      <th>HOUSE</th>\n",
       "      <th>HANDSET_PRICE</th>\n",
       "      <th>OVER_15MINS_CALLS_PER_MONTH</th>\n",
       "      <th>AVERAGE_CALL_DURATION</th>\n",
       "      <th>REPORTED_SATISFACTION</th>\n",
       "      <th>REPORTED_USAGE_LEVEL</th>\n",
       "      <th>CONSIDERING_CHANGE_OF_PLAN</th>\n",
       "    </tr>\n",
       "  </thead>\n",
       "  <tbody>\n",
       "    <tr>\n",
       "      <th>17631</th>\n",
       "      <td>1</td>\n",
       "      <td>27296</td>\n",
       "      <td>104</td>\n",
       "      <td>18</td>\n",
       "      <td>293757.0</td>\n",
       "      <td>181</td>\n",
       "      <td>5</td>\n",
       "      <td>5</td>\n",
       "      <td>very_sat</td>\n",
       "      <td>little</td>\n",
       "      <td>no</td>\n",
       "    </tr>\n",
       "    <tr>\n",
       "      <th>548</th>\n",
       "      <td>1</td>\n",
       "      <td>89370</td>\n",
       "      <td>78</td>\n",
       "      <td>13</td>\n",
       "      <td>266922.0</td>\n",
       "      <td>344</td>\n",
       "      <td>4</td>\n",
       "      <td>5</td>\n",
       "      <td>unsat</td>\n",
       "      <td>avg</td>\n",
       "      <td>perhaps</td>\n",
       "    </tr>\n",
       "    <tr>\n",
       "      <th>9178</th>\n",
       "      <td>1</td>\n",
       "      <td>39363</td>\n",
       "      <td>0</td>\n",
       "      <td>23</td>\n",
       "      <td>704168.0</td>\n",
       "      <td>217</td>\n",
       "      <td>1</td>\n",
       "      <td>4</td>\n",
       "      <td>very_unsat</td>\n",
       "      <td>little</td>\n",
       "      <td>no</td>\n",
       "    </tr>\n",
       "    <tr>\n",
       "      <th>17249</th>\n",
       "      <td>0</td>\n",
       "      <td>151891</td>\n",
       "      <td>0</td>\n",
       "      <td>14</td>\n",
       "      <td>829930.0</td>\n",
       "      <td>508</td>\n",
       "      <td>0</td>\n",
       "      <td>5</td>\n",
       "      <td>very_unsat</td>\n",
       "      <td>very_little</td>\n",
       "      <td>considering</td>\n",
       "    </tr>\n",
       "    <tr>\n",
       "      <th>5057</th>\n",
       "      <td>0</td>\n",
       "      <td>94895</td>\n",
       "      <td>74</td>\n",
       "      <td>77</td>\n",
       "      <td>727593.0</td>\n",
       "      <td>307</td>\n",
       "      <td>3</td>\n",
       "      <td>4</td>\n",
       "      <td>unsat</td>\n",
       "      <td>little</td>\n",
       "      <td>considering</td>\n",
       "    </tr>\n",
       "  </tbody>\n",
       "</table>\n",
       "</div>"
      ],
      "text/plain": [
       "       COLLEGE  INCOME  OVERAGE  LEFTOVER     HOUSE  HANDSET_PRICE  \\\n",
       "17631        1   27296      104        18  293757.0            181   \n",
       "548          1   89370       78        13  266922.0            344   \n",
       "9178         1   39363        0        23  704168.0            217   \n",
       "17249        0  151891        0        14  829930.0            508   \n",
       "5057         0   94895       74        77  727593.0            307   \n",
       "\n",
       "       OVER_15MINS_CALLS_PER_MONTH  AVERAGE_CALL_DURATION  \\\n",
       "17631                            5                      5   \n",
       "548                              4                      5   \n",
       "9178                             1                      4   \n",
       "17249                            0                      5   \n",
       "5057                             3                      4   \n",
       "\n",
       "      REPORTED_SATISFACTION REPORTED_USAGE_LEVEL CONSIDERING_CHANGE_OF_PLAN  \n",
       "17631              very_sat               little                         no  \n",
       "548                   unsat                  avg                    perhaps  \n",
       "9178             very_unsat               little                         no  \n",
       "17249            very_unsat          very_little                considering  \n",
       "5057                  unsat               little                considering  "
      ]
     },
     "execution_count": 21,
     "metadata": {},
     "output_type": "execute_result"
    }
   ],
   "source": [
    "# new_data : x_test\n",
    "\n",
    "x_test.head()"
   ]
  },
  {
   "cell_type": "markdown",
   "id": "oD0iVH-n-BJ6",
   "metadata": {
    "id": "oD0iVH-n-BJ6"
   },
   "source": [
    "### 1) [validation에 적용하기] 코드들 가져오기"
   ]
  },
  {
   "cell_type": "markdown",
   "id": "WcXNpgsY-NLD",
   "metadata": {
    "id": "WcXNpgsY-NLD"
   },
   "source": [
    "* 함수, 변수 선언"
   ]
  },
  {
   "cell_type": "code",
   "execution_count": 22,
   "id": "_x4wiPV0_XbQ",
   "metadata": {
    "id": "_x4wiPV0_XbQ"
   },
   "outputs": [],
   "source": [
    "def mobile_to_categorical(df, cat) :\n",
    "    tmp = df.copy()\n",
    "    for k, v in cat.items() :\n",
    "        tmp[k] = pd.Categorical(tmp[k], categories=v, ordered=False)\n",
    "    tmp = pd.get_dummies(tmp, columns=cat.keys(), drop_first=True)\n",
    "    return tmp\n",
    "\n",
    "col_list = list(x_train)\n",
    "\n",
    "imputer1_list = ['REPORTED_SATISFACTION']\n",
    "\n",
    "cat = {'REPORTED_SATISFACTION':['very_unsat', 'unsat', 'avg', 'sat', 'very_sat'],\n",
    "       'REPORTED_USAGE_LEVEL':['very_little', 'little', 'avg', 'high', 'very_high'],\n",
    "       'CONSIDERING_CHANGE_OF_PLAN':['never_thought', 'no', 'perhaps', 'considering', 'actively_looking_into_it']}"
   ]
  },
  {
   "cell_type": "markdown",
   "id": "ktCKmlWn_uFx",
   "metadata": {
    "id": "ktCKmlWn_uFx"
   },
   "source": [
    "* 전처리 실행"
   ]
  },
  {
   "cell_type": "code",
   "execution_count": 23,
   "id": "J1cgmE5oBNO9",
   "metadata": {
    "id": "J1cgmE5oBNO9"
   },
   "outputs": [],
   "source": [
    "tmp = x_test.copy()"
   ]
  },
  {
   "cell_type": "code",
   "execution_count": 24,
   "id": "jny0TK0A9-RU",
   "metadata": {
    "colab": {
     "base_uri": "https://localhost:8080/"
    },
    "executionInfo": {
     "elapsed": 33,
     "status": "ok",
     "timestamp": 1647767629291,
     "user": {
      "displayName": "한기영",
      "photoUrl": "https://lh3.googleusercontent.com/a/default-user=s64",
      "userId": "13049187003176135487"
     },
     "user_tz": -540
    },
    "id": "jny0TK0A9-RU",
    "outputId": "06679068-eff9-46f1-b00e-b3bd89e3d641"
   },
   "outputs": [
    {
     "data": {
      "text/html": [
       "<div>\n",
       "<style scoped>\n",
       "    .dataframe tbody tr th:only-of-type {\n",
       "        vertical-align: middle;\n",
       "    }\n",
       "\n",
       "    .dataframe tbody tr th {\n",
       "        vertical-align: top;\n",
       "    }\n",
       "\n",
       "    .dataframe thead th {\n",
       "        text-align: right;\n",
       "    }\n",
       "</style>\n",
       "<table border=\"1\" class=\"dataframe\">\n",
       "  <thead>\n",
       "    <tr style=\"text-align: right;\">\n",
       "      <th></th>\n",
       "      <th>COLLEGE</th>\n",
       "      <th>INCOME</th>\n",
       "      <th>OVERAGE</th>\n",
       "      <th>LEFTOVER</th>\n",
       "      <th>HOUSE</th>\n",
       "      <th>HANDSET_PRICE</th>\n",
       "      <th>OVER_15MINS_CALLS_PER_MONTH</th>\n",
       "      <th>AVERAGE_CALL_DURATION</th>\n",
       "      <th>REPORTED_SATISFACTION_unsat</th>\n",
       "      <th>REPORTED_SATISFACTION_avg</th>\n",
       "      <th>REPORTED_SATISFACTION_sat</th>\n",
       "      <th>REPORTED_SATISFACTION_very_sat</th>\n",
       "      <th>REPORTED_USAGE_LEVEL_little</th>\n",
       "      <th>REPORTED_USAGE_LEVEL_avg</th>\n",
       "      <th>REPORTED_USAGE_LEVEL_high</th>\n",
       "      <th>REPORTED_USAGE_LEVEL_very_high</th>\n",
       "      <th>CONSIDERING_CHANGE_OF_PLAN_no</th>\n",
       "      <th>CONSIDERING_CHANGE_OF_PLAN_perhaps</th>\n",
       "      <th>CONSIDERING_CHANGE_OF_PLAN_considering</th>\n",
       "      <th>CONSIDERING_CHANGE_OF_PLAN_actively_looking_into_it</th>\n",
       "    </tr>\n",
       "  </thead>\n",
       "  <tbody>\n",
       "    <tr>\n",
       "      <th>0</th>\n",
       "      <td>1.0</td>\n",
       "      <td>0.052084</td>\n",
       "      <td>0.314540</td>\n",
       "      <td>0.202247</td>\n",
       "      <td>0.169083</td>\n",
       "      <td>0.066320</td>\n",
       "      <td>0.172414</td>\n",
       "      <td>0.285714</td>\n",
       "      <td>0.0</td>\n",
       "      <td>0.0</td>\n",
       "      <td>0.0</td>\n",
       "      <td>1.0</td>\n",
       "      <td>1.0</td>\n",
       "      <td>0.0</td>\n",
       "      <td>0.0</td>\n",
       "      <td>0.0</td>\n",
       "      <td>1.0</td>\n",
       "      <td>0.0</td>\n",
       "      <td>0.0</td>\n",
       "      <td>0.0</td>\n",
       "    </tr>\n",
       "    <tr>\n",
       "      <th>1</th>\n",
       "      <td>1.0</td>\n",
       "      <td>0.495638</td>\n",
       "      <td>0.237389</td>\n",
       "      <td>0.146067</td>\n",
       "      <td>0.137506</td>\n",
       "      <td>0.278283</td>\n",
       "      <td>0.137931</td>\n",
       "      <td>0.285714</td>\n",
       "      <td>1.0</td>\n",
       "      <td>0.0</td>\n",
       "      <td>0.0</td>\n",
       "      <td>0.0</td>\n",
       "      <td>0.0</td>\n",
       "      <td>1.0</td>\n",
       "      <td>0.0</td>\n",
       "      <td>0.0</td>\n",
       "      <td>0.0</td>\n",
       "      <td>1.0</td>\n",
       "      <td>0.0</td>\n",
       "      <td>0.0</td>\n",
       "    </tr>\n",
       "    <tr>\n",
       "      <th>2</th>\n",
       "      <td>1.0</td>\n",
       "      <td>0.138310</td>\n",
       "      <td>0.005935</td>\n",
       "      <td>0.258427</td>\n",
       "      <td>0.652017</td>\n",
       "      <td>0.113134</td>\n",
       "      <td>0.034483</td>\n",
       "      <td>0.214286</td>\n",
       "      <td>0.0</td>\n",
       "      <td>0.0</td>\n",
       "      <td>0.0</td>\n",
       "      <td>0.0</td>\n",
       "      <td>1.0</td>\n",
       "      <td>0.0</td>\n",
       "      <td>0.0</td>\n",
       "      <td>0.0</td>\n",
       "      <td>1.0</td>\n",
       "      <td>0.0</td>\n",
       "      <td>0.0</td>\n",
       "      <td>0.0</td>\n",
       "    </tr>\n",
       "    <tr>\n",
       "      <th>3</th>\n",
       "      <td>0.0</td>\n",
       "      <td>0.942385</td>\n",
       "      <td>0.005935</td>\n",
       "      <td>0.157303</td>\n",
       "      <td>0.800003</td>\n",
       "      <td>0.491547</td>\n",
       "      <td>0.000000</td>\n",
       "      <td>0.285714</td>\n",
       "      <td>0.0</td>\n",
       "      <td>0.0</td>\n",
       "      <td>0.0</td>\n",
       "      <td>0.0</td>\n",
       "      <td>0.0</td>\n",
       "      <td>0.0</td>\n",
       "      <td>0.0</td>\n",
       "      <td>0.0</td>\n",
       "      <td>0.0</td>\n",
       "      <td>0.0</td>\n",
       "      <td>1.0</td>\n",
       "      <td>0.0</td>\n",
       "    </tr>\n",
       "    <tr>\n",
       "      <th>4</th>\n",
       "      <td>0.0</td>\n",
       "      <td>0.535117</td>\n",
       "      <td>0.225519</td>\n",
       "      <td>0.865169</td>\n",
       "      <td>0.679582</td>\n",
       "      <td>0.230169</td>\n",
       "      <td>0.103448</td>\n",
       "      <td>0.214286</td>\n",
       "      <td>1.0</td>\n",
       "      <td>0.0</td>\n",
       "      <td>0.0</td>\n",
       "      <td>0.0</td>\n",
       "      <td>1.0</td>\n",
       "      <td>0.0</td>\n",
       "      <td>0.0</td>\n",
       "      <td>0.0</td>\n",
       "      <td>0.0</td>\n",
       "      <td>0.0</td>\n",
       "      <td>1.0</td>\n",
       "      <td>0.0</td>\n",
       "    </tr>\n",
       "  </tbody>\n",
       "</table>\n",
       "</div>"
      ],
      "text/plain": [
       "   COLLEGE    INCOME   OVERAGE  LEFTOVER     HOUSE  HANDSET_PRICE  \\\n",
       "0      1.0  0.052084  0.314540  0.202247  0.169083       0.066320   \n",
       "1      1.0  0.495638  0.237389  0.146067  0.137506       0.278283   \n",
       "2      1.0  0.138310  0.005935  0.258427  0.652017       0.113134   \n",
       "3      0.0  0.942385  0.005935  0.157303  0.800003       0.491547   \n",
       "4      0.0  0.535117  0.225519  0.865169  0.679582       0.230169   \n",
       "\n",
       "   OVER_15MINS_CALLS_PER_MONTH  AVERAGE_CALL_DURATION  \\\n",
       "0                     0.172414               0.285714   \n",
       "1                     0.137931               0.285714   \n",
       "2                     0.034483               0.214286   \n",
       "3                     0.000000               0.285714   \n",
       "4                     0.103448               0.214286   \n",
       "\n",
       "   REPORTED_SATISFACTION_unsat  REPORTED_SATISFACTION_avg  \\\n",
       "0                          0.0                        0.0   \n",
       "1                          1.0                        0.0   \n",
       "2                          0.0                        0.0   \n",
       "3                          0.0                        0.0   \n",
       "4                          1.0                        0.0   \n",
       "\n",
       "   REPORTED_SATISFACTION_sat  REPORTED_SATISFACTION_very_sat  \\\n",
       "0                        0.0                             1.0   \n",
       "1                        0.0                             0.0   \n",
       "2                        0.0                             0.0   \n",
       "3                        0.0                             0.0   \n",
       "4                        0.0                             0.0   \n",
       "\n",
       "   REPORTED_USAGE_LEVEL_little  REPORTED_USAGE_LEVEL_avg  \\\n",
       "0                          1.0                       0.0   \n",
       "1                          0.0                       1.0   \n",
       "2                          1.0                       0.0   \n",
       "3                          0.0                       0.0   \n",
       "4                          1.0                       0.0   \n",
       "\n",
       "   REPORTED_USAGE_LEVEL_high  REPORTED_USAGE_LEVEL_very_high  \\\n",
       "0                        0.0                             0.0   \n",
       "1                        0.0                             0.0   \n",
       "2                        0.0                             0.0   \n",
       "3                        0.0                             0.0   \n",
       "4                        0.0                             0.0   \n",
       "\n",
       "   CONSIDERING_CHANGE_OF_PLAN_no  CONSIDERING_CHANGE_OF_PLAN_perhaps  \\\n",
       "0                            1.0                                 0.0   \n",
       "1                            0.0                                 1.0   \n",
       "2                            1.0                                 0.0   \n",
       "3                            0.0                                 0.0   \n",
       "4                            0.0                                 0.0   \n",
       "\n",
       "   CONSIDERING_CHANGE_OF_PLAN_considering  \\\n",
       "0                                     0.0   \n",
       "1                                     0.0   \n",
       "2                                     0.0   \n",
       "3                                     1.0   \n",
       "4                                     1.0   \n",
       "\n",
       "   CONSIDERING_CHANGE_OF_PLAN_actively_looking_into_it  \n",
       "0                                                0.0    \n",
       "1                                                0.0    \n",
       "2                                                0.0    \n",
       "3                                                0.0    \n",
       "4                                                0.0    "
      ]
     },
     "execution_count": 24,
     "metadata": {},
     "output_type": "execute_result"
    }
   ],
   "source": [
    "# simpleImputer\n",
    "tmp[imputer1_list] = imputer1.transform(tmp[imputer1_list])\n",
    "\n",
    "# 가변수화\n",
    "tmp = mobile_to_categorical(tmp, cat)\n",
    "\n",
    "# 스케일링\n",
    "tmp = scaler.transform(tmp)\n",
    "\n",
    "# KNNImputer\n",
    "tmp = imputer2.transform(tmp)\n",
    "\n",
    "# DataFrame 변환\n",
    "tmp = pd.DataFrame(tmp, columns=col_list)\n",
    "\n",
    "tmp.head()"
   ]
  },
  {
   "cell_type": "markdown",
   "id": "4tEvLvLlAH4h",
   "metadata": {
    "id": "4tEvLvLlAH4h"
   },
   "source": [
    "### 2) Data Pipeline 함수 만들고 실행하기"
   ]
  },
  {
   "cell_type": "code",
   "execution_count": 25,
   "id": "QsuAZDhzANXG",
   "metadata": {
    "id": "QsuAZDhzANXG"
   },
   "outputs": [],
   "source": [
    "def mobile_datapipeline(df, simpleimputer, simpleimputer_list, dump_list, scaler, knnimputer) :\n",
    "    tmp = df.copy()\n",
    "    \n",
    "    # simpleImputer\n",
    "    tmp[simpleimputer_list] = simpleimputer.transform(tmp[simpleimputer_list])\n",
    "\n",
    "    # 가변수화\n",
    "    tmp = mobile_to_categorical(tmp, dump_list)\n",
    "    \n",
    "    x_col = list(tmp)\n",
    "\n",
    "    # 스케일링\n",
    "    tmp = scaler.transform(tmp)\n",
    "\n",
    "    # KNNImputer\n",
    "    tmp = knnimputer.transform(tmp)\n",
    "\n",
    "    # DataFrame 변환\n",
    "    return pd.DataFrame(tmp, columns=x_col)"
   ]
  },
  {
   "cell_type": "code",
   "execution_count": 26,
   "id": "eb4d0fe3-bdcb-4a77-8b45-6659a00bc5c1",
   "metadata": {},
   "outputs": [],
   "source": [
    "input_data = mobile_datapipeline(x_test, imputer1, imputer1_list, cat, scaler, imputer2).head()"
   ]
  },
  {
   "cell_type": "code",
   "execution_count": 27,
   "id": "1a6e756f-e6d5-4ab9-998c-2cac2d7f9d33",
   "metadata": {},
   "outputs": [
    {
     "data": {
      "text/plain": [
       "array([1, 0, 0, 0, 0], dtype=int64)"
      ]
     },
     "execution_count": 27,
     "metadata": {},
     "output_type": "execute_result"
    }
   ],
   "source": [
    "model.predict(input_data)"
   ]
  },
  {
   "cell_type": "markdown",
   "id": "CvRIe0yEoYAH",
   "metadata": {
    "id": "CvRIe0yEoYAH"
   },
   "source": [
    "## 5.파이썬 오브젝트 저장하기"
   ]
  },
  {
   "cell_type": "code",
   "execution_count": 28,
   "id": "mKKKelsypchE",
   "metadata": {
    "colab": {
     "base_uri": "https://localhost:8080/"
    },
    "executionInfo": {
     "elapsed": 344,
     "status": "ok",
     "timestamp": 1647768411450,
     "user": {
      "displayName": "한기영",
      "photoUrl": "https://lh3.googleusercontent.com/a/default-user=s64",
      "userId": "13049187003176135487"
     },
     "user_tz": -540
    },
    "id": "mKKKelsypchE",
    "outputId": "49561018-2d1d-4ac5-e8ec-1abbd7949495"
   },
   "outputs": [],
   "source": [
    "import joblib"
   ]
  },
  {
   "cell_type": "code",
   "execution_count": 34,
   "id": "d8ebd574-a5b2-43d6-aca3-e6946b2d5e27",
   "metadata": {},
   "outputs": [
    {
     "data": {
      "text/plain": [
       "['preprocess/use_cols.plk']"
      ]
     },
     "execution_count": 34,
     "metadata": {},
     "output_type": "execute_result"
    }
   ],
   "source": [
    "use_cols = ['COLLEGE', 'INCOME', 'OVERAGE', 'LEFTOVER', 'HOUSE', 'HANDSET_PRICE', 'OVER_15MINS_CALLS_PER_MONTH', 'AVERAGE_CALL_DURATION',\n",
    "            'REPORTED_SATISFACTION', 'REPORTED_USAGE_LEVEL', 'CONSIDERING_CHANGE_OF_PLAN']\n",
    "# 변수 저장\n",
    "joblib.dump(imputer1_list, 'preprocess/simpleimputer_list.plk')\n",
    "joblib.dump(cat, 'preprocess/dumm_list.plk')\n",
    "joblib.dump(use_cols, 'preprocess/use_cols.plk')"
   ]
  },
  {
   "cell_type": "code",
   "execution_count": 30,
   "id": "87e3ba90-274c-451a-b77d-62445de5a7a3",
   "metadata": {},
   "outputs": [
    {
     "data": {
      "text/plain": [
       "['preprocess/knnimputer.plk']"
      ]
     },
     "execution_count": 30,
     "metadata": {},
     "output_type": "execute_result"
    }
   ],
   "source": [
    "# preprocess 저장\n",
    "joblib.dump(imputer1, 'preprocess/simpleimputer.plk')\n",
    "joblib.dump(scaler, 'preprocess/minmaxscaler.plk')\n",
    "joblib.dump(imputer2, 'preprocess/knnimputer.plk')"
   ]
  },
  {
   "cell_type": "code",
   "execution_count": 31,
   "id": "6ecbb81c-22f0-4698-939b-32b8cab7c461",
   "metadata": {},
   "outputs": [
    {
     "data": {
      "text/plain": [
       "['model/model.plk']"
      ]
     },
     "execution_count": 31,
     "metadata": {},
     "output_type": "execute_result"
    }
   ],
   "source": [
    "# model 저장\n",
    "joblib.dump(model, 'model/model.plk')"
   ]
  },
  {
   "cell_type": "code",
   "execution_count": 32,
   "id": "84f18af1-728d-4849-a603-b829f48d87d5",
   "metadata": {},
   "outputs": [
    {
     "data": {
      "text/plain": [
       "['model/model20220401_110330.plk']"
      ]
     },
     "execution_count": 32,
     "metadata": {},
     "output_type": "execute_result"
    }
   ],
   "source": [
    "import datetime\n",
    "# 모델 버전 관리용\n",
    "now = datetime.datetime.now()\n",
    "timestamp = now.strftime('%Y%m%d_%H%M%S')\n",
    "\n",
    "joblib.dump(imputer1, 'preprocess/simpleimputer_'+timestamp+'.plk')\n",
    "joblib.dump(scaler, 'preprocess/minmaxscaler_'+timestamp+'.plk')\n",
    "joblib.dump(imputer2, 'preprocess/knnimputer'+timestamp+'.plk')\n",
    "joblib.dump(model, 'model/model'+timestamp+'.plk')"
   ]
  },
  {
   "cell_type": "code",
   "execution_count": null,
   "id": "Kh0bD3Jxvcl7",
   "metadata": {
    "id": "Kh0bD3Jxvcl7"
   },
   "outputs": [],
   "source": [
    "from sklearn.metrics import accuracy_score"
   ]
  }
 ],
 "metadata": {
  "colab": {
   "collapsed_sections": [
    "LFKrpA17bov8",
    "CoTKFUk0rDbr"
   ],
   "name": "3. 모델관리_예제.ipynb",
   "provenance": [],
   "toc_visible": true
  },
  "kernelspec": {
   "display_name": "Python 3",
   "language": "python",
   "name": "python3"
  },
  "language_info": {
   "codemirror_mode": {
    "name": "ipython",
    "version": 3
   },
   "file_extension": ".py",
   "mimetype": "text/x-python",
   "name": "python",
   "nbconvert_exporter": "python",
   "pygments_lexer": "ipython3",
   "version": "3.8.8"
  }
 },
 "nbformat": 4,
 "nbformat_minor": 5
}
