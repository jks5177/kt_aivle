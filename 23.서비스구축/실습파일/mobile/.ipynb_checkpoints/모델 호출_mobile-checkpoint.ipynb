{
 "cells": [
  {
   "cell_type": "markdown",
   "id": "0fb8b4da-c92f-4328-9b49-deba08fa3d41",
   "metadata": {},
   "source": [
    "# 클라이언트 API호출"
   ]
  },
  {
   "cell_type": "code",
   "execution_count": 1,
   "id": "83afec4d-b384-432e-b7b8-1ab0e9637b67",
   "metadata": {},
   "outputs": [],
   "source": [
    "import pandas as pd\n",
    "import numpy as np\n",
    "import requests\n",
    "import json"
   ]
  },
  {
   "cell_type": "markdown",
   "id": "5e96a9d1-c8d8-4a03-803e-a841796a695e",
   "metadata": {},
   "source": [
    "### 1. 단일 값 호출"
   ]
  },
  {
   "cell_type": "code",
   "execution_count": 21,
   "id": "f60e6436-1a74-4c10-b3da-57e89ac93987",
   "metadata": {},
   "outputs": [
    {
     "data": {
      "text/plain": [
       "['stay']"
      ]
     },
     "execution_count": 21,
     "metadata": {},
     "output_type": "execute_result"
    }
   ],
   "source": [
    "x_input = {'COLLEGE' : 1,\n",
    "           'INCOME' : 47711,\n",
    "           'OVERAGE' : 183,\n",
    "           'LEFTOVER' : 17,\n",
    "           'HOUSE' : 730589.0,\n",
    "           'HANDSET_PRICE' : 192,\n",
    "           'OVER_15MINS_CALLS_PER_MONTH' : 19,\n",
    "           'AVERAGE_CALL_DURATION' : 5,\n",
    "           'REPORTED_SATISFACTION' : 'unsat',\n",
    "           'REPORTED_USAGE_LEVEL' : 'little',\n",
    "           'CONSIDERING_CHANGE_OF_PLAN' : 'considering'}\n",
    "\n",
    "response = requests.post('http://127.0.0.1:8080/predict/', data = x_input)\n",
    "resuslt = response.json()\n",
    "resuslt['pred']"
   ]
  },
  {
   "cell_type": "markdown",
   "id": "b0907dea-4134-4727-9aaa-dd93f07974b6",
   "metadata": {},
   "source": [
    "## 2. 여러 값 호출"
   ]
  },
  {
   "cell_type": "code",
   "execution_count": 22,
   "id": "dbe9a5c7-b90c-4839-9b86-b7d165a0bed2",
   "metadata": {
    "tags": []
   },
   "outputs": [
    {
     "data": {
      "text/plain": [
       "['stay', 'leave']"
      ]
     },
     "execution_count": 22,
     "metadata": {},
     "output_type": "execute_result"
    }
   ],
   "source": [
    "x_input = {'COLLEGE' : [1,0],\n",
    "           'INCOME' : [47711,74132],\n",
    "           'OVERAGE' : [183, 191],\n",
    "           'LEFTOVER' : [17, 43],\n",
    "           'HOUSE' : [730589.0, 535092.0],\n",
    "           'HANDSET_PRICE' : [192, 349],\n",
    "           'OVER_15MINS_CALLS_PER_MONTH' : [19, 15],\n",
    "           'AVERAGE_CALL_DURATION' : [5, 2],\n",
    "           'REPORTED_SATISFACTION' : ['unsat', 'unsat'],\n",
    "           'REPORTED_USAGE_LEVEL' : ['little', 'very_little'],\n",
    "           'CONSIDERING_CHANGE_OF_PLAN' : ['considering', 'no']}\n",
    "\n",
    "response = requests.post('http://127.0.0.1:8080/predict/', data = x_input)\n",
    "resuslt = response.json()\n",
    "resuslt['pred']"
   ]
  },
  {
   "cell_type": "markdown",
   "id": "2dce1777-4979-4173-a2b8-b607603aae61",
   "metadata": {
    "tags": []
   },
   "source": [
    "## 3. 데이터셋(배치)으로 전달하기"
   ]
  },
  {
   "cell_type": "markdown",
   "id": "00eb14a9-8932-4988-a479-69d9da4e1a06",
   "metadata": {},
   "source": [
    "* 데이터프레임으로 부터 정보 전달하기1"
   ]
  },
  {
   "cell_type": "code",
   "execution_count": 23,
   "id": "c4acbf9a-aa5f-4ebd-b114-23a6b5f7e1f2",
   "metadata": {
    "tags": []
   },
   "outputs": [],
   "source": [
    "# 데이터 불러오기\n",
    "use_cols = ['COLLEGE', 'INCOME', 'OVERAGE', 'LEFTOVER', 'HOUSE', 'HANDSET_PRICE', 'OVER_15MINS_CALLS_PER_MONTH', 'AVERAGE_CALL_DURATION',\n",
    "            'REPORTED_SATISFACTION', 'REPORTED_USAGE_LEVEL', 'CONSIDERING_CHANGE_OF_PLAN', 'CHURN']\n",
    "data = pd.read_csv('data/new_data.csv', usecols = use_cols )\n",
    "\n",
    "target = 'CHURN'\n",
    "x = data.drop(target, axis=1)\n",
    "y = data[target]"
   ]
  },
  {
   "cell_type": "code",
   "execution_count": 24,
   "id": "288bcd24-3750-412c-b396-80108040f790",
   "metadata": {},
   "outputs": [],
   "source": [
    "# 데이터 입력 및 예측\n",
    "x_input = {key : list(x[key]) for key in list(x)}\n",
    "response = requests.post('http://127.0.0.1:8080/predict/', data = x_input)\n",
    "result = response.json()"
   ]
  },
  {
   "cell_type": "code",
   "execution_count": 25,
   "id": "4b360ea0-0841-4805-9e42-354dc306f8d4",
   "metadata": {},
   "outputs": [
    {
     "data": {
      "text/plain": [
       "['leave', 'stay', 'stay', 'stay', 'leave']"
      ]
     },
     "execution_count": 25,
     "metadata": {},
     "output_type": "execute_result"
    }
   ],
   "source": [
    "result['pred'][:5]"
   ]
  },
  {
   "cell_type": "markdown",
   "id": "e7e3d6b1-983a-49c0-9479-2ce3c103a48c",
   "metadata": {},
   "source": [
    "* 데이터프레임으로 부터 정보전달하고, 예측결과 합치기"
   ]
  },
  {
   "cell_type": "code",
   "execution_count": 26,
   "id": "294a4bdd-6d69-4c96-a2e1-993e7e46524c",
   "metadata": {},
   "outputs": [],
   "source": [
    "result_df = x.copy()\n",
    "result_df['y'] = y\n",
    "result_df['pred'] = result['pred']"
   ]
  },
  {
   "cell_type": "code",
   "execution_count": 27,
   "id": "f1a3f45a-af14-47b3-858f-210c59609885",
   "metadata": {},
   "outputs": [
    {
     "data": {
      "text/html": [
       "<div>\n",
       "<style scoped>\n",
       "    .dataframe tbody tr th:only-of-type {\n",
       "        vertical-align: middle;\n",
       "    }\n",
       "\n",
       "    .dataframe tbody tr th {\n",
       "        vertical-align: top;\n",
       "    }\n",
       "\n",
       "    .dataframe thead th {\n",
       "        text-align: right;\n",
       "    }\n",
       "</style>\n",
       "<table border=\"1\" class=\"dataframe\">\n",
       "  <thead>\n",
       "    <tr style=\"text-align: right;\">\n",
       "      <th></th>\n",
       "      <th>COLLEGE</th>\n",
       "      <th>INCOME</th>\n",
       "      <th>OVERAGE</th>\n",
       "      <th>LEFTOVER</th>\n",
       "      <th>HOUSE</th>\n",
       "      <th>HANDSET_PRICE</th>\n",
       "      <th>OVER_15MINS_CALLS_PER_MONTH</th>\n",
       "      <th>AVERAGE_CALL_DURATION</th>\n",
       "      <th>REPORTED_SATISFACTION</th>\n",
       "      <th>REPORTED_USAGE_LEVEL</th>\n",
       "      <th>CONSIDERING_CHANGE_OF_PLAN</th>\n",
       "      <th>y</th>\n",
       "      <th>pred</th>\n",
       "    </tr>\n",
       "  </thead>\n",
       "  <tbody>\n",
       "    <tr>\n",
       "      <th>0</th>\n",
       "      <td>0</td>\n",
       "      <td>111527.0</td>\n",
       "      <td>44</td>\n",
       "      <td>76</td>\n",
       "      <td>NaN</td>\n",
       "      <td>751</td>\n",
       "      <td>4</td>\n",
       "      <td>1</td>\n",
       "      <td>very_unsat</td>\n",
       "      <td>little</td>\n",
       "      <td>considering</td>\n",
       "      <td>1</td>\n",
       "      <td>leave</td>\n",
       "    </tr>\n",
       "    <tr>\n",
       "      <th>1</th>\n",
       "      <td>1</td>\n",
       "      <td>42472.0</td>\n",
       "      <td>61</td>\n",
       "      <td>0</td>\n",
       "      <td>NaN</td>\n",
       "      <td>156</td>\n",
       "      <td>3</td>\n",
       "      <td>9</td>\n",
       "      <td>very_sat</td>\n",
       "      <td>little</td>\n",
       "      <td>considering</td>\n",
       "      <td>0</td>\n",
       "      <td>stay</td>\n",
       "    </tr>\n",
       "    <tr>\n",
       "      <th>2</th>\n",
       "      <td>0</td>\n",
       "      <td>145276.0</td>\n",
       "      <td>66</td>\n",
       "      <td>18</td>\n",
       "      <td>NaN</td>\n",
       "      <td>516</td>\n",
       "      <td>15</td>\n",
       "      <td>4</td>\n",
       "      <td>avg</td>\n",
       "      <td>little</td>\n",
       "      <td>considering</td>\n",
       "      <td>0</td>\n",
       "      <td>stay</td>\n",
       "    </tr>\n",
       "    <tr>\n",
       "      <th>3</th>\n",
       "      <td>1</td>\n",
       "      <td>132847.0</td>\n",
       "      <td>0</td>\n",
       "      <td>22</td>\n",
       "      <td>NaN</td>\n",
       "      <td>830</td>\n",
       "      <td>1</td>\n",
       "      <td>5</td>\n",
       "      <td>very_unsat</td>\n",
       "      <td>little</td>\n",
       "      <td>considering</td>\n",
       "      <td>0</td>\n",
       "      <td>stay</td>\n",
       "    </tr>\n",
       "    <tr>\n",
       "      <th>4</th>\n",
       "      <td>1</td>\n",
       "      <td>52232.0</td>\n",
       "      <td>138</td>\n",
       "      <td>0</td>\n",
       "      <td>NaN</td>\n",
       "      <td>362</td>\n",
       "      <td>24</td>\n",
       "      <td>14</td>\n",
       "      <td>very_sat</td>\n",
       "      <td>little</td>\n",
       "      <td>no</td>\n",
       "      <td>1</td>\n",
       "      <td>leave</td>\n",
       "    </tr>\n",
       "  </tbody>\n",
       "</table>\n",
       "</div>"
      ],
      "text/plain": [
       "   COLLEGE    INCOME  OVERAGE  LEFTOVER  HOUSE  HANDSET_PRICE  \\\n",
       "0        0  111527.0       44        76    NaN            751   \n",
       "1        1   42472.0       61         0    NaN            156   \n",
       "2        0  145276.0       66        18    NaN            516   \n",
       "3        1  132847.0        0        22    NaN            830   \n",
       "4        1   52232.0      138         0    NaN            362   \n",
       "\n",
       "   OVER_15MINS_CALLS_PER_MONTH  AVERAGE_CALL_DURATION REPORTED_SATISFACTION  \\\n",
       "0                            4                      1            very_unsat   \n",
       "1                            3                      9              very_sat   \n",
       "2                           15                      4                   avg   \n",
       "3                            1                      5            very_unsat   \n",
       "4                           24                     14              very_sat   \n",
       "\n",
       "  REPORTED_USAGE_LEVEL CONSIDERING_CHANGE_OF_PLAN  y   pred  \n",
       "0               little                considering  1  leave  \n",
       "1               little                considering  0   stay  \n",
       "2               little                considering  0   stay  \n",
       "3               little                considering  0   stay  \n",
       "4               little                         no  1  leave  "
      ]
     },
     "execution_count": 27,
     "metadata": {},
     "output_type": "execute_result"
    }
   ],
   "source": [
    "result_df.head()"
   ]
  },
  {
   "cell_type": "markdown",
   "id": "23dd3375-444a-4ab5-ad38-b0adfa3bfe57",
   "metadata": {},
   "source": [
    "- 입력 feature 확인"
   ]
  },
  {
   "cell_type": "code",
   "execution_count": 28,
   "id": "cb9a9a86-52f1-4003-93e5-e88db9fcefd9",
   "metadata": {},
   "outputs": [
    {
     "data": {
      "text/plain": [
       "['COLLEGE',\n",
       " 'INCOME',\n",
       " 'OVERAGE',\n",
       " 'LEFTOVER',\n",
       " 'HOUSE',\n",
       " 'HANDSET_PRICE',\n",
       " 'OVER_15MINS_CALLS_PER_MONTH',\n",
       " 'AVERAGE_CALL_DURATION',\n",
       " 'REPORTED_SATISFACTION',\n",
       " 'REPORTED_USAGE_LEVEL',\n",
       " 'CONSIDERING_CHANGE_OF_PLAN']"
      ]
     },
     "execution_count": 28,
     "metadata": {},
     "output_type": "execute_result"
    }
   ],
   "source": [
    "response = requests.get('http://127.0.0.1:8080/feature')\n",
    "feature_name = response.json()\n",
    "feature_name['feature_name']"
   ]
  },
  {
   "cell_type": "code",
   "execution_count": null,
   "id": "ae3d992f-4832-489d-a84f-6958402d35eb",
   "metadata": {},
   "outputs": [],
   "source": []
  }
 ],
 "metadata": {
  "kernelspec": {
   "display_name": "Python 3",
   "language": "python",
   "name": "python3"
  },
  "language_info": {
   "codemirror_mode": {
    "name": "ipython",
    "version": 3
   },
   "file_extension": ".py",
   "mimetype": "text/x-python",
   "name": "python",
   "nbconvert_exporter": "python",
   "pygments_lexer": "ipython3",
   "version": "3.8.8"
  }
 },
 "nbformat": 4,
 "nbformat_minor": 5
}
