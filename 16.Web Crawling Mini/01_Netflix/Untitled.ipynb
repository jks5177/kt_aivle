{
 "cells": [
  {
   "cell_type": "code",
   "execution_count": 1,
   "id": "8df376c7",
   "metadata": {},
   "outputs": [],
   "source": [
    "import requests\n",
    "import pandas as pd\n",
    "from bs4 import BeautifulSoup"
   ]
  },
  {
   "cell_type": "code",
   "execution_count": 3,
   "id": "955815fe",
   "metadata": {},
   "outputs": [],
   "source": [
    "def netflix_top(country = 'world', year = 2021, page = 1):\n",
    "\n",
    "    # page 1 : movie, 2 : TV\n",
    "\n",
    "    url = f'https://flixpatrol.com/top10/netflix/{country}/{year}/full/#netflix-{page}'\n",
    "    response = requests.get(url)\n",
    "    document = BeautifulSoup(response.text, \"html.parser\")\n",
    "    elements = document.select(f\"#netflix-{page} > div.-mx-content > div > div > table > tbody > tr\")\n",
    "\n",
    "    datas = []\n",
    "\n",
    "    for element in elements:\n",
    "        datas.append({\n",
    "        'no' : element.select(\"td:nth-child(1)\")[0].text.replace(\".\", \"\"),\n",
    "        'title' : element.select(\"a\")[0].text,\n",
    "        'points' : element.select(\"td:nth-child(4)\")[0].text,\n",
    "        'countries' : element.select(\"td:nth-child(6)\")[0].text,\n",
    "        'country' : element.select(\"td:nth-child(7)\")[0].text,\n",
    "        'days' : element.select(\"td:nth-child(8)\")[0].text,\n",
    "        'day' : element.select(\"td:nth-child(9)\")[0].text,\n",
    "        'total' : element.select(\"td:nth-child(10)\")[0].text\n",
    "        })\n",
    "\n",
    "    df = pd.DataFrame(datas)\n",
    "\n",
    "    return df"
   ]
  },
  {
   "cell_type": "code",
   "execution_count": 4,
   "id": "d61322c7",
   "metadata": {},
   "outputs": [],
   "source": [
    "word_2021_movie = netflix_top()"
   ]
  },
  {
   "cell_type": "code",
   "execution_count": 5,
   "id": "58831232",
   "metadata": {},
   "outputs": [],
   "source": [
    "word_2021_movie.to_csv('word_2021_movie.csv')"
   ]
  },
  {
   "cell_type": "code",
   "execution_count": null,
   "id": "85309102",
   "metadata": {},
   "outputs": [],
   "source": []
  }
 ],
 "metadata": {
  "kernelspec": {
   "display_name": "Python 3",
   "language": "python",
   "name": "python3"
  },
  "language_info": {
   "codemirror_mode": {
    "name": "ipython",
    "version": 3
   },
   "file_extension": ".py",
   "mimetype": "text/x-python",
   "name": "python",
   "nbconvert_exporter": "python",
   "pygments_lexer": "ipython3",
   "version": "3.8.8"
  }
 },
 "nbformat": 4,
 "nbformat_minor": 5
}
