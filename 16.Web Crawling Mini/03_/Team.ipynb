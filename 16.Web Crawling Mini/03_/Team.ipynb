{
 "cells": [
  {
   "cell_type": "code",
   "execution_count": 26,
   "id": "7776d6e5",
   "metadata": {},
   "outputs": [],
   "source": [
    "import pandas as pd\n",
    "import requests\n",
    "from bs4 import BeautifulSoup"
   ]
  },
  {
   "cell_type": "code",
   "execution_count": 88,
   "id": "b9e6f62e",
   "metadata": {},
   "outputs": [],
   "source": [
    "urls = ['https://smartstore.naver.com/i/v1/reviews/paged-reviews?originProductNo=4679469997&page=1&pageSize=30&merchantNo=510493967&bestReviewYn=true&sortType=REVIEW_CREATE_DATE_DESC',\n",
    "       'https://smartstore.naver.com/i/v1/reviews/paged-reviews?originProductNo=4988918069&page=1&pageSize=30&merchantNo=510755094&bestReviewYn=true&sortType=REVIEW_CREATE_DATE_DESC',\n",
    "       'https://shopping.naver.com/v1/reviews/paged-reviews?_nc_=1645714800000&page=1&pageSize=20&merchantNo=500230195&originProductNo=586183550&sortType=REVIEW_CREATE_DATE_DESC']"
   ]
  },
  {
   "cell_type": "code",
   "execution_count": 91,
   "id": "188c1692",
   "metadata": {},
   "outputs": [],
   "source": [
    "def review(url, page=1) :\n",
    "    response = requests.get(url)\n",
    "    datas = response.json()['contents']\n",
    "    columns = ['productName', 'id', 'reviewScore', 'createDate', 'reviewContent']\n",
    "    return pd.DataFrame(datas)[columns]"
   ]
  },
  {
   "cell_type": "code",
   "execution_count": 92,
   "id": "46675230",
   "metadata": {},
   "outputs": [
    {
     "name": "stdout",
     "output_type": "stream",
     "text": [
      "0 1 2 3 4 5 6 7 8 9 10 11 12 13 14 15 16 17 18 19 20 21 22 23 24 25 26 27 28 29 30 31 32 33 34 35 36 37 38 39 40 41 42 43 44 45 46 47 48 49 50 51 52 53 54 55 56 57 58 59 60 61 62 63 64 65 66 67 68 69 70 71 72 73 74 75 76 77 78 79 80 81 82 83 84 85 86 87 88 89 90 91 92 93 94 95 96 97 98 99 \n",
      "0 1 2 3 4 5 6 7 8 9 10 11 12 13 14 15 16 17 18 19 20 21 22 23 24 25 26 27 28 29 30 31 32 33 34 35 36 37 38 39 40 41 42 43 44 45 46 47 48 49 50 51 52 53 54 55 56 57 58 59 60 61 62 63 64 65 66 67 68 69 70 71 72 73 74 75 76 77 78 79 80 81 82 83 84 85 86 87 88 89 90 91 92 93 94 95 96 97 98 99 \n",
      "0 1 2 3 4 5 6 7 8 9 10 11 12 13 14 15 16 17 18 19 20 21 22 23 24 25 26 27 28 29 30 31 32 33 34 35 36 37 38 39 40 41 42 43 44 45 46 47 48 49 50 51 52 53 54 55 56 57 58 59 60 61 62 63 64 65 66 67 68 69 70 71 72 73 74 75 76 77 78 79 80 81 82 83 84 85 86 87 88 89 90 91 92 93 94 95 96 97 98 99 \n"
     ]
    }
   ],
   "source": [
    "datas = []\n",
    "for url in urls :\n",
    "    data = []\n",
    "    for i in range(100) :\n",
    "        print(i, end = ' ')\n",
    "        data.append(review(url, i+1))\n",
    "    datas.append(pd.concat(data, ignore_index=True))\n",
    "    print()"
   ]
  },
  {
   "cell_type": "code",
   "execution_count": 93,
   "id": "e4d8318e",
   "metadata": {},
   "outputs": [
    {
     "data": {
      "text/plain": [
       "3"
      ]
     },
     "execution_count": 93,
     "metadata": {},
     "output_type": "execute_result"
    }
   ],
   "source": [
    "len(datas)"
   ]
  },
  {
   "cell_type": "code",
   "execution_count": 94,
   "id": "8c36ed0e",
   "metadata": {},
   "outputs": [
    {
     "data": {
      "text/html": [
       "<div>\n",
       "<style scoped>\n",
       "    .dataframe tbody tr th:only-of-type {\n",
       "        vertical-align: middle;\n",
       "    }\n",
       "\n",
       "    .dataframe tbody tr th {\n",
       "        vertical-align: top;\n",
       "    }\n",
       "\n",
       "    .dataframe thead th {\n",
       "        text-align: right;\n",
       "    }\n",
       "</style>\n",
       "<table border=\"1\" class=\"dataframe\">\n",
       "  <thead>\n",
       "    <tr style=\"text-align: right;\">\n",
       "      <th></th>\n",
       "      <th>productName</th>\n",
       "      <th>id</th>\n",
       "      <th>reviewScore</th>\n",
       "      <th>createDate</th>\n",
       "      <th>reviewContent</th>\n",
       "    </tr>\n",
       "  </thead>\n",
       "  <tbody>\n",
       "    <tr>\n",
       "      <th>0</th>\n",
       "      <td>기승전골</td>\n",
       "      <td>3083900461</td>\n",
       "      <td>5</td>\n",
       "      <td>2021-01-05T14:46:06.883+0000</td>\n",
       "      <td>제 생일에 아웃백 딜리버리로 스테이크를 먹을지 아니면 먹고 싶었던 기승전골을 먹을지...</td>\n",
       "    </tr>\n",
       "    <tr>\n",
       "      <th>1</th>\n",
       "      <td>기승전골</td>\n",
       "      <td>3081515615</td>\n",
       "      <td>5</td>\n",
       "      <td>2021-01-02T06:53:02.192+0000</td>\n",
       "      <td>인스타에서 사진보고 당장 구매버튼 눌러서 먹어봤는데 최고입니당 ㅜㅜ 너무너무너무너무...</td>\n",
       "    </tr>\n",
       "    <tr>\n",
       "      <th>2</th>\n",
       "      <td>기승전골</td>\n",
       "      <td>3080773420</td>\n",
       "      <td>5</td>\n",
       "      <td>2021-01-01T05:31:03.283+0000</td>\n",
       "      <td>일단 진짜 너무 맛있어요!!!\\n연말에 가족들하고 먹으려고 시켰는데 끓이는 방법도 ...</td>\n",
       "    </tr>\n",
       "    <tr>\n",
       "      <th>3</th>\n",
       "      <td>기승전골</td>\n",
       "      <td>3080423475</td>\n",
       "      <td>5</td>\n",
       "      <td>2020-12-31T12:53:05.582+0000</td>\n",
       "      <td>맛있게 매콤하고 고기양도 많아서 엄청 푸짐하게 먹었습니다🥳 우삼겹에도 기름이 많으니...</td>\n",
       "    </tr>\n",
       "    <tr>\n",
       "      <th>4</th>\n",
       "      <td>기승전골</td>\n",
       "      <td>3080069124</td>\n",
       "      <td>5</td>\n",
       "      <td>2020-12-31T04:40:43.376+0000</td>\n",
       "      <td>완성된 요리를 찍는다는 게 먹기 바빠서 덜어놓은거랑 볶음밥 한 걸 찍었네요,,\\n매...</td>\n",
       "    </tr>\n",
       "  </tbody>\n",
       "</table>\n",
       "</div>"
      ],
      "text/plain": [
       "  productName          id  reviewScore                    createDate  \\\n",
       "0        기승전골  3083900461            5  2021-01-05T14:46:06.883+0000   \n",
       "1        기승전골  3081515615            5  2021-01-02T06:53:02.192+0000   \n",
       "2        기승전골  3080773420            5  2021-01-01T05:31:03.283+0000   \n",
       "3        기승전골  3080423475            5  2020-12-31T12:53:05.582+0000   \n",
       "4        기승전골  3080069124            5  2020-12-31T04:40:43.376+0000   \n",
       "\n",
       "                                       reviewContent  \n",
       "0  제 생일에 아웃백 딜리버리로 스테이크를 먹을지 아니면 먹고 싶었던 기승전골을 먹을지...  \n",
       "1  인스타에서 사진보고 당장 구매버튼 눌러서 먹어봤는데 최고입니당 ㅜㅜ 너무너무너무너무...  \n",
       "2  일단 진짜 너무 맛있어요!!!\\n연말에 가족들하고 먹으려고 시켰는데 끓이는 방법도 ...  \n",
       "3  맛있게 매콤하고 고기양도 많아서 엄청 푸짐하게 먹었습니다🥳 우삼겹에도 기름이 많으니...  \n",
       "4  완성된 요리를 찍는다는 게 먹기 바빠서 덜어놓은거랑 볶음밥 한 걸 찍었네요,,\\n매...  "
      ]
     },
     "execution_count": 94,
     "metadata": {},
     "output_type": "execute_result"
    }
   ],
   "source": [
    "df = pd.concat(datas, ignore_index=True)\n",
    "df.head()"
   ]
  },
  {
   "cell_type": "code",
   "execution_count": 95,
   "id": "88a9e6dd",
   "metadata": {},
   "outputs": [],
   "source": [
    "df.to_csv('milkite.csv')"
   ]
  },
  {
   "cell_type": "code",
   "execution_count": null,
   "id": "92d9c7d4",
   "metadata": {},
   "outputs": [],
   "source": []
  }
 ],
 "metadata": {
  "kernelspec": {
   "display_name": "Python 3",
   "language": "python",
   "name": "python3"
  },
  "language_info": {
   "codemirror_mode": {
    "name": "ipython",
    "version": 3
   },
   "file_extension": ".py",
   "mimetype": "text/x-python",
   "name": "python",
   "nbconvert_exporter": "python",
   "pygments_lexer": "ipython3",
   "version": "3.8.8"
  }
 },
 "nbformat": 4,
 "nbformat_minor": 5
}
