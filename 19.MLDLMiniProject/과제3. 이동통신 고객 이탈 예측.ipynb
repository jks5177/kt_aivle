{
 "cells": [
  {
   "cell_type": "markdown",
   "metadata": {
    "id": "mTt7qGUTCcFs"
   },
   "source": [
    "# 과제#3. [평가] 이동통신 고객 이탈 예측"
   ]
  },
  {
   "cell_type": "markdown",
   "metadata": {
    "id": "cdQaCT5I0IL_"
   },
   "source": [
    "* 여러분은 OO 통신화사 데이터분석가 입니다.\n",
    "* 00 통신회사의 올해 고객 목표는, **현재 고객수를 유지**하는 것입니다.\n",
    "* 더욱 치열해진 경쟁 상황에서 고객수를 유지하는 것은 굉장히 도전적인 목표 입니다.\n",
    "* 이를 위해 회사는 약정기간이 끝난 고객이 번호이동(이탈)해 가는 문제를 해결하고자 합니다.\n",
    "* 그래서 에이블러 여러분에게, 어떤 고객이 번호이동(이탈)해 가는지 예측 모델링을 의뢰하였습니다."
   ]
  },
  {
   "cell_type": "markdown",
   "metadata": {
    "id": "ExPzmVxJGvxq"
   },
   "source": [
    "![](https://d18lkz4dllo6v2.cloudfront.net/cumulus_uploads/entry/23964/mobile%20phones.png)"
   ]
  },
  {
   "cell_type": "markdown",
   "metadata": {
    "id": "AHmt88Q5EVsj"
   },
   "source": [
    "## 0.환경설정"
   ]
  },
  {
   "cell_type": "markdown",
   "metadata": {
    "id": "KnzVh2LmkLDU"
   },
   "source": [
    "### 1) 라이브러리 로딩"
   ]
  },
  {
   "cell_type": "code",
   "execution_count": 10,
   "metadata": {
    "id": "3tWsgb_wG3EU"
   },
   "outputs": [],
   "source": [
    "import pandas as pd\n",
    "import numpy as np\n",
    "import matplotlib.pyplot as plt\n",
    "import seaborn as sns\n",
    "from scipy import stats as spst\n",
    "\n",
    "from sklearn.model_selection import train_test_split"
   ]
  },
  {
   "cell_type": "markdown",
   "metadata": {
    "id": "kcMdP5WtG3EV"
   },
   "source": [
    "### 2) 데이터 로딩"
   ]
  },
  {
   "cell_type": "code",
   "execution_count": 11,
   "metadata": {
    "id": "AC_65VsoG3EV"
   },
   "outputs": [
    {
     "data": {
      "text/html": [
       "<div>\n",
       "<style scoped>\n",
       "    .dataframe tbody tr th:only-of-type {\n",
       "        vertical-align: middle;\n",
       "    }\n",
       "\n",
       "    .dataframe tbody tr th {\n",
       "        vertical-align: top;\n",
       "    }\n",
       "\n",
       "    .dataframe thead th {\n",
       "        text-align: right;\n",
       "    }\n",
       "</style>\n",
       "<table border=\"1\" class=\"dataframe\">\n",
       "  <thead>\n",
       "    <tr style=\"text-align: right;\">\n",
       "      <th></th>\n",
       "      <th>id</th>\n",
       "      <th>COLLEGE</th>\n",
       "      <th>INCOME</th>\n",
       "      <th>OVERAGE</th>\n",
       "      <th>LEFTOVER</th>\n",
       "      <th>HOUSE</th>\n",
       "      <th>HANDSET_PRICE</th>\n",
       "      <th>OVER_15MINS_CALLS_PER_MONTH</th>\n",
       "      <th>AVERAGE_CALL_DURATION</th>\n",
       "      <th>REPORTED_SATISFACTION</th>\n",
       "      <th>REPORTED_USAGE_LEVEL</th>\n",
       "      <th>CONSIDERING_CHANGE_OF_PLAN</th>\n",
       "      <th>CHURN</th>\n",
       "    </tr>\n",
       "  </thead>\n",
       "  <tbody>\n",
       "    <tr>\n",
       "      <th>0</th>\n",
       "      <td>544</td>\n",
       "      <td>1</td>\n",
       "      <td>47711</td>\n",
       "      <td>183</td>\n",
       "      <td>17</td>\n",
       "      <td>730589.0</td>\n",
       "      <td>192</td>\n",
       "      <td>19</td>\n",
       "      <td>5</td>\n",
       "      <td>unsat</td>\n",
       "      <td>little</td>\n",
       "      <td>considering</td>\n",
       "      <td>0</td>\n",
       "    </tr>\n",
       "    <tr>\n",
       "      <th>1</th>\n",
       "      <td>689</td>\n",
       "      <td>0</td>\n",
       "      <td>74132</td>\n",
       "      <td>191</td>\n",
       "      <td>43</td>\n",
       "      <td>535092.0</td>\n",
       "      <td>349</td>\n",
       "      <td>15</td>\n",
       "      <td>2</td>\n",
       "      <td>unsat</td>\n",
       "      <td>very_little</td>\n",
       "      <td>no</td>\n",
       "      <td>1</td>\n",
       "    </tr>\n",
       "    <tr>\n",
       "      <th>2</th>\n",
       "      <td>3134</td>\n",
       "      <td>1</td>\n",
       "      <td>150419</td>\n",
       "      <td>0</td>\n",
       "      <td>14</td>\n",
       "      <td>204004.0</td>\n",
       "      <td>682</td>\n",
       "      <td>0</td>\n",
       "      <td>6</td>\n",
       "      <td>unsat</td>\n",
       "      <td>very_high</td>\n",
       "      <td>considering</td>\n",
       "      <td>0</td>\n",
       "    </tr>\n",
       "    <tr>\n",
       "      <th>3</th>\n",
       "      <td>12523</td>\n",
       "      <td>0</td>\n",
       "      <td>159567</td>\n",
       "      <td>0</td>\n",
       "      <td>58</td>\n",
       "      <td>281969.0</td>\n",
       "      <td>634</td>\n",
       "      <td>1</td>\n",
       "      <td>1</td>\n",
       "      <td>very_unsat</td>\n",
       "      <td>very_high</td>\n",
       "      <td>never_thought</td>\n",
       "      <td>0</td>\n",
       "    </tr>\n",
       "    <tr>\n",
       "      <th>4</th>\n",
       "      <td>2374</td>\n",
       "      <td>1</td>\n",
       "      <td>23392</td>\n",
       "      <td>0</td>\n",
       "      <td>0</td>\n",
       "      <td>216707.0</td>\n",
       "      <td>233</td>\n",
       "      <td>0</td>\n",
       "      <td>15</td>\n",
       "      <td>unsat</td>\n",
       "      <td>very_little</td>\n",
       "      <td>no</td>\n",
       "      <td>1</td>\n",
       "    </tr>\n",
       "  </tbody>\n",
       "</table>\n",
       "</div>"
      ],
      "text/plain": [
       "      id  COLLEGE  INCOME  OVERAGE  LEFTOVER     HOUSE  HANDSET_PRICE  \\\n",
       "0    544        1   47711      183        17  730589.0            192   \n",
       "1    689        0   74132      191        43  535092.0            349   \n",
       "2   3134        1  150419        0        14  204004.0            682   \n",
       "3  12523        0  159567        0        58  281969.0            634   \n",
       "4   2374        1   23392        0         0  216707.0            233   \n",
       "\n",
       "   OVER_15MINS_CALLS_PER_MONTH  AVERAGE_CALL_DURATION REPORTED_SATISFACTION  \\\n",
       "0                           19                      5                 unsat   \n",
       "1                           15                      2                 unsat   \n",
       "2                            0                      6                 unsat   \n",
       "3                            1                      1            very_unsat   \n",
       "4                            0                     15                 unsat   \n",
       "\n",
       "  REPORTED_USAGE_LEVEL CONSIDERING_CHANGE_OF_PLAN  CHURN  \n",
       "0               little                considering      0  \n",
       "1          very_little                         no      1  \n",
       "2            very_high                considering      0  \n",
       "3            very_high              never_thought      0  \n",
       "4          very_little                         no      1  "
      ]
     },
     "execution_count": 11,
     "metadata": {},
     "output_type": "execute_result"
    }
   ],
   "source": [
    "# mobile data\n",
    "data_path = \"https://raw.githubusercontent.com/DA4BAM/dataset/master/mobile_NA2.csv\"\n",
    "data = pd.read_csv(data_path)\n",
    "data.head()"
   ]
  },
  {
   "cell_type": "markdown",
   "metadata": {
    "id": "2VGIfdrXAvw_"
   },
   "source": [
    "|변수 명|내용|구분|\n",
    "|\t----\t|\t----\t|\t----\t|\n",
    "|\tCOLLEGE\t|\t대학졸업 여부(1,0) - 범주\t|\t\t|\n",
    "|\tINCOME\t|\t연 수입액(달러)\t|\t\t|\n",
    "|\tOVERAGE\t|\t월 초과사용 시간(분)\t|\t\t|\n",
    "|\tLEFTOVER\t|\t월 사용 잔여시간비율(%)\t|\t\t|\n",
    "|\tHOUSE\t|\t집 가격(달러)\t|\t\t|\n",
    "|\tHANDSET_PRICE\t|\t핸드폰 가격(달러)\t|\t\t|\n",
    "|\tOVER_15MINS_CALLS_PER_MONTH\t|\t 평균 장기통화(15분 이상) 횟수\t|\t\t|\n",
    "|\tAVERAGE_CALL_DURATION\t|\t평균 통화시간(분)\t|\t\t|\n",
    "|\tREPORTED_SATISFACTION\t|\t만족도 설문('very_unsat', 'unsat', 'avg', 'sat', 'very_sat' ) - 범주\t|\t\t|\n",
    "|\tREPORTED_USAGE_LEVEL\t|\t사용 수준 설문('very_little', 'little', 'avg', 'high', 'very_high') - 범주\t|\t\t|\n",
    "|\tCONSIDERING_CHANGE_OF_PLAN\t|\t변경 계획 설문('never_thought', 'no', 'perhaps', 'considering',   'actively_looking_into_it') - 범주\t|\t\t|\n",
    "|\t**CHURN**\t|\t이탈여부(1 : 이탈, 0 : 잔류)\t|\t**Target**\t|\n"
   ]
  },
  {
   "cell_type": "markdown",
   "metadata": {
    "id": "bKimk8qVm8oC"
   },
   "source": [
    "----"
   ]
  },
  {
   "cell_type": "markdown",
   "metadata": {
    "id": "0bouXLxGkSSd"
   },
   "source": [
    "## 1.데이터 탐색"
   ]
  },
  {
   "cell_type": "markdown",
   "metadata": {
    "id": "PRXJWyibZTJN"
   },
   "source": [
    "## 2.데이터 전처리 "
   ]
  },
  {
   "cell_type": "code",
   "execution_count": 12,
   "metadata": {
    "id": "vtn0hI98urCt"
   },
   "outputs": [],
   "source": [
    "target = 'CHURN'"
   ]
  },
  {
   "cell_type": "markdown",
   "metadata": {
    "id": "OftPNXa1EPeV"
   },
   "source": [
    "### 2.1 데이터 정리"
   ]
  },
  {
   "cell_type": "markdown",
   "metadata": {
    "id": "mk_WSjzdnLLE"
   },
   "source": [
    "* feature와 , target으로 분할"
   ]
  },
  {
   "cell_type": "code",
   "execution_count": 13,
   "metadata": {
    "id": "hKx1tqpEEPeV"
   },
   "outputs": [],
   "source": [
    "x = data.drop(target, axis = 1)\n",
    "y = data.loc[:, target]"
   ]
  },
  {
   "cell_type": "markdown",
   "metadata": {
    "id": "a_EtSMDQnMQ5"
   },
   "source": [
    "* 불필요한 feature 제거\n",
    "    * 제거해야 할 feature를 선정하고 제거하시오. 제거 이유를 주석으로 기술합니다."
   ]
  },
  {
   "cell_type": "code",
   "execution_count": 14,
   "metadata": {},
   "outputs": [
    {
     "name": "stdout",
     "output_type": "stream",
     "text": [
      "<class 'pandas.core.frame.DataFrame'>\n",
      "RangeIndex: 18000 entries, 0 to 17999\n",
      "Data columns (total 12 columns):\n",
      " #   Column                       Non-Null Count  Dtype  \n",
      "---  ------                       --------------  -----  \n",
      " 0   id                           18000 non-null  int64  \n",
      " 1   COLLEGE                      18000 non-null  int64  \n",
      " 2   INCOME                       18000 non-null  int64  \n",
      " 3   OVERAGE                      18000 non-null  int64  \n",
      " 4   LEFTOVER                     18000 non-null  int64  \n",
      " 5   HOUSE                        17785 non-null  float64\n",
      " 6   HANDSET_PRICE                18000 non-null  int64  \n",
      " 7   OVER_15MINS_CALLS_PER_MONTH  18000 non-null  int64  \n",
      " 8   AVERAGE_CALL_DURATION        18000 non-null  int64  \n",
      " 9   REPORTED_SATISFACTION        17962 non-null  object \n",
      " 10  REPORTED_USAGE_LEVEL         18000 non-null  object \n",
      " 11  CONSIDERING_CHANGE_OF_PLAN   18000 non-null  object \n",
      "dtypes: float64(1), int64(8), object(3)\n",
      "memory usage: 1.6+ MB\n"
     ]
    }
   ],
   "source": [
    "x.info()"
   ]
  },
  {
   "cell_type": "code",
   "execution_count": 15,
   "metadata": {},
   "outputs": [
    {
     "name": "stdout",
     "output_type": "stream",
     "text": [
      "교차표\n",
      " CONSIDERING  Maybe    No   Yes\n",
      "CHURN                         \n",
      "0              456  2749  5926\n",
      "1              502  2699  5668\n",
      "--------------------------------------------------\n",
      "카이제곱통계량 4.5963159723849465\n",
      "p-value 0.10044369209162551\n",
      "자유도: 2\n"
     ]
    }
   ],
   "source": [
    "var = 'CONSIDERING_CHANGE_OF_PLAN'\n",
    "\n",
    "x['CONSIDERING'] = 'No'\n",
    "x.loc[(x[var]=='perhaps'), 'CONSIDERING'] = 'Maybe'\n",
    "x.loc[(x[var]=='actively_looking_into_it') | (x[var]=='considering'), 'CONSIDERING'] = 'Yes'\n",
    "table = pd.crosstab(y, x['CONSIDERING'])\n",
    "print('교차표\\n', table)\n",
    "print('-' * 50)\n",
    "result = spst.chi2_contingency(table)\n",
    "print('카이제곱통계량', result[0])\n",
    "print('p-value', result[1])\n",
    "print('자유도:', result[2])"
   ]
  },
  {
   "cell_type": "code",
   "execution_count": 16,
   "metadata": {},
   "outputs": [
    {
     "name": "stdout",
     "output_type": "stream",
     "text": [
      "교차표\n",
      " SATISFACTION  Avg   Sat  Unsat\n",
      "CHURN                         \n",
      "0             952  2826   5353\n",
      "1             854  2668   5347\n",
      "--------------------------------------------------\n",
      "카이제곱통계량 6.052786792281953\n",
      "p-value 0.048490208106138445\n",
      "자유도: 2\n"
     ]
    }
   ],
   "source": [
    "var = 'REPORTED_SATISFACTION'\n",
    "\n",
    "x['SATISFACTION'] = 'Unsat'\n",
    "x.loc[(x[var]=='very_sat') | (x[var]=='sat'), 'SATISFACTION'] = 'Sat'\n",
    "x.loc[(x[var]=='avg'), 'SATISFACTION'] = 'Avg'\n",
    "table = pd.crosstab(y, x['SATISFACTION'])\n",
    "print('교차표\\n', table)\n",
    "print('-' * 50)\n",
    "result = spst.chi2_contingency(table)\n",
    "print('카이제곱통계량', result[0])\n",
    "print('p-value', result[1])\n",
    "print('자유도:', result[2])"
   ]
  },
  {
   "cell_type": "code",
   "execution_count": 18,
   "metadata": {
    "id": "86yIoNg7nNuu"
   },
   "outputs": [
    {
     "data": {
      "text/html": [
       "<div>\n",
       "<style scoped>\n",
       "    .dataframe tbody tr th:only-of-type {\n",
       "        vertical-align: middle;\n",
       "    }\n",
       "\n",
       "    .dataframe tbody tr th {\n",
       "        vertical-align: top;\n",
       "    }\n",
       "\n",
       "    .dataframe thead th {\n",
       "        text-align: right;\n",
       "    }\n",
       "</style>\n",
       "<table border=\"1\" class=\"dataframe\">\n",
       "  <thead>\n",
       "    <tr style=\"text-align: right;\">\n",
       "      <th></th>\n",
       "      <th>id</th>\n",
       "      <th>COLLEGE</th>\n",
       "      <th>INCOME</th>\n",
       "      <th>OVERAGE</th>\n",
       "      <th>LEFTOVER</th>\n",
       "      <th>HOUSE</th>\n",
       "      <th>HANDSET_PRICE</th>\n",
       "      <th>OVER_15MINS_CALLS_PER_MONTH</th>\n",
       "      <th>AVERAGE_CALL_DURATION</th>\n",
       "      <th>CONSIDERING</th>\n",
       "      <th>SATISFACTION</th>\n",
       "    </tr>\n",
       "  </thead>\n",
       "  <tbody>\n",
       "    <tr>\n",
       "      <th>0</th>\n",
       "      <td>544</td>\n",
       "      <td>1</td>\n",
       "      <td>47711</td>\n",
       "      <td>183</td>\n",
       "      <td>17</td>\n",
       "      <td>730589.0</td>\n",
       "      <td>192</td>\n",
       "      <td>19</td>\n",
       "      <td>5</td>\n",
       "      <td>Yes</td>\n",
       "      <td>Unsat</td>\n",
       "    </tr>\n",
       "    <tr>\n",
       "      <th>1</th>\n",
       "      <td>689</td>\n",
       "      <td>0</td>\n",
       "      <td>74132</td>\n",
       "      <td>191</td>\n",
       "      <td>43</td>\n",
       "      <td>535092.0</td>\n",
       "      <td>349</td>\n",
       "      <td>15</td>\n",
       "      <td>2</td>\n",
       "      <td>No</td>\n",
       "      <td>Unsat</td>\n",
       "    </tr>\n",
       "    <tr>\n",
       "      <th>2</th>\n",
       "      <td>3134</td>\n",
       "      <td>1</td>\n",
       "      <td>150419</td>\n",
       "      <td>0</td>\n",
       "      <td>14</td>\n",
       "      <td>204004.0</td>\n",
       "      <td>682</td>\n",
       "      <td>0</td>\n",
       "      <td>6</td>\n",
       "      <td>Yes</td>\n",
       "      <td>Unsat</td>\n",
       "    </tr>\n",
       "    <tr>\n",
       "      <th>3</th>\n",
       "      <td>12523</td>\n",
       "      <td>0</td>\n",
       "      <td>159567</td>\n",
       "      <td>0</td>\n",
       "      <td>58</td>\n",
       "      <td>281969.0</td>\n",
       "      <td>634</td>\n",
       "      <td>1</td>\n",
       "      <td>1</td>\n",
       "      <td>No</td>\n",
       "      <td>Unsat</td>\n",
       "    </tr>\n",
       "    <tr>\n",
       "      <th>4</th>\n",
       "      <td>2374</td>\n",
       "      <td>1</td>\n",
       "      <td>23392</td>\n",
       "      <td>0</td>\n",
       "      <td>0</td>\n",
       "      <td>216707.0</td>\n",
       "      <td>233</td>\n",
       "      <td>0</td>\n",
       "      <td>15</td>\n",
       "      <td>No</td>\n",
       "      <td>Unsat</td>\n",
       "    </tr>\n",
       "  </tbody>\n",
       "</table>\n",
       "</div>"
      ],
      "text/plain": [
       "      id  COLLEGE  INCOME  OVERAGE  LEFTOVER     HOUSE  HANDSET_PRICE  \\\n",
       "0    544        1   47711      183        17  730589.0            192   \n",
       "1    689        0   74132      191        43  535092.0            349   \n",
       "2   3134        1  150419        0        14  204004.0            682   \n",
       "3  12523        0  159567        0        58  281969.0            634   \n",
       "4   2374        1   23392        0         0  216707.0            233   \n",
       "\n",
       "   OVER_15MINS_CALLS_PER_MONTH  AVERAGE_CALL_DURATION CONSIDERING SATISFACTION  \n",
       "0                           19                      5         Yes        Unsat  \n",
       "1                           15                      2          No        Unsat  \n",
       "2                            0                      6         Yes        Unsat  \n",
       "3                            1                      1          No        Unsat  \n",
       "4                            0                     15          No        Unsat  "
      ]
     },
     "execution_count": 18,
     "metadata": {},
     "output_type": "execute_result"
    }
   ],
   "source": [
    "# 딥러닝을 통해 새로운 feature를 만들 수 있기 때문에 모든 데이터를 지우지 않고 진행해 보겠습니다.\n",
    "# id 값은 모두 고유 값으로 제거하겠습니다.\n",
    "\n",
    "drop_cols=['REPORTED_SATISFACTION','REPORTED_USAGE_LEVEL','CONSIDERING_CHANGE_OF_PLAN']\n",
    "x.drop(drop_cols, axis=1, inplace=True)\n",
    "x.head()"
   ]
  },
  {
   "cell_type": "code",
   "execution_count": 19,
   "metadata": {},
   "outputs": [
    {
     "data": {
      "image/png": "[encoded data removed]",
      "text/plain": [
       "<Figure size 432x288 with 1 Axes>"
      ]
     },
     "metadata": {
      "needs_background": "light"
     },
     "output_type": "display_data"
    }
   ],
   "source": [
    "x['RATE_PLAN'] = (x['AVERAGE_CALL_DURATION'] * 30) * (1 + (x['LEFTOVER']) / 100)\n",
    "sns.histplot(x['RATE_PLAN'], bins=30)\n",
    "plt.show()"
   ]
  },
  {
   "cell_type": "code",
   "execution_count": 20,
   "metadata": {},
   "outputs": [
    {
     "data": {
      "image/png": "[encoded data removed]",
      "text/plain": [
       "<Figure size 432x288 with 1 Axes>"
      ]
     },
     "metadata": {
      "needs_background": "light"
     },
     "output_type": "display_data"
    }
   ],
   "source": [
    "bin = [0,100,200,300,500,np.inf]\n",
    "x['RATE_PLAN'] = pd.cut(x['RATE_PLAN'], bins=bin, labels=['very small', 'small', 'middle', 'large', 'ver large'])\n",
    "table = pd.crosstab(x['RATE_PLAN'], data[target], normalize='index')\n",
    "table.plot.bar(stacked=True)\n",
    "plt.axhline(1-data[target].mean(), color='r')\n",
    "plt.show()"
   ]
  },
  {
   "cell_type": "code",
   "execution_count": 21,
   "metadata": {},
   "outputs": [
    {
     "name": "stdout",
     "output_type": "stream",
     "text": [
      "요금제\n",
      "RATE_PLAN  very small  small  middle  large  ver large\n",
      "CHURN                                                 \n",
      "0                2286   3188    1751   1816         90\n",
      "1                2764   2467    1604   1922        112\n",
      "--------------------------------------------------\n",
      "카이제곱통계량 145.23023592459856\n",
      "p-value 2.1410261838465043e-30\n"
     ]
    }
   ],
   "source": [
    "table = pd.crosstab(data[target], x['RATE_PLAN'])\n",
    "result = spst.chi2_contingency(table)\n",
    "print('요금제')\n",
    "print(table)\n",
    "print('-' * 50)\n",
    "print('카이제곱통계량', result[0])\n",
    "print('p-value', result[1])"
   ]
  },
  {
   "cell_type": "code",
   "execution_count": 22,
   "metadata": {},
   "outputs": [
    {
     "data": {
      "text/html": [
       "<div>\n",
       "<style scoped>\n",
       "    .dataframe tbody tr th:only-of-type {\n",
       "        vertical-align: middle;\n",
       "    }\n",
       "\n",
       "    .dataframe tbody tr th {\n",
       "        vertical-align: top;\n",
       "    }\n",
       "\n",
       "    .dataframe thead th {\n",
       "        text-align: right;\n",
       "    }\n",
       "</style>\n",
       "<table border=\"1\" class=\"dataframe\">\n",
       "  <thead>\n",
       "    <tr style=\"text-align: right;\">\n",
       "      <th></th>\n",
       "      <th>id</th>\n",
       "      <th>COLLEGE</th>\n",
       "      <th>INCOME</th>\n",
       "      <th>OVERAGE</th>\n",
       "      <th>LEFTOVER</th>\n",
       "      <th>HOUSE</th>\n",
       "      <th>HANDSET_PRICE</th>\n",
       "      <th>OVER_15MINS_CALLS_PER_MONTH</th>\n",
       "      <th>AVERAGE_CALL_DURATION</th>\n",
       "      <th>CONSIDERING</th>\n",
       "      <th>SATISFACTION</th>\n",
       "      <th>RATE_PLAN</th>\n",
       "    </tr>\n",
       "  </thead>\n",
       "  <tbody>\n",
       "    <tr>\n",
       "      <th>0</th>\n",
       "      <td>544</td>\n",
       "      <td>1</td>\n",
       "      <td>47711</td>\n",
       "      <td>183</td>\n",
       "      <td>17</td>\n",
       "      <td>730589.0</td>\n",
       "      <td>192</td>\n",
       "      <td>19</td>\n",
       "      <td>5</td>\n",
       "      <td>Yes</td>\n",
       "      <td>Unsat</td>\n",
       "      <td>small</td>\n",
       "    </tr>\n",
       "    <tr>\n",
       "      <th>1</th>\n",
       "      <td>689</td>\n",
       "      <td>0</td>\n",
       "      <td>74132</td>\n",
       "      <td>191</td>\n",
       "      <td>43</td>\n",
       "      <td>535092.0</td>\n",
       "      <td>349</td>\n",
       "      <td>15</td>\n",
       "      <td>2</td>\n",
       "      <td>No</td>\n",
       "      <td>Unsat</td>\n",
       "      <td>very small</td>\n",
       "    </tr>\n",
       "    <tr>\n",
       "      <th>2</th>\n",
       "      <td>3134</td>\n",
       "      <td>1</td>\n",
       "      <td>150419</td>\n",
       "      <td>0</td>\n",
       "      <td>14</td>\n",
       "      <td>204004.0</td>\n",
       "      <td>682</td>\n",
       "      <td>0</td>\n",
       "      <td>6</td>\n",
       "      <td>Yes</td>\n",
       "      <td>Unsat</td>\n",
       "      <td>middle</td>\n",
       "    </tr>\n",
       "    <tr>\n",
       "      <th>3</th>\n",
       "      <td>12523</td>\n",
       "      <td>0</td>\n",
       "      <td>159567</td>\n",
       "      <td>0</td>\n",
       "      <td>58</td>\n",
       "      <td>281969.0</td>\n",
       "      <td>634</td>\n",
       "      <td>1</td>\n",
       "      <td>1</td>\n",
       "      <td>No</td>\n",
       "      <td>Unsat</td>\n",
       "      <td>very small</td>\n",
       "    </tr>\n",
       "    <tr>\n",
       "      <th>4</th>\n",
       "      <td>2374</td>\n",
       "      <td>1</td>\n",
       "      <td>23392</td>\n",
       "      <td>0</td>\n",
       "      <td>0</td>\n",
       "      <td>216707.0</td>\n",
       "      <td>233</td>\n",
       "      <td>0</td>\n",
       "      <td>15</td>\n",
       "      <td>No</td>\n",
       "      <td>Unsat</td>\n",
       "      <td>large</td>\n",
       "    </tr>\n",
       "  </tbody>\n",
       "</table>\n",
       "</div>"
      ],
      "text/plain": [
       "      id  COLLEGE  INCOME  OVERAGE  LEFTOVER     HOUSE  HANDSET_PRICE  \\\n",
       "0    544        1   47711      183        17  730589.0            192   \n",
       "1    689        0   74132      191        43  535092.0            349   \n",
       "2   3134        1  150419        0        14  204004.0            682   \n",
       "3  12523        0  159567        0        58  281969.0            634   \n",
       "4   2374        1   23392        0         0  216707.0            233   \n",
       "\n",
       "   OVER_15MINS_CALLS_PER_MONTH  AVERAGE_CALL_DURATION CONSIDERING  \\\n",
       "0                           19                      5         Yes   \n",
       "1                           15                      2          No   \n",
       "2                            0                      6         Yes   \n",
       "3                            1                      1          No   \n",
       "4                            0                     15          No   \n",
       "\n",
       "  SATISFACTION   RATE_PLAN  \n",
       "0        Unsat       small  \n",
       "1        Unsat  very small  \n",
       "2        Unsat      middle  \n",
       "3        Unsat  very small  \n",
       "4        Unsat       large  "
      ]
     },
     "execution_count": 22,
     "metadata": {},
     "output_type": "execute_result"
    }
   ],
   "source": [
    "x.head()"
   ]
  },
  {
   "cell_type": "markdown",
   "metadata": {
    "id": "umpv1ug6ZTJO"
   },
   "source": [
    "### 2.2 NaN에 대한 조치\n",
    "* 데이터에 포함된 NaN에 대해서 조치 방법을 결정하고 적용합니다.\n",
    "* **조치방법을 결정한 이유**를 주석으로 기술합니다."
   ]
  },
  {
   "cell_type": "code",
   "execution_count": null,
   "metadata": {
    "id": "sYVnI6HJOloF"
   },
   "outputs": [],
   "source": [
    "x.isna().sum()"
   ]
  },
  {
   "cell_type": "code",
   "execution_count": null,
   "metadata": {
    "id": "WZWY8B5YOlkS"
   },
   "outputs": [],
   "source": [
    "# KNNImpute를 사용하기 위해 가변수화를 진행하고 진행하겠습니다.\n",
    "# KNNImpute를 사용하는 이유는 NaN 값이 있는 feature를 target으로 그 외의 값으로 예측을 하기 때문에 가장 정확할 것이라고 생각했습니다."
   ]
  },
  {
   "cell_type": "markdown",
   "metadata": {
    "id": "NC48TbT7FoYM"
   },
   "source": [
    "### 2.3 (옵션) 추가변수 도출\n",
    "* 기존 데이터셋의 변수를 이용하여 추가로 도출할 수 있는 변수가 있다면 수행합니다.\n",
    "* 추가변수 생성시, 이유에 대해서 **주석**으로 기술합니다."
   ]
  },
  {
   "cell_type": "code",
   "execution_count": null,
   "metadata": {
    "id": "eEi54e5ZFnU1"
   },
   "outputs": [],
   "source": []
  },
  {
   "cell_type": "code",
   "execution_count": null,
   "metadata": {
    "id": "WDiZkMCkU1Bf"
   },
   "outputs": [],
   "source": []
  },
  {
   "cell_type": "markdown",
   "metadata": {
    "id": "zFJ23LikV8A_"
   },
   "source": [
    "### 2.4 가변수화\n",
    "* 범주형 데이터이면서 값이 0,1 로 되어 있는 것이 아니라면, 가변수화를 수행해야 합니다.\n",
    "* 대상이 되는 변수에 대해서 가변수화를 수행해주세요."
   ]
  },
  {
   "cell_type": "code",
   "execution_count": null,
   "metadata": {
    "id": "1AAfzPjeOm8x"
   },
   "outputs": [],
   "source": [
    "dump_col = ['REPORTED_SATISFACTION', 'REPORTED_USAGE_LEVEL', 'CONSIDERING_CHANGE_OF_PLAN']\n",
    "x = pd.get_dummies(x, columns=dump_col)\n",
    "x.head()"
   ]
  },
  {
   "cell_type": "code",
   "execution_count": null,
   "metadata": {
    "id": "UzJw24AWOm4v"
   },
   "outputs": [],
   "source": [
    "# KNNImpute로 NaN 값을 처리하겠습니다.\n",
    "from sklearn.impute import KNNImputer\n",
    "\n",
    "impute = KNNImputer(n_neighbors=5)\n",
    "imputed = impute.fit_transform(x)\n",
    "x = pd.DataFrame(imputed, columns=x.columns)\n",
    "x.head()"
   ]
  },
  {
   "cell_type": "code",
   "execution_count": null,
   "metadata": {},
   "outputs": [],
   "source": [
    "x.isna().sum()"
   ]
  },
  {
   "cell_type": "markdown",
   "metadata": {
    "id": "aODppuvooQzl"
   },
   "source": [
    "### 2.5 데이터 분할\n",
    "\n",
    "* test 3000건(test_size = 3000), random_state = 2022\n",
    "* val 3000건(test_size = 3000), random_state = 2022\n",
    "* train 나머지."
   ]
  },
  {
   "cell_type": "code",
   "execution_count": null,
   "metadata": {
    "id": "SmHfm-Z8OoC3"
   },
   "outputs": [],
   "source": [
    "from sklearn.model_selection import train_test_split\n",
    "\n",
    "x_train, x_test, y_train, y_test = train_test_split(x, y, test_size=300, random_state=2022)\n",
    "\n",
    "x_train, x_val, y_train, y_val = train_test_split(x_train, y_train, test_size=300, random_state=2022)"
   ]
  },
  {
   "cell_type": "code",
   "execution_count": null,
   "metadata": {
    "id": "f-nWCy8QOn_P"
   },
   "outputs": [],
   "source": [
    "# train은 훈련용으로 사용, vla은 성능 확인용으로 사용, test는 선택된 모델의 최종 성능을 확인하기 위해 사용합니다.\n",
    "(x_train.shape, y_train.shape), (x_val.shape, y_val.shape), (x_test.shape, y_test.shape)"
   ]
  },
  {
   "cell_type": "markdown",
   "metadata": {
    "id": "2Lwk03PSZTJP"
   },
   "source": [
    "### 2.6 (옵션)스케일링 \n",
    "* 스케일링을 필요로 하는 알고리즘이 있습니다. \n",
    "* 필요하다고 판단될때 수행합니다."
   ]
  },
  {
   "cell_type": "code",
   "execution_count": null,
   "metadata": {
    "id": "oAVSU7XucCvn"
   },
   "outputs": [],
   "source": [
    "from sklearn.preprocessing import MinMaxScaler\n",
    "\n",
    "scaler = MinMaxScaler()\n",
    "\n",
    "x_col = list(x_train)\n",
    "\n",
    "# MinMaxScaler 적용\n",
    "x_tr_s = scaler.fit_transform(x_train)\n",
    "x_val_s = scaler.transform(x_val)\n",
    "x_te_s = scaler.transform(x_test)\n",
    "\n",
    "# DataFrame으로 변환\n",
    "x_tr_s = pd.DataFrame(x_tr_s, columns=x_col)\n",
    "x_val_s = pd.DataFrame(x_val_s, columns=x_col)\n",
    "x_te_s = pd.DataFrame(x_te_s, columns=x_col)"
   ]
  },
  {
   "cell_type": "code",
   "execution_count": null,
   "metadata": {},
   "outputs": [],
   "source": [
    "x_tr_s.head()"
   ]
  },
  {
   "cell_type": "markdown",
   "metadata": {
    "id": "ZghJJ7yLEpDA"
   },
   "source": [
    "## 3.모델링1 : 머신러닝"
   ]
  },
  {
   "cell_type": "markdown",
   "metadata": {
    "id": "NFDAfi7-5Xhu"
   },
   "source": [
    "### 3.1 모델링을 위한 함수 불러오기\n",
    "\n",
    "* **꼭 필요한 라이브러리 혹은 함수**만 불러옵니다. 무조건 다 불러오는 것은 지양해주세요."
   ]
  },
  {
   "cell_type": "code",
   "execution_count": null,
   "metadata": {
    "id": "zlHHnr2-5cwD"
   },
   "outputs": [],
   "source": [
    "from sklearn.linear_model import LogisticRegression\n",
    "from sklearn.neighbors import KNeighborsClassifier\n",
    "from sklearn.tree import DecisionTreeClassifier\n",
    "from sklearn.svm import SVC\n",
    "from sklearn.ensemble import RandomForestClassifier\n",
    "from xgboost import XGBClassifier\n",
    "\n",
    "from sklearn.model_selection import GridSearchCV, RandomizedSearchCV\n",
    "from sklearn.metrics import classification_report"
   ]
  },
  {
   "cell_type": "markdown",
   "metadata": {
    "id": "6K1mZKlXByLy"
   },
   "source": [
    "### 3.2 모델링\n",
    "* 최소 3개 이상의 알고리즘을 선정합니다.(알고리즘에는 최소 1개 이상의 앙상블 기법을 포함)\n",
    "    * 아래 주어진 목록 이외의 알고리즘을 선정해도 좋습니다.\n",
    "* 각 알고리즘별 튜닝을 수행하여 최적의 모델을 생성합니다.\n",
    "    * 튜닝 방식은 GridSearchCV, RandomizedSearchCV 혹은 for loop 로 직접\n",
    "    * 단, 선형회귀, 로지스틱 회귀의는 입력 변수(feature)를 조절하여 튜닝을 합니다.\n",
    "    * 튜닝 과정에 대해서 주석으로 기술합니다.\n",
    "* 모델링, 튜닝만 수행하는데 그치지 말고, 모델의 내용을 파악하기 위한 분석을 시도합니다. 코드 결과에 대한 분석 의견을 주석으로 기술합니다.\n",
    "    * 예 : 모델 시각화 및 내용 파악, 튜닝 결과 분석 및 시각화"
   ]
  },
  {
   "cell_type": "markdown",
   "metadata": {
    "id": "VBBpa7BjL6Lj"
   },
   "source": [
    "#### (1) Logistic Regression"
   ]
  },
  {
   "cell_type": "code",
   "execution_count": null,
   "metadata": {
    "id": "qvry7Ns-OtqH"
   },
   "outputs": [],
   "source": [
    "model_lg = LogisticRegression()"
   ]
  },
  {
   "cell_type": "code",
   "execution_count": null,
   "metadata": {
    "id": "W3kInz1eOuL_"
   },
   "outputs": [],
   "source": [
    "model_lg.fit(x_train, y_train)"
   ]
  },
  {
   "cell_type": "code",
   "execution_count": null,
   "metadata": {
    "id": "ix3jWeElOtmX"
   },
   "outputs": [],
   "source": [
    "for i in range(len(list(x_train))) :\n",
    "    print(list(x_train)[i], ':', model_lg.coef_[0][i])\n",
    "    \n",
    "print(model_lg.intercept_)"
   ]
  },
  {
   "cell_type": "code",
   "execution_count": null,
   "metadata": {},
   "outputs": [],
   "source": [
    "# LogisticRegression의 변수 가중치는 이번 모델에 변수가 미치는 중요도라고 파악하여 시각화 진행\n",
    "plt.figure(figsize=(15, 10))\n",
    "plt.barh(width=model_lg.coef_[0], y=list(x_train))\n",
    "plt.show()"
   ]
  },
  {
   "cell_type": "code",
   "execution_count": null,
   "metadata": {
    "id": "k2ZVWhqqOti_"
   },
   "outputs": [],
   "source": [
    "# 예측\n",
    "lg_y_val_pred = model_lg.predict(x_val)\n",
    "print(classification_report(y_val, lg_y_val_pred))"
   ]
  },
  {
   "cell_type": "markdown",
   "metadata": {
    "id": "90r0cCjwOvYY"
   },
   "source": [
    "#### (2) KNN\n",
    "\n",
    "- knn은 거리로 예측을 하는 알고리즘으로 scaler를 적용한 feature로 진행"
   ]
  },
  {
   "cell_type": "code",
   "execution_count": null,
   "metadata": {
    "id": "JP5YptL7OvYY"
   },
   "outputs": [],
   "source": [
    "model_knn = KNeighborsClassifier()\n",
    "\n",
    "param = {'n_neighbors' : range(2, 11)}\n",
    "\n",
    "model_knn_grid = GridSearchCV(model_knn,\n",
    "                              param,\n",
    "                              cv=10,\n",
    "                              scoring='accuracy')"
   ]
  },
  {
   "cell_type": "code",
   "execution_count": null,
   "metadata": {
    "id": "xp9R7JAfOvYY"
   },
   "outputs": [],
   "source": [
    "model_knn_grid.fit(x_tr_s, y_train)"
   ]
  },
  {
   "cell_type": "code",
   "execution_count": null,
   "metadata": {},
   "outputs": [],
   "source": [
    "# 최적의 파라미터를 갖는 모델 확인\n",
    "model_knn_grid.best_estimator_"
   ]
  },
  {
   "cell_type": "code",
   "execution_count": null,
   "metadata": {
    "id": "4kDkaFxcOvYY"
   },
   "outputs": [],
   "source": [
    "# 예측\n",
    "knn_y_val_pred = model_knn_grid.predict(x_val_s)\n",
    "print(classification_report(y_val, knn_y_val_pred))"
   ]
  },
  {
   "cell_type": "markdown",
   "metadata": {
    "id": "79nC_1brOw_d"
   },
   "source": [
    "#### (3) Decision Tree"
   ]
  },
  {
   "cell_type": "code",
   "execution_count": null,
   "metadata": {
    "id": "OWrO87LaOw_d"
   },
   "outputs": [],
   "source": [
    "model_dt = DecisionTreeClassifier(random_state=2022)\n",
    "\n",
    "param = {'max_depth' : range(2, 50)}\n",
    "\n",
    "model_dt_random = RandomizedSearchCV(model_dt,\n",
    "                                     param,\n",
    "                                     cv=10,\n",
    "                                     n_iter=20,\n",
    "                                     scoring='accuracy')\n",
    "\n",
    "model_dt_random.fit(x_train, y_train)\n",
    "print(model_dt_random.best_estimator_)"
   ]
  },
  {
   "cell_type": "code",
   "execution_count": null,
   "metadata": {
    "id": "X2w9xuTxOw_e"
   },
   "outputs": [],
   "source": [
    "# RandomizedSearchCV 결과를 DataFrame으로 변환\n",
    "result_random = pd.DataFrame(model_dt_random.cv_results_)\n",
    "result_random = result_random[['param_max_depth', 'mean_test_score']]\n",
    "result_random.sort_values(by='param_max_depth', inplace=True)\n",
    "result_random.reset_index(drop=True, inplace=True)"
   ]
  },
  {
   "cell_type": "code",
   "execution_count": null,
   "metadata": {
    "id": "Gu9S_e8HOw_e"
   },
   "outputs": [],
   "source": [
    "# GridSearchCV 할 범위 지정\n",
    "idx = result_random[result_random['param_max_depth']==model_dt_random.best_params_['max_depth']].index[0]\n",
    "\n",
    "start = 1\n",
    "end = 51\n",
    "if idx != 0 :\n",
    "    start = result_random.loc[idx-1]['param_max_depth']\n",
    "if idx != 10 :\n",
    "    end = result_random.loc[idx+1]['param_max_depth']"
   ]
  },
  {
   "cell_type": "code",
   "execution_count": null,
   "metadata": {
    "id": "A831KcfEOw_e"
   },
   "outputs": [],
   "source": [
    "# GridSEarchCV 진행\n",
    "param = {'max_depth' : range(start, end)}\n",
    "\n",
    "model_dt_grid = GridSearchCV(model_dt,\n",
    "                         param,\n",
    "                         cv=10,\n",
    "                         scoring='accuracy')\n",
    "\n",
    "model_dt_grid.fit(x_train, y_train)\n",
    "\n",
    "print(model_dt_grid.best_estimator_)"
   ]
  },
  {
   "cell_type": "code",
   "execution_count": null,
   "metadata": {},
   "outputs": [],
   "source": [
    "# 시각화\n",
    "from sklearn.tree import export_graphviz\n",
    "\n",
    "export_graphviz(model_dt_grid.best_estimator_,\n",
    "                out_file = 'tree.dot',\n",
    "                feature_names = x_train.columns,\n",
    "                rounded = True, precision = 3, filled = True)\n",
    "!dot -Tpng tree.dot -o tree.png -Gdpi=300\n",
    "\n",
    "#이미지 파일 로딩하기.\n",
    "from IPython.display import Image\n",
    "Image(filename = 'tree.png', width = 800)  # 사이즈 조정.\n",
    "\n",
    "# 7일 전의 이용량과 2일전의 이용량 변수가 자주 사용되었음을 확인가능"
   ]
  },
  {
   "cell_type": "code",
   "execution_count": null,
   "metadata": {},
   "outputs": [],
   "source": [
    "# 예측\n",
    "dt_y_val_pred = model_dt_grid.predict(x_val)\n",
    "print(classification_report(y_val, dt_y_val_pred))"
   ]
  },
  {
   "cell_type": "markdown",
   "metadata": {
    "id": "yIm4n8jAOytN"
   },
   "source": [
    "#### (4) SVM\n",
    "- svm은 거리로 예측을 하는 알고리즘으로 scaler를 적용한 feature로 진행"
   ]
  },
  {
   "cell_type": "code",
   "execution_count": null,
   "metadata": {
    "id": "I08wZzKSOytN"
   },
   "outputs": [],
   "source": [
    "# GridSearchCV로 끝날 기미가 보이지 않아 우선 parameter 없이 진행했습니다.\n",
    "\n",
    "model_svm = SVC()\n",
    "\n",
    "model_svm.fit(x_tr_s, y_train)"
   ]
  },
  {
   "cell_type": "code",
   "execution_count": null,
   "metadata": {
    "id": "uwNjvnz6OytO"
   },
   "outputs": [],
   "source": [
    "# 예측\n",
    "svm_y_val_pred = model_svm.predict(x_val_s)\n",
    "print(classification_report(y_val, svm_y_val_pred))"
   ]
  },
  {
   "cell_type": "markdown",
   "metadata": {
    "id": "79nC_1brOw_d"
   },
   "source": [
    "#### (5) Random Forest"
   ]
  },
  {
   "cell_type": "code",
   "execution_count": null,
   "metadata": {},
   "outputs": [],
   "source": [
    "# GridSearchCV로 끝날 기미가 보이지 않아 우선 parameter 없이 진행했습니다.\n",
    "\n",
    "model_rf = RandomForestClassifier(random_state=2022)\n",
    "\n",
    "model_rf.fit(x_train, y_train)"
   ]
  },
  {
   "cell_type": "code",
   "execution_count": null,
   "metadata": {},
   "outputs": [],
   "source": [
    "plt.barh(y=list(x_train), width=model_rf.feature_importances_)\n",
    "plt.show()"
   ]
  },
  {
   "cell_type": "code",
   "execution_count": null,
   "metadata": {},
   "outputs": [],
   "source": [
    "# 예측\n",
    "rf_y_val_pred = model_rf.predict(x_val)\n",
    "print(classification_report(y_val, rf_y_val_pred))"
   ]
  },
  {
   "cell_type": "markdown",
   "metadata": {
    "id": "79nC_1brOw_d"
   },
   "source": [
    "#### (6) XGBoost"
   ]
  },
  {
   "cell_type": "code",
   "execution_count": null,
   "metadata": {},
   "outputs": [],
   "source": [
    "# GridSearchCV로 끝날 기미가 보이지 않아 우선 parameter 없이 진행했습니다.\n",
    "\n",
    "model_xgb = XGBClassifier()\n",
    "\n",
    "model_xgb.fit(x_train, y_train)"
   ]
  },
  {
   "cell_type": "code",
   "execution_count": null,
   "metadata": {},
   "outputs": [],
   "source": [
    "plt.barh(y=list(x_train), width=model_xgb.feature_importances_)\n",
    "plt.show()"
   ]
  },
  {
   "cell_type": "code",
   "execution_count": null,
   "metadata": {},
   "outputs": [],
   "source": [
    "xgb_y_val_pred = model_xgb.predict(x_val)\n",
    "print(classification_report(y_val, xgb_y_val_pred))"
   ]
  },
  {
   "cell_type": "markdown",
   "metadata": {
    "id": "95r7i5gXL6Lx"
   },
   "source": [
    "## 4.모델링2 : DL"
   ]
  },
  {
   "cell_type": "markdown",
   "metadata": {
    "id": "b9kRyQ6K6CIW"
   },
   "source": [
    "### 4.1 모델링을 위한 함수 불러오기"
   ]
  },
  {
   "cell_type": "code",
   "execution_count": null,
   "metadata": {
    "id": "_BDNB7hM9_hz"
   },
   "outputs": [],
   "source": [
    "from tensorflow import keras\n",
    "from tensorflow.keras.layers import Input, Dense, Add, Concatenate\n",
    "from tensorflow.keras.models import Model\n",
    "\n",
    "from tensorflow.keras.utils import plot_model\n",
    "from tensorflow.keras.callbacks import EarlyStopping\n",
    "from tensorflow.keras.backend import clear_session\n",
    "from tensorflow.keras.losses import binary_crossentropy\n",
    "from tensorflow.keras.optimizers import Adam"
   ]
  },
  {
   "cell_type": "markdown",
   "metadata": {
    "id": "lL9BeX00MLgt"
   },
   "source": [
    "### 4.2 모델링\n",
    "\n",
    "* 딥러닝 모델을 3개 이상 생성하시오\n",
    "    * 다양한 구조의 모델 3개 이상을 설계하시오. (히든레이어, 노드 수 조절)\n",
    "    * 각 모델은 구조가 달라야 합니다.\n",
    "    * 구조를 그렇게 구성한 이유를 주석으로 기술해 봅시다.\n",
    "* 각 모델마다 \n",
    "    * 구조를 summary 혹은 plot model로 확인\n",
    "    * 학습 후 history plot 그리고 적절하게 학습이 되었는지 확인    "
   ]
  },
  {
   "cell_type": "markdown",
   "metadata": {
    "id": "yAaMF07mHz_q"
   },
   "source": [
    "#### (1) 모델1"
   ]
  },
  {
   "cell_type": "code",
   "execution_count": null,
   "metadata": {},
   "outputs": [],
   "source": [
    "x_train.shape, y_train.shape"
   ]
  },
  {
   "cell_type": "code",
   "execution_count": null,
   "metadata": {
    "id": "aA1Pm1oXMLgv"
   },
   "outputs": [],
   "source": [
    "# 가장 기본적인 input과 output만 있는 모델을 생성해봤습니다.\n",
    "\n",
    "# 초기화\n",
    "clear_session()\n",
    "\n",
    "# 레이어 생성\n",
    "input_layer = Input(shape=(23,))\n",
    "output_layer = Dense(1, activation='sigmoid')(input_layer)\n",
    "\n",
    "# 모델 생성\n",
    "model_dl1 = Model(input_layer, output_layer)\n",
    "\n",
    "# 컴파일\n",
    "model_dl1.compile(loss=binary_crossentropy, metrics=['accuracy'], optimizer=Adam())\n",
    "\n",
    "# summary\n",
    "model_dl1.summary()"
   ]
  },
  {
   "cell_type": "code",
   "execution_count": null,
   "metadata": {},
   "outputs": [],
   "source": [
    "plot_model(model_dl1, show_shapes=True)"
   ]
  },
  {
   "cell_type": "code",
   "execution_count": null,
   "metadata": {
    "scrolled": true
   },
   "outputs": [],
   "source": [
    "# 모델 훈련\n",
    "es = EarlyStopping(monitor='val_loss', min_delta=0, patience=20, verbose=1, restore_best_weights=True)\n",
    "\n",
    "history1 = model_dl1.fit(x_train, y_train, epochs=100, verbose=1, callbacks=[es], validation_split=0.15)"
   ]
  },
  {
   "cell_type": "code",
   "execution_count": null,
   "metadata": {},
   "outputs": [],
   "source": [
    "# 모델 history plot\n",
    "plt.plot(history1.history['loss'], label='loss')\n",
    "plt.plot(history1.history['val_loss'], label='val_loss')\n",
    "\n",
    "plt.legend()\n",
    "\n",
    "plt.show()"
   ]
  },
  {
   "cell_type": "code",
   "execution_count": null,
   "metadata": {},
   "outputs": [],
   "source": [
    "# 모델 history plot\n",
    "plt.plot(history1.history['accuracy'], label='accuracy')\n",
    "plt.plot(history1.history['val_accuracy'], label='val_accuracy')\n",
    "\n",
    "plt.legend()\n",
    "\n",
    "plt.show()"
   ]
  },
  {
   "cell_type": "code",
   "execution_count": null,
   "metadata": {},
   "outputs": [],
   "source": [
    "# 예측\n",
    "dl1_y_val_pred = model_dl1.predict(x_val)\n",
    "dl1_y_val_pred = np.where(dl1_y_val_pred>0.5, 1, 0)\n",
    "print(classification_report(y_val, dl1_y_val_pred))"
   ]
  },
  {
   "cell_type": "markdown",
   "metadata": {
    "id": "yAaMF07mHz_q"
   },
   "source": [
    "#### (2) 모델2"
   ]
  },
  {
   "cell_type": "code",
   "execution_count": null,
   "metadata": {
    "id": "aA1Pm1oXMLgv"
   },
   "outputs": [],
   "source": [
    "# hidden layer를 2개를 더 추가하여 새로운 feature를 생성하여 훈련을 시켜보겠습니다.\n",
    "\n",
    "# 초기화\n",
    "clear_session()\n",
    "\n",
    "# 레이어 생성\n",
    "input_layer = Input(shape=(23,))\n",
    "hiden_layer = Dense(32, activation='relu')(input_layer)\n",
    "hiden_layer = Dense(16, activation='relu')(hiden_layer)\n",
    "output_layer = Dense(1, activation='sigmoid')(hiden_layer)\n",
    "\n",
    "# 모델 생성\n",
    "model_dl2 = Model(input_layer, output_layer)\n",
    "\n",
    "# 컴파일\n",
    "model_dl2.compile(loss=binary_crossentropy, metrics=['accuracy'], optimizer=Adam())\n",
    "\n",
    "# summary\n",
    "model_dl2.summary()\n"
   ]
  },
  {
   "cell_type": "code",
   "execution_count": null,
   "metadata": {},
   "outputs": [],
   "source": [
    "plot_model(model_dl2, show_shapes=True)"
   ]
  },
  {
   "cell_type": "code",
   "execution_count": null,
   "metadata": {
    "scrolled": true
   },
   "outputs": [],
   "source": [
    "# 모델 훈련\n",
    "es = EarlyStopping(monitor='val_loss', min_delta=0, patience=20, verbose=1, restore_best_weights=True)\n",
    "\n",
    "history2 = model_dl2.fit(x_train, y_train, epochs=100, verbose=1, callbacks=[es], validation_split=0.15)"
   ]
  },
  {
   "cell_type": "code",
   "execution_count": null,
   "metadata": {},
   "outputs": [],
   "source": [
    "# 모델 history plot\n",
    "plt.plot(history2.history['loss'], label='loss')\n",
    "plt.plot(history2.history['val_loss'], label='val_loss')\n",
    "\n",
    "plt.legend()\n",
    "\n",
    "plt.show()"
   ]
  },
  {
   "cell_type": "code",
   "execution_count": null,
   "metadata": {},
   "outputs": [],
   "source": [
    "# 모델 history plot\n",
    "plt.plot(history2.history['accuracy'], label='accuracy')\n",
    "plt.plot(history2.history['val_accuracy'], label='val_accuracy')\n",
    "\n",
    "plt.legend()\n",
    "\n",
    "plt.show()"
   ]
  },
  {
   "cell_type": "code",
   "execution_count": null,
   "metadata": {},
   "outputs": [],
   "source": [
    "# 예측\n",
    "dl2_y_val_pred = model_dl2.predict(x_val)\n",
    "dl2_y_val_pred = np.where(dl2_y_val_pred>0.5, 1, 0)\n",
    "print(classification_report(y_val, dl2_y_val_pred))"
   ]
  },
  {
   "cell_type": "markdown",
   "metadata": {
    "id": "yAaMF07mHz_q"
   },
   "source": [
    "#### (3) 모델3"
   ]
  },
  {
   "cell_type": "code",
   "execution_count": null,
   "metadata": {},
   "outputs": [],
   "source": [
    "dic = {'satisfaction' : ['REPORTED_SATISFACTION_avg', 'REPORTED_SATISFACTION_sat', 'REPORTED_SATISFACTION_unsat', 'REPORTED_SATISFACTION_very_sat', 'REPORTED_SATISFACTION_very_unsat'],\n",
    "       'usage' : ['REPORTED_USAGE_LEVEL_avg', 'REPORTED_USAGE_LEVEL_high', 'REPORTED_USAGE_LEVEL_little','REPORTED_USAGE_LEVEL_very_high' ,'REPORTED_USAGE_LEVEL_very_little'],\n",
    "       'considering' : ['CONSIDERING_CHANGE_OF_PLAN_actively_looking_into_it' ,'CONSIDERING_CHANGE_OF_PLAN_considering', 'CONSIDERING_CHANGE_OF_PLAN_never_thought', 'CONSIDERING_CHANGE_OF_PLAN_no' ,'CONSIDERING_CHANGE_OF_PLAN_perhaps']}\n",
    "for_num = np.array(list(dic.values())).reshape(-1)\n",
    "\n",
    "satisfaction_x_tr = x_train[dic['satisfaction']]\n",
    "usage_x_tr = x_train[dic['usage']]\n",
    "considering_x_tr = x_train[dic['considering']]\n",
    "num_x_tr = x_train.drop(for_num, axis=1)\n",
    "\n",
    "satisfaction_x_val = x_val[dic['satisfaction']]\n",
    "usage_x_val = x_val[dic['usage']]\n",
    "considering_x_val = x_val[dic['considering']]\n",
    "num_x_val = x_val.drop(for_num, axis=1)"
   ]
  },
  {
   "cell_type": "code",
   "execution_count": null,
   "metadata": {},
   "outputs": [],
   "source": [
    "satisfaction_x_tr.shape, usage_x_tr.shape, considering_x_tr.shape, num_x_tr.shape"
   ]
  },
  {
   "cell_type": "code",
   "execution_count": null,
   "metadata": {
    "id": "aA1Pm1oXMLgv"
   },
   "outputs": [],
   "source": [
    "# 설문 조사 별로 나눠서 3개의 input을 생성하고 add 후 나머지를 input하여 concat하는 모델을 생성\n",
    "\n",
    "# 초기화\n",
    "clear_session()\n",
    "\n",
    "# 레이어 생성\n",
    "satisfaction_input_layer = Input(shape=(5, ))\n",
    "satisfaction_hiden_layer = Dense(5)(satisfaction_input_layer)\n",
    "\n",
    "usage_input_layer = Input(shape=(5, ))\n",
    "usage_hiden_layer = Dense(5)(usage_input_layer)\n",
    "\n",
    "considering_input_layer = Input(shape=(5, ))\n",
    "considering_hiden_layer = Dense(5)(considering_input_layer)\n",
    "\n",
    "add_layer = Add()([satisfaction_hiden_layer, usage_hiden_layer, considering_hiden_layer])\n",
    "\n",
    "num_input_layer = Input(shape=(8, ))\n",
    "\n",
    "concat_layer = Concatenate()([add_layer, num_input_layer])\n",
    "hiden_layer = Dense(8)(concat_layer)\n",
    "output_layer = Dense(1, activation='sigmoid')(hiden_layer)\n",
    "\n",
    "# 모델 생성\n",
    "model_dl3 = Model([satisfaction_input_layer, usage_input_layer, considering_input_layer, num_input_layer], output_layer)\n",
    "\n",
    "# 컴파일\n",
    "model_dl3.compile(loss=binary_crossentropy, metrics=['accuracy'], optimizer=Adam())\n",
    "\n",
    "# summary\n",
    "model_dl3.summary()"
   ]
  },
  {
   "cell_type": "code",
   "execution_count": null,
   "metadata": {},
   "outputs": [],
   "source": [
    "plot_model(model_dl3, show_shapes=True)"
   ]
  },
  {
   "cell_type": "code",
   "execution_count": null,
   "metadata": {
    "scrolled": true
   },
   "outputs": [],
   "source": [
    "# 모델 훈련\n",
    "es = EarlyStopping(monitor='val_loss', min_delta=0, patience=20, verbose=1, restore_best_weights=True)\n",
    "\n",
    "history3 = model_dl3.fit([satisfaction_x_tr, usage_x_tr, considering_x_tr, num_x_tr], y_train,\n",
    "                         epochs=100, verbose=1, callbacks=[es], validation_split=0.15)"
   ]
  },
  {
   "cell_type": "code",
   "execution_count": null,
   "metadata": {},
   "outputs": [],
   "source": [
    "# 모델 history plot\n",
    "plt.plot(history3.history['loss'], label='loss')\n",
    "plt.plot(history3.history['val_loss'], label='val_loss')\n",
    "\n",
    "plt.legend()\n",
    "\n",
    "plt.show()"
   ]
  },
  {
   "cell_type": "code",
   "execution_count": null,
   "metadata": {},
   "outputs": [],
   "source": [
    "# 모델 history plot\n",
    "plt.plot(history3.history['accuracy'], label='accuracy')\n",
    "plt.plot(history3.history['val_accuracy'], label='val_accuracy')\n",
    "\n",
    "plt.legend()\n",
    "\n",
    "plt.show()"
   ]
  },
  {
   "cell_type": "code",
   "execution_count": null,
   "metadata": {},
   "outputs": [],
   "source": [
    "# 예측\n",
    "dl3_y_val_pred = model_dl3.predict([satisfaction_x_val, usage_x_val, considering_x_val, num_x_val])\n",
    "dl3_y_val_pred = np.where(dl3_y_val_pred>0.5, 1, 0)\n",
    "print(classification_report(y_val, dl3_y_val_pred))"
   ]
  },
  {
   "cell_type": "markdown",
   "metadata": {
    "id": "yAaMF07mHz_q"
   },
   "source": [
    "#### (4) 추가"
   ]
  },
  {
   "cell_type": "code",
   "execution_count": null,
   "metadata": {
    "id": "aA1Pm1oXMLgv"
   },
   "outputs": [],
   "source": []
  },
  {
   "cell_type": "code",
   "execution_count": null,
   "metadata": {},
   "outputs": [],
   "source": []
  },
  {
   "cell_type": "code",
   "execution_count": null,
   "metadata": {},
   "outputs": [],
   "source": []
  },
  {
   "cell_type": "code",
   "execution_count": null,
   "metadata": {},
   "outputs": [],
   "source": []
  },
  {
   "cell_type": "code",
   "execution_count": null,
   "metadata": {},
   "outputs": [],
   "source": []
  },
  {
   "cell_type": "markdown",
   "metadata": {
    "id": "U4UL4ynYL6Ly"
   },
   "source": [
    "## 5.성능 비교\n",
    "* 총 모델이 최소한 ML 3가지, DL 3가지 입니다. 이에 대해 성능을 평가합니다.\n",
    "* 평가를 위한 적절한 지표(metric)을 결정하고 비교합니다.\n",
    "    * **평가지표 선정 이유**를 주석으로 기술하시오.\n",
    "* 최종 모델을 **선정하게 된 근거**를 주석으로 기술하시오."
   ]
  },
  {
   "cell_type": "markdown",
   "metadata": {
    "id": "lKA2UyB6HXfF"
   },
   "source": [
    "### 5.1 평가지표 결정\n",
    "\n",
    "* 어떤 지표로 성능을 비교할지 결정합니다.\n",
    "* 결정 이유를 기술합니다."
   ]
  },
  {
   "cell_type": "code",
   "execution_count": null,
   "metadata": {
    "id": "Ta99Rh0IHarR"
   },
   "outputs": [],
   "source": [
    "# 이탈한 고객의 f1_score와 이탈한 고객의 precision이 높은 것이 좋은 모델이라고 생각합니다.\n",
    "# 이유는 이탈 고객을 방지하는 것이 중요하다고 했으니 이탈 고객을 예측을 잘하는 것이 중요하다고 생각하기에 이탈 고객의\n",
    "# f1_score가 중요하고 precision이 높은 것은 예측한 것 중 맞춘 비율이기 때문에 예측을 잘했다는 것입니다.\n",
    "# 이미 이탈한 고객들은 어떻게 하지 못하니 예측을 잘해서 이탈을 방지하는 것이 중요하기 때문입니다."
   ]
  },
  {
   "cell_type": "markdown",
   "metadata": {
    "id": "-hOx7i2sHi1U"
   },
   "source": [
    "### 5.2 성능 비교\n",
    "\n",
    "* 성능을 비교하고, 최적의 모델을 선정하시오.\n",
    "* 선정 근거를 주석으로 기술하시오."
   ]
  },
  {
   "cell_type": "code",
   "execution_count": null,
   "metadata": {
    "id": "zeuAsByWO9WI"
   },
   "outputs": [],
   "source": [
    "result = {}\n",
    "print('='*54)\n",
    "print('Logistic Regression')\n",
    "print('-'*54)\n",
    "print(classification_report(y_val, lg_y_val_pred))\n",
    "result['Logistic Regression'] = classification_report(y_val, lg_y_val_pred)\n",
    "print('='*54)\n",
    "print('KNN')\n",
    "print('-'*54)\n",
    "print(classification_report(y_val, knn_y_val_pred))\n",
    "result['KNN'] = classification_report(y_val, knn_y_val_pred)\n",
    "print('='*54)\n",
    "print('Decision Tree')\n",
    "print('-'*54)\n",
    "print(classification_report(y_val, dt_y_val_pred))\n",
    "result['Decision Tree'] = classification_report(y_val, dt_y_val_pred)\n",
    "print('='*54)\n",
    "print('SVM')\n",
    "print('-'*54)\n",
    "print(classification_report(y_val, svm_y_val_pred))\n",
    "result['SVM'] = classification_report(y_val, svm_y_val_pred)\n",
    "print('='*54)\n",
    "print('Random Forest')\n",
    "print('-'*54)\n",
    "print(classification_report(y_val, rf_y_val_pred))\n",
    "result['Random Forest'] = classification_report(y_val, rf_y_val_pred)\n",
    "print('='*54)\n",
    "print('XGBoost')\n",
    "print('-'*54)\n",
    "print(classification_report(y_val, xgb_y_val_pred))\n",
    "result['XGBoost'] = classification_report(y_val, xgb_y_val_pred)\n",
    "print('='*54)\n",
    "print('Deep Learning 1')\n",
    "print('-'*54)\n",
    "print(classification_report(y_val, dl1_y_val_pred))\n",
    "result['Deep Learning 1'] = classification_report(y_val, dl1_y_val_pred)\n",
    "print('='*54)\n",
    "print('Deep Learning 2')\n",
    "print('-'*54)\n",
    "print(classification_report(y_val, dl2_y_val_pred))\n",
    "result['Deep Learning 2'] = classification_report(y_val, dl2_y_val_pred)\n",
    "print('='*54)\n",
    "print('Deep Learning 3')\n",
    "print('-'*54)\n",
    "print(classification_report(y_val, dl3_y_val_pred))\n",
    "result['Deep Learning 3'] = classification_report(y_val, dl3_y_val_pred)"
   ]
  },
  {
   "cell_type": "code",
   "execution_count": null,
   "metadata": {
    "id": "pD7PsU9sO9Zo"
   },
   "outputs": [],
   "source": [
    "# Random Forest와 XGBoost가 1의 f1-score가 0.71로 가장 높고 1의 precision 0.68로 가장 높기 때문에 최적의 모델인 것 같습니다.\n",
    "# 두 모델을 이용해 test 데이터 셋으로 확인을 하겠습니다.\n",
    "rf_y_pred = model_rf.predict(x_test)\n",
    "xgb_y_pred = model_xgb.predict(x_test)\n",
    "\n",
    "print('='*54)\n",
    "print('Random Forest')\n",
    "print('-'*54)\n",
    "print(classification_report(y_test, rf_y_pred))\n",
    "print('='*54)\n",
    "print('XGBoost')\n",
    "print('-'*54)\n",
    "print(classification_report(y_test, xgb_y_pred))"
   ]
  },
  {
   "cell_type": "code",
   "execution_count": null,
   "metadata": {},
   "outputs": [],
   "source": [
    "# test 데이터셋으로 확인한 결과 Random Forest가 더 높은 정확도를 보여주고 있습니다.\n",
    "# 1의 f1-score와 precision의 결과가 높은 것으로 보입니다."
   ]
  },
  {
   "cell_type": "markdown",
   "metadata": {},
   "source": [
    "### 5.3 추가 분석 및 의견"
   ]
  },
  {
   "cell_type": "markdown",
   "metadata": {
    "id": "kXk1f3TEH77-"
   },
   "source": [
    "* 성능을 한눈에 비교할 수 있는 방법을 고안해서 수행해 봅시다."
   ]
  },
  {
   "cell_type": "code",
   "execution_count": null,
   "metadata": {},
   "outputs": [],
   "source": [
    "rf_result = classification_report(y_test, rf_y_pred)\n",
    "precision = rf_result.split('\\n\\n')[1].split('\\n')[1].split()[1]\n",
    "recall = rf_result.split('\\n\\n')[1].split('\\n')[1].split()[2]\n",
    "f1_score = rf_result.split('\\n\\n')[1].split('\\n')[1].split()[3]"
   ]
  },
  {
   "cell_type": "code",
   "execution_count": null,
   "metadata": {
    "id": "lSzMy95DPwOl"
   },
   "outputs": [],
   "source": [
    "# f1-score와 precision으로 성능을 비교 했기때문에 bar chart로 보여주면 시각화를 통해 보다 편하게 성능 비교가 가능할 것으로 보입니다.\n",
    "f1_score = {}\n",
    "precision = {}\n",
    "recall = {}\n",
    "for m_name, m_score in result.items() :\n",
    "    f1_score[m_name] = float(m_score.split('\\n\\n')[1].split('\\n')[1].split()[3])\n",
    "    precision[m_name] =  float(m_score.split('\\n\\n')[1].split('\\n')[1].split()[1])\n",
    "    recall[m_name] = float(m_score.split('\\n\\n')[1].split('\\n')[1].split()[2])\n",
    "    \n",
    "    \n",
    "plt.figure(figsize=(10, 10))\n",
    "\n",
    "plt.subplot(3, 1, 1)\n",
    "plt.title('f1-score')\n",
    "plt.barh(y=list(f1_score.keys()), width=f1_score.values())\n",
    "\n",
    "plt.subplot(3, 1, 2)\n",
    "plt.title('precision')\n",
    "plt.barh(y=list(precision.keys()), width=precision.values())\n",
    "\n",
    "plt.subplot(3, 1, 3)\n",
    "plt.title('recall')\n",
    "plt.barh(y=list(recall.keys()), width=recall.values())\n",
    "\n",
    "plt.show()"
   ]
  },
  {
   "cell_type": "markdown",
   "metadata": {
    "id": "sTGn4JaQPC6W"
   },
   "source": [
    "* 여러분의 선정한 모델로 비즈니스 문제를 해결할 수 있을까요? 여러분의 의견을 적어 봅시다."
   ]
  },
  {
   "cell_type": "code",
   "execution_count": null,
   "metadata": {
    "id": "jL1qvzxOPFEC"
   },
   "outputs": [],
   "source": [
    "# 이탈 고객을 미리 파악하고 고객의 특징을 파악해 추가 해택을 줄 수 있을 것으로 예상됩니다.\n",
    "# 이탈 고객에게 추가 혜택을 줌으로 이탈 고객을 방지할 수 있을 것입니다."
   ]
  },
  {
   "cell_type": "markdown",
   "metadata": {
    "id": "sTGn4JaQPC6W"
   },
   "source": [
    "* 비즈니스 문제 해결을 위해서 더 해볼 수 있는 것은 무엇인가요?"
   ]
  },
  {
   "cell_type": "code",
   "execution_count": null,
   "metadata": {},
   "outputs": [],
   "source": [
    "plt.figure(figsize=(10, 10))\n",
    "\n",
    "plt.subplot(2, 1, 1)\n",
    "plt.title('Random Forest')\n",
    "plt.barh(y=list(x_train), width=model_rf.feature_importances_)\n",
    "\n",
    "plt.subplot(2, 1, 2)\n",
    "plt.title('XGBoost')\n",
    "plt.barh(y=list(x_train), width=model_xgb.feature_importances_)\n",
    "\n",
    "plt.show()"
   ]
  },
  {
   "cell_type": "code",
   "execution_count": null,
   "metadata": {
    "id": "jL1qvzxOPFEC"
   },
   "outputs": [],
   "source": [
    "# 위의 중요 변수를 확인해 봤을 때 HAND PRICE와 OVERAGE, LEFTOVER가 이탈 고객에 큰 영향을 끼치는 것으로 보입니다.\n",
    "# 즉, 비싼 가격의 폰을 사도 이탈을 하는 경우를 봐서는 VIP 고객에 대한 혜택이 부족한 것으로 보입니다.\n",
    "# 남은 통화량 초과 통화량에 따른 이탈율이 높기 때문에 다양한 요금제로 고객이 요금 선택폭을 넓히는 것이 좋아보입니다."
   ]
  }
 ],
 "metadata": {
  "colab": {
   "collapsed_sections": [],
   "name": "과제3. 이동통신 고객 이탈 예측.ipynb",
   "provenance": [],
   "toc_visible": true
  },
  "kernelspec": {
   "display_name": "Python 3",
   "language": "python",
   "name": "python3"
  },
  "language_info": {
   "codemirror_mode": {
    "name": "ipython",
    "version": 3
   },
   "file_extension": ".py",
   "mimetype": "text/x-python",
   "name": "python",
   "nbconvert_exporter": "python",
   "pygments_lexer": "ipython3",
   "version": "3.8.8"
  }
 },
 "nbformat": 4,
 "nbformat_minor": 4
}
