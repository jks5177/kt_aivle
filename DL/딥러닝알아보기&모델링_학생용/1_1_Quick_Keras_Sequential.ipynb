{
 "cells": [
  {
   "cell_type": "markdown",
   "metadata": {
    "id": "HZc219MFFibh"
   },
   "source": [
    "# Keras로 Linear&Logistic Regression 맛보기!\n",
    "\n",
    "### Kaggle Link for exercise :\n",
    "* [Digit Recognizer](https://www.kaggle.com/c/digit-recognizer) : \n",
    "\n",
    "#### 실습목표<br>\n",
    "1. keras의 모델링 아이디어를 이해한다.\n",
    "2. 모든 코드를 이해한다."
   ]
  },
  {
   "cell_type": "markdown",
   "metadata": {
    "id": "dwEdLgZpFibi"
   },
   "source": [
    "## Quick Linear Regression!"
   ]
  },
  {
   "cell_type": "code",
   "execution_count": 1,
   "metadata": {
    "scrolled": true
   },
   "outputs": [],
   "source": [
    "# 텐서플로우 설치\n",
    "# !pip install tensorflow --user"
   ]
  },
  {
   "cell_type": "code",
   "execution_count": 2,
   "metadata": {},
   "outputs": [
    {
     "name": "stdout",
     "output_type": "stream",
     "text": [
      "Package                            Version\n",
      "---------------------------------- -------------------\n",
      "absl-py                            1.0.0\n",
      "aioredis                           1.3.1\n",
      "alabaster                          0.7.12\n",
      "anaconda-client                    1.7.2\n",
      "anaconda-navigator                 2.0.3\n",
      "anaconda-project                   0.9.1\n",
      "anyio                              2.2.0\n",
      "appdirs                            1.4.4\n",
      "argh                               0.26.2\n",
      "argon2-cffi                        20.1.0\n",
      "asgiref                            3.4.1\n",
      "asn1crypto                         1.4.0\n",
      "astroid                            2.5\n",
      "astropy                            4.2.1\n",
      "astunparse                         1.6.3\n",
      "async-generator                    1.10\n",
      "async-timeout                      4.0.2\n",
      "atomicwrites                       1.4.0\n",
      "attrs                              20.3.0\n",
      "autobahn                           21.11.1\n",
      "Automat                            20.2.0\n",
      "autopep8                           1.5.6\n",
      "Babel                              2.9.0\n",
      "backcall                           0.2.0\n",
      "backports.functools-lru-cache      1.6.4\n",
      "backports.shutil-get-terminal-size 1.0.0\n",
      "backports.tempfile                 1.0\n",
      "backports.weakref                  1.0.post1\n",
      "backports.zoneinfo                 0.2.1\n",
      "bcrypt                             3.2.0\n",
      "beautifulsoup4                     4.9.3\n",
      "bitarray                           1.9.2\n",
      "bkcharts                           0.2\n",
      "black                              19.10b0\n",
      "bleach                             3.3.0\n",
      "bokeh                              2.3.2\n",
      "boto                               2.49.0\n",
      "Bottleneck                         1.3.2\n",
      "brotlipy                           0.7.0\n",
      "cachetools                         5.0.0\n",
      "certifi                            2020.12.5\n",
      "cffi                               1.14.5\n",
      "channels                           3.0.4\n",
      "channels-redis                     3.3.1\n",
      "chardet                            4.0.0\n",
      "click                              7.1.2\n",
      "cloudpickle                        1.6.0\n",
      "clyent                             1.2.2\n",
      "colorama                           0.4.4\n",
      "comtypes                           1.1.9\n",
      "conda                              4.11.0\n",
      "conda-build                        3.21.4\n",
      "conda-content-trust                0+unknown\n",
      "conda-package-handling             1.7.3\n",
      "conda-repo-cli                     1.0.4\n",
      "conda-token                        0.3.0\n",
      "conda-verify                       3.4.2\n",
      "constantly                         15.1.0\n",
      "contextlib2                        0.6.0.post1\n",
      "cryptography                       3.4.7\n",
      "cssselect2                         0.4.1\n",
      "cycler                             0.10.0\n",
      "Cython                             0.29.23\n",
      "cytoolz                            0.11.0\n",
      "daphne                             3.0.2\n",
      "dask                               2021.4.0\n",
      "decorator                          5.0.6\n",
      "defusedxml                         0.7.1\n",
      "diff-match-patch                   20200713\n",
      "distributed                        2021.4.0\n",
      "Django                             3.1.14\n",
      "django-bootstrap-v5                1.0.8\n",
      "django-ckeditor                    6.2.0\n",
      "django-debug-toolbar               3.2.4\n",
      "django-embed-video                 1.4.1\n",
      "django-extensions                  3.1.5\n",
      "django-js-asset                    1.2.2\n",
      "django-pydenticon                  0.2\n",
      "django-tagging                     0.5.0\n",
      "docutils                           0.17\n",
      "easy-thumbnails                    2.8.1\n",
      "entrypoints                        0.3\n",
      "et-xmlfile                         1.0.1\n",
      "fastcache                          1.1.0\n",
      "filelock                           3.0.12\n",
      "flake8                             3.9.0\n",
      "Flask                              1.1.2\n",
      "flatbuffers                        2.0\n",
      "fsspec                             0.9.0\n",
      "future                             0.18.2\n",
      "gast                               0.5.3\n",
      "geohash2                           1.1\n",
      "gevent                             21.1.2\n",
      "glob2                              0.7\n",
      "google-auth                        2.6.0\n",
      "google-auth-oauthlib               0.4.6\n",
      "google-pasta                       0.2.0\n",
      "greenlet                           1.0.0\n",
      "grpcio                             1.44.0\n",
      "h11                                0.13.0\n",
      "h5py                               2.10.0\n",
      "HeapDict                           1.0.1\n",
      "hiredis                            2.0.0\n",
      "html5lib                           1.1\n",
      "hyperlink                          21.0.0\n",
      "idna                               2.10\n",
      "imagecodecs                        2021.3.31\n",
      "imageio                            2.9.0\n",
      "imagesize                          1.2.0\n",
      "importlib-metadata                 4.11.2\n",
      "incremental                        21.3.0\n",
      "iniconfig                          1.1.1\n",
      "intervaltree                       3.1.0\n",
      "ipykernel                          5.3.4\n",
      "ipython                            7.22.0\n",
      "ipython-genutils                   0.2.0\n",
      "ipywidgets                         7.6.3\n",
      "isort                              5.8.0\n",
      "itsdangerous                       1.1.0\n",
      "jdcal                              1.4.1\n",
      "jedi                               0.17.2\n",
      "Jinja2                             2.11.3\n",
      "joblib                             1.0.1\n",
      "JPype1                             1.3.0\n",
      "json5                              0.9.5\n",
      "jsonschema                         3.2.0\n",
      "jupyter                            1.0.0\n",
      "jupyter-client                     6.1.12\n",
      "jupyter-console                    6.4.0\n",
      "jupyter-core                       4.7.1\n",
      "jupyter-packaging                  0.7.12\n",
      "jupyter-server                     1.4.1\n",
      "jupyterlab                         3.0.14\n",
      "jupyterlab-pygments                0.1.2\n",
      "jupyterlab-server                  2.4.0\n",
      "jupyterlab-widgets                 1.0.0\n",
      "keras                              2.8.0\n",
      "Keras-Preprocessing                1.1.2\n",
      "keyring                            22.3.0\n",
      "kiwisolver                         1.3.1\n",
      "konlpy                             0.6.0\n",
      "lazy-object-proxy                  1.6.0\n",
      "libarchive-c                       2.9\n",
      "libclang                           13.0.0\n",
      "llvmlite                           0.36.0\n",
      "locket                             0.2.1\n",
      "lxml                               4.6.3\n",
      "Markdown                           3.3.6\n",
      "MarkupSafe                         1.1.1\n",
      "matplotlib                         3.3.4\n",
      "mccabe                             0.6.1\n",
      "menuinst                           1.4.16\n",
      "mistune                            0.8.4\n",
      "mkl-fft                            1.3.0\n",
      "mkl-random                         1.2.1\n",
      "mkl-service                        2.3.0\n",
      "mock                               4.0.3\n",
      "more-itertools                     8.7.0\n",
      "mpmath                             1.2.1\n",
      "msgpack                            1.0.2\n",
      "multipledispatch                   0.6.0\n",
      "mypy-extensions                    0.4.3\n",
      "mysqlclient                        2.1.0\n",
      "navigator-updater                  0.2.1\n",
      "nbclassic                          0.2.6\n",
      "nbclient                           0.5.3\n",
      "nbconvert                          6.0.7\n",
      "nbformat                           5.1.3\n",
      "nest-asyncio                       1.5.1\n",
      "networkx                           2.5\n",
      "nltk                               3.6.1\n",
      "nose                               1.3.7\n",
      "notebook                           6.3.0\n",
      "numba                              0.53.1\n",
      "numexpr                            2.7.3\n",
      "numpy                              1.20.1\n",
      "numpydoc                           1.1.0\n",
      "oauthlib                           3.2.0\n",
      "olefile                            0.46\n",
      "openpyxl                           3.0.7\n",
      "opt-einsum                         3.3.0\n",
      "outcome                            1.1.0\n",
      "packaging                          20.9\n",
      "pandas                             1.2.4\n",
      "pandocfilters                      1.4.3\n",
      "paramiko                           2.7.2\n",
      "parso                              0.7.0\n",
      "partd                              1.2.0\n",
      "path                               15.1.2\n",
      "pathlib2                           2.3.5\n",
      "pathspec                           0.7.0\n",
      "patsy                              0.5.1\n",
      "pep8                               1.7.1\n",
      "pexpect                            4.8.0\n",
      "pickleshare                        0.7.5\n",
      "Pillow                             8.2.0\n",
      "pip                                21.0.1\n",
      "pkginfo                            1.7.0\n",
      "pluggy                             0.13.1\n",
      "ply                                3.11\n",
      "prometheus-client                  0.10.1\n",
      "prompt-toolkit                     3.0.17\n",
      "protobuf                           3.19.4\n",
      "psutil                             5.8.0\n",
      "ptyprocess                         0.7.0\n",
      "py                                 1.10.0\n",
      "pyasn1                             0.4.8\n",
      "pyasn1-modules                     0.2.8\n",
      "pycodestyle                        2.6.0\n",
      "pycosat                            0.6.3\n",
      "pycparser                          2.20\n",
      "pycurl                             7.43.0.6\n",
      "pydenticon                         0.3.1\n",
      "pydocstyle                         6.0.0\n",
      "pyerfa                             1.7.3\n",
      "pyflakes                           2.2.0\n",
      "Pygments                           2.8.1\n",
      "pylint                             2.7.4\n",
      "pyls-black                         0.4.6\n",
      "pyls-spyder                        0.3.2\n",
      "PyNaCl                             1.4.0\n",
      "pyodbc                             4.0.0-unsupported\n",
      "pyOpenSSL                          20.0.1\n",
      "pyparsing                          2.4.7\n",
      "pyreadline                         2.1\n",
      "pyrsistent                         0.17.3\n",
      "PySocks                            1.7.1\n",
      "pytest                             6.2.3\n",
      "python-dateutil                    2.8.1\n",
      "python-jsonrpc-server              0.4.0\n",
      "python-language-server             0.36.2\n",
      "pytz                               2021.1\n",
      "PyWavelets                         1.1.1\n",
      "pywin32                            227\n",
      "pywin32-ctypes                     0.2.0\n",
      "pywinpty                           0.5.7\n",
      "PyYAML                             5.4.1\n",
      "pyzmq                              20.0.0\n",
      "QDarkStyle                         2.8.1\n",
      "QtAwesome                          1.0.2\n",
      "qtconsole                          5.0.3\n",
      "QtPy                               1.9.0\n",
      "regex                              2021.4.4\n",
      "reportlab                          3.6.6\n",
      "requests                           2.25.1\n",
      "requests-oauthlib                  1.3.1\n",
      "rope                               0.18.0\n",
      "rsa                                4.8\n",
      "Rtree                              0.9.7\n",
      "ruamel-yaml-conda                  0.15.100\n",
      "scikit-image                       0.18.1\n",
      "scikit-learn                       1.0.2\n",
      "scipy                              1.6.2\n",
      "seaborn                            0.11.2\n",
      "selenium                           4.1.0\n",
      "Send2Trash                         1.5.0\n",
      "service-identity                   21.1.0\n",
      "setuptools                         52.0.0.post20210125\n",
      "simplegeneric                      0.8.1\n",
      "singledispatch                     0.0.0\n",
      "sip                                4.19.13\n",
      "six                                1.15.0\n",
      "sniffio                            1.2.0\n",
      "snowballstemmer                    2.1.0\n",
      "sortedcollections                  2.1.0\n",
      "sortedcontainers                   2.3.0\n",
      "soupsieve                          2.2.1\n",
      "Sphinx                             4.0.1\n",
      "sphinxcontrib-applehelp            1.0.2\n",
      "sphinxcontrib-devhelp              1.0.2\n",
      "sphinxcontrib-htmlhelp             1.0.3\n",
      "sphinxcontrib-jsmath               1.0.1\n",
      "sphinxcontrib-qthelp               1.0.3\n",
      "sphinxcontrib-serializinghtml      1.1.4\n",
      "sphinxcontrib-websupport           1.2.4\n",
      "spyder                             4.2.5\n",
      "spyder-kernels                     1.10.2\n",
      "SQLAlchemy                         1.4.7\n",
      "sqlparse                           0.4.1\n",
      "statsmodels                        0.12.2\n",
      "svglib                             1.2.0\n",
      "sympy                              1.8\n",
      "tables                             3.6.1\n",
      "tblib                              1.7.0\n",
      "tensorboard                        2.8.0\n",
      "tensorboard-data-server            0.6.1\n",
      "tensorboard-plugin-wit             1.8.1\n",
      "tensorflow                         2.8.0\n",
      "tensorflow-io-gcs-filesystem       0.24.0\n",
      "termcolor                          1.1.0\n",
      "terminado                          0.9.4\n",
      "testpath                           0.4.4\n",
      "textdistance                       4.2.1\n",
      "tf-estimator-nightly               2.8.0.dev2021122109\n",
      "threadpoolctl                      2.1.0\n",
      "three-merge                        0.1.1\n",
      "tifffile                           2021.4.8\n",
      "tinycss2                           1.1.1\n",
      "toml                               0.10.2\n",
      "toolz                              0.11.1\n",
      "tornado                            6.1\n",
      "tqdm                               4.59.0\n",
      "traitlets                          5.0.5\n",
      "trio                               0.20.0\n",
      "trio-websocket                     0.9.2\n",
      "Twisted                            21.7.0\n",
      "twisted-iocpsupport                1.0.2\n",
      "txaio                              21.2.1\n",
      "typed-ast                          1.4.2\n",
      "typing-extensions                  3.7.4.3\n",
      "tzdata                             2021.5\n",
      "ujson                              4.0.2\n",
      "unicodecsv                         0.14.1\n",
      "urllib3                            1.26.4\n",
      "watchdog                           1.0.2\n",
      "wcwidth                            0.2.5\n",
      "webencodings                       0.5.1\n",
      "Werkzeug                           1.0.1\n",
      "wheel                              0.36.2\n",
      "widgetsnbextension                 3.5.1\n",
      "win-inet-pton                      1.1.0\n",
      "win-unicode-console                0.5\n",
      "wincertstore                       0.2\n",
      "wordcloud                          1.8.1\n",
      "wrapt                              1.12.1\n",
      "wsproto                            1.0.0\n",
      "xgboost                            1.5.2\n",
      "xlrd                               2.0.1\n",
      "XlsxWriter                         1.3.8\n",
      "xlwings                            0.23.0\n",
      "xlwt                               1.3.0\n",
      "xmltodict                          0.12.0\n",
      "yapf                               0.31.0\n",
      "zict                               2.0.0\n",
      "zipp                               3.4.1\n",
      "zope.event                         4.5.0\n",
      "zope.interface                     5.3.0\n"
     ]
    }
   ],
   "source": [
    "!pip list"
   ]
  },
  {
   "cell_type": "code",
   "execution_count": 3,
   "metadata": {
    "id": "Lbold6iIS8E1"
   },
   "outputs": [],
   "source": [
    "import tensorflow as tf\n",
    "from tensorflow import keras\n",
    "\n",
    "import numpy as np"
   ]
  },
  {
   "cell_type": "code",
   "execution_count": 4,
   "metadata": {
    "id": "QvObzQ1MFibj"
   },
   "outputs": [
    {
     "name": "stdout",
     "output_type": "stream",
     "text": [
      "[ 0  1  2  3  4  5  6  7  8  9 10 11 12 13 14 15 16 17 18 19]\n",
      "[-1  1  3  5  7  9 11 13 15 17 19 21 23 25 27 29 31 33 35 37]\n"
     ]
    }
   ],
   "source": [
    "x = np.array(range(0,20))\n",
    "y = x * 2 -1 \n",
    "\n",
    "print(x)\n",
    "print(y)"
   ]
  },
  {
   "cell_type": "code",
   "execution_count": 5,
   "metadata": {
    "id": "iUqZACd2IRcn"
   },
   "outputs": [],
   "source": [
    "# 1번 청소 : 이미 만들어진 모델이 있다면 그 모델을 없애줘\n",
    "keras.backend.clear_session()\n",
    "\n",
    "# 2번 모델 선언\n",
    "model = keras.models.Sequential()\n",
    "\n",
    "# 3번 모델 블록 조립\n",
    "model.add( keras.layers.Input(shape=(1,)) )\n",
    "model.add( keras.layers.Dense(1) )\n",
    "\n",
    "## 오리지널 Sequential API\n",
    "# model.add( keras.layers.Dense(1, input_shape=(1,)) )\n",
    "\n",
    "# 4번 컴파일 \n",
    "model.compile(loss='mse',\n",
    "              optimizer='adam')"
   ]
  },
  {
   "cell_type": "code",
   "execution_count": 6,
   "metadata": {
    "id": "s1UM3mOzLTeb"
   },
   "outputs": [
    {
     "name": "stdout",
     "output_type": "stream",
     "text": [
      "Epoch 1/10\n",
      "1/1 [==============================] - 0s 421ms/step - loss: 826.2627\n",
      "Epoch 2/10\n",
      "1/1 [==============================] - 0s 5ms/step - loss: 825.5754\n",
      "Epoch 3/10\n",
      "1/1 [==============================] - 0s 5ms/step - loss: 824.8885\n",
      "Epoch 4/10\n",
      "1/1 [==============================] - 0s 7ms/step - loss: 824.2018\n",
      "Epoch 5/10\n",
      "1/1 [==============================] - 0s 6ms/step - loss: 823.5154\n",
      "Epoch 6/10\n",
      "1/1 [==============================] - 0s 7ms/step - loss: 822.8295\n",
      "Epoch 7/10\n",
      "1/1 [==============================] - 0s 5ms/step - loss: 822.1437\n",
      "Epoch 8/10\n",
      "1/1 [==============================] - 0s 7ms/step - loss: 821.4584\n",
      "Epoch 9/10\n",
      "1/1 [==============================] - 0s 5ms/step - loss: 820.7733\n",
      "Epoch 10/10\n",
      "1/1 [==============================] - 0s 11ms/step - loss: 820.0886\n"
     ]
    },
    {
     "data": {
      "text/plain": [
       "<keras.callbacks.History at 0x1e6b5e09e20>"
      ]
     },
     "execution_count": 6,
     "metadata": {},
     "output_type": "execute_result"
    }
   ],
   "source": [
    "model.fit(x, y, epochs=10, verbose=1)"
   ]
  },
  {
   "cell_type": "code",
   "execution_count": 7,
   "metadata": {
    "id": "BGYwVUWCqNxy"
   },
   "outputs": [
    {
     "name": "stdout",
     "output_type": "stream",
     "text": [
      "[-1  1  3  5  7  9 11 13 15 17 19 21 23 25 27 29 31 33 35 37]\n"
     ]
    }
   ],
   "source": [
    "print(y)"
   ]
  },
  {
   "cell_type": "code",
   "execution_count": 8,
   "metadata": {
    "id": "FFtYxu5aqQFq"
   },
   "outputs": [
    {
     "data": {
      "text/plain": [
       "array([ 9.99859627e-03, -6.43082440e-01, -1.29616356e+00, -1.94924462e+00,\n",
       "       -2.60232568e+00, -3.25540662e+00, -3.90848780e+00, -4.56156874e+00,\n",
       "       -5.21464968e+00, -5.86773062e+00, -6.52081156e+00, -7.17389297e+00,\n",
       "       -7.82697392e+00, -8.48005581e+00, -9.13313675e+00, -9.78621769e+00,\n",
       "       -1.04392986e+01, -1.10923796e+01, -1.17454605e+01, -1.23985415e+01],\n",
       "      dtype=float32)"
      ]
     },
     "execution_count": 8,
     "metadata": {},
     "output_type": "execute_result"
    }
   ],
   "source": [
    "model.predict(x).reshape(-1)"
   ]
  },
  {
   "cell_type": "markdown",
   "metadata": {
    "id": "zvqPQxmgFibo"
   },
   "source": [
    "## Now, Your turn!"
   ]
  },
  {
   "cell_type": "code",
   "execution_count": 9,
   "metadata": {
    "id": "vdb8LW335i1q"
   },
   "outputs": [],
   "source": [
    "import tensorflow as tf\n",
    "from tensorflow import keras\n",
    "\n",
    "import numpy as np"
   ]
  },
  {
   "cell_type": "code",
   "execution_count": 10,
   "metadata": {
    "id": "wIFzEwY2PWpX"
   },
   "outputs": [
    {
     "name": "stdout",
     "output_type": "stream",
     "text": [
      "[ 0  1  2  3  4  5  6  7  8  9 10 11 12 13 14 15 16 17 18 19]\n",
      "[ 10   7   4   1  -2  -5  -8 -11 -14 -17 -20 -23 -26 -29 -32 -35 -38 -41\n",
      " -44 -47]\n"
     ]
    }
   ],
   "source": [
    "x = np.array(range(0,20)) \n",
    "y = x * (-3) + 10\n",
    "\n",
    "print(x)\n",
    "print(y)"
   ]
  },
  {
   "cell_type": "code",
   "execution_count": 18,
   "metadata": {},
   "outputs": [
    {
     "data": {
      "text/plain": [
       "((20,), (20,))"
      ]
     },
     "execution_count": 18,
     "metadata": {},
     "output_type": "execute_result"
    }
   ],
   "source": [
    "x.shape, y.shape"
   ]
  },
  {
   "cell_type": "code",
   "execution_count": 11,
   "metadata": {
    "id": "ZiOsqLo3Tzqj"
   },
   "outputs": [],
   "source": [
    "# 1번 모델 초기화\n",
    "keras.backend.clear_session()\n",
    "\n",
    "# 2번 모델 생성 : Sequential()\n",
    "model = keras.Sequential()\n",
    "\n",
    "# 3번 모델 블록 조합 : .add()\n",
    "model.add(keras.layers.Input(1))\n",
    "model.add(keras.layers.Dense(1))\n",
    "\n",
    "# 4번 모델 컴파일\n",
    "model.compile(loss='mse', optimizer='adam')"
   ]
  },
  {
   "cell_type": "code",
   "execution_count": 12,
   "metadata": {},
   "outputs": [
    {
     "name": "stdout",
     "output_type": "stream",
     "text": [
      "Epoch 1/10\n",
      "1/1 [==============================] - 0s 347ms/step - loss: 1741.9714\n",
      "Epoch 2/10\n",
      "1/1 [==============================] - 0s 5ms/step - loss: 1740.9856\n",
      "Epoch 3/10\n",
      "1/1 [==============================] - 0s 7ms/step - loss: 1740.0002\n",
      "Epoch 4/10\n",
      "1/1 [==============================] - 0s 4ms/step - loss: 1739.0150\n",
      "Epoch 5/10\n",
      "1/1 [==============================] - 0s 7ms/step - loss: 1738.0303\n",
      "Epoch 6/10\n",
      "1/1 [==============================] - 0s 6ms/step - loss: 1737.0459\n",
      "Epoch 7/10\n",
      "1/1 [==============================] - 0s 8ms/step - loss: 1736.0613\n",
      "Epoch 8/10\n",
      "1/1 [==============================] - 0s 4ms/step - loss: 1735.0775\n",
      "Epoch 9/10\n",
      "1/1 [==============================] - 0s 4ms/step - loss: 1734.0941\n",
      "Epoch 10/10\n",
      "1/1 [==============================] - 0s 5ms/step - loss: 1733.1110\n"
     ]
    },
    {
     "data": {
      "text/plain": [
       "<keras.callbacks.History at 0x1e6b6f834c0>"
      ]
     },
     "execution_count": 12,
     "metadata": {},
     "output_type": "execute_result"
    }
   ],
   "source": [
    "# 5번 모델 훈련\n",
    "model.fit(x, y, epochs=10, verbose=1)"
   ]
  },
  {
   "cell_type": "code",
   "execution_count": 17,
   "metadata": {},
   "outputs": [
    {
     "name": "stdout",
     "output_type": "stream",
     "text": [
      "1/1 [==============================] - 0s 131ms/step - loss: 1732.1279\n"
     ]
    },
    {
     "data": {
      "text/plain": [
       "1732.1279296875"
      ]
     },
     "execution_count": 17,
     "metadata": {},
     "output_type": "execute_result"
    }
   ],
   "source": [
    "model.evaluate(x,y)"
   ]
  },
  {
   "cell_type": "code",
   "execution_count": 13,
   "metadata": {},
   "outputs": [
    {
     "name": "stdout",
     "output_type": "stream",
     "text": [
      "[ 10   7   4   1  -2  -5  -8 -11 -14 -17 -20 -23 -26 -29 -32 -35 -38 -41\n",
      " -44 -47]\n",
      "[-9.9989548e-03  1.4757634e+00  2.9615257e+00  4.4472880e+00\n",
      "  5.9330506e+00  7.4188132e+00  8.9045744e+00  1.0390337e+01\n",
      "  1.1876100e+01  1.3361862e+01  1.4847625e+01  1.6333387e+01\n",
      "  1.7819149e+01  1.9304913e+01  2.0790674e+01  2.2276438e+01\n",
      "  2.3762199e+01  2.5247961e+01  2.6733725e+01  2.8219486e+01]\n"
     ]
    }
   ],
   "source": [
    "# 6번 예측\n",
    "y_pred = model.predict(x).reshape(-1)\n",
    "\n",
    "print(y)\n",
    "print(y_pred)"
   ]
  },
  {
   "cell_type": "markdown",
   "metadata": {
    "id": "CMfaYMFCTz2d"
   },
   "source": [
    "## Quick Logistic Regression!"
   ]
  },
  {
   "cell_type": "code",
   "execution_count": 19,
   "metadata": {
    "id": "OmGKbCiATz2e"
   },
   "outputs": [],
   "source": [
    "import tensorflow as tf\n",
    "from tensorflow import keras\n",
    "\n",
    "import numpy as np"
   ]
  },
  {
   "cell_type": "code",
   "execution_count": 20,
   "metadata": {
    "id": "yzweU4sRTz2g"
   },
   "outputs": [
    {
     "name": "stdout",
     "output_type": "stream",
     "text": [
      "[ 0  1  2  3  4  5  6  7  8  9 10 11 12 13 14 15 16 17 18 19]\n",
      "[0 0 0 0 0 0 0 0 0 0 1 1 1 1 1 1 1 1 1 1]\n"
     ]
    }
   ],
   "source": [
    "x = np.array(range(0,20)) \n",
    "y = np.array([0]*10 + [1]*10)\n",
    "print(x)\n",
    "print(y)"
   ]
  },
  {
   "cell_type": "code",
   "execution_count": 21,
   "metadata": {
    "id": "wiQzDaBzTz2j"
   },
   "outputs": [],
   "source": [
    "# 혹시 이미 그려둔 그래프가 있다면 날려줘!\n",
    "keras.backend.clear_session()\n",
    "\n",
    "# model에 순차적으로 레이어를 쌓아가겠다는 의도!\n",
    "model = keras.models.Sequential()\n",
    "\n",
    "# model에 인풋 값을 받는 레이어를 넣음\n",
    "model.add( keras.layers.Input(shape=(1,)) )\n",
    "# model에 Dense 레이어를 넣을거야 (최초의 레이어) : weight를 곱하고, bias를 더해주는 과정\n",
    "model.add( keras.layers.Dense(1, activation='sigmoid') )\n",
    "\n",
    "\n",
    "# 오리지널 Sequential API\n",
    "# model.add( keras.layers.Dense(1, input_shape=(1,), activation='sigmoid') )\n",
    "\n",
    "# 컴파일 해주렴\n",
    "model.compile(loss = 'binary_crossentropy',\n",
    "              optimizer = 'adam',\n",
    "              metrics=['accuracy'])"
   ]
  },
  {
   "cell_type": "code",
   "execution_count": 23,
   "metadata": {
    "id": "b_FXYQ7fTz2l"
   },
   "outputs": [
    {
     "name": "stdout",
     "output_type": "stream",
     "text": [
      "Epoch 1/10\n",
      "1/1 [==============================] - 0s 8ms/step - loss: 4.8825 - accuracy: 0.4000\n",
      "Epoch 2/10\n",
      "1/1 [==============================] - 0s 6ms/step - loss: 4.8789 - accuracy: 0.4000\n",
      "Epoch 3/10\n",
      "1/1 [==============================] - 0s 6ms/step - loss: 4.8753 - accuracy: 0.4000\n",
      "Epoch 4/10\n",
      "1/1 [==============================] - 0s 6ms/step - loss: 4.8717 - accuracy: 0.4000\n",
      "Epoch 5/10\n",
      "1/1 [==============================] - 0s 5ms/step - loss: 4.8681 - accuracy: 0.4000\n",
      "Epoch 6/10\n",
      "1/1 [==============================] - 0s 5ms/step - loss: 4.8645 - accuracy: 0.4000\n",
      "Epoch 7/10\n",
      "1/1 [==============================] - 0s 6ms/step - loss: 4.8609 - accuracy: 0.4000\n",
      "Epoch 8/10\n",
      "1/1 [==============================] - 0s 5ms/step - loss: 4.8573 - accuracy: 0.4000\n",
      "Epoch 9/10\n",
      "1/1 [==============================] - 0s 5ms/step - loss: 4.8537 - accuracy: 0.4000\n",
      "Epoch 10/10\n",
      "1/1 [==============================] - 0s 6ms/step - loss: 4.8501 - accuracy: 0.4000\n",
      "[1 1 1 1 1]\n",
      "[1. 1. 1. 1. 1.]\n"
     ]
    }
   ],
   "source": [
    "# 데이터를 넣어서 학습시키자!\n",
    "model.fit(x[:15], y[:15], epochs=10, verbose=1)\n",
    "\n",
    "# 결과 출력해줘!\n",
    "print(y[15:])\n",
    "print(model.predict(x[15:]).reshape(-1))"
   ]
  },
  {
   "cell_type": "markdown",
   "metadata": {
    "id": "bqJtsDjtTz2n"
   },
   "source": [
    "## Now, Your turn!"
   ]
  },
  {
   "cell_type": "code",
   "execution_count": 24,
   "metadata": {
    "id": "2asYuMjL5jgc"
   },
   "outputs": [],
   "source": [
    "import tensorflow as tf\n",
    "from tensorflow import keras\n",
    "\n",
    "import numpy as np"
   ]
  },
  {
   "cell_type": "code",
   "execution_count": 25,
   "metadata": {
    "id": "IGSN3QAPTz2o"
   },
   "outputs": [
    {
     "name": "stdout",
     "output_type": "stream",
     "text": [
      "[ 0  1  2  3  4  5  6  7  8  9 10 11 12 13 14 15 16 17 18 19 20 21 22 23\n",
      " 24 25 26 27 28 29 30 31 32 33 34 35 36 37 38 39]\n",
      "[0 0 0 0 0 0 0 0 0 0 0 0 0 0 0 0 0 0 0 0 1 1 1 1 1 1 1 1 1 1 1 1 1 1 1 1 1\n",
      " 1 1 1]\n"
     ]
    }
   ],
   "source": [
    "x = np.array(range(0,40)) \n",
    "y = np.array([0]*20 + [1]*20)\n",
    "print(x)\n",
    "print(y)"
   ]
  },
  {
   "cell_type": "code",
   "execution_count": 27,
   "metadata": {},
   "outputs": [
    {
     "data": {
      "text/plain": [
       "((40,), (40,))"
      ]
     },
     "execution_count": 27,
     "metadata": {},
     "output_type": "execute_result"
    }
   ],
   "source": [
    "x.shape, y.shape"
   ]
  },
  {
   "cell_type": "code",
   "execution_count": 29,
   "metadata": {
    "id": "Ma61XgWYUMPi"
   },
   "outputs": [],
   "source": [
    "# 1. 모델 초기화\n",
    "keras.backend.clear_session()\n",
    "\n",
    "# 2. 모델 설정\n",
    "model = keras.models.Sequential()\n",
    "\n",
    "# 3. 모델 추가\n",
    "model.add(keras.layers.Input(1))\n",
    "model.add(keras.layers.Dense(1, activation='sigmoid'))\n",
    "\n",
    "# 4. 모델 컴파일\n",
    "model.compile(loss='binary_crossentropy', optimizer='adam', metrics=['accuracy'])"
   ]
  },
  {
   "cell_type": "code",
   "execution_count": 30,
   "metadata": {},
   "outputs": [
    {
     "name": "stdout",
     "output_type": "stream",
     "text": [
      "Epoch 1/10\n",
      "2/2 [==============================] - 1s 5ms/step - loss: 1.1939 - accuracy: 0.5250\n",
      "Epoch 2/10\n",
      "2/2 [==============================] - 0s 4ms/step - loss: 1.1842 - accuracy: 0.5250\n",
      "Epoch 3/10\n",
      "2/2 [==============================] - 0s 4ms/step - loss: 1.1749 - accuracy: 0.5250\n",
      "Epoch 4/10\n",
      "2/2 [==============================] - 0s 4ms/step - loss: 1.1650 - accuracy: 0.5250\n",
      "Epoch 5/10\n",
      "2/2 [==============================] - 0s 6ms/step - loss: 1.1560 - accuracy: 0.5250\n",
      "Epoch 6/10\n",
      "2/2 [==============================] - 0s 4ms/step - loss: 1.1465 - accuracy: 0.5250\n",
      "Epoch 7/10\n",
      "2/2 [==============================] - 0s 5ms/step - loss: 1.1373 - accuracy: 0.5250\n",
      "Epoch 8/10\n",
      "2/2 [==============================] - 0s 4ms/step - loss: 1.1274 - accuracy: 0.5250\n",
      "Epoch 9/10\n",
      "2/2 [==============================] - 0s 6ms/step - loss: 1.1192 - accuracy: 0.5250\n",
      "Epoch 10/10\n",
      "2/2 [==============================] - 0s 3ms/step - loss: 1.1096 - accuracy: 0.5250\n"
     ]
    },
    {
     "data": {
      "text/plain": [
       "<keras.callbacks.History at 0x1e6bbb43610>"
      ]
     },
     "execution_count": 30,
     "metadata": {},
     "output_type": "execute_result"
    }
   ],
   "source": [
    "# 5. 모델 훈련\n",
    "model.fit(x,y, epochs=10)"
   ]
  },
  {
   "cell_type": "code",
   "execution_count": 31,
   "metadata": {},
   "outputs": [
    {
     "name": "stdout",
     "output_type": "stream",
     "text": [
      "[0 0 0 0 0]\n",
      "[0.49504423 0.547707   0.59932286 0.648825   0.6953205 ]\n"
     ]
    }
   ],
   "source": [
    "print(y[:5])\n",
    "print(model.predict(x[:5]).reshape(-1))"
   ]
  },
  {
   "cell_type": "code",
   "execution_count": null,
   "metadata": {},
   "outputs": [],
   "source": []
  }
 ],
 "metadata": {
  "colab": {
   "collapsed_sections": [],
   "name": "1_1_Quick_Keras_Sequential.ipynb",
   "provenance": []
  },
  "kernelspec": {
   "display_name": "Python 3",
   "language": "python",
   "name": "python3"
  },
  "language_info": {
   "codemirror_mode": {
    "name": "ipython",
    "version": 3
   },
   "file_extension": ".py",
   "mimetype": "text/x-python",
   "name": "python",
   "nbconvert_exporter": "python",
   "pygments_lexer": "ipython3",
   "version": "3.8.8"
  }
 },
 "nbformat": 4,
 "nbformat_minor": 1
}
