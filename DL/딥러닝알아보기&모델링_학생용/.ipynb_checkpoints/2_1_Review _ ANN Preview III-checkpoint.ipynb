{
 "cells": [
  {
   "cell_type": "markdown",
   "metadata": {
    "id": "T7kdgJptO50L"
   },
   "source": [
    "# 1일차 Review : 같은 문제 다시 풀어보기\n",
    "\n",
    "    학습은 10번으로!"
   ]
  },
  {
   "cell_type": "code",
   "execution_count": 1,
   "metadata": {
    "id": "k-kIj84JQdd3"
   },
   "outputs": [],
   "source": [
    "from sklearn.datasets import load_iris"
   ]
  },
  {
   "cell_type": "code",
   "execution_count": 2,
   "metadata": {
    "id": "1F1kZLpEQof_"
   },
   "outputs": [],
   "source": [
    "iris = load_iris()"
   ]
  },
  {
   "cell_type": "code",
   "execution_count": 3,
   "metadata": {
    "id": "4uNPvbD_QyUh"
   },
   "outputs": [],
   "source": [
    "x = iris.data\n",
    "y = iris.target"
   ]
  },
  {
   "cell_type": "code",
   "execution_count": 4,
   "metadata": {
    "id": "6DfGrWUsQ3WC"
   },
   "outputs": [
    {
     "data": {
      "text/plain": [
       "((150, 4), (150,))"
      ]
     },
     "execution_count": 4,
     "metadata": {},
     "output_type": "execute_result"
    }
   ],
   "source": [
    "x.shape, y.shape"
   ]
  },
  {
   "cell_type": "code",
   "execution_count": 5,
   "metadata": {
    "id": "puqIL3FCRBs6"
   },
   "outputs": [],
   "source": [
    "#####################\n",
    "# 라이브러리 불러오기\n",
    "#####################\n",
    "import tensorflow as tf\n",
    "from tensorflow import keras\n",
    "import numpy as np"
   ]
  },
  {
   "cell_type": "code",
   "execution_count": 6,
   "metadata": {
    "id": "TY0leKum_owG"
   },
   "outputs": [
    {
     "data": {
      "text/plain": [
       "(150, 3)"
      ]
     },
     "execution_count": 6,
     "metadata": {},
     "output_type": "execute_result"
    }
   ],
   "source": [
    "#######################\n",
    "# 어떤 전처리 작업 필요\n",
    "# Hint : y.shape\n",
    "#######################\n",
    "from tensorflow.keras.utils import to_categorical\n",
    "y = to_categorical(y, 3)\n",
    "y.shape"
   ]
  },
  {
   "cell_type": "code",
   "execution_count": 7,
   "metadata": {},
   "outputs": [],
   "source": [
    "# 훈련, 테스트 데이터 분류\n",
    "from sklearn.model_selection import train_test_split\n",
    "\n",
    "x_train, x_test, y_train, y_test = train_test_split(x, y, test_size=0.2, random_state=2022)"
   ]
  },
  {
   "cell_type": "code",
   "execution_count": 8,
   "metadata": {
    "id": "broVdGpGbqrC"
   },
   "outputs": [
    {
     "name": "stdout",
     "output_type": "stream",
     "text": [
      "Model: \"model\"\n",
      "_________________________________________________________________\n",
      " Layer (type)                Output Shape              Param #   \n",
      "=================================================================\n",
      " input_1 (InputLayer)        [(None, 4)]               0         \n",
      "                                                                 \n",
      " dense (Dense)               (None, 3)                 15        \n",
      "                                                                 \n",
      "=================================================================\n",
      "Total params: 15\n",
      "Trainable params: 15\n",
      "Non-trainable params: 0\n",
      "_________________________________________________________________\n"
     ]
    }
   ],
   "source": [
    "########\n",
    "# 모델링\n",
    "########\n",
    "# 1. 모델 초기화\n",
    "keras.backend.clear_session()\n",
    "\n",
    "# 2. 레이어 생성\n",
    "input_layer = keras.layers.Input(shape=(4,))\n",
    "output_layer = keras.layers.Dense(3, activation='softmax')(input_layer)\n",
    "\n",
    "# 3. 모델 생성\n",
    "model = keras.models.Model(input_layer, output_layer)\n",
    "\n",
    "# 4. 모델 컴파일\n",
    "model.compile(loss=keras.losses.categorical_crossentropy, metrics=['accuracy'], optimizer=keras.optimizers.Adam())\n",
    "\n",
    "model.summary()"
   ]
  },
  {
   "cell_type": "code",
   "execution_count": 11,
   "metadata": {
    "id": "4U3tZ7PvbljS"
   },
   "outputs": [
    {
     "name": "stdout",
     "output_type": "stream",
     "text": [
      "Epoch 1/10\n",
      "3/3 [==============================] - 0s 121ms/step - loss: 2.1843 - accuracy: 0.3229 - val_loss: 1.9271 - val_accuracy: 0.4167\n",
      "Epoch 2/10\n",
      "3/3 [==============================] - 0s 19ms/step - loss: 2.1376 - accuracy: 0.3229 - val_loss: 1.8924 - val_accuracy: 0.4167\n",
      "Epoch 3/10\n",
      "3/3 [==============================] - 0s 22ms/step - loss: 2.0902 - accuracy: 0.3229 - val_loss: 1.8586 - val_accuracy: 0.4167\n",
      "Epoch 4/10\n",
      "3/3 [==============================] - 0s 21ms/step - loss: 2.0458 - accuracy: 0.3021 - val_loss: 1.8258 - val_accuracy: 0.4167\n",
      "Epoch 5/10\n",
      "3/3 [==============================] - 0s 21ms/step - loss: 2.0017 - accuracy: 0.3021 - val_loss: 1.7944 - val_accuracy: 0.3750\n",
      "Epoch 6/10\n",
      "3/3 [==============================] - 0s 22ms/step - loss: 1.9597 - accuracy: 0.3021 - val_loss: 1.7640 - val_accuracy: 0.3750\n",
      "Epoch 7/10\n",
      "3/3 [==============================] - 0s 21ms/step - loss: 1.9179 - accuracy: 0.3021 - val_loss: 1.7355 - val_accuracy: 0.3333\n",
      "Epoch 8/10\n",
      "3/3 [==============================] - 0s 21ms/step - loss: 1.8766 - accuracy: 0.3021 - val_loss: 1.7084 - val_accuracy: 0.3333\n",
      "Epoch 9/10\n",
      "3/3 [==============================] - 0s 22ms/step - loss: 1.8402 - accuracy: 0.2812 - val_loss: 1.6824 - val_accuracy: 0.3333\n",
      "Epoch 10/10\n",
      "3/3 [==============================] - 0s 21ms/step - loss: 1.8041 - accuracy: 0.2604 - val_loss: 1.6576 - val_accuracy: 0.3333\n"
     ]
    },
    {
     "data": {
      "text/plain": [
       "<keras.callbacks.History at 0x22230b0cee0>"
      ]
     },
     "execution_count": 11,
     "metadata": {},
     "output_type": "execute_result"
    }
   ],
   "source": [
    "###########\n",
    "# 모델 학습\n",
    "###########\n",
    "model.fit(x_train, y_train, epochs=10, validation_split=0.2)\n"
   ]
  },
  {
   "cell_type": "code",
   "execution_count": 12,
   "metadata": {
    "id": "prSYRU-_AlYz"
   },
   "outputs": [
    {
     "name": "stdout",
     "output_type": "stream",
     "text": [
      "[[0.7827563  0.15084419 0.06639951]\n",
      " [0.8911096  0.08260234 0.0262881 ]\n",
      " [0.5374147  0.17117348 0.29141176]\n",
      " [0.7529528  0.15346484 0.09358238]\n",
      " [0.48256484 0.17050329 0.3469318 ]]\n",
      "[[0. 0. 1.]\n",
      " [0. 0. 1.]\n",
      " [1. 0. 0.]\n",
      " [0. 0. 1.]\n",
      " [1. 0. 0.]]\n"
     ]
    }
   ],
   "source": [
    "###########\n",
    "# 모델 예측\n",
    "###########\n",
    "y_pred = model.predict(x_test)\n",
    "print(y_pred[:5])\n",
    "print(y_test[:5])"
   ]
  },
  {
   "cell_type": "markdown",
   "metadata": {
    "id": "0xVNQT9V-Iev"
   },
   "source": [
    "# 히든 레이어 추가하여 모델링! (Functional API)\n",
    "\n",
    "    히든 레이어 2개를 추가하여 다시 모델링!\n",
    "    히든 레이어 노드 수 : 32\n",
    "    히든 레이어 activation = 'relu'"
   ]
  },
  {
   "cell_type": "code",
   "execution_count": 16,
   "metadata": {
    "id": "y3PTU3m--xMa"
   },
   "outputs": [
    {
     "name": "stdout",
     "output_type": "stream",
     "text": [
      "Model: \"model\"\n",
      "_________________________________________________________________\n",
      " Layer (type)                Output Shape              Param #   \n",
      "=================================================================\n",
      " input_1 (InputLayer)        [(None, 4)]               0         \n",
      "                                                                 \n",
      " dense (Dense)               (None, 32)                160       \n",
      "                                                                 \n",
      " dense_1 (Dense)             (None, 32)                1056      \n",
      "                                                                 \n",
      " dense_2 (Dense)             (None, 3)                 99        \n",
      "                                                                 \n",
      "=================================================================\n",
      "Total params: 1,315\n",
      "Trainable params: 1,315\n",
      "Non-trainable params: 0\n",
      "_________________________________________________________________\n"
     ]
    }
   ],
   "source": [
    "########\n",
    "# 모델링\n",
    "########\n",
    "# 1. 모델 초기화\n",
    "keras.backend.clear_session()\n",
    "\n",
    "# 2. 레이어 생성\n",
    "input_layer = keras.layers.Input(shape=(4,))\n",
    "hiden_layer = keras.layers.Dense(32, activation='relu')(input_layer)\n",
    "hiden_layer = keras.layers.Dense(32, activation='relu')(hiden_layer)\n",
    "output_layer = keras.layers.Dense(3, activation='softmax')(hiden_layer)\n",
    "\n",
    "# 3. 모델 생성\n",
    "model = keras.models.Model(input_layer, output_layer)\n",
    "\n",
    "# 4. 컴파일\n",
    "model.compile(loss=keras.losses.categorical_crossentropy, metrics=['accuracy'], optimizer=keras.optimizers.Adam())\n",
    "\n",
    "model.summary()"
   ]
  },
  {
   "cell_type": "code",
   "execution_count": 17,
   "metadata": {},
   "outputs": [],
   "source": [
    "## Early Stopping\n",
    "from tensorflow.keras.callbacks import EarlyStopping\n",
    "\n",
    "es = EarlyStopping(monitor='val_loss',       # 무엇을 관찰할래?\n",
    "                   min_delta=0,              # 0이면 최소한 나빠지지만 않으면 괜찮아\n",
    "                   patience=5,               # mointer가 개선되지 않는 거를 몇 번 참을래?\n",
    "                   verbose=1,                # Early Stopping 된 것을 보여줍니다.\n",
    "                   restore_best_weights=True # 중요! 최적의 학습 가중치를 모델에 전달합니다.\n",
    "                  )"
   ]
  },
  {
   "cell_type": "code",
   "execution_count": 14,
   "metadata": {
    "id": "HbvMea71-xMb"
   },
   "outputs": [
    {
     "name": "stdout",
     "output_type": "stream",
     "text": [
      "Epoch 1/200\n",
      "3/3 [==============================] - 1s 116ms/step - loss: 1.2167 - accuracy: 0.0312 - val_loss: 1.1003 - val_accuracy: 0.2917\n",
      "Epoch 2/200\n",
      "3/3 [==============================] - 0s 20ms/step - loss: 1.1117 - accuracy: 0.2917 - val_loss: 1.0343 - val_accuracy: 0.3750\n",
      "Epoch 3/200\n",
      "3/3 [==============================] - 0s 19ms/step - loss: 1.0283 - accuracy: 0.3854 - val_loss: 0.9811 - val_accuracy: 0.4583\n",
      "Epoch 4/200\n",
      "3/3 [==============================] - 0s 21ms/step - loss: 0.9636 - accuracy: 0.5521 - val_loss: 0.9362 - val_accuracy: 0.5417\n",
      "Epoch 5/200\n",
      "3/3 [==============================] - 0s 20ms/step - loss: 0.9117 - accuracy: 0.6354 - val_loss: 0.8966 - val_accuracy: 0.6667\n",
      "Epoch 6/200\n",
      "3/3 [==============================] - 0s 21ms/step - loss: 0.8678 - accuracy: 0.7500 - val_loss: 0.8583 - val_accuracy: 0.8333\n",
      "Epoch 7/200\n",
      "3/3 [==============================] - 0s 23ms/step - loss: 0.8273 - accuracy: 0.8854 - val_loss: 0.8192 - val_accuracy: 0.8750\n",
      "Epoch 8/200\n",
      "3/3 [==============================] - 0s 22ms/step - loss: 0.7902 - accuracy: 0.9062 - val_loss: 0.7826 - val_accuracy: 0.9167\n",
      "Epoch 9/200\n",
      "3/3 [==============================] - 0s 20ms/step - loss: 0.7575 - accuracy: 0.8854 - val_loss: 0.7458 - val_accuracy: 0.8333\n",
      "Epoch 10/200\n",
      "3/3 [==============================] - 0s 22ms/step - loss: 0.7251 - accuracy: 0.8854 - val_loss: 0.7094 - val_accuracy: 0.9167\n",
      "Epoch 11/200\n",
      "3/3 [==============================] - 0s 22ms/step - loss: 0.6943 - accuracy: 0.8958 - val_loss: 0.6750 - val_accuracy: 0.9167\n",
      "Epoch 12/200\n",
      "3/3 [==============================] - 0s 21ms/step - loss: 0.6662 - accuracy: 0.9062 - val_loss: 0.6438 - val_accuracy: 0.9167\n",
      "Epoch 13/200\n",
      "3/3 [==============================] - 0s 21ms/step - loss: 0.6402 - accuracy: 0.9062 - val_loss: 0.6151 - val_accuracy: 0.9167\n",
      "Epoch 14/200\n",
      "3/3 [==============================] - 0s 22ms/step - loss: 0.6151 - accuracy: 0.9062 - val_loss: 0.5889 - val_accuracy: 0.9167\n",
      "Epoch 15/200\n",
      "3/3 [==============================] - 0s 20ms/step - loss: 0.5934 - accuracy: 0.8958 - val_loss: 0.5658 - val_accuracy: 0.9167\n",
      "Epoch 16/200\n",
      "3/3 [==============================] - 0s 22ms/step - loss: 0.5724 - accuracy: 0.9062 - val_loss: 0.5436 - val_accuracy: 0.9583\n",
      "Epoch 17/200\n",
      "3/3 [==============================] - 0s 22ms/step - loss: 0.5542 - accuracy: 0.9062 - val_loss: 0.5249 - val_accuracy: 0.9583\n",
      "Epoch 18/200\n",
      "3/3 [==============================] - 0s 22ms/step - loss: 0.5368 - accuracy: 0.9167 - val_loss: 0.5062 - val_accuracy: 0.9583\n",
      "Epoch 19/200\n",
      "3/3 [==============================] - 0s 20ms/step - loss: 0.5211 - accuracy: 0.9167 - val_loss: 0.4895 - val_accuracy: 0.9583\n",
      "Epoch 20/200\n",
      "3/3 [==============================] - 0s 22ms/step - loss: 0.5060 - accuracy: 0.9167 - val_loss: 0.4754 - val_accuracy: 0.9583\n",
      "Epoch 21/200\n",
      "3/3 [==============================] - 0s 21ms/step - loss: 0.4921 - accuracy: 0.9167 - val_loss: 0.4601 - val_accuracy: 0.9583\n",
      "Epoch 22/200\n",
      "3/3 [==============================] - 0s 23ms/step - loss: 0.4786 - accuracy: 0.9271 - val_loss: 0.4487 - val_accuracy: 0.9583\n",
      "Epoch 23/200\n",
      "3/3 [==============================] - 0s 21ms/step - loss: 0.4663 - accuracy: 0.9167 - val_loss: 0.4358 - val_accuracy: 0.9583\n",
      "Epoch 24/200\n",
      "3/3 [==============================] - 0s 22ms/step - loss: 0.4550 - accuracy: 0.9167 - val_loss: 0.4264 - val_accuracy: 0.9583\n",
      "Epoch 25/200\n",
      "3/3 [==============================] - 0s 21ms/step - loss: 0.4445 - accuracy: 0.9167 - val_loss: 0.4165 - val_accuracy: 0.9583\n",
      "Epoch 26/200\n",
      "3/3 [==============================] - 0s 20ms/step - loss: 0.4346 - accuracy: 0.9167 - val_loss: 0.4074 - val_accuracy: 0.9583\n",
      "Epoch 27/200\n",
      "3/3 [==============================] - 0s 24ms/step - loss: 0.4257 - accuracy: 0.9167 - val_loss: 0.3955 - val_accuracy: 0.9583\n",
      "Epoch 28/200\n",
      "3/3 [==============================] - 0s 23ms/step - loss: 0.4164 - accuracy: 0.9583 - val_loss: 0.3857 - val_accuracy: 0.9583\n",
      "Epoch 29/200\n",
      "3/3 [==============================] - 0s 20ms/step - loss: 0.4078 - accuracy: 0.9583 - val_loss: 0.3772 - val_accuracy: 0.9583\n",
      "Epoch 30/200\n",
      "3/3 [==============================] - 0s 21ms/step - loss: 0.4004 - accuracy: 0.9583 - val_loss: 0.3711 - val_accuracy: 0.9583\n",
      "Epoch 31/200\n",
      "3/3 [==============================] - 0s 22ms/step - loss: 0.3916 - accuracy: 0.9583 - val_loss: 0.3637 - val_accuracy: 0.9583\n",
      "Epoch 32/200\n",
      "3/3 [==============================] - 0s 24ms/step - loss: 0.3842 - accuracy: 0.9583 - val_loss: 0.3569 - val_accuracy: 0.9583\n",
      "Epoch 33/200\n",
      "3/3 [==============================] - 0s 25ms/step - loss: 0.3766 - accuracy: 0.9583 - val_loss: 0.3477 - val_accuracy: 0.9583\n",
      "Epoch 34/200\n",
      "3/3 [==============================] - 0s 26ms/step - loss: 0.3687 - accuracy: 0.9688 - val_loss: 0.3414 - val_accuracy: 0.9583\n",
      "Epoch 35/200\n",
      "3/3 [==============================] - 0s 26ms/step - loss: 0.3614 - accuracy: 0.9688 - val_loss: 0.3350 - val_accuracy: 0.9583\n",
      "Epoch 36/200\n",
      "3/3 [==============================] - 0s 21ms/step - loss: 0.3535 - accuracy: 0.9688 - val_loss: 0.3278 - val_accuracy: 0.9583\n",
      "Epoch 37/200\n",
      "3/3 [==============================] - 0s 25ms/step - loss: 0.3467 - accuracy: 0.9792 - val_loss: 0.3217 - val_accuracy: 0.9583\n",
      "Epoch 38/200\n",
      "3/3 [==============================] - 0s 22ms/step - loss: 0.3389 - accuracy: 0.9792 - val_loss: 0.3157 - val_accuracy: 0.9583\n",
      "Epoch 39/200\n",
      "3/3 [==============================] - 0s 21ms/step - loss: 0.3315 - accuracy: 0.9792 - val_loss: 0.3088 - val_accuracy: 0.9583\n",
      "Epoch 40/200\n",
      "3/3 [==============================] - 0s 21ms/step - loss: 0.3250 - accuracy: 0.9792 - val_loss: 0.3040 - val_accuracy: 0.9583\n",
      "Epoch 41/200\n",
      "3/3 [==============================] - 0s 22ms/step - loss: 0.3180 - accuracy: 0.9792 - val_loss: 0.2957 - val_accuracy: 0.9583\n",
      "Epoch 42/200\n",
      "3/3 [==============================] - 0s 22ms/step - loss: 0.3111 - accuracy: 0.9792 - val_loss: 0.2908 - val_accuracy: 0.9583\n",
      "Epoch 43/200\n",
      "3/3 [==============================] - 0s 21ms/step - loss: 0.3042 - accuracy: 0.9792 - val_loss: 0.2860 - val_accuracy: 0.9583\n",
      "Epoch 44/200\n",
      "3/3 [==============================] - 0s 21ms/step - loss: 0.2983 - accuracy: 0.9896 - val_loss: 0.2782 - val_accuracy: 0.9583\n",
      "Epoch 45/200\n",
      "3/3 [==============================] - 0s 21ms/step - loss: 0.2922 - accuracy: 0.9792 - val_loss: 0.2741 - val_accuracy: 0.9583\n",
      "Epoch 46/200\n",
      "3/3 [==============================] - 0s 24ms/step - loss: 0.2852 - accuracy: 0.9896 - val_loss: 0.2672 - val_accuracy: 0.9583\n",
      "Epoch 47/200\n",
      "3/3 [==============================] - 0s 24ms/step - loss: 0.2790 - accuracy: 0.9896 - val_loss: 0.2627 - val_accuracy: 0.9583\n",
      "Epoch 48/200\n",
      "3/3 [==============================] - 0s 21ms/step - loss: 0.2734 - accuracy: 0.9896 - val_loss: 0.2591 - val_accuracy: 0.9583\n",
      "Epoch 49/200\n",
      "3/3 [==============================] - 0s 20ms/step - loss: 0.2672 - accuracy: 0.9896 - val_loss: 0.2541 - val_accuracy: 0.9583\n",
      "Epoch 50/200\n",
      "3/3 [==============================] - 0s 22ms/step - loss: 0.2620 - accuracy: 0.9896 - val_loss: 0.2488 - val_accuracy: 0.9583\n",
      "Epoch 51/200\n",
      "3/3 [==============================] - 0s 22ms/step - loss: 0.2563 - accuracy: 0.9896 - val_loss: 0.2440 - val_accuracy: 0.9583\n",
      "Epoch 52/200\n",
      "3/3 [==============================] - 0s 22ms/step - loss: 0.2508 - accuracy: 0.9896 - val_loss: 0.2395 - val_accuracy: 0.9583\n",
      "Epoch 53/200\n",
      "3/3 [==============================] - 0s 22ms/step - loss: 0.2463 - accuracy: 0.9792 - val_loss: 0.2361 - val_accuracy: 0.9583\n",
      "Epoch 54/200\n",
      "3/3 [==============================] - 0s 22ms/step - loss: 0.2406 - accuracy: 0.9896 - val_loss: 0.2304 - val_accuracy: 0.9583\n",
      "Epoch 55/200\n",
      "3/3 [==============================] - 0s 22ms/step - loss: 0.2361 - accuracy: 0.9896 - val_loss: 0.2241 - val_accuracy: 0.9583\n",
      "Epoch 56/200\n",
      "3/3 [==============================] - 0s 20ms/step - loss: 0.2316 - accuracy: 0.9896 - val_loss: 0.2194 - val_accuracy: 0.9583\n",
      "Epoch 57/200\n",
      "3/3 [==============================] - 0s 20ms/step - loss: 0.2261 - accuracy: 0.9896 - val_loss: 0.2177 - val_accuracy: 0.9583\n",
      "Epoch 58/200\n",
      "3/3 [==============================] - 0s 22ms/step - loss: 0.2216 - accuracy: 0.9896 - val_loss: 0.2162 - val_accuracy: 0.9583\n",
      "Epoch 59/200\n"
     ]
    },
    {
     "name": "stdout",
     "output_type": "stream",
     "text": [
      "3/3 [==============================] - 0s 21ms/step - loss: 0.2175 - accuracy: 0.9792 - val_loss: 0.2124 - val_accuracy: 0.9583\n",
      "Epoch 60/200\n",
      "3/3 [==============================] - 0s 20ms/step - loss: 0.2121 - accuracy: 0.9896 - val_loss: 0.2051 - val_accuracy: 0.9583\n",
      "Epoch 61/200\n",
      "3/3 [==============================] - 0s 19ms/step - loss: 0.2078 - accuracy: 0.9896 - val_loss: 0.2003 - val_accuracy: 0.9583\n",
      "Epoch 62/200\n",
      "3/3 [==============================] - 0s 22ms/step - loss: 0.2052 - accuracy: 0.9896 - val_loss: 0.1956 - val_accuracy: 0.9583\n",
      "Epoch 63/200\n",
      "3/3 [==============================] - 0s 21ms/step - loss: 0.2003 - accuracy: 0.9896 - val_loss: 0.1940 - val_accuracy: 0.9583\n",
      "Epoch 64/200\n",
      "3/3 [==============================] - 0s 19ms/step - loss: 0.1960 - accuracy: 0.9896 - val_loss: 0.1929 - val_accuracy: 0.9583\n",
      "Epoch 65/200\n",
      "3/3 [==============================] - 0s 21ms/step - loss: 0.1933 - accuracy: 0.9896 - val_loss: 0.1879 - val_accuracy: 0.9583\n",
      "Epoch 66/200\n",
      "3/3 [==============================] - 0s 22ms/step - loss: 0.1899 - accuracy: 0.9896 - val_loss: 0.1876 - val_accuracy: 0.9583\n",
      "Epoch 67/200\n",
      "3/3 [==============================] - 0s 22ms/step - loss: 0.1850 - accuracy: 0.9896 - val_loss: 0.1831 - val_accuracy: 0.9583\n",
      "Epoch 68/200\n",
      "3/3 [==============================] - 0s 25ms/step - loss: 0.1815 - accuracy: 0.9896 - val_loss: 0.1778 - val_accuracy: 0.9583\n",
      "Epoch 69/200\n",
      "3/3 [==============================] - 0s 20ms/step - loss: 0.1782 - accuracy: 0.9896 - val_loss: 0.1741 - val_accuracy: 0.9583\n",
      "Epoch 70/200\n",
      "3/3 [==============================] - 0s 20ms/step - loss: 0.1757 - accuracy: 0.9896 - val_loss: 0.1715 - val_accuracy: 0.9583\n",
      "Epoch 71/200\n",
      "3/3 [==============================] - 0s 22ms/step - loss: 0.1717 - accuracy: 0.9896 - val_loss: 0.1708 - val_accuracy: 0.9583\n",
      "Epoch 72/200\n",
      "3/3 [==============================] - 0s 21ms/step - loss: 0.1684 - accuracy: 0.9896 - val_loss: 0.1683 - val_accuracy: 0.9583\n",
      "Epoch 73/200\n",
      "3/3 [==============================] - 0s 21ms/step - loss: 0.1657 - accuracy: 0.9896 - val_loss: 0.1663 - val_accuracy: 0.9583\n",
      "Epoch 74/200\n",
      "3/3 [==============================] - 0s 22ms/step - loss: 0.1625 - accuracy: 0.9896 - val_loss: 0.1627 - val_accuracy: 0.9583\n",
      "Epoch 75/200\n",
      "3/3 [==============================] - 0s 23ms/step - loss: 0.1609 - accuracy: 0.9896 - val_loss: 0.1590 - val_accuracy: 0.9583\n",
      "Epoch 76/200\n",
      "3/3 [==============================] - 0s 22ms/step - loss: 0.1570 - accuracy: 0.9896 - val_loss: 0.1566 - val_accuracy: 0.9583\n",
      "Epoch 77/200\n",
      "3/3 [==============================] - 0s 20ms/step - loss: 0.1545 - accuracy: 0.9896 - val_loss: 0.1550 - val_accuracy: 0.9583\n",
      "Epoch 78/200\n",
      "3/3 [==============================] - 0s 20ms/step - loss: 0.1520 - accuracy: 0.9896 - val_loss: 0.1535 - val_accuracy: 0.9583\n",
      "Epoch 79/200\n",
      "3/3 [==============================] - 0s 21ms/step - loss: 0.1511 - accuracy: 0.9896 - val_loss: 0.1501 - val_accuracy: 0.9583\n",
      "Epoch 80/200\n",
      "3/3 [==============================] - 0s 20ms/step - loss: 0.1484 - accuracy: 0.9896 - val_loss: 0.1496 - val_accuracy: 0.9583\n",
      "Epoch 81/200\n",
      "3/3 [==============================] - 0s 20ms/step - loss: 0.1451 - accuracy: 0.9896 - val_loss: 0.1475 - val_accuracy: 0.9583\n",
      "Epoch 82/200\n",
      "3/3 [==============================] - 0s 22ms/step - loss: 0.1425 - accuracy: 0.9896 - val_loss: 0.1446 - val_accuracy: 0.9583\n",
      "Epoch 83/200\n",
      "3/3 [==============================] - 0s 21ms/step - loss: 0.1419 - accuracy: 0.9896 - val_loss: 0.1411 - val_accuracy: 0.9583\n",
      "Epoch 84/200\n",
      "3/3 [==============================] - 0s 19ms/step - loss: 0.1389 - accuracy: 0.9896 - val_loss: 0.1396 - val_accuracy: 0.9583\n",
      "Epoch 85/200\n",
      "3/3 [==============================] - 0s 19ms/step - loss: 0.1365 - accuracy: 0.9896 - val_loss: 0.1393 - val_accuracy: 0.9583\n",
      "Epoch 86/200\n",
      "3/3 [==============================] - 0s 19ms/step - loss: 0.1356 - accuracy: 0.9896 - val_loss: 0.1403 - val_accuracy: 0.9583\n",
      "Epoch 87/200\n",
      "3/3 [==============================] - 0s 20ms/step - loss: 0.1330 - accuracy: 0.9896 - val_loss: 0.1376 - val_accuracy: 0.9583\n",
      "Epoch 88/200\n",
      "3/3 [==============================] - 0s 25ms/step - loss: 0.1308 - accuracy: 0.9896 - val_loss: 0.1336 - val_accuracy: 0.9583\n",
      "Epoch 89/200\n",
      "3/3 [==============================] - 0s 20ms/step - loss: 0.1295 - accuracy: 0.9896 - val_loss: 0.1319 - val_accuracy: 0.9583\n",
      "Epoch 90/200\n",
      "3/3 [==============================] - 0s 20ms/step - loss: 0.1295 - accuracy: 0.9896 - val_loss: 0.1293 - val_accuracy: 0.9583\n",
      "Epoch 91/200\n",
      "3/3 [==============================] - 0s 22ms/step - loss: 0.1261 - accuracy: 0.9896 - val_loss: 0.1292 - val_accuracy: 0.9583\n",
      "Epoch 92/200\n",
      "3/3 [==============================] - 0s 22ms/step - loss: 0.1248 - accuracy: 0.9896 - val_loss: 0.1316 - val_accuracy: 0.9583\n",
      "Epoch 93/200\n",
      "3/3 [==============================] - 0s 19ms/step - loss: 0.1234 - accuracy: 0.9896 - val_loss: 0.1303 - val_accuracy: 0.9583\n",
      "Epoch 94/200\n",
      "3/3 [==============================] - 0s 20ms/step - loss: 0.1214 - accuracy: 0.9896 - val_loss: 0.1263 - val_accuracy: 0.9583\n",
      "Epoch 95/200\n",
      "3/3 [==============================] - 0s 20ms/step - loss: 0.1219 - accuracy: 0.9792 - val_loss: 0.1222 - val_accuracy: 0.9583\n",
      "Epoch 96/200\n",
      "3/3 [==============================] - 0s 22ms/step - loss: 0.1203 - accuracy: 0.9792 - val_loss: 0.1214 - val_accuracy: 0.9583\n",
      "Epoch 97/200\n",
      "3/3 [==============================] - 0s 25ms/step - loss: 0.1181 - accuracy: 0.9896 - val_loss: 0.1237 - val_accuracy: 0.9583\n",
      "Epoch 98/200\n",
      "3/3 [==============================] - 0s 20ms/step - loss: 0.1160 - accuracy: 0.9896 - val_loss: 0.1232 - val_accuracy: 0.9583\n",
      "Epoch 99/200\n",
      "3/3 [==============================] - 0s 22ms/step - loss: 0.1149 - accuracy: 0.9896 - val_loss: 0.1193 - val_accuracy: 0.9583\n",
      "Epoch 100/200\n",
      "3/3 [==============================] - 0s 21ms/step - loss: 0.1128 - accuracy: 0.9896 - val_loss: 0.1183 - val_accuracy: 0.9583\n",
      "Epoch 101/200\n",
      "3/3 [==============================] - 0s 19ms/step - loss: 0.1114 - accuracy: 0.9896 - val_loss: 0.1164 - val_accuracy: 0.9583\n",
      "Epoch 102/200\n",
      "3/3 [==============================] - 0s 21ms/step - loss: 0.1107 - accuracy: 0.9896 - val_loss: 0.1149 - val_accuracy: 0.9583\n",
      "Epoch 103/200\n",
      "3/3 [==============================] - 0s 20ms/step - loss: 0.1100 - accuracy: 0.9896 - val_loss: 0.1139 - val_accuracy: 0.9583\n",
      "Epoch 104/200\n",
      "3/3 [==============================] - 0s 23ms/step - loss: 0.1081 - accuracy: 0.9896 - val_loss: 0.1160 - val_accuracy: 0.9583\n",
      "Epoch 105/200\n",
      "3/3 [==============================] - 0s 20ms/step - loss: 0.1071 - accuracy: 0.9896 - val_loss: 0.1149 - val_accuracy: 0.9583\n",
      "Epoch 106/200\n",
      "3/3 [==============================] - 0s 19ms/step - loss: 0.1081 - accuracy: 0.9896 - val_loss: 0.1154 - val_accuracy: 0.9583\n",
      "Epoch 107/200\n",
      "3/3 [==============================] - 0s 20ms/step - loss: 0.1053 - accuracy: 0.9896 - val_loss: 0.1104 - val_accuracy: 0.9583\n",
      "Epoch 108/200\n",
      "3/3 [==============================] - 0s 19ms/step - loss: 0.1034 - accuracy: 0.9896 - val_loss: 0.1088 - val_accuracy: 0.9583\n",
      "Epoch 109/200\n",
      "3/3 [==============================] - 0s 22ms/step - loss: 0.1033 - accuracy: 0.9896 - val_loss: 0.1076 - val_accuracy: 0.9583\n",
      "Epoch 110/200\n",
      "3/3 [==============================] - 0s 19ms/step - loss: 0.1026 - accuracy: 0.9896 - val_loss: 0.1075 - val_accuracy: 0.9583\n",
      "Epoch 111/200\n",
      "3/3 [==============================] - 0s 20ms/step - loss: 0.1061 - accuracy: 0.9896 - val_loss: 0.1120 - val_accuracy: 0.9583\n",
      "Epoch 112/200\n",
      "3/3 [==============================] - 0s 19ms/step - loss: 0.1015 - accuracy: 0.9896 - val_loss: 0.1076 - val_accuracy: 0.9583\n",
      "Epoch 113/200\n",
      "3/3 [==============================] - 0s 20ms/step - loss: 0.0987 - accuracy: 0.9896 - val_loss: 0.1057 - val_accuracy: 0.9583\n",
      "Epoch 114/200\n",
      "3/3 [==============================] - 0s 21ms/step - loss: 0.0978 - accuracy: 0.9896 - val_loss: 0.1044 - val_accuracy: 0.9583\n",
      "Epoch 115/200\n",
      "3/3 [==============================] - 0s 22ms/step - loss: 0.0981 - accuracy: 0.9896 - val_loss: 0.1030 - val_accuracy: 0.9583\n",
      "Epoch 116/200\n",
      "3/3 [==============================] - 0s 22ms/step - loss: 0.0974 - accuracy: 0.9896 - val_loss: 0.1038 - val_accuracy: 0.9583\n",
      "Epoch 117/200\n"
     ]
    },
    {
     "name": "stdout",
     "output_type": "stream",
     "text": [
      "3/3 [==============================] - 0s 20ms/step - loss: 0.0954 - accuracy: 0.9896 - val_loss: 0.1031 - val_accuracy: 0.9583\n",
      "Epoch 118/200\n",
      "3/3 [==============================] - 0s 22ms/step - loss: 0.0953 - accuracy: 0.9896 - val_loss: 0.1033 - val_accuracy: 0.9583\n",
      "Epoch 119/200\n",
      "3/3 [==============================] - 0s 19ms/step - loss: 0.0952 - accuracy: 0.9896 - val_loss: 0.1004 - val_accuracy: 0.9583\n",
      "Epoch 120/200\n",
      "3/3 [==============================] - 0s 22ms/step - loss: 0.0941 - accuracy: 0.9896 - val_loss: 0.1005 - val_accuracy: 0.9583\n",
      "Epoch 121/200\n",
      "3/3 [==============================] - 0s 20ms/step - loss: 0.0924 - accuracy: 0.9896 - val_loss: 0.0999 - val_accuracy: 0.9583\n",
      "Epoch 122/200\n",
      "3/3 [==============================] - 0s 22ms/step - loss: 0.0923 - accuracy: 0.9896 - val_loss: 0.1001 - val_accuracy: 0.9583\n",
      "Epoch 123/200\n",
      "3/3 [==============================] - 0s 19ms/step - loss: 0.0911 - accuracy: 0.9896 - val_loss: 0.0983 - val_accuracy: 0.9583\n",
      "Epoch 124/200\n",
      "3/3 [==============================] - 0s 21ms/step - loss: 0.0905 - accuracy: 0.9896 - val_loss: 0.0981 - val_accuracy: 0.9583\n",
      "Epoch 125/200\n",
      "3/3 [==============================] - 0s 20ms/step - loss: 0.0901 - accuracy: 0.9896 - val_loss: 0.0979 - val_accuracy: 0.9583\n",
      "Epoch 126/200\n",
      "3/3 [==============================] - 0s 20ms/step - loss: 0.0900 - accuracy: 0.9896 - val_loss: 0.0957 - val_accuracy: 0.9583\n",
      "Epoch 127/200\n",
      "3/3 [==============================] - 0s 19ms/step - loss: 0.0891 - accuracy: 0.9896 - val_loss: 0.0952 - val_accuracy: 0.9583\n",
      "Epoch 128/200\n",
      "3/3 [==============================] - 0s 19ms/step - loss: 0.0880 - accuracy: 0.9896 - val_loss: 0.0952 - val_accuracy: 0.9583\n",
      "Epoch 129/200\n",
      "3/3 [==============================] - 0s 22ms/step - loss: 0.0902 - accuracy: 0.9896 - val_loss: 0.0994 - val_accuracy: 0.9583\n",
      "Epoch 130/200\n",
      "3/3 [==============================] - 0s 21ms/step - loss: 0.0886 - accuracy: 0.9896 - val_loss: 0.0972 - val_accuracy: 0.9583\n",
      "Epoch 131/200\n",
      "3/3 [==============================] - 0s 19ms/step - loss: 0.0873 - accuracy: 0.9896 - val_loss: 0.0932 - val_accuracy: 0.9583\n",
      "Epoch 132/200\n",
      "3/3 [==============================] - 0s 23ms/step - loss: 0.0857 - accuracy: 0.9896 - val_loss: 0.0925 - val_accuracy: 0.9583\n",
      "Epoch 133/200\n",
      "3/3 [==============================] - 0s 20ms/step - loss: 0.0854 - accuracy: 0.9896 - val_loss: 0.0917 - val_accuracy: 0.9583\n",
      "Epoch 134/200\n",
      "3/3 [==============================] - 0s 19ms/step - loss: 0.0847 - accuracy: 0.9896 - val_loss: 0.0928 - val_accuracy: 0.9583\n",
      "Epoch 135/200\n",
      "3/3 [==============================] - 0s 22ms/step - loss: 0.0840 - accuracy: 0.9896 - val_loss: 0.0926 - val_accuracy: 0.9583\n",
      "Epoch 136/200\n",
      "3/3 [==============================] - 0s 22ms/step - loss: 0.0841 - accuracy: 0.9896 - val_loss: 0.0936 - val_accuracy: 0.9583\n",
      "Epoch 137/200\n",
      "3/3 [==============================] - 0s 20ms/step - loss: 0.0837 - accuracy: 0.9896 - val_loss: 0.0908 - val_accuracy: 0.9583\n",
      "Epoch 138/200\n",
      "3/3 [==============================] - 0s 20ms/step - loss: 0.0833 - accuracy: 0.9896 - val_loss: 0.0894 - val_accuracy: 0.9583\n",
      "Epoch 139/200\n",
      "3/3 [==============================] - 0s 19ms/step - loss: 0.0820 - accuracy: 0.9896 - val_loss: 0.0900 - val_accuracy: 0.9583\n",
      "Epoch 140/200\n",
      "3/3 [==============================] - 0s 21ms/step - loss: 0.0812 - accuracy: 0.9896 - val_loss: 0.0895 - val_accuracy: 0.9583\n",
      "Epoch 141/200\n",
      "3/3 [==============================] - 0s 21ms/step - loss: 0.0812 - accuracy: 0.9896 - val_loss: 0.0903 - val_accuracy: 0.9583\n",
      "Epoch 142/200\n",
      "3/3 [==============================] - 0s 20ms/step - loss: 0.0806 - accuracy: 0.9896 - val_loss: 0.0886 - val_accuracy: 0.9583\n",
      "Epoch 143/200\n",
      "3/3 [==============================] - 0s 21ms/step - loss: 0.0798 - accuracy: 0.9896 - val_loss: 0.0882 - val_accuracy: 0.9583\n",
      "Epoch 144/200\n",
      "3/3 [==============================] - 0s 21ms/step - loss: 0.0811 - accuracy: 0.9896 - val_loss: 0.0891 - val_accuracy: 0.9583\n",
      "Epoch 145/200\n",
      "3/3 [==============================] - 0s 21ms/step - loss: 0.0802 - accuracy: 0.9896 - val_loss: 0.0863 - val_accuracy: 0.9583\n",
      "Epoch 146/200\n",
      "3/3 [==============================] - 0s 23ms/step - loss: 0.0787 - accuracy: 0.9896 - val_loss: 0.0863 - val_accuracy: 0.9583\n",
      "Epoch 147/200\n",
      "3/3 [==============================] - 0s 22ms/step - loss: 0.0782 - accuracy: 0.9896 - val_loss: 0.0865 - val_accuracy: 0.9583\n",
      "Epoch 148/200\n",
      "3/3 [==============================] - 0s 20ms/step - loss: 0.0775 - accuracy: 0.9896 - val_loss: 0.0861 - val_accuracy: 0.9583\n",
      "Epoch 149/200\n",
      "3/3 [==============================] - 0s 24ms/step - loss: 0.0772 - accuracy: 0.9896 - val_loss: 0.0856 - val_accuracy: 0.9583\n",
      "Epoch 150/200\n",
      "3/3 [==============================] - 0s 21ms/step - loss: 0.0774 - accuracy: 0.9896 - val_loss: 0.0846 - val_accuracy: 0.9583\n",
      "Epoch 151/200\n",
      "3/3 [==============================] - 0s 21ms/step - loss: 0.0765 - accuracy: 0.9896 - val_loss: 0.0846 - val_accuracy: 0.9583\n",
      "Epoch 152/200\n",
      "3/3 [==============================] - 0s 19ms/step - loss: 0.0760 - accuracy: 0.9896 - val_loss: 0.0858 - val_accuracy: 0.9583\n",
      "Epoch 153/200\n",
      "3/3 [==============================] - 0s 18ms/step - loss: 0.0775 - accuracy: 0.9896 - val_loss: 0.0865 - val_accuracy: 0.9583\n",
      "Epoch 154/200\n",
      "3/3 [==============================] - 0s 20ms/step - loss: 0.0761 - accuracy: 0.9896 - val_loss: 0.0848 - val_accuracy: 0.9583\n",
      "Epoch 155/200\n",
      "3/3 [==============================] - 0s 21ms/step - loss: 0.0747 - accuracy: 0.9896 - val_loss: 0.0828 - val_accuracy: 0.9583\n",
      "Epoch 156/200\n",
      "3/3 [==============================] - 0s 21ms/step - loss: 0.0747 - accuracy: 0.9896 - val_loss: 0.0823 - val_accuracy: 0.9583\n",
      "Epoch 157/200\n",
      "3/3 [==============================] - 0s 25ms/step - loss: 0.0752 - accuracy: 0.9896 - val_loss: 0.0814 - val_accuracy: 0.9583\n",
      "Epoch 158/200\n",
      "3/3 [==============================] - 0s 20ms/step - loss: 0.0764 - accuracy: 0.9896 - val_loss: 0.0831 - val_accuracy: 0.9583\n",
      "Epoch 159/200\n",
      "3/3 [==============================] - 0s 22ms/step - loss: 0.0738 - accuracy: 0.9896 - val_loss: 0.0826 - val_accuracy: 0.9583\n",
      "Epoch 160/200\n",
      "3/3 [==============================] - 0s 21ms/step - loss: 0.0737 - accuracy: 0.9896 - val_loss: 0.0811 - val_accuracy: 0.9583\n",
      "Epoch 161/200\n",
      "3/3 [==============================] - 0s 19ms/step - loss: 0.0738 - accuracy: 0.9896 - val_loss: 0.0817 - val_accuracy: 0.9583\n",
      "Epoch 162/200\n",
      "3/3 [==============================] - 0s 20ms/step - loss: 0.0733 - accuracy: 0.9896 - val_loss: 0.0806 - val_accuracy: 0.9583\n",
      "Epoch 163/200\n",
      "3/3 [==============================] - 0s 20ms/step - loss: 0.0724 - accuracy: 0.9896 - val_loss: 0.0808 - val_accuracy: 0.9583\n",
      "Epoch 164/200\n",
      "3/3 [==============================] - 0s 21ms/step - loss: 0.0720 - accuracy: 0.9896 - val_loss: 0.0799 - val_accuracy: 0.9583\n",
      "Epoch 165/200\n",
      "3/3 [==============================] - 0s 22ms/step - loss: 0.0722 - accuracy: 0.9896 - val_loss: 0.0805 - val_accuracy: 0.9583\n",
      "Epoch 166/200\n",
      "3/3 [==============================] - 0s 23ms/step - loss: 0.0715 - accuracy: 0.9896 - val_loss: 0.0801 - val_accuracy: 0.9583\n",
      "Epoch 167/200\n",
      "3/3 [==============================] - 0s 22ms/step - loss: 0.0713 - accuracy: 0.9896 - val_loss: 0.0791 - val_accuracy: 0.9583\n",
      "Epoch 168/200\n",
      "3/3 [==============================] - 0s 20ms/step - loss: 0.0722 - accuracy: 0.9896 - val_loss: 0.0780 - val_accuracy: 0.9583\n",
      "Epoch 169/200\n",
      "3/3 [==============================] - 0s 20ms/step - loss: 0.0706 - accuracy: 0.9896 - val_loss: 0.0787 - val_accuracy: 0.9583\n",
      "Epoch 170/200\n",
      "3/3 [==============================] - 0s 22ms/step - loss: 0.0702 - accuracy: 0.9896 - val_loss: 0.0796 - val_accuracy: 0.9583\n",
      "Epoch 171/200\n",
      "3/3 [==============================] - 0s 22ms/step - loss: 0.0704 - accuracy: 0.9896 - val_loss: 0.0786 - val_accuracy: 0.9583\n",
      "Epoch 172/200\n",
      "3/3 [==============================] - 0s 23ms/step - loss: 0.0707 - accuracy: 0.9896 - val_loss: 0.0773 - val_accuracy: 0.9583\n",
      "Epoch 173/200\n",
      "3/3 [==============================] - 0s 23ms/step - loss: 0.0701 - accuracy: 0.9896 - val_loss: 0.0784 - val_accuracy: 0.9583\n",
      "Epoch 174/200\n",
      "3/3 [==============================] - 0s 21ms/step - loss: 0.0692 - accuracy: 0.9896 - val_loss: 0.0774 - val_accuracy: 0.9583\n"
     ]
    },
    {
     "name": "stdout",
     "output_type": "stream",
     "text": [
      "Epoch 175/200\n",
      "3/3 [==============================] - 0s 22ms/step - loss: 0.0688 - accuracy: 0.9896 - val_loss: 0.0770 - val_accuracy: 0.9583\n",
      "Epoch 176/200\n",
      "3/3 [==============================] - 0s 22ms/step - loss: 0.0695 - accuracy: 0.9896 - val_loss: 0.0780 - val_accuracy: 0.9583\n",
      "Epoch 177/200\n",
      "3/3 [==============================] - 0s 23ms/step - loss: 0.0696 - accuracy: 0.9896 - val_loss: 0.0763 - val_accuracy: 0.9583\n",
      "Epoch 178/200\n",
      "3/3 [==============================] - 0s 22ms/step - loss: 0.0686 - accuracy: 0.9896 - val_loss: 0.0768 - val_accuracy: 0.9583\n",
      "Epoch 179/200\n",
      "3/3 [==============================] - 0s 24ms/step - loss: 0.0680 - accuracy: 0.9896 - val_loss: 0.0766 - val_accuracy: 0.9583\n",
      "Epoch 180/200\n",
      "3/3 [==============================] - 0s 21ms/step - loss: 0.0687 - accuracy: 0.9896 - val_loss: 0.0749 - val_accuracy: 0.9583\n",
      "Epoch 181/200\n",
      "3/3 [==============================] - 0s 21ms/step - loss: 0.0684 - accuracy: 0.9896 - val_loss: 0.0750 - val_accuracy: 0.9583\n",
      "Epoch 182/200\n",
      "3/3 [==============================] - 0s 23ms/step - loss: 0.0680 - accuracy: 0.9896 - val_loss: 0.0748 - val_accuracy: 0.9583\n",
      "Epoch 183/200\n",
      "3/3 [==============================] - 0s 21ms/step - loss: 0.0678 - accuracy: 0.9896 - val_loss: 0.0765 - val_accuracy: 0.9583\n",
      "Epoch 184/200\n",
      "3/3 [==============================] - 0s 21ms/step - loss: 0.0678 - accuracy: 0.9896 - val_loss: 0.0771 - val_accuracy: 0.9583\n",
      "Epoch 185/200\n",
      "3/3 [==============================] - 0s 22ms/step - loss: 0.0667 - accuracy: 0.9896 - val_loss: 0.0745 - val_accuracy: 0.9583\n",
      "Epoch 186/200\n",
      "3/3 [==============================] - 0s 22ms/step - loss: 0.0660 - accuracy: 0.9896 - val_loss: 0.0735 - val_accuracy: 0.9583\n",
      "Epoch 187/200\n",
      "3/3 [==============================] - 0s 22ms/step - loss: 0.0662 - accuracy: 0.9896 - val_loss: 0.0731 - val_accuracy: 0.9583\n",
      "Epoch 188/200\n",
      "3/3 [==============================] - 0s 20ms/step - loss: 0.0658 - accuracy: 0.9896 - val_loss: 0.0734 - val_accuracy: 0.9583\n",
      "Epoch 189/200\n",
      "3/3 [==============================] - 0s 21ms/step - loss: 0.0656 - accuracy: 0.9896 - val_loss: 0.0736 - val_accuracy: 0.9583\n",
      "Epoch 190/200\n",
      "3/3 [==============================] - 0s 21ms/step - loss: 0.0654 - accuracy: 0.9896 - val_loss: 0.0742 - val_accuracy: 0.9583\n",
      "Epoch 191/200\n",
      "3/3 [==============================] - 0s 22ms/step - loss: 0.0664 - accuracy: 0.9896 - val_loss: 0.0755 - val_accuracy: 0.9583\n",
      "Epoch 192/200\n",
      "3/3 [==============================] - 0s 22ms/step - loss: 0.0652 - accuracy: 0.9896 - val_loss: 0.0731 - val_accuracy: 0.9583\n",
      "Epoch 193/200\n",
      "3/3 [==============================] - 0s 22ms/step - loss: 0.0655 - accuracy: 0.9896 - val_loss: 0.0719 - val_accuracy: 0.9583\n",
      "Epoch 194/200\n",
      "3/3 [==============================] - 0s 22ms/step - loss: 0.0649 - accuracy: 0.9896 - val_loss: 0.0717 - val_accuracy: 0.9583\n",
      "Epoch 195/200\n",
      "3/3 [==============================] - 0s 21ms/step - loss: 0.0657 - accuracy: 0.9896 - val_loss: 0.0713 - val_accuracy: 0.9583\n",
      "Epoch 196/200\n",
      "3/3 [==============================] - 0s 23ms/step - loss: 0.0647 - accuracy: 0.9896 - val_loss: 0.0718 - val_accuracy: 0.9583\n",
      "Epoch 197/200\n",
      "3/3 [==============================] - 0s 20ms/step - loss: 0.0636 - accuracy: 0.9896 - val_loss: 0.0736 - val_accuracy: 0.9583\n",
      "Epoch 198/200\n",
      "3/3 [==============================] - 0s 23ms/step - loss: 0.0664 - accuracy: 0.9896 - val_loss: 0.0768 - val_accuracy: 0.9583\n",
      "Epoch 199/200\n",
      "3/3 [==============================] - 0s 23ms/step - loss: 0.0648 - accuracy: 0.9896 - val_loss: 0.0733 - val_accuracy: 0.9583\n",
      "Epoch 200/200\n",
      "3/3 [==============================] - 0s 22ms/step - loss: 0.0631 - accuracy: 0.9896 - val_loss: 0.0709 - val_accuracy: 0.9583\n"
     ]
    },
    {
     "data": {
      "text/plain": [
       "<keras.callbacks.History at 0x222330f7ac0>"
      ]
     },
     "execution_count": 14,
     "metadata": {},
     "output_type": "execute_result"
    }
   ],
   "source": [
    "###########\n",
    "# 모델 학습\n",
    "###########\n",
    "model.fit(x_train, y_train, epochs=200, validation_split=0.2)\n"
   ]
  },
  {
   "cell_type": "code",
   "execution_count": 15,
   "metadata": {
    "id": "_BZMmR5--xMb"
   },
   "outputs": [
    {
     "name": "stdout",
     "output_type": "stream",
     "text": [
      "[[8.80867390e-07 2.40399432e-03 9.97595131e-01]\n",
      " [1.07932124e-07 1.56264380e-03 9.98437226e-01]\n",
      " [9.94773090e-01 5.22691477e-03 1.38157885e-09]\n",
      " [3.24133216e-05 1.06579430e-01 8.93388093e-01]\n",
      " [9.98562038e-01 1.43798743e-03 8.63572616e-11]]\n",
      "[[0. 0. 1.]\n",
      " [0. 0. 1.]\n",
      " [1. 0. 0.]\n",
      " [0. 0. 1.]\n",
      " [1. 0. 0.]]\n"
     ]
    }
   ],
   "source": [
    "###########\n",
    "# 모델 예측\n",
    "###########\n",
    "y_pred = model.predict(x_test)\n",
    "print(y_pred[:5])\n",
    "print(y_test[:5])"
   ]
  },
  {
   "cell_type": "code",
   "execution_count": null,
   "metadata": {},
   "outputs": [],
   "source": []
  }
 ],
 "metadata": {
  "colab": {
   "collapsed_sections": [
    "0xVNQT9V-Iev"
   ],
   "name": "2_1_Review _ ANN Preview III.ipynb",
   "provenance": []
  },
  "kernelspec": {
   "display_name": "Python 3",
   "language": "python",
   "name": "python3"
  },
  "language_info": {
   "codemirror_mode": {
    "name": "ipython",
    "version": 3
   },
   "file_extension": ".py",
   "mimetype": "text/x-python",
   "name": "python",
   "nbconvert_exporter": "python",
   "pygments_lexer": "ipython3",
   "version": "3.8.8"
  }
 },
 "nbformat": 4,
 "nbformat_minor": 1
}
