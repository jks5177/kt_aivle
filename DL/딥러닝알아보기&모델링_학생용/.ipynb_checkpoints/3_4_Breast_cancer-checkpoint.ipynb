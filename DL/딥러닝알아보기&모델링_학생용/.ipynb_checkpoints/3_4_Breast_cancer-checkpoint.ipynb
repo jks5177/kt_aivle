{
 "cells": [
  {
   "cell_type": "markdown",
   "metadata": {
    "id": "XZ7tAmJDypSo"
   },
   "source": [
    "# 유방암 종양 예측\n",
    "\n",
    "## 악성 종양인지, 양성 종양(정상)인지 예측"
   ]
  },
  {
   "cell_type": "markdown",
   "metadata": {
    "id": "lyYyOsXgy9Vx"
   },
   "source": [
    "## 데이터셋 불러오기\n",
    "\n",
    "* radius : 반경\n",
    "* texture : 질감\n",
    "* perimeter : 둘레\n",
    "* area : 면적\n",
    "* smoothness : 매끄러움\n",
    "* compactness : 조그만 정도\n",
    "* concavity : 윤곽의 오목함\n",
    "* concave points : 윤곽의 오목한 부분의 수\n",
    "* symmetry : 대칭\n",
    "* fractal dimension : 프랙탈 차원\n",
    "* target : Malignant-악성 종양 / Benign-양성 종양(정상)\n",
    "---\n",
    "* mean ~ : 데이터별 평균 값\n",
    "* ~ error : 데이터별 표준편차 값\n",
    "* worst ~ : 데이터별 가장 큰 3개의 평균으로 만든 값"
   ]
  },
  {
   "cell_type": "code",
   "execution_count": 1,
   "metadata": {
    "id": "9qac0OkvzCK3"
   },
   "outputs": [],
   "source": [
    "import pandas as pd\n",
    "import numpy as np"
   ]
  },
  {
   "cell_type": "code",
   "execution_count": 2,
   "metadata": {
    "colab": {
     "base_uri": "https://localhost:8080/",
     "height": 334
    },
    "id": "Lv7VQADpzH_W",
    "outputId": "629e72c4-6a31-4295-af38-01ec65d18b8c"
   },
   "outputs": [
    {
     "data": {
      "text/html": [
       "<div>\n",
       "<style scoped>\n",
       "    .dataframe tbody tr th:only-of-type {\n",
       "        vertical-align: middle;\n",
       "    }\n",
       "\n",
       "    .dataframe tbody tr th {\n",
       "        vertical-align: top;\n",
       "    }\n",
       "\n",
       "    .dataframe thead th {\n",
       "        text-align: right;\n",
       "    }\n",
       "</style>\n",
       "<table border=\"1\" class=\"dataframe\">\n",
       "  <thead>\n",
       "    <tr style=\"text-align: right;\">\n",
       "      <th></th>\n",
       "      <th>mean radius</th>\n",
       "      <th>mean texture</th>\n",
       "      <th>mean perimeter</th>\n",
       "      <th>mean area</th>\n",
       "      <th>mean smoothness</th>\n",
       "      <th>mean compactness</th>\n",
       "      <th>mean concavity</th>\n",
       "      <th>mean concave points</th>\n",
       "      <th>mean symmetry</th>\n",
       "      <th>mean fractal dimension</th>\n",
       "      <th>...</th>\n",
       "      <th>worst texture</th>\n",
       "      <th>worst perimeter</th>\n",
       "      <th>worst area</th>\n",
       "      <th>worst smoothness</th>\n",
       "      <th>worst compactness</th>\n",
       "      <th>worst concavity</th>\n",
       "      <th>worst concave points</th>\n",
       "      <th>worst symmetry</th>\n",
       "      <th>worst fractal dimension</th>\n",
       "      <th>target</th>\n",
       "    </tr>\n",
       "  </thead>\n",
       "  <tbody>\n",
       "    <tr>\n",
       "      <th>0</th>\n",
       "      <td>17.99</td>\n",
       "      <td>10.38</td>\n",
       "      <td>122.80</td>\n",
       "      <td>1001.0</td>\n",
       "      <td>0.11840</td>\n",
       "      <td>0.27760</td>\n",
       "      <td>0.3001</td>\n",
       "      <td>0.14710</td>\n",
       "      <td>0.2419</td>\n",
       "      <td>0.07871</td>\n",
       "      <td>...</td>\n",
       "      <td>17.33</td>\n",
       "      <td>184.60</td>\n",
       "      <td>2019.0</td>\n",
       "      <td>0.1622</td>\n",
       "      <td>0.6656</td>\n",
       "      <td>0.7119</td>\n",
       "      <td>0.2654</td>\n",
       "      <td>0.4601</td>\n",
       "      <td>0.11890</td>\n",
       "      <td>Malignant</td>\n",
       "    </tr>\n",
       "    <tr>\n",
       "      <th>1</th>\n",
       "      <td>20.57</td>\n",
       "      <td>17.77</td>\n",
       "      <td>132.90</td>\n",
       "      <td>1326.0</td>\n",
       "      <td>0.08474</td>\n",
       "      <td>0.07864</td>\n",
       "      <td>0.0869</td>\n",
       "      <td>0.07017</td>\n",
       "      <td>0.1812</td>\n",
       "      <td>0.05667</td>\n",
       "      <td>...</td>\n",
       "      <td>23.41</td>\n",
       "      <td>158.80</td>\n",
       "      <td>1956.0</td>\n",
       "      <td>0.1238</td>\n",
       "      <td>0.1866</td>\n",
       "      <td>0.2416</td>\n",
       "      <td>0.1860</td>\n",
       "      <td>0.2750</td>\n",
       "      <td>0.08902</td>\n",
       "      <td>Malignant</td>\n",
       "    </tr>\n",
       "    <tr>\n",
       "      <th>2</th>\n",
       "      <td>19.69</td>\n",
       "      <td>21.25</td>\n",
       "      <td>130.00</td>\n",
       "      <td>1203.0</td>\n",
       "      <td>0.10960</td>\n",
       "      <td>0.15990</td>\n",
       "      <td>0.1974</td>\n",
       "      <td>0.12790</td>\n",
       "      <td>0.2069</td>\n",
       "      <td>0.05999</td>\n",
       "      <td>...</td>\n",
       "      <td>25.53</td>\n",
       "      <td>152.50</td>\n",
       "      <td>1709.0</td>\n",
       "      <td>0.1444</td>\n",
       "      <td>0.4245</td>\n",
       "      <td>0.4504</td>\n",
       "      <td>0.2430</td>\n",
       "      <td>0.3613</td>\n",
       "      <td>0.08758</td>\n",
       "      <td>Malignant</td>\n",
       "    </tr>\n",
       "    <tr>\n",
       "      <th>3</th>\n",
       "      <td>11.42</td>\n",
       "      <td>20.38</td>\n",
       "      <td>77.58</td>\n",
       "      <td>386.1</td>\n",
       "      <td>0.14250</td>\n",
       "      <td>0.28390</td>\n",
       "      <td>0.2414</td>\n",
       "      <td>0.10520</td>\n",
       "      <td>0.2597</td>\n",
       "      <td>0.09744</td>\n",
       "      <td>...</td>\n",
       "      <td>26.50</td>\n",
       "      <td>98.87</td>\n",
       "      <td>567.7</td>\n",
       "      <td>0.2098</td>\n",
       "      <td>0.8663</td>\n",
       "      <td>0.6869</td>\n",
       "      <td>0.2575</td>\n",
       "      <td>0.6638</td>\n",
       "      <td>0.17300</td>\n",
       "      <td>Malignant</td>\n",
       "    </tr>\n",
       "    <tr>\n",
       "      <th>4</th>\n",
       "      <td>20.29</td>\n",
       "      <td>14.34</td>\n",
       "      <td>135.10</td>\n",
       "      <td>1297.0</td>\n",
       "      <td>0.10030</td>\n",
       "      <td>0.13280</td>\n",
       "      <td>0.1980</td>\n",
       "      <td>0.10430</td>\n",
       "      <td>0.1809</td>\n",
       "      <td>0.05883</td>\n",
       "      <td>...</td>\n",
       "      <td>16.67</td>\n",
       "      <td>152.20</td>\n",
       "      <td>1575.0</td>\n",
       "      <td>0.1374</td>\n",
       "      <td>0.2050</td>\n",
       "      <td>0.4000</td>\n",
       "      <td>0.1625</td>\n",
       "      <td>0.2364</td>\n",
       "      <td>0.07678</td>\n",
       "      <td>Malignant</td>\n",
       "    </tr>\n",
       "  </tbody>\n",
       "</table>\n",
       "<p>5 rows × 31 columns</p>\n",
       "</div>"
      ],
      "text/plain": [
       "   mean radius  mean texture  mean perimeter  mean area  mean smoothness  \\\n",
       "0        17.99         10.38          122.80     1001.0          0.11840   \n",
       "1        20.57         17.77          132.90     1326.0          0.08474   \n",
       "2        19.69         21.25          130.00     1203.0          0.10960   \n",
       "3        11.42         20.38           77.58      386.1          0.14250   \n",
       "4        20.29         14.34          135.10     1297.0          0.10030   \n",
       "\n",
       "   mean compactness  mean concavity  mean concave points  mean symmetry  \\\n",
       "0           0.27760          0.3001              0.14710         0.2419   \n",
       "1           0.07864          0.0869              0.07017         0.1812   \n",
       "2           0.15990          0.1974              0.12790         0.2069   \n",
       "3           0.28390          0.2414              0.10520         0.2597   \n",
       "4           0.13280          0.1980              0.10430         0.1809   \n",
       "\n",
       "   mean fractal dimension  ...  worst texture  worst perimeter  worst area  \\\n",
       "0                 0.07871  ...          17.33           184.60      2019.0   \n",
       "1                 0.05667  ...          23.41           158.80      1956.0   \n",
       "2                 0.05999  ...          25.53           152.50      1709.0   \n",
       "3                 0.09744  ...          26.50            98.87       567.7   \n",
       "4                 0.05883  ...          16.67           152.20      1575.0   \n",
       "\n",
       "   worst smoothness  worst compactness  worst concavity  worst concave points  \\\n",
       "0            0.1622             0.6656           0.7119                0.2654   \n",
       "1            0.1238             0.1866           0.2416                0.1860   \n",
       "2            0.1444             0.4245           0.4504                0.2430   \n",
       "3            0.2098             0.8663           0.6869                0.2575   \n",
       "4            0.1374             0.2050           0.4000                0.1625   \n",
       "\n",
       "   worst symmetry  worst fractal dimension     target  \n",
       "0          0.4601                  0.11890  Malignant  \n",
       "1          0.2750                  0.08902  Malignant  \n",
       "2          0.3613                  0.08758  Malignant  \n",
       "3          0.6638                  0.17300  Malignant  \n",
       "4          0.2364                  0.07678  Malignant  \n",
       "\n",
       "[5 rows x 31 columns]"
      ]
     },
     "execution_count": 2,
     "metadata": {},
     "output_type": "execute_result"
    }
   ],
   "source": [
    "data = pd.read_csv('https://raw.githubusercontent.com/DrKAI/dataset/main/breast_cancer.csv')\n",
    "\n",
    "data.head()"
   ]
  },
  {
   "cell_type": "code",
   "execution_count": 3,
   "metadata": {
    "colab": {
     "base_uri": "https://localhost:8080/"
    },
    "id": "hF1C2qsSzUk7",
    "outputId": "2827d1e8-a72a-4577-f9e8-5ff9742d34bf"
   },
   "outputs": [
    {
     "name": "stdout",
     "output_type": "stream",
     "text": [
      "<class 'pandas.core.frame.DataFrame'>\n",
      "RangeIndex: 569 entries, 0 to 568\n",
      "Data columns (total 31 columns):\n",
      " #   Column                   Non-Null Count  Dtype  \n",
      "---  ------                   --------------  -----  \n",
      " 0   mean radius              569 non-null    float64\n",
      " 1   mean texture             569 non-null    float64\n",
      " 2   mean perimeter           569 non-null    float64\n",
      " 3   mean area                569 non-null    float64\n",
      " 4   mean smoothness          569 non-null    float64\n",
      " 5   mean compactness         569 non-null    float64\n",
      " 6   mean concavity           569 non-null    float64\n",
      " 7   mean concave points      569 non-null    float64\n",
      " 8   mean symmetry            569 non-null    float64\n",
      " 9   mean fractal dimension   569 non-null    float64\n",
      " 10  radius error             569 non-null    float64\n",
      " 11  texture error            569 non-null    float64\n",
      " 12  perimeter error          569 non-null    float64\n",
      " 13  area error               569 non-null    float64\n",
      " 14  smoothness error         569 non-null    float64\n",
      " 15  compactness error        569 non-null    float64\n",
      " 16  concavity error          569 non-null    float64\n",
      " 17  concave points error     569 non-null    float64\n",
      " 18  symmetry error           569 non-null    float64\n",
      " 19  fractal dimension error  569 non-null    float64\n",
      " 20  worst radius             569 non-null    float64\n",
      " 21  worst texture            569 non-null    float64\n",
      " 22  worst perimeter          569 non-null    float64\n",
      " 23  worst area               569 non-null    float64\n",
      " 24  worst smoothness         569 non-null    float64\n",
      " 25  worst compactness        569 non-null    float64\n",
      " 26  worst concavity          569 non-null    float64\n",
      " 27  worst concave points     569 non-null    float64\n",
      " 28  worst symmetry           569 non-null    float64\n",
      " 29  worst fractal dimension  569 non-null    float64\n",
      " 30  target                   569 non-null    object \n",
      "dtypes: float64(30), object(1)\n",
      "memory usage: 137.9+ KB\n"
     ]
    }
   ],
   "source": [
    "data.info()"
   ]
  },
  {
   "cell_type": "markdown",
   "metadata": {
    "id": "wvsEjq9CzJy3"
   },
   "source": [
    "## 데이터 전처리\n",
    "\n",
    "<details><summary>Hint</summary>\n",
    "\n",
    "* x, y 구분 필요\n",
    "* y에 대한 전처리 필요\n",
    "* 데이터셋 구분 필요\n",
    "\n",
    "</details>"
   ]
  },
  {
   "cell_type": "code",
   "execution_count": 4,
   "metadata": {
    "id": "sjyEQ8S0MyVp"
   },
   "outputs": [],
   "source": [
    "x = data.drop('target', axis=1)\n",
    "y = np.where(data['target']=='Malignant', 0, 1)"
   ]
  },
  {
   "cell_type": "code",
   "execution_count": 5,
   "metadata": {},
   "outputs": [],
   "source": [
    "from sklearn.model_selection import train_test_split\n",
    "\n",
    "x_train, x_test, y_train, y_test = train_test_split(x, y, test_size=0.2, random_state=2022)"
   ]
  },
  {
   "cell_type": "code",
   "execution_count": 6,
   "metadata": {},
   "outputs": [
    {
     "data": {
      "text/plain": [
       "array([0, 1])"
      ]
     },
     "execution_count": 6,
     "metadata": {},
     "output_type": "execute_result"
    }
   ],
   "source": [
    "np.unique(y_train)"
   ]
  },
  {
   "cell_type": "code",
   "execution_count": 7,
   "metadata": {},
   "outputs": [
    {
     "data": {
      "text/plain": [
       "(((455, 30), (455,)), ((114, 30), (114,)))"
      ]
     },
     "execution_count": 7,
     "metadata": {},
     "output_type": "execute_result"
    }
   ],
   "source": [
    "(x_train.shape, y_train.shape), (x_test.shape, y_test.shape)"
   ]
  },
  {
   "cell_type": "markdown",
   "metadata": {
    "id": "UMxtGX8n7ZO7"
   },
   "source": [
    "## Locally connected layer를 구성하기 위한 feature 설정\n",
    "\n",
    "* mean, error, worst를 각 feature별로 묶어 새로운 변수를 만든다.\n",
    "        ex) mean radius, radius error, worst radius\n",
    "\n",
    "<details><summary> Hint </summary>\n",
    "\n",
    "* x의 train 구조와 test 구조는 동일해야 한다.\n",
    "\n",
    "</details>"
   ]
  },
  {
   "cell_type": "code",
   "execution_count": 8,
   "metadata": {
    "id": "ORdTBNODM0JL",
    "scrolled": true
   },
   "outputs": [],
   "source": [
    "names = ['mean', 'error', 'worst']\n",
    "dic = {}\n",
    "for i in x_train.columns :\n",
    "    for j in names :\n",
    "        if j in i :\n",
    "            name = i.split(j)[0][:-1]\n",
    "            if name == '' :\n",
    "                name = i.split(j)[1][1:]\n",
    "            if name not in dic.keys() :\n",
    "                dic[name] = [i]\n",
    "                continue\n",
    "            dic[name].append(i)"
   ]
  },
  {
   "cell_type": "code",
   "execution_count": 9,
   "metadata": {
    "id": "hmNQKHvHM0D9"
   },
   "outputs": [
    {
     "data": {
      "text/plain": [
       "{'radius': ['mean radius', 'radius error', 'worst radius'],\n",
       " 'texture': ['mean texture', 'texture error', 'worst texture'],\n",
       " 'perimeter': ['mean perimeter', 'perimeter error', 'worst perimeter'],\n",
       " 'area': ['mean area', 'area error', 'worst area'],\n",
       " 'smoothness': ['mean smoothness', 'smoothness error', 'worst smoothness'],\n",
       " 'compactness': ['mean compactness', 'compactness error', 'worst compactness'],\n",
       " 'concavity': ['mean concavity', 'concavity error', 'worst concavity'],\n",
       " 'concave points': ['mean concave points',\n",
       "  'concave points error',\n",
       "  'worst concave points'],\n",
       " 'symmetry': ['mean symmetry', 'symmetry error', 'worst symmetry'],\n",
       " 'fractal dimension': ['mean fractal dimension',\n",
       "  'fractal dimension error',\n",
       "  'worst fractal dimension']}"
      ]
     },
     "execution_count": 9,
     "metadata": {},
     "output_type": "execute_result"
    }
   ],
   "source": [
    "dic"
   ]
  },
  {
   "cell_type": "code",
   "execution_count": 11,
   "metadata": {},
   "outputs": [
    {
     "data": {
      "text/plain": [
       "(10, 10)"
      ]
     },
     "execution_count": 11,
     "metadata": {},
     "output_type": "execute_result"
    }
   ],
   "source": [
    "x_tr = []\n",
    "for key in dic.keys() :\n",
    "    x_tr.append(x_train[dic[key]])\n",
    "    \n",
    "x_te = []\n",
    "for key in dic.keys() :\n",
    "    x_te.append(x_test[dic[key]])\n",
    "    \n",
    "len(x_tr), len(x_te)"
   ]
  },
  {
   "cell_type": "markdown",
   "metadata": {
    "id": "pN2YChw-9ACb"
   },
   "source": [
    "## 모델링\n",
    "![예시](https://raw.githubusercontent.com/DrKAI/image/main/cancer_locally.png)\n",
    "\n",
    "1. 윗 단계에서 생성한 변수의 **형태**를 이용하여, 각 변수별 input layer를 만든다.\n",
    "2. node가 12개인 hidden layer를 **각각** 생성하여, 각 input layer와 연결한다.\n",
    "3. 생성된 hidden layer를 add 한다.\n",
    "---\n",
    "4. 전체 변수를 이용한 input layer를 만든다.\n",
    "5. 3번 단계로 add 된 레이어와 4번 단계로 만들어진 input layer를 concat한다.\n",
    "---\n",
    "6. node가 128개인 hidden layer를 5번 단계로 concat된 레이어와 연결한다.\n",
    "7. output layer를 생성하고 compile 한다."
   ]
  },
  {
   "cell_type": "code",
   "execution_count": 12,
   "metadata": {
    "id": "AJLLVhBXM12J"
   },
   "outputs": [],
   "source": [
    "import tensorflow as tf\n",
    "from tensorflow import keras\n",
    "from tensorflow.keras.backend import clear_session\n",
    "from tensorflow.keras.layers import Input, Dense, Add, Concatenate\n",
    "from tensorflow.keras.models import Model\n",
    "\n",
    "from tensorflow.keras.losses import binary_crossentropy\n",
    "from tensorflow.keras.optimizers import Adam"
   ]
  },
  {
   "cell_type": "code",
   "execution_count": 13,
   "metadata": {
    "id": "FV1wcvmCM21W"
   },
   "outputs": [],
   "source": [
    "# 모델 초기화\n",
    "clear_session()\n",
    "\n",
    "# 레이아웃 설정\n",
    "input_radius = Input(shape=(3,))\n",
    "hidden_radius = Dense(12, activation='relu')(input_radius)\n",
    "\n",
    "input_texture = Input(shape=(3,))\n",
    "hidden_texture = Dense(12, activation='relu')(input_texture)\n",
    "\n",
    "input_perimeter = Input(shape=(3,))\n",
    "hidden_perimeter = Dense(12, activation='relu')(input_perimeter)\n",
    "\n",
    "input_area = Input(shape=(3,))\n",
    "hidden_area = Dense(12, activation='relu')(input_area)\n",
    "\n",
    "input_smooth = Input(shape=(3,))\n",
    "hidden_smooth = Dense(12, activation='relu')(input_smooth)\n",
    "\n",
    "input_compact = Input(shape=(3,))\n",
    "hidden_compact = Dense(12, activation='relu')(input_compact)\n",
    "\n",
    "input_concavity = Input(shape=(3,))\n",
    "hidden_concavity = Dense(12, activation='relu')(input_concavity)\n",
    "\n",
    "input_point = Input(shape=(3,))\n",
    "hidden_point = Dense(12, activation='relu')(input_point)\n",
    "\n",
    "input_symmetry = Input(shape=(3,))\n",
    "hidden_symmetry = Dense(12, activation='relu')(input_symmetry)\n",
    "\n",
    "input_fractal = Input(shape=(3,))\n",
    "hidden_fractal = Dense(12, activation='relu')(input_fractal)\n",
    "\n",
    "hidden_add = Add()([hidden_radius, hidden_texture, hidden_perimeter, hidden_area, hidden_smooth, hidden_compact, hidden_concavity, \n",
    "                    hidden_point, hidden_symmetry, hidden_fractal])\n",
    "\n",
    "input_full = Input(shape=(30,))\n",
    "\n",
    "concat_ilfull_hladd = Concatenate()([input_full, hidden_add])\n",
    "dense = Dense(128, activation='relu')(concat_ilfull_hladd)\n",
    "output_layer = Dense(1, activation='sigmoid')(dense)\n",
    "\n",
    "# 모델 생성\n",
    "model = Model([input_radius, input_texture,input_perimeter, input_area, input_smooth, input_compact, input_concavity, input_point,\n",
    "               input_symmetry, input_fractal, input_full], output_layer)\n",
    "\n",
    "# 모델 컴파일\n",
    "model.compile(loss=binary_crossentropy, metrics=['accuracy'], optimizer=Adam())"
   ]
  },
  {
   "cell_type": "code",
   "execution_count": 14,
   "metadata": {
    "id": "1F1VLUE6M25K"
   },
   "outputs": [
    {
     "data": {
      "image/png": "[encoded data removed]",
      "text/plain": [
       "<IPython.core.display.Image object>"
      ]
     },
     "execution_count": 14,
     "metadata": {},
     "output_type": "execute_result"
    }
   ],
   "source": [
    "# 모델 그리기\n",
    "from tensorflow.keras.utils import plot_model\n",
    "\n",
    "plot_model(model, show_shapes=True)"
   ]
  },
  {
   "cell_type": "code",
   "execution_count": 15,
   "metadata": {},
   "outputs": [
    {
     "name": "stdout",
     "output_type": "stream",
     "text": [
      "Epoch 1/1000\n",
      "12/12 [==============================] - 2s 55ms/step - loss: 45.8013 - accuracy: 0.4890 - val_loss: 14.5131 - val_accuracy: 0.6923\n",
      "Epoch 2/1000\n",
      "12/12 [==============================] - 0s 8ms/step - loss: 7.4954 - accuracy: 0.6209 - val_loss: 0.4978 - val_accuracy: 0.9231\n",
      "Epoch 3/1000\n",
      "12/12 [==============================] - 0s 8ms/step - loss: 2.7805 - accuracy: 0.8077 - val_loss: 2.5232 - val_accuracy: 0.7033\n",
      "Epoch 4/1000\n",
      "12/12 [==============================] - 0s 9ms/step - loss: 1.4759 - accuracy: 0.8654 - val_loss: 0.6670 - val_accuracy: 0.9011\n",
      "Epoch 5/1000\n",
      "12/12 [==============================] - 0s 8ms/step - loss: 1.1701 - accuracy: 0.8516 - val_loss: 0.3283 - val_accuracy: 0.9560\n",
      "Epoch 6/1000\n",
      "12/12 [==============================] - 0s 8ms/step - loss: 0.9172 - accuracy: 0.8819 - val_loss: 0.3351 - val_accuracy: 0.9451\n",
      "Epoch 7/1000\n",
      "12/12 [==============================] - 0s 8ms/step - loss: 0.7264 - accuracy: 0.8956 - val_loss: 0.3088 - val_accuracy: 0.9560\n",
      "Epoch 8/1000\n",
      "12/12 [==============================] - 0s 8ms/step - loss: 0.7049 - accuracy: 0.8929 - val_loss: 0.3123 - val_accuracy: 0.9451\n",
      "Epoch 9/1000\n",
      "12/12 [==============================] - 0s 8ms/step - loss: 0.7576 - accuracy: 0.8791 - val_loss: 0.2910 - val_accuracy: 0.9560\n",
      "Epoch 10/1000\n",
      "12/12 [==============================] - 0s 8ms/step - loss: 0.6070 - accuracy: 0.8984 - val_loss: 0.3381 - val_accuracy: 0.9451\n",
      "Epoch 11/1000\n",
      "12/12 [==============================] - 0s 8ms/step - loss: 0.6113 - accuracy: 0.9038 - val_loss: 0.2576 - val_accuracy: 0.9560\n",
      "Epoch 12/1000\n",
      "12/12 [==============================] - 0s 8ms/step - loss: 0.4762 - accuracy: 0.9148 - val_loss: 0.3892 - val_accuracy: 0.9341\n",
      "Epoch 13/1000\n",
      "12/12 [==============================] - 0s 9ms/step - loss: 0.7534 - accuracy: 0.8901 - val_loss: 0.3586 - val_accuracy: 0.9341\n",
      "Epoch 14/1000\n",
      "12/12 [==============================] - 0s 8ms/step - loss: 0.7618 - accuracy: 0.8819 - val_loss: 0.4304 - val_accuracy: 0.9451\n",
      "Epoch 15/1000\n",
      "12/12 [==============================] - 0s 9ms/step - loss: 0.8691 - accuracy: 0.8571 - val_loss: 0.8704 - val_accuracy: 0.8901\n",
      "Epoch 16/1000\n",
      " 1/12 [=>............................] - ETA: 0s - loss: 1.7962 - accuracy: 0.8750Restoring model weights from the end of the best epoch: 11.\n",
      "12/12 [==============================] - 0s 9ms/step - loss: 1.1969 - accuracy: 0.8516 - val_loss: 0.4403 - val_accuracy: 0.9341\n",
      "Epoch 16: early stopping\n"
     ]
    },
    {
     "data": {
      "text/plain": [
       "<keras.callbacks.History at 0x23368bd9130>"
      ]
     },
     "execution_count": 15,
     "metadata": {},
     "output_type": "execute_result"
    }
   ],
   "source": [
    "es = keras.callbacks.EarlyStopping(monitor='val_loss', min_delta=0, patience=5, verbose=1, restore_best_weights=True)\n",
    "\n",
    "x_tr.append(x_train)\n",
    "\n",
    "model.fit(x_tr, y_train, epochs=1000, verbose=1, validation_split=0.2, callbacks=[es])"
   ]
  },
  {
   "cell_type": "markdown",
   "metadata": {
    "id": "FJfDbKduBnxz"
   },
   "source": [
    "## 평가\n",
    "\n",
    "1. 모델의 정확도를 확인하시오.\n",
    "2. 악성이라 예측한 것 중 실제 악성으로 나온 비율을 구하시오.\n",
    "3. 실제 악성 중 모델이 악성이라 예측한 것의 비율을 구하시오.\n",
    "4. 정상이라 예측한 것 중 실제 정상으로 나온 비율을 구하시오."
   ]
  },
  {
   "cell_type": "code",
   "execution_count": null,
   "metadata": {},
   "outputs": [],
   "source": []
  }
 ],
 "metadata": {
  "colab": {
   "collapsed_sections": [],
   "name": "3_4_Breast_cancer.ipynb",
   "provenance": [],
   "toc_visible": true
  },
  "kernelspec": {
   "display_name": "Python 3",
   "language": "python",
   "name": "python3"
  },
  "language_info": {
   "codemirror_mode": {
    "name": "ipython",
    "version": 3
   },
   "file_extension": ".py",
   "mimetype": "text/x-python",
   "name": "python",
   "nbconvert_exporter": "python",
   "pygments_lexer": "ipython3",
   "version": "3.8.8"
  }
 },
 "nbformat": 4,
 "nbformat_minor": 1
}
