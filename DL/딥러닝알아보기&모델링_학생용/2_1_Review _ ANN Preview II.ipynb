{
 "cells": [
  {
   "cell_type": "markdown",
   "metadata": {
    "id": "T7kdgJptO50L"
   },
   "source": [
    "# 1일차 Review : 같은 문제 다시 풀어보기\n",
    "\n",
    "    학습은 10번으로!"
   ]
  },
  {
   "cell_type": "code",
   "execution_count": 1,
   "metadata": {
    "id": "tcpM1yMBXPMV"
   },
   "outputs": [],
   "source": [
    "from sklearn.datasets import load_breast_cancer"
   ]
  },
  {
   "cell_type": "code",
   "execution_count": 2,
   "metadata": {
    "id": "kywnQJlHXZCg"
   },
   "outputs": [],
   "source": [
    "cancer = load_breast_cancer()"
   ]
  },
  {
   "cell_type": "code",
   "execution_count": 3,
   "metadata": {
    "id": "Fbgs4YZrXcCB"
   },
   "outputs": [],
   "source": [
    "x = cancer.data\n",
    "y = cancer.target"
   ]
  },
  {
   "cell_type": "code",
   "execution_count": 4,
   "metadata": {
    "id": "kVvDsvptQyQ_"
   },
   "outputs": [
    {
     "data": {
      "text/plain": [
       "((569, 30), (569,))"
      ]
     },
     "execution_count": 4,
     "metadata": {},
     "output_type": "execute_result"
    }
   ],
   "source": [
    "x.shape, y.shape"
   ]
  },
  {
   "cell_type": "code",
   "execution_count": 5,
   "metadata": {},
   "outputs": [],
   "source": [
    "from sklearn.model_selection import train_test_split\n",
    "\n",
    "x_train, x_test, y_train, y_test = train_test_split(x, y, test_size=0.2, random_state=2022)"
   ]
  },
  {
   "cell_type": "code",
   "execution_count": 6,
   "metadata": {
    "id": "puqIL3FCRBs6"
   },
   "outputs": [],
   "source": [
    "#####################\n",
    "# 라이브러리 불러오기\n",
    "#####################\n",
    "import tensorflow as tf\n",
    "from tensorflow import keras\n",
    "\n",
    "import numpy as np"
   ]
  },
  {
   "cell_type": "code",
   "execution_count": 7,
   "metadata": {
    "id": "broVdGpGbqrC"
   },
   "outputs": [
    {
     "name": "stdout",
     "output_type": "stream",
     "text": [
      "Model: \"model\"\n",
      "_________________________________________________________________\n",
      " Layer (type)                Output Shape              Param #   \n",
      "=================================================================\n",
      " input_1 (InputLayer)        [(None, 30)]              0         \n",
      "                                                                 \n",
      " dense (Dense)               (None, 1)                 31        \n",
      "                                                                 \n",
      "=================================================================\n",
      "Total params: 31\n",
      "Trainable params: 31\n",
      "Non-trainable params: 0\n",
      "_________________________________________________________________\n"
     ]
    }
   ],
   "source": [
    "########\n",
    "# 모델링\n",
    "########\n",
    "# 1. 초기화\n",
    "keras.backend.clear_session()\n",
    "\n",
    "# 2. 레이어 생성\n",
    "input_layer = keras.layers.Input(shape=(30,))\n",
    "output_layer = keras.layers.Dense(1, activation='sigmoid')(input_layer)\n",
    "\n",
    "# 3. 모델 생성\n",
    "model = keras.models.Model(input_layer, output_layer)\n",
    "\n",
    "# 4. 컴파일\n",
    "model.compile(loss=keras.losses.binary_crossentropy, metrics=['accuracy'], optimizer=keras.optimizers.Adam())\n",
    "\n",
    "model.summary()"
   ]
  },
  {
   "cell_type": "code",
   "execution_count": 8,
   "metadata": {
    "id": "4U3tZ7PvbljS"
   },
   "outputs": [
    {
     "name": "stdout",
     "output_type": "stream",
     "text": [
      "Epoch 1/10\n",
      "12/12 [==============================] - 1s 23ms/step - loss: 179.2457 - accuracy: 0.6209 - val_loss: 145.4813 - val_accuracy: 0.6923\n",
      "Epoch 2/10\n",
      "12/12 [==============================] - 0s 5ms/step - loss: 167.0868 - accuracy: 0.6209 - val_loss: 135.2144 - val_accuracy: 0.6923\n",
      "Epoch 3/10\n",
      "12/12 [==============================] - 0s 5ms/step - loss: 154.5747 - accuracy: 0.6209 - val_loss: 125.3280 - val_accuracy: 0.6923\n",
      "Epoch 4/10\n",
      "12/12 [==============================] - 0s 5ms/step - loss: 142.4299 - accuracy: 0.6209 - val_loss: 115.4703 - val_accuracy: 0.6923\n",
      "Epoch 5/10\n",
      "12/12 [==============================] - 0s 4ms/step - loss: 130.3408 - accuracy: 0.6209 - val_loss: 105.2594 - val_accuracy: 0.6923\n",
      "Epoch 6/10\n",
      "12/12 [==============================] - 0s 4ms/step - loss: 117.4632 - accuracy: 0.6209 - val_loss: 95.3074 - val_accuracy: 0.6923\n",
      "Epoch 7/10\n",
      "12/12 [==============================] - 0s 5ms/step - loss: 105.0839 - accuracy: 0.6209 - val_loss: 85.0821 - val_accuracy: 0.6923\n",
      "Epoch 8/10\n",
      "12/12 [==============================] - 0s 5ms/step - loss: 92.9431 - accuracy: 0.6209 - val_loss: 74.6336 - val_accuracy: 0.6923\n",
      "Epoch 9/10\n",
      "12/12 [==============================] - 0s 5ms/step - loss: 79.9214 - accuracy: 0.6209 - val_loss: 64.5821 - val_accuracy: 0.6923\n",
      "Epoch 10/10\n",
      "12/12 [==============================] - 0s 5ms/step - loss: 68.3126 - accuracy: 0.6209 - val_loss: 54.0368 - val_accuracy: 0.6923\n"
     ]
    },
    {
     "data": {
      "text/plain": [
       "<keras.callbacks.History at 0x2b05e7869d0>"
      ]
     },
     "execution_count": 8,
     "metadata": {},
     "output_type": "execute_result"
    }
   ],
   "source": [
    "###########\n",
    "# 모델 학습\n",
    "###########\n",
    "model.fit(x_train, y_train, epochs=10, validation_split=0.2)\n"
   ]
  },
  {
   "cell_type": "code",
   "execution_count": 9,
   "metadata": {
    "id": "prSYRU-_AlYz"
   },
   "outputs": [
    {
     "name": "stdout",
     "output_type": "stream",
     "text": [
      "[1 1 1 1 1]\n",
      "[1 1 0 1 1]\n"
     ]
    }
   ],
   "source": [
    "###########\n",
    "# 모델 예측\n",
    "###########\n",
    "from sklearn.metrics import classification_report\n",
    "\n",
    "y_pred = model.predict(x_test)\n",
    "y_pred = np.where(y_pred>=0.5, 1, 0)\n",
    "\n",
    "print(y_pred[:5].reshape(-1))\n",
    "print(y_test[:5])"
   ]
  },
  {
   "cell_type": "markdown",
   "metadata": {
    "id": "0xVNQT9V-Iev"
   },
   "source": [
    "# 히든 레이어 추가하여 모델링!\n",
    "\n",
    "    히든 레이어 2개를 추가하여 다시 모델링!\n",
    "    히든 레이어 노드 수 : 32\n",
    "    히든 레이어 activation = 'relu'"
   ]
  },
  {
   "cell_type": "code",
   "execution_count": 10,
   "metadata": {
    "id": "y3PTU3m--xMa"
   },
   "outputs": [
    {
     "name": "stdout",
     "output_type": "stream",
     "text": [
      "Model: \"model\"\n",
      "_________________________________________________________________\n",
      " Layer (type)                Output Shape              Param #   \n",
      "=================================================================\n",
      " input_1 (InputLayer)        [(None, 30)]              0         \n",
      "                                                                 \n",
      " dense (Dense)               (None, 32)                992       \n",
      "                                                                 \n",
      " dense_1 (Dense)             (None, 32)                1056      \n",
      "                                                                 \n",
      " dense_2 (Dense)             (None, 1)                 33        \n",
      "                                                                 \n",
      "=================================================================\n",
      "Total params: 2,081\n",
      "Trainable params: 2,081\n",
      "Non-trainable params: 0\n",
      "_________________________________________________________________\n"
     ]
    }
   ],
   "source": [
    "########\n",
    "# 모델링\n",
    "########\n",
    "# 1. 초기화\n",
    "keras.backend.clear_session()\n",
    "\n",
    "# 2. 레이어 생성\n",
    "input_layer = keras.layers.Input(shape=(30,))\n",
    "first_layer = keras.layers.Dense(32, activation='relu')(input_layer)\n",
    "second_layer = keras.layers.Dense(32, activation='relu')(first_layer)\n",
    "output_layer = keras.layers.Dense(1, activation='sigmoid')(second_layer)\n",
    "\n",
    "# 3. 모델 생성\n",
    "model = keras.models.Model(input_layer, output_layer)\n",
    "\n",
    "# 4. 컴파일\n",
    "model.compile(loss=keras.losses.binary_crossentropy, metrics=['accuracy'], optimizer=keras.optimizers.Adam())\n",
    "\n",
    "model.summary()"
   ]
  },
  {
   "cell_type": "code",
   "execution_count": 11,
   "metadata": {
    "id": "HbvMea71-xMb"
   },
   "outputs": [
    {
     "name": "stdout",
     "output_type": "stream",
     "text": [
      "Epoch 1/10\n",
      "12/12 [==============================] - 1s 18ms/step - loss: 27.2309 - accuracy: 0.5934 - val_loss: 7.2469 - val_accuracy: 0.1429\n",
      "Epoch 2/10\n",
      "12/12 [==============================] - 0s 6ms/step - loss: 8.6533 - accuracy: 0.3407 - val_loss: 7.8763 - val_accuracy: 0.3077\n",
      "Epoch 3/10\n",
      "12/12 [==============================] - 0s 5ms/step - loss: 4.7660 - accuracy: 0.3736 - val_loss: 2.5149 - val_accuracy: 0.4286\n",
      "Epoch 4/10\n",
      "12/12 [==============================] - 0s 5ms/step - loss: 1.6839 - accuracy: 0.3929 - val_loss: 0.6280 - val_accuracy: 0.7033\n",
      "Epoch 5/10\n",
      "12/12 [==============================] - 0s 5ms/step - loss: 0.6057 - accuracy: 0.7527 - val_loss: 0.5056 - val_accuracy: 0.7363\n",
      "Epoch 6/10\n",
      "12/12 [==============================] - 0s 5ms/step - loss: 0.4508 - accuracy: 0.8489 - val_loss: 0.3106 - val_accuracy: 0.8901\n",
      "Epoch 7/10\n",
      "12/12 [==============================] - 0s 5ms/step - loss: 0.3815 - accuracy: 0.8544 - val_loss: 0.2787 - val_accuracy: 0.8901\n",
      "Epoch 8/10\n",
      "12/12 [==============================] - 0s 5ms/step - loss: 0.3186 - accuracy: 0.8984 - val_loss: 0.2315 - val_accuracy: 0.9011\n",
      "Epoch 9/10\n",
      "12/12 [==============================] - 0s 5ms/step - loss: 0.2789 - accuracy: 0.8956 - val_loss: 0.2064 - val_accuracy: 0.9451\n",
      "Epoch 10/10\n",
      "12/12 [==============================] - 0s 4ms/step - loss: 0.2600 - accuracy: 0.8901 - val_loss: 0.1904 - val_accuracy: 0.9121\n"
     ]
    },
    {
     "data": {
      "text/plain": [
       "<keras.callbacks.History at 0x2b05fcf41f0>"
      ]
     },
     "execution_count": 11,
     "metadata": {},
     "output_type": "execute_result"
    }
   ],
   "source": [
    "###########\n",
    "# 모델 학습\n",
    "###########\n",
    "\n",
    "model.fit(x_train, y_train, epochs=10, validation_split=0.2)"
   ]
  },
  {
   "cell_type": "code",
   "execution_count": 12,
   "metadata": {
    "id": "_BZMmR5--xMb"
   },
   "outputs": [
    {
     "name": "stdout",
     "output_type": "stream",
     "text": [
      "[1 1 1 1 1]\n",
      "[1 1 0 1 1]\n"
     ]
    }
   ],
   "source": [
    "###########\n",
    "# 모델 예측\n",
    "###########\n",
    "y_pred = model.predict(x_test)\n",
    "y_pred = np.where(y_pred>= 0.5, 1, 0)\n",
    "print(y_pred[:5].reshape(-1))\n",
    "print(y_test[:5])"
   ]
  },
  {
   "cell_type": "code",
   "execution_count": null,
   "metadata": {},
   "outputs": [],
   "source": []
  }
 ],
 "metadata": {
  "colab": {
   "collapsed_sections": [
    "0xVNQT9V-Iev"
   ],
   "name": "2_1_Review _ ANN Preview II.ipynb",
   "provenance": []
  },
  "kernelspec": {
   "display_name": "Python 3",
   "language": "python",
   "name": "python3"
  },
  "language_info": {
   "codemirror_mode": {
    "name": "ipython",
    "version": 3
   },
   "file_extension": ".py",
   "mimetype": "text/x-python",
   "name": "python",
   "nbconvert_exporter": "python",
   "pygments_lexer": "ipython3",
   "version": "3.8.8"
  }
 },
 "nbformat": 4,
 "nbformat_minor": 1
}
