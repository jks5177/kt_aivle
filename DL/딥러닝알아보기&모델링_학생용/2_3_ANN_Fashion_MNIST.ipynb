{
 "cells": [
  {
   "cell_type": "markdown",
   "metadata": {
    "id": "UdrP_vI3QcNd"
   },
   "source": [
    "# ANN\n",
    "\n",
    "# Fashion MNIST\n",
    "\n",
    "\n",
    "<br> By Margaret Maynard-Reid, 4/24/2018\n",
    "\n",
    "![alt text](https://github.com/margaretmz/deep-learning/blob/master/images/modern%20dl_fash-mnist_keras.png?raw=1)"
   ]
  },
  {
   "cell_type": "markdown",
   "metadata": {
    "id": "XLMRPLVCFwEc"
   },
   "source": [
    "## Why Fashion-MNIST?\n",
    "\n",
    "\n",
    "*   MNIST is too easy\n",
    "*   MNIST is overused\n",
    "*   MNIST can not represent modern Computer Vision tasks\n",
    "\n",
    "Read more about the Fashion-MINST dataset in this paper [here](https://arxiv.org/abs/1708.07747) (**Fashion-MNIST: a Novel Image Dataset for Benchmarking Machine Learning Algorithms**)\n",
    "\n"
   ]
  },
  {
   "cell_type": "code",
   "execution_count": 1,
   "metadata": {
    "id": "d44TznbgZZgm"
   },
   "outputs": [
    {
     "name": "stdout",
     "output_type": "stream",
     "text": [
      "Downloading data from https://storage.googleapis.com/tensorflow/tf-keras-datasets/train-labels-idx1-ubyte.gz\n",
      "32768/29515 [=================================] - 0s 0us/step\n",
      "40960/29515 [=========================================] - 0s 0us/step\n",
      "Downloading data from https://storage.googleapis.com/tensorflow/tf-keras-datasets/train-images-idx3-ubyte.gz\n",
      "26427392/26421880 [==============================] - 2s 0us/step\n",
      "26435584/26421880 [==============================] - 2s 0us/step\n",
      "Downloading data from https://storage.googleapis.com/tensorflow/tf-keras-datasets/t10k-labels-idx1-ubyte.gz\n",
      "16384/5148 [===============================================================================================] - 0s 0s/step\n",
      "Downloading data from https://storage.googleapis.com/tensorflow/tf-keras-datasets/t10k-images-idx3-ubyte.gz\n",
      "4423680/4422102 [==============================] - 0s 0us/step\n",
      "4431872/4422102 [==============================] - 0s 0us/step\n",
      "x_train shape: (60000, 28, 28) y_train shape: (60000,)\n"
     ]
    }
   ],
   "source": [
    "import tensorflow as tf\n",
    "from tensorflow import keras\n",
    "\n",
    "import numpy as np\n",
    "import matplotlib.pyplot as plt\n",
    "\n",
    "# Load the fashion-mnist pre-shuffled train data and test data\n",
    "(x_train, y_train), (x_test, y_test) = keras.datasets.fashion_mnist.load_data()\n",
    "\n",
    "print(\"x_train shape:\", x_train.shape, \"y_train shape:\", y_train.shape)"
   ]
  },
  {
   "cell_type": "markdown",
   "metadata": {
    "id": "tWORMSC8FDR4"
   },
   "source": [
    "## Visualize the data 반복실행 해보자"
   ]
  },
  {
   "cell_type": "code",
   "execution_count": 3,
   "metadata": {
    "id": "aFe4wHGRFKle"
   },
   "outputs": [
    {
     "name": "stdout",
     "output_type": "stream",
     "text": [
      "x_train shape: (60000, 28, 28) y_train shape: (60000,)\n",
      "60000 train set\n",
      "10000 test set\n",
      "y = 0 T-shirt/top\n"
     ]
    },
    {
     "data": {
      "text/plain": [
       "<matplotlib.image.AxesImage at 0x240439fcb20>"
      ]
     },
     "execution_count": 3,
     "metadata": {},
     "output_type": "execute_result"
    },
    {
     "data": {
      "image/png": "[encoded data removed]",
      "text/plain": [
       "<Figure size 432x288 with 1 Axes>"
      ]
     },
     "metadata": {
      "needs_background": "light"
     },
     "output_type": "display_data"
    }
   ],
   "source": [
    "# Print training set shape - note there are 60,000 training data of image size of 28x28, 60,000 train labels)\n",
    "print(\"x_train shape:\", x_train.shape, \"y_train shape:\", y_train.shape)\n",
    "\n",
    "# Print the number of training and test datasets\n",
    "print(x_train.shape[0], 'train set')\n",
    "print(x_test.shape[0], 'test set')\n",
    "\n",
    "# Define the text labels\n",
    "fashion_mnist_labels = [\"T-shirt/top\",  # index 0\n",
    "                        \"Trouser\",      # index 1\n",
    "                        \"Pullover\",     # index 2 \n",
    "                        \"Dress\",        # index 3 \n",
    "                        \"Coat\",         # index 4\n",
    "                        \"Sandal\",       # index 5\n",
    "                        \"Shirt\",        # index 6 \n",
    "                        \"Sneaker\",      # index 7 \n",
    "                        \"Bag\",          # index 8 \n",
    "                        \"Ankle boot\"]   # index 9\n",
    "\n",
    "# Image index, you can pick any number between 0 and 59,999\n",
    "img_index = np.random.randint(0, 59999)\n",
    "# y_train contains the lables, ranging from 0 to 9\n",
    "label_index = y_train[img_index]\n",
    "# Print the label, for example 2 Pullover\n",
    "print (\"y = \" + str(label_index) + \" \" +(fashion_mnist_labels[label_index]))\n",
    "# # Show one of the images from the training dataset\n",
    "plt.imshow(x_train[img_index], cmap='gray')"
   ]
  },
  {
   "cell_type": "code",
   "execution_count": 4,
   "metadata": {
    "id": "XqUyZdcCe6Ja"
   },
   "outputs": [
    {
     "name": "stdout",
     "output_type": "stream",
     "text": [
      "(60000, 28, 28) (10000, 28, 28) (60000,) (10000,)\n"
     ]
    }
   ],
   "source": [
    "print(x_train.shape, x_test.shape, y_train.shape, y_test.shape)"
   ]
  },
  {
   "cell_type": "markdown",
   "metadata": {
    "id": "Zx-Ee6LHZZgt"
   },
   "source": [
    "##  코딩 task!\n",
    "\n",
    "1. 전처리\n",
    "    * x : sc_____\n",
    "    * y : _______ encoding\n",
    "\n",
    "2. 모델링\n",
    "    * model에 모델 선언\n",
    "    * Input layer에 어떻게 전달할 것인지 고민 필요\n",
    "    * 쭈우우우욱 늘려주는 레이어를 사용할 것 (F______)\n",
    "    * 히든레이어는 최소 3개를 쓸 것!\n",
    "    * 노드 수는 512개를 기본으로 시작\n",
    "    * 자유롭게 바꿔가며 성능을 볼 것\n",
    "\n",
    "3. 학습\n",
    "    * epochs=50, validation_split=0.2\n",
    "    * early stopping"
   ]
  },
  {
   "cell_type": "code",
   "execution_count": 5,
   "metadata": {
    "id": "oRTnVHB7uiHz"
   },
   "outputs": [
    {
     "data": {
      "text/plain": [
       "((0.0, 1.0), (0.0, 1.0))"
      ]
     },
     "execution_count": 5,
     "metadata": {},
     "output_type": "execute_result"
    }
   ],
   "source": [
    "#############\n",
    "# Your Code #\n",
    "#############\n",
    "# x : min-max scaling\n",
    "\n",
    "max_num = x_train.max()\n",
    "min_num = x_train.min()\n",
    "\n",
    "x_train = (x_train - min_num) / (max_num - min_num)\n",
    "x_test = (x_test - min_num) / (max_num - min_num)\n",
    "\n",
    "(x_train.min(), x_train.max()), (x_test.min(), x_test.max())"
   ]
  },
  {
   "cell_type": "code",
   "execution_count": 6,
   "metadata": {
    "id": "uVSPMrDEe4im"
   },
   "outputs": [
    {
     "data": {
      "text/plain": [
       "((60000, 10), (10000, 10))"
      ]
     },
     "execution_count": 6,
     "metadata": {},
     "output_type": "execute_result"
    }
   ],
   "source": [
    "#############\n",
    "# Your Code #\n",
    "#############\n",
    "# y : one-hot encoding\n",
    "\n",
    "from tensorflow.keras.utils import to_categorical\n",
    "\n",
    "y_len = len(set(y_train))\n",
    "\n",
    "y_train = to_categorical(y_train, y_len)\n",
    "y_test = to_categorical(y_test, y_len)\n",
    "\n",
    "y_train.shape, y_test.shape"
   ]
  },
  {
   "cell_type": "code",
   "execution_count": 9,
   "metadata": {
    "id": "ytuvtzg1urGb"
   },
   "outputs": [
    {
     "name": "stdout",
     "output_type": "stream",
     "text": [
      "Model: \"model\"\n",
      "_________________________________________________________________\n",
      " Layer (type)                Output Shape              Param #   \n",
      "=================================================================\n",
      " input (InputLayer)          [(None, 28, 28)]          0         \n",
      "                                                                 \n",
      " flatten (Flatten)           (None, 784)               0         \n",
      "                                                                 \n",
      " hiden1 (Dense)              (None, 512)               401920    \n",
      "                                                                 \n",
      " hiden2 (Dense)              (None, 512)               262656    \n",
      "                                                                 \n",
      " hiden3 (Dense)              (None, 512)               262656    \n",
      "                                                                 \n",
      " output (Dense)              (None, 10)                5130      \n",
      "                                                                 \n",
      "=================================================================\n",
      "Total params: 932,362\n",
      "Trainable params: 932,362\n",
      "Non-trainable params: 0\n",
      "_________________________________________________________________\n"
     ]
    }
   ],
   "source": [
    "#############\n",
    "# Your Code #\n",
    "#############\n",
    "# 모델링\n",
    "\n",
    "keras.backend.clear_session()\n",
    "\n",
    "input_layer = keras.layers.Input(shape=x_train[0].shape, name='input')\n",
    "flatten_layer = keras.layers.Flatten(name='flatten')(input_layer)\n",
    "hiden_layer = keras.layers.Dense(512, activation='relu', name='hiden1')(flatten_layer)\n",
    "hiden_layer = keras.layers.Dense(512, activation='relu', name='hiden2')(hiden_layer)\n",
    "hiden_layer = keras.layers.Dense(512, activation='relu', name='hiden3')(hiden_layer)\n",
    "output_layer = keras.layers.Dense(y_len, activation='softmax', name='output')(hiden_layer)\n",
    "\n",
    "model = keras.models.Model(input_layer, output_layer)\n",
    "\n",
    "model.compile(loss=keras.losses.categorical_crossentropy, metrics=['accuracy'], optimizer=keras.optimizers.Adam())\n",
    "\n",
    "#### 모델 요약\n",
    "model.summary()"
   ]
  },
  {
   "cell_type": "code",
   "execution_count": 10,
   "metadata": {
    "id": "SbCR_wsLvx0c"
   },
   "outputs": [
    {
     "name": "stdout",
     "output_type": "stream",
     "text": [
      "Epoch 1/50\n",
      "1500/1500 [==============================] - 16s 11ms/step - loss: 0.4945 - accuracy: 0.8196 - val_loss: 0.4260 - val_accuracy: 0.8517\n",
      "Epoch 2/50\n",
      "1500/1500 [==============================] - 16s 10ms/step - loss: 0.3794 - accuracy: 0.8603 - val_loss: 0.3847 - val_accuracy: 0.8561\n",
      "Epoch 3/50\n",
      "1500/1500 [==============================] - 16s 11ms/step - loss: 0.3383 - accuracy: 0.8749 - val_loss: 0.3700 - val_accuracy: 0.8683\n",
      "Epoch 4/50\n",
      "1500/1500 [==============================] - 16s 11ms/step - loss: 0.3136 - accuracy: 0.8828 - val_loss: 0.3459 - val_accuracy: 0.8746\n",
      "Epoch 5/50\n",
      "1500/1500 [==============================] - 19s 13ms/step - loss: 0.2942 - accuracy: 0.8892 - val_loss: 0.3470 - val_accuracy: 0.8743\n",
      "Epoch 6/50\n",
      "1500/1500 [==============================] - 16s 11ms/step - loss: 0.2788 - accuracy: 0.8949 - val_loss: 0.3508 - val_accuracy: 0.8763\n",
      "Epoch 7/50\n",
      "1500/1500 [==============================] - 17s 11ms/step - loss: 0.2678 - accuracy: 0.8999 - val_loss: 0.3444 - val_accuracy: 0.8795\n",
      "Epoch 8/50\n",
      "1500/1500 [==============================] - 18s 12ms/step - loss: 0.2557 - accuracy: 0.9049 - val_loss: 0.3497 - val_accuracy: 0.8838\n",
      "Epoch 9/50\n",
      "1500/1500 [==============================] - 16s 11ms/step - loss: 0.2444 - accuracy: 0.9078 - val_loss: 0.3405 - val_accuracy: 0.8828\n",
      "Epoch 10/50\n",
      "1500/1500 [==============================] - 16s 11ms/step - loss: 0.2359 - accuracy: 0.9102 - val_loss: 0.3398 - val_accuracy: 0.8852\n",
      "Epoch 11/50\n",
      "1500/1500 [==============================] - 16s 11ms/step - loss: 0.2278 - accuracy: 0.9139 - val_loss: 0.3536 - val_accuracy: 0.8818\n",
      "Epoch 12/50\n",
      "1500/1500 [==============================] - 16s 11ms/step - loss: 0.2176 - accuracy: 0.9165 - val_loss: 0.3316 - val_accuracy: 0.8904\n",
      "Epoch 13/50\n",
      "1500/1500 [==============================] - 16s 11ms/step - loss: 0.2131 - accuracy: 0.9186 - val_loss: 0.3711 - val_accuracy: 0.8822\n",
      "Epoch 14/50\n",
      "1500/1500 [==============================] - 16s 11ms/step - loss: 0.2011 - accuracy: 0.9232 - val_loss: 0.3688 - val_accuracy: 0.8834\n",
      "Epoch 15/50\n",
      "1500/1500 [==============================] - 16s 11ms/step - loss: 0.2021 - accuracy: 0.9238 - val_loss: 0.3620 - val_accuracy: 0.8849\n",
      "Epoch 16/50\n",
      "1500/1500 [==============================] - 17s 11ms/step - loss: 0.1914 - accuracy: 0.9266 - val_loss: 0.3788 - val_accuracy: 0.8920\n",
      "Epoch 17/50\n",
      "1499/1500 [============================>.] - ETA: 0s - loss: 0.1831 - accuracy: 0.9304Restoring model weights from the end of the best epoch: 12.\n",
      "1500/1500 [==============================] - 18s 12ms/step - loss: 0.1831 - accuracy: 0.9305 - val_loss: 0.3720 - val_accuracy: 0.8875\n",
      "Epoch 17: early stopping\n"
     ]
    },
    {
     "data": {
      "text/plain": [
       "<keras.callbacks.History at 0x24042128ee0>"
      ]
     },
     "execution_count": 10,
     "metadata": {},
     "output_type": "execute_result"
    }
   ],
   "source": [
    "#############\n",
    "# Your Code #\n",
    "#############\n",
    "# 모델 훈련\n",
    "\n",
    "es = keras.callbacks.EarlyStopping(monitor='val_loss', min_delta=0, patience=5, verbose=1, restore_best_weights=True)\n",
    "\n",
    "model.fit(x_train, y_train, epochs=50, validation_split=0.2, verbose=1, callbacks=es)"
   ]
  },
  {
   "cell_type": "markdown",
   "metadata": {
    "id": "oJv7XEk10bOv"
   },
   "source": [
    "## Visualize prediction\n",
    "\n",
    "위에서 지키라고 한 사항들 안지키면 동작을 안할껄...?"
   ]
  },
  {
   "cell_type": "code",
   "execution_count": 11,
   "metadata": {
    "id": "L_B3UemLh6ON"
   },
   "outputs": [
    {
     "name": "stdout",
     "output_type": "stream",
     "text": [
      "\n",
      " Test accuracy: 0.886900007724762\n"
     ]
    }
   ],
   "source": [
    "score = model.evaluate(x_test, y_test, verbose=0)\n",
    "\n",
    "# Print test accuracy\n",
    "print('\\n', 'Test accuracy:', score[1])\n",
    "y_hat = model.predict(x_test).argmax(axis=1)"
   ]
  },
  {
   "cell_type": "code",
   "execution_count": 12,
   "metadata": {
    "id": "QwNmlfIC0YxM"
   },
   "outputs": [
    {
     "data": {
      "image/png": "[encoded data removed]",
      "text/plain": [
       "<Figure size 1440x576 with 15 Axes>"
      ]
     },
     "metadata": {},
     "output_type": "display_data"
    }
   ],
   "source": [
    "####### 반복실행해보자\n",
    "\n",
    "# Plot a random sample of 10 test images, their predicted labels and ground truth\n",
    "figure = plt.figure(figsize=(20, 8))\n",
    "for i, index in enumerate(np.random.choice(x_test.shape[0], size=15, replace=False)):\n",
    "    ax = figure.add_subplot(3, 5, i + 1, xticks=[], yticks=[])\n",
    "    # Display each image\n",
    "    ax.imshow(np.squeeze(x_test[index].reshape([28,-1]) ) )\n",
    "    predict_index = y_hat[index]\n",
    "    true_index = y_test[index].argmax(axis=0)\n",
    "    # Set the title for each image\n",
    "    ax.set_title(\"{} ({})\".format(fashion_mnist_labels[predict_index], \n",
    "                                  fashion_mnist_labels[true_index]),\n",
    "                                  color=(\"green\" if predict_index == true_index else \"red\"))"
   ]
  }
 ],
 "metadata": {
  "accelerator": "GPU",
  "colab": {
   "collapsed_sections": [],
   "name": "2_3_ANN_Fashion_MNIST.ipynb",
   "provenance": []
  },
  "kernelspec": {
   "display_name": "Python 3",
   "language": "python",
   "name": "python3"
  },
  "language_info": {
   "codemirror_mode": {
    "name": "ipython",
    "version": 3
   },
   "file_extension": ".py",
   "mimetype": "text/x-python",
   "name": "python",
   "nbconvert_exporter": "python",
   "pygments_lexer": "ipython3",
   "version": "3.8.8"
  }
 },
 "nbformat": 4,
 "nbformat_minor": 1
}
