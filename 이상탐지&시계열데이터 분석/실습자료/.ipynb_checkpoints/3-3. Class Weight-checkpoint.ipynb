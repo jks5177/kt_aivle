{
 "cells": [
  {
   "cell_type": "markdown",
   "metadata": {
    "id": "H2PiE6pYmBv7"
   },
   "source": [
    "# Class Weight\n",
    "\n"
   ]
  },
  {
   "cell_type": "markdown",
   "metadata": {
    "id": "Wyg1gRj8ZxMK"
   },
   "source": [
    "## 0.환경준비"
   ]
  },
  {
   "cell_type": "markdown",
   "metadata": {
    "id": "dSsCFlrNaQQW"
   },
   "source": [
    "### 0.1 라이브러리 로딩"
   ]
  },
  {
   "cell_type": "code",
   "execution_count": 1,
   "metadata": {
    "id": "6g46eHDnW2QX"
   },
   "outputs": [],
   "source": [
    "import pandas as pd\n",
    "import numpy as np\n",
    "import matplotlib.pyplot as plt\n",
    "import seaborn as sns\n",
    "\n",
    "from sklearn.model_selection import train_test_split\n",
    "\n",
    "import warnings\n",
    "warnings.simplefilter(action='ignore', category=FutureWarning)"
   ]
  },
  {
   "cell_type": "markdown",
   "metadata": {
    "id": "oivLe5kRaO8V"
   },
   "source": [
    "### 0.2 데이터 로딩"
   ]
  },
  {
   "cell_type": "markdown",
   "metadata": {
    "id": "Ly9-R3Pyd-2L"
   },
   "source": [
    "> 예제 데이터는 공정간 불량을 예측하는 데이터입니다.  \n",
    "여기서는 class imbalance 에 대한 샘플링과 성능에만 초점을 맞추겠습니다.\n"
   ]
  },
  {
   "cell_type": "code",
   "execution_count": 2,
   "metadata": {
    "id": "4LQpkcFgm50W"
   },
   "outputs": [],
   "source": [
    "# data data\n",
    "path = \"https://raw.githubusercontent.com/DA4BAM/dataset/master/Attrition2.csv\"\n",
    "data = pd.read_csv(path)"
   ]
  },
  {
   "cell_type": "markdown",
   "metadata": {
    "id": "jECAaPceva4m"
   },
   "source": [
    "## 1.데이터 탐색"
   ]
  },
  {
   "cell_type": "code",
   "execution_count": 3,
   "metadata": {
    "id": "ec3xuHRhva4n"
   },
   "outputs": [
    {
     "data": {
      "text/plain": [
       "(1150, 17)"
      ]
     },
     "execution_count": 3,
     "metadata": {},
     "output_type": "execute_result"
    }
   ],
   "source": [
    "data.shape"
   ]
  },
  {
   "cell_type": "code",
   "execution_count": 4,
   "metadata": {
    "id": "K6toXun6uptd"
   },
   "outputs": [
    {
     "data": {
      "text/html": [
       "<div>\n",
       "<style scoped>\n",
       "    .dataframe tbody tr th:only-of-type {\n",
       "        vertical-align: middle;\n",
       "    }\n",
       "\n",
       "    .dataframe tbody tr th {\n",
       "        vertical-align: top;\n",
       "    }\n",
       "\n",
       "    .dataframe thead th {\n",
       "        text-align: right;\n",
       "    }\n",
       "</style>\n",
       "<table border=\"1\" class=\"dataframe\">\n",
       "  <thead>\n",
       "    <tr style=\"text-align: right;\">\n",
       "      <th></th>\n",
       "      <th>Attrition</th>\n",
       "      <th>Age</th>\n",
       "      <th>Department</th>\n",
       "      <th>DistanceFromHome</th>\n",
       "      <th>Education</th>\n",
       "      <th>EducationField</th>\n",
       "      <th>Gender</th>\n",
       "      <th>JobRole</th>\n",
       "      <th>JobSatisfaction</th>\n",
       "      <th>MaritalStatus</th>\n",
       "      <th>MonthlyIncome</th>\n",
       "      <th>NumCompaniesWorked</th>\n",
       "      <th>RelationshipSatisfaction</th>\n",
       "      <th>TotalWorkingYears</th>\n",
       "      <th>TrainingTimesLastYear</th>\n",
       "      <th>WorkLifeBalance</th>\n",
       "      <th>YearsAtCompany</th>\n",
       "    </tr>\n",
       "  </thead>\n",
       "  <tbody>\n",
       "    <tr>\n",
       "      <th>0</th>\n",
       "      <td>0</td>\n",
       "      <td>28</td>\n",
       "      <td>Research &amp; Development</td>\n",
       "      <td>1</td>\n",
       "      <td>3</td>\n",
       "      <td>Medical</td>\n",
       "      <td>Female</td>\n",
       "      <td>Research Scientist</td>\n",
       "      <td>1</td>\n",
       "      <td>Married</td>\n",
       "      <td>3591</td>\n",
       "      <td>1</td>\n",
       "      <td>3</td>\n",
       "      <td>3</td>\n",
       "      <td>3</td>\n",
       "      <td>3</td>\n",
       "      <td>3</td>\n",
       "    </tr>\n",
       "    <tr>\n",
       "      <th>1</th>\n",
       "      <td>1</td>\n",
       "      <td>37</td>\n",
       "      <td>Research &amp; Development</td>\n",
       "      <td>2</td>\n",
       "      <td>2</td>\n",
       "      <td>Other</td>\n",
       "      <td>Male</td>\n",
       "      <td>Laboratory Technician</td>\n",
       "      <td>3</td>\n",
       "      <td>Single</td>\n",
       "      <td>2090</td>\n",
       "      <td>6</td>\n",
       "      <td>2</td>\n",
       "      <td>7</td>\n",
       "      <td>3</td>\n",
       "      <td>3</td>\n",
       "      <td>0</td>\n",
       "    </tr>\n",
       "    <tr>\n",
       "      <th>2</th>\n",
       "      <td>0</td>\n",
       "      <td>27</td>\n",
       "      <td>Research &amp; Development</td>\n",
       "      <td>8</td>\n",
       "      <td>5</td>\n",
       "      <td>Life Sciences</td>\n",
       "      <td>Male</td>\n",
       "      <td>Laboratory Technician</td>\n",
       "      <td>3</td>\n",
       "      <td>Married</td>\n",
       "      <td>4621</td>\n",
       "      <td>1</td>\n",
       "      <td>4</td>\n",
       "      <td>3</td>\n",
       "      <td>4</td>\n",
       "      <td>3</td>\n",
       "      <td>3</td>\n",
       "    </tr>\n",
       "    <tr>\n",
       "      <th>3</th>\n",
       "      <td>0</td>\n",
       "      <td>18</td>\n",
       "      <td>Research &amp; Development</td>\n",
       "      <td>1</td>\n",
       "      <td>3</td>\n",
       "      <td>Life Sciences</td>\n",
       "      <td>Female</td>\n",
       "      <td>Laboratory Technician</td>\n",
       "      <td>4</td>\n",
       "      <td>Single</td>\n",
       "      <td>1611</td>\n",
       "      <td>1</td>\n",
       "      <td>3</td>\n",
       "      <td>0</td>\n",
       "      <td>5</td>\n",
       "      <td>4</td>\n",
       "      <td>0</td>\n",
       "    </tr>\n",
       "    <tr>\n",
       "      <th>4</th>\n",
       "      <td>0</td>\n",
       "      <td>29</td>\n",
       "      <td>Research &amp; Development</td>\n",
       "      <td>9</td>\n",
       "      <td>3</td>\n",
       "      <td>Life Sciences</td>\n",
       "      <td>Male</td>\n",
       "      <td>Research Scientist</td>\n",
       "      <td>3</td>\n",
       "      <td>Married</td>\n",
       "      <td>2451</td>\n",
       "      <td>6</td>\n",
       "      <td>1</td>\n",
       "      <td>5</td>\n",
       "      <td>2</td>\n",
       "      <td>2</td>\n",
       "      <td>1</td>\n",
       "    </tr>\n",
       "  </tbody>\n",
       "</table>\n",
       "</div>"
      ],
      "text/plain": [
       "   Attrition  Age              Department  DistanceFromHome  Education  \\\n",
       "0          0   28  Research & Development                 1          3   \n",
       "1          1   37  Research & Development                 2          2   \n",
       "2          0   27  Research & Development                 8          5   \n",
       "3          0   18  Research & Development                 1          3   \n",
       "4          0   29  Research & Development                 9          3   \n",
       "\n",
       "  EducationField  Gender                JobRole  JobSatisfaction  \\\n",
       "0        Medical  Female     Research Scientist                1   \n",
       "1          Other    Male  Laboratory Technician                3   \n",
       "2  Life Sciences    Male  Laboratory Technician                3   \n",
       "3  Life Sciences  Female  Laboratory Technician                4   \n",
       "4  Life Sciences    Male     Research Scientist                3   \n",
       "\n",
       "  MaritalStatus  MonthlyIncome  NumCompaniesWorked  RelationshipSatisfaction  \\\n",
       "0       Married           3591                   1                         3   \n",
       "1        Single           2090                   6                         2   \n",
       "2       Married           4621                   1                         4   \n",
       "3        Single           1611                   1                         3   \n",
       "4       Married           2451                   6                         1   \n",
       "\n",
       "   TotalWorkingYears  TrainingTimesLastYear  WorkLifeBalance  YearsAtCompany  \n",
       "0                  3                      3                3               3  \n",
       "1                  7                      3                3               0  \n",
       "2                  3                      4                3               3  \n",
       "3                  0                      5                4               0  \n",
       "4                  5                      2                2               1  "
      ]
     },
     "execution_count": 4,
     "metadata": {},
     "output_type": "execute_result"
    }
   ],
   "source": [
    "data.head()"
   ]
  },
  {
   "cell_type": "markdown",
   "metadata": {
    "id": "hDC9Z8vdP-TU"
   },
   "source": [
    "## 2.데이터 준비"
   ]
  },
  {
   "cell_type": "markdown",
   "metadata": {
    "id": "fE44VnZ7r4At"
   },
   "source": [
    "### 2.1 x, y 로 나누기"
   ]
  },
  {
   "cell_type": "code",
   "execution_count": 5,
   "metadata": {
    "id": "j7C7QYLAr6bq"
   },
   "outputs": [],
   "source": [
    "target = 'Attrition'\n",
    "x = data.drop(target, axis = 1)\n",
    "y = data.loc[:,target]"
   ]
  },
  {
   "cell_type": "markdown",
   "metadata": {
    "id": "FXPC5kwnr9Dt"
   },
   "source": [
    "### 2.2 가변수화\n"
   ]
  },
  {
   "cell_type": "code",
   "execution_count": 6,
   "metadata": {
    "id": "DVqEHhYFT7eQ"
   },
   "outputs": [],
   "source": [
    "dummy_vars = ['Education','Department','EducationField','Gender','JobRole','JobSatisfaction','MaritalStatus',\n",
    "              'RelationshipSatisfaction','WorkLifeBalance'] # 가변수화 대상 변수 이름 리스트 만든다\n",
    "x = pd.get_dummies(x, columns = dummy_vars, drop_first=True) "
   ]
  },
  {
   "cell_type": "markdown",
   "metadata": {
    "id": "s0Fg_JoHrwhG"
   },
   "source": [
    "### 2.3 데이터 분할"
   ]
  },
  {
   "cell_type": "code",
   "execution_count": 7,
   "metadata": {
    "id": "mENOR-4QP-TU"
   },
   "outputs": [],
   "source": [
    "x_train, x_val, y_train, y_val = train_test_split(x, y, test_size = .3, random_state=2022)"
   ]
  },
  {
   "cell_type": "code",
   "execution_count": 8,
   "metadata": {
    "id": "CvCO5Pru_vuo"
   },
   "outputs": [
    {
     "data": {
      "text/plain": [
       "((805, 38), (805,))"
      ]
     },
     "execution_count": 8,
     "metadata": {},
     "output_type": "execute_result"
    }
   ],
   "source": [
    "x_train.shape, y_train.shape"
   ]
  },
  {
   "cell_type": "markdown",
   "metadata": {
    "id": "LAzxx0nkh1LX"
   },
   "source": [
    "## 3.모델링 + class weight 조정하기"
   ]
  },
  {
   "cell_type": "code",
   "execution_count": 9,
   "metadata": {
    "id": "6VkF0-iXijKk"
   },
   "outputs": [],
   "source": [
    "# 필요한 라이브러리, 함수들을 불러옵시다.\n",
    "from sklearn.linear_model import LogisticRegression\n",
    "from sklearn.tree import DecisionTreeClassifier, plot_tree\n",
    "from sklearn.metrics import *\n",
    "\n",
    "from sklearn.model_selection import GridSearchCV, StratifiedKFold"
   ]
  },
  {
   "cell_type": "markdown",
   "metadata": {
    "id": "Z1XvZlGFcHbn"
   },
   "source": [
    "### 1) 기본 모델링\n",
    "\n",
    "* 로지스틱 회귀 + 데이터 그대로 이용"
   ]
  },
  {
   "cell_type": "code",
   "execution_count": 10,
   "metadata": {
    "id": "01zxVgqYI797"
   },
   "outputs": [
    {
     "name": "stdout",
     "output_type": "stream",
     "text": [
      "[[321   2]\n",
      " [ 20   2]]\n",
      "-------------------------------------------------------\n",
      "              precision    recall  f1-score   support\n",
      "\n",
      "           0       0.94      0.99      0.97       323\n",
      "           1       0.50      0.09      0.15        22\n",
      "\n",
      "    accuracy                           0.94       345\n",
      "   macro avg       0.72      0.54      0.56       345\n",
      "weighted avg       0.91      0.94      0.92       345\n",
      "\n"
     ]
    }
   ],
   "source": [
    "model = LogisticRegression(solver = 'liblinear')\n",
    "model.fit(x_train, y_train)\n",
    "pred = model.predict(x_val)\n",
    "\n",
    "print(confusion_matrix(y_val, pred))\n",
    "print('-' * 55)\n",
    "print(classification_report(y_val, pred))"
   ]
  },
  {
   "cell_type": "markdown",
   "metadata": {
    "id": "_FREl9UnaMm6"
   },
   "source": [
    "### 2) Class Weight 조정"
   ]
  },
  {
   "cell_type": "code",
   "execution_count": null,
   "metadata": {
    "id": "-qgbfUcXZ5go"
   },
   "outputs": [],
   "source": [
    "def loss(y, y_hat):\n",
    "    loss = -np.mean(y*(np.log(y_hat)) - (1-y)*np.log(1-y_hat))\n",
    "    return loss\n",
    "\n"
   ]
  },
  {
   "cell_type": "markdown",
   "metadata": {
    "id": "4iSZtiKdIVYS"
   },
   "source": [
    "#### ① 로지스틱 회귀\n",
    "> * class_weight = 'balanced'\n",
    "* class_weight = 비율로 수동 조절"
   ]
  },
  {
   "cell_type": "code",
   "execution_count": null,
   "metadata": {
    "id": "3gjF85SNIYX_"
   },
   "outputs": [],
   "source": [
    "# class_weight = 'balanced'\n",
    " \n",
    "model = LogisticRegression(solver = 'liblinear', class_weight='balanced')\n",
    "model.fit(x_train, y_train)\n",
    "pred = model.predict(x_val)\n",
    "\n",
    "print(confusion_matrix(y_val, pred))\n",
    "print('-' * 55)\n",
    "print(classification_report(y_val, pred))"
   ]
  },
  {
   "cell_type": "code",
   "execution_count": null,
   "metadata": {
    "id": "TmqJXQZwgVIT"
   },
   "outputs": [],
   "source": [
    "result = []\n",
    "\n",
    "for i in range(50):\n",
    "    x_train, x_val, y_train, y_val = train_test_split(x, y, test_size = .4)\n",
    "    model = LogisticRegression(solver = 'liblinear', class_weight='balanced')\n",
    "    model.fit(x_train, y_train)\n",
    "    pred = model.predict(x_val)\n",
    "    result.append(f1_score(y_val, pred, pos_label=1))\n",
    "    print(i)"
   ]
  },
  {
   "cell_type": "code",
   "execution_count": null,
   "metadata": {
    "id": "RKqVcBqfgkwD"
   },
   "outputs": [],
   "source": [
    "plt.figure(figsize=(12, 8))\n",
    "sns.kdeplot(result)\n",
    "plt.title('F1 Score')\n",
    "plt.grid()\n",
    "plt.show()"
   ]
  },
  {
   "cell_type": "code",
   "execution_count": null,
   "metadata": {
    "id": "w1D5rILVgvHM"
   },
   "outputs": [],
   "source": [
    "# class_weight = 비율로 수동 조절하도록 파라미터 설정\n",
    "weights = np.linspace(0.0,.99,100)\n",
    "params = {'class_weight': [{0:x, 1:1.0-x} for x in weights]}\n",
    "params"
   ]
  },
  {
   "cell_type": "code",
   "execution_count": null,
   "metadata": {
    "id": "SMexkzTBedVd"
   },
   "outputs": [],
   "source": [
    "# Grid Search : 그리드서치로 튜닝\n",
    "# StratifiedKFold : 층화추출\n",
    "model = GridSearchCV(LogisticRegression(solver = 'liblinear'), params\n",
    "                    , cv= StratifiedKFold(5), scoring='f1')\n",
    "model.fit(x_train, y_train)"
   ]
  },
  {
   "cell_type": "code",
   "execution_count": null,
   "metadata": {
    "id": "Tt-611DHwFFt"
   },
   "outputs": [],
   "source": [
    "y_train.value_counts()/y_train.shape[0]"
   ]
  },
  {
   "cell_type": "code",
   "execution_count": null,
   "metadata": {
    "id": "y2mjBYUJEASR"
   },
   "outputs": [],
   "source": [
    "model.cv_results_"
   ]
  },
  {
   "cell_type": "code",
   "execution_count": null,
   "metadata": {
    "id": "gB7j4EfPqpBp"
   },
   "outputs": [],
   "source": [
    "weight_1 = 1.0 - weights\n",
    "f1 = model.cv_results_['mean_test_score']\n",
    "\n",
    "print(model.best_params_)\n",
    "plt.figure(figsize=(12, 8))\n",
    "plt.plot(weight_1, f1)\n",
    "plt.ylabel('F1 Score')\n",
    "plt.xlabel('Class 1 weight')\n",
    "plt.grid()\n",
    "plt.show()"
   ]
  },
  {
   "cell_type": "markdown",
   "metadata": {
    "id": "Zq16p6wV84Rv"
   },
   "source": [
    "#### ③ 추가 실험\n",
    "\n",
    "* 이해하기, 사용하기 쉬운 데이터로 몇가지 실험을 해 봅시다."
   ]
  },
  {
   "cell_type": "code",
   "execution_count": null,
   "metadata": {
    "id": "u_BM-LZm8-Qb"
   },
   "outputs": [],
   "source": [
    "path = 'https://raw.githubusercontent.com/DA4BAM/dataset/master/titanic.1.csv'\n",
    "titanic = pd.read_csv(path, usecols=['Survived', 'Age', 'Fare'])\n",
    "target = 'Survived'\n",
    "x1 = titanic.drop(target, axis = 1)\n",
    "y1 = titanic.loc[:, target]"
   ]
  },
  {
   "cell_type": "code",
   "execution_count": null,
   "metadata": {
    "id": "MDk5Eujy9ou4"
   },
   "outputs": [],
   "source": [
    "# 클래스별 비율\n",
    "c_rate = np.bincount(y1) / y1.shape[0]\n",
    "c_rate"
   ]
  },
  {
   "cell_type": "code",
   "execution_count": null,
   "metadata": {
    "id": "uOcay1N0917A"
   },
   "outputs": [],
   "source": [
    "# 실험1 : 아무것도 없으면 1:1 ?\n",
    "m1 = LogisticRegression(solver = 'liblinear')\n",
    "wt = 0.5\n",
    "m2 = LogisticRegression(solver = 'liblinear', class_weight= {0:wt, 1:1-wt})\n",
    "\n",
    "# 실험2 : balanced는 클래스비율 역으로 지정?\n",
    "m3 = LogisticRegression(solver = 'liblinear', class_weight='balanced')\n",
    "wt = c_rate[1]\n",
    "m4 = LogisticRegression(solver = 'liblinear', class_weight= {0:wt, 1:1-wt})\n",
    "\n",
    "m1.fit(x1, y1)\n",
    "m2.fit(x1, y1)\n",
    "m3.fit(x1, y1)\n",
    "m4.fit(x1, y1)"
   ]
  },
  {
   "cell_type": "code",
   "execution_count": null,
   "metadata": {
    "id": "d9POXeDw-qJ8"
   },
   "outputs": [],
   "source": [
    "print(list(x1))\n",
    "print('-'*50)\n",
    "print(m1.coef_, m1.intercept_)\n",
    "print(m2.coef_, m2.intercept_)\n",
    "print('-'*50)\n",
    "print(m3.coef_, m3.intercept_)\n",
    "print(m4.coef_, m4.intercept_)"
   ]
  },
  {
   "cell_type": "markdown",
   "metadata": {
    "id": "GrGEwuWBsyV4"
   },
   "source": [
    "#### ② Decision Tree\n",
    "> * class_weight = 'balanced'\n",
    "* class_weight = 비율로 수동 조절"
   ]
  },
  {
   "cell_type": "code",
   "execution_count": null,
   "metadata": {
    "id": "oLQMKVB1HTIk"
   },
   "outputs": [],
   "source": [
    "# 실험1 \n",
    "m1 = DecisionTreeClassifier(max_depth = 2)\n",
    "\n",
    "wt = 0.5\n",
    "m2 = DecisionTreeClassifier(max_depth = 2, class_weight= {0:wt, 1:1-wt})\n",
    "\n",
    "m1.fit(x1, y1)\n",
    "m2.fit(x1, y1)\n",
    "\n",
    "plt.figure(figsize = (10,6))\n",
    "plot_tree(m1, feature_names = list(x1), class_names = ['Died', 'Survived'], rounded = True, filled = True)\n",
    "plt.show()\n",
    "plt.figure(figsize = (10,6))\n",
    "plot_tree(m2, feature_names = list(x1), class_names = ['Died', 'Survived'], rounded = True, filled = True)\n",
    "plt.show()"
   ]
  },
  {
   "cell_type": "code",
   "execution_count": null,
   "metadata": {
    "id": "gUKo2QY2NNfk"
   },
   "outputs": [],
   "source": [
    "c_rate = np.bincount(y1) / y1.shape[0]\n",
    "c_rate"
   ]
  },
  {
   "cell_type": "code",
   "execution_count": null,
   "metadata": {
    "id": "qCZU8J-5JpGa"
   },
   "outputs": [],
   "source": [
    "# 실험2 : balanced\n",
    "m3 = DecisionTreeClassifier(max_depth = 2, class_weight='balanced')\n",
    "\n",
    "wt = c_rate[1]\n",
    "m4 = DecisionTreeClassifier(max_depth = 2, class_weight= {0:wt, 1:1-wt})\n",
    "\n",
    "m3.fit(x1, y1)\n",
    "m4.fit(x1, y1)\n",
    "\n",
    "plt.figure(figsize = (10,6))\n",
    "plot_tree(m3, feature_names = list(x1), class_names = ['Died', 'Survived'], rounded = True, filled = True)\n",
    "plt.show()\n",
    "plt.figure(figsize = (10,6))\n",
    "plot_tree(m4, feature_names = list(x1), class_names = ['Died', 'Survived'], rounded = True, filled = True)\n",
    "plt.show()"
   ]
  },
  {
   "cell_type": "markdown",
   "metadata": {
    "id": "f4m9CpAlDYUx"
   },
   "source": [
    "## 4.실습 : Semiconductor manufacturing process dataset\n"
   ]
  },
  {
   "cell_type": "markdown",
   "metadata": {
    "id": "KKJNXBfDPOoT"
   },
   "source": [
    "![](https://assets.pandaily.com/uploads/2021/10/semiconductor.png)"
   ]
  },
  {
   "cell_type": "markdown",
   "metadata": {
    "id": "47h5Hv4JQOgE"
   },
   "source": [
    "* 반도체 제조 공정은 시점별로 수많은 센서로부터 정보를 수집하여 공정을 감시합니다. \n",
    "* 센서정보와 함께 공정간 발생된 불량품에 대한 정보를 저장하였습니다.\n",
    "* 불량을 예측해 봅시다."
   ]
  },
  {
   "cell_type": "markdown",
   "metadata": {
    "id": "QdJ4vZmRDYUx"
   },
   "source": [
    "### 4.1 데이터 준비"
   ]
  },
  {
   "cell_type": "markdown",
   "metadata": {
    "id": "P96JFMWpDYUy"
   },
   "source": [
    "* 데이터 로딩"
   ]
  },
  {
   "cell_type": "code",
   "execution_count": null,
   "metadata": {
    "id": "kqFX10WKDYUy"
   },
   "outputs": [],
   "source": [
    "path = \"https://raw.githubusercontent.com/DA4BAM/dataset/master/secom_9.csv\"\n",
    "data = pd.read_csv(path)\n",
    "\n",
    "data['label'] = 0\n",
    "data.loc[data['defeat']== 'defeat', 'label']= 1\n",
    "data.drop(['datetime','defeat'], axis = 1, inplace=True)\n",
    "data.head()"
   ]
  },
  {
   "cell_type": "markdown",
   "metadata": {
    "id": "Tv7I7P8nQioh"
   },
   "source": [
    "변수 정보 \n",
    "* label : 1 - 불량, 0 - 정상\n",
    "* v### : 센서값들\n"
   ]
  },
  {
   "cell_type": "code",
   "execution_count": null,
   "metadata": {
    "id": "6K9iIhabQzXS"
   },
   "outputs": [],
   "source": [
    "target = 'label'"
   ]
  },
  {
   "cell_type": "code",
   "execution_count": null,
   "metadata": {
    "id": "r6pjfmqLQ1UK"
   },
   "outputs": [],
   "source": [
    "data[target].value_counts() / data.shape[0]"
   ]
  },
  {
   "cell_type": "markdown",
   "metadata": {
    "id": "Qs56G2oKQskZ"
   },
   "source": [
    "* x, y로 나누기 "
   ]
  },
  {
   "cell_type": "code",
   "execution_count": null,
   "metadata": {
    "id": "M6xgH4RtDYUy"
   },
   "outputs": [],
   "source": [
    "x = data.drop(target, axis = 1)\n",
    "y = data.loc[:, target]"
   ]
  },
  {
   "cell_type": "markdown",
   "metadata": {
    "id": "xN4Pa1qp8uwm"
   },
   "source": [
    "* 가변수화 Dummy Variable"
   ]
  },
  {
   "cell_type": "markdown",
   "metadata": {
    "id": "qwDykgEY8rHx"
   },
   "source": [
    "* 데이터 분할\n",
    "    * 이미 test set은 분할되어 있다고 가정합니다.\n",
    "    * 주어진 데이터를 train set : validation set 으로 분할"
   ]
  },
  {
   "cell_type": "code",
   "execution_count": null,
   "metadata": {
    "id": "Boebo_Fc8rHy"
   },
   "outputs": [],
   "source": [
    "from sklearn.model_selection import train_test_split"
   ]
  },
  {
   "cell_type": "code",
   "execution_count": null,
   "metadata": {
    "id": "tjglVI_a8rHy"
   },
   "outputs": [],
   "source": [
    "# train_val에서 train : val = 8 : 2\n",
    "x_train, x_val, y_train, y_val = train_test_split(x, y, test_size=0.2, random_state = 2022)"
   ]
  },
  {
   "cell_type": "code",
   "execution_count": null,
   "metadata": {
    "id": "AGYSbizf8rHy"
   },
   "outputs": [],
   "source": [
    "print(x_train.shape, x_val.shape)"
   ]
  },
  {
   "cell_type": "markdown",
   "metadata": {
    "id": "xKqqwwgOcr6l"
   },
   "source": [
    "### 2)기본모델링\n",
    "> * 데이터셋을 그대로 모델링을 수행하시오.\n",
    "* 알고리즘 : 로지스틱회귀, decision tree 중 하나 사용.\n",
    "* validate set으로 예측하고 평가(classification report, f1 score)해 봅시다.\n"
   ]
  },
  {
   "cell_type": "code",
   "execution_count": null,
   "metadata": {
    "id": "xVnwu6wmfD7N"
   },
   "outputs": [],
   "source": [
    "model = LogisticRegression(solver = 'liblinear')\n",
    "model.fit(x_train, y_train)\n",
    "pred = model.predict(x_val)\n",
    "\n",
    "print(confusion_matrix(y_val, pred))\n",
    "print('-' * 55)\n",
    "print(classification_report(y_val, pred))"
   ]
  },
  {
   "cell_type": "markdown",
   "metadata": {
    "id": "kp0fafqDk8Yz"
   },
   "source": [
    "### 2)모델링 + class weight 조정\n",
    "> * class_weight 값을 지정해서 모델링 해 봅시다.\n",
    "* 알고리즘 : 비교를 위해서 기본모델링에 사용한 알고리즘 사용\n",
    "* validate set으로 예측하고 평가(classification report, f1 score)해 봅시다.\n",
    "* resampling 후 수행한 모델과 성능에 대해 비교해 봅시다."
   ]
  },
  {
   "cell_type": "code",
   "execution_count": null,
   "metadata": {
    "id": "4G45yhmJk8Y0"
   },
   "outputs": [],
   "source": [
    "# class_weight = 'balanced'\n",
    " \n"
   ]
  },
  {
   "cell_type": "markdown",
   "metadata": {
    "id": "_SRbA-_0HCmp"
   },
   "source": [
    "* 로지스틱 회귀로 반복 실험"
   ]
  },
  {
   "cell_type": "code",
   "execution_count": null,
   "metadata": {
    "id": "Wqircvatk8Y0"
   },
   "outputs": [],
   "source": []
  },
  {
   "cell_type": "code",
   "execution_count": null,
   "metadata": {
    "id": "2MvqB3FVl2gy"
   },
   "outputs": [],
   "source": []
  },
  {
   "cell_type": "markdown",
   "metadata": {
    "id": "hyr516NoHMdI"
   },
   "source": [
    "* GridSearch로 class weight 조절"
   ]
  },
  {
   "cell_type": "code",
   "execution_count": null,
   "metadata": {
    "id": "MF63oy62HTRa"
   },
   "outputs": [],
   "source": []
  },
  {
   "cell_type": "code",
   "execution_count": null,
   "metadata": {
    "id": "Dux45502HTRb"
   },
   "outputs": [],
   "source": []
  },
  {
   "cell_type": "code",
   "execution_count": null,
   "metadata": {
    "id": "GaH3SAsrHTRc"
   },
   "outputs": [],
   "source": []
  },
  {
   "cell_type": "code",
   "execution_count": null,
   "metadata": {
    "id": "JfciFu9lHTRd"
   },
   "outputs": [],
   "source": []
  },
  {
   "cell_type": "code",
   "execution_count": null,
   "metadata": {
    "id": "tQzjevwrHTRe"
   },
   "outputs": [],
   "source": []
  },
  {
   "cell_type": "code",
   "execution_count": null,
   "metadata": {
    "id": "wVbOmHZj-dxh"
   },
   "outputs": [],
   "source": []
  }
 ],
 "metadata": {
  "colab": {
   "collapsed_sections": [],
   "name": "3-3. Class Weight_참조.ipynb",
   "provenance": [],
   "toc_visible": true
  },
  "kernelspec": {
   "display_name": "Python 3",
   "language": "python",
   "name": "python3"
  },
  "language_info": {
   "codemirror_mode": {
    "name": "ipython",
    "version": 3
   },
   "file_extension": ".py",
   "mimetype": "text/x-python",
   "name": "python",
   "nbconvert_exporter": "python",
   "pygments_lexer": "ipython3",
   "version": "3.8.8"
  }
 },
 "nbformat": 4,
 "nbformat_minor": 1
}
