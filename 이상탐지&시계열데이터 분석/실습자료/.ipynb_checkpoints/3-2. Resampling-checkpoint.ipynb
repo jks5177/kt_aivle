{
 "cells": [
  {
   "cell_type": "markdown",
   "metadata": {
    "id": "H2PiE6pYmBv7"
   },
   "source": [
    "# Resampling\n",
    "\n"
   ]
  },
  {
   "cell_type": "markdown",
   "metadata": {
    "id": "Wyg1gRj8ZxMK"
   },
   "source": [
    "## 0.환경준비"
   ]
  },
  {
   "cell_type": "markdown",
   "metadata": {
    "id": "dSsCFlrNaQQW"
   },
   "source": [
    "### 0.1 라이브러리 로딩"
   ]
  },
  {
   "cell_type": "code",
   "execution_count": 1,
   "metadata": {
    "id": "6g46eHDnW2QX"
   },
   "outputs": [],
   "source": [
    "import pandas as pd\n",
    "import numpy as np\n",
    "import matplotlib.pyplot as plt\n",
    "import seaborn as sns\n",
    "\n",
    "import warnings\n",
    "warnings.simplefilter(action='ignore', category=FutureWarning)"
   ]
  },
  {
   "cell_type": "markdown",
   "metadata": {
    "id": "oivLe5kRaO8V"
   },
   "source": [
    "### 0.2 데이터 로딩"
   ]
  },
  {
   "cell_type": "markdown",
   "metadata": {
    "id": "Ly9-R3Pyd-2L"
   },
   "source": [
    "> 예제 데이터는 반도체 공정간 불량을 예측하는 데이터입니다.  \n",
    "여기서는 class imbalance 에 대한 샘플링과 성능에만 초점을 맞추겠습니다.\n"
   ]
  },
  {
   "cell_type": "code",
   "execution_count": 2,
   "metadata": {
    "id": "4LQpkcFgm50W"
   },
   "outputs": [],
   "source": [
    "# data data\n",
    "path = \"https://raw.githubusercontent.com/DA4BAM/dataset/master/Attrition2.csv\"\n",
    "data = pd.read_csv(path)"
   ]
  },
  {
   "cell_type": "markdown",
   "metadata": {
    "id": "Gj8GcKR3ar5B"
   },
   "source": [
    "## 1.데이터 탐색"
   ]
  },
  {
   "cell_type": "markdown",
   "metadata": {
    "id": "7jFZPpHLjJwB"
   },
   "source": [
    "\n",
    "* 데이터의 크기를 살펴봅시다."
   ]
  },
  {
   "cell_type": "code",
   "execution_count": 3,
   "metadata": {
    "id": "WTmIn3nkZpVx"
   },
   "outputs": [
    {
     "data": {
      "text/plain": [
       "(1150, 17)"
      ]
     },
     "execution_count": 3,
     "metadata": {},
     "output_type": "execute_result"
    }
   ],
   "source": [
    "data.shape"
   ]
  },
  {
   "cell_type": "code",
   "execution_count": 4,
   "metadata": {
    "id": "slQzhe7LXVug"
   },
   "outputs": [
    {
     "data": {
      "text/html": [
       "<div>\n",
       "<style scoped>\n",
       "    .dataframe tbody tr th:only-of-type {\n",
       "        vertical-align: middle;\n",
       "    }\n",
       "\n",
       "    .dataframe tbody tr th {\n",
       "        vertical-align: top;\n",
       "    }\n",
       "\n",
       "    .dataframe thead th {\n",
       "        text-align: right;\n",
       "    }\n",
       "</style>\n",
       "<table border=\"1\" class=\"dataframe\">\n",
       "  <thead>\n",
       "    <tr style=\"text-align: right;\">\n",
       "      <th></th>\n",
       "      <th>Attrition</th>\n",
       "      <th>Age</th>\n",
       "      <th>Department</th>\n",
       "      <th>DistanceFromHome</th>\n",
       "      <th>Education</th>\n",
       "      <th>EducationField</th>\n",
       "      <th>Gender</th>\n",
       "      <th>JobRole</th>\n",
       "      <th>JobSatisfaction</th>\n",
       "      <th>MaritalStatus</th>\n",
       "      <th>MonthlyIncome</th>\n",
       "      <th>NumCompaniesWorked</th>\n",
       "      <th>RelationshipSatisfaction</th>\n",
       "      <th>TotalWorkingYears</th>\n",
       "      <th>TrainingTimesLastYear</th>\n",
       "      <th>WorkLifeBalance</th>\n",
       "      <th>YearsAtCompany</th>\n",
       "    </tr>\n",
       "  </thead>\n",
       "  <tbody>\n",
       "    <tr>\n",
       "      <th>0</th>\n",
       "      <td>0</td>\n",
       "      <td>28</td>\n",
       "      <td>Research &amp; Development</td>\n",
       "      <td>1</td>\n",
       "      <td>3</td>\n",
       "      <td>Medical</td>\n",
       "      <td>Female</td>\n",
       "      <td>Research Scientist</td>\n",
       "      <td>1</td>\n",
       "      <td>Married</td>\n",
       "      <td>3591</td>\n",
       "      <td>1</td>\n",
       "      <td>3</td>\n",
       "      <td>3</td>\n",
       "      <td>3</td>\n",
       "      <td>3</td>\n",
       "      <td>3</td>\n",
       "    </tr>\n",
       "    <tr>\n",
       "      <th>1</th>\n",
       "      <td>1</td>\n",
       "      <td>37</td>\n",
       "      <td>Research &amp; Development</td>\n",
       "      <td>2</td>\n",
       "      <td>2</td>\n",
       "      <td>Other</td>\n",
       "      <td>Male</td>\n",
       "      <td>Laboratory Technician</td>\n",
       "      <td>3</td>\n",
       "      <td>Single</td>\n",
       "      <td>2090</td>\n",
       "      <td>6</td>\n",
       "      <td>2</td>\n",
       "      <td>7</td>\n",
       "      <td>3</td>\n",
       "      <td>3</td>\n",
       "      <td>0</td>\n",
       "    </tr>\n",
       "    <tr>\n",
       "      <th>2</th>\n",
       "      <td>0</td>\n",
       "      <td>27</td>\n",
       "      <td>Research &amp; Development</td>\n",
       "      <td>8</td>\n",
       "      <td>5</td>\n",
       "      <td>Life Sciences</td>\n",
       "      <td>Male</td>\n",
       "      <td>Laboratory Technician</td>\n",
       "      <td>3</td>\n",
       "      <td>Married</td>\n",
       "      <td>4621</td>\n",
       "      <td>1</td>\n",
       "      <td>4</td>\n",
       "      <td>3</td>\n",
       "      <td>4</td>\n",
       "      <td>3</td>\n",
       "      <td>3</td>\n",
       "    </tr>\n",
       "    <tr>\n",
       "      <th>3</th>\n",
       "      <td>0</td>\n",
       "      <td>18</td>\n",
       "      <td>Research &amp; Development</td>\n",
       "      <td>1</td>\n",
       "      <td>3</td>\n",
       "      <td>Life Sciences</td>\n",
       "      <td>Female</td>\n",
       "      <td>Laboratory Technician</td>\n",
       "      <td>4</td>\n",
       "      <td>Single</td>\n",
       "      <td>1611</td>\n",
       "      <td>1</td>\n",
       "      <td>3</td>\n",
       "      <td>0</td>\n",
       "      <td>5</td>\n",
       "      <td>4</td>\n",
       "      <td>0</td>\n",
       "    </tr>\n",
       "    <tr>\n",
       "      <th>4</th>\n",
       "      <td>0</td>\n",
       "      <td>29</td>\n",
       "      <td>Research &amp; Development</td>\n",
       "      <td>9</td>\n",
       "      <td>3</td>\n",
       "      <td>Life Sciences</td>\n",
       "      <td>Male</td>\n",
       "      <td>Research Scientist</td>\n",
       "      <td>3</td>\n",
       "      <td>Married</td>\n",
       "      <td>2451</td>\n",
       "      <td>6</td>\n",
       "      <td>1</td>\n",
       "      <td>5</td>\n",
       "      <td>2</td>\n",
       "      <td>2</td>\n",
       "      <td>1</td>\n",
       "    </tr>\n",
       "  </tbody>\n",
       "</table>\n",
       "</div>"
      ],
      "text/plain": [
       "   Attrition  Age              Department  DistanceFromHome  Education  \\\n",
       "0          0   28  Research & Development                 1          3   \n",
       "1          1   37  Research & Development                 2          2   \n",
       "2          0   27  Research & Development                 8          5   \n",
       "3          0   18  Research & Development                 1          3   \n",
       "4          0   29  Research & Development                 9          3   \n",
       "\n",
       "  EducationField  Gender                JobRole  JobSatisfaction  \\\n",
       "0        Medical  Female     Research Scientist                1   \n",
       "1          Other    Male  Laboratory Technician                3   \n",
       "2  Life Sciences    Male  Laboratory Technician                3   \n",
       "3  Life Sciences  Female  Laboratory Technician                4   \n",
       "4  Life Sciences    Male     Research Scientist                3   \n",
       "\n",
       "  MaritalStatus  MonthlyIncome  NumCompaniesWorked  RelationshipSatisfaction  \\\n",
       "0       Married           3591                   1                         3   \n",
       "1        Single           2090                   6                         2   \n",
       "2       Married           4621                   1                         4   \n",
       "3        Single           1611                   1                         3   \n",
       "4       Married           2451                   6                         1   \n",
       "\n",
       "   TotalWorkingYears  TrainingTimesLastYear  WorkLifeBalance  YearsAtCompany  \n",
       "0                  3                      3                3               3  \n",
       "1                  7                      3                3               0  \n",
       "2                  3                      4                3               3  \n",
       "3                  0                      5                4               0  \n",
       "4                  5                      2                2               1  "
      ]
     },
     "execution_count": 4,
     "metadata": {},
     "output_type": "execute_result"
    }
   ],
   "source": [
    "data.head()"
   ]
  },
  {
   "cell_type": "code",
   "execution_count": 5,
   "metadata": {
    "id": "SYF_0NUhMhjD"
   },
   "outputs": [],
   "source": [
    "target = 'Attrition'"
   ]
  },
  {
   "cell_type": "code",
   "execution_count": 6,
   "metadata": {
    "id": "L5GD5KkKcGjP"
   },
   "outputs": [
    {
     "name": "stdout",
     "output_type": "stream",
     "text": [
      "0    1050\n",
      "1     100\n",
      "Name: Attrition, dtype: int64\n"
     ]
    },
    {
     "data": {
      "image/png": "[encoded data removed]",
      "text/plain": [
       "<Figure size 432x288 with 1 Axes>"
      ]
     },
     "metadata": {
      "needs_background": "light"
     },
     "output_type": "display_data"
    }
   ],
   "source": [
    "print(data[target].value_counts())\n",
    "\n",
    "data[target].value_counts().plot(kind = 'barh')\n",
    "plt.show()"
   ]
  },
  {
   "cell_type": "markdown",
   "metadata": {
    "id": "gym6dx7Dppnc"
   },
   "source": [
    "## 2.데이터 준비\n"
   ]
  },
  {
   "cell_type": "markdown",
   "metadata": {
    "id": "y_pRV_lk0__5"
   },
   "source": [
    "### 2.1 x, y로 나누기 "
   ]
  },
  {
   "cell_type": "code",
   "execution_count": 7,
   "metadata": {
    "id": "P7JbxUGr1FEi"
   },
   "outputs": [],
   "source": [
    "x = data.drop(target, axis = 1)\n",
    "y = data.loc[:,target]"
   ]
  },
  {
   "cell_type": "markdown",
   "metadata": {
    "id": "akoLc7fx1g2t"
   },
   "source": [
    "### 2.2 가변수화"
   ]
  },
  {
   "cell_type": "code",
   "execution_count": 8,
   "metadata": {
    "id": "qIgeJ7aNM36G"
   },
   "outputs": [],
   "source": [
    "dummy_vars = ['Education','Department','EducationField','Gender','JobRole','JobSatisfaction','MaritalStatus',\n",
    "              'RelationshipSatisfaction','WorkLifeBalance'] # 가변수화 대상 변수 이름 리스트 만든다\n",
    "x = pd.get_dummies(x, columns = dummy_vars, drop_first=True) "
   ]
  },
  {
   "cell_type": "markdown",
   "metadata": {
    "id": "8v3UyL572Ypi"
   },
   "source": [
    "### 2.3 train : validation 분할"
   ]
  },
  {
   "cell_type": "code",
   "execution_count": 9,
   "metadata": {
    "id": "HGhXkvBTmfUO"
   },
   "outputs": [],
   "source": [
    "from sklearn.model_selection import train_test_split"
   ]
  },
  {
   "cell_type": "code",
   "execution_count": 10,
   "metadata": {
    "id": "eqAnzAbDikcr"
   },
   "outputs": [],
   "source": [
    "x_train, x_val, y_train, y_val = train_test_split(x, y, test_size = .3, random_state = 2022)"
   ]
  },
  {
   "cell_type": "code",
   "execution_count": 11,
   "metadata": {
    "id": "mg2Tp4G9UhuG"
   },
   "outputs": [
    {
     "data": {
      "text/plain": [
       "(805, 38)"
      ]
     },
     "execution_count": 11,
     "metadata": {},
     "output_type": "execute_result"
    }
   ],
   "source": [
    "x_train.shape"
   ]
  },
  {
   "cell_type": "markdown",
   "metadata": {
    "id": "LAzxx0nkh1LX"
   },
   "source": [
    "## 3.모델링 with Resampling"
   ]
  },
  {
   "cell_type": "code",
   "execution_count": 12,
   "metadata": {
    "id": "6VkF0-iXijKk"
   },
   "outputs": [],
   "source": [
    "# 필요한 라이브러리, 함수들을 불러옵시다.\n",
    "from sklearn.linear_model import LogisticRegression\n",
    "from sklearn.metrics import *"
   ]
  },
  {
   "cell_type": "markdown",
   "metadata": {
    "id": "Z1XvZlGFcHbn"
   },
   "source": [
    "### 3.1 기본 모델링\n",
    "\n",
    "* 로지스틱 회귀 + 데이터 그대로 이용"
   ]
  },
  {
   "cell_type": "code",
   "execution_count": 13,
   "metadata": {
    "id": "01zxVgqYI797"
   },
   "outputs": [
    {
     "name": "stdout",
     "output_type": "stream",
     "text": [
      "[[323   0]\n",
      " [ 22   0]]\n",
      "-------------------------------------------------------\n",
      "              precision    recall  f1-score   support\n",
      "\n",
      "           0       0.94      1.00      0.97       323\n",
      "           1       0.00      0.00      0.00        22\n",
      "\n",
      "    accuracy                           0.94       345\n",
      "   macro avg       0.47      0.50      0.48       345\n",
      "weighted avg       0.88      0.94      0.91       345\n",
      "\n"
     ]
    },
    {
     "name": "stderr",
     "output_type": "stream",
     "text": [
      "C:\\Users\\User\\anaconda3\\lib\\site-packages\\sklearn\\linear_model\\_logistic.py:814: ConvergenceWarning: lbfgs failed to converge (status=1):\n",
      "STOP: TOTAL NO. of ITERATIONS REACHED LIMIT.\n",
      "\n",
      "Increase the number of iterations (max_iter) or scale the data as shown in:\n",
      "    https://scikit-learn.org/stable/modules/preprocessing.html\n",
      "Please also refer to the documentation for alternative solver options:\n",
      "    https://scikit-learn.org/stable/modules/linear_model.html#logistic-regression\n",
      "  n_iter_i = _check_optimize_result(\n",
      "C:\\Users\\User\\anaconda3\\lib\\site-packages\\sklearn\\metrics\\_classification.py:1318: UndefinedMetricWarning: Precision and F-score are ill-defined and being set to 0.0 in labels with no predicted samples. Use `zero_division` parameter to control this behavior.\n",
      "  _warn_prf(average, modifier, msg_start, len(result))\n",
      "C:\\Users\\User\\anaconda3\\lib\\site-packages\\sklearn\\metrics\\_classification.py:1318: UndefinedMetricWarning: Precision and F-score are ill-defined and being set to 0.0 in labels with no predicted samples. Use `zero_division` parameter to control this behavior.\n",
      "  _warn_prf(average, modifier, msg_start, len(result))\n",
      "C:\\Users\\User\\anaconda3\\lib\\site-packages\\sklearn\\metrics\\_classification.py:1318: UndefinedMetricWarning: Precision and F-score are ill-defined and being set to 0.0 in labels with no predicted samples. Use `zero_division` parameter to control this behavior.\n",
      "  _warn_prf(average, modifier, msg_start, len(result))\n"
     ]
    }
   ],
   "source": [
    "model = LogisticRegression()\n",
    "model.fit(x_train, y_train)\n",
    "pred = model.predict(x_val)\n",
    "\n",
    "print(confusion_matrix(y_val, pred))\n",
    "print('-' * 55)\n",
    "print(classification_report(y_val, pred))"
   ]
  },
  {
   "cell_type": "markdown",
   "metadata": {
    "id": "gfNDoww0Nh9s"
   },
   "source": [
    "LogisticRegression : https://scikit-learn.org/stable/modules/generated/sklearn.linear_model.LogisticRegression.html  \n",
    "* 이전 버전 solver = 'liblinear'\n",
    "* 최근 버전 solver = 'lbfgs' (max_iter 옵션 경고 문구들이 발생)"
   ]
  },
  {
   "cell_type": "code",
   "execution_count": null,
   "metadata": {
    "id": "fORgKs5pNBd7"
   },
   "outputs": [],
   "source": [
    "model = LogisticRegression(solver = 'liblinear')\n",
    "model.fit(x_train, y_train)\n",
    "pred = model.predict(x_val)\n",
    "\n",
    "print(confusion_matrix(y_val, pred))\n",
    "print('-' * 55)\n",
    "print(classification_report(y_val, pred))"
   ]
  },
  {
   "cell_type": "markdown",
   "metadata": {
    "id": "XRXceUpoTJrw"
   },
   "source": [
    "### 3.2 모델링 with Resampling"
   ]
  },
  {
   "cell_type": "markdown",
   "metadata": {
    "id": "CPmxZ4CLGRhv"
   },
   "source": [
    "* Down Sampling + 로지스틱 회귀\n",
    "    * Resamlpling\n",
    "    * 모델링\n",
    "    * 평가 : confusion_matrix, classification_report"
   ]
  },
  {
   "cell_type": "code",
   "execution_count": null,
   "metadata": {
    "id": "yoVgXE2mTneb"
   },
   "outputs": [],
   "source": [
    "from imblearn.under_sampling import RandomUnderSampler\n",
    "from imblearn.over_sampling import RandomOverSampler, SMOTE"
   ]
  },
  {
   "cell_type": "code",
   "execution_count": null,
   "metadata": {
    "id": "h9s8eoDcTJrw"
   },
   "outputs": [],
   "source": [
    "# down sampling\n",
    "down_sample = RandomUnderSampler()\n",
    "d_x_train, d_y_train = down_sample.fit_resample(x_train, y_train)\n",
    "\n",
    "print(np.bincount(d_y_train))\n",
    "print(np.bincount(d_y_train) / d_y_train.shape[0])\n",
    "\n",
    "model_d = LogisticRegression(solver = 'liblinear')\n",
    "model_d.fit(d_x_train, d_y_train)\n",
    "pred_d = model_d.predict(x_val)\n",
    "\n",
    "print(f1_score(y_val,pred_d, pos_label=1))\n",
    "print('-' * 55)\n",
    "print(confusion_matrix(y_val, pred_d))\n",
    "print('-' * 55)\n",
    "print(classification_report(y_val, pred_d))"
   ]
  },
  {
   "cell_type": "markdown",
   "metadata": {
    "id": "jCFX-X9qHdqW"
   },
   "source": [
    "* Up Sampling + 로지스틱 회귀\n",
    "    * Resamlpling\n",
    "    * 모델링\n",
    "    * 평가 : confusion_matrix, classification_report"
   ]
  },
  {
   "cell_type": "code",
   "execution_count": null,
   "metadata": {
    "id": "thDUDnJETvJF"
   },
   "outputs": [],
   "source": [
    "# up sampling\n",
    "up_sample = RandomOverSampler()\n",
    "u_x_train, u_y_train = up_sample.fit_resample(x_train, y_train)\n",
    "\n",
    "print(np.bincount(u_y_train))\n",
    "print(np.bincount(u_y_train) / u_y_train.shape[0])\n",
    "\n",
    "model_u = LogisticRegression(solver = 'liblinear')\n",
    "model_u.fit(u_x_train, u_y_train)\n",
    "pred_u = model_u.predict(x_val)\n",
    "\n",
    "print(f1_score(y_val,pred_u, pos_label=1))\n",
    "print('-' * 55)\n",
    "print(confusion_matrix(y_val, pred_u))\n",
    "print('-' * 55)\n",
    "print(classification_report(y_val, pred_u))"
   ]
  },
  {
   "cell_type": "markdown",
   "metadata": {
    "id": "RbcFCiLqHlN1"
   },
   "source": [
    "* SMOTE Sampling + 로지스틱 회귀\n",
    "    * Resamlpling\n",
    "    * 모델링\n",
    "    * 평가 : confusion_matrix, classification_report"
   ]
  },
  {
   "cell_type": "code",
   "execution_count": null,
   "metadata": {
    "id": "xTYLdVq9UREg"
   },
   "outputs": [],
   "source": [
    "# SMOTE\n",
    "smote = SMOTE()\n",
    "s_x_train, s_y_train = smote.fit_resample(x_train, y_train)\n",
    "\n",
    "print(np.bincount(s_y_train))\n",
    "print(np.bincount(s_y_train) / s_y_train.shape[0])\n",
    "\n",
    "model_s = LogisticRegression(solver = 'liblinear')\n",
    "model_s.fit(s_x_train, s_y_train)\n",
    "pred_s = model_u.predict(x_val)\n",
    "\n",
    "print(f1_score(y_val,pred_s, pos_label=1))\n",
    "print('-' * 55)\n",
    "print(confusion_matrix(y_val, pred_s))\n",
    "print('-' * 55)\n",
    "print(classification_report(y_val, pred_s))"
   ]
  },
  {
   "cell_type": "markdown",
   "metadata": {
    "id": "e1jGTskNXV9y"
   },
   "source": [
    "### 3.3 각 resampling 기법별로 성능을 비교해 봅시다.\n",
    "여러번 반복실행한 다음 f1 score 성능 비교\n"
   ]
  },
  {
   "cell_type": "code",
   "execution_count": null,
   "metadata": {
    "id": "eY9mL-WaXVfL"
   },
   "outputs": [],
   "source": [
    "def lr_modeling(x_train, y_train, x_val, y_val) :\n",
    "    m = LogisticRegression(solver = 'liblinear')\n",
    "    m.fit(x_train, y_train)\n",
    "    pred = m.predict(x_val)\n",
    "    return f1_score(y_val,pred, pos_label=1)"
   ]
  },
  {
   "cell_type": "code",
   "execution_count": null,
   "metadata": {
    "id": "4uOQD_e7XbEq"
   },
   "outputs": [],
   "source": [
    "result_d, result_u, result_s = [], [], []\n",
    "\n",
    "for i in range(50):\n",
    "    x_train, x_val, y_train, y_val = train_test_split(x, y, test_size = .4)\n",
    "    d_x_train, d_y_train = down_sample.fit_resample(x_train, y_train)\n",
    "    u_x_train, u_y_train = up_sample.fit_resample(x_train, y_train)\n",
    "    s_x_train, s_y_train = smote.fit_resample(x_train, y_train)\n",
    "\n",
    "    result_d.append(lr_modeling(d_x_train, d_y_train, x_val, y_val))\n",
    "    result_u.append(lr_modeling(u_x_train, u_y_train, x_val, y_val))\n",
    "    result_s.append(lr_modeling(s_x_train, s_y_train, x_val, y_val))\n",
    "    print(i)"
   ]
  },
  {
   "cell_type": "code",
   "execution_count": null,
   "metadata": {
    "id": "mFqdej3uYVdG"
   },
   "outputs": [],
   "source": [
    "# 그래프로 비교\n",
    "plt.figure(figsize=(12, 8))\n",
    "sns.kdeplot(result_d, label = 'down')\n",
    "sns.kdeplot(result_u, label = 'up')\n",
    "sns.kdeplot(result_s, label = 'smote' )\n",
    "\n",
    "plt.title('F1 Score')\n",
    "plt.legend()\n",
    "plt.grid()\n",
    "plt.show()\n"
   ]
  },
  {
   "cell_type": "markdown",
   "metadata": {
    "id": "f4m9CpAlDYUx"
   },
   "source": [
    "## 4.실습 : Semiconductor manufacturing process dataset\n"
   ]
  },
  {
   "cell_type": "markdown",
   "metadata": {
    "id": "KKJNXBfDPOoT"
   },
   "source": [
    "![](https://assets.pandaily.com/uploads/2021/10/semiconductor.png)"
   ]
  },
  {
   "cell_type": "markdown",
   "metadata": {
    "id": "47h5Hv4JQOgE"
   },
   "source": [
    "* 반도체 제조 공정은 시점별로 수많은 센서로부터 정보를 수집하여 공정을 감시합니다. \n",
    "* 센서정보와 함께 공정간 발생된 불량품에 대한 정보를 저장하였습니다.\n",
    "* 불량을 예측해 봅시다."
   ]
  },
  {
   "cell_type": "markdown",
   "metadata": {
    "id": "QdJ4vZmRDYUx"
   },
   "source": [
    "### 4.1 데이터 준비"
   ]
  },
  {
   "cell_type": "markdown",
   "metadata": {
    "id": "P96JFMWpDYUy"
   },
   "source": [
    "* 데이터 로딩"
   ]
  },
  {
   "cell_type": "code",
   "execution_count": null,
   "metadata": {
    "id": "kqFX10WKDYUy"
   },
   "outputs": [],
   "source": [
    "path = \"https://raw.githubusercontent.com/DA4BAM/dataset/master/secom_9.csv\"\n",
    "data = pd.read_csv(path)\n",
    "\n",
    "data['label'] = 0\n",
    "data.loc[data['defeat']== 'defeat', 'label']= 1\n",
    "data.drop(['datetime','defeat'], axis = 1, inplace=True)\n",
    "data.head()"
   ]
  },
  {
   "cell_type": "markdown",
   "metadata": {
    "id": "Tv7I7P8nQioh"
   },
   "source": [
    "변수 정보 \n",
    "* label : 1 - 불량, 0 - 정상\n",
    "* v### : 센서값들\n"
   ]
  },
  {
   "cell_type": "code",
   "execution_count": null,
   "metadata": {
    "id": "6K9iIhabQzXS"
   },
   "outputs": [],
   "source": [
    "target = 'label'"
   ]
  },
  {
   "cell_type": "code",
   "execution_count": null,
   "metadata": {
    "id": "r6pjfmqLQ1UK"
   },
   "outputs": [],
   "source": [
    "data[target].value_counts() / data.shape[0]"
   ]
  },
  {
   "cell_type": "markdown",
   "metadata": {
    "id": "Qs56G2oKQskZ"
   },
   "source": [
    "* x, y로 나누기 "
   ]
  },
  {
   "cell_type": "code",
   "execution_count": null,
   "metadata": {
    "id": "M6xgH4RtDYUy"
   },
   "outputs": [],
   "source": [
    "x = data.drop(target, axis = 1)\n",
    "y = data.loc[:, target]"
   ]
  },
  {
   "cell_type": "markdown",
   "metadata": {
    "id": "0s8TzBcDDYUz"
   },
   "source": [
    "* 가변수화 Dummy Variable  \n",
    "모두 숫자 데이터이므로 가변수화 대상은 없습니다.\n"
   ]
  },
  {
   "cell_type": "markdown",
   "metadata": {
    "id": "fPJLj4PDDYUz"
   },
   "source": [
    "* 데이터 분할\n",
    "    * 이미 test set은 분할되어 있다고 가정합니다.\n",
    "    * 주어진 데이터를 train set : validation set 으로 분할"
   ]
  },
  {
   "cell_type": "code",
   "execution_count": null,
   "metadata": {
    "id": "bVKB5_ZKDYUz"
   },
   "outputs": [],
   "source": [
    "from sklearn.model_selection import train_test_split"
   ]
  },
  {
   "cell_type": "code",
   "execution_count": null,
   "metadata": {
    "id": "uWsT1wdRDYUz"
   },
   "outputs": [],
   "source": [
    "# train_val에서 train : val = 8 : 2\n",
    "x_train, x_val, y_train, y_val = train_test_split(x, y, test_size=0.2, random_state = 2022)"
   ]
  },
  {
   "cell_type": "code",
   "execution_count": null,
   "metadata": {
    "id": "D3KPdJ5PDYUz"
   },
   "outputs": [],
   "source": [
    "print(x_train.shape, x_val.shape)"
   ]
  },
  {
   "cell_type": "markdown",
   "metadata": {
    "id": "R01ZohkGDYU0"
   },
   "source": [
    "### 4.2 기본모델링\n",
    "> * 알고리즘은 로지스틱 회귀를 이용합시다.\n",
    "* 데이터셋을 그대로 모델링을 수행하시오.\n",
    "* validate set으로 예측하고 평가(classification report, f1 score)해 봅시다.\n"
   ]
  },
  {
   "cell_type": "code",
   "execution_count": null,
   "metadata": {
    "id": "-V7yZzNTDYU0"
   },
   "outputs": [],
   "source": [
    "from sklearn.linear_model import LogisticRegression\n",
    "from sklearn.metrics import * "
   ]
  },
  {
   "cell_type": "code",
   "execution_count": null,
   "metadata": {
    "id": "BPNnuKJmDYU0"
   },
   "outputs": [],
   "source": []
  },
  {
   "cell_type": "markdown",
   "metadata": {
    "id": "suaqUBduDYU0"
   },
   "source": [
    "### 4.3 모델링 with Resampling\n",
    "> * down, up, smote 샘플링후 각각 데이터를 이용하여 모델링 하시오.\n",
    "* 알고리즘 : 기존 샘플과 비교를 위해서 기본모델링에 사용한 알고리즘 사용\n",
    "* validate set으로 예측하고 평가(classification report, f1 score)해 봅시다.\n"
   ]
  },
  {
   "cell_type": "code",
   "execution_count": null,
   "metadata": {
    "id": "FoVaA8lDDYU0"
   },
   "outputs": [],
   "source": [
    "from imblearn.under_sampling import RandomUnderSampler\n",
    "from imblearn.over_sampling import RandomOverSampler, SMOTE"
   ]
  },
  {
   "cell_type": "code",
   "execution_count": null,
   "metadata": {
    "id": "2T5lrWkfDYU0"
   },
   "outputs": [],
   "source": [
    "# down sampling\n"
   ]
  },
  {
   "cell_type": "code",
   "execution_count": null,
   "metadata": {
    "id": "wvTUserkDYU0"
   },
   "outputs": [],
   "source": [
    "# up sampling\n"
   ]
  },
  {
   "cell_type": "code",
   "execution_count": null,
   "metadata": {
    "id": "-B2s-EZHDYU1"
   },
   "outputs": [],
   "source": [
    "# SMOTE\n"
   ]
  },
  {
   "cell_type": "markdown",
   "metadata": {
    "id": "aul2pAvODYU1"
   },
   "source": [
    "* 모델링"
   ]
  },
  {
   "cell_type": "code",
   "execution_count": null,
   "metadata": {
    "id": "5_M914h7DYU1"
   },
   "outputs": [],
   "source": []
  },
  {
   "cell_type": "code",
   "execution_count": null,
   "metadata": {
    "id": "Cb4fQKsDDYU1"
   },
   "outputs": [],
   "source": []
  },
  {
   "cell_type": "code",
   "execution_count": null,
   "metadata": {
    "id": "hwJcfsVpDYU1"
   },
   "outputs": [],
   "source": []
  },
  {
   "cell_type": "markdown",
   "metadata": {
    "id": "VByxOUgWDYU1"
   },
   "source": [
    "* 로지스틱 회귀- 여러번 반복 실행\n",
    "\n",
    "3.3의 코드를 붙여놓고 실행해 봅시다."
   ]
  },
  {
   "cell_type": "code",
   "execution_count": null,
   "metadata": {
    "id": "RayUS6JKDYU2"
   },
   "outputs": [],
   "source": []
  },
  {
   "cell_type": "code",
   "execution_count": null,
   "metadata": {
    "id": "Lo8Rwcv1DYU2"
   },
   "outputs": [],
   "source": []
  },
  {
   "cell_type": "code",
   "execution_count": null,
   "metadata": {
    "id": "MgefrSeZDYU2"
   },
   "outputs": [],
   "source": []
  },
  {
   "cell_type": "code",
   "execution_count": null,
   "metadata": {
    "id": "R9ieCTpedkx3"
   },
   "outputs": [],
   "source": []
  }
 ],
 "metadata": {
  "colab": {
   "collapsed_sections": [],
   "name": "3-2. Resampling_참조.ipynb",
   "provenance": [],
   "toc_visible": true
  },
  "kernelspec": {
   "display_name": "Python 3",
   "language": "python",
   "name": "python3"
  },
  "language_info": {
   "codemirror_mode": {
    "name": "ipython",
    "version": 3
   },
   "file_extension": ".py",
   "mimetype": "text/x-python",
   "name": "python",
   "nbconvert_exporter": "python",
   "pygments_lexer": "ipython3",
   "version": "3.8.8"
  }
 },
 "nbformat": 4,
 "nbformat_minor": 1
}
