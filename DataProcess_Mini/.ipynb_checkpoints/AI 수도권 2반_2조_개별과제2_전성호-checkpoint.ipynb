{
 "cells": [
  {
   "cell_type": "markdown",
   "metadata": {
    "id": "mTt7qGUTCcFs"
   },
   "source": [
    "# 과제2. [평가]Mobile 고객 이탈 분석"
   ]
  },
  {
   "cell_type": "markdown",
   "metadata": {
    "id": "cdQaCT5I0IL_"
   },
   "source": [
    "* 여러분은 OO 통신화사 데이터분석가 입니다.\n",
    "* 회사는 약정기간이 끝난 고객이 번호이동(이탈)해 가는 문제를 해결하고자 합니다.\n",
    "* 그래서 여러분에게, 어떤 고객이 번호이동(이탈)해 가는지 데이터분석을 의뢰하였습니다.\n",
    "* 고객 이탈여부(CHURN)에 영향을 주는 요인을 찾아 봅시다."
   ]
  },
  {
   "cell_type": "markdown",
   "metadata": {
    "id": "0wuYJKZHjA3d"
   },
   "source": [
    "![](https://d18lkz4dllo6v2.cloudfront.net/cumulus_uploads/entry/23964/mobile%20phones.png)"
   ]
  },
  {
   "cell_type": "markdown",
   "metadata": {},
   "source": [
    "### 대학생이 이동통신사를 선택하는 이유는 무엇일까\n",
    "\n",
    "2018년 7월 31일 기사"
   ]
  },
  {
   "cell_type": "markdown",
   "metadata": {},
   "source": [
    "통신사 1위의 비결\n",
    "\n",
    "* 가족과 함께 이용하기 위해서 (69.9%)\n",
    "* 기기할인 (21%)\n",
    "* 멤버십 혜택 (13.2%)\n",
    "* 원하는 요금제가 있어서 (7.1%)\n",
    "* 기업이미지가 좋아서 (5.6%)\n",
    "* 프로모션이 좋아서 (3.7%)"
   ]
  },
  {
   "cell_type": "markdown",
   "metadata": {},
   "source": [
    "**언제부터 본인이 이동통신사/통신요금을 선택했나요?**\n",
    "* 본인이 선택하지 않음(29.7%)\n",
    "* 수능직후 (17.7%)\n",
    "* 대학교 1학년 (14.2%)\n",
    "* 고등학생(14.1%)"
   ]
  },
  {
   "cell_type": "markdown",
   "metadata": {
    "id": "AHmt88Q5EVsj"
   },
   "source": [
    "## 0.환경설정"
   ]
  },
  {
   "cell_type": "markdown",
   "metadata": {
    "id": "KnzVh2LmkLDU"
   },
   "source": [
    "### 1) 라이브러리 로딩"
   ]
  },
  {
   "cell_type": "code",
   "execution_count": 1,
   "metadata": {
    "id": "3rsQerEaELwI"
   },
   "outputs": [],
   "source": [
    "import pandas as pd\n",
    "import numpy as np\n",
    "import matplotlib.pyplot as plt\n",
    "import seaborn as sns\n",
    "\n",
    "from statsmodels.graphics.mosaicplot import mosaic\n",
    "from scipy import stats as spst\n",
    "import statsmodels.api as sm"
   ]
  },
  {
   "cell_type": "markdown",
   "metadata": {
    "id": "5Qh5KYWokO_N"
   },
   "source": [
    "### 2) 데이터 로딩"
   ]
  },
  {
   "cell_type": "code",
   "execution_count": 2,
   "metadata": {
    "id": "lM3HN6OwEL3d",
    "scrolled": true
   },
   "outputs": [
    {
     "data": {
      "text/html": [
       "<div>\n",
       "<style scoped>\n",
       "    .dataframe tbody tr th:only-of-type {\n",
       "        vertical-align: middle;\n",
       "    }\n",
       "\n",
       "    .dataframe tbody tr th {\n",
       "        vertical-align: top;\n",
       "    }\n",
       "\n",
       "    .dataframe thead th {\n",
       "        text-align: right;\n",
       "    }\n",
       "</style>\n",
       "<table border=\"1\" class=\"dataframe\">\n",
       "  <thead>\n",
       "    <tr style=\"text-align: right;\">\n",
       "      <th></th>\n",
       "      <th>COLLEGE</th>\n",
       "      <th>INCOME</th>\n",
       "      <th>OVERAGE</th>\n",
       "      <th>LEFTOVER</th>\n",
       "      <th>HOUSE</th>\n",
       "      <th>HANDSET_PRICE</th>\n",
       "      <th>AVERAGE_CALL_DURATION</th>\n",
       "      <th>REPORTED_SATISFACTION</th>\n",
       "      <th>CONSIDERING_CHANGE_OF_PLAN</th>\n",
       "      <th>CHURN</th>\n",
       "    </tr>\n",
       "  </thead>\n",
       "  <tbody>\n",
       "    <tr>\n",
       "      <th>0</th>\n",
       "      <td>1</td>\n",
       "      <td>47711</td>\n",
       "      <td>183</td>\n",
       "      <td>17</td>\n",
       "      <td>730589.0</td>\n",
       "      <td>192</td>\n",
       "      <td>5</td>\n",
       "      <td>unsat</td>\n",
       "      <td>considering</td>\n",
       "      <td>0</td>\n",
       "    </tr>\n",
       "    <tr>\n",
       "      <th>1</th>\n",
       "      <td>0</td>\n",
       "      <td>74132</td>\n",
       "      <td>191</td>\n",
       "      <td>43</td>\n",
       "      <td>535092.0</td>\n",
       "      <td>349</td>\n",
       "      <td>2</td>\n",
       "      <td>unsat</td>\n",
       "      <td>no</td>\n",
       "      <td>1</td>\n",
       "    </tr>\n",
       "    <tr>\n",
       "      <th>2</th>\n",
       "      <td>1</td>\n",
       "      <td>150419</td>\n",
       "      <td>0</td>\n",
       "      <td>14</td>\n",
       "      <td>204004.0</td>\n",
       "      <td>682</td>\n",
       "      <td>6</td>\n",
       "      <td>unsat</td>\n",
       "      <td>considering</td>\n",
       "      <td>0</td>\n",
       "    </tr>\n",
       "    <tr>\n",
       "      <th>3</th>\n",
       "      <td>0</td>\n",
       "      <td>159567</td>\n",
       "      <td>0</td>\n",
       "      <td>58</td>\n",
       "      <td>281969.0</td>\n",
       "      <td>634</td>\n",
       "      <td>1</td>\n",
       "      <td>very_unsat</td>\n",
       "      <td>never_thought</td>\n",
       "      <td>0</td>\n",
       "    </tr>\n",
       "    <tr>\n",
       "      <th>4</th>\n",
       "      <td>1</td>\n",
       "      <td>23392</td>\n",
       "      <td>0</td>\n",
       "      <td>0</td>\n",
       "      <td>216707.0</td>\n",
       "      <td>233</td>\n",
       "      <td>15</td>\n",
       "      <td>unsat</td>\n",
       "      <td>no</td>\n",
       "      <td>1</td>\n",
       "    </tr>\n",
       "  </tbody>\n",
       "</table>\n",
       "</div>"
      ],
      "text/plain": [
       "   COLLEGE  INCOME  OVERAGE  LEFTOVER     HOUSE  HANDSET_PRICE  \\\n",
       "0        1   47711      183        17  730589.0            192   \n",
       "1        0   74132      191        43  535092.0            349   \n",
       "2        1  150419        0        14  204004.0            682   \n",
       "3        0  159567        0        58  281969.0            634   \n",
       "4        1   23392        0         0  216707.0            233   \n",
       "\n",
       "   AVERAGE_CALL_DURATION REPORTED_SATISFACTION CONSIDERING_CHANGE_OF_PLAN  \\\n",
       "0                      5                 unsat                considering   \n",
       "1                      2                 unsat                         no   \n",
       "2                      6                 unsat                considering   \n",
       "3                      1            very_unsat              never_thought   \n",
       "4                     15                 unsat                         no   \n",
       "\n",
       "   CHURN  \n",
       "0      0  \n",
       "1      1  \n",
       "2      0  \n",
       "3      0  \n",
       "4      1  "
      ]
     },
     "execution_count": 2,
     "metadata": {},
     "output_type": "execute_result"
    }
   ],
   "source": [
    "# mobile data\n",
    "data_path = \"https://raw.githubusercontent.com/DA4BAM/dataset/master/mobile_NA2.csv\"\n",
    "mobile = pd.read_csv(data_path)\n",
    "mobile.drop(['id', 'REPORTED_USAGE_LEVEL','OVER_15MINS_CALLS_PER_MONTH'], axis = 1, inplace = True)\n",
    "mobile.head()"
   ]
  },
  {
   "cell_type": "markdown",
   "metadata": {
    "id": "JtiF310fjmJy"
   },
   "source": [
    "|변수 명|내용|구분|\n",
    "|\t----\t|\t----\t|\t----\t|\n",
    "|\tCOLLEGE\t|\t대학졸업 여부(1,0)\t|\t범주\t|\n",
    "|\tINCOME\t|\t연 수입액(달러)\t|\t수치\t|\n",
    "|\tOVERAGE\t|\t월 초과사용 시간(분)\t|\t수치\t|\n",
    "|\tLEFTOVER\t|\t월 사용 잔여시간(%)\t|\t수치\t|\n",
    "|\tHOUSE\t|\t집 가격(달러)\t|\t수치\t|\n",
    "|\tHANDSET_PRICE\t|\t핸드폰 가격(달러)\t|\t수치\t|\n",
    "|\tAVERAGE_CALL_DURATION\t|\t평균 통화시간(분)\t|\t수치\t|\n",
    "|\tREPORTED_SATISFACTION\t|\t만족도 설문('very_unsat', 'unsat', 'avg', 'sat', 'very_sat' )\t|\t범주\t|\n",
    "|\tCONSIDERING_CHANGE_OF_PLAN\t|\t변경 계획 설문('never_thought', 'no', 'perhaps', 'considering',   'actively_looking_into_it')\t|\t범주\t|\n",
    "|\t**CHURN**\t|\t이탈여부(1 : 이탈, 0 : 잔류)\t|\tLabel\t|\n"
   ]
  },
  {
   "cell_type": "code",
   "execution_count": 3,
   "metadata": {
    "scrolled": true
   },
   "outputs": [
    {
     "name": "stdout",
     "output_type": "stream",
     "text": [
      "<class 'pandas.core.frame.DataFrame'>\n",
      "RangeIndex: 18000 entries, 0 to 17999\n",
      "Data columns (total 10 columns):\n",
      " #   Column                      Non-Null Count  Dtype  \n",
      "---  ------                      --------------  -----  \n",
      " 0   COLLEGE                     18000 non-null  int64  \n",
      " 1   INCOME                      18000 non-null  int64  \n",
      " 2   OVERAGE                     18000 non-null  int64  \n",
      " 3   LEFTOVER                    18000 non-null  int64  \n",
      " 4   HOUSE                       17785 non-null  float64\n",
      " 5   HANDSET_PRICE               18000 non-null  int64  \n",
      " 6   AVERAGE_CALL_DURATION       18000 non-null  int64  \n",
      " 7   REPORTED_SATISFACTION       17962 non-null  object \n",
      " 8   CONSIDERING_CHANGE_OF_PLAN  18000 non-null  object \n",
      " 9   CHURN                       18000 non-null  int64  \n",
      "dtypes: float64(1), int64(7), object(2)\n",
      "memory usage: 1.4+ MB\n"
     ]
    }
   ],
   "source": [
    "mobile.info()"
   ]
  },
  {
   "cell_type": "code",
   "execution_count": 4,
   "metadata": {},
   "outputs": [
    {
     "data": {
      "text/plain": [
       "COLLEGE                         0\n",
       "INCOME                          0\n",
       "OVERAGE                         0\n",
       "LEFTOVER                        0\n",
       "HOUSE                         215\n",
       "HANDSET_PRICE                   0\n",
       "AVERAGE_CALL_DURATION           0\n",
       "REPORTED_SATISFACTION          38\n",
       "CONSIDERING_CHANGE_OF_PLAN      0\n",
       "CHURN                           0\n",
       "dtype: int64"
      ]
     },
     "execution_count": 4,
     "metadata": {},
     "output_type": "execute_result"
    }
   ],
   "source": [
    "mobile.isnull().sum()"
   ]
  },
  {
   "cell_type": "markdown",
   "metadata": {
    "id": "bKimk8qVm8oC"
   },
   "source": [
    "----"
   ]
  },
  {
   "cell_type": "markdown",
   "metadata": {
    "id": "0bouXLxGkSSd"
   },
   "source": [
    "## 1.가설수립"
   ]
  },
  {
   "cell_type": "markdown",
   "metadata": {
    "id": "69Q5jPGu1JQ0"
   },
   "source": [
    "* 숫자형 최소 3개이상, 범주형 최소 2개 이상씩, 전체 6개의 변수를 도출, 가설을 수립하시오."
   ]
  },
  {
   "cell_type": "markdown",
   "metadata": {
    "id": "ydh7lwR6EHuL"
   },
   "source": [
    "* 가설1 : 변경 계획 설문에 따른 이탈여부가 달라질 것이다."
   ]
  },
  {
   "cell_type": "markdown",
   "metadata": {
    "id": "haK-v6pXEHuL"
   },
   "source": [
    "* 가설2 : 평균 통화시간에 따라 이탈여부가 달라질 것이다."
   ]
  },
  {
   "cell_type": "markdown",
   "metadata": {
    "id": "bXpNRpDcEHuL"
   },
   "source": [
    "* 가설3 : 만족도에 따른 이탈여부가 달라질 것이다."
   ]
  },
  {
   "cell_type": "markdown",
   "metadata": {
    "id": "zvZmmfXOEHuL"
   },
   "source": [
    "* 가설4 : 월 초과사용 시간에 따른 이탈여부가 달라질 것이다."
   ]
  },
  {
   "cell_type": "markdown",
   "metadata": {
    "id": "b0LB5ArmEHuM"
   },
   "source": [
    "* 가설5 : 월 사용 잔여시간에 따른 이탈여부가 달라질 것이다."
   ]
  },
  {
   "cell_type": "markdown",
   "metadata": {
    "id": "3kIuQfdJ_i0L"
   },
   "source": [
    "* 가설6 : 대학 졸업 여부에 따라 이탈여부가 달라질 것이다."
   ]
  },
  {
   "cell_type": "markdown",
   "metadata": {
    "id": "82xzJIZhnAaX"
   },
   "source": [
    "----"
   ]
  },
  {
   "cell_type": "markdown",
   "metadata": {
    "id": "1hYPpnplEedX"
   },
   "source": [
    "## 2.단변량 분석\n",
    "\n",
    "① 변수의 비즈니스 의미  \n",
    "\n",
    "② 숫자? 범주?  \n",
    "\n",
    "③ 전처리 사항\n",
    "   - NaN 존재 여부 및 조치 방안  \n",
    "   - 가변수화 대상여부  \n",
    "   \n",
    "④ 기초통계량\n",
    "\n",
    "⑤ 분포  \n",
    "\n",
    "⑥ 위 정보로부터 파악한 내용(비즈니스!) 정리  \n",
    "\n",
    "⑦ 추가 분석해볼 사항 도출"
   ]
  },
  {
   "cell_type": "markdown",
   "metadata": {
    "id": "BP8iBi7We3AI"
   },
   "source": [
    "### 1) COLLEGE"
   ]
  },
  {
   "cell_type": "code",
   "execution_count": 5,
   "metadata": {
    "id": "NRIsridhK3el"
   },
   "outputs": [],
   "source": [
    "var = 'COLLEGE'"
   ]
  },
  {
   "cell_type": "markdown",
   "metadata": {},
   "source": [
    "1) 변수의 비즈니스 의미"
   ]
  },
  {
   "cell_type": "markdown",
   "metadata": {
    "id": "LdfsedUEEMP6"
   },
   "source": [
    "> 대학졸업 여부(1,0)"
   ]
  },
  {
   "cell_type": "markdown",
   "metadata": {
    "id": "n53LBx0fEMMs"
   },
   "source": [
    "2) 숫자? 범주? "
   ]
  },
  {
   "cell_type": "markdown",
   "metadata": {
    "id": "M-dKqpwTEMJe"
   },
   "source": [
    "> 범주"
   ]
  },
  {
   "cell_type": "markdown",
   "metadata": {
    "id": "-67MJSNHEMF6"
   },
   "source": [
    "3) 전처리 사항"
   ]
  },
  {
   "cell_type": "code",
   "execution_count": 6,
   "metadata": {},
   "outputs": [
    {
     "data": {
      "text/plain": [
       "0"
      ]
     },
     "execution_count": 6,
     "metadata": {},
     "output_type": "execute_result"
    }
   ],
   "source": [
    "mobile[var].isnull().sum()"
   ]
  },
  {
   "cell_type": "markdown",
   "metadata": {},
   "source": [
    "* NaN 존재 여부 및 조치 방안"
   ]
  },
  {
   "cell_type": "markdown",
   "metadata": {},
   "source": [
    "> NaN 존재하지 않음"
   ]
  },
  {
   "cell_type": "markdown",
   "metadata": {},
   "source": [
    "* 가변수화 대상 여부"
   ]
  },
  {
   "cell_type": "markdown",
   "metadata": {},
   "source": [
    "> 대학 졸업 여부를 0과 1로 표현되어 있기 때문에 가변수화 불필요"
   ]
  },
  {
   "cell_type": "markdown",
   "metadata": {},
   "source": [
    "4) 기초통계량"
   ]
  },
  {
   "cell_type": "code",
   "execution_count": 7,
   "metadata": {},
   "outputs": [
    {
     "data": {
      "text/plain": [
       "count    18000.000000\n",
       "mean         0.502722\n",
       "std          0.500006\n",
       "min          0.000000\n",
       "25%          0.000000\n",
       "50%          1.000000\n",
       "75%          1.000000\n",
       "max          1.000000\n",
       "Name: COLLEGE, dtype: float64"
      ]
     },
     "execution_count": 7,
     "metadata": {},
     "output_type": "execute_result"
    }
   ],
   "source": [
    "mobile[var].describe()"
   ]
  },
  {
   "cell_type": "markdown",
   "metadata": {},
   "source": [
    "5) 분포"
   ]
  },
  {
   "cell_type": "code",
   "execution_count": 8,
   "metadata": {},
   "outputs": [
    {
     "name": "stderr",
     "output_type": "stream",
     "text": [
      "C:\\Users\\User\\anaconda3\\lib\\site-packages\\seaborn\\_decorators.py:36: FutureWarning: Pass the following variable as a keyword arg: x. From version 0.12, the only valid positional argument will be `data`, and passing other arguments without an explicit keyword will result in an error or misinterpretation.\n",
      "  warnings.warn(\n"
     ]
    },
    {
     "data": {
      "image/png": "[encoded data removed]",
      "text/plain": [
       "<Figure size 432x288 with 1 Axes>"
      ]
     },
     "metadata": {
      "needs_background": "light"
     },
     "output_type": "display_data"
    }
   ],
   "source": [
    "sns.countplot(mobile[var])\n",
    "plt.show()"
   ]
  },
  {
   "cell_type": "markdown",
   "metadata": {},
   "source": [
    "6) 위 정보로부터 파악한 내용(비즈니스) 정리"
   ]
  },
  {
   "cell_type": "markdown",
   "metadata": {},
   "source": [
    "> * 대학을 졸업한 사람과 졸업하지 않은 사람의 비율이 비슷하다.\n",
    "> * 대학 졸업 여부와 상관 없이 누구나 핸드폰을 가지고 있다."
   ]
  },
  {
   "cell_type": "markdown",
   "metadata": {},
   "source": [
    "7) 추가 분석해볼 사항 도출"
   ]
  },
  {
   "cell_type": "markdown",
   "metadata": {},
   "source": [
    "> * 대학 졸업 여부가 연 수입액에 미치는 영향이 있는지 확인해 볼 필요가 있다.\n",
    "> * 바꾸는 시기가 대학 때라는 설문 조사를 확인했었는데 0에서 변경되는 비율을 확인해 봐야겠다."
   ]
  },
  {
   "cell_type": "markdown",
   "metadata": {
    "id": "UNgJNBEIfB1p"
   },
   "source": [
    "### 2) OVERAGE"
   ]
  },
  {
   "cell_type": "code",
   "execution_count": 9,
   "metadata": {
    "id": "NRIsridhK3el"
   },
   "outputs": [],
   "source": [
    "var = 'OVERAGE'"
   ]
  },
  {
   "cell_type": "markdown",
   "metadata": {},
   "source": [
    "1) 변수의 비즈니스 의미"
   ]
  },
  {
   "cell_type": "markdown",
   "metadata": {
    "id": "LdfsedUEEMP6"
   },
   "source": [
    "> 월 초과사용 시간(분)"
   ]
  },
  {
   "cell_type": "markdown",
   "metadata": {
    "id": "n53LBx0fEMMs"
   },
   "source": [
    "2) 숫자? 범주? "
   ]
  },
  {
   "cell_type": "markdown",
   "metadata": {
    "id": "M-dKqpwTEMJe"
   },
   "source": [
    "> 숫자"
   ]
  },
  {
   "cell_type": "markdown",
   "metadata": {
    "id": "-67MJSNHEMF6"
   },
   "source": [
    "3) 전처리 사항"
   ]
  },
  {
   "cell_type": "code",
   "execution_count": 10,
   "metadata": {},
   "outputs": [
    {
     "data": {
      "text/plain": [
       "0"
      ]
     },
     "execution_count": 10,
     "metadata": {},
     "output_type": "execute_result"
    }
   ],
   "source": [
    "mobile[var].isnull().sum()"
   ]
  },
  {
   "cell_type": "markdown",
   "metadata": {},
   "source": [
    "* NaN 존재 여부 및 조치 방안"
   ]
  },
  {
   "cell_type": "markdown",
   "metadata": {},
   "source": [
    "> NaN 존재하지 않음"
   ]
  },
  {
   "cell_type": "markdown",
   "metadata": {},
   "source": [
    "* 가변수화 대상 여부"
   ]
  },
  {
   "cell_type": "markdown",
   "metadata": {},
   "source": [
    "> 수치 데이터로 불필요"
   ]
  },
  {
   "cell_type": "markdown",
   "metadata": {},
   "source": [
    "4) 기초통계량"
   ]
  },
  {
   "cell_type": "code",
   "execution_count": 11,
   "metadata": {},
   "outputs": [
    {
     "data": {
      "text/plain": [
       "count    18000.000000\n",
       "mean        86.014833\n",
       "std         85.963981\n",
       "min         -2.000000\n",
       "25%          0.000000\n",
       "50%         59.000000\n",
       "75%        179.000000\n",
       "max        335.000000\n",
       "Name: OVERAGE, dtype: float64"
      ]
     },
     "execution_count": 11,
     "metadata": {},
     "output_type": "execute_result"
    }
   ],
   "source": [
    "mobile[var].describe()"
   ]
  },
  {
   "cell_type": "markdown",
   "metadata": {},
   "source": [
    "5) 분포"
   ]
  },
  {
   "cell_type": "code",
   "execution_count": 12,
   "metadata": {},
   "outputs": [
    {
     "data": {
      "image/png": "[encoded data removed]",
      "text/plain": [
       "<Figure size 432x288 with 1 Axes>"
      ]
     },
     "metadata": {
      "needs_background": "light"
     },
     "output_type": "display_data"
    }
   ],
   "source": [
    "sns.histplot(mobile[var], bins = 30)\n",
    "plt.show()"
   ]
  },
  {
   "cell_type": "code",
   "execution_count": 13,
   "metadata": {},
   "outputs": [
    {
     "data": {
      "image/png": "[encoded data removed]",
      "text/plain": [
       "<Figure size 432x288 with 1 Axes>"
      ]
     },
     "metadata": {
      "needs_background": "light"
     },
     "output_type": "display_data"
    },
    {
     "name": "stdout",
     "output_type": "stream",
     "text": [
      "[ 0. -2.]\n",
      "[179. 335.]\n"
     ]
    }
   ],
   "source": [
    "box = plt.boxplot(mobile[var])\n",
    "plt.show()\n",
    "\n",
    "print(box['whiskers'][0].get_ydata())\n",
    "print(box['whiskers'][1].get_ydata())"
   ]
  },
  {
   "cell_type": "markdown",
   "metadata": {},
   "source": [
    "6) 위 정보로부터 파악한 내용(비즈니스) 정리"
   ]
  },
  {
   "cell_type": "markdown",
   "metadata": {},
   "source": [
    "> * -2 값이 들어가 있다. <= 음수가 얼마나 많은지로 결측치인지 아니면 0으로 변경할지 확인 필요\n",
    "\n",
    "> * 1) 0이 가장 많은 인원이 있는 것으로 보아 초과 요금을 내지 않기 위에 맞춰서 쓰는 것같다.\n",
    "> * 2) 추가 통화 비용이 너무 비싸기 때문에 맞춰서 사용한다.\n",
    ">   * 추가 통화를 하는 사람의 연봉은 과연 더 많이 버는가?\n",
    "> * 3) 요금제를 다들 넉넉한 것을 사용하고 있다. "
   ]
  },
  {
   "cell_type": "markdown",
   "metadata": {},
   "source": [
    "7) 추가 분석해볼 사항 도출"
   ]
  },
  {
   "cell_type": "markdown",
   "metadata": {},
   "source": [
    "> * 추가 사용과 연 수입액을 확인해서 요금제를 유추할 수 있을 것이다."
   ]
  },
  {
   "cell_type": "markdown",
   "metadata": {
    "id": "e3QPEq8efB1r"
   },
   "source": [
    "### 3) LEFTOVER"
   ]
  },
  {
   "cell_type": "code",
   "execution_count": 14,
   "metadata": {
    "id": "NRIsridhK3el"
   },
   "outputs": [],
   "source": [
    "var = 'LEFTOVER'"
   ]
  },
  {
   "cell_type": "markdown",
   "metadata": {},
   "source": [
    "1) 변수의 비즈니스 의미"
   ]
  },
  {
   "cell_type": "markdown",
   "metadata": {
    "id": "LdfsedUEEMP6"
   },
   "source": [
    "> 월 사용 잔여시간(%)"
   ]
  },
  {
   "cell_type": "markdown",
   "metadata": {
    "id": "n53LBx0fEMMs"
   },
   "source": [
    "2) 숫자? 범주? "
   ]
  },
  {
   "cell_type": "markdown",
   "metadata": {
    "id": "M-dKqpwTEMJe"
   },
   "source": [
    "> 숫자"
   ]
  },
  {
   "cell_type": "markdown",
   "metadata": {
    "id": "-67MJSNHEMF6"
   },
   "source": [
    "3) 전처리 사항"
   ]
  },
  {
   "cell_type": "code",
   "execution_count": 15,
   "metadata": {},
   "outputs": [
    {
     "data": {
      "text/plain": [
       "0"
      ]
     },
     "execution_count": 15,
     "metadata": {},
     "output_type": "execute_result"
    }
   ],
   "source": [
    "mobile[var].isnull().sum()"
   ]
  },
  {
   "cell_type": "markdown",
   "metadata": {},
   "source": [
    "* NaN 존재 여부 및 조치 방안"
   ]
  },
  {
   "cell_type": "markdown",
   "metadata": {},
   "source": [
    "> NaN 존재하지 않음"
   ]
  },
  {
   "cell_type": "markdown",
   "metadata": {},
   "source": [
    "* 가변수화 대상 여부"
   ]
  },
  {
   "cell_type": "markdown",
   "metadata": {},
   "source": [
    "> 수치 데이터로 불필요"
   ]
  },
  {
   "cell_type": "markdown",
   "metadata": {},
   "source": [
    "4) 기초통계량"
   ]
  },
  {
   "cell_type": "code",
   "execution_count": 16,
   "metadata": {},
   "outputs": [
    {
     "data": {
      "text/plain": [
       "count    18000.000000\n",
       "mean        23.995500\n",
       "std         26.860363\n",
       "min          0.000000\n",
       "25%          0.000000\n",
       "50%         14.500000\n",
       "75%         42.000000\n",
       "max         89.000000\n",
       "Name: LEFTOVER, dtype: float64"
      ]
     },
     "execution_count": 16,
     "metadata": {},
     "output_type": "execute_result"
    }
   ],
   "source": [
    "mobile[var].describe()"
   ]
  },
  {
   "cell_type": "markdown",
   "metadata": {},
   "source": [
    "5) 분포"
   ]
  },
  {
   "cell_type": "code",
   "execution_count": 17,
   "metadata": {},
   "outputs": [
    {
     "data": {
      "image/png": "[encoded data removed]",
      "text/plain": [
       "<Figure size 432x288 with 1 Axes>"
      ]
     },
     "metadata": {
      "needs_background": "light"
     },
     "output_type": "display_data"
    }
   ],
   "source": [
    "sns.histplot(mobile[var], bins = 30)\n",
    "plt.show()"
   ]
  },
  {
   "cell_type": "code",
   "execution_count": 18,
   "metadata": {},
   "outputs": [
    {
     "data": {
      "image/png": "[encoded data removed]",
      "text/plain": [
       "<Figure size 432x288 with 1 Axes>"
      ]
     },
     "metadata": {
      "needs_background": "light"
     },
     "output_type": "display_data"
    },
    {
     "name": "stdout",
     "output_type": "stream",
     "text": [
      "[0. 0.]\n",
      "[42. 89.]\n"
     ]
    }
   ],
   "source": [
    "box = plt.boxplot(mobile[var])\n",
    "plt.show()\n",
    "\n",
    "print(box['whiskers'][0].get_ydata())\n",
    "print(box['whiskers'][1].get_ydata())"
   ]
  },
  {
   "cell_type": "markdown",
   "metadata": {},
   "source": [
    "6) 위 정보로부터 파악한 내용(비즈니스) 정리"
   ]
  },
  {
   "cell_type": "markdown",
   "metadata": {},
   "source": [
    "> * 잔여 시간이 0인 사람이 많다. => 초가 사용하는 사람이라는 것인가?\n",
    "> * 잔여 시간이 89%인 사람이 있다. => 요금이 비싸서 많이 남은 것인가?"
   ]
  },
  {
   "cell_type": "markdown",
   "metadata": {},
   "source": [
    "7) 추가 분석해볼 사항 도출"
   ]
  },
  {
   "cell_type": "markdown",
   "metadata": {},
   "source": [
    "> * 0인 사람은 초과 사용을 하는지 확인해 봐야겠다."
   ]
  },
  {
   "cell_type": "markdown",
   "metadata": {
    "id": "E5rB6CiofI_d"
   },
   "source": [
    "### 4) AVERAGE_CALL_DURATION\t"
   ]
  },
  {
   "cell_type": "code",
   "execution_count": 19,
   "metadata": {
    "id": "NRIsridhK3el"
   },
   "outputs": [],
   "source": [
    "var = 'AVERAGE_CALL_DURATION'"
   ]
  },
  {
   "cell_type": "markdown",
   "metadata": {},
   "source": [
    "1) 변수의 비즈니스 의미"
   ]
  },
  {
   "cell_type": "markdown",
   "metadata": {
    "id": "LdfsedUEEMP6"
   },
   "source": [
    "> 평균 통화시간(분)"
   ]
  },
  {
   "cell_type": "markdown",
   "metadata": {
    "id": "n53LBx0fEMMs"
   },
   "source": [
    "2) 숫자? 범주? "
   ]
  },
  {
   "cell_type": "markdown",
   "metadata": {
    "id": "M-dKqpwTEMJe"
   },
   "source": [
    "> 숫자"
   ]
  },
  {
   "cell_type": "markdown",
   "metadata": {
    "id": "-67MJSNHEMF6"
   },
   "source": [
    "3) 전처리 사항"
   ]
  },
  {
   "cell_type": "code",
   "execution_count": 20,
   "metadata": {},
   "outputs": [
    {
     "data": {
      "text/plain": [
       "0"
      ]
     },
     "execution_count": 20,
     "metadata": {},
     "output_type": "execute_result"
    }
   ],
   "source": [
    "mobile[var].isnull().sum()"
   ]
  },
  {
   "cell_type": "markdown",
   "metadata": {},
   "source": [
    "* NaN 존재 여부 및 조치 방안"
   ]
  },
  {
   "cell_type": "markdown",
   "metadata": {},
   "source": [
    "> NaN 존재하지 않음"
   ]
  },
  {
   "cell_type": "markdown",
   "metadata": {},
   "source": [
    "* 가변수화 대상 여부"
   ]
  },
  {
   "cell_type": "markdown",
   "metadata": {},
   "source": [
    "> 수치 데이터로 불필요"
   ]
  },
  {
   "cell_type": "markdown",
   "metadata": {},
   "source": [
    "4) 기초통계량"
   ]
  },
  {
   "cell_type": "code",
   "execution_count": 21,
   "metadata": {},
   "outputs": [
    {
     "data": {
      "text/plain": [
       "count    18000.000000\n",
       "mean         5.990944\n",
       "std          4.398894\n",
       "min          1.000000\n",
       "25%          2.000000\n",
       "50%          5.000000\n",
       "75%         10.000000\n",
       "max         15.000000\n",
       "Name: AVERAGE_CALL_DURATION, dtype: float64"
      ]
     },
     "execution_count": 21,
     "metadata": {},
     "output_type": "execute_result"
    }
   ],
   "source": [
    "mobile[var].describe()"
   ]
  },
  {
   "cell_type": "markdown",
   "metadata": {},
   "source": [
    "5) 분포"
   ]
  },
  {
   "cell_type": "code",
   "execution_count": 22,
   "metadata": {},
   "outputs": [
    {
     "data": {
      "image/png": "[encoded data removed]",
      "text/plain": [
       "<Figure size 432x288 with 1 Axes>"
      ]
     },
     "metadata": {
      "needs_background": "light"
     },
     "output_type": "display_data"
    }
   ],
   "source": [
    "sns.histplot(mobile[var], bins = 5)\n",
    "plt.show()"
   ]
  },
  {
   "cell_type": "code",
   "execution_count": 23,
   "metadata": {},
   "outputs": [
    {
     "data": {
      "image/png": "[encoded data removed]",
      "text/plain": [
       "<Figure size 432x288 with 1 Axes>"
      ]
     },
     "metadata": {
      "needs_background": "light"
     },
     "output_type": "display_data"
    },
    {
     "name": "stdout",
     "output_type": "stream",
     "text": [
      "[2. 1.]\n",
      "[10. 15.]\n"
     ]
    }
   ],
   "source": [
    "box = plt.boxplot(mobile[var])\n",
    "plt.show()\n",
    "\n",
    "print(box['whiskers'][0].get_ydata())\n",
    "print(box['whiskers'][1].get_ydata())"
   ]
  },
  {
   "cell_type": "markdown",
   "metadata": {},
   "source": [
    "6) 위 정보로부터 파악한 내용(비즈니스) 정리"
   ]
  },
  {
   "cell_type": "markdown",
   "metadata": {},
   "source": [
    "> * 한번 통화를 진행할 때 최대 15분까지만 전화를 한다.\n",
    "> * 최소 1분은 통화를 진행한다."
   ]
  },
  {
   "cell_type": "markdown",
   "metadata": {},
   "source": [
    "7) 추가 분석해볼 사항 도출"
   ]
  },
  {
   "cell_type": "markdown",
   "metadata": {},
   "source": [
    "> * 연 수입과 비교해서 통화를 많이 하는 사람은 많이 버는지 확인이 가능할 것이다.\n",
    "> * 통화량이 많은 사람은 초과 하는 경우가 많은 확인을 할 필요가 있어보인다."
   ]
  },
  {
   "cell_type": "markdown",
   "metadata": {
    "id": "Es3rqfErEb4L"
   },
   "source": [
    "### 5) REPORTED_SATISFACTION"
   ]
  },
  {
   "cell_type": "code",
   "execution_count": 24,
   "metadata": {
    "id": "NRIsridhK3el"
   },
   "outputs": [],
   "source": [
    "var = 'REPORTED_SATISFACTION'"
   ]
  },
  {
   "cell_type": "markdown",
   "metadata": {},
   "source": [
    "1) 변수의 비즈니스 의미"
   ]
  },
  {
   "cell_type": "markdown",
   "metadata": {
    "id": "LdfsedUEEMP6"
   },
   "source": [
    "> 만족도 설문('very_unsat', 'unsat', 'avg', 'sat' , 'very_sat')"
   ]
  },
  {
   "cell_type": "markdown",
   "metadata": {
    "id": "n53LBx0fEMMs"
   },
   "source": [
    "2) 숫자? 범주? "
   ]
  },
  {
   "cell_type": "markdown",
   "metadata": {
    "id": "M-dKqpwTEMJe"
   },
   "source": [
    "> 범주"
   ]
  },
  {
   "cell_type": "markdown",
   "metadata": {
    "id": "-67MJSNHEMF6"
   },
   "source": [
    "3) 전처리 사항"
   ]
  },
  {
   "cell_type": "code",
   "execution_count": 25,
   "metadata": {},
   "outputs": [
    {
     "data": {
      "text/plain": [
       "38"
      ]
     },
     "execution_count": 25,
     "metadata": {},
     "output_type": "execute_result"
    }
   ],
   "source": [
    "mobile[var].isnull().sum()"
   ]
  },
  {
   "cell_type": "markdown",
   "metadata": {},
   "source": [
    "* NaN 존재 여부 및 조치 방안"
   ]
  },
  {
   "cell_type": "markdown",
   "metadata": {},
   "source": [
    "> * 38개의 NaN이 존재한다.\n",
    "> * 변경 계획 설문 변수를 이용해서 상관관계가 있으면 변경 계획별로 처리를 하는 방법도 하나일 것 같다."
   ]
  },
  {
   "cell_type": "markdown",
   "metadata": {},
   "source": [
    "* 가변수화 대상 여부"
   ]
  },
  {
   "cell_type": "markdown",
   "metadata": {},
   "source": [
    "> * 가변수화가 필요하다.\n",
    "> * 0:'very_unsat', 1:'unsat', 2:'avg', 3:'sat' , 4:'very_sat'로 수치화도 가능할 것 같다."
   ]
  },
  {
   "cell_type": "markdown",
   "metadata": {},
   "source": [
    "4) 기초통계량"
   ]
  },
  {
   "cell_type": "code",
   "execution_count": 26,
   "metadata": {},
   "outputs": [
    {
     "data": {
      "text/plain": [
       "count          17962\n",
       "unique             5\n",
       "top       very_unsat\n",
       "freq            7072\n",
       "Name: REPORTED_SATISFACTION, dtype: object"
      ]
     },
     "execution_count": 26,
     "metadata": {},
     "output_type": "execute_result"
    }
   ],
   "source": [
    "mobile[var].describe()"
   ]
  },
  {
   "cell_type": "markdown",
   "metadata": {},
   "source": [
    "5) 분포"
   ]
  },
  {
   "cell_type": "code",
   "execution_count": 27,
   "metadata": {},
   "outputs": [
    {
     "name": "stderr",
     "output_type": "stream",
     "text": [
      "C:\\Users\\User\\anaconda3\\lib\\site-packages\\seaborn\\_decorators.py:36: FutureWarning: Pass the following variable as a keyword arg: x. From version 0.12, the only valid positional argument will be `data`, and passing other arguments without an explicit keyword will result in an error or misinterpretation.\n",
      "  warnings.warn(\n"
     ]
    },
    {
     "data": {
      "image/png": "[encoded data removed]",
      "text/plain": [
       "<Figure size 432x288 with 1 Axes>"
      ]
     },
     "metadata": {
      "needs_background": "light"
     },
     "output_type": "display_data"
    }
   ],
   "source": [
    "sns.countplot(mobile[var])\n",
    "plt.show()"
   ]
  },
  {
   "cell_type": "markdown",
   "metadata": {},
   "source": [
    "6) 위 정보로부터 파악한 내용(비즈니스) 정리"
   ]
  },
  {
   "cell_type": "markdown",
   "metadata": {},
   "source": [
    "> * 매우 불만족하는 경우가 많다.\n",
    "> * 서비스가 별로거나 통화료가 많이 나오는것 같다."
   ]
  },
  {
   "cell_type": "markdown",
   "metadata": {},
   "source": [
    "7) 추가 분석해볼 사항 도출"
   ]
  },
  {
   "cell_type": "markdown",
   "metadata": {},
   "source": [
    "> * 불만족하는 사람들의 통화 패턴을 확인해 볼 필요가 있어 보인다."
   ]
  },
  {
   "cell_type": "markdown",
   "metadata": {},
   "source": [
    "### 6) CONSIDERING_CHANGE_OF_PLAN"
   ]
  },
  {
   "cell_type": "code",
   "execution_count": 28,
   "metadata": {
    "id": "NRIsridhK3el"
   },
   "outputs": [],
   "source": [
    "var = 'CONSIDERING_CHANGE_OF_PLAN'"
   ]
  },
  {
   "cell_type": "markdown",
   "metadata": {},
   "source": [
    "1) 변수의 비즈니스 의미"
   ]
  },
  {
   "cell_type": "markdown",
   "metadata": {
    "id": "LdfsedUEEMP6"
   },
   "source": [
    "> 변경 계획 설문('never_thought', 'no', 'perhaps', 'considering', 'actively_looking_into_it')"
   ]
  },
  {
   "cell_type": "markdown",
   "metadata": {
    "id": "n53LBx0fEMMs"
   },
   "source": [
    "2) 숫자? 범주? "
   ]
  },
  {
   "cell_type": "markdown",
   "metadata": {
    "id": "M-dKqpwTEMJe"
   },
   "source": [
    "> 범주"
   ]
  },
  {
   "cell_type": "markdown",
   "metadata": {
    "id": "-67MJSNHEMF6"
   },
   "source": [
    "3) 전처리 사항"
   ]
  },
  {
   "cell_type": "code",
   "execution_count": 29,
   "metadata": {},
   "outputs": [
    {
     "data": {
      "text/plain": [
       "0"
      ]
     },
     "execution_count": 29,
     "metadata": {},
     "output_type": "execute_result"
    }
   ],
   "source": [
    "mobile[var].isnull().sum()"
   ]
  },
  {
   "cell_type": "markdown",
   "metadata": {},
   "source": [
    "* NaN 존재 여부 및 조치 방안"
   ]
  },
  {
   "cell_type": "markdown",
   "metadata": {},
   "source": [
    "> NaN 존재하지 않음"
   ]
  },
  {
   "cell_type": "markdown",
   "metadata": {},
   "source": [
    "* 가변수화 대상 여부"
   ]
  },
  {
   "cell_type": "markdown",
   "metadata": {},
   "source": [
    "> * 가변수화 필요해 보임\n",
    "> * 1-5로 정도를 표시해도 가능해 보임 (0:'never_thought', 1:'no', 2:'perhaps', 3:'considering', 4:'actively_looking_into_it')"
   ]
  },
  {
   "cell_type": "markdown",
   "metadata": {},
   "source": [
    "4) 기초통계량"
   ]
  },
  {
   "cell_type": "code",
   "execution_count": 30,
   "metadata": {},
   "outputs": [
    {
     "data": {
      "text/plain": [
       "count           18000\n",
       "unique              5\n",
       "top       considering\n",
       "freq             7141\n",
       "Name: CONSIDERING_CHANGE_OF_PLAN, dtype: object"
      ]
     },
     "execution_count": 30,
     "metadata": {},
     "output_type": "execute_result"
    }
   ],
   "source": [
    "mobile[var].describe()"
   ]
  },
  {
   "cell_type": "markdown",
   "metadata": {},
   "source": [
    "5) 분포"
   ]
  },
  {
   "cell_type": "code",
   "execution_count": 31,
   "metadata": {},
   "outputs": [
    {
     "name": "stderr",
     "output_type": "stream",
     "text": [
      "C:\\Users\\User\\anaconda3\\lib\\site-packages\\seaborn\\_decorators.py:36: FutureWarning: Pass the following variable as a keyword arg: x. From version 0.12, the only valid positional argument will be `data`, and passing other arguments without an explicit keyword will result in an error or misinterpretation.\n",
      "  warnings.warn(\n"
     ]
    },
    {
     "data": {
      "image/png": "[encoded data removed]",
      "text/plain": [
       "<Figure size 432x288 with 1 Axes>"
      ]
     },
     "metadata": {
      "needs_background": "light"
     },
     "output_type": "display_data"
    }
   ],
   "source": [
    "ax = sns.countplot(mobile[var])\n",
    "ax.set_xticklabels(ax.get_xticklabels(), rotation=40, ha=\"right\")\n",
    "plt.tight_layout()\n",
    "plt.show()"
   ]
  },
  {
   "cell_type": "markdown",
   "metadata": {},
   "source": [
    "6) 위 정보로부터 파악한 내용(비즈니스) 정리"
   ]
  },
  {
   "cell_type": "markdown",
   "metadata": {},
   "source": [
    "> * 다 수의 사람들이 변경을 생각하고 있다.\n",
    "> * 충성고객이 매우 적은 것을 확인 할 수 있다."
   ]
  },
  {
   "cell_type": "markdown",
   "metadata": {},
   "source": [
    "7) 추가 분석해볼 사항 도출"
   ]
  },
  {
   "cell_type": "markdown",
   "metadata": {},
   "source": [
    "> * 만족도 설문과 비교해서 변경 계획이 달라지는지 확인해 봐야 겠다."
   ]
  },
  {
   "cell_type": "markdown",
   "metadata": {
    "id": "78iry0XpLCc0"
   },
   "source": [
    "### 7) CHURN(target)"
   ]
  },
  {
   "cell_type": "code",
   "execution_count": 32,
   "metadata": {
    "id": "NRIsridhK3el"
   },
   "outputs": [],
   "source": [
    "var = 'CHURN'"
   ]
  },
  {
   "cell_type": "markdown",
   "metadata": {},
   "source": [
    "1) 변수의 비즈니스 의미"
   ]
  },
  {
   "cell_type": "markdown",
   "metadata": {
    "id": "LdfsedUEEMP6"
   },
   "source": [
    "> 이탈 여부(1,0)"
   ]
  },
  {
   "cell_type": "markdown",
   "metadata": {
    "id": "n53LBx0fEMMs"
   },
   "source": [
    "2) 숫자? 범주? "
   ]
  },
  {
   "cell_type": "markdown",
   "metadata": {
    "id": "M-dKqpwTEMJe"
   },
   "source": [
    "> 범주"
   ]
  },
  {
   "cell_type": "markdown",
   "metadata": {
    "id": "-67MJSNHEMF6"
   },
   "source": [
    "3) 전처리 사항"
   ]
  },
  {
   "cell_type": "code",
   "execution_count": 33,
   "metadata": {},
   "outputs": [
    {
     "data": {
      "text/plain": [
       "0"
      ]
     },
     "execution_count": 33,
     "metadata": {},
     "output_type": "execute_result"
    }
   ],
   "source": [
    "mobile[var].isnull().sum()"
   ]
  },
  {
   "cell_type": "markdown",
   "metadata": {},
   "source": [
    "* NaN 존재 여부 및 조치 방안"
   ]
  },
  {
   "cell_type": "markdown",
   "metadata": {},
   "source": [
    "> NaN 존재하지 않음"
   ]
  },
  {
   "cell_type": "markdown",
   "metadata": {},
   "source": [
    "* 가변수화 대상 여부"
   ]
  },
  {
   "cell_type": "markdown",
   "metadata": {},
   "source": [
    "> 1: 이탈, 0: 자류로 이미 처리되어 있음"
   ]
  },
  {
   "cell_type": "markdown",
   "metadata": {},
   "source": [
    "4) 기초통계량"
   ]
  },
  {
   "cell_type": "code",
   "execution_count": 34,
   "metadata": {},
   "outputs": [
    {
     "data": {
      "text/plain": [
       "count    18000.000000\n",
       "mean         0.492722\n",
       "std          0.499961\n",
       "min          0.000000\n",
       "25%          0.000000\n",
       "50%          0.000000\n",
       "75%          1.000000\n",
       "max          1.000000\n",
       "Name: CHURN, dtype: float64"
      ]
     },
     "execution_count": 34,
     "metadata": {},
     "output_type": "execute_result"
    }
   ],
   "source": [
    "mobile[var].describe()"
   ]
  },
  {
   "cell_type": "markdown",
   "metadata": {},
   "source": [
    "5) 분포"
   ]
  },
  {
   "cell_type": "code",
   "execution_count": 35,
   "metadata": {},
   "outputs": [
    {
     "name": "stderr",
     "output_type": "stream",
     "text": [
      "C:\\Users\\User\\anaconda3\\lib\\site-packages\\seaborn\\_decorators.py:36: FutureWarning: Pass the following variable as a keyword arg: x. From version 0.12, the only valid positional argument will be `data`, and passing other arguments without an explicit keyword will result in an error or misinterpretation.\n",
      "  warnings.warn(\n"
     ]
    },
    {
     "data": {
      "image/png": "[encoded data removed]",
      "text/plain": [
       "<Figure size 432x288 with 1 Axes>"
      ]
     },
     "metadata": {
      "needs_background": "light"
     },
     "output_type": "display_data"
    }
   ],
   "source": [
    "sns.countplot(mobile[var])\n",
    "plt.show()"
   ]
  },
  {
   "cell_type": "markdown",
   "metadata": {},
   "source": [
    "6) 위 정보로부터 파악한 내용(비즈니스) 정리"
   ]
  },
  {
   "cell_type": "markdown",
   "metadata": {},
   "source": [
    "> * 이탈 고객과 잔류 고객이 비슷하다.\n",
    "> * 통신사의 사용자 중 49%는 이탈했다."
   ]
  },
  {
   "cell_type": "markdown",
   "metadata": {},
   "source": [
    "7) 추가 분석해볼 사항 도출"
   ]
  },
  {
   "cell_type": "markdown",
   "metadata": {},
   "source": [
    "> * 다른 변수들 간에 분석을 통해 어느 변수가 가장 유의미한 관계가 있는지 파악해야 겠다."
   ]
  },
  {
   "cell_type": "markdown",
   "metadata": {
    "id": "cYkgwG47evaF"
   },
   "source": [
    "### 8) INCOME"
   ]
  },
  {
   "cell_type": "code",
   "execution_count": 36,
   "metadata": {
    "id": "NRIsridhK3el"
   },
   "outputs": [],
   "source": [
    "var = 'INCOME'"
   ]
  },
  {
   "cell_type": "markdown",
   "metadata": {},
   "source": [
    "1) 변수의 비즈니스 의미"
   ]
  },
  {
   "cell_type": "markdown",
   "metadata": {
    "id": "LdfsedUEEMP6"
   },
   "source": [
    "> 연 수입액(달러)"
   ]
  },
  {
   "cell_type": "markdown",
   "metadata": {
    "id": "n53LBx0fEMMs"
   },
   "source": [
    "2) 숫자? 범주? "
   ]
  },
  {
   "cell_type": "markdown",
   "metadata": {
    "id": "M-dKqpwTEMJe"
   },
   "source": [
    "> 숫자"
   ]
  },
  {
   "cell_type": "markdown",
   "metadata": {
    "id": "-67MJSNHEMF6"
   },
   "source": [
    "3) 전처리 사항"
   ]
  },
  {
   "cell_type": "code",
   "execution_count": 37,
   "metadata": {},
   "outputs": [
    {
     "data": {
      "text/plain": [
       "0"
      ]
     },
     "execution_count": 37,
     "metadata": {},
     "output_type": "execute_result"
    }
   ],
   "source": [
    "mobile[var].isnull().sum()"
   ]
  },
  {
   "cell_type": "markdown",
   "metadata": {},
   "source": [
    "* NaN 존재 여부 및 조치 방안"
   ]
  },
  {
   "cell_type": "markdown",
   "metadata": {},
   "source": [
    "> NaN 존재하지 않음"
   ]
  },
  {
   "cell_type": "markdown",
   "metadata": {},
   "source": [
    "* 가변수화 대상 여부"
   ]
  },
  {
   "cell_type": "markdown",
   "metadata": {},
   "source": [
    "> 수치 데이터로 불필요"
   ]
  },
  {
   "cell_type": "markdown",
   "metadata": {},
   "source": [
    "4) 기초통계량"
   ]
  },
  {
   "cell_type": "code",
   "execution_count": 38,
   "metadata": {},
   "outputs": [
    {
     "data": {
      "text/plain": [
       "count     18000.000000\n",
       "mean      80314.400278\n",
       "std       41703.420130\n",
       "min       20007.000000\n",
       "25%       42151.500000\n",
       "50%       75501.500000\n",
       "75%      116082.250000\n",
       "max      159983.000000\n",
       "Name: INCOME, dtype: float64"
      ]
     },
     "execution_count": 38,
     "metadata": {},
     "output_type": "execute_result"
    }
   ],
   "source": [
    "mobile[var].describe()"
   ]
  },
  {
   "cell_type": "markdown",
   "metadata": {},
   "source": [
    "5) 분포"
   ]
  },
  {
   "cell_type": "code",
   "execution_count": 39,
   "metadata": {},
   "outputs": [
    {
     "data": {
      "image/png": "[encoded data removed]",
      "text/plain": [
       "<Figure size 432x288 with 1 Axes>"
      ]
     },
     "metadata": {
      "needs_background": "light"
     },
     "output_type": "display_data"
    }
   ],
   "source": [
    "sns.histplot(mobile[var], bins = 30)\n",
    "plt.show()"
   ]
  },
  {
   "cell_type": "code",
   "execution_count": 40,
   "metadata": {},
   "outputs": [
    {
     "data": {
      "image/png": "[encoded data removed]",
      "text/plain": [
       "<Figure size 432x288 with 1 Axes>"
      ]
     },
     "metadata": {
      "needs_background": "light"
     },
     "output_type": "display_data"
    },
    {
     "name": "stdout",
     "output_type": "stream",
     "text": [
      "[42151.5 20007. ]\n",
      "[116082.25 159983.  ]\n"
     ]
    }
   ],
   "source": [
    "box = plt.boxplot(mobile[var])\n",
    "plt.show()\n",
    "\n",
    "print(box['whiskers'][0].get_ydata())\n",
    "print(box['whiskers'][1].get_ydata())"
   ]
  },
  {
   "cell_type": "markdown",
   "metadata": {},
   "source": [
    "6) 위 정보로부터 파악한 내용(비즈니스) 정리"
   ]
  },
  {
   "cell_type": "markdown",
   "metadata": {},
   "source": [
    "> * 다양한 연봉의 사람들이 통신사를 사용하고 있다."
   ]
  },
  {
   "cell_type": "markdown",
   "metadata": {},
   "source": [
    "7) 추가 분석해볼 사항 도출"
   ]
  },
  {
   "cell_type": "markdown",
   "metadata": {},
   "source": [
    "> * 대학 졸업 여부와 연봉의 가능성을 파악해볼 필요가 있을 것 같다."
   ]
  },
  {
   "cell_type": "markdown",
   "metadata": {
    "id": "2V44ES-3ElPI"
   },
   "source": [
    "### 9) HOUSE"
   ]
  },
  {
   "cell_type": "code",
   "execution_count": 41,
   "metadata": {
    "id": "NRIsridhK3el"
   },
   "outputs": [],
   "source": [
    "var = 'HOUSE'"
   ]
  },
  {
   "cell_type": "markdown",
   "metadata": {},
   "source": [
    "1) 변수의 비즈니스 의미"
   ]
  },
  {
   "cell_type": "markdown",
   "metadata": {
    "id": "LdfsedUEEMP6"
   },
   "source": [
    "> 집 가격(달러)"
   ]
  },
  {
   "cell_type": "markdown",
   "metadata": {
    "id": "n53LBx0fEMMs"
   },
   "source": [
    "2) 숫자? 범주? "
   ]
  },
  {
   "cell_type": "markdown",
   "metadata": {
    "id": "M-dKqpwTEMJe"
   },
   "source": [
    "> 숫자"
   ]
  },
  {
   "cell_type": "markdown",
   "metadata": {
    "id": "-67MJSNHEMF6"
   },
   "source": [
    "3) 전처리 사항"
   ]
  },
  {
   "cell_type": "code",
   "execution_count": 42,
   "metadata": {},
   "outputs": [
    {
     "data": {
      "text/plain": [
       "215"
      ]
     },
     "execution_count": 42,
     "metadata": {},
     "output_type": "execute_result"
    }
   ],
   "source": [
    "mobile[var].isnull().sum()"
   ]
  },
  {
   "cell_type": "markdown",
   "metadata": {},
   "source": [
    "* NaN 존재 여부 및 조치 방안"
   ]
  },
  {
   "cell_type": "markdown",
   "metadata": {},
   "source": [
    "> * 215개의 NaN 이 존재한다.\n",
    "> * 연 수입과 집 가격의 상관관계가 존재한다면 연 수입을 범주로 변경해서 평균 값을 주는 것도 좋은 방법으로 보임"
   ]
  },
  {
   "cell_type": "markdown",
   "metadata": {},
   "source": [
    "* 가변수화 대상 여부"
   ]
  },
  {
   "cell_type": "markdown",
   "metadata": {},
   "source": [
    "> 수치 데이터로 불필요"
   ]
  },
  {
   "cell_type": "markdown",
   "metadata": {},
   "source": [
    "4) 기초통계량"
   ]
  },
  {
   "cell_type": "code",
   "execution_count": 43,
   "metadata": {},
   "outputs": [
    {
     "data": {
      "text/plain": [
       "count     17785.000000\n",
       "mean     492950.532696\n",
       "std      252175.173507\n",
       "min      150015.000000\n",
       "25%      263876.000000\n",
       "50%      452277.000000\n",
       "75%      701460.000000\n",
       "max      999970.000000\n",
       "Name: HOUSE, dtype: float64"
      ]
     },
     "execution_count": 43,
     "metadata": {},
     "output_type": "execute_result"
    }
   ],
   "source": [
    "mobile[var].describe()"
   ]
  },
  {
   "cell_type": "markdown",
   "metadata": {},
   "source": [
    "5) 분포"
   ]
  },
  {
   "cell_type": "code",
   "execution_count": 44,
   "metadata": {},
   "outputs": [
    {
     "data": {
      "image/png": "[encoded data removed]",
      "text/plain": [
       "<Figure size 432x288 with 1 Axes>"
      ]
     },
     "metadata": {
      "needs_background": "light"
     },
     "output_type": "display_data"
    }
   ],
   "source": [
    "sns.histplot(mobile[var], bins = 30)\n",
    "plt.show()"
   ]
  },
  {
   "cell_type": "code",
   "execution_count": 45,
   "metadata": {},
   "outputs": [
    {
     "data": {
      "image/png": "[encoded data removed]",
      "text/plain": [
       "<Figure size 432x288 with 1 Axes>"
      ]
     },
     "metadata": {
      "needs_background": "light"
     },
     "output_type": "display_data"
    },
    {
     "name": "stdout",
     "output_type": "stream",
     "text": [
      "[263876. 150015.]\n",
      "[701460. 999970.]\n"
     ]
    }
   ],
   "source": [
    "tmp = mobile[mobile[var].notnull()]\n",
    "box = plt.boxplot(tmp[var])\n",
    "plt.show()\n",
    "\n",
    "print(box['whiskers'][0].get_ydata())\n",
    "print(box['whiskers'][1].get_ydata())"
   ]
  },
  {
   "cell_type": "markdown",
   "metadata": {},
   "source": [
    "6) 위 정보로부터 파악한 내용(비즈니스) 정리"
   ]
  },
  {
   "cell_type": "markdown",
   "metadata": {},
   "source": [
    "> * 집값 중 가장 싼 곳이 150015 달러이다.\n",
    "> * 많은 사람들이 300000 정도 이하에 있다."
   ]
  },
  {
   "cell_type": "markdown",
   "metadata": {},
   "source": [
    "7) 추가 분석해볼 사항 도출"
   ]
  },
  {
   "cell_type": "markdown",
   "metadata": {},
   "source": [
    "> * NaN 값을 확인하기 위해 다른 변수들과의 상관관계 파악이 필요해 보임"
   ]
  },
  {
   "cell_type": "markdown",
   "metadata": {
    "id": "JtuaNNKyEmOL"
   },
   "source": [
    "### 10) HANDSET_PRICE"
   ]
  },
  {
   "cell_type": "code",
   "execution_count": 46,
   "metadata": {
    "id": "NRIsridhK3el"
   },
   "outputs": [],
   "source": [
    "var = 'HANDSET_PRICE'"
   ]
  },
  {
   "cell_type": "markdown",
   "metadata": {},
   "source": [
    "1) 변수의 비즈니스 의미"
   ]
  },
  {
   "cell_type": "markdown",
   "metadata": {
    "id": "LdfsedUEEMP6"
   },
   "source": [
    "> 핸드폰 가격(달러)"
   ]
  },
  {
   "cell_type": "markdown",
   "metadata": {
    "id": "n53LBx0fEMMs"
   },
   "source": [
    "2) 숫자? 범주? "
   ]
  },
  {
   "cell_type": "markdown",
   "metadata": {
    "id": "M-dKqpwTEMJe"
   },
   "source": [
    "> 숫자"
   ]
  },
  {
   "cell_type": "markdown",
   "metadata": {
    "id": "-67MJSNHEMF6"
   },
   "source": [
    "3) 전처리 사항"
   ]
  },
  {
   "cell_type": "code",
   "execution_count": 47,
   "metadata": {},
   "outputs": [
    {
     "data": {
      "text/plain": [
       "0"
      ]
     },
     "execution_count": 47,
     "metadata": {},
     "output_type": "execute_result"
    }
   ],
   "source": [
    "mobile[var].isnull().sum()"
   ]
  },
  {
   "cell_type": "markdown",
   "metadata": {},
   "source": [
    "* NaN 존재 여부 및 조치 방안"
   ]
  },
  {
   "cell_type": "markdown",
   "metadata": {},
   "source": [
    "> NaN이 존재하지 않음"
   ]
  },
  {
   "cell_type": "markdown",
   "metadata": {},
   "source": [
    "* 가변수화 대상 여부"
   ]
  },
  {
   "cell_type": "markdown",
   "metadata": {},
   "source": [
    "> 수치 데이터로 불필요"
   ]
  },
  {
   "cell_type": "markdown",
   "metadata": {},
   "source": [
    "4) 기초통계량"
   ]
  },
  {
   "cell_type": "code",
   "execution_count": 48,
   "metadata": {},
   "outputs": [
    {
     "data": {
      "text/plain": [
       "count    18000.000000\n",
       "mean       390.096667\n",
       "std        214.239639\n",
       "min        130.000000\n",
       "25%        219.000000\n",
       "50%        326.000000\n",
       "75%        536.000000\n",
       "max        899.000000\n",
       "Name: HANDSET_PRICE, dtype: float64"
      ]
     },
     "execution_count": 48,
     "metadata": {},
     "output_type": "execute_result"
    }
   ],
   "source": [
    "mobile[var].describe()"
   ]
  },
  {
   "cell_type": "markdown",
   "metadata": {},
   "source": [
    "5) 분포"
   ]
  },
  {
   "cell_type": "code",
   "execution_count": 49,
   "metadata": {},
   "outputs": [
    {
     "data": {
      "image/png": "[encoded data removed]",
      "text/plain": [
       "<Figure size 432x288 with 1 Axes>"
      ]
     },
     "metadata": {
      "needs_background": "light"
     },
     "output_type": "display_data"
    }
   ],
   "source": [
    "sns.histplot(mobile[var], bins = 30)\n",
    "plt.show()"
   ]
  },
  {
   "cell_type": "code",
   "execution_count": 50,
   "metadata": {},
   "outputs": [
    {
     "data": {
      "image/png": "[encoded data removed]",
      "text/plain": [
       "<Figure size 432x288 with 1 Axes>"
      ]
     },
     "metadata": {
      "needs_background": "light"
     },
     "output_type": "display_data"
    },
    {
     "name": "stdout",
     "output_type": "stream",
     "text": [
      "[219. 130.]\n",
      "[536. 899.]\n"
     ]
    }
   ],
   "source": [
    "tmp = mobile[mobile[var].notnull()]\n",
    "box = plt.boxplot(tmp[var])\n",
    "plt.show()\n",
    "\n",
    "print(box['whiskers'][0].get_ydata())\n",
    "print(box['whiskers'][1].get_ydata())"
   ]
  },
  {
   "cell_type": "markdown",
   "metadata": {},
   "source": [
    "6) 위 정보로부터 파악한 내용(비즈니스) 정리"
   ]
  },
  {
   "cell_type": "markdown",
   "metadata": {},
   "source": [
    "> * 가장 저렴한 핸드폰은 130달러 이다.\n",
    "> * 많은 사람들이 400 달러 이하의 핸드폰을 사용한다."
   ]
  },
  {
   "cell_type": "markdown",
   "metadata": {},
   "source": [
    "7) 추가 분석해볼 사항 도출"
   ]
  },
  {
   "cell_type": "markdown",
   "metadata": {},
   "source": [
    "> * 비싼 핸드폰을 사용하는 사람이 대학을 졸업했는지 연봉이 어떻게 되는지 확인할 필요가 있어 보임"
   ]
  },
  {
   "cell_type": "markdown",
   "metadata": {
    "id": "ZghJJ7yLEpDA"
   },
   "source": [
    "## 3.이변량 분석 \n",
    "* 자료의 종류에 맞게 X --> Y 에 대해서 그래프(시각화)와 가설검정(수치화)를 수행하고 결과를 평가합니다.\n",
    "* 가설검정시 다음의 항목을 참조하여 수행합니다.\n",
    "    * 유의수준 : 5%\n",
    "    * 숫자 --> 숫자 : 상관분석\n",
    "    * 범주 --> 범주 : 카이제곱검정\n",
    "    * 범주 --> 숫자 : t검정, 분산분석\n",
    "    * 숫자 --> 범주 : 로지스틱 회귀모형을 통해, 회귀계수의 P.value로 검정을 수행합니다.\n"
   ]
  },
  {
   "cell_type": "code",
   "execution_count": 51,
   "metadata": {},
   "outputs": [
    {
     "data": {
      "image/png": "[encoded data removed]",
      "text/plain": [
       "<Figure size 576x576 with 2 Axes>"
      ]
     },
     "metadata": {
      "needs_background": "light"
     },
     "output_type": "display_data"
    }
   ],
   "source": [
    "plt.figure(figsize = (8, 8))\n",
    "sns.heatmap(mobile.corr(), annot = True, fmt = '.3f', cmap = 'RdYlBu_r',  vmin = -1, vmax = 1)\n",
    "plt.show()"
   ]
  },
  {
   "cell_type": "code",
   "execution_count": 52,
   "metadata": {
    "id": "qiWKeotjGkLp"
   },
   "outputs": [],
   "source": [
    "target = 'CHURN'"
   ]
  },
  {
   "cell_type": "markdown",
   "metadata": {
    "id": "fap08wfEMqtY"
   },
   "source": [
    "### (1) 범주형 Feature --> CHURN\n",
    "* 모든 범주형 Feature에 대해서 Y와 비교하여 차트를 그리고 수치화 하시오.  \n",
    "    ① 교차표(pd.crosstab())  \n",
    "    ② 시각화( Stacked Bar, Mosaic)  \n",
    "    ③ 가설검정(카이제곱검정)\n",
    "* 각 feature 별로 관계의 정도를 3가지로 정리해봅시다. "
   ]
  },
  {
   "cell_type": "markdown",
   "metadata": {
    "id": "Dh2UW7_S-yoq"
   },
   "source": [
    "#### 1) COLLEGE --> CHURN"
   ]
  },
  {
   "cell_type": "code",
   "execution_count": 53,
   "metadata": {
    "id": "EWXtZEr_X0ok"
   },
   "outputs": [],
   "source": [
    "var = 'COLLEGE'"
   ]
  },
  {
   "cell_type": "markdown",
   "metadata": {
    "id": "T1VEUO2DFQZd"
   },
   "source": [
    "① 교차표(pd.crosstab())"
   ]
  },
  {
   "cell_type": "code",
   "execution_count": 54,
   "metadata": {},
   "outputs": [
    {
     "data": {
      "text/html": [
       "<div>\n",
       "<style scoped>\n",
       "    .dataframe tbody tr th:only-of-type {\n",
       "        vertical-align: middle;\n",
       "    }\n",
       "\n",
       "    .dataframe tbody tr th {\n",
       "        vertical-align: top;\n",
       "    }\n",
       "\n",
       "    .dataframe thead th {\n",
       "        text-align: right;\n",
       "    }\n",
       "</style>\n",
       "<table border=\"1\" class=\"dataframe\">\n",
       "  <thead>\n",
       "    <tr style=\"text-align: right;\">\n",
       "      <th>COLLEGE</th>\n",
       "      <th>0</th>\n",
       "      <th>1</th>\n",
       "    </tr>\n",
       "    <tr>\n",
       "      <th>CHURN</th>\n",
       "      <th></th>\n",
       "      <th></th>\n",
       "    </tr>\n",
       "  </thead>\n",
       "  <tbody>\n",
       "    <tr>\n",
       "      <th>0</th>\n",
       "      <td>4616</td>\n",
       "      <td>4515</td>\n",
       "    </tr>\n",
       "    <tr>\n",
       "      <th>1</th>\n",
       "      <td>4335</td>\n",
       "      <td>4534</td>\n",
       "    </tr>\n",
       "  </tbody>\n",
       "</table>\n",
       "</div>"
      ],
      "text/plain": [
       "COLLEGE     0     1\n",
       "CHURN              \n",
       "0        4616  4515\n",
       "1        4335  4534"
      ]
     },
     "execution_count": 54,
     "metadata": {},
     "output_type": "execute_result"
    }
   ],
   "source": [
    "pd.crosstab(mobile[target], mobile[var])"
   ]
  },
  {
   "cell_type": "markdown",
   "metadata": {
    "id": "iRNinsgWFQGF"
   },
   "source": [
    "② 시각화(Stacked Bar, Mosaic)"
   ]
  },
  {
   "cell_type": "code",
   "execution_count": 55,
   "metadata": {
    "id": "rnJwF8-dFQCg"
   },
   "outputs": [
    {
     "data": {
      "image/png": "[encoded data removed]",
      "text/plain": [
       "<Figure size 432x288 with 1 Axes>"
      ]
     },
     "metadata": {
      "needs_background": "light"
     },
     "output_type": "display_data"
    }
   ],
   "source": [
    "bar_table = pd.crosstab(mobile[var], mobile[target], normalize='index')\n",
    "bar_table.plot.bar(stacked=True)\n",
    "plt.axhline(1-mobile[target].mean(), color='r')\n",
    "plt.show()"
   ]
  },
  {
   "cell_type": "code",
   "execution_count": 56,
   "metadata": {
    "id": "Ch0ZeVooFP-g"
   },
   "outputs": [
    {
     "data": {
      "image/png": "[encoded data removed]",
      "text/plain": [
       "<Figure size 432x288 with 3 Axes>"
      ]
     },
     "metadata": {
      "needs_background": "light"
     },
     "output_type": "display_data"
    }
   ],
   "source": [
    "mosaic(mobile, [var, target])\n",
    "plt.axhline(1-mobile[target].mean(), color='r')\n",
    "plt.show()"
   ]
  },
  {
   "cell_type": "markdown",
   "metadata": {},
   "source": [
    "③ 가설검정(카이제곱검정)"
   ]
  },
  {
   "cell_type": "code",
   "execution_count": 57,
   "metadata": {
    "scrolled": true
   },
   "outputs": [
    {
     "name": "stdout",
     "output_type": "stream",
     "text": [
      "교차표\n",
      " COLLEGE     0     1\n",
      "CHURN              \n",
      "0        4616  4515\n",
      "1        4335  4534\n",
      "----------------------------------------------------------------------------------------------------\n",
      "카이제곱통계량 4.982102934693503\n",
      "p-value 0.025610833478220536\n",
      "기대빈도\n",
      " [[4540.64338889 4590.35661111]\n",
      " [4410.35661111 4458.64338889]]\n"
     ]
    }
   ],
   "source": [
    "# 먼저 집계\n",
    "chi2_table = pd.crosstab(mobile[target], mobile[var])\n",
    "print('교차표\\n', chi2_table)\n",
    "print('-' * 100)\n",
    "\n",
    "# 카이제곱검정\n",
    "result = spst.chi2_contingency(chi2_table)\n",
    "print('카이제곱통계량', result[0])\n",
    "print('p-value', result[1])\n",
    "print('기대빈도\\n',result[3])"
   ]
  },
  {
   "cell_type": "markdown",
   "metadata": {},
   "source": [
    "④ 결론"
   ]
  },
  {
   "cell_type": "markdown",
   "metadata": {},
   "source": [
    "- 약한 관계\n",
    "- 그래프로 볼 때는 별 차이가 없어 보이지만 카이제곱검정을 진행했을 때는 의미 있는 수치라고 나왔다.\n",
    "- 대학을 졸업하고 이탈하는 경우가 아주 사소하지만 더 많다.\n",
    "- 취업을 하거나 졸업을 했다는 선물로 핸드폰을 바꾸며 변경을 하는 것으로 보인다."
   ]
  },
  {
   "cell_type": "markdown",
   "metadata": {
    "id": "4Xeo68yeLU98"
   },
   "source": [
    "#### 2) REPORTED_SATISFACTION --> CHURN"
   ]
  },
  {
   "cell_type": "code",
   "execution_count": 58,
   "metadata": {
    "id": "rA7_WcWzLU-E"
   },
   "outputs": [],
   "source": [
    "var = 'REPORTED_SATISFACTION'"
   ]
  },
  {
   "cell_type": "markdown",
   "metadata": {
    "id": "T1VEUO2DFQZd"
   },
   "source": [
    "① 교차표(pd.crosstab())"
   ]
  },
  {
   "cell_type": "code",
   "execution_count": 59,
   "metadata": {},
   "outputs": [
    {
     "data": {
      "text/html": [
       "<div>\n",
       "<style scoped>\n",
       "    .dataframe tbody tr th:only-of-type {\n",
       "        vertical-align: middle;\n",
       "    }\n",
       "\n",
       "    .dataframe tbody tr th {\n",
       "        vertical-align: top;\n",
       "    }\n",
       "\n",
       "    .dataframe thead th {\n",
       "        text-align: right;\n",
       "    }\n",
       "</style>\n",
       "<table border=\"1\" class=\"dataframe\">\n",
       "  <thead>\n",
       "    <tr style=\"text-align: right;\">\n",
       "      <th>REPORTED_SATISFACTION</th>\n",
       "      <th>avg</th>\n",
       "      <th>sat</th>\n",
       "      <th>unsat</th>\n",
       "      <th>very_sat</th>\n",
       "      <th>very_unsat</th>\n",
       "    </tr>\n",
       "    <tr>\n",
       "      <th>CHURN</th>\n",
       "      <th></th>\n",
       "      <th></th>\n",
       "      <th></th>\n",
       "      <th></th>\n",
       "      <th></th>\n",
       "    </tr>\n",
       "  </thead>\n",
       "  <tbody>\n",
       "    <tr>\n",
       "      <th>0</th>\n",
       "      <td>952</td>\n",
       "      <td>492</td>\n",
       "      <td>1792</td>\n",
       "      <td>2334</td>\n",
       "      <td>3543</td>\n",
       "    </tr>\n",
       "    <tr>\n",
       "      <th>1</th>\n",
       "      <td>854</td>\n",
       "      <td>440</td>\n",
       "      <td>1798</td>\n",
       "      <td>2228</td>\n",
       "      <td>3529</td>\n",
       "    </tr>\n",
       "  </tbody>\n",
       "</table>\n",
       "</div>"
      ],
      "text/plain": [
       "REPORTED_SATISFACTION  avg  sat  unsat  very_sat  very_unsat\n",
       "CHURN                                                       \n",
       "0                      952  492   1792      2334        3543\n",
       "1                      854  440   1798      2228        3529"
      ]
     },
     "execution_count": 59,
     "metadata": {},
     "output_type": "execute_result"
    }
   ],
   "source": [
    "pd.crosstab(mobile[target], mobile[var])"
   ]
  },
  {
   "cell_type": "markdown",
   "metadata": {
    "id": "iRNinsgWFQGF"
   },
   "source": [
    "② 시각화(Stacked Bar, Mosaic)"
   ]
  },
  {
   "cell_type": "code",
   "execution_count": 60,
   "metadata": {
    "id": "rnJwF8-dFQCg"
   },
   "outputs": [
    {
     "data": {
      "image/png": "[encoded data removed]",
      "text/plain": [
       "<Figure size 432x288 with 1 Axes>"
      ]
     },
     "metadata": {
      "needs_background": "light"
     },
     "output_type": "display_data"
    }
   ],
   "source": [
    "bar_table = pd.crosstab(mobile[var], mobile[target], normalize='index')\n",
    "bar_table.plot.bar(stacked=True)\n",
    "plt.axhline(1-mobile[target].mean(), color='r')\n",
    "plt.show()"
   ]
  },
  {
   "cell_type": "code",
   "execution_count": 61,
   "metadata": {
    "id": "Ch0ZeVooFP-g"
   },
   "outputs": [
    {
     "data": {
      "image/png": "[encoded data removed]",
      "text/plain": [
       "<Figure size 432x288 with 3 Axes>"
      ]
     },
     "metadata": {
      "needs_background": "light"
     },
     "output_type": "display_data"
    }
   ],
   "source": [
    "mosaic(mobile, [var, target])\n",
    "plt.axhline(1-mobile[target].mean(), color='r')\n",
    "plt.show()"
   ]
  },
  {
   "cell_type": "markdown",
   "metadata": {},
   "source": [
    "③ 가설검정(카이제곱검정)"
   ]
  },
  {
   "cell_type": "code",
   "execution_count": 62,
   "metadata": {
    "scrolled": true
   },
   "outputs": [
    {
     "name": "stdout",
     "output_type": "stream",
     "text": [
      "교차표\n",
      " REPORTED_SATISFACTION  avg  sat  unsat  very_sat  very_unsat\n",
      "CHURN                                                       \n",
      "0                      952  492   1792      2334        3543\n",
      "1                      854  440   1798      2228        3529\n",
      "----------------------------------------------------------------------------------------------------\n",
      "카이제곱통계량 6.8411009572056445\n",
      "p-value 0.14452738878905066\n",
      "기대빈도\n",
      " [[ 916.27201871  472.84912593 1821.38236277 2314.5254426  3587.97104999]\n",
      " [ 889.72798129  459.15087407 1768.61763723 2247.4745574  3484.02895001]]\n"
     ]
    }
   ],
   "source": [
    "# 먼저 집계\n",
    "chi2_table = pd.crosstab(mobile[target], mobile[var])\n",
    "print('교차표\\n', chi2_table)\n",
    "print('-' * 100)\n",
    "\n",
    "# 카이제곱검정\n",
    "result = spst.chi2_contingency(chi2_table)\n",
    "print('카이제곱통계량', result[0])\n",
    "print('p-value', result[1])\n",
    "print('기대빈도\\n',result[3])"
   ]
  },
  {
   "cell_type": "markdown",
   "metadata": {},
   "source": [
    "④ 결론"
   ]
  },
  {
   "cell_type": "markdown",
   "metadata": {},
   "source": [
    "- 관계 없음\n",
    "- 만족도 설문조사는 큰 영향을 키치지 못하는 것 같다.\n",
    "- 만족보다는 불만족이 아주 사소하게 이탈을 더 하는 것으로 보인다.\n",
    "- 만족도에 미치는 변수를 확인해서 새로운 변수로 만들어 봐야겠다."
   ]
  },
  {
   "cell_type": "markdown",
   "metadata": {
    "id": "bdWZCugILZAz"
   },
   "source": [
    "#### 3) CONSIDERING_CHANGE_OF_PLAN --> CHURN"
   ]
  },
  {
   "cell_type": "code",
   "execution_count": 63,
   "metadata": {},
   "outputs": [],
   "source": [
    "var = 'CONSIDERING_CHANGE_OF_PLAN'"
   ]
  },
  {
   "cell_type": "markdown",
   "metadata": {
    "id": "T1VEUO2DFQZd"
   },
   "source": [
    "① 교차표(pd.crosstab())"
   ]
  },
  {
   "cell_type": "code",
   "execution_count": 64,
   "metadata": {},
   "outputs": [
    {
     "data": {
      "text/html": [
       "<div>\n",
       "<style scoped>\n",
       "    .dataframe tbody tr th:only-of-type {\n",
       "        vertical-align: middle;\n",
       "    }\n",
       "\n",
       "    .dataframe tbody tr th {\n",
       "        vertical-align: top;\n",
       "    }\n",
       "\n",
       "    .dataframe thead th {\n",
       "        text-align: right;\n",
       "    }\n",
       "</style>\n",
       "<table border=\"1\" class=\"dataframe\">\n",
       "  <thead>\n",
       "    <tr style=\"text-align: right;\">\n",
       "      <th>CONSIDERING_CHANGE_OF_PLAN</th>\n",
       "      <th>actively_looking_into_it</th>\n",
       "      <th>considering</th>\n",
       "      <th>never_thought</th>\n",
       "      <th>no</th>\n",
       "      <th>perhaps</th>\n",
       "    </tr>\n",
       "    <tr>\n",
       "      <th>CHURN</th>\n",
       "      <th></th>\n",
       "      <th></th>\n",
       "      <th></th>\n",
       "      <th></th>\n",
       "      <th></th>\n",
       "    </tr>\n",
       "  </thead>\n",
       "  <tbody>\n",
       "    <tr>\n",
       "      <th>0</th>\n",
       "      <td>2278</td>\n",
       "      <td>3648</td>\n",
       "      <td>926</td>\n",
       "      <td>1823</td>\n",
       "      <td>456</td>\n",
       "    </tr>\n",
       "    <tr>\n",
       "      <th>1</th>\n",
       "      <td>2175</td>\n",
       "      <td>3493</td>\n",
       "      <td>878</td>\n",
       "      <td>1821</td>\n",
       "      <td>502</td>\n",
       "    </tr>\n",
       "  </tbody>\n",
       "</table>\n",
       "</div>"
      ],
      "text/plain": [
       "CONSIDERING_CHANGE_OF_PLAN  actively_looking_into_it  considering  \\\n",
       "CHURN                                                               \n",
       "0                                               2278         3648   \n",
       "1                                               2175         3493   \n",
       "\n",
       "CONSIDERING_CHANGE_OF_PLAN  never_thought    no  perhaps  \n",
       "CHURN                                                     \n",
       "0                                     926  1823      456  \n",
       "1                                     878  1821      502  "
      ]
     },
     "execution_count": 64,
     "metadata": {},
     "output_type": "execute_result"
    }
   ],
   "source": [
    "pd.crosstab(mobile[target], mobile[var])"
   ]
  },
  {
   "cell_type": "markdown",
   "metadata": {
    "id": "iRNinsgWFQGF"
   },
   "source": [
    "② 시각화(Stacked Bar, Mosaic)"
   ]
  },
  {
   "cell_type": "code",
   "execution_count": 65,
   "metadata": {
    "id": "rnJwF8-dFQCg"
   },
   "outputs": [
    {
     "data": {
      "image/png": "[encoded data removed]",
      "text/plain": [
       "<Figure size 432x288 with 1 Axes>"
      ]
     },
     "metadata": {
      "needs_background": "light"
     },
     "output_type": "display_data"
    }
   ],
   "source": [
    "bar_table = pd.crosstab(mobile[var], mobile[target], normalize='index')\n",
    "bar_table.plot.bar(stacked=True)\n",
    "plt.axhline(1-mobile[target].mean(), color='r')\n",
    "plt.show()"
   ]
  },
  {
   "cell_type": "code",
   "execution_count": 66,
   "metadata": {
    "id": "Ch0ZeVooFP-g"
   },
   "outputs": [
    {
     "data": {
      "image/png": "[encoded data removed]",
      "text/plain": [
       "<Figure size 432x288 with 3 Axes>"
      ]
     },
     "metadata": {
      "needs_background": "light"
     },
     "output_type": "display_data"
    }
   ],
   "source": [
    "mosaic(mobile, [var, target])\n",
    "plt.axhline(1-mobile[target].mean(), color='r')\n",
    "plt.show()"
   ]
  },
  {
   "cell_type": "markdown",
   "metadata": {},
   "source": [
    "③ 가설검정(카이제곱검정)"
   ]
  },
  {
   "cell_type": "code",
   "execution_count": 67,
   "metadata": {
    "scrolled": true
   },
   "outputs": [
    {
     "name": "stdout",
     "output_type": "stream",
     "text": [
      "교차표\n",
      " CONSIDERING_CHANGE_OF_PLAN  actively_looking_into_it  considering  \\\n",
      "CHURN                                                               \n",
      "0                                               2278         3648   \n",
      "1                                               2175         3493   \n",
      "\n",
      "CONSIDERING_CHANGE_OF_PLAN  never_thought    no  perhaps  \n",
      "CHURN                                                     \n",
      "0                                     926  1823      456  \n",
      "1                                     878  1821      502  \n",
      "----------------------------------------------------------------------------------------------------\n",
      "카이제곱통계량 5.421434419620689\n",
      "p-value 0.2467222586679969\n",
      "기대빈도\n",
      " [[2258.90794444 3622.47061111  915.12911111 1848.52022222  485.97211111]\n",
      " [2194.09205556 3518.52938889  888.87088889 1795.47977778  472.02788889]]\n"
     ]
    }
   ],
   "source": [
    "# 먼저 집계\n",
    "chi2_table = pd.crosstab(mobile[target], mobile[var])\n",
    "print('교차표\\n', chi2_table)\n",
    "print('-' * 100)\n",
    "\n",
    "# 카이제곱검정\n",
    "result = spst.chi2_contingency(chi2_table)\n",
    "print('카이제곱통계량', result[0])\n",
    "print('p-value', result[1])\n",
    "print('기대빈도\\n',result[3])"
   ]
  },
  {
   "cell_type": "markdown",
   "metadata": {},
   "source": [
    "④ 결론"
   ]
  },
  {
   "cell_type": "markdown",
   "metadata": {},
   "source": [
    "- 관계 없음\n",
    "- 큰 차이가 없다고 나온다.\n",
    "- 모든 범주에서 평균을 나타내고 있다."
   ]
  },
  {
   "cell_type": "markdown",
   "metadata": {
    "id": "6ks7Mts5ZOIO"
   },
   "source": [
    "#### 4) feature --> CHURN"
   ]
  },
  {
   "cell_type": "code",
   "execution_count": null,
   "metadata": {
    "id": "7vueK_Q2ZOIO"
   },
   "outputs": [],
   "source": []
  },
  {
   "cell_type": "code",
   "execution_count": null,
   "metadata": {
    "id": "ImB9bLtbZOIO"
   },
   "outputs": [],
   "source": []
  },
  {
   "cell_type": "code",
   "execution_count": null,
   "metadata": {
    "id": "a9cd7QE4ZOIO"
   },
   "outputs": [],
   "source": []
  },
  {
   "cell_type": "code",
   "execution_count": null,
   "metadata": {
    "id": "7WEnk6KAZOIO"
   },
   "outputs": [],
   "source": []
  },
  {
   "cell_type": "code",
   "execution_count": null,
   "metadata": {
    "id": "N8r5_bWEZOIO"
   },
   "outputs": [],
   "source": []
  },
  {
   "cell_type": "markdown",
   "metadata": {
    "id": "lUsQ0iBHMqte"
   },
   "source": [
    "### (2) 숫자형 Feature --> CHURN\n",
    "\n",
    "* 숫자형 Feature에 대해서 Y와 비교하여 차트를 그리고 수치화 하시오.  \n",
    "    ① 그래프 : histogram, densityplot   \n",
    "    ② 수치화 : 로지스틱회귀"
   ]
  },
  {
   "cell_type": "markdown",
   "metadata": {
    "id": "F_Mugk3f_y3X"
   },
   "source": [
    "#### 1) OVERAGE --> CHURN\n"
   ]
  },
  {
   "cell_type": "code",
   "execution_count": 68,
   "metadata": {
    "id": "8ROLKtUueHSn"
   },
   "outputs": [],
   "source": [
    "var = 'OVERAGE'"
   ]
  },
  {
   "cell_type": "markdown",
   "metadata": {
    "id": "pRhxayOcFdXb"
   },
   "source": [
    "① 그래프 : histogram, densityplot"
   ]
  },
  {
   "cell_type": "code",
   "execution_count": 69,
   "metadata": {
    "id": "V716mlpmFdUE"
   },
   "outputs": [
    {
     "data": {
      "image/png": "[encoded data removed]",
      "text/plain": [
       "<Figure size 720x504 with 4 Axes>"
      ]
     },
     "metadata": {
      "needs_background": "light"
     },
     "output_type": "display_data"
    }
   ],
   "source": [
    "plt.figure(figsize=(10,7))\n",
    "\n",
    "plt.subplot(2,2,1)\n",
    "sns.histplot(x=var, data = mobile, hue = target)\n",
    "\n",
    "plt.subplot(2,2,3)\n",
    "sns.kdeplot(x=var, data = mobile, hue =target, common_norm = False)\n",
    "\n",
    "plt.subplot(2,2,2)\n",
    "sns.histplot(x=var, data = mobile, hue =target, multiple = 'fill')\n",
    "plt.axhline(mobile[target].mean(), color = 'r')\n",
    "\n",
    "plt.subplot(2,2,4)\n",
    "sns.kdeplot(x=var, data = mobile, hue =target, multiple = 'fill')\n",
    "plt.axhline(mobile[target].mean(), color = 'r')\n",
    "\n",
    "plt.tight_layout()\n",
    "plt.show()"
   ]
  },
  {
   "cell_type": "markdown",
   "metadata": {
    "id": "RGQGnk8JFdQf"
   },
   "source": [
    "② 수치화"
   ]
  },
  {
   "cell_type": "code",
   "execution_count": 70,
   "metadata": {
    "id": "8z58caznFdNU",
    "scrolled": true
   },
   "outputs": [
    {
     "name": "stdout",
     "output_type": "stream",
     "text": [
      "Optimization terminated successfully.\n",
      "         Current function value: 0.680553\n",
      "         Iterations 4\n",
      "OVERAGE    3.521095e-97\n",
      "dtype: float64\n"
     ]
    }
   ],
   "source": [
    "# 로지스틱 모형을 만들고 통계량을 구해 봅시다.\n",
    "model = sm.Logit(mobile[target], mobile[var])\n",
    "result = model.fit()\n",
    "print(result.pvalues)"
   ]
  },
  {
   "cell_type": "markdown",
   "metadata": {},
   "source": [
    "③ 결과"
   ]
  },
  {
   "cell_type": "markdown",
   "metadata": {},
   "source": [
    "- 강한 관계\n",
    "- 초과 사용 시간에 따른 이탈율을 관계가 있다.\n",
    "- 초과 시간이 100분 미만은 이탈률이 적지만 그 이상부터는 이탈률이 많다.\n",
    "- 초과 시간이 100분을 넘으면 초과 비용이 더 발생하는 것으로 보인다."
   ]
  },
  {
   "cell_type": "markdown",
   "metadata": {
    "id": "QwikcGXELsny"
   },
   "source": [
    "#### 2) LEFTOVER --> CHURN\n"
   ]
  },
  {
   "cell_type": "code",
   "execution_count": 71,
   "metadata": {},
   "outputs": [],
   "source": [
    "var = 'LEFTOVER'"
   ]
  },
  {
   "cell_type": "markdown",
   "metadata": {
    "id": "pRhxayOcFdXb"
   },
   "source": [
    "① 그래프 : histogram, densityplot"
   ]
  },
  {
   "cell_type": "code",
   "execution_count": 72,
   "metadata": {
    "id": "V716mlpmFdUE"
   },
   "outputs": [
    {
     "data": {
      "image/png": "[encoded data removed]",
      "text/plain": [
       "<Figure size 720x504 with 4 Axes>"
      ]
     },
     "metadata": {
      "needs_background": "light"
     },
     "output_type": "display_data"
    }
   ],
   "source": [
    "plt.figure(figsize=(10,7))\n",
    "\n",
    "plt.subplot(2,2,1)\n",
    "sns.histplot(x=var, data = mobile, hue = target)\n",
    "\n",
    "plt.subplot(2,2,3)\n",
    "sns.kdeplot(x=var, data = mobile, hue =target, common_norm = False)\n",
    "\n",
    "plt.subplot(2,2,2)\n",
    "sns.histplot(x=var, data = mobile, hue =target, multiple = 'fill')\n",
    "plt.axhline(mobile[target].mean(), color = 'r')\n",
    "\n",
    "plt.subplot(2,2,4)\n",
    "sns.kdeplot(x=var, data = mobile, hue =target, multiple = 'fill')\n",
    "plt.axhline(mobile[target].mean(), color = 'r')\n",
    "\n",
    "plt.tight_layout()\n",
    "plt.show()"
   ]
  },
  {
   "cell_type": "markdown",
   "metadata": {
    "id": "RGQGnk8JFdQf"
   },
   "source": [
    "② 수치화"
   ]
  },
  {
   "cell_type": "code",
   "execution_count": 73,
   "metadata": {
    "id": "8z58caznFdNU",
    "scrolled": false
   },
   "outputs": [
    {
     "name": "stdout",
     "output_type": "stream",
     "text": [
      "Optimization terminated successfully.\n",
      "         Current function value: 0.692532\n",
      "         Iterations 3\n",
      "LEFTOVER    0.000003\n",
      "dtype: float64\n"
     ]
    }
   ],
   "source": [
    "# 로지스틱 모형을 만들고 통계량을 구해 봅시다.\n",
    "model = sm.Logit(mobile[target], mobile[var])\n",
    "result = model.fit()\n",
    "print(result.pvalues)"
   ]
  },
  {
   "cell_type": "markdown",
   "metadata": {},
   "source": [
    "③ 결과"
   ]
  },
  {
   "cell_type": "markdown",
   "metadata": {},
   "source": [
    "- 강한 관계\n",
    "- 사용 잔여시간과 이탈률은 관련이 있다.\n",
    "- 잔여 시간이 0과 25이상에서 이탈률이 높은 것을 볼 수 있다.\n",
    "- 즉, 통화 시간이 모자른 사람과 잔여시간이 너무 많이 남는 사람들은 이탈을 하는 것으로 보인다.\n",
    "- 사용자에게 선택지를 많이 줌으로 요금제를 다양하게 고를 수 있게 하는 것이 해결 방법 중 하나로 보인다."
   ]
  },
  {
   "cell_type": "markdown",
   "metadata": {
    "id": "KkyjTXOqLsyK"
   },
   "source": [
    "#### 3) AVERAGE_CALL_DURATION --> CHURN\n"
   ]
  },
  {
   "cell_type": "code",
   "execution_count": 74,
   "metadata": {
    "id": "ZNHDXzGALsyK"
   },
   "outputs": [],
   "source": [
    "var = 'AVERAGE_CALL_DURATION'"
   ]
  },
  {
   "cell_type": "markdown",
   "metadata": {
    "id": "pRhxayOcFdXb"
   },
   "source": [
    "① 그래프 : histogram, densityplot"
   ]
  },
  {
   "cell_type": "code",
   "execution_count": 75,
   "metadata": {
    "id": "V716mlpmFdUE"
   },
   "outputs": [
    {
     "data": {
      "image/png": "[encoded data removed]",
      "text/plain": [
       "<Figure size 720x504 with 4 Axes>"
      ]
     },
     "metadata": {
      "needs_background": "light"
     },
     "output_type": "display_data"
    }
   ],
   "source": [
    "plt.figure(figsize=(10,7))\n",
    "\n",
    "plt.subplot(2,2,1)\n",
    "sns.histplot(x=var, data = mobile, hue = target)\n",
    "\n",
    "plt.subplot(2,2,3)\n",
    "sns.kdeplot(x=var, data = mobile, hue =target, common_norm = False)\n",
    "\n",
    "plt.subplot(2,2,2)\n",
    "sns.histplot(x=var, data = mobile, hue =target, multiple = 'fill')\n",
    "plt.axhline(mobile[target].mean(), color = 'r')\n",
    "\n",
    "plt.subplot(2,2,4)\n",
    "sns.kdeplot(x=var, data = mobile, hue =target, multiple = 'fill')\n",
    "plt.axhline(mobile[target].mean(), color = 'r')\n",
    "\n",
    "plt.tight_layout()\n",
    "plt.show()"
   ]
  },
  {
   "cell_type": "markdown",
   "metadata": {
    "id": "RGQGnk8JFdQf"
   },
   "source": [
    "② 수치화"
   ]
  },
  {
   "cell_type": "code",
   "execution_count": 76,
   "metadata": {
    "id": "8z58caznFdNU",
    "scrolled": false
   },
   "outputs": [
    {
     "name": "stdout",
     "output_type": "stream",
     "text": [
      "Optimization terminated successfully.\n",
      "         Current function value: 0.693027\n",
      "         Iterations 3\n",
      "AVERAGE_CALL_DURATION    0.03783\n",
      "dtype: float64\n"
     ]
    }
   ],
   "source": [
    "# 로지스틱 모형을 만들고 통계량을 구해 봅시다.\n",
    "model = sm.Logit(mobile[target], mobile[var])\n",
    "result = model.fit()\n",
    "print(result.pvalues)"
   ]
  },
  {
   "cell_type": "markdown",
   "metadata": {},
   "source": [
    "③ 결과"
   ]
  },
  {
   "cell_type": "markdown",
   "metadata": {},
   "source": [
    "- 강한 관계\n",
    "- 평균 통화 시간과 이탈률이 관련이 있어보인다.\n",
    "- 구간이 크게 3구간으로 나뉘는 것 같다.(0-2, 4-6, 8-15)\n",
    "- 아마 0-2 : 잔여 통화 시간이 많이 남음, 4-6 : 잔여 통화 시간 중앙 부분, 8-16 : 잔여 통화 시간 없음으로 보인다."
   ]
  },
  {
   "cell_type": "markdown",
   "metadata": {
    "id": "wv6nX82-ZIG4"
   },
   "source": [
    "#### 4) INCOME --> CHURN\n"
   ]
  },
  {
   "cell_type": "code",
   "execution_count": 77,
   "metadata": {
    "id": "ZNHDXzGALsyK"
   },
   "outputs": [],
   "source": [
    "var = 'INCOME'"
   ]
  },
  {
   "cell_type": "markdown",
   "metadata": {
    "id": "pRhxayOcFdXb"
   },
   "source": [
    "① 그래프 : histogram, densityplot"
   ]
  },
  {
   "cell_type": "code",
   "execution_count": 78,
   "metadata": {
    "id": "V716mlpmFdUE"
   },
   "outputs": [
    {
     "data": {
      "image/png": "[encoded data removed]",
      "text/plain": [
       "<Figure size 720x504 with 4 Axes>"
      ]
     },
     "metadata": {
      "needs_background": "light"
     },
     "output_type": "display_data"
    }
   ],
   "source": [
    "plt.figure(figsize=(10,7))\n",
    "\n",
    "plt.subplot(2,2,1)\n",
    "sns.histplot(x=var, data = mobile, hue = target)\n",
    "\n",
    "plt.subplot(2,2,3)\n",
    "sns.kdeplot(x=var, data = mobile, hue =target, common_norm = False)\n",
    "\n",
    "plt.subplot(2,2,2)\n",
    "sns.histplot(x=var, data = mobile, hue =target, multiple = 'fill')\n",
    "plt.axhline(mobile[target].mean(), color = 'r')\n",
    "\n",
    "plt.subplot(2,2,4)\n",
    "sns.kdeplot(x=var, data = mobile, hue =target, multiple = 'fill')\n",
    "plt.axhline(mobile[target].mean(), color = 'r')\n",
    "\n",
    "plt.tight_layout()\n",
    "plt.show()"
   ]
  },
  {
   "cell_type": "markdown",
   "metadata": {
    "id": "RGQGnk8JFdQf"
   },
   "source": [
    "② 수치화"
   ]
  },
  {
   "cell_type": "code",
   "execution_count": 79,
   "metadata": {
    "id": "8z58caznFdNU",
    "scrolled": false
   },
   "outputs": [
    {
     "name": "stdout",
     "output_type": "stream",
     "text": [
      "Optimization terminated successfully.\n",
      "         Current function value: 0.692683\n",
      "         Iterations 2\n",
      "INCOME    0.000044\n",
      "dtype: float64\n"
     ]
    }
   ],
   "source": [
    "# 로지스틱 모형을 만들고 통계량을 구해 봅시다.\n",
    "model = sm.Logit(mobile[target], mobile[var])\n",
    "result = model.fit()\n",
    "print(result.pvalues)"
   ]
  },
  {
   "cell_type": "markdown",
   "metadata": {},
   "source": [
    "③ 결과"
   ]
  },
  {
   "cell_type": "markdown",
   "metadata": {},
   "source": [
    "- 강한 관계\n",
    "- 100000 달러를 기준으로 이탈률이 변경되는 것을 볼 수 있다.\n",
    "- 추가 사용량이 많아서 그런 것으로 보인다.(추가 확인 필요)\n",
    "- 돈을 많이 버는 사람은 더 좋은 통신사로 이전하고 싶은 마음이 작용하는 것을 보임."
   ]
  },
  {
   "cell_type": "markdown",
   "metadata": {
    "id": "wv6nX82-ZIG4"
   },
   "source": [
    "#### 5) HOUSE --> CHURN\n"
   ]
  },
  {
   "cell_type": "code",
   "execution_count": 80,
   "metadata": {
    "id": "ZNHDXzGALsyK"
   },
   "outputs": [],
   "source": [
    "var = 'HOUSE'"
   ]
  },
  {
   "cell_type": "markdown",
   "metadata": {
    "id": "pRhxayOcFdXb"
   },
   "source": [
    "① 그래프 : histogram, densityplot"
   ]
  },
  {
   "cell_type": "code",
   "execution_count": 81,
   "metadata": {
    "id": "V716mlpmFdUE"
   },
   "outputs": [
    {
     "data": {
      "image/png": "[encoded data removed]",
      "text/plain": [
       "<Figure size 720x504 with 4 Axes>"
      ]
     },
     "metadata": {
      "needs_background": "light"
     },
     "output_type": "display_data"
    }
   ],
   "source": [
    "plt.figure(figsize=(10,7))\n",
    "\n",
    "plt.subplot(2,2,1)\n",
    "sns.histplot(x=var, data = mobile, hue = target)\n",
    "\n",
    "plt.subplot(2,2,3)\n",
    "sns.kdeplot(x=var, data = mobile, hue =target, common_norm = False)\n",
    "\n",
    "plt.subplot(2,2,2)\n",
    "sns.histplot(x=var, data = mobile, hue =target, multiple = 'fill')\n",
    "plt.axhline(mobile[target].mean(), color = 'r')\n",
    "\n",
    "plt.subplot(2,2,4)\n",
    "sns.kdeplot(x=var, data = mobile, hue =target, multiple = 'fill')\n",
    "plt.axhline(mobile[target].mean(), color = 'r')\n",
    "\n",
    "plt.tight_layout()\n",
    "plt.show()"
   ]
  },
  {
   "cell_type": "markdown",
   "metadata": {
    "id": "RGQGnk8JFdQf"
   },
   "source": [
    "② 수치화"
   ]
  },
  {
   "cell_type": "code",
   "execution_count": 82,
   "metadata": {
    "id": "8z58caznFdNU",
    "scrolled": false
   },
   "outputs": [
    {
     "name": "stdout",
     "output_type": "stream",
     "text": [
      "Optimization terminated successfully.\n",
      "         Current function value: 0.687266\n",
      "         Iterations 2\n",
      "HOUSE    6.401120e-47\n",
      "dtype: float64\n"
     ]
    }
   ],
   "source": [
    "# 로지스틱 모형을 만들고 통계량을 구해 봅시다.\n",
    "tem = mobile[mobile[var].notna()]\n",
    "model = sm.Logit(tem[target], tem[var])\n",
    "result = model.fit()\n",
    "print(result.pvalues)"
   ]
  },
  {
   "cell_type": "markdown",
   "metadata": {},
   "source": [
    "③ 결과"
   ]
  },
  {
   "cell_type": "markdown",
   "metadata": {},
   "source": [
    "- 강한 관계\n",
    "- 예상 외로 집 가격이 이탈률에 큰 영향을 미치는 것으로 보인다.\n",
    "- 6000000를 기준으로 이탈률이 바뀌는 것을 볼 수 있다.\n",
    "- 이것은 예상 외로 연봉과는 다른 모습을 보인다.(연봉과 집값의 관계 확인 필요)\n",
    "- 집이 비싼 사람은 학생일 가능성이 높아 맘대로 변경이 힘든 것으로 보인다."
   ]
  },
  {
   "cell_type": "markdown",
   "metadata": {
    "id": "wv6nX82-ZIG4"
   },
   "source": [
    "#### 6) HANDSET_PRICE --> CHURN\n"
   ]
  },
  {
   "cell_type": "code",
   "execution_count": 83,
   "metadata": {
    "id": "ZNHDXzGALsyK"
   },
   "outputs": [],
   "source": [
    "var = 'HANDSET_PRICE'"
   ]
  },
  {
   "cell_type": "markdown",
   "metadata": {
    "id": "pRhxayOcFdXb"
   },
   "source": [
    "① 그래프 : histogram, densityplot"
   ]
  },
  {
   "cell_type": "code",
   "execution_count": 84,
   "metadata": {
    "id": "V716mlpmFdUE"
   },
   "outputs": [
    {
     "data": {
      "image/png": "[encoded data removed]",
      "text/plain": [
       "<Figure size 720x504 with 4 Axes>"
      ]
     },
     "metadata": {
      "needs_background": "light"
     },
     "output_type": "display_data"
    }
   ],
   "source": [
    "plt.figure(figsize=(10,7))\n",
    "\n",
    "plt.subplot(2,2,1)\n",
    "sns.histplot(x=var, data = mobile, hue = target)\n",
    "\n",
    "plt.subplot(2,2,3)\n",
    "sns.kdeplot(x=var, data = mobile, hue =target, common_norm = False)\n",
    "\n",
    "plt.subplot(2,2,2)\n",
    "sns.histplot(x=var, data = mobile, hue =target, multiple = 'fill')\n",
    "plt.axhline(mobile[target].mean(), color = 'r')\n",
    "\n",
    "plt.subplot(2,2,4)\n",
    "sns.kdeplot(x=var, data = mobile, hue =target, multiple = 'fill')\n",
    "plt.axhline(mobile[target].mean(), color = 'r')\n",
    "\n",
    "plt.tight_layout()\n",
    "plt.show()"
   ]
  },
  {
   "cell_type": "markdown",
   "metadata": {
    "id": "RGQGnk8JFdQf"
   },
   "source": [
    "② 수치화"
   ]
  },
  {
   "cell_type": "code",
   "execution_count": 85,
   "metadata": {
    "id": "8z58caznFdNU",
    "scrolled": false
   },
   "outputs": [
    {
     "name": "stdout",
     "output_type": "stream",
     "text": [
      "Optimization terminated successfully.\n",
      "         Current function value: 0.692730\n",
      "         Iterations 3\n",
      "HANDSET_PRICE    0.000107\n",
      "dtype: float64\n"
     ]
    }
   ],
   "source": [
    "# 로지스틱 모형을 만들고 통계량을 구해 봅시다.\n",
    "tem = mobile[mobile[var].notna()]\n",
    "model = sm.Logit(tem[target], tem[var])\n",
    "result = model.fit()\n",
    "print(result.pvalues)"
   ]
  },
  {
   "cell_type": "markdown",
   "metadata": {},
   "source": [
    "③ 결과"
   ]
  },
  {
   "cell_type": "markdown",
   "metadata": {},
   "source": [
    "- 강한 관계\n",
    "- 핸드폰 가격과 이탈률이 관계가 있다.\n",
    "- 핸드폰 가격이 400을 기점으로 이탈률이 바뀌게 된다.\n",
    "- 연봉이 많은 사람이 비싼 핸드폰으로 사는 것으로 보인다. (확인 필요)"
   ]
  },
  {
   "cell_type": "markdown",
   "metadata": {
    "id": "Jd4WbbU-jqU3"
   },
   "source": [
    "## 4.관계 정리"
   ]
  },
  {
   "cell_type": "markdown",
   "metadata": {
    "id": "bKmN0rtAjto6"
   },
   "source": [
    "### 1) 강한관계의 변수"
   ]
  },
  {
   "cell_type": "markdown",
   "metadata": {
    "id": "lx6Np73PL0YS"
   },
   "source": [
    "- OVERAGE\n",
    "- LEFTOVER\n",
    "- AVERAGE_CALL_DURATION\n",
    "- HOUSE\n",
    "- HANDSET_PRICE\n",
    "- INCOME"
   ]
  },
  {
   "cell_type": "markdown",
   "metadata": {
    "id": "u8B765zNjwp5"
   },
   "source": [
    "### 2) 약한관계의 변수"
   ]
  },
  {
   "cell_type": "markdown",
   "metadata": {
    "id": "kg8-QylzL1kE"
   },
   "source": [
    "- COLLEGE"
   ]
  },
  {
   "cell_type": "markdown",
   "metadata": {
    "id": "eYiQ9OUijwdq"
   },
   "source": [
    "### 3) 관계 없음"
   ]
  },
  {
   "cell_type": "markdown",
   "metadata": {
    "id": "K0o6lwH5L2Wj"
   },
   "source": [
    "- REPORTED_SATISFACTION\n",
    "- CONSIDERING_CHANGE_OF_PLAN"
   ]
  },
  {
   "cell_type": "markdown",
   "metadata": {
    "id": "nePF6KE6jlX6"
   },
   "source": [
    "## 5.추가 분석"
   ]
  },
  {
   "cell_type": "markdown",
   "metadata": {
    "id": "DUL6jc1SL5QL"
   },
   "source": [
    "### 1) REPORTED_SATISFACTION + CONSIDERING_CHANGE_OF_PLAN"
   ]
  },
  {
   "cell_type": "code",
   "execution_count": 86,
   "metadata": {
    "id": "rW-_G3TiL5HV"
   },
   "outputs": [
    {
     "name": "stdout",
     "output_type": "stream",
     "text": [
      "['unsat' 'very_unsat' 'very_sat' 'sat' nan 'avg']\n",
      "['considering' 'no' 'never_thought' 'actively_looking_into_it' 'perhaps']\n"
     ]
    }
   ],
   "source": [
    "print(mobile['REPORTED_SATISFACTION'].unique())\n",
    "print(mobile['CONSIDERING_CHANGE_OF_PLAN'].unique())"
   ]
  },
  {
   "cell_type": "code",
   "execution_count": 87,
   "metadata": {},
   "outputs": [],
   "source": [
    "mobile['SATRISFACTION_CHANGE_PLAN'] = np.nan\n",
    "tmp = mobile[mobile['REPORTED_SATISFACTION'].notna()]\n",
    "for i in tmp['REPORTED_SATISFACTION'].unique() :\n",
    "    for j in mobile['CONSIDERING_CHANGE_OF_PLAN'].unique() :\n",
    "        value = i+'_'+j\n",
    "        mobile.loc[(mobile['REPORTED_SATISFACTION']==i) & (mobile['CONSIDERING_CHANGE_OF_PLAN']==j), 'SATRISFACTION_CHANGE_PLAN'] = value"
   ]
  },
  {
   "cell_type": "code",
   "execution_count": 88,
   "metadata": {
    "scrolled": true
   },
   "outputs": [
    {
     "data": {
      "text/html": [
       "<div>\n",
       "<style scoped>\n",
       "    .dataframe tbody tr th:only-of-type {\n",
       "        vertical-align: middle;\n",
       "    }\n",
       "\n",
       "    .dataframe tbody tr th {\n",
       "        vertical-align: top;\n",
       "    }\n",
       "\n",
       "    .dataframe thead th {\n",
       "        text-align: right;\n",
       "    }\n",
       "</style>\n",
       "<table border=\"1\" class=\"dataframe\">\n",
       "  <thead>\n",
       "    <tr style=\"text-align: right;\">\n",
       "      <th></th>\n",
       "      <th>COLLEGE</th>\n",
       "      <th>INCOME</th>\n",
       "      <th>OVERAGE</th>\n",
       "      <th>LEFTOVER</th>\n",
       "      <th>HOUSE</th>\n",
       "      <th>HANDSET_PRICE</th>\n",
       "      <th>AVERAGE_CALL_DURATION</th>\n",
       "      <th>REPORTED_SATISFACTION</th>\n",
       "      <th>CONSIDERING_CHANGE_OF_PLAN</th>\n",
       "      <th>CHURN</th>\n",
       "      <th>SATRISFACTION_CHANGE_PLAN</th>\n",
       "    </tr>\n",
       "  </thead>\n",
       "  <tbody>\n",
       "    <tr>\n",
       "      <th>0</th>\n",
       "      <td>1</td>\n",
       "      <td>47711</td>\n",
       "      <td>183</td>\n",
       "      <td>17</td>\n",
       "      <td>730589.0</td>\n",
       "      <td>192</td>\n",
       "      <td>5</td>\n",
       "      <td>unsat</td>\n",
       "      <td>considering</td>\n",
       "      <td>0</td>\n",
       "      <td>unsat_considering</td>\n",
       "    </tr>\n",
       "    <tr>\n",
       "      <th>1</th>\n",
       "      <td>0</td>\n",
       "      <td>74132</td>\n",
       "      <td>191</td>\n",
       "      <td>43</td>\n",
       "      <td>535092.0</td>\n",
       "      <td>349</td>\n",
       "      <td>2</td>\n",
       "      <td>unsat</td>\n",
       "      <td>no</td>\n",
       "      <td>1</td>\n",
       "      <td>unsat_no</td>\n",
       "    </tr>\n",
       "    <tr>\n",
       "      <th>2</th>\n",
       "      <td>1</td>\n",
       "      <td>150419</td>\n",
       "      <td>0</td>\n",
       "      <td>14</td>\n",
       "      <td>204004.0</td>\n",
       "      <td>682</td>\n",
       "      <td>6</td>\n",
       "      <td>unsat</td>\n",
       "      <td>considering</td>\n",
       "      <td>0</td>\n",
       "      <td>unsat_considering</td>\n",
       "    </tr>\n",
       "    <tr>\n",
       "      <th>3</th>\n",
       "      <td>0</td>\n",
       "      <td>159567</td>\n",
       "      <td>0</td>\n",
       "      <td>58</td>\n",
       "      <td>281969.0</td>\n",
       "      <td>634</td>\n",
       "      <td>1</td>\n",
       "      <td>very_unsat</td>\n",
       "      <td>never_thought</td>\n",
       "      <td>0</td>\n",
       "      <td>very_unsat_never_thought</td>\n",
       "    </tr>\n",
       "    <tr>\n",
       "      <th>4</th>\n",
       "      <td>1</td>\n",
       "      <td>23392</td>\n",
       "      <td>0</td>\n",
       "      <td>0</td>\n",
       "      <td>216707.0</td>\n",
       "      <td>233</td>\n",
       "      <td>15</td>\n",
       "      <td>unsat</td>\n",
       "      <td>no</td>\n",
       "      <td>1</td>\n",
       "      <td>unsat_no</td>\n",
       "    </tr>\n",
       "  </tbody>\n",
       "</table>\n",
       "</div>"
      ],
      "text/plain": [
       "   COLLEGE  INCOME  OVERAGE  LEFTOVER     HOUSE  HANDSET_PRICE  \\\n",
       "0        1   47711      183        17  730589.0            192   \n",
       "1        0   74132      191        43  535092.0            349   \n",
       "2        1  150419        0        14  204004.0            682   \n",
       "3        0  159567        0        58  281969.0            634   \n",
       "4        1   23392        0         0  216707.0            233   \n",
       "\n",
       "   AVERAGE_CALL_DURATION REPORTED_SATISFACTION CONSIDERING_CHANGE_OF_PLAN  \\\n",
       "0                      5                 unsat                considering   \n",
       "1                      2                 unsat                         no   \n",
       "2                      6                 unsat                considering   \n",
       "3                      1            very_unsat              never_thought   \n",
       "4                     15                 unsat                         no   \n",
       "\n",
       "   CHURN SATRISFACTION_CHANGE_PLAN  \n",
       "0      0         unsat_considering  \n",
       "1      1                  unsat_no  \n",
       "2      0         unsat_considering  \n",
       "3      0  very_unsat_never_thought  \n",
       "4      1                  unsat_no  "
      ]
     },
     "execution_count": 88,
     "metadata": {},
     "output_type": "execute_result"
    }
   ],
   "source": [
    "mobile.head()"
   ]
  },
  {
   "cell_type": "markdown",
   "metadata": {},
   "source": [
    "#### SATRISFACTION_CHANGE_PLAN -> CHURN"
   ]
  },
  {
   "cell_type": "code",
   "execution_count": 89,
   "metadata": {},
   "outputs": [],
   "source": [
    "var = 'SATRISFACTION_CHANGE_PLAN'"
   ]
  },
  {
   "cell_type": "markdown",
   "metadata": {
    "id": "T1VEUO2DFQZd"
   },
   "source": [
    "① 교차표(pd.crosstab())"
   ]
  },
  {
   "cell_type": "code",
   "execution_count": 90,
   "metadata": {},
   "outputs": [
    {
     "data": {
      "text/html": [
       "<div>\n",
       "<style scoped>\n",
       "    .dataframe tbody tr th:only-of-type {\n",
       "        vertical-align: middle;\n",
       "    }\n",
       "\n",
       "    .dataframe tbody tr th {\n",
       "        vertical-align: top;\n",
       "    }\n",
       "\n",
       "    .dataframe thead th {\n",
       "        text-align: right;\n",
       "    }\n",
       "</style>\n",
       "<table border=\"1\" class=\"dataframe\">\n",
       "  <thead>\n",
       "    <tr style=\"text-align: right;\">\n",
       "      <th>SATRISFACTION_CHANGE_PLAN</th>\n",
       "      <th>avg_actively_looking_into_it</th>\n",
       "      <th>avg_considering</th>\n",
       "      <th>avg_never_thought</th>\n",
       "      <th>avg_no</th>\n",
       "      <th>avg_perhaps</th>\n",
       "      <th>sat_actively_looking_into_it</th>\n",
       "      <th>sat_considering</th>\n",
       "      <th>sat_never_thought</th>\n",
       "      <th>sat_no</th>\n",
       "      <th>sat_perhaps</th>\n",
       "      <th>...</th>\n",
       "      <th>very_sat_actively_looking_into_it</th>\n",
       "      <th>very_sat_considering</th>\n",
       "      <th>very_sat_never_thought</th>\n",
       "      <th>very_sat_no</th>\n",
       "      <th>very_sat_perhaps</th>\n",
       "      <th>very_unsat_actively_looking_into_it</th>\n",
       "      <th>very_unsat_considering</th>\n",
       "      <th>very_unsat_never_thought</th>\n",
       "      <th>very_unsat_no</th>\n",
       "      <th>very_unsat_perhaps</th>\n",
       "    </tr>\n",
       "    <tr>\n",
       "      <th>CHURN</th>\n",
       "      <th></th>\n",
       "      <th></th>\n",
       "      <th></th>\n",
       "      <th></th>\n",
       "      <th></th>\n",
       "      <th></th>\n",
       "      <th></th>\n",
       "      <th></th>\n",
       "      <th></th>\n",
       "      <th></th>\n",
       "      <th></th>\n",
       "      <th></th>\n",
       "      <th></th>\n",
       "      <th></th>\n",
       "      <th></th>\n",
       "      <th></th>\n",
       "      <th></th>\n",
       "      <th></th>\n",
       "      <th></th>\n",
       "      <th></th>\n",
       "      <th></th>\n",
       "    </tr>\n",
       "  </thead>\n",
       "  <tbody>\n",
       "    <tr>\n",
       "      <th>0</th>\n",
       "      <td>256</td>\n",
       "      <td>370</td>\n",
       "      <td>112</td>\n",
       "      <td>180</td>\n",
       "      <td>34</td>\n",
       "      <td>122</td>\n",
       "      <td>201</td>\n",
       "      <td>47</td>\n",
       "      <td>101</td>\n",
       "      <td>21</td>\n",
       "      <td>...</td>\n",
       "      <td>548</td>\n",
       "      <td>941</td>\n",
       "      <td>250</td>\n",
       "      <td>469</td>\n",
       "      <td>126</td>\n",
       "      <td>877</td>\n",
       "      <td>1417</td>\n",
       "      <td>343</td>\n",
       "      <td>713</td>\n",
       "      <td>193</td>\n",
       "    </tr>\n",
       "    <tr>\n",
       "      <th>1</th>\n",
       "      <td>213</td>\n",
       "      <td>317</td>\n",
       "      <td>82</td>\n",
       "      <td>193</td>\n",
       "      <td>49</td>\n",
       "      <td>109</td>\n",
       "      <td>166</td>\n",
       "      <td>42</td>\n",
       "      <td>92</td>\n",
       "      <td>31</td>\n",
       "      <td>...</td>\n",
       "      <td>564</td>\n",
       "      <td>875</td>\n",
       "      <td>223</td>\n",
       "      <td>455</td>\n",
       "      <td>111</td>\n",
       "      <td>847</td>\n",
       "      <td>1433</td>\n",
       "      <td>351</td>\n",
       "      <td>683</td>\n",
       "      <td>215</td>\n",
       "    </tr>\n",
       "  </tbody>\n",
       "</table>\n",
       "<p>2 rows × 25 columns</p>\n",
       "</div>"
      ],
      "text/plain": [
       "SATRISFACTION_CHANGE_PLAN  avg_actively_looking_into_it  avg_considering  \\\n",
       "CHURN                                                                      \n",
       "0                                                   256              370   \n",
       "1                                                   213              317   \n",
       "\n",
       "SATRISFACTION_CHANGE_PLAN  avg_never_thought  avg_no  avg_perhaps  \\\n",
       "CHURN                                                               \n",
       "0                                        112     180           34   \n",
       "1                                         82     193           49   \n",
       "\n",
       "SATRISFACTION_CHANGE_PLAN  sat_actively_looking_into_it  sat_considering  \\\n",
       "CHURN                                                                      \n",
       "0                                                   122              201   \n",
       "1                                                   109              166   \n",
       "\n",
       "SATRISFACTION_CHANGE_PLAN  sat_never_thought  sat_no  sat_perhaps  ...  \\\n",
       "CHURN                                                              ...   \n",
       "0                                         47     101           21  ...   \n",
       "1                                         42      92           31  ...   \n",
       "\n",
       "SATRISFACTION_CHANGE_PLAN  very_sat_actively_looking_into_it  \\\n",
       "CHURN                                                          \n",
       "0                                                        548   \n",
       "1                                                        564   \n",
       "\n",
       "SATRISFACTION_CHANGE_PLAN  very_sat_considering  very_sat_never_thought  \\\n",
       "CHURN                                                                     \n",
       "0                                           941                     250   \n",
       "1                                           875                     223   \n",
       "\n",
       "SATRISFACTION_CHANGE_PLAN  very_sat_no  very_sat_perhaps  \\\n",
       "CHURN                                                      \n",
       "0                                  469               126   \n",
       "1                                  455               111   \n",
       "\n",
       "SATRISFACTION_CHANGE_PLAN  very_unsat_actively_looking_into_it  \\\n",
       "CHURN                                                            \n",
       "0                                                          877   \n",
       "1                                                          847   \n",
       "\n",
       "SATRISFACTION_CHANGE_PLAN  very_unsat_considering  very_unsat_never_thought  \\\n",
       "CHURN                                                                         \n",
       "0                                            1417                       343   \n",
       "1                                            1433                       351   \n",
       "\n",
       "SATRISFACTION_CHANGE_PLAN  very_unsat_no  very_unsat_perhaps  \n",
       "CHURN                                                         \n",
       "0                                    713                 193  \n",
       "1                                    683                 215  \n",
       "\n",
       "[2 rows x 25 columns]"
      ]
     },
     "execution_count": 90,
     "metadata": {},
     "output_type": "execute_result"
    }
   ],
   "source": [
    "pd.crosstab(mobile[target], mobile[var])"
   ]
  },
  {
   "cell_type": "markdown",
   "metadata": {
    "id": "iRNinsgWFQGF"
   },
   "source": [
    "② 시각화(Stacked Bar, Mosaic)"
   ]
  },
  {
   "cell_type": "code",
   "execution_count": 91,
   "metadata": {
    "id": "rnJwF8-dFQCg"
   },
   "outputs": [
    {
     "data": {
      "image/png": "[encoded data removed]",
      "text/plain": [
       "<Figure size 432x288 with 1 Axes>"
      ]
     },
     "metadata": {
      "needs_background": "light"
     },
     "output_type": "display_data"
    }
   ],
   "source": [
    "bar_table = pd.crosstab(mobile[var], mobile[target], normalize='index')\n",
    "bar_table.plot.bar(stacked=True)\n",
    "plt.axhline(1-mobile[target].mean(), color='r')\n",
    "plt.show()"
   ]
  },
  {
   "cell_type": "code",
   "execution_count": 92,
   "metadata": {
    "id": "Ch0ZeVooFP-g"
   },
   "outputs": [
    {
     "data": {
      "image/png": "[encoded data removed]",
      "text/plain": [
       "<Figure size 432x288 with 3 Axes>"
      ]
     },
     "metadata": {
      "needs_background": "light"
     },
     "output_type": "display_data"
    }
   ],
   "source": [
    "mosaic(mobile, [var, target])\n",
    "plt.axhline(1-mobile[target].mean(), color='r')\n",
    "plt.show()"
   ]
  },
  {
   "cell_type": "markdown",
   "metadata": {},
   "source": [
    "③ 가설검정(카이제곱검정)"
   ]
  },
  {
   "cell_type": "code",
   "execution_count": 93,
   "metadata": {
    "scrolled": true
   },
   "outputs": [
    {
     "name": "stdout",
     "output_type": "stream",
     "text": [
      "교차표\n",
      " SATRISFACTION_CHANGE_PLAN  avg_actively_looking_into_it  avg_considering  \\\n",
      "CHURN                                                                      \n",
      "0                                                   256              370   \n",
      "1                                                   213              317   \n",
      "\n",
      "SATRISFACTION_CHANGE_PLAN  avg_never_thought  avg_no  avg_perhaps  \\\n",
      "CHURN                                                               \n",
      "0                                        112     180           34   \n",
      "1                                         82     193           49   \n",
      "\n",
      "SATRISFACTION_CHANGE_PLAN  sat_actively_looking_into_it  sat_considering  \\\n",
      "CHURN                                                                      \n",
      "0                                                   122              201   \n",
      "1                                                   109              166   \n",
      "\n",
      "SATRISFACTION_CHANGE_PLAN  sat_never_thought  sat_no  sat_perhaps  ...  \\\n",
      "CHURN                                                              ...   \n",
      "0                                         47     101           21  ...   \n",
      "1                                         42      92           31  ...   \n",
      "\n",
      "SATRISFACTION_CHANGE_PLAN  very_sat_actively_looking_into_it  \\\n",
      "CHURN                                                          \n",
      "0                                                        548   \n",
      "1                                                        564   \n",
      "\n",
      "SATRISFACTION_CHANGE_PLAN  very_sat_considering  very_sat_never_thought  \\\n",
      "CHURN                                                                     \n",
      "0                                           941                     250   \n",
      "1                                           875                     223   \n",
      "\n",
      "SATRISFACTION_CHANGE_PLAN  very_sat_no  very_sat_perhaps  \\\n",
      "CHURN                                                      \n",
      "0                                  469               126   \n",
      "1                                  455               111   \n",
      "\n",
      "SATRISFACTION_CHANGE_PLAN  very_unsat_actively_looking_into_it  \\\n",
      "CHURN                                                            \n",
      "0                                                          877   \n",
      "1                                                          847   \n",
      "\n",
      "SATRISFACTION_CHANGE_PLAN  very_unsat_considering  very_unsat_never_thought  \\\n",
      "CHURN                                                                         \n",
      "0                                            1417                       343   \n",
      "1                                            1433                       351   \n",
      "\n",
      "SATRISFACTION_CHANGE_PLAN  very_unsat_no  very_unsat_perhaps  \n",
      "CHURN                                                         \n",
      "0                                    713                 193  \n",
      "1                                    683                 215  \n",
      "\n",
      "[2 rows x 25 columns]\n",
      "----------------------------------------------------------------------------------------------------\n",
      "카이제곱통계량 30.892385896897732\n",
      "p-value 0.15690987371288423\n",
      "기대빈도\n",
      " [[ 237.94660951  348.54865828   98.42567643  189.24112014   42.10995435\n",
      "   117.19758379  186.19702706   45.15404743   97.91832758   26.38214007\n",
      "   461.68745129  711.30308429  177.57209665  382.03368222   88.78604832\n",
      "   564.17191849  921.34550718  239.9760049   468.79033515  120.24167687\n",
      "   874.66941321 1445.94421557  352.10010021  708.2589912   206.99832981]\n",
      " [ 231.05339049  338.45134172   95.57432357  183.75887986   40.89004565\n",
      "   113.80241621  180.80297294   43.84595257   95.08167242   25.61785993\n",
      "   448.31254871  690.69691571  172.42790335  370.96631778   86.21395168\n",
      "   547.82808151  894.65449282  233.0239951   455.20966485  116.75832313\n",
      "   849.33058679 1404.05578443  341.89989979  687.7410088   201.00167019]]\n"
     ]
    }
   ],
   "source": [
    "# 먼저 집계\n",
    "chi2_table = pd.crosstab(mobile[target], mobile[var])\n",
    "print('교차표\\n', chi2_table)\n",
    "print('-' * 100)\n",
    "\n",
    "# 카이제곱검정\n",
    "result = spst.chi2_contingency(chi2_table)\n",
    "print('카이제곱통계량', result[0])\n",
    "print('p-value', result[1])\n",
    "print('기대빈도\\n',result[3])"
   ]
  },
  {
   "cell_type": "markdown",
   "metadata": {},
   "source": [
    "④ 결론"
   ]
  },
  {
   "cell_type": "markdown",
   "metadata": {},
   "source": [
    "- 세분화를 해서 진행을 했어도 큰 차이를 찾지 못했다.\n",
    "- 단독으로 사용될 때보다 의미 있었지만 큰 관계를 같는다고 할 수는 없다."
   ]
  },
  {
   "cell_type": "markdown",
   "metadata": {},
   "source": [
    "### COLLEGE -> CONSIDERING_CHANGE_OF_PLAN"
   ]
  },
  {
   "cell_type": "code",
   "execution_count": 94,
   "metadata": {},
   "outputs": [],
   "source": [
    "target = 'COLLEGE'\n",
    "var = 'CONSIDERING_CHANGE_OF_PLAN'"
   ]
  },
  {
   "cell_type": "code",
   "execution_count": 95,
   "metadata": {},
   "outputs": [
    {
     "data": {
      "text/html": [
       "<div>\n",
       "<style scoped>\n",
       "    .dataframe tbody tr th:only-of-type {\n",
       "        vertical-align: middle;\n",
       "    }\n",
       "\n",
       "    .dataframe tbody tr th {\n",
       "        vertical-align: top;\n",
       "    }\n",
       "\n",
       "    .dataframe thead th {\n",
       "        text-align: right;\n",
       "    }\n",
       "</style>\n",
       "<table border=\"1\" class=\"dataframe\">\n",
       "  <thead>\n",
       "    <tr style=\"text-align: right;\">\n",
       "      <th>CONSIDERING_CHANGE_OF_PLAN</th>\n",
       "      <th>actively_looking_into_it</th>\n",
       "      <th>considering</th>\n",
       "      <th>never_thought</th>\n",
       "      <th>no</th>\n",
       "      <th>perhaps</th>\n",
       "    </tr>\n",
       "    <tr>\n",
       "      <th>COLLEGE</th>\n",
       "      <th></th>\n",
       "      <th></th>\n",
       "      <th></th>\n",
       "      <th></th>\n",
       "      <th></th>\n",
       "    </tr>\n",
       "  </thead>\n",
       "  <tbody>\n",
       "    <tr>\n",
       "      <th>0</th>\n",
       "      <td>2281</td>\n",
       "      <td>3523</td>\n",
       "      <td>884</td>\n",
       "      <td>1788</td>\n",
       "      <td>475</td>\n",
       "    </tr>\n",
       "    <tr>\n",
       "      <th>1</th>\n",
       "      <td>2172</td>\n",
       "      <td>3618</td>\n",
       "      <td>920</td>\n",
       "      <td>1856</td>\n",
       "      <td>483</td>\n",
       "    </tr>\n",
       "  </tbody>\n",
       "</table>\n",
       "</div>"
      ],
      "text/plain": [
       "CONSIDERING_CHANGE_OF_PLAN  actively_looking_into_it  considering  \\\n",
       "COLLEGE                                                             \n",
       "0                                               2281         3523   \n",
       "1                                               2172         3618   \n",
       "\n",
       "CONSIDERING_CHANGE_OF_PLAN  never_thought    no  perhaps  \n",
       "COLLEGE                                                   \n",
       "0                                     884  1788      475  \n",
       "1                                     920  1856      483  "
      ]
     },
     "execution_count": 95,
     "metadata": {},
     "output_type": "execute_result"
    }
   ],
   "source": [
    "pd.crosstab(mobile[target], mobile[var])"
   ]
  },
  {
   "cell_type": "markdown",
   "metadata": {
    "id": "iRNinsgWFQGF"
   },
   "source": [
    "② 시각화(Stacked Bar, Mosaic)"
   ]
  },
  {
   "cell_type": "code",
   "execution_count": 96,
   "metadata": {
    "id": "rnJwF8-dFQCg"
   },
   "outputs": [
    {
     "data": {
      "image/png": "[encoded data removed]",
      "text/plain": [
       "<Figure size 432x288 with 1 Axes>"
      ]
     },
     "metadata": {
      "needs_background": "light"
     },
     "output_type": "display_data"
    }
   ],
   "source": [
    "bar_table = pd.crosstab(mobile[var], mobile[target], normalize='index')\n",
    "bar_table.plot.bar(stacked=True)\n",
    "plt.show()"
   ]
  },
  {
   "cell_type": "code",
   "execution_count": 97,
   "metadata": {
    "id": "Ch0ZeVooFP-g"
   },
   "outputs": [
    {
     "data": {
      "image/png": "[encoded data removed]",
      "text/plain": [
       "<Figure size 432x288 with 3 Axes>"
      ]
     },
     "metadata": {
      "needs_background": "light"
     },
     "output_type": "display_data"
    }
   ],
   "source": [
    "mosaic(mobile, [var, target])\n",
    "plt.axhline(1-mobile[target].mean(), color='r')\n",
    "plt.show()"
   ]
  },
  {
   "cell_type": "markdown",
   "metadata": {},
   "source": [
    "③ 가설검정(카이제곱검정)"
   ]
  },
  {
   "cell_type": "code",
   "execution_count": 98,
   "metadata": {
    "scrolled": true
   },
   "outputs": [
    {
     "name": "stdout",
     "output_type": "stream",
     "text": [
      "교차표\n",
      " CONSIDERING_CHANGE_OF_PLAN  actively_looking_into_it  considering  \\\n",
      "COLLEGE                                                             \n",
      "0                                               2281         3523   \n",
      "1                                               2172         3618   \n",
      "\n",
      "CONSIDERING_CHANGE_OF_PLAN  never_thought    no  perhaps  \n",
      "COLLEGE                                                   \n",
      "0                                     884  1788      475  \n",
      "1                                     920  1856      483  \n",
      "----------------------------------------------------------------------------------------------------\n",
      "카이제곱통계량 5.452668225735916\n",
      "p-value 0.24392141528902267\n",
      "기대빈도\n",
      " [[2214.37794444 3551.06061111  897.08911111 1812.08022222  476.39211111]\n",
      " [2238.62205556 3589.93938889  906.91088889 1831.91977778  481.60788889]]\n"
     ]
    }
   ],
   "source": [
    "# 먼저 집계\n",
    "chi2_table = pd.crosstab(mobile[target], mobile[var])\n",
    "print('교차표\\n', chi2_table)\n",
    "print('-' * 100)\n",
    "\n",
    "# 카이제곱검정\n",
    "result = spst.chi2_contingency(chi2_table)\n",
    "print('카이제곱통계량', result[0])\n",
    "print('p-value', result[1])\n",
    "print('기대빈도\\n',result[3])"
   ]
  },
  {
   "cell_type": "markdown",
   "metadata": {},
   "source": [
    "④ 결론"
   ]
  },
  {
   "cell_type": "markdown",
   "metadata": {},
   "source": [
    "- 대학 졸업여부와 변경 계획과는 관련이 없다."
   ]
  },
  {
   "cell_type": "code",
   "execution_count": null,
   "metadata": {},
   "outputs": [],
   "source": []
  }
 ],
 "metadata": {
  "colab": {
   "collapsed_sections": [
    "bdWZCugILZAz",
    "6ks7Mts5ZOIO",
    "KkyjTXOqLsyK",
    "wv6nX82-ZIG4"
   ],
   "name": "과제2. Mobile 고객 이탈 분석.ipynb",
   "provenance": []
  },
  "kernelspec": {
   "display_name": "Python 3",
   "language": "python",
   "name": "python3"
  },
  "language_info": {
   "codemirror_mode": {
    "name": "ipython",
    "version": 3
   },
   "file_extension": ".py",
   "mimetype": "text/x-python",
   "name": "python",
   "nbconvert_exporter": "python",
   "pygments_lexer": "ipython3",
   "version": "3.8.8"
  }
 },
 "nbformat": 4,
 "nbformat_minor": 1
}
