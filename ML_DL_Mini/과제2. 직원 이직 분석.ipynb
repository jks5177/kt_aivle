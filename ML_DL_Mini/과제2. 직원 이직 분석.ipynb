{
 "cells": [
  {
   "cell_type": "markdown",
   "metadata": {
    "id": "mTt7qGUTCcFs"
   },
   "source": [
    "# 과제#2. 직원 이직 예측"
   ]
  },
  {
   "cell_type": "markdown",
   "metadata": {
    "id": "t42CZ_o2iHvT"
   },
   "source": [
    "* 회사 인사팀에서는 AIVLER 들에게 직원의 이직여부과 관련해서 분석을 요청하였습니다.\n",
    "* 최근 이직율이 증가하는 것에 대해 우려를 갖고 있기에, 이직여부에 영향을 주는 요인에 대해 분석하여, 이직할 것으로 보이는 직원들에 대해 회사를 떠나지 않도록 인사 프로그램을 준비하려고 합니다.\n",
    "* 어떤 직원이 이직할지 예측해 봅시다."
   ]
  },
  {
   "cell_type": "markdown",
   "metadata": {
    "id": "0wuYJKZHjA3d"
   },
   "source": [
    "![](https://adoptostaging.blob.core.windows.net/media/employee-attrition-reasons-9LIqMv.jpg)"
   ]
  },
  {
   "cell_type": "markdown",
   "metadata": {
    "id": "AHmt88Q5EVsj"
   },
   "source": [
    "## 0.환경설정"
   ]
  },
  {
   "cell_type": "markdown",
   "metadata": {
    "id": "KnzVh2LmkLDU"
   },
   "source": [
    "### 1) 라이브러리 로딩"
   ]
  },
  {
   "cell_type": "code",
   "execution_count": 1,
   "metadata": {
    "id": "3rsQerEaELwI"
   },
   "outputs": [],
   "source": [
    "# 기본 라이브러리 가져오기\n",
    "import pandas as pd\n",
    "import numpy as np\n",
    "\n",
    "import matplotlib.pyplot as plt\n",
    "import seaborn as sns\n",
    "\n",
    "from sklearn.model_selection import train_test_split    "
   ]
  },
  {
   "cell_type": "markdown",
   "metadata": {
    "id": "5Qh5KYWokO_N"
   },
   "source": [
    "### 2) 데이터 로딩"
   ]
  },
  {
   "cell_type": "code",
   "execution_count": 2,
   "metadata": {
    "id": "Bw5yZwT0MJKx"
   },
   "outputs": [
    {
     "data": {
      "text/html": [
       "<div>\n",
       "<style scoped>\n",
       "    .dataframe tbody tr th:only-of-type {\n",
       "        vertical-align: middle;\n",
       "    }\n",
       "\n",
       "    .dataframe tbody tr th {\n",
       "        vertical-align: top;\n",
       "    }\n",
       "\n",
       "    .dataframe thead th {\n",
       "        text-align: right;\n",
       "    }\n",
       "</style>\n",
       "<table border=\"1\" class=\"dataframe\">\n",
       "  <thead>\n",
       "    <tr style=\"text-align: right;\">\n",
       "      <th></th>\n",
       "      <th>Attrition</th>\n",
       "      <th>Age</th>\n",
       "      <th>BusinessTravel</th>\n",
       "      <th>Department</th>\n",
       "      <th>DistanceFromHome</th>\n",
       "      <th>Education</th>\n",
       "      <th>EducationField</th>\n",
       "      <th>EmployeeNumber</th>\n",
       "      <th>EnvironmentSatisfaction</th>\n",
       "      <th>Gender</th>\n",
       "      <th>...</th>\n",
       "      <th>OverTime</th>\n",
       "      <th>PercentSalaryHike</th>\n",
       "      <th>RelationshipSatisfaction</th>\n",
       "      <th>StockOptionLevel</th>\n",
       "      <th>TotalWorkingYears</th>\n",
       "      <th>TrainingTimesLastYear</th>\n",
       "      <th>WorkLifeBalance</th>\n",
       "      <th>YearsAtCompany</th>\n",
       "      <th>YearsInCurrentRole</th>\n",
       "      <th>YearsWithCurrManager</th>\n",
       "    </tr>\n",
       "  </thead>\n",
       "  <tbody>\n",
       "    <tr>\n",
       "      <th>0</th>\n",
       "      <td>0</td>\n",
       "      <td>33</td>\n",
       "      <td>Travel_Rarely</td>\n",
       "      <td>Research &amp; Development</td>\n",
       "      <td>7.0</td>\n",
       "      <td>3</td>\n",
       "      <td>Medical</td>\n",
       "      <td>817</td>\n",
       "      <td>3</td>\n",
       "      <td>Male</td>\n",
       "      <td>...</td>\n",
       "      <td>No</td>\n",
       "      <td>11</td>\n",
       "      <td>4</td>\n",
       "      <td>0</td>\n",
       "      <td>14</td>\n",
       "      <td>3</td>\n",
       "      <td>4</td>\n",
       "      <td>13</td>\n",
       "      <td>9</td>\n",
       "      <td>7</td>\n",
       "    </tr>\n",
       "    <tr>\n",
       "      <th>1</th>\n",
       "      <td>0</td>\n",
       "      <td>35</td>\n",
       "      <td>Travel_Frequently</td>\n",
       "      <td>Research &amp; Development</td>\n",
       "      <td>18.0</td>\n",
       "      <td>2</td>\n",
       "      <td>Life Sciences</td>\n",
       "      <td>1412</td>\n",
       "      <td>3</td>\n",
       "      <td>Male</td>\n",
       "      <td>...</td>\n",
       "      <td>No</td>\n",
       "      <td>11</td>\n",
       "      <td>3</td>\n",
       "      <td>0</td>\n",
       "      <td>10</td>\n",
       "      <td>2</td>\n",
       "      <td>3</td>\n",
       "      <td>2</td>\n",
       "      <td>2</td>\n",
       "      <td>2</td>\n",
       "    </tr>\n",
       "    <tr>\n",
       "      <th>2</th>\n",
       "      <td>0</td>\n",
       "      <td>42</td>\n",
       "      <td>Travel_Rarely</td>\n",
       "      <td>Research &amp; Development</td>\n",
       "      <td>6.0</td>\n",
       "      <td>3</td>\n",
       "      <td>Medical</td>\n",
       "      <td>1911</td>\n",
       "      <td>3</td>\n",
       "      <td>Male</td>\n",
       "      <td>...</td>\n",
       "      <td>No</td>\n",
       "      <td>13</td>\n",
       "      <td>2</td>\n",
       "      <td>1</td>\n",
       "      <td>18</td>\n",
       "      <td>3</td>\n",
       "      <td>4</td>\n",
       "      <td>13</td>\n",
       "      <td>7</td>\n",
       "      <td>7</td>\n",
       "    </tr>\n",
       "    <tr>\n",
       "      <th>3</th>\n",
       "      <td>0</td>\n",
       "      <td>46</td>\n",
       "      <td>Travel_Rarely</td>\n",
       "      <td>Sales</td>\n",
       "      <td>2.0</td>\n",
       "      <td>3</td>\n",
       "      <td>Marketing</td>\n",
       "      <td>1204</td>\n",
       "      <td>3</td>\n",
       "      <td>Female</td>\n",
       "      <td>...</td>\n",
       "      <td>No</td>\n",
       "      <td>23</td>\n",
       "      <td>1</td>\n",
       "      <td>0</td>\n",
       "      <td>28</td>\n",
       "      <td>2</td>\n",
       "      <td>3</td>\n",
       "      <td>26</td>\n",
       "      <td>15</td>\n",
       "      <td>9</td>\n",
       "    </tr>\n",
       "    <tr>\n",
       "      <th>4</th>\n",
       "      <td>0</td>\n",
       "      <td>39</td>\n",
       "      <td>Travel_Frequently</td>\n",
       "      <td>Sales</td>\n",
       "      <td>NaN</td>\n",
       "      <td>3</td>\n",
       "      <td>Life Sciences</td>\n",
       "      <td>1812</td>\n",
       "      <td>3</td>\n",
       "      <td>Male</td>\n",
       "      <td>...</td>\n",
       "      <td>No</td>\n",
       "      <td>18</td>\n",
       "      <td>4</td>\n",
       "      <td>1</td>\n",
       "      <td>7</td>\n",
       "      <td>6</td>\n",
       "      <td>3</td>\n",
       "      <td>2</td>\n",
       "      <td>1</td>\n",
       "      <td>2</td>\n",
       "    </tr>\n",
       "    <tr>\n",
       "      <th>5</th>\n",
       "      <td>1</td>\n",
       "      <td>22</td>\n",
       "      <td>Travel_Frequently</td>\n",
       "      <td>Research &amp; Development</td>\n",
       "      <td>4.0</td>\n",
       "      <td>1</td>\n",
       "      <td>Technical Degree</td>\n",
       "      <td>593</td>\n",
       "      <td>3</td>\n",
       "      <td>Male</td>\n",
       "      <td>...</td>\n",
       "      <td>No</td>\n",
       "      <td>16</td>\n",
       "      <td>3</td>\n",
       "      <td>0</td>\n",
       "      <td>4</td>\n",
       "      <td>3</td>\n",
       "      <td>3</td>\n",
       "      <td>2</td>\n",
       "      <td>2</td>\n",
       "      <td>2</td>\n",
       "    </tr>\n",
       "    <tr>\n",
       "      <th>6</th>\n",
       "      <td>0</td>\n",
       "      <td>24</td>\n",
       "      <td>Travel_Rarely</td>\n",
       "      <td>Research &amp; Development</td>\n",
       "      <td>21.0</td>\n",
       "      <td>2</td>\n",
       "      <td>Technical Degree</td>\n",
       "      <td>1551</td>\n",
       "      <td>3</td>\n",
       "      <td>Male</td>\n",
       "      <td>...</td>\n",
       "      <td>No</td>\n",
       "      <td>14</td>\n",
       "      <td>2</td>\n",
       "      <td>3</td>\n",
       "      <td>2</td>\n",
       "      <td>3</td>\n",
       "      <td>3</td>\n",
       "      <td>1</td>\n",
       "      <td>1</td>\n",
       "      <td>0</td>\n",
       "    </tr>\n",
       "    <tr>\n",
       "      <th>7</th>\n",
       "      <td>0</td>\n",
       "      <td>34</td>\n",
       "      <td>Travel_Rarely</td>\n",
       "      <td>Research &amp; Development</td>\n",
       "      <td>8.0</td>\n",
       "      <td>3</td>\n",
       "      <td>Medical</td>\n",
       "      <td>2068</td>\n",
       "      <td>2</td>\n",
       "      <td>Male</td>\n",
       "      <td>...</td>\n",
       "      <td>No</td>\n",
       "      <td>12</td>\n",
       "      <td>1</td>\n",
       "      <td>0</td>\n",
       "      <td>6</td>\n",
       "      <td>3</td>\n",
       "      <td>4</td>\n",
       "      <td>4</td>\n",
       "      <td>3</td>\n",
       "      <td>2</td>\n",
       "    </tr>\n",
       "    <tr>\n",
       "      <th>8</th>\n",
       "      <td>0</td>\n",
       "      <td>30</td>\n",
       "      <td>Travel_Rarely</td>\n",
       "      <td>Research &amp; Development</td>\n",
       "      <td>20.0</td>\n",
       "      <td>3</td>\n",
       "      <td>Other</td>\n",
       "      <td>1084</td>\n",
       "      <td>3</td>\n",
       "      <td>Male</td>\n",
       "      <td>...</td>\n",
       "      <td>No</td>\n",
       "      <td>15</td>\n",
       "      <td>3</td>\n",
       "      <td>1</td>\n",
       "      <td>7</td>\n",
       "      <td>1</td>\n",
       "      <td>2</td>\n",
       "      <td>6</td>\n",
       "      <td>2</td>\n",
       "      <td>2</td>\n",
       "    </tr>\n",
       "    <tr>\n",
       "      <th>9</th>\n",
       "      <td>0</td>\n",
       "      <td>26</td>\n",
       "      <td>Travel_Rarely</td>\n",
       "      <td>Research &amp; Development</td>\n",
       "      <td>6.0</td>\n",
       "      <td>3</td>\n",
       "      <td>Life Sciences</td>\n",
       "      <td>686</td>\n",
       "      <td>3</td>\n",
       "      <td>Female</td>\n",
       "      <td>...</td>\n",
       "      <td>Yes</td>\n",
       "      <td>13</td>\n",
       "      <td>3</td>\n",
       "      <td>1</td>\n",
       "      <td>3</td>\n",
       "      <td>2</td>\n",
       "      <td>3</td>\n",
       "      <td>3</td>\n",
       "      <td>2</td>\n",
       "      <td>2</td>\n",
       "    </tr>\n",
       "  </tbody>\n",
       "</table>\n",
       "<p>10 rows × 26 columns</p>\n",
       "</div>"
      ],
      "text/plain": [
       "   Attrition  Age     BusinessTravel              Department  \\\n",
       "0          0   33      Travel_Rarely  Research & Development   \n",
       "1          0   35  Travel_Frequently  Research & Development   \n",
       "2          0   42      Travel_Rarely  Research & Development   \n",
       "3          0   46      Travel_Rarely                   Sales   \n",
       "4          0   39  Travel_Frequently                   Sales   \n",
       "5          1   22  Travel_Frequently  Research & Development   \n",
       "6          0   24      Travel_Rarely  Research & Development   \n",
       "7          0   34      Travel_Rarely  Research & Development   \n",
       "8          0   30      Travel_Rarely  Research & Development   \n",
       "9          0   26      Travel_Rarely  Research & Development   \n",
       "\n",
       "   DistanceFromHome  Education    EducationField  EmployeeNumber  \\\n",
       "0               7.0          3           Medical             817   \n",
       "1              18.0          2     Life Sciences            1412   \n",
       "2               6.0          3           Medical            1911   \n",
       "3               2.0          3         Marketing            1204   \n",
       "4               NaN          3     Life Sciences            1812   \n",
       "5               4.0          1  Technical Degree             593   \n",
       "6              21.0          2  Technical Degree            1551   \n",
       "7               8.0          3           Medical            2068   \n",
       "8              20.0          3             Other            1084   \n",
       "9               6.0          3     Life Sciences             686   \n",
       "\n",
       "   EnvironmentSatisfaction  Gender  ...  OverTime PercentSalaryHike  \\\n",
       "0                        3    Male  ...        No                11   \n",
       "1                        3    Male  ...        No                11   \n",
       "2                        3    Male  ...        No                13   \n",
       "3                        3  Female  ...        No                23   \n",
       "4                        3    Male  ...        No                18   \n",
       "5                        3    Male  ...        No                16   \n",
       "6                        3    Male  ...        No                14   \n",
       "7                        2    Male  ...        No                12   \n",
       "8                        3    Male  ...        No                15   \n",
       "9                        3  Female  ...       Yes                13   \n",
       "\n",
       "   RelationshipSatisfaction StockOptionLevel  TotalWorkingYears  \\\n",
       "0                         4                0                 14   \n",
       "1                         3                0                 10   \n",
       "2                         2                1                 18   \n",
       "3                         1                0                 28   \n",
       "4                         4                1                  7   \n",
       "5                         3                0                  4   \n",
       "6                         2                3                  2   \n",
       "7                         1                0                  6   \n",
       "8                         3                1                  7   \n",
       "9                         3                1                  3   \n",
       "\n",
       "   TrainingTimesLastYear WorkLifeBalance  YearsAtCompany  YearsInCurrentRole  \\\n",
       "0                      3               4              13                   9   \n",
       "1                      2               3               2                   2   \n",
       "2                      3               4              13                   7   \n",
       "3                      2               3              26                  15   \n",
       "4                      6               3               2                   1   \n",
       "5                      3               3               2                   2   \n",
       "6                      3               3               1                   1   \n",
       "7                      3               4               4                   3   \n",
       "8                      1               2               6                   2   \n",
       "9                      2               3               3                   2   \n",
       "\n",
       "   YearsWithCurrManager  \n",
       "0                     7  \n",
       "1                     2  \n",
       "2                     7  \n",
       "3                     9  \n",
       "4                     2  \n",
       "5                     2  \n",
       "6                     0  \n",
       "7                     2  \n",
       "8                     2  \n",
       "9                     2  \n",
       "\n",
       "[10 rows x 26 columns]"
      ]
     },
     "execution_count": 2,
     "metadata": {},
     "output_type": "execute_result"
    }
   ],
   "source": [
    "# data data\n",
    "path = \"https://raw.githubusercontent.com/DA4BAM/dataset/master/Attrition_NA.CSV\"\n",
    "data = pd.read_csv(path)\n",
    "data['Attrition'] = np.where(data['Attrition']=='Yes', 1, 0)\n",
    "data.head(10)"
   ]
  },
  {
   "cell_type": "code",
   "execution_count": 62,
   "metadata": {},
   "outputs": [
    {
     "data": {
      "text/plain": [
       "array(['Research & Development', 'Sales', 'Human Resources'], dtype=object)"
      ]
     },
     "execution_count": 62,
     "metadata": {},
     "output_type": "execute_result"
    }
   ],
   "source": [
    "data['Department'].unique()"
   ]
  },
  {
   "cell_type": "code",
   "execution_count": 61,
   "metadata": {},
   "outputs": [
    {
     "data": {
      "text/plain": [
       "array(['Medical', 'Life Sciences', 'Marketing', 'Technical Degree',\n",
       "       'Other', 'Human Resources'], dtype=object)"
      ]
     },
     "execution_count": 61,
     "metadata": {},
     "output_type": "execute_result"
    }
   ],
   "source": [
    "data['EducationField'].unique()"
   ]
  },
  {
   "cell_type": "markdown",
   "metadata": {
    "id": "v50TP8BhMJKx"
   },
   "source": [
    "|\t변수 명\t|\t내용\t|\t구분\t|\n",
    "|\t----\t|\t----\t|\t----\t|\n",
    "|\t**Attrition**\t|\t이직여부, Yes = 1 , No = 0\t|\t**Target**\t|\n",
    "|\tAge\t|\t나이\t|\t숫자\t|\n",
    "|\tBusinessTravel\t|\t출장 빈도(범주)\t|\t\t|\n",
    "|\tDepartment\t|\t현 부서\t|\t\t|\n",
    "|\tDistanceFromHome\t|\t집-직장 거리(마일)\t|\t숫자\t|\n",
    "|\tEducation\t|\t교육수준(범주)\t|\t1 Below College, 2 College, 3 Bachelor, 4 Master, 5 Doctor\t|\n",
    "|\tEducationField\t|\t전공\t|\t\t|\n",
    "|\tEmployeeNumber\t|\t사번\t|\t\t|\n",
    "|\tEnvironmentSatisfaction\t|\t근무환경에 대한 만족도(범주)\t|\t1 Low, 2 Good, 3 Excellent, 4 Outstanding\t|\n",
    "|\tGender\t|\t성별\t|\t\t|\n",
    "|\tJobInvolvement\t|\t직무 적극성(참여도)\t|\t1 Low, 2 Medium, 3 High, 4 Very High\t|\n",
    "|\tJobRole\t|\t직무\t|\t\t|\n",
    "|\tJobSatisfaction\t|\t직무 만족도\t|\t1 Low, 2 Medium, 3 High, 4 Very High\t|\n",
    "|\tMaritalStatus\t|\t결혼상태\t|\t\t|\n",
    "|\tMonthlyIncome\t|\t월급\t|\t숫자\t|\n",
    "|\tNumCompaniesWorked\t|\t현재까지 근무한 회사 수\t|\t숫자\t|\n",
    "|\tOverTime\t|\t야근여부\t|\t범주\t|\n",
    "|\tPercentSalaryHike\t|\t전년대비 급여인상율(%)\t|\t숫자\t|\n",
    "|\tRelationshipSatisfaction\t|\t동료와의 관계 만족도\t|\t1 Low, 2 Medium, 3 High, 4 Very High\t|\n",
    "|\tStockOptionLevel\t|\t스톡옵션 수준 0~3\t|\t범주\t|\n",
    "|\tTotalWorkingYears\t|\t총 근무 연수\t|\t숫자\t|\n",
    "|\tTrainingTimesLastYear\t|\t전년 교육훈련 횟수\t|\t숫자\t|\n",
    "|\tWorkLifeBalance\t|\t워라밸. 일-삶 균형도\t|\t1 Bad, 2 Good, 3 Better, 4 Best\t|\n",
    "|\tYearsAtCompany\t|\t현직장 근무 연수\t|\t숫자\t|\n",
    "|\tYearsInCurrentRole\t|\t현직무 연수\t|\t숫자\t|\n",
    "|\tYearsWithCurrManager\t|\t현 팀장과 근무한 연수\t|\t숫자\t|\n"
   ]
  },
  {
   "cell_type": "markdown",
   "metadata": {
    "id": "bKimk8qVm8oC"
   },
   "source": [
    "----"
   ]
  },
  {
   "cell_type": "markdown",
   "metadata": {
    "id": "0bouXLxGkSSd"
   },
   "source": [
    "## 1.데이터 탐색"
   ]
  },
  {
   "cell_type": "markdown",
   "metadata": {
    "id": "PRXJWyibZTJN"
   },
   "source": [
    "## 2.데이터 전처리 "
   ]
  },
  {
   "cell_type": "code",
   "execution_count": 3,
   "metadata": {
    "id": "vtn0hI98urCt"
   },
   "outputs": [],
   "source": [
    "target = 'Attrition'"
   ]
  },
  {
   "cell_type": "markdown",
   "metadata": {
    "id": "OftPNXa1EPeV"
   },
   "source": [
    "### 2.1 데이터 정리"
   ]
  },
  {
   "cell_type": "markdown",
   "metadata": {
    "id": "mk_WSjzdnLLE"
   },
   "source": [
    "* feature와 , target으로 분할"
   ]
  },
  {
   "cell_type": "code",
   "execution_count": 4,
   "metadata": {
    "id": "hKx1tqpEEPeV"
   },
   "outputs": [],
   "source": [
    "x = data.drop(target, axis = 1)\n",
    "y = data.loc[:, target]"
   ]
  },
  {
   "cell_type": "markdown",
   "metadata": {
    "id": "a_EtSMDQnMQ5"
   },
   "source": [
    "* 불필요한 feature 제거\n",
    "    * 제거해야 할 feature를 선정하고 제거하시오. 제거 이유를 주석으로 기술합니다."
   ]
  },
  {
   "cell_type": "code",
   "execution_count": 5,
   "metadata": {
    "id": "86yIoNg7nNuu"
   },
   "outputs": [
    {
     "data": {
      "text/html": [
       "<div>\n",
       "<style scoped>\n",
       "    .dataframe tbody tr th:only-of-type {\n",
       "        vertical-align: middle;\n",
       "    }\n",
       "\n",
       "    .dataframe tbody tr th {\n",
       "        vertical-align: top;\n",
       "    }\n",
       "\n",
       "    .dataframe thead th {\n",
       "        text-align: right;\n",
       "    }\n",
       "</style>\n",
       "<table border=\"1\" class=\"dataframe\">\n",
       "  <thead>\n",
       "    <tr style=\"text-align: right;\">\n",
       "      <th></th>\n",
       "      <th>Age</th>\n",
       "      <th>BusinessTravel</th>\n",
       "      <th>DistanceFromHome</th>\n",
       "      <th>Education</th>\n",
       "      <th>EnvironmentSatisfaction</th>\n",
       "      <th>JobInvolvement</th>\n",
       "      <th>JobRole</th>\n",
       "      <th>JobSatisfaction</th>\n",
       "      <th>MaritalStatus</th>\n",
       "      <th>MonthlyIncome</th>\n",
       "      <th>...</th>\n",
       "      <th>OverTime</th>\n",
       "      <th>PercentSalaryHike</th>\n",
       "      <th>RelationshipSatisfaction</th>\n",
       "      <th>StockOptionLevel</th>\n",
       "      <th>TotalWorkingYears</th>\n",
       "      <th>TrainingTimesLastYear</th>\n",
       "      <th>WorkLifeBalance</th>\n",
       "      <th>YearsAtCompany</th>\n",
       "      <th>YearsInCurrentRole</th>\n",
       "      <th>YearsWithCurrManager</th>\n",
       "    </tr>\n",
       "  </thead>\n",
       "  <tbody>\n",
       "    <tr>\n",
       "      <th>0</th>\n",
       "      <td>33</td>\n",
       "      <td>Travel_Rarely</td>\n",
       "      <td>7.0</td>\n",
       "      <td>3</td>\n",
       "      <td>3</td>\n",
       "      <td>3</td>\n",
       "      <td>Research Director</td>\n",
       "      <td>3</td>\n",
       "      <td>Married</td>\n",
       "      <td>11691</td>\n",
       "      <td>...</td>\n",
       "      <td>No</td>\n",
       "      <td>11</td>\n",
       "      <td>4</td>\n",
       "      <td>0</td>\n",
       "      <td>14</td>\n",
       "      <td>3</td>\n",
       "      <td>4</td>\n",
       "      <td>13</td>\n",
       "      <td>9</td>\n",
       "      <td>7</td>\n",
       "    </tr>\n",
       "    <tr>\n",
       "      <th>1</th>\n",
       "      <td>35</td>\n",
       "      <td>Travel_Frequently</td>\n",
       "      <td>18.0</td>\n",
       "      <td>2</td>\n",
       "      <td>3</td>\n",
       "      <td>3</td>\n",
       "      <td>Manufacturing Director</td>\n",
       "      <td>4</td>\n",
       "      <td>Single</td>\n",
       "      <td>9362</td>\n",
       "      <td>...</td>\n",
       "      <td>No</td>\n",
       "      <td>11</td>\n",
       "      <td>3</td>\n",
       "      <td>0</td>\n",
       "      <td>10</td>\n",
       "      <td>2</td>\n",
       "      <td>3</td>\n",
       "      <td>2</td>\n",
       "      <td>2</td>\n",
       "      <td>2</td>\n",
       "    </tr>\n",
       "    <tr>\n",
       "      <th>2</th>\n",
       "      <td>42</td>\n",
       "      <td>Travel_Rarely</td>\n",
       "      <td>6.0</td>\n",
       "      <td>3</td>\n",
       "      <td>3</td>\n",
       "      <td>3</td>\n",
       "      <td>Research Director</td>\n",
       "      <td>1</td>\n",
       "      <td>Married</td>\n",
       "      <td>13348</td>\n",
       "      <td>...</td>\n",
       "      <td>No</td>\n",
       "      <td>13</td>\n",
       "      <td>2</td>\n",
       "      <td>1</td>\n",
       "      <td>18</td>\n",
       "      <td>3</td>\n",
       "      <td>4</td>\n",
       "      <td>13</td>\n",
       "      <td>7</td>\n",
       "      <td>7</td>\n",
       "    </tr>\n",
       "    <tr>\n",
       "      <th>3</th>\n",
       "      <td>46</td>\n",
       "      <td>Travel_Rarely</td>\n",
       "      <td>2.0</td>\n",
       "      <td>3</td>\n",
       "      <td>3</td>\n",
       "      <td>3</td>\n",
       "      <td>Manager</td>\n",
       "      <td>1</td>\n",
       "      <td>Married</td>\n",
       "      <td>17048</td>\n",
       "      <td>...</td>\n",
       "      <td>No</td>\n",
       "      <td>23</td>\n",
       "      <td>1</td>\n",
       "      <td>0</td>\n",
       "      <td>28</td>\n",
       "      <td>2</td>\n",
       "      <td>3</td>\n",
       "      <td>26</td>\n",
       "      <td>15</td>\n",
       "      <td>9</td>\n",
       "    </tr>\n",
       "    <tr>\n",
       "      <th>4</th>\n",
       "      <td>39</td>\n",
       "      <td>Travel_Frequently</td>\n",
       "      <td>NaN</td>\n",
       "      <td>3</td>\n",
       "      <td>3</td>\n",
       "      <td>3</td>\n",
       "      <td>Sales Executive</td>\n",
       "      <td>4</td>\n",
       "      <td>Divorced</td>\n",
       "      <td>4127</td>\n",
       "      <td>...</td>\n",
       "      <td>No</td>\n",
       "      <td>18</td>\n",
       "      <td>4</td>\n",
       "      <td>1</td>\n",
       "      <td>7</td>\n",
       "      <td>6</td>\n",
       "      <td>3</td>\n",
       "      <td>2</td>\n",
       "      <td>1</td>\n",
       "      <td>2</td>\n",
       "    </tr>\n",
       "  </tbody>\n",
       "</table>\n",
       "<p>5 rows × 21 columns</p>\n",
       "</div>"
      ],
      "text/plain": [
       "   Age     BusinessTravel  DistanceFromHome  Education  \\\n",
       "0   33      Travel_Rarely               7.0          3   \n",
       "1   35  Travel_Frequently              18.0          2   \n",
       "2   42      Travel_Rarely               6.0          3   \n",
       "3   46      Travel_Rarely               2.0          3   \n",
       "4   39  Travel_Frequently               NaN          3   \n",
       "\n",
       "   EnvironmentSatisfaction  JobInvolvement                 JobRole  \\\n",
       "0                        3               3       Research Director   \n",
       "1                        3               3  Manufacturing Director   \n",
       "2                        3               3       Research Director   \n",
       "3                        3               3                 Manager   \n",
       "4                        3               3         Sales Executive   \n",
       "\n",
       "   JobSatisfaction MaritalStatus  MonthlyIncome  ...  OverTime  \\\n",
       "0                3       Married          11691  ...        No   \n",
       "1                4        Single           9362  ...        No   \n",
       "2                1       Married          13348  ...        No   \n",
       "3                1       Married          17048  ...        No   \n",
       "4                4      Divorced           4127  ...        No   \n",
       "\n",
       "  PercentSalaryHike  RelationshipSatisfaction  StockOptionLevel  \\\n",
       "0                11                         4                 0   \n",
       "1                11                         3                 0   \n",
       "2                13                         2                 1   \n",
       "3                23                         1                 0   \n",
       "4                18                         4                 1   \n",
       "\n",
       "   TotalWorkingYears  TrainingTimesLastYear  WorkLifeBalance  YearsAtCompany  \\\n",
       "0                 14                      3                4              13   \n",
       "1                 10                      2                3               2   \n",
       "2                 18                      3                4              13   \n",
       "3                 28                      2                3              26   \n",
       "4                  7                      6                3               2   \n",
       "\n",
       "   YearsInCurrentRole  YearsWithCurrManager  \n",
       "0                   9                     7  \n",
       "1                   2                     2  \n",
       "2                   7                     7  \n",
       "3                  15                     9  \n",
       "4                   1                     2  \n",
       "\n",
       "[5 rows x 21 columns]"
      ]
     },
     "execution_count": 5,
     "metadata": {},
     "output_type": "execute_result"
    }
   ],
   "source": [
    "# 현부서, 전공, 사번, 성별을 제거했습니다.\n",
    "# 현부서를 제거한 이유 : 회사에서 이직을 하는 이유에 따른 보완 사항을 구하는 것임으로 부서별로 보는 것은 적절하지 않다고 생각합니다.\n",
    "# 전공을 제거한 이유 : 전공과 현부서가 같을 필요는 없기 때문에 제거했습니다.\n",
    "# 사번 : 모든 임직원이 다 다른 값을 가지기 때문에 제거했습니다.\n",
    "# 성별 : 다변량 분석을 진행했을 때 Gender는 이직률과 관계가 없는 것으로 나왔습니다.\n",
    "\n",
    "del_col = ['Department', 'EducationField', 'EmployeeNumber', 'Gender']\n",
    "\n",
    "x.drop(del_col, axis=1, inplace=True)\n",
    "\n",
    "x.head()"
   ]
  },
  {
   "cell_type": "code",
   "execution_count": 6,
   "metadata": {},
   "outputs": [
    {
     "name": "stdout",
     "output_type": "stream",
     "text": [
      "<class 'pandas.core.frame.DataFrame'>\n",
      "RangeIndex: 1250 entries, 0 to 1249\n",
      "Data columns (total 21 columns):\n",
      " #   Column                    Non-Null Count  Dtype  \n",
      "---  ------                    --------------  -----  \n",
      " 0   Age                       1250 non-null   int64  \n",
      " 1   BusinessTravel            1250 non-null   object \n",
      " 2   DistanceFromHome          1196 non-null   float64\n",
      " 3   Education                 1250 non-null   int64  \n",
      " 4   EnvironmentSatisfaction   1250 non-null   int64  \n",
      " 5   JobInvolvement            1250 non-null   int64  \n",
      " 6   JobRole                   1250 non-null   object \n",
      " 7   JobSatisfaction           1250 non-null   int64  \n",
      " 8   MaritalStatus             1250 non-null   object \n",
      " 9   MonthlyIncome             1250 non-null   int64  \n",
      " 10  NumCompaniesWorked        1229 non-null   float64\n",
      " 11  OverTime                  1250 non-null   object \n",
      " 12  PercentSalaryHike         1250 non-null   int64  \n",
      " 13  RelationshipSatisfaction  1250 non-null   int64  \n",
      " 14  StockOptionLevel          1250 non-null   int64  \n",
      " 15  TotalWorkingYears         1250 non-null   int64  \n",
      " 16  TrainingTimesLastYear     1250 non-null   int64  \n",
      " 17  WorkLifeBalance           1250 non-null   int64  \n",
      " 18  YearsAtCompany            1250 non-null   int64  \n",
      " 19  YearsInCurrentRole        1250 non-null   int64  \n",
      " 20  YearsWithCurrManager      1250 non-null   int64  \n",
      "dtypes: float64(2), int64(15), object(4)\n",
      "memory usage: 205.2+ KB\n"
     ]
    }
   ],
   "source": [
    "x.info()"
   ]
  },
  {
   "cell_type": "markdown",
   "metadata": {
    "id": "ScpJ5uNrGjIw"
   },
   "source": [
    "### 2.2 NaN에 대한 조치\n",
    "* 데이터에 포함된 NaN에 대해서 조치 방법을 결정하고 적용합니다.\n",
    "* 조치방법을 결정한 이유를 주석으로 기술합니다."
   ]
  },
  {
   "cell_type": "code",
   "execution_count": 7,
   "metadata": {
    "id": "8epD0jT6vL51",
    "scrolled": true
   },
   "outputs": [
    {
     "data": {
      "text/plain": [
       "Age                          0\n",
       "BusinessTravel               0\n",
       "DistanceFromHome            54\n",
       "Education                    0\n",
       "EnvironmentSatisfaction      0\n",
       "JobInvolvement               0\n",
       "JobRole                      0\n",
       "JobSatisfaction              0\n",
       "MaritalStatus                0\n",
       "MonthlyIncome                0\n",
       "NumCompaniesWorked          21\n",
       "OverTime                     0\n",
       "PercentSalaryHike            0\n",
       "RelationshipSatisfaction     0\n",
       "StockOptionLevel             0\n",
       "TotalWorkingYears            0\n",
       "TrainingTimesLastYear        0\n",
       "WorkLifeBalance              0\n",
       "YearsAtCompany               0\n",
       "YearsInCurrentRole           0\n",
       "YearsWithCurrManager         0\n",
       "dtype: int64"
      ]
     },
     "execution_count": 7,
     "metadata": {},
     "output_type": "execute_result"
    }
   ],
   "source": [
    "x.isna().sum()"
   ]
  },
  {
   "cell_type": "markdown",
   "metadata": {},
   "source": [
    "* SimpleImputer : 특정 값으로 체울 시"
   ]
  },
  {
   "cell_type": "markdown",
   "metadata": {},
   "source": [
    "* 가변수화 진행 후 KNNImputer를 사용하겠습니다."
   ]
  },
  {
   "cell_type": "markdown",
   "metadata": {
    "id": "HfqkeUD2GjI6"
   },
   "source": [
    "### 2.3 가변수화\n",
    "* 범주형 데이터이면서 값이 0,1 로 되어 있는 것이 아니라면, 가변수화를 수행해야 합니다.\n",
    "* 대상이 되는 변수에 대해서 가변수화를 수행해주세요."
   ]
  },
  {
   "cell_type": "code",
   "execution_count": 8,
   "metadata": {
    "id": "U_wLpFFTN01P"
   },
   "outputs": [
    {
     "data": {
      "text/html": [
       "<div>\n",
       "<style scoped>\n",
       "    .dataframe tbody tr th:only-of-type {\n",
       "        vertical-align: middle;\n",
       "    }\n",
       "\n",
       "    .dataframe tbody tr th {\n",
       "        vertical-align: top;\n",
       "    }\n",
       "\n",
       "    .dataframe thead th {\n",
       "        text-align: right;\n",
       "    }\n",
       "</style>\n",
       "<table border=\"1\" class=\"dataframe\">\n",
       "  <thead>\n",
       "    <tr style=\"text-align: right;\">\n",
       "      <th></th>\n",
       "      <th>Age</th>\n",
       "      <th>DistanceFromHome</th>\n",
       "      <th>Education</th>\n",
       "      <th>MonthlyIncome</th>\n",
       "      <th>NumCompaniesWorked</th>\n",
       "      <th>PercentSalaryHike</th>\n",
       "      <th>StockOptionLevel</th>\n",
       "      <th>TotalWorkingYears</th>\n",
       "      <th>TrainingTimesLastYear</th>\n",
       "      <th>YearsAtCompany</th>\n",
       "      <th>...</th>\n",
       "      <th>JobInvolvement_4</th>\n",
       "      <th>JobSatisfaction_2</th>\n",
       "      <th>JobSatisfaction_3</th>\n",
       "      <th>JobSatisfaction_4</th>\n",
       "      <th>RelationshipSatisfaction_2</th>\n",
       "      <th>RelationshipSatisfaction_3</th>\n",
       "      <th>RelationshipSatisfaction_4</th>\n",
       "      <th>WorkLifeBalance_2</th>\n",
       "      <th>WorkLifeBalance_3</th>\n",
       "      <th>WorkLifeBalance_4</th>\n",
       "    </tr>\n",
       "  </thead>\n",
       "  <tbody>\n",
       "    <tr>\n",
       "      <th>0</th>\n",
       "      <td>33</td>\n",
       "      <td>7.0</td>\n",
       "      <td>3</td>\n",
       "      <td>11691</td>\n",
       "      <td>0.0</td>\n",
       "      <td>11</td>\n",
       "      <td>0</td>\n",
       "      <td>14</td>\n",
       "      <td>3</td>\n",
       "      <td>13</td>\n",
       "      <td>...</td>\n",
       "      <td>0</td>\n",
       "      <td>0</td>\n",
       "      <td>1</td>\n",
       "      <td>0</td>\n",
       "      <td>0</td>\n",
       "      <td>0</td>\n",
       "      <td>1</td>\n",
       "      <td>0</td>\n",
       "      <td>0</td>\n",
       "      <td>1</td>\n",
       "    </tr>\n",
       "    <tr>\n",
       "      <th>1</th>\n",
       "      <td>35</td>\n",
       "      <td>18.0</td>\n",
       "      <td>2</td>\n",
       "      <td>9362</td>\n",
       "      <td>2.0</td>\n",
       "      <td>11</td>\n",
       "      <td>0</td>\n",
       "      <td>10</td>\n",
       "      <td>2</td>\n",
       "      <td>2</td>\n",
       "      <td>...</td>\n",
       "      <td>0</td>\n",
       "      <td>0</td>\n",
       "      <td>0</td>\n",
       "      <td>1</td>\n",
       "      <td>0</td>\n",
       "      <td>1</td>\n",
       "      <td>0</td>\n",
       "      <td>0</td>\n",
       "      <td>1</td>\n",
       "      <td>0</td>\n",
       "    </tr>\n",
       "    <tr>\n",
       "      <th>2</th>\n",
       "      <td>42</td>\n",
       "      <td>6.0</td>\n",
       "      <td>3</td>\n",
       "      <td>13348</td>\n",
       "      <td>9.0</td>\n",
       "      <td>13</td>\n",
       "      <td>1</td>\n",
       "      <td>18</td>\n",
       "      <td>3</td>\n",
       "      <td>13</td>\n",
       "      <td>...</td>\n",
       "      <td>0</td>\n",
       "      <td>0</td>\n",
       "      <td>0</td>\n",
       "      <td>0</td>\n",
       "      <td>1</td>\n",
       "      <td>0</td>\n",
       "      <td>0</td>\n",
       "      <td>0</td>\n",
       "      <td>0</td>\n",
       "      <td>1</td>\n",
       "    </tr>\n",
       "    <tr>\n",
       "      <th>3</th>\n",
       "      <td>46</td>\n",
       "      <td>2.0</td>\n",
       "      <td>3</td>\n",
       "      <td>17048</td>\n",
       "      <td>8.0</td>\n",
       "      <td>23</td>\n",
       "      <td>0</td>\n",
       "      <td>28</td>\n",
       "      <td>2</td>\n",
       "      <td>26</td>\n",
       "      <td>...</td>\n",
       "      <td>0</td>\n",
       "      <td>0</td>\n",
       "      <td>0</td>\n",
       "      <td>0</td>\n",
       "      <td>0</td>\n",
       "      <td>0</td>\n",
       "      <td>0</td>\n",
       "      <td>0</td>\n",
       "      <td>1</td>\n",
       "      <td>0</td>\n",
       "    </tr>\n",
       "    <tr>\n",
       "      <th>4</th>\n",
       "      <td>39</td>\n",
       "      <td>NaN</td>\n",
       "      <td>3</td>\n",
       "      <td>4127</td>\n",
       "      <td>2.0</td>\n",
       "      <td>18</td>\n",
       "      <td>1</td>\n",
       "      <td>7</td>\n",
       "      <td>6</td>\n",
       "      <td>2</td>\n",
       "      <td>...</td>\n",
       "      <td>0</td>\n",
       "      <td>0</td>\n",
       "      <td>0</td>\n",
       "      <td>1</td>\n",
       "      <td>0</td>\n",
       "      <td>0</td>\n",
       "      <td>1</td>\n",
       "      <td>0</td>\n",
       "      <td>1</td>\n",
       "      <td>0</td>\n",
       "    </tr>\n",
       "  </tbody>\n",
       "</table>\n",
       "<p>5 rows × 40 columns</p>\n",
       "</div>"
      ],
      "text/plain": [
       "   Age  DistanceFromHome  Education  MonthlyIncome  NumCompaniesWorked  \\\n",
       "0   33               7.0          3          11691                 0.0   \n",
       "1   35              18.0          2           9362                 2.0   \n",
       "2   42               6.0          3          13348                 9.0   \n",
       "3   46               2.0          3          17048                 8.0   \n",
       "4   39               NaN          3           4127                 2.0   \n",
       "\n",
       "   PercentSalaryHike  StockOptionLevel  TotalWorkingYears  \\\n",
       "0                 11                 0                 14   \n",
       "1                 11                 0                 10   \n",
       "2                 13                 1                 18   \n",
       "3                 23                 0                 28   \n",
       "4                 18                 1                  7   \n",
       "\n",
       "   TrainingTimesLastYear  YearsAtCompany  ...  JobInvolvement_4  \\\n",
       "0                      3              13  ...                 0   \n",
       "1                      2               2  ...                 0   \n",
       "2                      3              13  ...                 0   \n",
       "3                      2              26  ...                 0   \n",
       "4                      6               2  ...                 0   \n",
       "\n",
       "   JobSatisfaction_2  JobSatisfaction_3  JobSatisfaction_4  \\\n",
       "0                  0                  1                  0   \n",
       "1                  0                  0                  1   \n",
       "2                  0                  0                  0   \n",
       "3                  0                  0                  0   \n",
       "4                  0                  0                  1   \n",
       "\n",
       "   RelationshipSatisfaction_2  RelationshipSatisfaction_3  \\\n",
       "0                           0                           0   \n",
       "1                           0                           1   \n",
       "2                           1                           0   \n",
       "3                           0                           0   \n",
       "4                           0                           0   \n",
       "\n",
       "   RelationshipSatisfaction_4  WorkLifeBalance_2  WorkLifeBalance_3  \\\n",
       "0                           1                  0                  0   \n",
       "1                           0                  0                  1   \n",
       "2                           0                  0                  0   \n",
       "3                           0                  0                  1   \n",
       "4                           1                  0                  1   \n",
       "\n",
       "   WorkLifeBalance_4  \n",
       "0                  1  \n",
       "1                  0  \n",
       "2                  1  \n",
       "3                  0  \n",
       "4                  0  \n",
       "\n",
       "[5 rows x 40 columns]"
      ]
     },
     "execution_count": 8,
     "metadata": {},
     "output_type": "execute_result"
    }
   ],
   "source": [
    "# object형이거나 범주형 데이터이지만 0-4 정도로 표시되어있는 값을 가변수화 진행\n",
    "domies_col = ['BusinessTravel', 'JobRole', 'MaritalStatus', 'OverTime', 'EnvironmentSatisfaction', 'JobInvolvement', 'JobSatisfaction',\n",
    "              'RelationshipSatisfaction', 'WorkLifeBalance']\n",
    "\n",
    "x = pd.get_dummies(x, columns=domies_col, drop_first=True)\n",
    "\n",
    "x.head()"
   ]
  },
  {
   "cell_type": "markdown",
   "metadata": {},
   "source": [
    "- KNNUmputer 진행"
   ]
  },
  {
   "cell_type": "code",
   "execution_count": 9,
   "metadata": {
    "id": "PERdF7IjNy2X"
   },
   "outputs": [],
   "source": [
    "from sklearn.impute import KNNImputer\n",
    "\n",
    "impute = KNNImputer(n_neighbors=5)\n",
    "imputed = impute.fit_transform(x)"
   ]
  },
  {
   "cell_type": "code",
   "execution_count": 10,
   "metadata": {},
   "outputs": [
    {
     "data": {
      "text/html": [
       "<div>\n",
       "<style scoped>\n",
       "    .dataframe tbody tr th:only-of-type {\n",
       "        vertical-align: middle;\n",
       "    }\n",
       "\n",
       "    .dataframe tbody tr th {\n",
       "        vertical-align: top;\n",
       "    }\n",
       "\n",
       "    .dataframe thead th {\n",
       "        text-align: right;\n",
       "    }\n",
       "</style>\n",
       "<table border=\"1\" class=\"dataframe\">\n",
       "  <thead>\n",
       "    <tr style=\"text-align: right;\">\n",
       "      <th></th>\n",
       "      <th>Age</th>\n",
       "      <th>DistanceFromHome</th>\n",
       "      <th>Education</th>\n",
       "      <th>MonthlyIncome</th>\n",
       "      <th>NumCompaniesWorked</th>\n",
       "      <th>PercentSalaryHike</th>\n",
       "      <th>StockOptionLevel</th>\n",
       "      <th>TotalWorkingYears</th>\n",
       "      <th>TrainingTimesLastYear</th>\n",
       "      <th>YearsAtCompany</th>\n",
       "      <th>...</th>\n",
       "      <th>JobInvolvement_4</th>\n",
       "      <th>JobSatisfaction_2</th>\n",
       "      <th>JobSatisfaction_3</th>\n",
       "      <th>JobSatisfaction_4</th>\n",
       "      <th>RelationshipSatisfaction_2</th>\n",
       "      <th>RelationshipSatisfaction_3</th>\n",
       "      <th>RelationshipSatisfaction_4</th>\n",
       "      <th>WorkLifeBalance_2</th>\n",
       "      <th>WorkLifeBalance_3</th>\n",
       "      <th>WorkLifeBalance_4</th>\n",
       "    </tr>\n",
       "  </thead>\n",
       "  <tbody>\n",
       "    <tr>\n",
       "      <th>0</th>\n",
       "      <td>33.0</td>\n",
       "      <td>7.0</td>\n",
       "      <td>3.0</td>\n",
       "      <td>11691.0</td>\n",
       "      <td>0.0</td>\n",
       "      <td>11.0</td>\n",
       "      <td>0.0</td>\n",
       "      <td>14.0</td>\n",
       "      <td>3.0</td>\n",
       "      <td>13.0</td>\n",
       "      <td>...</td>\n",
       "      <td>0.0</td>\n",
       "      <td>0.0</td>\n",
       "      <td>1.0</td>\n",
       "      <td>0.0</td>\n",
       "      <td>0.0</td>\n",
       "      <td>0.0</td>\n",
       "      <td>1.0</td>\n",
       "      <td>0.0</td>\n",
       "      <td>0.0</td>\n",
       "      <td>1.0</td>\n",
       "    </tr>\n",
       "    <tr>\n",
       "      <th>1</th>\n",
       "      <td>35.0</td>\n",
       "      <td>18.0</td>\n",
       "      <td>2.0</td>\n",
       "      <td>9362.0</td>\n",
       "      <td>2.0</td>\n",
       "      <td>11.0</td>\n",
       "      <td>0.0</td>\n",
       "      <td>10.0</td>\n",
       "      <td>2.0</td>\n",
       "      <td>2.0</td>\n",
       "      <td>...</td>\n",
       "      <td>0.0</td>\n",
       "      <td>0.0</td>\n",
       "      <td>0.0</td>\n",
       "      <td>1.0</td>\n",
       "      <td>0.0</td>\n",
       "      <td>1.0</td>\n",
       "      <td>0.0</td>\n",
       "      <td>0.0</td>\n",
       "      <td>1.0</td>\n",
       "      <td>0.0</td>\n",
       "    </tr>\n",
       "    <tr>\n",
       "      <th>2</th>\n",
       "      <td>42.0</td>\n",
       "      <td>6.0</td>\n",
       "      <td>3.0</td>\n",
       "      <td>13348.0</td>\n",
       "      <td>9.0</td>\n",
       "      <td>13.0</td>\n",
       "      <td>1.0</td>\n",
       "      <td>18.0</td>\n",
       "      <td>3.0</td>\n",
       "      <td>13.0</td>\n",
       "      <td>...</td>\n",
       "      <td>0.0</td>\n",
       "      <td>0.0</td>\n",
       "      <td>0.0</td>\n",
       "      <td>0.0</td>\n",
       "      <td>1.0</td>\n",
       "      <td>0.0</td>\n",
       "      <td>0.0</td>\n",
       "      <td>0.0</td>\n",
       "      <td>0.0</td>\n",
       "      <td>1.0</td>\n",
       "    </tr>\n",
       "    <tr>\n",
       "      <th>3</th>\n",
       "      <td>46.0</td>\n",
       "      <td>2.0</td>\n",
       "      <td>3.0</td>\n",
       "      <td>17048.0</td>\n",
       "      <td>8.0</td>\n",
       "      <td>23.0</td>\n",
       "      <td>0.0</td>\n",
       "      <td>28.0</td>\n",
       "      <td>2.0</td>\n",
       "      <td>26.0</td>\n",
       "      <td>...</td>\n",
       "      <td>0.0</td>\n",
       "      <td>0.0</td>\n",
       "      <td>0.0</td>\n",
       "      <td>0.0</td>\n",
       "      <td>0.0</td>\n",
       "      <td>0.0</td>\n",
       "      <td>0.0</td>\n",
       "      <td>0.0</td>\n",
       "      <td>1.0</td>\n",
       "      <td>0.0</td>\n",
       "    </tr>\n",
       "    <tr>\n",
       "      <th>4</th>\n",
       "      <td>39.0</td>\n",
       "      <td>9.0</td>\n",
       "      <td>3.0</td>\n",
       "      <td>4127.0</td>\n",
       "      <td>2.0</td>\n",
       "      <td>18.0</td>\n",
       "      <td>1.0</td>\n",
       "      <td>7.0</td>\n",
       "      <td>6.0</td>\n",
       "      <td>2.0</td>\n",
       "      <td>...</td>\n",
       "      <td>0.0</td>\n",
       "      <td>0.0</td>\n",
       "      <td>0.0</td>\n",
       "      <td>1.0</td>\n",
       "      <td>0.0</td>\n",
       "      <td>0.0</td>\n",
       "      <td>1.0</td>\n",
       "      <td>0.0</td>\n",
       "      <td>1.0</td>\n",
       "      <td>0.0</td>\n",
       "    </tr>\n",
       "  </tbody>\n",
       "</table>\n",
       "<p>5 rows × 40 columns</p>\n",
       "</div>"
      ],
      "text/plain": [
       "    Age  DistanceFromHome  Education  MonthlyIncome  NumCompaniesWorked  \\\n",
       "0  33.0               7.0        3.0        11691.0                 0.0   \n",
       "1  35.0              18.0        2.0         9362.0                 2.0   \n",
       "2  42.0               6.0        3.0        13348.0                 9.0   \n",
       "3  46.0               2.0        3.0        17048.0                 8.0   \n",
       "4  39.0               9.0        3.0         4127.0                 2.0   \n",
       "\n",
       "   PercentSalaryHike  StockOptionLevel  TotalWorkingYears  \\\n",
       "0               11.0               0.0               14.0   \n",
       "1               11.0               0.0               10.0   \n",
       "2               13.0               1.0               18.0   \n",
       "3               23.0               0.0               28.0   \n",
       "4               18.0               1.0                7.0   \n",
       "\n",
       "   TrainingTimesLastYear  YearsAtCompany  ...  JobInvolvement_4  \\\n",
       "0                    3.0            13.0  ...               0.0   \n",
       "1                    2.0             2.0  ...               0.0   \n",
       "2                    3.0            13.0  ...               0.0   \n",
       "3                    2.0            26.0  ...               0.0   \n",
       "4                    6.0             2.0  ...               0.0   \n",
       "\n",
       "   JobSatisfaction_2  JobSatisfaction_3  JobSatisfaction_4  \\\n",
       "0                0.0                1.0                0.0   \n",
       "1                0.0                0.0                1.0   \n",
       "2                0.0                0.0                0.0   \n",
       "3                0.0                0.0                0.0   \n",
       "4                0.0                0.0                1.0   \n",
       "\n",
       "   RelationshipSatisfaction_2  RelationshipSatisfaction_3  \\\n",
       "0                         0.0                         0.0   \n",
       "1                         0.0                         1.0   \n",
       "2                         1.0                         0.0   \n",
       "3                         0.0                         0.0   \n",
       "4                         0.0                         0.0   \n",
       "\n",
       "   RelationshipSatisfaction_4  WorkLifeBalance_2  WorkLifeBalance_3  \\\n",
       "0                         1.0                0.0                0.0   \n",
       "1                         0.0                0.0                1.0   \n",
       "2                         0.0                0.0                0.0   \n",
       "3                         0.0                0.0                1.0   \n",
       "4                         1.0                0.0                1.0   \n",
       "\n",
       "   WorkLifeBalance_4  \n",
       "0                1.0  \n",
       "1                0.0  \n",
       "2                1.0  \n",
       "3                0.0  \n",
       "4                0.0  \n",
       "\n",
       "[5 rows x 40 columns]"
      ]
     },
     "execution_count": 10,
     "metadata": {},
     "output_type": "execute_result"
    }
   ],
   "source": [
    "x = pd.DataFrame(imputed, columns=x.columns)\n",
    "\n",
    "x.head()"
   ]
  },
  {
   "cell_type": "code",
   "execution_count": 11,
   "metadata": {},
   "outputs": [
    {
     "data": {
      "text/plain": [
       "Age                                 0\n",
       "DistanceFromHome                    0\n",
       "Education                           0\n",
       "MonthlyIncome                       0\n",
       "NumCompaniesWorked                  0\n",
       "PercentSalaryHike                   0\n",
       "StockOptionLevel                    0\n",
       "TotalWorkingYears                   0\n",
       "TrainingTimesLastYear               0\n",
       "YearsAtCompany                      0\n",
       "YearsInCurrentRole                  0\n",
       "YearsWithCurrManager                0\n",
       "BusinessTravel_Travel_Frequently    0\n",
       "BusinessTravel_Travel_Rarely        0\n",
       "JobRole_Human Resources             0\n",
       "JobRole_Laboratory Technician       0\n",
       "JobRole_Manager                     0\n",
       "JobRole_Manufacturing Director      0\n",
       "JobRole_Research Director           0\n",
       "JobRole_Research Scientist          0\n",
       "JobRole_Sales Executive             0\n",
       "JobRole_Sales Representative        0\n",
       "MaritalStatus_Married               0\n",
       "MaritalStatus_Single                0\n",
       "OverTime_Yes                        0\n",
       "EnvironmentSatisfaction_2           0\n",
       "EnvironmentSatisfaction_3           0\n",
       "EnvironmentSatisfaction_4           0\n",
       "JobInvolvement_2                    0\n",
       "JobInvolvement_3                    0\n",
       "JobInvolvement_4                    0\n",
       "JobSatisfaction_2                   0\n",
       "JobSatisfaction_3                   0\n",
       "JobSatisfaction_4                   0\n",
       "RelationshipSatisfaction_2          0\n",
       "RelationshipSatisfaction_3          0\n",
       "RelationshipSatisfaction_4          0\n",
       "WorkLifeBalance_2                   0\n",
       "WorkLifeBalance_3                   0\n",
       "WorkLifeBalance_4                   0\n",
       "dtype: int64"
      ]
     },
     "execution_count": 11,
     "metadata": {},
     "output_type": "execute_result"
    }
   ],
   "source": [
    "x.isna().sum()"
   ]
  },
  {
   "cell_type": "markdown",
   "metadata": {
    "id": "eO9PZwR3GjI7"
   },
   "source": [
    "### 2.4 (옵션) 추가변수 도출\n",
    "* 기존 데이터셋의 변수를 이용하여 추가로 도출할 수 있는 변수가 있다면 수행합니다.\n",
    "* 추가변수에 대해서 주석으로 설명하시오."
   ]
  },
  {
   "cell_type": "code",
   "execution_count": null,
   "metadata": {
    "id": "rsHIYqZwGjI8"
   },
   "outputs": [],
   "source": []
  },
  {
   "cell_type": "markdown",
   "metadata": {
    "id": "-dgcE6vBZTJQ"
   },
   "source": [
    "### 2.5 데이터 분할\n",
    "\n",
    "* test 200건(test_size = 200), random_state = 2022\n",
    "* val 200건(test_size = 200), random_state = 2022\n",
    "* train 나머지."
   ]
  },
  {
   "cell_type": "code",
   "execution_count": 12,
   "metadata": {
    "id": "rrJdDjMiIa1d"
   },
   "outputs": [],
   "source": [
    "from sklearn.model_selection import train_test_split\n",
    "\n",
    "x_train, x_test, y_train, y_test = train_test_split(x, y, test_size=200, random_state=2022)"
   ]
  },
  {
   "cell_type": "code",
   "execution_count": 13,
   "metadata": {
    "id": "cXsn5rf0JDVL"
   },
   "outputs": [],
   "source": [
    "x_train, x_val, y_train, y_val = train_test_split(x_train, y_train, test_size=200, random_state=2022) "
   ]
  },
  {
   "cell_type": "code",
   "execution_count": 14,
   "metadata": {},
   "outputs": [
    {
     "data": {
      "text/plain": [
       "(((850, 40), (850,)), ((200, 40), (200,)), ((200, 40), (200,)))"
      ]
     },
     "execution_count": 14,
     "metadata": {},
     "output_type": "execute_result"
    }
   ],
   "source": [
    "(x_train.shape, y_train.shape), (x_val.shape, y_val.shape), (x_test.shape, y_test.shape)"
   ]
  },
  {
   "cell_type": "markdown",
   "metadata": {
    "id": "2Lwk03PSZTJP"
   },
   "source": [
    "### 2.6 (옵션)스케일링 \n",
    "* 스케일링을 필요로 하는 알고리즘이 있습니다. \n",
    "* 필요하다고 판단될때 수행합니다."
   ]
  },
  {
   "cell_type": "code",
   "execution_count": 15,
   "metadata": {
    "id": "oAVSU7XucCvn"
   },
   "outputs": [],
   "source": [
    "from sklearn.preprocessing import MinMaxScaler\n",
    "\n",
    "x_col = list(x)\n",
    "\n",
    "# MinMaxScaler 적용\n",
    "scaler = MinMaxScaler()\n",
    "x_tr_s = scaler.fit_transform(x_train)\n",
    "x_val_s = scaler.transform(x_val)\n",
    "\n",
    "# DataFrame 변환\n",
    "x_tr_s = pd.DataFrame(x_tr_s, columns=x_col)\n",
    "x_val_s = pd.DataFrame(x_val_s, columns=x_col)"
   ]
  },
  {
   "cell_type": "code",
   "execution_count": 16,
   "metadata": {},
   "outputs": [
    {
     "data": {
      "text/html": [
       "<div>\n",
       "<style scoped>\n",
       "    .dataframe tbody tr th:only-of-type {\n",
       "        vertical-align: middle;\n",
       "    }\n",
       "\n",
       "    .dataframe tbody tr th {\n",
       "        vertical-align: top;\n",
       "    }\n",
       "\n",
       "    .dataframe thead th {\n",
       "        text-align: right;\n",
       "    }\n",
       "</style>\n",
       "<table border=\"1\" class=\"dataframe\">\n",
       "  <thead>\n",
       "    <tr style=\"text-align: right;\">\n",
       "      <th></th>\n",
       "      <th>Age</th>\n",
       "      <th>DistanceFromHome</th>\n",
       "      <th>Education</th>\n",
       "      <th>MonthlyIncome</th>\n",
       "      <th>NumCompaniesWorked</th>\n",
       "      <th>PercentSalaryHike</th>\n",
       "      <th>StockOptionLevel</th>\n",
       "      <th>TotalWorkingYears</th>\n",
       "      <th>TrainingTimesLastYear</th>\n",
       "      <th>YearsAtCompany</th>\n",
       "      <th>...</th>\n",
       "      <th>JobInvolvement_4</th>\n",
       "      <th>JobSatisfaction_2</th>\n",
       "      <th>JobSatisfaction_3</th>\n",
       "      <th>JobSatisfaction_4</th>\n",
       "      <th>RelationshipSatisfaction_2</th>\n",
       "      <th>RelationshipSatisfaction_3</th>\n",
       "      <th>RelationshipSatisfaction_4</th>\n",
       "      <th>WorkLifeBalance_2</th>\n",
       "      <th>WorkLifeBalance_3</th>\n",
       "      <th>WorkLifeBalance_4</th>\n",
       "    </tr>\n",
       "  </thead>\n",
       "  <tbody>\n",
       "    <tr>\n",
       "      <th>0</th>\n",
       "      <td>0.976190</td>\n",
       "      <td>0.071429</td>\n",
       "      <td>0.50</td>\n",
       "      <td>0.217437</td>\n",
       "      <td>0.555556</td>\n",
       "      <td>0.428571</td>\n",
       "      <td>0.000000</td>\n",
       "      <td>0.325</td>\n",
       "      <td>0.333333</td>\n",
       "      <td>0.150</td>\n",
       "      <td>...</td>\n",
       "      <td>0.0</td>\n",
       "      <td>0.0</td>\n",
       "      <td>0.0</td>\n",
       "      <td>1.0</td>\n",
       "      <td>0.0</td>\n",
       "      <td>0.0</td>\n",
       "      <td>1.0</td>\n",
       "      <td>0.0</td>\n",
       "      <td>1.0</td>\n",
       "      <td>0.0</td>\n",
       "    </tr>\n",
       "    <tr>\n",
       "      <th>1</th>\n",
       "      <td>0.523810</td>\n",
       "      <td>0.035714</td>\n",
       "      <td>0.50</td>\n",
       "      <td>0.068292</td>\n",
       "      <td>0.222222</td>\n",
       "      <td>0.214286</td>\n",
       "      <td>0.333333</td>\n",
       "      <td>0.200</td>\n",
       "      <td>0.500000</td>\n",
       "      <td>0.075</td>\n",
       "      <td>...</td>\n",
       "      <td>0.0</td>\n",
       "      <td>0.0</td>\n",
       "      <td>1.0</td>\n",
       "      <td>0.0</td>\n",
       "      <td>0.0</td>\n",
       "      <td>1.0</td>\n",
       "      <td>0.0</td>\n",
       "      <td>0.0</td>\n",
       "      <td>0.0</td>\n",
       "      <td>1.0</td>\n",
       "    </tr>\n",
       "    <tr>\n",
       "      <th>2</th>\n",
       "      <td>0.404762</td>\n",
       "      <td>0.607143</td>\n",
       "      <td>0.75</td>\n",
       "      <td>0.244775</td>\n",
       "      <td>0.111111</td>\n",
       "      <td>0.214286</td>\n",
       "      <td>0.666667</td>\n",
       "      <td>0.250</td>\n",
       "      <td>0.333333</td>\n",
       "      <td>0.250</td>\n",
       "      <td>...</td>\n",
       "      <td>0.0</td>\n",
       "      <td>0.0</td>\n",
       "      <td>1.0</td>\n",
       "      <td>0.0</td>\n",
       "      <td>0.0</td>\n",
       "      <td>0.0</td>\n",
       "      <td>1.0</td>\n",
       "      <td>0.0</td>\n",
       "      <td>0.0</td>\n",
       "      <td>1.0</td>\n",
       "    </tr>\n",
       "    <tr>\n",
       "      <th>3</th>\n",
       "      <td>0.190476</td>\n",
       "      <td>0.000000</td>\n",
       "      <td>0.25</td>\n",
       "      <td>0.153262</td>\n",
       "      <td>0.111111</td>\n",
       "      <td>0.357143</td>\n",
       "      <td>0.666667</td>\n",
       "      <td>0.150</td>\n",
       "      <td>0.333333</td>\n",
       "      <td>0.125</td>\n",
       "      <td>...</td>\n",
       "      <td>0.0</td>\n",
       "      <td>0.0</td>\n",
       "      <td>0.0</td>\n",
       "      <td>0.0</td>\n",
       "      <td>0.0</td>\n",
       "      <td>0.0</td>\n",
       "      <td>0.0</td>\n",
       "      <td>0.0</td>\n",
       "      <td>1.0</td>\n",
       "      <td>0.0</td>\n",
       "    </tr>\n",
       "    <tr>\n",
       "      <th>4</th>\n",
       "      <td>0.380952</td>\n",
       "      <td>0.000000</td>\n",
       "      <td>0.50</td>\n",
       "      <td>0.226515</td>\n",
       "      <td>0.000000</td>\n",
       "      <td>0.642857</td>\n",
       "      <td>0.000000</td>\n",
       "      <td>0.350</td>\n",
       "      <td>0.500000</td>\n",
       "      <td>0.325</td>\n",
       "      <td>...</td>\n",
       "      <td>0.0</td>\n",
       "      <td>0.0</td>\n",
       "      <td>0.0</td>\n",
       "      <td>0.0</td>\n",
       "      <td>0.0</td>\n",
       "      <td>1.0</td>\n",
       "      <td>0.0</td>\n",
       "      <td>0.0</td>\n",
       "      <td>1.0</td>\n",
       "      <td>0.0</td>\n",
       "    </tr>\n",
       "  </tbody>\n",
       "</table>\n",
       "<p>5 rows × 40 columns</p>\n",
       "</div>"
      ],
      "text/plain": [
       "        Age  DistanceFromHome  Education  MonthlyIncome  NumCompaniesWorked  \\\n",
       "0  0.976190          0.071429       0.50       0.217437            0.555556   \n",
       "1  0.523810          0.035714       0.50       0.068292            0.222222   \n",
       "2  0.404762          0.607143       0.75       0.244775            0.111111   \n",
       "3  0.190476          0.000000       0.25       0.153262            0.111111   \n",
       "4  0.380952          0.000000       0.50       0.226515            0.000000   \n",
       "\n",
       "   PercentSalaryHike  StockOptionLevel  TotalWorkingYears  \\\n",
       "0           0.428571          0.000000              0.325   \n",
       "1           0.214286          0.333333              0.200   \n",
       "2           0.214286          0.666667              0.250   \n",
       "3           0.357143          0.666667              0.150   \n",
       "4           0.642857          0.000000              0.350   \n",
       "\n",
       "   TrainingTimesLastYear  YearsAtCompany  ...  JobInvolvement_4  \\\n",
       "0               0.333333           0.150  ...               0.0   \n",
       "1               0.500000           0.075  ...               0.0   \n",
       "2               0.333333           0.250  ...               0.0   \n",
       "3               0.333333           0.125  ...               0.0   \n",
       "4               0.500000           0.325  ...               0.0   \n",
       "\n",
       "   JobSatisfaction_2  JobSatisfaction_3  JobSatisfaction_4  \\\n",
       "0                0.0                0.0                1.0   \n",
       "1                0.0                1.0                0.0   \n",
       "2                0.0                1.0                0.0   \n",
       "3                0.0                0.0                0.0   \n",
       "4                0.0                0.0                0.0   \n",
       "\n",
       "   RelationshipSatisfaction_2  RelationshipSatisfaction_3  \\\n",
       "0                         0.0                         0.0   \n",
       "1                         0.0                         1.0   \n",
       "2                         0.0                         0.0   \n",
       "3                         0.0                         0.0   \n",
       "4                         0.0                         1.0   \n",
       "\n",
       "   RelationshipSatisfaction_4  WorkLifeBalance_2  WorkLifeBalance_3  \\\n",
       "0                         1.0                0.0                1.0   \n",
       "1                         0.0                0.0                0.0   \n",
       "2                         1.0                0.0                0.0   \n",
       "3                         0.0                0.0                1.0   \n",
       "4                         0.0                0.0                1.0   \n",
       "\n",
       "   WorkLifeBalance_4  \n",
       "0                0.0  \n",
       "1                1.0  \n",
       "2                1.0  \n",
       "3                0.0  \n",
       "4                0.0  \n",
       "\n",
       "[5 rows x 40 columns]"
      ]
     },
     "execution_count": 16,
     "metadata": {},
     "output_type": "execute_result"
    }
   ],
   "source": [
    "x_tr_s.head()"
   ]
  },
  {
   "cell_type": "markdown",
   "metadata": {
    "id": "ZghJJ7yLEpDA"
   },
   "source": [
    "## 3.모델링1 : 머신러닝"
   ]
  },
  {
   "cell_type": "markdown",
   "metadata": {
    "id": "NFDAfi7-5Xhu"
   },
   "source": [
    "### 3.1 모델링을 위한 함수 불러오기\n",
    "\n",
    "* 꼭 필요한 함수만 불러옵니다. 무조건 다 불러오는 것은 지양해주세요."
   ]
  },
  {
   "cell_type": "code",
   "execution_count": 17,
   "metadata": {
    "id": "zlHHnr2-5cwD"
   },
   "outputs": [],
   "source": [
    "from sklearn.linear_model import LogisticRegression\n",
    "from sklearn.neighbors import KNeighborsClassifier\n",
    "from sklearn.tree import DecisionTreeClassifier\n",
    "from sklearn.svm import SVC\n",
    "from sklearn.ensemble import RandomForestClassifier\n",
    "from xgboost import XGBClassifier\n",
    "\n",
    "from sklearn.model_selection import RandomizedSearchCV, GridSearchCV\n",
    "from sklearn.metrics import classification_report"
   ]
  },
  {
   "cell_type": "markdown",
   "metadata": {
    "id": "6K1mZKlXByLy"
   },
   "source": [
    "### 3.2 모델링\n",
    "* 최소 3개 이상의 알고리즘을 선정합니다.(알고리즘에는 최소 1개 이상의 앙상블 기법을 포함)\n",
    "    * 아래 주어진 목록 이외의 알고리즘을 선정해도 좋습니다.\n",
    "* 각 알고리즘별 튜닝을 수행하여 최적의 모델을 생성합니다.\n",
    "    * 튜닝 방식은 GridSearchCV, RandomizedSearchCV 혹은 for loop 로 직접\n",
    "    * 단, 선형회귀, 로지스틱 회귀의는 입력 변수(feature)를 조절하여 튜닝을 합니다.\n",
    "    * 튜닝 과정에 대해서 주석으로 기술합니다.\n",
    "* 모델링, 튜닝만 수행하는데 그치지 말고, 모델의 내용을 파악하기 위한 분석을 시도합니다. 코드 결과에 대한 분석 의견을 주석으로 기술합니다.\n",
    "    * 예 : 모델 시각화 및 내용 파악, 튜닝 결과 분석 및 시각화"
   ]
  },
  {
   "cell_type": "markdown",
   "metadata": {
    "id": "1j8zehMIIqpv"
   },
   "source": [
    "#### (1) Logistic Regression 모델링"
   ]
  },
  {
   "cell_type": "code",
   "execution_count": 18,
   "metadata": {
    "id": "Y9zuNT45N9ba"
   },
   "outputs": [
    {
     "data": {
      "text/plain": [
       "LogisticRegression(max_iter=10000)"
      ]
     },
     "execution_count": 18,
     "metadata": {},
     "output_type": "execute_result"
    }
   ],
   "source": [
    "# 모델 생성\n",
    "m_lr = LogisticRegression(max_iter=10000)\n",
    "\n",
    "# 모델 훈련\n",
    "m_lr.fit(x_train, y_train)"
   ]
  },
  {
   "cell_type": "code",
   "execution_count": 19,
   "metadata": {
    "id": "5MDeKqCVN9TQ"
   },
   "outputs": [
    {
     "name": "stdout",
     "output_type": "stream",
     "text": [
      "['Age', 'DistanceFromHome', 'Education', 'MonthlyIncome', 'NumCompaniesWorked', 'PercentSalaryHike', 'StockOptionLevel', 'TotalWorkingYears', 'TrainingTimesLastYear', 'YearsAtCompany', 'YearsInCurrentRole', 'YearsWithCurrManager', 'BusinessTravel_Travel_Frequently', 'BusinessTravel_Travel_Rarely', 'JobRole_Human Resources', 'JobRole_Laboratory Technician', 'JobRole_Manager', 'JobRole_Manufacturing Director', 'JobRole_Research Director', 'JobRole_Research Scientist', 'JobRole_Sales Executive', 'JobRole_Sales Representative', 'MaritalStatus_Married', 'MaritalStatus_Single', 'OverTime_Yes', 'EnvironmentSatisfaction_2', 'EnvironmentSatisfaction_3', 'EnvironmentSatisfaction_4', 'JobInvolvement_2', 'JobInvolvement_3', 'JobInvolvement_4', 'JobSatisfaction_2', 'JobSatisfaction_3', 'JobSatisfaction_4', 'RelationshipSatisfaction_2', 'RelationshipSatisfaction_3', 'RelationshipSatisfaction_4', 'WorkLifeBalance_2', 'WorkLifeBalance_3', 'WorkLifeBalance_4']\n",
      "[[-3.66732036e-02  4.46038030e-02 -5.90996932e-02 -4.62491671e-05\n",
      "   1.93952915e-01 -7.73520326e-03 -1.38364815e-01 -5.04288354e-02\n",
      "  -4.29163323e-02  1.51474170e-01 -1.19753955e-01 -1.45687976e-01\n",
      "   1.03876364e+00  4.14734514e-01  2.57142276e-01  6.45863939e-01\n",
      "   1.28974227e-01 -2.62639601e-01 -7.31850385e-01 -5.01003868e-01\n",
      "   3.70332930e-01  1.31495976e+00  2.35614072e-01  1.26141534e+00\n",
      "   1.77371771e+00 -4.01044568e-01 -7.13236160e-01 -8.39965147e-01\n",
      "  -1.20171341e-01 -2.81823625e-01 -8.11166304e-01 -5.10546123e-01\n",
      "  -3.52710999e-01 -1.08668575e+00 -5.20685016e-01 -6.35645591e-01\n",
      "  -6.65840360e-01 -2.34911195e-01 -5.08649204e-01 -2.68345152e-01]]\n",
      "[0.15526926]\n"
     ]
    }
   ],
   "source": [
    "print(list(x_train))\n",
    "print(m_lr.coef_)\n",
    "print(m_lr.intercept_)"
   ]
  },
  {
   "cell_type": "code",
   "execution_count": 20,
   "metadata": {},
   "outputs": [
    {
     "name": "stdout",
     "output_type": "stream",
     "text": [
      "              precision    recall  f1-score   support\n",
      "\n",
      "           0       0.91      0.98      0.94       176\n",
      "           1       0.60      0.25      0.35        24\n",
      "\n",
      "    accuracy                           0.89       200\n",
      "   macro avg       0.75      0.61      0.65       200\n",
      "weighted avg       0.87      0.89      0.87       200\n",
      "\n"
     ]
    }
   ],
   "source": [
    "# 예측\n",
    "y_pred_lr = m_lr.predict(x_val)\n",
    "print(classification_report(y_val, y_pred_lr))"
   ]
  },
  {
   "cell_type": "markdown",
   "metadata": {
    "id": "ZwstDzzpe5Rg"
   },
   "source": [
    "#### (2) Decision Tree 모델링"
   ]
  },
  {
   "cell_type": "code",
   "execution_count": 21,
   "metadata": {
    "id": "Cu17HFZ-N_sH"
   },
   "outputs": [
    {
     "name": "stdout",
     "output_type": "stream",
     "text": [
      "DecisionTreeClassifier(max_depth=2, random_state=2022)\n"
     ]
    }
   ],
   "source": [
    "# RandomizedSearchCV 진행\n",
    "m_dt = DecisionTreeClassifier(random_state=2022,)\n",
    "\n",
    "param = {'max_depth' : range(1, 51)}\n",
    "\n",
    "m_dt_rand = RandomizedSearchCV(m_dt,\n",
    "                               param,\n",
    "                               cv=10,\n",
    "                               n_iter=10,\n",
    "                               scoring='accuracy')\n",
    "\n",
    "m_dt_rand.fit(x_train, y_train)\n",
    "\n",
    "print(m_dt_rand.best_estimator_)"
   ]
  },
  {
   "cell_type": "code",
   "execution_count": 22,
   "metadata": {},
   "outputs": [],
   "source": [
    "# RandomizedSearchCV 결과를 DataFrame으로 변환\n",
    "result_random = pd.DataFrame(m_dt_rand.cv_results_)\n",
    "result_random = result_random[['param_max_depth', 'mean_test_score']]\n",
    "result_random.sort_values(by='param_max_depth', inplace=True)\n",
    "result_random.reset_index(drop=True, inplace=True)"
   ]
  },
  {
   "cell_type": "code",
   "execution_count": 23,
   "metadata": {
    "id": "dxXavuwjN_gA"
   },
   "outputs": [],
   "source": [
    "# GridSearchCV 할 범위 지정\n",
    "idx = result_random[result_random['param_max_depth']==m_dt_rand.best_params_['max_depth']].index[0]\n",
    "\n",
    "start = 1\n",
    "end = 21\n",
    "if idx != 0 :\n",
    "    start = result_random.loc[idx-1]['param_max_depth']\n",
    "if idx != 10 :\n",
    "    end = result_random.loc[idx+1]['param_max_depth']"
   ]
  },
  {
   "cell_type": "code",
   "execution_count": 24,
   "metadata": {
    "id": "lEDr52yLN_b3"
   },
   "outputs": [
    {
     "name": "stdout",
     "output_type": "stream",
     "text": [
      "DecisionTreeClassifier(max_depth=2, random_state=2022)\n"
     ]
    }
   ],
   "source": [
    "# GridSEarchCV 진행\n",
    "m_dt = DecisionTreeClassifier(random_state=2022,)\n",
    "\n",
    "param = {'max_depth' : range(start, end)}\n",
    "\n",
    "m_dt_grid = GridSearchCV(m_dt,\n",
    "                         param,\n",
    "                         cv=10,\n",
    "                         scoring='accuracy')\n",
    "\n",
    "m_dt_grid.fit(x_train, y_train)\n",
    "\n",
    "print(m_dt_grid.best_estimator_)"
   ]
  },
  {
   "cell_type": "code",
   "execution_count": 25,
   "metadata": {},
   "outputs": [
    {
     "data": {
      "image/png": "[encoded data removed]",
      "text/plain": [
       "<IPython.core.display.Image object>"
      ]
     },
     "execution_count": 25,
     "metadata": {
      "image/png": {
       "width": 800
      }
     },
     "output_type": "execute_result"
    }
   ],
   "source": [
    "# 시각화\n",
    "from sklearn.tree import export_graphviz\n",
    "\n",
    "export_graphviz(m_dt_grid.best_estimator_,\n",
    "                out_file = 'tree.dot',\n",
    "                feature_names = x_train.columns,\n",
    "                rounded = True, precision = 3, filled = True)\n",
    "!dot -Tpng tree.dot -o tree.png -Gdpi=300\n",
    "\n",
    "#이미지 파일 로딩하기.\n",
    "from IPython.display import Image\n",
    "Image(filename = 'tree.png', width = 800)  # 사이즈 조정.\n",
    "\n",
    "# 7일 전의 이용량과 2일전의 이용량 변수가 자주 사용되었음을 확인가능"
   ]
  },
  {
   "cell_type": "code",
   "execution_count": 26,
   "metadata": {
    "scrolled": true
   },
   "outputs": [
    {
     "name": "stdout",
     "output_type": "stream",
     "text": [
      "              precision    recall  f1-score   support\n",
      "\n",
      "           0       0.89      0.97      0.93       176\n",
      "           1       0.29      0.08      0.13        24\n",
      "\n",
      "    accuracy                           0.86       200\n",
      "   macro avg       0.59      0.53      0.53       200\n",
      "weighted avg       0.81      0.86      0.83       200\n",
      "\n"
     ]
    }
   ],
   "source": [
    "m_dt = m_dt_grid.best_estimator_\n",
    "m_dt.fit(x_train, y_train)\n",
    "val_pred_dt = m_dt.predict(x_val)\n",
    "print(classification_report(y_val, val_pred_dt))"
   ]
  },
  {
   "cell_type": "markdown",
   "metadata": {
    "id": "b7sweeGMWYO1"
   },
   "source": [
    "#### (3) KNN 모델링"
   ]
  },
  {
   "cell_type": "code",
   "execution_count": 27,
   "metadata": {
    "id": "Cu17HFZ-N_sH"
   },
   "outputs": [
    {
     "name": "stdout",
     "output_type": "stream",
     "text": [
      "KNeighborsClassifier(n_neighbors=14)\n"
     ]
    }
   ],
   "source": [
    "# RandomizedSearchCV 진행\n",
    "m_knn = KNeighborsClassifier()\n",
    "\n",
    "param = {'n_neighbors' : range(2, 51)}\n",
    "\n",
    "m_knn_rand = RandomizedSearchCV(m_knn,\n",
    "                               param,\n",
    "                               cv=10,\n",
    "                               n_iter=10,\n",
    "                               scoring='accuracy')\n",
    "\n",
    "m_knn_rand.fit(x_tr_s, y_train)\n",
    "\n",
    "print(m_knn_rand.best_estimator_)"
   ]
  },
  {
   "cell_type": "code",
   "execution_count": 28,
   "metadata": {},
   "outputs": [],
   "source": [
    "# RandomizedSearchCV 결과를 DataFrame으로 변환\n",
    "result_random = pd.DataFrame(m_knn_rand.cv_results_)\n",
    "result_random = result_random[['param_n_neighbors', 'mean_test_score']]\n",
    "result_random.sort_values(by='param_n_neighbors', inplace=True)\n",
    "result_random.reset_index(drop=True, inplace=True)"
   ]
  },
  {
   "cell_type": "code",
   "execution_count": 29,
   "metadata": {
    "id": "dxXavuwjN_gA"
   },
   "outputs": [],
   "source": [
    "# GridSearchCV 할 범위 지정\n",
    "idx = result_random[result_random['param_n_neighbors']==m_knn_rand.best_params_['n_neighbors']].index[0]\n",
    "\n",
    "start = 1\n",
    "end = 21\n",
    "if idx != 0 :\n",
    "    start = result_random.loc[idx-1]['param_n_neighbors']\n",
    "if idx != 10 :\n",
    "    end = result_random.loc[idx+1]['param_n_neighbors']"
   ]
  },
  {
   "cell_type": "code",
   "execution_count": 30,
   "metadata": {
    "id": "lEDr52yLN_b3"
   },
   "outputs": [
    {
     "name": "stdout",
     "output_type": "stream",
     "text": [
      "KNeighborsClassifier(n_neighbors=11)\n"
     ]
    }
   ],
   "source": [
    "# GridSEarchCV 진행\n",
    "param = {'n_neighbors' : range(start, end)}\n",
    "\n",
    "m_knn_grid = GridSearchCV(m_knn,\n",
    "                         param,\n",
    "                         cv=10,\n",
    "                         scoring='accuracy')\n",
    "\n",
    "m_knn_grid.fit(x_tr_s, y_train)\n",
    "\n",
    "print(m_knn_grid.best_estimator_)"
   ]
  },
  {
   "cell_type": "code",
   "execution_count": 31,
   "metadata": {},
   "outputs": [
    {
     "name": "stdout",
     "output_type": "stream",
     "text": [
      "              precision    recall  f1-score   support\n",
      "\n",
      "           0       0.88      0.99      0.93       176\n",
      "           1       0.00      0.00      0.00        24\n",
      "\n",
      "    accuracy                           0.88       200\n",
      "   macro avg       0.44      0.50      0.47       200\n",
      "weighted avg       0.77      0.88      0.82       200\n",
      "\n"
     ]
    }
   ],
   "source": [
    "m_knn = m_knn_grid.best_estimator_\n",
    "m_knn.fit(x_tr_s, y_train)\n",
    "val_pred_knn = m_knn.predict(x_val_s)\n",
    "print(classification_report(y_val, val_pred_knn))"
   ]
  },
  {
   "cell_type": "markdown",
   "metadata": {
    "id": "JB7CrBcM3j4g"
   },
   "source": [
    "#### (4) SVM 모델링"
   ]
  },
  {
   "cell_type": "code",
   "execution_count": 32,
   "metadata": {
    "id": "Cu17HFZ-N_sH"
   },
   "outputs": [
    {
     "name": "stdout",
     "output_type": "stream",
     "text": [
      "SVC(C=1000.0, gamma=0.001)\n"
     ]
    }
   ],
   "source": [
    "# GridSEarchCV 진행\n",
    "m_svm = SVC()\n",
    "\n",
    "# np.logspace(-3, 4, 8) : [0.0001, 0.001, 0.01, 1, 10, 100, 1000, 10000]\n",
    "param = {'C':np.logspace(-3, 4, 8), 'gamma': np.logspace(-3, 4, 8)}\n",
    "\n",
    "m_svm_grid = GridSearchCV(m_svm,\n",
    "                          param,\n",
    "                          cv=10,\n",
    "                          scoring='accuracy')\n",
    "\n",
    "m_svm_grid.fit(x_tr_s, y_train)\n",
    "\n",
    "print(m_svm_grid.best_estimator_)"
   ]
  },
  {
   "cell_type": "code",
   "execution_count": 33,
   "metadata": {},
   "outputs": [
    {
     "name": "stdout",
     "output_type": "stream",
     "text": [
      "              precision    recall  f1-score   support\n",
      "\n",
      "           0       0.91      0.98      0.94       176\n",
      "           1       0.60      0.25      0.35        24\n",
      "\n",
      "    accuracy                           0.89       200\n",
      "   macro avg       0.75      0.61      0.65       200\n",
      "weighted avg       0.87      0.89      0.87       200\n",
      "\n"
     ]
    }
   ],
   "source": [
    "m_svm = m_svm_grid.best_estimator_\n",
    "m_svm.fit(x_tr_s, y_train)\n",
    "val_pred_svm = m_svm.predict(x_val_s)\n",
    "print(classification_report(y_val, val_pred_svm))"
   ]
  },
  {
   "cell_type": "markdown",
   "metadata": {
    "id": "FNAN5h5ZjxET"
   },
   "source": [
    "#### (5) Random Forest 모델링"
   ]
  },
  {
   "cell_type": "code",
   "execution_count": 34,
   "metadata": {
    "id": "Cu17HFZ-N_sH"
   },
   "outputs": [
    {
     "name": "stdout",
     "output_type": "stream",
     "text": [
      "RandomForestClassifier(max_depth=41, random_state=2022)\n"
     ]
    }
   ],
   "source": [
    "# RandomizedSearchCV 진행\n",
    "m_rf = RandomForestClassifier(random_state=2022,)\n",
    "\n",
    "param = {'max_depth' : range(1, 51)}\n",
    "\n",
    "m_rf_rand = RandomizedSearchCV(m_rf,\n",
    "                               param,\n",
    "                               cv=10,\n",
    "                               n_iter=10,\n",
    "                               scoring='accuracy')\n",
    "\n",
    "m_rf_rand.fit(x_train, y_train)\n",
    "\n",
    "print(m_rf_rand.best_estimator_)"
   ]
  },
  {
   "cell_type": "code",
   "execution_count": 35,
   "metadata": {},
   "outputs": [],
   "source": [
    "# RandomizedSearchCV 결과를 DataFrame으로 변환\n",
    "result_random = pd.DataFrame(m_rf_rand.cv_results_)\n",
    "result_random = result_random[['param_max_depth', 'mean_test_score']]\n",
    "result_random.sort_values(by='param_max_depth', inplace=True)\n",
    "result_random.reset_index(drop=True, inplace=True)"
   ]
  },
  {
   "cell_type": "code",
   "execution_count": 36,
   "metadata": {
    "id": "dxXavuwjN_gA"
   },
   "outputs": [],
   "source": [
    "# GridSearchCV 할 범위 지정\n",
    "idx = result_random[result_random['param_max_depth']==m_rf_rand.best_params_['max_depth']].index[0]\n",
    "\n",
    "start = 1\n",
    "end = 21\n",
    "if idx != 0 :\n",
    "    start = result_random.loc[idx-1]['param_max_depth']\n",
    "if idx != 10 :\n",
    "    end = result_random.loc[idx+1]['param_max_depth']"
   ]
  },
  {
   "cell_type": "code",
   "execution_count": 37,
   "metadata": {
    "id": "lEDr52yLN_b3"
   },
   "outputs": [
    {
     "name": "stdout",
     "output_type": "stream",
     "text": [
      "RandomForestClassifier(max_depth=39, random_state=2022)\n"
     ]
    }
   ],
   "source": [
    "# GridSEarchCV 진행\n",
    "param = {'max_depth' : range(start, end)}\n",
    "\n",
    "m_rf_grid = GridSearchCV(m_rf,\n",
    "                         param,\n",
    "                         cv=10,\n",
    "                         scoring='accuracy')\n",
    "\n",
    "m_rf_grid.fit(x_train, y_train)\n",
    "\n",
    "print(m_rf_grid.best_estimator_)"
   ]
  },
  {
   "cell_type": "code",
   "execution_count": 38,
   "metadata": {
    "scrolled": true
   },
   "outputs": [
    {
     "name": "stdout",
     "output_type": "stream",
     "text": [
      "              precision    recall  f1-score   support\n",
      "\n",
      "           0       0.89      0.97      0.93       176\n",
      "           1       0.29      0.08      0.13        24\n",
      "\n",
      "    accuracy                           0.86       200\n",
      "   macro avg       0.59      0.53      0.53       200\n",
      "weighted avg       0.81      0.86      0.83       200\n",
      "\n"
     ]
    }
   ],
   "source": [
    "m_rf = m_dt_grid.best_estimator_\n",
    "m_rf.fit(x_train, y_train)\n",
    "val_pred_rf = m_rf.predict(x_val)\n",
    "print(classification_report(y_val, val_pred_rf))"
   ]
  },
  {
   "cell_type": "markdown",
   "metadata": {
    "id": "EuRaZc7OkRJN"
   },
   "source": [
    "#### (6) XGB 모델링"
   ]
  },
  {
   "cell_type": "code",
   "execution_count": 39,
   "metadata": {
    "id": "-ABB1_GdOF9j"
   },
   "outputs": [
    {
     "name": "stdout",
     "output_type": "stream",
     "text": [
      "XGBClassifier(base_score=0.5, booster='gbtree', colsample_bylevel=1,\n",
      "              colsample_bynode=1, colsample_bytree=1, enable_categorical=False,\n",
      "              gamma=0, gpu_id=-1, importance_type=None,\n",
      "              interaction_constraints='', learning_rate=0.2, max_delta_step=0,\n",
      "              max_depth=2, min_child_weight=1, missing=nan,\n",
      "              monotone_constraints='()', n_estimators=120, n_jobs=8,\n",
      "              num_parallel_tree=1, predictor='auto', random_state=0,\n",
      "              reg_alpha=0, reg_lambda=1, scale_pos_weight=1, subsample=1,\n",
      "              tree_method='exact', use_label_encoder=False,\n",
      "              validate_parameters=1, verbosity=None)\n"
     ]
    }
   ],
   "source": [
    "# RandomizedSearchCV 진행\n",
    "m_xgb = XGBClassifier(use_label_encoder=False, random_state=2022)\n",
    "\n",
    "param = {'max_depth': range(2,6),\n",
    "         'n_estimators' : range(20,201,10),\n",
    "         'learning_rate':[0.01,0.1,0.2, 0.3]}\n",
    "\n",
    "m_xgb_grid = RandomizedSearchCV(m_xgb, \n",
    "                                param, \n",
    "                                n_iter = 20, \n",
    "                                cv = 10, \n",
    "                                scoring = 'accuracy')\n",
    "\n",
    "m_xgb_grid.fit(x_train, y_train, eval_metric='logloss')\n",
    "\n",
    "print(m_xgb_grid.best_estimator_)"
   ]
  },
  {
   "cell_type": "code",
   "execution_count": 40,
   "metadata": {},
   "outputs": [
    {
     "name": "stdout",
     "output_type": "stream",
     "text": [
      "              precision    recall  f1-score   support\n",
      "\n",
      "           0       0.91      0.97      0.94       176\n",
      "           1       0.54      0.29      0.38        24\n",
      "\n",
      "    accuracy                           0.89       200\n",
      "   macro avg       0.72      0.63      0.66       200\n",
      "weighted avg       0.86      0.89      0.87       200\n",
      "\n"
     ]
    }
   ],
   "source": [
    "m_xgb = m_xgb_grid.best_estimator_\n",
    "m_xgb.fit(x_train, y_train, eval_metric='logloss')\n",
    "val_pred_xgb = m_xgb.predict(x_val)\n",
    "print(classification_report(y_val, val_pred_xgb))"
   ]
  },
  {
   "cell_type": "code",
   "execution_count": 67,
   "metadata": {},
   "outputs": [
    {
     "data": {
      "image/png": "[encoded data removed]",
      "text/plain": [
       "<Figure size 720x720 with 1 Axes>"
      ]
     },
     "metadata": {
      "needs_background": "light"
     },
     "output_type": "display_data"
    }
   ],
   "source": [
    "plt.figure(figsize=(10, 10))\n",
    "plt.barh(y=list(x_train), width=m_xgb.feature_importances_)\n",
    "plt.show()"
   ]
  },
  {
   "cell_type": "markdown",
   "metadata": {
    "id": "IRsH_UjrXNiW"
   },
   "source": [
    "## 4.모델링2 : 딥러닝"
   ]
  },
  {
   "cell_type": "markdown",
   "metadata": {
    "id": "b9kRyQ6K6CIW"
   },
   "source": [
    "### 4.1 모델링을 위한 함수 불러오기"
   ]
  },
  {
   "cell_type": "code",
   "execution_count": 41,
   "metadata": {
    "id": "_BDNB7hM9_hz"
   },
   "outputs": [],
   "source": [
    "from tensorflow import keras\n",
    "from tensorflow.keras.layers import Input, Dense\n",
    "from tensorflow.keras.models import Model\n",
    "from tensorflow.keras.callbacks import EarlyStopping\n",
    "\n",
    "from tensorflow.keras.backend import clear_session\n",
    "from tensorflow.keras.losses import binary_crossentropy\n",
    "from tensorflow.keras.optimizers import Adam"
   ]
  },
  {
   "cell_type": "markdown",
   "metadata": {
    "id": "lL9BeX00MLgt"
   },
   "source": [
    "### 4.2 모델 설계\n",
    "* 다양한 구조의 모델 3개 이상을 설계하시오. (히든레이어, 노드 수 조절)"
   ]
  },
  {
   "cell_type": "markdown",
   "metadata": {
    "id": "yAaMF07mHz_q"
   },
   "source": [
    "* 모델1 "
   ]
  },
  {
   "cell_type": "code",
   "execution_count": 42,
   "metadata": {},
   "outputs": [
    {
     "data": {
      "text/plain": [
       "((850, 40), (850,))"
      ]
     },
     "execution_count": 42,
     "metadata": {},
     "output_type": "execute_result"
    }
   ],
   "source": [
    "x_train.shape, y_train.shape"
   ]
  },
  {
   "cell_type": "code",
   "execution_count": 51,
   "metadata": {
    "id": "aA1Pm1oXMLgv"
   },
   "outputs": [
    {
     "name": "stdout",
     "output_type": "stream",
     "text": [
      "Model: \"model\"\n",
      "_________________________________________________________________\n",
      " Layer (type)                Output Shape              Param #   \n",
      "=================================================================\n",
      " input_1 (InputLayer)        [(None, 40)]              0         \n",
      "                                                                 \n",
      " dense (Dense)               (None, 1)                 41        \n",
      "                                                                 \n",
      "=================================================================\n",
      "Total params: 41\n",
      "Trainable params: 41\n",
      "Non-trainable params: 0\n",
      "_________________________________________________________________\n"
     ]
    }
   ],
   "source": [
    "# 초기화\n",
    "clear_session()\n",
    "\n",
    "# 레이어 생성\n",
    "input_layer = Input(shape=(40,))\n",
    "output_layer = Dense(1, activation='sigmoid')(input_layer)\n",
    "\n",
    "# 모델 생성\n",
    "model1 = Model(input_layer, output_layer)\n",
    "\n",
    "# 모델 컴파일\n",
    "model1.compile(loss=binary_crossentropy, metrics=['accuracy'], optimizer=Adam())\n",
    "\n",
    "model1.summary()"
   ]
  },
  {
   "cell_type": "markdown",
   "metadata": {
    "id": "gU1_UtFlH3sY"
   },
   "source": [
    "* 모델2"
   ]
  },
  {
   "cell_type": "code",
   "execution_count": 52,
   "metadata": {
    "id": "aA1Pm1oXMLgv"
   },
   "outputs": [
    {
     "name": "stdout",
     "output_type": "stream",
     "text": [
      "Model: \"model\"\n",
      "_________________________________________________________________\n",
      " Layer (type)                Output Shape              Param #   \n",
      "=================================================================\n",
      " input_1 (InputLayer)        [(None, 40)]              0         \n",
      "                                                                 \n",
      " dense (Dense)               (None, 64)                2624      \n",
      "                                                                 \n",
      " dense_1 (Dense)             (None, 1)                 65        \n",
      "                                                                 \n",
      "=================================================================\n",
      "Total params: 2,689\n",
      "Trainable params: 2,689\n",
      "Non-trainable params: 0\n",
      "_________________________________________________________________\n"
     ]
    }
   ],
   "source": [
    "# 초기화\n",
    "clear_session()\n",
    "\n",
    "# 레이어 생성\n",
    "input_layer = Input(shape=(40))\n",
    "hiden_layer = Dense(64, activation='relu')(input_layer)\n",
    "output_layer = Dense(1, activation='sigmoid')(hiden_layer)\n",
    "\n",
    "# 모델 생성\n",
    "model2 = Model(input_layer, output_layer)\n",
    "\n",
    "# 모델 컴파일\n",
    "model2.compile(loss=binary_crossentropy, metrics=['accuracy'], optimizer=Adam())\n",
    "\n",
    "model2.summary()"
   ]
  },
  {
   "cell_type": "markdown",
   "metadata": {
    "id": "iXOlv7oSKLlt"
   },
   "source": [
    "* 모델3"
   ]
  },
  {
   "cell_type": "code",
   "execution_count": 53,
   "metadata": {
    "id": "aA1Pm1oXMLgv"
   },
   "outputs": [
    {
     "name": "stdout",
     "output_type": "stream",
     "text": [
      "Model: \"model\"\n",
      "_________________________________________________________________\n",
      " Layer (type)                Output Shape              Param #   \n",
      "=================================================================\n",
      " input_1 (InputLayer)        [(None, 40)]              0         \n",
      "                                                                 \n",
      " dense (Dense)               (None, 64)                2624      \n",
      "                                                                 \n",
      " dense_1 (Dense)             (None, 64)                4160      \n",
      "                                                                 \n",
      " dense_2 (Dense)             (None, 1)                 65        \n",
      "                                                                 \n",
      "=================================================================\n",
      "Total params: 6,849\n",
      "Trainable params: 6,849\n",
      "Non-trainable params: 0\n",
      "_________________________________________________________________\n"
     ]
    }
   ],
   "source": [
    "# 초기화\n",
    "clear_session()\n",
    "\n",
    "# 레이어 생성\n",
    "input_layer = Input(shape=(40,))\n",
    "hiden_layer = Dense(64, activation='relu')(input_layer)\n",
    "hiden_layer = Dense(64, activation='relu')(hiden_layer)\n",
    "output_layer = Dense(1, activation='sigmoid')(hiden_layer)\n",
    "\n",
    "# 모델 생성\n",
    "model3 = Model(input_layer, output_layer)\n",
    "\n",
    "# 모델 컴파일\n",
    "model3.compile(loss=binary_crossentropy, metrics=['accuracy'], optimizer=Adam())\n",
    "\n",
    "model3.summary()"
   ]
  },
  {
   "cell_type": "markdown",
   "metadata": {
    "id": "aCwoqa6hMLgx"
   },
   "source": [
    "### 4.3 학습 및 최적화\n",
    "* 다양한 학습조건으로 모델링 수행후 성능을 비교해 봅시다.\n"
   ]
  },
  {
   "cell_type": "code",
   "execution_count": 54,
   "metadata": {},
   "outputs": [],
   "source": [
    "es = EarlyStopping(monitor='val_loss', min_delta=0, patience=10, verbose=1, restore_best_weights=True)"
   ]
  },
  {
   "cell_type": "code",
   "execution_count": 55,
   "metadata": {
    "id": "rxx4LUwBMLgy",
    "scrolled": true
   },
   "outputs": [
    {
     "name": "stdout",
     "output_type": "stream",
     "text": [
      "Epoch 1/100\n",
      "23/23 [==============================] - 1s 12ms/step - loss: 230.2297 - accuracy: 0.8338 - val_loss: 227.4785 - val_accuracy: 0.8047\n",
      "Epoch 2/100\n",
      "23/23 [==============================] - 0s 4ms/step - loss: 212.2679 - accuracy: 0.8338 - val_loss: 210.1254 - val_accuracy: 0.8047\n",
      "Epoch 3/100\n",
      "23/23 [==============================] - 0s 3ms/step - loss: 195.2272 - accuracy: 0.8338 - val_loss: 191.1725 - val_accuracy: 0.8047\n",
      "Epoch 4/100\n",
      "23/23 [==============================] - 0s 4ms/step - loss: 176.9552 - accuracy: 0.8338 - val_loss: 173.4309 - val_accuracy: 0.8047\n",
      "Epoch 5/100\n",
      "23/23 [==============================] - 0s 5ms/step - loss: 159.7840 - accuracy: 0.8338 - val_loss: 154.6472 - val_accuracy: 0.8047\n",
      "Epoch 6/100\n",
      "23/23 [==============================] - 0s 4ms/step - loss: 141.9039 - accuracy: 0.8338 - val_loss: 135.8147 - val_accuracy: 0.8047\n",
      "Epoch 7/100\n",
      "23/23 [==============================] - 0s 4ms/step - loss: 124.0134 - accuracy: 0.8338 - val_loss: 117.8597 - val_accuracy: 0.8047\n",
      "Epoch 8/100\n",
      "23/23 [==============================] - 0s 3ms/step - loss: 106.1802 - accuracy: 0.8338 - val_loss: 100.7062 - val_accuracy: 0.8047\n",
      "Epoch 9/100\n",
      "23/23 [==============================] - 0s 4ms/step - loss: 89.3511 - accuracy: 0.8338 - val_loss: 81.8539 - val_accuracy: 0.8047\n",
      "Epoch 10/100\n",
      "23/23 [==============================] - 0s 3ms/step - loss: 71.9054 - accuracy: 0.8338 - val_loss: 63.8423 - val_accuracy: 0.8047\n",
      "Epoch 11/100\n",
      "23/23 [==============================] - 0s 4ms/step - loss: 54.4602 - accuracy: 0.8338 - val_loss: 46.1784 - val_accuracy: 0.8047\n",
      "Epoch 12/100\n",
      "23/23 [==============================] - 0s 3ms/step - loss: 37.4322 - accuracy: 0.8338 - val_loss: 28.1494 - val_accuracy: 0.8047\n",
      "Epoch 13/100\n",
      "23/23 [==============================] - 0s 3ms/step - loss: 19.9446 - accuracy: 0.8324 - val_loss: 10.3734 - val_accuracy: 0.8047\n",
      "Epoch 14/100\n",
      "23/23 [==============================] - 0s 3ms/step - loss: 6.2375 - accuracy: 0.6925 - val_loss: 4.5893 - val_accuracy: 0.6016\n",
      "Epoch 15/100\n",
      "23/23 [==============================] - 0s 3ms/step - loss: 4.7550 - accuracy: 0.6607 - val_loss: 4.1293 - val_accuracy: 0.6953\n",
      "Epoch 16/100\n",
      "23/23 [==============================] - 0s 3ms/step - loss: 4.5561 - accuracy: 0.6967 - val_loss: 4.0504 - val_accuracy: 0.6562\n",
      "Epoch 17/100\n",
      "23/23 [==============================] - 0s 4ms/step - loss: 4.2667 - accuracy: 0.6496 - val_loss: 3.8278 - val_accuracy: 0.7188\n",
      "Epoch 18/100\n",
      "23/23 [==============================] - 0s 4ms/step - loss: 4.1984 - accuracy: 0.6524 - val_loss: 3.6566 - val_accuracy: 0.7266\n",
      "Epoch 19/100\n",
      "23/23 [==============================] - 0s 3ms/step - loss: 3.8580 - accuracy: 0.6870 - val_loss: 3.2781 - val_accuracy: 0.6875\n",
      "Epoch 20/100\n",
      "23/23 [==============================] - 0s 3ms/step - loss: 3.5804 - accuracy: 0.6828 - val_loss: 3.1978 - val_accuracy: 0.6406\n",
      "Epoch 21/100\n",
      "23/23 [==============================] - 0s 4ms/step - loss: 3.3984 - accuracy: 0.6537 - val_loss: 3.0094 - val_accuracy: 0.7266\n",
      "Epoch 22/100\n",
      "23/23 [==============================] - 0s 3ms/step - loss: 3.0847 - accuracy: 0.6814 - val_loss: 2.6790 - val_accuracy: 0.6641\n",
      "Epoch 23/100\n",
      "23/23 [==============================] - 0s 3ms/step - loss: 2.8755 - accuracy: 0.6648 - val_loss: 2.4837 - val_accuracy: 0.6641\n",
      "Epoch 24/100\n",
      "23/23 [==============================] - 0s 3ms/step - loss: 2.6422 - accuracy: 0.6773 - val_loss: 2.2940 - val_accuracy: 0.7109\n",
      "Epoch 25/100\n",
      "23/23 [==============================] - 0s 4ms/step - loss: 2.3922 - accuracy: 0.6717 - val_loss: 2.0566 - val_accuracy: 0.6875\n",
      "Epoch 26/100\n",
      "23/23 [==============================] - 0s 3ms/step - loss: 2.2132 - accuracy: 0.6745 - val_loss: 1.9511 - val_accuracy: 0.6406\n",
      "Epoch 27/100\n",
      "23/23 [==============================] - 0s 3ms/step - loss: 1.9779 - accuracy: 0.6510 - val_loss: 1.6806 - val_accuracy: 0.6953\n",
      "Epoch 28/100\n",
      "23/23 [==============================] - 0s 4ms/step - loss: 1.8032 - accuracy: 0.6787 - val_loss: 1.5088 - val_accuracy: 0.7031\n",
      "Epoch 29/100\n",
      "23/23 [==============================] - 0s 4ms/step - loss: 1.7243 - accuracy: 0.6994 - val_loss: 1.3446 - val_accuracy: 0.7188\n",
      "Epoch 30/100\n",
      "23/23 [==============================] - 0s 4ms/step - loss: 1.4850 - accuracy: 0.6842 - val_loss: 1.1905 - val_accuracy: 0.6797\n",
      "Epoch 31/100\n",
      "23/23 [==============================] - 0s 3ms/step - loss: 1.2383 - accuracy: 0.6953 - val_loss: 1.0517 - val_accuracy: 0.7188\n",
      "Epoch 32/100\n",
      "23/23 [==============================] - 0s 4ms/step - loss: 1.0448 - accuracy: 0.6994 - val_loss: 0.9756 - val_accuracy: 0.7422\n",
      "Epoch 33/100\n",
      "23/23 [==============================] - 0s 3ms/step - loss: 1.0831 - accuracy: 0.6911 - val_loss: 0.9405 - val_accuracy: 0.7891\n",
      "Epoch 34/100\n",
      "23/23 [==============================] - 0s 4ms/step - loss: 0.8532 - accuracy: 0.7548 - val_loss: 0.7043 - val_accuracy: 0.7109\n",
      "Epoch 35/100\n",
      "23/23 [==============================] - 0s 3ms/step - loss: 0.7491 - accuracy: 0.7396 - val_loss: 0.6320 - val_accuracy: 0.7656\n",
      "Epoch 36/100\n",
      "23/23 [==============================] - 0s 3ms/step - loss: 0.6736 - accuracy: 0.7548 - val_loss: 0.6308 - val_accuracy: 0.6953\n",
      "Epoch 37/100\n",
      "23/23 [==============================] - 0s 3ms/step - loss: 0.6505 - accuracy: 0.7438 - val_loss: 0.5512 - val_accuracy: 0.7812\n",
      "Epoch 38/100\n",
      "23/23 [==============================] - 0s 4ms/step - loss: 0.6312 - accuracy: 0.7756 - val_loss: 0.5801 - val_accuracy: 0.8047\n",
      "Epoch 39/100\n",
      "23/23 [==============================] - 0s 3ms/step - loss: 0.5715 - accuracy: 0.7950 - val_loss: 0.4863 - val_accuracy: 0.7891\n",
      "Epoch 40/100\n",
      "23/23 [==============================] - 0s 3ms/step - loss: 0.5295 - accuracy: 0.7798 - val_loss: 0.4757 - val_accuracy: 0.7812\n",
      "Epoch 41/100\n",
      "23/23 [==============================] - 0s 4ms/step - loss: 0.5292 - accuracy: 0.7922 - val_loss: 0.4758 - val_accuracy: 0.7969\n",
      "Epoch 42/100\n",
      "23/23 [==============================] - 0s 3ms/step - loss: 0.5654 - accuracy: 0.7825 - val_loss: 0.4803 - val_accuracy: 0.7969\n",
      "Epoch 43/100\n",
      "23/23 [==============================] - 0s 4ms/step - loss: 0.5304 - accuracy: 0.8019 - val_loss: 0.4514 - val_accuracy: 0.7891\n",
      "Epoch 44/100\n",
      "23/23 [==============================] - 0s 3ms/step - loss: 0.4846 - accuracy: 0.8033 - val_loss: 0.4865 - val_accuracy: 0.8125\n",
      "Epoch 45/100\n",
      "23/23 [==============================] - 0s 4ms/step - loss: 0.5094 - accuracy: 0.8158 - val_loss: 0.7640 - val_accuracy: 0.5859\n",
      "Epoch 46/100\n",
      "23/23 [==============================] - 0s 3ms/step - loss: 0.5832 - accuracy: 0.7839 - val_loss: 0.4328 - val_accuracy: 0.7891\n",
      "Epoch 47/100\n",
      "23/23 [==============================] - 0s 3ms/step - loss: 0.4881 - accuracy: 0.7992 - val_loss: 0.5949 - val_accuracy: 0.8047\n",
      "Epoch 48/100\n",
      "23/23 [==============================] - 0s 3ms/step - loss: 0.4632 - accuracy: 0.8130 - val_loss: 0.4295 - val_accuracy: 0.8203\n",
      "Epoch 49/100\n",
      "23/23 [==============================] - 0s 3ms/step - loss: 0.4786 - accuracy: 0.8227 - val_loss: 0.6314 - val_accuracy: 0.6484\n",
      "Epoch 50/100\n",
      "23/23 [==============================] - 0s 3ms/step - loss: 0.5043 - accuracy: 0.8130 - val_loss: 0.4156 - val_accuracy: 0.8281\n",
      "Epoch 51/100\n",
      "23/23 [==============================] - 0s 3ms/step - loss: 0.4898 - accuracy: 0.8075 - val_loss: 0.5021 - val_accuracy: 0.7656\n",
      "Epoch 52/100\n",
      "23/23 [==============================] - 0s 4ms/step - loss: 0.5404 - accuracy: 0.7922 - val_loss: 0.5329 - val_accuracy: 0.8047\n",
      "Epoch 53/100\n",
      "23/23 [==============================] - 0s 3ms/step - loss: 0.6698 - accuracy: 0.7936 - val_loss: 0.4257 - val_accuracy: 0.8125\n",
      "Epoch 54/100\n",
      "23/23 [==============================] - 0s 3ms/step - loss: 0.4552 - accuracy: 0.8158 - val_loss: 0.4716 - val_accuracy: 0.8125\n",
      "Epoch 55/100\n",
      "23/23 [==============================] - 0s 4ms/step - loss: 0.4722 - accuracy: 0.8158 - val_loss: 0.5032 - val_accuracy: 0.7656\n",
      "Epoch 56/100\n",
      "23/23 [==============================] - 0s 3ms/step - loss: 0.4792 - accuracy: 0.8158 - val_loss: 0.4173 - val_accuracy: 0.8438\n",
      "Epoch 57/100\n",
      "23/23 [==============================] - 0s 4ms/step - loss: 0.6427 - accuracy: 0.7812 - val_loss: 0.9941 - val_accuracy: 0.8047\n",
      "Epoch 58/100\n"
     ]
    },
    {
     "name": "stdout",
     "output_type": "stream",
     "text": [
      "23/23 [==============================] - 0s 3ms/step - loss: 0.6745 - accuracy: 0.8061 - val_loss: 0.3911 - val_accuracy: 0.8438\n",
      "Epoch 59/100\n",
      "23/23 [==============================] - 0s 3ms/step - loss: 0.5082 - accuracy: 0.8158 - val_loss: 0.5531 - val_accuracy: 0.7188\n",
      "Epoch 60/100\n",
      "23/23 [==============================] - 0s 3ms/step - loss: 0.4459 - accuracy: 0.8047 - val_loss: 0.3887 - val_accuracy: 0.8281\n",
      "Epoch 61/100\n",
      "23/23 [==============================] - 0s 3ms/step - loss: 0.4872 - accuracy: 0.8199 - val_loss: 0.3840 - val_accuracy: 0.8516\n",
      "Epoch 62/100\n",
      "23/23 [==============================] - 0s 4ms/step - loss: 0.5576 - accuracy: 0.7978 - val_loss: 0.5054 - val_accuracy: 0.8047\n",
      "Epoch 63/100\n",
      "23/23 [==============================] - 0s 4ms/step - loss: 0.5552 - accuracy: 0.8213 - val_loss: 0.4815 - val_accuracy: 0.7656\n",
      "Epoch 64/100\n",
      "23/23 [==============================] - 0s 4ms/step - loss: 0.5229 - accuracy: 0.7978 - val_loss: 0.5373 - val_accuracy: 0.7109\n",
      "Epoch 65/100\n",
      "23/23 [==============================] - 0s 4ms/step - loss: 0.4424 - accuracy: 0.8338 - val_loss: 0.4668 - val_accuracy: 0.8125\n",
      "Epoch 66/100\n",
      "23/23 [==============================] - 0s 4ms/step - loss: 0.4812 - accuracy: 0.8102 - val_loss: 0.3782 - val_accuracy: 0.8594\n",
      "Epoch 67/100\n",
      "23/23 [==============================] - 0s 4ms/step - loss: 0.4806 - accuracy: 0.8089 - val_loss: 0.3950 - val_accuracy: 0.8203\n",
      "Epoch 68/100\n",
      "23/23 [==============================] - 0s 4ms/step - loss: 0.7181 - accuracy: 0.7922 - val_loss: 0.8730 - val_accuracy: 0.8047\n",
      "Epoch 69/100\n",
      "23/23 [==============================] - 0s 4ms/step - loss: 0.6401 - accuracy: 0.8089 - val_loss: 0.4657 - val_accuracy: 0.8281\n",
      "Epoch 70/100\n",
      "23/23 [==============================] - 0s 4ms/step - loss: 0.4360 - accuracy: 0.8296 - val_loss: 0.3812 - val_accuracy: 0.8359\n",
      "Epoch 71/100\n",
      "23/23 [==============================] - 0s 4ms/step - loss: 0.4069 - accuracy: 0.8186 - val_loss: 0.3914 - val_accuracy: 0.8281\n",
      "Epoch 72/100\n",
      "23/23 [==============================] - 0s 4ms/step - loss: 0.4138 - accuracy: 0.8421 - val_loss: 0.3729 - val_accuracy: 0.8672\n",
      "Epoch 73/100\n",
      "23/23 [==============================] - 0s 3ms/step - loss: 0.4468 - accuracy: 0.8269 - val_loss: 0.7116 - val_accuracy: 0.5703\n",
      "Epoch 74/100\n",
      "23/23 [==============================] - 0s 3ms/step - loss: 0.4591 - accuracy: 0.8144 - val_loss: 0.4700 - val_accuracy: 0.8203\n",
      "Epoch 75/100\n",
      "23/23 [==============================] - 0s 3ms/step - loss: 0.5165 - accuracy: 0.8089 - val_loss: 0.4501 - val_accuracy: 0.8203\n",
      "Epoch 76/100\n",
      "23/23 [==============================] - 0s 3ms/step - loss: 0.4616 - accuracy: 0.8255 - val_loss: 0.4675 - val_accuracy: 0.8203\n",
      "Epoch 77/100\n",
      "23/23 [==============================] - 0s 4ms/step - loss: 0.4163 - accuracy: 0.8532 - val_loss: 0.3648 - val_accuracy: 0.8594\n",
      "Epoch 78/100\n",
      "23/23 [==============================] - 0s 4ms/step - loss: 0.4585 - accuracy: 0.8407 - val_loss: 0.3820 - val_accuracy: 0.8359\n",
      "Epoch 79/100\n",
      "23/23 [==============================] - 0s 3ms/step - loss: 0.4153 - accuracy: 0.8241 - val_loss: 0.3594 - val_accuracy: 0.8594\n",
      "Epoch 80/100\n",
      "23/23 [==============================] - 0s 3ms/step - loss: 0.4205 - accuracy: 0.8227 - val_loss: 0.4723 - val_accuracy: 0.8203\n",
      "Epoch 81/100\n",
      "23/23 [==============================] - 0s 3ms/step - loss: 0.5791 - accuracy: 0.8075 - val_loss: 0.6983 - val_accuracy: 0.8047\n",
      "Epoch 82/100\n",
      "23/23 [==============================] - 0s 3ms/step - loss: 0.4913 - accuracy: 0.8338 - val_loss: 0.3949 - val_accuracy: 0.8672\n",
      "Epoch 83/100\n",
      "23/23 [==============================] - 0s 3ms/step - loss: 0.5939 - accuracy: 0.7853 - val_loss: 0.3796 - val_accuracy: 0.8672\n",
      "Epoch 84/100\n",
      "23/23 [==============================] - 0s 3ms/step - loss: 0.4325 - accuracy: 0.8352 - val_loss: 0.3599 - val_accuracy: 0.8359\n",
      "Epoch 85/100\n",
      "23/23 [==============================] - 0s 3ms/step - loss: 0.4071 - accuracy: 0.8435 - val_loss: 0.3516 - val_accuracy: 0.8594\n",
      "Epoch 86/100\n",
      "23/23 [==============================] - 0s 4ms/step - loss: 0.3898 - accuracy: 0.8476 - val_loss: 0.3586 - val_accuracy: 0.8359\n",
      "Epoch 87/100\n",
      "23/23 [==============================] - 0s 3ms/step - loss: 0.4437 - accuracy: 0.8421 - val_loss: 0.3658 - val_accuracy: 0.8672\n",
      "Epoch 88/100\n",
      "23/23 [==============================] - 0s 3ms/step - loss: 0.3939 - accuracy: 0.8407 - val_loss: 0.3566 - val_accuracy: 0.8438\n",
      "Epoch 89/100\n",
      "23/23 [==============================] - 0s 3ms/step - loss: 0.4023 - accuracy: 0.8393 - val_loss: 0.4031 - val_accuracy: 0.8281\n",
      "Epoch 90/100\n",
      "23/23 [==============================] - 0s 3ms/step - loss: 0.3922 - accuracy: 0.8407 - val_loss: 0.3581 - val_accuracy: 0.8359\n",
      "Epoch 91/100\n",
      "23/23 [==============================] - 0s 3ms/step - loss: 0.4398 - accuracy: 0.8352 - val_loss: 0.3468 - val_accuracy: 0.8672\n",
      "Epoch 92/100\n",
      "23/23 [==============================] - 0s 3ms/step - loss: 0.4348 - accuracy: 0.8352 - val_loss: 0.3707 - val_accuracy: 0.8281\n",
      "Epoch 93/100\n",
      "23/23 [==============================] - 0s 3ms/step - loss: 0.5137 - accuracy: 0.8047 - val_loss: 0.3413 - val_accuracy: 0.8594\n",
      "Epoch 94/100\n",
      "23/23 [==============================] - 0s 3ms/step - loss: 0.4516 - accuracy: 0.8324 - val_loss: 0.4144 - val_accuracy: 0.8672\n",
      "Epoch 95/100\n",
      "23/23 [==============================] - 0s 4ms/step - loss: 0.4051 - accuracy: 0.8352 - val_loss: 0.4122 - val_accuracy: 0.8281\n",
      "Epoch 96/100\n",
      "23/23 [==============================] - 0s 3ms/step - loss: 0.4758 - accuracy: 0.8338 - val_loss: 0.3610 - val_accuracy: 0.8516\n",
      "Epoch 97/100\n",
      "23/23 [==============================] - 0s 3ms/step - loss: 0.3860 - accuracy: 0.8573 - val_loss: 0.3613 - val_accuracy: 0.8516\n",
      "Epoch 98/100\n",
      "23/23 [==============================] - 0s 3ms/step - loss: 0.4083 - accuracy: 0.8407 - val_loss: 0.4492 - val_accuracy: 0.8203\n",
      "Epoch 99/100\n",
      "23/23 [==============================] - 0s 4ms/step - loss: 0.4529 - accuracy: 0.8241 - val_loss: 0.3448 - val_accuracy: 0.8438\n",
      "Epoch 100/100\n",
      "23/23 [==============================] - 0s 4ms/step - loss: 0.3860 - accuracy: 0.8435 - val_loss: 0.3540 - val_accuracy: 0.8828\n",
      "              precision    recall  f1-score   support\n",
      "\n",
      "           0       0.91      0.98      0.95       176\n",
      "           1       0.70      0.29      0.41        24\n",
      "\n",
      "    accuracy                           0.90       200\n",
      "   macro avg       0.81      0.64      0.68       200\n",
      "weighted avg       0.89      0.90      0.88       200\n",
      "\n"
     ]
    }
   ],
   "source": [
    "model1.fit(x_train, y_train, epochs=100, verbose=1, callbacks=[es], validation_split=0.15)\n",
    "\n",
    "y_pred1 = model1.predict(x_val)\n",
    "y_pred_dl1 = np.where(y_pred1 > 0.5, 1 , 0)\n",
    "\n",
    "print(classification_report(y_val, y_pred_dl1))"
   ]
  },
  {
   "cell_type": "code",
   "execution_count": 56,
   "metadata": {
    "id": "1LggUbULOTTI",
    "scrolled": true
   },
   "outputs": [
    {
     "name": "stdout",
     "output_type": "stream",
     "text": [
      "Epoch 1/100\n",
      "23/23 [==============================] - 1s 12ms/step - loss: 573.7864 - accuracy: 0.1662 - val_loss: 101.8789 - val_accuracy: 0.1953\n",
      "Epoch 2/100\n",
      "23/23 [==============================] - 0s 3ms/step - loss: 32.3688 - accuracy: 0.7507 - val_loss: 40.8086 - val_accuracy: 0.8047\n",
      "Epoch 3/100\n",
      "23/23 [==============================] - 0s 4ms/step - loss: 31.5344 - accuracy: 0.8338 - val_loss: 18.4780 - val_accuracy: 0.8047\n",
      "Epoch 4/100\n",
      "23/23 [==============================] - 0s 3ms/step - loss: 7.0880 - accuracy: 0.7659 - val_loss: 2.5038 - val_accuracy: 0.8047\n",
      "Epoch 5/100\n",
      "23/23 [==============================] - 0s 3ms/step - loss: 1.5106 - accuracy: 0.7756 - val_loss: 1.6281 - val_accuracy: 0.8047\n",
      "Epoch 6/100\n",
      "23/23 [==============================] - 0s 4ms/step - loss: 0.8441 - accuracy: 0.7798 - val_loss: 1.1273 - val_accuracy: 0.8047\n",
      "Epoch 7/100\n",
      "23/23 [==============================] - 0s 3ms/step - loss: 0.9238 - accuracy: 0.7770 - val_loss: 0.7691 - val_accuracy: 0.8047\n",
      "Epoch 8/100\n",
      "23/23 [==============================] - 0s 3ms/step - loss: 0.6417 - accuracy: 0.7964 - val_loss: 0.3746 - val_accuracy: 0.8594\n",
      "Epoch 9/100\n",
      "23/23 [==============================] - 0s 3ms/step - loss: 0.7310 - accuracy: 0.7812 - val_loss: 0.4598 - val_accuracy: 0.8203\n",
      "Epoch 10/100\n",
      "23/23 [==============================] - 0s 3ms/step - loss: 0.6344 - accuracy: 0.8033 - val_loss: 0.5780 - val_accuracy: 0.8047\n",
      "Epoch 11/100\n",
      "23/23 [==============================] - 0s 4ms/step - loss: 1.3581 - accuracy: 0.7687 - val_loss: 1.3847 - val_accuracy: 0.8047\n",
      "Epoch 12/100\n",
      "23/23 [==============================] - 0s 3ms/step - loss: 1.6451 - accuracy: 0.7701 - val_loss: 0.3964 - val_accuracy: 0.8516\n",
      "Epoch 13/100\n",
      "23/23 [==============================] - 0s 4ms/step - loss: 0.9019 - accuracy: 0.7424 - val_loss: 0.3967 - val_accuracy: 0.8516\n",
      "Epoch 14/100\n",
      "23/23 [==============================] - 0s 3ms/step - loss: 1.1677 - accuracy: 0.7479 - val_loss: 1.7452 - val_accuracy: 0.8047\n",
      "Epoch 15/100\n",
      "23/23 [==============================] - 0s 4ms/step - loss: 1.0225 - accuracy: 0.7535 - val_loss: 0.5516 - val_accuracy: 0.8281\n",
      "Epoch 16/100\n",
      "23/23 [==============================] - 0s 4ms/step - loss: 1.4320 - accuracy: 0.7673 - val_loss: 2.2703 - val_accuracy: 0.8047\n",
      "Epoch 17/100\n",
      "23/23 [==============================] - 0s 3ms/step - loss: 1.3960 - accuracy: 0.7562 - val_loss: 0.5718 - val_accuracy: 0.6719\n",
      "Epoch 18/100\n",
      " 1/23 [>.............................] - ETA: 0s - loss: 0.8408 - accuracy: 0.4688Restoring model weights from the end of the best epoch: 8.\n",
      "23/23 [==============================] - 0s 4ms/step - loss: 0.8394 - accuracy: 0.7521 - val_loss: 0.3827 - val_accuracy: 0.8594\n",
      "Epoch 18: early stopping\n",
      "              precision    recall  f1-score   support\n",
      "\n",
      "           0       0.91      0.94      0.93       176\n",
      "           1       0.44      0.33      0.38        24\n",
      "\n",
      "    accuracy                           0.87       200\n",
      "   macro avg       0.68      0.64      0.65       200\n",
      "weighted avg       0.86      0.87      0.86       200\n",
      "\n"
     ]
    }
   ],
   "source": [
    "model2.fit(x_train, y_train, epochs=100, verbose=1, callbacks=[es], validation_split=0.15)\n",
    "\n",
    "y_pred2 = model2.predict(x_val)\n",
    "y_pred_dl2 = np.where(y_pred2 > 0.5, 1 , 0)\n",
    "\n",
    "print(classification_report(y_val, y_pred_dl2))"
   ]
  },
  {
   "cell_type": "code",
   "execution_count": 57,
   "metadata": {
    "id": "tK2N3-3_MLgz",
    "scrolled": true
   },
   "outputs": [
    {
     "name": "stdout",
     "output_type": "stream",
     "text": [
      "Epoch 1/100\n",
      "23/23 [==============================] - 1s 11ms/step - loss: 190.9831 - accuracy: 0.5983 - val_loss: 73.3145 - val_accuracy: 0.8047\n",
      "Epoch 2/100\n",
      "23/23 [==============================] - 0s 3ms/step - loss: 44.3107 - accuracy: 0.8338 - val_loss: 1.5522 - val_accuracy: 0.8047\n",
      "Epoch 3/100\n",
      "23/23 [==============================] - 0s 3ms/step - loss: 9.0332 - accuracy: 0.7091 - val_loss: 0.7419 - val_accuracy: 0.8047\n",
      "Epoch 4/100\n",
      "23/23 [==============================] - 0s 4ms/step - loss: 1.4675 - accuracy: 0.7756 - val_loss: 1.6585 - val_accuracy: 0.8047\n",
      "Epoch 5/100\n",
      "23/23 [==============================] - 0s 4ms/step - loss: 2.5408 - accuracy: 0.7659 - val_loss: 1.8717 - val_accuracy: 0.8047\n",
      "Epoch 6/100\n",
      "23/23 [==============================] - 0s 4ms/step - loss: 2.8659 - accuracy: 0.7659 - val_loss: 6.0968 - val_accuracy: 0.8047\n",
      "Epoch 7/100\n",
      "23/23 [==============================] - 0s 4ms/step - loss: 2.5662 - accuracy: 0.7812 - val_loss: 0.4903 - val_accuracy: 0.8125\n",
      "Epoch 8/100\n",
      "23/23 [==============================] - 0s 3ms/step - loss: 2.8352 - accuracy: 0.7452 - val_loss: 5.5828 - val_accuracy: 0.8047\n",
      "Epoch 9/100\n",
      "23/23 [==============================] - 0s 4ms/step - loss: 2.8755 - accuracy: 0.7687 - val_loss: 0.5157 - val_accuracy: 0.7500\n",
      "Epoch 10/100\n",
      "23/23 [==============================] - 0s 4ms/step - loss: 7.5393 - accuracy: 0.7299 - val_loss: 11.8592 - val_accuracy: 0.8047\n",
      "Epoch 11/100\n",
      "23/23 [==============================] - 0s 4ms/step - loss: 5.3924 - accuracy: 0.7396 - val_loss: 3.1051 - val_accuracy: 0.8047\n",
      "Epoch 12/100\n",
      "23/23 [==============================] - 0s 4ms/step - loss: 2.5416 - accuracy: 0.7507 - val_loss: 2.6036 - val_accuracy: 0.8047\n",
      "Epoch 13/100\n",
      "23/23 [==============================] - 0s 3ms/step - loss: 2.1355 - accuracy: 0.7701 - val_loss: 7.4205 - val_accuracy: 0.1953\n",
      "Epoch 14/100\n",
      "23/23 [==============================] - 0s 3ms/step - loss: 2.6448 - accuracy: 0.7271 - val_loss: 1.1035 - val_accuracy: 0.4219\n",
      "Epoch 15/100\n",
      "23/23 [==============================] - 0s 3ms/step - loss: 2.0951 - accuracy: 0.7382 - val_loss: 5.6306 - val_accuracy: 0.8047\n",
      "Epoch 16/100\n",
      "23/23 [==============================] - 0s 4ms/step - loss: 2.4055 - accuracy: 0.7507 - val_loss: 0.9498 - val_accuracy: 0.8203\n",
      "Epoch 17/100\n",
      " 1/23 [>.............................] - ETA: 0s - loss: 0.9464 - accuracy: 0.9062Restoring model weights from the end of the best epoch: 7.\n",
      "23/23 [==============================] - 0s 4ms/step - loss: 5.7646 - accuracy: 0.7452 - val_loss: 9.6524 - val_accuracy: 0.8047\n",
      "Epoch 17: early stopping\n",
      "              precision    recall  f1-score   support\n",
      "\n",
      "           0       0.89      0.80      0.84       176\n",
      "           1       0.15      0.25      0.18        24\n",
      "\n",
      "    accuracy                           0.73       200\n",
      "   macro avg       0.52      0.53      0.51       200\n",
      "weighted avg       0.80      0.73      0.76       200\n",
      "\n"
     ]
    }
   ],
   "source": [
    "model3.fit(x_train, y_train, epochs=100, verbose=1, callbacks=[es], validation_split=0.15)\n",
    "\n",
    "y_pred3 = model3.predict(x_val)\n",
    "y_pred_dl3 = np.where(y_pred3 > 0.5, 1 , 0)\n",
    "\n",
    "print(classification_report(y_val, y_pred_dl3))"
   ]
  },
  {
   "cell_type": "markdown",
   "metadata": {
    "id": "U4UL4ynYL6Ly"
   },
   "source": [
    "## 5.성능 비교\n",
    "* 알고리즘별 선정된 모델이 최소 6개 입니다. 이에 대해 성능을 평가합니다.\n",
    "* 평가를 위한 적절한 지표(metric)을 결정하고 비교합니다.\n",
    "    * 평가지표 선정 이유도 주석으로 기술하시오.\n",
    "* 최종 모델을 선정하게 된 근거를 주석으로 기술하시오."
   ]
  },
  {
   "cell_type": "markdown",
   "metadata": {
    "id": "lKA2UyB6HXfF"
   },
   "source": [
    "### 5.1 평가지표 결정\n",
    "\n",
    "* 어떤 지표로 성능을 비교할지 결정합니다.\n",
    "* 결정 이유를 기술합니다."
   ]
  },
  {
   "cell_type": "markdown",
   "metadata": {},
   "source": [
    "* recall : 실제 값 중에서 맞춘 비율\n",
    "* precision : 예상한 값 중에서 맞춘 비율"
   ]
  },
  {
   "cell_type": "markdown",
   "metadata": {
    "id": "Ta99Rh0IHarR"
   },
   "source": [
    "1. accuracy가 높은 것을 우선으로 평가한다.\n",
    "2. 1의 precision가 높은 것을 우선으로 평가한다.\n",
    "    * 이유 : 예상한 사람들 중에서 실제로 이직하는 사람을 찾아야하기 때문입니다."
   ]
  },
  {
   "cell_type": "markdown",
   "metadata": {
    "id": "-hOx7i2sHi1U"
   },
   "source": [
    "### 5.2 성능 비교"
   ]
  },
  {
   "cell_type": "code",
   "execution_count": 58,
   "metadata": {
    "scrolled": false
   },
   "outputs": [
    {
     "name": "stdout",
     "output_type": "stream",
     "text": [
      "======================================================\n",
      "Logistic Regration\n",
      "------------------------------------------------------\n",
      "              precision    recall  f1-score   support\n",
      "\n",
      "           0       0.91      0.98      0.94       176\n",
      "           1       0.60      0.25      0.35        24\n",
      "\n",
      "    accuracy                           0.89       200\n",
      "   macro avg       0.75      0.61      0.65       200\n",
      "weighted avg       0.87      0.89      0.87       200\n",
      "\n",
      "======================================================\n",
      "Decision Tree\n",
      "------------------------------------------------------\n",
      "              precision    recall  f1-score   support\n",
      "\n",
      "           0       0.89      0.97      0.93       176\n",
      "           1       0.29      0.08      0.13        24\n",
      "\n",
      "    accuracy                           0.86       200\n",
      "   macro avg       0.59      0.53      0.53       200\n",
      "weighted avg       0.81      0.86      0.83       200\n",
      "\n",
      "======================================================\n",
      "KNN\n",
      "------------------------------------------------------\n",
      "              precision    recall  f1-score   support\n",
      "\n",
      "           0       0.88      0.99      0.93       176\n",
      "           1       0.00      0.00      0.00        24\n",
      "\n",
      "    accuracy                           0.88       200\n",
      "   macro avg       0.44      0.50      0.47       200\n",
      "weighted avg       0.77      0.88      0.82       200\n",
      "\n",
      "======================================================\n",
      "SVM\n",
      "------------------------------------------------------\n",
      "              precision    recall  f1-score   support\n",
      "\n",
      "           0       0.91      0.98      0.94       176\n",
      "           1       0.60      0.25      0.35        24\n",
      "\n",
      "    accuracy                           0.89       200\n",
      "   macro avg       0.75      0.61      0.65       200\n",
      "weighted avg       0.87      0.89      0.87       200\n",
      "\n",
      "======================================================\n",
      "Random Forest\n",
      "------------------------------------------------------\n",
      "              precision    recall  f1-score   support\n",
      "\n",
      "           0       0.89      0.97      0.93       176\n",
      "           1       0.29      0.08      0.13        24\n",
      "\n",
      "    accuracy                           0.86       200\n",
      "   macro avg       0.59      0.53      0.53       200\n",
      "weighted avg       0.81      0.86      0.83       200\n",
      "\n",
      "======================================================\n",
      "XGBoost\n",
      "------------------------------------------------------\n",
      "              precision    recall  f1-score   support\n",
      "\n",
      "           0       0.91      0.97      0.94       176\n",
      "           1       0.54      0.29      0.38        24\n",
      "\n",
      "    accuracy                           0.89       200\n",
      "   macro avg       0.72      0.63      0.66       200\n",
      "weighted avg       0.86      0.89      0.87       200\n",
      "\n",
      "======================================================\n",
      "Deep Learning 1\n",
      "------------------------------------------------------\n",
      "              precision    recall  f1-score   support\n",
      "\n",
      "           0       0.91      0.98      0.95       176\n",
      "           1       0.70      0.29      0.41        24\n",
      "\n",
      "    accuracy                           0.90       200\n",
      "   macro avg       0.81      0.64      0.68       200\n",
      "weighted avg       0.89      0.90      0.88       200\n",
      "\n",
      "======================================================\n",
      "Deep Learning 2\n",
      "------------------------------------------------------\n",
      "              precision    recall  f1-score   support\n",
      "\n",
      "           0       0.91      0.94      0.93       176\n",
      "           1       0.44      0.33      0.38        24\n",
      "\n",
      "    accuracy                           0.87       200\n",
      "   macro avg       0.68      0.64      0.65       200\n",
      "weighted avg       0.86      0.87      0.86       200\n",
      "\n",
      "======================================================\n",
      "Deep Learning 3\n",
      "------------------------------------------------------\n",
      "              precision    recall  f1-score   support\n",
      "\n",
      "           0       0.89      0.80      0.84       176\n",
      "           1       0.15      0.25      0.18        24\n",
      "\n",
      "    accuracy                           0.73       200\n",
      "   macro avg       0.52      0.53      0.51       200\n",
      "weighted avg       0.80      0.73      0.76       200\n",
      "\n"
     ]
    }
   ],
   "source": [
    "print('='*54)\n",
    "print('Logistic Regration')\n",
    "print('-'*54)\n",
    "print(classification_report(y_val, y_pred_lr))\n",
    "print('='*54)\n",
    "print('Decision Tree')\n",
    "print('-'*54)\n",
    "print(classification_report(y_val, val_pred_dt))\n",
    "print('='*54)\n",
    "print('KNN')\n",
    "print('-'*54)\n",
    "print(classification_report(y_val, val_pred_knn))\n",
    "print('='*54)\n",
    "print('SVM')\n",
    "print('-'*54)\n",
    "print(classification_report(y_val, val_pred_svm))\n",
    "print('='*54)\n",
    "print('Random Forest')\n",
    "print('-'*54)\n",
    "print(classification_report(y_val, val_pred_rf))\n",
    "print('='*54)\n",
    "print('XGBoost')\n",
    "print('-'*54)\n",
    "print(classification_report(y_val, val_pred_xgb))\n",
    "print('='*54)\n",
    "print('Deep Learning 1')\n",
    "print('-'*54)\n",
    "print(classification_report(y_val, y_pred_dl1))\n",
    "print('='*54)\n",
    "print('Deep Learning 2')\n",
    "print('-'*54)\n",
    "print(classification_report(y_val, y_pred_dl2))\n",
    "print('='*54)\n",
    "print('Deep Learning 3')\n",
    "print('-'*54)\n",
    "print(classification_report(y_val, y_pred_dl3))"
   ]
  },
  {
   "cell_type": "markdown",
   "metadata": {},
   "source": [
    "* 성능 확인"
   ]
  },
  {
   "cell_type": "code",
   "execution_count": 59,
   "metadata": {
    "id": "-Qo9AvO-OVkQ"
   },
   "outputs": [],
   "source": [
    "y_pred = model1.predict(x_test)\n",
    "y_pred = np.where(y_pred > 0.5, 1 , 0)"
   ]
  },
  {
   "cell_type": "code",
   "execution_count": 60,
   "metadata": {
    "id": "FXgib3TYOVwH"
   },
   "outputs": [
    {
     "name": "stdout",
     "output_type": "stream",
     "text": [
      "              precision    recall  f1-score   support\n",
      "\n",
      "           0       0.90      0.94      0.92       169\n",
      "           1       0.57      0.42      0.48        31\n",
      "\n",
      "    accuracy                           0.86       200\n",
      "   macro avg       0.73      0.68      0.70       200\n",
      "weighted avg       0.85      0.86      0.85       200\n",
      "\n"
     ]
    }
   ],
   "source": [
    "print(classification_report(y_test, y_pred))"
   ]
  },
  {
   "cell_type": "code",
   "execution_count": null,
   "metadata": {},
   "outputs": [],
   "source": []
  },
  {
   "cell_type": "markdown",
   "metadata": {
    "id": "6G2XVI7sklqQ"
   },
   "source": [
    "#### 1) StockOptionLevel  --> Attrtion"
   ]
  },
  {
   "cell_type": "code",
   "execution_count": 73,
   "metadata": {
    "id": "EWXtZEr_X0ok"
   },
   "outputs": [],
   "source": [
    "from statsmodels.graphics.mosaicplot import mosaic\n",
    "from scipy import stats as spst\n",
    "import statsmodels.api as sm"
   ]
  },
  {
   "cell_type": "markdown",
   "metadata": {
    "id": "sq4qjPyrXkS3"
   },
   "source": [
    "① 교차표(pd.crosstab())"
   ]
  },
  {
   "cell_type": "code",
   "execution_count": 68,
   "metadata": {
    "id": "qkS8v_BxX3Gk"
   },
   "outputs": [
    {
     "data": {
      "text/html": [
       "<div>\n",
       "<style scoped>\n",
       "    .dataframe tbody tr th:only-of-type {\n",
       "        vertical-align: middle;\n",
       "    }\n",
       "\n",
       "    .dataframe tbody tr th {\n",
       "        vertical-align: top;\n",
       "    }\n",
       "\n",
       "    .dataframe thead th {\n",
       "        text-align: right;\n",
       "    }\n",
       "</style>\n",
       "<table border=\"1\" class=\"dataframe\">\n",
       "  <thead>\n",
       "    <tr style=\"text-align: right;\">\n",
       "      <th>StockOptionLevel</th>\n",
       "      <th>0</th>\n",
       "      <th>1</th>\n",
       "      <th>2</th>\n",
       "      <th>3</th>\n",
       "    </tr>\n",
       "    <tr>\n",
       "      <th>Attrition</th>\n",
       "      <th></th>\n",
       "      <th></th>\n",
       "      <th></th>\n",
       "      <th></th>\n",
       "    </tr>\n",
       "  </thead>\n",
       "  <tbody>\n",
       "    <tr>\n",
       "      <th>0</th>\n",
       "      <td>403</td>\n",
       "      <td>464</td>\n",
       "      <td>123</td>\n",
       "      <td>60</td>\n",
       "    </tr>\n",
       "    <tr>\n",
       "      <th>1</th>\n",
       "      <td>131</td>\n",
       "      <td>45</td>\n",
       "      <td>12</td>\n",
       "      <td>12</td>\n",
       "    </tr>\n",
       "  </tbody>\n",
       "</table>\n",
       "</div>"
      ],
      "text/plain": [
       "StockOptionLevel    0    1    2   3\n",
       "Attrition                          \n",
       "0                 403  464  123  60\n",
       "1                 131   45   12  12"
      ]
     },
     "execution_count": 68,
     "metadata": {},
     "output_type": "execute_result"
    }
   ],
   "source": [
    "pd.crosstab(data['Attrition'], data['StockOptionLevel'])"
   ]
  },
  {
   "cell_type": "markdown",
   "metadata": {
    "id": "s2QiOyPmZ1Sy"
   },
   "source": [
    "② 시각화( Stacked Bar, Mosaic)"
   ]
  },
  {
   "cell_type": "code",
   "execution_count": 70,
   "metadata": {},
   "outputs": [],
   "source": [
    "gender_cros = pd.crosstab(data['StockOptionLevel'], data['Attrition'], normalize='index')"
   ]
  },
  {
   "cell_type": "code",
   "execution_count": 71,
   "metadata": {
    "id": "eLZgTrQqYciB"
   },
   "outputs": [
    {
     "data": {
      "image/png": "[encoded data removed]",
      "text/plain": [
       "<Figure size 432x288 with 1 Axes>"
      ]
     },
     "metadata": {
      "needs_background": "light"
     },
     "output_type": "display_data"
    }
   ],
   "source": [
    "gender_cros.plot.bar(stacked=True)\n",
    "plt.axhline(1-data['Attrition'].mean(), color='r')\n",
    "plt.show()"
   ]
  },
  {
   "cell_type": "code",
   "execution_count": 74,
   "metadata": {
    "id": "RVjIC6RsaQfv"
   },
   "outputs": [
    {
     "data": {
      "image/png": "[encoded data removed]",
      "text/plain": [
       "<Figure size 432x288 with 3 Axes>"
      ]
     },
     "metadata": {
      "needs_background": "light"
     },
     "output_type": "display_data"
    }
   ],
   "source": [
    "mosaic(data, [ 'StockOptionLevel','Attrition'])\n",
    "plt.axhline(1-data['Attrition'].mean(), color = 'r')\n",
    "plt.show()"
   ]
  },
  {
   "cell_type": "markdown",
   "metadata": {
    "id": "6G2XVI7sklqQ"
   },
   "source": [
    "#### 1) JobRole  --> Attrtion"
   ]
  },
  {
   "cell_type": "markdown",
   "metadata": {
    "id": "sq4qjPyrXkS3"
   },
   "source": [
    "① 교차표(pd.crosstab())"
   ]
  },
  {
   "cell_type": "code",
   "execution_count": 77,
   "metadata": {
    "id": "qkS8v_BxX3Gk"
   },
   "outputs": [
    {
     "data": {
      "text/html": [
       "<div>\n",
       "<style scoped>\n",
       "    .dataframe tbody tr th:only-of-type {\n",
       "        vertical-align: middle;\n",
       "    }\n",
       "\n",
       "    .dataframe tbody tr th {\n",
       "        vertical-align: top;\n",
       "    }\n",
       "\n",
       "    .dataframe thead th {\n",
       "        text-align: right;\n",
       "    }\n",
       "</style>\n",
       "<table border=\"1\" class=\"dataframe\">\n",
       "  <thead>\n",
       "    <tr style=\"text-align: right;\">\n",
       "      <th>JobRole</th>\n",
       "      <th>Healthcare Representative</th>\n",
       "      <th>Human Resources</th>\n",
       "      <th>Laboratory Technician</th>\n",
       "      <th>Manager</th>\n",
       "      <th>Manufacturing Director</th>\n",
       "      <th>Research Director</th>\n",
       "      <th>Research Scientist</th>\n",
       "      <th>Sales Executive</th>\n",
       "      <th>Sales Representative</th>\n",
       "    </tr>\n",
       "    <tr>\n",
       "      <th>Attrition</th>\n",
       "      <th></th>\n",
       "      <th></th>\n",
       "      <th></th>\n",
       "      <th></th>\n",
       "      <th></th>\n",
       "      <th></th>\n",
       "      <th></th>\n",
       "      <th></th>\n",
       "      <th></th>\n",
       "    </tr>\n",
       "  </thead>\n",
       "  <tbody>\n",
       "    <tr>\n",
       "      <th>0</th>\n",
       "      <td>102</td>\n",
       "      <td>35</td>\n",
       "      <td>172</td>\n",
       "      <td>83</td>\n",
       "      <td>114</td>\n",
       "      <td>66</td>\n",
       "      <td>207</td>\n",
       "      <td>233</td>\n",
       "      <td>38</td>\n",
       "    </tr>\n",
       "    <tr>\n",
       "      <th>1</th>\n",
       "      <td>8</td>\n",
       "      <td>8</td>\n",
       "      <td>55</td>\n",
       "      <td>4</td>\n",
       "      <td>9</td>\n",
       "      <td>0</td>\n",
       "      <td>39</td>\n",
       "      <td>50</td>\n",
       "      <td>27</td>\n",
       "    </tr>\n",
       "  </tbody>\n",
       "</table>\n",
       "</div>"
      ],
      "text/plain": [
       "JobRole    Healthcare Representative  Human Resources  Laboratory Technician  \\\n",
       "Attrition                                                                      \n",
       "0                                102               35                    172   \n",
       "1                                  8                8                     55   \n",
       "\n",
       "JobRole    Manager  Manufacturing Director  Research Director  \\\n",
       "Attrition                                                       \n",
       "0               83                     114                 66   \n",
       "1                4                       9                  0   \n",
       "\n",
       "JobRole    Research Scientist  Sales Executive  Sales Representative  \n",
       "Attrition                                                             \n",
       "0                         207              233                    38  \n",
       "1                          39               50                    27  "
      ]
     },
     "execution_count": 77,
     "metadata": {},
     "output_type": "execute_result"
    }
   ],
   "source": [
    "pd.crosstab(data['Attrition'], data['JobRole'])"
   ]
  },
  {
   "cell_type": "markdown",
   "metadata": {
    "id": "s2QiOyPmZ1Sy"
   },
   "source": [
    "② 시각화( Stacked Bar, Mosaic)"
   ]
  },
  {
   "cell_type": "code",
   "execution_count": 78,
   "metadata": {},
   "outputs": [],
   "source": [
    "gender_cros = pd.crosstab(data['JobRole'], data['Attrition'], normalize='index')"
   ]
  },
  {
   "cell_type": "code",
   "execution_count": 79,
   "metadata": {
    "id": "eLZgTrQqYciB"
   },
   "outputs": [
    {
     "data": {
      "image/png": "[encoded data removed]",
      "text/plain": [
       "<Figure size 432x288 with 1 Axes>"
      ]
     },
     "metadata": {
      "needs_background": "light"
     },
     "output_type": "display_data"
    }
   ],
   "source": [
    "gender_cros.plot.bar(stacked=True)\n",
    "plt.axhline(1-data['Attrition'].mean(), color='r')\n",
    "plt.show()"
   ]
  },
  {
   "cell_type": "code",
   "execution_count": 83,
   "metadata": {
    "id": "RVjIC6RsaQfv"
   },
   "outputs": [
    {
     "data": {
      "image/png": "[encoded data removed]",
      "text/plain": [
       "<Figure size 432x288 with 3 Axes>"
      ]
     },
     "metadata": {
      "needs_background": "light"
     },
     "output_type": "display_data"
    }
   ],
   "source": [
    "mosaic(data, [ 'JobRole','Attrition'])\n",
    "plt.axhline(1-data['Attrition'].mean(), color = 'r')\n",
    "plt.show()"
   ]
  }
 ],
 "metadata": {
  "colab": {
   "collapsed_sections": [],
   "name": "과제2. 직원 이직 분석.ipynb",
   "provenance": [],
   "toc_visible": true
  },
  "kernelspec": {
   "display_name": "Python 3",
   "language": "python",
   "name": "python3"
  },
  "language_info": {
   "codemirror_mode": {
    "name": "ipython",
    "version": 3
   },
   "file_extension": ".py",
   "mimetype": "text/x-python",
   "name": "python",
   "nbconvert_exporter": "python",
   "pygments_lexer": "ipython3",
   "version": "3.8.8"
  }
 },
 "nbformat": 4,
 "nbformat_minor": 4
}
