{
 "cells": [
  {
   "cell_type": "markdown",
   "metadata": {
    "id": "y1J78TFSRrSA"
   },
   "source": [
    "<center><img src='https://raw.githubusercontent.com/Jangrae/img/master/ml_python.png' width=600/></center>"
   ]
  },
  {
   "cell_type": "markdown",
   "metadata": {
    "id": "30WC6LUaHGdk"
   },
   "source": [
    "# 실습 내용\n",
    "\n",
    "- Random Search + Grid Search로 Decision Tree 알고리즘 모델을 튜닝합니다.\n"
   ]
  },
  {
   "cell_type": "markdown",
   "metadata": {
    "id": "WW5MoKVRHuE8"
   },
   "source": [
    "# 1.환경 준비\n",
    "\n",
    "- 기본 라이브러리와 대상 데이터를 가져와 이후 과정을 준비합니다."
   ]
  },
  {
   "cell_type": "code",
   "execution_count": null,
   "metadata": {
    "id": "BzJjQX4lNdJr",
    "scrolled": true
   },
   "outputs": [],
   "source": [
    "# 라이브러리 불러오기\n",
    "import numpy as np\n",
    "import pandas as pd\n",
    "import matplotlib.pyplot as plt\n",
    "import seaborn as sns\n",
    "\n",
    "%config InlineBackend.figure_format='retina'"
   ]
  },
  {
   "cell_type": "code",
   "execution_count": null,
   "metadata": {
    "id": "1yPDiJ4NNdJs"
   },
   "outputs": [],
   "source": [
    "# 데이터 읽어오기\n",
    "path = 'https://raw.githubusercontent.com/jangrae/csv/master/income_happy.csv'\n",
    "data = pd.read_csv(path)"
   ]
  },
  {
   "cell_type": "markdown",
   "metadata": {
    "id": "ZJOddHq2zfcU"
   },
   "source": [
    "# 2.데이터 이해\n",
    "\n",
    "- 분석할 데이터를 충분히 이해할 수 있도록 다양한 탐색 과정을 수행합니다."
   ]
  },
  {
   "cell_type": "code",
   "execution_count": null,
   "metadata": {
    "colab": {
     "base_uri": "https://localhost:8080/",
     "height": 206
    },
    "executionInfo": {
     "elapsed": 13,
     "status": "ok",
     "timestamp": 1641479532624,
     "user": {
      "displayName": "Jangrae Lee",
      "photoUrl": "https://lh3.googleusercontent.com/a-/AOh14Gh1Pd8OuWJU2cv7uTt-fURrgvty7atx_Wtarmx0-A=s64",
      "userId": "08475661575434032088"
     },
     "user_tz": -540
    },
    "id": "Wzs1nS348uwE",
    "outputId": "256dd934-86fe-4dfa-c2a5-af9ed60856e2"
   },
   "outputs": [],
   "source": [
    "# 상위 몇 개 행 확인\n",
    "data.head()"
   ]
  },
  {
   "cell_type": "code",
   "execution_count": null,
   "metadata": {
    "colab": {
     "base_uri": "https://localhost:8080/",
     "height": 300
    },
    "executionInfo": {
     "elapsed": 11,
     "status": "ok",
     "timestamp": 1641479532625,
     "user": {
      "displayName": "Jangrae Lee",
      "photoUrl": "https://lh3.googleusercontent.com/a-/AOh14Gh1Pd8OuWJU2cv7uTt-fURrgvty7atx_Wtarmx0-A=s64",
      "userId": "08475661575434032088"
     },
     "user_tz": -540
    },
    "id": "LhAk04Uy4Occ",
    "outputId": "e2e5886c-2a42-4b91-b209-490de022581d"
   },
   "outputs": [],
   "source": [
    "# 기초통계량 확인\n",
    "data.describe()"
   ]
  },
  {
   "cell_type": "markdown",
   "metadata": {
    "id": "wW0d0eGmCYJM"
   },
   "source": [
    "# 3.데이터 준비\n",
    "\n",
    "- 전처리 과정을 통해 머신러닝 알고리즘에 사용할 수 있는 형태의 데이터를 준비합니다."
   ]
  },
  {
   "cell_type": "markdown",
   "metadata": {
    "id": "3cPr1J1RQyHa"
   },
   "source": [
    "**1) x, y 분리**"
   ]
  },
  {
   "cell_type": "code",
   "execution_count": null,
   "metadata": {
    "id": "fK-oriQsQyHw"
   },
   "outputs": [],
   "source": [
    "# target 확인\n",
    "target = 'happiness'\n",
    "\n",
    "# 데이터 분리\n",
    "x = data.drop(target, axis=1)\n",
    "y = data[target]"
   ]
  },
  {
   "cell_type": "markdown",
   "metadata": {
    "id": "nc6yw1RzQ7g1"
   },
   "source": [
    "**2) 학습용, 평가용 데이터 분리**"
   ]
  },
  {
   "cell_type": "code",
   "execution_count": null,
   "metadata": {
    "id": "Kx7xyBwfQ35W"
   },
   "outputs": [],
   "source": [
    "# 모듈 불러오기\n",
    "from sklearn.model_selection import train_test_split\n",
    "\n",
    "# 데이터 분리\n",
    "x_train, x_test, y_train, y_test = train_test_split(x, y, test_size=0.3, random_state=2022)"
   ]
  },
  {
   "cell_type": "markdown",
   "metadata": {
    "id": "m-EyKFHUtpI2"
   },
   "source": [
    "# 4.모델링\n",
    "\n",
    "\n",
    "- RandomizedSearchCV를 사용해 최선의 하이퍼파라미터 값을 찾습니다.\n",
    "- GridSearchCV를 사용해 앞에서 얻은 값 주변 값에 대한 성능을 확인합니다."
   ]
  },
  {
   "cell_type": "markdown",
   "metadata": {
    "id": "vFYPwKfxRAfx"
   },
   "source": [
    "## 4.1.Randon Search\n",
    "\n",
    "- RandomizedSearchCV를 사용해 최선의 하이퍼파라미터 값을 찾습니다."
   ]
  },
  {
   "cell_type": "code",
   "execution_count": null,
   "metadata": {
    "id": "Z6IU6K1YbFYM"
   },
   "outputs": [],
   "source": [
    "# 1단계: 불러오기\n",
    "from sklearn.tree import DecisionTreeRegressor\n",
    "from sklearn.model_selection import RandomizedSearchCV, GridSearchCV\n",
    "from sklearn.metrics import mean_absolute_error, r2_score"
   ]
  },
  {
   "cell_type": "code",
   "execution_count": null,
   "metadata": {
    "id": "G8AGCijmbFYN"
   },
   "outputs": [],
   "source": [
    "# 2단계: 선언하기\n",
    "model_dt = DecisionTreeRegressor(random_state=2022)\n",
    "\n",
    "# 파라미터 선언\n",
    "  # max_depth: 1~20\n",
    "param = {'max_depth': range(1, 21)}\n",
    "\n",
    "# Random Search 선언\n",
    "  # cv=5\n",
    "  # n_iter=10\n",
    "  # scoring='r2'\n",
    "model = RandomizedSearchCV(model_dt,      # 기본 모델 이름\n",
    "                           param,         # 앞에서 선언한 튜닝용 파라미터 변수\n",
    "                           cv=5,          # k-Fold CV (default=5)\n",
    "                           n_iter=10,     # Random하게 시도할 횟수 (default=10)\n",
    "                           scoring='r2')  # 평가 방법"
   ]
  },
  {
   "cell_type": "code",
   "execution_count": null,
   "metadata": {
    "colab": {
     "base_uri": "https://localhost:8080/"
    },
    "executionInfo": {
     "elapsed": 1305,
     "status": "ok",
     "timestamp": 1641470991595,
     "user": {
      "displayName": "Jangrae Lee",
      "photoUrl": "https://lh3.googleusercontent.com/a-/AOh14Gh1Pd8OuWJU2cv7uTt-fURrgvty7atx_Wtarmx0-A=s64",
      "userId": "08475661575434032088"
     },
     "user_tz": -540
    },
    "id": "HFVR5ILFbFYO",
    "outputId": "614a515c-4687-4fb5-d462-eec1a97fcb92"
   },
   "outputs": [],
   "source": [
    "# 3단계: 학습하기\n",
    "model.fit(x_train, y_train)"
   ]
  },
  {
   "cell_type": "code",
   "execution_count": null,
   "metadata": {
    "colab": {
     "base_uri": "https://localhost:8080/"
    },
    "executionInfo": {
     "elapsed": 357,
     "status": "ok",
     "timestamp": 1641471042048,
     "user": {
      "displayName": "Jangrae Lee",
      "photoUrl": "https://lh3.googleusercontent.com/a-/AOh14Gh1Pd8OuWJU2cv7uTt-fURrgvty7atx_Wtarmx0-A=s64",
      "userId": "08475661575434032088"
     },
     "user_tz": -540
    },
    "id": "JBSJkCx6Jl5w",
    "outputId": "eeec8e1b-d0a7-4d76-d75b-684aa17d3d9b"
   },
   "outputs": [],
   "source": [
    "# 선택된 파라미터와 성능 확인\n",
    "print('최적파라미터:', model.best_params_)\n",
    "print('성능:', model.best_score_)"
   ]
  },
  {
   "cell_type": "markdown",
   "metadata": {
    "id": "iCnH_1KtB97j"
   },
   "source": [
    "## 4.2.Grid Search\n",
    "\n",
    "- GridSearchCV를 사용해 앞에서 얻은 값 주변 값에 대한 성능을 확인합니다."
   ]
  },
  {
   "cell_type": "code",
   "execution_count": null,
   "metadata": {
    "id": "G8AGCijmbFYN"
   },
   "outputs": [],
   "source": [
    "# 2단계: 선언하기\n",
    "# model_dt = DecisionTreeRegressor(random_state=2022)\n",
    "\n",
    "# 파라미터 선언\n",
    "\n",
    "\n",
    "# Grid Search 선언\n",
    "  # cv=5\n",
    "  # scoring='r2'\n",
    "\n",
    "\n"
   ]
  },
  {
   "cell_type": "code",
   "execution_count": null,
   "metadata": {
    "colab": {
     "base_uri": "https://localhost:8080/"
    },
    "executionInfo": {
     "elapsed": 1305,
     "status": "ok",
     "timestamp": 1641470991595,
     "user": {
      "displayName": "Jangrae Lee",
      "photoUrl": "https://lh3.googleusercontent.com/a-/AOh14Gh1Pd8OuWJU2cv7uTt-fURrgvty7atx_Wtarmx0-A=s64",
      "userId": "08475661575434032088"
     },
     "user_tz": -540
    },
    "id": "HFVR5ILFbFYO",
    "outputId": "614a515c-4687-4fb5-d462-eec1a97fcb92"
   },
   "outputs": [],
   "source": [
    "# 3단계: 학습하기\n"
   ]
  },
  {
   "cell_type": "code",
   "execution_count": null,
   "metadata": {
    "colab": {
     "base_uri": "https://localhost:8080/"
    },
    "executionInfo": {
     "elapsed": 357,
     "status": "ok",
     "timestamp": 1641471042048,
     "user": {
      "displayName": "Jangrae Lee",
      "photoUrl": "https://lh3.googleusercontent.com/a-/AOh14Gh1Pd8OuWJU2cv7uTt-fURrgvty7atx_Wtarmx0-A=s64",
      "userId": "08475661575434032088"
     },
     "user_tz": -540
    },
    "id": "JBSJkCx6Jl5w",
    "outputId": "eeec8e1b-d0a7-4d76-d75b-684aa17d3d9b"
   },
   "outputs": [],
   "source": [
    "# 선택된 파라미터와 성능 확인\n",
    "\n"
   ]
  },
  {
   "cell_type": "markdown",
   "metadata": {
    "id": "iCnH_1KtB97j"
   },
   "source": [
    "## 4.3.예측과 평가\n",
    "\n",
    "- 모델이 최적 파라미터 값으로 학습된 상태이니 바로 예측과 평가가 가능합니다."
   ]
  },
  {
   "cell_type": "code",
   "execution_count": null,
   "metadata": {
    "id": "hL4VPE0ZbFYR"
   },
   "outputs": [],
   "source": [
    "# 4단계: 예측하기\n"
   ]
  },
  {
   "cell_type": "code",
   "execution_count": null,
   "metadata": {
    "colab": {
     "base_uri": "https://localhost:8080/"
    },
    "executionInfo": {
     "elapsed": 2,
     "status": "ok",
     "timestamp": 1641471135926,
     "user": {
      "displayName": "Jangrae Lee",
      "photoUrl": "https://lh3.googleusercontent.com/a-/AOh14Gh1Pd8OuWJU2cv7uTt-fURrgvty7atx_Wtarmx0-A=s64",
      "userId": "08475661575434032088"
     },
     "user_tz": -540
    },
    "id": "R1j5TCkObFYS",
    "outputId": "3aad36b7-151a-475e-f91f-f6f91ad03055"
   },
   "outputs": [],
   "source": [
    "# 5단계: 평가하기\n",
    "\n"
   ]
  }
 ],
 "metadata": {
  "colab": {
   "collapsed_sections": [],
   "name": "ML05_01_RandomSearch(결정트리,Happy).ipynb",
   "provenance": []
  },
  "kernelspec": {
   "display_name": "Python 3",
   "language": "python",
   "name": "python3"
  },
  "language_info": {
   "codemirror_mode": {
    "name": "ipython",
    "version": 3
   },
   "file_extension": ".py",
   "mimetype": "text/x-python",
   "name": "python",
   "nbconvert_exporter": "python",
   "pygments_lexer": "ipython3",
   "version": "3.8.8"
  }
 },
 "nbformat": 4,
 "nbformat_minor": 1
}
