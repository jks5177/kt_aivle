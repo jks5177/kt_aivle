{
 "cells": [
  {
   "cell_type": "markdown",
   "id": "wo-iPN8Y1V5r",
   "metadata": {
    "id": "wo-iPN8Y1V5r"
   },
   "source": [
    "# Data Pipeline\n",
    "\n",
    "* 이제 여러분은 코드를 작성할 때, 두 가지를 고려해야 합니다.\n",
    "    * 재사용 하려면 어떻게 작성해야 할까?\n",
    "    * 물 흐르듯이 pipeline을 구성하려면 어떻게 작성해야 할까?"
   ]
  },
  {
   "cell_type": "code",
   "execution_count": null,
   "id": "Du3Bx9mv1VCf",
   "metadata": {
    "id": "Du3Bx9mv1VCf"
   },
   "outputs": [],
   "source": []
  },
  {
   "cell_type": "markdown",
   "id": "gvFaKcmP1cwc",
   "metadata": {
    "id": "gvFaKcmP1cwc"
   },
   "source": [
    "## 0.환경준비 "
   ]
  },
  {
   "cell_type": "markdown",
   "id": "zWYL7Ojt1i_I",
   "metadata": {
    "id": "zWYL7Ojt1i_I"
   },
   "source": [
    "### 1) 라이브러리 "
   ]
  },
  {
   "cell_type": "code",
   "execution_count": 1,
   "id": "0d2934eb-098d-4480-8818-9147e3e8eb13",
   "metadata": {
    "id": "0d2934eb-098d-4480-8818-9147e3e8eb13"
   },
   "outputs": [],
   "source": [
    "import pandas as pd\n",
    "import numpy as np\n",
    "\n",
    "from sklearn.model_selection import train_test_split\n",
    "from sklearn.impute import SimpleImputer, KNNImputer\n",
    "from sklearn.preprocessing import MinMaxScaler\n",
    "\n",
    "from sklearn.svm import SVC\n",
    "from sklearn.metrics import classification_report"
   ]
  },
  {
   "cell_type": "markdown",
   "id": "kxg4SHQ91lMZ",
   "metadata": {
    "id": "kxg4SHQ91lMZ"
   },
   "source": [
    "### 2) 데이터 불러오기"
   ]
  },
  {
   "cell_type": "code",
   "execution_count": 2,
   "id": "29715899-12f6-440a-81b0-a3bb48996b30",
   "metadata": {
    "id": "29715899-12f6-440a-81b0-a3bb48996b30"
   },
   "outputs": [
    {
     "data": {
      "text/html": [
       "<div>\n",
       "<style scoped>\n",
       "    .dataframe tbody tr th:only-of-type {\n",
       "        vertical-align: middle;\n",
       "    }\n",
       "\n",
       "    .dataframe tbody tr th {\n",
       "        vertical-align: top;\n",
       "    }\n",
       "\n",
       "    .dataframe thead th {\n",
       "        text-align: right;\n",
       "    }\n",
       "</style>\n",
       "<table border=\"1\" class=\"dataframe\">\n",
       "  <thead>\n",
       "    <tr style=\"text-align: right;\">\n",
       "      <th></th>\n",
       "      <th>PassengerId</th>\n",
       "      <th>Survived</th>\n",
       "      <th>Pclass</th>\n",
       "      <th>Name</th>\n",
       "      <th>Sex</th>\n",
       "      <th>Age</th>\n",
       "      <th>SibSp</th>\n",
       "      <th>Parch</th>\n",
       "      <th>Ticket</th>\n",
       "      <th>Fare</th>\n",
       "      <th>Cabin</th>\n",
       "      <th>Embarked</th>\n",
       "    </tr>\n",
       "  </thead>\n",
       "  <tbody>\n",
       "    <tr>\n",
       "      <th>0</th>\n",
       "      <td>1</td>\n",
       "      <td>0</td>\n",
       "      <td>3</td>\n",
       "      <td>Braund, Mr. Owen Harris</td>\n",
       "      <td>male</td>\n",
       "      <td>22.0</td>\n",
       "      <td>1</td>\n",
       "      <td>0</td>\n",
       "      <td>A/5 21171</td>\n",
       "      <td>7.2500</td>\n",
       "      <td>NaN</td>\n",
       "      <td>S</td>\n",
       "    </tr>\n",
       "    <tr>\n",
       "      <th>1</th>\n",
       "      <td>2</td>\n",
       "      <td>1</td>\n",
       "      <td>1</td>\n",
       "      <td>Cumings, Mrs. John Bradley (Florence Briggs Th...</td>\n",
       "      <td>female</td>\n",
       "      <td>38.0</td>\n",
       "      <td>1</td>\n",
       "      <td>0</td>\n",
       "      <td>PC 17599</td>\n",
       "      <td>71.2833</td>\n",
       "      <td>C85</td>\n",
       "      <td>C</td>\n",
       "    </tr>\n",
       "    <tr>\n",
       "      <th>2</th>\n",
       "      <td>3</td>\n",
       "      <td>1</td>\n",
       "      <td>3</td>\n",
       "      <td>Heikkinen, Miss. Laina</td>\n",
       "      <td>female</td>\n",
       "      <td>26.0</td>\n",
       "      <td>0</td>\n",
       "      <td>0</td>\n",
       "      <td>STON/O2. 3101282</td>\n",
       "      <td>7.9250</td>\n",
       "      <td>NaN</td>\n",
       "      <td>S</td>\n",
       "    </tr>\n",
       "    <tr>\n",
       "      <th>3</th>\n",
       "      <td>4</td>\n",
       "      <td>1</td>\n",
       "      <td>1</td>\n",
       "      <td>Futrelle, Mrs. Jacques Heath (Lily May Peel)</td>\n",
       "      <td>female</td>\n",
       "      <td>35.0</td>\n",
       "      <td>1</td>\n",
       "      <td>0</td>\n",
       "      <td>113803</td>\n",
       "      <td>53.1000</td>\n",
       "      <td>C123</td>\n",
       "      <td>S</td>\n",
       "    </tr>\n",
       "    <tr>\n",
       "      <th>4</th>\n",
       "      <td>5</td>\n",
       "      <td>0</td>\n",
       "      <td>3</td>\n",
       "      <td>Allen, Mr. William Henry</td>\n",
       "      <td>male</td>\n",
       "      <td>35.0</td>\n",
       "      <td>0</td>\n",
       "      <td>0</td>\n",
       "      <td>373450</td>\n",
       "      <td>8.0500</td>\n",
       "      <td>NaN</td>\n",
       "      <td>S</td>\n",
       "    </tr>\n",
       "  </tbody>\n",
       "</table>\n",
       "</div>"
      ],
      "text/plain": [
       "   PassengerId  Survived  Pclass  \\\n",
       "0            1         0       3   \n",
       "1            2         1       1   \n",
       "2            3         1       3   \n",
       "3            4         1       1   \n",
       "4            5         0       3   \n",
       "\n",
       "                                                Name     Sex   Age  SibSp  \\\n",
       "0                            Braund, Mr. Owen Harris    male  22.0      1   \n",
       "1  Cumings, Mrs. John Bradley (Florence Briggs Th...  female  38.0      1   \n",
       "2                             Heikkinen, Miss. Laina  female  26.0      0   \n",
       "3       Futrelle, Mrs. Jacques Heath (Lily May Peel)  female  35.0      1   \n",
       "4                           Allen, Mr. William Henry    male  35.0      0   \n",
       "\n",
       "   Parch            Ticket     Fare Cabin Embarked  \n",
       "0      0         A/5 21171   7.2500   NaN        S  \n",
       "1      0          PC 17599  71.2833   C85        C  \n",
       "2      0  STON/O2. 3101282   7.9250   NaN        S  \n",
       "3      0            113803  53.1000  C123        S  \n",
       "4      0            373450   8.0500   NaN        S  "
      ]
     },
     "execution_count": 2,
     "metadata": {},
     "output_type": "execute_result"
    }
   ],
   "source": [
    "data = pd.read_csv('https://bit.ly/3FsgwkJ')\n",
    "data.head()"
   ]
  },
  {
   "cell_type": "markdown",
   "id": "CvRIe0yEoYAH",
   "metadata": {
    "id": "CvRIe0yEoYAH"
   },
   "source": [
    "## 1.데이터 이해"
   ]
  },
  {
   "cell_type": "markdown",
   "id": "ebk_wcdx1zkK",
   "metadata": {
    "id": "ebk_wcdx1zkK"
   },
   "source": [
    "## 2.데이터 전처리\n",
    "\n",
    "* 여러분은 **순서**에 집중하십시오.\n",
    "* **처리 순서**가 적절한지, 왜 그런지 의문을 갖고 설명을 들으세요."
   ]
  },
  {
   "cell_type": "markdown",
   "id": "XDfKLZPE4dvx",
   "metadata": {
    "id": "XDfKLZPE4dvx"
   },
   "source": [
    "### 1) 불필요한 데이터 처리\n",
    "처음부터 꼭 필요한 칼럼만 지정하여 불러오는 것이 좋습니다."
   ]
  },
  {
   "cell_type": "code",
   "execution_count": 3,
   "id": "TCTLYGFX4uUo",
   "metadata": {
    "id": "TCTLYGFX4uUo"
   },
   "outputs": [
    {
     "data": {
      "text/html": [
       "<div>\n",
       "<style scoped>\n",
       "    .dataframe tbody tr th:only-of-type {\n",
       "        vertical-align: middle;\n",
       "    }\n",
       "\n",
       "    .dataframe tbody tr th {\n",
       "        vertical-align: top;\n",
       "    }\n",
       "\n",
       "    .dataframe thead th {\n",
       "        text-align: right;\n",
       "    }\n",
       "</style>\n",
       "<table border=\"1\" class=\"dataframe\">\n",
       "  <thead>\n",
       "    <tr style=\"text-align: right;\">\n",
       "      <th></th>\n",
       "      <th>Survived</th>\n",
       "      <th>Pclass</th>\n",
       "      <th>Sex</th>\n",
       "      <th>Age</th>\n",
       "      <th>SibSp</th>\n",
       "      <th>Parch</th>\n",
       "      <th>Fare</th>\n",
       "      <th>Embarked</th>\n",
       "    </tr>\n",
       "  </thead>\n",
       "  <tbody>\n",
       "    <tr>\n",
       "      <th>0</th>\n",
       "      <td>0</td>\n",
       "      <td>3</td>\n",
       "      <td>male</td>\n",
       "      <td>22.0</td>\n",
       "      <td>1</td>\n",
       "      <td>0</td>\n",
       "      <td>7.2500</td>\n",
       "      <td>S</td>\n",
       "    </tr>\n",
       "    <tr>\n",
       "      <th>1</th>\n",
       "      <td>1</td>\n",
       "      <td>1</td>\n",
       "      <td>female</td>\n",
       "      <td>38.0</td>\n",
       "      <td>1</td>\n",
       "      <td>0</td>\n",
       "      <td>71.2833</td>\n",
       "      <td>C</td>\n",
       "    </tr>\n",
       "    <tr>\n",
       "      <th>2</th>\n",
       "      <td>1</td>\n",
       "      <td>3</td>\n",
       "      <td>female</td>\n",
       "      <td>26.0</td>\n",
       "      <td>0</td>\n",
       "      <td>0</td>\n",
       "      <td>7.9250</td>\n",
       "      <td>S</td>\n",
       "    </tr>\n",
       "    <tr>\n",
       "      <th>3</th>\n",
       "      <td>1</td>\n",
       "      <td>1</td>\n",
       "      <td>female</td>\n",
       "      <td>35.0</td>\n",
       "      <td>1</td>\n",
       "      <td>0</td>\n",
       "      <td>53.1000</td>\n",
       "      <td>S</td>\n",
       "    </tr>\n",
       "    <tr>\n",
       "      <th>4</th>\n",
       "      <td>0</td>\n",
       "      <td>3</td>\n",
       "      <td>male</td>\n",
       "      <td>35.0</td>\n",
       "      <td>0</td>\n",
       "      <td>0</td>\n",
       "      <td>8.0500</td>\n",
       "      <td>S</td>\n",
       "    </tr>\n",
       "  </tbody>\n",
       "</table>\n",
       "</div>"
      ],
      "text/plain": [
       "   Survived  Pclass     Sex   Age  SibSp  Parch     Fare Embarked\n",
       "0         0       3    male  22.0      1      0   7.2500        S\n",
       "1         1       1  female  38.0      1      0  71.2833        C\n",
       "2         1       3  female  26.0      0      0   7.9250        S\n",
       "3         1       1  female  35.0      1      0  53.1000        S\n",
       "4         0       3    male  35.0      0      0   8.0500        S"
      ]
     },
     "execution_count": 3,
     "metadata": {},
     "output_type": "execute_result"
    }
   ],
   "source": [
    "use_cols = ['Survived', 'Pclass', 'Sex', 'Age', 'SibSp' ,'Parch', 'Fare', 'Embarked']\n",
    "data = pd.read_csv('https://bit.ly/3FsgwkJ', usecols = use_cols)\n",
    "data.head()"
   ]
  },
  {
   "cell_type": "markdown",
   "id": "3Fq2110K5jzZ",
   "metadata": {
    "id": "3Fq2110K5jzZ"
   },
   "source": [
    "### 2) 데이터 분할"
   ]
  },
  {
   "cell_type": "markdown",
   "id": "PtSEkpMXj7Gr",
   "metadata": {
    "id": "PtSEkpMXj7Gr"
   },
   "source": [
    "#### x, y 분할"
   ]
  },
  {
   "cell_type": "code",
   "execution_count": 4,
   "id": "2bc62c05-b3ca-4e7f-a6b5-61d2efd4d309",
   "metadata": {
    "id": "2bc62c05-b3ca-4e7f-a6b5-61d2efd4d309",
    "tags": []
   },
   "outputs": [],
   "source": [
    "target = 'Survived'\n",
    "x0 = data.drop(target, axis = 1)\n",
    "y0 = data.loc[:, target]"
   ]
  },
  {
   "cell_type": "markdown",
   "id": "gx3dbA4B5rYs",
   "metadata": {
    "id": "gx3dbA4B5rYs"
   },
   "source": [
    "#### test 분할\n",
    "\n",
    "여기서는 조금만 떼어 냅시다."
   ]
  },
  {
   "cell_type": "code",
   "execution_count": 5,
   "id": "3b9bbb95-fd1d-424a-9f38-ddfdafbd729b",
   "metadata": {
    "id": "3b9bbb95-fd1d-424a-9f38-ddfdafbd729b"
   },
   "outputs": [],
   "source": [
    "x, x_test, y, y_test = train_test_split(x0, y0, test_size = 10, random_state = 2022)"
   ]
  },
  {
   "cell_type": "code",
   "execution_count": 6,
   "id": "559c2675-265d-4944-9a8d-cd080bd02474",
   "metadata": {
    "id": "559c2675-265d-4944-9a8d-cd080bd02474"
   },
   "outputs": [
    {
     "data": {
      "text/html": [
       "<div>\n",
       "<style scoped>\n",
       "    .dataframe tbody tr th:only-of-type {\n",
       "        vertical-align: middle;\n",
       "    }\n",
       "\n",
       "    .dataframe tbody tr th {\n",
       "        vertical-align: top;\n",
       "    }\n",
       "\n",
       "    .dataframe thead th {\n",
       "        text-align: right;\n",
       "    }\n",
       "</style>\n",
       "<table border=\"1\" class=\"dataframe\">\n",
       "  <thead>\n",
       "    <tr style=\"text-align: right;\">\n",
       "      <th></th>\n",
       "      <th>Pclass</th>\n",
       "      <th>Sex</th>\n",
       "      <th>Age</th>\n",
       "      <th>SibSp</th>\n",
       "      <th>Parch</th>\n",
       "      <th>Fare</th>\n",
       "      <th>Embarked</th>\n",
       "    </tr>\n",
       "  </thead>\n",
       "  <tbody>\n",
       "    <tr>\n",
       "      <th>770</th>\n",
       "      <td>3</td>\n",
       "      <td>male</td>\n",
       "      <td>24.0</td>\n",
       "      <td>0</td>\n",
       "      <td>0</td>\n",
       "      <td>9.5000</td>\n",
       "      <td>S</td>\n",
       "    </tr>\n",
       "    <tr>\n",
       "      <th>178</th>\n",
       "      <td>2</td>\n",
       "      <td>male</td>\n",
       "      <td>30.0</td>\n",
       "      <td>0</td>\n",
       "      <td>0</td>\n",
       "      <td>13.0000</td>\n",
       "      <td>S</td>\n",
       "    </tr>\n",
       "    <tr>\n",
       "      <th>786</th>\n",
       "      <td>3</td>\n",
       "      <td>female</td>\n",
       "      <td>18.0</td>\n",
       "      <td>0</td>\n",
       "      <td>0</td>\n",
       "      <td>7.4958</td>\n",
       "      <td>S</td>\n",
       "    </tr>\n",
       "    <tr>\n",
       "      <th>159</th>\n",
       "      <td>3</td>\n",
       "      <td>male</td>\n",
       "      <td>NaN</td>\n",
       "      <td>8</td>\n",
       "      <td>2</td>\n",
       "      <td>69.5500</td>\n",
       "      <td>S</td>\n",
       "    </tr>\n",
       "    <tr>\n",
       "      <th>656</th>\n",
       "      <td>3</td>\n",
       "      <td>male</td>\n",
       "      <td>NaN</td>\n",
       "      <td>0</td>\n",
       "      <td>0</td>\n",
       "      <td>7.8958</td>\n",
       "      <td>S</td>\n",
       "    </tr>\n",
       "    <tr>\n",
       "      <th>700</th>\n",
       "      <td>1</td>\n",
       "      <td>female</td>\n",
       "      <td>18.0</td>\n",
       "      <td>1</td>\n",
       "      <td>0</td>\n",
       "      <td>227.5250</td>\n",
       "      <td>C</td>\n",
       "    </tr>\n",
       "    <tr>\n",
       "      <th>471</th>\n",
       "      <td>3</td>\n",
       "      <td>male</td>\n",
       "      <td>38.0</td>\n",
       "      <td>0</td>\n",
       "      <td>0</td>\n",
       "      <td>8.6625</td>\n",
       "      <td>S</td>\n",
       "    </tr>\n",
       "    <tr>\n",
       "      <th>780</th>\n",
       "      <td>3</td>\n",
       "      <td>female</td>\n",
       "      <td>13.0</td>\n",
       "      <td>0</td>\n",
       "      <td>0</td>\n",
       "      <td>7.2292</td>\n",
       "      <td>C</td>\n",
       "    </tr>\n",
       "    <tr>\n",
       "      <th>711</th>\n",
       "      <td>1</td>\n",
       "      <td>male</td>\n",
       "      <td>NaN</td>\n",
       "      <td>0</td>\n",
       "      <td>0</td>\n",
       "      <td>26.5500</td>\n",
       "      <td>S</td>\n",
       "    </tr>\n",
       "    <tr>\n",
       "      <th>231</th>\n",
       "      <td>3</td>\n",
       "      <td>male</td>\n",
       "      <td>29.0</td>\n",
       "      <td>0</td>\n",
       "      <td>0</td>\n",
       "      <td>7.7750</td>\n",
       "      <td>S</td>\n",
       "    </tr>\n",
       "  </tbody>\n",
       "</table>\n",
       "</div>"
      ],
      "text/plain": [
       "     Pclass     Sex   Age  SibSp  Parch      Fare Embarked\n",
       "770       3    male  24.0      0      0    9.5000        S\n",
       "178       2    male  30.0      0      0   13.0000        S\n",
       "786       3  female  18.0      0      0    7.4958        S\n",
       "159       3    male   NaN      8      2   69.5500        S\n",
       "656       3    male   NaN      0      0    7.8958        S\n",
       "700       1  female  18.0      1      0  227.5250        C\n",
       "471       3    male  38.0      0      0    8.6625        S\n",
       "780       3  female  13.0      0      0    7.2292        C\n",
       "711       1    male   NaN      0      0   26.5500        S\n",
       "231       3    male  29.0      0      0    7.7750        S"
      ]
     },
     "execution_count": 6,
     "metadata": {},
     "output_type": "execute_result"
    }
   ],
   "source": [
    "x_test"
   ]
  },
  {
   "cell_type": "markdown",
   "id": "SJ72dPUwbKO3",
   "metadata": {
    "id": "SJ72dPUwbKO3"
   },
   "source": [
    "#### train, val 분할"
   ]
  },
  {
   "cell_type": "code",
   "execution_count": 7,
   "id": "5b45c3c2-bc9d-4c5e-87b0-fd182d76fefd",
   "metadata": {
    "id": "5b45c3c2-bc9d-4c5e-87b0-fd182d76fefd"
   },
   "outputs": [],
   "source": [
    "x_train, x_val, y_train, y_val = train_test_split(x, y, test_size = .3, random_state = 2022)"
   ]
  },
  {
   "cell_type": "markdown",
   "id": "WS3xPbXr7ALa",
   "metadata": {
    "id": "WS3xPbXr7ALa"
   },
   "source": [
    "### 3) Feature Engineering\n",
    "* family 변수를 추가하려고 합니다. 가족과 관련된 변수가 SibSp, Parch 입니다. 이 둘을 더하고 자기자신까지 포함시켜서 가족 수 변수를 만듭시다.\n",
    "* 그리고, SibSp, Parch 는 제거합니다."
   ]
  },
  {
   "cell_type": "code",
   "execution_count": 8,
   "id": "kjH_JllN7Tyh",
   "metadata": {
    "id": "kjH_JllN7Tyh"
   },
   "outputs": [
    {
     "data": {
      "text/html": [
       "<div>\n",
       "<style scoped>\n",
       "    .dataframe tbody tr th:only-of-type {\n",
       "        vertical-align: middle;\n",
       "    }\n",
       "\n",
       "    .dataframe tbody tr th {\n",
       "        vertical-align: top;\n",
       "    }\n",
       "\n",
       "    .dataframe thead th {\n",
       "        text-align: right;\n",
       "    }\n",
       "</style>\n",
       "<table border=\"1\" class=\"dataframe\">\n",
       "  <thead>\n",
       "    <tr style=\"text-align: right;\">\n",
       "      <th></th>\n",
       "      <th>Pclass</th>\n",
       "      <th>Sex</th>\n",
       "      <th>Age</th>\n",
       "      <th>Fare</th>\n",
       "      <th>Embarked</th>\n",
       "      <th>Family</th>\n",
       "    </tr>\n",
       "  </thead>\n",
       "  <tbody>\n",
       "    <tr>\n",
       "      <th>742</th>\n",
       "      <td>1</td>\n",
       "      <td>female</td>\n",
       "      <td>21.0</td>\n",
       "      <td>262.3750</td>\n",
       "      <td>C</td>\n",
       "      <td>5</td>\n",
       "    </tr>\n",
       "    <tr>\n",
       "      <th>591</th>\n",
       "      <td>1</td>\n",
       "      <td>female</td>\n",
       "      <td>52.0</td>\n",
       "      <td>78.2667</td>\n",
       "      <td>C</td>\n",
       "      <td>2</td>\n",
       "    </tr>\n",
       "    <tr>\n",
       "      <th>1</th>\n",
       "      <td>1</td>\n",
       "      <td>female</td>\n",
       "      <td>38.0</td>\n",
       "      <td>71.2833</td>\n",
       "      <td>C</td>\n",
       "      <td>2</td>\n",
       "    </tr>\n",
       "    <tr>\n",
       "      <th>152</th>\n",
       "      <td>3</td>\n",
       "      <td>male</td>\n",
       "      <td>55.5</td>\n",
       "      <td>8.0500</td>\n",
       "      <td>S</td>\n",
       "      <td>1</td>\n",
       "    </tr>\n",
       "    <tr>\n",
       "      <th>636</th>\n",
       "      <td>3</td>\n",
       "      <td>male</td>\n",
       "      <td>32.0</td>\n",
       "      <td>7.9250</td>\n",
       "      <td>S</td>\n",
       "      <td>1</td>\n",
       "    </tr>\n",
       "  </tbody>\n",
       "</table>\n",
       "</div>"
      ],
      "text/plain": [
       "     Pclass     Sex   Age      Fare Embarked  Family\n",
       "742       1  female  21.0  262.3750        C       5\n",
       "591       1  female  52.0   78.2667        C       2\n",
       "1         1  female  38.0   71.2833        C       2\n",
       "152       3    male  55.5    8.0500        S       1\n",
       "636       3    male  32.0    7.9250        S       1"
      ]
     },
     "execution_count": 8,
     "metadata": {},
     "output_type": "execute_result"
    }
   ],
   "source": [
    "x_train['Family'] = x_train['SibSp'] + x_train['Parch'] + 1\n",
    "x_train.drop(['SibSp', 'Parch'], axis = 1, inplace = True)\n",
    "x_train.head()"
   ]
  },
  {
   "cell_type": "markdown",
   "id": "miMnMoZO9HOQ",
   "metadata": {
    "id": "miMnMoZO9HOQ"
   },
   "source": [
    "* 재사용을 위해서는 함수로 만드는 것이 좋습니다."
   ]
  },
  {
   "cell_type": "code",
   "execution_count": 9,
   "id": "QT_Bc5_x9KkT",
   "metadata": {
    "id": "QT_Bc5_x9KkT"
   },
   "outputs": [],
   "source": [
    "def titanic_fe(df):\n",
    "    temp = df.copy()\n",
    "    # Family 변수 추가\n",
    "    temp['Family'] = temp['SibSp'] + temp['Parch'] + 1\n",
    "    temp.drop(['SibSp', 'Parch'], axis = 1, inplace = True)\n",
    "\n",
    "    # OOO 추가...\n",
    "    return temp"
   ]
  },
  {
   "cell_type": "markdown",
   "id": "eoAIgkWOkUov",
   "metadata": {
    "id": "eoAIgkWOkUov"
   },
   "source": [
    "#### validation set에 적용하기"
   ]
  },
  {
   "cell_type": "code",
   "execution_count": 10,
   "id": "jQ5Ufb3f9GPM",
   "metadata": {
    "id": "jQ5Ufb3f9GPM"
   },
   "outputs": [
    {
     "data": {
      "text/html": [
       "<div>\n",
       "<style scoped>\n",
       "    .dataframe tbody tr th:only-of-type {\n",
       "        vertical-align: middle;\n",
       "    }\n",
       "\n",
       "    .dataframe tbody tr th {\n",
       "        vertical-align: top;\n",
       "    }\n",
       "\n",
       "    .dataframe thead th {\n",
       "        text-align: right;\n",
       "    }\n",
       "</style>\n",
       "<table border=\"1\" class=\"dataframe\">\n",
       "  <thead>\n",
       "    <tr style=\"text-align: right;\">\n",
       "      <th></th>\n",
       "      <th>Pclass</th>\n",
       "      <th>Sex</th>\n",
       "      <th>Age</th>\n",
       "      <th>Fare</th>\n",
       "      <th>Embarked</th>\n",
       "      <th>Family</th>\n",
       "    </tr>\n",
       "  </thead>\n",
       "  <tbody>\n",
       "    <tr>\n",
       "      <th>39</th>\n",
       "      <td>3</td>\n",
       "      <td>female</td>\n",
       "      <td>14.0</td>\n",
       "      <td>11.2417</td>\n",
       "      <td>C</td>\n",
       "      <td>2</td>\n",
       "    </tr>\n",
       "    <tr>\n",
       "      <th>336</th>\n",
       "      <td>1</td>\n",
       "      <td>male</td>\n",
       "      <td>29.0</td>\n",
       "      <td>66.6000</td>\n",
       "      <td>S</td>\n",
       "      <td>2</td>\n",
       "    </tr>\n",
       "    <tr>\n",
       "      <th>623</th>\n",
       "      <td>3</td>\n",
       "      <td>male</td>\n",
       "      <td>21.0</td>\n",
       "      <td>7.8542</td>\n",
       "      <td>S</td>\n",
       "      <td>1</td>\n",
       "    </tr>\n",
       "    <tr>\n",
       "      <th>647</th>\n",
       "      <td>1</td>\n",
       "      <td>male</td>\n",
       "      <td>56.0</td>\n",
       "      <td>35.5000</td>\n",
       "      <td>C</td>\n",
       "      <td>1</td>\n",
       "    </tr>\n",
       "    <tr>\n",
       "      <th>868</th>\n",
       "      <td>3</td>\n",
       "      <td>male</td>\n",
       "      <td>NaN</td>\n",
       "      <td>9.5000</td>\n",
       "      <td>S</td>\n",
       "      <td>1</td>\n",
       "    </tr>\n",
       "  </tbody>\n",
       "</table>\n",
       "</div>"
      ],
      "text/plain": [
       "     Pclass     Sex   Age     Fare Embarked  Family\n",
       "39        3  female  14.0  11.2417        C       2\n",
       "336       1    male  29.0  66.6000        S       2\n",
       "623       3    male  21.0   7.8542        S       1\n",
       "647       1    male  56.0  35.5000        C       1\n",
       "868       3    male   NaN   9.5000        S       1"
      ]
     },
     "execution_count": 10,
     "metadata": {},
     "output_type": "execute_result"
    }
   ],
   "source": [
    "x_val = titanic_fe(x_val)\n",
    "\n",
    "x_val.head()"
   ]
  },
  {
   "cell_type": "markdown",
   "id": "2FCZUkU28m_s",
   "metadata": {
    "id": "2FCZUkU28m_s"
   },
   "source": [
    "### 4) NaN 조치①"
   ]
  },
  {
   "cell_type": "markdown",
   "id": "eDPXTMOr8w96",
   "metadata": {
    "id": "eDPXTMOr8w96"
   },
   "source": [
    "* 먼저 x의 NaN을 조사해 봅시다."
   ]
  },
  {
   "cell_type": "code",
   "execution_count": 11,
   "id": "yu38DJkw81YG",
   "metadata": {
    "id": "yu38DJkw81YG"
   },
   "outputs": [
    {
     "data": {
      "text/plain": [
       "Pclass        0\n",
       "Sex           0\n",
       "Age         126\n",
       "Fare          0\n",
       "Embarked      2\n",
       "Family        0\n",
       "dtype: int64"
      ]
     },
     "execution_count": 11,
     "metadata": {},
     "output_type": "execute_result"
    }
   ],
   "source": [
    "x_train.isna().sum()"
   ]
  },
  {
   "cell_type": "markdown",
   "id": "NAI7-HYK9kF4",
   "metadata": {
    "id": "NAI7-HYK9kF4"
   },
   "source": [
    "* 어떻게 조치 방법에 따라 처리 시점이 달라집니다.\n",
    "    * Embarked는 최빈값으로 **지금** 채우고\n",
    "    * Age는 KNNImputer로 **가변수화 후에** 채우겠습니다.\n",
    "\n",
    "* NaN 행 삭제를 결정한다면...\n",
    "    * 운영에서 NaN이 들어오면 그 역시 버리겠다는 의미 입니다. \n",
    "        * 그래도 괜찮다면...\n",
    "        * 그러나 괜찮은 상황은 별로 없을 겁니다."
   ]
  },
  {
   "cell_type": "markdown",
   "id": "JmMoOjhN-byp",
   "metadata": {
    "id": "JmMoOjhN-byp"
   },
   "source": [
    "#### SimpleImputer \n",
    "\n",
    "https://scikit-learn.org/stable/modules/generated/sklearn.impute.SimpleImputer.html"
   ]
  },
  {
   "cell_type": "code",
   "execution_count": 12,
   "id": "h8X9ikWf-a85",
   "metadata": {
    "id": "h8X9ikWf-a85"
   },
   "outputs": [],
   "source": [
    "from sklearn.impute import SimpleImputer"
   ]
  },
  {
   "cell_type": "markdown",
   "id": "IIEBoPNXBYPK",
   "metadata": {
    "id": "IIEBoPNXBYPK"
   },
   "source": [
    "* 최빈값으로 채우기 : 보통 범주형(숫자는 이산형)을 채울 때 사용합니다.\n",
    "    * strategy = 'most_frequent'"
   ]
  },
  {
   "cell_type": "code",
   "execution_count": 13,
   "id": "Q3NDWUVwBPii",
   "metadata": {
    "id": "Q3NDWUVwBPii"
   },
   "outputs": [
    {
     "data": {
      "text/plain": [
       "Pclass        0\n",
       "Sex           0\n",
       "Age         126\n",
       "Fare          0\n",
       "Embarked      0\n",
       "Family        0\n",
       "dtype: int64"
      ]
     },
     "execution_count": 13,
     "metadata": {},
     "output_type": "execute_result"
    }
   ],
   "source": [
    "# 대상을 리스트로 선언합시다. \n",
    "imputer1_list = ['Embarked']\n",
    "\n",
    "# 선언하고 fit_transform\n",
    "imputer1 = SimpleImputer(strategy='most_frequent')\n",
    "\n",
    "x_train[imputer1_list] = imputer1.fit_transform(x_train[imputer1_list])\n",
    "\n",
    "x_train.isna().sum()"
   ]
  },
  {
   "cell_type": "markdown",
   "id": "Eo7jUhhSkukR",
   "metadata": {
    "id": "Eo7jUhhSkukR"
   },
   "source": [
    "#### validation set에 적용하기"
   ]
  },
  {
   "cell_type": "code",
   "execution_count": 14,
   "id": "BTyheb3kku6i",
   "metadata": {
    "id": "BTyheb3kku6i"
   },
   "outputs": [
    {
     "data": {
      "text/plain": [
       "Pclass       0\n",
       "Sex          0\n",
       "Age         48\n",
       "Fare         0\n",
       "Embarked     0\n",
       "Family       0\n",
       "dtype: int64"
      ]
     },
     "execution_count": 14,
     "metadata": {},
     "output_type": "execute_result"
    }
   ],
   "source": [
    "x_val[imputer1_list] = imputer1.transform(x_val[imputer1_list])\n",
    "\n",
    "x_val.isna().sum()"
   ]
  },
  {
   "cell_type": "markdown",
   "id": "HmvIf5onDLQq",
   "metadata": {
    "id": "HmvIf5onDLQq"
   },
   "source": [
    "#### 실습 \n",
    "\n",
    "* x_train를 temp로 복사한 후에 temp['Age'] 에 대해서 평균으로 채워 봅시다."
   ]
  },
  {
   "cell_type": "code",
   "execution_count": 15,
   "id": "jl44J83DDP1d",
   "metadata": {
    "id": "jl44J83DDP1d"
   },
   "outputs": [],
   "source": [
    "temp = x_train.copy()"
   ]
  },
  {
   "cell_type": "code",
   "execution_count": 17,
   "id": "kBuoZWBgDlKC",
   "metadata": {
    "id": "kBuoZWBgDlKC"
   },
   "outputs": [
    {
     "data": {
      "text/plain": [
       "Pclass      0\n",
       "Sex         0\n",
       "Age         0\n",
       "Fare        0\n",
       "Embarked    0\n",
       "Family      0\n",
       "dtype: int64"
      ]
     },
     "execution_count": 17,
     "metadata": {},
     "output_type": "execute_result"
    }
   ],
   "source": [
    "# 대상을 리스트로 선언합시다. \n",
    "imputer2_list = ['Age']\n",
    "\n",
    "# 선언하고 fit_transform\n",
    "imputer2 = SimpleImputer()\n",
    "\n",
    "temp[imputer2_list] = imputer2.fit_transform(temp[imputer2_list])\n",
    "\n",
    "temp.isna().sum()"
   ]
  },
  {
   "cell_type": "markdown",
   "id": "NJtEw33yEGHv",
   "metadata": {
    "id": "NJtEw33yEGHv"
   },
   "source": [
    "### 5) 가변수화"
   ]
  },
  {
   "cell_type": "markdown",
   "id": "EHq1j4clFZ3m",
   "metadata": {
    "id": "EHq1j4clFZ3m"
   },
   "source": [
    "* 가변수화 할 때 고려해야 할 점."
   ]
  },
  {
   "cell_type": "code",
   "execution_count": 18,
   "id": "GNKrAr1yDOFk",
   "metadata": {
    "id": "GNKrAr1yDOFk"
   },
   "outputs": [],
   "source": [
    "dict1 = {'x1':['a','b','a','b','c'], 'x2':[2,6,5,3,4]}\n",
    "dict2 = {'x1':['a','b','b'], 'x2':[7,8,9]}\n",
    "\n",
    "train = pd.DataFrame(dict1)\n",
    "test =  pd.DataFrame(dict2)"
   ]
  },
  {
   "cell_type": "code",
   "execution_count": 19,
   "id": "RCNTfH5nFShG",
   "metadata": {
    "id": "RCNTfH5nFShG"
   },
   "outputs": [
    {
     "data": {
      "text/html": [
       "<div>\n",
       "<style scoped>\n",
       "    .dataframe tbody tr th:only-of-type {\n",
       "        vertical-align: middle;\n",
       "    }\n",
       "\n",
       "    .dataframe tbody tr th {\n",
       "        vertical-align: top;\n",
       "    }\n",
       "\n",
       "    .dataframe thead th {\n",
       "        text-align: right;\n",
       "    }\n",
       "</style>\n",
       "<table border=\"1\" class=\"dataframe\">\n",
       "  <thead>\n",
       "    <tr style=\"text-align: right;\">\n",
       "      <th></th>\n",
       "      <th>x1</th>\n",
       "      <th>x2</th>\n",
       "    </tr>\n",
       "  </thead>\n",
       "  <tbody>\n",
       "    <tr>\n",
       "      <th>0</th>\n",
       "      <td>a</td>\n",
       "      <td>2</td>\n",
       "    </tr>\n",
       "    <tr>\n",
       "      <th>1</th>\n",
       "      <td>b</td>\n",
       "      <td>6</td>\n",
       "    </tr>\n",
       "    <tr>\n",
       "      <th>2</th>\n",
       "      <td>a</td>\n",
       "      <td>5</td>\n",
       "    </tr>\n",
       "    <tr>\n",
       "      <th>3</th>\n",
       "      <td>b</td>\n",
       "      <td>3</td>\n",
       "    </tr>\n",
       "    <tr>\n",
       "      <th>4</th>\n",
       "      <td>c</td>\n",
       "      <td>4</td>\n",
       "    </tr>\n",
       "  </tbody>\n",
       "</table>\n",
       "</div>"
      ],
      "text/plain": [
       "  x1  x2\n",
       "0  a   2\n",
       "1  b   6\n",
       "2  a   5\n",
       "3  b   3\n",
       "4  c   4"
      ]
     },
     "execution_count": 19,
     "metadata": {},
     "output_type": "execute_result"
    }
   ],
   "source": [
    "train"
   ]
  },
  {
   "cell_type": "code",
   "execution_count": 20,
   "id": "kFXWlRNlFTdq",
   "metadata": {
    "id": "kFXWlRNlFTdq"
   },
   "outputs": [
    {
     "data": {
      "text/html": [
       "<div>\n",
       "<style scoped>\n",
       "    .dataframe tbody tr th:only-of-type {\n",
       "        vertical-align: middle;\n",
       "    }\n",
       "\n",
       "    .dataframe tbody tr th {\n",
       "        vertical-align: top;\n",
       "    }\n",
       "\n",
       "    .dataframe thead th {\n",
       "        text-align: right;\n",
       "    }\n",
       "</style>\n",
       "<table border=\"1\" class=\"dataframe\">\n",
       "  <thead>\n",
       "    <tr style=\"text-align: right;\">\n",
       "      <th></th>\n",
       "      <th>x1</th>\n",
       "      <th>x2</th>\n",
       "    </tr>\n",
       "  </thead>\n",
       "  <tbody>\n",
       "    <tr>\n",
       "      <th>0</th>\n",
       "      <td>a</td>\n",
       "      <td>7</td>\n",
       "    </tr>\n",
       "    <tr>\n",
       "      <th>1</th>\n",
       "      <td>b</td>\n",
       "      <td>8</td>\n",
       "    </tr>\n",
       "    <tr>\n",
       "      <th>2</th>\n",
       "      <td>b</td>\n",
       "      <td>9</td>\n",
       "    </tr>\n",
       "  </tbody>\n",
       "</table>\n",
       "</div>"
      ],
      "text/plain": [
       "  x1  x2\n",
       "0  a   7\n",
       "1  b   8\n",
       "2  b   9"
      ]
     },
     "execution_count": 20,
     "metadata": {},
     "output_type": "execute_result"
    }
   ],
   "source": [
    "test"
   ]
  },
  {
   "cell_type": "code",
   "execution_count": 21,
   "id": "OIHF5eq9FV9K",
   "metadata": {
    "id": "OIHF5eq9FV9K"
   },
   "outputs": [
    {
     "data": {
      "text/html": [
       "<div>\n",
       "<style scoped>\n",
       "    .dataframe tbody tr th:only-of-type {\n",
       "        vertical-align: middle;\n",
       "    }\n",
       "\n",
       "    .dataframe tbody tr th {\n",
       "        vertical-align: top;\n",
       "    }\n",
       "\n",
       "    .dataframe thead th {\n",
       "        text-align: right;\n",
       "    }\n",
       "</style>\n",
       "<table border=\"1\" class=\"dataframe\">\n",
       "  <thead>\n",
       "    <tr style=\"text-align: right;\">\n",
       "      <th></th>\n",
       "      <th>x2</th>\n",
       "      <th>x1_a</th>\n",
       "      <th>x1_b</th>\n",
       "      <th>x1_c</th>\n",
       "    </tr>\n",
       "  </thead>\n",
       "  <tbody>\n",
       "    <tr>\n",
       "      <th>0</th>\n",
       "      <td>2</td>\n",
       "      <td>1</td>\n",
       "      <td>0</td>\n",
       "      <td>0</td>\n",
       "    </tr>\n",
       "    <tr>\n",
       "      <th>1</th>\n",
       "      <td>6</td>\n",
       "      <td>0</td>\n",
       "      <td>1</td>\n",
       "      <td>0</td>\n",
       "    </tr>\n",
       "    <tr>\n",
       "      <th>2</th>\n",
       "      <td>5</td>\n",
       "      <td>1</td>\n",
       "      <td>0</td>\n",
       "      <td>0</td>\n",
       "    </tr>\n",
       "    <tr>\n",
       "      <th>3</th>\n",
       "      <td>3</td>\n",
       "      <td>0</td>\n",
       "      <td>1</td>\n",
       "      <td>0</td>\n",
       "    </tr>\n",
       "    <tr>\n",
       "      <th>4</th>\n",
       "      <td>4</td>\n",
       "      <td>0</td>\n",
       "      <td>0</td>\n",
       "      <td>1</td>\n",
       "    </tr>\n",
       "  </tbody>\n",
       "</table>\n",
       "</div>"
      ],
      "text/plain": [
       "   x2  x1_a  x1_b  x1_c\n",
       "0   2     1     0     0\n",
       "1   6     0     1     0\n",
       "2   5     1     0     0\n",
       "3   3     0     1     0\n",
       "4   4     0     0     1"
      ]
     },
     "execution_count": 21,
     "metadata": {},
     "output_type": "execute_result"
    }
   ],
   "source": [
    "# get_dummies로 가변수화를 수행해 봅시다.\n",
    "pd.get_dummies(train, columns = ['x1'])"
   ]
  },
  {
   "cell_type": "code",
   "execution_count": 22,
   "id": "7us6NtmNF2WX",
   "metadata": {
    "id": "7us6NtmNF2WX"
   },
   "outputs": [
    {
     "data": {
      "text/html": [
       "<div>\n",
       "<style scoped>\n",
       "    .dataframe tbody tr th:only-of-type {\n",
       "        vertical-align: middle;\n",
       "    }\n",
       "\n",
       "    .dataframe tbody tr th {\n",
       "        vertical-align: top;\n",
       "    }\n",
       "\n",
       "    .dataframe thead th {\n",
       "        text-align: right;\n",
       "    }\n",
       "</style>\n",
       "<table border=\"1\" class=\"dataframe\">\n",
       "  <thead>\n",
       "    <tr style=\"text-align: right;\">\n",
       "      <th></th>\n",
       "      <th>x2</th>\n",
       "      <th>x1_a</th>\n",
       "      <th>x1_b</th>\n",
       "    </tr>\n",
       "  </thead>\n",
       "  <tbody>\n",
       "    <tr>\n",
       "      <th>0</th>\n",
       "      <td>7</td>\n",
       "      <td>1</td>\n",
       "      <td>0</td>\n",
       "    </tr>\n",
       "    <tr>\n",
       "      <th>1</th>\n",
       "      <td>8</td>\n",
       "      <td>0</td>\n",
       "      <td>1</td>\n",
       "    </tr>\n",
       "    <tr>\n",
       "      <th>2</th>\n",
       "      <td>9</td>\n",
       "      <td>0</td>\n",
       "      <td>1</td>\n",
       "    </tr>\n",
       "  </tbody>\n",
       "</table>\n",
       "</div>"
      ],
      "text/plain": [
       "   x2  x1_a  x1_b\n",
       "0   7     1     0\n",
       "1   8     0     1\n",
       "2   9     0     1"
      ]
     },
     "execution_count": 22,
     "metadata": {},
     "output_type": "execute_result"
    }
   ],
   "source": [
    "pd.get_dummies(test, columns = ['x1'])"
   ]
  },
  {
   "cell_type": "markdown",
   "id": "AVGQEODUKzkZ",
   "metadata": {
    "id": "AVGQEODUKzkZ"
   },
   "source": [
    "#### category type"
   ]
  },
  {
   "cell_type": "code",
   "execution_count": 23,
   "id": "69c7ad2d-7403-4096-906e-af34879c2b7b",
   "metadata": {},
   "outputs": [
    {
     "name": "stdout",
     "output_type": "stream",
     "text": [
      "<class 'pandas.core.frame.DataFrame'>\n",
      "RangeIndex: 5 entries, 0 to 4\n",
      "Data columns (total 2 columns):\n",
      " #   Column  Non-Null Count  Dtype \n",
      "---  ------  --------------  ----- \n",
      " 0   x1      5 non-null      object\n",
      " 1   x2      5 non-null      int64 \n",
      "dtypes: int64(1), object(1)\n",
      "memory usage: 208.0+ bytes\n"
     ]
    }
   ],
   "source": [
    "train.info()"
   ]
  },
  {
   "cell_type": "code",
   "execution_count": 24,
   "id": "jPSVQ78MKyC4",
   "metadata": {
    "id": "jPSVQ78MKyC4"
   },
   "outputs": [
    {
     "name": "stdout",
     "output_type": "stream",
     "text": [
      "<class 'pandas.core.frame.DataFrame'>\n",
      "RangeIndex: 5 entries, 0 to 4\n",
      "Data columns (total 2 columns):\n",
      " #   Column  Non-Null Count  Dtype   \n",
      "---  ------  --------------  -----   \n",
      " 0   x1      5 non-null      category\n",
      " 1   x2      5 non-null      int64   \n",
      "dtypes: category(1), int64(1)\n",
      "memory usage: 305.0 bytes\n"
     ]
    }
   ],
   "source": [
    "train['x1'] = pd.Categorical(train['x1'], categories=[\"a\", \"b\", \"c\"], ordered=False)\n",
    "test['x1'] = pd.Categorical(test['x1'], categories=[\"a\", \"b\", \"c\"], ordered=False)\n",
    "\n",
    "train.info()"
   ]
  },
  {
   "cell_type": "markdown",
   "id": "Fa_aWK2hMGgc",
   "metadata": {
    "id": "Fa_aWK2hMGgc"
   },
   "source": [
    "category로 변경 후 get_dummies를 사용하면 지정된 카테고리 기준으로 칼럼이 생성 됩니다."
   ]
  },
  {
   "cell_type": "code",
   "execution_count": 25,
   "id": "pUlZZLYpMHLV",
   "metadata": {
    "id": "pUlZZLYpMHLV"
   },
   "outputs": [
    {
     "data": {
      "text/html": [
       "<div>\n",
       "<style scoped>\n",
       "    .dataframe tbody tr th:only-of-type {\n",
       "        vertical-align: middle;\n",
       "    }\n",
       "\n",
       "    .dataframe tbody tr th {\n",
       "        vertical-align: top;\n",
       "    }\n",
       "\n",
       "    .dataframe thead th {\n",
       "        text-align: right;\n",
       "    }\n",
       "</style>\n",
       "<table border=\"1\" class=\"dataframe\">\n",
       "  <thead>\n",
       "    <tr style=\"text-align: right;\">\n",
       "      <th></th>\n",
       "      <th>x2</th>\n",
       "      <th>x1_a</th>\n",
       "      <th>x1_b</th>\n",
       "      <th>x1_c</th>\n",
       "    </tr>\n",
       "  </thead>\n",
       "  <tbody>\n",
       "    <tr>\n",
       "      <th>0</th>\n",
       "      <td>7</td>\n",
       "      <td>1</td>\n",
       "      <td>0</td>\n",
       "      <td>0</td>\n",
       "    </tr>\n",
       "    <tr>\n",
       "      <th>1</th>\n",
       "      <td>8</td>\n",
       "      <td>0</td>\n",
       "      <td>1</td>\n",
       "      <td>0</td>\n",
       "    </tr>\n",
       "    <tr>\n",
       "      <th>2</th>\n",
       "      <td>9</td>\n",
       "      <td>0</td>\n",
       "      <td>1</td>\n",
       "      <td>0</td>\n",
       "    </tr>\n",
       "  </tbody>\n",
       "</table>\n",
       "</div>"
      ],
      "text/plain": [
       "   x2  x1_a  x1_b  x1_c\n",
       "0   7     1     0     0\n",
       "1   8     0     1     0\n",
       "2   9     0     1     0"
      ]
     },
     "execution_count": 25,
     "metadata": {},
     "output_type": "execute_result"
    }
   ],
   "source": [
    "pd.get_dummies(test, columns = ['x1'])"
   ]
  },
  {
   "cell_type": "markdown",
   "id": "7KMWVgiGMUkj",
   "metadata": {
    "id": "7KMWVgiGMUkj"
   },
   "source": [
    "#### 실습\n",
    "* x_train 범주형 변수에 대해서 category 타입으로 변경합니다.\n",
    "* 가변수화를 수행합니다.(drop_first=True)"
   ]
  },
  {
   "cell_type": "code",
   "execution_count": 29,
   "id": "FlJjfxAzNQ-Z",
   "metadata": {
    "id": "FlJjfxAzNQ-Z"
   },
   "outputs": [
    {
     "name": "stdout",
     "output_type": "stream",
     "text": [
      "<class 'pandas.core.frame.DataFrame'>\n",
      "Int64Index: 616 entries, 742 to 393\n",
      "Data columns (total 6 columns):\n",
      " #   Column    Non-Null Count  Dtype   \n",
      "---  ------    --------------  -----   \n",
      " 0   Pclass    616 non-null    category\n",
      " 1   Sex       616 non-null    category\n",
      " 2   Age       490 non-null    float64 \n",
      " 3   Fare      616 non-null    float64 \n",
      " 4   Embarked  616 non-null    category\n",
      " 5   Family    616 non-null    int64   \n",
      "dtypes: category(3), float64(2), int64(1)\n",
      "memory usage: 21.4 KB\n"
     ]
    }
   ],
   "source": [
    "cat = {'Sex':[\"female\", \"male\"]\n",
    "       , 'Embarked':[\"C\", \"Q\", \"S\"]\n",
    "       ,'Pclass':[1,2,3]}\n",
    "\n",
    "for cat_name, cat_item in cat.items() :\n",
    "    x_train[cat_name] = pd.Categorical(x_train[cat_name], categories=cat_item, ordered=False)\n",
    "\n",
    "x_train.info()"
   ]
  },
  {
   "cell_type": "code",
   "execution_count": 33,
   "id": "gXuRrHDMd-p8",
   "metadata": {
    "id": "gXuRrHDMd-p8"
   },
   "outputs": [],
   "source": [
    "dum_col = list(cat.keys())\n",
    "x_train = pd.get_dummies(x_train, columns=dum_col, drop_first=True)"
   ]
  },
  {
   "cell_type": "code",
   "execution_count": 34,
   "id": "UNAVMCTbmW3b",
   "metadata": {
    "id": "UNAVMCTbmW3b"
   },
   "outputs": [
    {
     "data": {
      "text/html": [
       "<div>\n",
       "<style scoped>\n",
       "    .dataframe tbody tr th:only-of-type {\n",
       "        vertical-align: middle;\n",
       "    }\n",
       "\n",
       "    .dataframe tbody tr th {\n",
       "        vertical-align: top;\n",
       "    }\n",
       "\n",
       "    .dataframe thead th {\n",
       "        text-align: right;\n",
       "    }\n",
       "</style>\n",
       "<table border=\"1\" class=\"dataframe\">\n",
       "  <thead>\n",
       "    <tr style=\"text-align: right;\">\n",
       "      <th></th>\n",
       "      <th>Age</th>\n",
       "      <th>Fare</th>\n",
       "      <th>Family</th>\n",
       "      <th>Sex_male</th>\n",
       "      <th>Embarked_Q</th>\n",
       "      <th>Embarked_S</th>\n",
       "      <th>Pclass_2</th>\n",
       "      <th>Pclass_3</th>\n",
       "    </tr>\n",
       "  </thead>\n",
       "  <tbody>\n",
       "    <tr>\n",
       "      <th>742</th>\n",
       "      <td>21.0</td>\n",
       "      <td>262.3750</td>\n",
       "      <td>5</td>\n",
       "      <td>0</td>\n",
       "      <td>0</td>\n",
       "      <td>0</td>\n",
       "      <td>0</td>\n",
       "      <td>0</td>\n",
       "    </tr>\n",
       "    <tr>\n",
       "      <th>591</th>\n",
       "      <td>52.0</td>\n",
       "      <td>78.2667</td>\n",
       "      <td>2</td>\n",
       "      <td>0</td>\n",
       "      <td>0</td>\n",
       "      <td>0</td>\n",
       "      <td>0</td>\n",
       "      <td>0</td>\n",
       "    </tr>\n",
       "    <tr>\n",
       "      <th>1</th>\n",
       "      <td>38.0</td>\n",
       "      <td>71.2833</td>\n",
       "      <td>2</td>\n",
       "      <td>0</td>\n",
       "      <td>0</td>\n",
       "      <td>0</td>\n",
       "      <td>0</td>\n",
       "      <td>0</td>\n",
       "    </tr>\n",
       "    <tr>\n",
       "      <th>152</th>\n",
       "      <td>55.5</td>\n",
       "      <td>8.0500</td>\n",
       "      <td>1</td>\n",
       "      <td>1</td>\n",
       "      <td>0</td>\n",
       "      <td>1</td>\n",
       "      <td>0</td>\n",
       "      <td>1</td>\n",
       "    </tr>\n",
       "    <tr>\n",
       "      <th>636</th>\n",
       "      <td>32.0</td>\n",
       "      <td>7.9250</td>\n",
       "      <td>1</td>\n",
       "      <td>1</td>\n",
       "      <td>0</td>\n",
       "      <td>1</td>\n",
       "      <td>0</td>\n",
       "      <td>1</td>\n",
       "    </tr>\n",
       "  </tbody>\n",
       "</table>\n",
       "</div>"
      ],
      "text/plain": [
       "      Age      Fare  Family  Sex_male  Embarked_Q  Embarked_S  Pclass_2  \\\n",
       "742  21.0  262.3750       5         0           0           0         0   \n",
       "591  52.0   78.2667       2         0           0           0         0   \n",
       "1    38.0   71.2833       2         0           0           0         0   \n",
       "152  55.5    8.0500       1         1           0           1         0   \n",
       "636  32.0    7.9250       1         1           0           1         0   \n",
       "\n",
       "     Pclass_3  \n",
       "742         0  \n",
       "591         0  \n",
       "1           0  \n",
       "152         1  \n",
       "636         1  "
      ]
     },
     "execution_count": 34,
     "metadata": {},
     "output_type": "execute_result"
    }
   ],
   "source": [
    "x_train.head()"
   ]
  },
  {
   "cell_type": "code",
   "execution_count": 35,
   "id": "909c96ca-8c19-43ec-be41-86e35b70a830",
   "metadata": {},
   "outputs": [],
   "source": [
    "def titanic_dumm(df, cat) :\n",
    "    tmp = df.copy()\n",
    "    for k, v in cat.items() :\n",
    "        tmp[k] = pd.Categorical(tmp[k], categories=v, ordered=False)\n",
    "    tmp = pd.get_dummies(tmp, columns=cat.keys(), drop_first=True)\n",
    "    return tmp"
   ]
  },
  {
   "cell_type": "markdown",
   "id": "245yN7iqlSs5",
   "metadata": {
    "id": "245yN7iqlSs5"
   },
   "source": [
    "#### validation set에 적용하기"
   ]
  },
  {
   "cell_type": "code",
   "execution_count": 36,
   "id": "IquGZ7hdlWyP",
   "metadata": {
    "id": "IquGZ7hdlWyP"
   },
   "outputs": [
    {
     "data": {
      "text/html": [
       "<div>\n",
       "<style scoped>\n",
       "    .dataframe tbody tr th:only-of-type {\n",
       "        vertical-align: middle;\n",
       "    }\n",
       "\n",
       "    .dataframe tbody tr th {\n",
       "        vertical-align: top;\n",
       "    }\n",
       "\n",
       "    .dataframe thead th {\n",
       "        text-align: right;\n",
       "    }\n",
       "</style>\n",
       "<table border=\"1\" class=\"dataframe\">\n",
       "  <thead>\n",
       "    <tr style=\"text-align: right;\">\n",
       "      <th></th>\n",
       "      <th>Age</th>\n",
       "      <th>Fare</th>\n",
       "      <th>Family</th>\n",
       "      <th>Sex_male</th>\n",
       "      <th>Embarked_Q</th>\n",
       "      <th>Embarked_S</th>\n",
       "      <th>Pclass_2</th>\n",
       "      <th>Pclass_3</th>\n",
       "    </tr>\n",
       "  </thead>\n",
       "  <tbody>\n",
       "    <tr>\n",
       "      <th>39</th>\n",
       "      <td>14.0</td>\n",
       "      <td>11.2417</td>\n",
       "      <td>2</td>\n",
       "      <td>0</td>\n",
       "      <td>0</td>\n",
       "      <td>0</td>\n",
       "      <td>0</td>\n",
       "      <td>1</td>\n",
       "    </tr>\n",
       "    <tr>\n",
       "      <th>336</th>\n",
       "      <td>29.0</td>\n",
       "      <td>66.6000</td>\n",
       "      <td>2</td>\n",
       "      <td>1</td>\n",
       "      <td>0</td>\n",
       "      <td>1</td>\n",
       "      <td>0</td>\n",
       "      <td>0</td>\n",
       "    </tr>\n",
       "    <tr>\n",
       "      <th>623</th>\n",
       "      <td>21.0</td>\n",
       "      <td>7.8542</td>\n",
       "      <td>1</td>\n",
       "      <td>1</td>\n",
       "      <td>0</td>\n",
       "      <td>1</td>\n",
       "      <td>0</td>\n",
       "      <td>1</td>\n",
       "    </tr>\n",
       "    <tr>\n",
       "      <th>647</th>\n",
       "      <td>56.0</td>\n",
       "      <td>35.5000</td>\n",
       "      <td>1</td>\n",
       "      <td>1</td>\n",
       "      <td>0</td>\n",
       "      <td>0</td>\n",
       "      <td>0</td>\n",
       "      <td>0</td>\n",
       "    </tr>\n",
       "    <tr>\n",
       "      <th>868</th>\n",
       "      <td>NaN</td>\n",
       "      <td>9.5000</td>\n",
       "      <td>1</td>\n",
       "      <td>1</td>\n",
       "      <td>0</td>\n",
       "      <td>1</td>\n",
       "      <td>0</td>\n",
       "      <td>1</td>\n",
       "    </tr>\n",
       "  </tbody>\n",
       "</table>\n",
       "</div>"
      ],
      "text/plain": [
       "      Age     Fare  Family  Sex_male  Embarked_Q  Embarked_S  Pclass_2  \\\n",
       "39   14.0  11.2417       2         0           0           0         0   \n",
       "336  29.0  66.6000       2         1           0           1         0   \n",
       "623  21.0   7.8542       1         1           0           1         0   \n",
       "647  56.0  35.5000       1         1           0           0         0   \n",
       "868   NaN   9.5000       1         1           0           1         0   \n",
       "\n",
       "     Pclass_3  \n",
       "39          1  \n",
       "336         0  \n",
       "623         1  \n",
       "647         0  \n",
       "868         1  "
      ]
     },
     "execution_count": 36,
     "metadata": {},
     "output_type": "execute_result"
    }
   ],
   "source": [
    "# 함수로 생성\n",
    "x_val = titanic_dumm(x_val, cat)\n",
    "x_val.head()"
   ]
  },
  {
   "cell_type": "markdown",
   "id": "CS15WVnCbd47",
   "metadata": {
    "id": "CS15WVnCbd47"
   },
   "source": [
    "### 6) 스케일링\n"
   ]
  },
  {
   "cell_type": "code",
   "execution_count": 37,
   "id": "08672af9-07c0-4030-80b6-4eb2d8590f87",
   "metadata": {
    "id": "08672af9-07c0-4030-80b6-4eb2d8590f87"
   },
   "outputs": [],
   "source": [
    "scaler = MinMaxScaler()\n",
    "x_train_s = scaler.fit_transform(x_train)"
   ]
  },
  {
   "cell_type": "markdown",
   "id": "pBFGCYp1nfmz",
   "metadata": {
    "id": "pBFGCYp1nfmz"
   },
   "source": [
    "#### validation set에 적용하기"
   ]
  },
  {
   "cell_type": "code",
   "execution_count": 38,
   "id": "5zBcHvLtnfm0",
   "metadata": {
    "id": "5zBcHvLtnfm0"
   },
   "outputs": [],
   "source": [
    "# validation 적용\n",
    "x_val_s = scaler.transform(x_val)"
   ]
  },
  {
   "cell_type": "markdown",
   "id": "oIpHRXv4blvU",
   "metadata": {
    "id": "oIpHRXv4blvU"
   },
   "source": [
    "### 7) NaN 조치②"
   ]
  },
  {
   "cell_type": "markdown",
   "id": "--vlRElYbsEn",
   "metadata": {
    "id": "--vlRElYbsEn"
   },
   "source": [
    "#### KNNImputer\n",
    "https://scikit-learn.org/stable/modules/generated/sklearn.impute.KNNImputer.html"
   ]
  },
  {
   "cell_type": "code",
   "execution_count": 39,
   "id": "MvX_sF9Dn9Sj",
   "metadata": {
    "id": "MvX_sF9Dn9Sj"
   },
   "outputs": [],
   "source": [
    "from sklearn.impute import KNNImputer"
   ]
  },
  {
   "cell_type": "code",
   "execution_count": 41,
   "id": "7ff0bbbf-2562-4e26-91e0-bf3c43acc95f",
   "metadata": {
    "id": "7ff0bbbf-2562-4e26-91e0-bf3c43acc95f"
   },
   "outputs": [
    {
     "data": {
      "text/plain": [
       "Age           0\n",
       "Fare          0\n",
       "Family        0\n",
       "Sex_male      0\n",
       "Embarked_Q    0\n",
       "Embarked_S    0\n",
       "Pclass_2      0\n",
       "Pclass_3      0\n",
       "dtype: int64"
      ]
     },
     "execution_count": 41,
     "metadata": {},
     "output_type": "execute_result"
    }
   ],
   "source": [
    "imputer2_list = list(x_train)\n",
    "\n",
    "# 선언하고 fit_transform\n",
    "imputer2 = KNNImputer()\n",
    "\n",
    "x_train_s = imputer2.fit_transform(x_train_s)\n",
    "\n",
    "x_train_s = pd.DataFrame(x_train_s, columns=imputer2_list)\n",
    "x_train_s.isna().sum()"
   ]
  },
  {
   "cell_type": "markdown",
   "id": "kDFEgZ0umuzU",
   "metadata": {
    "id": "kDFEgZ0umuzU"
   },
   "source": [
    "#### validation set에 적용하기"
   ]
  },
  {
   "cell_type": "code",
   "execution_count": 42,
   "id": "pZZQbC97mvKw",
   "metadata": {
    "id": "pZZQbC97mvKw"
   },
   "outputs": [
    {
     "data": {
      "text/plain": [
       "Age           0\n",
       "Fare          0\n",
       "Family        0\n",
       "Sex_male      0\n",
       "Embarked_Q    0\n",
       "Embarked_S    0\n",
       "Pclass_2      0\n",
       "Pclass_3      0\n",
       "dtype: int64"
      ]
     },
     "execution_count": 42,
     "metadata": {},
     "output_type": "execute_result"
    }
   ],
   "source": [
    "# validation 적용\n",
    "x_val_s = imputer2.transform(x_val_s)\n",
    "\n",
    "x_val_s = pd.DataFrame(x_val_s, columns=imputer2_list)\n",
    "x_val_s.isna().sum()"
   ]
  },
  {
   "cell_type": "markdown",
   "id": "H4zsaCgtn5FJ",
   "metadata": {
    "id": "H4zsaCgtn5FJ"
   },
   "source": [
    "## 3.모델링\n",
    "\n",
    "여기에서는 성능 최적화가 주안점이 아니므로 기본값으로 모델링을 수행합니다."
   ]
  },
  {
   "cell_type": "code",
   "execution_count": 43,
   "id": "27143e60-a134-496e-b318-d52e45b19a8f",
   "metadata": {
    "id": "27143e60-a134-496e-b318-d52e45b19a8f"
   },
   "outputs": [
    {
     "data": {
      "text/plain": [
       "SVC()"
      ]
     },
     "execution_count": 43,
     "metadata": {},
     "output_type": "execute_result"
    }
   ],
   "source": [
    "# SVM으로 모델링 수행\n",
    "model = SVC()\n",
    "model.fit(x_train_s, y_train)"
   ]
  },
  {
   "cell_type": "code",
   "execution_count": 44,
   "id": "16c71a0f-aead-4124-be9a-c8188abe3599",
   "metadata": {
    "id": "16c71a0f-aead-4124-be9a-c8188abe3599"
   },
   "outputs": [
    {
     "name": "stdout",
     "output_type": "stream",
     "text": [
      "              precision    recall  f1-score   support\n",
      "\n",
      "           0       0.80      0.96      0.87       167\n",
      "           1       0.90      0.58      0.71        98\n",
      "\n",
      "    accuracy                           0.82       265\n",
      "   macro avg       0.85      0.77      0.79       265\n",
      "weighted avg       0.84      0.82      0.81       265\n",
      "\n"
     ]
    }
   ],
   "source": [
    "# validation\n",
    "pred = model.predict(x_val_s)\n",
    "print(classification_report(y_val, pred))"
   ]
  },
  {
   "cell_type": "markdown",
   "id": "exk5tsLfodSO",
   "metadata": {
    "id": "exk5tsLfodSO"
   },
   "source": [
    "## 4.Data Pipeline 정리\n",
    "\n",
    "* 이제 최적의 모델이 생성되어, 운영시스템에 배포되었습니다.\n",
    "* 운영에서 new data가 주어졌을 때, 어떤 절차로 파이프라인을 구성해야 할까요?"
   ]
  },
  {
   "cell_type": "code",
   "execution_count": 45,
   "id": "668cb59f-069b-497a-8680-e07e22455bd7",
   "metadata": {
    "id": "668cb59f-069b-497a-8680-e07e22455bd7"
   },
   "outputs": [
    {
     "data": {
      "text/html": [
       "<div>\n",
       "<style scoped>\n",
       "    .dataframe tbody tr th:only-of-type {\n",
       "        vertical-align: middle;\n",
       "    }\n",
       "\n",
       "    .dataframe tbody tr th {\n",
       "        vertical-align: top;\n",
       "    }\n",
       "\n",
       "    .dataframe thead th {\n",
       "        text-align: right;\n",
       "    }\n",
       "</style>\n",
       "<table border=\"1\" class=\"dataframe\">\n",
       "  <thead>\n",
       "    <tr style=\"text-align: right;\">\n",
       "      <th></th>\n",
       "      <th>Pclass</th>\n",
       "      <th>Sex</th>\n",
       "      <th>Age</th>\n",
       "      <th>SibSp</th>\n",
       "      <th>Parch</th>\n",
       "      <th>Fare</th>\n",
       "      <th>Embarked</th>\n",
       "    </tr>\n",
       "  </thead>\n",
       "  <tbody>\n",
       "    <tr>\n",
       "      <th>770</th>\n",
       "      <td>3</td>\n",
       "      <td>male</td>\n",
       "      <td>24.0</td>\n",
       "      <td>0</td>\n",
       "      <td>0</td>\n",
       "      <td>9.5000</td>\n",
       "      <td>S</td>\n",
       "    </tr>\n",
       "    <tr>\n",
       "      <th>178</th>\n",
       "      <td>2</td>\n",
       "      <td>male</td>\n",
       "      <td>30.0</td>\n",
       "      <td>0</td>\n",
       "      <td>0</td>\n",
       "      <td>13.0000</td>\n",
       "      <td>S</td>\n",
       "    </tr>\n",
       "    <tr>\n",
       "      <th>786</th>\n",
       "      <td>3</td>\n",
       "      <td>female</td>\n",
       "      <td>18.0</td>\n",
       "      <td>0</td>\n",
       "      <td>0</td>\n",
       "      <td>7.4958</td>\n",
       "      <td>S</td>\n",
       "    </tr>\n",
       "    <tr>\n",
       "      <th>159</th>\n",
       "      <td>3</td>\n",
       "      <td>male</td>\n",
       "      <td>NaN</td>\n",
       "      <td>8</td>\n",
       "      <td>2</td>\n",
       "      <td>69.5500</td>\n",
       "      <td>S</td>\n",
       "    </tr>\n",
       "    <tr>\n",
       "      <th>656</th>\n",
       "      <td>3</td>\n",
       "      <td>male</td>\n",
       "      <td>NaN</td>\n",
       "      <td>0</td>\n",
       "      <td>0</td>\n",
       "      <td>7.8958</td>\n",
       "      <td>S</td>\n",
       "    </tr>\n",
       "  </tbody>\n",
       "</table>\n",
       "</div>"
      ],
      "text/plain": [
       "     Pclass     Sex   Age  SibSp  Parch     Fare Embarked\n",
       "770       3    male  24.0      0      0   9.5000        S\n",
       "178       2    male  30.0      0      0  13.0000        S\n",
       "786       3  female  18.0      0      0   7.4958        S\n",
       "159       3    male   NaN      8      2  69.5500        S\n",
       "656       3    male   NaN      0      0   7.8958        S"
      ]
     },
     "execution_count": 45,
     "metadata": {},
     "output_type": "execute_result"
    }
   ],
   "source": [
    "# new data : x_test\n",
    "x_test.head()"
   ]
  },
  {
   "cell_type": "markdown",
   "id": "oD0iVH-n-BJ6",
   "metadata": {
    "id": "oD0iVH-n-BJ6"
   },
   "source": [
    "### 1) [validation에 적용하기] 코드들 가져오기"
   ]
  },
  {
   "cell_type": "markdown",
   "id": "WcXNpgsY-NLD",
   "metadata": {
    "id": "WcXNpgsY-NLD"
   },
   "source": [
    "* 함수, 변수 선언"
   ]
  },
  {
   "cell_type": "code",
   "execution_count": 46,
   "id": "_x4wiPV0_XbQ",
   "metadata": {
    "id": "_x4wiPV0_XbQ"
   },
   "outputs": [],
   "source": [
    "def titanic_fe(df):\n",
    "    temp = df.copy()\n",
    "    # Family 변수 추가\n",
    "    temp['Family'] = temp['SibSp'] + temp['Parch'] + 1\n",
    "    temp.drop(['SibSp', 'Parch'], axis = 1, inplace = True)\n",
    "\n",
    "    # OOO 추가...\n",
    "    return temp\n",
    "\n",
    "def titanic_dumm(df, cat):\n",
    "    for k, v in cat.items():\n",
    "        df[k] = pd.Categorical(df[k], categories=v, ordered=False)\n",
    "    df = pd.get_dummies(df, columns =cat.keys(), drop_first = 1)\n",
    "    return df\n",
    "\n",
    "imputer1_list = ['Embarked']\n",
    "\n",
    "cat = {'Sex':[\"female\", \"male\"]\n",
    "       , 'Embarked':[\"C\", \"Q\", \"S\"]\n",
    "       ,'Pclass':[1,2,3]}"
   ]
  },
  {
   "cell_type": "markdown",
   "id": "ktCKmlWn_uFx",
   "metadata": {
    "id": "ktCKmlWn_uFx"
   },
   "source": [
    "* 전처리 실행"
   ]
  },
  {
   "cell_type": "code",
   "execution_count": 47,
   "id": "J1cgmE5oBNO9",
   "metadata": {
    "id": "J1cgmE5oBNO9"
   },
   "outputs": [],
   "source": [
    "temp = x_test.copy()"
   ]
  },
  {
   "cell_type": "code",
   "execution_count": 48,
   "id": "jny0TK0A9-RU",
   "metadata": {
    "id": "jny0TK0A9-RU"
   },
   "outputs": [
    {
     "data": {
      "text/plain": [
       "array([[0.2963056 , 0.01854277, 0.        , 1.        , 0.        ,\n",
       "        1.        , 0.        , 1.        ],\n",
       "       [0.37170143, 0.02537431, 0.        , 1.        , 0.        ,\n",
       "        1.        , 1.        , 0.        ],\n",
       "       [0.22090978, 0.01463083, 0.        , 0.        , 0.        ,\n",
       "        1.        , 0.        , 1.        ],\n",
       "       [0.07514451, 0.13575256, 1.        , 1.        , 0.        ,\n",
       "        1.        , 0.        , 1.        ],\n",
       "       [0.31892435, 0.01541158, 0.        , 1.        , 0.        ,\n",
       "        1.        , 0.        , 1.        ],\n",
       "       [0.22090978, 0.44409922, 0.1       , 0.        , 0.        ,\n",
       "        0.        , 0.        , 0.        ],\n",
       "       [0.4722292 , 0.01690807, 0.        , 1.        , 0.        ,\n",
       "        1.        , 0.        , 1.        ],\n",
       "       [0.15807992, 0.01411046, 0.        , 0.        , 0.        ,\n",
       "        0.        , 0.        , 1.        ],\n",
       "       [0.54762503, 0.05182215, 0.        , 1.        , 0.        ,\n",
       "        1.        , 0.        , 0.        ],\n",
       "       [0.35913546, 0.01517579, 0.        , 1.        , 0.        ,\n",
       "        1.        , 0.        , 1.        ]])"
      ]
     },
     "execution_count": 48,
     "metadata": {},
     "output_type": "execute_result"
    }
   ],
   "source": [
    "# Feature Engineering\n",
    "temp = titanic_fe(temp)\n",
    "\n",
    "# NaN 조치① : SimpleImputer\n",
    "temp[imputer1_list] = imputer1.fit_transform(temp[imputer1_list])\n",
    "\n",
    "# 가변수화\n",
    "temp = titanic_dumm(temp, cat)\n",
    "\n",
    "# 스케일링\n",
    "temp = scaler.transform(temp)\n",
    "\n",
    "# NaN 조치② : KNNImputer\n",
    "temp = imputer2.transform(temp)\n",
    "\n",
    "temp"
   ]
  },
  {
   "cell_type": "markdown",
   "id": "4tEvLvLlAH4h",
   "metadata": {
    "id": "4tEvLvLlAH4h"
   },
   "source": [
    "### 2) Data Pipeline 함수 만들고 실행하기"
   ]
  },
  {
   "cell_type": "code",
   "execution_count": 49,
   "id": "QsuAZDhzANXG",
   "metadata": {
    "id": "QsuAZDhzANXG"
   },
   "outputs": [],
   "source": [
    "def titanic_datapipeline(df, simpleimputer, simple_impute_list, dumm_list, scaler, knnimputer):\n",
    "\n",
    "    temp = df.copy()\n",
    "\n",
    "    # Feature Engineering\n",
    "    temp = titanic_fe(temp)\n",
    "\n",
    "    # NaN 조치① : SimpleImputer\n",
    "    temp[simple_impute_list] = simpleimputer.fit_transform(temp[simple_impute_list])\n",
    "\n",
    "    # 가변수화\n",
    "    temp = titanic_dumm(temp, dumm_list)\n",
    "\n",
    "    x_cols = list(temp)\n",
    "    # 스케일링\n",
    "    temp = scaler.transform(temp)\n",
    "\n",
    "    # NaN 조치② : KNNImputer\n",
    "    temp = knnimputer.transform(temp)\n",
    "\n",
    "    return pd.DataFrame(temp, columns = x_cols)\n"
   ]
  },
  {
   "cell_type": "code",
   "execution_count": 50,
   "id": "mby_zYhXDaIs",
   "metadata": {
    "id": "mby_zYhXDaIs"
   },
   "outputs": [
    {
     "data": {
      "text/html": [
       "<div>\n",
       "<style scoped>\n",
       "    .dataframe tbody tr th:only-of-type {\n",
       "        vertical-align: middle;\n",
       "    }\n",
       "\n",
       "    .dataframe tbody tr th {\n",
       "        vertical-align: top;\n",
       "    }\n",
       "\n",
       "    .dataframe thead th {\n",
       "        text-align: right;\n",
       "    }\n",
       "</style>\n",
       "<table border=\"1\" class=\"dataframe\">\n",
       "  <thead>\n",
       "    <tr style=\"text-align: right;\">\n",
       "      <th></th>\n",
       "      <th>Pclass</th>\n",
       "      <th>Sex</th>\n",
       "      <th>Age</th>\n",
       "      <th>SibSp</th>\n",
       "      <th>Parch</th>\n",
       "      <th>Fare</th>\n",
       "      <th>Embarked</th>\n",
       "    </tr>\n",
       "  </thead>\n",
       "  <tbody>\n",
       "    <tr>\n",
       "      <th>770</th>\n",
       "      <td>3</td>\n",
       "      <td>male</td>\n",
       "      <td>24.0</td>\n",
       "      <td>0</td>\n",
       "      <td>0</td>\n",
       "      <td>9.5000</td>\n",
       "      <td>S</td>\n",
       "    </tr>\n",
       "    <tr>\n",
       "      <th>178</th>\n",
       "      <td>2</td>\n",
       "      <td>male</td>\n",
       "      <td>30.0</td>\n",
       "      <td>0</td>\n",
       "      <td>0</td>\n",
       "      <td>13.0000</td>\n",
       "      <td>S</td>\n",
       "    </tr>\n",
       "    <tr>\n",
       "      <th>786</th>\n",
       "      <td>3</td>\n",
       "      <td>female</td>\n",
       "      <td>18.0</td>\n",
       "      <td>0</td>\n",
       "      <td>0</td>\n",
       "      <td>7.4958</td>\n",
       "      <td>S</td>\n",
       "    </tr>\n",
       "    <tr>\n",
       "      <th>159</th>\n",
       "      <td>3</td>\n",
       "      <td>male</td>\n",
       "      <td>NaN</td>\n",
       "      <td>8</td>\n",
       "      <td>2</td>\n",
       "      <td>69.5500</td>\n",
       "      <td>S</td>\n",
       "    </tr>\n",
       "    <tr>\n",
       "      <th>656</th>\n",
       "      <td>3</td>\n",
       "      <td>male</td>\n",
       "      <td>NaN</td>\n",
       "      <td>0</td>\n",
       "      <td>0</td>\n",
       "      <td>7.8958</td>\n",
       "      <td>S</td>\n",
       "    </tr>\n",
       "    <tr>\n",
       "      <th>700</th>\n",
       "      <td>1</td>\n",
       "      <td>female</td>\n",
       "      <td>18.0</td>\n",
       "      <td>1</td>\n",
       "      <td>0</td>\n",
       "      <td>227.5250</td>\n",
       "      <td>C</td>\n",
       "    </tr>\n",
       "    <tr>\n",
       "      <th>471</th>\n",
       "      <td>3</td>\n",
       "      <td>male</td>\n",
       "      <td>38.0</td>\n",
       "      <td>0</td>\n",
       "      <td>0</td>\n",
       "      <td>8.6625</td>\n",
       "      <td>S</td>\n",
       "    </tr>\n",
       "    <tr>\n",
       "      <th>780</th>\n",
       "      <td>3</td>\n",
       "      <td>female</td>\n",
       "      <td>13.0</td>\n",
       "      <td>0</td>\n",
       "      <td>0</td>\n",
       "      <td>7.2292</td>\n",
       "      <td>C</td>\n",
       "    </tr>\n",
       "    <tr>\n",
       "      <th>711</th>\n",
       "      <td>1</td>\n",
       "      <td>male</td>\n",
       "      <td>NaN</td>\n",
       "      <td>0</td>\n",
       "      <td>0</td>\n",
       "      <td>26.5500</td>\n",
       "      <td>S</td>\n",
       "    </tr>\n",
       "    <tr>\n",
       "      <th>231</th>\n",
       "      <td>3</td>\n",
       "      <td>male</td>\n",
       "      <td>29.0</td>\n",
       "      <td>0</td>\n",
       "      <td>0</td>\n",
       "      <td>7.7750</td>\n",
       "      <td>S</td>\n",
       "    </tr>\n",
       "  </tbody>\n",
       "</table>\n",
       "</div>"
      ],
      "text/plain": [
       "     Pclass     Sex   Age  SibSp  Parch      Fare Embarked\n",
       "770       3    male  24.0      0      0    9.5000        S\n",
       "178       2    male  30.0      0      0   13.0000        S\n",
       "786       3  female  18.0      0      0    7.4958        S\n",
       "159       3    male   NaN      8      2   69.5500        S\n",
       "656       3    male   NaN      0      0    7.8958        S\n",
       "700       1  female  18.0      1      0  227.5250        C\n",
       "471       3    male  38.0      0      0    8.6625        S\n",
       "780       3  female  13.0      0      0    7.2292        C\n",
       "711       1    male   NaN      0      0   26.5500        S\n",
       "231       3    male  29.0      0      0    7.7750        S"
      ]
     },
     "execution_count": 50,
     "metadata": {},
     "output_type": "execute_result"
    }
   ],
   "source": [
    "x_test"
   ]
  },
  {
   "cell_type": "code",
   "execution_count": 51,
   "id": "gEobfBor_1us",
   "metadata": {
    "id": "gEobfBor_1us"
   },
   "outputs": [],
   "source": [
    "# 적용\n",
    "input = titanic_datapipeline(x_test, imputer1, imputer1_list, cat, scaler, imputer2)"
   ]
  },
  {
   "cell_type": "code",
   "execution_count": 52,
   "id": "xCLyPjMZ_2mG",
   "metadata": {
    "id": "xCLyPjMZ_2mG"
   },
   "outputs": [
    {
     "data": {
      "text/plain": [
       "array([0, 0, 0, 0, 0, 1, 0, 1, 0, 0], dtype=int64)"
      ]
     },
     "execution_count": 52,
     "metadata": {},
     "output_type": "execute_result"
    }
   ],
   "source": [
    "# 예측\n",
    "model.predict(input)"
   ]
  },
  {
   "cell_type": "code",
   "execution_count": null,
   "id": "97vKafHEEELv",
   "metadata": {
    "id": "97vKafHEEELv"
   },
   "outputs": [],
   "source": []
  }
 ],
 "metadata": {
  "colab": {
   "collapsed_sections": [],
   "name": "2. Data Pipeline_예제.ipynb",
   "provenance": [],
   "toc_visible": true
  },
  "kernelspec": {
   "display_name": "Python 3",
   "language": "python",
   "name": "python3"
  },
  "language_info": {
   "codemirror_mode": {
    "name": "ipython",
    "version": 3
   },
   "file_extension": ".py",
   "mimetype": "text/x-python",
   "name": "python",
   "nbconvert_exporter": "python",
   "pygments_lexer": "ipython3",
   "version": "3.8.8"
  }
 },
 "nbformat": 4,
 "nbformat_minor": 5
}
