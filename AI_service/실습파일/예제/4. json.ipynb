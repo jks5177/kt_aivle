{
 "cells": [
  {
   "cell_type": "markdown",
   "id": "e2b11bae-a047-4f04-abec-1945f23e6b8f",
   "metadata": {
    "id": "e2b11bae-a047-4f04-abec-1945f23e6b8f"
   },
   "source": [
    "# DataFrame과 JSON 데이터"
   ]
  },
  {
   "cell_type": "code",
   "execution_count": 1,
   "id": "d7c5eb04-cbee-468c-bc3f-c61482242293",
   "metadata": {
    "executionInfo": {
     "elapsed": 353,
     "status": "ok",
     "timestamp": 1648164668067,
     "user": {
      "displayName": "한기영",
      "photoUrl": "https://lh3.googleusercontent.com/a/default-user=s64",
      "userId": "13049187003176135487"
     },
     "user_tz": -540
    },
    "id": "d7c5eb04-cbee-468c-bc3f-c61482242293",
    "tags": []
   },
   "outputs": [],
   "source": [
    "import pandas as pd\n",
    "import json"
   ]
  },
  {
   "cell_type": "code",
   "execution_count": 2,
   "id": "9615f830-d065-4005-9afb-c1ff8e30c25b",
   "metadata": {
    "executionInfo": {
     "elapsed": 324,
     "status": "ok",
     "timestamp": 1648164668389,
     "user": {
      "displayName": "한기영",
      "photoUrl": "https://lh3.googleusercontent.com/a/default-user=s64",
      "userId": "13049187003176135487"
     },
     "user_tz": -540
    },
    "id": "9615f830-d065-4005-9afb-c1ff8e30c25b",
    "tags": []
   },
   "outputs": [],
   "source": [
    "data = pd.read_csv('https://raw.githubusercontent.com/DA4BAM/dataset/master/iris.csv')"
   ]
  },
  {
   "cell_type": "markdown",
   "id": "b13c67ba-c874-4bb3-817c-c2f385206b36",
   "metadata": {
    "id": "b13c67ba-c874-4bb3-817c-c2f385206b36",
    "tags": []
   },
   "source": [
    "## 1. dataframe to json\n",
    "\n",
    "* df.to_json(orient = )\n",
    "    * orient = 'columns'\n",
    "    * orient = 'records'\n",
    "    * orient = 'index'\n",
    "    * orient = 'split'\n",
    "    * orient = 'table'\n",
    "    \n",
    "    \n",
    "https://pandas.pydata.org/docs/reference/api/pandas.DataFrame.to_json.html"
   ]
  },
  {
   "cell_type": "code",
   "execution_count": 3,
   "id": "e9f4aaec-bb21-410b-99b7-5d163d7c3f45",
   "metadata": {
    "executionInfo": {
     "elapsed": 275,
     "status": "ok",
     "timestamp": 1648164675166,
     "user": {
      "displayName": "한기영",
      "photoUrl": "https://lh3.googleusercontent.com/a/default-user=s64",
      "userId": "13049187003176135487"
     },
     "user_tz": -540
    },
    "id": "e9f4aaec-bb21-410b-99b7-5d163d7c3f45"
   },
   "outputs": [],
   "source": [
    "temp = data.head(3)"
   ]
  },
  {
   "cell_type": "markdown",
   "id": "898109f0-b851-418e-9333-1b3d37362bab",
   "metadata": {
    "id": "898109f0-b851-418e-9333-1b3d37362bab"
   },
   "source": [
    "### 1) 칼럼별로 저장하기 orient = 'columns'"
   ]
  },
  {
   "cell_type": "code",
   "execution_count": 4,
   "id": "d060ade6-281a-4674-8eb7-0dc0546419a6",
   "metadata": {
    "colab": {
     "base_uri": "https://localhost:8080/",
     "height": 72
    },
    "executionInfo": {
     "elapsed": 8,
     "status": "ok",
     "timestamp": 1648165117232,
     "user": {
      "displayName": "한기영",
      "photoUrl": "https://lh3.googleusercontent.com/a/default-user=s64",
      "userId": "13049187003176135487"
     },
     "user_tz": -540
    },
    "id": "d060ade6-281a-4674-8eb7-0dc0546419a6",
    "outputId": "4519b6b1-baf1-426d-e926-a1d5591189da"
   },
   "outputs": [
    {
     "name": "stdout",
     "output_type": "stream",
     "text": [
      "<class 'str'>\n"
     ]
    },
    {
     "data": {
      "text/plain": [
       "'{\"Sepal.Length\":{\"0\":5.1,\"1\":4.9,\"2\":4.7},\"Sepal.Width\":{\"0\":3.5,\"1\":3.0,\"2\":3.2},\"Petal.Length\":{\"0\":1.4,\"1\":1.4,\"2\":1.3},\"Petal.Width\":{\"0\":0.2,\"1\":0.2,\"2\":0.2},\"Species\":{\"0\":\"setosa\",\"1\":\"setosa\",\"2\":\"setosa\"}}'"
      ]
     },
     "execution_count": 4,
     "metadata": {},
     "output_type": "execute_result"
    }
   ],
   "source": [
    "# json 구조의 문자열\n",
    "js_columns = temp.to_json(orient = 'columns')\n",
    "print(type(js_columns)) \n",
    "js_columns "
   ]
  },
  {
   "cell_type": "markdown",
   "id": "bfd1f5fa-9a02-4557-a755-a3269556c9c8",
   "metadata": {
    "id": "bfd1f5fa-9a02-4557-a755-a3269556c9c8"
   },
   "source": [
    "* json 구조에 맞게(눈에 보기 좋게) 보려면\n",
    "    * json 패키지의 loads 함수로 기존 객체를 불러와서, \n",
    "    * 다시 json.dumps로 저장하면 됨."
   ]
  },
  {
   "cell_type": "code",
   "execution_count": 5,
   "id": "728de0ca-3cb8-4939-be14-ab6b2f221513",
   "metadata": {
    "colab": {
     "base_uri": "https://localhost:8080/"
    },
    "executionInfo": {
     "elapsed": 258,
     "status": "ok",
     "timestamp": 1648165127199,
     "user": {
      "displayName": "한기영",
      "photoUrl": "https://lh3.googleusercontent.com/a/default-user=s64",
      "userId": "13049187003176135487"
     },
     "user_tz": -540
    },
    "id": "728de0ca-3cb8-4939-be14-ab6b2f221513",
    "outputId": "949ebbc5-a16c-4c02-c05b-01177d480c68"
   },
   "outputs": [
    {
     "name": "stdout",
     "output_type": "stream",
     "text": [
      "<class 'dict'>\n"
     ]
    },
    {
     "data": {
      "text/plain": [
       "{'Sepal.Length': {'0': 5.1, '1': 4.9, '2': 4.7},\n",
       " 'Sepal.Width': {'0': 3.5, '1': 3.0, '2': 3.2},\n",
       " 'Petal.Length': {'0': 1.4, '1': 1.4, '2': 1.3},\n",
       " 'Petal.Width': {'0': 0.2, '1': 0.2, '2': 0.2},\n",
       " 'Species': {'0': 'setosa', '1': 'setosa', '2': 'setosa'}}"
      ]
     },
     "execution_count": 5,
     "metadata": {},
     "output_type": "execute_result"
    }
   ],
   "source": [
    "# json 구조의 딕셔너리\n",
    "parsed = json.loads(js_columns)\n",
    "print(type(parsed)) \n",
    "parsed"
   ]
  },
  {
   "cell_type": "markdown",
   "id": "191cb962-a835-484f-a290-db9e67dc1cc9",
   "metadata": {
    "id": "191cb962-a835-484f-a290-db9e67dc1cc9"
   },
   "source": [
    "### 2) 행 별로 저장하기 orient = 'records'"
   ]
  },
  {
   "cell_type": "code",
   "execution_count": 6,
   "id": "4140f37c-3871-422d-8bec-55d022c8d1c5",
   "metadata": {
    "id": "4140f37c-3871-422d-8bec-55d022c8d1c5",
    "outputId": "62ba5141-0e15-4d0c-f365-ce4c4f25bcc1"
   },
   "outputs": [
    {
     "name": "stdout",
     "output_type": "stream",
     "text": [
      "[{\"Sepal.Length\":5.1,\"Sepal.Width\":3.5,\"Petal.Length\":1.4,\"Petal.Width\":0.2,\"Species\":\"setosa\"},{\"Sepal.Length\":4.9,\"Sepal.Width\":3.0,\"Petal.Length\":1.4,\"Petal.Width\":0.2,\"Species\":\"setosa\"},{\"Sepal.Length\":4.7,\"Sepal.Width\":3.2,\"Petal.Length\":1.3,\"Petal.Width\":0.2,\"Species\":\"setosa\"}]\n"
     ]
    }
   ],
   "source": [
    "js_records = temp.to_json(orient = 'records')\n",
    "print(js_records)"
   ]
  },
  {
   "cell_type": "code",
   "execution_count": 7,
   "id": "62e80742-fae1-43e6-8980-63dff87f8001",
   "metadata": {
    "id": "62e80742-fae1-43e6-8980-63dff87f8001",
    "outputId": "8ba5cbd5-96a4-4e45-ec8b-75605385fe17"
   },
   "outputs": [
    {
     "name": "stdout",
     "output_type": "stream",
     "text": [
      "[\n",
      "    {\n",
      "        \"Sepal.Length\": 5.1,\n",
      "        \"Sepal.Width\": 3.5,\n",
      "        \"Petal.Length\": 1.4,\n",
      "        \"Petal.Width\": 0.2,\n",
      "        \"Species\": \"setosa\"\n",
      "    },\n",
      "    {\n",
      "        \"Sepal.Length\": 4.9,\n",
      "        \"Sepal.Width\": 3.0,\n",
      "        \"Petal.Length\": 1.4,\n",
      "        \"Petal.Width\": 0.2,\n",
      "        \"Species\": \"setosa\"\n",
      "    },\n",
      "    {\n",
      "        \"Sepal.Length\": 4.7,\n",
      "        \"Sepal.Width\": 3.2,\n",
      "        \"Petal.Length\": 1.3,\n",
      "        \"Petal.Width\": 0.2,\n",
      "        \"Species\": \"setosa\"\n",
      "    }\n",
      "]\n"
     ]
    }
   ],
   "source": [
    "# json 구조에 맞게 들여쓰기, 내려쓰기를 해서 보려면\n",
    "parsed = json.loads(js_records)\n",
    "print(json.dumps(parsed, indent=4))"
   ]
  },
  {
   "cell_type": "markdown",
   "id": "130dc7ea-f700-448d-9887-b4b5072af903",
   "metadata": {
    "id": "130dc7ea-f700-448d-9887-b4b5072af903"
   },
   "source": [
    "### 3) 인덱스 별로 저장하기 orient = 'index'\n",
    "\n",
    "records와 유사. 행 인덱스 표시."
   ]
  },
  {
   "cell_type": "code",
   "execution_count": 8,
   "id": "f490bf63-5fdd-407e-8b67-0f3069d4d152",
   "metadata": {
    "colab": {
     "base_uri": "https://localhost:8080/",
     "height": 72
    },
    "executionInfo": {
     "elapsed": 258,
     "status": "ok",
     "timestamp": 1648165155174,
     "user": {
      "displayName": "한기영",
      "photoUrl": "https://lh3.googleusercontent.com/a/default-user=s64",
      "userId": "13049187003176135487"
     },
     "user_tz": -540
    },
    "id": "f490bf63-5fdd-407e-8b67-0f3069d4d152",
    "outputId": "0932be94-91e3-4f3d-a054-abe96f89a496"
   },
   "outputs": [
    {
     "data": {
      "text/plain": [
       "'{\"0\":{\"Sepal.Length\":5.1,\"Sepal.Width\":3.5,\"Petal.Length\":1.4,\"Petal.Width\":0.2,\"Species\":\"setosa\"},\"1\":{\"Sepal.Length\":4.9,\"Sepal.Width\":3.0,\"Petal.Length\":1.4,\"Petal.Width\":0.2,\"Species\":\"setosa\"},\"2\":{\"Sepal.Length\":4.7,\"Sepal.Width\":3.2,\"Petal.Length\":1.3,\"Petal.Width\":0.2,\"Species\":\"setosa\"}}'"
      ]
     },
     "execution_count": 8,
     "metadata": {},
     "output_type": "execute_result"
    }
   ],
   "source": [
    "js_index = temp.to_json(orient = 'index')\n",
    "js_index"
   ]
  },
  {
   "cell_type": "code",
   "execution_count": 9,
   "id": "4811a4fa-3bfd-47c1-ad83-23e41cbc95dc",
   "metadata": {
    "colab": {
     "base_uri": "https://localhost:8080/"
    },
    "executionInfo": {
     "elapsed": 6,
     "status": "ok",
     "timestamp": 1648165156252,
     "user": {
      "displayName": "한기영",
      "photoUrl": "https://lh3.googleusercontent.com/a/default-user=s64",
      "userId": "13049187003176135487"
     },
     "user_tz": -540
    },
    "id": "4811a4fa-3bfd-47c1-ad83-23e41cbc95dc",
    "outputId": "bd6007a9-a146-45d3-bcf5-baca7eb2c1b5"
   },
   "outputs": [
    {
     "data": {
      "text/plain": [
       "{'0': {'Sepal.Length': 5.1,\n",
       "  'Sepal.Width': 3.5,\n",
       "  'Petal.Length': 1.4,\n",
       "  'Petal.Width': 0.2,\n",
       "  'Species': 'setosa'},\n",
       " '1': {'Sepal.Length': 4.9,\n",
       "  'Sepal.Width': 3.0,\n",
       "  'Petal.Length': 1.4,\n",
       "  'Petal.Width': 0.2,\n",
       "  'Species': 'setosa'},\n",
       " '2': {'Sepal.Length': 4.7,\n",
       "  'Sepal.Width': 3.2,\n",
       "  'Petal.Length': 1.3,\n",
       "  'Petal.Width': 0.2,\n",
       "  'Species': 'setosa'}}"
      ]
     },
     "execution_count": 9,
     "metadata": {},
     "output_type": "execute_result"
    }
   ],
   "source": [
    "parsed = json.loads(js_index)\n",
    "parsed"
   ]
  },
  {
   "cell_type": "markdown",
   "id": "9b00ce40-4aa8-4aa1-8c55-890c39670708",
   "metadata": {
    "id": "9b00ce40-4aa8-4aa1-8c55-890c39670708"
   },
   "source": [
    "### 4) 하위 구성요소별로 저장 orient = 'split'\n",
    "columns, index, data 구조로 저장"
   ]
  },
  {
   "cell_type": "code",
   "execution_count": 10,
   "id": "f070f931-8e77-4502-bb05-f60e55b8bd38",
   "metadata": {
    "colab": {
     "base_uri": "https://localhost:8080/",
     "height": 54
    },
    "executionInfo": {
     "elapsed": 333,
     "status": "ok",
     "timestamp": 1648165636291,
     "user": {
      "displayName": "한기영",
      "photoUrl": "https://lh3.googleusercontent.com/a/default-user=s64",
      "userId": "13049187003176135487"
     },
     "user_tz": -540
    },
    "id": "f070f931-8e77-4502-bb05-f60e55b8bd38",
    "outputId": "70203cac-c26b-4ced-cb05-7ec92ab7521c"
   },
   "outputs": [
    {
     "data": {
      "text/plain": [
       "'{\"columns\":[\"Sepal.Length\",\"Sepal.Width\",\"Petal.Length\",\"Petal.Width\",\"Species\"],\"index\":[0,1,2],\"data\":[[5.1,3.5,1.4,0.2,\"setosa\"],[4.9,3.0,1.4,0.2,\"setosa\"],[4.7,3.2,1.3,0.2,\"setosa\"]]}'"
      ]
     },
     "execution_count": 10,
     "metadata": {},
     "output_type": "execute_result"
    }
   ],
   "source": [
    "js_split = temp.to_json(orient = 'split')\n",
    "js_split"
   ]
  },
  {
   "cell_type": "code",
   "execution_count": 11,
   "id": "3260fcb8-8c0e-47ca-94fb-63634c2b7192",
   "metadata": {
    "colab": {
     "base_uri": "https://localhost:8080/"
    },
    "executionInfo": {
     "elapsed": 318,
     "status": "ok",
     "timestamp": 1648165648996,
     "user": {
      "displayName": "한기영",
      "photoUrl": "https://lh3.googleusercontent.com/a/default-user=s64",
      "userId": "13049187003176135487"
     },
     "user_tz": -540
    },
    "id": "3260fcb8-8c0e-47ca-94fb-63634c2b7192",
    "outputId": "4aad7ea5-3f30-44b4-daf9-877f50769c89"
   },
   "outputs": [
    {
     "data": {
      "text/plain": [
       "{'columns': ['Sepal.Length',\n",
       "  'Sepal.Width',\n",
       "  'Petal.Length',\n",
       "  'Petal.Width',\n",
       "  'Species'],\n",
       " 'index': [0, 1, 2],\n",
       " 'data': [[5.1, 3.5, 1.4, 0.2, 'setosa'],\n",
       "  [4.9, 3.0, 1.4, 0.2, 'setosa'],\n",
       "  [4.7, 3.2, 1.3, 0.2, 'setosa']]}"
      ]
     },
     "execution_count": 11,
     "metadata": {},
     "output_type": "execute_result"
    }
   ],
   "source": [
    "parsed = json.loads(js_split)\n",
    "parsed"
   ]
  },
  {
   "cell_type": "markdown",
   "id": "fd63ff76-bc6b-40ef-8975-936b1490be15",
   "metadata": {
    "id": "fd63ff76-bc6b-40ef-8975-936b1490be15"
   },
   "source": [
    "### 5) table의 구성요소별로 저장 orient = 'table'\n",
    "\n",
    "* schema\n",
    "    * fields\n",
    "    * primary key\n",
    "* data"
   ]
  },
  {
   "cell_type": "code",
   "execution_count": 12,
   "id": "c2c39310-a124-4dc5-b5ef-25cdd474d8b0",
   "metadata": {
    "colab": {
     "base_uri": "https://localhost:8080/",
     "height": 108
    },
    "executionInfo": {
     "elapsed": 267,
     "status": "ok",
     "timestamp": 1648165683508,
     "user": {
      "displayName": "한기영",
      "photoUrl": "https://lh3.googleusercontent.com/a/default-user=s64",
      "userId": "13049187003176135487"
     },
     "user_tz": -540
    },
    "id": "c2c39310-a124-4dc5-b5ef-25cdd474d8b0",
    "outputId": "2a9040aa-f55b-42b4-c503-bfc04258f776"
   },
   "outputs": [
    {
     "data": {
      "text/plain": [
       "'{\"schema\":{\"fields\":[{\"name\":\"index\",\"type\":\"integer\"},{\"name\":\"Sepal.Length\",\"type\":\"number\"},{\"name\":\"Sepal.Width\",\"type\":\"number\"},{\"name\":\"Petal.Length\",\"type\":\"number\"},{\"name\":\"Petal.Width\",\"type\":\"number\"},{\"name\":\"Species\",\"type\":\"string\"}],\"primaryKey\":[\"index\"],\"pandas_version\":\"0.20.0\"},\"data\":[{\"index\":0,\"Sepal.Length\":5.1,\"Sepal.Width\":3.5,\"Petal.Length\":1.4,\"Petal.Width\":0.2,\"Species\":\"setosa\"},{\"index\":1,\"Sepal.Length\":4.9,\"Sepal.Width\":3.0,\"Petal.Length\":1.4,\"Petal.Width\":0.2,\"Species\":\"setosa\"},{\"index\":2,\"Sepal.Length\":4.7,\"Sepal.Width\":3.2,\"Petal.Length\":1.3,\"Petal.Width\":0.2,\"Species\":\"setosa\"}]}'"
      ]
     },
     "execution_count": 12,
     "metadata": {},
     "output_type": "execute_result"
    }
   ],
   "source": [
    "js_table = temp.to_json(orient = 'table')\n",
    "js_table"
   ]
  },
  {
   "cell_type": "code",
   "execution_count": 13,
   "id": "38b7b2ac-59fb-41bb-a047-2a3686180231",
   "metadata": {
    "colab": {
     "base_uri": "https://localhost:8080/"
    },
    "executionInfo": {
     "elapsed": 3,
     "status": "ok",
     "timestamp": 1648165683763,
     "user": {
      "displayName": "한기영",
      "photoUrl": "https://lh3.googleusercontent.com/a/default-user=s64",
      "userId": "13049187003176135487"
     },
     "user_tz": -540
    },
    "id": "38b7b2ac-59fb-41bb-a047-2a3686180231",
    "outputId": "db46f0a2-7927-4e13-ac8f-107745b85843"
   },
   "outputs": [
    {
     "data": {
      "text/plain": [
       "{'schema': {'fields': [{'name': 'index', 'type': 'integer'},\n",
       "   {'name': 'Sepal.Length', 'type': 'number'},\n",
       "   {'name': 'Sepal.Width', 'type': 'number'},\n",
       "   {'name': 'Petal.Length', 'type': 'number'},\n",
       "   {'name': 'Petal.Width', 'type': 'number'},\n",
       "   {'name': 'Species', 'type': 'string'}],\n",
       "  'primaryKey': ['index'],\n",
       "  'pandas_version': '0.20.0'},\n",
       " 'data': [{'index': 0,\n",
       "   'Sepal.Length': 5.1,\n",
       "   'Sepal.Width': 3.5,\n",
       "   'Petal.Length': 1.4,\n",
       "   'Petal.Width': 0.2,\n",
       "   'Species': 'setosa'},\n",
       "  {'index': 1,\n",
       "   'Sepal.Length': 4.9,\n",
       "   'Sepal.Width': 3.0,\n",
       "   'Petal.Length': 1.4,\n",
       "   'Petal.Width': 0.2,\n",
       "   'Species': 'setosa'},\n",
       "  {'index': 2,\n",
       "   'Sepal.Length': 4.7,\n",
       "   'Sepal.Width': 3.2,\n",
       "   'Petal.Length': 1.3,\n",
       "   'Petal.Width': 0.2,\n",
       "   'Species': 'setosa'}]}"
      ]
     },
     "execution_count": 13,
     "metadata": {},
     "output_type": "execute_result"
    }
   ],
   "source": [
    "# json 구조에 맞게 들여쓰기, 내려쓰기를 해서 보려면\n",
    "parsed = json.loads(js_table)\n",
    "parsed"
   ]
  },
  {
   "cell_type": "markdown",
   "id": "2cdc0741-638e-4f19-abeb-ffc5a8244e94",
   "metadata": {
    "id": "2cdc0741-638e-4f19-abeb-ffc5a8244e94"
   },
   "source": [
    "### 실습"
   ]
  },
  {
   "cell_type": "code",
   "execution_count": 14,
   "id": "87747827-fafd-4449-8663-4fcb2b747e25",
   "metadata": {
    "colab": {
     "base_uri": "https://localhost:8080/",
     "height": 143
    },
    "executionInfo": {
     "elapsed": 325,
     "status": "ok",
     "timestamp": 1648165705428,
     "user": {
      "displayName": "한기영",
      "photoUrl": "https://lh3.googleusercontent.com/a/default-user=s64",
      "userId": "13049187003176135487"
     },
     "user_tz": -540
    },
    "id": "87747827-fafd-4449-8663-4fcb2b747e25",
    "outputId": "85e4448e-eba5-466e-d82a-107e515a0154"
   },
   "outputs": [
    {
     "data": {
      "text/html": [
       "<div>\n",
       "<style scoped>\n",
       "    .dataframe tbody tr th:only-of-type {\n",
       "        vertical-align: middle;\n",
       "    }\n",
       "\n",
       "    .dataframe tbody tr th {\n",
       "        vertical-align: top;\n",
       "    }\n",
       "\n",
       "    .dataframe thead th {\n",
       "        text-align: right;\n",
       "    }\n",
       "</style>\n",
       "<table border=\"1\" class=\"dataframe\">\n",
       "  <thead>\n",
       "    <tr style=\"text-align: right;\">\n",
       "      <th></th>\n",
       "      <th>PassengerId</th>\n",
       "      <th>Survived</th>\n",
       "      <th>Pclass</th>\n",
       "      <th>Name</th>\n",
       "      <th>Sex</th>\n",
       "      <th>Age</th>\n",
       "      <th>Fare</th>\n",
       "      <th>Embarked</th>\n",
       "    </tr>\n",
       "  </thead>\n",
       "  <tbody>\n",
       "    <tr>\n",
       "      <th>0</th>\n",
       "      <td>1</td>\n",
       "      <td>0</td>\n",
       "      <td>3</td>\n",
       "      <td>Braund, Mr. Owen Harris</td>\n",
       "      <td>male</td>\n",
       "      <td>22.0</td>\n",
       "      <td>7.2500</td>\n",
       "      <td>Southhampton</td>\n",
       "    </tr>\n",
       "    <tr>\n",
       "      <th>1</th>\n",
       "      <td>2</td>\n",
       "      <td>1</td>\n",
       "      <td>1</td>\n",
       "      <td>Cumings, Mrs. John Bradley (Florence Briggs Th...</td>\n",
       "      <td>female</td>\n",
       "      <td>38.0</td>\n",
       "      <td>71.2833</td>\n",
       "      <td>Cherbourg</td>\n",
       "    </tr>\n",
       "    <tr>\n",
       "      <th>2</th>\n",
       "      <td>3</td>\n",
       "      <td>1</td>\n",
       "      <td>3</td>\n",
       "      <td>Heikkinen, Miss. Laina</td>\n",
       "      <td>female</td>\n",
       "      <td>26.0</td>\n",
       "      <td>7.9250</td>\n",
       "      <td>Southhampton</td>\n",
       "    </tr>\n",
       "  </tbody>\n",
       "</table>\n",
       "</div>"
      ],
      "text/plain": [
       "   PassengerId  Survived  Pclass  \\\n",
       "0            1         0       3   \n",
       "1            2         1       1   \n",
       "2            3         1       3   \n",
       "\n",
       "                                                Name     Sex   Age     Fare  \\\n",
       "0                            Braund, Mr. Owen Harris    male  22.0   7.2500   \n",
       "1  Cumings, Mrs. John Bradley (Florence Briggs Th...  female  38.0  71.2833   \n",
       "2                             Heikkinen, Miss. Laina  female  26.0   7.9250   \n",
       "\n",
       "       Embarked  \n",
       "0  Southhampton  \n",
       "1     Cherbourg  \n",
       "2  Southhampton  "
      ]
     },
     "execution_count": 14,
     "metadata": {},
     "output_type": "execute_result"
    }
   ],
   "source": [
    "titanic = pd.read_csv(\"https://raw.githubusercontent.com/DA4BAM/dataset/master/titanic_simple.csv\")\n",
    "temp_t = titanic.head(3)\n",
    "temp_t"
   ]
  },
  {
   "cell_type": "markdown",
   "id": "d2174be8-0263-460b-bdc9-84805b26b2e2",
   "metadata": {
    "id": "d2174be8-0263-460b-bdc9-84805b26b2e2"
   },
   "source": [
    "* temp_t 를 column 별로 json 형태로 저장하고 조회하시오. "
   ]
  },
  {
   "cell_type": "code",
   "execution_count": 15,
   "id": "c2d6f931-a070-4ecd-9a4a-85ffc8bd13b6",
   "metadata": {
    "colab": {
     "base_uri": "https://localhost:8080/"
    },
    "executionInfo": {
     "elapsed": 3,
     "status": "ok",
     "timestamp": 1648165705701,
     "user": {
      "displayName": "한기영",
      "photoUrl": "https://lh3.googleusercontent.com/a/default-user=s64",
      "userId": "13049187003176135487"
     },
     "user_tz": -540
    },
    "id": "c2d6f931-a070-4ecd-9a4a-85ffc8bd13b6",
    "outputId": "0c02e2c1-2294-4d8c-8995-47893fe66806"
   },
   "outputs": [
    {
     "data": {
      "text/plain": [
       "{'PassengerId': {'0': 1, '1': 2, '2': 3},\n",
       " 'Survived': {'0': 0, '1': 1, '2': 1},\n",
       " 'Pclass': {'0': 3, '1': 1, '2': 3},\n",
       " 'Name': {'0': 'Braund, Mr. Owen Harris',\n",
       "  '1': 'Cumings, Mrs. John Bradley (Florence Briggs Thayer)',\n",
       "  '2': 'Heikkinen, Miss. Laina'},\n",
       " 'Sex': {'0': 'male', '1': 'female', '2': 'female'},\n",
       " 'Age': {'0': 22.0, '1': 38.0, '2': 26.0},\n",
       " 'Fare': {'0': 7.25, '1': 71.2833, '2': 7.925},\n",
       " 'Embarked': {'0': 'Southhampton', '1': 'Cherbourg', '2': 'Southhampton'}}"
      ]
     },
     "execution_count": 15,
     "metadata": {},
     "output_type": "execute_result"
    }
   ],
   "source": [
    "temp_t_col = temp_t.to_json(orient='columns')\n",
    "parser = json.loads(temp_t_col)\n",
    "parser"
   ]
  },
  {
   "cell_type": "markdown",
   "id": "f92afe5b-ccaf-4709-9687-98eddb46c235",
   "metadata": {
    "id": "f92afe5b-ccaf-4709-9687-98eddb46c235"
   },
   "source": [
    "* temp_t 를 records 별로 json 형태로 저장하고 조회하시오. "
   ]
  },
  {
   "cell_type": "code",
   "execution_count": 16,
   "id": "63866b91-2d5b-43b4-b072-6a9dfee795d1",
   "metadata": {
    "id": "63866b91-2d5b-43b4-b072-6a9dfee795d1",
    "outputId": "4b45852e-f7e6-48ae-e248-d4f010dc8944"
   },
   "outputs": [
    {
     "data": {
      "text/plain": [
       "[{'PassengerId': 1,\n",
       "  'Survived': 0,\n",
       "  'Pclass': 3,\n",
       "  'Name': 'Braund, Mr. Owen Harris',\n",
       "  'Sex': 'male',\n",
       "  'Age': 22.0,\n",
       "  'Fare': 7.25,\n",
       "  'Embarked': 'Southhampton'},\n",
       " {'PassengerId': 2,\n",
       "  'Survived': 1,\n",
       "  'Pclass': 1,\n",
       "  'Name': 'Cumings, Mrs. John Bradley (Florence Briggs Thayer)',\n",
       "  'Sex': 'female',\n",
       "  'Age': 38.0,\n",
       "  'Fare': 71.2833,\n",
       "  'Embarked': 'Cherbourg'},\n",
       " {'PassengerId': 3,\n",
       "  'Survived': 1,\n",
       "  'Pclass': 3,\n",
       "  'Name': 'Heikkinen, Miss. Laina',\n",
       "  'Sex': 'female',\n",
       "  'Age': 26.0,\n",
       "  'Fare': 7.925,\n",
       "  'Embarked': 'Southhampton'}]"
      ]
     },
     "execution_count": 16,
     "metadata": {},
     "output_type": "execute_result"
    }
   ],
   "source": [
    "temp_t_record = temp_t.to_json(orient='records')\n",
    "parser = json.loads(temp_t_record)\n",
    "parser"
   ]
  },
  {
   "cell_type": "markdown",
   "id": "e4b5a989-0b67-42db-b394-a13d26893f5f",
   "metadata": {
    "id": "e4b5a989-0b67-42db-b394-a13d26893f5f"
   },
   "source": [
    "* temp_t 를 table 구조별로 json 형태로 저장하고 조회하시오. "
   ]
  },
  {
   "cell_type": "code",
   "execution_count": 17,
   "id": "0cf9c71d-2ead-4d04-9420-1ee985bcd09a",
   "metadata": {
    "id": "0cf9c71d-2ead-4d04-9420-1ee985bcd09a"
   },
   "outputs": [
    {
     "data": {
      "text/plain": [
       "{'schema': {'fields': [{'name': 'index', 'type': 'integer'},\n",
       "   {'name': 'PassengerId', 'type': 'integer'},\n",
       "   {'name': 'Survived', 'type': 'integer'},\n",
       "   {'name': 'Pclass', 'type': 'integer'},\n",
       "   {'name': 'Name', 'type': 'string'},\n",
       "   {'name': 'Sex', 'type': 'string'},\n",
       "   {'name': 'Age', 'type': 'number'},\n",
       "   {'name': 'Fare', 'type': 'number'},\n",
       "   {'name': 'Embarked', 'type': 'string'}],\n",
       "  'primaryKey': ['index'],\n",
       "  'pandas_version': '0.20.0'},\n",
       " 'data': [{'index': 0,\n",
       "   'PassengerId': 1,\n",
       "   'Survived': 0,\n",
       "   'Pclass': 3,\n",
       "   'Name': 'Braund, Mr. Owen Harris',\n",
       "   'Sex': 'male',\n",
       "   'Age': 22.0,\n",
       "   'Fare': 7.25,\n",
       "   'Embarked': 'Southhampton'},\n",
       "  {'index': 1,\n",
       "   'PassengerId': 2,\n",
       "   'Survived': 1,\n",
       "   'Pclass': 1,\n",
       "   'Name': 'Cumings, Mrs. John Bradley (Florence Briggs Thayer)',\n",
       "   'Sex': 'female',\n",
       "   'Age': 38.0,\n",
       "   'Fare': 71.2833,\n",
       "   'Embarked': 'Cherbourg'},\n",
       "  {'index': 2,\n",
       "   'PassengerId': 3,\n",
       "   'Survived': 1,\n",
       "   'Pclass': 3,\n",
       "   'Name': 'Heikkinen, Miss. Laina',\n",
       "   'Sex': 'female',\n",
       "   'Age': 26.0,\n",
       "   'Fare': 7.925,\n",
       "   'Embarked': 'Southhampton'}]}"
      ]
     },
     "execution_count": 17,
     "metadata": {},
     "output_type": "execute_result"
    }
   ],
   "source": [
    "temp_t_table = temp_t.to_json(orient='table')\n",
    "parser = json.loads(temp_t_table)\n",
    "parser"
   ]
  },
  {
   "cell_type": "markdown",
   "id": "58556714-b297-4e72-9587-9e4a3464979d",
   "metadata": {
    "id": "58556714-b297-4e72-9587-9e4a3464979d"
   },
   "source": [
    "## 2. json to dataframe\n",
    "\n",
    "pd.read_json()\n",
    "\n",
    "https://pandas.pydata.org/docs/reference/api/pandas.read_json.html\n",
    "\n",
    "1 단원에서 json으로 변환한 것을 다시 dataframe으로 변환하는 방법을 알아보겠습니다."
   ]
  },
  {
   "cell_type": "markdown",
   "id": "09923340-cde5-40f5-8146-6b8565902ead",
   "metadata": {
    "id": "09923340-cde5-40f5-8146-6b8565902ead"
   },
   "source": [
    "### 1) columns 구조의 json을 dataframe으로 변환해 봅시다.\n",
    "\n",
    "columns 구조 json은 pd.read_json을 옵션없이 사용해도 DF로 자동 변환해 준다."
   ]
  },
  {
   "cell_type": "code",
   "execution_count": null,
   "id": "367bf4fb-7b25-4104-b204-1698beb46663",
   "metadata": {
    "id": "367bf4fb-7b25-4104-b204-1698beb46663",
    "outputId": "4a2b4f24-7094-4bd7-d8f0-8a89a996dacd"
   },
   "outputs": [],
   "source": [
    "pd.read_json(js_columns)"
   ]
  },
  {
   "cell_type": "markdown",
   "id": "c3392072-259b-4992-bbe2-93bccbdd8b6c",
   "metadata": {
    "id": "c3392072-259b-4992-bbe2-93bccbdd8b6c"
   },
   "source": [
    "### 2) records 구조의 json을 dataframe으로 변환해 봅시다.\n",
    "\n",
    "records 구조 json은 pd.read_json을 옵션없이 사용해도 DF로 자동 변환해 준다."
   ]
  },
  {
   "cell_type": "code",
   "execution_count": null,
   "id": "e62c615b-367c-4d19-a857-9d1fb4291481",
   "metadata": {
    "id": "e62c615b-367c-4d19-a857-9d1fb4291481",
    "outputId": "c804c4b1-cda6-445a-b76b-7efa9b8556bb"
   },
   "outputs": [],
   "source": [
    "pd.read_json(js_records)"
   ]
  },
  {
   "cell_type": "markdown",
   "id": "fd218440-8d5b-48f8-be8c-a0336b08dd71",
   "metadata": {
    "id": "fd218440-8d5b-48f8-be8c-a0336b08dd71"
   },
   "source": [
    "### 3) index 구조의 json을 dataframe으로 변환해 봅시다.\n",
    "\n",
    "index 구조는 명시적으로 pd.read_json(    , orient = 'index') 라고 써줘야 한다."
   ]
  },
  {
   "cell_type": "code",
   "execution_count": null,
   "id": "8bb72b5b-1bb7-495a-87b3-21032169c3e6",
   "metadata": {
    "id": "8bb72b5b-1bb7-495a-87b3-21032169c3e6",
    "outputId": "16541e44-831e-4f7b-d120-0709cc840763"
   },
   "outputs": [],
   "source": [
    "pd.read_json(js_index, orient = 'index')"
   ]
  },
  {
   "cell_type": "markdown",
   "id": "bc1afcaa-7a54-4028-86f4-7307508a0463",
   "metadata": {
    "id": "bc1afcaa-7a54-4028-86f4-7307508a0463"
   },
   "source": [
    "### 4) split 구조의 json을 dataframe으로 변환해 봅시다\n",
    "\n",
    "split 구조는 명시적으로 pd.read_json(    , orient = 'split') 라고 써줘야 한다."
   ]
  },
  {
   "cell_type": "code",
   "execution_count": null,
   "id": "09b01beb-05c2-4942-b006-bfbaf86d8761",
   "metadata": {
    "id": "09b01beb-05c2-4942-b006-bfbaf86d8761",
    "outputId": "a56a0ae8-c457-42ab-cedf-28ccf6f2fb33"
   },
   "outputs": [],
   "source": [
    "pd.read_json(js_split, orient = 'split')"
   ]
  },
  {
   "cell_type": "markdown",
   "id": "9fdf7cf9-90b6-4fdc-b370-86d898c58886",
   "metadata": {
    "id": "9fdf7cf9-90b6-4fdc-b370-86d898c58886"
   },
   "source": [
    "### 5) table 구조의 json을 dataframe으로 변환해 봅시다\n",
    "\n",
    "table 구조는 명시적으로 pd.read_json(    , orient = 'table') 라고 써줘야 한다."
   ]
  },
  {
   "cell_type": "code",
   "execution_count": null,
   "id": "1fdc6e48-0f33-486a-ab65-2b7e9dd839a3",
   "metadata": {
    "id": "1fdc6e48-0f33-486a-ab65-2b7e9dd839a3",
    "outputId": "63456d37-04af-4007-b88a-f80abda3f6a7"
   },
   "outputs": [],
   "source": [
    "pd.read_json(js_table, orient = 'table')"
   ]
  },
  {
   "cell_type": "markdown",
   "id": "6b619f0c-b016-45fa-8e7d-b373823778f8",
   "metadata": {
    "id": "6b619f0c-b016-45fa-8e7d-b373823778f8"
   },
   "source": [
    "### 실습\n",
    "\n",
    "1단원 실습 결과로 부터 다음의 문제를 해결하시오."
   ]
  },
  {
   "cell_type": "markdown",
   "id": "49b0c1dd-4a85-41bd-8c85-490f3fc98a6d",
   "metadata": {
    "id": "49b0c1dd-4a85-41bd-8c85-490f3fc98a6d"
   },
   "source": [
    "* column 별 json 형태를 데이터프레임으로 저장하고 조회하시오. "
   ]
  },
  {
   "cell_type": "code",
   "execution_count": 18,
   "id": "f61d2aac-d162-474f-b30b-adb21eda1817",
   "metadata": {
    "id": "f61d2aac-d162-474f-b30b-adb21eda1817",
    "outputId": "18d9d9f9-dee5-40bd-96e0-8eae7c596853"
   },
   "outputs": [
    {
     "data": {
      "text/html": [
       "<div>\n",
       "<style scoped>\n",
       "    .dataframe tbody tr th:only-of-type {\n",
       "        vertical-align: middle;\n",
       "    }\n",
       "\n",
       "    .dataframe tbody tr th {\n",
       "        vertical-align: top;\n",
       "    }\n",
       "\n",
       "    .dataframe thead th {\n",
       "        text-align: right;\n",
       "    }\n",
       "</style>\n",
       "<table border=\"1\" class=\"dataframe\">\n",
       "  <thead>\n",
       "    <tr style=\"text-align: right;\">\n",
       "      <th></th>\n",
       "      <th>PassengerId</th>\n",
       "      <th>Survived</th>\n",
       "      <th>Pclass</th>\n",
       "      <th>Name</th>\n",
       "      <th>Sex</th>\n",
       "      <th>Age</th>\n",
       "      <th>Fare</th>\n",
       "      <th>Embarked</th>\n",
       "    </tr>\n",
       "  </thead>\n",
       "  <tbody>\n",
       "    <tr>\n",
       "      <th>0</th>\n",
       "      <td>1</td>\n",
       "      <td>0</td>\n",
       "      <td>3</td>\n",
       "      <td>Braund, Mr. Owen Harris</td>\n",
       "      <td>male</td>\n",
       "      <td>22</td>\n",
       "      <td>7.2500</td>\n",
       "      <td>Southhampton</td>\n",
       "    </tr>\n",
       "    <tr>\n",
       "      <th>1</th>\n",
       "      <td>2</td>\n",
       "      <td>1</td>\n",
       "      <td>1</td>\n",
       "      <td>Cumings, Mrs. John Bradley (Florence Briggs Th...</td>\n",
       "      <td>female</td>\n",
       "      <td>38</td>\n",
       "      <td>71.2833</td>\n",
       "      <td>Cherbourg</td>\n",
       "    </tr>\n",
       "    <tr>\n",
       "      <th>2</th>\n",
       "      <td>3</td>\n",
       "      <td>1</td>\n",
       "      <td>3</td>\n",
       "      <td>Heikkinen, Miss. Laina</td>\n",
       "      <td>female</td>\n",
       "      <td>26</td>\n",
       "      <td>7.9250</td>\n",
       "      <td>Southhampton</td>\n",
       "    </tr>\n",
       "  </tbody>\n",
       "</table>\n",
       "</div>"
      ],
      "text/plain": [
       "   PassengerId  Survived  Pclass  \\\n",
       "0            1         0       3   \n",
       "1            2         1       1   \n",
       "2            3         1       3   \n",
       "\n",
       "                                                Name     Sex  Age     Fare  \\\n",
       "0                            Braund, Mr. Owen Harris    male   22   7.2500   \n",
       "1  Cumings, Mrs. John Bradley (Florence Briggs Th...  female   38  71.2833   \n",
       "2                             Heikkinen, Miss. Laina  female   26   7.9250   \n",
       "\n",
       "       Embarked  \n",
       "0  Southhampton  \n",
       "1     Cherbourg  \n",
       "2  Southhampton  "
      ]
     },
     "execution_count": 18,
     "metadata": {},
     "output_type": "execute_result"
    }
   ],
   "source": [
    "pd.read_json(temp_t_col)"
   ]
  },
  {
   "cell_type": "markdown",
   "id": "c77737da-1d3f-4a11-86c1-95232b3c9b9c",
   "metadata": {
    "id": "c77737da-1d3f-4a11-86c1-95232b3c9b9c"
   },
   "source": [
    "* records 별 json 형태를 데이터프레임으로 저장하고 조회하시오. "
   ]
  },
  {
   "cell_type": "code",
   "execution_count": 19,
   "id": "f903c23a-3a3c-47f8-a22f-2ccfd912d005",
   "metadata": {
    "id": "f903c23a-3a3c-47f8-a22f-2ccfd912d005",
    "outputId": "807ed4d9-ceb8-4368-cd7c-166873ec85cf"
   },
   "outputs": [
    {
     "data": {
      "text/html": [
       "<div>\n",
       "<style scoped>\n",
       "    .dataframe tbody tr th:only-of-type {\n",
       "        vertical-align: middle;\n",
       "    }\n",
       "\n",
       "    .dataframe tbody tr th {\n",
       "        vertical-align: top;\n",
       "    }\n",
       "\n",
       "    .dataframe thead th {\n",
       "        text-align: right;\n",
       "    }\n",
       "</style>\n",
       "<table border=\"1\" class=\"dataframe\">\n",
       "  <thead>\n",
       "    <tr style=\"text-align: right;\">\n",
       "      <th></th>\n",
       "      <th>PassengerId</th>\n",
       "      <th>Survived</th>\n",
       "      <th>Pclass</th>\n",
       "      <th>Name</th>\n",
       "      <th>Sex</th>\n",
       "      <th>Age</th>\n",
       "      <th>Fare</th>\n",
       "      <th>Embarked</th>\n",
       "    </tr>\n",
       "  </thead>\n",
       "  <tbody>\n",
       "    <tr>\n",
       "      <th>0</th>\n",
       "      <td>1</td>\n",
       "      <td>0</td>\n",
       "      <td>3</td>\n",
       "      <td>Braund, Mr. Owen Harris</td>\n",
       "      <td>male</td>\n",
       "      <td>22</td>\n",
       "      <td>7.2500</td>\n",
       "      <td>Southhampton</td>\n",
       "    </tr>\n",
       "    <tr>\n",
       "      <th>1</th>\n",
       "      <td>2</td>\n",
       "      <td>1</td>\n",
       "      <td>1</td>\n",
       "      <td>Cumings, Mrs. John Bradley (Florence Briggs Th...</td>\n",
       "      <td>female</td>\n",
       "      <td>38</td>\n",
       "      <td>71.2833</td>\n",
       "      <td>Cherbourg</td>\n",
       "    </tr>\n",
       "    <tr>\n",
       "      <th>2</th>\n",
       "      <td>3</td>\n",
       "      <td>1</td>\n",
       "      <td>3</td>\n",
       "      <td>Heikkinen, Miss. Laina</td>\n",
       "      <td>female</td>\n",
       "      <td>26</td>\n",
       "      <td>7.9250</td>\n",
       "      <td>Southhampton</td>\n",
       "    </tr>\n",
       "  </tbody>\n",
       "</table>\n",
       "</div>"
      ],
      "text/plain": [
       "   PassengerId  Survived  Pclass  \\\n",
       "0            1         0       3   \n",
       "1            2         1       1   \n",
       "2            3         1       3   \n",
       "\n",
       "                                                Name     Sex  Age     Fare  \\\n",
       "0                            Braund, Mr. Owen Harris    male   22   7.2500   \n",
       "1  Cumings, Mrs. John Bradley (Florence Briggs Th...  female   38  71.2833   \n",
       "2                             Heikkinen, Miss. Laina  female   26   7.9250   \n",
       "\n",
       "       Embarked  \n",
       "0  Southhampton  \n",
       "1     Cherbourg  \n",
       "2  Southhampton  "
      ]
     },
     "execution_count": 19,
     "metadata": {},
     "output_type": "execute_result"
    }
   ],
   "source": [
    "pd.read_json(temp_t_record)"
   ]
  },
  {
   "cell_type": "markdown",
   "id": "250015c3-3310-4cf4-ba42-6fe720f06744",
   "metadata": {
    "id": "250015c3-3310-4cf4-ba42-6fe720f06744"
   },
   "source": [
    "* table 별 json 형태를 데이터프레임으로 저장하고 조회하시오. "
   ]
  },
  {
   "cell_type": "code",
   "execution_count": 21,
   "id": "82dfd731-588c-45ee-b923-9e751899a313",
   "metadata": {
    "id": "82dfd731-588c-45ee-b923-9e751899a313",
    "outputId": "dc1713b4-060b-4117-e8fa-c835b90466b1"
   },
   "outputs": [
    {
     "data": {
      "text/html": [
       "<div>\n",
       "<style scoped>\n",
       "    .dataframe tbody tr th:only-of-type {\n",
       "        vertical-align: middle;\n",
       "    }\n",
       "\n",
       "    .dataframe tbody tr th {\n",
       "        vertical-align: top;\n",
       "    }\n",
       "\n",
       "    .dataframe thead th {\n",
       "        text-align: right;\n",
       "    }\n",
       "</style>\n",
       "<table border=\"1\" class=\"dataframe\">\n",
       "  <thead>\n",
       "    <tr style=\"text-align: right;\">\n",
       "      <th></th>\n",
       "      <th>PassengerId</th>\n",
       "      <th>Survived</th>\n",
       "      <th>Pclass</th>\n",
       "      <th>Name</th>\n",
       "      <th>Sex</th>\n",
       "      <th>Age</th>\n",
       "      <th>Fare</th>\n",
       "      <th>Embarked</th>\n",
       "    </tr>\n",
       "  </thead>\n",
       "  <tbody>\n",
       "    <tr>\n",
       "      <th>0</th>\n",
       "      <td>1</td>\n",
       "      <td>0</td>\n",
       "      <td>3</td>\n",
       "      <td>Braund, Mr. Owen Harris</td>\n",
       "      <td>male</td>\n",
       "      <td>22.0</td>\n",
       "      <td>7.2500</td>\n",
       "      <td>Southhampton</td>\n",
       "    </tr>\n",
       "    <tr>\n",
       "      <th>1</th>\n",
       "      <td>2</td>\n",
       "      <td>1</td>\n",
       "      <td>1</td>\n",
       "      <td>Cumings, Mrs. John Bradley (Florence Briggs Th...</td>\n",
       "      <td>female</td>\n",
       "      <td>38.0</td>\n",
       "      <td>71.2833</td>\n",
       "      <td>Cherbourg</td>\n",
       "    </tr>\n",
       "    <tr>\n",
       "      <th>2</th>\n",
       "      <td>3</td>\n",
       "      <td>1</td>\n",
       "      <td>3</td>\n",
       "      <td>Heikkinen, Miss. Laina</td>\n",
       "      <td>female</td>\n",
       "      <td>26.0</td>\n",
       "      <td>7.9250</td>\n",
       "      <td>Southhampton</td>\n",
       "    </tr>\n",
       "  </tbody>\n",
       "</table>\n",
       "</div>"
      ],
      "text/plain": [
       "   PassengerId  Survived  Pclass  \\\n",
       "0            1         0       3   \n",
       "1            2         1       1   \n",
       "2            3         1       3   \n",
       "\n",
       "                                                Name     Sex   Age     Fare  \\\n",
       "0                            Braund, Mr. Owen Harris    male  22.0   7.2500   \n",
       "1  Cumings, Mrs. John Bradley (Florence Briggs Th...  female  38.0  71.2833   \n",
       "2                             Heikkinen, Miss. Laina  female  26.0   7.9250   \n",
       "\n",
       "       Embarked  \n",
       "0  Southhampton  \n",
       "1     Cherbourg  \n",
       "2  Southhampton  "
      ]
     },
     "execution_count": 21,
     "metadata": {},
     "output_type": "execute_result"
    }
   ],
   "source": [
    "pd.read_json(temp_t_table, orient='table')"
   ]
  },
  {
   "cell_type": "code",
   "execution_count": null,
   "id": "c7130228-f3f1-4f80-be0b-82e4094c4a3e",
   "metadata": {},
   "outputs": [],
   "source": []
  }
 ],
 "metadata": {
  "colab": {
   "collapsed_sections": [],
   "name": "json.ipynb",
   "provenance": [],
   "toc_visible": true
  },
  "kernelspec": {
   "display_name": "Python 3",
   "language": "python",
   "name": "python3"
  },
  "language_info": {
   "codemirror_mode": {
    "name": "ipython",
    "version": 3
   },
   "file_extension": ".py",
   "mimetype": "text/x-python",
   "name": "python",
   "nbconvert_exporter": "python",
   "pygments_lexer": "ipython3",
   "version": "3.8.8"
  }
 },
 "nbformat": 4,
 "nbformat_minor": 5
}
