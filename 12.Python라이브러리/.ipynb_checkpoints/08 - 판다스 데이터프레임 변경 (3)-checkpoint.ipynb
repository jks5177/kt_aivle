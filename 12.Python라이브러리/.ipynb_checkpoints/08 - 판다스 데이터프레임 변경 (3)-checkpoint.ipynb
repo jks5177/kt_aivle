{
 "cells": [
  {
   "cell_type": "markdown",
   "metadata": {
    "id": "BFhIXgdYoYGp"
   },
   "source": [
    "# 08 - 판다스 데이터프레임 변경 (3)"
   ]
  },
  {
   "cell_type": "markdown",
   "metadata": {
    "id": "eRPNqQjA9RM8"
   },
   "source": [
    "## 7.데이터프레임 변경 (3)"
   ]
  },
  {
   "cell_type": "code",
   "execution_count": 1,
   "metadata": {
    "id": "b9NraxWDnYr1"
   },
   "outputs": [],
   "source": [
    "# 라이브러리 불러오기\n",
    "import pandas as pd"
   ]
  },
  {
   "cell_type": "markdown",
   "metadata": {
    "id": "TKXSGj6GW2sU"
   },
   "source": [
    "### 7.1. 데이터프레임 합치기(Concat)\n",
    "\n",
    "- **concat()** 함수를 사용해 두 데이터프레임을 가로 또는 세로로 합칠 수 있습니다.\n",
    "- 밑에 합쳐질 때는 기준이 colums이고, 옆에 합쳐질 때는 기준이 index이다.\n"
   ]
  },
  {
   "cell_type": "markdown",
   "metadata": {
    "id": "Ai1-9_qwNth_"
   },
   "source": [
    "#### 7.1.1.가로로 합치기\n",
    "\n",
    "- **axis=1** 옵션을 지정해 가로로 합칠 수 있습니다.\n",
    "- **행 인덱스 값을 기준으로** 합칩니다!"
   ]
  },
  {
   "cell_type": "markdown",
   "metadata": {
    "id": "E0SAH5cR9MSg"
   },
   "source": [
    "<img src='https://raw.githubusercontent.com/Jangrae/img/master/concat_ax1.png' width=500, align=\"left\"/>"
   ]
  },
  {
   "cell_type": "markdown",
   "metadata": {
    "id": "u6QfphTxVsxF"
   },
   "source": [
    "**1) 데이터 읽어오기**"
   ]
  },
  {
   "cell_type": "code",
   "execution_count": 2,
   "metadata": {
    "id": "SOiVUXk_nlEl",
    "scrolled": false
   },
   "outputs": [
    {
     "name": "stdout",
     "output_type": "stream",
     "text": [
      "      k_male  k_female\n",
      "1981    4160      4191\n",
      "1982    4160      4191\n",
      "1983    4160      4191\n",
      "1984    4160      4191\n",
      "1985    4160      4191\n",
      "1986    4899      4888\n",
      "1987    5000      4979\n",
      "1988    5156      5120\n",
      "1989    5305      5261\n",
      "1990    5321      5282\n"
     ]
    }
   ],
   "source": [
    "# 서울 인구정보 읽어오기 #1\n",
    "path = 'https://bit.ly/PopH01File'\n",
    "pop01 = pd.read_csv(path, index_col='year')\n",
    "pop01.index.name = None\n",
    "\n",
    "# 확인\n",
    "print(pop01.head(10))"
   ]
  },
  {
   "cell_type": "code",
   "execution_count": 3,
   "metadata": {
    "id": "9w2LWwOzVaAa",
    "scrolled": false
   },
   "outputs": [
    {
     "name": "stdout",
     "output_type": "stream",
     "text": [
      "      f_male  f_female\n",
      "1985       7         6\n",
      "1986       7         5\n",
      "1987       6         5\n",
      "1988       5         5\n",
      "1989       6         5\n",
      "1990       5         4\n",
      "1991      18        14\n",
      "1992      19        16\n",
      "1993      19        17\n",
      "1994      21        19\n"
     ]
    }
   ],
   "source": [
    "# 서울 인구정보 읽어오기 #2\n",
    "path = 'https://bit.ly/PopH02File'\n",
    "pop02 = pd.read_csv(path, index_col='year')\n",
    "pop02.index.name = None\n",
    "# 확인\n",
    "print(pop02.head(10))"
   ]
  },
  {
   "cell_type": "markdown",
   "metadata": {
    "id": "e2QtLRzgJSfv"
   },
   "source": [
    "**2) 데이터프레임 합치기**\n",
    "\n",
    "- 이제 **concat()** 함수를 사용해 두 데이터프레임을 합쳐봅니다.\n",
    "- 가로로 합치므로 **axis=1** 옵션을 지정합니다.\n",
    "- join='outer'는 기본 옵션값이므로 생략이 가능합니다."
   ]
  },
  {
   "cell_type": "code",
   "execution_count": 4,
   "metadata": {
    "id": "e2JTK2AzJPvI",
    "scrolled": false
   },
   "outputs": [
    {
     "name": "stdout",
     "output_type": "stream",
     "text": [
      "      k_male  k_female  f_male  f_female\n",
      "1981    4160      4191     NaN       NaN\n",
      "1982    4160      4191     NaN       NaN\n",
      "1983    4160      4191     NaN       NaN\n",
      "1984    4160      4191     NaN       NaN\n",
      "1985    4160      4191     7.0       6.0\n",
      "1986    4899      4888     7.0       5.0\n",
      "1987    5000      4979     6.0       5.0\n",
      "1988    5156      5120     5.0       5.0\n",
      "1989    5305      5261     6.0       5.0\n",
      "1990    5321      5282     5.0       4.0\n"
     ]
    }
   ],
   "source": [
    "# 모든 헹 합치기\n",
    "pop = pd.concat([pop01, pop02], join='outer', axis=1)\n",
    "\n",
    "# 확인\n",
    "print(pop.head(10))"
   ]
  },
  {
   "cell_type": "markdown",
   "metadata": {
    "id": "xgfGAfFfJkYq"
   },
   "source": [
    "- pop02 데이터프레임에는 1981~1984년 데이터가 없어 합쳐진 결과에 결측치가 생깁니다.\n",
    "- join='inner' 옵션을 지정하면 매핑되지 못한 행은 제외됩니다."
   ]
  },
  {
   "cell_type": "code",
   "execution_count": 5,
   "metadata": {
    "id": "QG_IsO1nI7lt"
   },
   "outputs": [
    {
     "name": "stdout",
     "output_type": "stream",
     "text": [
      "      k_male  k_female  f_male  f_female\n",
      "1985    4160      4191       7         6\n",
      "1986    4899      4888       7         5\n",
      "1987    5000      4979       6         5\n",
      "1988    5156      5120       5         5\n",
      "1989    5305      5261       6         5\n",
      "1990    5321      5282       5         4\n",
      "1991    5468      5405      18        14\n",
      "1992    5500      5435      19        16\n",
      "1993    5478      5412      19        17\n",
      "1994    5409      5351      21        19\n"
     ]
    }
   ],
   "source": [
    "# 모든 헹 합치기\n",
    "pop = pd.concat([pop01, pop02], join='inner', axis=1)\n",
    "\n",
    "# 확인\n",
    "print(pop.head(10))"
   ]
  },
  {
   "cell_type": "markdown",
   "metadata": {
    "id": "FALUn2QYJ6r_"
   },
   "source": [
    "#### 7.1.2.세로로 합치기\n",
    "\n",
    "\n",
    "- **axis=0** 옵션을 지정해 세로로 합칠 수 있습니다.(기본값)\n",
    "- **열 이름을 기준으로** 합칩니다!"
   ]
  },
  {
   "cell_type": "markdown",
   "metadata": {
    "id": "PSmjf_uLMWGw"
   },
   "source": [
    "<img src='https://raw.githubusercontent.com/Jangrae/img/master/concat_ax0.png' width=450, align=\"left\"/>"
   ]
  },
  {
   "cell_type": "markdown",
   "metadata": {
    "id": "c6OmWbzqJ6sA"
   },
   "source": [
    "**1) 데이터 읽어오기**\n"
   ]
  },
  {
   "cell_type": "code",
   "execution_count": 6,
   "metadata": {
    "id": "z7r8xxi8J6sC",
    "scrolled": false
   },
   "outputs": [
    {
     "name": "stdout",
     "output_type": "stream",
     "text": [
      "   year  k_male  k_female  f_male  f_female\n",
      "0  1985    4788      4838       7         6\n",
      "1  1986    4899      4888       7         5\n",
      "2  1987    5000      4979       6         5\n",
      "3  1988    5156      5120       5         5\n",
      "4  1989    5305      5261       6         5\n"
     ]
    }
   ],
   "source": [
    "# 서울 인구정보 읽어오기 #1\n",
    "path = 'https://bit.ly/PopV01File'\n",
    "pop01 = pd.read_csv(path)\n",
    "\n",
    "# 확인\n",
    "print(pop01.head())"
   ]
  },
  {
   "cell_type": "code",
   "execution_count": 7,
   "metadata": {
    "id": "zN7wOKMwJ6sS",
    "scrolled": false
   },
   "outputs": [
    {
     "name": "stdout",
     "output_type": "stream",
     "text": [
      "   year  k_male  k_female  f_male  f_female\n",
      "0  2001    5142      5122      34        34\n",
      "1  2002    5109      5098      36        37\n",
      "2  2003    5085      5089      49        54\n",
      "3  2004    5075      5098      54        61\n",
      "4  2005    5062      5105      61        68\n",
      "5  2006    5062      5119      83        92\n",
      "6  2007    5063      5130     111       118\n",
      "7  2008    5062      5139     123       132\n",
      "8  2009    5059      5149     122       134\n",
      "9  2010    5111      5201     125       137\n"
     ]
    }
   ],
   "source": [
    "# 서울 인구정보 읽어오기 #2\n",
    "path = 'https://bit.ly/PopV02File'\n",
    "pop02 = pd.read_csv(path)\n",
    "\n",
    "# 확인\n",
    "print(pop02.head(10))"
   ]
  },
  {
   "cell_type": "markdown",
   "metadata": {
    "id": "5EinAPQPJ6sT"
   },
   "source": [
    "**2) 데이터프레임 합치기**\n",
    "\n",
    "- 이제 **concat()** 함수를 사용해 두 데이터프레임을 합쳐봅니다.\n",
    "- 세로로 합치므로 **axis=0** 옵션을 지정하거나 생략합니다."
   ]
  },
  {
   "cell_type": "code",
   "execution_count": 8,
   "metadata": {
    "id": "M1pucV1cJ6sT",
    "scrolled": true
   },
   "outputs": [
    {
     "name": "stdout",
     "output_type": "stream",
     "text": [
      "    year  k_male  k_female  f_male  f_female\n",
      "0   1985    4788      4838       7         6\n",
      "1   1986    4899      4888       7         5\n",
      "2   1987    5000      4979       6         5\n",
      "3   1988    5156      5120       5         5\n",
      "4   1989    5305      5261       6         5\n",
      "5   1990    5321      5282       5         4\n",
      "6   1991    5468      5405      18        14\n",
      "7   1992    5500      5435      19        16\n",
      "8   1993    5478      5412      19        17\n",
      "9   1994    5409      5351      21        19\n",
      "10  1995    5302      5249      24        21\n",
      "11  1996    5231      5187      27        25\n",
      "12  1997    5187      5150      28        25\n",
      "13  1998    5147      5124      27        24\n",
      "14  1999    5141      5123      30        28\n",
      "15  2000    5167      5145      32        30\n",
      "0   2001    5142      5122      34        34\n",
      "1   2002    5109      5098      36        37\n",
      "2   2003    5085      5089      49        54\n",
      "3   2004    5075      5098      54        61\n",
      "4   2005    5062      5105      61        68\n",
      "5   2006    5062      5119      83        92\n",
      "6   2007    5063      5130     111       118\n",
      "7   2008    5062      5139     123       132\n",
      "8   2009    5059      5149     122       134\n",
      "9   2010    5111      5201     125       137\n"
     ]
    }
   ],
   "source": [
    "# 모든 헹 합치기\n",
    "pop = pd.concat([pop01, pop02], axis=0)\n",
    "\n",
    "# 확인\n",
    "print(pop)"
   ]
  },
  {
   "cell_type": "markdown",
   "metadata": {
    "id": "R-qgH4Npk2CB"
   },
   "source": [
    "- 세로로 합해지면 인덱스 값이 중복될 수 있으므로 인덱스를 초기화합니다."
   ]
  },
  {
   "cell_type": "code",
   "execution_count": 9,
   "metadata": {
    "id": "WFLv7qCpktak"
   },
   "outputs": [
    {
     "name": "stdout",
     "output_type": "stream",
     "text": [
      "    year  k_male  k_female  f_male  f_female\n",
      "0   1985    4788      4838       7         6\n",
      "1   1986    4899      4888       7         5\n",
      "2   1987    5000      4979       6         5\n",
      "3   1988    5156      5120       5         5\n",
      "4   1989    5305      5261       6         5\n",
      "5   1990    5321      5282       5         4\n",
      "6   1991    5468      5405      18        14\n",
      "7   1992    5500      5435      19        16\n",
      "8   1993    5478      5412      19        17\n",
      "9   1994    5409      5351      21        19\n",
      "10  1995    5302      5249      24        21\n",
      "11  1996    5231      5187      27        25\n",
      "12  1997    5187      5150      28        25\n",
      "13  1998    5147      5124      27        24\n",
      "14  1999    5141      5123      30        28\n",
      "15  2000    5167      5145      32        30\n",
      "16  2001    5142      5122      34        34\n",
      "17  2002    5109      5098      36        37\n",
      "18  2003    5085      5089      49        54\n",
      "19  2004    5075      5098      54        61\n",
      "20  2005    5062      5105      61        68\n",
      "21  2006    5062      5119      83        92\n",
      "22  2007    5063      5130     111       118\n",
      "23  2008    5062      5139     123       132\n",
      "24  2009    5059      5149     122       134\n",
      "25  2010    5111      5201     125       137\n"
     ]
    }
   ],
   "source": [
    "# 인덱스 초기화\n",
    "pop.reset_index(drop=True, inplace=True)\n",
    "\n",
    "# 확인\n",
    "print(pop)"
   ]
  },
  {
   "cell_type": "markdown",
   "metadata": {
    "id": "FCNi3cMP-1T6"
   },
   "source": [
    "<img src='https://raw.githubusercontent.com/jangrae/img/master/practice_01.png' width=120 align=\"left\"/>"
   ]
  },
  {
   "cell_type": "markdown",
   "metadata": {
    "id": "BB42jPlS-1UL"
   },
   "source": [
    "[문1] 다음의 세 파일을 불러와서 각각 데이터프레임(sales01, sales02, sales03)으로 저장합니다. \n",
    "* sales01.csv\n",
    "* sales02.csv\n",
    "* sales03.csv"
   ]
  },
  {
   "cell_type": "code",
   "execution_count": 10,
   "metadata": {
    "id": "c0o3JSpHMcU4"
   },
   "outputs": [],
   "source": [
    "sales01 = pd.read_csv('sales01.csv')\n",
    "sales02 = pd.read_csv('sales02.csv')\n",
    "sales03 = pd.read_csv('sales03.csv')"
   ]
  },
  {
   "cell_type": "markdown",
   "metadata": {
    "id": "EFXJUddXZ7np"
   },
   "source": [
    "[문2] 각 데이터프레임에 OrderDate가 있습니다. OrderDate의 범위(min ~ max)를 확인하시오."
   ]
  },
  {
   "cell_type": "code",
   "execution_count": 14,
   "metadata": {
    "id": "wyqFkVw-Z7nq"
   },
   "outputs": [
    {
     "name": "stdout",
     "output_type": "stream",
     "text": [
      "2016-01-02 2016-01-31\n",
      "2016-02-01 2016-02-29\n",
      "2016-03-01 2016-03-31\n"
     ]
    }
   ],
   "source": [
    "print(sales01['OrderDate'].min(), sales01['OrderDate'].max())\n",
    "print(sales02['OrderDate'].min(), sales02['OrderDate'].max())\n",
    "print(sales03['OrderDate'].min(), sales03['OrderDate'].max())"
   ]
  },
  {
   "cell_type": "markdown",
   "metadata": {
    "id": "dcunVRn1Z7nq"
   },
   "source": [
    "[문3] 세 데이터프레임을 세로로(위, 아래로) 합쳐서 sales 로 저장하시오."
   ]
  },
  {
   "cell_type": "code",
   "execution_count": 16,
   "metadata": {
    "id": "pTe9_hFwZ7nq"
   },
   "outputs": [
    {
     "data": {
      "text/html": [
       "<div>\n",
       "<style scoped>\n",
       "    .dataframe tbody tr th:only-of-type {\n",
       "        vertical-align: middle;\n",
       "    }\n",
       "\n",
       "    .dataframe tbody tr th {\n",
       "        vertical-align: top;\n",
       "    }\n",
       "\n",
       "    .dataframe thead th {\n",
       "        text-align: right;\n",
       "    }\n",
       "</style>\n",
       "<table border=\"1\" class=\"dataframe\">\n",
       "  <thead>\n",
       "    <tr style=\"text-align: right;\">\n",
       "      <th></th>\n",
       "      <th>OrderID</th>\n",
       "      <th>Seq</th>\n",
       "      <th>OrderDate</th>\n",
       "      <th>ProductID</th>\n",
       "      <th>Qty</th>\n",
       "      <th>Amt</th>\n",
       "      <th>CustomerID</th>\n",
       "    </tr>\n",
       "  </thead>\n",
       "  <tbody>\n",
       "    <tr>\n",
       "      <th>0</th>\n",
       "      <td>107</td>\n",
       "      <td>2</td>\n",
       "      <td>2016-01-02</td>\n",
       "      <td>p1036481</td>\n",
       "      <td>2</td>\n",
       "      <td>2100</td>\n",
       "      <td>c150417</td>\n",
       "    </tr>\n",
       "    <tr>\n",
       "      <th>1</th>\n",
       "      <td>69</td>\n",
       "      <td>1</td>\n",
       "      <td>2016-01-02</td>\n",
       "      <td>p1152861</td>\n",
       "      <td>1</td>\n",
       "      <td>1091</td>\n",
       "      <td>c212716</td>\n",
       "    </tr>\n",
       "    <tr>\n",
       "      <th>2</th>\n",
       "      <td>69</td>\n",
       "      <td>7</td>\n",
       "      <td>2016-01-02</td>\n",
       "      <td>p1013161</td>\n",
       "      <td>1</td>\n",
       "      <td>2600</td>\n",
       "      <td>c212716</td>\n",
       "    </tr>\n",
       "    <tr>\n",
       "      <th>3</th>\n",
       "      <td>69</td>\n",
       "      <td>8</td>\n",
       "      <td>2016-01-02</td>\n",
       "      <td>p1005771</td>\n",
       "      <td>1</td>\n",
       "      <td>1650</td>\n",
       "      <td>c212716</td>\n",
       "    </tr>\n",
       "    <tr>\n",
       "      <th>4</th>\n",
       "      <td>69</td>\n",
       "      <td>11</td>\n",
       "      <td>2016-01-02</td>\n",
       "      <td>p1089531</td>\n",
       "      <td>1</td>\n",
       "      <td>2600</td>\n",
       "      <td>c212716</td>\n",
       "    </tr>\n",
       "    <tr>\n",
       "      <th>...</th>\n",
       "      <td>...</td>\n",
       "      <td>...</td>\n",
       "      <td>...</td>\n",
       "      <td>...</td>\n",
       "      <td>...</td>\n",
       "      <td>...</td>\n",
       "      <td>...</td>\n",
       "    </tr>\n",
       "    <tr>\n",
       "      <th>14069</th>\n",
       "      <td>63</td>\n",
       "      <td>2</td>\n",
       "      <td>2016-03-31</td>\n",
       "      <td>p1175481</td>\n",
       "      <td>1</td>\n",
       "      <td>1300</td>\n",
       "      <td>c304973</td>\n",
       "    </tr>\n",
       "    <tr>\n",
       "      <th>14070</th>\n",
       "      <td>67</td>\n",
       "      <td>1</td>\n",
       "      <td>2016-03-31</td>\n",
       "      <td>p1178011</td>\n",
       "      <td>1</td>\n",
       "      <td>8800</td>\n",
       "      <td>c115575</td>\n",
       "    </tr>\n",
       "    <tr>\n",
       "      <th>14071</th>\n",
       "      <td>67</td>\n",
       "      <td>2</td>\n",
       "      <td>2016-03-31</td>\n",
       "      <td>p1162631</td>\n",
       "      <td>1</td>\n",
       "      <td>4600</td>\n",
       "      <td>c115575</td>\n",
       "    </tr>\n",
       "    <tr>\n",
       "      <th>14072</th>\n",
       "      <td>67</td>\n",
       "      <td>3</td>\n",
       "      <td>2016-03-31</td>\n",
       "      <td>p1002841</td>\n",
       "      <td>1</td>\n",
       "      <td>11000</td>\n",
       "      <td>c115575</td>\n",
       "    </tr>\n",
       "    <tr>\n",
       "      <th>14073</th>\n",
       "      <td>71</td>\n",
       "      <td>1</td>\n",
       "      <td>2016-03-31</td>\n",
       "      <td>p1178011</td>\n",
       "      <td>1</td>\n",
       "      <td>8800</td>\n",
       "      <td>c222420</td>\n",
       "    </tr>\n",
       "  </tbody>\n",
       "</table>\n",
       "<p>14074 rows × 7 columns</p>\n",
       "</div>"
      ],
      "text/plain": [
       "       OrderID  Seq   OrderDate ProductID  Qty    Amt CustomerID\n",
       "0          107    2  2016-01-02  p1036481    2   2100    c150417\n",
       "1           69    1  2016-01-02  p1152861    1   1091    c212716\n",
       "2           69    7  2016-01-02  p1013161    1   2600    c212716\n",
       "3           69    8  2016-01-02  p1005771    1   1650    c212716\n",
       "4           69   11  2016-01-02  p1089531    1   2600    c212716\n",
       "...        ...  ...         ...       ...  ...    ...        ...\n",
       "14069       63    2  2016-03-31  p1175481    1   1300    c304973\n",
       "14070       67    1  2016-03-31  p1178011    1   8800    c115575\n",
       "14071       67    2  2016-03-31  p1162631    1   4600    c115575\n",
       "14072       67    3  2016-03-31  p1002841    1  11000    c115575\n",
       "14073       71    1  2016-03-31  p1178011    1   8800    c222420\n",
       "\n",
       "[14074 rows x 7 columns]"
      ]
     },
     "execution_count": 16,
     "metadata": {},
     "output_type": "execute_result"
    }
   ],
   "source": [
    "sales = pd.concat([sales01, sales02, sales03], axis=0)\n",
    "sales.reset_index(drop=True, inplace=True)\n",
    "sales"
   ]
  },
  {
   "cell_type": "markdown",
   "metadata": {
    "id": "0Cq3lmVb5oj2"
   },
   "source": [
    "### 7.2.데이터프레임 Merge(SQL에서의 Join!)\n",
    "\n",
    "- **merge()** 함수를 사용, 두 데이터프레임을 **지정한 칼럼** 값을 기준으로 **가로**로(옆으로)병합할 수 있습니다.\n",
    "    * **지정한 칼럼** : key 라고도 부릅니다. default는 같은 이름 칼럼입니다.\n",
    "    * merge는 **가로**로 만 병합할 수 있습니다."
   ]
  },
  {
   "cell_type": "markdown",
   "metadata": {
    "id": "KqOHu2W4C_0R"
   },
   "source": [
    "<img src='https://raw.githubusercontent.com/Jangrae/img/master/join.png' width=600, align=\"left\"/>"
   ]
  },
  {
   "cell_type": "markdown",
   "metadata": {
    "id": "npocTmMLLuQj"
   },
   "source": [
    "#### 7.2.1.데이터 읽어오기"
   ]
  },
  {
   "cell_type": "code",
   "execution_count": 17,
   "metadata": {
    "id": "WGSai17VLuQ6",
    "scrolled": false
   },
   "outputs": [
    {
     "name": "stdout",
     "output_type": "stream",
     "text": [
      "   year  k_male  k_female\n",
      "0  1981    4160      4191\n",
      "1  1982    4160      4191\n",
      "2  1983    4160      4191\n",
      "3  1984    4160      4191\n",
      "4  1985    4160      4191\n",
      "5  1986    4899      4888\n",
      "6  1987    5000      4979\n",
      "7  1988    5156      5120\n",
      "8  1989    5305      5261\n",
      "9  1990    5321      5282\n"
     ]
    }
   ],
   "source": [
    "# 서울 인구정보 읽어오기 #1\n",
    "path = 'https://bit.ly/PopH01File'\n",
    "pop01 = pd.read_csv(path)\n",
    "\n",
    "# 확인\n",
    "print(pop01.head(10))"
   ]
  },
  {
   "cell_type": "code",
   "execution_count": 18,
   "metadata": {
    "id": "_nR7Xni4LuQ7",
    "scrolled": false
   },
   "outputs": [
    {
     "name": "stdout",
     "output_type": "stream",
     "text": [
      "   year  f_male  f_female\n",
      "0  1985       7         6\n",
      "1  1986       7         5\n",
      "2  1987       6         5\n",
      "3  1988       5         5\n",
      "4  1989       6         5\n",
      "5  1990       5         4\n",
      "6  1991      18        14\n",
      "7  1992      19        16\n",
      "8  1993      19        17\n",
      "9  1994      21        19\n"
     ]
    }
   ],
   "source": [
    "# 서울 인구정보 읽어오기 #2\n",
    "path = 'https://bit.ly/PopH02File'\n",
    "pop02 = pd.read_csv(path)\n",
    "\n",
    "# 확인\n",
    "print(pop02.head(10))"
   ]
  },
  {
   "cell_type": "markdown",
   "metadata": {
    "id": "6DbFlvK6olV4"
   },
   "source": [
    "#### 7.2.2.inner 조인\n",
    "\n",
    "- 같은 이름의 열이 있으면 on 옵션을 지정하지 않아도 그 열을 기준으로 조인됩니다.\n",
    "- 그래도 기준 열을 명시적으로 지정해 주기를 권고합니다.\n",
    "- how='inner' 옵션은 기본 옵션값이므로 생략할 수 있습니다."
   ]
  },
  {
   "cell_type": "code",
   "execution_count": 19,
   "metadata": {
    "id": "j5DGezR_GTc6",
    "scrolled": false
   },
   "outputs": [
    {
     "name": "stdout",
     "output_type": "stream",
     "text": [
      "   year  k_male  k_female  f_male  f_female\n",
      "0  1985    4160      4191       7         6\n",
      "1  1986    4899      4888       7         5\n",
      "2  1987    5000      4979       6         5\n",
      "3  1988    5156      5120       5         5\n",
      "4  1989    5305      5261       6         5\n",
      "5  1990    5321      5282       5         4\n",
      "6  1991    5468      5405      18        14\n",
      "7  1992    5500      5435      19        16\n",
      "8  1993    5478      5412      19        17\n",
      "9  1994    5409      5351      21        19\n"
     ]
    }
   ],
   "source": [
    "# 조인\n",
    "pop = pd.merge(pop01, pop02, on='year', how='inner') \n",
    "\n",
    "# 확인\n",
    "print(pop.head(10))"
   ]
  },
  {
   "cell_type": "markdown",
   "metadata": {
    "id": "esr7F4UiMD6I"
   },
   "source": [
    "#### 7.2.3.outer 조인\n",
    "\n",
    "- how='outer' 옵션을 지정합니다."
   ]
  },
  {
   "cell_type": "code",
   "execution_count": 20,
   "metadata": {
    "id": "Zlbcjbb8MD6L",
    "scrolled": false
   },
   "outputs": [
    {
     "name": "stdout",
     "output_type": "stream",
     "text": [
      "   year  k_male  k_female  f_male  f_female\n",
      "0  1981    4160      4191     NaN       NaN\n",
      "1  1982    4160      4191     NaN       NaN\n",
      "2  1983    4160      4191     NaN       NaN\n",
      "3  1984    4160      4191     NaN       NaN\n",
      "4  1985    4160      4191     7.0       6.0\n",
      "5  1986    4899      4888     7.0       5.0\n",
      "6  1987    5000      4979     6.0       5.0\n",
      "7  1988    5156      5120     5.0       5.0\n",
      "8  1989    5305      5261     6.0       5.0\n",
      "9  1990    5321      5282     5.0       4.0\n"
     ]
    }
   ],
   "source": [
    "# 조인\n",
    "pop = pd.merge(pop01, pop02, on='year',  how='outer') \n",
    "\n",
    "# 확인\n",
    "print(pop.head(10))"
   ]
  },
  {
   "cell_type": "markdown",
   "metadata": {
    "id": "jl_baUE2RqmT"
   },
   "source": [
    "### 7.3 종합실습1"
   ]
  },
  {
   "cell_type": "markdown",
   "metadata": {
    "id": "_Wj4YWpI1nJN"
   },
   "source": [
    "1) 다음 요구사항에 맞게 하나의 코드셀에 순서대로 구문을 작성하고 확인하세요. \n",
    "\n",
    "- 1-1) pandas 라이브러리를 pd 별칭울 주어 불러오세요.\n",
    "- 1-2) 다음 경로의 파일을 읽어와 air 데이터프레임을 만드세요.\n",
    "\n",
    "    - 파일 경로: 'https://raw.githubusercontent.com/Jangrae/csv/master/airquality.csv'\n",
    "    - 단축 경로: 'https://bit.ly/AirQFile'"
   ]
  },
  {
   "cell_type": "code",
   "execution_count": 30,
   "metadata": {
    "id": "8hZaRpngVhlS"
   },
   "outputs": [],
   "source": [
    "# 1-1) 라이브러리 불러오기\n",
    "import pandas as pd\n",
    "\n",
    "\n",
    "# 1-2) 파일 읽어오기\n",
    "air = pd.read_csv('https://bit.ly/AirQFile')\n"
   ]
  },
  {
   "cell_type": "markdown",
   "metadata": {
    "id": "WAGgvzDv2klV"
   },
   "source": [
    "2) 상위 5개 행을 확인하세요."
   ]
  },
  {
   "cell_type": "code",
   "execution_count": 31,
   "metadata": {
    "id": "vJwQEeOt2fSD"
   },
   "outputs": [
    {
     "name": "stdout",
     "output_type": "stream",
     "text": [
      "   Ozone  Solar.R  Wind  Temp  Month  Day\n",
      "0   41.0    190.0   7.4    67      5    1\n",
      "1   36.0    118.0   8.0    72      5    2\n",
      "2   12.0    149.0  12.6    74      5    3\n",
      "3   18.0    313.0  11.5    62      5    4\n",
      "4    NaN      NaN  14.3    56      5    5\n"
     ]
    }
   ],
   "source": [
    "# 상위 5개 확인\n",
    "print(air.head())"
   ]
  },
  {
   "cell_type": "markdown",
   "metadata": {
    "id": "UfnBDOrJPyYW"
   },
   "source": [
    "3) 각 열에 결측치가 얼마나 있는지 확인하세요."
   ]
  },
  {
   "cell_type": "code",
   "execution_count": 35,
   "metadata": {
    "id": "sFKQKieUPyYW"
   },
   "outputs": [
    {
     "data": {
      "text/plain": [
       "Ozone      37\n",
       "Solar.R     7\n",
       "Wind        0\n",
       "Temp        0\n",
       "Month       0\n",
       "Day         0\n",
       "dtype: int64"
      ]
     },
     "execution_count": 35,
     "metadata": {},
     "output_type": "execute_result"
    }
   ],
   "source": [
    "# 결측치 확인\n",
    "air.isnull().sum()"
   ]
  },
  {
   "cell_type": "markdown",
   "metadata": {
    "id": "3dl8Yof7sXFv"
   },
   "source": [
    "4) 다음 요구사항에 맞게 하나의 코드셀에 순서대로 구문을 작성하고 확인하세요. \n",
    "\n",
    "- 4-1) Month, Day 열을 한 번에 삭제하세요.\n",
    "- 4-2) Ozone, Solar.R 두 열 결측치를 바로 앞의 값으로 채우세요.\n",
    "- 4-3) 각 열에 결측치가 남아있는지 확인하세요."
   ]
  },
  {
   "cell_type": "code",
   "execution_count": 37,
   "metadata": {
    "id": "rMLb6r445GSW",
    "scrolled": true
   },
   "outputs": [
    {
     "data": {
      "text/plain": [
       "Ozone      0\n",
       "Solar.R    0\n",
       "Wind       0\n",
       "Temp       0\n",
       "dtype: int64"
      ]
     },
     "execution_count": 37,
     "metadata": {},
     "output_type": "execute_result"
    }
   ],
   "source": [
    "# 4-1) Month, Day 열 삭제\n",
    "air.drop(['Month', 'Day'], axis=1, inplace=True)\n",
    "\n",
    "# 4-2) 앞의 값으로 채우기\n",
    "air.fillna(method = 'ffill', inplace = True)\n",
    "\n",
    "# 4-3) 결측치 존재 여부 확인\n",
    "air.isnull().sum()"
   ]
  },
  {
   "cell_type": "markdown",
   "metadata": {
    "id": "v-lLcRB0qz9H"
   },
   "source": [
    "5) 다음 요구사항에 맞게 하나의 코드셀에 순서대로 구문을 작성하고 확인하세요.\n",
    "\n",
    "- 5-1) 기초통계량에서 Temp 열의 25%, 50%, 75% 값을 조회(.describe() 이용)해 q1, q2, q3 변수를 선언하세요.\n",
    "- 5-2) 아래 범위와 값을 참조해 'a' ~ 'd' 값을 갖는 TempGrp 열을 추가하세요.\n",
    "    - q1 이하 → 'a'\n",
    "    - q1 초과 q2 이하 → 'b'\n",
    "    - q2 초과 q3 이하 → 'c'\n",
    "    - q3 초과 → 'd'\n",
    "- 5-3) TempGrp 별 오존 농도를 집계하여 tmp 데이터프레임을 선언하고 조회하시오."
   ]
  },
  {
   "cell_type": "code",
   "execution_count": 43,
   "metadata": {
    "id": "ILdEqjEXyThT"
   },
   "outputs": [
    {
     "data": {
      "text/html": [
       "<div>\n",
       "<style scoped>\n",
       "    .dataframe tbody tr th:only-of-type {\n",
       "        vertical-align: middle;\n",
       "    }\n",
       "\n",
       "    .dataframe tbody tr th {\n",
       "        vertical-align: top;\n",
       "    }\n",
       "\n",
       "    .dataframe thead th {\n",
       "        text-align: right;\n",
       "    }\n",
       "</style>\n",
       "<table border=\"1\" class=\"dataframe\">\n",
       "  <thead>\n",
       "    <tr style=\"text-align: right;\">\n",
       "      <th></th>\n",
       "      <th>TempGrp</th>\n",
       "      <th>Ozone</th>\n",
       "    </tr>\n",
       "  </thead>\n",
       "  <tbody>\n",
       "    <tr>\n",
       "      <th>0</th>\n",
       "      <td>a</td>\n",
       "      <td>783.0</td>\n",
       "    </tr>\n",
       "    <tr>\n",
       "      <th>1</th>\n",
       "      <td>b</td>\n",
       "      <td>1049.0</td>\n",
       "    </tr>\n",
       "    <tr>\n",
       "      <th>2</th>\n",
       "      <td>c</td>\n",
       "      <td>1689.0</td>\n",
       "    </tr>\n",
       "    <tr>\n",
       "      <th>3</th>\n",
       "      <td>d</td>\n",
       "      <td>2566.0</td>\n",
       "    </tr>\n",
       "  </tbody>\n",
       "</table>\n",
       "</div>"
      ],
      "text/plain": [
       "  TempGrp   Ozone\n",
       "0       a   783.0\n",
       "1       b  1049.0\n",
       "2       c  1689.0\n",
       "3       d  2566.0"
      ]
     },
     "execution_count": 43,
     "metadata": {},
     "output_type": "execute_result"
    }
   ],
   "source": [
    "# 5-1) 사분위수 \n",
    "q1 = air['Temp'].describe()['25%']\n",
    "q2 = air['Temp'].describe()['50%']\n",
    "q3 = air['Temp'].describe()['75%']\n",
    "\n",
    "# 5-2)\n",
    "# 라이브러리 불러오기\n",
    "import numpy as np\n",
    "\n",
    "# 등급 구하기\n",
    "bin = [-np.inf, q1, q2, q3, np.inf]\n",
    "air['TempGrp'] = pd.cut(air['Temp'], bins=bin, labels=['a', 'b', 'c', 'd'])\n",
    "\n",
    "# 5-3) 평균\n",
    "tmp = air.groupby(['TempGrp'], as_index = False)['Ozone'].sum()\n",
    "tmp"
   ]
  },
  {
   "cell_type": "markdown",
   "metadata": {
    "id": "xi1DC-l2TCyq"
   },
   "source": [
    "### 7.4 종합실습2"
   ]
  },
  {
   "cell_type": "markdown",
   "metadata": {
    "id": "C_HPBRxHA56R"
   },
   "source": [
    "1) 다음 요구사항에 맞게 하나의 코드셀에 순서대로 구문을 작성하고 확인하세요.\n",
    "\n",
    "- 1-1) pandas 라이브러리를 pd 별칭을 주어 불러오세요.\n",
    "- 1-2) 다음 경로의 파일들을 불러와 **pop01, pop02, pop03** 데이터프레임을 만드세요. \n",
    "    - 파일1 경로: 'https://bit.ly/PopH01File'    \n",
    "    - 파일2 경로: 'https://bit.ly/PopH02File'   \n",
    "    - 파일3 경로: 'https://bit.ly/PopH03File' \n",
    "- 1-3) 세 개의 데이터프레임을 inner 방식으로 **조인(merge)**해 pop 데이터프레임을 만드세요."
   ]
  },
  {
   "cell_type": "code",
   "execution_count": 27,
   "metadata": {
    "id": "914EtI97A56Y"
   },
   "outputs": [],
   "source": [
    "# 1-1) 라이브러리 불러오기\n",
    "import pandas as pd\n",
    "\n",
    "# 1-2) pop01 데이터 읽어오기\n",
    "pop01 = pd.read_csv('https://bit.ly/PopH01File')\n",
    "\n",
    "# 1-2) pop02 데이터 읽어오기\n",
    "pop02 = pd.read_csv('https://bit.ly/PopH02File')\n",
    "\n",
    "# 1-2) pop03 데이터 읽어오기\n",
    "pop03 = pd.read_csv('https://bit.ly/PopH03File')\n",
    "\n",
    "# 1-3) 데이터프레임 조인\n",
    "pop = pd.merge(pop01, pop02, on='year', how='inner') \n",
    "pop = pd.merge(pop, pop03, on='year', how='inner')"
   ]
  },
  {
   "cell_type": "markdown",
   "metadata": {
    "id": "V0-wQmv0vNr4"
   },
   "source": [
    "2) pop 데이터프레임 상위 10개 행을 확인하세요."
   ]
  },
  {
   "cell_type": "code",
   "execution_count": 28,
   "metadata": {
    "id": "pBM99bMivNr6"
   },
   "outputs": [
    {
     "data": {
      "text/html": [
       "<div>\n",
       "<style scoped>\n",
       "    .dataframe tbody tr th:only-of-type {\n",
       "        vertical-align: middle;\n",
       "    }\n",
       "\n",
       "    .dataframe tbody tr th {\n",
       "        vertical-align: top;\n",
       "    }\n",
       "\n",
       "    .dataframe thead th {\n",
       "        text-align: right;\n",
       "    }\n",
       "</style>\n",
       "<table border=\"1\" class=\"dataframe\">\n",
       "  <thead>\n",
       "    <tr style=\"text-align: right;\">\n",
       "      <th></th>\n",
       "      <th>year</th>\n",
       "      <th>k_male</th>\n",
       "      <th>k_female</th>\n",
       "      <th>f_male</th>\n",
       "      <th>f_female</th>\n",
       "      <th>household</th>\n",
       "      <th>older_65</th>\n",
       "    </tr>\n",
       "  </thead>\n",
       "  <tbody>\n",
       "    <tr>\n",
       "      <th>0</th>\n",
       "      <td>1985</td>\n",
       "      <td>4160</td>\n",
       "      <td>4191</td>\n",
       "      <td>7</td>\n",
       "      <td>6</td>\n",
       "      <td>2338</td>\n",
       "      <td>211</td>\n",
       "    </tr>\n",
       "    <tr>\n",
       "      <th>1</th>\n",
       "      <td>1986</td>\n",
       "      <td>4899</td>\n",
       "      <td>4888</td>\n",
       "      <td>7</td>\n",
       "      <td>5</td>\n",
       "      <td>2428</td>\n",
       "      <td>305</td>\n",
       "    </tr>\n",
       "    <tr>\n",
       "      <th>2</th>\n",
       "      <td>1987</td>\n",
       "      <td>5000</td>\n",
       "      <td>4979</td>\n",
       "      <td>6</td>\n",
       "      <td>5</td>\n",
       "      <td>2518</td>\n",
       "      <td>329</td>\n",
       "    </tr>\n",
       "    <tr>\n",
       "      <th>3</th>\n",
       "      <td>1988</td>\n",
       "      <td>5156</td>\n",
       "      <td>5120</td>\n",
       "      <td>5</td>\n",
       "      <td>5</td>\n",
       "      <td>2658</td>\n",
       "      <td>349</td>\n",
       "    </tr>\n",
       "    <tr>\n",
       "      <th>4</th>\n",
       "      <td>1989</td>\n",
       "      <td>5305</td>\n",
       "      <td>5261</td>\n",
       "      <td>6</td>\n",
       "      <td>5</td>\n",
       "      <td>2817</td>\n",
       "      <td>363</td>\n",
       "    </tr>\n",
       "    <tr>\n",
       "      <th>5</th>\n",
       "      <td>1990</td>\n",
       "      <td>5321</td>\n",
       "      <td>5282</td>\n",
       "      <td>5</td>\n",
       "      <td>4</td>\n",
       "      <td>2820</td>\n",
       "      <td>363</td>\n",
       "    </tr>\n",
       "    <tr>\n",
       "      <th>6</th>\n",
       "      <td>1991</td>\n",
       "      <td>5468</td>\n",
       "      <td>5405</td>\n",
       "      <td>18</td>\n",
       "      <td>14</td>\n",
       "      <td>3330</td>\n",
       "      <td>424</td>\n",
       "    </tr>\n",
       "    <tr>\n",
       "      <th>7</th>\n",
       "      <td>1992</td>\n",
       "      <td>5500</td>\n",
       "      <td>5435</td>\n",
       "      <td>19</td>\n",
       "      <td>16</td>\n",
       "      <td>3383</td>\n",
       "      <td>434</td>\n",
       "    </tr>\n",
       "    <tr>\n",
       "      <th>8</th>\n",
       "      <td>1993</td>\n",
       "      <td>5478</td>\n",
       "      <td>5412</td>\n",
       "      <td>19</td>\n",
       "      <td>17</td>\n",
       "      <td>3431</td>\n",
       "      <td>445</td>\n",
       "    </tr>\n",
       "    <tr>\n",
       "      <th>9</th>\n",
       "      <td>1994</td>\n",
       "      <td>5409</td>\n",
       "      <td>5351</td>\n",
       "      <td>21</td>\n",
       "      <td>19</td>\n",
       "      <td>3456</td>\n",
       "      <td>454</td>\n",
       "    </tr>\n",
       "  </tbody>\n",
       "</table>\n",
       "</div>"
      ],
      "text/plain": [
       "   year  k_male  k_female  f_male  f_female  household  older_65\n",
       "0  1985    4160      4191       7         6       2338       211\n",
       "1  1986    4899      4888       7         5       2428       305\n",
       "2  1987    5000      4979       6         5       2518       329\n",
       "3  1988    5156      5120       5         5       2658       349\n",
       "4  1989    5305      5261       6         5       2817       363\n",
       "5  1990    5321      5282       5         4       2820       363\n",
       "6  1991    5468      5405      18        14       3330       424\n",
       "7  1992    5500      5435      19        16       3383       434\n",
       "8  1993    5478      5412      19        17       3431       445\n",
       "9  1994    5409      5351      21        19       3456       454"
      ]
     },
     "execution_count": 28,
     "metadata": {},
     "output_type": "execute_result"
    }
   ],
   "source": [
    "# 상위 10개 확인\n",
    "pop.head(10)"
   ]
  },
  {
   "cell_type": "markdown",
   "metadata": {
    "id": "QfgvRcTvEIfQ"
   },
   "source": [
    "3) 다음 요구사항에 맞게 하나의 코드셀에 순서대로 구문을 작성하고 확인하세요.\n",
    "\n",
    "- 3-1) 다음 공식에 따라 pop 데이터프레임에 k_total, f_total, male, female, total 열을 추가하세요.\n",
    "    - k_total = k_male + k_female\n",
    "    - f_total = f_male + f_female\n",
    "    - male = k_male + f_male\n",
    "    - female = k_female + f_female\n",
    "    - total = k_total + f_total\n",
    "- 3-2) year, total, male, female 열만 추출해 pop_sum 데이터프레임을 선언하세요.\n",
    "- 3-3) pop_sum 데이터프레임 상위 10개 행을 조회하세요."
   ]
  },
  {
   "cell_type": "code",
   "execution_count": 29,
   "metadata": {
    "id": "_2UJfoL4Deyq"
   },
   "outputs": [
    {
     "data": {
      "text/html": [
       "<div>\n",
       "<style scoped>\n",
       "    .dataframe tbody tr th:only-of-type {\n",
       "        vertical-align: middle;\n",
       "    }\n",
       "\n",
       "    .dataframe tbody tr th {\n",
       "        vertical-align: top;\n",
       "    }\n",
       "\n",
       "    .dataframe thead th {\n",
       "        text-align: right;\n",
       "    }\n",
       "</style>\n",
       "<table border=\"1\" class=\"dataframe\">\n",
       "  <thead>\n",
       "    <tr style=\"text-align: right;\">\n",
       "      <th></th>\n",
       "      <th>year</th>\n",
       "      <th>total</th>\n",
       "      <th>male</th>\n",
       "      <th>female</th>\n",
       "    </tr>\n",
       "  </thead>\n",
       "  <tbody>\n",
       "    <tr>\n",
       "      <th>0</th>\n",
       "      <td>1985</td>\n",
       "      <td>8364</td>\n",
       "      <td>4167</td>\n",
       "      <td>4197</td>\n",
       "    </tr>\n",
       "    <tr>\n",
       "      <th>1</th>\n",
       "      <td>1986</td>\n",
       "      <td>9799</td>\n",
       "      <td>4906</td>\n",
       "      <td>4893</td>\n",
       "    </tr>\n",
       "    <tr>\n",
       "      <th>2</th>\n",
       "      <td>1987</td>\n",
       "      <td>9990</td>\n",
       "      <td>5006</td>\n",
       "      <td>4984</td>\n",
       "    </tr>\n",
       "    <tr>\n",
       "      <th>3</th>\n",
       "      <td>1988</td>\n",
       "      <td>10286</td>\n",
       "      <td>5161</td>\n",
       "      <td>5125</td>\n",
       "    </tr>\n",
       "    <tr>\n",
       "      <th>4</th>\n",
       "      <td>1989</td>\n",
       "      <td>10577</td>\n",
       "      <td>5311</td>\n",
       "      <td>5266</td>\n",
       "    </tr>\n",
       "    <tr>\n",
       "      <th>5</th>\n",
       "      <td>1990</td>\n",
       "      <td>10612</td>\n",
       "      <td>5326</td>\n",
       "      <td>5286</td>\n",
       "    </tr>\n",
       "    <tr>\n",
       "      <th>6</th>\n",
       "      <td>1991</td>\n",
       "      <td>10905</td>\n",
       "      <td>5486</td>\n",
       "      <td>5419</td>\n",
       "    </tr>\n",
       "    <tr>\n",
       "      <th>7</th>\n",
       "      <td>1992</td>\n",
       "      <td>10970</td>\n",
       "      <td>5519</td>\n",
       "      <td>5451</td>\n",
       "    </tr>\n",
       "    <tr>\n",
       "      <th>8</th>\n",
       "      <td>1993</td>\n",
       "      <td>10926</td>\n",
       "      <td>5497</td>\n",
       "      <td>5429</td>\n",
       "    </tr>\n",
       "    <tr>\n",
       "      <th>9</th>\n",
       "      <td>1994</td>\n",
       "      <td>10800</td>\n",
       "      <td>5430</td>\n",
       "      <td>5370</td>\n",
       "    </tr>\n",
       "  </tbody>\n",
       "</table>\n",
       "</div>"
      ],
      "text/plain": [
       "   year  total  male  female\n",
       "0  1985   8364  4167    4197\n",
       "1  1986   9799  4906    4893\n",
       "2  1987   9990  5006    4984\n",
       "3  1988  10286  5161    5125\n",
       "4  1989  10577  5311    5266\n",
       "5  1990  10612  5326    5286\n",
       "6  1991  10905  5486    5419\n",
       "7  1992  10970  5519    5451\n",
       "8  1993  10926  5497    5429\n",
       "9  1994  10800  5430    5370"
      ]
     },
     "execution_count": 29,
     "metadata": {},
     "output_type": "execute_result"
    }
   ],
   "source": [
    "# 3-1) 열 추가\n",
    "pop['k_total'] = pop['k_male'] + pop['k_female']\n",
    "pop['f_total'] = pop['f_male'] + pop['f_female']\n",
    "pop['male'] = pop['k_male'] + pop['f_male']\n",
    "pop['female'] = pop['k_female'] + pop['f_female']\n",
    "pop['total'] = pop['k_total'] + pop['f_total']\n",
    "\n",
    "# 3-2) 대표열 선택\n",
    "pop_sum = pop[['year', 'total', 'male', 'female']]\n",
    "\n",
    "# 3-3) 확인\n",
    "pop_sum.head(10)"
   ]
  },
  {
   "cell_type": "code",
   "execution_count": null,
   "metadata": {
    "id": "gZNCIpdnTCy2"
   },
   "outputs": [],
   "source": []
  }
 ],
 "metadata": {
  "colab": {
   "collapsed_sections": [],
   "name": "08 - 판다스 데이터프레임 변경 (3).ipynb",
   "provenance": []
  },
  "kernelspec": {
   "display_name": "Python 3",
   "language": "python",
   "name": "python3"
  },
  "language_info": {
   "codemirror_mode": {
    "name": "ipython",
    "version": 3
   },
   "file_extension": ".py",
   "mimetype": "text/x-python",
   "name": "python",
   "nbconvert_exporter": "python",
   "pygments_lexer": "ipython3",
   "version": "3.8.8"
  }
 },
 "nbformat": 4,
 "nbformat_minor": 1
}
