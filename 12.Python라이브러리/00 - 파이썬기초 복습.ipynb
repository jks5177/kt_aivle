{
 "cells": [
  {
   "cell_type": "markdown",
   "metadata": {
    "id": "BFhIXgdYoYGp"
   },
   "source": [
    "# 00. 파이썬기초 복습"
   ]
  },
  {
   "cell_type": "markdown",
   "metadata": {
    "id": "zAt73WbLVkBh"
   },
   "source": [
    "1) range()를 사용하여, 100이하의 수 중, 7의 배수를 리스트 a 에 담으시오.  "
   ]
  },
  {
   "cell_type": "code",
   "execution_count": 13,
   "metadata": {
    "id": "vkK6pHxZPLRc"
   },
   "outputs": [
    {
     "name": "stdout",
     "output_type": "stream",
     "text": [
      "[7, 14, 21, 28, 35, 42, 49, 56, 63, 70, 77, 84, 91, 98]\n"
     ]
    }
   ],
   "source": [
    "# a = [i for i in range(100) if i%7==0]\n",
    "a = list(range(7, 101, 7))\n",
    "print(a)"
   ]
  },
  {
   "cell_type": "markdown",
   "metadata": {
    "id": "Qgti38DEVkZp"
   },
   "source": [
    "2) a에서 인덱스 4~ 7까지 조회하시오."
   ]
  },
  {
   "cell_type": "code",
   "execution_count": 14,
   "metadata": {
    "id": "GUVp68uHYCW4"
   },
   "outputs": [
    {
     "data": {
      "text/plain": [
       "[35, 42, 49, 56]"
      ]
     },
     "execution_count": 14,
     "metadata": {},
     "output_type": "execute_result"
    }
   ],
   "source": [
    "a[4:8]"
   ]
  },
  {
   "cell_type": "markdown",
   "metadata": {
    "id": "-bV36ehSV5Va"
   },
   "source": [
    "3) a에서, 끝에서 세번째 값을 조회하시오."
   ]
  },
  {
   "cell_type": "code",
   "execution_count": 15,
   "metadata": {
    "id": "7F7TSz1lVjpC"
   },
   "outputs": [
    {
     "data": {
      "text/plain": [
       "84"
      ]
     },
     "execution_count": 15,
     "metadata": {},
     "output_type": "execute_result"
    }
   ],
   "source": [
    "a[-3]"
   ]
  },
  {
   "cell_type": "markdown",
   "metadata": {
    "id": "DawMpmAuWBxB"
   },
   "source": [
    "4) a에 데이터 갯수(길이)는?"
   ]
  },
  {
   "cell_type": "code",
   "execution_count": 16,
   "metadata": {
    "id": "b9p5iNbRVjmR"
   },
   "outputs": [
    {
     "data": {
      "text/plain": [
       "14"
      ]
     },
     "execution_count": 16,
     "metadata": {},
     "output_type": "execute_result"
    }
   ],
   "source": [
    "len(a)"
   ]
  },
  {
   "cell_type": "markdown",
   "metadata": {
    "id": "TCKZzGQa_Tnb"
   },
   "source": [
    "5) a 값들의 합과 평균을 구하시오."
   ]
  },
  {
   "cell_type": "code",
   "execution_count": 17,
   "metadata": {
    "id": "Bk6duuvY_Yei"
   },
   "outputs": [
    {
     "name": "stdout",
     "output_type": "stream",
     "text": [
      "735\n",
      "52.5\n"
     ]
    }
   ],
   "source": [
    "print(sum(a))\n",
    "print(sum(a)/len(a))"
   ]
  },
  {
   "cell_type": "markdown",
   "metadata": {
    "id": "LcKh8Vh9WXXs"
   },
   "source": [
    "6) [심화]반복문을 이용하여 100이하의 소수(prime number)를 리스트에 담아 봅시다.\n",
    "* 소수(prime number) : 약수가 오직 1과 자기자신 만 존재하는 수. "
   ]
  },
  {
   "cell_type": "code",
   "execution_count": 6,
   "metadata": {
    "id": "62qfCsxsVjgS"
   },
   "outputs": [
    {
     "name": "stdout",
     "output_type": "stream",
     "text": [
      "[2, 3, 5, 7, 11, 13, 17, 19, 23, 29, 31, 37, 41, 43, 47, 53, 59, 61, 67, 71, 73, 79, 83, 89, 97]\n"
     ]
    }
   ],
   "source": [
    "def is_prime(n) :\n",
    "    for i in range(2, n) :\n",
    "        if n%i == 0 :\n",
    "            return False\n",
    "    return True\n",
    "\n",
    "prime_number = []\n",
    "for i in range(2, 101) :\n",
    "    if is_prime(i) :\n",
    "        prime_number.append(i)\n",
    "        \n",
    "print(prime_number)"
   ]
  },
  {
   "cell_type": "markdown",
   "metadata": {
    "id": "WW4aBKOmWd7J"
   },
   "source": [
    "7) [심화] 6번의 코드를 참조하여, 소수(prime number) 추출기 함수를 만들어 봅시다.\n",
    "* 입력변수 : 숫자 n\n",
    "* 처리 : n 이하의 소수를 리스트에 저장\n",
    "* 출력변수 : 소수 리스트\n",
    "\n",
    "* [추가] 입력변수 n은 2이상의 정수여야 함.(입력값 체크 부분 포함)"
   ]
  },
  {
   "cell_type": "code",
   "execution_count": 7,
   "metadata": {
    "id": "7DK6tk9Vaxn5"
   },
   "outputs": [
    {
     "name": "stdout",
     "output_type": "stream",
     "text": [
      "[2, 3, 5, 7, 11, 13, 17, 19, 23, 29, 31, 37, 41, 43, 47, 53, 59, 61, 67, 71, 73, 79, 83, 89, 97]\n"
     ]
    }
   ],
   "source": [
    "def prime_list(n) :\n",
    "    if n < 2 :\n",
    "        print(\"숫자가 잘 못 입력됬습니다.\")\n",
    "        return 0\n",
    "    prime_number = []\n",
    "    for i in range(2, n) :\n",
    "        if is_prime(i) :\n",
    "            prime_number.append(i)\n",
    "    return prime_number\n",
    "\n",
    "print(prime_list(100))"
   ]
  },
  {
   "cell_type": "markdown",
   "metadata": {
    "id": "7emtv8XYXW1Z"
   },
   "source": [
    "8) 아래 값으로 딕셔너리 d를 생성해 봅시다.\n",
    "\n",
    "|key | value|\n",
    "|----|----|\n",
    "|v1 | [1,2,3]|\n",
    "|v2 | {'a':23, 'b':[4,5]}|\n",
    "\n"
   ]
  },
  {
   "cell_type": "code",
   "execution_count": 8,
   "metadata": {
    "id": "TS98pEKWXWjR"
   },
   "outputs": [
    {
     "data": {
      "text/plain": [
       "{'v1': [1, 2, 3], 'v2': {'a': 23, 'b': [4, 5]}}"
      ]
     },
     "execution_count": 8,
     "metadata": {},
     "output_type": "execute_result"
    }
   ],
   "source": [
    "d = {'v1':[1,2,3], 'v2':{'a':23, 'b':[4,5]}}\n",
    "d"
   ]
  },
  {
   "cell_type": "markdown",
   "metadata": {
    "id": "IjiAQmdUXWap"
   },
   "source": [
    "9) d에서 [1,2,3]을 출력해 봅시다."
   ]
  },
  {
   "cell_type": "code",
   "execution_count": 9,
   "metadata": {
    "id": "z4RaaUBsXw2p"
   },
   "outputs": [
    {
     "data": {
      "text/plain": [
       "[1, 2, 3]"
      ]
     },
     "execution_count": 9,
     "metadata": {},
     "output_type": "execute_result"
    }
   ],
   "source": [
    "d['v1']"
   ]
  },
  {
   "cell_type": "markdown",
   "metadata": {
    "id": "wdwyaB2IXV_J"
   },
   "source": [
    "10) d에서 23을 출력해 봅시다."
   ]
  },
  {
   "cell_type": "code",
   "execution_count": 10,
   "metadata": {
    "id": "DYEB5fuTX3UH"
   },
   "outputs": [
    {
     "data": {
      "text/plain": [
       "23"
      ]
     },
     "execution_count": 10,
     "metadata": {},
     "output_type": "execute_result"
    }
   ],
   "source": [
    "d['v2']['a']"
   ]
  },
  {
   "cell_type": "markdown",
   "metadata": {
    "id": "aG6yjO1wX4B5"
   },
   "source": [
    "11) d에서 5를 출력해봅시다."
   ]
  },
  {
   "cell_type": "code",
   "execution_count": 11,
   "metadata": {
    "id": "0TYAb7WPX4qS"
   },
   "outputs": [
    {
     "data": {
      "text/plain": [
       "5"
      ]
     },
     "execution_count": 11,
     "metadata": {},
     "output_type": "execute_result"
    }
   ],
   "source": [
    "d['v2']['b'][1]"
   ]
  },
  {
   "cell_type": "markdown",
   "metadata": {
    "id": "ES1kG2HCADx9"
   },
   "source": [
    "12) d에 key 'newKey' , value (1,2) 를 추가하고 출력해봅시다."
   ]
  },
  {
   "cell_type": "code",
   "execution_count": 12,
   "metadata": {
    "id": "_otugN4jADyQ"
   },
   "outputs": [
    {
     "data": {
      "text/plain": [
       "{'v1': [1, 2, 3], 'v2': {'a': 23, 'b': [4, 5]}, 'newKey': (1, 2)}"
      ]
     },
     "execution_count": 12,
     "metadata": {},
     "output_type": "execute_result"
    }
   ],
   "source": [
    "d['newKey'] = (1, 2)\n",
    "d"
   ]
  },
  {
   "cell_type": "code",
   "execution_count": null,
   "metadata": {
    "id": "uD0tf3r5AUjZ"
   },
   "outputs": [],
   "source": []
  }
 ],
 "metadata": {
  "colab": {
   "collapsed_sections": [],
   "name": "00 - 파이썬기초 복습.ipynb",
   "provenance": []
  },
  "kernelspec": {
   "display_name": "Python 3",
   "language": "python",
   "name": "python3"
  },
  "language_info": {
   "codemirror_mode": {
    "name": "ipython",
    "version": 3
   },
   "file_extension": ".py",
   "mimetype": "text/x-python",
   "name": "python",
   "nbconvert_exporter": "python",
   "pygments_lexer": "ipython3",
   "version": "3.8.8"
  }
 },
 "nbformat": 4,
 "nbformat_minor": 1
}
