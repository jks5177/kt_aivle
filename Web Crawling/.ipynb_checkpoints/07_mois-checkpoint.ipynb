{
 "cells": [
  {
   "cell_type": "markdown",
   "id": "558d8bc1",
   "metadata": {},
   "source": [
    "### 행정안전부 보도자료 데이터 수집\n",
    "- 정적페이지 데이터 수집 : html : bs, css-selecter\n",
    "- post 방식\n",
    "- 여러개의 페이지 데이터 수집"
   ]
  },
  {
   "cell_type": "code",
   "execution_count": 1,
   "id": "d1fcc618",
   "metadata": {},
   "outputs": [],
   "source": [
    "import pandas as pd\n",
    "import requests\n",
    "from bs4 import BeautifulSoup"
   ]
  },
  {
   "cell_type": "code",
   "execution_count": 2,
   "id": "319ea35a",
   "metadata": {},
   "outputs": [],
   "source": [
    "# 1. 웹서비스 분석 : url"
   ]
  },
  {
   "cell_type": "code",
   "execution_count": 8,
   "id": "094c6625",
   "metadata": {},
   "outputs": [],
   "source": [
    "page = 1\n",
    "url = 'https://mois.go.kr/frt/bbs/type010/commonSelectBoardList.do?bbsId=BBSMSTR_000000000008'\n",
    "params = {\n",
    "    'nttId': '0',\n",
    "    'bbsTyCode': 'BBST03',\n",
    "    'bbsAttrbCode': 'BBSA03',\n",
    "    'authFlag': 'Y',\n",
    "    'pageIndex': page,\n",
    "    'cal_url': '/sym/cal/EgovNormalCalPopup.do',\n",
    "    'searchCnd': '0',\n",
    "}"
   ]
  },
  {
   "cell_type": "code",
   "execution_count": 3,
   "id": "f86552a0",
   "metadata": {},
   "outputs": [],
   "source": [
    "# 2. requests(url, params) > response : html"
   ]
  },
  {
   "cell_type": "code",
   "execution_count": 9,
   "id": "5ba04fa1",
   "metadata": {},
   "outputs": [
    {
     "data": {
      "text/plain": [
       "<Response [200]>"
      ]
     },
     "execution_count": 9,
     "metadata": {},
     "output_type": "execute_result"
    }
   ],
   "source": [
    "response = requests.post(url, params)\n",
    "response"
   ]
  },
  {
   "cell_type": "code",
   "execution_count": 4,
   "id": "dcb26ebc",
   "metadata": {},
   "outputs": [],
   "source": [
    "# 3. html(str) > bs_obj > bs_obj.select(css-selecter) > text > DataFrame"
   ]
  },
  {
   "cell_type": "code",
   "execution_count": 14,
   "id": "9bbe6508",
   "metadata": {},
   "outputs": [],
   "source": [
    "dom = BeautifulSoup(response.text, 'html.parser')"
   ]
  },
  {
   "cell_type": "code",
   "execution_count": 20,
   "id": "eb83d23e",
   "metadata": {},
   "outputs": [
    {
     "data": {
      "text/plain": [
       "10"
      ]
     },
     "execution_count": 20,
     "metadata": {},
     "output_type": "execute_result"
    }
   ],
   "source": [
    "# 게시글 리스트 데이터 선택 : 10개\n",
    "elements = dom.select('tbody > tr')\n",
    "len(elements)"
   ]
  },
  {
   "cell_type": "code",
   "execution_count": 31,
   "id": "9ddd5052",
   "metadata": {},
   "outputs": [],
   "source": [
    "# 각 데이터에서 필요한 정보 수집"
   ]
  },
  {
   "cell_type": "code",
   "execution_count": 36,
   "id": "a2a3de42",
   "metadata": {},
   "outputs": [
    {
     "data": {
      "text/plain": [
       "{'no': '12951',\n",
       " 'title': '정부청사, 민-관 협력으로 성과관리 전략 강화',\n",
       " 'writer': '관리총괄과',\n",
       " 'date': '2022.02.22.',\n",
       " 'pv': '36',\n",
       " 'link': 'https://mois.go.kr/frt/bbs/type010/commonSelectBoardArticle.do;jsessionid=GroBOLCFr6BnyYXjLZbDxeXZ.node50?bbsId=BBSMSTR_000000000008&nttId=90617'}"
      ]
     },
     "execution_count": 36,
     "metadata": {},
     "output_type": "execute_result"
    }
   ],
   "source": [
    "element = elements[0]\n",
    "data = {\n",
    "    'no' : element.select('td')[0].text.strip(),\n",
    "    'title' : element.select('td')[1].text.strip(),\n",
    "    'writer' : element.select('td')[3].text.strip(),\n",
    "    'date' : element.select('td')[4].text.strip(),\n",
    "    'pv' : element.select('td')[5].text.strip(),\n",
    "    'link' : 'https://mois.go.kr' + element.select('td')[1].select_one('a').get('href'),\n",
    "}\n",
    "\n",
    "data"
   ]
  },
  {
   "cell_type": "code",
   "execution_count": 40,
   "id": "e4c7e112",
   "metadata": {},
   "outputs": [
    {
     "data": {
      "text/html": [
       "<div>\n",
       "<style scoped>\n",
       "    .dataframe tbody tr th:only-of-type {\n",
       "        vertical-align: middle;\n",
       "    }\n",
       "\n",
       "    .dataframe tbody tr th {\n",
       "        vertical-align: top;\n",
       "    }\n",
       "\n",
       "    .dataframe thead th {\n",
       "        text-align: right;\n",
       "    }\n",
       "</style>\n",
       "<table border=\"1\" class=\"dataframe\">\n",
       "  <thead>\n",
       "    <tr style=\"text-align: right;\">\n",
       "      <th></th>\n",
       "      <th>no</th>\n",
       "      <th>title</th>\n",
       "      <th>writer</th>\n",
       "      <th>date</th>\n",
       "      <th>pv</th>\n",
       "      <th>link</th>\n",
       "    </tr>\n",
       "  </thead>\n",
       "  <tbody>\n",
       "    <tr>\n",
       "      <th>0</th>\n",
       "      <td>12951</td>\n",
       "      <td>정부청사, 민-관 협력으로 성과관리 전략 강화</td>\n",
       "      <td>관리총괄과</td>\n",
       "      <td>2022.02.22.</td>\n",
       "      <td>36</td>\n",
       "      <td>https://mois.go.kr/frt/bbs/type010/commonSelec...</td>\n",
       "    </tr>\n",
       "    <tr>\n",
       "      <th>1</th>\n",
       "      <td>12950</td>\n",
       "      <td>지방자치인재개발원, 이집트 지방공무원 역량강화 협력 확대</td>\n",
       "      <td>국제교육협력과</td>\n",
       "      <td>2022.02.22.</td>\n",
       "      <td>23</td>\n",
       "      <td>https://mois.go.kr/frt/bbs/type010/commonSelec...</td>\n",
       "    </tr>\n",
       "    <tr>\n",
       "      <th>2</th>\n",
       "      <td>12949</td>\n",
       "      <td>전국 시·도 적극행정 책임관 회의 개최…올해 적극행정 일상적 공직문화로 정착</td>\n",
       "      <td>지역사회혁신정책과</td>\n",
       "      <td>2022.02.22.</td>\n",
       "      <td>26</td>\n",
       "      <td>https://mois.go.kr/frt/bbs/type010/commonSelec...</td>\n",
       "    </tr>\n",
       "    <tr>\n",
       "      <th>3</th>\n",
       "      <td>12948</td>\n",
       "      <td>한국판 뉴딜 정책의 지역 확산을 위한 교육의 장 마련</td>\n",
       "      <td>기획협력과</td>\n",
       "      <td>2022.02.22.</td>\n",
       "      <td>106</td>\n",
       "      <td>https://mois.go.kr/frt/bbs/type010/commonSelec...</td>\n",
       "    </tr>\n",
       "    <tr>\n",
       "      <th>4</th>\n",
       "      <td>12947</td>\n",
       "      <td>자치경찰제도 시행 8개월, 주민밀착 정책 본격 추진</td>\n",
       "      <td>홍보담당관</td>\n",
       "      <td>2022.02.21.</td>\n",
       "      <td>181</td>\n",
       "      <td>https://mois.go.kr/frt/bbs/type010/commonSelec...</td>\n",
       "    </tr>\n",
       "    <tr>\n",
       "      <th>5</th>\n",
       "      <td>12946</td>\n",
       "      <td>디지털 대전환 시대, 교육훈련 미래 모색한다</td>\n",
       "      <td>기획협력과</td>\n",
       "      <td>2022.02.21.</td>\n",
       "      <td>241</td>\n",
       "      <td>https://mois.go.kr/frt/bbs/type010/commonSelec...</td>\n",
       "    </tr>\n",
       "    <tr>\n",
       "      <th>6</th>\n",
       "      <td>12945</td>\n",
       "      <td>국민 생각에서 출발해, 지역을 변화시킨 지방규제혁신 사례 소개</td>\n",
       "      <td>지방규제혁신과</td>\n",
       "      <td>2022.02.21.</td>\n",
       "      <td>220</td>\n",
       "      <td>https://mois.go.kr/frt/bbs/type010/commonSelec...</td>\n",
       "    </tr>\n",
       "    <tr>\n",
       "      <th>7</th>\n",
       "      <td>12944</td>\n",
       "      <td>국과수, 디지털증거물 인증서비스 활용으로 공명선거 지원</td>\n",
       "      <td>디지털과</td>\n",
       "      <td>2022.02.20.</td>\n",
       "      <td>281</td>\n",
       "      <td>https://mois.go.kr/frt/bbs/type010/commonSelec...</td>\n",
       "    </tr>\n",
       "    <tr>\n",
       "      <th>8</th>\n",
       "      <td>12943</td>\n",
       "      <td>교통사고 잦은 곳 개선하니 사망자 72.1%, 교통사고 31.5% 줄어</td>\n",
       "      <td>안전개선과</td>\n",
       "      <td>2022.02.20.</td>\n",
       "      <td>371</td>\n",
       "      <td>https://mois.go.kr/frt/bbs/type010/commonSelec...</td>\n",
       "    </tr>\n",
       "    <tr>\n",
       "      <th>9</th>\n",
       "      <td>12942</td>\n",
       "      <td>행안부-지자체, 국가지점번호판 관리실태 전국 일제조사 추진</td>\n",
       "      <td>주소정책과</td>\n",
       "      <td>2022.02.20.</td>\n",
       "      <td>226</td>\n",
       "      <td>https://mois.go.kr/frt/bbs/type010/commonSelec...</td>\n",
       "    </tr>\n",
       "  </tbody>\n",
       "</table>\n",
       "</div>"
      ],
      "text/plain": [
       "      no                                       title     writer         date  \\\n",
       "0  12951                   정부청사, 민-관 협력으로 성과관리 전략 강화      관리총괄과  2022.02.22.   \n",
       "1  12950             지방자치인재개발원, 이집트 지방공무원 역량강화 협력 확대    국제교육협력과  2022.02.22.   \n",
       "2  12949  전국 시·도 적극행정 책임관 회의 개최…올해 적극행정 일상적 공직문화로 정착  지역사회혁신정책과  2022.02.22.   \n",
       "3  12948               한국판 뉴딜 정책의 지역 확산을 위한 교육의 장 마련      기획협력과  2022.02.22.   \n",
       "4  12947                자치경찰제도 시행 8개월, 주민밀착 정책 본격 추진      홍보담당관  2022.02.21.   \n",
       "5  12946                    디지털 대전환 시대, 교육훈련 미래 모색한다      기획협력과  2022.02.21.   \n",
       "6  12945          국민 생각에서 출발해, 지역을 변화시킨 지방규제혁신 사례 소개    지방규제혁신과  2022.02.21.   \n",
       "7  12944              국과수, 디지털증거물 인증서비스 활용으로 공명선거 지원       디지털과  2022.02.20.   \n",
       "8  12943     교통사고 잦은 곳 개선하니 사망자 72.1%, 교통사고 31.5% 줄어      안전개선과  2022.02.20.   \n",
       "9  12942            행안부-지자체, 국가지점번호판 관리실태 전국 일제조사 추진      주소정책과  2022.02.20.   \n",
       "\n",
       "    pv                                               link  \n",
       "0   36  https://mois.go.kr/frt/bbs/type010/commonSelec...  \n",
       "1   23  https://mois.go.kr/frt/bbs/type010/commonSelec...  \n",
       "2   26  https://mois.go.kr/frt/bbs/type010/commonSelec...  \n",
       "3  106  https://mois.go.kr/frt/bbs/type010/commonSelec...  \n",
       "4  181  https://mois.go.kr/frt/bbs/type010/commonSelec...  \n",
       "5  241  https://mois.go.kr/frt/bbs/type010/commonSelec...  \n",
       "6  220  https://mois.go.kr/frt/bbs/type010/commonSelec...  \n",
       "7  281  https://mois.go.kr/frt/bbs/type010/commonSelec...  \n",
       "8  371  https://mois.go.kr/frt/bbs/type010/commonSelec...  \n",
       "9  226  https://mois.go.kr/frt/bbs/type010/commonSelec...  "
      ]
     },
     "execution_count": 40,
     "metadata": {},
     "output_type": "execute_result"
    }
   ],
   "source": [
    "datas = [{'no' : element.select('td')[0].text.strip(),\n",
    "        'title' : element.select('td')[1].text.strip(),\n",
    "        'writer' : element.select('td')[3].text.strip(),\n",
    "        'date' : element.select('td')[4].text.strip(),\n",
    "        'pv' : element.select('td')[5].text.strip(),\n",
    "        'link' : 'https://mois.go.kr' + element.select('td')[1].select_one('a').get('href'),} for element in elements]\n",
    "data_df = pd.DataFrame(datas)\n",
    "data_df"
   ]
  },
  {
   "cell_type": "code",
   "execution_count": 5,
   "id": "26fd7432",
   "metadata": {},
   "outputs": [],
   "source": [
    "# 4. function : params : page"
   ]
  },
  {
   "cell_type": "code",
   "execution_count": 41,
   "id": "b600a733",
   "metadata": {},
   "outputs": [],
   "source": [
    "def mois(page) :\n",
    "    url = 'https://mois.go.kr/frt/bbs/type010/commonSelectBoardList.do?bbsId=BBSMSTR_000000000008'\n",
    "    params = {\n",
    "        'nttId': '0',\n",
    "        'bbsTyCode': 'BBST03',\n",
    "        'bbsAttrbCode': 'BBSA03',\n",
    "        'authFlag': 'Y',\n",
    "        'pageIndex': page,\n",
    "        'cal_url': '/sym/cal/EgovNormalCalPopup.do',\n",
    "        'searchCnd': '0',\n",
    "    }\n",
    "    datas = [{'no' : element.select('td')[0].text.strip(),\n",
    "        'title' : element.select('td')[1].text.strip(),\n",
    "        'writer' : element.select('td')[3].text.strip(),\n",
    "        'date' : element.select('td')[4].text.strip(),\n",
    "        'pv' : element.select('td')[5].text.strip(),\n",
    "        'link' : 'https://mois.go.kr' + element.select('td')[1].select_one('a').get('href'),} for element in elements]\n",
    "    return pd.DataFrame(datas)"
   ]
  },
  {
   "cell_type": "code",
   "execution_count": 43,
   "id": "cf76cb3c",
   "metadata": {},
   "outputs": [
    {
     "data": {
      "text/html": [
       "<div>\n",
       "<style scoped>\n",
       "    .dataframe tbody tr th:only-of-type {\n",
       "        vertical-align: middle;\n",
       "    }\n",
       "\n",
       "    .dataframe tbody tr th {\n",
       "        vertical-align: top;\n",
       "    }\n",
       "\n",
       "    .dataframe thead th {\n",
       "        text-align: right;\n",
       "    }\n",
       "</style>\n",
       "<table border=\"1\" class=\"dataframe\">\n",
       "  <thead>\n",
       "    <tr style=\"text-align: right;\">\n",
       "      <th></th>\n",
       "      <th>no</th>\n",
       "      <th>title</th>\n",
       "      <th>writer</th>\n",
       "      <th>date</th>\n",
       "      <th>pv</th>\n",
       "      <th>link</th>\n",
       "    </tr>\n",
       "  </thead>\n",
       "  <tbody>\n",
       "    <tr>\n",
       "      <th>0</th>\n",
       "      <td>12951</td>\n",
       "      <td>정부청사, 민-관 협력으로 성과관리 전략 강화</td>\n",
       "      <td>관리총괄과</td>\n",
       "      <td>2022.02.22.</td>\n",
       "      <td>36</td>\n",
       "      <td>https://mois.go.kr/frt/bbs/type010/commonSelec...</td>\n",
       "    </tr>\n",
       "    <tr>\n",
       "      <th>1</th>\n",
       "      <td>12950</td>\n",
       "      <td>지방자치인재개발원, 이집트 지방공무원 역량강화 협력 확대</td>\n",
       "      <td>국제교육협력과</td>\n",
       "      <td>2022.02.22.</td>\n",
       "      <td>23</td>\n",
       "      <td>https://mois.go.kr/frt/bbs/type010/commonSelec...</td>\n",
       "    </tr>\n",
       "    <tr>\n",
       "      <th>2</th>\n",
       "      <td>12949</td>\n",
       "      <td>전국 시·도 적극행정 책임관 회의 개최…올해 적극행정 일상적 공직문화로 정착</td>\n",
       "      <td>지역사회혁신정책과</td>\n",
       "      <td>2022.02.22.</td>\n",
       "      <td>26</td>\n",
       "      <td>https://mois.go.kr/frt/bbs/type010/commonSelec...</td>\n",
       "    </tr>\n",
       "    <tr>\n",
       "      <th>3</th>\n",
       "      <td>12948</td>\n",
       "      <td>한국판 뉴딜 정책의 지역 확산을 위한 교육의 장 마련</td>\n",
       "      <td>기획협력과</td>\n",
       "      <td>2022.02.22.</td>\n",
       "      <td>106</td>\n",
       "      <td>https://mois.go.kr/frt/bbs/type010/commonSelec...</td>\n",
       "    </tr>\n",
       "    <tr>\n",
       "      <th>4</th>\n",
       "      <td>12947</td>\n",
       "      <td>자치경찰제도 시행 8개월, 주민밀착 정책 본격 추진</td>\n",
       "      <td>홍보담당관</td>\n",
       "      <td>2022.02.21.</td>\n",
       "      <td>181</td>\n",
       "      <td>https://mois.go.kr/frt/bbs/type010/commonSelec...</td>\n",
       "    </tr>\n",
       "    <tr>\n",
       "      <th>5</th>\n",
       "      <td>12946</td>\n",
       "      <td>디지털 대전환 시대, 교육훈련 미래 모색한다</td>\n",
       "      <td>기획협력과</td>\n",
       "      <td>2022.02.21.</td>\n",
       "      <td>241</td>\n",
       "      <td>https://mois.go.kr/frt/bbs/type010/commonSelec...</td>\n",
       "    </tr>\n",
       "    <tr>\n",
       "      <th>6</th>\n",
       "      <td>12945</td>\n",
       "      <td>국민 생각에서 출발해, 지역을 변화시킨 지방규제혁신 사례 소개</td>\n",
       "      <td>지방규제혁신과</td>\n",
       "      <td>2022.02.21.</td>\n",
       "      <td>220</td>\n",
       "      <td>https://mois.go.kr/frt/bbs/type010/commonSelec...</td>\n",
       "    </tr>\n",
       "    <tr>\n",
       "      <th>7</th>\n",
       "      <td>12944</td>\n",
       "      <td>국과수, 디지털증거물 인증서비스 활용으로 공명선거 지원</td>\n",
       "      <td>디지털과</td>\n",
       "      <td>2022.02.20.</td>\n",
       "      <td>281</td>\n",
       "      <td>https://mois.go.kr/frt/bbs/type010/commonSelec...</td>\n",
       "    </tr>\n",
       "    <tr>\n",
       "      <th>8</th>\n",
       "      <td>12943</td>\n",
       "      <td>교통사고 잦은 곳 개선하니 사망자 72.1%, 교통사고 31.5% 줄어</td>\n",
       "      <td>안전개선과</td>\n",
       "      <td>2022.02.20.</td>\n",
       "      <td>371</td>\n",
       "      <td>https://mois.go.kr/frt/bbs/type010/commonSelec...</td>\n",
       "    </tr>\n",
       "    <tr>\n",
       "      <th>9</th>\n",
       "      <td>12942</td>\n",
       "      <td>행안부-지자체, 국가지점번호판 관리실태 전국 일제조사 추진</td>\n",
       "      <td>주소정책과</td>\n",
       "      <td>2022.02.20.</td>\n",
       "      <td>226</td>\n",
       "      <td>https://mois.go.kr/frt/bbs/type010/commonSelec...</td>\n",
       "    </tr>\n",
       "  </tbody>\n",
       "</table>\n",
       "</div>"
      ],
      "text/plain": [
       "      no                                       title     writer         date  \\\n",
       "0  12951                   정부청사, 민-관 협력으로 성과관리 전략 강화      관리총괄과  2022.02.22.   \n",
       "1  12950             지방자치인재개발원, 이집트 지방공무원 역량강화 협력 확대    국제교육협력과  2022.02.22.   \n",
       "2  12949  전국 시·도 적극행정 책임관 회의 개최…올해 적극행정 일상적 공직문화로 정착  지역사회혁신정책과  2022.02.22.   \n",
       "3  12948               한국판 뉴딜 정책의 지역 확산을 위한 교육의 장 마련      기획협력과  2022.02.22.   \n",
       "4  12947                자치경찰제도 시행 8개월, 주민밀착 정책 본격 추진      홍보담당관  2022.02.21.   \n",
       "5  12946                    디지털 대전환 시대, 교육훈련 미래 모색한다      기획협력과  2022.02.21.   \n",
       "6  12945          국민 생각에서 출발해, 지역을 변화시킨 지방규제혁신 사례 소개    지방규제혁신과  2022.02.21.   \n",
       "7  12944              국과수, 디지털증거물 인증서비스 활용으로 공명선거 지원       디지털과  2022.02.20.   \n",
       "8  12943     교통사고 잦은 곳 개선하니 사망자 72.1%, 교통사고 31.5% 줄어      안전개선과  2022.02.20.   \n",
       "9  12942            행안부-지자체, 국가지점번호판 관리실태 전국 일제조사 추진      주소정책과  2022.02.20.   \n",
       "\n",
       "    pv                                               link  \n",
       "0   36  https://mois.go.kr/frt/bbs/type010/commonSelec...  \n",
       "1   23  https://mois.go.kr/frt/bbs/type010/commonSelec...  \n",
       "2   26  https://mois.go.kr/frt/bbs/type010/commonSelec...  \n",
       "3  106  https://mois.go.kr/frt/bbs/type010/commonSelec...  \n",
       "4  181  https://mois.go.kr/frt/bbs/type010/commonSelec...  \n",
       "5  241  https://mois.go.kr/frt/bbs/type010/commonSelec...  \n",
       "6  220  https://mois.go.kr/frt/bbs/type010/commonSelec...  \n",
       "7  281  https://mois.go.kr/frt/bbs/type010/commonSelec...  \n",
       "8  371  https://mois.go.kr/frt/bbs/type010/commonSelec...  \n",
       "9  226  https://mois.go.kr/frt/bbs/type010/commonSelec...  "
      ]
     },
     "execution_count": 43,
     "metadata": {},
     "output_type": "execute_result"
    }
   ],
   "source": [
    "mois(1)"
   ]
  },
  {
   "cell_type": "code",
   "execution_count": 6,
   "id": "d3ed39ad",
   "metadata": {},
   "outputs": [],
   "source": [
    "# 5. 여러 페이지 데이터 수집"
   ]
  },
  {
   "cell_type": "code",
   "execution_count": 48,
   "id": "68002b42",
   "metadata": {},
   "outputs": [
    {
     "name": "stdout",
     "output_type": "stream",
     "text": [
      "1 2 3 "
     ]
    },
    {
     "data": {
      "text/html": [
       "<div>\n",
       "<style scoped>\n",
       "    .dataframe tbody tr th:only-of-type {\n",
       "        vertical-align: middle;\n",
       "    }\n",
       "\n",
       "    .dataframe tbody tr th {\n",
       "        vertical-align: top;\n",
       "    }\n",
       "\n",
       "    .dataframe thead th {\n",
       "        text-align: right;\n",
       "    }\n",
       "</style>\n",
       "<table border=\"1\" class=\"dataframe\">\n",
       "  <thead>\n",
       "    <tr style=\"text-align: right;\">\n",
       "      <th></th>\n",
       "      <th>no</th>\n",
       "      <th>title</th>\n",
       "      <th>writer</th>\n",
       "      <th>date</th>\n",
       "      <th>pv</th>\n",
       "      <th>link</th>\n",
       "    </tr>\n",
       "  </thead>\n",
       "  <tbody>\n",
       "    <tr>\n",
       "      <th>28</th>\n",
       "      <td>12943</td>\n",
       "      <td>교통사고 잦은 곳 개선하니 사망자 72.1%, 교통사고 31.5% 줄어</td>\n",
       "      <td>안전개선과</td>\n",
       "      <td>2022.02.20.</td>\n",
       "      <td>371</td>\n",
       "      <td>https://mois.go.kr/frt/bbs/type010/commonSelec...</td>\n",
       "    </tr>\n",
       "    <tr>\n",
       "      <th>29</th>\n",
       "      <td>12942</td>\n",
       "      <td>행안부-지자체, 국가지점번호판 관리실태 전국 일제조사 추진</td>\n",
       "      <td>주소정책과</td>\n",
       "      <td>2022.02.20.</td>\n",
       "      <td>226</td>\n",
       "      <td>https://mois.go.kr/frt/bbs/type010/commonSelec...</td>\n",
       "    </tr>\n",
       "  </tbody>\n",
       "</table>\n",
       "</div>"
      ],
      "text/plain": [
       "       no                                    title writer         date   pv  \\\n",
       "28  12943  교통사고 잦은 곳 개선하니 사망자 72.1%, 교통사고 31.5% 줄어  안전개선과  2022.02.20.  371   \n",
       "29  12942         행안부-지자체, 국가지점번호판 관리실태 전국 일제조사 추진  주소정책과  2022.02.20.  226   \n",
       "\n",
       "                                                 link  \n",
       "28  https://mois.go.kr/frt/bbs/type010/commonSelec...  \n",
       "29  https://mois.go.kr/frt/bbs/type010/commonSelec...  "
      ]
     },
     "execution_count": 48,
     "metadata": {},
     "output_type": "execute_result"
    }
   ],
   "source": [
    "dfs = []\n",
    "for page in range(1, 4) :\n",
    "    print(page, end=' ')\n",
    "    dfs.append(mois(page))\n",
    "\n",
    "result_df = pd.concat(dfs, ignore_index=True)\n",
    "result_df.tail(2)"
   ]
  },
  {
   "cell_type": "code",
   "execution_count": null,
   "id": "3af80f16",
   "metadata": {},
   "outputs": [],
   "source": []
  }
 ],
 "metadata": {
  "kernelspec": {
   "display_name": "Python 3",
   "language": "python",
   "name": "python3"
  },
  "language_info": {
   "codemirror_mode": {
    "name": "ipython",
    "version": 3
   },
   "file_extension": ".py",
   "mimetype": "text/x-python",
   "name": "python",
   "nbconvert_exporter": "python",
   "pygments_lexer": "ipython3",
   "version": "3.8.8"
  }
 },
 "nbformat": 4,
 "nbformat_minor": 5
}
