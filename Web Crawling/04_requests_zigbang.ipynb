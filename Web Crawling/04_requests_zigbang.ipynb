{
 "cells": [
  {
   "cell_type": "markdown",
   "id": "democratic-utility",
   "metadata": {},
   "source": [
    "### Zigbang 원룸 매물 데이터 수집"
   ]
  },
  {
   "cell_type": "code",
   "execution_count": 1,
   "id": "minor-irrigation",
   "metadata": {},
   "outputs": [],
   "source": [
    "import requests\n",
    "import pandas as pd"
   ]
  },
  {
   "cell_type": "markdown",
   "id": "whole-answer",
   "metadata": {},
   "source": [
    "- 절차\n",
    "    - 동이름으로 위도 경도 구하기\n",
    "    - 위도 경도로 geohash 알아내기\n",
    "    - geohash로 매물 아이디 가져오기\n",
    "    - 매물 아이디로 매물 정보 가져오기"
   ]
  },
  {
   "cell_type": "code",
   "execution_count": 2,
   "id": "moving-quebec",
   "metadata": {},
   "outputs": [],
   "source": [
    "# 1. 동이름으로 위도 경도 구하기"
   ]
  },
  {
   "cell_type": "code",
   "execution_count": 3,
   "id": "preceding-klein",
   "metadata": {},
   "outputs": [
    {
     "data": {
      "text/plain": [
       "(37.556785583496094, 126.9013442993164)"
      ]
     },
     "execution_count": 3,
     "metadata": {},
     "output_type": "execute_result"
    }
   ],
   "source": [
    "addr = \"망원동\"\n",
    "url = f\"https://apis.zigbang.com/v2/search?leaseYn=N&q={addr}&serviceType=원룸\"\n",
    "response = requests.get(url)\n",
    "data = response.json()[\"items\"][0]\n",
    "lat, lng = data[\"lat\"], data[\"lng\"]\n",
    "lat, lng"
   ]
  },
  {
   "cell_type": "code",
   "execution_count": 4,
   "id": "about-poland",
   "metadata": {},
   "outputs": [],
   "source": [
    "# 2. 위도 경도로 geohash 알아내기"
   ]
  },
  {
   "cell_type": "code",
   "execution_count": 5,
   "id": "aware-liquid",
   "metadata": {},
   "outputs": [],
   "source": [
    "import geohash2"
   ]
  },
  {
   "cell_type": "code",
   "execution_count": 6,
   "id": "parliamentary-transfer",
   "metadata": {},
   "outputs": [
    {
     "data": {
      "text/plain": [
       "'wydjx'"
      ]
     },
     "execution_count": 6,
     "metadata": {},
     "output_type": "execute_result"
    }
   ],
   "source": [
    "# precision이 커질수록 영역이 작아짐\n",
    "geohash = geohash2.encode(lat, lng, precision=5)\n",
    "geohash"
   ]
  },
  {
   "cell_type": "code",
   "execution_count": 7,
   "id": "ultimate-religious",
   "metadata": {},
   "outputs": [],
   "source": [
    "# 3. geohash로 매물 아이디 가져오기"
   ]
  },
  {
   "cell_type": "code",
   "execution_count": 8,
   "id": "instant-porter",
   "metadata": {},
   "outputs": [
    {
     "data": {
      "text/plain": [
       "(872, [30543359, 30453086, 30462357, 30519078, 30524930])"
      ]
     },
     "execution_count": 8,
     "metadata": {},
     "output_type": "execute_result"
    }
   ],
   "source": [
    "url = f\"https://apis.zigbang.com/v2/items?deposit_gteq=0&domain=zigbang\\\n",
    "&geohash={geohash}&needHasNoFiltered=true&rent_gteq=0&sales_type_in=전세|월세\\\n",
    "&service_type_eq=원룸\"\n",
    "response = requests.get(url)\n",
    "datas = response.json()[\"items\"]\n",
    "# len(datas), datas[0]\n",
    "ids = [data[\"item_id\"] for data in datas]\n",
    "len(ids), ids[:5]"
   ]
  },
  {
   "cell_type": "code",
   "execution_count": 9,
   "id": "excellent-reading",
   "metadata": {},
   "outputs": [],
   "source": [
    "# 4. 매물 아이디로 매물 정보 가져오기"
   ]
  },
  {
   "cell_type": "code",
   "execution_count": 10,
   "id": "distinguished-electronics",
   "metadata": {},
   "outputs": [
    {
     "data": {
      "text/plain": [
       "<Response [200]>"
      ]
     },
     "execution_count": 10,
     "metadata": {},
     "output_type": "execute_result"
    }
   ],
   "source": [
    "# 1000개 넘어가면 나눠서 수집해야 함\n",
    "url = \"https://apis.zigbang.com/v2/items/list\"\n",
    "params = {\n",
    "    \"domain\": \"zigbang\",\n",
    "    \"withCoalition\": \"true\",\n",
    "    \"item_ids\": ids\n",
    "}\n",
    "response = requests.post(url, params)\n",
    "response"
   ]
  },
  {
   "cell_type": "code",
   "execution_count": 11,
   "id": "identified-opposition",
   "metadata": {},
   "outputs": [
    {
     "data": {
      "text/html": [
       "<div>\n",
       "<style scoped>\n",
       "    .dataframe tbody tr th:only-of-type {\n",
       "        vertical-align: middle;\n",
       "    }\n",
       "\n",
       "    .dataframe tbody tr th {\n",
       "        vertical-align: top;\n",
       "    }\n",
       "\n",
       "    .dataframe thead th {\n",
       "        text-align: right;\n",
       "    }\n",
       "</style>\n",
       "<table border=\"1\" class=\"dataframe\">\n",
       "  <thead>\n",
       "    <tr style=\"text-align: right;\">\n",
       "      <th></th>\n",
       "      <th>section_type</th>\n",
       "      <th>item_id</th>\n",
       "      <th>images_thumbnail</th>\n",
       "      <th>sales_type</th>\n",
       "      <th>sales_title</th>\n",
       "      <th>deposit</th>\n",
       "      <th>rent</th>\n",
       "      <th>size_m2</th>\n",
       "      <th>공급면적</th>\n",
       "      <th>전용면적</th>\n",
       "      <th>...</th>\n",
       "      <th>is_zzim</th>\n",
       "      <th>status</th>\n",
       "      <th>service_type</th>\n",
       "      <th>tags</th>\n",
       "      <th>address1</th>\n",
       "      <th>address2</th>\n",
       "      <th>address3</th>\n",
       "      <th>manage_cost</th>\n",
       "      <th>reg_date</th>\n",
       "      <th>is_new</th>\n",
       "    </tr>\n",
       "  </thead>\n",
       "  <tbody>\n",
       "    <tr>\n",
       "      <th>870</th>\n",
       "      <td>None</td>\n",
       "      <td>30518728</td>\n",
       "      <td>https://ic.zigbang.com/ic/items/30518728/1.jpg</td>\n",
       "      <td>월세</td>\n",
       "      <td>월세</td>\n",
       "      <td>1000</td>\n",
       "      <td>42</td>\n",
       "      <td>14.43</td>\n",
       "      <td>{'m2': 14.43, 'p': '4.4'}</td>\n",
       "      <td>{'m2': 14.43, 'p': '4.4'}</td>\n",
       "      <td>...</td>\n",
       "      <td>False</td>\n",
       "      <td>True</td>\n",
       "      <td>원룸</td>\n",
       "      <td>[]</td>\n",
       "      <td>서울시 마포구 중동</td>\n",
       "      <td>None</td>\n",
       "      <td>None</td>\n",
       "      <td>5</td>\n",
       "      <td>2022-02-07T19:08:42+09:00</td>\n",
       "      <td>False</td>\n",
       "    </tr>\n",
       "    <tr>\n",
       "      <th>871</th>\n",
       "      <td>None</td>\n",
       "      <td>30455640</td>\n",
       "      <td>https://ic.zigbang.com/ic/items/30455640/1.jpg</td>\n",
       "      <td>전세</td>\n",
       "      <td>전세</td>\n",
       "      <td>28000</td>\n",
       "      <td>0</td>\n",
       "      <td>33.58</td>\n",
       "      <td>{'m2': 33.58, 'p': '10.2'}</td>\n",
       "      <td>{'m2': 23.98, 'p': '7.3'}</td>\n",
       "      <td>...</td>\n",
       "      <td>False</td>\n",
       "      <td>True</td>\n",
       "      <td>빌라</td>\n",
       "      <td>[추천]</td>\n",
       "      <td>서울시 마포구 중동</td>\n",
       "      <td>None</td>\n",
       "      <td>None</td>\n",
       "      <td>3</td>\n",
       "      <td>2022-02-03T12:00:40+09:00</td>\n",
       "      <td>False</td>\n",
       "    </tr>\n",
       "  </tbody>\n",
       "</table>\n",
       "<p>2 rows × 30 columns</p>\n",
       "</div>"
      ],
      "text/plain": [
       "    section_type   item_id                                images_thumbnail  \\\n",
       "870         None  30518728  https://ic.zigbang.com/ic/items/30518728/1.jpg   \n",
       "871         None  30455640  https://ic.zigbang.com/ic/items/30455640/1.jpg   \n",
       "\n",
       "    sales_type sales_title  deposit  rent  size_m2  \\\n",
       "870         월세          월세     1000    42    14.43   \n",
       "871         전세          전세    28000     0    33.58   \n",
       "\n",
       "                           공급면적                       전용면적  ... is_zzim  \\\n",
       "870   {'m2': 14.43, 'p': '4.4'}  {'m2': 14.43, 'p': '4.4'}  ...   False   \n",
       "871  {'m2': 33.58, 'p': '10.2'}  {'m2': 23.98, 'p': '7.3'}  ...   False   \n",
       "\n",
       "    status service_type  tags    address1 address2 address3 manage_cost  \\\n",
       "870   True           원룸    []  서울시 마포구 중동     None     None           5   \n",
       "871   True           빌라  [추천]  서울시 마포구 중동     None     None           3   \n",
       "\n",
       "                      reg_date is_new  \n",
       "870  2022-02-07T19:08:42+09:00  False  \n",
       "871  2022-02-03T12:00:40+09:00  False  \n",
       "\n",
       "[2 rows x 30 columns]"
      ]
     },
     "execution_count": 11,
     "metadata": {},
     "output_type": "execute_result"
    }
   ],
   "source": [
    "datas = response.json()[\"items\"]\n",
    "df = pd.DataFrame(datas)\n",
    "df.tail(2)"
   ]
  },
  {
   "cell_type": "code",
   "execution_count": 12,
   "id": "stuck-acrylic",
   "metadata": {},
   "outputs": [
    {
     "data": {
      "text/html": [
       "<div>\n",
       "<style scoped>\n",
       "    .dataframe tbody tr th:only-of-type {\n",
       "        vertical-align: middle;\n",
       "    }\n",
       "\n",
       "    .dataframe tbody tr th {\n",
       "        vertical-align: top;\n",
       "    }\n",
       "\n",
       "    .dataframe thead th {\n",
       "        text-align: right;\n",
       "    }\n",
       "</style>\n",
       "<table border=\"1\" class=\"dataframe\">\n",
       "  <thead>\n",
       "    <tr style=\"text-align: right;\">\n",
       "      <th></th>\n",
       "      <th>item_id</th>\n",
       "      <th>sales_type</th>\n",
       "      <th>deposit</th>\n",
       "      <th>rent</th>\n",
       "      <th>size_m2</th>\n",
       "      <th>floor</th>\n",
       "      <th>building_floor</th>\n",
       "      <th>address1</th>\n",
       "      <th>manage_cost</th>\n",
       "    </tr>\n",
       "  </thead>\n",
       "  <tbody>\n",
       "    <tr>\n",
       "      <th>870</th>\n",
       "      <td>30518728</td>\n",
       "      <td>월세</td>\n",
       "      <td>1000</td>\n",
       "      <td>42</td>\n",
       "      <td>14.43</td>\n",
       "      <td>3</td>\n",
       "      <td>4</td>\n",
       "      <td>서울시 마포구 중동</td>\n",
       "      <td>5</td>\n",
       "    </tr>\n",
       "    <tr>\n",
       "      <th>871</th>\n",
       "      <td>30455640</td>\n",
       "      <td>전세</td>\n",
       "      <td>28000</td>\n",
       "      <td>0</td>\n",
       "      <td>33.58</td>\n",
       "      <td>6</td>\n",
       "      <td>6</td>\n",
       "      <td>서울시 마포구 중동</td>\n",
       "      <td>3</td>\n",
       "    </tr>\n",
       "  </tbody>\n",
       "</table>\n",
       "</div>"
      ],
      "text/plain": [
       "      item_id sales_type  deposit  rent  size_m2 floor building_floor  \\\n",
       "870  30518728         월세     1000    42    14.43     3              4   \n",
       "871  30455640         전세    28000     0    33.58     6              6   \n",
       "\n",
       "       address1 manage_cost  \n",
       "870  서울시 마포구 중동           5  \n",
       "871  서울시 마포구 중동           3  "
      ]
     },
     "execution_count": 12,
     "metadata": {},
     "output_type": "execute_result"
    }
   ],
   "source": [
    "# 필요한 컬럼만 필터링\n",
    "columns = [\"item_id\", \"sales_type\", \"deposit\", \"rent\", \"size_m2\", \"floor\", \"building_floor\", \"address1\", \"manage_cost\"]\n",
    "filtered_column_df = df[columns]\n",
    "filtered_column_df.tail(2)"
   ]
  },
  {
   "cell_type": "code",
   "execution_count": 13,
   "id": "german-force",
   "metadata": {},
   "outputs": [
    {
     "data": {
      "text/html": [
       "<div>\n",
       "<style scoped>\n",
       "    .dataframe tbody tr th:only-of-type {\n",
       "        vertical-align: middle;\n",
       "    }\n",
       "\n",
       "    .dataframe tbody tr th {\n",
       "        vertical-align: top;\n",
       "    }\n",
       "\n",
       "    .dataframe thead th {\n",
       "        text-align: right;\n",
       "    }\n",
       "</style>\n",
       "<table border=\"1\" class=\"dataframe\">\n",
       "  <thead>\n",
       "    <tr style=\"text-align: right;\">\n",
       "      <th></th>\n",
       "      <th>item_id</th>\n",
       "      <th>sales_type</th>\n",
       "      <th>deposit</th>\n",
       "      <th>rent</th>\n",
       "      <th>size_m2</th>\n",
       "      <th>floor</th>\n",
       "      <th>building_floor</th>\n",
       "      <th>address1</th>\n",
       "      <th>manage_cost</th>\n",
       "    </tr>\n",
       "  </thead>\n",
       "  <tbody>\n",
       "    <tr>\n",
       "      <th>98</th>\n",
       "      <td>30486794</td>\n",
       "      <td>월세</td>\n",
       "      <td>200</td>\n",
       "      <td>60</td>\n",
       "      <td>19.83</td>\n",
       "      <td>2</td>\n",
       "      <td>3</td>\n",
       "      <td>서울시 마포구 망원동</td>\n",
       "      <td>5</td>\n",
       "    </tr>\n",
       "    <tr>\n",
       "      <th>99</th>\n",
       "      <td>30448084</td>\n",
       "      <td>전세</td>\n",
       "      <td>25000</td>\n",
       "      <td>0</td>\n",
       "      <td>50.00</td>\n",
       "      <td>4</td>\n",
       "      <td>4</td>\n",
       "      <td>서울시 마포구 망원동</td>\n",
       "      <td>5</td>\n",
       "    </tr>\n",
       "  </tbody>\n",
       "</table>\n",
       "</div>"
      ],
      "text/plain": [
       "     item_id sales_type  deposit  rent  size_m2 floor building_floor  \\\n",
       "98  30486794         월세      200    60    19.83     2              3   \n",
       "99  30448084         전세    25000     0    50.00     4              4   \n",
       "\n",
       "       address1 manage_cost  \n",
       "98  서울시 마포구 망원동           5  \n",
       "99  서울시 마포구 망원동           5  "
      ]
     },
     "execution_count": 13,
     "metadata": {},
     "output_type": "execute_result"
    }
   ],
   "source": [
    "# 주소에 망원동이 있는 데이터만 필터링\n",
    "result_df = filtered_column_df[filtered_column_df[\"address1\"].str.contains(\"망원동\")].reset_index(drop=True)\n",
    "result_df.tail(2)"
   ]
  }
 ],
 "metadata": {
  "kernelspec": {
   "display_name": "Python 3",
   "language": "python",
   "name": "python3"
  },
  "language_info": {
   "codemirror_mode": {
    "name": "ipython",
    "version": 3
   },
   "file_extension": ".py",
   "mimetype": "text/x-python",
   "name": "python",
   "nbconvert_exporter": "python",
   "pygments_lexer": "ipython3",
   "version": "3.8.8"
  },
  "toc": {
   "base_numbering": 1,
   "nav_menu": {},
   "number_sections": false,
   "sideBar": true,
   "skip_h1_title": false,
   "title_cell": "Table of Contents",
   "title_sidebar": "Contents",
   "toc_cell": false,
   "toc_position": {},
   "toc_section_display": true,
   "toc_window_display": false
  }
 },
 "nbformat": 4,
 "nbformat_minor": 5
}
