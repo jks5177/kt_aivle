{
 "cells": [
  {
   "cell_type": "markdown",
   "metadata": {
    "id": "mVOYUVwYNrob"
   },
   "source": [
    "# 03과 숫자형변수_기초통계량"
   ]
  },
  {
   "cell_type": "markdown",
   "metadata": {
    "id": "adtGg06rvqe3"
   },
   "source": [
    "<img src='https://github.com/DA4BAM/image/blob/main/%EB%8B%A8%EB%B3%80%EB%9F%89%EB%B6%84%EC%84%9D.png?raw=true' width=400/>"
   ]
  },
  {
   "cell_type": "markdown",
   "metadata": {
    "id": "LS2rtJiJlaF0"
   },
   "source": [
    "## 1.라이브러리 불러오기"
   ]
  },
  {
   "cell_type": "code",
   "execution_count": null,
   "metadata": {
    "id": "ba319GIZlcFB"
   },
   "outputs": [],
   "source": [
    "import matplotlib.pyplot as plt\n",
    "import numpy as np\n",
    "import pandas as pd"
   ]
  },
  {
   "cell_type": "markdown",
   "metadata": {
    "id": "qY83KTiYc0n9"
   },
   "source": [
    "## 2.대푯값"
   ]
  },
  {
   "cell_type": "markdown",
   "metadata": {
    "id": "TSH5qe--sZsK"
   },
   "source": [
    "1) 평균"
   ]
  },
  {
   "cell_type": "code",
   "execution_count": null,
   "metadata": {
    "colab": {
     "base_uri": "https://localhost:8080/"
    },
    "executionInfo": {
     "elapsed": 11,
     "status": "ok",
     "timestamp": 1642214394261,
     "user": {
      "displayName": "한기영",
      "photoUrl": "https://lh3.googleusercontent.com/a/default-user=s64",
      "userId": "13049187003176135487"
     },
     "user_tz": -540
    },
    "id": "vPI2O4siNroc",
    "outputId": "ecf7f2bb-069d-47cf-a20d-a644743a3f92"
   },
   "outputs": [
    {
     "name": "stdout",
     "output_type": "stream",
     "text": [
      "10.476190476190476\n",
      "68.57142857142857\n"
     ]
    }
   ],
   "source": [
    "# 산술평균\n",
    "a = [1, 2, 3, 3, 4, 4, 4, 5, 6, 7, 8, 9, 10, 11, 15, 17, 17, 19, 20, 25, 30]\n",
    "print(np.mean(a))\n",
    "\n",
    "# 조화평균\n",
    "# 거리 20 km\n",
    "# 갈때 속력 60 km\n",
    "# 올때 속력 80 km\n",
    "# 평균 속력은?\n",
    "\n",
    "a1, a2 = 60, 80\n",
    "hm = 2*a1*a2 / (a1 + a2)\n",
    "print(hm)"
   ]
  },
  {
   "cell_type": "markdown",
   "metadata": {
    "id": "VH6yv56lsfZR"
   },
   "source": [
    "2) 중앙값(중위수, median)  \n",
    "\n",
    "자료의 순서상 가운데 위치한 값"
   ]
  },
  {
   "cell_type": "code",
   "execution_count": null,
   "metadata": {
    "colab": {
     "base_uri": "https://localhost:8080/"
    },
    "executionInfo": {
     "elapsed": 9,
     "status": "ok",
     "timestamp": 1642214394261,
     "user": {
      "displayName": "한기영",
      "photoUrl": "https://lh3.googleusercontent.com/a/default-user=s64",
      "userId": "13049187003176135487"
     },
     "user_tz": -540
    },
    "id": "Jy0CwElMsfNy",
    "outputId": "890711c2-58b5-492b-f4c0-b29622cd5092"
   },
   "outputs": [
    {
     "name": "stdout",
     "output_type": "stream",
     "text": [
      "8.0\n"
     ]
    }
   ],
   "source": [
    "a = [1, 2, 3, 3, 4, 4, 4, 5, 6, 7, 8, 9, 10, 11, 15, 17, 17, 19, 20, 25, 30]\n",
    "print(np.median(a))"
   ]
  },
  {
   "cell_type": "markdown",
   "metadata": {
    "id": "aFytLj2tstrS"
   },
   "source": [
    "3) 최빈값\n",
    "\n",
    "자료 중에서 가장 빈번하게 나타나는 값(빈도가 높은 값)"
   ]
  },
  {
   "cell_type": "code",
   "execution_count": null,
   "metadata": {
    "colab": {
     "base_uri": "https://localhost:8080/"
    },
    "executionInfo": {
     "elapsed": 8,
     "status": "ok",
     "timestamp": 1642214394262,
     "user": {
      "displayName": "한기영",
      "photoUrl": "https://lh3.googleusercontent.com/a/default-user=s64",
      "userId": "13049187003176135487"
     },
     "user_tz": -540
    },
    "id": "lCVHNV9DsubB",
    "outputId": "767504cb-d3cd-4f80-e874-abf6aedff269"
   },
   "outputs": [
    {
     "data": {
      "text/plain": [
       "0    4\n",
       "dtype: int64"
      ]
     },
     "execution_count": 4,
     "metadata": {},
     "output_type": "execute_result"
    }
   ],
   "source": [
    "a = [1, 2, 3, 3, 4, 4, 4, 5, 6, 7, 8, 9, 10, 11, 15, 17, 17, 19, 20, 25, 30]\n",
    "a = pd.Series(a)\n",
    "a.mode()"
   ]
  },
  {
   "cell_type": "markdown",
   "metadata": {
    "id": "vTDE0Dzxs01S"
   },
   "source": [
    "4) 4분위수"
   ]
  },
  {
   "cell_type": "markdown",
   "metadata": {
    "id": "EfaapGaeuqXg"
   },
   "source": [
    "![](https://mblogthumb-phinf.pstatic.net/20150702_229/jevida_1435803723327eyeeG_PNG/3.png?type=w2)"
   ]
  },
  {
   "cell_type": "code",
   "execution_count": null,
   "metadata": {
    "colab": {
     "base_uri": "https://localhost:8080/"
    },
    "executionInfo": {
     "elapsed": 7,
     "status": "ok",
     "timestamp": 1642214394262,
     "user": {
      "displayName": "한기영",
      "photoUrl": "https://lh3.googleusercontent.com/a/default-user=s64",
      "userId": "13049187003176135487"
     },
     "user_tz": -540
    },
    "id": "bIFWnH4ks1No",
    "outputId": "6a4d17a8-af51-47be-a515-93f5d077ae5d"
   },
   "outputs": [
    {
     "name": "stdout",
     "output_type": "stream",
     "text": [
      "[ 1.  4.  8. 17. 30.]\n"
     ]
    }
   ],
   "source": [
    "a = [1, 2, 3, 3, 4, 4, 4, 5, 6, 7, 8, 9, 10, 11, 15, 17, 17, 19, 20, 25, 30]\n",
    "print(np.percentile(a, [0, 25, 50, 75, 100]))\n"
   ]
  },
  {
   "cell_type": "markdown",
   "metadata": {
    "id": "xSWBmU_Yeu5A"
   },
   "source": [
    "<img src='https://raw.githubusercontent.com/jangrae/img/master/practice_01.png' width=120 align=\"left\"/>"
   ]
  },
  {
   "cell_type": "markdown",
   "metadata": {
    "id": "fGNJycBYs6XZ"
   },
   "source": [
    "연습문제를 풀어 봅시다."
   ]
  },
  {
   "cell_type": "code",
   "execution_count": null,
   "metadata": {
    "colab": {
     "base_uri": "https://localhost:8080/"
    },
    "executionInfo": {
     "elapsed": 825,
     "status": "ok",
     "timestamp": 1642214500662,
     "user": {
      "displayName": "한기영",
      "photoUrl": "https://lh3.googleusercontent.com/a/default-user=s64",
      "userId": "13049187003176135487"
     },
     "user_tz": -540
    },
    "id": "o36wZp21s6p5",
    "outputId": "e69f8584-0ced-47d2-e6b3-0010ee8a3127"
   },
   "outputs": [
    {
     "name": "stdout",
     "output_type": "stream",
     "text": [
      "10.0\n",
      "10.5\n",
      "0    10\n",
      "1    15\n",
      "dtype: int64\n",
      "[ 0.    5.75 10.5  15.   18.  ]\n"
     ]
    }
   ],
   "source": [
    "l1 = list(range(0, 20,5)) + list(range(0,20,2)) + [10,11,12,15,15,17]\n",
    "# l1의 평균\n",
    "# print(sum(l1) / len(l1))\n",
    "l1 = pd.Series(l1)\n",
    "print(l1.mean())\n",
    "\n",
    "# l1의 중앙값\n",
    "print(l1.median())\n",
    "\n",
    "# l1의 최빈값\n",
    "print(l1.mode())\n",
    "\n",
    "# l1의 사분위수\n",
    "print(np.percentile(l1, [0, 25, 50, 75, 100]))"
   ]
  },
  {
   "cell_type": "markdown",
   "metadata": {
    "id": "85KHqr0rhFdC"
   },
   "source": [
    "## 3.기초통계량"
   ]
  },
  {
   "cell_type": "markdown",
   "metadata": {
    "id": "X4bu__mctP3o"
   },
   "source": [
    "1) 시리즈.describe()"
   ]
  },
  {
   "cell_type": "code",
   "execution_count": null,
   "metadata": {
    "colab": {
     "base_uri": "https://localhost:8080/"
    },
    "executionInfo": {
     "elapsed": 7,
     "status": "ok",
     "timestamp": 1642214394263,
     "user": {
      "displayName": "한기영",
      "photoUrl": "https://lh3.googleusercontent.com/a/default-user=s64",
      "userId": "13049187003176135487"
     },
     "user_tz": -540
    },
    "id": "Nr5zRn5rNroc",
    "outputId": "1a45134b-7474-43b1-a380-658d4c266fd9",
    "scrolled": true
   },
   "outputs": [
    {
     "name": "stdout",
     "output_type": "stream",
     "text": [
      "count    21.000000\n",
      "mean     10.476190\n",
      "std       8.158548\n",
      "min       1.000000\n",
      "25%       4.000000\n",
      "50%       8.000000\n",
      "75%      17.000000\n",
      "max      30.000000\n",
      "dtype: float64\n"
     ]
    }
   ],
   "source": [
    "a = [1, 2, 3, 3, 4, 4, 4, 5, 6, 7, 8, 9, 10, 11, 15, 17, 17, 19, 20, 25, 30]\n",
    "s = pd.Series(a)\n",
    "print(s.describe())"
   ]
  },
  {
   "cell_type": "markdown",
   "metadata": {
    "id": "LdjuxDzxtS7A"
   },
   "source": [
    "2) 데이터프레임.dtypes"
   ]
  },
  {
   "cell_type": "code",
   "execution_count": null,
   "metadata": {
    "colab": {
     "base_uri": "https://localhost:8080/"
    },
    "executionInfo": {
     "elapsed": 832,
     "status": "ok",
     "timestamp": 1642214395089,
     "user": {
      "displayName": "한기영",
      "photoUrl": "https://lh3.googleusercontent.com/a/default-user=s64",
      "userId": "13049187003176135487"
     },
     "user_tz": -540
    },
    "id": "U6JOAAIvoXf-",
    "outputId": "22047968-2f05-42c0-a9d4-5c144d3a2483"
   },
   "outputs": [
    {
     "data": {
      "text/plain": [
       "PassengerId      int64\n",
       "Survived         int64\n",
       "Pclass           int64\n",
       "Name            object\n",
       "Sex             object\n",
       "Age            float64\n",
       "SibSp            int64\n",
       "Parch            int64\n",
       "Ticket          object\n",
       "Fare           float64\n",
       "Cabin           object\n",
       "Embarked        object\n",
       "dtype: object"
      ]
     },
     "execution_count": 8,
     "metadata": {},
     "output_type": "execute_result"
    }
   ],
   "source": [
    "# 데이터프레임 각 변수들의 데이터 타입을 조회해 봅시다.\n",
    "data = pd.read_csv('https://bit.ly/3FsgwkJ')\n",
    "data.dtypes"
   ]
  },
  {
   "cell_type": "markdown",
   "metadata": {
    "id": "golMuQGatck3"
   },
   "source": [
    "3) 데이터프레임.info()"
   ]
  },
  {
   "cell_type": "code",
   "execution_count": null,
   "metadata": {
    "colab": {
     "base_uri": "https://localhost:8080/"
    },
    "executionInfo": {
     "elapsed": 11,
     "status": "ok",
     "timestamp": 1642214395090,
     "user": {
      "displayName": "한기영",
      "photoUrl": "https://lh3.googleusercontent.com/a/default-user=s64",
      "userId": "13049187003176135487"
     },
     "user_tz": -540
    },
    "id": "LCGTj8ImtccA",
    "outputId": "1f99c873-5b8e-4c0d-a27b-19b6b9f9e8d2"
   },
   "outputs": [
    {
     "name": "stdout",
     "output_type": "stream",
     "text": [
      "<class 'pandas.core.frame.DataFrame'>\n",
      "RangeIndex: 891 entries, 0 to 890\n",
      "Data columns (total 12 columns):\n",
      " #   Column       Non-Null Count  Dtype  \n",
      "---  ------       --------------  -----  \n",
      " 0   PassengerId  891 non-null    int64  \n",
      " 1   Survived     891 non-null    int64  \n",
      " 2   Pclass       891 non-null    int64  \n",
      " 3   Name         891 non-null    object \n",
      " 4   Sex          891 non-null    object \n",
      " 5   Age          714 non-null    float64\n",
      " 6   SibSp        891 non-null    int64  \n",
      " 7   Parch        891 non-null    int64  \n",
      " 8   Ticket       891 non-null    object \n",
      " 9   Fare         891 non-null    float64\n",
      " 10  Cabin        204 non-null    object \n",
      " 11  Embarked     889 non-null    object \n",
      "dtypes: float64(2), int64(5), object(5)\n",
      "memory usage: 83.7+ KB\n"
     ]
    }
   ],
   "source": [
    "# 데이터프레임 각 변수들의 데이터 건수와 타입을 조회해 봅시다.\n",
    "data.info()\n"
   ]
  },
  {
   "cell_type": "markdown",
   "metadata": {
    "id": "gCVwyFgStnsK"
   },
   "source": [
    "4) 데이터프레임.describe()"
   ]
  },
  {
   "cell_type": "code",
   "execution_count": null,
   "metadata": {
    "colab": {
     "base_uri": "https://localhost:8080/",
     "height": 300
    },
    "executionInfo": {
     "elapsed": 11,
     "status": "ok",
     "timestamp": 1642214395091,
     "user": {
      "displayName": "한기영",
      "photoUrl": "https://lh3.googleusercontent.com/a/default-user=s64",
      "userId": "13049187003176135487"
     },
     "user_tz": -540
    },
    "id": "Qh8S5zkJtnjY",
    "outputId": "3c08cf5a-7ba9-4f6c-d853-546c13b07111"
   },
   "outputs": [
    {
     "data": {
      "text/html": [
       "\n",
       "  <div id=\"df-1c542cd3-87a7-474d-922d-29c7c021a50f\">\n",
       "    <div class=\"colab-df-container\">\n",
       "      <div>\n",
       "<style scoped>\n",
       "    .dataframe tbody tr th:only-of-type {\n",
       "        vertical-align: middle;\n",
       "    }\n",
       "\n",
       "    .dataframe tbody tr th {\n",
       "        vertical-align: top;\n",
       "    }\n",
       "\n",
       "    .dataframe thead th {\n",
       "        text-align: right;\n",
       "    }\n",
       "</style>\n",
       "<table border=\"1\" class=\"dataframe\">\n",
       "  <thead>\n",
       "    <tr style=\"text-align: right;\">\n",
       "      <th></th>\n",
       "      <th>PassengerId</th>\n",
       "      <th>Survived</th>\n",
       "      <th>Pclass</th>\n",
       "      <th>Age</th>\n",
       "      <th>SibSp</th>\n",
       "      <th>Parch</th>\n",
       "      <th>Fare</th>\n",
       "    </tr>\n",
       "  </thead>\n",
       "  <tbody>\n",
       "    <tr>\n",
       "      <th>count</th>\n",
       "      <td>891.000000</td>\n",
       "      <td>891.000000</td>\n",
       "      <td>891.000000</td>\n",
       "      <td>714.000000</td>\n",
       "      <td>891.000000</td>\n",
       "      <td>891.000000</td>\n",
       "      <td>891.000000</td>\n",
       "    </tr>\n",
       "    <tr>\n",
       "      <th>mean</th>\n",
       "      <td>446.000000</td>\n",
       "      <td>0.383838</td>\n",
       "      <td>2.308642</td>\n",
       "      <td>29.699118</td>\n",
       "      <td>0.523008</td>\n",
       "      <td>0.381594</td>\n",
       "      <td>32.204208</td>\n",
       "    </tr>\n",
       "    <tr>\n",
       "      <th>std</th>\n",
       "      <td>257.353842</td>\n",
       "      <td>0.486592</td>\n",
       "      <td>0.836071</td>\n",
       "      <td>14.526497</td>\n",
       "      <td>1.102743</td>\n",
       "      <td>0.806057</td>\n",
       "      <td>49.693429</td>\n",
       "    </tr>\n",
       "    <tr>\n",
       "      <th>min</th>\n",
       "      <td>1.000000</td>\n",
       "      <td>0.000000</td>\n",
       "      <td>1.000000</td>\n",
       "      <td>0.420000</td>\n",
       "      <td>0.000000</td>\n",
       "      <td>0.000000</td>\n",
       "      <td>0.000000</td>\n",
       "    </tr>\n",
       "    <tr>\n",
       "      <th>25%</th>\n",
       "      <td>223.500000</td>\n",
       "      <td>0.000000</td>\n",
       "      <td>2.000000</td>\n",
       "      <td>20.125000</td>\n",
       "      <td>0.000000</td>\n",
       "      <td>0.000000</td>\n",
       "      <td>7.910400</td>\n",
       "    </tr>\n",
       "    <tr>\n",
       "      <th>50%</th>\n",
       "      <td>446.000000</td>\n",
       "      <td>0.000000</td>\n",
       "      <td>3.000000</td>\n",
       "      <td>28.000000</td>\n",
       "      <td>0.000000</td>\n",
       "      <td>0.000000</td>\n",
       "      <td>14.454200</td>\n",
       "    </tr>\n",
       "    <tr>\n",
       "      <th>75%</th>\n",
       "      <td>668.500000</td>\n",
       "      <td>1.000000</td>\n",
       "      <td>3.000000</td>\n",
       "      <td>38.000000</td>\n",
       "      <td>1.000000</td>\n",
       "      <td>0.000000</td>\n",
       "      <td>31.000000</td>\n",
       "    </tr>\n",
       "    <tr>\n",
       "      <th>max</th>\n",
       "      <td>891.000000</td>\n",
       "      <td>1.000000</td>\n",
       "      <td>3.000000</td>\n",
       "      <td>80.000000</td>\n",
       "      <td>8.000000</td>\n",
       "      <td>6.000000</td>\n",
       "      <td>512.329200</td>\n",
       "    </tr>\n",
       "  </tbody>\n",
       "</table>\n",
       "</div>\n",
       "      <button class=\"colab-df-convert\" onclick=\"convertToInteractive('df-1c542cd3-87a7-474d-922d-29c7c021a50f')\"\n",
       "              title=\"Convert this dataframe to an interactive table.\"\n",
       "              style=\"display:none;\">\n",
       "        \n",
       "  <svg xmlns=\"http://www.w3.org/2000/svg\" height=\"24px\"viewBox=\"0 0 24 24\"\n",
       "       width=\"24px\">\n",
       "    <path d=\"M0 0h24v24H0V0z\" fill=\"none\"/>\n",
       "    <path d=\"M18.56 5.44l.94 2.06.94-2.06 2.06-.94-2.06-.94-.94-2.06-.94 2.06-2.06.94zm-11 1L8.5 8.5l.94-2.06 2.06-.94-2.06-.94L8.5 2.5l-.94 2.06-2.06.94zm10 10l.94 2.06.94-2.06 2.06-.94-2.06-.94-.94-2.06-.94 2.06-2.06.94z\"/><path d=\"M17.41 7.96l-1.37-1.37c-.4-.4-.92-.59-1.43-.59-.52 0-1.04.2-1.43.59L10.3 9.45l-7.72 7.72c-.78.78-.78 2.05 0 2.83L4 21.41c.39.39.9.59 1.41.59.51 0 1.02-.2 1.41-.59l7.78-7.78 2.81-2.81c.8-.78.8-2.07 0-2.86zM5.41 20L4 18.59l7.72-7.72 1.47 1.35L5.41 20z\"/>\n",
       "  </svg>\n",
       "      </button>\n",
       "      \n",
       "  <style>\n",
       "    .colab-df-container {\n",
       "      display:flex;\n",
       "      flex-wrap:wrap;\n",
       "      gap: 12px;\n",
       "    }\n",
       "\n",
       "    .colab-df-convert {\n",
       "      background-color: #E8F0FE;\n",
       "      border: none;\n",
       "      border-radius: 50%;\n",
       "      cursor: pointer;\n",
       "      display: none;\n",
       "      fill: #1967D2;\n",
       "      height: 32px;\n",
       "      padding: 0 0 0 0;\n",
       "      width: 32px;\n",
       "    }\n",
       "\n",
       "    .colab-df-convert:hover {\n",
       "      background-color: #E2EBFA;\n",
       "      box-shadow: 0px 1px 2px rgba(60, 64, 67, 0.3), 0px 1px 3px 1px rgba(60, 64, 67, 0.15);\n",
       "      fill: #174EA6;\n",
       "    }\n",
       "\n",
       "    [theme=dark] .colab-df-convert {\n",
       "      background-color: #3B4455;\n",
       "      fill: #D2E3FC;\n",
       "    }\n",
       "\n",
       "    [theme=dark] .colab-df-convert:hover {\n",
       "      background-color: #434B5C;\n",
       "      box-shadow: 0px 1px 3px 1px rgba(0, 0, 0, 0.15);\n",
       "      filter: drop-shadow(0px 1px 2px rgba(0, 0, 0, 0.3));\n",
       "      fill: #FFFFFF;\n",
       "    }\n",
       "  </style>\n",
       "\n",
       "      <script>\n",
       "        const buttonEl =\n",
       "          document.querySelector('#df-1c542cd3-87a7-474d-922d-29c7c021a50f button.colab-df-convert');\n",
       "        buttonEl.style.display =\n",
       "          google.colab.kernel.accessAllowed ? 'block' : 'none';\n",
       "\n",
       "        async function convertToInteractive(key) {\n",
       "          const element = document.querySelector('#df-1c542cd3-87a7-474d-922d-29c7c021a50f');\n",
       "          const dataTable =\n",
       "            await google.colab.kernel.invokeFunction('convertToInteractive',\n",
       "                                                     [key], {});\n",
       "          if (!dataTable) return;\n",
       "\n",
       "          const docLinkHtml = 'Like what you see? Visit the ' +\n",
       "            '<a target=\"_blank\" href=https://colab.research.google.com/notebooks/data_table.ipynb>data table notebook</a>'\n",
       "            + ' to learn more about interactive tables.';\n",
       "          element.innerHTML = '';\n",
       "          dataTable['output_type'] = 'display_data';\n",
       "          await google.colab.output.renderOutput(dataTable, element);\n",
       "          const docLink = document.createElement('div');\n",
       "          docLink.innerHTML = docLinkHtml;\n",
       "          element.appendChild(docLink);\n",
       "        }\n",
       "      </script>\n",
       "    </div>\n",
       "  </div>\n",
       "  "
      ],
      "text/plain": [
       "       PassengerId    Survived      Pclass  ...       SibSp       Parch        Fare\n",
       "count   891.000000  891.000000  891.000000  ...  891.000000  891.000000  891.000000\n",
       "mean    446.000000    0.383838    2.308642  ...    0.523008    0.381594   32.204208\n",
       "std     257.353842    0.486592    0.836071  ...    1.102743    0.806057   49.693429\n",
       "min       1.000000    0.000000    1.000000  ...    0.000000    0.000000    0.000000\n",
       "25%     223.500000    0.000000    2.000000  ...    0.000000    0.000000    7.910400\n",
       "50%     446.000000    0.000000    3.000000  ...    0.000000    0.000000   14.454200\n",
       "75%     668.500000    1.000000    3.000000  ...    1.000000    0.000000   31.000000\n",
       "max     891.000000    1.000000    3.000000  ...    8.000000    6.000000  512.329200\n",
       "\n",
       "[8 rows x 7 columns]"
      ]
     },
     "execution_count": 10,
     "metadata": {},
     "output_type": "execute_result"
    }
   ],
   "source": [
    "# 데이터프레임 각 변수들의 기초통계량을 조회해 봅시다.\n",
    "data.describe()"
   ]
  },
  {
   "cell_type": "markdown",
   "metadata": {
    "id": "qAR8eFUZtyKL"
   },
   "source": [
    "<img src='https://raw.githubusercontent.com/jangrae/img/master/practice_01.png' width=120 align=\"left\"/>"
   ]
  },
  {
   "cell_type": "markdown",
   "metadata": {
    "id": "mHOo1HeItupI"
   },
   "source": [
    "다음 경로로부터 데이터프레임을 저장하고, 다음을 수행해 봅시다.\n",
    "* 경로 : https://bit.ly/3EuWvZw\n",
    "* .info()\n",
    "* .describe()  "
   ]
  },
  {
   "cell_type": "code",
   "execution_count": null,
   "metadata": {
    "colab": {
     "base_uri": "https://localhost:8080/"
    },
    "executionInfo": {
     "elapsed": 988,
     "status": "ok",
     "timestamp": 1642214559125,
     "user": {
      "displayName": "한기영",
      "photoUrl": "https://lh3.googleusercontent.com/a/default-user=s64",
      "userId": "13049187003176135487"
     },
     "user_tz": -540
    },
    "id": "H_61CzLAtvAQ",
    "outputId": "c8615abd-58f9-4336-a972-5cf0b4b68efe"
   },
   "outputs": [
    {
     "name": "stdout",
     "output_type": "stream",
     "text": [
      "<class 'pandas.core.frame.DataFrame'>\n",
      "RangeIndex: 506 entries, 0 to 505\n",
      "Data columns (total 14 columns):\n",
      " #   Column   Non-Null Count  Dtype  \n",
      "---  ------   --------------  -----  \n",
      " 0   crim     506 non-null    float64\n",
      " 1   indus    506 non-null    float64\n",
      " 2   chas     506 non-null    int64  \n",
      " 3   nox      506 non-null    float64\n",
      " 4   rm       506 non-null    float64\n",
      " 5   age      506 non-null    float64\n",
      " 6   dis      506 non-null    float64\n",
      " 7   rad      506 non-null    int64  \n",
      " 8   tax      506 non-null    int64  \n",
      " 9   ptratio  506 non-null    float64\n",
      " 10  black    506 non-null    float64\n",
      " 11  lstat    506 non-null    float64\n",
      " 12  medv     506 non-null    float64\n",
      " 13  zn2      506 non-null    int64  \n",
      "dtypes: float64(10), int64(4)\n",
      "memory usage: 55.5 KB\n"
     ]
    }
   ],
   "source": [
    "data = pd.read_csv(\"https://bit.ly/3EuWvZw\")\n",
    "\n",
    "data.info()"
   ]
  },
  {
   "cell_type": "code",
   "execution_count": null,
   "metadata": {
    "colab": {
     "base_uri": "https://localhost:8080/",
     "height": 364
    },
    "executionInfo": {
     "elapsed": 7,
     "status": "ok",
     "timestamp": 1642214559127,
     "user": {
      "displayName": "한기영",
      "photoUrl": "https://lh3.googleusercontent.com/a/default-user=s64",
      "userId": "13049187003176135487"
     },
     "user_tz": -540
    },
    "id": "whnWHI5XnWcW",
    "outputId": "5c29bb27-ff37-406a-ade4-453db19d1b1d"
   },
   "outputs": [
    {
     "data": {
      "text/html": [
       "\n",
       "  <div id=\"df-e0afa398-9a92-4582-a9e6-5500e0e33b63\">\n",
       "    <div class=\"colab-df-container\">\n",
       "      <div>\n",
       "<style scoped>\n",
       "    .dataframe tbody tr th:only-of-type {\n",
       "        vertical-align: middle;\n",
       "    }\n",
       "\n",
       "    .dataframe tbody tr th {\n",
       "        vertical-align: top;\n",
       "    }\n",
       "\n",
       "    .dataframe thead th {\n",
       "        text-align: right;\n",
       "    }\n",
       "</style>\n",
       "<table border=\"1\" class=\"dataframe\">\n",
       "  <thead>\n",
       "    <tr style=\"text-align: right;\">\n",
       "      <th></th>\n",
       "      <th>crim</th>\n",
       "      <th>indus</th>\n",
       "      <th>chas</th>\n",
       "      <th>nox</th>\n",
       "      <th>rm</th>\n",
       "      <th>age</th>\n",
       "      <th>dis</th>\n",
       "      <th>rad</th>\n",
       "      <th>tax</th>\n",
       "      <th>ptratio</th>\n",
       "      <th>black</th>\n",
       "      <th>lstat</th>\n",
       "      <th>medv</th>\n",
       "      <th>zn2</th>\n",
       "    </tr>\n",
       "  </thead>\n",
       "  <tbody>\n",
       "    <tr>\n",
       "      <th>count</th>\n",
       "      <td>506.000000</td>\n",
       "      <td>506.000000</td>\n",
       "      <td>506.000000</td>\n",
       "      <td>506.000000</td>\n",
       "      <td>506.000000</td>\n",
       "      <td>506.000000</td>\n",
       "      <td>506.000000</td>\n",
       "      <td>506.000000</td>\n",
       "      <td>506.000000</td>\n",
       "      <td>506.000000</td>\n",
       "      <td>506.000000</td>\n",
       "      <td>506.000000</td>\n",
       "      <td>506.000000</td>\n",
       "      <td>506.000000</td>\n",
       "    </tr>\n",
       "    <tr>\n",
       "      <th>mean</th>\n",
       "      <td>3.613524</td>\n",
       "      <td>11.136779</td>\n",
       "      <td>0.069170</td>\n",
       "      <td>0.554695</td>\n",
       "      <td>6.284634</td>\n",
       "      <td>68.574901</td>\n",
       "      <td>3.795043</td>\n",
       "      <td>9.549407</td>\n",
       "      <td>408.237154</td>\n",
       "      <td>18.455534</td>\n",
       "      <td>356.674032</td>\n",
       "      <td>12.653063</td>\n",
       "      <td>22.532806</td>\n",
       "      <td>0.353755</td>\n",
       "    </tr>\n",
       "    <tr>\n",
       "      <th>std</th>\n",
       "      <td>8.601545</td>\n",
       "      <td>6.860353</td>\n",
       "      <td>0.253994</td>\n",
       "      <td>0.115878</td>\n",
       "      <td>0.702617</td>\n",
       "      <td>28.148861</td>\n",
       "      <td>2.105710</td>\n",
       "      <td>8.707259</td>\n",
       "      <td>168.537116</td>\n",
       "      <td>2.164946</td>\n",
       "      <td>91.294864</td>\n",
       "      <td>7.141062</td>\n",
       "      <td>9.197104</td>\n",
       "      <td>0.638187</td>\n",
       "    </tr>\n",
       "    <tr>\n",
       "      <th>min</th>\n",
       "      <td>0.006320</td>\n",
       "      <td>0.460000</td>\n",
       "      <td>0.000000</td>\n",
       "      <td>0.385000</td>\n",
       "      <td>3.561000</td>\n",
       "      <td>2.900000</td>\n",
       "      <td>1.129600</td>\n",
       "      <td>1.000000</td>\n",
       "      <td>187.000000</td>\n",
       "      <td>12.600000</td>\n",
       "      <td>0.320000</td>\n",
       "      <td>1.730000</td>\n",
       "      <td>5.000000</td>\n",
       "      <td>0.000000</td>\n",
       "    </tr>\n",
       "    <tr>\n",
       "      <th>25%</th>\n",
       "      <td>0.082045</td>\n",
       "      <td>5.190000</td>\n",
       "      <td>0.000000</td>\n",
       "      <td>0.449000</td>\n",
       "      <td>5.885500</td>\n",
       "      <td>45.025000</td>\n",
       "      <td>2.100175</td>\n",
       "      <td>4.000000</td>\n",
       "      <td>279.000000</td>\n",
       "      <td>17.400000</td>\n",
       "      <td>375.377500</td>\n",
       "      <td>6.950000</td>\n",
       "      <td>17.025000</td>\n",
       "      <td>0.000000</td>\n",
       "    </tr>\n",
       "    <tr>\n",
       "      <th>50%</th>\n",
       "      <td>0.256510</td>\n",
       "      <td>9.690000</td>\n",
       "      <td>0.000000</td>\n",
       "      <td>0.538000</td>\n",
       "      <td>6.208500</td>\n",
       "      <td>77.500000</td>\n",
       "      <td>3.207450</td>\n",
       "      <td>5.000000</td>\n",
       "      <td>330.000000</td>\n",
       "      <td>19.050000</td>\n",
       "      <td>391.440000</td>\n",
       "      <td>11.360000</td>\n",
       "      <td>21.200000</td>\n",
       "      <td>0.000000</td>\n",
       "    </tr>\n",
       "    <tr>\n",
       "      <th>75%</th>\n",
       "      <td>3.677083</td>\n",
       "      <td>18.100000</td>\n",
       "      <td>0.000000</td>\n",
       "      <td>0.624000</td>\n",
       "      <td>6.623500</td>\n",
       "      <td>94.075000</td>\n",
       "      <td>5.188425</td>\n",
       "      <td>24.000000</td>\n",
       "      <td>666.000000</td>\n",
       "      <td>20.200000</td>\n",
       "      <td>396.225000</td>\n",
       "      <td>16.955000</td>\n",
       "      <td>25.000000</td>\n",
       "      <td>1.000000</td>\n",
       "    </tr>\n",
       "    <tr>\n",
       "      <th>max</th>\n",
       "      <td>88.976200</td>\n",
       "      <td>27.740000</td>\n",
       "      <td>1.000000</td>\n",
       "      <td>0.871000</td>\n",
       "      <td>8.780000</td>\n",
       "      <td>100.000000</td>\n",
       "      <td>12.126500</td>\n",
       "      <td>24.000000</td>\n",
       "      <td>711.000000</td>\n",
       "      <td>22.000000</td>\n",
       "      <td>396.900000</td>\n",
       "      <td>37.970000</td>\n",
       "      <td>50.000000</td>\n",
       "      <td>2.000000</td>\n",
       "    </tr>\n",
       "  </tbody>\n",
       "</table>\n",
       "</div>\n",
       "      <button class=\"colab-df-convert\" onclick=\"convertToInteractive('df-e0afa398-9a92-4582-a9e6-5500e0e33b63')\"\n",
       "              title=\"Convert this dataframe to an interactive table.\"\n",
       "              style=\"display:none;\">\n",
       "        \n",
       "  <svg xmlns=\"http://www.w3.org/2000/svg\" height=\"24px\"viewBox=\"0 0 24 24\"\n",
       "       width=\"24px\">\n",
       "    <path d=\"M0 0h24v24H0V0z\" fill=\"none\"/>\n",
       "    <path d=\"M18.56 5.44l.94 2.06.94-2.06 2.06-.94-2.06-.94-.94-2.06-.94 2.06-2.06.94zm-11 1L8.5 8.5l.94-2.06 2.06-.94-2.06-.94L8.5 2.5l-.94 2.06-2.06.94zm10 10l.94 2.06.94-2.06 2.06-.94-2.06-.94-.94-2.06-.94 2.06-2.06.94z\"/><path d=\"M17.41 7.96l-1.37-1.37c-.4-.4-.92-.59-1.43-.59-.52 0-1.04.2-1.43.59L10.3 9.45l-7.72 7.72c-.78.78-.78 2.05 0 2.83L4 21.41c.39.39.9.59 1.41.59.51 0 1.02-.2 1.41-.59l7.78-7.78 2.81-2.81c.8-.78.8-2.07 0-2.86zM5.41 20L4 18.59l7.72-7.72 1.47 1.35L5.41 20z\"/>\n",
       "  </svg>\n",
       "      </button>\n",
       "      \n",
       "  <style>\n",
       "    .colab-df-container {\n",
       "      display:flex;\n",
       "      flex-wrap:wrap;\n",
       "      gap: 12px;\n",
       "    }\n",
       "\n",
       "    .colab-df-convert {\n",
       "      background-color: #E8F0FE;\n",
       "      border: none;\n",
       "      border-radius: 50%;\n",
       "      cursor: pointer;\n",
       "      display: none;\n",
       "      fill: #1967D2;\n",
       "      height: 32px;\n",
       "      padding: 0 0 0 0;\n",
       "      width: 32px;\n",
       "    }\n",
       "\n",
       "    .colab-df-convert:hover {\n",
       "      background-color: #E2EBFA;\n",
       "      box-shadow: 0px 1px 2px rgba(60, 64, 67, 0.3), 0px 1px 3px 1px rgba(60, 64, 67, 0.15);\n",
       "      fill: #174EA6;\n",
       "    }\n",
       "\n",
       "    [theme=dark] .colab-df-convert {\n",
       "      background-color: #3B4455;\n",
       "      fill: #D2E3FC;\n",
       "    }\n",
       "\n",
       "    [theme=dark] .colab-df-convert:hover {\n",
       "      background-color: #434B5C;\n",
       "      box-shadow: 0px 1px 3px 1px rgba(0, 0, 0, 0.15);\n",
       "      filter: drop-shadow(0px 1px 2px rgba(0, 0, 0, 0.3));\n",
       "      fill: #FFFFFF;\n",
       "    }\n",
       "  </style>\n",
       "\n",
       "      <script>\n",
       "        const buttonEl =\n",
       "          document.querySelector('#df-e0afa398-9a92-4582-a9e6-5500e0e33b63 button.colab-df-convert');\n",
       "        buttonEl.style.display =\n",
       "          google.colab.kernel.accessAllowed ? 'block' : 'none';\n",
       "\n",
       "        async function convertToInteractive(key) {\n",
       "          const element = document.querySelector('#df-e0afa398-9a92-4582-a9e6-5500e0e33b63');\n",
       "          const dataTable =\n",
       "            await google.colab.kernel.invokeFunction('convertToInteractive',\n",
       "                                                     [key], {});\n",
       "          if (!dataTable) return;\n",
       "\n",
       "          const docLinkHtml = 'Like what you see? Visit the ' +\n",
       "            '<a target=\"_blank\" href=https://colab.research.google.com/notebooks/data_table.ipynb>data table notebook</a>'\n",
       "            + ' to learn more about interactive tables.';\n",
       "          element.innerHTML = '';\n",
       "          dataTable['output_type'] = 'display_data';\n",
       "          await google.colab.output.renderOutput(dataTable, element);\n",
       "          const docLink = document.createElement('div');\n",
       "          docLink.innerHTML = docLinkHtml;\n",
       "          element.appendChild(docLink);\n",
       "        }\n",
       "      </script>\n",
       "    </div>\n",
       "  </div>\n",
       "  "
      ],
      "text/plain": [
       "             crim       indus        chas  ...       lstat        medv         zn2\n",
       "count  506.000000  506.000000  506.000000  ...  506.000000  506.000000  506.000000\n",
       "mean     3.613524   11.136779    0.069170  ...   12.653063   22.532806    0.353755\n",
       "std      8.601545    6.860353    0.253994  ...    7.141062    9.197104    0.638187\n",
       "min      0.006320    0.460000    0.000000  ...    1.730000    5.000000    0.000000\n",
       "25%      0.082045    5.190000    0.000000  ...    6.950000   17.025000    0.000000\n",
       "50%      0.256510    9.690000    0.000000  ...   11.360000   21.200000    0.000000\n",
       "75%      3.677083   18.100000    0.000000  ...   16.955000   25.000000    1.000000\n",
       "max     88.976200   27.740000    1.000000  ...   37.970000   50.000000    2.000000\n",
       "\n",
       "[8 rows x 14 columns]"
      ]
     },
     "execution_count": 33,
     "metadata": {},
     "output_type": "execute_result"
    }
   ],
   "source": [
    "data.describe()"
   ]
  },
  {
   "cell_type": "markdown",
   "metadata": {
    "id": "PJX5avcl0MVe"
   },
   "source": [
    "## 4.종합실습"
   ]
  },
  {
   "cell_type": "markdown",
   "metadata": {
    "id": "OuvbEBtB1BQ9"
   },
   "source": [
    "### 1) 기본문제"
   ]
  },
  {
   "cell_type": "markdown",
   "metadata": {
    "id": "304b1361"
   },
   "source": [
    "① 아래와 같은 총 21개의 값이 있다고 할 때, numpy를 이용하여 다음의 값들을 구하시오.\n",
    "* 1, 2, 3, 3, 4, 4, 4, 5, 6, 7, 8, 9, 10, 11, 15, 17, 17, 19, 20, 25, 30  \n",
    "\n",
    "(1) 중앙값  \n",
    "(2) 최빈값  \n",
    "(3) 4분위수  "
   ]
  },
  {
   "cell_type": "code",
   "execution_count": null,
   "metadata": {
    "colab": {
     "base_uri": "https://localhost:8080/"
    },
    "executionInfo": {
     "elapsed": 9,
     "status": "ok",
     "timestamp": 1642214395091,
     "user": {
      "displayName": "한기영",
      "photoUrl": "https://lh3.googleusercontent.com/a/default-user=s64",
      "userId": "13049187003176135487"
     },
     "user_tz": -540
    },
    "id": "b1d755e5",
    "outputId": "6d7f0bcc-6898-4f7a-a9e4-40a7870204cf"
   },
   "outputs": [
    {
     "name": "stdout",
     "output_type": "stream",
     "text": [
      "8.0\n",
      "0    4\n",
      "dtype: int64\n",
      "[ 1.  4.  8. 17. 30.]\n"
     ]
    }
   ],
   "source": [
    "a = [1, 2, 3, 3, 4, 4, 4, 5, 6, 7, 8, 9, 10, 11, 15, 17, 17, 19, 20, 25, 30]\n",
    "\n",
    "# (1) 중앙값\n",
    "print(np.median(a))\n",
    "\n",
    "# (2) 최빈값\n",
    "a1 = pd.Series(a)\n",
    "print(a1.mode())\n",
    "\n",
    "# (3) 4분위수\n",
    "print(np.percentile(a, [0, 25, 50, 75, 100]))"
   ]
  },
  {
   "cell_type": "markdown",
   "metadata": {
    "id": "943ed71b"
   },
   "source": [
    "② 아래와 같은 총 21개의 값이 있다고 할 때, 이 값들을 시리즈로 변환하고 describe 함수를 이용하여 기초 통계량을 구하시오.\n",
    "* 1, 2, 3, 3, 4, 4, 4, 5, 6, 7, 8, 9, 10, 11, 15, 17, 17, 19, 20, 25, 30  "
   ]
  },
  {
   "cell_type": "code",
   "execution_count": null,
   "metadata": {
    "colab": {
     "base_uri": "https://localhost:8080/"
    },
    "executionInfo": {
     "elapsed": 9,
     "status": "ok",
     "timestamp": 1642214395092,
     "user": {
      "displayName": "한기영",
      "photoUrl": "https://lh3.googleusercontent.com/a/default-user=s64",
      "userId": "13049187003176135487"
     },
     "user_tz": -540
    },
    "id": "f1052442",
    "outputId": "638398ea-4d61-4f80-eb5a-be2ecb7853df"
   },
   "outputs": [
    {
     "name": "stdout",
     "output_type": "stream",
     "text": [
      "count    21.000000\n",
      "mean     10.476190\n",
      "std       8.158548\n",
      "min       1.000000\n",
      "25%       4.000000\n",
      "50%       8.000000\n",
      "75%      17.000000\n",
      "max      30.000000\n",
      "dtype: float64\n"
     ]
    }
   ],
   "source": [
    "a = [1, 2, 3, 3, 4, 4, 4, 5, 6, 7, 8, 9, 10, 11, 15, 17, 17, 19, 20, 25, 30]\n",
    "s = pd.Series(a)\n",
    "print(s.describe())"
   ]
  },
  {
   "cell_type": "markdown",
   "metadata": {
    "id": "-d9Ajrb202om"
   },
   "source": [
    "### 2) titanic 데이터프레임\n",
    "* url :  'https://raw.githubusercontent.com/DA4BAM/dataset/master/titanic_simple.csv'"
   ]
  },
  {
   "cell_type": "markdown",
   "metadata": {
    "id": "kLE39uPLNIEk"
   },
   "source": [
    "**[titanic_simple 데이터 셋 정보]**\n",
    "\n",
    "- PassengerId : 승객번호\n",
    "- Survived : 생존여부(1:생존, 0:사망)\n",
    "- Pclass : 객실등급(1:1등급, 2:2등급, 3:3등급)\n",
    "- Name : 승객이름\n",
    "- Sex : 성별(male, female)\n",
    "- Age : 나이\n",
    "- Fare : 운임($)\n",
    "- Embarked : 승선지역(Southhampton, Cherbourg, Queenstown)"
   ]
  },
  {
   "cell_type": "markdown",
   "metadata": {
    "id": "ebcb8960"
   },
   "source": [
    "① 데이터를 불러와서 상위 5개행을 조회하시오."
   ]
  },
  {
   "cell_type": "code",
   "execution_count": null,
   "metadata": {
    "colab": {
     "base_uri": "https://localhost:8080/"
    },
    "executionInfo": {
     "elapsed": 542,
     "status": "ok",
     "timestamp": 1642214395626,
     "user": {
      "displayName": "한기영",
      "photoUrl": "https://lh3.googleusercontent.com/a/default-user=s64",
      "userId": "13049187003176135487"
     },
     "user_tz": -540
    },
    "id": "3dd15e68",
    "outputId": "320afe5c-d728-4e96-91e9-860ba07d81fb"
   },
   "outputs": [
    {
     "name": "stdout",
     "output_type": "stream",
     "text": [
      "   PassengerId  Survived  Pclass  ...     Fare Cabin  Embarked\n",
      "0            1         0       3  ...   7.2500   NaN         S\n",
      "1            2         1       1  ...  71.2833   C85         C\n",
      "2            3         1       3  ...   7.9250   NaN         S\n",
      "3            4         1       1  ...  53.1000  C123         S\n",
      "4            5         0       3  ...   8.0500   NaN         S\n",
      "\n",
      "[5 rows x 12 columns]\n"
     ]
    }
   ],
   "source": [
    "titanic = pd.read_csv('https://bit.ly/3FsgwkJ')\n",
    "print(titanic.head())"
   ]
  },
  {
   "cell_type": "markdown",
   "metadata": {
    "id": "881c3b77"
   },
   "source": [
    "② 데이터의 기본 정보를 조회하시오. (.info())"
   ]
  },
  {
   "cell_type": "code",
   "execution_count": null,
   "metadata": {
    "colab": {
     "base_uri": "https://localhost:8080/"
    },
    "executionInfo": {
     "elapsed": 12,
     "status": "ok",
     "timestamp": 1642214395626,
     "user": {
      "displayName": "한기영",
      "photoUrl": "https://lh3.googleusercontent.com/a/default-user=s64",
      "userId": "13049187003176135487"
     },
     "user_tz": -540
    },
    "id": "e22c5915",
    "outputId": "722e0b73-e181-41d5-d26a-4ad1d53a4499"
   },
   "outputs": [
    {
     "name": "stdout",
     "output_type": "stream",
     "text": [
      "<class 'pandas.core.frame.DataFrame'>\n",
      "RangeIndex: 891 entries, 0 to 890\n",
      "Data columns (total 12 columns):\n",
      " #   Column       Non-Null Count  Dtype  \n",
      "---  ------       --------------  -----  \n",
      " 0   PassengerId  891 non-null    int64  \n",
      " 1   Survived     891 non-null    int64  \n",
      " 2   Pclass       891 non-null    int64  \n",
      " 3   Name         891 non-null    object \n",
      " 4   Sex          891 non-null    object \n",
      " 5   Age          714 non-null    float64\n",
      " 6   SibSp        891 non-null    int64  \n",
      " 7   Parch        891 non-null    int64  \n",
      " 8   Ticket       891 non-null    object \n",
      " 9   Fare         891 non-null    float64\n",
      " 10  Cabin        204 non-null    object \n",
      " 11  Embarked     889 non-null    object \n",
      "dtypes: float64(2), int64(5), object(5)\n",
      "memory usage: 83.7+ KB\n",
      "None\n"
     ]
    }
   ],
   "source": [
    "print(titanic.info())"
   ]
  },
  {
   "cell_type": "markdown",
   "metadata": {
    "id": "3817b415"
   },
   "source": [
    "③ 데이터의 변수들의 자료형을 출력하시오. (.dtypes)"
   ]
  },
  {
   "cell_type": "code",
   "execution_count": null,
   "metadata": {
    "colab": {
     "base_uri": "https://localhost:8080/"
    },
    "executionInfo": {
     "elapsed": 10,
     "status": "ok",
     "timestamp": 1642214395626,
     "user": {
      "displayName": "한기영",
      "photoUrl": "https://lh3.googleusercontent.com/a/default-user=s64",
      "userId": "13049187003176135487"
     },
     "user_tz": -540
    },
    "id": "97b55739",
    "outputId": "e9400d4e-b178-478b-b791-512b488c4f78"
   },
   "outputs": [
    {
     "name": "stdout",
     "output_type": "stream",
     "text": [
      "PassengerId      int64\n",
      "Survived         int64\n",
      "Pclass           int64\n",
      "Name            object\n",
      "Sex             object\n",
      "Age            float64\n",
      "SibSp            int64\n",
      "Parch            int64\n",
      "Ticket          object\n",
      "Fare           float64\n",
      "Cabin           object\n",
      "Embarked        object\n",
      "dtype: object\n"
     ]
    }
   ],
   "source": [
    "print(titanic.dtypes)"
   ]
  },
  {
   "cell_type": "markdown",
   "metadata": {
    "id": "1b46ab2b"
   },
   "source": [
    "④ 데이터에서 숫자 type 변수들에 대한 기초 통계량을 출력하시오. (.describe())"
   ]
  },
  {
   "cell_type": "code",
   "execution_count": null,
   "metadata": {
    "colab": {
     "base_uri": "https://localhost:8080/"
    },
    "executionInfo": {
     "elapsed": 10,
     "status": "ok",
     "timestamp": 1642214395627,
     "user": {
      "displayName": "한기영",
      "photoUrl": "https://lh3.googleusercontent.com/a/default-user=s64",
      "userId": "13049187003176135487"
     },
     "user_tz": -540
    },
    "id": "b3317877",
    "outputId": "4d27be17-e299-4c10-941c-d438a372fc02"
   },
   "outputs": [
    {
     "name": "stdout",
     "output_type": "stream",
     "text": [
      "       PassengerId    Survived      Pclass  ...       SibSp       Parch        Fare\n",
      "count   891.000000  891.000000  891.000000  ...  891.000000  891.000000  891.000000\n",
      "mean    446.000000    0.383838    2.308642  ...    0.523008    0.381594   32.204208\n",
      "std     257.353842    0.486592    0.836071  ...    1.102743    0.806057   49.693429\n",
      "min       1.000000    0.000000    1.000000  ...    0.000000    0.000000    0.000000\n",
      "25%     223.500000    0.000000    2.000000  ...    0.000000    0.000000    7.910400\n",
      "50%     446.000000    0.000000    3.000000  ...    0.000000    0.000000   14.454200\n",
      "75%     668.500000    1.000000    3.000000  ...    1.000000    0.000000   31.000000\n",
      "max     891.000000    1.000000    3.000000  ...    8.000000    6.000000  512.329200\n",
      "\n",
      "[8 rows x 7 columns]\n"
     ]
    }
   ],
   "source": [
    "print(titanic.describe())"
   ]
  },
  {
   "cell_type": "markdown",
   "metadata": {
    "id": "2361a5a5"
   },
   "source": [
    "⑤'Age' 변수의 기초 통계량을 출력하시오."
   ]
  },
  {
   "cell_type": "code",
   "execution_count": null,
   "metadata": {
    "colab": {
     "base_uri": "https://localhost:8080/"
    },
    "executionInfo": {
     "elapsed": 9,
     "status": "ok",
     "timestamp": 1642214395627,
     "user": {
      "displayName": "한기영",
      "photoUrl": "https://lh3.googleusercontent.com/a/default-user=s64",
      "userId": "13049187003176135487"
     },
     "user_tz": -540
    },
    "id": "875857d2",
    "outputId": "322a109d-1f95-40fe-9f66-e444e75c3c3f"
   },
   "outputs": [
    {
     "name": "stdout",
     "output_type": "stream",
     "text": [
      "count    714.000000\n",
      "mean      29.699118\n",
      "std       14.526497\n",
      "min        0.420000\n",
      "25%       20.125000\n",
      "50%       28.000000\n",
      "75%       38.000000\n",
      "max       80.000000\n",
      "Name: Age, dtype: float64\n"
     ]
    }
   ],
   "source": [
    "print(titanic['Age'].describe())"
   ]
  },
  {
   "cell_type": "markdown",
   "metadata": {
    "id": "5bfef01d"
   },
   "source": [
    "⑥'Fare' 변수의 기초 통계량을 출력하시오."
   ]
  },
  {
   "cell_type": "code",
   "execution_count": null,
   "metadata": {
    "colab": {
     "base_uri": "https://localhost:8080/"
    },
    "executionInfo": {
     "elapsed": 8,
     "status": "ok",
     "timestamp": 1642214395627,
     "user": {
      "displayName": "한기영",
      "photoUrl": "https://lh3.googleusercontent.com/a/default-user=s64",
      "userId": "13049187003176135487"
     },
     "user_tz": -540
    },
    "id": "6d548fbe",
    "outputId": "39588793-16b3-4ab7-bc5d-30b669831b57"
   },
   "outputs": [
    {
     "name": "stdout",
     "output_type": "stream",
     "text": [
      "count    891.000000\n",
      "mean      32.204208\n",
      "std       49.693429\n",
      "min        0.000000\n",
      "25%        7.910400\n",
      "50%       14.454200\n",
      "75%       31.000000\n",
      "max      512.329200\n",
      "Name: Fare, dtype: float64\n"
     ]
    }
   ],
   "source": [
    "print(titanic['Fare'].describe())"
   ]
  },
  {
   "cell_type": "markdown",
   "metadata": {
    "id": "54e34ba2"
   },
   "source": [
    "⑦'Age' 변수의 중앙값과 평균을 출력하시오."
   ]
  },
  {
   "cell_type": "code",
   "execution_count": null,
   "metadata": {
    "colab": {
     "base_uri": "https://localhost:8080/"
    },
    "executionInfo": {
     "elapsed": 7,
     "status": "ok",
     "timestamp": 1642214395627,
     "user": {
      "displayName": "한기영",
      "photoUrl": "https://lh3.googleusercontent.com/a/default-user=s64",
      "userId": "13049187003176135487"
     },
     "user_tz": -540
    },
    "id": "3b227582",
    "outputId": "d7db6428-ed61-433b-a9ce-a3222cfdbc19",
    "scrolled": false
   },
   "outputs": [
    {
     "name": "stdout",
     "output_type": "stream",
     "text": [
      "28.0\n",
      "29.69911764705882\n"
     ]
    }
   ],
   "source": [
    "print(titanic['Age'].median())\n",
    "print(titanic['Age'].mean())"
   ]
  },
  {
   "cell_type": "markdown",
   "metadata": {
    "id": "c11731dd"
   },
   "source": [
    "### 3) New York Air Quality\n",
    "* url : https://bit.ly/3qmthqZ"
   ]
  },
  {
   "cell_type": "markdown",
   "metadata": {
    "id": "tBiPJrpmJ7Ys"
   },
   "source": [
    "**[airquality 데이터 셋 정보]**\n",
    "\n",
    "- Ozone: 오존 농도  \n",
    "- Solar.R: 태양복사량\n",
    "- Wind: 풍속\n",
    "- Temp: 기온\n",
    "- Month: 월\n",
    "- Day: 일"
   ]
  },
  {
   "cell_type": "markdown",
   "metadata": {
    "id": "zJbqVbVG1tYd"
   },
   "source": [
    "① 데이터를 불러와서 상위 5개행을 조회하시오."
   ]
  },
  {
   "cell_type": "code",
   "execution_count": null,
   "metadata": {
    "colab": {
     "base_uri": "https://localhost:8080/"
    },
    "executionInfo": {
     "elapsed": 921,
     "status": "ok",
     "timestamp": 1642214396542,
     "user": {
      "displayName": "한기영",
      "photoUrl": "https://lh3.googleusercontent.com/a/default-user=s64",
      "userId": "13049187003176135487"
     },
     "user_tz": -540
    },
    "id": "e94e853d",
    "outputId": "a2751d9e-3b8b-4efb-b59b-93a898ebca95"
   },
   "outputs": [
    {
     "name": "stdout",
     "output_type": "stream",
     "text": [
      "   Ozone  Solar.R  Wind  Temp        Date\n",
      "0     41    190.0   7.4    67  1973-05-01\n",
      "1     36    118.0   8.0    72  1973-05-02\n",
      "2     12    149.0  12.6    74  1973-05-03\n",
      "3     18    313.0  11.5    62  1973-05-04\n",
      "4     19      NaN  14.3    56  1973-05-05\n"
     ]
    }
   ],
   "source": [
    "import pandas as pd\n",
    "air = pd.read_csv('https://bit.ly/3qmthqZ')\n",
    "print(air.head())"
   ]
  },
  {
   "cell_type": "markdown",
   "metadata": {
    "id": "d759ee42"
   },
   "source": [
    "② 데이터의 기본 정보를 조회하시오. (.info())"
   ]
  },
  {
   "cell_type": "code",
   "execution_count": null,
   "metadata": {
    "colab": {
     "base_uri": "https://localhost:8080/"
    },
    "executionInfo": {
     "elapsed": 12,
     "status": "ok",
     "timestamp": 1642214396543,
     "user": {
      "displayName": "한기영",
      "photoUrl": "https://lh3.googleusercontent.com/a/default-user=s64",
      "userId": "13049187003176135487"
     },
     "user_tz": -540
    },
    "id": "ac8007ca",
    "outputId": "db8f19ff-5a01-4071-c903-59b0836b9b8d"
   },
   "outputs": [
    {
     "name": "stdout",
     "output_type": "stream",
     "text": [
      "<class 'pandas.core.frame.DataFrame'>\n",
      "RangeIndex: 153 entries, 0 to 152\n",
      "Data columns (total 5 columns):\n",
      " #   Column   Non-Null Count  Dtype  \n",
      "---  ------   --------------  -----  \n",
      " 0   Ozone    153 non-null    int64  \n",
      " 1   Solar.R  146 non-null    float64\n",
      " 2   Wind     153 non-null    float64\n",
      " 3   Temp     153 non-null    int64  \n",
      " 4   Date     153 non-null    object \n",
      "dtypes: float64(2), int64(2), object(1)\n",
      "memory usage: 6.1+ KB\n",
      "None\n"
     ]
    }
   ],
   "source": [
    "print(air.info())"
   ]
  },
  {
   "cell_type": "markdown",
   "metadata": {
    "id": "d81156c6"
   },
   "source": [
    "③ 데이터의 변수들의 자료형을 출력하시오. (.dtypes)"
   ]
  },
  {
   "cell_type": "code",
   "execution_count": null,
   "metadata": {
    "colab": {
     "base_uri": "https://localhost:8080/"
    },
    "executionInfo": {
     "elapsed": 10,
     "status": "ok",
     "timestamp": 1642214396543,
     "user": {
      "displayName": "한기영",
      "photoUrl": "https://lh3.googleusercontent.com/a/default-user=s64",
      "userId": "13049187003176135487"
     },
     "user_tz": -540
    },
    "id": "783afbc8",
    "outputId": "5428a71b-ba79-42d8-d2ad-0989697887a0"
   },
   "outputs": [
    {
     "name": "stdout",
     "output_type": "stream",
     "text": [
      "Ozone        int64\n",
      "Solar.R    float64\n",
      "Wind       float64\n",
      "Temp         int64\n",
      "Date        object\n",
      "dtype: object\n"
     ]
    }
   ],
   "source": [
    "print(air.dtypes)"
   ]
  },
  {
   "cell_type": "markdown",
   "metadata": {
    "id": "72afdf9e"
   },
   "source": [
    "④ 데이터에서 숫자 type 변수들에 대한 기초 통계량을 출력하시오. (.describe())"
   ]
  },
  {
   "cell_type": "code",
   "execution_count": null,
   "metadata": {
    "colab": {
     "base_uri": "https://localhost:8080/"
    },
    "executionInfo": {
     "elapsed": 8,
     "status": "ok",
     "timestamp": 1642214396543,
     "user": {
      "displayName": "한기영",
      "photoUrl": "https://lh3.googleusercontent.com/a/default-user=s64",
      "userId": "13049187003176135487"
     },
     "user_tz": -540
    },
    "id": "31d5e862",
    "outputId": "9f7bfc63-28f2-4c9c-d262-c17972c6c04d",
    "scrolled": true
   },
   "outputs": [
    {
     "name": "stdout",
     "output_type": "stream",
     "text": [
      "            Ozone     Solar.R        Wind        Temp\n",
      "count  153.000000  146.000000  153.000000  153.000000\n",
      "mean    42.052288  185.931507    9.957516   77.882353\n",
      "std     30.156127   90.058422    3.523001    9.465270\n",
      "min      1.000000    7.000000    1.700000   56.000000\n",
      "25%     20.000000  115.750000    7.400000   72.000000\n",
      "50%     34.000000  205.000000    9.700000   79.000000\n",
      "75%     59.000000  258.750000   11.500000   85.000000\n",
      "max    168.000000  334.000000   20.700000   97.000000\n"
     ]
    }
   ],
   "source": [
    "print(air.describe())"
   ]
  },
  {
   "cell_type": "markdown",
   "metadata": {
    "id": "1e181f44"
   },
   "source": [
    "⑤'Ozone' 변수의 기초 통계량을 출력하시오."
   ]
  },
  {
   "cell_type": "code",
   "execution_count": null,
   "metadata": {
    "colab": {
     "base_uri": "https://localhost:8080/"
    },
    "executionInfo": {
     "elapsed": 8,
     "status": "ok",
     "timestamp": 1642214396544,
     "user": {
      "displayName": "한기영",
      "photoUrl": "https://lh3.googleusercontent.com/a/default-user=s64",
      "userId": "13049187003176135487"
     },
     "user_tz": -540
    },
    "id": "85c04b97",
    "outputId": "bf98fa78-79a3-4c9d-cf2b-037ed0b73547"
   },
   "outputs": [
    {
     "name": "stdout",
     "output_type": "stream",
     "text": [
      "count    153.000000\n",
      "mean      42.052288\n",
      "std       30.156127\n",
      "min        1.000000\n",
      "25%       20.000000\n",
      "50%       34.000000\n",
      "75%       59.000000\n",
      "max      168.000000\n",
      "Name: Ozone, dtype: float64\n"
     ]
    }
   ],
   "source": [
    "print(air['Ozone'].describe())"
   ]
  },
  {
   "cell_type": "markdown",
   "metadata": {
    "id": "7208e867"
   },
   "source": [
    "⑥'Temp' 변수의 4분위수를 출력하시오."
   ]
  },
  {
   "cell_type": "code",
   "execution_count": null,
   "metadata": {
    "colab": {
     "base_uri": "https://localhost:8080/"
    },
    "executionInfo": {
     "elapsed": 6,
     "status": "ok",
     "timestamp": 1642214396544,
     "user": {
      "displayName": "한기영",
      "photoUrl": "https://lh3.googleusercontent.com/a/default-user=s64",
      "userId": "13049187003176135487"
     },
     "user_tz": -540
    },
    "id": "90a26e1b",
    "outputId": "0d2f7345-e380-4536-ef66-b4ab69664ecc"
   },
   "outputs": [
    {
     "name": "stdout",
     "output_type": "stream",
     "text": [
      "[56. 72. 79. 85. 97.]\n"
     ]
    }
   ],
   "source": [
    "print(np.percentile(air['Temp'], [0, 25, 50, 75, 100]))"
   ]
  },
  {
   "cell_type": "markdown",
   "metadata": {
    "id": "bBsf1RyPOdHz"
   },
   "source": [
    "# 04과 숫자형변수_시각화"
   ]
  },
  {
   "cell_type": "markdown",
   "metadata": {
    "id": "1eQETyLbsQWj"
   },
   "source": [
    "<img src='https://github.com/DA4BAM/image/blob/main/%EB%8B%A8%EB%B3%80%EB%9F%89%EB%B6%84%EC%84%9D.png?raw=true' width=400/>"
   ]
  },
  {
   "cell_type": "markdown",
   "metadata": {
    "id": "SfJNCxybsQWk"
   },
   "source": [
    "## 1.라이브러리 불러오기"
   ]
  },
  {
   "cell_type": "code",
   "execution_count": null,
   "metadata": {
    "id": "TcBxXh7csQWk"
   },
   "outputs": [],
   "source": [
    "import matplotlib.pyplot as plt\n",
    "import numpy as np\n",
    "import pandas as pd"
   ]
  },
  {
   "cell_type": "markdown",
   "metadata": {
    "id": "3ltaI0D3qko9"
   },
   "source": [
    "## 2.히스토그램"
   ]
  },
  {
   "cell_type": "markdown",
   "metadata": {
    "id": "4KZZvJ3i3EE9"
   },
   "source": [
    "1) 히스토그램 기본"
   ]
  },
  {
   "cell_type": "code",
   "execution_count": null,
   "metadata": {
    "colab": {
     "base_uri": "https://localhost:8080/",
     "height": 279
    },
    "executionInfo": {
     "elapsed": 564,
     "status": "ok",
     "timestamp": 1642214595950,
     "user": {
      "displayName": "한기영",
      "photoUrl": "https://lh3.googleusercontent.com/a/default-user=s64",
      "userId": "13049187003176135487"
     },
     "user_tz": -540
    },
    "id": "wlrmY8hLOdH3",
    "outputId": "844edbfc-0cb2-4e6d-8d35-9f3d9a952bbd"
   },
   "outputs": [
    {
     "data": {
      "image/png": "[encoded data removed]",
      "text/plain": [
       "<Figure size 432x288 with 1 Axes>"
      ]
     },
     "metadata": {
      "needs_background": "light"
     },
     "output_type": "display_data"
    }
   ],
   "source": [
    "age = [19,20,23,46,21,25,26,25,28,31,37,24,28,34,38,33,32,29,27,24]\n",
    "plt.hist(age, bins = 5, edgecolor = 'gray')\n",
    "plt.xlabel('Age')\n",
    "plt.ylabel('Frequency')\n",
    "plt.show()"
   ]
  },
  {
   "cell_type": "markdown",
   "metadata": {
    "id": "h9wak3_f3MeE"
   },
   "source": [
    "2) 구간의 갯수를 조정해 봅시다."
   ]
  },
  {
   "cell_type": "code",
   "execution_count": null,
   "metadata": {
    "colab": {
     "base_uri": "https://localhost:8080/",
     "height": 279
    },
    "executionInfo": {
     "elapsed": 6,
     "status": "ok",
     "timestamp": 1642214595951,
     "user": {
      "displayName": "한기영",
      "photoUrl": "https://lh3.googleusercontent.com/a/default-user=s64",
      "userId": "13049187003176135487"
     },
     "user_tz": -540
    },
    "id": "pFedUYxT3MQU",
    "outputId": "e7bba78f-74b2-4850-bc59-12a9bc450530"
   },
   "outputs": [
    {
     "data": {
      "image/png": "[encoded data removed]",
      "text/plain": [
       "<Figure size 432x288 with 1 Axes>"
      ]
     },
     "metadata": {
      "needs_background": "light"
     },
     "output_type": "display_data"
    }
   ],
   "source": [
    "age = [19,20,23,46,21,25,26,25,28,31,37,24,28,34,38,33,32,29,27,24]\n",
    "plt.hist(age, bins = 10, edgecolor = 'gray')\n",
    "plt.xlabel('Age')\n",
    "plt.ylabel('Frequency')\n",
    "plt.show()"
   ]
  },
  {
   "cell_type": "markdown",
   "metadata": {
    "id": "i2xDqKU93SiE"
   },
   "source": [
    "3) 구간 값과 갯수를 확인해 봅시다.\n",
    "\n",
    "* 결과를 저장하면, 구간과 빈도수를 확인할 수 있습니다.\n",
    "    * 히스토그램을 저장하면 튜플.\n",
    "    * 튜플 안에는 넘파이 어레이가 2개로 구성됨.\n",
    "    * 첫번째 넘파이 어레이는 빈도수,\n",
    "    * 두번째는 구간 값.\n"
   ]
  },
  {
   "cell_type": "code",
   "execution_count": null,
   "metadata": {
    "colab": {
     "base_uri": "https://localhost:8080/",
     "height": 357
    },
    "executionInfo": {
     "elapsed": 576,
     "status": "ok",
     "timestamp": 1642214596522,
     "user": {
      "displayName": "한기영",
      "photoUrl": "https://lh3.googleusercontent.com/a/default-user=s64",
      "userId": "13049187003176135487"
     },
     "user_tz": -540
    },
    "id": "H-MI8MQJ3SzL",
    "outputId": "13363d3c-84e1-417d-ab09-aa2cce735991"
   },
   "outputs": [
    {
     "name": "stdout",
     "output_type": "stream",
     "text": [
      "(array([6., 7., 4., 2., 1.]), array([19. , 24.4, 29.8, 35.2, 40.6, 46. ]), <a list of 5 Patch objects>)\n",
      "<class 'tuple'>\n",
      "--------------------------------------------------\n",
      "빈도수 :  [6. 7. 4. 2. 1.]\n",
      "구간값 :  [19.  24.4 29.8 35.2 40.6 46. ]\n"
     ]
    },
    {
     "data": {
      "image/png": "[encoded data removed]",
      "text/plain": [
       "<Figure size 432x288 with 1 Axes>"
      ]
     },
     "metadata": {
      "needs_background": "light"
     },
     "output_type": "display_data"
    }
   ],
   "source": [
    "age = [19,20,23,46,21,25,26,25,28,31,37,24,28,34,38,33,32,29,27,24]\n",
    "hist1 = plt.hist(age, bins = 5, edgecolor = 'gray')\n",
    "\n",
    "print(hist1)\n",
    "print(type(hist1))\n",
    "print('-' * 50)\n",
    "print('빈도수 : ', hist1[0])\n",
    "print('구간값 : ', hist1[1])"
   ]
  },
  {
   "cell_type": "markdown",
   "metadata": {
    "id": "hZIXcOjLsQWl"
   },
   "source": [
    "<img src='https://raw.githubusercontent.com/jangrae/img/master/practice_01.png' width=120 align=\"left\"/>"
   ]
  },
  {
   "cell_type": "markdown",
   "metadata": {
    "id": "rhCmJxnd3Z5s"
   },
   "source": [
    "아래 링크로 부터 ['Age', 'Fare'] 만 불러와서(usecols= ['Age', 'Fare']) 다음의 문제를 풀어 봅시다.\n",
    "\n",
    "https://bit.ly/3HaMAtZ"
   ]
  },
  {
   "cell_type": "markdown",
   "metadata": {
    "id": "08DqWe7ByVgf"
   },
   "source": [
    "[문제1] Age에 칼럼에 대해 히스토그램을 그려 봅시다.\n",
    "* bins = 8, 16, 32, 64"
   ]
  },
  {
   "cell_type": "code",
   "execution_count": null,
   "metadata": {
    "colab": {
     "base_uri": "https://localhost:8080/",
     "height": 268
    },
    "executionInfo": {
     "elapsed": 1312,
     "status": "ok",
     "timestamp": 1642214746996,
     "user": {
      "displayName": "한기영",
      "photoUrl": "https://lh3.googleusercontent.com/a/default-user=s64",
      "userId": "13049187003176135487"
     },
     "user_tz": -540
    },
    "id": "JR4eHakr3aQl",
    "outputId": "0e0f2441-a0c9-46eb-cbe2-e5e49570d41f"
   },
   "outputs": [
    {
     "data": {
      "image/png": "[encoded data removed]",
      "text/plain": [
       "<Figure size 432x288 with 4 Axes>"
      ]
     },
     "metadata": {
      "needs_background": "light"
     },
     "output_type": "display_data"
    }
   ],
   "source": [
    "# 1) Age에 칼럼에 대해 히스토그램을 그려 봅시다.\n",
    "# bins = 8, 16, 32, 64\n",
    "data = pd.read_csv(\"https://bit.ly/3HaMAtZ\", usecols= ['Age', 'Fare'])\n",
    "\n",
    "plt.subplot(2,2,1)\n",
    "plt.hist(data['Age'], bins = 8, edgecolor = 'black')\n",
    "plt.subplot(2,2,2)\n",
    "plt.hist(data['Age'], bins = 16, edgecolor = 'black')\n",
    "plt.subplot(2,2,3)\n",
    "plt.hist(data['Age'], bins = 32, edgecolor = 'black')\n",
    "plt.subplot(2,2,4)\n",
    "plt.hist(data['Age'], bins = 64, edgecolor = 'black')\n",
    "plt.show()"
   ]
  },
  {
   "cell_type": "markdown",
   "metadata": {
    "id": "CxLmBFLdycQ6"
   },
   "source": [
    "[문제2] Age에 칼럼에 대해 히스토그램을 그릴때, 빈도수와 구간값을 살펴 봅시다.\n",
    "* bins = 8"
   ]
  },
  {
   "cell_type": "code",
   "execution_count": null,
   "metadata": {
    "colab": {
     "base_uri": "https://localhost:8080/",
     "height": 375
    },
    "executionInfo": {
     "elapsed": 874,
     "status": "ok",
     "timestamp": 1642214787677,
     "user": {
      "displayName": "한기영",
      "photoUrl": "https://lh3.googleusercontent.com/a/default-user=s64",
      "userId": "13049187003176135487"
     },
     "user_tz": -540
    },
    "id": "WXIL2Na330T8",
    "outputId": "87caa43f-10cc-4809-dd4e-61599b5b19d9"
   },
   "outputs": [
    {
     "name": "stdout",
     "output_type": "stream",
     "text": [
      "(array([ 68., 115., 266., 291.,  87.,  42.,  17.,   5.]), array([ 0.42  , 10.3675, 20.315 , 30.2625, 40.21  , 50.1575, 60.105 ,\n",
      "       70.0525, 80.    ]), <a list of 8 Patch objects>)\n",
      "<class 'tuple'>\n",
      "--------------------------------------------------\n",
      "빈도수 :  [ 68. 115. 266. 291.  87.  42.  17.   5.]\n",
      "구간값 :  [ 0.42   10.3675 20.315  30.2625 40.21   50.1575 60.105  70.0525 80.    ]\n"
     ]
    },
    {
     "data": {
      "image/png": "[encoded data removed]",
      "text/plain": [
       "<Figure size 432x288 with 1 Axes>"
      ]
     },
     "metadata": {
      "needs_background": "light"
     },
     "output_type": "display_data"
    }
   ],
   "source": [
    "# Age에 칼럼에 대해 히스토그램을 그릴때, \n",
    "# 빈도수와 구간값을 살펴 봅시다.\n",
    "# bins = 8\n",
    "hist1 = plt.hist(data['Age'], bins = 8, edgecolor = 'black')\n",
    "\n",
    "print(hist1)\n",
    "print(type(hist1))\n",
    "print('-' * 50)\n",
    "print('빈도수 : ', hist1[0])\n",
    "print('구간값 : ', hist1[1])"
   ]
  },
  {
   "cell_type": "markdown",
   "metadata": {
    "id": "7WD0PB06xCEs"
   },
   "source": [
    "## 3.밀도함수 그래프"
   ]
  },
  {
   "cell_type": "markdown",
   "metadata": {
    "id": "KXT5Yh08yxl5"
   },
   "source": [
    "* 히스토그램의 단점 \n",
    "    * 구간bin의 너비를 어떻게 잡는지에 따라 전혀 다른 모양이 될 수 있음\n",
    "\n",
    "* 밀도함수 그래프\n",
    "    * 막대의 너비를 가정하지 않고 모든 점에서 데이터의 밀도를 추정하는 커널 밀도 추정(Kernel Density Estimation)방식을 사용하여 이러한 단점을 해결.\n",
    "    * 밀도함수 그래프 아래 면적은 1"
   ]
  },
  {
   "cell_type": "markdown",
   "metadata": {
    "id": "JFscPQ-v4HRc"
   },
   "source": [
    "1) 밀도함수 그래프 그리기"
   ]
  },
  {
   "cell_type": "code",
   "execution_count": null,
   "metadata": {
    "colab": {
     "base_uri": "https://localhost:8080/",
     "height": 265
    },
    "executionInfo": {
     "elapsed": 1047,
     "status": "ok",
     "timestamp": 1642214597566,
     "user": {
      "displayName": "한기영",
      "photoUrl": "https://lh3.googleusercontent.com/a/default-user=s64",
      "userId": "13049187003176135487"
     },
     "user_tz": -540
    },
    "id": "V_rvASHvxCE0",
    "outputId": "a5ff72f6-fb8f-43ee-9ee4-fc7aa7d17662"
   },
   "outputs": [
    {
     "data": {
      "image/png": "[encoded data removed]",
      "text/plain": [
       "<Figure size 432x288 with 1 Axes>"
      ]
     },
     "metadata": {
      "needs_background": "light"
     },
     "output_type": "display_data"
    }
   ],
   "source": [
    "age = [19,20,23,46,21,25,26,25,28,31,37,24,28,34,38,33,32,29,27,24]\n",
    "age = pd.Series(age)\n",
    "#age.plot(kind = 'kde')\n",
    "plt.show()"
   ]
  },
  {
   "cell_type": "markdown",
   "metadata": {
    "id": "JdYKN2PVzCIo"
   },
   "source": [
    "* 밀도 추정\n",
    "    * 측정된(관측된) 데이터로부터 전체 데이터 분포의 특성을 추정\n",
    "    * 예를 들어… OO역 사거리 일일 교통량을 측정한다고 해 봅시다.\n",
    "        * 어제는 1200대 차량이 통과했고, 오늘은 1420대, 내일은, 모레는…\n",
    "        * 이렇게 3개월간 매일 측정했다고 할 때, \n",
    "        * 우리는 약 90일치의 데이터를 가지고 일일 교통량 분포를 히스토그램으로 그려볼 수 있습니다. \n",
    "        * 그리고 나서 특정한 날의 교통량이 얼마나 될지 확률로 나타냄.\n",
    "\n"
   ]
  },
  {
   "cell_type": "markdown",
   "metadata": {
    "id": "TBG55rd-zT68"
   },
   "source": [
    "<img src='https://github.com/DA4BAM/image/blob/main/%EB%B0%80%EB%8F%84%EC%B6%94%EC%A0%95.png?raw=true' width=800/>"
   ]
  },
  {
   "cell_type": "markdown",
   "metadata": {
    "id": "a06mPcY34O1D"
   },
   "source": [
    "<img src='https://raw.githubusercontent.com/jangrae/img/master/practice_01.png' width=120 align=\"left\"/>"
   ]
  },
  {
   "cell_type": "code",
   "execution_count": null,
   "metadata": {
    "colab": {
     "base_uri": "https://localhost:8080/",
     "height": 265
    },
    "executionInfo": {
     "elapsed": 500,
     "status": "ok",
     "timestamp": 1642214825024,
     "user": {
      "displayName": "한기영",
      "photoUrl": "https://lh3.googleusercontent.com/a/default-user=s64",
      "userId": "13049187003176135487"
     },
     "user_tz": -540
    },
    "id": "853Y-KVc4MtM",
    "outputId": "e88ca5fc-fae3-4ac6-c81e-421acd7d9802"
   },
   "outputs": [
    {
     "data": {
      "image/png": "[encoded data removed]",
      "text/plain": [
       "<Figure size 432x288 with 1 Axes>"
      ]
     },
     "metadata": {
      "needs_background": "light"
     },
     "output_type": "display_data"
    }
   ],
   "source": [
    "age = [19,20,23,46,21,25,26,25,28,31,37,24,28,34,38,33,32,29,27,24]\n",
    "\n",
    "# 히스토그램을 그리시오.\n",
    "plt.hist(age, edgecolor = 'black')\n",
    "plt.show()\n"
   ]
  },
  {
   "cell_type": "code",
   "execution_count": null,
   "metadata": {
    "colab": {
     "base_uri": "https://localhost:8080/",
     "height": 265
    },
    "executionInfo": {
     "elapsed": 573,
     "status": "ok",
     "timestamp": 1642214839366,
     "user": {
      "displayName": "한기영",
      "photoUrl": "https://lh3.googleusercontent.com/a/default-user=s64",
      "userId": "13049187003176135487"
     },
     "user_tz": -540
    },
    "id": "A9VAmgKH4UJs",
    "outputId": "dcff1ef8-a836-4236-ec6a-7a61355379eb"
   },
   "outputs": [
    {
     "data": {
      "image/png": "[encoded data removed]",
      "text/plain": [
       "<Figure size 432x288 with 1 Axes>"
      ]
     },
     "metadata": {
      "needs_background": "light"
     },
     "output_type": "display_data"
    }
   ],
   "source": [
    "# 밀도함수 그래프를 그리시오.\n",
    "age = pd.Series(age)\n",
    "age.plot(kind = 'kde')\n",
    "plt.show()\n"
   ]
  },
  {
   "cell_type": "code",
   "execution_count": null,
   "metadata": {
    "id": "boVENUKe4bNs"
   },
   "outputs": [],
   "source": [
    "# 두 그래프는 어떤 차이가 있나요?\n",
    "\n"
   ]
  },
  {
   "cell_type": "markdown",
   "metadata": {
    "id": "v54-dA2sx13e"
   },
   "source": [
    "## 4.boxplot\n",
    "\n",
    "**주의사항** : 값에 **nan**이 있으면 그래프가 그려지지 않습니다."
   ]
  },
  {
   "cell_type": "markdown",
   "metadata": {
    "id": "CB_qkeT74k3V"
   },
   "source": [
    "1) boxplot 기본"
   ]
  },
  {
   "cell_type": "code",
   "execution_count": null,
   "metadata": {
    "colab": {
     "base_uri": "https://localhost:8080/",
     "height": 265
    },
    "executionInfo": {
     "elapsed": 15,
     "status": "ok",
     "timestamp": 1642214597568,
     "user": {
      "displayName": "한기영",
      "photoUrl": "https://lh3.googleusercontent.com/a/default-user=s64",
      "userId": "13049187003176135487"
     },
     "user_tz": -540
    },
    "id": "J0lJsVIbx13f",
    "outputId": "f4ebf223-d162-459f-fcca-50eff53ef543"
   },
   "outputs": [
    {
     "data": {
      "image/png": "[encoded data removed]",
      "text/plain": [
       "<Figure size 432x288 with 1 Axes>"
      ]
     },
     "metadata": {
      "needs_background": "light"
     },
     "output_type": "display_data"
    }
   ],
   "source": [
    "age = [19,20,23,46,21,25,26,25,28,31,37,24,28,34,38,33,32,29,27,24]\n",
    "plt.boxplot(age)\n",
    "plt.show()"
   ]
  },
  {
   "cell_type": "markdown",
   "metadata": {
    "id": "SiMIvvaD4pDs"
   },
   "source": [
    "2) 옆으로 그리기"
   ]
  },
  {
   "cell_type": "code",
   "execution_count": null,
   "metadata": {
    "colab": {
     "base_uri": "https://localhost:8080/",
     "height": 265
    },
    "executionInfo": {
     "elapsed": 16,
     "status": "ok",
     "timestamp": 1642214597569,
     "user": {
      "displayName": "한기영",
      "photoUrl": "https://lh3.googleusercontent.com/a/default-user=s64",
      "userId": "13049187003176135487"
     },
     "user_tz": -540
    },
    "id": "5xFcYt9U4pYV",
    "outputId": "88147590-8e90-49ff-8c34-77c33f4b3369"
   },
   "outputs": [
    {
     "data": {
      "image/png": "[encoded data removed]",
      "text/plain": [
       "<Figure size 432x288 with 1 Axes>"
      ]
     },
     "metadata": {
      "needs_background": "light"
     },
     "output_type": "display_data"
    }
   ],
   "source": [
    "age = [19,20,23,46,21,25,26,25,28,31,37,24,28,34,38,33,32,29,27,24]\n",
    "plt.boxplot(age, vert = False)\n",
    "plt.show()"
   ]
  },
  {
   "cell_type": "markdown",
   "metadata": {
    "id": "hc8ZKlF3znVP"
   },
   "source": [
    "**박스플롯의 의미**"
   ]
  },
  {
   "cell_type": "markdown",
   "metadata": {
    "id": "L2HVozzrzroc"
   },
   "source": [
    "<img src='https://github.com/DA4BAM/image/blob/main/%EB%B0%95%EC%8A%A4%ED%94%8C%EB%A1%AF1.png?raw=true' width=600/>"
   ]
  },
  {
   "cell_type": "markdown",
   "metadata": {
    "id": "cA2QFJEkzrlI"
   },
   "source": [
    "<img src='https://github.com/DA4BAM/image/blob/main/%EB%B0%95%EC%8A%A4%ED%94%8C%EB%A1%AF2.png?raw=true' width=800/>\n"
   ]
  },
  {
   "cell_type": "markdown",
   "metadata": {
    "id": "DFbCPjcL4wxk"
   },
   "source": [
    "3) 박스플로의 값들 가져오기"
   ]
  },
  {
   "cell_type": "code",
   "execution_count": null,
   "metadata": {
    "colab": {
     "base_uri": "https://localhost:8080/",
     "height": 375
    },
    "executionInfo": {
     "elapsed": 15,
     "status": "ok",
     "timestamp": 1642214597569,
     "user": {
      "displayName": "한기영",
      "photoUrl": "https://lh3.googleusercontent.com/a/default-user=s64",
      "userId": "13049187003176135487"
     },
     "user_tz": -540
    },
    "id": "Ov0c3doC4xHj",
    "outputId": "a9778617-04dc-4850-fd72-cd5c4c2b0a26"
   },
   "outputs": [
    {
     "name": "stdout",
     "output_type": "stream",
     "text": [
      "<class 'dict'>\n",
      "dict_keys(['whiskers', 'caps', 'boxes', 'medians', 'fliers', 'means'])\n",
      "--------------------------------------------------\n",
      "[<matplotlib.lines.Line2D object at 0x7f2b656cbc50>, <matplotlib.lines.Line2D object at 0x7f2b656d21d0>]\n",
      "[24. 19.]\n",
      "[32.25 38.  ]\n"
     ]
    },
    {
     "data": {
      "image/png": "[encoded data removed]",
      "text/plain": [
       "<Figure size 432x288 with 1 Axes>"
      ]
     },
     "metadata": {
      "needs_background": "light"
     },
     "output_type": "display_data"
    }
   ],
   "source": [
    "age = [19,20,23,46,21,25,26,25,28,31,37,24,28,34,38,33,32,29,27,24]\n",
    "box1 = plt.boxplot(age)\n",
    "\n",
    "print(type(box1))\n",
    "print(box1.keys())\n",
    "print('-'* 50)\n",
    "print(box1['whiskers'])\n",
    "print(box1['whiskers'][0].get_ydata()) # 아래쪽 수염의 max, min\n",
    "print(box1['whiskers'][1].get_ydata()) # 위쪽 수염의 min, max"
   ]
  },
  {
   "cell_type": "markdown",
   "metadata": {
    "id": "4MJJgToT5Fll"
   },
   "source": [
    "<img src='https://raw.githubusercontent.com/jangrae/img/master/practice_01.png' width=120 align=\"left\"/>"
   ]
  },
  {
   "cell_type": "markdown",
   "metadata": {
    "id": "W1isQhzG5NWB"
   },
   "source": [
    "아래 링크로 부터 ['Age', 'Fare'] 만 불러와서 다음의 문제를 풀어 봅시다.\n",
    "\n",
    "https://bit.ly/3HaMAtZ"
   ]
  },
  {
   "cell_type": "code",
   "execution_count": null,
   "metadata": {
    "colab": {
     "base_uri": "https://localhost:8080/",
     "height": 265
    },
    "executionInfo": {
     "elapsed": 840,
     "status": "ok",
     "timestamp": 1642214883152,
     "user": {
      "displayName": "한기영",
      "photoUrl": "https://lh3.googleusercontent.com/a/default-user=s64",
      "userId": "13049187003176135487"
     },
     "user_tz": -540
    },
    "id": "ccSd_6nN5B6j",
    "outputId": "ea017910-8820-480a-fee2-2c043adb2d0c"
   },
   "outputs": [
    {
     "data": {
      "image/png": "[encoded data removed]",
      "text/plain": [
       "<Figure size 432x288 with 1 Axes>"
      ]
     },
     "metadata": {
      "needs_background": "light"
     },
     "output_type": "display_data"
    }
   ],
   "source": [
    "# Age에 칼럼에 대해 박스 플롯을 그려 봅시다.\n",
    "data = pd.read_csv(\"https://bit.ly/3HaMAtZ\", usecols= ['Age', 'Fare'])\n",
    "plt.boxplot(data['Age'])\n",
    "plt.show()"
   ]
  },
  {
   "cell_type": "code",
   "execution_count": null,
   "metadata": {
    "colab": {
     "base_uri": "https://localhost:8080/",
     "height": 265
    },
    "executionInfo": {
     "elapsed": 1314,
     "status": "ok",
     "timestamp": 1642214903381,
     "user": {
      "displayName": "한기영",
      "photoUrl": "https://lh3.googleusercontent.com/a/default-user=s64",
      "userId": "13049187003176135487"
     },
     "user_tz": -540
    },
    "id": "262l-48d5TTk",
    "outputId": "19159b98-2e10-45dd-ffdd-7102d65c5347"
   },
   "outputs": [
    {
     "data": {
      "image/png": "[encoded data removed]",
      "text/plain": [
       "<Figure size 432x288 with 1 Axes>"
      ]
     },
     "metadata": {
      "needs_background": "light"
     },
     "output_type": "display_data"
    }
   ],
   "source": [
    "# 박스 플롯을 옆으로 그려 봅시다.\n",
    "plt.boxplot(data['Age'], vert = False)\n",
    "plt.show()"
   ]
  },
  {
   "cell_type": "code",
   "execution_count": null,
   "metadata": {
    "colab": {
     "base_uri": "https://localhost:8080/",
     "height": 375
    },
    "executionInfo": {
     "elapsed": 522,
     "status": "ok",
     "timestamp": 1642214929717,
     "user": {
      "displayName": "한기영",
      "photoUrl": "https://lh3.googleusercontent.com/a/default-user=s64",
      "userId": "13049187003176135487"
     },
     "user_tz": -540
    },
    "id": "SUkWTWaw5U5r",
    "outputId": "ec55ba7a-3b9c-474c-ee10-fd03bb5a04d6"
   },
   "outputs": [
    {
     "name": "stdout",
     "output_type": "stream",
     "text": [
      "<class 'dict'>\n",
      "dict_keys(['whiskers', 'caps', 'boxes', 'medians', 'fliers', 'means'])\n",
      "--------------------------------------------------\n",
      "[<matplotlib.lines.Line2D object at 0x7f2b5f6b7b50>, <matplotlib.lines.Line2D object at 0x7f2b5f6b7690>]\n",
      "[21.77  0.67]\n",
      "[35.9 57. ]\n"
     ]
    },
    {
     "data": {
      "image/png": "[encoded data removed]",
      "text/plain": [
       "<Figure size 432x288 with 1 Axes>"
      ]
     },
     "metadata": {
      "needs_background": "light"
     },
     "output_type": "display_data"
    }
   ],
   "source": [
    "# 박스 플롯의 아래 수염의 min, max, 윗 수염의 min, max를 구해 봅시다.\n",
    "box1 = plt.boxplot(data['Age'])\n",
    "\n",
    "print(type(box1))\n",
    "print(box1.keys())\n",
    "print('-'* 50)\n",
    "print(box1['whiskers'])\n",
    "print(box1['whiskers'][0].get_ydata()) # 아래쪽 수염의 max, min\n",
    "print(box1['whiskers'][1].get_ydata()) # 위쪽 수염의 min, max"
   ]
  },
  {
   "cell_type": "markdown",
   "metadata": {
    "id": "suQMnwpnzrlW"
   },
   "source": [
    "## 5.바이올린 플롯"
   ]
  },
  {
   "cell_type": "markdown",
   "metadata": {
    "id": "6IhygWrn5aG8"
   },
   "source": [
    "1) 바이올린 플롯 그리기\n",
    "\n",
    "* 데이터의 분포와 범위를 한눈에 보기 쉽게 나타내는 그래프\n",
    "* 박스 플롯 (Box plot)과 비슷하지만 분포 함께 확인할 수 있음\n",
    "* vert = False : 가로로 그리기\n",
    "* showmeans = True : 평균 선 그리기\n",
    "* plt.text() : 평균값을 텍스트로 보여줘\n",
    "\n",
    "**주의사항** : 값에 **nan**이 있으면 그래프가 그려지지 않습니다.\n"
   ]
  },
  {
   "cell_type": "code",
   "execution_count": null,
   "metadata": {
    "colab": {
     "base_uri": "https://localhost:8080/",
     "height": 265
    },
    "executionInfo": {
     "elapsed": 1185,
     "status": "ok",
     "timestamp": 1642214598743,
     "user": {
      "displayName": "한기영",
      "photoUrl": "https://lh3.googleusercontent.com/a/default-user=s64",
      "userId": "13049187003176135487"
     },
     "user_tz": -540
    },
    "id": "BzEqGx2iOdH_",
    "outputId": "77394d7e-15bc-4234-bd96-633880ea29fe"
   },
   "outputs": [
    {
     "data": {
      "image/png": "[encoded data removed]",
      "text/plain": [
       "<Figure size 432x288 with 1 Axes>"
      ]
     },
     "metadata": {
      "needs_background": "light"
     },
     "output_type": "display_data"
    }
   ],
   "source": [
    "age = [19,20,23,46,21,25,26,25,28,31,37,24,28,34,38,33,32,29,27,24]\n",
    "age_m = np.mean(age)\n",
    "\n",
    "plt.violinplot(age, vert = False, showmeans=True)\n",
    "plt.text( age_m - 1, 0.85 , age_m)\n",
    "plt.show()"
   ]
  },
  {
   "cell_type": "markdown",
   "metadata": {
    "id": "Ps01bFam5diT"
   },
   "source": [
    "2) 4가지 플롯을 한꺼번에 그려 봅시다.\n",
    "\n",
    "* Histogram : bin의 개수를 조절하며, 숲과 나무를 살펴볼 수 있음.\n",
    "* Densityplot : 연속된 분포를 볼 수 있다.\n",
    "* Boxplot : 분포를 단순화 하여 손쉽게 볼 수 있다. 이상치(Outlier)에 대한 기준 제시\n",
    "* Violinplot : Boxplot 과 Densityplot의 중간정도\n"
   ]
  },
  {
   "cell_type": "code",
   "execution_count": null,
   "metadata": {
    "colab": {
     "base_uri": "https://localhost:8080/",
     "height": 265
    },
    "executionInfo": {
     "elapsed": 18,
     "status": "ok",
     "timestamp": 1642214598743,
     "user": {
      "displayName": "한기영",
      "photoUrl": "https://lh3.googleusercontent.com/a/default-user=s64",
      "userId": "13049187003176135487"
     },
     "user_tz": -540
    },
    "id": "IOOKg1O65d7T",
    "outputId": "3aaa66b5-2aa4-4943-e859-0ea270735235"
   },
   "outputs": [
    {
     "data": {
      "image/png": "[encoded data removed]",
      "text/plain": [
       "<Figure size 432x288 with 4 Axes>"
      ]
     },
     "metadata": {
      "needs_background": "light"
     },
     "output_type": "display_data"
    }
   ],
   "source": [
    "age = [19,20,23,46,21,25,26,25,28,31,37,24,28,34,38,33,32,29,27,24]\n",
    "\n",
    "plt.subplot(2,2,1)\n",
    "plt.hist(age, bins = 8, edgecolor = 'grey')\n",
    "\n",
    "plt.subplot(2,2,2)\n",
    "plt.boxplot(age, vert = False)\n",
    "\n",
    "plt.subplot(2,2,3)\n",
    "pd.Series(age).plot(kind = 'kde')\n",
    "\n",
    "plt.subplot(2,2,4)\n",
    "plt.violinplot(age, vert = False, showmeans=True)\n",
    "\n",
    "plt.show()"
   ]
  },
  {
   "cell_type": "markdown",
   "metadata": {
    "id": "C4UfkJh65kUT"
   },
   "source": [
    "<img src='https://raw.githubusercontent.com/jangrae/img/master/practice_01.png' width=120 align=\"left\"/>"
   ]
  },
  {
   "cell_type": "markdown",
   "metadata": {
    "id": "8f_KILvK5s5e"
   },
   "source": [
    "아래 링크로 부터 ['Age', 'Fare'] 만 불러와서 다음의 문제를 풀어 봅시다.\n",
    "\n",
    "https://bit.ly/3HaMAtZ"
   ]
  },
  {
   "cell_type": "code",
   "execution_count": null,
   "metadata": {
    "colab": {
     "base_uri": "https://localhost:8080/",
     "height": 265
    },
    "executionInfo": {
     "elapsed": 542,
     "status": "ok",
     "timestamp": 1642215022282,
     "user": {
      "displayName": "한기영",
      "photoUrl": "https://lh3.googleusercontent.com/a/default-user=s64",
      "userId": "13049187003176135487"
     },
     "user_tz": -540
    },
    "id": "_ty5GSou5l6L",
    "outputId": "eb776ef9-c7a5-4f03-fb4e-96be8893e93d"
   },
   "outputs": [
    {
     "data": {
      "image/png": "[encoded data removed]",
      "text/plain": [
       "<Figure size 432x288 with 1 Axes>"
      ]
     },
     "metadata": {
      "needs_background": "light"
     },
     "output_type": "display_data"
    }
   ],
   "source": [
    "# Age에 칼럼에 대해 \n",
    "\n",
    "# 바이올린 플롯을 그려봅시다.\n",
    "# 평균 값도 포함시켜 봅시다.\n",
    "\n",
    "data = pd.read_csv(\"https://bit.ly/3HaMAtZ\", usecols= ['Age', 'Fare'])\n",
    "\n",
    "plt.violinplot(data['Age'], vert = False, showmeans=True)\n",
    "plt.text( data['Age'].mean() - 3, 0.85 , age_m)\n",
    "plt.show()"
   ]
  },
  {
   "cell_type": "code",
   "execution_count": null,
   "metadata": {
    "colab": {
     "base_uri": "https://localhost:8080/",
     "height": 268
    },
    "executionInfo": {
     "elapsed": 2000,
     "status": "ok",
     "timestamp": 1642215049257,
     "user": {
      "displayName": "한기영",
      "photoUrl": "https://lh3.googleusercontent.com/a/default-user=s64",
      "userId": "13049187003176135487"
     },
     "user_tz": -540
    },
    "id": "C27an_su5xYr",
    "outputId": "517cb60c-bb72-4cae-efe3-786ea10b5564"
   },
   "outputs": [
    {
     "data": {
      "image/png": "[encoded data removed]",
      "text/plain": [
       "<Figure size 432x288 with 4 Axes>"
      ]
     },
     "metadata": {
      "needs_background": "light"
     },
     "output_type": "display_data"
    }
   ],
   "source": [
    "# 4가지 플롯을 한꺼번에 그려 봅시다.\n",
    "\n",
    "plt.subplot(2,2,1)\n",
    "plt.hist(data['Age'], bins = 8, edgecolor = 'grey')\n",
    "\n",
    "plt.subplot(2,2,2)\n",
    "plt.boxplot(data['Age'], vert = False)\n",
    "\n",
    "plt.subplot(2,2,3)\n",
    "pd.Series(data['Age']).plot(kind = 'kde')\n",
    "\n",
    "plt.subplot(2,2,4)\n",
    "plt.violinplot(data['Age'], vert = False, showmeans=True)\n",
    "\n",
    "plt.show()"
   ]
  },
  {
   "cell_type": "markdown",
   "metadata": {
    "id": "GDsv14de5wvz"
   },
   "source": [
    "## 6.시계열 데이터 시각화"
   ]
  },
  {
   "cell_type": "markdown",
   "metadata": {
    "id": "sLzl_oa-58TL"
   },
   "source": [
    "시계열 데이터는 보통 시간 축(x축)에 맞게 값들을 라인차트로 표현합니다."
   ]
  },
  {
   "cell_type": "code",
   "execution_count": null,
   "metadata": {
    "colab": {
     "base_uri": "https://localhost:8080/",
     "height": 282
    },
    "executionInfo": {
     "elapsed": 17,
     "status": "ok",
     "timestamp": 1642214598745,
     "user": {
      "displayName": "한기영",
      "photoUrl": "https://lh3.googleusercontent.com/a/default-user=s64",
      "userId": "13049187003176135487"
     },
     "user_tz": -540
    },
    "id": "5I9msV-T5wbb",
    "outputId": "9928d2a3-731a-46c7-daf9-387db5871404"
   },
   "outputs": [
    {
     "data": {
      "image/png": "[encoded data removed]",
      "text/plain": [
       "<Figure size 432x288 with 1 Axes>"
      ]
     },
     "metadata": {
      "needs_background": "light"
     },
     "output_type": "display_data"
    }
   ],
   "source": [
    "air = pd.read_csv('https://bit.ly/3qmthqZ')\n",
    "air['Date'] = pd.to_datetime(air['Date']) # 날짜 형식으로 변환\n",
    "\n",
    "plt.plot('Date', 'Ozone', 'g-', data = air, label = 'Ozone')\n",
    "plt.plot('Date', 'Temp', 'r-', data = air, label = 'Temp')\n",
    "\n",
    "plt.xlabel('Date')\n",
    "plt.legend()\n",
    "plt.show()"
   ]
  },
  {
   "cell_type": "markdown",
   "metadata": {
    "id": "4KTxBUF26pyS"
   },
   "source": [
    "## 7.종합실습"
   ]
  },
  {
   "cell_type": "markdown",
   "metadata": {
    "id": "e0e4d4ad"
   },
   "source": [
    "### 1) Titanic 데이터프레임\n",
    "\n",
    "* url : 'https://raw.githubusercontent.com/DA4BAM/dataset/master/titanic_simple.csv'"
   ]
  },
  {
   "cell_type": "markdown",
   "metadata": {
    "id": "iXH-z2CcsQWs"
   },
   "source": [
    "**[titanic_simple 데이터 셋 정보]**\n",
    "\n",
    "- PassengerId : 승객번호\n",
    "- Survived : 생존여부(1:생존, 0:사망)\n",
    "- Pclass : 객실등급(1:1등급, 2:2등급, 3:3등급)\n",
    "- Name : 승객이름\n",
    "- Sex : 성별(male, female)\n",
    "- Age : 나이\n",
    "- Fare : 운임($)\n",
    "- Embarked : 승선지역(Southhampton, Cherbourg, Queenstown)"
   ]
  },
  {
   "cell_type": "markdown",
   "metadata": {
    "id": "b5c0833d"
   },
   "source": [
    "① 데이터를 불러와서 상위 5개 행을 조회하시오."
   ]
  },
  {
   "cell_type": "code",
   "execution_count": null,
   "metadata": {
    "colab": {
     "base_uri": "https://localhost:8080/"
    },
    "executionInfo": {
     "elapsed": 5,
     "status": "ok",
     "timestamp": 1642214600683,
     "user": {
      "displayName": "한기영",
      "photoUrl": "https://lh3.googleusercontent.com/a/default-user=s64",
      "userId": "13049187003176135487"
     },
     "user_tz": -540
    },
    "id": "a7f8ecc4",
    "outputId": "c33f8754-e398-471e-823f-69779cc615bd",
    "scrolled": false
   },
   "outputs": [
    {
     "name": "stdout",
     "output_type": "stream",
     "text": [
      "   Survived  Pclass     Sex   Age  ...  Embarked  AgeGroup  Family Age_scale1\n",
      "0         0       3    male  22.0  ...         S  Age21_30       2   0.271174\n",
      "1         1       1  female  38.0  ...         C  Age31_40       2   0.472229\n",
      "2         1       3  female  26.0  ...         S  Age21_30       1   0.321438\n",
      "3         1       1  female  35.0  ...         S  Age31_40       2   0.434531\n",
      "4         0       3    male  35.0  ...         S  Age31_40       1   0.434531\n",
      "\n",
      "[5 rows x 11 columns]\n"
     ]
    }
   ],
   "source": [
    "titanic = pd.read_csv('https://raw.githubusercontent.com/DA4BAM/dataset/master/titanic_simple.csv')\n",
    "titanic.head()"
   ]
  },
  {
   "cell_type": "markdown",
   "metadata": {
    "id": "5eFeT3iTYxs2"
   },
   "source": [
    "② 나이(Age)의 분포를 확인하기 위한 히스토그램을 그리시오.\n",
    "\n",
    "* bins : 8,16,32"
   ]
  },
  {
   "cell_type": "code",
   "execution_count": null,
   "metadata": {
    "colab": {
     "base_uri": "https://localhost:8080/",
     "height": 265
    },
    "executionInfo": {
     "elapsed": 1314,
     "status": "ok",
     "timestamp": 1642214601994,
     "user": {
      "displayName": "한기영",
      "photoUrl": "https://lh3.googleusercontent.com/a/default-user=s64",
      "userId": "13049187003176135487"
     },
     "user_tz": -540
    },
    "id": "246b74f6",
    "outputId": "eb3c4459-c5ba-47c8-88ab-d7f245610638"
   },
   "outputs": [
    {
     "data": {
      "image/png": "[encoded data removed]",
      "text/plain": [
       "<Figure size 432x288 with 1 Axes>"
      ]
     },
     "metadata": {
      "needs_background": "light"
     },
     "output_type": "display_data"
    }
   ],
   "source": [
    "plt.hist(titanic['Age'], bins = 8, edgecolor = 'grey', label = 'Age')\n",
    "plt.legend()\n",
    "plt.show()"
   ]
  },
  {
   "cell_type": "markdown",
   "metadata": {
    "id": "kxYI-cmQYjiJ"
   },
   "source": [
    "bins의 갯수를 조절함에 따라 다르게 파악되는 내용이 있나요?"
   ]
  },
  {
   "cell_type": "code",
   "execution_count": null,
   "metadata": {
    "id": "ZmTJ_fXGYquf"
   },
   "outputs": [],
   "source": []
  },
  {
   "cell_type": "markdown",
   "metadata": {
    "id": "pfWpll8dZZ2K"
   },
   "source": [
    "③ 나이(Age)의 분포를 확인하기 위한 네 가지 그래프(히스토그램, 밀도 함수 그래프, 박스플롯, 바이올린 플롯)을 한꺼번에 그리고 비교해 봅시다."
   ]
  },
  {
   "cell_type": "code",
   "execution_count": null,
   "metadata": {
    "colab": {
     "base_uri": "https://localhost:8080/",
     "height": 265
    },
    "executionInfo": {
     "elapsed": 1075,
     "status": "ok",
     "timestamp": 1642214603066,
     "user": {
      "displayName": "한기영",
      "photoUrl": "https://lh3.googleusercontent.com/a/default-user=s64",
      "userId": "13049187003176135487"
     },
     "user_tz": -540
    },
    "id": "14f42b50",
    "outputId": "8a21b164-69fa-4967-863a-801ab61e2e6c"
   },
   "outputs": [
    {
     "data": {
      "image/png": "[encoded data removed]",
      "text/plain": [
       "<Figure size 432x288 with 4 Axes>"
      ]
     },
     "metadata": {
      "needs_background": "light"
     },
     "output_type": "display_data"
    }
   ],
   "source": [
    "plt.subplot(2,2,1)\n",
    "plt.hist(titanic['Age'], bins = 16, edgecolor = 'grey')\n",
    "\n",
    "plt.subplot(2,2,2)\n",
    "plt.boxplot(titanic['Age'], vert = False)\n",
    "\n",
    "plt.subplot(2,2,3)\n",
    "titanic['Age'].plot(kind = 'kde')\n",
    "\n",
    "plt.subplot(2,2,4)\n",
    "plt.violinplot(titanic['Age'], vert = False, showmeans=True)\n",
    "\n",
    "plt.show()"
   ]
  },
  {
   "cell_type": "markdown",
   "metadata": {
    "id": "ZrAaoil-EUjY"
   },
   "source": [
    "③ 위 분포로 부터 알수 있는 것은 무엇인가요?"
   ]
  },
  {
   "cell_type": "code",
   "execution_count": null,
   "metadata": {
    "id": "XMYhIrJn-LMk"
   },
   "outputs": [],
   "source": []
  },
  {
   "cell_type": "markdown",
   "metadata": {
    "id": "s_8ehZ2iZExp"
   },
   "source": [
    "④ 운임(Fare)의 분포를 확인하기 위한 히스토그램을 그리시오.\n",
    "\n",
    "* bins : 10,20,50"
   ]
  },
  {
   "cell_type": "code",
   "execution_count": null,
   "metadata": {
    "colab": {
     "base_uri": "https://localhost:8080/",
     "height": 265
    },
    "executionInfo": {
     "elapsed": 1314,
     "status": "ok",
     "timestamp": 1642214601994,
     "user": {
      "displayName": "한기영",
      "photoUrl": "https://lh3.googleusercontent.com/a/default-user=s64",
      "userId": "13049187003176135487"
     },
     "user_tz": -540
    },
    "id": "zP2upT60ZExp",
    "outputId": "eb3c4459-c5ba-47c8-88ab-d7f245610638"
   },
   "outputs": [
    {
     "data": {
      "image/png": "[encoded data removed]",
      "text/plain": [
       "<Figure size 432x288 with 1 Axes>"
      ]
     },
     "metadata": {
      "needs_background": "light"
     },
     "output_type": "display_data"
    }
   ],
   "source": [
    "plt.hist(titanic['Fare'], bins = 10, edgecolor = 'grey', label = 'Fare')\n",
    "plt.legend()\n",
    "plt.show()"
   ]
  },
  {
   "cell_type": "markdown",
   "metadata": {
    "id": "TlqnUwejZExq"
   },
   "source": [
    "bins의 갯수를 조절함에 따라 다르게 파악되는 내용이 있나요?"
   ]
  },
  {
   "cell_type": "code",
   "execution_count": null,
   "metadata": {
    "id": "uK4XZGy5ZExq"
   },
   "outputs": [],
   "source": []
  },
  {
   "cell_type": "markdown",
   "metadata": {
    "id": "XUbJvV9BZExq"
   },
   "source": [
    "⑤ 운임(Fare)의 분포를 확인하기 위한 네 가지 그래프(히스토그램, 밀도 함수 그래프, 박스플롯, 바이올린 플롯)를 한꺼번에 그리고 비교해 봅시다."
   ]
  },
  {
   "cell_type": "code",
   "execution_count": null,
   "metadata": {
    "colab": {
     "base_uri": "https://localhost:8080/",
     "height": 265
    },
    "executionInfo": {
     "elapsed": 1075,
     "status": "ok",
     "timestamp": 1642214603066,
     "user": {
      "displayName": "한기영",
      "photoUrl": "https://lh3.googleusercontent.com/a/default-user=s64",
      "userId": "13049187003176135487"
     },
     "user_tz": -540
    },
    "id": "MicCgmL5ZExq",
    "outputId": "8a21b164-69fa-4967-863a-801ab61e2e6c"
   },
   "outputs": [
    {
     "data": {
      "image/png": "[encoded data removed]",
      "text/plain": [
       "<Figure size 432x288 with 4 Axes>"
      ]
     },
     "metadata": {
      "needs_background": "light"
     },
     "output_type": "display_data"
    }
   ],
   "source": [
    "plt.subplot(2,2,1)\n",
    "plt.hist(titanic['Fare'], bins = 16, edgecolor = 'grey')\n",
    "\n",
    "plt.subplot(2,2,2)\n",
    "plt.boxplot(titanic['Fare'], vert = False)\n",
    "\n",
    "plt.subplot(2,2,3)\n",
    "titanic['Fare'].plot(kind = 'kde')\n",
    "\n",
    "plt.subplot(2,2,4)\n",
    "plt.violinplot(titanic['Fare'], vert = False, showmeans=True)\n",
    "\n",
    "plt.show()"
   ]
  },
  {
   "cell_type": "markdown",
   "metadata": {
    "id": "7JQebafvZExq"
   },
   "source": [
    "⑥ 위 분포로 부터 알수 있는 것은 무엇인가요?"
   ]
  },
  {
   "cell_type": "code",
   "execution_count": null,
   "metadata": {
    "id": "6TZt__qrZExq"
   },
   "outputs": [],
   "source": []
  },
  {
   "cell_type": "markdown",
   "metadata": {
    "id": "41a7abf7"
   },
   "source": [
    "### 2) New York Air Quality\n",
    "\n",
    "* url : https://bit.ly/3qmthqZ"
   ]
  },
  {
   "cell_type": "markdown",
   "metadata": {
    "id": "Z9oqeiLQsQWx"
   },
   "source": [
    "**[airquality 데이터 셋 정보]**\n",
    "\n",
    "- Ozone: 오존 농도  \n",
    "- Solar.R: 태양복사량\n",
    "- Wind: 풍속\n",
    "- Temp: 기온\n",
    "- Month: 월\n",
    "- Day: 일"
   ]
  },
  {
   "cell_type": "markdown",
   "metadata": {
    "id": "c6763b01"
   },
   "source": [
    "① 데이터를 불러와서 상위 5개 행을 조회하시오."
   ]
  },
  {
   "cell_type": "code",
   "execution_count": null,
   "metadata": {
    "colab": {
     "base_uri": "https://localhost:8080/"
    },
    "executionInfo": {
     "elapsed": 692,
     "status": "ok",
     "timestamp": 1644409342480,
     "user": {
      "displayName": "한기영",
      "photoUrl": "https://lh3.googleusercontent.com/a/default-user=s64",
      "userId": "13049187003176135487"
     },
     "user_tz": -540
    },
    "id": "7373e5ce",
    "outputId": "7f0448a0-f094-47e5-88d5-97f92e348d15",
    "scrolled": true
   },
   "outputs": [
    {
     "name": "stdout",
     "output_type": "stream",
     "text": [
      "   Ozone  Solar.R  Wind  Temp        Date\n",
      "0     41    190.0   7.4    67  1973-05-01\n",
      "1     36    118.0   8.0    72  1973-05-02\n",
      "2     12    149.0  12.6    74  1973-05-03\n",
      "3     18    313.0  11.5    62  1973-05-04\n",
      "4     19      NaN  14.3    56  1973-05-05\n"
     ]
    }
   ],
   "source": [
    "air = pd.read_csv('https://bit.ly/3qmthqZ')\n",
    "air.head()"
   ]
  },
  {
   "cell_type": "markdown",
   "metadata": {
    "id": "2c7172a6"
   },
   "source": [
    "② 풍량(Wind)의 분포를 확인하기 위한 히스토그램을 주어진 결과에 맞게 그리시오.\n",
    "* color: skyblue\n",
    "* edge color: white\n",
    "* bins : 자유롭게 조절해 봅시다."
   ]
  },
  {
   "cell_type": "code",
   "execution_count": null,
   "metadata": {
    "colab": {
     "base_uri": "https://localhost:8080/",
     "height": 279
    },
    "executionInfo": {
     "elapsed": 11,
     "status": "ok",
     "timestamp": 1642214603067,
     "user": {
      "displayName": "한기영",
      "photoUrl": "https://lh3.googleusercontent.com/a/default-user=s64",
      "userId": "13049187003176135487"
     },
     "user_tz": -540
    },
    "id": "c109d017",
    "outputId": "4107b483-91d7-439e-f5ea-01db103750c8"
   },
   "outputs": [
    {
     "data": {
      "image/png": "[encoded data removed]",
      "text/plain": [
       "<Figure size 432x288 with 1 Axes>"
      ]
     },
     "metadata": {
      "needs_background": "light"
     },
     "output_type": "display_data"
    }
   ],
   "source": [
    "plt.hist(air['Wind'], bins = 8, color = 'skyblue', edgecolor = 'white', label = 'Wind')\n",
    "\n",
    "plt.xlabel('Wind')\n",
    "plt.legend()\n",
    "plt.show()"
   ]
  },
  {
   "cell_type": "markdown",
   "metadata": {
    "id": "d66d6e46"
   },
   "source": [
    "③ 풍량(wind)의 분포를 확인하기 위한 네 가지 그래프(히스토그램, 밀도 함수 그래프, 박스플롯, 바이올린 플롯)를 한꺼번에 그리고 비교해 봅시다."
   ]
  },
  {
   "cell_type": "code",
   "execution_count": null,
   "metadata": {
    "colab": {
     "base_uri": "https://localhost:8080/",
     "height": 265
    },
    "executionInfo": {
     "elapsed": 12,
     "status": "ok",
     "timestamp": 1642214603068,
     "user": {
      "displayName": "한기영",
      "photoUrl": "https://lh3.googleusercontent.com/a/default-user=s64",
      "userId": "13049187003176135487"
     },
     "user_tz": -540
    },
    "id": "8b188d42",
    "outputId": "665a75a9-a9d3-4d64-c29e-3bf4b3a83880",
    "scrolled": true
   },
   "outputs": [
    {
     "data": {
      "image/png": "[encoded data removed]",
      "text/plain": [
       "<Figure size 432x288 with 4 Axes>"
      ]
     },
     "metadata": {
      "needs_background": "light"
     },
     "output_type": "display_data"
    }
   ],
   "source": [
    "plt.subplot(2,2,1)\n",
    "plt.hist(air['Wind'], bins = 8, edgecolor = 'white')\n",
    "\n",
    "plt.subplot(2,2,2)\n",
    "plt.boxplot(air['Wind'])\n",
    "\n",
    "plt.subplot(2,2,3)\n",
    "air['Wind'].plot(kind = 'kde')\n",
    "\n",
    "plt.subplot(2,2,4)\n",
    "plt.violinplot(air['Wind'], vert = False, showmeans=True)\n",
    "plt.text(np.mean(air['Wind']) - 1, 0.8, np.mean(air['Wind']))\n",
    "\n",
    "plt.show()"
   ]
  },
  {
   "cell_type": "markdown",
   "metadata": {
    "id": "Pgdh7bcEEvSj"
   },
   "source": [
    "④ 위 분포로 부터 알수 있는 것은 무엇인가요?"
   ]
  },
  {
   "cell_type": "code",
   "execution_count": null,
   "metadata": {
    "id": "8_mpbHGK-dwZ"
   },
   "outputs": [],
   "source": []
  },
  {
   "cell_type": "markdown",
   "metadata": {
    "id": "lnSUO72AadkD"
   },
   "source": [
    "⑤ 태양복사열(Solar.R)의 분포를 확인하기 위한 히스토그램을 주어진 결과에 맞게 그리시오.\n",
    "* bins : 자유롭게 조절해 봅시다."
   ]
  },
  {
   "cell_type": "code",
   "execution_count": null,
   "metadata": {
    "colab": {
     "base_uri": "https://localhost:8080/",
     "height": 279
    },
    "executionInfo": {
     "elapsed": 930,
     "status": "ok",
     "timestamp": 1644409368573,
     "user": {
      "displayName": "한기영",
      "photoUrl": "https://lh3.googleusercontent.com/a/default-user=s64",
      "userId": "13049187003176135487"
     },
     "user_tz": -540
    },
    "id": "2Iv_Y5pJbDO5",
    "outputId": "79c466ba-5f88-4a33-f027-76f7ce147055"
   },
   "outputs": [
    {
     "data": {
      "image/png": "[encoded data removed]",
      "text/plain": [
       "<Figure size 432x288 with 1 Axes>"
      ]
     },
     "metadata": {
      "needs_background": "light"
     },
     "output_type": "display_data"
    }
   ],
   "source": [
    "plt.hist(air['Solar.R'], bins = 8, label = 'Solar.R', edgecolor = 'white')\n",
    "\n",
    "plt.xlabel('Solar.R')\n",
    "plt.legend()\n",
    "plt.show()"
   ]
  },
  {
   "cell_type": "markdown",
   "metadata": {
    "id": "iQrLqSs5adkJ"
   },
   "source": [
    "⑥ 태양복사열(Solar.R)의 분포를 확인하기 위한 네 가지 그래프(히스토그램, 밀도 함수 그래프, 박스플롯, 바이올린 플롯)를 한꺼번에 그리고 비교해 봅시다."
   ]
  },
  {
   "cell_type": "code",
   "execution_count": null,
   "metadata": {
    "id": "HP4akC8qbmXV"
   },
   "outputs": [],
   "source": [
    "air_temp = air[air['Solar.R'].notnull()]"
   ]
  },
  {
   "cell_type": "code",
   "execution_count": null,
   "metadata": {
    "colab": {
     "base_uri": "https://localhost:8080/",
     "height": 391
    },
    "executionInfo": {
     "elapsed": 610,
     "status": "ok",
     "timestamp": 1644409473178,
     "user": {
      "displayName": "한기영",
      "photoUrl": "https://lh3.googleusercontent.com/a/default-user=s64",
      "userId": "13049187003176135487"
     },
     "user_tz": -540
    },
    "id": "lxtn3tQwcJ85",
    "outputId": "a1464b93-2d0f-426b-f630-189c29403e04"
   },
   "outputs": [
    {
     "name": "stderr",
     "output_type": "stream",
     "text": [
      "/usr/local/lib/python3.7/dist-packages/numpy/linalg/linalg.py:2159: RuntimeWarning: invalid value encountered in det\n",
      "  r = _umath_linalg.det(a, signature=signature)\n"
     ]
    },
    {
     "data": {
      "text/plain": [
       "{'bodies': [<matplotlib.collections.PolyCollection at 0x7f709c96fe50>],\n",
       " 'cbars': <matplotlib.collections.LineCollection at 0x7f709c88b3d0>,\n",
       " 'cmaxes': <matplotlib.collections.LineCollection at 0x7f709c8c51d0>,\n",
       " 'cmeans': <matplotlib.collections.LineCollection at 0x7f709c8c5890>,\n",
       " 'cmins': <matplotlib.collections.LineCollection at 0x7f709c88b8d0>}"
      ]
     },
     "execution_count": 13,
     "metadata": {},
     "output_type": "execute_result"
    },
    {
     "data": {
      "image/png": "[encoded data removed]",
      "text/plain": [
       "<Figure size 432x288 with 1 Axes>"
      ]
     },
     "metadata": {
      "needs_background": "light"
     },
     "output_type": "display_data"
    }
   ],
   "source": [
    "plt.violinplot(air['Solar.R'], vert = False, showmeans=True)"
   ]
  },
  {
   "cell_type": "code",
   "execution_count": null,
   "metadata": {
    "colab": {
     "base_uri": "https://localhost:8080/",
     "height": 265
    },
    "executionInfo": {
     "elapsed": 1592,
     "status": "ok",
     "timestamp": 1644409765687,
     "user": {
      "displayName": "한기영",
      "photoUrl": "https://lh3.googleusercontent.com/a/default-user=s64",
      "userId": "13049187003176135487"
     },
     "user_tz": -540
    },
    "id": "xuewNveybDO6",
    "outputId": "7951772b-f0fc-4d59-a913-935a0e173940",
    "scrolled": true
   },
   "outputs": [
    {
     "data": {
      "image/png": "[encoded data removed]",
      "text/plain": [
       "<Figure size 432x288 with 4 Axes>"
      ]
     },
     "metadata": {
      "needs_background": "light"
     },
     "output_type": "display_data"
    }
   ],
   "source": [
    "plt.subplot(2,2,1)\n",
    "plt.hist(air['Solar.R'], bins = 8, edgecolor = 'white')\n",
    "\n",
    "plt.subplot(2,2,2)\n",
    "plt.boxplot(air_temp['Solar.R'], vert = False)\n",
    "\n",
    "plt.subplot(2,2,3)\n",
    "air['Solar.R'].plot(kind = 'kde')\n",
    "\n",
    "plt.subplot(2,2,4)\n",
    "plt.violinplot(air_temp['Solar.R'], vert = False, showmeans=True)\n",
    "plt.text(np.mean(air['Solar.R']) - 1, 0.8, np.mean(air['Solar.R']))\n",
    "\n",
    "plt.show()"
   ]
  },
  {
   "cell_type": "markdown",
   "metadata": {
    "id": "0TeFL76badkJ"
   },
   "source": [
    "⑦ 위 분포로 부터 알수 있는 것은 무엇인가요?"
   ]
  },
  {
   "cell_type": "code",
   "execution_count": null,
   "metadata": {
    "id": "Ks-xZ8AxbDO6"
   },
   "outputs": [],
   "source": []
  },
  {
   "cell_type": "markdown",
   "metadata": {
    "id": "qXUBfCONOdID"
   },
   "source": [
    "# 05과 범주형변수"
   ]
  },
  {
   "cell_type": "markdown",
   "metadata": {
    "id": "USoehZs-sXTn"
   },
   "source": [
    "<img src='https://github.com/DA4BAM/image/blob/main/%EB%8B%A8%EB%B3%80%EB%9F%89%EB%B6%84%EC%84%9D.png?raw=true' width=400/>"
   ]
  },
  {
   "cell_type": "markdown",
   "metadata": {
    "id": "hB1wvGwWsXTn"
   },
   "source": [
    "## 1.라이브러리 불러오기"
   ]
  },
  {
   "cell_type": "code",
   "execution_count": null,
   "metadata": {
    "id": "tQI8OU7xsXTn"
   },
   "outputs": [],
   "source": [
    "import matplotlib.pyplot as plt\n",
    "import numpy as np\n",
    "import pandas as pd"
   ]
  },
  {
   "cell_type": "markdown",
   "metadata": {
    "id": "h1wBK63N7OvI"
   },
   "source": [
    "## 2.범주형변수의 기초 통계량"
   ]
  },
  {
   "cell_type": "markdown",
   "metadata": {
    "id": "cQ6NjkCB2C-_"
   },
   "source": [
    "* 범주형 변수는 범주별 빈도수와 비율을 확인합니다.\n",
    "* 리스트.count(‘값’) \n",
    "    * 해당 값이 몇 개 있는지 count 해 줍니다.\n",
    "    * Count를 전체 개수(len(gender))로 나눠주면 비율이 됩니다.\n",
    "    * 그런데, 범주가 두 세 개 정도면\u000b",
    "이렇게 계산하는 게 가능합니다.\n",
    "    * 만약 범주가 10개라면?\n"
   ]
  },
  {
   "cell_type": "markdown",
   "metadata": {
    "id": "hZtG2Zfx-yz6"
   },
   "source": [
    "1) 리스트를 이용한 기초통계량"
   ]
  },
  {
   "cell_type": "code",
   "execution_count": null,
   "metadata": {
    "colab": {
     "base_uri": "https://localhost:8080/"
    },
    "executionInfo": {
     "elapsed": 11,
     "status": "ok",
     "timestamp": 1644409988279,
     "user": {
      "displayName": "한기영",
      "photoUrl": "https://lh3.googleusercontent.com/a/default-user=s64",
      "userId": "13049187003176135487"
     },
     "user_tz": -540
    },
    "id": "b9gUzLn2OdIE",
    "outputId": "9e6d6a09-3e82-4ab5-86e5-796939ac5a73"
   },
   "outputs": [
    {
     "name": "stdout",
     "output_type": "stream",
     "text": [
      "F 5 0.5555555555555556\n",
      "M 4 0.4444444444444444\n"
     ]
    }
   ],
   "source": [
    "gender = ['F','M','F','F','F','M','F','M','M']\n",
    "\n",
    "f_cnt = gender.count('F')\n",
    "m_cnt = gender.count('M')\n",
    "total_cnt = len(gender)\n",
    "\n",
    "print('F', f_cnt, f_cnt/total_cnt)\n",
    "print('M', m_cnt, m_cnt/total_cnt)"
   ]
  },
  {
   "cell_type": "markdown",
   "metadata": {
    "id": "sY8hD-EF-2xp"
   },
   "source": [
    "2) 판다스를 이용한 기초통계량\n",
    "\n",
    "* 판다스의 .value_counts()\n",
    "    * 범주의 개수와 상관 없이 범주 별 개수를 count 해 줍니다."
   ]
  },
  {
   "cell_type": "code",
   "execution_count": null,
   "metadata": {
    "colab": {
     "base_uri": "https://localhost:8080/"
    },
    "executionInfo": {
     "elapsed": 10,
     "status": "ok",
     "timestamp": 1644409988280,
     "user": {
      "displayName": "한기영",
      "photoUrl": "https://lh3.googleusercontent.com/a/default-user=s64",
      "userId": "13049187003176135487"
     },
     "user_tz": -540
    },
    "id": "LKQYHsYN-14z",
    "outputId": "35159c0a-f8a9-4768-aa8a-bcecde6f0e12"
   },
   "outputs": [
    {
     "name": "stdout",
     "output_type": "stream",
     "text": [
      "F    5\n",
      "M    4\n",
      "dtype: int64\n",
      "F    0.555556\n",
      "M    0.444444\n",
      "dtype: float64\n"
     ]
    }
   ],
   "source": [
    "gender = ['F','M','F','F','F','M','F','M','M']\n",
    "gender = pd.Series(gender)\n",
    "\n",
    "print(gender.value_counts())\n",
    "print(gender.value_counts()/len(gender))"
   ]
  },
  {
   "cell_type": "markdown",
   "metadata": {
    "id": "-WMl2W3j_hmx"
   },
   "source": [
    "3) 데이터프레임으로 부터"
   ]
  },
  {
   "cell_type": "code",
   "execution_count": null,
   "metadata": {
    "colab": {
     "base_uri": "https://localhost:8080/"
    },
    "executionInfo": {
     "elapsed": 472,
     "status": "ok",
     "timestamp": 1644410027013,
     "user": {
      "displayName": "한기영",
      "photoUrl": "https://lh3.googleusercontent.com/a/default-user=s64",
      "userId": "13049187003176135487"
     },
     "user_tz": -540
    },
    "id": "Be3ZI4nx_hez",
    "outputId": "e6d32a18-44e2-4b96-81b0-7f61bec5686e"
   },
   "outputs": [
    {
     "name": "stdout",
     "output_type": "stream",
     "text": [
      "3    491\n",
      "1    216\n",
      "2    184\n",
      "Name: Pclass, dtype: int64\n",
      "--------------------------------------------------\n",
      "3    0.551066\n",
      "1    0.242424\n",
      "2    0.206510\n",
      "Name: Pclass, dtype: float64\n"
     ]
    }
   ],
   "source": [
    "titanic = pd.read_csv('https://raw.githubusercontent.com/DA4BAM/dataset/master/titanic_simple.csv')\n",
    "\n",
    "print(titanic['Pclass'].value_counts())\n",
    "print('-'*50)\n",
    "print(titanic['Pclass'].value_counts()/len(titanic['Pclass']))"
   ]
  },
  {
   "cell_type": "markdown",
   "metadata": {
    "id": "5yvn-evr2TpT"
   },
   "source": [
    "* titanic['Pclass’] 해석\n",
    "    * .value_counts()를 이용하여 범주별 빈도수와 범주별 비율을 구할수 있습니다.\n",
    "    * 3등급 객실 탑승객이 전체에서 55% 차지합니다.\n",
    "    * 1등급 객실이 24%, 2등급 객실이 20.7 % \n",
    "\n"
   ]
  },
  {
   "cell_type": "markdown",
   "metadata": {
    "id": "LPMBILv_sXTo"
   },
   "source": [
    "<img src='https://raw.githubusercontent.com/jangrae/img/master/practice_01.png' width=120 align=\"left\"/>"
   ]
  },
  {
   "cell_type": "markdown",
   "metadata": {
    "id": "PJDA8XAS_nlh"
   },
   "source": [
    "1) 리스트로 부터 기초통계량 구하기"
   ]
  },
  {
   "cell_type": "code",
   "execution_count": null,
   "metadata": {
    "colab": {
     "base_uri": "https://localhost:8080/"
    },
    "executionInfo": {
     "elapsed": 311,
     "status": "ok",
     "timestamp": 1642215260822,
     "user": {
      "displayName": "한기영",
      "photoUrl": "https://lh3.googleusercontent.com/a/default-user=s64",
      "userId": "13049187003176135487"
     },
     "user_tz": -540
    },
    "id": "RuUh8ldh_urh",
    "outputId": "da6d35be-a350-4d4a-8b22-70dda67e6f74"
   },
   "outputs": [
    {
     "name": "stdout",
     "output_type": "stream",
     "text": [
      "A 3 0.3333333333333333\n",
      "B 4 0.4444444444444444\n",
      "C 4 0.4444444444444444\n"
     ]
    }
   ],
   "source": [
    "grade = ['A','A','B','A','B','B','B','C','C']\n",
    "\n",
    "# 위 리스트의 각 값에 대한 기초통계량을 구해 봅시다.\n",
    "g_A = grade.count('A')\n",
    "g_B = grade.count('B')\n",
    "g_C = grade.count('C')\n",
    "total_cnt = len(grade)\n",
    "\n",
    "print('A', g_A, g_A/total_cnt)\n",
    "print('B', g_B, g_B/total_cnt)\n",
    "print('C', g_C, g_C/total_cnt)"
   ]
  },
  {
   "cell_type": "markdown",
   "metadata": {
    "id": "OheyYBJi_z_p"
   },
   "source": [
    "2) 데이터 프레임으로 부터 기초통계량 구하기"
   ]
  },
  {
   "cell_type": "code",
   "execution_count": null,
   "metadata": {
    "colab": {
     "base_uri": "https://localhost:8080/"
    },
    "executionInfo": {
     "elapsed": 4,
     "status": "ok",
     "timestamp": 1642215277081,
     "user": {
      "displayName": "한기영",
      "photoUrl": "https://lh3.googleusercontent.com/a/default-user=s64",
      "userId": "13049187003176135487"
     },
     "user_tz": -540
    },
    "id": "HlEHcvYH_nb5",
    "outputId": "6e256bee-8d84-496e-e4e3-1eed6dda0a83"
   },
   "outputs": [
    {
     "data": {
      "text/plain": [
       "count    714.000000\n",
       "mean      29.699118\n",
       "std       14.526497\n",
       "min        0.420000\n",
       "25%       20.125000\n",
       "50%       28.000000\n",
       "75%       38.000000\n",
       "max       80.000000\n",
       "Name: Age, dtype: float64"
      ]
     },
     "execution_count": 31,
     "metadata": {},
     "output_type": "execute_result"
    }
   ],
   "source": [
    "titanic = pd.read_csv('https://raw.githubusercontent.com/DA4BAM/dataset/master/titanic_simple.csv')\n",
    "\n",
    "# 성별에 대한 기초 통계량을 구해 봅시다.\n",
    "\n"
   ]
  },
  {
   "cell_type": "markdown",
   "metadata": {
    "id": "uvkAWxOX9us8"
   },
   "source": [
    "## 3.범주형변수의 시각화 - bar chart"
   ]
  },
  {
   "cell_type": "markdown",
   "metadata": {
    "id": "rDXTimrr_90B"
   },
   "source": [
    "1) 기본 bar chart"
   ]
  },
  {
   "cell_type": "code",
   "execution_count": null,
   "metadata": {
    "colab": {
     "base_uri": "https://localhost:8080/",
     "height": 265
    },
    "executionInfo": {
     "elapsed": 4,
     "status": "ok",
     "timestamp": 1642215129290,
     "user": {
      "displayName": "한기영",
      "photoUrl": "https://lh3.googleusercontent.com/a/default-user=s64",
      "userId": "13049187003176135487"
     },
     "user_tz": -540
    },
    "id": "7Tf6a9myOdIF",
    "outputId": "121658e5-ba1a-4fe4-ec46-d236566750ec",
    "scrolled": true
   },
   "outputs": [
    {
     "data": {
      "image/png": "[encoded data removed]",
      "text/plain": [
       "<Figure size 432x288 with 1 Axes>"
      ]
     },
     "metadata": {
      "needs_background": "light"
     },
     "output_type": "display_data"
    }
   ],
   "source": [
    "gender = ['F','M']\n",
    "cnt = [6, 5]\n",
    "\n",
    "plt.bar(gender, cnt)\n",
    "plt.show()"
   ]
  },
  {
   "cell_type": "markdown",
   "metadata": {
    "id": "n8CaRshPANuy"
   },
   "source": [
    "2) bar chart 옆으로 그리기"
   ]
  },
  {
   "cell_type": "code",
   "execution_count": null,
   "metadata": {
    "colab": {
     "base_uri": "https://localhost:8080/",
     "height": 265
    },
    "executionInfo": {
     "elapsed": 500,
     "status": "ok",
     "timestamp": 1642215129787,
     "user": {
      "displayName": "한기영",
      "photoUrl": "https://lh3.googleusercontent.com/a/default-user=s64",
      "userId": "13049187003176135487"
     },
     "user_tz": -540
    },
    "id": "CgTPBEuhAOCw",
    "outputId": "9252bbad-aae7-4e14-9f03-18baed1e1e9d"
   },
   "outputs": [
    {
     "data": {
      "image/png": "[encoded data removed]",
      "text/plain": [
       "<Figure size 432x288 with 1 Axes>"
      ]
     },
     "metadata": {
      "needs_background": "light"
     },
     "output_type": "display_data"
    }
   ],
   "source": [
    "gender = ['F','M']\n",
    "cnt = [6, 5]\n",
    "\n",
    "plt.barh(gender, cnt)\n",
    "plt.show()"
   ]
  },
  {
   "cell_type": "markdown",
   "metadata": {
    "id": "EDW9XsNQATGR"
   },
   "source": [
    "3) 판다스 이용하기\n",
    "\n",
    "* 범주 이름과 값이 필요하므로, 집계작업이 선행되어야 함.\n",
    "* 판다스의 value_counts()를 사용하여 집계\n",
    "    * 집계결과의 index : 범주 이름\n",
    "    * 집계결과의 values : 값\n"
   ]
  },
  {
   "cell_type": "code",
   "execution_count": null,
   "metadata": {
    "colab": {
     "base_uri": "https://localhost:8080/",
     "height": 302
    },
    "executionInfo": {
     "elapsed": 8,
     "status": "ok",
     "timestamp": 1642215129787,
     "user": {
      "displayName": "한기영",
      "photoUrl": "https://lh3.googleusercontent.com/a/default-user=s64",
      "userId": "13049187003176135487"
     },
     "user_tz": -540
    },
    "id": "ogo4QMHHATZJ",
    "outputId": "25ff80f4-e644-4646-88b1-5591a7fb5ab3"
   },
   "outputs": [
    {
     "name": "stdout",
     "output_type": "stream",
     "text": [
      "[5 4]\n",
      "Index(['F', 'M'], dtype='object')\n"
     ]
    },
    {
     "data": {
      "image/png": "[encoded data removed]",
      "text/plain": [
       "<Figure size 432x288 with 1 Axes>"
      ]
     },
     "metadata": {
      "needs_background": "light"
     },
     "output_type": "display_data"
    }
   ],
   "source": [
    "gender = ['F','M','F','F','F','M','F','M','M']\n",
    "gender = pd.Series(gender)\n",
    "\n",
    "cnt = gender.value_counts()\n",
    "print(cnt.values)\n",
    "print(cnt.index)\n",
    "\n",
    "plt.barh(cnt.index, cnt.values)\n",
    "plt.show()"
   ]
  },
  {
   "cell_type": "markdown",
   "metadata": {
    "id": "O-tdMLH6AY5w"
   },
   "source": [
    "4) 꾸미기 - 색깔, 간격"
   ]
  },
  {
   "cell_type": "code",
   "execution_count": null,
   "metadata": {
    "colab": {
     "base_uri": "https://localhost:8080/",
     "height": 265
    },
    "executionInfo": {
     "elapsed": 8,
     "status": "ok",
     "timestamp": 1642215129788,
     "user": {
      "displayName": "한기영",
      "photoUrl": "https://lh3.googleusercontent.com/a/default-user=s64",
      "userId": "13049187003176135487"
     },
     "user_tz": -540
    },
    "id": "8dlWLGWVAZSp",
    "outputId": "9d9e9168-1c2e-4572-e0fa-c1bc77a84e2c"
   },
   "outputs": [
    {
     "data": {
      "image/png": "[encoded data removed]",
      "text/plain": [
       "<Figure size 432x288 with 1 Axes>"
      ]
     },
     "metadata": {
      "needs_background": "light"
     },
     "output_type": "display_data"
    }
   ],
   "source": [
    "gender = ['F','M']\n",
    "cnt = [6, 5]\n",
    "\n",
    "plt.bar(gender, cnt, color = ['g','r'], width = .3)\n",
    "plt.show()"
   ]
  },
  {
   "cell_type": "markdown",
   "metadata": {
    "id": "oVKIYiknAeF0"
   },
   "source": [
    "<img src='https://raw.githubusercontent.com/jangrae/img/master/practice_01.png' width=120 align=\"left\"/>"
   ]
  },
  {
   "cell_type": "markdown",
   "metadata": {
    "id": "6RcIC1kMAeF0"
   },
   "source": [
    "1) titanic의 Pclass에 대한 bar chart를 그리시오.\n",
    "* 색깔 : g, r, b "
   ]
  },
  {
   "cell_type": "code",
   "execution_count": null,
   "metadata": {
    "colab": {
     "base_uri": "https://localhost:8080/",
     "height": 265
    },
    "executionInfo": {
     "elapsed": 930,
     "status": "ok",
     "timestamp": 1642215934163,
     "user": {
      "displayName": "한기영",
      "photoUrl": "https://lh3.googleusercontent.com/a/default-user=s64",
      "userId": "13049187003176135487"
     },
     "user_tz": -540
    },
    "id": "Wxy_-ALkAeF0",
    "outputId": "1f1a25b1-2a90-4d43-8788-43f1f35138c9"
   },
   "outputs": [
    {
     "data": {
      "image/png": "[encoded data removed]",
      "text/plain": [
       "<Figure size 432x288 with 1 Axes>"
      ]
     },
     "metadata": {
      "needs_background": "light"
     },
     "output_type": "display_data"
    }
   ],
   "source": [
    "cnt = titanic['Pclass'].value_counts()\n",
    "\n",
    "plt.bar(cnt.index, cnt.values, color = ['g','r','b'])\n",
    "plt.show()"
   ]
  },
  {
   "cell_type": "markdown",
   "metadata": {
    "id": "ypCiFedx_hkk"
   },
   "source": [
    "## 4.범주형변수의 시각화 - pie chart"
   ]
  },
  {
   "cell_type": "markdown",
   "metadata": {
    "id": "5-8c9xcG2s9z"
   },
   "source": [
    "* 범주별 비율 비교할 때 파이차트 사용.\n",
    "* 역시 먼지 집계를 해야 합니다.\n",
    "* plt.pie( 값, labels=범주이름, autopct = ‘%.2f%%’)\n",
    "    * autopct = ‘%**.2f%**%’ : 그래프에 표시할 값 비율 값에 대한 설정입니다.\n",
    "        * **.2f%** : 소수점 두 자리 퍼센트로 표기 한다는 의미.\n"
   ]
  },
  {
   "cell_type": "markdown",
   "metadata": {
    "id": "SGu4aCTkAwzZ"
   },
   "source": [
    "1) pie chart 기본"
   ]
  },
  {
   "cell_type": "code",
   "execution_count": null,
   "metadata": {
    "colab": {
     "base_uri": "https://localhost:8080/",
     "height": 248
    },
    "executionInfo": {
     "elapsed": 9,
     "status": "ok",
     "timestamp": 1642215130216,
     "user": {
      "displayName": "한기영",
      "photoUrl": "https://lh3.googleusercontent.com/a/default-user=s64",
      "userId": "13049187003176135487"
     },
     "user_tz": -540
    },
    "id": "kbNvoNKSOdIG",
    "outputId": "2395235b-6c4e-4a6a-9f18-1e3adf436f22"
   },
   "outputs": [
    {
     "data": {
      "image/png": "[encoded data removed]",
      "text/plain": [
       "<Figure size 432x288 with 1 Axes>"
      ]
     },
     "metadata": {},
     "output_type": "display_data"
    }
   ],
   "source": [
    "gender = ['F','M','F','F','F','M','F','M','M']\n",
    "gender = pd.Series(gender)\n",
    "\n",
    "cnt = gender.value_counts()\n",
    "\n",
    "plt.pie(cnt.values, labels = cnt.index, autopct = '%.2f%%')\n",
    "plt.show()"
   ]
  },
  {
   "cell_type": "markdown",
   "metadata": {
    "id": "K3WMix48A1ng"
   },
   "source": [
    "2) pie chart 꾸미기 1\n",
    "\n",
    "* 각도와 방향 조정\n",
    "    * startangle = 90 : 90도 부터 시작\n",
    "    * counterclock = False : 시계 방향으로"
   ]
  },
  {
   "cell_type": "code",
   "execution_count": null,
   "metadata": {
    "colab": {
     "base_uri": "https://localhost:8080/",
     "height": 248
    },
    "executionInfo": {
     "elapsed": 9,
     "status": "ok",
     "timestamp": 1642215130217,
     "user": {
      "displayName": "한기영",
      "photoUrl": "https://lh3.googleusercontent.com/a/default-user=s64",
      "userId": "13049187003176135487"
     },
     "user_tz": -540
    },
    "id": "tBml4tvzA13Z",
    "outputId": "fcc7fae5-f6b6-42cd-a059-94353d2b3006"
   },
   "outputs": [
    {
     "data": {
      "image/png": "[encoded data removed]",
      "text/plain": [
       "<Figure size 432x288 with 1 Axes>"
      ]
     },
     "metadata": {},
     "output_type": "display_data"
    }
   ],
   "source": [
    "gender = ['F','M','F','F','F','M','F','M','M']\n",
    "gender = pd.Series(gender)\n",
    "\n",
    "cnt = gender.value_counts()\n",
    "\n",
    "plt.pie(cnt.values, labels = cnt.index, autopct = '%.2f%%', \n",
    "        startangle=90, counterclock=False)\n",
    "plt.show()"
   ]
  },
  {
   "cell_type": "markdown",
   "metadata": {
    "id": "nH8-9uLeA7GA"
   },
   "source": [
    "3) pie chart 꾸미기 2\n",
    "\n",
    "* 간격 띄우고, 그림자 넣기\n",
    "    * explode = [0.05, 0.05] : 중심으로 부터 F와 M 을 얼마만큼 띄울지\n",
    "    * shadow = True : 그림자 추가\n",
    "\n"
   ]
  },
  {
   "cell_type": "code",
   "execution_count": null,
   "metadata": {
    "colab": {
     "base_uri": "https://localhost:8080/",
     "height": 248
    },
    "executionInfo": {
     "elapsed": 8,
     "status": "ok",
     "timestamp": 1642215130217,
     "user": {
      "displayName": "한기영",
      "photoUrl": "https://lh3.googleusercontent.com/a/default-user=s64",
      "userId": "13049187003176135487"
     },
     "user_tz": -540
    },
    "id": "bYso7JIGA8K4",
    "outputId": "0a8eff7c-b211-425e-e444-d5b1ea15e2d0"
   },
   "outputs": [
    {
     "data": {
      "image/png": "[encoded data removed]",
      "text/plain": [
       "<Figure size 432x288 with 1 Axes>"
      ]
     },
     "metadata": {},
     "output_type": "display_data"
    }
   ],
   "source": [
    "gender = ['F','M','F','F','F','M','F','M','M']\n",
    "gender = pd.Series(gender)\n",
    "\n",
    "cnt = gender.value_counts()\n",
    "\n",
    "plt.pie(cnt.values, labels = cnt.index, autopct = '%.2f%%', \n",
    "        startangle=90, counterclock=False, \n",
    "        explode = [0.05, 0.05], shadow=True)\n",
    "plt.show()\n"
   ]
  },
  {
   "cell_type": "markdown",
   "metadata": {
    "id": "Y47aKdcVBFhJ"
   },
   "source": [
    "<img src='https://raw.githubusercontent.com/jangrae/img/master/practice_01.png' width=120 align=\"left\"/>"
   ]
  },
  {
   "cell_type": "markdown",
   "metadata": {
    "id": "Bdx8CM4wBFhK"
   },
   "source": [
    "1) titanic의 Pclass에 대한 pie chart를 그리시오.\n",
    "* 소수점 1자리까지 비율(%)를 표시하시오."
   ]
  },
  {
   "cell_type": "code",
   "execution_count": null,
   "metadata": {
    "colab": {
     "base_uri": "https://localhost:8080/",
     "height": 248
    },
    "executionInfo": {
     "elapsed": 323,
     "status": "ok",
     "timestamp": 1642215323240,
     "user": {
      "displayName": "한기영",
      "photoUrl": "https://lh3.googleusercontent.com/a/default-user=s64",
      "userId": "13049187003176135487"
     },
     "user_tz": -540
    },
    "id": "z27s2VoQBDSJ",
    "outputId": "4ad5399c-40b9-45fe-b6cd-da77c3860329"
   },
   "outputs": [
    {
     "data": {
      "image/png": "[encoded data removed]",
      "text/plain": [
       "<Figure size 432x288 with 1 Axes>"
      ]
     },
     "metadata": {},
     "output_type": "display_data"
    }
   ],
   "source": [
    "cnt = titanic['Pclass'].value_counts()\n",
    "\n",
    "plt.pie(cnt.values, labels = cnt.index, autopct = '%.1f%%')\n",
    "plt.show()"
   ]
  },
  {
   "cell_type": "markdown",
   "metadata": {
    "id": "-loXm9TFBSjV"
   },
   "source": [
    "2) titanic의 Pclass에 대해, bar, pie chart를 한꺼번에 그리시오.\n",
    "* 소수점 1자리까지 비율(%)를 표시하시오."
   ]
  },
  {
   "cell_type": "code",
   "execution_count": null,
   "metadata": {
    "colab": {
     "base_uri": "https://localhost:8080/",
     "height": 265
    },
    "executionInfo": {
     "elapsed": 5472,
     "status": "ok",
     "timestamp": 1642215135682,
     "user": {
      "displayName": "한기영",
      "photoUrl": "https://lh3.googleusercontent.com/a/default-user=s64",
      "userId": "13049187003176135487"
     },
     "user_tz": -540
    },
    "id": "Vs5kv426OdIH",
    "outputId": "751bce4a-0eb0-41a4-f4b9-5db3b1a5091e",
    "scrolled": false
   },
   "outputs": [
    {
     "data": {
      "image/png": "[encoded data removed]",
      "text/plain": [
       "<Figure size 432x288 with 2 Axes>"
      ]
     },
     "metadata": {
      "needs_background": "light"
     },
     "output_type": "display_data"
    }
   ],
   "source": [
    "cnt = titanic['Pclass'].value_counts()\n",
    "\n",
    "plt.subplot(1,2,1)\n",
    "plt.bar(cnt.index, cnt.values)\n",
    "\n",
    "plt.subplot(1,2,2)\n",
    "plt.pie(cnt.values, labels = cnt.index, autopct = '%.2f%%')\n",
    "plt.show()"
   ]
  },
  {
   "cell_type": "markdown",
   "metadata": {
    "id": "K5uR2Xx1BnMA"
   },
   "source": [
    "## 5.종합실습"
   ]
  },
  {
   "cell_type": "markdown",
   "metadata": {
    "id": "55c4da07"
   },
   "source": [
    "### 1) Titanic\n",
    "\n",
    "* url : 'https://raw.githubusercontent.com/DA4BAM/dataset/master/titanic_simple.csv'"
   ]
  },
  {
   "cell_type": "markdown",
   "metadata": {
    "id": "LEBAByI1sXTt"
   },
   "source": [
    "**[titanic_simple 데이터 셋 정보]**\n",
    "\n",
    "- PassengerId : 승객번호\n",
    "- Survived : 생존여부(1:생존, 0:사망)\n",
    "- Pclass : 객실등급(1:1등급, 2:2등급, 3:3등급)\n",
    "- Name : 승객이름\n",
    "- Sex : 성별(male, female)\n",
    "- Age : 나이\n",
    "- Fare : 운임($)\n",
    "- Embarked : 승선지역(Southhampton, Cherbourg, Queenstown)"
   ]
  },
  {
   "cell_type": "markdown",
   "metadata": {
    "id": "02cb5c6a"
   },
   "source": [
    "① 데이터를 불러와 봅시다."
   ]
  },
  {
   "cell_type": "code",
   "execution_count": null,
   "metadata": {
    "colab": {
     "base_uri": "https://localhost:8080/"
    },
    "executionInfo": {
     "elapsed": 544,
     "status": "ok",
     "timestamp": 1642215136937,
     "user": {
      "displayName": "한기영",
      "photoUrl": "https://lh3.googleusercontent.com/a/default-user=s64",
      "userId": "13049187003176135487"
     },
     "user_tz": -540
    },
    "id": "b11eb6a1",
    "outputId": "30e181ce-a999-42ea-e6e5-88888096c94f"
   },
   "outputs": [
    {
     "name": "stdout",
     "output_type": "stream",
     "text": [
      "   Survived  Pclass     Sex   Age  ...  Embarked  AgeGroup  Family Age_scale1\n",
      "0         0       3    male  22.0  ...         S  Age21_30       2   0.271174\n",
      "1         1       1  female  38.0  ...         C  Age31_40       2   0.472229\n",
      "2         1       3  female  26.0  ...         S  Age21_30       1   0.321438\n",
      "3         1       1  female  35.0  ...         S  Age31_40       2   0.434531\n",
      "4         0       3    male  35.0  ...         S  Age31_40       1   0.434531\n",
      "\n",
      "[5 rows x 11 columns]\n"
     ]
    }
   ],
   "source": [
    "titanic = pd.read_csv( 'https://raw.githubusercontent.com/DA4BAM/dataset/master/titanic_simple.csv')\n",
    "titanic.head()"
   ]
  },
  {
   "cell_type": "markdown",
   "metadata": {
    "id": "a4116c3a"
   },
   "source": [
    "② 티켓 클래스(Pclass)의 범주별 빈도수와 범주별 비율을 구하시오."
   ]
  },
  {
   "cell_type": "code",
   "execution_count": null,
   "metadata": {
    "colab": {
     "base_uri": "https://localhost:8080/"
    },
    "executionInfo": {
     "elapsed": 9,
     "status": "ok",
     "timestamp": 1642215136938,
     "user": {
      "displayName": "한기영",
      "photoUrl": "https://lh3.googleusercontent.com/a/default-user=s64",
      "userId": "13049187003176135487"
     },
     "user_tz": -540
    },
    "id": "546e8742",
    "outputId": "334e961e-b386-499c-8a2b-95cd426bff2c"
   },
   "outputs": [
    {
     "name": "stdout",
     "output_type": "stream",
     "text": [
      "3    491\n",
      "1    216\n",
      "2    184\n",
      "Name: Pclass, dtype: int64\n",
      "3    0.551066\n",
      "1    0.242424\n",
      "2    0.206510\n",
      "Name: Pclass, dtype: float64\n"
     ]
    }
   ],
   "source": [
    "print(titanic['Pclass'].value_counts())\n",
    "print(titanic['Pclass'].value_counts()/len(titanic['Pclass']))"
   ]
  },
  {
   "cell_type": "markdown",
   "metadata": {
    "id": "c60cf35b"
   },
   "source": [
    "③ 티켓 클래스(Pclass)의 범주별 빈도수를 구하고 bar chart와 pie chart를 주어진 결과에 맞게 그리시오."
   ]
  },
  {
   "cell_type": "code",
   "execution_count": null,
   "metadata": {
    "colab": {
     "base_uri": "https://localhost:8080/",
     "height": 265
    },
    "executionInfo": {
     "elapsed": 8,
     "status": "ok",
     "timestamp": 1642215136938,
     "user": {
      "displayName": "한기영",
      "photoUrl": "https://lh3.googleusercontent.com/a/default-user=s64",
      "userId": "13049187003176135487"
     },
     "user_tz": -540
    },
    "id": "9b306c84",
    "outputId": "73ed5bde-2e27-4a1b-8e66-71450d33ad88"
   },
   "outputs": [
    {
     "data": {
      "image/png": "[encoded data removed]",
      "text/plain": [
       "<Figure size 432x288 with 2 Axes>"
      ]
     },
     "metadata": {
      "needs_background": "light"
     },
     "output_type": "display_data"
    }
   ],
   "source": [
    "cnt = titanic['Pclass'].value_counts()\n",
    "\n",
    "plt.subplot(1,2,1)\n",
    "plt.bar(cnt.index, cnt.values)\n",
    "\n",
    "plt.subplot(1,2,2)\n",
    "plt.pie(cnt.values, labels = cnt.index, autopct = '%.2f%%')\n",
    "plt.show()"
   ]
  },
  {
   "cell_type": "markdown",
   "metadata": {
    "id": "UHZwIlDyC-CI"
   },
   "source": [
    "④ 위 분포로 부터 알수 있는 것은?"
   ]
  },
  {
   "cell_type": "code",
   "execution_count": null,
   "metadata": {
    "id": "JsGkPEoxDA7J"
   },
   "outputs": [],
   "source": []
  },
  {
   "cell_type": "markdown",
   "metadata": {
    "id": "75jMMU31e9dO"
   },
   "source": [
    "⑤ 탑승지역(Embarked)의 범주별 빈도수와 범주별 비율을 구하시오."
   ]
  },
  {
   "cell_type": "code",
   "execution_count": null,
   "metadata": {
    "colab": {
     "base_uri": "https://localhost:8080/"
    },
    "executionInfo": {
     "elapsed": 9,
     "status": "ok",
     "timestamp": 1642215136938,
     "user": {
      "displayName": "한기영",
      "photoUrl": "https://lh3.googleusercontent.com/a/default-user=s64",
      "userId": "13049187003176135487"
     },
     "user_tz": -540
    },
    "id": "KpA4nFC5e9dS",
    "outputId": "334e961e-b386-499c-8a2b-95cd426bff2c"
   },
   "outputs": [
    {
     "name": "stdout",
     "output_type": "stream",
     "text": [
      "3    491\n",
      "1    216\n",
      "2    184\n",
      "Name: Pclass, dtype: int64\n",
      "3    0.551066\n",
      "1    0.242424\n",
      "2    0.206510\n",
      "Name: Pclass, dtype: float64\n"
     ]
    }
   ],
   "source": [
    "print(titanic['Embarked'].value_counts())\n",
    "print(titanic['Embarked'].value_counts()/len(titanic['Embarked']))"
   ]
  },
  {
   "cell_type": "markdown",
   "metadata": {
    "id": "JvDQI0Vee9dS"
   },
   "source": [
    "⑥ 탑승지역(Embarked)의 범주별 빈도수를 구하고 bar chart와 pie chart를 주어진 결과에 맞게 그리시오."
   ]
  },
  {
   "cell_type": "code",
   "execution_count": null,
   "metadata": {
    "colab": {
     "base_uri": "https://localhost:8080/",
     "height": 265
    },
    "executionInfo": {
     "elapsed": 8,
     "status": "ok",
     "timestamp": 1642215136938,
     "user": {
      "displayName": "한기영",
      "photoUrl": "https://lh3.googleusercontent.com/a/default-user=s64",
      "userId": "13049187003176135487"
     },
     "user_tz": -540
    },
    "id": "xYsbRz2Be9dT",
    "outputId": "73ed5bde-2e27-4a1b-8e66-71450d33ad88"
   },
   "outputs": [
    {
     "data": {
      "image/png": "[encoded data removed]",
      "text/plain": [
       "<Figure size 432x288 with 2 Axes>"
      ]
     },
     "metadata": {
      "needs_background": "light"
     },
     "output_type": "display_data"
    }
   ],
   "source": [
    "cnt = titanic['Embarked'].value_counts()\n",
    "\n",
    "plt.subplot(1,2,1)\n",
    "plt.bar(cnt.index, cnt.values)\n",
    "\n",
    "plt.subplot(1,2,2)\n",
    "plt.pie(cnt.values, labels = cnt.index, autopct = '%.2f%%')\n",
    "plt.show()"
   ]
  },
  {
   "cell_type": "markdown",
   "metadata": {
    "id": "xcPNPhJ5e9dT"
   },
   "source": [
    "⑦ 위 분포로 부터 알수 있는 것은?"
   ]
  },
  {
   "cell_type": "code",
   "execution_count": null,
   "metadata": {
    "id": "uYPV3Atde9dT"
   },
   "outputs": [],
   "source": []
  },
  {
   "cell_type": "markdown",
   "metadata": {
    "id": "CmskYZoeR_qi"
   },
   "source": [
    "### 2) Attrition\n",
    "\n",
    "* url : https://raw.githubusercontent.com/DA4BAM/dataset/master/Attrition_simple2.CSV"
   ]
  },
  {
   "cell_type": "markdown",
   "metadata": {
    "id": "155flcV-LNEC"
   },
   "source": [
    "**[Attrition 데이터 셋 정보]**\n",
    "\n",
    "|\t구분\t|\t변수 명\t|\t내용\t|\ttype\t|\t비고\t|\n",
    "|\t----\t|\t----\t|\t----\t|\t----\t|\t----\t|\n",
    "|\t**Target**\t|\t**Attrition**\t|\t이직여부, Yes , No\t|\t범주\t| 1- 이직, 0- 잔류\t\t|\n",
    "|\tfeature\t|\tAge\t|\t나이\t|\t숫자\t|\t\t|\n",
    "|\tfeature\t|\tDistanceFromHome\t|\t집-직장 거리\t|\t숫자\t|\t마일\t|\n",
    "|\tfeature\t|\tEmployNumber\t|\t사번\t|\t숫자\t| \t|\n",
    "|\tfeature\t|\tGender\t|\t성별\t|\t범주\t| Male, Female\t\t|\n",
    "|\tfeature\t|\tJobSatisfaction\t|\t직무 만족도\t|\t범주\t|\t1 Low, 2 Medium, 3 High, 4 Very High\t|\n",
    "|\tfeature\t|\tMaritalStatus\t|\t결혼상태\t|\t범주\t| Single, Married, Divorced\t\t|\n",
    "|\tfeature\t|\tMonthlyIncome\t|\t월급\t|\t숫자\t| 달러\t|\n",
    "|\tfeature\t|\tOverTime\t|\t야근여부\t|\t범주\t|\tYes, No\t|\n",
    "|\tfeature\t|\tPercentSalaryHike\t|\t전년대비 급여인상율\t|\t숫자\t|\t%\t|\n",
    "|\tfeature\t|\tTotalWorkingYears\t|\t총 경력 연수\t|\t숫자\t|\t\t|"
   ]
  },
  {
   "cell_type": "markdown",
   "metadata": {
    "id": "jXgQLmo7R_qk"
   },
   "source": [
    "① 데이터를 불러와 봅시다."
   ]
  },
  {
   "cell_type": "code",
   "execution_count": null,
   "metadata": {
    "colab": {
     "base_uri": "https://localhost:8080/",
     "height": 270
    },
    "executionInfo": {
     "elapsed": 624,
     "status": "ok",
     "timestamp": 1644410271279,
     "user": {
      "displayName": "한기영",
      "photoUrl": "https://lh3.googleusercontent.com/a/default-user=s64",
      "userId": "13049187003176135487"
     },
     "user_tz": -540
    },
    "id": "j7kQuTvkR_qk",
    "outputId": "dcd9cf77-14d6-45e0-c893-3af9282c9f8a"
   },
   "outputs": [
    {
     "data": {
      "text/html": [
       "\n",
       "  <div id=\"df-f44e0324-fd9b-402d-bb95-d5f3b6baf6ea\">\n",
       "    <div class=\"colab-df-container\">\n",
       "      <div>\n",
       "<style scoped>\n",
       "    .dataframe tbody tr th:only-of-type {\n",
       "        vertical-align: middle;\n",
       "    }\n",
       "\n",
       "    .dataframe tbody tr th {\n",
       "        vertical-align: top;\n",
       "    }\n",
       "\n",
       "    .dataframe thead th {\n",
       "        text-align: right;\n",
       "    }\n",
       "</style>\n",
       "<table border=\"1\" class=\"dataframe\">\n",
       "  <thead>\n",
       "    <tr style=\"text-align: right;\">\n",
       "      <th></th>\n",
       "      <th>Attrition</th>\n",
       "      <th>Age</th>\n",
       "      <th>DistanceFromHome</th>\n",
       "      <th>EmployeeNumber</th>\n",
       "      <th>Gender</th>\n",
       "      <th>JobSatisfaction</th>\n",
       "      <th>MaritalStatus</th>\n",
       "      <th>MonthlyIncome</th>\n",
       "      <th>OverTime</th>\n",
       "      <th>PercentSalaryHike</th>\n",
       "      <th>TotalWorkingYears</th>\n",
       "    </tr>\n",
       "  </thead>\n",
       "  <tbody>\n",
       "    <tr>\n",
       "      <th>0</th>\n",
       "      <td>0</td>\n",
       "      <td>33</td>\n",
       "      <td>7</td>\n",
       "      <td>817</td>\n",
       "      <td>Male</td>\n",
       "      <td>3</td>\n",
       "      <td>Married</td>\n",
       "      <td>11691</td>\n",
       "      <td>No</td>\n",
       "      <td>11</td>\n",
       "      <td>14</td>\n",
       "    </tr>\n",
       "    <tr>\n",
       "      <th>1</th>\n",
       "      <td>0</td>\n",
       "      <td>35</td>\n",
       "      <td>18</td>\n",
       "      <td>1412</td>\n",
       "      <td>Male</td>\n",
       "      <td>4</td>\n",
       "      <td>Single</td>\n",
       "      <td>9362</td>\n",
       "      <td>No</td>\n",
       "      <td>11</td>\n",
       "      <td>10</td>\n",
       "    </tr>\n",
       "    <tr>\n",
       "      <th>2</th>\n",
       "      <td>0</td>\n",
       "      <td>42</td>\n",
       "      <td>6</td>\n",
       "      <td>1911</td>\n",
       "      <td>Male</td>\n",
       "      <td>1</td>\n",
       "      <td>Married</td>\n",
       "      <td>13348</td>\n",
       "      <td>No</td>\n",
       "      <td>13</td>\n",
       "      <td>18</td>\n",
       "    </tr>\n",
       "    <tr>\n",
       "      <th>3</th>\n",
       "      <td>0</td>\n",
       "      <td>46</td>\n",
       "      <td>2</td>\n",
       "      <td>1204</td>\n",
       "      <td>Female</td>\n",
       "      <td>1</td>\n",
       "      <td>Married</td>\n",
       "      <td>17048</td>\n",
       "      <td>No</td>\n",
       "      <td>23</td>\n",
       "      <td>28</td>\n",
       "    </tr>\n",
       "    <tr>\n",
       "      <th>4</th>\n",
       "      <td>1</td>\n",
       "      <td>22</td>\n",
       "      <td>4</td>\n",
       "      <td>593</td>\n",
       "      <td>Male</td>\n",
       "      <td>3</td>\n",
       "      <td>Single</td>\n",
       "      <td>3894</td>\n",
       "      <td>No</td>\n",
       "      <td>16</td>\n",
       "      <td>4</td>\n",
       "    </tr>\n",
       "  </tbody>\n",
       "</table>\n",
       "</div>\n",
       "      <button class=\"colab-df-convert\" onclick=\"convertToInteractive('df-f44e0324-fd9b-402d-bb95-d5f3b6baf6ea')\"\n",
       "              title=\"Convert this dataframe to an interactive table.\"\n",
       "              style=\"display:none;\">\n",
       "        \n",
       "  <svg xmlns=\"http://www.w3.org/2000/svg\" height=\"24px\"viewBox=\"0 0 24 24\"\n",
       "       width=\"24px\">\n",
       "    <path d=\"M0 0h24v24H0V0z\" fill=\"none\"/>\n",
       "    <path d=\"M18.56 5.44l.94 2.06.94-2.06 2.06-.94-2.06-.94-.94-2.06-.94 2.06-2.06.94zm-11 1L8.5 8.5l.94-2.06 2.06-.94-2.06-.94L8.5 2.5l-.94 2.06-2.06.94zm10 10l.94 2.06.94-2.06 2.06-.94-2.06-.94-.94-2.06-.94 2.06-2.06.94z\"/><path d=\"M17.41 7.96l-1.37-1.37c-.4-.4-.92-.59-1.43-.59-.52 0-1.04.2-1.43.59L10.3 9.45l-7.72 7.72c-.78.78-.78 2.05 0 2.83L4 21.41c.39.39.9.59 1.41.59.51 0 1.02-.2 1.41-.59l7.78-7.78 2.81-2.81c.8-.78.8-2.07 0-2.86zM5.41 20L4 18.59l7.72-7.72 1.47 1.35L5.41 20z\"/>\n",
       "  </svg>\n",
       "      </button>\n",
       "      \n",
       "  <style>\n",
       "    .colab-df-container {\n",
       "      display:flex;\n",
       "      flex-wrap:wrap;\n",
       "      gap: 12px;\n",
       "    }\n",
       "\n",
       "    .colab-df-convert {\n",
       "      background-color: #E8F0FE;\n",
       "      border: none;\n",
       "      border-radius: 50%;\n",
       "      cursor: pointer;\n",
       "      display: none;\n",
       "      fill: #1967D2;\n",
       "      height: 32px;\n",
       "      padding: 0 0 0 0;\n",
       "      width: 32px;\n",
       "    }\n",
       "\n",
       "    .colab-df-convert:hover {\n",
       "      background-color: #E2EBFA;\n",
       "      box-shadow: 0px 1px 2px rgba(60, 64, 67, 0.3), 0px 1px 3px 1px rgba(60, 64, 67, 0.15);\n",
       "      fill: #174EA6;\n",
       "    }\n",
       "\n",
       "    [theme=dark] .colab-df-convert {\n",
       "      background-color: #3B4455;\n",
       "      fill: #D2E3FC;\n",
       "    }\n",
       "\n",
       "    [theme=dark] .colab-df-convert:hover {\n",
       "      background-color: #434B5C;\n",
       "      box-shadow: 0px 1px 3px 1px rgba(0, 0, 0, 0.15);\n",
       "      filter: drop-shadow(0px 1px 2px rgba(0, 0, 0, 0.3));\n",
       "      fill: #FFFFFF;\n",
       "    }\n",
       "  </style>\n",
       "\n",
       "      <script>\n",
       "        const buttonEl =\n",
       "          document.querySelector('#df-f44e0324-fd9b-402d-bb95-d5f3b6baf6ea button.colab-df-convert');\n",
       "        buttonEl.style.display =\n",
       "          google.colab.kernel.accessAllowed ? 'block' : 'none';\n",
       "\n",
       "        async function convertToInteractive(key) {\n",
       "          const element = document.querySelector('#df-f44e0324-fd9b-402d-bb95-d5f3b6baf6ea');\n",
       "          const dataTable =\n",
       "            await google.colab.kernel.invokeFunction('convertToInteractive',\n",
       "                                                     [key], {});\n",
       "          if (!dataTable) return;\n",
       "\n",
       "          const docLinkHtml = 'Like what you see? Visit the ' +\n",
       "            '<a target=\"_blank\" href=https://colab.research.google.com/notebooks/data_table.ipynb>data table notebook</a>'\n",
       "            + ' to learn more about interactive tables.';\n",
       "          element.innerHTML = '';\n",
       "          dataTable['output_type'] = 'display_data';\n",
       "          await google.colab.output.renderOutput(dataTable, element);\n",
       "          const docLink = document.createElement('div');\n",
       "          docLink.innerHTML = docLinkHtml;\n",
       "          element.appendChild(docLink);\n",
       "        }\n",
       "      </script>\n",
       "    </div>\n",
       "  </div>\n",
       "  "
      ],
      "text/plain": [
       "   Attrition  Age  ...  PercentSalaryHike  TotalWorkingYears\n",
       "0          0   33  ...                 11                 14\n",
       "1          0   35  ...                 11                 10\n",
       "2          0   42  ...                 13                 18\n",
       "3          0   46  ...                 23                 28\n",
       "4          1   22  ...                 16                  4\n",
       "\n",
       "[5 rows x 11 columns]"
      ]
     },
     "execution_count": 6,
     "metadata": {},
     "output_type": "execute_result"
    }
   ],
   "source": [
    "attrition = pd.read_csv('https://raw.githubusercontent.com/DA4BAM/dataset/master/Attrition_simple2.CSV')\n",
    "attrition.head()"
   ]
  },
  {
   "cell_type": "markdown",
   "metadata": {
    "id": "mnBhCY3OR_qm"
   },
   "source": [
    "② MaritalStatus\t의 범주별 빈도수와 범주별 비율을 구하시오."
   ]
  },
  {
   "cell_type": "code",
   "execution_count": null,
   "metadata": {
    "colab": {
     "base_uri": "https://localhost:8080/"
    },
    "executionInfo": {
     "elapsed": 479,
     "status": "ok",
     "timestamp": 1644410275345,
     "user": {
      "displayName": "한기영",
      "photoUrl": "https://lh3.googleusercontent.com/a/default-user=s64",
      "userId": "13049187003176135487"
     },
     "user_tz": -540
    },
    "id": "ano1cF3PR_qm",
    "outputId": "a6553ce6-587a-4797-b084-b05a9c3d4a14"
   },
   "outputs": [
    {
     "name": "stdout",
     "output_type": "stream",
     "text": [
      "Married     548\n",
      "Single      384\n",
      "Divorced    264\n",
      "Name: MaritalStatus, dtype: int64\n",
      "Married     0.458194\n",
      "Single      0.321070\n",
      "Divorced    0.220736\n",
      "Name: MaritalStatus, dtype: float64\n"
     ]
    }
   ],
   "source": [
    "print(attrition['MaritalStatus'].value_counts())\n",
    "print(attrition['MaritalStatus'].value_counts()/len(attrition['MaritalStatus']))"
   ]
  },
  {
   "cell_type": "markdown",
   "metadata": {
    "id": "UCbkh7P8fUul"
   },
   "source": [
    "③ MaritalStatus의 범주별 빈도수를 구하고 bar chart와 pie chart를 주어진 결과에 맞게 그리시오."
   ]
  },
  {
   "cell_type": "code",
   "execution_count": null,
   "metadata": {
    "colab": {
     "base_uri": "https://localhost:8080/",
     "height": 301
    },
    "executionInfo": {
     "elapsed": 4,
     "status": "ok",
     "timestamp": 1644410295076,
     "user": {
      "displayName": "한기영",
      "photoUrl": "https://lh3.googleusercontent.com/a/default-user=s64",
      "userId": "13049187003176135487"
     },
     "user_tz": -540
    },
    "id": "ATXYn2OVfVcf",
    "outputId": "9645de86-c3e3-4be0-a8a5-1c63a8f8d83a"
   },
   "outputs": [
    {
     "data": {
      "image/png": "[encoded data removed]",
      "text/plain": [
       "<Figure size 432x288 with 2 Axes>"
      ]
     },
     "metadata": {
      "needs_background": "light"
     },
     "output_type": "display_data"
    }
   ],
   "source": [
    "cnt = attrition['MaritalStatus'].value_counts()\n",
    "\n",
    "plt.subplot(1,2,1)\n",
    "plt.bar(cnt.index, cnt.values)\n",
    "plt.xticks(rotation = 80)\n",
    "\n",
    "plt.subplot(1,2,2)\n",
    "plt.pie(cnt.values, labels = cnt.index, autopct = '%.2f%%')\n",
    "plt.show()"
   ]
  },
  {
   "cell_type": "markdown",
   "metadata": {
    "id": "QcUiesPvfj-q"
   },
   "source": [
    "④ 위 분포로 부터 알수 있는 것은?"
   ]
  },
  {
   "cell_type": "code",
   "execution_count": null,
   "metadata": {
    "id": "Dk9IRGdNfj-q"
   },
   "outputs": [],
   "source": []
  },
  {
   "cell_type": "markdown",
   "metadata": {
    "id": "-U4ERO65fuJF"
   },
   "source": [
    "⑤ 직무만족도(JobSatisfaction)\t의 범주별 빈도수와 범주별 비율을 구하시오."
   ]
  },
  {
   "cell_type": "code",
   "execution_count": null,
   "metadata": {
    "colab": {
     "base_uri": "https://localhost:8080/"
    },
    "executionInfo": {
     "elapsed": 466,
     "status": "ok",
     "timestamp": 1644410382650,
     "user": {
      "displayName": "한기영",
      "photoUrl": "https://lh3.googleusercontent.com/a/default-user=s64",
      "userId": "13049187003176135487"
     },
     "user_tz": -540
    },
    "id": "XuA1Q6dYfuJF",
    "outputId": "2168df56-44d4-4627-922d-3933d1475271"
   },
   "outputs": [
    {
     "name": "stdout",
     "output_type": "stream",
     "text": [
      "4    373\n",
      "3    354\n",
      "1    243\n",
      "2    226\n",
      "Name: JobSatisfaction, dtype: int64\n",
      "4    0.311873\n",
      "3    0.295987\n",
      "1    0.203177\n",
      "2    0.188963\n",
      "Name: JobSatisfaction, dtype: float64\n"
     ]
    }
   ],
   "source": [
    "print(attrition['JobSatisfaction'].value_counts())\n",
    "print(attrition['JobSatisfaction'].value_counts()/len(attrition['JobSatisfaction']))"
   ]
  },
  {
   "cell_type": "markdown",
   "metadata": {
    "id": "PbRzMOPwS6gE"
   },
   "source": [
    "⑥ 직무만족도(JobSatisfaction)의 범주별 빈도수를 구하고 bar chart와 pie chart를 주어진 결과에 맞게 그리시오."
   ]
  },
  {
   "cell_type": "code",
   "execution_count": null,
   "metadata": {
    "colab": {
     "base_uri": "https://localhost:8080/",
     "height": 263
    },
    "executionInfo": {
     "elapsed": 742,
     "status": "ok",
     "timestamp": 1644137774764,
     "user": {
      "displayName": "한기영",
      "photoUrl": "https://lh3.googleusercontent.com/a/default-user=s64",
      "userId": "13049187003176135487"
     },
     "user_tz": -540
    },
    "id": "LlUtvTTYS6gF",
    "outputId": "4a8f1016-bc8e-4c2e-e8fb-d947bed39760"
   },
   "outputs": [
    {
     "data": {
      "image/png": "[encoded data removed]",
      "text/plain": [
       "<Figure size 432x288 with 2 Axes>"
      ]
     },
     "metadata": {
      "needs_background": "light"
     },
     "output_type": "display_data"
    }
   ],
   "source": [
    "cnt = attrition['JobSatisfaction'].value_counts()\n",
    "\n",
    "plt.subplot(1,2,1)\n",
    "plt.bar(cnt.index, cnt.values)\n",
    "plt.xticks(rotation = 80)\n",
    "\n",
    "plt.subplot(1,2,2)\n",
    "plt.pie(cnt.values, labels = cnt.index, autopct = '%.2f%%')\n",
    "plt.show()"
   ]
  },
  {
   "cell_type": "markdown",
   "metadata": {
    "id": "PHsXOBoODCV9"
   },
   "source": [
    "⑦ 위 분포로 부터 알수 있는 것은?"
   ]
  },
  {
   "cell_type": "code",
   "execution_count": null,
   "metadata": {
    "id": "_J7WZoEGDCV-"
   },
   "outputs": [],
   "source": []
  }
 ],
 "metadata": {
  "colab": {
   "collapsed_sections": [
    "mVOYUVwYNrob",
    "bBsf1RyPOdHz",
    "qXUBfCONOdID"
   ],
   "name": "AI_02_단변량분석.ipynb",
   "provenance": []
  },
  "kernelspec": {
   "display_name": "Python 3",
   "language": "python",
   "name": "python3"
  },
  "language_info": {
   "codemirror_mode": {
    "name": "ipython",
    "version": 3
   },
   "file_extension": ".py",
   "mimetype": "text/x-python",
   "name": "python",
   "nbconvert_exporter": "python",
   "pygments_lexer": "ipython3",
   "version": "3.8.8"
  }
 },
 "nbformat": 4,
 "nbformat_minor": 1
}
