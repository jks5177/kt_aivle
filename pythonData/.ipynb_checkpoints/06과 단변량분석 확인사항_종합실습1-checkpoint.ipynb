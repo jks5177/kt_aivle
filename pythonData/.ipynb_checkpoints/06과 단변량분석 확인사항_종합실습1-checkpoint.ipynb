{
 "cells": [
  {
   "cell_type": "markdown",
   "metadata": {
    "id": "qXUBfCONOdID"
   },
   "source": [
    "# 06과 단변량분석 추가확인사항"
   ]
  },
  {
   "cell_type": "markdown",
   "metadata": {
    "id": "LS2rtJiJlaF0"
   },
   "source": [
    "## 1.라이브러리 불러오기"
   ]
  },
  {
   "cell_type": "code",
   "execution_count": 1,
   "metadata": {
    "id": "ba319GIZlcFB"
   },
   "outputs": [],
   "source": [
    "import matplotlib.pyplot as plt\n",
    "import numpy as np\n",
    "import pandas as pd"
   ]
  },
  {
   "cell_type": "markdown",
   "metadata": {
    "id": "ox8HObZa3a2O"
   },
   "source": [
    "**단변량 분석 할 때 확인해야 할 점들**\n",
    "\n",
    "* 개별 변수의 분포로 부터…\n",
    "    * 값의 범위 확인\n",
    "    * 데이터가 모여 있는 구간(혹은 범주)와 희박한 구간(혹은 범주) 확인\n",
    "    * 이상치 확인 및 조치 방안\n",
    "    * 결측치 확인 및 조치 방안\n",
    "    * 가변수화, 스케일링 대상 선별\n",
    "\n",
    "* 비즈니스의 일반 사항과 특이사항을 도출\n",
    "    * 추가 분석 대상 도출.\n"
   ]
  },
  {
   "cell_type": "markdown",
   "metadata": {
    "id": "h1wBK63N7OvI"
   },
   "source": [
    "## 2.이상치 식별"
   ]
  },
  {
   "cell_type": "markdown",
   "metadata": {
    "id": "UpZMeb-K3shy"
   },
   "source": [
    "**이상치(Outlier)**  \n",
    "\n",
    "* 대부분의 데이터에서 많이(?) 벗어난 값을 이상치라고 부릅니다.\n",
    "* 대부분의 데이터가 가지고 있는 범위, 패턴에서 벗어난 값으로, 대부분의 데이터와는 다른 메커니즘으로 발생된 데이터 입니다.\n",
    "\n",
    "* 얼마나 벗어나면 이상치일까요?\n",
    "    * 여기에 정답은 없습니다만, 일반적인 기준은 다음과 같습니다.\n",
    "    * 데이터의 분포가 정규분포에 가깝다면, 3 * 표준편차 바깥을 이상치로 보자.\n",
    "    * 박스플롯의 수염 끝 fence 밖의 값들을 이상치로 보자.(정규분포라면 수염의 끝은 대략 3*표준편차와 비슷해 짐)\n",
    "\n",
    "* 모델링에서 이상치를 조치해야 하는 알고리즘과 이상치에 영향을 받지 않는 알고리즘이 있습니다.\n",
    "* 모델링에서 이상치 조치는 필수가 아닙니다.(필요에 따라서…)\n"
   ]
  },
  {
   "cell_type": "markdown",
   "metadata": {
    "id": "DMICDOUjD39Q"
   },
   "source": [
    "1) 이상치 식별 : boxplot 으로부터"
   ]
  },
  {
   "cell_type": "code",
   "execution_count": 2,
   "metadata": {
    "colab": {
     "base_uri": "https://localhost:8080/",
     "height": 302
    },
    "executionInfo": {
     "elapsed": 1497,
     "status": "ok",
     "timestamp": 1644407082357,
     "user": {
      "displayName": "한기영",
      "photoUrl": "https://lh3.googleusercontent.com/a/default-user=s64",
      "userId": "13049187003176135487"
     },
     "user_tz": -540
    },
    "id": "b9gUzLn2OdIE",
    "outputId": "8bb722ce-f767-4957-8388-2b3490c61386"
   },
   "outputs": [
    {
     "name": "stdout",
     "output_type": "stream",
     "text": [
      "[21.77  0.67]\n",
      "[35.9 57. ]\n"
     ]
    },
    {
     "data": {
      "image/png": "[encoded data removed]",
      "text/plain": [
       "<Figure size 432x288 with 1 Axes>"
      ]
     },
     "metadata": {
      "needs_background": "light"
     },
     "output_type": "display_data"
    }
   ],
   "source": [
    "titanic = pd.read_csv('https://raw.githubusercontent.com/DA4BAM/dataset/master/titanic.1.csv')\n",
    "box1 = plt.boxplot(titanic['Age'])\n",
    "\n",
    "print(box1['whiskers'][0].get_ydata()) # 아래쪽 수염의 max, min\n",
    "print(box1['whiskers'][1].get_ydata()) # 위쪽 수염의 min, max\n",
    "\n",
    "lower_fense = box1['whiskers'][0].get_ydata()[1]\n",
    "upper_fense = box1['whiskers'][1].get_ydata()[1]"
   ]
  },
  {
   "cell_type": "code",
   "execution_count": 3,
   "metadata": {
    "colab": {
     "base_uri": "https://localhost:8080/",
     "height": 1000
    },
    "executionInfo": {
     "elapsed": 6,
     "status": "ok",
     "timestamp": 1644407355252,
     "user": {
      "displayName": "한기영",
      "photoUrl": "https://lh3.googleusercontent.com/a/default-user=s64",
      "userId": "13049187003176135487"
     },
     "user_tz": -540
    },
    "id": "Jz0Ofig8ED_u",
    "outputId": "5d9694d9-8d92-4078-a6f5-7b53098d7e75"
   },
   "outputs": [
    {
     "data": {
      "text/html": [
       "<div>\n",
       "<style scoped>\n",
       "    .dataframe tbody tr th:only-of-type {\n",
       "        vertical-align: middle;\n",
       "    }\n",
       "\n",
       "    .dataframe tbody tr th {\n",
       "        vertical-align: top;\n",
       "    }\n",
       "\n",
       "    .dataframe thead th {\n",
       "        text-align: right;\n",
       "    }\n",
       "</style>\n",
       "<table border=\"1\" class=\"dataframe\">\n",
       "  <thead>\n",
       "    <tr style=\"text-align: right;\">\n",
       "      <th></th>\n",
       "      <th>PassengerId</th>\n",
       "      <th>Survived</th>\n",
       "      <th>Pclass</th>\n",
       "      <th>Title</th>\n",
       "      <th>Sex</th>\n",
       "      <th>Age</th>\n",
       "      <th>SibSp</th>\n",
       "      <th>Parch</th>\n",
       "      <th>Ticket</th>\n",
       "      <th>Fare</th>\n",
       "      <th>Cabin</th>\n",
       "      <th>Embarked</th>\n",
       "      <th>AgeGroup</th>\n",
       "      <th>Family</th>\n",
       "      <th>Mother</th>\n",
       "      <th>Fare2</th>\n",
       "    </tr>\n",
       "  </thead>\n",
       "  <tbody>\n",
       "    <tr>\n",
       "      <th>11</th>\n",
       "      <td>12</td>\n",
       "      <td>1</td>\n",
       "      <td>1</td>\n",
       "      <td>Miss</td>\n",
       "      <td>female</td>\n",
       "      <td>58.00</td>\n",
       "      <td>0</td>\n",
       "      <td>0</td>\n",
       "      <td>113783</td>\n",
       "      <td>26.5500</td>\n",
       "      <td>C103</td>\n",
       "      <td>S</td>\n",
       "      <td>Age_50</td>\n",
       "      <td>1</td>\n",
       "      <td>0</td>\n",
       "      <td>26.5500</td>\n",
       "    </tr>\n",
       "    <tr>\n",
       "      <th>33</th>\n",
       "      <td>34</td>\n",
       "      <td>0</td>\n",
       "      <td>2</td>\n",
       "      <td>Mr</td>\n",
       "      <td>male</td>\n",
       "      <td>66.00</td>\n",
       "      <td>0</td>\n",
       "      <td>0</td>\n",
       "      <td>C.A. 24579</td>\n",
       "      <td>10.5000</td>\n",
       "      <td>NaN</td>\n",
       "      <td>S</td>\n",
       "      <td>Age_60</td>\n",
       "      <td>1</td>\n",
       "      <td>0</td>\n",
       "      <td>10.5000</td>\n",
       "    </tr>\n",
       "    <tr>\n",
       "      <th>54</th>\n",
       "      <td>55</td>\n",
       "      <td>0</td>\n",
       "      <td>1</td>\n",
       "      <td>Mr</td>\n",
       "      <td>male</td>\n",
       "      <td>65.00</td>\n",
       "      <td>0</td>\n",
       "      <td>1</td>\n",
       "      <td>113509</td>\n",
       "      <td>61.9792</td>\n",
       "      <td>B30</td>\n",
       "      <td>C</td>\n",
       "      <td>Age_60</td>\n",
       "      <td>2</td>\n",
       "      <td>0</td>\n",
       "      <td>61.9792</td>\n",
       "    </tr>\n",
       "    <tr>\n",
       "      <th>94</th>\n",
       "      <td>95</td>\n",
       "      <td>0</td>\n",
       "      <td>3</td>\n",
       "      <td>Mr</td>\n",
       "      <td>male</td>\n",
       "      <td>59.00</td>\n",
       "      <td>0</td>\n",
       "      <td>0</td>\n",
       "      <td>364500</td>\n",
       "      <td>7.2500</td>\n",
       "      <td>NaN</td>\n",
       "      <td>S</td>\n",
       "      <td>Age_50</td>\n",
       "      <td>1</td>\n",
       "      <td>0</td>\n",
       "      <td>7.2500</td>\n",
       "    </tr>\n",
       "    <tr>\n",
       "      <th>96</th>\n",
       "      <td>97</td>\n",
       "      <td>0</td>\n",
       "      <td>1</td>\n",
       "      <td>Mr</td>\n",
       "      <td>male</td>\n",
       "      <td>71.00</td>\n",
       "      <td>0</td>\n",
       "      <td>0</td>\n",
       "      <td>PC 17754</td>\n",
       "      <td>34.6542</td>\n",
       "      <td>A5</td>\n",
       "      <td>C</td>\n",
       "      <td>Age_70</td>\n",
       "      <td>1</td>\n",
       "      <td>0</td>\n",
       "      <td>34.6542</td>\n",
       "    </tr>\n",
       "    <tr>\n",
       "      <th>116</th>\n",
       "      <td>117</td>\n",
       "      <td>0</td>\n",
       "      <td>3</td>\n",
       "      <td>Mr</td>\n",
       "      <td>male</td>\n",
       "      <td>70.50</td>\n",
       "      <td>0</td>\n",
       "      <td>0</td>\n",
       "      <td>370369</td>\n",
       "      <td>7.7500</td>\n",
       "      <td>NaN</td>\n",
       "      <td>Q</td>\n",
       "      <td>Age_70</td>\n",
       "      <td>1</td>\n",
       "      <td>0</td>\n",
       "      <td>7.7500</td>\n",
       "    </tr>\n",
       "    <tr>\n",
       "      <th>170</th>\n",
       "      <td>171</td>\n",
       "      <td>0</td>\n",
       "      <td>1</td>\n",
       "      <td>Mr</td>\n",
       "      <td>male</td>\n",
       "      <td>61.00</td>\n",
       "      <td>0</td>\n",
       "      <td>0</td>\n",
       "      <td>111240</td>\n",
       "      <td>33.5000</td>\n",
       "      <td>B19</td>\n",
       "      <td>S</td>\n",
       "      <td>Age_60</td>\n",
       "      <td>1</td>\n",
       "      <td>0</td>\n",
       "      <td>33.5000</td>\n",
       "    </tr>\n",
       "    <tr>\n",
       "      <th>195</th>\n",
       "      <td>196</td>\n",
       "      <td>1</td>\n",
       "      <td>1</td>\n",
       "      <td>Miss</td>\n",
       "      <td>female</td>\n",
       "      <td>58.00</td>\n",
       "      <td>0</td>\n",
       "      <td>0</td>\n",
       "      <td>PC 17569</td>\n",
       "      <td>146.5208</td>\n",
       "      <td>B80</td>\n",
       "      <td>C</td>\n",
       "      <td>Age_50</td>\n",
       "      <td>1</td>\n",
       "      <td>0</td>\n",
       "      <td>146.5208</td>\n",
       "    </tr>\n",
       "    <tr>\n",
       "      <th>232</th>\n",
       "      <td>233</td>\n",
       "      <td>0</td>\n",
       "      <td>2</td>\n",
       "      <td>Mr</td>\n",
       "      <td>male</td>\n",
       "      <td>59.00</td>\n",
       "      <td>0</td>\n",
       "      <td>0</td>\n",
       "      <td>237442</td>\n",
       "      <td>13.5000</td>\n",
       "      <td>NaN</td>\n",
       "      <td>S</td>\n",
       "      <td>Age_50</td>\n",
       "      <td>1</td>\n",
       "      <td>0</td>\n",
       "      <td>13.5000</td>\n",
       "    </tr>\n",
       "    <tr>\n",
       "      <th>252</th>\n",
       "      <td>253</td>\n",
       "      <td>0</td>\n",
       "      <td>1</td>\n",
       "      <td>Mr</td>\n",
       "      <td>male</td>\n",
       "      <td>62.00</td>\n",
       "      <td>0</td>\n",
       "      <td>0</td>\n",
       "      <td>113514</td>\n",
       "      <td>26.5500</td>\n",
       "      <td>C87</td>\n",
       "      <td>S</td>\n",
       "      <td>Age_60</td>\n",
       "      <td>1</td>\n",
       "      <td>0</td>\n",
       "      <td>26.5500</td>\n",
       "    </tr>\n",
       "    <tr>\n",
       "      <th>268</th>\n",
       "      <td>269</td>\n",
       "      <td>1</td>\n",
       "      <td>1</td>\n",
       "      <td>Mrs</td>\n",
       "      <td>female</td>\n",
       "      <td>58.00</td>\n",
       "      <td>0</td>\n",
       "      <td>1</td>\n",
       "      <td>PC 17582</td>\n",
       "      <td>153.4625</td>\n",
       "      <td>C125</td>\n",
       "      <td>S</td>\n",
       "      <td>Age_50</td>\n",
       "      <td>2</td>\n",
       "      <td>1</td>\n",
       "      <td>153.4625</td>\n",
       "    </tr>\n",
       "    <tr>\n",
       "      <th>275</th>\n",
       "      <td>276</td>\n",
       "      <td>1</td>\n",
       "      <td>1</td>\n",
       "      <td>Miss</td>\n",
       "      <td>female</td>\n",
       "      <td>63.00</td>\n",
       "      <td>1</td>\n",
       "      <td>0</td>\n",
       "      <td>13502</td>\n",
       "      <td>77.9583</td>\n",
       "      <td>D7</td>\n",
       "      <td>S</td>\n",
       "      <td>Age_60</td>\n",
       "      <td>2</td>\n",
       "      <td>0</td>\n",
       "      <td>77.9583</td>\n",
       "    </tr>\n",
       "    <tr>\n",
       "      <th>280</th>\n",
       "      <td>281</td>\n",
       "      <td>0</td>\n",
       "      <td>3</td>\n",
       "      <td>Mr</td>\n",
       "      <td>male</td>\n",
       "      <td>65.00</td>\n",
       "      <td>0</td>\n",
       "      <td>0</td>\n",
       "      <td>336439</td>\n",
       "      <td>7.7500</td>\n",
       "      <td>NaN</td>\n",
       "      <td>Q</td>\n",
       "      <td>Age_60</td>\n",
       "      <td>1</td>\n",
       "      <td>0</td>\n",
       "      <td>7.7500</td>\n",
       "    </tr>\n",
       "    <tr>\n",
       "      <th>326</th>\n",
       "      <td>327</td>\n",
       "      <td>0</td>\n",
       "      <td>3</td>\n",
       "      <td>Mr</td>\n",
       "      <td>male</td>\n",
       "      <td>61.00</td>\n",
       "      <td>0</td>\n",
       "      <td>0</td>\n",
       "      <td>345364</td>\n",
       "      <td>6.2375</td>\n",
       "      <td>NaN</td>\n",
       "      <td>S</td>\n",
       "      <td>Age_60</td>\n",
       "      <td>1</td>\n",
       "      <td>0</td>\n",
       "      <td>6.2375</td>\n",
       "    </tr>\n",
       "    <tr>\n",
       "      <th>366</th>\n",
       "      <td>367</td>\n",
       "      <td>1</td>\n",
       "      <td>1</td>\n",
       "      <td>Mrs</td>\n",
       "      <td>female</td>\n",
       "      <td>60.00</td>\n",
       "      <td>1</td>\n",
       "      <td>0</td>\n",
       "      <td>110813</td>\n",
       "      <td>75.2500</td>\n",
       "      <td>D37</td>\n",
       "      <td>C</td>\n",
       "      <td>Age_60</td>\n",
       "      <td>2</td>\n",
       "      <td>0</td>\n",
       "      <td>75.2500</td>\n",
       "    </tr>\n",
       "    <tr>\n",
       "      <th>438</th>\n",
       "      <td>439</td>\n",
       "      <td>0</td>\n",
       "      <td>1</td>\n",
       "      <td>Mr</td>\n",
       "      <td>male</td>\n",
       "      <td>64.00</td>\n",
       "      <td>1</td>\n",
       "      <td>4</td>\n",
       "      <td>19950</td>\n",
       "      <td>263.0000</td>\n",
       "      <td>C23 C25 C27</td>\n",
       "      <td>S</td>\n",
       "      <td>Age_60</td>\n",
       "      <td>6</td>\n",
       "      <td>0</td>\n",
       "      <td>164.8667</td>\n",
       "    </tr>\n",
       "    <tr>\n",
       "      <th>456</th>\n",
       "      <td>457</td>\n",
       "      <td>0</td>\n",
       "      <td>1</td>\n",
       "      <td>Mr</td>\n",
       "      <td>male</td>\n",
       "      <td>65.00</td>\n",
       "      <td>0</td>\n",
       "      <td>0</td>\n",
       "      <td>13509</td>\n",
       "      <td>26.5500</td>\n",
       "      <td>E38</td>\n",
       "      <td>S</td>\n",
       "      <td>Age_60</td>\n",
       "      <td>1</td>\n",
       "      <td>0</td>\n",
       "      <td>26.5500</td>\n",
       "    </tr>\n",
       "    <tr>\n",
       "      <th>483</th>\n",
       "      <td>484</td>\n",
       "      <td>1</td>\n",
       "      <td>3</td>\n",
       "      <td>Mrs</td>\n",
       "      <td>female</td>\n",
       "      <td>63.00</td>\n",
       "      <td>0</td>\n",
       "      <td>0</td>\n",
       "      <td>4134</td>\n",
       "      <td>9.5875</td>\n",
       "      <td>NaN</td>\n",
       "      <td>S</td>\n",
       "      <td>Age_60</td>\n",
       "      <td>1</td>\n",
       "      <td>0</td>\n",
       "      <td>9.5875</td>\n",
       "    </tr>\n",
       "    <tr>\n",
       "      <th>487</th>\n",
       "      <td>488</td>\n",
       "      <td>0</td>\n",
       "      <td>1</td>\n",
       "      <td>Mr</td>\n",
       "      <td>male</td>\n",
       "      <td>58.00</td>\n",
       "      <td>0</td>\n",
       "      <td>0</td>\n",
       "      <td>11771</td>\n",
       "      <td>29.7000</td>\n",
       "      <td>B37</td>\n",
       "      <td>C</td>\n",
       "      <td>Age_50</td>\n",
       "      <td>1</td>\n",
       "      <td>0</td>\n",
       "      <td>29.7000</td>\n",
       "    </tr>\n",
       "    <tr>\n",
       "      <th>493</th>\n",
       "      <td>494</td>\n",
       "      <td>0</td>\n",
       "      <td>1</td>\n",
       "      <td>Mr</td>\n",
       "      <td>male</td>\n",
       "      <td>71.00</td>\n",
       "      <td>0</td>\n",
       "      <td>0</td>\n",
       "      <td>PC 17609</td>\n",
       "      <td>49.5042</td>\n",
       "      <td>NaN</td>\n",
       "      <td>C</td>\n",
       "      <td>Age_70</td>\n",
       "      <td>1</td>\n",
       "      <td>0</td>\n",
       "      <td>49.5042</td>\n",
       "    </tr>\n",
       "    <tr>\n",
       "      <th>545</th>\n",
       "      <td>546</td>\n",
       "      <td>0</td>\n",
       "      <td>1</td>\n",
       "      <td>Mr</td>\n",
       "      <td>male</td>\n",
       "      <td>64.00</td>\n",
       "      <td>0</td>\n",
       "      <td>0</td>\n",
       "      <td>693</td>\n",
       "      <td>26.0000</td>\n",
       "      <td>NaN</td>\n",
       "      <td>S</td>\n",
       "      <td>Age_60</td>\n",
       "      <td>1</td>\n",
       "      <td>0</td>\n",
       "      <td>26.0000</td>\n",
       "    </tr>\n",
       "    <tr>\n",
       "      <th>555</th>\n",
       "      <td>556</td>\n",
       "      <td>0</td>\n",
       "      <td>1</td>\n",
       "      <td>Mr</td>\n",
       "      <td>male</td>\n",
       "      <td>62.00</td>\n",
       "      <td>0</td>\n",
       "      <td>0</td>\n",
       "      <td>113807</td>\n",
       "      <td>26.5500</td>\n",
       "      <td>NaN</td>\n",
       "      <td>S</td>\n",
       "      <td>Age_60</td>\n",
       "      <td>1</td>\n",
       "      <td>0</td>\n",
       "      <td>26.5500</td>\n",
       "    </tr>\n",
       "    <tr>\n",
       "      <th>570</th>\n",
       "      <td>571</td>\n",
       "      <td>1</td>\n",
       "      <td>2</td>\n",
       "      <td>Mr</td>\n",
       "      <td>male</td>\n",
       "      <td>62.00</td>\n",
       "      <td>0</td>\n",
       "      <td>0</td>\n",
       "      <td>S.W./PP 752</td>\n",
       "      <td>10.5000</td>\n",
       "      <td>NaN</td>\n",
       "      <td>S</td>\n",
       "      <td>Age_60</td>\n",
       "      <td>1</td>\n",
       "      <td>0</td>\n",
       "      <td>10.5000</td>\n",
       "    </tr>\n",
       "    <tr>\n",
       "      <th>587</th>\n",
       "      <td>588</td>\n",
       "      <td>1</td>\n",
       "      <td>1</td>\n",
       "      <td>Mr</td>\n",
       "      <td>male</td>\n",
       "      <td>60.00</td>\n",
       "      <td>1</td>\n",
       "      <td>1</td>\n",
       "      <td>13567</td>\n",
       "      <td>79.2000</td>\n",
       "      <td>B41</td>\n",
       "      <td>C</td>\n",
       "      <td>Age_60</td>\n",
       "      <td>3</td>\n",
       "      <td>0</td>\n",
       "      <td>79.2000</td>\n",
       "    </tr>\n",
       "    <tr>\n",
       "      <th>625</th>\n",
       "      <td>626</td>\n",
       "      <td>0</td>\n",
       "      <td>1</td>\n",
       "      <td>Mr</td>\n",
       "      <td>male</td>\n",
       "      <td>61.00</td>\n",
       "      <td>0</td>\n",
       "      <td>0</td>\n",
       "      <td>36963</td>\n",
       "      <td>32.3208</td>\n",
       "      <td>D50</td>\n",
       "      <td>S</td>\n",
       "      <td>Age_60</td>\n",
       "      <td>1</td>\n",
       "      <td>0</td>\n",
       "      <td>32.3208</td>\n",
       "    </tr>\n",
       "    <tr>\n",
       "      <th>630</th>\n",
       "      <td>631</td>\n",
       "      <td>1</td>\n",
       "      <td>1</td>\n",
       "      <td>Mr</td>\n",
       "      <td>male</td>\n",
       "      <td>80.00</td>\n",
       "      <td>0</td>\n",
       "      <td>0</td>\n",
       "      <td>27042</td>\n",
       "      <td>30.0000</td>\n",
       "      <td>A23</td>\n",
       "      <td>S</td>\n",
       "      <td>Age_80</td>\n",
       "      <td>1</td>\n",
       "      <td>0</td>\n",
       "      <td>30.0000</td>\n",
       "    </tr>\n",
       "    <tr>\n",
       "      <th>659</th>\n",
       "      <td>660</td>\n",
       "      <td>0</td>\n",
       "      <td>1</td>\n",
       "      <td>Mr</td>\n",
       "      <td>male</td>\n",
       "      <td>58.00</td>\n",
       "      <td>0</td>\n",
       "      <td>2</td>\n",
       "      <td>35273</td>\n",
       "      <td>113.2750</td>\n",
       "      <td>D48</td>\n",
       "      <td>C</td>\n",
       "      <td>Age_50</td>\n",
       "      <td>3</td>\n",
       "      <td>0</td>\n",
       "      <td>113.2750</td>\n",
       "    </tr>\n",
       "    <tr>\n",
       "      <th>672</th>\n",
       "      <td>673</td>\n",
       "      <td>0</td>\n",
       "      <td>2</td>\n",
       "      <td>Mr</td>\n",
       "      <td>male</td>\n",
       "      <td>70.00</td>\n",
       "      <td>0</td>\n",
       "      <td>0</td>\n",
       "      <td>C.A. 24580</td>\n",
       "      <td>10.5000</td>\n",
       "      <td>NaN</td>\n",
       "      <td>S</td>\n",
       "      <td>Age_70</td>\n",
       "      <td>1</td>\n",
       "      <td>0</td>\n",
       "      <td>10.5000</td>\n",
       "    </tr>\n",
       "    <tr>\n",
       "      <th>684</th>\n",
       "      <td>685</td>\n",
       "      <td>0</td>\n",
       "      <td>2</td>\n",
       "      <td>Mr</td>\n",
       "      <td>male</td>\n",
       "      <td>60.00</td>\n",
       "      <td>1</td>\n",
       "      <td>1</td>\n",
       "      <td>29750</td>\n",
       "      <td>39.0000</td>\n",
       "      <td>NaN</td>\n",
       "      <td>S</td>\n",
       "      <td>Age_60</td>\n",
       "      <td>3</td>\n",
       "      <td>0</td>\n",
       "      <td>39.0000</td>\n",
       "    </tr>\n",
       "    <tr>\n",
       "      <th>694</th>\n",
       "      <td>695</td>\n",
       "      <td>0</td>\n",
       "      <td>1</td>\n",
       "      <td>Mr</td>\n",
       "      <td>male</td>\n",
       "      <td>60.00</td>\n",
       "      <td>0</td>\n",
       "      <td>0</td>\n",
       "      <td>113800</td>\n",
       "      <td>26.5500</td>\n",
       "      <td>NaN</td>\n",
       "      <td>S</td>\n",
       "      <td>Age_60</td>\n",
       "      <td>1</td>\n",
       "      <td>0</td>\n",
       "      <td>26.5500</td>\n",
       "    </tr>\n",
       "    <tr>\n",
       "      <th>745</th>\n",
       "      <td>746</td>\n",
       "      <td>0</td>\n",
       "      <td>1</td>\n",
       "      <td>Others</td>\n",
       "      <td>male</td>\n",
       "      <td>70.00</td>\n",
       "      <td>1</td>\n",
       "      <td>1</td>\n",
       "      <td>WE/P 5735</td>\n",
       "      <td>71.0000</td>\n",
       "      <td>B22</td>\n",
       "      <td>S</td>\n",
       "      <td>Age_70</td>\n",
       "      <td>3</td>\n",
       "      <td>0</td>\n",
       "      <td>71.0000</td>\n",
       "    </tr>\n",
       "    <tr>\n",
       "      <th>803</th>\n",
       "      <td>804</td>\n",
       "      <td>1</td>\n",
       "      <td>3</td>\n",
       "      <td>Master</td>\n",
       "      <td>male</td>\n",
       "      <td>0.42</td>\n",
       "      <td>0</td>\n",
       "      <td>1</td>\n",
       "      <td>2625</td>\n",
       "      <td>8.5167</td>\n",
       "      <td>NaN</td>\n",
       "      <td>C</td>\n",
       "      <td>Age_00</td>\n",
       "      <td>2</td>\n",
       "      <td>0</td>\n",
       "      <td>8.5167</td>\n",
       "    </tr>\n",
       "    <tr>\n",
       "      <th>829</th>\n",
       "      <td>830</td>\n",
       "      <td>1</td>\n",
       "      <td>1</td>\n",
       "      <td>Mrs</td>\n",
       "      <td>female</td>\n",
       "      <td>62.00</td>\n",
       "      <td>0</td>\n",
       "      <td>0</td>\n",
       "      <td>113572</td>\n",
       "      <td>80.0000</td>\n",
       "      <td>B28</td>\n",
       "      <td>S</td>\n",
       "      <td>Age_60</td>\n",
       "      <td>1</td>\n",
       "      <td>0</td>\n",
       "      <td>80.0000</td>\n",
       "    </tr>\n",
       "    <tr>\n",
       "      <th>851</th>\n",
       "      <td>852</td>\n",
       "      <td>0</td>\n",
       "      <td>3</td>\n",
       "      <td>Mr</td>\n",
       "      <td>male</td>\n",
       "      <td>74.00</td>\n",
       "      <td>0</td>\n",
       "      <td>0</td>\n",
       "      <td>347060</td>\n",
       "      <td>7.7750</td>\n",
       "      <td>NaN</td>\n",
       "      <td>S</td>\n",
       "      <td>Age_70</td>\n",
       "      <td>1</td>\n",
       "      <td>0</td>\n",
       "      <td>7.7750</td>\n",
       "    </tr>\n",
       "  </tbody>\n",
       "</table>\n",
       "</div>"
      ],
      "text/plain": [
       "     PassengerId  Survived  Pclass   Title     Sex    Age  SibSp  Parch  \\\n",
       "11            12         1       1    Miss  female  58.00      0      0   \n",
       "33            34         0       2      Mr    male  66.00      0      0   \n",
       "54            55         0       1      Mr    male  65.00      0      1   \n",
       "94            95         0       3      Mr    male  59.00      0      0   \n",
       "96            97         0       1      Mr    male  71.00      0      0   \n",
       "116          117         0       3      Mr    male  70.50      0      0   \n",
       "170          171         0       1      Mr    male  61.00      0      0   \n",
       "195          196         1       1    Miss  female  58.00      0      0   \n",
       "232          233         0       2      Mr    male  59.00      0      0   \n",
       "252          253         0       1      Mr    male  62.00      0      0   \n",
       "268          269         1       1     Mrs  female  58.00      0      1   \n",
       "275          276         1       1    Miss  female  63.00      1      0   \n",
       "280          281         0       3      Mr    male  65.00      0      0   \n",
       "326          327         0       3      Mr    male  61.00      0      0   \n",
       "366          367         1       1     Mrs  female  60.00      1      0   \n",
       "438          439         0       1      Mr    male  64.00      1      4   \n",
       "456          457         0       1      Mr    male  65.00      0      0   \n",
       "483          484         1       3     Mrs  female  63.00      0      0   \n",
       "487          488         0       1      Mr    male  58.00      0      0   \n",
       "493          494         0       1      Mr    male  71.00      0      0   \n",
       "545          546         0       1      Mr    male  64.00      0      0   \n",
       "555          556         0       1      Mr    male  62.00      0      0   \n",
       "570          571         1       2      Mr    male  62.00      0      0   \n",
       "587          588         1       1      Mr    male  60.00      1      1   \n",
       "625          626         0       1      Mr    male  61.00      0      0   \n",
       "630          631         1       1      Mr    male  80.00      0      0   \n",
       "659          660         0       1      Mr    male  58.00      0      2   \n",
       "672          673         0       2      Mr    male  70.00      0      0   \n",
       "684          685         0       2      Mr    male  60.00      1      1   \n",
       "694          695         0       1      Mr    male  60.00      0      0   \n",
       "745          746         0       1  Others    male  70.00      1      1   \n",
       "803          804         1       3  Master    male   0.42      0      1   \n",
       "829          830         1       1     Mrs  female  62.00      0      0   \n",
       "851          852         0       3      Mr    male  74.00      0      0   \n",
       "\n",
       "          Ticket      Fare        Cabin Embarked AgeGroup  Family  Mother  \\\n",
       "11        113783   26.5500         C103        S   Age_50       1       0   \n",
       "33    C.A. 24579   10.5000          NaN        S   Age_60       1       0   \n",
       "54        113509   61.9792          B30        C   Age_60       2       0   \n",
       "94        364500    7.2500          NaN        S   Age_50       1       0   \n",
       "96      PC 17754   34.6542           A5        C   Age_70       1       0   \n",
       "116       370369    7.7500          NaN        Q   Age_70       1       0   \n",
       "170       111240   33.5000          B19        S   Age_60       1       0   \n",
       "195     PC 17569  146.5208          B80        C   Age_50       1       0   \n",
       "232       237442   13.5000          NaN        S   Age_50       1       0   \n",
       "252       113514   26.5500          C87        S   Age_60       1       0   \n",
       "268     PC 17582  153.4625         C125        S   Age_50       2       1   \n",
       "275        13502   77.9583           D7        S   Age_60       2       0   \n",
       "280       336439    7.7500          NaN        Q   Age_60       1       0   \n",
       "326       345364    6.2375          NaN        S   Age_60       1       0   \n",
       "366       110813   75.2500          D37        C   Age_60       2       0   \n",
       "438        19950  263.0000  C23 C25 C27        S   Age_60       6       0   \n",
       "456        13509   26.5500          E38        S   Age_60       1       0   \n",
       "483         4134    9.5875          NaN        S   Age_60       1       0   \n",
       "487        11771   29.7000          B37        C   Age_50       1       0   \n",
       "493     PC 17609   49.5042          NaN        C   Age_70       1       0   \n",
       "545          693   26.0000          NaN        S   Age_60       1       0   \n",
       "555       113807   26.5500          NaN        S   Age_60       1       0   \n",
       "570  S.W./PP 752   10.5000          NaN        S   Age_60       1       0   \n",
       "587        13567   79.2000          B41        C   Age_60       3       0   \n",
       "625        36963   32.3208          D50        S   Age_60       1       0   \n",
       "630        27042   30.0000          A23        S   Age_80       1       0   \n",
       "659        35273  113.2750          D48        C   Age_50       3       0   \n",
       "672   C.A. 24580   10.5000          NaN        S   Age_70       1       0   \n",
       "684        29750   39.0000          NaN        S   Age_60       3       0   \n",
       "694       113800   26.5500          NaN        S   Age_60       1       0   \n",
       "745    WE/P 5735   71.0000          B22        S   Age_70       3       0   \n",
       "803         2625    8.5167          NaN        C   Age_00       2       0   \n",
       "829       113572   80.0000          B28        S   Age_60       1       0   \n",
       "851       347060    7.7750          NaN        S   Age_70       1       0   \n",
       "\n",
       "        Fare2  \n",
       "11    26.5500  \n",
       "33    10.5000  \n",
       "54    61.9792  \n",
       "94     7.2500  \n",
       "96    34.6542  \n",
       "116    7.7500  \n",
       "170   33.5000  \n",
       "195  146.5208  \n",
       "232   13.5000  \n",
       "252   26.5500  \n",
       "268  153.4625  \n",
       "275   77.9583  \n",
       "280    7.7500  \n",
       "326    6.2375  \n",
       "366   75.2500  \n",
       "438  164.8667  \n",
       "456   26.5500  \n",
       "483    9.5875  \n",
       "487   29.7000  \n",
       "493   49.5042  \n",
       "545   26.0000  \n",
       "555   26.5500  \n",
       "570   10.5000  \n",
       "587   79.2000  \n",
       "625   32.3208  \n",
       "630   30.0000  \n",
       "659  113.2750  \n",
       "672   10.5000  \n",
       "684   39.0000  \n",
       "694   26.5500  \n",
       "745   71.0000  \n",
       "803    8.5167  \n",
       "829   80.0000  \n",
       "851    7.7750  "
      ]
     },
     "execution_count": 3,
     "metadata": {},
     "output_type": "execute_result"
    }
   ],
   "source": [
    "# 조회하기\n",
    "# titanic.loc[(titanic['Age']< lower_fense) | (titanic['Age']> upper_fense)]\n",
    "titanic.loc[~(titanic['Age'].between(lower_fense, upper_fense))] # ~(조건절) : 조건절의 반대)\n"
   ]
  },
  {
   "cell_type": "markdown",
   "metadata": {
    "id": "DVqhhuO4D8TX"
   },
   "source": [
    "2) .describe()로 부터 직접 계산"
   ]
  },
  {
   "cell_type": "code",
   "execution_count": 4,
   "metadata": {
    "colab": {
     "base_uri": "https://localhost:8080/"
    },
    "executionInfo": {
     "elapsed": 13,
     "status": "ok",
     "timestamp": 1644064544208,
     "user": {
      "displayName": "한기영",
      "photoUrl": "https://lh3.googleusercontent.com/a/default-user=s64",
      "userId": "13049187003176135487"
     },
     "user_tz": -540
    },
    "id": "1nfygXGvD93I",
    "outputId": "f6c163a1-1725-422e-a98d-487c97b63664"
   },
   "outputs": [
    {
     "name": "stdout",
     "output_type": "stream",
     "text": [
      "count    891.000000\n",
      "mean      29.754770\n",
      "std       13.277378\n",
      "min        0.420000\n",
      "25%       21.770000\n",
      "50%       30.000000\n",
      "75%       35.900000\n",
      "max       80.000000\n",
      "Name: Age, dtype: float64\n"
     ]
    }
   ],
   "source": [
    "desc = titanic['Age'].describe()\n",
    "print(desc)\n",
    "\n",
    "iqr = desc[6] - desc[4]\n",
    "lower_fense = desc[4] - 1.5 * iqr\n",
    "upper_fense = desc[6] + 1.5 * iqr"
   ]
  },
  {
   "cell_type": "code",
   "execution_count": 5,
   "metadata": {
    "colab": {
     "base_uri": "https://localhost:8080/",
     "height": 1000
    },
    "executionInfo": {
     "elapsed": 698,
     "status": "ok",
     "timestamp": 1644407427739,
     "user": {
      "displayName": "한기영",
      "photoUrl": "https://lh3.googleusercontent.com/a/default-user=s64",
      "userId": "13049187003176135487"
     },
     "user_tz": -540
    },
    "id": "vbeDV4UwEIIh",
    "outputId": "06acdc96-5c63-4073-bcd8-14d97d88d254",
    "scrolled": false
   },
   "outputs": [
    {
     "data": {
      "text/html": [
       "<div>\n",
       "<style scoped>\n",
       "    .dataframe tbody tr th:only-of-type {\n",
       "        vertical-align: middle;\n",
       "    }\n",
       "\n",
       "    .dataframe tbody tr th {\n",
       "        vertical-align: top;\n",
       "    }\n",
       "\n",
       "    .dataframe thead th {\n",
       "        text-align: right;\n",
       "    }\n",
       "</style>\n",
       "<table border=\"1\" class=\"dataframe\">\n",
       "  <thead>\n",
       "    <tr style=\"text-align: right;\">\n",
       "      <th></th>\n",
       "      <th>PassengerId</th>\n",
       "      <th>Survived</th>\n",
       "      <th>Pclass</th>\n",
       "      <th>Title</th>\n",
       "      <th>Sex</th>\n",
       "      <th>Age</th>\n",
       "      <th>SibSp</th>\n",
       "      <th>Parch</th>\n",
       "      <th>Ticket</th>\n",
       "      <th>Fare</th>\n",
       "      <th>Cabin</th>\n",
       "      <th>Embarked</th>\n",
       "      <th>AgeGroup</th>\n",
       "      <th>Family</th>\n",
       "      <th>Mother</th>\n",
       "      <th>Fare2</th>\n",
       "    </tr>\n",
       "  </thead>\n",
       "  <tbody>\n",
       "    <tr>\n",
       "      <th>11</th>\n",
       "      <td>12</td>\n",
       "      <td>1</td>\n",
       "      <td>1</td>\n",
       "      <td>Miss</td>\n",
       "      <td>female</td>\n",
       "      <td>58.00</td>\n",
       "      <td>0</td>\n",
       "      <td>0</td>\n",
       "      <td>113783</td>\n",
       "      <td>26.5500</td>\n",
       "      <td>C103</td>\n",
       "      <td>S</td>\n",
       "      <td>Age_50</td>\n",
       "      <td>1</td>\n",
       "      <td>0</td>\n",
       "      <td>26.5500</td>\n",
       "    </tr>\n",
       "    <tr>\n",
       "      <th>33</th>\n",
       "      <td>34</td>\n",
       "      <td>0</td>\n",
       "      <td>2</td>\n",
       "      <td>Mr</td>\n",
       "      <td>male</td>\n",
       "      <td>66.00</td>\n",
       "      <td>0</td>\n",
       "      <td>0</td>\n",
       "      <td>C.A. 24579</td>\n",
       "      <td>10.5000</td>\n",
       "      <td>NaN</td>\n",
       "      <td>S</td>\n",
       "      <td>Age_60</td>\n",
       "      <td>1</td>\n",
       "      <td>0</td>\n",
       "      <td>10.5000</td>\n",
       "    </tr>\n",
       "    <tr>\n",
       "      <th>54</th>\n",
       "      <td>55</td>\n",
       "      <td>0</td>\n",
       "      <td>1</td>\n",
       "      <td>Mr</td>\n",
       "      <td>male</td>\n",
       "      <td>65.00</td>\n",
       "      <td>0</td>\n",
       "      <td>1</td>\n",
       "      <td>113509</td>\n",
       "      <td>61.9792</td>\n",
       "      <td>B30</td>\n",
       "      <td>C</td>\n",
       "      <td>Age_60</td>\n",
       "      <td>2</td>\n",
       "      <td>0</td>\n",
       "      <td>61.9792</td>\n",
       "    </tr>\n",
       "    <tr>\n",
       "      <th>94</th>\n",
       "      <td>95</td>\n",
       "      <td>0</td>\n",
       "      <td>3</td>\n",
       "      <td>Mr</td>\n",
       "      <td>male</td>\n",
       "      <td>59.00</td>\n",
       "      <td>0</td>\n",
       "      <td>0</td>\n",
       "      <td>364500</td>\n",
       "      <td>7.2500</td>\n",
       "      <td>NaN</td>\n",
       "      <td>S</td>\n",
       "      <td>Age_50</td>\n",
       "      <td>1</td>\n",
       "      <td>0</td>\n",
       "      <td>7.2500</td>\n",
       "    </tr>\n",
       "    <tr>\n",
       "      <th>96</th>\n",
       "      <td>97</td>\n",
       "      <td>0</td>\n",
       "      <td>1</td>\n",
       "      <td>Mr</td>\n",
       "      <td>male</td>\n",
       "      <td>71.00</td>\n",
       "      <td>0</td>\n",
       "      <td>0</td>\n",
       "      <td>PC 17754</td>\n",
       "      <td>34.6542</td>\n",
       "      <td>A5</td>\n",
       "      <td>C</td>\n",
       "      <td>Age_70</td>\n",
       "      <td>1</td>\n",
       "      <td>0</td>\n",
       "      <td>34.6542</td>\n",
       "    </tr>\n",
       "    <tr>\n",
       "      <th>116</th>\n",
       "      <td>117</td>\n",
       "      <td>0</td>\n",
       "      <td>3</td>\n",
       "      <td>Mr</td>\n",
       "      <td>male</td>\n",
       "      <td>70.50</td>\n",
       "      <td>0</td>\n",
       "      <td>0</td>\n",
       "      <td>370369</td>\n",
       "      <td>7.7500</td>\n",
       "      <td>NaN</td>\n",
       "      <td>Q</td>\n",
       "      <td>Age_70</td>\n",
       "      <td>1</td>\n",
       "      <td>0</td>\n",
       "      <td>7.7500</td>\n",
       "    </tr>\n",
       "    <tr>\n",
       "      <th>170</th>\n",
       "      <td>171</td>\n",
       "      <td>0</td>\n",
       "      <td>1</td>\n",
       "      <td>Mr</td>\n",
       "      <td>male</td>\n",
       "      <td>61.00</td>\n",
       "      <td>0</td>\n",
       "      <td>0</td>\n",
       "      <td>111240</td>\n",
       "      <td>33.5000</td>\n",
       "      <td>B19</td>\n",
       "      <td>S</td>\n",
       "      <td>Age_60</td>\n",
       "      <td>1</td>\n",
       "      <td>0</td>\n",
       "      <td>33.5000</td>\n",
       "    </tr>\n",
       "    <tr>\n",
       "      <th>195</th>\n",
       "      <td>196</td>\n",
       "      <td>1</td>\n",
       "      <td>1</td>\n",
       "      <td>Miss</td>\n",
       "      <td>female</td>\n",
       "      <td>58.00</td>\n",
       "      <td>0</td>\n",
       "      <td>0</td>\n",
       "      <td>PC 17569</td>\n",
       "      <td>146.5208</td>\n",
       "      <td>B80</td>\n",
       "      <td>C</td>\n",
       "      <td>Age_50</td>\n",
       "      <td>1</td>\n",
       "      <td>0</td>\n",
       "      <td>146.5208</td>\n",
       "    </tr>\n",
       "    <tr>\n",
       "      <th>232</th>\n",
       "      <td>233</td>\n",
       "      <td>0</td>\n",
       "      <td>2</td>\n",
       "      <td>Mr</td>\n",
       "      <td>male</td>\n",
       "      <td>59.00</td>\n",
       "      <td>0</td>\n",
       "      <td>0</td>\n",
       "      <td>237442</td>\n",
       "      <td>13.5000</td>\n",
       "      <td>NaN</td>\n",
       "      <td>S</td>\n",
       "      <td>Age_50</td>\n",
       "      <td>1</td>\n",
       "      <td>0</td>\n",
       "      <td>13.5000</td>\n",
       "    </tr>\n",
       "    <tr>\n",
       "      <th>252</th>\n",
       "      <td>253</td>\n",
       "      <td>0</td>\n",
       "      <td>1</td>\n",
       "      <td>Mr</td>\n",
       "      <td>male</td>\n",
       "      <td>62.00</td>\n",
       "      <td>0</td>\n",
       "      <td>0</td>\n",
       "      <td>113514</td>\n",
       "      <td>26.5500</td>\n",
       "      <td>C87</td>\n",
       "      <td>S</td>\n",
       "      <td>Age_60</td>\n",
       "      <td>1</td>\n",
       "      <td>0</td>\n",
       "      <td>26.5500</td>\n",
       "    </tr>\n",
       "    <tr>\n",
       "      <th>268</th>\n",
       "      <td>269</td>\n",
       "      <td>1</td>\n",
       "      <td>1</td>\n",
       "      <td>Mrs</td>\n",
       "      <td>female</td>\n",
       "      <td>58.00</td>\n",
       "      <td>0</td>\n",
       "      <td>1</td>\n",
       "      <td>PC 17582</td>\n",
       "      <td>153.4625</td>\n",
       "      <td>C125</td>\n",
       "      <td>S</td>\n",
       "      <td>Age_50</td>\n",
       "      <td>2</td>\n",
       "      <td>1</td>\n",
       "      <td>153.4625</td>\n",
       "    </tr>\n",
       "    <tr>\n",
       "      <th>275</th>\n",
       "      <td>276</td>\n",
       "      <td>1</td>\n",
       "      <td>1</td>\n",
       "      <td>Miss</td>\n",
       "      <td>female</td>\n",
       "      <td>63.00</td>\n",
       "      <td>1</td>\n",
       "      <td>0</td>\n",
       "      <td>13502</td>\n",
       "      <td>77.9583</td>\n",
       "      <td>D7</td>\n",
       "      <td>S</td>\n",
       "      <td>Age_60</td>\n",
       "      <td>2</td>\n",
       "      <td>0</td>\n",
       "      <td>77.9583</td>\n",
       "    </tr>\n",
       "    <tr>\n",
       "      <th>280</th>\n",
       "      <td>281</td>\n",
       "      <td>0</td>\n",
       "      <td>3</td>\n",
       "      <td>Mr</td>\n",
       "      <td>male</td>\n",
       "      <td>65.00</td>\n",
       "      <td>0</td>\n",
       "      <td>0</td>\n",
       "      <td>336439</td>\n",
       "      <td>7.7500</td>\n",
       "      <td>NaN</td>\n",
       "      <td>Q</td>\n",
       "      <td>Age_60</td>\n",
       "      <td>1</td>\n",
       "      <td>0</td>\n",
       "      <td>7.7500</td>\n",
       "    </tr>\n",
       "    <tr>\n",
       "      <th>326</th>\n",
       "      <td>327</td>\n",
       "      <td>0</td>\n",
       "      <td>3</td>\n",
       "      <td>Mr</td>\n",
       "      <td>male</td>\n",
       "      <td>61.00</td>\n",
       "      <td>0</td>\n",
       "      <td>0</td>\n",
       "      <td>345364</td>\n",
       "      <td>6.2375</td>\n",
       "      <td>NaN</td>\n",
       "      <td>S</td>\n",
       "      <td>Age_60</td>\n",
       "      <td>1</td>\n",
       "      <td>0</td>\n",
       "      <td>6.2375</td>\n",
       "    </tr>\n",
       "    <tr>\n",
       "      <th>366</th>\n",
       "      <td>367</td>\n",
       "      <td>1</td>\n",
       "      <td>1</td>\n",
       "      <td>Mrs</td>\n",
       "      <td>female</td>\n",
       "      <td>60.00</td>\n",
       "      <td>1</td>\n",
       "      <td>0</td>\n",
       "      <td>110813</td>\n",
       "      <td>75.2500</td>\n",
       "      <td>D37</td>\n",
       "      <td>C</td>\n",
       "      <td>Age_60</td>\n",
       "      <td>2</td>\n",
       "      <td>0</td>\n",
       "      <td>75.2500</td>\n",
       "    </tr>\n",
       "    <tr>\n",
       "      <th>438</th>\n",
       "      <td>439</td>\n",
       "      <td>0</td>\n",
       "      <td>1</td>\n",
       "      <td>Mr</td>\n",
       "      <td>male</td>\n",
       "      <td>64.00</td>\n",
       "      <td>1</td>\n",
       "      <td>4</td>\n",
       "      <td>19950</td>\n",
       "      <td>263.0000</td>\n",
       "      <td>C23 C25 C27</td>\n",
       "      <td>S</td>\n",
       "      <td>Age_60</td>\n",
       "      <td>6</td>\n",
       "      <td>0</td>\n",
       "      <td>164.8667</td>\n",
       "    </tr>\n",
       "    <tr>\n",
       "      <th>456</th>\n",
       "      <td>457</td>\n",
       "      <td>0</td>\n",
       "      <td>1</td>\n",
       "      <td>Mr</td>\n",
       "      <td>male</td>\n",
       "      <td>65.00</td>\n",
       "      <td>0</td>\n",
       "      <td>0</td>\n",
       "      <td>13509</td>\n",
       "      <td>26.5500</td>\n",
       "      <td>E38</td>\n",
       "      <td>S</td>\n",
       "      <td>Age_60</td>\n",
       "      <td>1</td>\n",
       "      <td>0</td>\n",
       "      <td>26.5500</td>\n",
       "    </tr>\n",
       "    <tr>\n",
       "      <th>483</th>\n",
       "      <td>484</td>\n",
       "      <td>1</td>\n",
       "      <td>3</td>\n",
       "      <td>Mrs</td>\n",
       "      <td>female</td>\n",
       "      <td>63.00</td>\n",
       "      <td>0</td>\n",
       "      <td>0</td>\n",
       "      <td>4134</td>\n",
       "      <td>9.5875</td>\n",
       "      <td>NaN</td>\n",
       "      <td>S</td>\n",
       "      <td>Age_60</td>\n",
       "      <td>1</td>\n",
       "      <td>0</td>\n",
       "      <td>9.5875</td>\n",
       "    </tr>\n",
       "    <tr>\n",
       "      <th>487</th>\n",
       "      <td>488</td>\n",
       "      <td>0</td>\n",
       "      <td>1</td>\n",
       "      <td>Mr</td>\n",
       "      <td>male</td>\n",
       "      <td>58.00</td>\n",
       "      <td>0</td>\n",
       "      <td>0</td>\n",
       "      <td>11771</td>\n",
       "      <td>29.7000</td>\n",
       "      <td>B37</td>\n",
       "      <td>C</td>\n",
       "      <td>Age_50</td>\n",
       "      <td>1</td>\n",
       "      <td>0</td>\n",
       "      <td>29.7000</td>\n",
       "    </tr>\n",
       "    <tr>\n",
       "      <th>493</th>\n",
       "      <td>494</td>\n",
       "      <td>0</td>\n",
       "      <td>1</td>\n",
       "      <td>Mr</td>\n",
       "      <td>male</td>\n",
       "      <td>71.00</td>\n",
       "      <td>0</td>\n",
       "      <td>0</td>\n",
       "      <td>PC 17609</td>\n",
       "      <td>49.5042</td>\n",
       "      <td>NaN</td>\n",
       "      <td>C</td>\n",
       "      <td>Age_70</td>\n",
       "      <td>1</td>\n",
       "      <td>0</td>\n",
       "      <td>49.5042</td>\n",
       "    </tr>\n",
       "    <tr>\n",
       "      <th>545</th>\n",
       "      <td>546</td>\n",
       "      <td>0</td>\n",
       "      <td>1</td>\n",
       "      <td>Mr</td>\n",
       "      <td>male</td>\n",
       "      <td>64.00</td>\n",
       "      <td>0</td>\n",
       "      <td>0</td>\n",
       "      <td>693</td>\n",
       "      <td>26.0000</td>\n",
       "      <td>NaN</td>\n",
       "      <td>S</td>\n",
       "      <td>Age_60</td>\n",
       "      <td>1</td>\n",
       "      <td>0</td>\n",
       "      <td>26.0000</td>\n",
       "    </tr>\n",
       "    <tr>\n",
       "      <th>555</th>\n",
       "      <td>556</td>\n",
       "      <td>0</td>\n",
       "      <td>1</td>\n",
       "      <td>Mr</td>\n",
       "      <td>male</td>\n",
       "      <td>62.00</td>\n",
       "      <td>0</td>\n",
       "      <td>0</td>\n",
       "      <td>113807</td>\n",
       "      <td>26.5500</td>\n",
       "      <td>NaN</td>\n",
       "      <td>S</td>\n",
       "      <td>Age_60</td>\n",
       "      <td>1</td>\n",
       "      <td>0</td>\n",
       "      <td>26.5500</td>\n",
       "    </tr>\n",
       "    <tr>\n",
       "      <th>570</th>\n",
       "      <td>571</td>\n",
       "      <td>1</td>\n",
       "      <td>2</td>\n",
       "      <td>Mr</td>\n",
       "      <td>male</td>\n",
       "      <td>62.00</td>\n",
       "      <td>0</td>\n",
       "      <td>0</td>\n",
       "      <td>S.W./PP 752</td>\n",
       "      <td>10.5000</td>\n",
       "      <td>NaN</td>\n",
       "      <td>S</td>\n",
       "      <td>Age_60</td>\n",
       "      <td>1</td>\n",
       "      <td>0</td>\n",
       "      <td>10.5000</td>\n",
       "    </tr>\n",
       "    <tr>\n",
       "      <th>587</th>\n",
       "      <td>588</td>\n",
       "      <td>1</td>\n",
       "      <td>1</td>\n",
       "      <td>Mr</td>\n",
       "      <td>male</td>\n",
       "      <td>60.00</td>\n",
       "      <td>1</td>\n",
       "      <td>1</td>\n",
       "      <td>13567</td>\n",
       "      <td>79.2000</td>\n",
       "      <td>B41</td>\n",
       "      <td>C</td>\n",
       "      <td>Age_60</td>\n",
       "      <td>3</td>\n",
       "      <td>0</td>\n",
       "      <td>79.2000</td>\n",
       "    </tr>\n",
       "    <tr>\n",
       "      <th>625</th>\n",
       "      <td>626</td>\n",
       "      <td>0</td>\n",
       "      <td>1</td>\n",
       "      <td>Mr</td>\n",
       "      <td>male</td>\n",
       "      <td>61.00</td>\n",
       "      <td>0</td>\n",
       "      <td>0</td>\n",
       "      <td>36963</td>\n",
       "      <td>32.3208</td>\n",
       "      <td>D50</td>\n",
       "      <td>S</td>\n",
       "      <td>Age_60</td>\n",
       "      <td>1</td>\n",
       "      <td>0</td>\n",
       "      <td>32.3208</td>\n",
       "    </tr>\n",
       "    <tr>\n",
       "      <th>630</th>\n",
       "      <td>631</td>\n",
       "      <td>1</td>\n",
       "      <td>1</td>\n",
       "      <td>Mr</td>\n",
       "      <td>male</td>\n",
       "      <td>80.00</td>\n",
       "      <td>0</td>\n",
       "      <td>0</td>\n",
       "      <td>27042</td>\n",
       "      <td>30.0000</td>\n",
       "      <td>A23</td>\n",
       "      <td>S</td>\n",
       "      <td>Age_80</td>\n",
       "      <td>1</td>\n",
       "      <td>0</td>\n",
       "      <td>30.0000</td>\n",
       "    </tr>\n",
       "    <tr>\n",
       "      <th>659</th>\n",
       "      <td>660</td>\n",
       "      <td>0</td>\n",
       "      <td>1</td>\n",
       "      <td>Mr</td>\n",
       "      <td>male</td>\n",
       "      <td>58.00</td>\n",
       "      <td>0</td>\n",
       "      <td>2</td>\n",
       "      <td>35273</td>\n",
       "      <td>113.2750</td>\n",
       "      <td>D48</td>\n",
       "      <td>C</td>\n",
       "      <td>Age_50</td>\n",
       "      <td>3</td>\n",
       "      <td>0</td>\n",
       "      <td>113.2750</td>\n",
       "    </tr>\n",
       "    <tr>\n",
       "      <th>672</th>\n",
       "      <td>673</td>\n",
       "      <td>0</td>\n",
       "      <td>2</td>\n",
       "      <td>Mr</td>\n",
       "      <td>male</td>\n",
       "      <td>70.00</td>\n",
       "      <td>0</td>\n",
       "      <td>0</td>\n",
       "      <td>C.A. 24580</td>\n",
       "      <td>10.5000</td>\n",
       "      <td>NaN</td>\n",
       "      <td>S</td>\n",
       "      <td>Age_70</td>\n",
       "      <td>1</td>\n",
       "      <td>0</td>\n",
       "      <td>10.5000</td>\n",
       "    </tr>\n",
       "    <tr>\n",
       "      <th>684</th>\n",
       "      <td>685</td>\n",
       "      <td>0</td>\n",
       "      <td>2</td>\n",
       "      <td>Mr</td>\n",
       "      <td>male</td>\n",
       "      <td>60.00</td>\n",
       "      <td>1</td>\n",
       "      <td>1</td>\n",
       "      <td>29750</td>\n",
       "      <td>39.0000</td>\n",
       "      <td>NaN</td>\n",
       "      <td>S</td>\n",
       "      <td>Age_60</td>\n",
       "      <td>3</td>\n",
       "      <td>0</td>\n",
       "      <td>39.0000</td>\n",
       "    </tr>\n",
       "    <tr>\n",
       "      <th>694</th>\n",
       "      <td>695</td>\n",
       "      <td>0</td>\n",
       "      <td>1</td>\n",
       "      <td>Mr</td>\n",
       "      <td>male</td>\n",
       "      <td>60.00</td>\n",
       "      <td>0</td>\n",
       "      <td>0</td>\n",
       "      <td>113800</td>\n",
       "      <td>26.5500</td>\n",
       "      <td>NaN</td>\n",
       "      <td>S</td>\n",
       "      <td>Age_60</td>\n",
       "      <td>1</td>\n",
       "      <td>0</td>\n",
       "      <td>26.5500</td>\n",
       "    </tr>\n",
       "    <tr>\n",
       "      <th>745</th>\n",
       "      <td>746</td>\n",
       "      <td>0</td>\n",
       "      <td>1</td>\n",
       "      <td>Others</td>\n",
       "      <td>male</td>\n",
       "      <td>70.00</td>\n",
       "      <td>1</td>\n",
       "      <td>1</td>\n",
       "      <td>WE/P 5735</td>\n",
       "      <td>71.0000</td>\n",
       "      <td>B22</td>\n",
       "      <td>S</td>\n",
       "      <td>Age_70</td>\n",
       "      <td>3</td>\n",
       "      <td>0</td>\n",
       "      <td>71.0000</td>\n",
       "    </tr>\n",
       "    <tr>\n",
       "      <th>803</th>\n",
       "      <td>804</td>\n",
       "      <td>1</td>\n",
       "      <td>3</td>\n",
       "      <td>Master</td>\n",
       "      <td>male</td>\n",
       "      <td>0.42</td>\n",
       "      <td>0</td>\n",
       "      <td>1</td>\n",
       "      <td>2625</td>\n",
       "      <td>8.5167</td>\n",
       "      <td>NaN</td>\n",
       "      <td>C</td>\n",
       "      <td>Age_00</td>\n",
       "      <td>2</td>\n",
       "      <td>0</td>\n",
       "      <td>8.5167</td>\n",
       "    </tr>\n",
       "    <tr>\n",
       "      <th>829</th>\n",
       "      <td>830</td>\n",
       "      <td>1</td>\n",
       "      <td>1</td>\n",
       "      <td>Mrs</td>\n",
       "      <td>female</td>\n",
       "      <td>62.00</td>\n",
       "      <td>0</td>\n",
       "      <td>0</td>\n",
       "      <td>113572</td>\n",
       "      <td>80.0000</td>\n",
       "      <td>B28</td>\n",
       "      <td>S</td>\n",
       "      <td>Age_60</td>\n",
       "      <td>1</td>\n",
       "      <td>0</td>\n",
       "      <td>80.0000</td>\n",
       "    </tr>\n",
       "    <tr>\n",
       "      <th>851</th>\n",
       "      <td>852</td>\n",
       "      <td>0</td>\n",
       "      <td>3</td>\n",
       "      <td>Mr</td>\n",
       "      <td>male</td>\n",
       "      <td>74.00</td>\n",
       "      <td>0</td>\n",
       "      <td>0</td>\n",
       "      <td>347060</td>\n",
       "      <td>7.7750</td>\n",
       "      <td>NaN</td>\n",
       "      <td>S</td>\n",
       "      <td>Age_70</td>\n",
       "      <td>1</td>\n",
       "      <td>0</td>\n",
       "      <td>7.7750</td>\n",
       "    </tr>\n",
       "  </tbody>\n",
       "</table>\n",
       "</div>"
      ],
      "text/plain": [
       "     PassengerId  Survived  Pclass   Title     Sex    Age  SibSp  Parch  \\\n",
       "11            12         1       1    Miss  female  58.00      0      0   \n",
       "33            34         0       2      Mr    male  66.00      0      0   \n",
       "54            55         0       1      Mr    male  65.00      0      1   \n",
       "94            95         0       3      Mr    male  59.00      0      0   \n",
       "96            97         0       1      Mr    male  71.00      0      0   \n",
       "116          117         0       3      Mr    male  70.50      0      0   \n",
       "170          171         0       1      Mr    male  61.00      0      0   \n",
       "195          196         1       1    Miss  female  58.00      0      0   \n",
       "232          233         0       2      Mr    male  59.00      0      0   \n",
       "252          253         0       1      Mr    male  62.00      0      0   \n",
       "268          269         1       1     Mrs  female  58.00      0      1   \n",
       "275          276         1       1    Miss  female  63.00      1      0   \n",
       "280          281         0       3      Mr    male  65.00      0      0   \n",
       "326          327         0       3      Mr    male  61.00      0      0   \n",
       "366          367         1       1     Mrs  female  60.00      1      0   \n",
       "438          439         0       1      Mr    male  64.00      1      4   \n",
       "456          457         0       1      Mr    male  65.00      0      0   \n",
       "483          484         1       3     Mrs  female  63.00      0      0   \n",
       "487          488         0       1      Mr    male  58.00      0      0   \n",
       "493          494         0       1      Mr    male  71.00      0      0   \n",
       "545          546         0       1      Mr    male  64.00      0      0   \n",
       "555          556         0       1      Mr    male  62.00      0      0   \n",
       "570          571         1       2      Mr    male  62.00      0      0   \n",
       "587          588         1       1      Mr    male  60.00      1      1   \n",
       "625          626         0       1      Mr    male  61.00      0      0   \n",
       "630          631         1       1      Mr    male  80.00      0      0   \n",
       "659          660         0       1      Mr    male  58.00      0      2   \n",
       "672          673         0       2      Mr    male  70.00      0      0   \n",
       "684          685         0       2      Mr    male  60.00      1      1   \n",
       "694          695         0       1      Mr    male  60.00      0      0   \n",
       "745          746         0       1  Others    male  70.00      1      1   \n",
       "803          804         1       3  Master    male   0.42      0      1   \n",
       "829          830         1       1     Mrs  female  62.00      0      0   \n",
       "851          852         0       3      Mr    male  74.00      0      0   \n",
       "\n",
       "          Ticket      Fare        Cabin Embarked AgeGroup  Family  Mother  \\\n",
       "11        113783   26.5500         C103        S   Age_50       1       0   \n",
       "33    C.A. 24579   10.5000          NaN        S   Age_60       1       0   \n",
       "54        113509   61.9792          B30        C   Age_60       2       0   \n",
       "94        364500    7.2500          NaN        S   Age_50       1       0   \n",
       "96      PC 17754   34.6542           A5        C   Age_70       1       0   \n",
       "116       370369    7.7500          NaN        Q   Age_70       1       0   \n",
       "170       111240   33.5000          B19        S   Age_60       1       0   \n",
       "195     PC 17569  146.5208          B80        C   Age_50       1       0   \n",
       "232       237442   13.5000          NaN        S   Age_50       1       0   \n",
       "252       113514   26.5500          C87        S   Age_60       1       0   \n",
       "268     PC 17582  153.4625         C125        S   Age_50       2       1   \n",
       "275        13502   77.9583           D7        S   Age_60       2       0   \n",
       "280       336439    7.7500          NaN        Q   Age_60       1       0   \n",
       "326       345364    6.2375          NaN        S   Age_60       1       0   \n",
       "366       110813   75.2500          D37        C   Age_60       2       0   \n",
       "438        19950  263.0000  C23 C25 C27        S   Age_60       6       0   \n",
       "456        13509   26.5500          E38        S   Age_60       1       0   \n",
       "483         4134    9.5875          NaN        S   Age_60       1       0   \n",
       "487        11771   29.7000          B37        C   Age_50       1       0   \n",
       "493     PC 17609   49.5042          NaN        C   Age_70       1       0   \n",
       "545          693   26.0000          NaN        S   Age_60       1       0   \n",
       "555       113807   26.5500          NaN        S   Age_60       1       0   \n",
       "570  S.W./PP 752   10.5000          NaN        S   Age_60       1       0   \n",
       "587        13567   79.2000          B41        C   Age_60       3       0   \n",
       "625        36963   32.3208          D50        S   Age_60       1       0   \n",
       "630        27042   30.0000          A23        S   Age_80       1       0   \n",
       "659        35273  113.2750          D48        C   Age_50       3       0   \n",
       "672   C.A. 24580   10.5000          NaN        S   Age_70       1       0   \n",
       "684        29750   39.0000          NaN        S   Age_60       3       0   \n",
       "694       113800   26.5500          NaN        S   Age_60       1       0   \n",
       "745    WE/P 5735   71.0000          B22        S   Age_70       3       0   \n",
       "803         2625    8.5167          NaN        C   Age_00       2       0   \n",
       "829       113572   80.0000          B28        S   Age_60       1       0   \n",
       "851       347060    7.7750          NaN        S   Age_70       1       0   \n",
       "\n",
       "        Fare2  \n",
       "11    26.5500  \n",
       "33    10.5000  \n",
       "54    61.9792  \n",
       "94     7.2500  \n",
       "96    34.6542  \n",
       "116    7.7500  \n",
       "170   33.5000  \n",
       "195  146.5208  \n",
       "232   13.5000  \n",
       "252   26.5500  \n",
       "268  153.4625  \n",
       "275   77.9583  \n",
       "280    7.7500  \n",
       "326    6.2375  \n",
       "366   75.2500  \n",
       "438  164.8667  \n",
       "456   26.5500  \n",
       "483    9.5875  \n",
       "487   29.7000  \n",
       "493   49.5042  \n",
       "545   26.0000  \n",
       "555   26.5500  \n",
       "570   10.5000  \n",
       "587   79.2000  \n",
       "625   32.3208  \n",
       "630   30.0000  \n",
       "659  113.2750  \n",
       "672   10.5000  \n",
       "684   39.0000  \n",
       "694   26.5500  \n",
       "745   71.0000  \n",
       "803    8.5167  \n",
       "829   80.0000  \n",
       "851    7.7750  "
      ]
     },
     "execution_count": 5,
     "metadata": {},
     "output_type": "execute_result"
    }
   ],
   "source": [
    "# 조회하기\n",
    "titanic.loc[(titanic['Age']< lower_fense) | (titanic['Age']> upper_fense)]"
   ]
  },
  {
   "cell_type": "markdown",
   "metadata": {},
   "source": [
    "* 이상치 조치\n",
    "    * 삭제\n",
    "    * 값을 보정 : 이상치 제외하고 최대, 최소 값으로 이상치 값을 수정한다."
   ]
  },
  {
   "cell_type": "markdown",
   "metadata": {
    "id": "oy-Izt0ZUXKb"
   },
   "source": [
    "## 3.결측치(NaN) 식별"
   ]
  },
  {
   "cell_type": "markdown",
   "metadata": {
    "id": "GCjQc8S737Np"
   },
   "source": [
    "* 결측치(NaN)\n",
    "    * Not a Number의 약자\n",
    "    * NA(Not Available) 라고도 부릅니다.\n",
    "    * 결측치, 사용할 수 없는 값, 빈 값\n",
    "    * 이를테면, 분석(모델링)에서 사용할 수 없는 값을 의미 합니다.\n",
    "    * 모델링에서 **결측치 조치는 필수** 입니다.\n"
   ]
  },
  {
   "cell_type": "code",
   "execution_count": 6,
   "metadata": {
    "id": "cBlAe_WUEmH4"
   },
   "outputs": [],
   "source": [
    "titanic = pd.read_csv('https://raw.githubusercontent.com/DA4BAM/dataset/master/titanic.0.csv')"
   ]
  },
  {
   "cell_type": "markdown",
   "metadata": {
    "id": "AMoW_iIYEPj_"
   },
   "source": [
    "1) 결측치 식별 : 변수 별"
   ]
  },
  {
   "cell_type": "code",
   "execution_count": 7,
   "metadata": {
    "colab": {
     "base_uri": "https://localhost:8080/"
    },
    "executionInfo": {
     "elapsed": 3,
     "status": "ok",
     "timestamp": 1644407479891,
     "user": {
      "displayName": "한기영",
      "photoUrl": "https://lh3.googleusercontent.com/a/default-user=s64",
      "userId": "13049187003176135487"
     },
     "user_tz": -540
    },
    "id": "M6qfpUyNUXKi",
    "outputId": "4938d77b-2609-4a09-e76a-a9d93987c4f0"
   },
   "outputs": [
    {
     "name": "stdout",
     "output_type": "stream",
     "text": [
      "0      False\n",
      "1      False\n",
      "2      False\n",
      "3      False\n",
      "4      False\n",
      "       ...  \n",
      "886    False\n",
      "887    False\n",
      "888     True\n",
      "889    False\n",
      "890    False\n",
      "Name: Age, Length: 891, dtype: bool\n",
      "--------------------------------------------------\n",
      "177\n",
      "--------------------------------------------------\n",
      "177\n",
      "--------------------------------------------------\n",
      "0.19865319865319866\n"
     ]
    }
   ],
   "source": [
    "print(titanic['Age'].isnull())\n",
    "print('-' * 50)\n",
    "print(titanic['Age'].isnull().sum())\n",
    "print('-' * 50)\n",
    "print(titanic['Age'].isna().sum())\n",
    "print('-' * 50)\n",
    "print(titanic['Age'].isna().sum() / len(titanic['Age']))"
   ]
  },
  {
   "cell_type": "markdown",
   "metadata": {
    "id": "_Ks6gabbEUMv"
   },
   "source": [
    "2) 결측치 식별 : 데이터프레임 전체"
   ]
  },
  {
   "cell_type": "code",
   "execution_count": 8,
   "metadata": {
    "colab": {
     "base_uri": "https://localhost:8080/"
    },
    "executionInfo": {
     "elapsed": 3,
     "status": "ok",
     "timestamp": 1644407480983,
     "user": {
      "displayName": "한기영",
      "photoUrl": "https://lh3.googleusercontent.com/a/default-user=s64",
      "userId": "13049187003176135487"
     },
     "user_tz": -540
    },
    "id": "l1H_fWwffjCJ",
    "outputId": "e49b3805-372c-4d3f-d1d9-d721e0be13a7"
   },
   "outputs": [
    {
     "name": "stdout",
     "output_type": "stream",
     "text": [
      "     PassengerId  Survived  Pclass   Name    Sex    Age  SibSp  Parch  Ticket  \\\n",
      "0          False     False   False  False  False  False  False  False   False   \n",
      "1          False     False   False  False  False  False  False  False   False   \n",
      "2          False     False   False  False  False  False  False  False   False   \n",
      "3          False     False   False  False  False  False  False  False   False   \n",
      "4          False     False   False  False  False  False  False  False   False   \n",
      "..           ...       ...     ...    ...    ...    ...    ...    ...     ...   \n",
      "886        False     False   False  False  False  False  False  False   False   \n",
      "887        False     False   False  False  False  False  False  False   False   \n",
      "888        False     False   False  False  False   True  False  False   False   \n",
      "889        False     False   False  False  False  False  False  False   False   \n",
      "890        False     False   False  False  False  False  False  False   False   \n",
      "\n",
      "      Fare  Cabin  Embarked  \n",
      "0    False   True     False  \n",
      "1    False  False     False  \n",
      "2    False   True     False  \n",
      "3    False  False     False  \n",
      "4    False   True     False  \n",
      "..     ...    ...       ...  \n",
      "886  False   True     False  \n",
      "887  False  False     False  \n",
      "888  False   True     False  \n",
      "889  False  False     False  \n",
      "890  False   True     False  \n",
      "\n",
      "[891 rows x 12 columns]\n",
      "--------------------------------------------------\n",
      "PassengerId      0\n",
      "Survived         0\n",
      "Pclass           0\n",
      "Name             0\n",
      "Sex              0\n",
      "Age            177\n",
      "SibSp            0\n",
      "Parch            0\n",
      "Ticket           0\n",
      "Fare             0\n",
      "Cabin          687\n",
      "Embarked         2\n",
      "dtype: int64\n",
      "--------------------------------------------------\n",
      "PassengerId      0\n",
      "Survived         0\n",
      "Pclass           0\n",
      "Name             0\n",
      "Sex              0\n",
      "Age            177\n",
      "SibSp            0\n",
      "Parch            0\n",
      "Ticket           0\n",
      "Fare             0\n",
      "Cabin          687\n",
      "Embarked         2\n",
      "dtype: int64\n"
     ]
    }
   ],
   "source": [
    "print(titanic.isnull())\n",
    "print('-' * 50)\n",
    "print(titanic.isnull().sum())\n",
    "print('-' * 50)\n",
    "print(titanic.isna().sum())"
   ]
  },
  {
   "cell_type": "markdown",
   "metadata": {
    "id": "77hF_wxn4S3Q"
   },
   "source": [
    "3) 결측치 시각화\n",
    "\n",
    "* seaborn 패키지는 다음 과에서 배웁니다. 여기서는 일단 사용해 봅시다.\n"
   ]
  },
  {
   "cell_type": "code",
   "execution_count": 9,
   "metadata": {
    "id": "zYA4ddCm4S3R"
   },
   "outputs": [],
   "source": [
    "import seaborn as sns"
   ]
  },
  {
   "cell_type": "code",
   "execution_count": 10,
   "metadata": {
    "colab": {
     "base_uri": "https://localhost:8080/",
     "height": 488
    },
    "executionInfo": {
     "elapsed": 738,
     "status": "ok",
     "timestamp": 1644407484251,
     "user": {
      "displayName": "한기영",
      "photoUrl": "https://lh3.googleusercontent.com/a/default-user=s64",
      "userId": "13049187003176135487"
     },
     "user_tz": -540
    },
    "id": "2zq8aWFo4dvm",
    "outputId": "67b1cde4-6ca8-435a-a66d-a1d5ec887a4a"
   },
   "outputs": [
    {
     "data": {
      "image/png": "[encoded data removed]",
      "text/plain": [
       "<Figure size 1080x576 with 2 Axes>"
      ]
     },
     "metadata": {
      "needs_background": "light"
     },
     "output_type": "display_data"
    }
   ],
   "source": [
    "plt.figure(figsize = (15,8))\n",
    "sns.heatmap(titanic.isnull())\n",
    "plt.show()"
   ]
  },
  {
   "cell_type": "markdown",
   "metadata": {
    "id": "MnWKss6G4xrx"
   },
   "source": [
    "3) 결측치로 인한 오류\n",
    "\n",
    "* 몇몇 함수들은 결측치가 있는 데이터를 그대로 이용할 때 제대로 작동하지 않거나 오류가 발생될 수 있습니다.\n"
   ]
  },
  {
   "cell_type": "markdown",
   "metadata": {
    "id": "WjXrnIUl5UHN"
   },
   "source": [
    "① 박스플롯이 제대로 그려지지 않습니다."
   ]
  },
  {
   "cell_type": "code",
   "execution_count": 11,
   "metadata": {
    "colab": {
     "base_uri": "https://localhost:8080/",
     "height": 265
    },
    "executionInfo": {
     "elapsed": 369,
     "status": "ok",
     "timestamp": 1644064718355,
     "user": {
      "displayName": "한기영",
      "photoUrl": "https://lh3.googleusercontent.com/a/default-user=s64",
      "userId": "13049187003176135487"
     },
     "user_tz": -540
    },
    "id": "ogPqTfTY4xrz",
    "outputId": "15dff828-e952-4479-88fb-f1f601634b33"
   },
   "outputs": [
    {
     "data": {
      "image/png": "[encoded data removed]",
      "text/plain": [
       "<Figure size 432x288 with 1 Axes>"
      ]
     },
     "metadata": {
      "needs_background": "light"
     },
     "output_type": "display_data"
    }
   ],
   "source": [
    "plt.boxplot(titanic['Age'])\n",
    "plt.show()"
   ]
  },
  {
   "cell_type": "markdown",
   "metadata": {
    "id": "F05bSXy35ZUg"
   },
   "source": [
    "② 계산에 오류가 발생됩니다.\n",
    "\n",
    "사례가 뒤에서 나오므로 그때 다시 설명하겠습니다.(상관분석, 로지스틱회귀 등)"
   ]
  },
  {
   "cell_type": "markdown",
   "metadata": {
    "id": "Yl9wExPp4HoN"
   },
   "source": [
    "* 그래서 이럴때는 NaN을 제외하고 함수를 실행해야 합니다.\n",
    "* 제외하는 방법 : .notnull()"
   ]
  },
  {
   "cell_type": "code",
   "execution_count": 12,
   "metadata": {
    "colab": {
     "base_uri": "https://localhost:8080/",
     "height": 502
    },
    "executionInfo": {
     "elapsed": 7,
     "status": "ok",
     "timestamp": 1644065177093,
     "user": {
      "displayName": "한기영",
      "photoUrl": "https://lh3.googleusercontent.com/a/default-user=s64",
      "userId": "13049187003176135487"
     },
     "user_tz": -540
    },
    "id": "MkqolX3g6wdj",
    "outputId": "2cedc9c1-e6ee-4b43-8a0c-8a8ae07c93b9"
   },
   "outputs": [
    {
     "data": {
      "text/html": [
       "<div>\n",
       "<style scoped>\n",
       "    .dataframe tbody tr th:only-of-type {\n",
       "        vertical-align: middle;\n",
       "    }\n",
       "\n",
       "    .dataframe tbody tr th {\n",
       "        vertical-align: top;\n",
       "    }\n",
       "\n",
       "    .dataframe thead th {\n",
       "        text-align: right;\n",
       "    }\n",
       "</style>\n",
       "<table border=\"1\" class=\"dataframe\">\n",
       "  <thead>\n",
       "    <tr style=\"text-align: right;\">\n",
       "      <th></th>\n",
       "      <th>PassengerId</th>\n",
       "      <th>Survived</th>\n",
       "      <th>Pclass</th>\n",
       "      <th>Name</th>\n",
       "      <th>Sex</th>\n",
       "      <th>Age</th>\n",
       "      <th>SibSp</th>\n",
       "      <th>Parch</th>\n",
       "      <th>Ticket</th>\n",
       "      <th>Fare</th>\n",
       "      <th>Cabin</th>\n",
       "      <th>Embarked</th>\n",
       "    </tr>\n",
       "  </thead>\n",
       "  <tbody>\n",
       "    <tr>\n",
       "      <th>0</th>\n",
       "      <td>1</td>\n",
       "      <td>0</td>\n",
       "      <td>3</td>\n",
       "      <td>Braund, Mr. Owen Harris</td>\n",
       "      <td>male</td>\n",
       "      <td>22.0</td>\n",
       "      <td>1</td>\n",
       "      <td>0</td>\n",
       "      <td>A/5 21171</td>\n",
       "      <td>7.2500</td>\n",
       "      <td>NaN</td>\n",
       "      <td>S</td>\n",
       "    </tr>\n",
       "    <tr>\n",
       "      <th>1</th>\n",
       "      <td>2</td>\n",
       "      <td>1</td>\n",
       "      <td>1</td>\n",
       "      <td>Cumings, Mrs. John Bradley (Florence Briggs Th...</td>\n",
       "      <td>female</td>\n",
       "      <td>38.0</td>\n",
       "      <td>1</td>\n",
       "      <td>0</td>\n",
       "      <td>PC 17599</td>\n",
       "      <td>71.2833</td>\n",
       "      <td>C85</td>\n",
       "      <td>C</td>\n",
       "    </tr>\n",
       "    <tr>\n",
       "      <th>2</th>\n",
       "      <td>3</td>\n",
       "      <td>1</td>\n",
       "      <td>3</td>\n",
       "      <td>Heikkinen, Miss. Laina</td>\n",
       "      <td>female</td>\n",
       "      <td>26.0</td>\n",
       "      <td>0</td>\n",
       "      <td>0</td>\n",
       "      <td>STON/O2. 3101282</td>\n",
       "      <td>7.9250</td>\n",
       "      <td>NaN</td>\n",
       "      <td>S</td>\n",
       "    </tr>\n",
       "    <tr>\n",
       "      <th>3</th>\n",
       "      <td>4</td>\n",
       "      <td>1</td>\n",
       "      <td>1</td>\n",
       "      <td>Futrelle, Mrs. Jacques Heath (Lily May Peel)</td>\n",
       "      <td>female</td>\n",
       "      <td>35.0</td>\n",
       "      <td>1</td>\n",
       "      <td>0</td>\n",
       "      <td>113803</td>\n",
       "      <td>53.1000</td>\n",
       "      <td>C123</td>\n",
       "      <td>S</td>\n",
       "    </tr>\n",
       "    <tr>\n",
       "      <th>4</th>\n",
       "      <td>5</td>\n",
       "      <td>0</td>\n",
       "      <td>3</td>\n",
       "      <td>Allen, Mr. William Henry</td>\n",
       "      <td>male</td>\n",
       "      <td>35.0</td>\n",
       "      <td>0</td>\n",
       "      <td>0</td>\n",
       "      <td>373450</td>\n",
       "      <td>8.0500</td>\n",
       "      <td>NaN</td>\n",
       "      <td>S</td>\n",
       "    </tr>\n",
       "    <tr>\n",
       "      <th>...</th>\n",
       "      <td>...</td>\n",
       "      <td>...</td>\n",
       "      <td>...</td>\n",
       "      <td>...</td>\n",
       "      <td>...</td>\n",
       "      <td>...</td>\n",
       "      <td>...</td>\n",
       "      <td>...</td>\n",
       "      <td>...</td>\n",
       "      <td>...</td>\n",
       "      <td>...</td>\n",
       "      <td>...</td>\n",
       "    </tr>\n",
       "    <tr>\n",
       "      <th>885</th>\n",
       "      <td>886</td>\n",
       "      <td>0</td>\n",
       "      <td>3</td>\n",
       "      <td>Rice, Mrs. William (Margaret Norton)</td>\n",
       "      <td>female</td>\n",
       "      <td>39.0</td>\n",
       "      <td>0</td>\n",
       "      <td>5</td>\n",
       "      <td>382652</td>\n",
       "      <td>29.1250</td>\n",
       "      <td>NaN</td>\n",
       "      <td>Q</td>\n",
       "    </tr>\n",
       "    <tr>\n",
       "      <th>886</th>\n",
       "      <td>887</td>\n",
       "      <td>0</td>\n",
       "      <td>2</td>\n",
       "      <td>Montvila, Rev. Juozas</td>\n",
       "      <td>male</td>\n",
       "      <td>27.0</td>\n",
       "      <td>0</td>\n",
       "      <td>0</td>\n",
       "      <td>211536</td>\n",
       "      <td>13.0000</td>\n",
       "      <td>NaN</td>\n",
       "      <td>S</td>\n",
       "    </tr>\n",
       "    <tr>\n",
       "      <th>887</th>\n",
       "      <td>888</td>\n",
       "      <td>1</td>\n",
       "      <td>1</td>\n",
       "      <td>Graham, Miss. Margaret Edith</td>\n",
       "      <td>female</td>\n",
       "      <td>19.0</td>\n",
       "      <td>0</td>\n",
       "      <td>0</td>\n",
       "      <td>112053</td>\n",
       "      <td>30.0000</td>\n",
       "      <td>B42</td>\n",
       "      <td>S</td>\n",
       "    </tr>\n",
       "    <tr>\n",
       "      <th>889</th>\n",
       "      <td>890</td>\n",
       "      <td>1</td>\n",
       "      <td>1</td>\n",
       "      <td>Behr, Mr. Karl Howell</td>\n",
       "      <td>male</td>\n",
       "      <td>26.0</td>\n",
       "      <td>0</td>\n",
       "      <td>0</td>\n",
       "      <td>111369</td>\n",
       "      <td>30.0000</td>\n",
       "      <td>C148</td>\n",
       "      <td>C</td>\n",
       "    </tr>\n",
       "    <tr>\n",
       "      <th>890</th>\n",
       "      <td>891</td>\n",
       "      <td>0</td>\n",
       "      <td>3</td>\n",
       "      <td>Dooley, Mr. Patrick</td>\n",
       "      <td>male</td>\n",
       "      <td>32.0</td>\n",
       "      <td>0</td>\n",
       "      <td>0</td>\n",
       "      <td>370376</td>\n",
       "      <td>7.7500</td>\n",
       "      <td>NaN</td>\n",
       "      <td>Q</td>\n",
       "    </tr>\n",
       "  </tbody>\n",
       "</table>\n",
       "<p>714 rows × 12 columns</p>\n",
       "</div>"
      ],
      "text/plain": [
       "     PassengerId  Survived  Pclass  \\\n",
       "0              1         0       3   \n",
       "1              2         1       1   \n",
       "2              3         1       3   \n",
       "3              4         1       1   \n",
       "4              5         0       3   \n",
       "..           ...       ...     ...   \n",
       "885          886         0       3   \n",
       "886          887         0       2   \n",
       "887          888         1       1   \n",
       "889          890         1       1   \n",
       "890          891         0       3   \n",
       "\n",
       "                                                  Name     Sex   Age  SibSp  \\\n",
       "0                              Braund, Mr. Owen Harris    male  22.0      1   \n",
       "1    Cumings, Mrs. John Bradley (Florence Briggs Th...  female  38.0      1   \n",
       "2                               Heikkinen, Miss. Laina  female  26.0      0   \n",
       "3         Futrelle, Mrs. Jacques Heath (Lily May Peel)  female  35.0      1   \n",
       "4                             Allen, Mr. William Henry    male  35.0      0   \n",
       "..                                                 ...     ...   ...    ...   \n",
       "885               Rice, Mrs. William (Margaret Norton)  female  39.0      0   \n",
       "886                              Montvila, Rev. Juozas    male  27.0      0   \n",
       "887                       Graham, Miss. Margaret Edith  female  19.0      0   \n",
       "889                              Behr, Mr. Karl Howell    male  26.0      0   \n",
       "890                                Dooley, Mr. Patrick    male  32.0      0   \n",
       "\n",
       "     Parch            Ticket     Fare Cabin Embarked  \n",
       "0        0         A/5 21171   7.2500   NaN        S  \n",
       "1        0          PC 17599  71.2833   C85        C  \n",
       "2        0  STON/O2. 3101282   7.9250   NaN        S  \n",
       "3        0            113803  53.1000  C123        S  \n",
       "4        0            373450   8.0500   NaN        S  \n",
       "..     ...               ...      ...   ...      ...  \n",
       "885      5            382652  29.1250   NaN        Q  \n",
       "886      0            211536  13.0000   NaN        S  \n",
       "887      0            112053  30.0000   B42        S  \n",
       "889      0            111369  30.0000  C148        C  \n",
       "890      0            370376   7.7500   NaN        Q  \n",
       "\n",
       "[714 rows x 12 columns]"
      ]
     },
     "execution_count": 12,
     "metadata": {},
     "output_type": "execute_result"
    }
   ],
   "source": [
    "# Age에 NaN이 있는 행은 제외\n",
    "titanic.loc[titanic['Age'].notnull()]"
   ]
  },
  {
   "cell_type": "code",
   "execution_count": null,
   "metadata": {
    "id": "BOhG1Ux26xb-"
   },
   "outputs": [],
   "source": []
  },
  {
   "cell_type": "markdown",
   "metadata": {
    "id": "fX2If7079Fuh"
   },
   "source": [
    "# [실습] 단변량분석 종합실습 : 직원이직 분석"
   ]
  },
  {
   "cell_type": "markdown",
   "metadata": {
    "id": "t42CZ_o2iHvT"
   },
   "source": [
    "* 회사 인사팀에서는 AIVLER 들에게 직원의 이직여부과 관련해서 분석을 요청하였습니다.\n",
    "* 최근 이직율이 증가하는 것에 대해 우려를 갖고 있기에, 이직여부에 영향을 주는 요인에 대해 분석하여, 직원들이 회사를 떠나지 않도록 인사 프로그램을 준비하려고 합니다.\n",
    "* 필요하다면, 검색을 통해 '직원이 회사를 떠나는 이유' 등을 찾아보는 것은 데이터 분석을 하는데 도움이 될 것입니다.\n",
    "* 자, 이제 인사팀에서 제공한 데이터를 바탕으로 각각 개별 변수의 분포를 살펴보며, 비즈니스 인사이트를 최대한 도출해 봅시다.\n"
   ]
  },
  {
   "cell_type": "markdown",
   "metadata": {
    "id": "8nohOtnU9lo_"
   },
   "source": [
    "**단변량 분석 할 때 확인해야 할 점들**\n",
    "\n",
    "* 개별 변수의 분포로 부터…\n",
    "    * 값의 범위 확인\n",
    "    * 데이터가 모여 있는 구간(혹은 범주)와 희박한 구간(혹은 범주) 확인\n",
    "    * 이상치 확인 및 조치 방안\n",
    "    * 결측치 확인 및 조치 방안\n",
    "    * 가변수화, 스케일링 대상 선별\n",
    "\n",
    "* 비즈니스의 일반 사항과 특이사항을 도출\n",
    "    * 추가 분석 대상 도출.\n"
   ]
  },
  {
   "cell_type": "markdown",
   "metadata": {
    "id": "DAR82IvULLEt"
   },
   "source": [
    "## 0.환경준비"
   ]
  },
  {
   "cell_type": "code",
   "execution_count": 77,
   "metadata": {
    "id": "bTVrr9iaLNsy"
   },
   "outputs": [],
   "source": [
    "import pandas as pd\n",
    "import numpy as np\n",
    "\n",
    "import matplotlib.pyplot as plt\n",
    "import seaborn as sns"
   ]
  },
  {
   "cell_type": "markdown",
   "metadata": {
    "id": "k7uydL4kJ4q9"
   },
   "source": [
    "![](https://adoptostaging.blob.core.windows.net/media/employee-attrition-reasons-9LIqMv.jpg)"
   ]
  },
  {
   "cell_type": "markdown",
   "metadata": {
    "id": "v50TP8BhMJKx"
   },
   "source": [
    "|\t구분\t|\t변수 명\t|\t내용\t|\ttype\t|\t비고\t|\n",
    "|\t----\t|\t----\t|\t----\t|\t----\t|\t----\t|\n",
    "|\t**Target**\t|\t**Attrition**\t|\t이직여부, \t|\t범주\t|Yes , No\t\t|\n",
    "|\tfeature\t|\tAge\t|\t나이\t|\t숫자\t|\t\t|\n",
    "|\tfeature\t|\tBusinessTravel\t|\t출장빈도\t|\t범주\t|Travel_Rarely, Travel_Frequently, Non-Travel\t\t|\n",
    "|\tfeature\t|\tDepartment\t|\t부서\t|\t범주\t|Research & Development, Sales, Human Resources\t|\n",
    "|\tfeature\t|\tDistanceFromHome\t|\t집-직장 거리\t|\t숫자\t|\t마일\t|\n",
    "|\tfeature\t|\tEmployeeNumber\t|\t사번\t|\t??\t|\t\t|\n",
    "|\tfeature\t|\tGender\t|\t성별\t|\t범주\t| Male, Female\t\t|\n",
    "|\tfeature\t|\tJobSatisfaction\t|\t직무 만족도\t|\t범주\t|\t1 Low, 2 Medium, 3 High, 4 Very High\t|\n",
    "|\tfeature\t|\tMaritalStatus\t|\t결혼상태\t|\t범주\t| Single, Married, Divorced\t\t|\n",
    "|\tfeature\t|\tMonthlyIncome\t|\t월급\t|\t숫자\t| 달러\t|\n",
    "|\tfeature\t|\tOverTime\t|\t야근여부\t|\t범주\t|\tYes, No\t|\n",
    "|\tfeature\t|\tPercentSalaryHike\t|\t전년대비 급여인상율\t|\t숫자\t|\t%\t|\n",
    "|\tfeature\t|\tRelationshipSatisfaction\t|\t관계만족도\t|\t범주\t| 1 Low, 2 Medium, 3 High, 4 Very High|\n",
    "|\tfeature\t|\tStockOptionLevel\t|\t스톡옵션레벨\t|\t범주\t| 0 : 없음, 1~3 (클수록 스톡옵션을 많이 받음|\n",
    "|\tfeature\t|\tTotalWorkingYears\t|\t총 경력 연수\t|\t숫자\t|\t\t|\n",
    "|\tfeature\t|\tWorkLifeBalance\t|\t워라밸\t|\t범주\t| 1 Low, 2 Medium, 3 High, 4 Very High"
   ]
  },
  {
   "cell_type": "code",
   "execution_count": 78,
   "metadata": {
    "colab": {
     "base_uri": "https://localhost:8080/",
     "height": 322
    },
    "executionInfo": {
     "elapsed": 354,
     "status": "ok",
     "timestamp": 1644493778658,
     "user": {
      "displayName": "한기영",
      "photoUrl": "https://lh3.googleusercontent.com/a/default-user=s64",
      "userId": "13049187003176135487"
     },
     "user_tz": -540
    },
    "id": "BId8Kj4t9Fu5",
    "outputId": "f26c1bc5-d903-4015-e239-52b971e4c900"
   },
   "outputs": [
    {
     "data": {
      "text/html": [
       "<div>\n",
       "<style scoped>\n",
       "    .dataframe tbody tr th:only-of-type {\n",
       "        vertical-align: middle;\n",
       "    }\n",
       "\n",
       "    .dataframe tbody tr th {\n",
       "        vertical-align: top;\n",
       "    }\n",
       "\n",
       "    .dataframe thead th {\n",
       "        text-align: right;\n",
       "    }\n",
       "</style>\n",
       "<table border=\"1\" class=\"dataframe\">\n",
       "  <thead>\n",
       "    <tr style=\"text-align: right;\">\n",
       "      <th></th>\n",
       "      <th>Attrition</th>\n",
       "      <th>Age</th>\n",
       "      <th>BusinessTravel</th>\n",
       "      <th>Department</th>\n",
       "      <th>DistanceFromHome</th>\n",
       "      <th>EmployeeNumber</th>\n",
       "      <th>Gender</th>\n",
       "      <th>JobSatisfaction</th>\n",
       "      <th>MaritalStatus</th>\n",
       "      <th>MonthlyIncome</th>\n",
       "      <th>OverTime</th>\n",
       "      <th>PercentSalaryHike</th>\n",
       "      <th>RelationshipSatisfaction</th>\n",
       "      <th>StockOptionLevel</th>\n",
       "      <th>TotalWorkingYears</th>\n",
       "      <th>WorkLifeBalance</th>\n",
       "    </tr>\n",
       "  </thead>\n",
       "  <tbody>\n",
       "    <tr>\n",
       "      <th>0</th>\n",
       "      <td>No</td>\n",
       "      <td>33</td>\n",
       "      <td>Travel_Rarely</td>\n",
       "      <td>Research &amp; Development</td>\n",
       "      <td>7.0</td>\n",
       "      <td>817</td>\n",
       "      <td>Male</td>\n",
       "      <td>3</td>\n",
       "      <td>Married</td>\n",
       "      <td>11691</td>\n",
       "      <td>No</td>\n",
       "      <td>11</td>\n",
       "      <td>4</td>\n",
       "      <td>0</td>\n",
       "      <td>14</td>\n",
       "      <td>4</td>\n",
       "    </tr>\n",
       "    <tr>\n",
       "      <th>1</th>\n",
       "      <td>No</td>\n",
       "      <td>35</td>\n",
       "      <td>Travel_Frequently</td>\n",
       "      <td>Research &amp; Development</td>\n",
       "      <td>18.0</td>\n",
       "      <td>1412</td>\n",
       "      <td>Male</td>\n",
       "      <td>4</td>\n",
       "      <td>Single</td>\n",
       "      <td>9362</td>\n",
       "      <td>No</td>\n",
       "      <td>11</td>\n",
       "      <td>3</td>\n",
       "      <td>0</td>\n",
       "      <td>10</td>\n",
       "      <td>3</td>\n",
       "    </tr>\n",
       "    <tr>\n",
       "      <th>2</th>\n",
       "      <td>No</td>\n",
       "      <td>42</td>\n",
       "      <td>Travel_Rarely</td>\n",
       "      <td>Research &amp; Development</td>\n",
       "      <td>6.0</td>\n",
       "      <td>1911</td>\n",
       "      <td>Male</td>\n",
       "      <td>1</td>\n",
       "      <td>Married</td>\n",
       "      <td>13348</td>\n",
       "      <td>No</td>\n",
       "      <td>13</td>\n",
       "      <td>2</td>\n",
       "      <td>1</td>\n",
       "      <td>18</td>\n",
       "      <td>4</td>\n",
       "    </tr>\n",
       "    <tr>\n",
       "      <th>3</th>\n",
       "      <td>No</td>\n",
       "      <td>46</td>\n",
       "      <td>Travel_Rarely</td>\n",
       "      <td>Sales</td>\n",
       "      <td>2.0</td>\n",
       "      <td>1204</td>\n",
       "      <td>Female</td>\n",
       "      <td>1</td>\n",
       "      <td>Married</td>\n",
       "      <td>17048</td>\n",
       "      <td>No</td>\n",
       "      <td>23</td>\n",
       "      <td>1</td>\n",
       "      <td>0</td>\n",
       "      <td>28</td>\n",
       "      <td>3</td>\n",
       "    </tr>\n",
       "    <tr>\n",
       "      <th>4</th>\n",
       "      <td>No</td>\n",
       "      <td>39</td>\n",
       "      <td>Travel_Frequently</td>\n",
       "      <td>Sales</td>\n",
       "      <td>NaN</td>\n",
       "      <td>1812</td>\n",
       "      <td>Male</td>\n",
       "      <td>4</td>\n",
       "      <td>Divorced</td>\n",
       "      <td>4127</td>\n",
       "      <td>No</td>\n",
       "      <td>18</td>\n",
       "      <td>4</td>\n",
       "      <td>1</td>\n",
       "      <td>7</td>\n",
       "      <td>3</td>\n",
       "    </tr>\n",
       "  </tbody>\n",
       "</table>\n",
       "</div>"
      ],
      "text/plain": [
       "  Attrition  Age     BusinessTravel              Department  DistanceFromHome  \\\n",
       "0        No   33      Travel_Rarely  Research & Development               7.0   \n",
       "1        No   35  Travel_Frequently  Research & Development              18.0   \n",
       "2        No   42      Travel_Rarely  Research & Development               6.0   \n",
       "3        No   46      Travel_Rarely                   Sales               2.0   \n",
       "4        No   39  Travel_Frequently                   Sales               NaN   \n",
       "\n",
       "   EmployeeNumber  Gender  JobSatisfaction MaritalStatus  MonthlyIncome  \\\n",
       "0             817    Male                3       Married          11691   \n",
       "1            1412    Male                4        Single           9362   \n",
       "2            1911    Male                1       Married          13348   \n",
       "3            1204  Female                1       Married          17048   \n",
       "4            1812    Male                4      Divorced           4127   \n",
       "\n",
       "  OverTime  PercentSalaryHike  RelationshipSatisfaction  StockOptionLevel  \\\n",
       "0       No                 11                         4                 0   \n",
       "1       No                 11                         3                 0   \n",
       "2       No                 13                         2                 1   \n",
       "3       No                 23                         1                 0   \n",
       "4       No                 18                         4                 1   \n",
       "\n",
       "   TotalWorkingYears  WorkLifeBalance  \n",
       "0                 14                4  \n",
       "1                 10                3  \n",
       "2                 18                4  \n",
       "3                 28                3  \n",
       "4                  7                3  "
      ]
     },
     "execution_count": 78,
     "metadata": {},
     "output_type": "execute_result"
    }
   ],
   "source": [
    "# data data\n",
    "path = \"https://raw.githubusercontent.com/DA4BAM/dataset/master/Attrition_NA.CSV\"\n",
    "attrition = pd.read_csv(path)\n",
    "attrition.drop(['Education','EducationField', 'EnvironmentSatisfaction', 'JobRole', 'JobInvolvement','NumCompaniesWorked','TrainingTimesLastYear','YearsAtCompany','YearsInCurrentRole','YearsWithCurrManager']\n",
    "               , axis = 1, inplace = True)\n",
    "attrition.head()"
   ]
  },
  {
   "cell_type": "markdown",
   "metadata": {
    "id": "bBRhuVPyf4td"
   },
   "source": [
    "## 숫자형 변수 : "
   ]
  },
  {
   "cell_type": "markdown",
   "metadata": {
    "id": "PNYSvDDBdtZA"
   },
   "source": [
    "### ① Age"
   ]
  },
  {
   "cell_type": "code",
   "execution_count": 79,
   "metadata": {
    "id": "NRIsridhK3el"
   },
   "outputs": [],
   "source": [
    "var= 'Age'"
   ]
  },
  {
   "cell_type": "markdown",
   "metadata": {
    "id": "6H1XUqWEIZ0c"
   },
   "source": [
    "1) 변수의 비즈니스 의미"
   ]
  },
  {
   "cell_type": "markdown",
   "metadata": {
    "id": "i62N9PVRKD5n"
   },
   "source": [
    "> 직원 나이"
   ]
  },
  {
   "cell_type": "markdown",
   "metadata": {
    "id": "o9aiDpJZIZi-"
   },
   "source": [
    "2) 숫자, 범주?"
   ]
  },
  {
   "cell_type": "markdown",
   "metadata": {
    "id": "Y9p3Tsx6IZdV"
   },
   "source": [
    "> 숫자"
   ]
  },
  {
   "cell_type": "markdown",
   "metadata": {
    "id": "l48kdR5Xfbl1"
   },
   "source": [
    "3) NaN 존재 유무 및 조치방안"
   ]
  },
  {
   "cell_type": "code",
   "execution_count": 80,
   "metadata": {
    "colab": {
     "base_uri": "https://localhost:8080/"
    },
    "executionInfo": {
     "elapsed": 49,
     "status": "ok",
     "timestamp": 1644492196109,
     "user": {
      "displayName": "한기영",
      "photoUrl": "https://lh3.googleusercontent.com/a/default-user=s64",
      "userId": "13049187003176135487"
     },
     "user_tz": -540
    },
    "id": "hCn91k1sIZOO",
    "outputId": "9fc50968-22ee-4094-e090-5a88b4802161"
   },
   "outputs": [
    {
     "data": {
      "text/plain": [
       "0"
      ]
     },
     "execution_count": 80,
     "metadata": {},
     "output_type": "execute_result"
    }
   ],
   "source": [
    "attrition[var].isna().sum()"
   ]
  },
  {
   "cell_type": "markdown",
   "metadata": {
    "id": "Hp5fgxVIKZ-z"
   },
   "source": [
    "> NaN은 존재하지 않음"
   ]
  },
  {
   "cell_type": "markdown",
   "metadata": {
    "id": "5d5JYEBCIZID"
   },
   "source": [
    "4) 기초통계량(수치화)"
   ]
  },
  {
   "cell_type": "code",
   "execution_count": 81,
   "metadata": {
    "colab": {
     "base_uri": "https://localhost:8080/"
    },
    "executionInfo": {
     "elapsed": 2,
     "status": "ok",
     "timestamp": 1644492197577,
     "user": {
      "displayName": "한기영",
      "photoUrl": "https://lh3.googleusercontent.com/a/default-user=s64",
      "userId": "13049187003176135487"
     },
     "user_tz": -540
    },
    "id": "F151PJCNIZBU",
    "outputId": "90d70c76-5660-4374-f02a-2a4f233b0dd5"
   },
   "outputs": [
    {
     "data": {
      "text/plain": [
       "count    1250.000000\n",
       "mean       36.931200\n",
       "std         9.122162\n",
       "min        18.000000\n",
       "25%        30.000000\n",
       "50%        36.000000\n",
       "75%        43.000000\n",
       "max        60.000000\n",
       "Name: Age, dtype: float64"
      ]
     },
     "execution_count": 81,
     "metadata": {},
     "output_type": "execute_result"
    }
   ],
   "source": [
    "attrition[var].describe()"
   ]
  },
  {
   "cell_type": "markdown",
   "metadata": {
    "id": "e1yzg_B8IY5M"
   },
   "source": [
    "5) 분포 확인(시각화)"
   ]
  },
  {
   "cell_type": "code",
   "execution_count": 82,
   "metadata": {
    "colab": {
     "base_uri": "https://localhost:8080/",
     "height": 279
    },
    "executionInfo": {
     "elapsed": 1019,
     "status": "ok",
     "timestamp": 1644492202243,
     "user": {
      "displayName": "한기영",
      "photoUrl": "https://lh3.googleusercontent.com/a/default-user=s64",
      "userId": "13049187003176135487"
     },
     "user_tz": -540
    },
    "id": "_Lb2G500IYyF",
    "outputId": "4a37aea2-656f-4af8-83b3-db3a4af2f8ec"
   },
   "outputs": [
    {
     "data": {
      "image/png": "[encoded data removed]",
      "text/plain": [
       "<Figure size 432x288 with 1 Axes>"
      ]
     },
     "metadata": {
      "needs_background": "light"
     },
     "output_type": "display_data"
    }
   ],
   "source": [
    "sns.histplot(attrition[var], bins = 20)\n",
    "plt.show()"
   ]
  },
  {
   "cell_type": "code",
   "execution_count": 83,
   "metadata": {
    "colab": {
     "base_uri": "https://localhost:8080/",
     "height": 302
    },
    "executionInfo": {
     "elapsed": 25,
     "status": "ok",
     "timestamp": 1644492134595,
     "user": {
      "displayName": "한기영",
      "photoUrl": "https://lh3.googleusercontent.com/a/default-user=s64",
      "userId": "13049187003176135487"
     },
     "user_tz": -540
    },
    "id": "xm7IgKJVLsET",
    "outputId": "b69b8deb-fd4b-4363-e604-bf0445f41024"
   },
   "outputs": [
    {
     "data": {
      "image/png": "[encoded data removed]",
      "text/plain": [
       "<Figure size 432x288 with 1 Axes>"
      ]
     },
     "metadata": {
      "needs_background": "light"
     },
     "output_type": "display_data"
    },
    {
     "name": "stdout",
     "output_type": "stream",
     "text": [
      "[30. 18.]\n",
      "[43. 60.]\n"
     ]
    }
   ],
   "source": [
    "box = plt.boxplot(attrition[var])\n",
    "plt.show()\n",
    "\n",
    "print(box['whiskers'][0].get_ydata())\n",
    "print(box['whiskers'][1].get_ydata())"
   ]
  },
  {
   "cell_type": "markdown",
   "metadata": {
    "id": "yRUYICkIIuc0"
   },
   "source": [
    "6) 기초통계량과 분포를 통해서 파악한 내용을 적어 봅시다.\n",
    "\n",
    "보이는 그대로를 넘어, 비즈니스 관점에서 고민하며 적어 봅시다."
   ]
  },
  {
   "cell_type": "markdown",
   "metadata": {
    "id": "BOfzt-I5U-5o"
   },
   "source": [
    "* 30대가 주축을 이루고 있음\n",
    "* 18세 : 입사 가능 연령\n",
    "* 60세 : 정년\n",
    "* 40세 이후에 조금은 급격히 줄어드는 것으로 보아, 이때가 퇴사를 많이 하는 시점으로 보임. (보통 대기업에서 40대에 승진에서 누락되는 사람들, 새로운 분야로 진출하려는 사람들, 창업자들이 많아짐)"
   ]
  },
  {
   "cell_type": "markdown",
   "metadata": {
    "id": "3ZVNnImDIyRE"
   },
   "source": [
    "7) 추가 분석해 볼 사항이 있나요?"
   ]
  },
  {
   "cell_type": "markdown",
   "metadata": {
    "id": "67O2ze2WU_vb"
   },
   "source": [
    "* 적절한(단순히 10살 단위가 아닌) 연령대로 분할하고, 연령대 별로 이직여부(이직율)을 검토해볼 필요가 있음\n",
    "    * 직원들의 라이프사이클 파악 필요. 대졸, 입사 2~3년차, 5년차, 7년차 등 승진 및 이직을 고려하는 일반적인 시기 등 감안"
   ]
  },
  {
   "cell_type": "markdown",
   "metadata": {
    "id": "0OMgl0CWrPqj"
   },
   "source": [
    "### ② DistanceFromHome\t"
   ]
  },
  {
   "cell_type": "code",
   "execution_count": 84,
   "metadata": {
    "id": "WYyl98wIeJFs"
   },
   "outputs": [],
   "source": [
    "var = 'DistanceFromHome'"
   ]
  },
  {
   "cell_type": "markdown",
   "metadata": {
    "id": "D2GMLTtXI1oq"
   },
   "source": [
    "1) 변수의 비즈니스 의미"
   ]
  },
  {
   "cell_type": "markdown",
   "metadata": {
    "id": "KC825STCauLo"
   },
   "source": [
    "> * 집-직장 거리"
   ]
  },
  {
   "cell_type": "markdown",
   "metadata": {
    "id": "giLkqBaAI1or"
   },
   "source": [
    "2) 숫자, 범주?"
   ]
  },
  {
   "cell_type": "markdown",
   "metadata": {
    "id": "No2cgiGyavod"
   },
   "source": [
    "> * 숫자"
   ]
  },
  {
   "cell_type": "markdown",
   "metadata": {
    "id": "B-JTRSe3I1or"
   },
   "source": [
    "3) NaN 존재 유무 및 조치방안"
   ]
  },
  {
   "cell_type": "code",
   "execution_count": 85,
   "metadata": {
    "id": "jlxGlCJMaxQZ"
   },
   "outputs": [
    {
     "data": {
      "text/plain": [
       "54"
      ]
     },
     "execution_count": 85,
     "metadata": {},
     "output_type": "execute_result"
    }
   ],
   "source": [
    "attrition[var].isna().sum()"
   ]
  },
  {
   "cell_type": "markdown",
   "metadata": {
    "id": "ATkE_BV4I1os"
   },
   "source": [
    "4) 기초통계량(수치화)"
   ]
  },
  {
   "cell_type": "code",
   "execution_count": 86,
   "metadata": {
    "id": "HvjYxr5BayMS"
   },
   "outputs": [
    {
     "data": {
      "text/plain": [
       "count    1196.000000\n",
       "mean        9.258361\n",
       "std         8.166016\n",
       "min         1.000000\n",
       "25%         2.000000\n",
       "50%         7.000000\n",
       "75%        14.000000\n",
       "max        29.000000\n",
       "Name: DistanceFromHome, dtype: float64"
      ]
     },
     "execution_count": 86,
     "metadata": {},
     "output_type": "execute_result"
    }
   ],
   "source": [
    "attrition[var].describe()"
   ]
  },
  {
   "cell_type": "markdown",
   "metadata": {
    "id": "hsXz3J7aI1os"
   },
   "source": [
    "5) 분포 확인(시각화)"
   ]
  },
  {
   "cell_type": "code",
   "execution_count": 87,
   "metadata": {
    "id": "Or3r6dBIa0xo",
    "scrolled": true
   },
   "outputs": [
    {
     "data": {
      "image/png": "[encoded data removed]",
      "text/plain": [
       "<Figure size 432x288 with 1 Axes>"
      ]
     },
     "metadata": {
      "needs_background": "light"
     },
     "output_type": "display_data"
    }
   ],
   "source": [
    "sns.histplot(attrition[var], bins=20)\n",
    "plt.show()"
   ]
  },
  {
   "cell_type": "code",
   "execution_count": 88,
   "metadata": {},
   "outputs": [
    {
     "data": {
      "image/png": "[encoded data removed]",
      "text/plain": [
       "<Figure size 432x288 with 1 Axes>"
      ]
     },
     "metadata": {
      "needs_background": "light"
     },
     "output_type": "display_data"
    },
    {
     "name": "stdout",
     "output_type": "stream",
     "text": [
      "[2. 1.]\n",
      "[14. 29.]\n"
     ]
    }
   ],
   "source": [
    "box = plt.boxplot(attrition[attrition[var].notna()][var])\n",
    "plt.show()\n",
    "\n",
    "print(box['whiskers'][0].get_ydata())\n",
    "print(box['whiskers'][1].get_ydata())"
   ]
  },
  {
   "cell_type": "markdown",
   "metadata": {
    "id": "y4u60O2JI1ot"
   },
   "source": [
    "6) 기초통계량과 분포를 통해서 파악한 내용을 적어 봅시다.\n",
    "\n",
    "보이는 그대로를 넘어, 비즈니스 관점에서 고민하며 적어 봅시다."
   ]
  },
  {
   "cell_type": "markdown",
   "metadata": {
    "id": "FK9KjR9BVYqi"
   },
   "source": [
    "* 집과 회사의 거리가 10마일 미만이 주를 이루고 있다.\n",
    "* 최대는 29마일인 것으로 보입니다.\n",
    "* 회사를 선택하는데 회사와 집까지의 거리를 중요시 생각하는 것 같습니다."
   ]
  },
  {
   "cell_type": "markdown",
   "metadata": {
    "id": "iJ96hNV3I1ot"
   },
   "source": [
    "7) 추가 분석해 볼 사항이 있나요?"
   ]
  },
  {
   "cell_type": "markdown",
   "metadata": {
    "id": "ICoBfnCJVZ1M"
   },
   "source": [
    "* 거리를 범주화를 통해 거리에 따른 이직률을 확인할 필요가 있어보입니다.\n",
    "* 결측치가 있습니다. boxplot은 결측치를 제외하고 그렸으나 결측치 처리 방법에 대해 생각해볼 필요가 있어보입니다.\n",
    "* 거주지가 회사를 위해 이사를 했는지에 대한 데이터도 필요해보입니다.\n",
    "    * 회사와 집이 가까워도 주거비용에 따른 이직이 있을 수도 있기 때문입니다."
   ]
  },
  {
   "cell_type": "markdown",
   "metadata": {
    "id": "dE0Tdvu4rY42"
   },
   "source": [
    "### ③ MonthlyIncome"
   ]
  },
  {
   "cell_type": "code",
   "execution_count": 89,
   "metadata": {
    "id": "boNgXYbZa4B9"
   },
   "outputs": [],
   "source": [
    "var = 'MonthlyIncome'"
   ]
  },
  {
   "cell_type": "markdown",
   "metadata": {
    "id": "ZJAq2-Cqa4B9"
   },
   "source": [
    "1) 변수의 비즈니스 의미"
   ]
  },
  {
   "cell_type": "markdown",
   "metadata": {
    "id": "WG7RsCm0a4B9"
   },
   "source": [
    "> * 월급"
   ]
  },
  {
   "cell_type": "markdown",
   "metadata": {
    "id": "FuisxESNa4B9"
   },
   "source": [
    "2) 숫자, 범주?"
   ]
  },
  {
   "cell_type": "markdown",
   "metadata": {
    "id": "q_FSvCyla4B9"
   },
   "source": [
    "> * 숫자"
   ]
  },
  {
   "cell_type": "markdown",
   "metadata": {
    "id": "mmMQE8kUfc_G"
   },
   "source": [
    "3) NaN 존재 유무 및 조치방안"
   ]
  },
  {
   "cell_type": "code",
   "execution_count": 90,
   "metadata": {
    "id": "Acmnacl6a4B-"
   },
   "outputs": [
    {
     "data": {
      "text/plain": [
       "0"
      ]
     },
     "execution_count": 90,
     "metadata": {},
     "output_type": "execute_result"
    }
   ],
   "source": [
    "attrition[var].isna().sum()"
   ]
  },
  {
   "cell_type": "markdown",
   "metadata": {
    "id": "Ry78zRZZa4B-"
   },
   "source": [
    "4) 기초통계량(수치화)"
   ]
  },
  {
   "cell_type": "code",
   "execution_count": 91,
   "metadata": {
    "id": "-D2vLs37a4B-"
   },
   "outputs": [
    {
     "data": {
      "text/plain": [
       "count     1250.000000\n",
       "mean      6525.548000\n",
       "std       4676.979554\n",
       "min       1009.000000\n",
       "25%       2932.250000\n",
       "50%       4988.000000\n",
       "75%       8437.500000\n",
       "max      19999.000000\n",
       "Name: MonthlyIncome, dtype: float64"
      ]
     },
     "execution_count": 91,
     "metadata": {},
     "output_type": "execute_result"
    }
   ],
   "source": [
    "attrition[var].describe()"
   ]
  },
  {
   "cell_type": "markdown",
   "metadata": {
    "id": "CIYsMvJZa4B-"
   },
   "source": [
    "5) 분포 확인(시각화)"
   ]
  },
  {
   "cell_type": "code",
   "execution_count": 92,
   "metadata": {
    "id": "Rdre_30Ua4B-",
    "scrolled": true
   },
   "outputs": [
    {
     "data": {
      "image/png": "[encoded data removed]",
      "text/plain": [
       "<Figure size 432x288 with 1 Axes>"
      ]
     },
     "metadata": {
      "needs_background": "light"
     },
     "output_type": "display_data"
    }
   ],
   "source": [
    "sns.histplot(attrition[var], bins = 20)\n",
    "plt.show()"
   ]
  },
  {
   "cell_type": "code",
   "execution_count": 93,
   "metadata": {},
   "outputs": [
    {
     "data": {
      "image/png": "[encoded data removed]",
      "text/plain": [
       "<Figure size 432x288 with 1 Axes>"
      ]
     },
     "metadata": {
      "needs_background": "light"
     },
     "output_type": "display_data"
    },
    {
     "name": "stdout",
     "output_type": "stream",
     "text": [
      "[2932.25 1009.  ]\n",
      "[ 8437.5 16606. ]\n"
     ]
    }
   ],
   "source": [
    "box = plt.boxplot(attrition[var])\n",
    "plt.show()\n",
    "\n",
    "print(box['whiskers'][0].get_ydata())\n",
    "print(box['whiskers'][1].get_ydata())"
   ]
  },
  {
   "cell_type": "markdown",
   "metadata": {
    "id": "TgiIpcUra4B-"
   },
   "source": [
    "6) 기초통계량과 분포를 통해서 파악한 내용을 적어 봅시다.\n",
    "\n",
    "보이는 그대로를 넘어, 비즈니스 관점에서 고민하며 적어 봅시다."
   ]
  },
  {
   "cell_type": "markdown",
   "metadata": {
    "id": "jkClp2uVa4B_"
   },
   "source": [
    "* 최저 기본급이 1009달러이다.\n",
    "* 분포가 5000달러 이하에 많이 분포해 있다.\n",
    "* 고위직보다는 중간층이 많은 회사 같다."
   ]
  },
  {
   "cell_type": "markdown",
   "metadata": {
    "id": "SKkxtQPWa4B_"
   },
   "source": [
    "7) 추가 분석해 볼 사항이 있나요?"
   ]
  },
  {
   "cell_type": "markdown",
   "metadata": {
    "id": "ClKWi_EZa4B_"
   },
   "source": [
    "* 근속년 수에 따른 월급의 상관관계 파악이 필요해보인다."
   ]
  },
  {
   "cell_type": "markdown",
   "metadata": {
    "id": "kasJ05pvrg9A"
   },
   "source": [
    "### ④ PercentSalaryHike"
   ]
  },
  {
   "cell_type": "code",
   "execution_count": 94,
   "metadata": {
    "id": "8uVZW7Bja6aA"
   },
   "outputs": [],
   "source": [
    "var = 'PercentSalaryHike'"
   ]
  },
  {
   "cell_type": "markdown",
   "metadata": {
    "id": "PpG0AZJpa6aA"
   },
   "source": [
    "1) 변수의 비즈니스 의미"
   ]
  },
  {
   "cell_type": "markdown",
   "metadata": {
    "id": "cHus3R0Wa6aB"
   },
   "source": [
    "> * 전년대비 급여인상률"
   ]
  },
  {
   "cell_type": "markdown",
   "metadata": {
    "id": "P6TZ9Fv4a6aB"
   },
   "source": [
    "2) 숫자, 범주?"
   ]
  },
  {
   "cell_type": "markdown",
   "metadata": {
    "id": "10nqVgeSa6aB"
   },
   "source": [
    "> * 숫자"
   ]
  },
  {
   "cell_type": "markdown",
   "metadata": {
    "id": "f1M9y9bBfeMt"
   },
   "source": [
    "3) NaN 존재 유무 및 조치방안"
   ]
  },
  {
   "cell_type": "code",
   "execution_count": 95,
   "metadata": {
    "id": "DScoTOr0a6aB"
   },
   "outputs": [
    {
     "data": {
      "text/plain": [
       "0"
      ]
     },
     "execution_count": 95,
     "metadata": {},
     "output_type": "execute_result"
    }
   ],
   "source": [
    "attrition[var].isna().sum()"
   ]
  },
  {
   "cell_type": "markdown",
   "metadata": {
    "id": "pifpaYlya6aB"
   },
   "source": [
    "4) 기초통계량(수치화)"
   ]
  },
  {
   "cell_type": "code",
   "execution_count": 96,
   "metadata": {
    "id": "INNZMp5va6aB"
   },
   "outputs": [
    {
     "data": {
      "text/plain": [
       "count    1250.000000\n",
       "mean       15.216000\n",
       "std         3.625556\n",
       "min        11.000000\n",
       "25%        12.000000\n",
       "50%        14.000000\n",
       "75%        18.000000\n",
       "max        25.000000\n",
       "Name: PercentSalaryHike, dtype: float64"
      ]
     },
     "execution_count": 96,
     "metadata": {},
     "output_type": "execute_result"
    }
   ],
   "source": [
    "attrition[var].describe()"
   ]
  },
  {
   "cell_type": "markdown",
   "metadata": {
    "id": "WYr6Wnraa6aB"
   },
   "source": [
    "5) 분포 확인(시각화)"
   ]
  },
  {
   "cell_type": "code",
   "execution_count": 97,
   "metadata": {
    "id": "NoOVAAYma6aB",
    "scrolled": true
   },
   "outputs": [
    {
     "data": {
      "image/png": "[encoded data removed]",
      "text/plain": [
       "<Figure size 432x288 with 1 Axes>"
      ]
     },
     "metadata": {
      "needs_background": "light"
     },
     "output_type": "display_data"
    }
   ],
   "source": [
    "sns.histplot(attrition[var], bins = 15)\n",
    "plt.show()"
   ]
  },
  {
   "cell_type": "code",
   "execution_count": 98,
   "metadata": {},
   "outputs": [
    {
     "data": {
      "image/png": "[encoded data removed]",
      "text/plain": [
       "<Figure size 432x288 with 1 Axes>"
      ]
     },
     "metadata": {
      "needs_background": "light"
     },
     "output_type": "display_data"
    },
    {
     "name": "stdout",
     "output_type": "stream",
     "text": [
      "[12. 11.]\n",
      "[18. 25.]\n"
     ]
    }
   ],
   "source": [
    "box = plt.boxplot(attrition[var])\n",
    "plt.show()\n",
    "\n",
    "print(box['whiskers'][0].get_ydata())\n",
    "print(box['whiskers'][1].get_ydata())"
   ]
  },
  {
   "cell_type": "markdown",
   "metadata": {
    "id": "MZzUiLNUa6aB"
   },
   "source": [
    "6) 기초통계량과 분포를 통해서 파악한 내용을 적어 봅시다.\n",
    "\n",
    "보이는 그대로를 넘어, 비즈니스 관점에서 고민하며 적어 봅시다."
   ]
  },
  {
   "cell_type": "markdown",
   "metadata": {
    "id": "uGrwur8Ta6aB"
   },
   "source": [
    "* 인상률은 최저 11%이다.\n",
    "* "
   ]
  },
  {
   "cell_type": "markdown",
   "metadata": {
    "id": "ISIpXxtPa6aB"
   },
   "source": [
    "7) 추가 분석해 볼 사항이 있나요?"
   ]
  },
  {
   "cell_type": "markdown",
   "metadata": {
    "id": "sIyEle1-a6aB"
   },
   "source": [
    "* 인상률을 범주화 해서 분석할 필요가 있어보인다."
   ]
  },
  {
   "cell_type": "markdown",
   "metadata": {
    "id": "vjV82BY0ndIy"
   },
   "source": [
    "### ⑤ TotalWorkingYears"
   ]
  },
  {
   "cell_type": "code",
   "execution_count": 99,
   "metadata": {
    "id": "So6aeFexa9Ig"
   },
   "outputs": [],
   "source": [
    "var = 'TotalWorkingYears'"
   ]
  },
  {
   "cell_type": "markdown",
   "metadata": {
    "id": "Q9OItSE7a9Ih"
   },
   "source": [
    "1) 변수의 비즈니스 의미"
   ]
  },
  {
   "cell_type": "markdown",
   "metadata": {
    "id": "ndOl8xR7a9Ih"
   },
   "source": [
    "> * 총 경력 연수"
   ]
  },
  {
   "cell_type": "markdown",
   "metadata": {
    "id": "wFkgMsuba9Ih"
   },
   "source": [
    "2) 숫자, 범주?"
   ]
  },
  {
   "cell_type": "markdown",
   "metadata": {
    "id": "NepnmnJMa9Ih"
   },
   "source": [
    "> * 숫자"
   ]
  },
  {
   "cell_type": "markdown",
   "metadata": {
    "id": "uI2vG1TbffQ9"
   },
   "source": [
    "3) NaN 존재 유무 및 조치방안"
   ]
  },
  {
   "cell_type": "code",
   "execution_count": 100,
   "metadata": {
    "id": "czEUYtfaa9Ih"
   },
   "outputs": [
    {
     "data": {
      "text/plain": [
       "0"
      ]
     },
     "execution_count": 100,
     "metadata": {},
     "output_type": "execute_result"
    }
   ],
   "source": [
    "attrition[var].isna().sum()"
   ]
  },
  {
   "cell_type": "markdown",
   "metadata": {
    "id": "lpeKC2zIa9Ih"
   },
   "source": [
    "4) 기초통계량(수치화)"
   ]
  },
  {
   "cell_type": "code",
   "execution_count": 101,
   "metadata": {
    "id": "F9RqLWmoa9Ii"
   },
   "outputs": [
    {
     "data": {
      "text/plain": [
       "count    1250.00000\n",
       "mean       11.33920\n",
       "std         7.79687\n",
       "min         0.00000\n",
       "25%         6.00000\n",
       "50%        10.00000\n",
       "75%        15.00000\n",
       "max        40.00000\n",
       "Name: TotalWorkingYears, dtype: float64"
      ]
     },
     "execution_count": 101,
     "metadata": {},
     "output_type": "execute_result"
    }
   ],
   "source": [
    "attrition[var].describe()"
   ]
  },
  {
   "cell_type": "markdown",
   "metadata": {
    "id": "_C7dYJWEa9Ii"
   },
   "source": [
    "5) 분포 확인(시각화)"
   ]
  },
  {
   "cell_type": "code",
   "execution_count": 102,
   "metadata": {
    "id": "CUc9PJQAa9Ii"
   },
   "outputs": [
    {
     "data": {
      "image/png": "[encoded data removed]",
      "text/plain": [
       "<Figure size 432x288 with 1 Axes>"
      ]
     },
     "metadata": {
      "needs_background": "light"
     },
     "output_type": "display_data"
    }
   ],
   "source": [
    "sns.histplot(attrition[var], bins = 20)\n",
    "plt.show()"
   ]
  },
  {
   "cell_type": "code",
   "execution_count": 103,
   "metadata": {},
   "outputs": [
    {
     "data": {
      "image/png": "[encoded data removed]",
      "text/plain": [
       "<Figure size 432x288 with 1 Axes>"
      ]
     },
     "metadata": {
      "needs_background": "light"
     },
     "output_type": "display_data"
    },
    {
     "name": "stdout",
     "output_type": "stream",
     "text": [
      "[6. 0.]\n",
      "[15. 28.]\n"
     ]
    }
   ],
   "source": [
    "box = plt.boxplot(attrition[var])\n",
    "plt.show()\n",
    "\n",
    "print(box['whiskers'][0].get_ydata())\n",
    "print(box['whiskers'][1].get_ydata())"
   ]
  },
  {
   "cell_type": "markdown",
   "metadata": {
    "id": "_9J66Gnya9Ii"
   },
   "source": [
    "6) 기초통계량과 분포를 통해서 파악한 내용을 적어 봅시다.\n",
    "\n",
    "보이는 그대로를 넘어, 비즈니스 관점에서 고민하며 적어 봅시다."
   ]
  },
  {
   "cell_type": "markdown",
   "metadata": {
    "id": "z8TXXNrya9Ii"
   },
   "source": [
    "* 신입부터 경력 40년까지 다양한 분포를 가지고 있다.\n",
    "* 경력 12년에서 급격하게 낮아진다. (이 시점에서 이직 여부를 결정하는 시점인 것 같다.)"
   ]
  },
  {
   "cell_type": "markdown",
   "metadata": {
    "id": "AIsaM47ta9Ii"
   },
   "source": [
    "7) 추가 분석해 볼 사항이 있나요?"
   ]
  },
  {
   "cell_type": "markdown",
   "metadata": {
    "id": "rqWOcWU0a9Ii"
   },
   "source": [
    "* 구간을 나눠서 범주화를 진행 후 분석이 필요해 보임\n",
    "    * 연차에 따른 직급이 다를 것이고 직급별 느끼는 것이 다를 것이라고 판단"
   ]
  },
  {
   "cell_type": "markdown",
   "metadata": {
    "id": "5ZbpQQrXPdOm"
   },
   "source": [
    "## 범주형 변수"
   ]
  },
  {
   "cell_type": "markdown",
   "metadata": {
    "id": "kqX5E-ksv4Bl"
   },
   "source": [
    "### ① Attrition"
   ]
  },
  {
   "cell_type": "code",
   "execution_count": 104,
   "metadata": {
    "id": "jF4sAsmtOZbs"
   },
   "outputs": [],
   "source": [
    "var = 'Attrition'"
   ]
  },
  {
   "cell_type": "markdown",
   "metadata": {
    "id": "3BvxFp7SI8Gl"
   },
   "source": [
    "1) 변수의 비즈니스 의미"
   ]
  },
  {
   "cell_type": "markdown",
   "metadata": {
    "id": "T6vUp9AsOQ0b"
   },
   "source": [
    "> 직원 이직여부"
   ]
  },
  {
   "cell_type": "markdown",
   "metadata": {
    "id": "hAaTYkgRI8Gl"
   },
   "source": [
    "2) 숫자, 범주?"
   ]
  },
  {
   "cell_type": "code",
   "execution_count": 105,
   "metadata": {
    "id": "FdFChl3ZI8Gm"
   },
   "outputs": [
    {
     "data": {
      "text/plain": [
       "array(['No', 'Yes'], dtype=object)"
      ]
     },
     "execution_count": 105,
     "metadata": {},
     "output_type": "execute_result"
    }
   ],
   "source": [
    "attrition[var].unique()"
   ]
  },
  {
   "cell_type": "markdown",
   "metadata": {
    "id": "nh7qf5FkOUL8"
   },
   "source": [
    "> * 범주형 데이터\n",
    "> * 범주 종류 Yes , No"
   ]
  },
  {
   "cell_type": "markdown",
   "metadata": {
    "id": "jhav8qjXfh87"
   },
   "source": [
    "3) NaN 존재 유무 및 조치방안"
   ]
  },
  {
   "cell_type": "code",
   "execution_count": 106,
   "metadata": {
    "colab": {
     "base_uri": "https://localhost:8080/"
    },
    "executionInfo": {
     "elapsed": 17,
     "status": "ok",
     "timestamp": 1644492137142,
     "user": {
      "displayName": "한기영",
      "photoUrl": "https://lh3.googleusercontent.com/a/default-user=s64",
      "userId": "13049187003176135487"
     },
     "user_tz": -540
    },
    "id": "NQnsGdwII8Gm",
    "outputId": "2af42277-a348-46b6-af8c-5ff0690eeff6"
   },
   "outputs": [
    {
     "data": {
      "text/plain": [
       "0"
      ]
     },
     "execution_count": 106,
     "metadata": {},
     "output_type": "execute_result"
    }
   ],
   "source": [
    "attrition[var].isna().sum()"
   ]
  },
  {
   "cell_type": "markdown",
   "metadata": {
    "id": "yppcedb_O55k"
   },
   "source": [
    "> * NA 없음\n",
    "> * 당연히 Target이기에 NA가 있으면 안됨!\n"
   ]
  },
  {
   "cell_type": "markdown",
   "metadata": {
    "id": "h3-WFHZHbEZZ"
   },
   "source": [
    "4) 가변수화 필요 여부"
   ]
  },
  {
   "cell_type": "markdown",
   "metadata": {
    "id": "Glmk3vDrbEZb"
   },
   "source": [
    "> * Yes , No로 되어 있음. \n",
    "> * 1, 0으로 변환해야 함."
   ]
  },
  {
   "cell_type": "code",
   "execution_count": 107,
   "metadata": {
    "id": "gKnbb-6YgGok"
   },
   "outputs": [],
   "source": [
    "# 변환 코드\n",
    "# attrtion['Attrition'] = np.where(attrtion['Attrition'] == 'Yes', 1, 0)"
   ]
  },
  {
   "cell_type": "markdown",
   "metadata": {
    "id": "CO8V_hU8I8Gm"
   },
   "source": [
    "5) 기초통계량(수치화)"
   ]
  },
  {
   "cell_type": "code",
   "execution_count": 108,
   "metadata": {
    "id": "M3t_nbXuI8Gm"
   },
   "outputs": [
    {
     "name": "stdout",
     "output_type": "stream",
     "text": [
      "No     1050\n",
      "Yes     200\n",
      "Name: Attrition, dtype: int64\n",
      "No     0.84\n",
      "Yes    0.16\n",
      "Name: Attrition, dtype: float64\n"
     ]
    }
   ],
   "source": [
    "print(attrition[var].value_counts())\n",
    "print(attrition[var].value_counts()/ len(attrition[var]))"
   ]
  },
  {
   "cell_type": "markdown",
   "metadata": {
    "id": "L3WLlKxxI8Gn"
   },
   "source": [
    "6) 분포 확인(시각화)"
   ]
  },
  {
   "cell_type": "code",
   "execution_count": 109,
   "metadata": {
    "id": "Ll3FsEqbI8Gn"
   },
   "outputs": [
    {
     "name": "stderr",
     "output_type": "stream",
     "text": [
      "C:\\Users\\User\\anaconda3\\lib\\site-packages\\seaborn\\_decorators.py:36: FutureWarning: Pass the following variable as a keyword arg: x. From version 0.12, the only valid positional argument will be `data`, and passing other arguments without an explicit keyword will result in an error or misinterpretation.\n",
      "  warnings.warn(\n"
     ]
    },
    {
     "data": {
      "image/png": "[encoded data removed]",
      "text/plain": [
       "<Figure size 432x288 with 1 Axes>"
      ]
     },
     "metadata": {
      "needs_background": "light"
     },
     "output_type": "display_data"
    }
   ],
   "source": [
    "sns.countplot(attrition[var])\n",
    "plt.show()"
   ]
  },
  {
   "cell_type": "markdown",
   "metadata": {
    "id": "LvHI3ZL8I8Gn"
   },
   "source": [
    "7) 기초통계량과 분포를 통해서 파악한 내용을 적어 봅시다.\n",
    "\n",
    "보이는 그대로를 넘어, 비즈니스 관점에서 고민하며 적어 봅시다."
   ]
  },
  {
   "cell_type": "markdown",
   "metadata": {
    "id": "fK9zr5FGPm1E"
   },
   "source": [
    "> * 전체 1196명 직원\n",
    "> * 이직자 : 195명, 이직율 : 0.163\n",
    "> * 이직율이 16.3% 는 적정한가? 동종 업계 수준은? 전년대비?"
   ]
  },
  {
   "cell_type": "markdown",
   "metadata": {
    "id": "ZLyfuGt3I8Gn"
   },
   "source": [
    "8) 추가 분석해 볼 사항이 있나요?"
   ]
  },
  {
   "cell_type": "markdown",
   "metadata": {
    "id": "UqE4dpzEQBBM"
   },
   "source": [
    "> * Attribute가 Target 이므로, feature들과 Target 과의 관계를 살펴보게 될 것.\n",
    "> * 그러므로 추가 분석하고자 하는 사항은 feature들을 살펴볼 때 도출하게 될 것이라 생각됨."
   ]
  },
  {
   "cell_type": "markdown",
   "metadata": {
    "id": "2N1hgVF6v4Bt"
   },
   "source": [
    "### ② OverTime\t"
   ]
  },
  {
   "cell_type": "code",
   "execution_count": 110,
   "metadata": {
    "id": "UBIiV-i-mTG8"
   },
   "outputs": [],
   "source": [
    "var = 'OverTime'"
   ]
  },
  {
   "cell_type": "markdown",
   "metadata": {
    "id": "K3y9NkZTmTG8"
   },
   "source": [
    "1) 변수의 비즈니스 의미"
   ]
  },
  {
   "cell_type": "markdown",
   "metadata": {
    "id": "XZjpSnoTb_d3"
   },
   "source": [
    "> * 야근 여부"
   ]
  },
  {
   "cell_type": "markdown",
   "metadata": {
    "id": "bXwpXivlmTG9"
   },
   "source": [
    "2) 숫자, 범주?"
   ]
  },
  {
   "cell_type": "markdown",
   "metadata": {
    "id": "0CXMwEgsmTG9"
   },
   "source": [
    "> * 범주\n",
    "> * Yes, No로 표기"
   ]
  },
  {
   "cell_type": "code",
   "execution_count": 111,
   "metadata": {
    "id": "27Jkgc-6b-kf"
   },
   "outputs": [
    {
     "data": {
      "text/plain": [
       "No     896\n",
       "Yes    354\n",
       "Name: OverTime, dtype: int64"
      ]
     },
     "execution_count": 111,
     "metadata": {},
     "output_type": "execute_result"
    }
   ],
   "source": [
    "attrition[var].value_counts()"
   ]
  },
  {
   "cell_type": "markdown",
   "metadata": {
    "id": "Vl9wetubf0D7"
   },
   "source": [
    "3) NaN 존재 유무 및 조치방안"
   ]
  },
  {
   "cell_type": "code",
   "execution_count": 112,
   "metadata": {
    "id": "faeBKQI0mTG-"
   },
   "outputs": [
    {
     "data": {
      "text/plain": [
       "0"
      ]
     },
     "execution_count": 112,
     "metadata": {},
     "output_type": "execute_result"
    }
   ],
   "source": [
    "attrition[var].isna().sum()"
   ]
  },
  {
   "cell_type": "markdown",
   "metadata": {
    "id": "OnBaUd-sbxJc"
   },
   "source": [
    "4) 가변수화 필요 여부"
   ]
  },
  {
   "cell_type": "markdown",
   "metadata": {},
   "source": [
    "> * 필요 (Yes : 1, No : 0)"
   ]
  },
  {
   "cell_type": "code",
   "execution_count": 113,
   "metadata": {
    "id": "76wKnWQpb7oP"
   },
   "outputs": [],
   "source": [
    "# attrition = pd.get_dummies(attrition, columns=var, drop_first=True)\n",
    "# attrtion['Attrition'] = np.where(attrtion['Attrition'] == 'Yes', 1, 0)"
   ]
  },
  {
   "cell_type": "markdown",
   "metadata": {
    "id": "XjrsG5ovbxJc"
   },
   "source": [
    "5) 기초통계량(수치화)"
   ]
  },
  {
   "cell_type": "code",
   "execution_count": 114,
   "metadata": {
    "id": "WrhNpGFObxJd"
   },
   "outputs": [
    {
     "name": "stdout",
     "output_type": "stream",
     "text": [
      "No     896\n",
      "Yes    354\n",
      "Name: OverTime, dtype: int64\n",
      "No     0.7168\n",
      "Yes    0.2832\n",
      "Name: OverTime, dtype: float64\n"
     ]
    }
   ],
   "source": [
    "print(attrition[var].value_counts())\n",
    "print(attrition[var].value_counts()/len(attrition[var]))"
   ]
  },
  {
   "cell_type": "markdown",
   "metadata": {
    "id": "MB4Gq6KQbxJd"
   },
   "source": [
    "6) 분포 확인(시각화)"
   ]
  },
  {
   "cell_type": "code",
   "execution_count": 115,
   "metadata": {
    "id": "FZwtUC-4bxJd",
    "scrolled": false
   },
   "outputs": [
    {
     "name": "stderr",
     "output_type": "stream",
     "text": [
      "C:\\Users\\User\\anaconda3\\lib\\site-packages\\seaborn\\_decorators.py:36: FutureWarning: Pass the following variable as a keyword arg: x. From version 0.12, the only valid positional argument will be `data`, and passing other arguments without an explicit keyword will result in an error or misinterpretation.\n",
      "  warnings.warn(\n"
     ]
    },
    {
     "data": {
      "image/png": "[encoded data removed]",
      "text/plain": [
       "<Figure size 432x288 with 1 Axes>"
      ]
     },
     "metadata": {
      "needs_background": "light"
     },
     "output_type": "display_data"
    }
   ],
   "source": [
    "sns.countplot(attrition[var])\n",
    "plt.show()"
   ]
  },
  {
   "cell_type": "markdown",
   "metadata": {
    "id": "nP-N09cpbxJd"
   },
   "source": [
    "7) 기초통계량과 분포를 통해서 파악한 내용을 적어 봅시다.\n",
    "\n",
    "보이는 그대로를 넘어, 비즈니스 관점에서 고민하며 적어 봅시다."
   ]
  },
  {
   "cell_type": "markdown",
   "metadata": {
    "id": "TkE_F3j9b3aQ"
   },
   "source": [
    "* No가 72%, Yes가 28%의 비율을 확인 할 수 있음\n",
    "* 평균적으로 야근이 없는 것으로 보입니다.\n",
    "* 동종 업계 수준은? 전년 대비?"
   ]
  },
  {
   "cell_type": "markdown",
   "metadata": {
    "id": "VvYw3xF4bxJd"
   },
   "source": [
    "8) 추가 분석해 볼 사항이 있나요?"
   ]
  },
  {
   "cell_type": "markdown",
   "metadata": {
    "id": "10nzcQ6Hb4gN"
   },
   "source": [
    "* 야근이 많으면 이직률이 많은지 비율을 확인 할 필요가 있습니다.\n",
    "    * 아래 확인 결과 야근을 한 사람은 30%가 이직을 했다."
   ]
  },
  {
   "cell_type": "code",
   "execution_count": 117,
   "metadata": {
    "scrolled": true
   },
   "outputs": [
    {
     "data": {
      "text/html": [
       "<div>\n",
       "<style scoped>\n",
       "    .dataframe tbody tr th:only-of-type {\n",
       "        vertical-align: middle;\n",
       "    }\n",
       "\n",
       "    .dataframe tbody tr th {\n",
       "        vertical-align: top;\n",
       "    }\n",
       "\n",
       "    .dataframe thead th {\n",
       "        text-align: right;\n",
       "    }\n",
       "</style>\n",
       "<table border=\"1\" class=\"dataframe\">\n",
       "  <thead>\n",
       "    <tr style=\"text-align: right;\">\n",
       "      <th></th>\n",
       "      <th>Attrition</th>\n",
       "      <th>Age</th>\n",
       "      <th>BusinessTravel</th>\n",
       "      <th>Department</th>\n",
       "      <th>DistanceFromHome</th>\n",
       "      <th>EmployeeNumber</th>\n",
       "      <th>Gender</th>\n",
       "      <th>JobSatisfaction</th>\n",
       "      <th>MaritalStatus</th>\n",
       "      <th>MonthlyIncome</th>\n",
       "      <th>OverTime</th>\n",
       "      <th>PercentSalaryHike</th>\n",
       "      <th>RelationshipSatisfaction</th>\n",
       "      <th>StockOptionLevel</th>\n",
       "      <th>TotalWorkingYears</th>\n",
       "      <th>WorkLifeBalance</th>\n",
       "    </tr>\n",
       "  </thead>\n",
       "  <tbody>\n",
       "    <tr>\n",
       "      <th>0</th>\n",
       "      <td>0</td>\n",
       "      <td>33</td>\n",
       "      <td>Travel_Rarely</td>\n",
       "      <td>Research &amp; Development</td>\n",
       "      <td>7.0</td>\n",
       "      <td>817</td>\n",
       "      <td>Male</td>\n",
       "      <td>3</td>\n",
       "      <td>Married</td>\n",
       "      <td>11691</td>\n",
       "      <td>No</td>\n",
       "      <td>11</td>\n",
       "      <td>4</td>\n",
       "      <td>0</td>\n",
       "      <td>14</td>\n",
       "      <td>4</td>\n",
       "    </tr>\n",
       "    <tr>\n",
       "      <th>1</th>\n",
       "      <td>0</td>\n",
       "      <td>35</td>\n",
       "      <td>Travel_Frequently</td>\n",
       "      <td>Research &amp; Development</td>\n",
       "      <td>18.0</td>\n",
       "      <td>1412</td>\n",
       "      <td>Male</td>\n",
       "      <td>4</td>\n",
       "      <td>Single</td>\n",
       "      <td>9362</td>\n",
       "      <td>No</td>\n",
       "      <td>11</td>\n",
       "      <td>3</td>\n",
       "      <td>0</td>\n",
       "      <td>10</td>\n",
       "      <td>3</td>\n",
       "    </tr>\n",
       "    <tr>\n",
       "      <th>2</th>\n",
       "      <td>0</td>\n",
       "      <td>42</td>\n",
       "      <td>Travel_Rarely</td>\n",
       "      <td>Research &amp; Development</td>\n",
       "      <td>6.0</td>\n",
       "      <td>1911</td>\n",
       "      <td>Male</td>\n",
       "      <td>1</td>\n",
       "      <td>Married</td>\n",
       "      <td>13348</td>\n",
       "      <td>No</td>\n",
       "      <td>13</td>\n",
       "      <td>2</td>\n",
       "      <td>1</td>\n",
       "      <td>18</td>\n",
       "      <td>4</td>\n",
       "    </tr>\n",
       "    <tr>\n",
       "      <th>3</th>\n",
       "      <td>0</td>\n",
       "      <td>46</td>\n",
       "      <td>Travel_Rarely</td>\n",
       "      <td>Sales</td>\n",
       "      <td>2.0</td>\n",
       "      <td>1204</td>\n",
       "      <td>Female</td>\n",
       "      <td>1</td>\n",
       "      <td>Married</td>\n",
       "      <td>17048</td>\n",
       "      <td>No</td>\n",
       "      <td>23</td>\n",
       "      <td>1</td>\n",
       "      <td>0</td>\n",
       "      <td>28</td>\n",
       "      <td>3</td>\n",
       "    </tr>\n",
       "    <tr>\n",
       "      <th>4</th>\n",
       "      <td>0</td>\n",
       "      <td>39</td>\n",
       "      <td>Travel_Frequently</td>\n",
       "      <td>Sales</td>\n",
       "      <td>NaN</td>\n",
       "      <td>1812</td>\n",
       "      <td>Male</td>\n",
       "      <td>4</td>\n",
       "      <td>Divorced</td>\n",
       "      <td>4127</td>\n",
       "      <td>No</td>\n",
       "      <td>18</td>\n",
       "      <td>4</td>\n",
       "      <td>1</td>\n",
       "      <td>7</td>\n",
       "      <td>3</td>\n",
       "    </tr>\n",
       "  </tbody>\n",
       "</table>\n",
       "</div>"
      ],
      "text/plain": [
       "   Attrition  Age     BusinessTravel              Department  \\\n",
       "0          0   33      Travel_Rarely  Research & Development   \n",
       "1          0   35  Travel_Frequently  Research & Development   \n",
       "2          0   42      Travel_Rarely  Research & Development   \n",
       "3          0   46      Travel_Rarely                   Sales   \n",
       "4          0   39  Travel_Frequently                   Sales   \n",
       "\n",
       "   DistanceFromHome  EmployeeNumber  Gender  JobSatisfaction MaritalStatus  \\\n",
       "0               7.0             817    Male                3       Married   \n",
       "1              18.0            1412    Male                4        Single   \n",
       "2               6.0            1911    Male                1       Married   \n",
       "3               2.0            1204  Female                1       Married   \n",
       "4               NaN            1812    Male                4      Divorced   \n",
       "\n",
       "   MonthlyIncome OverTime  PercentSalaryHike  RelationshipSatisfaction  \\\n",
       "0          11691       No                 11                         4   \n",
       "1           9362       No                 11                         3   \n",
       "2          13348       No                 13                         2   \n",
       "3          17048       No                 23                         1   \n",
       "4           4127       No                 18                         4   \n",
       "\n",
       "   StockOptionLevel  TotalWorkingYears  WorkLifeBalance  \n",
       "0                 0                 14                4  \n",
       "1                 0                 10                3  \n",
       "2                 1                 18                4  \n",
       "3                 0                 28                3  \n",
       "4                 1                  7                3  "
      ]
     },
     "execution_count": 117,
     "metadata": {},
     "output_type": "execute_result"
    }
   ],
   "source": [
    "at = attrition.copy()\n",
    "at['Attrition'] = np.where(at['Attrition'] == 'Yes', 1, 0)\n",
    "at.head()"
   ]
  },
  {
   "cell_type": "code",
   "execution_count": 119,
   "metadata": {
    "scrolled": false
   },
   "outputs": [
    {
     "data": {
      "text/plain": [
       "OverTime\n",
       "No     0.103795\n",
       "Yes    0.302260\n",
       "dtype: float64"
      ]
     },
     "execution_count": 119,
     "metadata": {},
     "output_type": "execute_result"
    }
   ],
   "source": [
    "at.groupby(var)['Attrition'].sum()/at[var].value_counts()"
   ]
  },
  {
   "cell_type": "markdown",
   "metadata": {
    "id": "ehnCxKg0v4Bt"
   },
   "source": [
    "### ③ MaritalStatus"
   ]
  },
  {
   "cell_type": "code",
   "execution_count": 120,
   "metadata": {
    "id": "7cNPnKrwcBwA"
   },
   "outputs": [],
   "source": [
    "var = 'MaritalStatus'"
   ]
  },
  {
   "cell_type": "markdown",
   "metadata": {
    "id": "eQpGkZFFcBwA"
   },
   "source": [
    "1) 변수의 비즈니스 의미"
   ]
  },
  {
   "cell_type": "markdown",
   "metadata": {
    "id": "b7giGYR1cBwA"
   },
   "source": [
    "> * 결혼상태"
   ]
  },
  {
   "cell_type": "markdown",
   "metadata": {
    "id": "oLEZaWh8cBwA"
   },
   "source": [
    "2) 숫자, 범주?"
   ]
  },
  {
   "cell_type": "code",
   "execution_count": 121,
   "metadata": {
    "id": "fh92qSN-cBwA"
   },
   "outputs": [
    {
     "data": {
      "text/plain": [
       "array(['Married', 'Single', 'Divorced'], dtype=object)"
      ]
     },
     "execution_count": 121,
     "metadata": {},
     "output_type": "execute_result"
    }
   ],
   "source": [
    "attrition[var].unique()"
   ]
  },
  {
   "cell_type": "markdown",
   "metadata": {
    "id": "7T1584q4cBwA"
   },
   "source": [
    "> * 범주형\n",
    "> * 'Married', 'Single', 'Divorced'로 구성"
   ]
  },
  {
   "cell_type": "markdown",
   "metadata": {
    "id": "Emexu9Osf1Fx"
   },
   "source": [
    "3) NaN 존재 유무 및 조치방안"
   ]
  },
  {
   "cell_type": "code",
   "execution_count": 122,
   "metadata": {
    "id": "bo6YMYJCcBwA"
   },
   "outputs": [
    {
     "data": {
      "text/plain": [
       "0"
      ]
     },
     "execution_count": 122,
     "metadata": {},
     "output_type": "execute_result"
    }
   ],
   "source": [
    "attrition[var].isna().sum()"
   ]
  },
  {
   "cell_type": "markdown",
   "metadata": {
    "id": "G6COZOx1cBwA"
   },
   "source": [
    "4) 가변수화 필요 여부"
   ]
  },
  {
   "cell_type": "markdown",
   "metadata": {
    "id": "bJeT3THGcBwB"
   },
   "source": [
    "> * 'Married', 'Single', 'Divorced'로 구성되어 있기에 가변수화 필요\n",
    "> * 가변수화를 진행할 시 pd.get_dummies(attrition, columns=var, drop_first=True)를 통해 진행\n",
    ">   * 컬럼을 하나 더 추가해서 진행"
   ]
  },
  {
   "cell_type": "markdown",
   "metadata": {
    "id": "zTs01z1BcBwB"
   },
   "source": [
    "5) 기초통계량(수치화)"
   ]
  },
  {
   "cell_type": "code",
   "execution_count": 123,
   "metadata": {
    "id": "IAODVERucBwB"
   },
   "outputs": [
    {
     "name": "stdout",
     "output_type": "stream",
     "text": [
      "Married     570\n",
      "Single      404\n",
      "Divorced    276\n",
      "Name: MaritalStatus, dtype: int64\n",
      "Married     0.4560\n",
      "Single      0.3232\n",
      "Divorced    0.2208\n",
      "Name: MaritalStatus, dtype: float64\n"
     ]
    }
   ],
   "source": [
    "print(attrition[var].value_counts())\n",
    "print(attrition[var].value_counts()/ len(attrition[var]))"
   ]
  },
  {
   "cell_type": "markdown",
   "metadata": {
    "id": "fRqGU6D1cBwB"
   },
   "source": [
    "6) 분포 확인(시각화)"
   ]
  },
  {
   "cell_type": "code",
   "execution_count": 124,
   "metadata": {
    "id": "c9c9OvrUcBwB"
   },
   "outputs": [
    {
     "name": "stderr",
     "output_type": "stream",
     "text": [
      "C:\\Users\\User\\anaconda3\\lib\\site-packages\\seaborn\\_decorators.py:36: FutureWarning: Pass the following variable as a keyword arg: x. From version 0.12, the only valid positional argument will be `data`, and passing other arguments without an explicit keyword will result in an error or misinterpretation.\n",
      "  warnings.warn(\n"
     ]
    },
    {
     "data": {
      "image/png": "[encoded data removed]",
      "text/plain": [
       "<Figure size 432x288 with 1 Axes>"
      ]
     },
     "metadata": {
      "needs_background": "light"
     },
     "output_type": "display_data"
    }
   ],
   "source": [
    "sns.countplot(attrition[var])\n",
    "plt.show()"
   ]
  },
  {
   "cell_type": "markdown",
   "metadata": {
    "id": "3Kb5FtPscBwB"
   },
   "source": [
    "7) 기초통계량과 분포를 통해서 파악한 내용을 적어 봅시다.\n",
    "\n",
    "보이는 그대로를 넘어, 비즈니스 관점에서 고민하며 적어 봅시다."
   ]
  },
  {
   "cell_type": "markdown",
   "metadata": {
    "id": "DrMNC21hcBwB"
   },
   "source": [
    "* 결혼을 한 사람들이 많이 다니고 있다. (가정이 있는 사람이 이직률이 낮은것 같다.)\n",
    "* 결혼을 하지 않은 사람이 비교적 나이가 어리고 이혼한 사람이 나이가 높다면 고인물이 적다는 것이다."
   ]
  },
  {
   "cell_type": "markdown",
   "metadata": {
    "id": "DSelws1HcBwB"
   },
   "source": [
    "8) 추가 분석해 볼 사항이 있나요?"
   ]
  },
  {
   "cell_type": "markdown",
   "metadata": {
    "id": "bzGW8dEtcBwB"
   },
   "source": [
    "* 결혼 여부가 이직 여부에 연관이 있는지 확인을 위해서는 결혼에 따른 이직 여부를 구해야 할 것이다.\n",
    "* 다른 변수들과 확인해서 융합을 할 수 있는 변수가 있는지 확인한다."
   ]
  },
  {
   "cell_type": "markdown",
   "metadata": {},
   "source": [
    "* 이혼율\n",
    "> * 이혼 : 8%, 기혼 : 12%, 미혼 : 26%\n",
    "> * 변별력이 있는 데이터 인지는 모르겠다."
   ]
  },
  {
   "cell_type": "code",
   "execution_count": 125,
   "metadata": {
    "scrolled": true
   },
   "outputs": [
    {
     "data": {
      "text/html": [
       "<div>\n",
       "<style scoped>\n",
       "    .dataframe tbody tr th:only-of-type {\n",
       "        vertical-align: middle;\n",
       "    }\n",
       "\n",
       "    .dataframe tbody tr th {\n",
       "        vertical-align: top;\n",
       "    }\n",
       "\n",
       "    .dataframe thead th {\n",
       "        text-align: right;\n",
       "    }\n",
       "</style>\n",
       "<table border=\"1\" class=\"dataframe\">\n",
       "  <thead>\n",
       "    <tr style=\"text-align: right;\">\n",
       "      <th></th>\n",
       "      <th>Attrition</th>\n",
       "      <th>Age</th>\n",
       "      <th>BusinessTravel</th>\n",
       "      <th>Department</th>\n",
       "      <th>DistanceFromHome</th>\n",
       "      <th>EmployeeNumber</th>\n",
       "      <th>Gender</th>\n",
       "      <th>JobSatisfaction</th>\n",
       "      <th>MaritalStatus</th>\n",
       "      <th>MonthlyIncome</th>\n",
       "      <th>OverTime</th>\n",
       "      <th>PercentSalaryHike</th>\n",
       "      <th>RelationshipSatisfaction</th>\n",
       "      <th>StockOptionLevel</th>\n",
       "      <th>TotalWorkingYears</th>\n",
       "      <th>WorkLifeBalance</th>\n",
       "    </tr>\n",
       "  </thead>\n",
       "  <tbody>\n",
       "    <tr>\n",
       "      <th>0</th>\n",
       "      <td>0</td>\n",
       "      <td>33</td>\n",
       "      <td>Travel_Rarely</td>\n",
       "      <td>Research &amp; Development</td>\n",
       "      <td>7.0</td>\n",
       "      <td>817</td>\n",
       "      <td>Male</td>\n",
       "      <td>3</td>\n",
       "      <td>Married</td>\n",
       "      <td>11691</td>\n",
       "      <td>No</td>\n",
       "      <td>11</td>\n",
       "      <td>4</td>\n",
       "      <td>0</td>\n",
       "      <td>14</td>\n",
       "      <td>4</td>\n",
       "    </tr>\n",
       "    <tr>\n",
       "      <th>1</th>\n",
       "      <td>0</td>\n",
       "      <td>35</td>\n",
       "      <td>Travel_Frequently</td>\n",
       "      <td>Research &amp; Development</td>\n",
       "      <td>18.0</td>\n",
       "      <td>1412</td>\n",
       "      <td>Male</td>\n",
       "      <td>4</td>\n",
       "      <td>Single</td>\n",
       "      <td>9362</td>\n",
       "      <td>No</td>\n",
       "      <td>11</td>\n",
       "      <td>3</td>\n",
       "      <td>0</td>\n",
       "      <td>10</td>\n",
       "      <td>3</td>\n",
       "    </tr>\n",
       "    <tr>\n",
       "      <th>2</th>\n",
       "      <td>0</td>\n",
       "      <td>42</td>\n",
       "      <td>Travel_Rarely</td>\n",
       "      <td>Research &amp; Development</td>\n",
       "      <td>6.0</td>\n",
       "      <td>1911</td>\n",
       "      <td>Male</td>\n",
       "      <td>1</td>\n",
       "      <td>Married</td>\n",
       "      <td>13348</td>\n",
       "      <td>No</td>\n",
       "      <td>13</td>\n",
       "      <td>2</td>\n",
       "      <td>1</td>\n",
       "      <td>18</td>\n",
       "      <td>4</td>\n",
       "    </tr>\n",
       "    <tr>\n",
       "      <th>3</th>\n",
       "      <td>0</td>\n",
       "      <td>46</td>\n",
       "      <td>Travel_Rarely</td>\n",
       "      <td>Sales</td>\n",
       "      <td>2.0</td>\n",
       "      <td>1204</td>\n",
       "      <td>Female</td>\n",
       "      <td>1</td>\n",
       "      <td>Married</td>\n",
       "      <td>17048</td>\n",
       "      <td>No</td>\n",
       "      <td>23</td>\n",
       "      <td>1</td>\n",
       "      <td>0</td>\n",
       "      <td>28</td>\n",
       "      <td>3</td>\n",
       "    </tr>\n",
       "    <tr>\n",
       "      <th>4</th>\n",
       "      <td>0</td>\n",
       "      <td>39</td>\n",
       "      <td>Travel_Frequently</td>\n",
       "      <td>Sales</td>\n",
       "      <td>NaN</td>\n",
       "      <td>1812</td>\n",
       "      <td>Male</td>\n",
       "      <td>4</td>\n",
       "      <td>Divorced</td>\n",
       "      <td>4127</td>\n",
       "      <td>No</td>\n",
       "      <td>18</td>\n",
       "      <td>4</td>\n",
       "      <td>1</td>\n",
       "      <td>7</td>\n",
       "      <td>3</td>\n",
       "    </tr>\n",
       "  </tbody>\n",
       "</table>\n",
       "</div>"
      ],
      "text/plain": [
       "   Attrition  Age     BusinessTravel              Department  \\\n",
       "0          0   33      Travel_Rarely  Research & Development   \n",
       "1          0   35  Travel_Frequently  Research & Development   \n",
       "2          0   42      Travel_Rarely  Research & Development   \n",
       "3          0   46      Travel_Rarely                   Sales   \n",
       "4          0   39  Travel_Frequently                   Sales   \n",
       "\n",
       "   DistanceFromHome  EmployeeNumber  Gender  JobSatisfaction MaritalStatus  \\\n",
       "0               7.0             817    Male                3       Married   \n",
       "1              18.0            1412    Male                4        Single   \n",
       "2               6.0            1911    Male                1       Married   \n",
       "3               2.0            1204  Female                1       Married   \n",
       "4               NaN            1812    Male                4      Divorced   \n",
       "\n",
       "   MonthlyIncome OverTime  PercentSalaryHike  RelationshipSatisfaction  \\\n",
       "0          11691       No                 11                         4   \n",
       "1           9362       No                 11                         3   \n",
       "2          13348       No                 13                         2   \n",
       "3          17048       No                 23                         1   \n",
       "4           4127       No                 18                         4   \n",
       "\n",
       "   StockOptionLevel  TotalWorkingYears  WorkLifeBalance  \n",
       "0                 0                 14                4  \n",
       "1                 0                 10                3  \n",
       "2                 1                 18                4  \n",
       "3                 0                 28                3  \n",
       "4                 1                  7                3  "
      ]
     },
     "execution_count": 125,
     "metadata": {},
     "output_type": "execute_result"
    }
   ],
   "source": [
    "at = attrition.copy()\n",
    "at['Attrition'] = np.where(at['Attrition'] == 'Yes', 1, 0)\n",
    "at.head()"
   ]
  },
  {
   "cell_type": "code",
   "execution_count": 126,
   "metadata": {},
   "outputs": [
    {
     "data": {
      "text/plain": [
       "Divorced    0.083333\n",
       "Married     0.121053\n",
       "Single      0.267327\n",
       "dtype: float64"
      ]
     },
     "execution_count": 126,
     "metadata": {},
     "output_type": "execute_result"
    }
   ],
   "source": [
    "at.groupby(var)['Attrition'].sum()/at[var].value_counts()"
   ]
  },
  {
   "cell_type": "markdown",
   "metadata": {
    "id": "HqMdYVJxv4Bu"
   },
   "source": [
    "### ④ JobSatisfaction"
   ]
  },
  {
   "cell_type": "code",
   "execution_count": 127,
   "metadata": {
    "id": "duVVS5TQcGHQ"
   },
   "outputs": [],
   "source": [
    "var = 'JobSatisfaction'"
   ]
  },
  {
   "cell_type": "markdown",
   "metadata": {
    "id": "temZlJu4cGHQ"
   },
   "source": [
    "1) 변수의 비즈니스 의미"
   ]
  },
  {
   "cell_type": "markdown",
   "metadata": {
    "id": "O8_Z3WR7cGHQ"
   },
   "source": [
    "> * 직무 만족도"
   ]
  },
  {
   "cell_type": "markdown",
   "metadata": {
    "id": "fuuhsktlcGHQ"
   },
   "source": [
    "2) 숫자, 범주?"
   ]
  },
  {
   "cell_type": "markdown",
   "metadata": {
    "id": "VZpkLSevcGHQ"
   },
   "source": [
    "> * 범주형\n",
    "> * 1 :Low, 2: Medium, 3 : High, 4:Very High"
   ]
  },
  {
   "cell_type": "markdown",
   "metadata": {
    "id": "gHn3VvxVf2GR"
   },
   "source": [
    "3) NaN 존재 유무 및 조치방안"
   ]
  },
  {
   "cell_type": "code",
   "execution_count": 129,
   "metadata": {
    "id": "-bVDHHwgcGHQ"
   },
   "outputs": [
    {
     "data": {
      "text/plain": [
       "0"
      ]
     },
     "execution_count": 129,
     "metadata": {},
     "output_type": "execute_result"
    }
   ],
   "source": [
    "attrition[var].isna().sum()"
   ]
  },
  {
   "cell_type": "markdown",
   "metadata": {
    "id": "y7afj2h4cGHQ"
   },
   "source": [
    "4) 가변수화 필요 여부"
   ]
  },
  {
   "cell_type": "markdown",
   "metadata": {
    "id": "zKwoQKT0cGHQ"
   },
   "source": [
    "> * 불필요\n",
    "> * 숫자가 커질 수록 회사의 만족한다는 의미가 있는 수치기 때문"
   ]
  },
  {
   "cell_type": "markdown",
   "metadata": {
    "id": "uIfl2qpGcGHQ"
   },
   "source": [
    "5) 기초통계량(수치화)"
   ]
  },
  {
   "cell_type": "code",
   "execution_count": 130,
   "metadata": {
    "id": "mbPvBXeTcGHR"
   },
   "outputs": [
    {
     "name": "stdout",
     "output_type": "stream",
     "text": [
      "4    397\n",
      "3    368\n",
      "1    250\n",
      "2    235\n",
      "Name: JobSatisfaction, dtype: int64\n",
      "4    0.3176\n",
      "3    0.2944\n",
      "1    0.2000\n",
      "2    0.1880\n",
      "Name: JobSatisfaction, dtype: float64\n"
     ]
    }
   ],
   "source": [
    "print(attrition[var].value_counts())\n",
    "print(attrition[var].value_counts()/ len(attrition[var]))"
   ]
  },
  {
   "cell_type": "markdown",
   "metadata": {
    "id": "-7rZvYr3cGHR"
   },
   "source": [
    "6) 분포 확인(시각화)"
   ]
  },
  {
   "cell_type": "code",
   "execution_count": 131,
   "metadata": {
    "id": "ejzanjdscGHR"
   },
   "outputs": [
    {
     "name": "stderr",
     "output_type": "stream",
     "text": [
      "C:\\Users\\User\\anaconda3\\lib\\site-packages\\seaborn\\_decorators.py:36: FutureWarning: Pass the following variable as a keyword arg: x. From version 0.12, the only valid positional argument will be `data`, and passing other arguments without an explicit keyword will result in an error or misinterpretation.\n",
      "  warnings.warn(\n"
     ]
    },
    {
     "data": {
      "image/png": "[encoded data removed]",
      "text/plain": [
       "<Figure size 432x288 with 1 Axes>"
      ]
     },
     "metadata": {
      "needs_background": "light"
     },
     "output_type": "display_data"
    }
   ],
   "source": [
    "sns.countplot(attrition[var])\n",
    "plt.show()"
   ]
  },
  {
   "cell_type": "markdown",
   "metadata": {
    "id": "RGuBwPTbcGHR"
   },
   "source": [
    "7) 기초통계량과 분포를 통해서 파악한 내용을 적어 봅시다.\n",
    "\n",
    "보이는 그대로를 넘어, 비즈니스 관점에서 고민하며 적어 봅시다."
   ]
  },
  {
   "cell_type": "markdown",
   "metadata": {
    "id": "n9SwK4azcGHR"
   },
   "source": [
    "* Low : 250, Medium : 235, High : 368, Very High : 397\n",
    "* 골고루 분포해 있으나, 전반적으로 만족함을 가지고 있다."
   ]
  },
  {
   "cell_type": "markdown",
   "metadata": {
    "id": "ESaXEdHRcGHR"
   },
   "source": [
    "8) 추가 분석해 볼 사항이 있나요?"
   ]
  },
  {
   "cell_type": "markdown",
   "metadata": {
    "id": "hSPxRx1YcGHR"
   },
   "source": [
    "* 만족도와 이직률이 연관관게를 가지면 만족도에 미치는 변수를 확인하는 것도 하나의 방법일 수도 있다.\n",
    "* 만족도에 미치는 영향을 찾으면 인사 프로그램을 변경하는 것도 미치는 변수 위주로 변경이 가능하다."
   ]
  },
  {
   "cell_type": "markdown",
   "metadata": {},
   "source": [
    "* 아래 결과를 통해 만족도와 이직률을 확인해 봄.\n",
    "> * Low : 21.20%, Medium : 16.59%, High : 16.30%, Very High : 12.09%\n",
    "> * 만족도가 높으면 이직을 적게 하는게 맞다."
   ]
  },
  {
   "cell_type": "code",
   "execution_count": 132,
   "metadata": {
    "scrolled": true
   },
   "outputs": [
    {
     "data": {
      "text/html": [
       "<div>\n",
       "<style scoped>\n",
       "    .dataframe tbody tr th:only-of-type {\n",
       "        vertical-align: middle;\n",
       "    }\n",
       "\n",
       "    .dataframe tbody tr th {\n",
       "        vertical-align: top;\n",
       "    }\n",
       "\n",
       "    .dataframe thead th {\n",
       "        text-align: right;\n",
       "    }\n",
       "</style>\n",
       "<table border=\"1\" class=\"dataframe\">\n",
       "  <thead>\n",
       "    <tr style=\"text-align: right;\">\n",
       "      <th></th>\n",
       "      <th>Attrition</th>\n",
       "      <th>Age</th>\n",
       "      <th>BusinessTravel</th>\n",
       "      <th>Department</th>\n",
       "      <th>DistanceFromHome</th>\n",
       "      <th>EmployeeNumber</th>\n",
       "      <th>Gender</th>\n",
       "      <th>JobSatisfaction</th>\n",
       "      <th>MaritalStatus</th>\n",
       "      <th>MonthlyIncome</th>\n",
       "      <th>OverTime</th>\n",
       "      <th>PercentSalaryHike</th>\n",
       "      <th>RelationshipSatisfaction</th>\n",
       "      <th>StockOptionLevel</th>\n",
       "      <th>TotalWorkingYears</th>\n",
       "      <th>WorkLifeBalance</th>\n",
       "    </tr>\n",
       "  </thead>\n",
       "  <tbody>\n",
       "    <tr>\n",
       "      <th>0</th>\n",
       "      <td>0</td>\n",
       "      <td>33</td>\n",
       "      <td>Travel_Rarely</td>\n",
       "      <td>Research &amp; Development</td>\n",
       "      <td>7.0</td>\n",
       "      <td>817</td>\n",
       "      <td>Male</td>\n",
       "      <td>3</td>\n",
       "      <td>Married</td>\n",
       "      <td>11691</td>\n",
       "      <td>No</td>\n",
       "      <td>11</td>\n",
       "      <td>4</td>\n",
       "      <td>0</td>\n",
       "      <td>14</td>\n",
       "      <td>4</td>\n",
       "    </tr>\n",
       "    <tr>\n",
       "      <th>1</th>\n",
       "      <td>0</td>\n",
       "      <td>35</td>\n",
       "      <td>Travel_Frequently</td>\n",
       "      <td>Research &amp; Development</td>\n",
       "      <td>18.0</td>\n",
       "      <td>1412</td>\n",
       "      <td>Male</td>\n",
       "      <td>4</td>\n",
       "      <td>Single</td>\n",
       "      <td>9362</td>\n",
       "      <td>No</td>\n",
       "      <td>11</td>\n",
       "      <td>3</td>\n",
       "      <td>0</td>\n",
       "      <td>10</td>\n",
       "      <td>3</td>\n",
       "    </tr>\n",
       "    <tr>\n",
       "      <th>2</th>\n",
       "      <td>0</td>\n",
       "      <td>42</td>\n",
       "      <td>Travel_Rarely</td>\n",
       "      <td>Research &amp; Development</td>\n",
       "      <td>6.0</td>\n",
       "      <td>1911</td>\n",
       "      <td>Male</td>\n",
       "      <td>1</td>\n",
       "      <td>Married</td>\n",
       "      <td>13348</td>\n",
       "      <td>No</td>\n",
       "      <td>13</td>\n",
       "      <td>2</td>\n",
       "      <td>1</td>\n",
       "      <td>18</td>\n",
       "      <td>4</td>\n",
       "    </tr>\n",
       "    <tr>\n",
       "      <th>3</th>\n",
       "      <td>0</td>\n",
       "      <td>46</td>\n",
       "      <td>Travel_Rarely</td>\n",
       "      <td>Sales</td>\n",
       "      <td>2.0</td>\n",
       "      <td>1204</td>\n",
       "      <td>Female</td>\n",
       "      <td>1</td>\n",
       "      <td>Married</td>\n",
       "      <td>17048</td>\n",
       "      <td>No</td>\n",
       "      <td>23</td>\n",
       "      <td>1</td>\n",
       "      <td>0</td>\n",
       "      <td>28</td>\n",
       "      <td>3</td>\n",
       "    </tr>\n",
       "    <tr>\n",
       "      <th>4</th>\n",
       "      <td>0</td>\n",
       "      <td>39</td>\n",
       "      <td>Travel_Frequently</td>\n",
       "      <td>Sales</td>\n",
       "      <td>NaN</td>\n",
       "      <td>1812</td>\n",
       "      <td>Male</td>\n",
       "      <td>4</td>\n",
       "      <td>Divorced</td>\n",
       "      <td>4127</td>\n",
       "      <td>No</td>\n",
       "      <td>18</td>\n",
       "      <td>4</td>\n",
       "      <td>1</td>\n",
       "      <td>7</td>\n",
       "      <td>3</td>\n",
       "    </tr>\n",
       "  </tbody>\n",
       "</table>\n",
       "</div>"
      ],
      "text/plain": [
       "   Attrition  Age     BusinessTravel              Department  \\\n",
       "0          0   33      Travel_Rarely  Research & Development   \n",
       "1          0   35  Travel_Frequently  Research & Development   \n",
       "2          0   42      Travel_Rarely  Research & Development   \n",
       "3          0   46      Travel_Rarely                   Sales   \n",
       "4          0   39  Travel_Frequently                   Sales   \n",
       "\n",
       "   DistanceFromHome  EmployeeNumber  Gender  JobSatisfaction MaritalStatus  \\\n",
       "0               7.0             817    Male                3       Married   \n",
       "1              18.0            1412    Male                4        Single   \n",
       "2               6.0            1911    Male                1       Married   \n",
       "3               2.0            1204  Female                1       Married   \n",
       "4               NaN            1812    Male                4      Divorced   \n",
       "\n",
       "   MonthlyIncome OverTime  PercentSalaryHike  RelationshipSatisfaction  \\\n",
       "0          11691       No                 11                         4   \n",
       "1           9362       No                 11                         3   \n",
       "2          13348       No                 13                         2   \n",
       "3          17048       No                 23                         1   \n",
       "4           4127       No                 18                         4   \n",
       "\n",
       "   StockOptionLevel  TotalWorkingYears  WorkLifeBalance  \n",
       "0                 0                 14                4  \n",
       "1                 0                 10                3  \n",
       "2                 1                 18                4  \n",
       "3                 0                 28                3  \n",
       "4                 1                  7                3  "
      ]
     },
     "execution_count": 132,
     "metadata": {},
     "output_type": "execute_result"
    }
   ],
   "source": [
    "at = attrition.copy()\n",
    "at['Attrition'] = np.where(at['Attrition'] == 'Yes', 1, 0)\n",
    "at.head()"
   ]
  },
  {
   "cell_type": "code",
   "execution_count": 133,
   "metadata": {},
   "outputs": [
    {
     "data": {
      "text/plain": [
       "1    0.212000\n",
       "2    0.165957\n",
       "3    0.163043\n",
       "4    0.120907\n",
       "dtype: float64"
      ]
     },
     "execution_count": 133,
     "metadata": {},
     "output_type": "execute_result"
    }
   ],
   "source": [
    "at.groupby(var)['Attrition'].sum()/at[var].value_counts()"
   ]
  },
  {
   "cell_type": "markdown",
   "metadata": {
    "id": "2KcdJrQNfJCZ"
   },
   "source": [
    "### ⑤ 추가1"
   ]
  },
  {
   "cell_type": "code",
   "execution_count": null,
   "metadata": {
    "id": "Q5mGnZ5ffJCZ"
   },
   "outputs": [],
   "source": []
  },
  {
   "cell_type": "markdown",
   "metadata": {
    "id": "RkXL80PpfJCa"
   },
   "source": [
    "1) 변수의 비즈니스 의미"
   ]
  },
  {
   "cell_type": "code",
   "execution_count": null,
   "metadata": {
    "id": "U9V5UVQ-fJCa"
   },
   "outputs": [],
   "source": []
  },
  {
   "cell_type": "markdown",
   "metadata": {
    "id": "5Lzur-vKfJCa"
   },
   "source": [
    "2) 숫자, 범주?"
   ]
  },
  {
   "cell_type": "code",
   "execution_count": null,
   "metadata": {
    "id": "SQxdZpGgfJCa"
   },
   "outputs": [],
   "source": []
  },
  {
   "cell_type": "code",
   "execution_count": null,
   "metadata": {
    "id": "1YMtXAGmfJCa"
   },
   "outputs": [],
   "source": []
  },
  {
   "cell_type": "markdown",
   "metadata": {
    "id": "KuROaOxIf3AJ"
   },
   "source": [
    "3) NaN 존재 유무 및 조치방안"
   ]
  },
  {
   "cell_type": "code",
   "execution_count": null,
   "metadata": {
    "id": "1iBtCnnrfJCa"
   },
   "outputs": [],
   "source": []
  },
  {
   "cell_type": "markdown",
   "metadata": {
    "id": "pYG-6q3rfJCa"
   },
   "source": [
    "4) 가변수화 필요 여부"
   ]
  },
  {
   "cell_type": "code",
   "execution_count": null,
   "metadata": {
    "id": "v4bwub65fJCa"
   },
   "outputs": [],
   "source": []
  },
  {
   "cell_type": "markdown",
   "metadata": {
    "id": "H9_8VoENfJCa"
   },
   "source": [
    "5) 기초통계량(수치화)"
   ]
  },
  {
   "cell_type": "code",
   "execution_count": null,
   "metadata": {
    "id": "DJpEltSbfJCa"
   },
   "outputs": [],
   "source": []
  },
  {
   "cell_type": "markdown",
   "metadata": {
    "id": "2mgIyJ3vfJCa"
   },
   "source": [
    "6) 분포 확인(시각화)"
   ]
  },
  {
   "cell_type": "code",
   "execution_count": null,
   "metadata": {
    "id": "8Nnz494-fJCa"
   },
   "outputs": [],
   "source": []
  },
  {
   "cell_type": "markdown",
   "metadata": {
    "id": "s2MLcqE0fJCa"
   },
   "source": [
    "7) 기초통계량과 분포를 통해서 파악한 내용을 적어 봅시다.\n",
    "\n",
    "보이는 그대로를 넘어, 비즈니스 관점에서 고민하며 적어 봅시다."
   ]
  },
  {
   "cell_type": "code",
   "execution_count": null,
   "metadata": {
    "id": "6y_ksZO6fJCb"
   },
   "outputs": [],
   "source": []
  },
  {
   "cell_type": "markdown",
   "metadata": {
    "id": "hr8edCgEfJCb"
   },
   "source": [
    "8) 추가 분석해 볼 사항이 있나요?"
   ]
  },
  {
   "cell_type": "code",
   "execution_count": null,
   "metadata": {
    "id": "X6WHDsGofJCb"
   },
   "outputs": [],
   "source": []
  },
  {
   "cell_type": "markdown",
   "metadata": {
    "id": "CNuvRgvffJOh"
   },
   "source": [
    "### ⑥ 추가2"
   ]
  },
  {
   "cell_type": "code",
   "execution_count": null,
   "metadata": {
    "id": "eXBGMibbfJOi"
   },
   "outputs": [],
   "source": []
  },
  {
   "cell_type": "markdown",
   "metadata": {
    "id": "W_JSEhMwfJOi"
   },
   "source": [
    "1) 변수의 비즈니스 의미"
   ]
  },
  {
   "cell_type": "code",
   "execution_count": null,
   "metadata": {
    "id": "mG50wSQ0fJOi"
   },
   "outputs": [],
   "source": []
  },
  {
   "cell_type": "markdown",
   "metadata": {
    "id": "kOSSfS4vfJOi"
   },
   "source": [
    "2) 숫자, 범주?"
   ]
  },
  {
   "cell_type": "code",
   "execution_count": null,
   "metadata": {
    "id": "oKQ70XbGfJOi"
   },
   "outputs": [],
   "source": []
  },
  {
   "cell_type": "code",
   "execution_count": null,
   "metadata": {
    "id": "lZe9eNT3fJOi"
   },
   "outputs": [],
   "source": []
  },
  {
   "cell_type": "markdown",
   "metadata": {
    "id": "6WifwzXMf376"
   },
   "source": [
    "3) NaN 존재 유무 및 조치방안"
   ]
  },
  {
   "cell_type": "code",
   "execution_count": null,
   "metadata": {
    "id": "34QM3RTdfJOi"
   },
   "outputs": [],
   "source": []
  },
  {
   "cell_type": "markdown",
   "metadata": {
    "id": "tIUxwhUKfJOi"
   },
   "source": [
    "4) 가변수화 필요 여부"
   ]
  },
  {
   "cell_type": "code",
   "execution_count": null,
   "metadata": {
    "id": "HaSfsSsifJOi"
   },
   "outputs": [],
   "source": []
  },
  {
   "cell_type": "markdown",
   "metadata": {
    "id": "BCzeX4lVfJOi"
   },
   "source": [
    "5) 기초통계량(수치화)"
   ]
  },
  {
   "cell_type": "code",
   "execution_count": null,
   "metadata": {
    "id": "HxJ0eEo6fJOi"
   },
   "outputs": [],
   "source": []
  },
  {
   "cell_type": "markdown",
   "metadata": {
    "id": "6L8N9OfVfJOi"
   },
   "source": [
    "6) 분포 확인(시각화)"
   ]
  },
  {
   "cell_type": "code",
   "execution_count": null,
   "metadata": {
    "id": "N5qyZmktfJOj"
   },
   "outputs": [],
   "source": []
  },
  {
   "cell_type": "markdown",
   "metadata": {
    "id": "2wcNbFFRfJOj"
   },
   "source": [
    "7) 기초통계량과 분포를 통해서 파악한 내용을 적어 봅시다.\n",
    "\n",
    "보이는 그대로를 넘어, 비즈니스 관점에서 고민하며 적어 봅시다."
   ]
  },
  {
   "cell_type": "code",
   "execution_count": null,
   "metadata": {
    "id": "8YeIK2a1fJOj"
   },
   "outputs": [],
   "source": []
  },
  {
   "cell_type": "markdown",
   "metadata": {
    "id": "KY8VLeMnfJOj"
   },
   "source": [
    "8) 추가 분석해 볼 사항이 있나요?"
   ]
  },
  {
   "cell_type": "code",
   "execution_count": null,
   "metadata": {
    "id": "ahwu_gJNfJOj"
   },
   "outputs": [],
   "source": []
  },
  {
   "cell_type": "markdown",
   "metadata": {
    "id": "Qz69-nXXfJsN"
   },
   "source": [
    "### ⑦ 추가3"
   ]
  },
  {
   "cell_type": "code",
   "execution_count": null,
   "metadata": {
    "id": "Ig0yB9FwfJsN"
   },
   "outputs": [],
   "source": []
  },
  {
   "cell_type": "markdown",
   "metadata": {
    "id": "7ffT4NxqfJsO"
   },
   "source": [
    "1) 변수의 비즈니스 의미"
   ]
  },
  {
   "cell_type": "code",
   "execution_count": null,
   "metadata": {
    "id": "lgsacrDKfJsO"
   },
   "outputs": [],
   "source": []
  },
  {
   "cell_type": "markdown",
   "metadata": {
    "id": "BpkAWt2bfJsO"
   },
   "source": [
    "2) 숫자, 범주?"
   ]
  },
  {
   "cell_type": "code",
   "execution_count": null,
   "metadata": {
    "id": "AUvMYHcqfJsO"
   },
   "outputs": [],
   "source": []
  },
  {
   "cell_type": "code",
   "execution_count": null,
   "metadata": {
    "id": "ODyiKthXfJsO"
   },
   "outputs": [],
   "source": []
  },
  {
   "cell_type": "markdown",
   "metadata": {
    "id": "ynkh06oZf5FP"
   },
   "source": [
    "3) NaN 존재 유무 및 조치방안"
   ]
  },
  {
   "cell_type": "code",
   "execution_count": null,
   "metadata": {
    "id": "LxjAKkiLfJsP"
   },
   "outputs": [],
   "source": []
  },
  {
   "cell_type": "markdown",
   "metadata": {
    "id": "BgK2Z5V5fJsP"
   },
   "source": [
    "4) 가변수화 필요 여부"
   ]
  },
  {
   "cell_type": "code",
   "execution_count": null,
   "metadata": {
    "id": "k6UxhvEDfJsP"
   },
   "outputs": [],
   "source": []
  },
  {
   "cell_type": "markdown",
   "metadata": {
    "id": "d-EKlYNzfJsP"
   },
   "source": [
    "5) 기초통계량(수치화)"
   ]
  },
  {
   "cell_type": "code",
   "execution_count": null,
   "metadata": {
    "id": "bvg2fA1xfJsP"
   },
   "outputs": [],
   "source": []
  },
  {
   "cell_type": "markdown",
   "metadata": {
    "id": "PE7Yxe03fJsP"
   },
   "source": [
    "6) 분포 확인(시각화)"
   ]
  },
  {
   "cell_type": "code",
   "execution_count": null,
   "metadata": {
    "id": "uZqRnWUHfJsP"
   },
   "outputs": [],
   "source": []
  },
  {
   "cell_type": "markdown",
   "metadata": {
    "id": "tsAz1_mOfJsP"
   },
   "source": [
    "7) 기초통계량과 분포를 통해서 파악한 내용을 적어 봅시다.\n",
    "\n",
    "보이는 그대로를 넘어, 비즈니스 관점에서 고민하며 적어 봅시다."
   ]
  },
  {
   "cell_type": "code",
   "execution_count": null,
   "metadata": {
    "id": "nnwnAzi-fJsP"
   },
   "outputs": [],
   "source": []
  },
  {
   "cell_type": "markdown",
   "metadata": {
    "id": "4yxngOL8fJsP"
   },
   "source": [
    "8) 추가 분석해 볼 사항이 있나요?"
   ]
  },
  {
   "cell_type": "code",
   "execution_count": null,
   "metadata": {
    "id": "UHJn-q3ufJsQ"
   },
   "outputs": [],
   "source": []
  }
 ],
 "metadata": {
  "colab": {
   "collapsed_sections": [],
   "name": "06과 단변량분석 확인사항_종합실습.ipynb",
   "provenance": [],
   "toc_visible": true
  },
  "kernelspec": {
   "display_name": "Python 3",
   "language": "python",
   "name": "python3"
  },
  "language_info": {
   "codemirror_mode": {
    "name": "ipython",
    "version": 3
   },
   "file_extension": ".py",
   "mimetype": "text/x-python",
   "name": "python",
   "nbconvert_exporter": "python",
   "pygments_lexer": "ipython3",
   "version": "3.8.8"
  }
 },
 "nbformat": 4,
 "nbformat_minor": 1
}
