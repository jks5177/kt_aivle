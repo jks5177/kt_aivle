{
 "cells": [
  {
   "cell_type": "markdown",
   "metadata": {
    "id": "H2PiE6pYmBv7"
   },
   "source": [
    "# Class Weight\n",
    "\n"
   ]
  },
  {
   "cell_type": "markdown",
   "metadata": {
    "id": "Wyg1gRj8ZxMK"
   },
   "source": [
    "## 0.환경준비"
   ]
  },
  {
   "cell_type": "markdown",
   "metadata": {
    "id": "dSsCFlrNaQQW"
   },
   "source": [
    "### 0.1 라이브러리 로딩"
   ]
  },
  {
   "cell_type": "code",
   "execution_count": 1,
   "metadata": {
    "id": "6g46eHDnW2QX"
   },
   "outputs": [],
   "source": [
    "import pandas as pd\n",
    "import numpy as np\n",
    "import matplotlib.pyplot as plt\n",
    "import seaborn as sns\n",
    "\n",
    "from sklearn.model_selection import train_test_split\n",
    "\n",
    "import warnings\n",
    "warnings.simplefilter(action='ignore', category=FutureWarning)"
   ]
  },
  {
   "cell_type": "markdown",
   "metadata": {
    "id": "oivLe5kRaO8V"
   },
   "source": [
    "### 0.2 데이터 로딩"
   ]
  },
  {
   "cell_type": "markdown",
   "metadata": {
    "id": "Ly9-R3Pyd-2L"
   },
   "source": [
    "> 예제 데이터는 공정간 불량을 예측하는 데이터입니다.  \n",
    "여기서는 class imbalance 에 대한 샘플링과 성능에만 초점을 맞추겠습니다.\n"
   ]
  },
  {
   "cell_type": "code",
   "execution_count": 2,
   "metadata": {
    "id": "4LQpkcFgm50W"
   },
   "outputs": [],
   "source": [
    "# data data\n",
    "path = \"https://raw.githubusercontent.com/DA4BAM/dataset/master/Attrition2.csv\"\n",
    "data = pd.read_csv(path)"
   ]
  },
  {
   "cell_type": "markdown",
   "metadata": {
    "id": "jECAaPceva4m"
   },
   "source": [
    "## 1.데이터 탐색"
   ]
  },
  {
   "cell_type": "code",
   "execution_count": 3,
   "metadata": {
    "id": "ec3xuHRhva4n"
   },
   "outputs": [
    {
     "data": {
      "text/plain": [
       "(1150, 17)"
      ]
     },
     "execution_count": 3,
     "metadata": {},
     "output_type": "execute_result"
    }
   ],
   "source": [
    "data.shape"
   ]
  },
  {
   "cell_type": "code",
   "execution_count": 4,
   "metadata": {
    "id": "K6toXun6uptd"
   },
   "outputs": [
    {
     "data": {
      "text/html": [
       "<div>\n",
       "<style scoped>\n",
       "    .dataframe tbody tr th:only-of-type {\n",
       "        vertical-align: middle;\n",
       "    }\n",
       "\n",
       "    .dataframe tbody tr th {\n",
       "        vertical-align: top;\n",
       "    }\n",
       "\n",
       "    .dataframe thead th {\n",
       "        text-align: right;\n",
       "    }\n",
       "</style>\n",
       "<table border=\"1\" class=\"dataframe\">\n",
       "  <thead>\n",
       "    <tr style=\"text-align: right;\">\n",
       "      <th></th>\n",
       "      <th>Attrition</th>\n",
       "      <th>Age</th>\n",
       "      <th>Department</th>\n",
       "      <th>DistanceFromHome</th>\n",
       "      <th>Education</th>\n",
       "      <th>EducationField</th>\n",
       "      <th>Gender</th>\n",
       "      <th>JobRole</th>\n",
       "      <th>JobSatisfaction</th>\n",
       "      <th>MaritalStatus</th>\n",
       "      <th>MonthlyIncome</th>\n",
       "      <th>NumCompaniesWorked</th>\n",
       "      <th>RelationshipSatisfaction</th>\n",
       "      <th>TotalWorkingYears</th>\n",
       "      <th>TrainingTimesLastYear</th>\n",
       "      <th>WorkLifeBalance</th>\n",
       "      <th>YearsAtCompany</th>\n",
       "    </tr>\n",
       "  </thead>\n",
       "  <tbody>\n",
       "    <tr>\n",
       "      <th>0</th>\n",
       "      <td>0</td>\n",
       "      <td>28</td>\n",
       "      <td>Research &amp; Development</td>\n",
       "      <td>1</td>\n",
       "      <td>3</td>\n",
       "      <td>Medical</td>\n",
       "      <td>Female</td>\n",
       "      <td>Research Scientist</td>\n",
       "      <td>1</td>\n",
       "      <td>Married</td>\n",
       "      <td>3591</td>\n",
       "      <td>1</td>\n",
       "      <td>3</td>\n",
       "      <td>3</td>\n",
       "      <td>3</td>\n",
       "      <td>3</td>\n",
       "      <td>3</td>\n",
       "    </tr>\n",
       "    <tr>\n",
       "      <th>1</th>\n",
       "      <td>1</td>\n",
       "      <td>37</td>\n",
       "      <td>Research &amp; Development</td>\n",
       "      <td>2</td>\n",
       "      <td>2</td>\n",
       "      <td>Other</td>\n",
       "      <td>Male</td>\n",
       "      <td>Laboratory Technician</td>\n",
       "      <td>3</td>\n",
       "      <td>Single</td>\n",
       "      <td>2090</td>\n",
       "      <td>6</td>\n",
       "      <td>2</td>\n",
       "      <td>7</td>\n",
       "      <td>3</td>\n",
       "      <td>3</td>\n",
       "      <td>0</td>\n",
       "    </tr>\n",
       "    <tr>\n",
       "      <th>2</th>\n",
       "      <td>0</td>\n",
       "      <td>27</td>\n",
       "      <td>Research &amp; Development</td>\n",
       "      <td>8</td>\n",
       "      <td>5</td>\n",
       "      <td>Life Sciences</td>\n",
       "      <td>Male</td>\n",
       "      <td>Laboratory Technician</td>\n",
       "      <td>3</td>\n",
       "      <td>Married</td>\n",
       "      <td>4621</td>\n",
       "      <td>1</td>\n",
       "      <td>4</td>\n",
       "      <td>3</td>\n",
       "      <td>4</td>\n",
       "      <td>3</td>\n",
       "      <td>3</td>\n",
       "    </tr>\n",
       "    <tr>\n",
       "      <th>3</th>\n",
       "      <td>0</td>\n",
       "      <td>18</td>\n",
       "      <td>Research &amp; Development</td>\n",
       "      <td>1</td>\n",
       "      <td>3</td>\n",
       "      <td>Life Sciences</td>\n",
       "      <td>Female</td>\n",
       "      <td>Laboratory Technician</td>\n",
       "      <td>4</td>\n",
       "      <td>Single</td>\n",
       "      <td>1611</td>\n",
       "      <td>1</td>\n",
       "      <td>3</td>\n",
       "      <td>0</td>\n",
       "      <td>5</td>\n",
       "      <td>4</td>\n",
       "      <td>0</td>\n",
       "    </tr>\n",
       "    <tr>\n",
       "      <th>4</th>\n",
       "      <td>0</td>\n",
       "      <td>29</td>\n",
       "      <td>Research &amp; Development</td>\n",
       "      <td>9</td>\n",
       "      <td>3</td>\n",
       "      <td>Life Sciences</td>\n",
       "      <td>Male</td>\n",
       "      <td>Research Scientist</td>\n",
       "      <td>3</td>\n",
       "      <td>Married</td>\n",
       "      <td>2451</td>\n",
       "      <td>6</td>\n",
       "      <td>1</td>\n",
       "      <td>5</td>\n",
       "      <td>2</td>\n",
       "      <td>2</td>\n",
       "      <td>1</td>\n",
       "    </tr>\n",
       "  </tbody>\n",
       "</table>\n",
       "</div>"
      ],
      "text/plain": [
       "   Attrition  Age              Department  DistanceFromHome  Education  \\\n",
       "0          0   28  Research & Development                 1          3   \n",
       "1          1   37  Research & Development                 2          2   \n",
       "2          0   27  Research & Development                 8          5   \n",
       "3          0   18  Research & Development                 1          3   \n",
       "4          0   29  Research & Development                 9          3   \n",
       "\n",
       "  EducationField  Gender                JobRole  JobSatisfaction  \\\n",
       "0        Medical  Female     Research Scientist                1   \n",
       "1          Other    Male  Laboratory Technician                3   \n",
       "2  Life Sciences    Male  Laboratory Technician                3   \n",
       "3  Life Sciences  Female  Laboratory Technician                4   \n",
       "4  Life Sciences    Male     Research Scientist                3   \n",
       "\n",
       "  MaritalStatus  MonthlyIncome  NumCompaniesWorked  RelationshipSatisfaction  \\\n",
       "0       Married           3591                   1                         3   \n",
       "1        Single           2090                   6                         2   \n",
       "2       Married           4621                   1                         4   \n",
       "3        Single           1611                   1                         3   \n",
       "4       Married           2451                   6                         1   \n",
       "\n",
       "   TotalWorkingYears  TrainingTimesLastYear  WorkLifeBalance  YearsAtCompany  \n",
       "0                  3                      3                3               3  \n",
       "1                  7                      3                3               0  \n",
       "2                  3                      4                3               3  \n",
       "3                  0                      5                4               0  \n",
       "4                  5                      2                2               1  "
      ]
     },
     "execution_count": 4,
     "metadata": {},
     "output_type": "execute_result"
    }
   ],
   "source": [
    "data.head()"
   ]
  },
  {
   "cell_type": "markdown",
   "metadata": {
    "id": "hDC9Z8vdP-TU"
   },
   "source": [
    "## 2.데이터 준비"
   ]
  },
  {
   "cell_type": "markdown",
   "metadata": {
    "id": "fE44VnZ7r4At"
   },
   "source": [
    "### 2.1 x, y 로 나누기"
   ]
  },
  {
   "cell_type": "code",
   "execution_count": 5,
   "metadata": {
    "id": "j7C7QYLAr6bq"
   },
   "outputs": [],
   "source": [
    "target = 'Attrition'\n",
    "x = data.drop(target, axis = 1)\n",
    "y = data.loc[:,target]"
   ]
  },
  {
   "cell_type": "markdown",
   "metadata": {
    "id": "FXPC5kwnr9Dt"
   },
   "source": [
    "### 2.2 가변수화\n"
   ]
  },
  {
   "cell_type": "code",
   "execution_count": 6,
   "metadata": {
    "id": "DVqEHhYFT7eQ"
   },
   "outputs": [],
   "source": [
    "dummy_vars = ['Education','Department','EducationField','Gender','JobRole','JobSatisfaction','MaritalStatus',\n",
    "              'RelationshipSatisfaction','WorkLifeBalance'] # 가변수화 대상 변수 이름 리스트 만든다\n",
    "x = pd.get_dummies(x, columns = dummy_vars, drop_first=True) "
   ]
  },
  {
   "cell_type": "markdown",
   "metadata": {
    "id": "s0Fg_JoHrwhG"
   },
   "source": [
    "### 2.3 데이터 분할"
   ]
  },
  {
   "cell_type": "code",
   "execution_count": 7,
   "metadata": {
    "id": "mENOR-4QP-TU"
   },
   "outputs": [],
   "source": [
    "x_train, x_val, y_train, y_val = train_test_split(x, y, test_size = .3, random_state=2022)"
   ]
  },
  {
   "cell_type": "code",
   "execution_count": 8,
   "metadata": {
    "id": "CvCO5Pru_vuo"
   },
   "outputs": [
    {
     "data": {
      "text/plain": [
       "((805, 38), (805,))"
      ]
     },
     "execution_count": 8,
     "metadata": {},
     "output_type": "execute_result"
    }
   ],
   "source": [
    "x_train.shape, y_train.shape"
   ]
  },
  {
   "cell_type": "markdown",
   "metadata": {
    "id": "LAzxx0nkh1LX"
   },
   "source": [
    "## 3.모델링 + class weight 조정하기"
   ]
  },
  {
   "cell_type": "code",
   "execution_count": 9,
   "metadata": {
    "id": "6VkF0-iXijKk"
   },
   "outputs": [],
   "source": [
    "# 필요한 라이브러리, 함수들을 불러옵시다.\n",
    "from sklearn.linear_model import LogisticRegression\n",
    "from sklearn.tree import DecisionTreeClassifier, plot_tree\n",
    "from sklearn.metrics import *\n",
    "\n",
    "from sklearn.model_selection import GridSearchCV, StratifiedKFold"
   ]
  },
  {
   "cell_type": "markdown",
   "metadata": {
    "id": "Z1XvZlGFcHbn"
   },
   "source": [
    "### 1) 기본 모델링\n",
    "\n",
    "* 로지스틱 회귀 + 데이터 그대로 이용"
   ]
  },
  {
   "cell_type": "code",
   "execution_count": 10,
   "metadata": {
    "id": "01zxVgqYI797"
   },
   "outputs": [
    {
     "name": "stdout",
     "output_type": "stream",
     "text": [
      "[[321   2]\n",
      " [ 20   2]]\n",
      "-------------------------------------------------------\n",
      "              precision    recall  f1-score   support\n",
      "\n",
      "           0       0.94      0.99      0.97       323\n",
      "           1       0.50      0.09      0.15        22\n",
      "\n",
      "    accuracy                           0.94       345\n",
      "   macro avg       0.72      0.54      0.56       345\n",
      "weighted avg       0.91      0.94      0.92       345\n",
      "\n"
     ]
    }
   ],
   "source": [
    "model = LogisticRegression(solver = 'liblinear')\n",
    "model.fit(x_train, y_train)\n",
    "pred = model.predict(x_val)\n",
    "\n",
    "print(confusion_matrix(y_val, pred))\n",
    "print('-' * 55)\n",
    "print(classification_report(y_val, pred))"
   ]
  },
  {
   "cell_type": "markdown",
   "metadata": {
    "id": "_FREl9UnaMm6"
   },
   "source": [
    "### 2) Class Weight 조정"
   ]
  },
  {
   "cell_type": "code",
   "execution_count": 11,
   "metadata": {
    "id": "-qgbfUcXZ5go"
   },
   "outputs": [],
   "source": [
    "# loss 계산 수식 (그냥 넘어가도 됨)\n",
    "\n",
    "def loss(y, y_hat):\n",
    "    loss = -np.mean(y*(np.log(y_hat)) - (1-y)*np.log(1-y_hat))\n",
    "    return loss"
   ]
  },
  {
   "cell_type": "markdown",
   "metadata": {
    "id": "4iSZtiKdIVYS"
   },
   "source": [
    "#### ① 로지스틱 회귀\n",
    "> * class_weight = 'balanced'\n",
    "* class_weight = 비율로 수동 조절"
   ]
  },
  {
   "cell_type": "code",
   "execution_count": 12,
   "metadata": {
    "id": "3gjF85SNIYX_"
   },
   "outputs": [
    {
     "name": "stdout",
     "output_type": "stream",
     "text": [
      "[[238  85]\n",
      " [  4  18]]\n",
      "-------------------------------------------------------\n",
      "              precision    recall  f1-score   support\n",
      "\n",
      "           0       0.98      0.74      0.84       323\n",
      "           1       0.17      0.82      0.29        22\n",
      "\n",
      "    accuracy                           0.74       345\n",
      "   macro avg       0.58      0.78      0.57       345\n",
      "weighted avg       0.93      0.74      0.81       345\n",
      "\n"
     ]
    }
   ],
   "source": [
    "# class_weight = 'balanced'\n",
    " \n",
    "model = LogisticRegression(solver = 'liblinear', class_weight='balanced')\n",
    "model.fit(x_train, y_train)\n",
    "pred = model.predict(x_val)\n",
    "\n",
    "print(confusion_matrix(y_val, pred))\n",
    "print('-' * 55)\n",
    "print(classification_report(y_val, pred))"
   ]
  },
  {
   "cell_type": "code",
   "execution_count": 13,
   "metadata": {
    "id": "TmqJXQZwgVIT",
    "scrolled": true
   },
   "outputs": [
    {
     "name": "stdout",
     "output_type": "stream",
     "text": [
      "0\n",
      "1\n",
      "2\n",
      "3\n",
      "4\n",
      "5\n",
      "6\n",
      "7\n",
      "8\n",
      "9\n",
      "10\n",
      "11\n",
      "12\n",
      "13\n",
      "14\n",
      "15\n",
      "16\n",
      "17\n",
      "18\n",
      "19\n",
      "20\n",
      "21\n",
      "22\n",
      "23\n",
      "24\n",
      "25\n",
      "26\n",
      "27\n",
      "28\n",
      "29\n",
      "30\n",
      "31\n",
      "32\n",
      "33\n",
      "34\n",
      "35\n",
      "36\n",
      "37\n",
      "38\n",
      "39\n",
      "40\n",
      "41\n",
      "42\n",
      "43\n",
      "44\n",
      "45\n",
      "46\n",
      "47\n",
      "48\n",
      "49\n"
     ]
    }
   ],
   "source": [
    "result = []\n",
    "\n",
    "for i in range(50):\n",
    "    x_train, x_val, y_train, y_val = train_test_split(x, y, test_size = .4)\n",
    "    model = LogisticRegression(solver = 'liblinear', class_weight='balanced')\n",
    "    model.fit(x_train, y_train)\n",
    "    pred = model.predict(x_val)\n",
    "    result.append(f1_score(y_val, pred, pos_label=1))\n",
    "    print(i)"
   ]
  },
  {
   "cell_type": "code",
   "execution_count": 14,
   "metadata": {
    "id": "RKqVcBqfgkwD"
   },
   "outputs": [
    {
     "data": {
      "image/png": "[encoded data removed]",
      "text/plain": [
       "<Figure size 864x576 with 1 Axes>"
      ]
     },
     "metadata": {
      "needs_background": "light"
     },
     "output_type": "display_data"
    }
   ],
   "source": [
    "plt.figure(figsize=(12, 8))\n",
    "sns.kdeplot(result)\n",
    "plt.title('F1 Score')\n",
    "plt.grid()\n",
    "plt.show()"
   ]
  },
  {
   "cell_type": "code",
   "execution_count": 15,
   "metadata": {
    "id": "w1D5rILVgvHM",
    "scrolled": true
   },
   "outputs": [
    {
     "data": {
      "text/plain": [
       "{'class_weight': [{0: 0.0, 1: 1.0},\n",
       "  {0: 0.01, 1: 0.99},\n",
       "  {0: 0.02, 1: 0.98},\n",
       "  {0: 0.03, 1: 0.97},\n",
       "  {0: 0.04, 1: 0.96},\n",
       "  {0: 0.05, 1: 0.95},\n",
       "  {0: 0.06, 1: 0.94},\n",
       "  {0: 0.07, 1: 0.9299999999999999},\n",
       "  {0: 0.08, 1: 0.92},\n",
       "  {0: 0.09, 1: 0.91},\n",
       "  {0: 0.1, 1: 0.9},\n",
       "  {0: 0.11, 1: 0.89},\n",
       "  {0: 0.12, 1: 0.88},\n",
       "  {0: 0.13, 1: 0.87},\n",
       "  {0: 0.14, 1: 0.86},\n",
       "  {0: 0.15, 1: 0.85},\n",
       "  {0: 0.16, 1: 0.84},\n",
       "  {0: 0.17, 1: 0.83},\n",
       "  {0: 0.18, 1: 0.8200000000000001},\n",
       "  {0: 0.19, 1: 0.81},\n",
       "  {0: 0.2, 1: 0.8},\n",
       "  {0: 0.21, 1: 0.79},\n",
       "  {0: 0.22, 1: 0.78},\n",
       "  {0: 0.23, 1: 0.77},\n",
       "  {0: 0.24, 1: 0.76},\n",
       "  {0: 0.25, 1: 0.75},\n",
       "  {0: 0.26, 1: 0.74},\n",
       "  {0: 0.27, 1: 0.73},\n",
       "  {0: 0.28, 1: 0.72},\n",
       "  {0: 0.29, 1: 0.71},\n",
       "  {0: 0.3, 1: 0.7},\n",
       "  {0: 0.31, 1: 0.69},\n",
       "  {0: 0.32, 1: 0.6799999999999999},\n",
       "  {0: 0.33, 1: 0.6699999999999999},\n",
       "  {0: 0.34, 1: 0.6599999999999999},\n",
       "  {0: 0.35000000000000003, 1: 0.6499999999999999},\n",
       "  {0: 0.36, 1: 0.64},\n",
       "  {0: 0.37, 1: 0.63},\n",
       "  {0: 0.38, 1: 0.62},\n",
       "  {0: 0.39, 1: 0.61},\n",
       "  {0: 0.4, 1: 0.6},\n",
       "  {0: 0.41000000000000003, 1: 0.59},\n",
       "  {0: 0.42, 1: 0.5800000000000001},\n",
       "  {0: 0.43, 1: 0.5700000000000001},\n",
       "  {0: 0.44, 1: 0.56},\n",
       "  {0: 0.45, 1: 0.55},\n",
       "  {0: 0.46, 1: 0.54},\n",
       "  {0: 0.47000000000000003, 1: 0.53},\n",
       "  {0: 0.48, 1: 0.52},\n",
       "  {0: 0.49, 1: 0.51},\n",
       "  {0: 0.5, 1: 0.5},\n",
       "  {0: 0.51, 1: 0.49},\n",
       "  {0: 0.52, 1: 0.48},\n",
       "  {0: 0.53, 1: 0.47},\n",
       "  {0: 0.54, 1: 0.45999999999999996},\n",
       "  {0: 0.55, 1: 0.44999999999999996},\n",
       "  {0: 0.56, 1: 0.43999999999999995},\n",
       "  {0: 0.5700000000000001, 1: 0.42999999999999994},\n",
       "  {0: 0.58, 1: 0.42000000000000004},\n",
       "  {0: 0.59, 1: 0.41000000000000003},\n",
       "  {0: 0.6, 1: 0.4},\n",
       "  {0: 0.61, 1: 0.39},\n",
       "  {0: 0.62, 1: 0.38},\n",
       "  {0: 0.63, 1: 0.37},\n",
       "  {0: 0.64, 1: 0.36},\n",
       "  {0: 0.65, 1: 0.35},\n",
       "  {0: 0.66, 1: 0.33999999999999997},\n",
       "  {0: 0.67, 1: 0.32999999999999996},\n",
       "  {0: 0.68, 1: 0.31999999999999995},\n",
       "  {0: 0.6900000000000001, 1: 0.30999999999999994},\n",
       "  {0: 0.7000000000000001, 1: 0.29999999999999993},\n",
       "  {0: 0.71, 1: 0.29000000000000004},\n",
       "  {0: 0.72, 1: 0.28},\n",
       "  {0: 0.73, 1: 0.27},\n",
       "  {0: 0.74, 1: 0.26},\n",
       "  {0: 0.75, 1: 0.25},\n",
       "  {0: 0.76, 1: 0.24},\n",
       "  {0: 0.77, 1: 0.22999999999999998},\n",
       "  {0: 0.78, 1: 0.21999999999999997},\n",
       "  {0: 0.79, 1: 0.20999999999999996},\n",
       "  {0: 0.8, 1: 0.19999999999999996},\n",
       "  {0: 0.81, 1: 0.18999999999999995},\n",
       "  {0: 0.8200000000000001, 1: 0.17999999999999994},\n",
       "  {0: 0.8300000000000001, 1: 0.16999999999999993},\n",
       "  {0: 0.84, 1: 0.16000000000000003},\n",
       "  {0: 0.85, 1: 0.15000000000000002},\n",
       "  {0: 0.86, 1: 0.14},\n",
       "  {0: 0.87, 1: 0.13},\n",
       "  {0: 0.88, 1: 0.12},\n",
       "  {0: 0.89, 1: 0.10999999999999999},\n",
       "  {0: 0.9, 1: 0.09999999999999998},\n",
       "  {0: 0.91, 1: 0.08999999999999997},\n",
       "  {0: 0.92, 1: 0.07999999999999996},\n",
       "  {0: 0.93, 1: 0.06999999999999995},\n",
       "  {0: 0.9400000000000001, 1: 0.05999999999999994},\n",
       "  {0: 0.9500000000000001, 1: 0.04999999999999993},\n",
       "  {0: 0.96, 1: 0.040000000000000036},\n",
       "  {0: 0.97, 1: 0.030000000000000027},\n",
       "  {0: 0.98, 1: 0.020000000000000018},\n",
       "  {0: 0.99, 1: 0.010000000000000009}]}"
      ]
     },
     "execution_count": 15,
     "metadata": {},
     "output_type": "execute_result"
    }
   ],
   "source": [
    "# class_weight = 비율로 수동 조절하도록 파라미터 설정\n",
    "weights = np.linspace(0.0,.99,100)\n",
    "params = {'class_weight': [{0:x, 1:1.0-x} for x in weights]}\n",
    "params"
   ]
  },
  {
   "cell_type": "code",
   "execution_count": 16,
   "metadata": {
    "id": "SMexkzTBedVd",
    "scrolled": true
   },
   "outputs": [
    {
     "data": {
      "text/plain": [
       "GridSearchCV(cv=StratifiedKFold(n_splits=5, random_state=None, shuffle=False),\n",
       "             estimator=LogisticRegression(solver='liblinear'),\n",
       "             param_grid={'class_weight': [{0: 0.0, 1: 1.0}, {0: 0.01, 1: 0.99},\n",
       "                                          {0: 0.02, 1: 0.98},\n",
       "                                          {0: 0.03, 1: 0.97},\n",
       "                                          {0: 0.04, 1: 0.96},\n",
       "                                          {0: 0.05, 1: 0.95},\n",
       "                                          {0: 0.06, 1: 0.94},\n",
       "                                          {0: 0.07, 1: 0.9299999999999999},\n",
       "                                          {0: 0.08, 1: 0.92},\n",
       "                                          {0: 0.09, 1: 0.91}, {0: 0.1, 1: 0.9},\n",
       "                                          {0: 0.11, 1: 0.89},\n",
       "                                          {0: 0.12, 1: 0.88},\n",
       "                                          {0: 0.13, 1: 0.87},\n",
       "                                          {0: 0.14, 1: 0.86},\n",
       "                                          {0: 0.15, 1: 0.85},\n",
       "                                          {0: 0.16, 1: 0.84},\n",
       "                                          {0: 0.17, 1: 0.83},\n",
       "                                          {0: 0.18, 1: 0.8200000000000001},\n",
       "                                          {0: 0.19, 1: 0.81}, {0: 0.2, 1: 0.8},\n",
       "                                          {0: 0.21, 1: 0.79},\n",
       "                                          {0: 0.22, 1: 0.78},\n",
       "                                          {0: 0.23, 1: 0.77},\n",
       "                                          {0: 0.24, 1: 0.76},\n",
       "                                          {0: 0.25, 1: 0.75},\n",
       "                                          {0: 0.26, 1: 0.74},\n",
       "                                          {0: 0.27, 1: 0.73},\n",
       "                                          {0: 0.28, 1: 0.72},\n",
       "                                          {0: 0.29, 1: 0.71}, ...]},\n",
       "             scoring='f1')"
      ]
     },
     "execution_count": 16,
     "metadata": {},
     "output_type": "execute_result"
    }
   ],
   "source": [
    "# Grid Search : 그리드서치로 튜닝\n",
    "# StratifiedKFold : 층화추출\n",
    "model = GridSearchCV(LogisticRegression(solver = 'liblinear'), params\n",
    "                    , cv= StratifiedKFold(5), scoring='f1')\n",
    "model.fit(x_train, y_train)"
   ]
  },
  {
   "cell_type": "code",
   "execution_count": 17,
   "metadata": {
    "id": "Tt-611DHwFFt"
   },
   "outputs": [
    {
     "data": {
      "text/plain": [
       "0    0.913043\n",
       "1    0.086957\n",
       "Name: Attrition, dtype: float64"
      ]
     },
     "execution_count": 17,
     "metadata": {},
     "output_type": "execute_result"
    }
   ],
   "source": [
    "y_train.value_counts()/y_train.shape[0]"
   ]
  },
  {
   "cell_type": "code",
   "execution_count": 18,
   "metadata": {
    "id": "y2mjBYUJEASR"
   },
   "outputs": [
    {
     "data": {
      "text/plain": [
       "{'mean_fit_time': array([0.00698781, 0.00799799, 0.00917573, 0.00842862, 0.00937924,\n",
       "        0.00859017, 0.00860229, 0.00838432, 0.00914388, 0.00909185,\n",
       "        0.00896029, 0.0083478 , 0.0088109 , 0.00873494, 0.00940766,\n",
       "        0.01055546, 0.01199164, 0.01189728, 0.00876231, 0.00918255,\n",
       "        0.00841131, 0.00918565, 0.00865283, 0.00941133, 0.00831485,\n",
       "        0.00877604, 0.00786309, 0.00878043, 0.00822053, 0.00956807,\n",
       "        0.00864329, 0.00835881, 0.0108036 , 0.00978208, 0.00864229,\n",
       "        0.00887909, 0.00948243, 0.00918088, 0.00977287, 0.00798202,\n",
       "        0.00938449, 0.00878386, 0.00979004, 0.00943904, 0.00952935,\n",
       "        0.00863643, 0.0107079 , 0.01038222, 0.00806756, 0.00909405,\n",
       "        0.0088058 , 0.00992842, 0.00842137, 0.00896311, 0.00837603,\n",
       "        0.00884972, 0.00966902, 0.01041093, 0.00863647, 0.00820985,\n",
       "        0.00873313, 0.00816355, 0.00839348, 0.00864305, 0.00774579,\n",
       "        0.00817795, 0.00819736, 0.00760245, 0.00899806, 0.01003118,\n",
       "        0.00870037, 0.00799665, 0.0088397 , 0.00804033, 0.00774102,\n",
       "        0.00701995, 0.00729022, 0.00920486, 0.00656457, 0.00794711,\n",
       "        0.00740442, 0.00700212, 0.00640621, 0.0065671 , 0.00685663,\n",
       "        0.00670323, 0.00599141, 0.007412  , 0.00595531, 0.00667338,\n",
       "        0.00578365, 0.00717783, 0.00594816, 0.00665255, 0.00691614,\n",
       "        0.00675988, 0.00596738, 0.00608716, 0.005761  , 0.00480676]),\n",
       " 'std_fit_time': array([0.00147989, 0.00108246, 0.0021289 , 0.00156238, 0.0010085 ,\n",
       "        0.00103071, 0.00083794, 0.00048404, 0.00141807, 0.00102844,\n",
       "        0.00087589, 0.0009173 , 0.00094764, 0.00057425, 0.00237369,\n",
       "        0.00233043, 0.00110662, 0.00096023, 0.00143527, 0.00097121,\n",
       "        0.00078336, 0.00130634, 0.00141387, 0.0012172 , 0.0011094 ,\n",
       "        0.00146612, 0.00040672, 0.0011839 , 0.00109884, 0.00123812,\n",
       "        0.00138227, 0.00133467, 0.00167093, 0.00164445, 0.00145394,\n",
       "        0.00138605, 0.00149294, 0.00172357, 0.0017099 , 0.00063101,\n",
       "        0.00101595, 0.00142405, 0.00298389, 0.00137162, 0.0011445 ,\n",
       "        0.00136033, 0.00352705, 0.00149088, 0.00050573, 0.00044617,\n",
       "        0.00149666, 0.00083074, 0.0011182 , 0.0017499 , 0.00097838,\n",
       "        0.00131126, 0.00323447, 0.00097967, 0.00104005, 0.00148283,\n",
       "        0.00072949, 0.00071035, 0.00102422, 0.00133427, 0.00113365,\n",
       "        0.0011641 , 0.00086908, 0.00052622, 0.00101732, 0.00109773,\n",
       "        0.00214931, 0.00062407, 0.00133747, 0.00108997, 0.00108463,\n",
       "        0.0010555 , 0.00228564, 0.00271198, 0.00099973, 0.00143671,\n",
       "        0.0014976 , 0.00116491, 0.00079593, 0.00077008, 0.00158227,\n",
       "        0.00098265, 0.0016773 , 0.00082239, 0.00087872, 0.00113799,\n",
       "        0.00075024, 0.0010096 , 0.0007327 , 0.00072735, 0.00103496,\n",
       "        0.00075007, 0.00092246, 0.00135325, 0.00076932, 0.00071464]),\n",
       " 'mean_score_time': array([0.00459805, 0.00378366, 0.00405831, 0.00379634, 0.00325909,\n",
       "        0.00342784, 0.00447893, 0.00377574, 0.00314555, 0.00425129,\n",
       "        0.00358996, 0.00387406, 0.00355439, 0.00470176, 0.00376797,\n",
       "        0.00430293, 0.00405674, 0.00365725, 0.00402093, 0.00418701,\n",
       "        0.00423346, 0.00461702, 0.00375762, 0.00395041, 0.0040689 ,\n",
       "        0.00393686, 0.00352578, 0.00400901, 0.00359583, 0.0034512 ,\n",
       "        0.00378242, 0.00399389, 0.00398197, 0.00340085, 0.00394382,\n",
       "        0.00379634, 0.00518827, 0.00379086, 0.00350738, 0.0035996 ,\n",
       "        0.00423365, 0.00413423, 0.00359359, 0.00399203, 0.00420313,\n",
       "        0.00440593, 0.00393701, 0.00402279, 0.00424604, 0.00377927,\n",
       "        0.00397835, 0.00358267, 0.0036695 , 0.00405602, 0.00337801,\n",
       "        0.00375524, 0.0045722 , 0.00458503, 0.00417995, 0.0035955 ,\n",
       "        0.00430579, 0.00379877, 0.00418491, 0.00415711, 0.00388904,\n",
       "        0.00327816, 0.00389681, 0.00381241, 0.00429573, 0.00339093,\n",
       "        0.00367427, 0.00401983, 0.00378194, 0.00438948, 0.00382915,\n",
       "        0.00416913, 0.00461507, 0.00454907, 0.00382967, 0.00381169,\n",
       "        0.00338449, 0.00436916, 0.00362921, 0.00378175, 0.00371284,\n",
       "        0.00394082, 0.00322685, 0.00479736, 0.00439053, 0.00420437,\n",
       "        0.00399151, 0.0042038 , 0.00340538, 0.00400071, 0.00439224,\n",
       "        0.00344219, 0.00339966, 0.00361204, 0.00359569, 0.0038044 ]),\n",
       " 'std_score_time': array([0.0012125 , 0.00159907, 0.00109995, 0.00097167, 0.00039895,\n",
       "        0.00096634, 0.00093801, 0.00040899, 0.00048589, 0.00116385,\n",
       "        0.0007978 , 0.00132892, 0.00045581, 0.00059   , 0.00074807,\n",
       "        0.00119036, 0.00064702, 0.00079024, 0.0006346 , 0.00039582,\n",
       "        0.00075528, 0.00095309, 0.0007465 , 0.00093811, 0.00127183,\n",
       "        0.00050291, 0.00046101, 0.00088054, 0.0008252 , 0.00045644,\n",
       "        0.0007441 , 0.00063763, 0.00097239, 0.00050115, 0.0008471 ,\n",
       "        0.00074279, 0.00298433, 0.00075179, 0.00043677, 0.00078766,\n",
       "        0.00067467, 0.0012735 , 0.00080272, 0.00089727, 0.00038779,\n",
       "        0.00151378, 0.00072027, 0.00109607, 0.00076793, 0.00076019,\n",
       "        0.00086562, 0.00078483, 0.00117615, 0.0008039 , 0.00077516,\n",
       "        0.00038735, 0.00091056, 0.00101647, 0.00073334, 0.00084228,\n",
       "        0.00097358, 0.0007505 , 0.00145603, 0.00071242, 0.00065729,\n",
       "        0.00074327, 0.00116074, 0.00041462, 0.00079116, 0.00101252,\n",
       "        0.00079113, 0.00077935, 0.00097005, 0.0014923 , 0.00043134,\n",
       "        0.00075546, 0.00085806, 0.00128994, 0.0009821 , 0.00075233,\n",
       "        0.0005062 , 0.0010384 , 0.0005384 , 0.00116447, 0.00075704,\n",
       "        0.00062901, 0.00038341, 0.00095073, 0.00080111, 0.00149617,\n",
       "        0.00089929, 0.00074545, 0.00079612, 0.00063041, 0.00100756,\n",
       "        0.00045531, 0.00101505, 0.00133456, 0.00048614, 0.00073248]),\n",
       " 'param_class_weight': masked_array(data=[{0: 0.0, 1: 1.0}, {0: 0.01, 1: 0.99},\n",
       "                    {0: 0.02, 1: 0.98}, {0: 0.03, 1: 0.97},\n",
       "                    {0: 0.04, 1: 0.96}, {0: 0.05, 1: 0.95},\n",
       "                    {0: 0.06, 1: 0.94}, {0: 0.07, 1: 0.9299999999999999},\n",
       "                    {0: 0.08, 1: 0.92}, {0: 0.09, 1: 0.91},\n",
       "                    {0: 0.1, 1: 0.9}, {0: 0.11, 1: 0.89},\n",
       "                    {0: 0.12, 1: 0.88}, {0: 0.13, 1: 0.87},\n",
       "                    {0: 0.14, 1: 0.86}, {0: 0.15, 1: 0.85},\n",
       "                    {0: 0.16, 1: 0.84}, {0: 0.17, 1: 0.83},\n",
       "                    {0: 0.18, 1: 0.8200000000000001}, {0: 0.19, 1: 0.81},\n",
       "                    {0: 0.2, 1: 0.8}, {0: 0.21, 1: 0.79},\n",
       "                    {0: 0.22, 1: 0.78}, {0: 0.23, 1: 0.77},\n",
       "                    {0: 0.24, 1: 0.76}, {0: 0.25, 1: 0.75},\n",
       "                    {0: 0.26, 1: 0.74}, {0: 0.27, 1: 0.73},\n",
       "                    {0: 0.28, 1: 0.72}, {0: 0.29, 1: 0.71},\n",
       "                    {0: 0.3, 1: 0.7}, {0: 0.31, 1: 0.69},\n",
       "                    {0: 0.32, 1: 0.6799999999999999},\n",
       "                    {0: 0.33, 1: 0.6699999999999999},\n",
       "                    {0: 0.34, 1: 0.6599999999999999},\n",
       "                    {0: 0.35000000000000003, 1: 0.6499999999999999},\n",
       "                    {0: 0.36, 1: 0.64}, {0: 0.37, 1: 0.63},\n",
       "                    {0: 0.38, 1: 0.62}, {0: 0.39, 1: 0.61},\n",
       "                    {0: 0.4, 1: 0.6}, {0: 0.41000000000000003, 1: 0.59},\n",
       "                    {0: 0.42, 1: 0.5800000000000001},\n",
       "                    {0: 0.43, 1: 0.5700000000000001}, {0: 0.44, 1: 0.56},\n",
       "                    {0: 0.45, 1: 0.55}, {0: 0.46, 1: 0.54},\n",
       "                    {0: 0.47000000000000003, 1: 0.53}, {0: 0.48, 1: 0.52},\n",
       "                    {0: 0.49, 1: 0.51}, {0: 0.5, 1: 0.5},\n",
       "                    {0: 0.51, 1: 0.49}, {0: 0.52, 1: 0.48},\n",
       "                    {0: 0.53, 1: 0.47}, {0: 0.54, 1: 0.45999999999999996},\n",
       "                    {0: 0.55, 1: 0.44999999999999996},\n",
       "                    {0: 0.56, 1: 0.43999999999999995},\n",
       "                    {0: 0.5700000000000001, 1: 0.42999999999999994},\n",
       "                    {0: 0.58, 1: 0.42000000000000004},\n",
       "                    {0: 0.59, 1: 0.41000000000000003}, {0: 0.6, 1: 0.4},\n",
       "                    {0: 0.61, 1: 0.39}, {0: 0.62, 1: 0.38},\n",
       "                    {0: 0.63, 1: 0.37}, {0: 0.64, 1: 0.36},\n",
       "                    {0: 0.65, 1: 0.35}, {0: 0.66, 1: 0.33999999999999997},\n",
       "                    {0: 0.67, 1: 0.32999999999999996},\n",
       "                    {0: 0.68, 1: 0.31999999999999995},\n",
       "                    {0: 0.6900000000000001, 1: 0.30999999999999994},\n",
       "                    {0: 0.7000000000000001, 1: 0.29999999999999993},\n",
       "                    {0: 0.71, 1: 0.29000000000000004}, {0: 0.72, 1: 0.28},\n",
       "                    {0: 0.73, 1: 0.27}, {0: 0.74, 1: 0.26},\n",
       "                    {0: 0.75, 1: 0.25}, {0: 0.76, 1: 0.24},\n",
       "                    {0: 0.77, 1: 0.22999999999999998},\n",
       "                    {0: 0.78, 1: 0.21999999999999997},\n",
       "                    {0: 0.79, 1: 0.20999999999999996},\n",
       "                    {0: 0.8, 1: 0.19999999999999996},\n",
       "                    {0: 0.81, 1: 0.18999999999999995},\n",
       "                    {0: 0.8200000000000001, 1: 0.17999999999999994},\n",
       "                    {0: 0.8300000000000001, 1: 0.16999999999999993},\n",
       "                    {0: 0.84, 1: 0.16000000000000003},\n",
       "                    {0: 0.85, 1: 0.15000000000000002}, {0: 0.86, 1: 0.14},\n",
       "                    {0: 0.87, 1: 0.13}, {0: 0.88, 1: 0.12},\n",
       "                    {0: 0.89, 1: 0.10999999999999999},\n",
       "                    {0: 0.9, 1: 0.09999999999999998},\n",
       "                    {0: 0.91, 1: 0.08999999999999997},\n",
       "                    {0: 0.92, 1: 0.07999999999999996},\n",
       "                    {0: 0.93, 1: 0.06999999999999995},\n",
       "                    {0: 0.9400000000000001, 1: 0.05999999999999994},\n",
       "                    {0: 0.9500000000000001, 1: 0.04999999999999993},\n",
       "                    {0: 0.96, 1: 0.040000000000000036},\n",
       "                    {0: 0.97, 1: 0.030000000000000027},\n",
       "                    {0: 0.98, 1: 0.020000000000000018},\n",
       "                    {0: 0.99, 1: 0.010000000000000009}],\n",
       "              mask=[False, False, False, False, False, False, False, False,\n",
       "                    False, False, False, False, False, False, False, False,\n",
       "                    False, False, False, False, False, False, False, False,\n",
       "                    False, False, False, False, False, False, False, False,\n",
       "                    False, False, False, False, False, False, False, False,\n",
       "                    False, False, False, False, False, False, False, False,\n",
       "                    False, False, False, False, False, False, False, False,\n",
       "                    False, False, False, False, False, False, False, False,\n",
       "                    False, False, False, False, False, False, False, False,\n",
       "                    False, False, False, False, False, False, False, False,\n",
       "                    False, False, False, False, False, False, False, False,\n",
       "                    False, False, False, False, False, False, False, False,\n",
       "                    False, False, False, False],\n",
       "        fill_value='?',\n",
       "             dtype=object),\n",
       " 'params': [{'class_weight': {0: 0.0, 1: 1.0}},\n",
       "  {'class_weight': {0: 0.01, 1: 0.99}},\n",
       "  {'class_weight': {0: 0.02, 1: 0.98}},\n",
       "  {'class_weight': {0: 0.03, 1: 0.97}},\n",
       "  {'class_weight': {0: 0.04, 1: 0.96}},\n",
       "  {'class_weight': {0: 0.05, 1: 0.95}},\n",
       "  {'class_weight': {0: 0.06, 1: 0.94}},\n",
       "  {'class_weight': {0: 0.07, 1: 0.9299999999999999}},\n",
       "  {'class_weight': {0: 0.08, 1: 0.92}},\n",
       "  {'class_weight': {0: 0.09, 1: 0.91}},\n",
       "  {'class_weight': {0: 0.1, 1: 0.9}},\n",
       "  {'class_weight': {0: 0.11, 1: 0.89}},\n",
       "  {'class_weight': {0: 0.12, 1: 0.88}},\n",
       "  {'class_weight': {0: 0.13, 1: 0.87}},\n",
       "  {'class_weight': {0: 0.14, 1: 0.86}},\n",
       "  {'class_weight': {0: 0.15, 1: 0.85}},\n",
       "  {'class_weight': {0: 0.16, 1: 0.84}},\n",
       "  {'class_weight': {0: 0.17, 1: 0.83}},\n",
       "  {'class_weight': {0: 0.18, 1: 0.8200000000000001}},\n",
       "  {'class_weight': {0: 0.19, 1: 0.81}},\n",
       "  {'class_weight': {0: 0.2, 1: 0.8}},\n",
       "  {'class_weight': {0: 0.21, 1: 0.79}},\n",
       "  {'class_weight': {0: 0.22, 1: 0.78}},\n",
       "  {'class_weight': {0: 0.23, 1: 0.77}},\n",
       "  {'class_weight': {0: 0.24, 1: 0.76}},\n",
       "  {'class_weight': {0: 0.25, 1: 0.75}},\n",
       "  {'class_weight': {0: 0.26, 1: 0.74}},\n",
       "  {'class_weight': {0: 0.27, 1: 0.73}},\n",
       "  {'class_weight': {0: 0.28, 1: 0.72}},\n",
       "  {'class_weight': {0: 0.29, 1: 0.71}},\n",
       "  {'class_weight': {0: 0.3, 1: 0.7}},\n",
       "  {'class_weight': {0: 0.31, 1: 0.69}},\n",
       "  {'class_weight': {0: 0.32, 1: 0.6799999999999999}},\n",
       "  {'class_weight': {0: 0.33, 1: 0.6699999999999999}},\n",
       "  {'class_weight': {0: 0.34, 1: 0.6599999999999999}},\n",
       "  {'class_weight': {0: 0.35000000000000003, 1: 0.6499999999999999}},\n",
       "  {'class_weight': {0: 0.36, 1: 0.64}},\n",
       "  {'class_weight': {0: 0.37, 1: 0.63}},\n",
       "  {'class_weight': {0: 0.38, 1: 0.62}},\n",
       "  {'class_weight': {0: 0.39, 1: 0.61}},\n",
       "  {'class_weight': {0: 0.4, 1: 0.6}},\n",
       "  {'class_weight': {0: 0.41000000000000003, 1: 0.59}},\n",
       "  {'class_weight': {0: 0.42, 1: 0.5800000000000001}},\n",
       "  {'class_weight': {0: 0.43, 1: 0.5700000000000001}},\n",
       "  {'class_weight': {0: 0.44, 1: 0.56}},\n",
       "  {'class_weight': {0: 0.45, 1: 0.55}},\n",
       "  {'class_weight': {0: 0.46, 1: 0.54}},\n",
       "  {'class_weight': {0: 0.47000000000000003, 1: 0.53}},\n",
       "  {'class_weight': {0: 0.48, 1: 0.52}},\n",
       "  {'class_weight': {0: 0.49, 1: 0.51}},\n",
       "  {'class_weight': {0: 0.5, 1: 0.5}},\n",
       "  {'class_weight': {0: 0.51, 1: 0.49}},\n",
       "  {'class_weight': {0: 0.52, 1: 0.48}},\n",
       "  {'class_weight': {0: 0.53, 1: 0.47}},\n",
       "  {'class_weight': {0: 0.54, 1: 0.45999999999999996}},\n",
       "  {'class_weight': {0: 0.55, 1: 0.44999999999999996}},\n",
       "  {'class_weight': {0: 0.56, 1: 0.43999999999999995}},\n",
       "  {'class_weight': {0: 0.5700000000000001, 1: 0.42999999999999994}},\n",
       "  {'class_weight': {0: 0.58, 1: 0.42000000000000004}},\n",
       "  {'class_weight': {0: 0.59, 1: 0.41000000000000003}},\n",
       "  {'class_weight': {0: 0.6, 1: 0.4}},\n",
       "  {'class_weight': {0: 0.61, 1: 0.39}},\n",
       "  {'class_weight': {0: 0.62, 1: 0.38}},\n",
       "  {'class_weight': {0: 0.63, 1: 0.37}},\n",
       "  {'class_weight': {0: 0.64, 1: 0.36}},\n",
       "  {'class_weight': {0: 0.65, 1: 0.35}},\n",
       "  {'class_weight': {0: 0.66, 1: 0.33999999999999997}},\n",
       "  {'class_weight': {0: 0.67, 1: 0.32999999999999996}},\n",
       "  {'class_weight': {0: 0.68, 1: 0.31999999999999995}},\n",
       "  {'class_weight': {0: 0.6900000000000001, 1: 0.30999999999999994}},\n",
       "  {'class_weight': {0: 0.7000000000000001, 1: 0.29999999999999993}},\n",
       "  {'class_weight': {0: 0.71, 1: 0.29000000000000004}},\n",
       "  {'class_weight': {0: 0.72, 1: 0.28}},\n",
       "  {'class_weight': {0: 0.73, 1: 0.27}},\n",
       "  {'class_weight': {0: 0.74, 1: 0.26}},\n",
       "  {'class_weight': {0: 0.75, 1: 0.25}},\n",
       "  {'class_weight': {0: 0.76, 1: 0.24}},\n",
       "  {'class_weight': {0: 0.77, 1: 0.22999999999999998}},\n",
       "  {'class_weight': {0: 0.78, 1: 0.21999999999999997}},\n",
       "  {'class_weight': {0: 0.79, 1: 0.20999999999999996}},\n",
       "  {'class_weight': {0: 0.8, 1: 0.19999999999999996}},\n",
       "  {'class_weight': {0: 0.81, 1: 0.18999999999999995}},\n",
       "  {'class_weight': {0: 0.8200000000000001, 1: 0.17999999999999994}},\n",
       "  {'class_weight': {0: 0.8300000000000001, 1: 0.16999999999999993}},\n",
       "  {'class_weight': {0: 0.84, 1: 0.16000000000000003}},\n",
       "  {'class_weight': {0: 0.85, 1: 0.15000000000000002}},\n",
       "  {'class_weight': {0: 0.86, 1: 0.14}},\n",
       "  {'class_weight': {0: 0.87, 1: 0.13}},\n",
       "  {'class_weight': {0: 0.88, 1: 0.12}},\n",
       "  {'class_weight': {0: 0.89, 1: 0.10999999999999999}},\n",
       "  {'class_weight': {0: 0.9, 1: 0.09999999999999998}},\n",
       "  {'class_weight': {0: 0.91, 1: 0.08999999999999997}},\n",
       "  {'class_weight': {0: 0.92, 1: 0.07999999999999996}},\n",
       "  {'class_weight': {0: 0.93, 1: 0.06999999999999995}},\n",
       "  {'class_weight': {0: 0.9400000000000001, 1: 0.05999999999999994}},\n",
       "  {'class_weight': {0: 0.9500000000000001, 1: 0.04999999999999993}},\n",
       "  {'class_weight': {0: 0.96, 1: 0.040000000000000036}},\n",
       "  {'class_weight': {0: 0.97, 1: 0.030000000000000027}},\n",
       "  {'class_weight': {0: 0.98, 1: 0.020000000000000018}},\n",
       "  {'class_weight': {0: 0.99, 1: 0.010000000000000009}}],\n",
       " 'split0_test_score': array([0.16      , 0.176     , 0.1981982 , 0.2       , 0.17948718,\n",
       "        0.20289855, 0.17857143, 0.15384615, 0.16326531, 0.17021277,\n",
       "        0.18181818, 0.18604651, 0.19047619, 0.21621622, 0.17647059,\n",
       "        0.18181818, 0.1875    , 0.19354839, 0.13793103, 0.13793103,\n",
       "        0.14814815, 0.14814815, 0.15384615, 0.16666667, 0.17391304,\n",
       "        0.17391304, 0.18181818, 0.19047619, 0.2       , 0.2       ,\n",
       "        0.2       , 0.22222222, 0.22222222, 0.22222222, 0.25      ,\n",
       "        0.125     , 0.25      , 0.125     , 0.125     , 0.125     ,\n",
       "        0.        , 0.13333333, 0.        , 0.        , 0.14285714,\n",
       "        0.        , 0.        , 0.        , 0.        , 0.        ,\n",
       "        0.        , 0.        , 0.        , 0.        , 0.        ,\n",
       "        0.        , 0.        , 0.        , 0.        , 0.        ,\n",
       "        0.        , 0.        , 0.        , 0.        , 0.        ,\n",
       "        0.        , 0.        , 0.        , 0.        , 0.        ,\n",
       "        0.        , 0.        , 0.        , 0.        , 0.        ,\n",
       "        0.        , 0.        , 0.        , 0.        , 0.        ,\n",
       "        0.        , 0.        , 0.        , 0.        , 0.        ,\n",
       "        0.        , 0.        , 0.        , 0.        , 0.        ,\n",
       "        0.        , 0.        , 0.        , 0.        , 0.        ,\n",
       "        0.        , 0.        , 0.        , 0.        , 0.        ]),\n",
       " 'split1_test_score': array([0.16      , 0.17391304, 0.19512195, 0.21428571, 0.24175824,\n",
       "        0.24096386, 0.24324324, 0.23529412, 0.2295082 , 0.22641509,\n",
       "        0.25      , 0.28571429, 0.27777778, 0.3030303 , 0.32258065,\n",
       "        0.32258065, 0.37037037, 0.38461538, 0.33333333, 0.33333333,\n",
       "        0.26086957, 0.18181818, 0.19047619, 0.2       , 0.21052632,\n",
       "        0.22222222, 0.22222222, 0.22222222, 0.21052632, 0.22222222,\n",
       "        0.11764706, 0.125     , 0.125     , 0.125     , 0.125     ,\n",
       "        0.125     , 0.125     , 0.125     , 0.13333333, 0.13333333,\n",
       "        0.        , 0.13333333, 0.13333333, 0.13333333, 0.        ,\n",
       "        0.        , 0.        , 0.        , 0.        , 0.        ,\n",
       "        0.        , 0.        , 0.        , 0.        , 0.        ,\n",
       "        0.        , 0.        , 0.        , 0.        , 0.        ,\n",
       "        0.        , 0.        , 0.        , 0.        , 0.        ,\n",
       "        0.        , 0.        , 0.        , 0.        , 0.        ,\n",
       "        0.        , 0.        , 0.        , 0.        , 0.        ,\n",
       "        0.        , 0.        , 0.        , 0.        , 0.        ,\n",
       "        0.        , 0.        , 0.        , 0.        , 0.        ,\n",
       "        0.        , 0.        , 0.        , 0.        , 0.        ,\n",
       "        0.        , 0.        , 0.        , 0.        , 0.        ,\n",
       "        0.        , 0.        , 0.        , 0.        , 0.        ]),\n",
       " 'split2_test_score': array([0.16      , 0.19047619, 0.19607843, 0.22222222, 0.24691358,\n",
       "        0.28169014, 0.31746032, 0.32258065, 0.36363636, 0.37735849,\n",
       "        0.40816327, 0.45454545, 0.47619048, 0.48780488, 0.5       ,\n",
       "        0.51282051, 0.51282051, 0.51282051, 0.55555556, 0.52941176,\n",
       "        0.48484848, 0.55172414, 0.55172414, 0.55172414, 0.5       ,\n",
       "        0.5       , 0.55172414, 0.5       , 0.53846154, 0.5       ,\n",
       "        0.56      , 0.53846154, 0.56      , 0.58333333, 0.63636364,\n",
       "        0.54545455, 0.42105263, 0.5       , 0.42105263, 0.5       ,\n",
       "        0.42105263, 0.42105263, 0.42105263, 0.35294118, 0.33333333,\n",
       "        0.42105263, 0.33333333, 0.33333333, 0.33333333, 0.33333333,\n",
       "        0.35294118, 0.35294118, 0.35294118, 0.35294118, 0.35294118,\n",
       "        0.35294118, 0.14285714, 0.25      , 0.35294118, 0.25      ,\n",
       "        0.14285714, 0.14285714, 0.14285714, 0.14285714, 0.14285714,\n",
       "        0.14285714, 0.14285714, 0.        , 0.        , 0.        ,\n",
       "        0.15384615, 0.        , 0.        , 0.        , 0.        ,\n",
       "        0.        , 0.        , 0.        , 0.        , 0.        ,\n",
       "        0.        , 0.        , 0.        , 0.        , 0.        ,\n",
       "        0.        , 0.        , 0.        , 0.        , 0.        ,\n",
       "        0.        , 0.        , 0.        , 0.        , 0.        ,\n",
       "        0.        , 0.        , 0.        , 0.        , 0.        ]),\n",
       " 'split3_test_score': array([0.16      , 0.17094017, 0.2       , 0.24390244, 0.24657534,\n",
       "        0.30508475, 0.34042553, 0.37209302, 0.3902439 , 0.32432432,\n",
       "        0.35294118, 0.4       , 0.34482759, 0.37037037, 0.30769231,\n",
       "        0.30769231, 0.33333333, 0.33333333, 0.36363636, 0.36363636,\n",
       "        0.36363636, 0.36363636, 0.36363636, 0.36363636, 0.36363636,\n",
       "        0.38095238, 0.31578947, 0.38095238, 0.3       , 0.33333333,\n",
       "        0.33333333, 0.31578947, 0.33333333, 0.31578947, 0.23529412,\n",
       "        0.23529412, 0.33333333, 0.14285714, 0.25      , 0.        ,\n",
       "        0.15384615, 0.125     , 0.        , 0.        , 0.        ,\n",
       "        0.        , 0.        , 0.        , 0.        , 0.        ,\n",
       "        0.        , 0.        , 0.        , 0.        , 0.        ,\n",
       "        0.        , 0.        , 0.        , 0.        , 0.        ,\n",
       "        0.        , 0.        , 0.        , 0.        , 0.        ,\n",
       "        0.        , 0.        , 0.        , 0.        , 0.        ,\n",
       "        0.        , 0.        , 0.        , 0.        , 0.        ,\n",
       "        0.        , 0.        , 0.        , 0.        , 0.        ,\n",
       "        0.        , 0.        , 0.        , 0.        , 0.        ,\n",
       "        0.        , 0.        , 0.        , 0.        , 0.        ,\n",
       "        0.        , 0.        , 0.        , 0.        , 0.        ,\n",
       "        0.        , 0.        , 0.        , 0.        , 0.        ]),\n",
       " 'split4_test_score': array([0.16      , 0.17777778, 0.2       , 0.22857143, 0.23913043,\n",
       "        0.2972973 , 0.27692308, 0.31034483, 0.32727273, 0.36734694,\n",
       "        0.34782609, 0.37209302, 0.28571429, 0.29411765, 0.3125    ,\n",
       "        0.32258065, 0.35714286, 0.37037037, 0.38461538, 0.4       ,\n",
       "        0.4       , 0.4       , 0.36363636, 0.36363636, 0.38095238,\n",
       "        0.36363636, 0.36363636, 0.36363636, 0.38095238, 0.38095238,\n",
       "        0.38095238, 0.3       , 0.31578947, 0.31578947, 0.22222222,\n",
       "        0.22222222, 0.22222222, 0.23529412, 0.22222222, 0.23529412,\n",
       "        0.22222222, 0.25      , 0.22222222, 0.25      , 0.23529412,\n",
       "        0.23529412, 0.25      , 0.26666667, 0.25      , 0.26666667,\n",
       "        0.26666667, 0.26666667, 0.26666667, 0.28571429, 0.28571429,\n",
       "        0.28571429, 0.28571429, 0.28571429, 0.28571429, 0.28571429,\n",
       "        0.28571429, 0.        , 0.        , 0.        , 0.        ,\n",
       "        0.        , 0.        , 0.        , 0.        , 0.        ,\n",
       "        0.        , 0.        , 0.        , 0.        , 0.        ,\n",
       "        0.        , 0.        , 0.        , 0.        , 0.        ,\n",
       "        0.        , 0.        , 0.        , 0.        , 0.        ,\n",
       "        0.        , 0.        , 0.        , 0.        , 0.        ,\n",
       "        0.        , 0.        , 0.        , 0.        , 0.        ,\n",
       "        0.        , 0.        , 0.        , 0.        , 0.        ]),\n",
       " 'mean_test_score': array([0.16      , 0.17782144, 0.19787972, 0.22179636, 0.23077296,\n",
       "        0.26558692, 0.27132472, 0.27883175, 0.2947853 , 0.29313152,\n",
       "        0.30814974, 0.33967986, 0.31499726, 0.33430788, 0.32384871,\n",
       "        0.32949846, 0.35223341, 0.3589376 , 0.35501433, 0.3528625 ,\n",
       "        0.33150051, 0.32906537, 0.32466384, 0.32913271, 0.32580562,\n",
       "        0.3281448 , 0.32703808, 0.33145743, 0.32598805, 0.32730159,\n",
       "        0.31838655, 0.30029465, 0.31126901, 0.3124269 , 0.293776  ,\n",
       "        0.25059418, 0.27032164, 0.22563025, 0.23032164, 0.19872549,\n",
       "        0.1594242 , 0.21254386, 0.15532164, 0.1472549 , 0.14229692,\n",
       "        0.13126935, 0.11666667, 0.12      , 0.11666667, 0.12      ,\n",
       "        0.12392157, 0.12392157, 0.12392157, 0.12773109, 0.12773109,\n",
       "        0.12773109, 0.08571429, 0.10714286, 0.12773109, 0.10714286,\n",
       "        0.08571429, 0.02857143, 0.02857143, 0.02857143, 0.02857143,\n",
       "        0.02857143, 0.02857143, 0.        , 0.        , 0.        ,\n",
       "        0.03076923, 0.        , 0.        , 0.        , 0.        ,\n",
       "        0.        , 0.        , 0.        , 0.        , 0.        ,\n",
       "        0.        , 0.        , 0.        , 0.        , 0.        ,\n",
       "        0.        , 0.        , 0.        , 0.        , 0.        ,\n",
       "        0.        , 0.        , 0.        , 0.        , 0.        ,\n",
       "        0.        , 0.        , 0.        , 0.        , 0.        ]),\n",
       " 'std_test_score': array([0.        , 0.00672443, 0.00199712, 0.0146031 , 0.02581081,\n",
       "        0.03836943, 0.0571428 , 0.07631727, 0.08540124, 0.08140664,\n",
       "        0.08114708, 0.0942324 , 0.09446839, 0.09099562, 0.10309318,\n",
       "        0.10581839, 0.10357179, 0.10244919, 0.13323856, 0.12655796,\n",
       "        0.11648804, 0.14846991, 0.14267382, 0.13783934, 0.11931193,\n",
       "        0.11712346, 0.12963408, 0.1128715 , 0.12493666, 0.10953255,\n",
       "        0.15285723, 0.13695778, 0.14491366, 0.15276036, 0.17680952,\n",
       "        0.15461532, 0.10053378, 0.14316175, 0.1070799 , 0.16811127,\n",
       "        0.15700719, 0.11409769, 0.15736693, 0.1388706 , 0.13087439,\n",
       "        0.17116684, 0.14529663, 0.14847372, 0.14529663, 0.14847372,\n",
       "        0.15420493, 0.15420493, 0.15420493, 0.15787588, 0.15787588,\n",
       "        0.15787588, 0.11428571, 0.13170778, 0.15787588, 0.13170778,\n",
       "        0.11428571, 0.05714286, 0.05714286, 0.05714286, 0.05714286,\n",
       "        0.05714286, 0.05714286, 0.        , 0.        , 0.        ,\n",
       "        0.06153846, 0.        , 0.        , 0.        , 0.        ,\n",
       "        0.        , 0.        , 0.        , 0.        , 0.        ,\n",
       "        0.        , 0.        , 0.        , 0.        , 0.        ,\n",
       "        0.        , 0.        , 0.        , 0.        , 0.        ,\n",
       "        0.        , 0.        , 0.        , 0.        , 0.        ,\n",
       "        0.        , 0.        , 0.        , 0.        , 0.        ]),\n",
       " 'rank_test_score': array([41, 40, 39, 36, 33, 31, 29, 28, 25, 27, 23,  5, 20,  6, 18,  9,  4,\n",
       "         1,  2,  3,  7, 11, 17, 10, 16, 12, 14,  8, 15, 13, 19, 24, 22, 21,\n",
       "        26, 32, 30, 35, 34, 38, 42, 37, 43, 44, 45, 46, 56, 54, 56, 54, 51,\n",
       "        51, 51, 47, 47, 47, 60, 58, 47, 58, 60, 63, 63, 63, 63, 63, 63, 69,\n",
       "        69, 69, 62, 69, 69, 69, 69, 69, 69, 69, 69, 69, 69, 69, 69, 69, 69,\n",
       "        69, 69, 69, 69, 69, 69, 69, 69, 69, 69, 69, 69, 69, 69, 69])}"
      ]
     },
     "execution_count": 18,
     "metadata": {},
     "output_type": "execute_result"
    }
   ],
   "source": [
    "model.cv_results_"
   ]
  },
  {
   "cell_type": "code",
   "execution_count": 19,
   "metadata": {
    "id": "gB7j4EfPqpBp"
   },
   "outputs": [
    {
     "name": "stdout",
     "output_type": "stream",
     "text": [
      "{'class_weight': {0: 0.17, 1: 0.83}}\n"
     ]
    },
    {
     "data": {
      "image/png": "[encoded data removed]",
      "text/plain": [
       "<Figure size 864x576 with 1 Axes>"
      ]
     },
     "metadata": {
      "needs_background": "light"
     },
     "output_type": "display_data"
    }
   ],
   "source": [
    "weight_1 = 1.0 - weights\n",
    "f1 = model.cv_results_['mean_test_score']\n",
    "\n",
    "print(model.best_params_)\n",
    "plt.figure(figsize=(12, 8))\n",
    "plt.plot(weight_1, f1)\n",
    "plt.ylabel('F1 Score')\n",
    "plt.xlabel('Class 1 weight')\n",
    "plt.grid()\n",
    "plt.show()"
   ]
  },
  {
   "cell_type": "markdown",
   "metadata": {
    "id": "Zq16p6wV84Rv"
   },
   "source": [
    "#### ③ 추가 실험\n",
    "\n",
    "* 이해하기, 사용하기 쉬운 데이터로 몇가지 실험을 해 봅시다."
   ]
  },
  {
   "cell_type": "code",
   "execution_count": null,
   "metadata": {
    "id": "u_BM-LZm8-Qb"
   },
   "outputs": [],
   "source": [
    "path = 'https://raw.githubusercontent.com/DA4BAM/dataset/master/titanic.1.csv'\n",
    "titanic = pd.read_csv(path, usecols=['Survived', 'Age', 'Fare'])\n",
    "target = 'Survived'\n",
    "x1 = titanic.drop(target, axis = 1)\n",
    "y1 = titanic.loc[:, target]"
   ]
  },
  {
   "cell_type": "code",
   "execution_count": null,
   "metadata": {
    "id": "MDk5Eujy9ou4"
   },
   "outputs": [],
   "source": [
    "# 클래스별 비율\n",
    "c_rate = np.bincount(y1) / y1.shape[0]\n",
    "c_rate"
   ]
  },
  {
   "cell_type": "code",
   "execution_count": null,
   "metadata": {
    "id": "uOcay1N0917A"
   },
   "outputs": [],
   "source": [
    "# 실험1 : 아무것도 없으면 1:1 ?\n",
    "m1 = LogisticRegression(solver = 'liblinear')\n",
    "wt = 0.5\n",
    "m2 = LogisticRegression(solver = 'liblinear', class_weight= {0:wt, 1:1-wt})\n",
    "\n",
    "# 실험2 : balanced는 클래스비율 역으로 지정?\n",
    "m3 = LogisticRegression(solver = 'liblinear', class_weight='balanced')\n",
    "wt = c_rate[1]\n",
    "m4 = LogisticRegression(solver = 'liblinear', class_weight= {0:wt, 1:1-wt})\n",
    "\n",
    "m1.fit(x1, y1)\n",
    "m2.fit(x1, y1)\n",
    "m3.fit(x1, y1)\n",
    "m4.fit(x1, y1)"
   ]
  },
  {
   "cell_type": "code",
   "execution_count": null,
   "metadata": {
    "id": "d9POXeDw-qJ8"
   },
   "outputs": [],
   "source": [
    "print(list(x1))\n",
    "print('-'*50)\n",
    "print(m1.coef_, m1.intercept_)\n",
    "print(m2.coef_, m2.intercept_)\n",
    "print('-'*50)\n",
    "print(m3.coef_, m3.intercept_)\n",
    "print(m4.coef_, m4.intercept_)"
   ]
  },
  {
   "cell_type": "markdown",
   "metadata": {
    "id": "GrGEwuWBsyV4"
   },
   "source": [
    "#### ② Decision Tree\n",
    "> * class_weight = 'balanced'\n",
    "* class_weight = 비율로 수동 조절"
   ]
  },
  {
   "cell_type": "code",
   "execution_count": null,
   "metadata": {
    "id": "oLQMKVB1HTIk"
   },
   "outputs": [],
   "source": [
    "# 실험1 \n",
    "m1 = DecisionTreeClassifier(max_depth = 2)\n",
    "\n",
    "wt = 0.5\n",
    "m2 = DecisionTreeClassifier(max_depth = 2, class_weight= {0:wt, 1:1-wt})\n",
    "\n",
    "m1.fit(x1, y1)\n",
    "m2.fit(x1, y1)\n",
    "\n",
    "plt.figure(figsize = (10,6))\n",
    "plot_tree(m1, feature_names = list(x1), class_names = ['Died', 'Survived'], rounded = True, filled = True)\n",
    "plt.show()\n",
    "plt.figure(figsize = (10,6))\n",
    "plot_tree(m2, feature_names = list(x1), class_names = ['Died', 'Survived'], rounded = True, filled = True)\n",
    "plt.show()"
   ]
  },
  {
   "cell_type": "code",
   "execution_count": null,
   "metadata": {
    "id": "gUKo2QY2NNfk"
   },
   "outputs": [],
   "source": [
    "c_rate = np.bincount(y1) / y1.shape[0]\n",
    "c_rate"
   ]
  },
  {
   "cell_type": "code",
   "execution_count": null,
   "metadata": {
    "id": "qCZU8J-5JpGa"
   },
   "outputs": [],
   "source": [
    "# 실험2 : balanced\n",
    "m3 = DecisionTreeClassifier(max_depth = 2, class_weight='balanced')\n",
    "\n",
    "wt = c_rate[1]\n",
    "m4 = DecisionTreeClassifier(max_depth = 2, class_weight= {0:wt, 1:1-wt})\n",
    "\n",
    "m3.fit(x1, y1)\n",
    "m4.fit(x1, y1)\n",
    "\n",
    "plt.figure(figsize = (10,6))\n",
    "plot_tree(m3, feature_names = list(x1), class_names = ['Died', 'Survived'], rounded = True, filled = True)\n",
    "plt.show()\n",
    "plt.figure(figsize = (10,6))\n",
    "plot_tree(m4, feature_names = list(x1), class_names = ['Died', 'Survived'], rounded = True, filled = True)\n",
    "plt.show()"
   ]
  },
  {
   "cell_type": "markdown",
   "metadata": {
    "id": "f4m9CpAlDYUx"
   },
   "source": [
    "## 4.실습 : Semiconductor manufacturing process dataset\n"
   ]
  },
  {
   "cell_type": "markdown",
   "metadata": {
    "id": "KKJNXBfDPOoT"
   },
   "source": [
    "![](https://assets.pandaily.com/uploads/2021/10/semiconductor.png)"
   ]
  },
  {
   "cell_type": "markdown",
   "metadata": {
    "id": "47h5Hv4JQOgE"
   },
   "source": [
    "* 반도체 제조 공정은 시점별로 수많은 센서로부터 정보를 수집하여 공정을 감시합니다. \n",
    "* 센서정보와 함께 공정간 발생된 불량품에 대한 정보를 저장하였습니다.\n",
    "* 불량을 예측해 봅시다."
   ]
  },
  {
   "cell_type": "markdown",
   "metadata": {
    "id": "QdJ4vZmRDYUx"
   },
   "source": [
    "### 4.1 데이터 준비"
   ]
  },
  {
   "cell_type": "markdown",
   "metadata": {
    "id": "P96JFMWpDYUy"
   },
   "source": [
    "* 데이터 로딩"
   ]
  },
  {
   "cell_type": "code",
   "execution_count": 20,
   "metadata": {
    "id": "kqFX10WKDYUy"
   },
   "outputs": [
    {
     "data": {
      "text/html": [
       "<div>\n",
       "<style scoped>\n",
       "    .dataframe tbody tr th:only-of-type {\n",
       "        vertical-align: middle;\n",
       "    }\n",
       "\n",
       "    .dataframe tbody tr th {\n",
       "        vertical-align: top;\n",
       "    }\n",
       "\n",
       "    .dataframe thead th {\n",
       "        text-align: right;\n",
       "    }\n",
       "</style>\n",
       "<table border=\"1\" class=\"dataframe\">\n",
       "  <thead>\n",
       "    <tr style=\"text-align: right;\">\n",
       "      <th></th>\n",
       "      <th>v021</th>\n",
       "      <th>v087</th>\n",
       "      <th>v088</th>\n",
       "      <th>v089</th>\n",
       "      <th>v114</th>\n",
       "      <th>v115</th>\n",
       "      <th>v116</th>\n",
       "      <th>v117</th>\n",
       "      <th>v118</th>\n",
       "      <th>v120</th>\n",
       "      <th>...</th>\n",
       "      <th>v528</th>\n",
       "      <th>v571</th>\n",
       "      <th>v572</th>\n",
       "      <th>v573</th>\n",
       "      <th>v574</th>\n",
       "      <th>v575</th>\n",
       "      <th>v576</th>\n",
       "      <th>v577</th>\n",
       "      <th>v578</th>\n",
       "      <th>label</th>\n",
       "    </tr>\n",
       "  </thead>\n",
       "  <tbody>\n",
       "    <tr>\n",
       "      <th>0</th>\n",
       "      <td>1.4026</td>\n",
       "      <td>2.3895</td>\n",
       "      <td>0.9690</td>\n",
       "      <td>1747.6049</td>\n",
       "      <td>0.9460</td>\n",
       "      <td>0.0</td>\n",
       "      <td>748.6115</td>\n",
       "      <td>0.9908</td>\n",
       "      <td>58.4306</td>\n",
       "      <td>0.9804</td>\n",
       "      <td>...</td>\n",
       "      <td>6.6926</td>\n",
       "      <td>533.8500</td>\n",
       "      <td>2.1113</td>\n",
       "      <td>8.95</td>\n",
       "      <td>0.3157</td>\n",
       "      <td>3.0624</td>\n",
       "      <td>0.1026</td>\n",
       "      <td>1.6765</td>\n",
       "      <td>14.9509</td>\n",
       "      <td>0</td>\n",
       "    </tr>\n",
       "    <tr>\n",
       "      <th>1</th>\n",
       "      <td>1.3825</td>\n",
       "      <td>2.3754</td>\n",
       "      <td>0.9894</td>\n",
       "      <td>1931.6464</td>\n",
       "      <td>0.9425</td>\n",
       "      <td>0.0</td>\n",
       "      <td>731.2517</td>\n",
       "      <td>0.9902</td>\n",
       "      <td>58.6680</td>\n",
       "      <td>0.9731</td>\n",
       "      <td>...</td>\n",
       "      <td>8.8370</td>\n",
       "      <td>535.0164</td>\n",
       "      <td>2.4335</td>\n",
       "      <td>5.92</td>\n",
       "      <td>0.2653</td>\n",
       "      <td>2.0111</td>\n",
       "      <td>0.0772</td>\n",
       "      <td>1.1065</td>\n",
       "      <td>10.9003</td>\n",
       "      <td>0</td>\n",
       "    </tr>\n",
       "    <tr>\n",
       "      <th>2</th>\n",
       "      <td>1.4123</td>\n",
       "      <td>2.4532</td>\n",
       "      <td>0.9880</td>\n",
       "      <td>1685.8514</td>\n",
       "      <td>0.9231</td>\n",
       "      <td>0.0</td>\n",
       "      <td>718.5777</td>\n",
       "      <td>0.9899</td>\n",
       "      <td>58.4808</td>\n",
       "      <td>0.9772</td>\n",
       "      <td>...</td>\n",
       "      <td>6.4568</td>\n",
       "      <td>535.0245</td>\n",
       "      <td>2.0293</td>\n",
       "      <td>11.21</td>\n",
       "      <td>0.1882</td>\n",
       "      <td>4.0923</td>\n",
       "      <td>0.0640</td>\n",
       "      <td>2.0952</td>\n",
       "      <td>9.2721</td>\n",
       "      <td>1</td>\n",
       "    </tr>\n",
       "    <tr>\n",
       "      <th>3</th>\n",
       "      <td>1.4011</td>\n",
       "      <td>2.4004</td>\n",
       "      <td>0.9904</td>\n",
       "      <td>1752.0968</td>\n",
       "      <td>0.9564</td>\n",
       "      <td>0.0</td>\n",
       "      <td>709.0867</td>\n",
       "      <td>0.9906</td>\n",
       "      <td>58.6635</td>\n",
       "      <td>0.9761</td>\n",
       "      <td>...</td>\n",
       "      <td>6.4865</td>\n",
       "      <td>530.5682</td>\n",
       "      <td>2.0253</td>\n",
       "      <td>9.33</td>\n",
       "      <td>0.1738</td>\n",
       "      <td>2.8971</td>\n",
       "      <td>0.0525</td>\n",
       "      <td>1.7585</td>\n",
       "      <td>8.5831</td>\n",
       "      <td>0</td>\n",
       "    </tr>\n",
       "    <tr>\n",
       "      <th>4</th>\n",
       "      <td>1.3888</td>\n",
       "      <td>2.4530</td>\n",
       "      <td>0.9902</td>\n",
       "      <td>1828.3846</td>\n",
       "      <td>0.9424</td>\n",
       "      <td>0.0</td>\n",
       "      <td>796.5950</td>\n",
       "      <td>0.9908</td>\n",
       "      <td>58.3858</td>\n",
       "      <td>0.9628</td>\n",
       "      <td>...</td>\n",
       "      <td>6.3745</td>\n",
       "      <td>532.0155</td>\n",
       "      <td>2.0275</td>\n",
       "      <td>8.83</td>\n",
       "      <td>0.2224</td>\n",
       "      <td>3.1776</td>\n",
       "      <td>0.0706</td>\n",
       "      <td>1.6597</td>\n",
       "      <td>10.9698</td>\n",
       "      <td>0</td>\n",
       "    </tr>\n",
       "  </tbody>\n",
       "</table>\n",
       "<p>5 rows × 53 columns</p>\n",
       "</div>"
      ],
      "text/plain": [
       "     v021    v087    v088       v089    v114  v115      v116    v117     v118  \\\n",
       "0  1.4026  2.3895  0.9690  1747.6049  0.9460   0.0  748.6115  0.9908  58.4306   \n",
       "1  1.3825  2.3754  0.9894  1931.6464  0.9425   0.0  731.2517  0.9902  58.6680   \n",
       "2  1.4123  2.4532  0.9880  1685.8514  0.9231   0.0  718.5777  0.9899  58.4808   \n",
       "3  1.4011  2.4004  0.9904  1752.0968  0.9564   0.0  709.0867  0.9906  58.6635   \n",
       "4  1.3888  2.4530  0.9902  1828.3846  0.9424   0.0  796.5950  0.9908  58.3858   \n",
       "\n",
       "     v120  ...    v528      v571    v572   v573    v574    v575    v576  \\\n",
       "0  0.9804  ...  6.6926  533.8500  2.1113   8.95  0.3157  3.0624  0.1026   \n",
       "1  0.9731  ...  8.8370  535.0164  2.4335   5.92  0.2653  2.0111  0.0772   \n",
       "2  0.9772  ...  6.4568  535.0245  2.0293  11.21  0.1882  4.0923  0.0640   \n",
       "3  0.9761  ...  6.4865  530.5682  2.0253   9.33  0.1738  2.8971  0.0525   \n",
       "4  0.9628  ...  6.3745  532.0155  2.0275   8.83  0.2224  3.1776  0.0706   \n",
       "\n",
       "     v577     v578  label  \n",
       "0  1.6765  14.9509      0  \n",
       "1  1.1065  10.9003      0  \n",
       "2  2.0952   9.2721      1  \n",
       "3  1.7585   8.5831      0  \n",
       "4  1.6597  10.9698      0  \n",
       "\n",
       "[5 rows x 53 columns]"
      ]
     },
     "execution_count": 20,
     "metadata": {},
     "output_type": "execute_result"
    }
   ],
   "source": [
    "path = \"https://raw.githubusercontent.com/DA4BAM/dataset/master/secom_9.csv\"\n",
    "data = pd.read_csv(path)\n",
    "\n",
    "data['label'] = 0\n",
    "data.loc[data['defeat']== 'defeat', 'label']= 1\n",
    "data.drop(['datetime','defeat'], axis = 1, inplace=True)\n",
    "data.head()"
   ]
  },
  {
   "cell_type": "markdown",
   "metadata": {
    "id": "Tv7I7P8nQioh"
   },
   "source": [
    "변수 정보 \n",
    "* label : 1 - 불량, 0 - 정상\n",
    "* v### : 센서값들\n"
   ]
  },
  {
   "cell_type": "code",
   "execution_count": 21,
   "metadata": {
    "id": "6K9iIhabQzXS"
   },
   "outputs": [],
   "source": [
    "target = 'label'"
   ]
  },
  {
   "cell_type": "code",
   "execution_count": 22,
   "metadata": {
    "id": "r6pjfmqLQ1UK"
   },
   "outputs": [
    {
     "data": {
      "text/plain": [
       "0    0.933631\n",
       "1    0.066369\n",
       "Name: label, dtype: float64"
      ]
     },
     "execution_count": 22,
     "metadata": {},
     "output_type": "execute_result"
    }
   ],
   "source": [
    "data[target].value_counts() / data.shape[0]"
   ]
  },
  {
   "cell_type": "markdown",
   "metadata": {
    "id": "Qs56G2oKQskZ"
   },
   "source": [
    "* x, y로 나누기 "
   ]
  },
  {
   "cell_type": "code",
   "execution_count": 23,
   "metadata": {
    "id": "M6xgH4RtDYUy"
   },
   "outputs": [],
   "source": [
    "x = data.drop(target, axis = 1)\n",
    "y = data.loc[:, target]"
   ]
  },
  {
   "cell_type": "markdown",
   "metadata": {
    "id": "xN4Pa1qp8uwm"
   },
   "source": [
    "* 가변수화 Dummy Variable"
   ]
  },
  {
   "cell_type": "markdown",
   "metadata": {
    "id": "qwDykgEY8rHx"
   },
   "source": [
    "* 데이터 분할\n",
    "    * 이미 test set은 분할되어 있다고 가정합니다.\n",
    "    * 주어진 데이터를 train set : validation set 으로 분할"
   ]
  },
  {
   "cell_type": "code",
   "execution_count": 24,
   "metadata": {
    "id": "Boebo_Fc8rHy"
   },
   "outputs": [],
   "source": [
    "from sklearn.model_selection import train_test_split"
   ]
  },
  {
   "cell_type": "code",
   "execution_count": 25,
   "metadata": {
    "id": "tjglVI_a8rHy"
   },
   "outputs": [],
   "source": [
    "# train_val에서 train : val = 8 : 2\n",
    "x_train, x_val, y_train, y_val = train_test_split(x, y, test_size=0.2, random_state = 2022)"
   ]
  },
  {
   "cell_type": "code",
   "execution_count": 26,
   "metadata": {
    "id": "AGYSbizf8rHy"
   },
   "outputs": [
    {
     "name": "stdout",
     "output_type": "stream",
     "text": [
      "(1253, 52) (314, 52)\n"
     ]
    }
   ],
   "source": [
    "print(x_train.shape, x_val.shape)"
   ]
  },
  {
   "cell_type": "markdown",
   "metadata": {
    "id": "xKqqwwgOcr6l"
   },
   "source": [
    "### 2)기본모델링\n",
    "> * 데이터셋을 그대로 모델링을 수행하시오.\n",
    "* 알고리즘 : 로지스틱회귀, decision tree 중 하나 사용.\n",
    "* validate set으로 예측하고 평가(classification report, f1 score)해 봅시다.\n"
   ]
  },
  {
   "cell_type": "code",
   "execution_count": 27,
   "metadata": {
    "id": "xVnwu6wmfD7N"
   },
   "outputs": [
    {
     "name": "stdout",
     "output_type": "stream",
     "text": [
      "[[295   1]\n",
      " [ 18   0]]\n",
      "-------------------------------------------------------\n",
      "              precision    recall  f1-score   support\n",
      "\n",
      "           0       0.94      1.00      0.97       296\n",
      "           1       0.00      0.00      0.00        18\n",
      "\n",
      "    accuracy                           0.94       314\n",
      "   macro avg       0.47      0.50      0.48       314\n",
      "weighted avg       0.89      0.94      0.91       314\n",
      "\n"
     ]
    }
   ],
   "source": [
    "model = LogisticRegression(solver = 'liblinear')\n",
    "model.fit(x_train, y_train)\n",
    "pred = model.predict(x_val)\n",
    "\n",
    "print(confusion_matrix(y_val, pred))\n",
    "print('-' * 55)\n",
    "print(classification_report(y_val, pred))"
   ]
  },
  {
   "cell_type": "markdown",
   "metadata": {
    "id": "kp0fafqDk8Yz"
   },
   "source": [
    "### 2)모델링 + class weight 조정\n",
    "> * class_weight 값을 지정해서 모델링 해 봅시다.\n",
    "* 알고리즘 : 비교를 위해서 기본모델링에 사용한 알고리즘 사용\n",
    "* validate set으로 예측하고 평가(classification report, f1 score)해 봅시다.\n",
    "* resampling 후 수행한 모델과 성능에 대해 비교해 봅시다."
   ]
  },
  {
   "cell_type": "code",
   "execution_count": 28,
   "metadata": {
    "id": "4G45yhmJk8Y0"
   },
   "outputs": [
    {
     "name": "stdout",
     "output_type": "stream",
     "text": [
      "[[180 116]\n",
      " [  8  10]]\n",
      "----------------------------------------------------\n",
      "              precision    recall  f1-score   support\n",
      "\n",
      "           0       0.96      0.61      0.74       296\n",
      "           1       0.08      0.56      0.14        18\n",
      "\n",
      "    accuracy                           0.61       314\n",
      "   macro avg       0.52      0.58      0.44       314\n",
      "weighted avg       0.91      0.61      0.71       314\n",
      "\n"
     ]
    }
   ],
   "source": [
    "# class_weight = 'balanced'\n",
    "model_w = LogisticRegression(solver='liblinear', class_weight='balanced') \n",
    "model_w.fit(x_train, y_train)\n",
    "\n",
    "pred_w = model_w.predict(x_val)\n",
    "\n",
    "print(confusion_matrix(y_val, pred_w))\n",
    "print('-'*52)\n",
    "print(classification_report(y_val, pred_w))"
   ]
  },
  {
   "cell_type": "markdown",
   "metadata": {
    "id": "_SRbA-_0HCmp"
   },
   "source": [
    "* 로지스틱 회귀로 반복 실험"
   ]
  },
  {
   "cell_type": "code",
   "execution_count": null,
   "metadata": {
    "id": "Wqircvatk8Y0"
   },
   "outputs": [],
   "source": []
  },
  {
   "cell_type": "code",
   "execution_count": null,
   "metadata": {
    "id": "2MvqB3FVl2gy"
   },
   "outputs": [],
   "source": []
  },
  {
   "cell_type": "markdown",
   "metadata": {
    "id": "hyr516NoHMdI"
   },
   "source": [
    "* GridSearch로 class weight 조절"
   ]
  },
  {
   "cell_type": "code",
   "execution_count": null,
   "metadata": {
    "id": "MF63oy62HTRa"
   },
   "outputs": [],
   "source": []
  },
  {
   "cell_type": "code",
   "execution_count": null,
   "metadata": {
    "id": "Dux45502HTRb"
   },
   "outputs": [],
   "source": []
  },
  {
   "cell_type": "code",
   "execution_count": null,
   "metadata": {
    "id": "GaH3SAsrHTRc"
   },
   "outputs": [],
   "source": []
  },
  {
   "cell_type": "code",
   "execution_count": null,
   "metadata": {
    "id": "JfciFu9lHTRd"
   },
   "outputs": [],
   "source": []
  },
  {
   "cell_type": "code",
   "execution_count": null,
   "metadata": {
    "id": "tQzjevwrHTRe"
   },
   "outputs": [],
   "source": []
  },
  {
   "cell_type": "code",
   "execution_count": null,
   "metadata": {
    "id": "wVbOmHZj-dxh"
   },
   "outputs": [],
   "source": []
  }
 ],
 "metadata": {
  "colab": {
   "collapsed_sections": [],
   "name": "3-3. Class Weight_참조.ipynb",
   "provenance": [],
   "toc_visible": true
  },
  "kernelspec": {
   "display_name": "Python 3",
   "language": "python",
   "name": "python3"
  },
  "language_info": {
   "codemirror_mode": {
    "name": "ipython",
    "version": 3
   },
   "file_extension": ".py",
   "mimetype": "text/x-python",
   "name": "python",
   "nbconvert_exporter": "python",
   "pygments_lexer": "ipython3",
   "version": "3.8.8"
  }
 },
 "nbformat": 4,
 "nbformat_minor": 1
}
