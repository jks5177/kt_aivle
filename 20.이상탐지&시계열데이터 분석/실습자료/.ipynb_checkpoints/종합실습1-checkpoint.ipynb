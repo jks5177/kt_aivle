{
 "cells": [
  {
   "cell_type": "markdown",
   "metadata": {
    "id": "H2PiE6pYmBv7"
   },
   "source": [
    "# 1일차 종합실습 : 제조 공정간 불량 예측\n",
    "\n"
   ]
  },
  {
   "cell_type": "markdown",
   "metadata": {
    "id": "OcrJzGK8rrtp"
   },
   "source": [
    "## pulp-and-paper mill 공정\n",
    "* 비즈니스 상황\n",
    "    * 한 롤로 종이를 말다가 찢어지는 사고가 하루에 한번 이상 발생\n",
    "    * 이때마다 공정 중단 및 수율 저하 등, 평균적으로 100백만원의 손실\n",
    "    * 이를 사전에 감지하는 것은 굉장히 어려운 일입니다. 이런 사고를 5%만 감소시키더라도 회사 입장에서는 상당한 비용 절감 효과가 예상됩니다.\n",
    "\n",
    "* Data\n",
    "    * 행\n",
    "        * 주어진 데이터에는 15일 동안 수집된 약 18,000개의 행의 시계열 데이터\n",
    "        * 데이터는 2분 간격으로 측정.\n",
    "    * 열 \n",
    "        * y : normal – 0, abnormal - 1 (124건, 약 0.6%)\n",
    "            * y 의 abnormal 데이터는 장애 발생 2~4분 전으로 시점에 대한 조정(shift)이 된(전처리 된) 데이터 입니다.\n",
    "        * x1 - x61: 원자재, 부자재 및 공정 센서 값들로 구성됨.\n",
    "\n",
    "* 장애 예방 조치\n",
    "    * 장애가 예상된다면, 속도를 줄여 장애를 예방할 수 있습니다.\n",
    "    * 단, 속도를 줄이면 생산성이 저하되므로, 1회당 평균 3만원의 손실이 발생됩니다.\n"
   ]
  },
  {
   "cell_type": "markdown",
   "metadata": {
    "id": "25iQd4AGToG4"
   },
   "source": [
    "![](https://keralakaumudi.com/web-news/en/2020/04/NMAN0141956/image/paper-mill.1.582102.jpg)"
   ]
  },
  {
   "cell_type": "markdown",
   "metadata": {
    "id": "eQ6zIu5HP-TR"
   },
   "source": [
    "## 0.환경준비"
   ]
  },
  {
   "cell_type": "markdown",
   "metadata": {
    "id": "dBemUrbOP-TS"
   },
   "source": [
    "### 1) 라이브러리 로딩"
   ]
  },
  {
   "cell_type": "code",
   "execution_count": 1,
   "metadata": {
    "id": "yFfi2rWqP-TT"
   },
   "outputs": [],
   "source": [
    "import pandas as pd\n",
    "import numpy as np\n",
    "import matplotlib.pyplot as plt\n",
    "import seaborn as sns\n",
    "\n",
    "import warnings\n",
    "warnings.simplefilter(action='ignore', category=FutureWarning)\n",
    "\n",
    "from sklearn.metrics import *\n",
    "from sklearn.model_selection import train_test_split, GridSearchCV"
   ]
  },
  {
   "cell_type": "markdown",
   "metadata": {
    "id": "0idcAKU0P-TT"
   },
   "source": [
    "### 2) 데이터셋 불러오기"
   ]
  },
  {
   "cell_type": "code",
   "execution_count": 2,
   "metadata": {
    "id": "2zyxe46-Bdms"
   },
   "outputs": [
    {
     "data": {
      "text/html": [
       "<div>\n",
       "<style scoped>\n",
       "    .dataframe tbody tr th:only-of-type {\n",
       "        vertical-align: middle;\n",
       "    }\n",
       "\n",
       "    .dataframe tbody tr th {\n",
       "        vertical-align: top;\n",
       "    }\n",
       "\n",
       "    .dataframe thead th {\n",
       "        text-align: right;\n",
       "    }\n",
       "</style>\n",
       "<table border=\"1\" class=\"dataframe\">\n",
       "  <thead>\n",
       "    <tr style=\"text-align: right;\">\n",
       "      <th></th>\n",
       "      <th>y</th>\n",
       "      <th>time</th>\n",
       "      <th>x1</th>\n",
       "      <th>x2</th>\n",
       "      <th>x3</th>\n",
       "      <th>x4</th>\n",
       "      <th>x5</th>\n",
       "      <th>x6</th>\n",
       "      <th>x7</th>\n",
       "      <th>x8</th>\n",
       "      <th>...</th>\n",
       "      <th>x51</th>\n",
       "      <th>x52</th>\n",
       "      <th>x53</th>\n",
       "      <th>x54</th>\n",
       "      <th>x55</th>\n",
       "      <th>x56</th>\n",
       "      <th>x57</th>\n",
       "      <th>x58</th>\n",
       "      <th>x59</th>\n",
       "      <th>x60</th>\n",
       "    </tr>\n",
       "  </thead>\n",
       "  <tbody>\n",
       "    <tr>\n",
       "      <th>0</th>\n",
       "      <td>0.0</td>\n",
       "      <td>5/1/99 0:00</td>\n",
       "      <td>0.376665</td>\n",
       "      <td>-4.596435</td>\n",
       "      <td>-4.095756</td>\n",
       "      <td>13.497687</td>\n",
       "      <td>-0.118830</td>\n",
       "      <td>-20.669883</td>\n",
       "      <td>0.000732</td>\n",
       "      <td>-0.061114</td>\n",
       "      <td>...</td>\n",
       "      <td>29.984624</td>\n",
       "      <td>10.091721</td>\n",
       "      <td>0.053279</td>\n",
       "      <td>-4.936434</td>\n",
       "      <td>-24.590146</td>\n",
       "      <td>18.515436</td>\n",
       "      <td>3.473400</td>\n",
       "      <td>0.033444</td>\n",
       "      <td>0.953219</td>\n",
       "      <td>0.006076</td>\n",
       "    </tr>\n",
       "    <tr>\n",
       "      <th>1</th>\n",
       "      <td>0.0</td>\n",
       "      <td>5/1/99 0:02</td>\n",
       "      <td>0.475720</td>\n",
       "      <td>-4.542502</td>\n",
       "      <td>-4.018359</td>\n",
       "      <td>16.230659</td>\n",
       "      <td>-0.128733</td>\n",
       "      <td>-18.758079</td>\n",
       "      <td>0.000732</td>\n",
       "      <td>-0.061114</td>\n",
       "      <td>...</td>\n",
       "      <td>29.984624</td>\n",
       "      <td>10.095871</td>\n",
       "      <td>0.062801</td>\n",
       "      <td>-4.937179</td>\n",
       "      <td>-32.413266</td>\n",
       "      <td>22.760065</td>\n",
       "      <td>2.682933</td>\n",
       "      <td>0.033536</td>\n",
       "      <td>1.090502</td>\n",
       "      <td>0.006083</td>\n",
       "    </tr>\n",
       "    <tr>\n",
       "      <th>2</th>\n",
       "      <td>0.0</td>\n",
       "      <td>5/1/99 0:04</td>\n",
       "      <td>0.363848</td>\n",
       "      <td>-4.681394</td>\n",
       "      <td>-4.353147</td>\n",
       "      <td>14.127997</td>\n",
       "      <td>-0.138636</td>\n",
       "      <td>-17.836632</td>\n",
       "      <td>0.010803</td>\n",
       "      <td>-0.061114</td>\n",
       "      <td>...</td>\n",
       "      <td>29.984624</td>\n",
       "      <td>10.100265</td>\n",
       "      <td>0.072322</td>\n",
       "      <td>-4.937924</td>\n",
       "      <td>-34.183774</td>\n",
       "      <td>27.004663</td>\n",
       "      <td>3.537487</td>\n",
       "      <td>0.033629</td>\n",
       "      <td>1.840540</td>\n",
       "      <td>0.006090</td>\n",
       "    </tr>\n",
       "    <tr>\n",
       "      <th>3</th>\n",
       "      <td>0.0</td>\n",
       "      <td>5/1/99 0:06</td>\n",
       "      <td>0.301590</td>\n",
       "      <td>-4.758934</td>\n",
       "      <td>-4.023612</td>\n",
       "      <td>13.161566</td>\n",
       "      <td>-0.148142</td>\n",
       "      <td>-18.517601</td>\n",
       "      <td>0.002075</td>\n",
       "      <td>-0.061114</td>\n",
       "      <td>...</td>\n",
       "      <td>29.984624</td>\n",
       "      <td>10.104660</td>\n",
       "      <td>0.081600</td>\n",
       "      <td>-4.938669</td>\n",
       "      <td>-35.954281</td>\n",
       "      <td>21.672449</td>\n",
       "      <td>3.986095</td>\n",
       "      <td>0.033721</td>\n",
       "      <td>2.554880</td>\n",
       "      <td>0.006097</td>\n",
       "    </tr>\n",
       "    <tr>\n",
       "      <th>4</th>\n",
       "      <td>0.0</td>\n",
       "      <td>5/1/99 0:08</td>\n",
       "      <td>0.265578</td>\n",
       "      <td>-4.749928</td>\n",
       "      <td>-4.333150</td>\n",
       "      <td>15.267340</td>\n",
       "      <td>-0.155314</td>\n",
       "      <td>-17.505913</td>\n",
       "      <td>0.000732</td>\n",
       "      <td>-0.061114</td>\n",
       "      <td>...</td>\n",
       "      <td>29.984624</td>\n",
       "      <td>10.109054</td>\n",
       "      <td>0.091121</td>\n",
       "      <td>-4.939414</td>\n",
       "      <td>-37.724789</td>\n",
       "      <td>21.907251</td>\n",
       "      <td>3.601573</td>\n",
       "      <td>0.033777</td>\n",
       "      <td>1.410494</td>\n",
       "      <td>0.006105</td>\n",
       "    </tr>\n",
       "  </tbody>\n",
       "</table>\n",
       "<p>5 rows × 61 columns</p>\n",
       "</div>"
      ],
      "text/plain": [
       "     y         time        x1        x2        x3         x4        x5  \\\n",
       "0  0.0  5/1/99 0:00  0.376665 -4.596435 -4.095756  13.497687 -0.118830   \n",
       "1  0.0  5/1/99 0:02  0.475720 -4.542502 -4.018359  16.230659 -0.128733   \n",
       "2  0.0  5/1/99 0:04  0.363848 -4.681394 -4.353147  14.127997 -0.138636   \n",
       "3  0.0  5/1/99 0:06  0.301590 -4.758934 -4.023612  13.161566 -0.148142   \n",
       "4  0.0  5/1/99 0:08  0.265578 -4.749928 -4.333150  15.267340 -0.155314   \n",
       "\n",
       "          x6        x7        x8  ...        x51        x52       x53  \\\n",
       "0 -20.669883  0.000732 -0.061114  ...  29.984624  10.091721  0.053279   \n",
       "1 -18.758079  0.000732 -0.061114  ...  29.984624  10.095871  0.062801   \n",
       "2 -17.836632  0.010803 -0.061114  ...  29.984624  10.100265  0.072322   \n",
       "3 -18.517601  0.002075 -0.061114  ...  29.984624  10.104660  0.081600   \n",
       "4 -17.505913  0.000732 -0.061114  ...  29.984624  10.109054  0.091121   \n",
       "\n",
       "        x54        x55        x56       x57       x58       x59       x60  \n",
       "0 -4.936434 -24.590146  18.515436  3.473400  0.033444  0.953219  0.006076  \n",
       "1 -4.937179 -32.413266  22.760065  2.682933  0.033536  1.090502  0.006083  \n",
       "2 -4.937924 -34.183774  27.004663  3.537487  0.033629  1.840540  0.006090  \n",
       "3 -4.938669 -35.954281  21.672449  3.986095  0.033721  2.554880  0.006097  \n",
       "4 -4.939414 -37.724789  21.907251  3.601573  0.033777  1.410494  0.006105  \n",
       "\n",
       "[5 rows x 61 columns]"
      ]
     },
     "execution_count": 2,
     "metadata": {},
     "output_type": "execute_result"
    }
   ],
   "source": [
    "# 공정 데이터 불러오기\n",
    "path = \"https://raw.githubusercontent.com/DA4BAM/dataset/master/processminer2.csv\"\n",
    "data = pd.read_csv(path)\n",
    "data.head()"
   ]
  },
  {
   "cell_type": "markdown",
   "metadata": {
    "id": "hZpmnlm_ZoGN"
   },
   "source": [
    "### 3) 필요 함수들 생성"
   ]
  },
  {
   "cell_type": "markdown",
   "metadata": {
    "id": "E9wqfAgXeKNS"
   },
   "source": [
    "#### ① precision, recall, f1 curve\n",
    "\n",
    "> * sklearn에서는 precision, recall curve만 제공됩니다. \n",
    "* 그래서, f1 curve도 추가해서 구하고, plot을 그립니다.\n",
    "\n"
   ]
  },
  {
   "cell_type": "code",
   "execution_count": 3,
   "metadata": {
    "id": "YaD3ETNieKNS"
   },
   "outputs": [],
   "source": [
    "from sklearn.metrics import precision_recall_curve\n",
    "import matplotlib.pyplot as plt\n",
    "\n",
    "def prec_rec_f1_curve(y, score, pos = 1) :\n",
    "    precision, recall, thresholds  = precision_recall_curve(y, score, pos_label=1)\n",
    "    f1 = 2 / (1/precision + 1/recall)\n",
    "\n",
    "    # f1, recall, precision curve\n",
    "    plt.plot(thresholds, np.delete(precision, -1), label = 'precision')\n",
    "    plt.plot(thresholds, np.delete(recall, -1), label = 'recall')\n",
    "    plt.plot(thresholds, np.delete(f1, -1), label = 'f1')\n",
    "\n",
    "    # f1를 최대화 해주는 threshold\n",
    "    thre = round(thresholds[np.argmax(f1)],4)\n",
    "    f1s = round(max(f1),4)\n",
    "    plt.axvline(thre , color = 'darkred', linewidth = .7)\n",
    "    plt.axhline( f1s, color = 'darkred', linewidth = .7)\n",
    "    plt.text(thre, .5, thre, color = 'darkred')\n",
    "    plt.text(min(thresholds), f1s, f1s, color = 'darkred')\n",
    "\n",
    "    plt.xlabel('Anomaly Score')\n",
    "    plt.ylabel('F1 Score')\n",
    "    plt.legend()\n",
    "    plt.grid()\n",
    "    plt.show()\n",
    "\n",
    "    return precision, recall, f1, thresholds"
   ]
  },
  {
   "cell_type": "markdown",
   "metadata": {
    "id": "-umHs8mEk0h2"
   },
   "source": [
    "#### ② threshold로 잘랐을 때, 분류 평가 함수\n"
   ]
  },
  {
   "cell_type": "code",
   "execution_count": 4,
   "metadata": {
    "id": "eq6zBfy9k1Vu"
   },
   "outputs": [],
   "source": [
    "from sklearn.metrics import confusion_matrix, classification_report\n",
    "\n",
    "def classification_report2(y, pred, thresholds):\n",
    "    pred_temp = np.where(pred > thresholds , 1, 0)\n",
    "\n",
    "    print('< confusion matrix >\\n')\n",
    "    print(confusion_matrix(y, pred_temp))\n",
    "    print('\\n' + '='*60 + '\\n')\n",
    "\n",
    "    print('< classification_report >\\n')\n",
    "    print(classification_report(y, pred_temp))\n",
    "\n",
    "    return confusion_matrix(y, pred_temp)"
   ]
  },
  {
   "cell_type": "markdown",
   "metadata": {
    "id": "jECAaPceva4m"
   },
   "source": [
    "## 1.데이터 탐색"
   ]
  },
  {
   "cell_type": "code",
   "execution_count": null,
   "metadata": {
    "id": "C7gFiP_xswn5"
   },
   "outputs": [],
   "source": [
    "target = 'y'"
   ]
  },
  {
   "cell_type": "markdown",
   "metadata": {
    "id": "ovqMu17zqBJi"
   },
   "source": [
    "* Target 변수의 class 비율을 확인해 봅시다."
   ]
  },
  {
   "cell_type": "code",
   "execution_count": null,
   "metadata": {
    "id": "42OabrDkrR4_"
   },
   "outputs": [],
   "source": [
    "print(data[target].value_counts())\n",
    "print(data[target].value_counts() / data.shape[0])\n"
   ]
  },
  {
   "cell_type": "markdown",
   "metadata": {
    "id": "hDC9Z8vdP-TU"
   },
   "source": [
    "## 2.데이터 준비"
   ]
  },
  {
   "cell_type": "markdown",
   "metadata": {
    "id": "BQRh_I1ob09a"
   },
   "source": [
    "### 2.2 추가변수"
   ]
  },
  {
   "cell_type": "code",
   "execution_count": null,
   "metadata": {
    "id": "t-SPj8IcVaUh"
   },
   "outputs": [],
   "source": [
    "for v in data.columns[2:] :\n",
    "    var = v + '_diff'\n",
    "    data[var] = data[v] - data[v].shift()\n",
    "\n",
    "data.dropna(axis = 0, inplace = True)"
   ]
  },
  {
   "cell_type": "markdown",
   "metadata": {
    "id": "8p9K03j6stpW"
   },
   "source": [
    "### 2.1 x, y로 분할하기"
   ]
  },
  {
   "cell_type": "markdown",
   "metadata": {
    "id": "mP18tJMnG5tE"
   },
   "source": [
    "* 불필요한 변수 제거"
   ]
  },
  {
   "cell_type": "code",
   "execution_count": null,
   "metadata": {
    "id": "Mx8qQizlG4Zg"
   },
   "outputs": [],
   "source": [
    "data.drop('time', axis = 1, inplace = True)"
   ]
  },
  {
   "cell_type": "code",
   "execution_count": null,
   "metadata": {
    "id": "YOtK3h2Usu6G"
   },
   "outputs": [],
   "source": [
    "x = data.drop(target, axis = 1)\n",
    "y = data.loc[:, target]"
   ]
  },
  {
   "cell_type": "markdown",
   "metadata": {
    "id": "yVuSbSQErjQ7"
   },
   "source": [
    "### 2.3 데이터 분할\n",
    "* data ==> train : val = 7 : 3\n",
    "* stratify=y : y의 class 비율을 유지하면서 분할하기"
   ]
  },
  {
   "cell_type": "code",
   "execution_count": null,
   "metadata": {
    "id": "Daq8L2H2rkGe"
   },
   "outputs": [],
   "source": [
    "x_train, x_val, y_train, y_val = train_test_split(x, y, test_size = .3, random_state=2022, stratify=y)"
   ]
  },
  {
   "cell_type": "code",
   "execution_count": null,
   "metadata": {
    "id": "wOxlpZdkrflI"
   },
   "outputs": [],
   "source": [
    "y_train.value_counts()/len(y_train)"
   ]
  },
  {
   "cell_type": "code",
   "execution_count": null,
   "metadata": {
    "id": "mENOR-4QP-TU"
   },
   "outputs": [],
   "source": [
    "y_val.value_counts()/len(y_val)"
   ]
  },
  {
   "cell_type": "code",
   "execution_count": null,
   "metadata": {
    "id": "CvCO5Pru_vuo"
   },
   "outputs": [],
   "source": [
    "y_val.value_counts()"
   ]
  },
  {
   "cell_type": "markdown",
   "metadata": {
    "id": "XiD3ZxjrghkX"
   },
   "source": [
    "## 3.모델링 \n",
    "\n",
    "* 알고리즘 선정 : 1번과 2번은 지도학습 알고리즘 중 원하는 것 2개 정도를 정해서 수행해 봅시다.\n",
    "* 성능평가 : f1 score가 높은 모델/방식을 찾아 봅시다."
   ]
  },
  {
   "cell_type": "code",
   "execution_count": null,
   "metadata": {
    "id": "D6E1ki0MKoOO"
   },
   "outputs": [],
   "source": [
    "from imblearn.under_sampling import RandomUnderSampler\n",
    "from imblearn.over_sampling import RandomOverSampler, SMOTE\n",
    "\n",
    "from sklearn.linear_model import LogisticRegression\n",
    "from sklearn.tree import DecisionTreeClassifier\n",
    "from sklearn.ensemble import IsolationForest"
   ]
  },
  {
   "cell_type": "markdown",
   "metadata": {
    "id": "YnoWUFh2KkCS"
   },
   "source": [
    "### 1) resampling"
   ]
  },
  {
   "cell_type": "code",
   "execution_count": null,
   "metadata": {
    "id": "h9s8eoDcTJrw"
   },
   "outputs": [],
   "source": [
    "# down sampling\n"
   ]
  },
  {
   "cell_type": "code",
   "execution_count": null,
   "metadata": {
    "id": "thDUDnJETvJF"
   },
   "outputs": [],
   "source": [
    "# up sampling\n"
   ]
  },
  {
   "cell_type": "code",
   "execution_count": null,
   "metadata": {
    "id": "xTYLdVq9UREg"
   },
   "outputs": [],
   "source": [
    "# SMOTE\n"
   ]
  },
  {
   "cell_type": "markdown",
   "metadata": {
    "id": "bXEddzpVUr40"
   },
   "source": [
    "* 모델링"
   ]
  },
  {
   "cell_type": "code",
   "execution_count": null,
   "metadata": {
    "id": "pweIIMz1UhoL"
   },
   "outputs": [],
   "source": []
  },
  {
   "cell_type": "code",
   "execution_count": null,
   "metadata": {
    "id": "m234-OjPVHNg"
   },
   "outputs": [],
   "source": []
  },
  {
   "cell_type": "code",
   "execution_count": null,
   "metadata": {
    "id": "6zKGZt_jWQve"
   },
   "outputs": [],
   "source": []
  },
  {
   "cell_type": "code",
   "execution_count": null,
   "metadata": {
    "id": "A7kyykaRovtf"
   },
   "outputs": [],
   "source": []
  },
  {
   "cell_type": "code",
   "execution_count": null,
   "metadata": {
    "id": "sX2mgddtovtm"
   },
   "outputs": [],
   "source": []
  },
  {
   "cell_type": "code",
   "execution_count": null,
   "metadata": {
    "id": "SOcagLgvovtm"
   },
   "outputs": [],
   "source": []
  },
  {
   "cell_type": "markdown",
   "metadata": {
    "id": "qQsVU4FVKo7z"
   },
   "source": [
    "### 2) class weight 조정\n"
   ]
  },
  {
   "cell_type": "code",
   "execution_count": null,
   "metadata": {
    "id": "CaNSDEpMKo7z"
   },
   "outputs": [],
   "source": []
  },
  {
   "cell_type": "code",
   "execution_count": null,
   "metadata": {
    "id": "rQXpSbP6Ko7z"
   },
   "outputs": [],
   "source": []
  },
  {
   "cell_type": "markdown",
   "metadata": {
    "id": "w4zVRkk4K3BK"
   },
   "source": [
    "### 3) isolation forest\n"
   ]
  },
  {
   "cell_type": "markdown",
   "metadata": {
    "id": "lG4X9Q2vjKkW"
   },
   "source": [
    "* training"
   ]
  },
  {
   "cell_type": "code",
   "execution_count": null,
   "metadata": {
    "id": "1pFf8oUrK3BL"
   },
   "outputs": [],
   "source": []
  },
  {
   "cell_type": "code",
   "execution_count": null,
   "metadata": {
    "id": "0MR49d-M5GsX"
   },
   "outputs": [],
   "source": []
  },
  {
   "cell_type": "code",
   "execution_count": null,
   "metadata": {
    "id": "xnb23YbUxRYE"
   },
   "outputs": [],
   "source": []
  },
  {
   "cell_type": "markdown",
   "metadata": {
    "id": "z7IfhhpzZY6b"
   },
   "source": [
    "* validation\n",
    "    * Score 계산\n",
    "    * predict로 예측"
   ]
  },
  {
   "cell_type": "code",
   "execution_count": null,
   "metadata": {
    "id": "lUMZ5mwhZWwf"
   },
   "outputs": [],
   "source": []
  },
  {
   "cell_type": "code",
   "execution_count": null,
   "metadata": {
    "id": "Wsegt9WlK3BL"
   },
   "outputs": [],
   "source": []
  },
  {
   "cell_type": "code",
   "execution_count": null,
   "metadata": {
    "id": "zO142euLK3BL"
   },
   "outputs": [],
   "source": []
  },
  {
   "cell_type": "code",
   "execution_count": null,
   "metadata": {
    "id": "jewwsU8EZFyP"
   },
   "outputs": [],
   "source": []
  },
  {
   "cell_type": "code",
   "execution_count": null,
   "metadata": {
    "id": "X76-51NmaV5M"
   },
   "outputs": [],
   "source": []
  },
  {
   "cell_type": "code",
   "execution_count": null,
   "metadata": {
    "id": "OzQD9GmLahzJ"
   },
   "outputs": [],
   "source": []
  },
  {
   "cell_type": "markdown",
   "metadata": {
    "id": "jCRPtXuyLAUv"
   },
   "source": [
    "## 4.성능 비교\n",
    "\n",
    "* 성능 평가 : F1 Score\n"
   ]
  },
  {
   "cell_type": "code",
   "execution_count": null,
   "metadata": {
    "id": "WZxvGFPJLAUw"
   },
   "outputs": [],
   "source": [
    "# resampling\n",
    "\n"
   ]
  },
  {
   "cell_type": "code",
   "execution_count": null,
   "metadata": {
    "id": "w7573i9aLAUw"
   },
   "outputs": [],
   "source": [
    "# class weights 조정\n",
    "\n"
   ]
  },
  {
   "cell_type": "code",
   "execution_count": null,
   "metadata": {
    "id": "mJu5M4UkLAUw"
   },
   "outputs": [],
   "source": [
    "# isolation forest\n",
    "\n"
   ]
  }
 ],
 "metadata": {
  "colab": {
   "collapsed_sections": [
    "E9wqfAgXeKNS",
    "-umHs8mEk0h2"
   ],
   "name": "종합실습1.ipynb",
   "provenance": [],
   "toc_visible": true
  },
  "kernelspec": {
   "display_name": "Python 3",
   "language": "python",
   "name": "python3"
  },
  "language_info": {
   "codemirror_mode": {
    "name": "ipython",
    "version": 3
   },
   "file_extension": ".py",
   "mimetype": "text/x-python",
   "name": "python",
   "nbconvert_exporter": "python",
   "pygments_lexer": "ipython3",
   "version": "3.8.8"
  }
 },
 "nbformat": 4,
 "nbformat_minor": 1
}
