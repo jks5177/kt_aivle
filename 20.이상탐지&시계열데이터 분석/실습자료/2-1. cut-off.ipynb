{
 "cells": [
  {
   "cell_type": "markdown",
   "metadata": {
    "id": "H2PiE6pYmBv7"
   },
   "source": [
    "# Cut-off Value\n",
    "\n"
   ]
  },
  {
   "cell_type": "markdown",
   "metadata": {
    "id": "Wyg1gRj8ZxMK"
   },
   "source": [
    "## 0.환경준비"
   ]
  },
  {
   "cell_type": "markdown",
   "metadata": {
    "id": "dSsCFlrNaQQW"
   },
   "source": [
    "### 0.1 라이브러리 로딩"
   ]
  },
  {
   "cell_type": "code",
   "execution_count": 1,
   "metadata": {
    "id": "6g46eHDnW2QX"
   },
   "outputs": [],
   "source": [
    "import pandas as pd\n",
    "import numpy as np\n",
    "import matplotlib.pyplot as plt\n",
    "import seaborn as sns\n",
    "\n",
    "import warnings\n",
    "warnings.simplefilter(action='ignore', category=FutureWarning)"
   ]
  },
  {
   "cell_type": "markdown",
   "metadata": {
    "id": "oivLe5kRaO8V"
   },
   "source": [
    "### 0.2 데이터 로딩"
   ]
  },
  {
   "cell_type": "code",
   "execution_count": 2,
   "metadata": {
    "id": "4LQpkcFgm50W"
   },
   "outputs": [
    {
     "data": {
      "text/html": [
       "<div>\n",
       "<style scoped>\n",
       "    .dataframe tbody tr th:only-of-type {\n",
       "        vertical-align: middle;\n",
       "    }\n",
       "\n",
       "    .dataframe tbody tr th {\n",
       "        vertical-align: top;\n",
       "    }\n",
       "\n",
       "    .dataframe thead th {\n",
       "        text-align: right;\n",
       "    }\n",
       "</style>\n",
       "<table border=\"1\" class=\"dataframe\">\n",
       "  <thead>\n",
       "    <tr style=\"text-align: right;\">\n",
       "      <th></th>\n",
       "      <th>Survived</th>\n",
       "      <th>Pclass</th>\n",
       "      <th>Sex</th>\n",
       "      <th>Age</th>\n",
       "      <th>Fare</th>\n",
       "      <th>Embarked</th>\n",
       "      <th>Family</th>\n",
       "    </tr>\n",
       "  </thead>\n",
       "  <tbody>\n",
       "    <tr>\n",
       "      <th>0</th>\n",
       "      <td>0</td>\n",
       "      <td>3</td>\n",
       "      <td>male</td>\n",
       "      <td>22.0</td>\n",
       "      <td>7.2500</td>\n",
       "      <td>S</td>\n",
       "      <td>2</td>\n",
       "    </tr>\n",
       "    <tr>\n",
       "      <th>1</th>\n",
       "      <td>1</td>\n",
       "      <td>1</td>\n",
       "      <td>female</td>\n",
       "      <td>38.0</td>\n",
       "      <td>71.2833</td>\n",
       "      <td>C</td>\n",
       "      <td>2</td>\n",
       "    </tr>\n",
       "    <tr>\n",
       "      <th>2</th>\n",
       "      <td>1</td>\n",
       "      <td>3</td>\n",
       "      <td>female</td>\n",
       "      <td>26.0</td>\n",
       "      <td>7.9250</td>\n",
       "      <td>S</td>\n",
       "      <td>1</td>\n",
       "    </tr>\n",
       "    <tr>\n",
       "      <th>3</th>\n",
       "      <td>1</td>\n",
       "      <td>1</td>\n",
       "      <td>female</td>\n",
       "      <td>35.0</td>\n",
       "      <td>53.1000</td>\n",
       "      <td>S</td>\n",
       "      <td>2</td>\n",
       "    </tr>\n",
       "    <tr>\n",
       "      <th>4</th>\n",
       "      <td>0</td>\n",
       "      <td>3</td>\n",
       "      <td>male</td>\n",
       "      <td>35.0</td>\n",
       "      <td>8.0500</td>\n",
       "      <td>S</td>\n",
       "      <td>1</td>\n",
       "    </tr>\n",
       "  </tbody>\n",
       "</table>\n",
       "</div>"
      ],
      "text/plain": [
       "   Survived  Pclass     Sex   Age     Fare Embarked  Family\n",
       "0         0       3    male  22.0   7.2500        S       2\n",
       "1         1       1  female  38.0  71.2833        C       2\n",
       "2         1       3  female  26.0   7.9250        S       1\n",
       "3         1       1  female  35.0  53.1000        S       2\n",
       "4         0       3    male  35.0   8.0500        S       1"
      ]
     },
     "execution_count": 2,
     "metadata": {},
     "output_type": "execute_result"
    }
   ],
   "source": [
    "path = \"https://raw.githubusercontent.com/DA4BAM/dataset/master/titanic.1.csv\"\n",
    "data = pd.read_csv(path, usecols = ['Survived', 'Sex','Pclass','Age','Fare','Embarked','Family'])\n",
    "data.head()"
   ]
  },
  {
   "cell_type": "markdown",
   "metadata": {
    "id": "Gj8GcKR3ar5B"
   },
   "source": [
    "## 1.데이터 탐색"
   ]
  },
  {
   "cell_type": "markdown",
   "metadata": {
    "id": "gym6dx7Dppnc"
   },
   "source": [
    "## 2.데이터 준비\n"
   ]
  },
  {
   "cell_type": "markdown",
   "metadata": {
    "id": "y_pRV_lk0__5"
   },
   "source": [
    "### 2.1 x, y로 나누기 "
   ]
  },
  {
   "cell_type": "code",
   "execution_count": 3,
   "metadata": {
    "id": "P7JbxUGr1FEi"
   },
   "outputs": [],
   "source": [
    "target = 'Survived'\n",
    "x = data.drop(target, axis = 1)\n",
    "y = data.loc[:,target]"
   ]
  },
  {
   "cell_type": "markdown",
   "metadata": {
    "id": "akoLc7fx1g2t"
   },
   "source": [
    "### 2.2 가변수화"
   ]
  },
  {
   "cell_type": "code",
   "execution_count": 4,
   "metadata": {
    "id": "2dZi-63Xi7fU"
   },
   "outputs": [
    {
     "data": {
      "text/html": [
       "<div>\n",
       "<style scoped>\n",
       "    .dataframe tbody tr th:only-of-type {\n",
       "        vertical-align: middle;\n",
       "    }\n",
       "\n",
       "    .dataframe tbody tr th {\n",
       "        vertical-align: top;\n",
       "    }\n",
       "\n",
       "    .dataframe thead th {\n",
       "        text-align: right;\n",
       "    }\n",
       "</style>\n",
       "<table border=\"1\" class=\"dataframe\">\n",
       "  <thead>\n",
       "    <tr style=\"text-align: right;\">\n",
       "      <th></th>\n",
       "      <th>Age</th>\n",
       "      <th>Fare</th>\n",
       "      <th>Family</th>\n",
       "      <th>Pclass_2</th>\n",
       "      <th>Pclass_3</th>\n",
       "      <th>Sex_male</th>\n",
       "      <th>Embarked_Q</th>\n",
       "      <th>Embarked_S</th>\n",
       "    </tr>\n",
       "  </thead>\n",
       "  <tbody>\n",
       "    <tr>\n",
       "      <th>0</th>\n",
       "      <td>22.0</td>\n",
       "      <td>7.2500</td>\n",
       "      <td>2</td>\n",
       "      <td>0</td>\n",
       "      <td>1</td>\n",
       "      <td>1</td>\n",
       "      <td>0</td>\n",
       "      <td>1</td>\n",
       "    </tr>\n",
       "    <tr>\n",
       "      <th>1</th>\n",
       "      <td>38.0</td>\n",
       "      <td>71.2833</td>\n",
       "      <td>2</td>\n",
       "      <td>0</td>\n",
       "      <td>0</td>\n",
       "      <td>0</td>\n",
       "      <td>0</td>\n",
       "      <td>0</td>\n",
       "    </tr>\n",
       "    <tr>\n",
       "      <th>2</th>\n",
       "      <td>26.0</td>\n",
       "      <td>7.9250</td>\n",
       "      <td>1</td>\n",
       "      <td>0</td>\n",
       "      <td>1</td>\n",
       "      <td>0</td>\n",
       "      <td>0</td>\n",
       "      <td>1</td>\n",
       "    </tr>\n",
       "    <tr>\n",
       "      <th>3</th>\n",
       "      <td>35.0</td>\n",
       "      <td>53.1000</td>\n",
       "      <td>2</td>\n",
       "      <td>0</td>\n",
       "      <td>0</td>\n",
       "      <td>0</td>\n",
       "      <td>0</td>\n",
       "      <td>1</td>\n",
       "    </tr>\n",
       "    <tr>\n",
       "      <th>4</th>\n",
       "      <td>35.0</td>\n",
       "      <td>8.0500</td>\n",
       "      <td>1</td>\n",
       "      <td>0</td>\n",
       "      <td>1</td>\n",
       "      <td>1</td>\n",
       "      <td>0</td>\n",
       "      <td>1</td>\n",
       "    </tr>\n",
       "  </tbody>\n",
       "</table>\n",
       "</div>"
      ],
      "text/plain": [
       "    Age     Fare  Family  Pclass_2  Pclass_3  Sex_male  Embarked_Q  Embarked_S\n",
       "0  22.0   7.2500       2         0         1         1           0           1\n",
       "1  38.0  71.2833       2         0         0         0           0           0\n",
       "2  26.0   7.9250       1         0         1         0           0           1\n",
       "3  35.0  53.1000       2         0         0         0           0           1\n",
       "4  35.0   8.0500       1         0         1         1           0           1"
      ]
     },
     "execution_count": 4,
     "metadata": {},
     "output_type": "execute_result"
    }
   ],
   "source": [
    "dummy_cols = ['Pclass', 'Sex', 'Embarked']\n",
    "x = pd.get_dummies(data = x, columns = dummy_cols, drop_first = True)\n",
    "x.head()"
   ]
  },
  {
   "cell_type": "markdown",
   "metadata": {
    "id": "8v3UyL572Ypi"
   },
   "source": [
    "### 2.3 train : validation 분할"
   ]
  },
  {
   "cell_type": "code",
   "execution_count": 5,
   "metadata": {
    "id": "HGhXkvBTmfUO"
   },
   "outputs": [],
   "source": [
    "from sklearn.model_selection import train_test_split"
   ]
  },
  {
   "cell_type": "code",
   "execution_count": 6,
   "metadata": {
    "id": "eqAnzAbDikcr"
   },
   "outputs": [],
   "source": [
    "x_train, x_val, y_train, y_val = train_test_split(x, y, test_size = .3, random_state = 2022)"
   ]
  },
  {
   "cell_type": "code",
   "execution_count": 7,
   "metadata": {
    "id": "mg2Tp4G9UhuG"
   },
   "outputs": [
    {
     "data": {
      "text/plain": [
       "(623, 8)"
      ]
     },
     "execution_count": 7,
     "metadata": {},
     "output_type": "execute_result"
    }
   ],
   "source": [
    "x_train.shape"
   ]
  },
  {
   "cell_type": "markdown",
   "metadata": {
    "id": "LAzxx0nkh1LX"
   },
   "source": [
    "## 3.모델링"
   ]
  },
  {
   "cell_type": "code",
   "execution_count": 8,
   "metadata": {
    "id": "6VkF0-iXijKk"
   },
   "outputs": [],
   "source": [
    "# 필요한 라이브러리, 함수들을 불러옵시다.\n",
    "from sklearn.linear_model import LogisticRegression\n",
    "from sklearn.metrics import *"
   ]
  },
  {
   "cell_type": "code",
   "execution_count": 10,
   "metadata": {
    "id": "01zxVgqYI797"
   },
   "outputs": [
    {
     "data": {
      "text/plain": [
       "LogisticRegression(max_iter=500)"
      ]
     },
     "execution_count": 10,
     "metadata": {},
     "output_type": "execute_result"
    }
   ],
   "source": [
    "model = LogisticRegression(max_iter=500)\n",
    "model.fit(x_train, y_train)"
   ]
  },
  {
   "cell_type": "markdown",
   "metadata": {
    "id": "_Fc3EtS_rwP4"
   },
   "source": [
    "* .predict_proba 로 예측하면, **각 클래스별 확률값**으로 반환됩니다."
   ]
  },
  {
   "cell_type": "code",
   "execution_count": 11,
   "metadata": {
    "id": "JySV8pJzryyE"
   },
   "outputs": [
    {
     "data": {
      "text/plain": [
       "array([[0.87237948, 0.12762052],\n",
       "       [0.69505522, 0.30494478],\n",
       "       [0.32451013, 0.67548987],\n",
       "       [0.94494376, 0.05505624],\n",
       "       [0.90782696, 0.09217304]])"
      ]
     },
     "execution_count": 11,
     "metadata": {},
     "output_type": "execute_result"
    }
   ],
   "source": [
    "pred = model.predict_proba(x_val)\n",
    "pred[:5]"
   ]
  },
  {
   "cell_type": "markdown",
   "metadata": {
    "id": "GJ8MdgrTG7VE"
   },
   "source": [
    "* 0의 확률 + 1의 확률 = 1 이므로, 둘 중 하나(1의 확률)만 사용합시다. "
   ]
  },
  {
   "cell_type": "code",
   "execution_count": 12,
   "metadata": {
    "id": "4fs8B75rkS1A"
   },
   "outputs": [],
   "source": [
    "# 결과를 실제값과 합쳐서 데이터프레임으로 저장합시다.\n",
    "result = pd.DataFrame({ 'predicted': pred[:, 1], 'actual': y_val.values})"
   ]
  },
  {
   "cell_type": "markdown",
   "metadata": {
    "id": "eI_oSZ6UCL9N"
   },
   "source": [
    "## 4.Cut-off 조절"
   ]
  },
  {
   "cell_type": "markdown",
   "metadata": {
    "id": "2QLNcKrbHKMz"
   },
   "source": [
    "### 4.1 Cut-off 조절하며 성능 평가결과 저장"
   ]
  },
  {
   "cell_type": "markdown",
   "metadata": {
    "id": "YnFYvA-0Gwcv"
   },
   "source": [
    "* np.linspace(시작값, 끝값, 갯수)  \n",
    "https://numpy.org/doc/stable/reference/generated/numpy.linspace.html"
   ]
  },
  {
   "cell_type": "code",
   "execution_count": 13,
   "metadata": {
    "id": "ZBPWEMe20GnG"
   },
   "outputs": [
    {
     "data": {
      "text/plain": [
       "array([0.        , 0.11111111, 0.22222222, 0.33333333, 0.44444444,\n",
       "       0.55555556, 0.66666667, 0.77777778, 0.88888889, 1.        ])"
      ]
     },
     "execution_count": 13,
     "metadata": {},
     "output_type": "execute_result"
    }
   ],
   "source": [
    "np.linspace(0, 1, 10)"
   ]
  },
  {
   "cell_type": "code",
   "execution_count": 14,
   "metadata": {
    "id": "QdcKjZxM1TLK"
   },
   "outputs": [
    {
     "name": "stderr",
     "output_type": "stream",
     "text": [
      "C:\\Users\\User\\anaconda3\\lib\\site-packages\\sklearn\\metrics\\_classification.py:1318: UndefinedMetricWarning: Precision is ill-defined and being set to 0.0 due to no predicted samples. Use `zero_division` parameter to control this behavior.\n",
      "  _warn_prf(average, modifier, msg_start, len(result))\n",
      "C:\\Users\\User\\anaconda3\\lib\\site-packages\\sklearn\\metrics\\_classification.py:1318: UndefinedMetricWarning: Precision is ill-defined and being set to 0.0 due to no predicted samples. Use `zero_division` parameter to control this behavior.\n",
      "  _warn_prf(average, modifier, msg_start, len(result))\n",
      "C:\\Users\\User\\anaconda3\\lib\\site-packages\\sklearn\\metrics\\_classification.py:1318: UndefinedMetricWarning: Precision is ill-defined and being set to 0.0 due to no predicted samples. Use `zero_division` parameter to control this behavior.\n",
      "  _warn_prf(average, modifier, msg_start, len(result))\n",
      "C:\\Users\\User\\anaconda3\\lib\\site-packages\\sklearn\\metrics\\_classification.py:1318: UndefinedMetricWarning: Precision is ill-defined and being set to 0.0 due to no predicted samples. Use `zero_division` parameter to control this behavior.\n",
      "  _warn_prf(average, modifier, msg_start, len(result))\n",
      "C:\\Users\\User\\anaconda3\\lib\\site-packages\\sklearn\\metrics\\_classification.py:1318: UndefinedMetricWarning: Precision is ill-defined and being set to 0.0 due to no predicted samples. Use `zero_division` parameter to control this behavior.\n",
      "  _warn_prf(average, modifier, msg_start, len(result))\n",
      "C:\\Users\\User\\anaconda3\\lib\\site-packages\\sklearn\\metrics\\_classification.py:1318: UndefinedMetricWarning: Precision is ill-defined and being set to 0.0 due to no predicted samples. Use `zero_division` parameter to control this behavior.\n",
      "  _warn_prf(average, modifier, msg_start, len(result))\n"
     ]
    }
   ],
   "source": [
    "# 결과를 저장할 빈 리스트\n",
    "acc, rec, prec = [],[],[] \n",
    "\n",
    "# 0부터 1까지 cutoff값을 조금씩 증가시키며, 성능 평가결과 저장\n",
    "cutoff_values = np.linspace(0, 1, 200)\n",
    "\n",
    "for cutoff in cutoff_values :\n",
    "    # cutoff로 잘라서 0,1로 만들기 \n",
    "    result['predict01'] = np.where(result['predicted']> cutoff, 1, 0)\n",
    "\n",
    "    # 평가지표 저장하기.\n",
    "    acc.append(accuracy_score(result['actual'], result['predict01']))\n",
    "    rec.append(recall_score(result['actual'], result['predict01'], pos_label = 1))\n",
    "    prec.append(precision_score(result['actual'], result['predict01'], pos_label = 1))\n"
   ]
  },
  {
   "cell_type": "markdown",
   "metadata": {
    "id": "zM8WDJO6HdtU"
   },
   "source": [
    "### 4.2 cut off에 따른 성능 평가 그래프"
   ]
  },
  {
   "cell_type": "markdown",
   "metadata": {
    "id": "RuOxeb4iwidP"
   },
   "source": [
    "#### 1) cut-off를 조절하면서 Accuracy, Recall, Precision 그래프 그려봅시다."
   ]
  },
  {
   "cell_type": "code",
   "execution_count": 15,
   "metadata": {
    "id": "tGAG_gMo3GYD"
   },
   "outputs": [
    {
     "data": {
      "image/png": "[encoded data removed]",
      "text/plain": [
       "<Figure size 864x576 with 1 Axes>"
      ]
     },
     "metadata": {
      "needs_background": "light"
     },
     "output_type": "display_data"
    }
   ],
   "source": [
    "# cut off에 따른 성능 평가 그래프를 그려봅시다.\n",
    "plt.figure(figsize = (12,8))\n",
    "plt.plot(cutoff_values, acc, label = 'accuracy', color = 'darkred')\n",
    "plt.plot(cutoff_values, rec, label = 'recall', color = 'blue')\n",
    "plt.plot(cutoff_values, prec, label = 'precision', color = 'green')\n",
    "\n",
    "plt.xlabel('cut-off values')\n",
    "plt.legend()\n",
    "plt.grid()\n",
    "plt.show()"
   ]
  },
  {
   "cell_type": "markdown",
   "metadata": {
    "id": "bwN3HuX6ws6x"
   },
   "source": [
    "* 위 그래프를 보면, recall과 precision이 서로 trade-off 관계라는 것을 알 수 있습니다.\n",
    "* Accuracy 최대값과 그때의 cutoff는 어떻게 찾을까요?"
   ]
  },
  {
   "cell_type": "code",
   "execution_count": 16,
   "metadata": {
    "id": "SbcfOduYx7da"
   },
   "outputs": [
    {
     "data": {
      "text/plain": [
       "0.8395522388059702"
      ]
     },
     "execution_count": 16,
     "metadata": {},
     "output_type": "execute_result"
    }
   ],
   "source": [
    "# acc의 최대값\n",
    "max(acc)"
   ]
  },
  {
   "cell_type": "code",
   "execution_count": 17,
   "metadata": {
    "id": "sydOb3p7yDGo"
   },
   "outputs": [
    {
     "name": "stdout",
     "output_type": "stream",
     "text": [
      "acc가 최대값일 때의 index : 105\n",
      "그때의 cutoff : 0.5276381909547738\n"
     ]
    }
   ],
   "source": [
    "# acc가 최대값일 때의 cutoff\n",
    "print(f'acc가 최대값일 때의 index : {np.argmax(acc)}')\n",
    "print(f'그때의 cutoff : {cutoff_values[np.argmax(acc)]}')"
   ]
  },
  {
   "cell_type": "markdown",
   "metadata": {
    "id": "fIu-MEbBxvY2"
   },
   "source": [
    "* 그래서 위에서 찾은 값을 그래프에 표현해 봅시다."
   ]
  },
  {
   "cell_type": "code",
   "execution_count": 18,
   "metadata": {
    "id": "Tmu2dzE3xr_q"
   },
   "outputs": [
    {
     "data": {
      "image/png": "[encoded data removed]",
      "text/plain": [
       "<Figure size 864x576 with 1 Axes>"
      ]
     },
     "metadata": {
      "needs_background": "light"
     },
     "output_type": "display_data"
    }
   ],
   "source": [
    "# cut off에 따른 성능 평가 그래프를 그려봅시다.\n",
    "plt.figure(figsize = (12,8))\n",
    "plt.plot(cutoff_values, acc, label = 'accuracy', color = 'darkred')\n",
    "plt.plot(cutoff_values, rec, label = 'recall', color = 'blue')\n",
    "plt.plot(cutoff_values, prec, label = 'precision', color = 'green')\n",
    "\n",
    "# Accuracy를 최대화 해주는 cut off를 수평/수직선으로 표시\n",
    "max_acc_cut = round(cutoff_values[np.argmax(acc)],3)\n",
    "max_acc = round(max(acc),3)\n",
    "\n",
    "plt.axvline(max_acc_cut, color = 'r', linewidth = .7)\n",
    "plt.text(max_acc_cut, .1, max_acc_cut, color = 'r')\n",
    "\n",
    "plt.axhline(max_acc, color = 'r', linewidth = .7)\n",
    "plt.text(max_acc_cut -.1, max_acc, max_acc, color = 'r')\n",
    "\n",
    "plt.xlabel('cut-off values')\n",
    "plt.legend()\n",
    "plt.grid()\n",
    "plt.show()"
   ]
  },
  {
   "cell_type": "markdown",
   "metadata": {
    "id": "wIGNw9R1Hl6e"
   },
   "source": [
    "#### 2) precision - recall curve\n",
    "\n",
    "* 모델을 평가할 때 cutoff와 상관 없이 전반적인 평가를 하는 방법은, cutoff를 조금씩 조절하면서 그린 성능 curve로 비교하고 평가하는 것입니다.\n",
    "* 대표적인 두가지가 있습니다.\n",
    "    * AUROC : 민감도, 1-특이도 곡선 (**실제값 관점에서 모델 성능**)\n",
    "    * Precision-Recall Curve (**Class 0 혹은 1 관점에서 모델의 성능**)\n",
    "* 둘 다 cuve 아래 **면적**으로 비교하게 됩니다.\n",
    "* 여기서는 Precision-Recall Curve 만을 다뤄봅니다."
   ]
  },
  {
   "cell_type": "code",
   "execution_count": 19,
   "metadata": {
    "id": "ykJKZtx95V6_"
   },
   "outputs": [
    {
     "data": {
      "image/png": "[encoded data removed]",
      "text/plain": [
       "<Figure size 720x576 with 1 Axes>"
      ]
     },
     "metadata": {
      "needs_background": "light"
     },
     "output_type": "display_data"
    }
   ],
   "source": [
    "# precision - recall curve\n",
    "plt.figure(figsize = (10,8))\n",
    "plt.plot(rec, prec)\n",
    "\n",
    "plt.xlabel('recall')\n",
    "plt.ylabel('precesion')\n",
    "\n",
    "plt.grid()\n",
    "plt.show()"
   ]
  },
  {
   "cell_type": "markdown",
   "metadata": {
    "id": "1oxY8DrzHsgF"
   },
   "source": [
    "#### 3) sklearn에서 제공되는 함수들"
   ]
  },
  {
   "cell_type": "markdown",
   "metadata": {
    "id": "CcTlcypmOors"
   },
   "source": [
    "* precision_recall_curve(실제값, 예측값_확률)"
   ]
  },
  {
   "cell_type": "code",
   "execution_count": 20,
   "metadata": {
    "id": "iAlpbv48Os4C"
   },
   "outputs": [],
   "source": [
    "precision, recall, threshold = precision_recall_curve(y_val, result['predicted'])"
   ]
  },
  {
   "cell_type": "code",
   "execution_count": 22,
   "metadata": {},
   "outputs": [
    {
     "data": {
      "text/plain": [
       "[<matplotlib.lines.Line2D at 0x190d9d72eb0>]"
      ]
     },
     "execution_count": 22,
     "metadata": {},
     "output_type": "execute_result"
    },
    {
     "data": {
      "image/png": "[encoded data removed]",
      "text/plain": [
       "<Figure size 432x288 with 1 Axes>"
      ]
     },
     "metadata": {
      "needs_background": "light"
     },
     "output_type": "display_data"
    }
   ],
   "source": [
    "plt.plot(recall, precision)"
   ]
  },
  {
   "cell_type": "markdown",
   "metadata": {
    "id": "Z3AJ2bOgPChR"
   },
   "source": [
    "* plot_precision_recall_curve(모델, x_val, y_val)\n",
    "    * AP : Curve 아래 면적\n",
    "\n",
    "https://scikit-learn.org/stable/modules/generated/sklearn.metrics.plot_precision_recall_curve.html"
   ]
  },
  {
   "cell_type": "code",
   "execution_count": 21,
   "metadata": {
    "id": "vYP2_LrE8_Jv"
   },
   "outputs": [
    {
     "data": {
      "image/png": "[encoded data removed]",
      "text/plain": [
       "<Figure size 864x576 with 1 Axes>"
      ]
     },
     "metadata": {
      "needs_background": "light"
     },
     "output_type": "display_data"
    }
   ],
   "source": [
    "# precision - recall curve\n",
    "plt.figure(figsize = (12,8))\n",
    "pr_curve = plot_precision_recall_curve(model, x_val, y_val, ax = plt.gca())\n",
    "plt.show()\n",
    "\n",
    "# ax = plt.gca() 옵션은, plt.#### 함수들을 함께 사용할 수 있게 해줍니다."
   ]
  },
  {
   "cell_type": "markdown",
   "metadata": {
    "id": "cNLa3yFw2GAD"
   },
   "source": [
    "plot_precision_recall_curve의 결과를 저장하고  \n",
    ".average_precision 속성을 불러오면, 계산된 아래 면적을 알 수 있습니다."
   ]
  },
  {
   "cell_type": "code",
   "execution_count": 23,
   "metadata": {
    "id": "PeuyxNTY90QZ"
   },
   "outputs": [
    {
     "data": {
      "text/plain": [
       "0.8199753400362151"
      ]
     },
     "execution_count": 23,
     "metadata": {},
     "output_type": "execute_result"
    }
   ],
   "source": [
    "pr_curve.average_precision"
   ]
  },
  {
   "cell_type": "markdown",
   "metadata": {
    "id": "ELlq36IFmn-I"
   },
   "source": [
    "## 5.실습\n",
    "\n",
    "> * 기본 실습문제를 풀며, 주어진 코드와 결과를 이해하는데 집중하세요.\n",
    "* 혹시 시간 여유가 된다면, 심화 문제를 풀어봅시다.(옵션)\n",
    "    * 심화문제는 강사가 풀이를 할 예정입니다."
   ]
  },
  {
   "cell_type": "markdown",
   "metadata": {
    "id": "v69BPH42s4W9"
   },
   "source": [
    "### 5.1 기본실습 \n",
    "\n",
    "* 다음 알고리즘 중 하나를 선정하여 모델을 생성하시오.\n",
    "    * Logistinc Regression()\n",
    "    * Decision Tree(max_depth = 3)\n",
    "    * Random Forest()\n",
    "\n",
    "* 모델에 대해서 \n",
    "    * .predict_proba 로 예측 결과를 저장하시오.\n",
    "    * cutoff를 0부터 1사이에서 0.01씩 증가시키면서 Accuracy curve를 그려봅시다.\n",
    "    * Accuracy 최대값, 그때의 cutoff를 찾아 봅시다. "
   ]
  },
  {
   "cell_type": "code",
   "execution_count": 24,
   "metadata": {
    "id": "Q2CcURAVmn-J"
   },
   "outputs": [],
   "source": [
    "from sklearn.linear_model import LogisticRegression\n",
    "from sklearn.tree import DecisionTreeClassifier\n",
    "from sklearn.ensemble import RandomForestClassifier"
   ]
  },
  {
   "cell_type": "code",
   "execution_count": 26,
   "metadata": {
    "id": "TFTw8u0Ymn-K"
   },
   "outputs": [
    {
     "data": {
      "text/plain": [
       "LogisticRegression(max_iter=500)"
      ]
     },
     "execution_count": 26,
     "metadata": {},
     "output_type": "execute_result"
    }
   ],
   "source": [
    "m1 = LogisticRegression(max_iter=500)\n",
    "\n",
    "m1.fit(x_train, y_train)"
   ]
  },
  {
   "cell_type": "markdown",
   "metadata": {
    "id": "qcllcB_Nmn-L"
   },
   "source": [
    "* .predict_proba로 예측\n",
    "* 1일 확률값만 저장하기"
   ]
  },
  {
   "cell_type": "code",
   "execution_count": 27,
   "metadata": {
    "id": "5eyhkEl2mn-M"
   },
   "outputs": [
    {
     "data": {
      "text/plain": [
       "array([[0.87237948, 0.12762052],\n",
       "       [0.69505522, 0.30494478],\n",
       "       [0.32451013, 0.67548987],\n",
       "       [0.94494376, 0.05505624],\n",
       "       [0.90782696, 0.09217304]])"
      ]
     },
     "execution_count": 27,
     "metadata": {},
     "output_type": "execute_result"
    }
   ],
   "source": [
    "pred1 = m1.predict_proba(x_val)\n",
    "\n",
    "pred1[:5]"
   ]
  },
  {
   "cell_type": "markdown",
   "metadata": {
    "id": "HPp2I6eDpHg9"
   },
   "source": [
    "* 예측결과와 실제 결과를 데이터프레임으로 저장"
   ]
  },
  {
   "cell_type": "code",
   "execution_count": 30,
   "metadata": {
    "id": "RG2mQCKRpE39"
   },
   "outputs": [],
   "source": [
    "# 결과를 실제값과 합쳐서 데이터프레임으로 저장합시다.\n",
    "result = pd.DataFrame({'pred1':pred1[:, 1], 'actual':y_val.values})"
   ]
  },
  {
   "cell_type": "markdown",
   "metadata": {
    "id": "ioOb_f_Joz0N"
   },
   "source": [
    "* cutoff 조절하며 accuracy score"
   ]
  },
  {
   "cell_type": "code",
   "execution_count": 31,
   "metadata": {
    "id": "bs1AnzwHo4-d"
   },
   "outputs": [],
   "source": [
    "# 결과를 저장할 빈 리스트\n",
    "acc = []\n",
    "\n",
    "# 0부터 1까지 cutoff값을 조금씩 증가시키며, 성능 평가결과 저장\n",
    "cutoff_values = np.linspace(0, 1, 200)\n",
    "\n",
    "for cutoff in cutoff_values :\n",
    "    # cutoff로 잘라서 0,1로 만들기 \n",
    "    pred_01 = np.where(result['pred1']> cutoff, 1, 0)\n",
    "\n",
    "    # 평가지표 저장하기.\n",
    "    acc.append(accuracy_score(result['actual'], pred_01))"
   ]
  },
  {
   "cell_type": "markdown",
   "metadata": {
    "id": "ByzVqX70tYfG"
   },
   "source": [
    "* Accuracy Curve 그리기"
   ]
  },
  {
   "cell_type": "code",
   "execution_count": 32,
   "metadata": {
    "id": "mD0uLTKzp1yf"
   },
   "outputs": [
    {
     "name": "stdout",
     "output_type": "stream",
     "text": [
      "0.5276381909547738 0.8395522388059702\n"
     ]
    },
    {
     "data": {
      "image/png": "[encoded data removed]",
      "text/plain": [
       "<Figure size 720x576 with 1 Axes>"
      ]
     },
     "metadata": {
      "needs_background": "light"
     },
     "output_type": "display_data"
    }
   ],
   "source": [
    "# Accuracy Curve\n",
    "\n",
    "print(cutoff_values[np.argmax(acc)], max(acc))\n",
    "\n",
    "plt.figure(figsize = (10,8))\n",
    "plt.plot(cutoff_values, acc)\n",
    "\n",
    "max_acc_cut = round(cutoff_values[np.argmax(acc)],3)\n",
    "max_acc = round(max(acc),3)\n",
    "\n",
    "plt.axvline(max_acc_cut, color = 'r', linewidth = .7)\n",
    "plt.text(max_acc_cut, .4, max_acc_cut, color = 'r')\n",
    "\n",
    "plt.axhline(max_acc, color = 'r', linewidth = .7)\n",
    "plt.text(max_acc_cut -.1, max_acc, max_acc, color = 'r')\n",
    "\n",
    "plt.xlabel('cutoff')\n",
    "plt.ylabel('accuracy')\n",
    "\n",
    "plt.grid()\n",
    "plt.show()"
   ]
  },
  {
   "cell_type": "markdown",
   "metadata": {
    "id": "Y201svMHtFq-"
   },
   "source": [
    "### 5.2 심화실습1 \n",
    "\n",
    "* 다음 알고리즘에 대해 각각 모델을 생성하시오.\n",
    "    * Logistinc Regression()\n",
    "    * Decision Tree(max_depth = 3)\n",
    "    * Random Forest()\n",
    "\n",
    "* 각 모델에 대해서 \n",
    "    * .predict_proba 로 예측 결과를 저장하시오.\n",
    "    * cutoff를 0부터 1사이에서 0.01씩 증가시키면서 Accuracy curve를 그려봅시다.\n",
    "    * Accuracy 최대값, 그때의 cutoff를 찾아 봅시다. "
   ]
  },
  {
   "cell_type": "code",
   "execution_count": null,
   "metadata": {
    "id": "iUomGQfGtFq_"
   },
   "outputs": [],
   "source": [
    "from sklearn.linear_model import LogisticRegression\n",
    "from sklearn.tree import DecisionTreeClassifier\n",
    "from sklearn.ensemble import RandomForestClassifier"
   ]
  },
  {
   "cell_type": "code",
   "execution_count": 33,
   "metadata": {
    "id": "o8mgdIYetFrA"
   },
   "outputs": [
    {
     "data": {
      "text/plain": [
       "DecisionTreeClassifier(max_depth=3, random_state=2022)"
      ]
     },
     "execution_count": 33,
     "metadata": {},
     "output_type": "execute_result"
    }
   ],
   "source": [
    "m2 = DecisionTreeClassifier(max_depth=3, random_state=2022)\n",
    "\n",
    "m2.fit(x_train, y_train)"
   ]
  },
  {
   "cell_type": "markdown",
   "metadata": {
    "id": "dnQSniZgtFrA"
   },
   "source": [
    "* .predict_proba로 예측"
   ]
  },
  {
   "cell_type": "code",
   "execution_count": 34,
   "metadata": {
    "id": "KShudF73tFrA"
   },
   "outputs": [
    {
     "data": {
      "text/plain": [
       "array([[0.89605735, 0.10394265],\n",
       "       [0.89605735, 0.10394265],\n",
       "       [0.44594595, 0.55405405],\n",
       "       [0.9       , 0.1       ],\n",
       "       [0.89605735, 0.10394265]])"
      ]
     },
     "execution_count": 34,
     "metadata": {},
     "output_type": "execute_result"
    }
   ],
   "source": [
    "pred2 = m2.predict_proba(x_val)\n",
    "\n",
    "pred2[:5]"
   ]
  },
  {
   "cell_type": "markdown",
   "metadata": {
    "id": "vmuf53SGtFrA"
   },
   "source": [
    "* 예측결과와 실제 결과를 데이터프레임으로 저장"
   ]
  },
  {
   "cell_type": "code",
   "execution_count": 35,
   "metadata": {
    "id": "7Ri2DAygtFrA"
   },
   "outputs": [],
   "source": [
    "result['pred2'] = pred2[:, 1]"
   ]
  },
  {
   "cell_type": "markdown",
   "metadata": {
    "id": "jXmPVR-GtFrA"
   },
   "source": [
    "* cutoff 조절하며 accuracy score"
   ]
  },
  {
   "cell_type": "code",
   "execution_count": 36,
   "metadata": {
    "id": "6-XeUR2atFrA"
   },
   "outputs": [],
   "source": [
    "acc = []\n",
    "\n",
    "# 0부터 1까지 cutoff값을 조금씩 증가시키며, 성능 평가결과 저장\n",
    "cutoff_values = np.linspace(0, 1, 200)\n",
    "\n",
    "for cutoff in cutoff_values :\n",
    "    # cutoff로 잘라서 0,1로 만들기 \n",
    "    pred_02 = np.where(result['pred2']> cutoff, 1, 0)\n",
    "\n",
    "    # 평가지표 저장하기.\n",
    "    acc.append(accuracy_score(result['actual'], pred_02))"
   ]
  },
  {
   "cell_type": "code",
   "execution_count": 37,
   "metadata": {
    "id": "yIxl3O29tFrB"
   },
   "outputs": [
    {
     "name": "stdout",
     "output_type": "stream",
     "text": [
      "0.33668341708542715 0.832089552238806\n"
     ]
    },
    {
     "data": {
      "image/png": "[encoded data removed]",
      "text/plain": [
       "<Figure size 720x576 with 1 Axes>"
      ]
     },
     "metadata": {
      "needs_background": "light"
     },
     "output_type": "display_data"
    }
   ],
   "source": [
    "# Accuracy Curve\n",
    "\n",
    "print(cutoff_values[np.argmax(acc)], max(acc))\n",
    "\n",
    "plt.figure(figsize = (10,8))\n",
    "plt.plot(cutoff_values, acc)\n",
    "\n",
    "max_acc_cut = round(cutoff_values[np.argmax(acc)],3)\n",
    "max_acc = round(max(acc),3)\n",
    "\n",
    "plt.axvline(max_acc_cut, color = 'r', linewidth = .7)\n",
    "plt.text(max_acc_cut, .4, max_acc_cut, color = 'r')\n",
    "\n",
    "plt.axhline(max_acc, color = 'r', linewidth = .7)\n",
    "plt.text(max_acc_cut -.1, max_acc, max_acc, color = 'r')\n",
    "\n",
    "plt.xlabel('cutoff')\n",
    "plt.ylabel('accuracy')\n",
    "\n",
    "plt.grid()\n",
    "plt.show()"
   ]
  },
  {
   "cell_type": "markdown",
   "metadata": {
    "id": "6_VG6axqSNlH"
   },
   "source": [
    "### 5.3 심화실습2\n",
    "\n",
    "* 다음 알고리즘으로 모델을 생성하시오.\n",
    "    * Logistinc Regression()\n",
    "    * Decision Tree(max_depth = 3)\n",
    "    * Random Forest()\n",
    "\n",
    "* 세 모델의 성능비고 : Precision-Recall Curve와 Average Precision로 성능을 비교합시다.\n"
   ]
  },
  {
   "cell_type": "code",
   "execution_count": 39,
   "metadata": {},
   "outputs": [],
   "source": [
    "from sklearn.ensemble import RandomForestClassifier"
   ]
  },
  {
   "cell_type": "code",
   "execution_count": 40,
   "metadata": {
    "id": "GM_6Gl1wSx2q"
   },
   "outputs": [
    {
     "data": {
      "text/plain": [
       "RandomForestClassifier(random_state=2022)"
      ]
     },
     "execution_count": 40,
     "metadata": {},
     "output_type": "execute_result"
    }
   ],
   "source": [
    "m3 = RandomForestClassifier(random_state=2022)\n",
    "\n",
    "m3.fit(x_train, y_train)"
   ]
  },
  {
   "cell_type": "markdown",
   "metadata": {
    "id": "0wmLJeVZXCx2"
   },
   "source": [
    "* .predict_proba로 예측"
   ]
  },
  {
   "cell_type": "code",
   "execution_count": 41,
   "metadata": {
    "id": "RP-BH8EqTQZd"
   },
   "outputs": [
    {
     "data": {
      "text/plain": [
       "array([[0.91, 0.09],\n",
       "       [0.96, 0.04],\n",
       "       [0.74, 0.26],\n",
       "       [0.83, 0.17],\n",
       "       [1.  , 0.  ]])"
      ]
     },
     "execution_count": 41,
     "metadata": {},
     "output_type": "execute_result"
    }
   ],
   "source": [
    "pred3 = m3.predict_proba(x_val)\n",
    "\n",
    "pred3[:5]"
   ]
  },
  {
   "cell_type": "code",
   "execution_count": 42,
   "metadata": {
    "id": "x1QGTqX6TX0O"
   },
   "outputs": [],
   "source": [
    "result['pred3'] = pred3[:, 1]"
   ]
  },
  {
   "cell_type": "code",
   "execution_count": 46,
   "metadata": {
    "id": "fzOye1OtUW07"
   },
   "outputs": [],
   "source": [
    "acc = []\n",
    "\n",
    "cutoff_values = np.linspace(0, 1, 200)\n",
    "\n",
    "for i in cutoff_values :\n",
    "    # cutoff로 0과 1로 바꾸기\n",
    "    pred_03 = np.where(result['pred3'] > i, 1, 0)\n",
    "    \n",
    "    # 평가지표 저장\n",
    "    acc.append(accuracy_score(result['actual'], pred_03))\n"
   ]
  },
  {
   "cell_type": "code",
   "execution_count": 60,
   "metadata": {},
   "outputs": [
    {
     "name": "stdout",
     "output_type": "stream",
     "text": [
      "0.6834170854271356 0.8208955223880597\n"
     ]
    },
    {
     "data": {
      "image/png": "[encoded data removed]",
      "text/plain": [
       "<Figure size 720x576 with 1 Axes>"
      ]
     },
     "metadata": {
      "needs_background": "light"
     },
     "output_type": "display_data"
    }
   ],
   "source": [
    "print(cutoff_values[np.argmax(acc)], max(acc))\n",
    "\n",
    "plt.figure(figsize=(10,8))\n",
    "plt.plot(cutoff_values, acc)\n",
    "\n",
    "max_acc_cut = round(cutoff_values[np.argmax(acc)], 3)\n",
    "max_acc = round(max(acc), 3)\n",
    "\n",
    "plt.axvline(max_acc_cut, color='r', linewidth=.7)\n",
    "plt.text(max_acc_cut, .47, max_acc_cut, color='r')\n",
    "\n",
    "plt.axhline(max_acc, color='r', linewidth=.7)\n",
    "plt.text(max_acc_cut -.1, max_acc, max_acc, color='r')\n",
    "\n",
    "plt.xlabel('cutoff')\n",
    "plt.ylabel('accuracy')\n",
    "\n",
    "plt.show()"
   ]
  },
  {
   "cell_type": "code",
   "execution_count": 61,
   "metadata": {},
   "outputs": [],
   "source": [
    "def acc_plot(accuricy_list, cutoff_list) :\n",
    "    print(cutoff_values[np.argmax(accuricy_list)], max(accuricy_list))\n",
    "\n",
    "    plt.figure(figsize=(10,8))\n",
    "    plt.plot(cutoff_list, accuricy_list)\n",
    "\n",
    "    max_acc_cut = round(cutoff_list[np.argmax(accuricy_list)], 3)\n",
    "    max_acc = round(max(accuricy_list), 3)\n",
    "\n",
    "    plt.axvline(max_acc_cut, color='r', linewidth=.7)\n",
    "    plt.text(max_acc_cut, .47, max_acc_cut, color='r')\n",
    "\n",
    "    plt.axhline(max_acc, color='r', linewidth=.7)\n",
    "    plt.text(max_acc_cut -.1, max_acc, max_acc, color='r')\n",
    "\n",
    "    plt.xlabel('cutoff')\n",
    "    plt.ylabel('accuracy')\n",
    "\n",
    "    plt.show()"
   ]
  },
  {
   "cell_type": "code",
   "execution_count": 62,
   "metadata": {},
   "outputs": [
    {
     "name": "stdout",
     "output_type": "stream",
     "text": [
      "0.6834170854271356 0.8208955223880597\n"
     ]
    },
    {
     "data": {
      "image/png": "[encoded data removed]",
      "text/plain": [
       "<Figure size 720x576 with 1 Axes>"
      ]
     },
     "metadata": {
      "needs_background": "light"
     },
     "output_type": "display_data"
    }
   ],
   "source": [
    "acc_plot(acc, cutoff_values)"
   ]
  },
  {
   "cell_type": "markdown",
   "metadata": {},
   "source": [
    "### 6. ROC 그래프 그리기"
   ]
  },
  {
   "cell_type": "code",
   "execution_count": 64,
   "metadata": {},
   "outputs": [
    {
     "data": {
      "image/png": "[encoded data removed]",
      "text/plain": [
       "<Figure size 720x576 with 1 Axes>"
      ]
     },
     "metadata": {
      "needs_background": "light"
     },
     "output_type": "display_data"
    }
   ],
   "source": [
    "plt.figure(figsize=(10,8))\n",
    "\n",
    "ax1 = plot_precision_recall_curve(m1, x_val, y_val, ax = plt.gca())\n",
    "ax2 = plot_precision_recall_curve(m2, x_val, y_val, ax = plt.gca())\n",
    "ax3 = plot_precision_recall_curve(m3, x_val, y_val, ax = plt.gca())\n",
    "\n",
    "plt.show()"
   ]
  },
  {
   "cell_type": "code",
   "execution_count": 65,
   "metadata": {},
   "outputs": [
    {
     "name": "stdout",
     "output_type": "stream",
     "text": [
      "0.8199753400362151\n",
      "0.8038751857601822\n",
      "0.7817055117416769\n"
     ]
    }
   ],
   "source": [
    "print(ax1.average_precision)\n",
    "print(ax2.average_precision)\n",
    "print(ax3.average_precision)"
   ]
  }
 ],
 "metadata": {
  "colab": {
   "collapsed_sections": [],
   "name": "2-1. cut-off.ipynb",
   "provenance": [],
   "toc_visible": true
  },
  "kernelspec": {
   "display_name": "Python 3",
   "language": "python",
   "name": "python3"
  },
  "language_info": {
   "codemirror_mode": {
    "name": "ipython",
    "version": 3
   },
   "file_extension": ".py",
   "mimetype": "text/x-python",
   "name": "python",
   "nbconvert_exporter": "python",
   "pygments_lexer": "ipython3",
   "version": "3.8.8"
  }
 },
 "nbformat": 4,
 "nbformat_minor": 1
}
