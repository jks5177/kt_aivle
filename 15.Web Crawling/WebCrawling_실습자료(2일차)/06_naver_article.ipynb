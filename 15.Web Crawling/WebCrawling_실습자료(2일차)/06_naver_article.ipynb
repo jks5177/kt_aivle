{
 "cells": [
  {
   "cell_type": "markdown",
   "id": "7ae1d6f6",
   "metadata": {},
   "source": [
    "### 네이버 기사 수집\n",
    "- 기사 리스트 수집 > 상세페이지 URL 만들기 > 상세 페이지에서 기사 내용 수집"
   ]
  },
  {
   "cell_type": "code",
   "execution_count": 1,
   "id": "2c56fada",
   "metadata": {},
   "outputs": [],
   "source": [
    "import pandas as pd\n",
    "import requests\n",
    "import json\n",
    "from bs4 import BeautifulSoup"
   ]
  },
  {
   "cell_type": "code",
   "execution_count": 2,
   "id": "39ec68d5",
   "metadata": {},
   "outputs": [],
   "source": [
    "# 1. URL : 기사 리스트 수집"
   ]
  },
  {
   "cell_type": "code",
   "execution_count": 3,
   "id": "1bbe39ae",
   "metadata": {},
   "outputs": [
    {
     "data": {
      "text/plain": [
       "'https://news.naver.com/main/mainNews.naver?sid1=101&date=00:00:00&page=3'"
      ]
     },
     "execution_count": 3,
     "metadata": {},
     "output_type": "execute_result"
    }
   ],
   "source": [
    "sid1, page = 101, 3\n",
    "url = f\"https://news.naver.com/main/mainNews.naver?sid1={sid1}&date=00:00:00&page={page}\"\n",
    "url"
   ]
  },
  {
   "cell_type": "code",
   "execution_count": 4,
   "id": "74b00c43",
   "metadata": {},
   "outputs": [],
   "source": [
    "# 2. request > response : str(json)"
   ]
  },
  {
   "cell_type": "code",
   "execution_count": 5,
   "id": "4adac5b7",
   "metadata": {},
   "outputs": [
    {
     "data": {
      "text/plain": [
       "<Response [200]>"
      ]
     },
     "execution_count": 5,
     "metadata": {},
     "output_type": "execute_result"
    }
   ],
   "source": [
    "headers = {'user-agent': 'Mozilla/5.0 (Macintosh; Intel Mac OS X 10_15_7) AppleWebKit/537.36 \\\n",
    "(KHTML, like Gecko) Chrome/97.0.4692.71 Safari/537.3'}\n",
    "response = requests.post(url, headers=headers)\n",
    "response"
   ]
  },
  {
   "cell_type": "code",
   "execution_count": 6,
   "id": "b25c7acd",
   "metadata": {},
   "outputs": [],
   "source": [
    "# 3. str(json) > str(json) > dict, list > df"
   ]
  },
  {
   "cell_type": "code",
   "execution_count": 7,
   "id": "6e206815",
   "metadata": {},
   "outputs": [
    {
     "data": {
      "text/html": [
       "<div>\n",
       "<style scoped>\n",
       "    .dataframe tbody tr th:only-of-type {\n",
       "        vertical-align: middle;\n",
       "    }\n",
       "\n",
       "    .dataframe tbody tr th {\n",
       "        vertical-align: top;\n",
       "    }\n",
       "\n",
       "    .dataframe thead th {\n",
       "        text-align: right;\n",
       "    }\n",
       "</style>\n",
       "<table border=\"1\" class=\"dataframe\">\n",
       "  <thead>\n",
       "    <tr style=\"text-align: right;\">\n",
       "      <th></th>\n",
       "      <th>sectionId</th>\n",
       "      <th>articleId</th>\n",
       "      <th>officeId</th>\n",
       "      <th>officeName</th>\n",
       "      <th>title</th>\n",
       "      <th>summary</th>\n",
       "    </tr>\n",
       "  </thead>\n",
       "  <tbody>\n",
       "    <tr>\n",
       "      <th>19</th>\n",
       "      <td>101</td>\n",
       "      <td>0005146438</td>\n",
       "      <td>018</td>\n",
       "      <td>이데일리</td>\n",
       "      <td>대출시장은 금융사 텃밭?…진격 나선 토뱅·카뱅</td>\n",
       "      <td>[이데일리 황병서 기자] 테크(기술)에 기반을 둔 인터넷 전문은행들이 시중은행 등 ...</td>\n",
       "    </tr>\n",
       "  </tbody>\n",
       "</table>\n",
       "</div>"
      ],
      "text/plain": [
       "   sectionId   articleId officeId officeName                      title  \\\n",
       "19       101  0005146438      018       이데일리  대출시장은 금융사 텃밭?…진격 나선 토뱅·카뱅   \n",
       "\n",
       "                                              summary  \n",
       "19  [이데일리 황병서 기자] 테크(기술)에 기반을 둔 인터넷 전문은행들이 시중은행 등 ...  "
      ]
     },
     "execution_count": 7,
     "metadata": {},
     "output_type": "execute_result"
    }
   ],
   "source": [
    "datas = response.json()[\"airsResult\"]\n",
    "datas = json.loads(datas)[\"result\"][str(sid1)]\n",
    "columns = ['sectionId', 'articleId', 'officeId', 'officeName', 'title', 'summary']\n",
    "df = pd.DataFrame(datas)[columns]\n",
    "df.tail(1)"
   ]
  },
  {
   "cell_type": "code",
   "execution_count": 8,
   "id": "dc16fcc2",
   "metadata": {},
   "outputs": [],
   "source": [
    "# 4. 함수로 만들기 : \n",
    "def article_list(sid1, page):\n",
    "    url = f\"https://news.naver.com/main/mainNews.naver?sid1={sid1}&date=00:00:00&page={page}\"\n",
    "    headers = {'user-agent': 'Mozilla/5.0 (Macintosh; Intel Mac OS X 10_15_7) AppleWebKit/537.36 \\\n",
    "(KHTML, like Gecko) Chrome/97.0.4692.71 Safari/537.3'}\n",
    "    response = requests.post(url, headers=headers)\n",
    "    datas = response.json()[\"airsResult\"]\n",
    "    datas = json.loads(datas)[\"result\"][str(sid1)]\n",
    "    columns = ['sectionId', 'articleId', 'officeId', 'officeName', 'title', 'summary']\n",
    "    return pd.DataFrame(datas)[columns]"
   ]
  },
  {
   "cell_type": "code",
   "execution_count": 9,
   "id": "42a58199",
   "metadata": {},
   "outputs": [
    {
     "data": {
      "text/html": [
       "<div>\n",
       "<style scoped>\n",
       "    .dataframe tbody tr th:only-of-type {\n",
       "        vertical-align: middle;\n",
       "    }\n",
       "\n",
       "    .dataframe tbody tr th {\n",
       "        vertical-align: top;\n",
       "    }\n",
       "\n",
       "    .dataframe thead th {\n",
       "        text-align: right;\n",
       "    }\n",
       "</style>\n",
       "<table border=\"1\" class=\"dataframe\">\n",
       "  <thead>\n",
       "    <tr style=\"text-align: right;\">\n",
       "      <th></th>\n",
       "      <th>sectionId</th>\n",
       "      <th>articleId</th>\n",
       "      <th>officeId</th>\n",
       "      <th>officeName</th>\n",
       "      <th>title</th>\n",
       "      <th>summary</th>\n",
       "    </tr>\n",
       "  </thead>\n",
       "  <tbody>\n",
       "    <tr>\n",
       "      <th>19</th>\n",
       "      <td>100</td>\n",
       "      <td>0003666975</td>\n",
       "      <td>022</td>\n",
       "      <td>세계일보</td>\n",
       "      <td>安, ‘무조건 완주’→‘단일화 제안’…이상돈 “딜레마에 빠졌기 때문”</td>\n",
       "      <td>이 교수 \"완주하자니 돈이 울고, 그만 두자니 '윤석열 후보 지지 선언하고 그만둬야...</td>\n",
       "    </tr>\n",
       "  </tbody>\n",
       "</table>\n",
       "</div>"
      ],
      "text/plain": [
       "   sectionId   articleId officeId officeName  \\\n",
       "19       100  0003666975      022       세계일보   \n",
       "\n",
       "                                     title  \\\n",
       "19  安, ‘무조건 완주’→‘단일화 제안’…이상돈 “딜레마에 빠졌기 때문”   \n",
       "\n",
       "                                              summary  \n",
       "19  이 교수 \"완주하자니 돈이 울고, 그만 두자니 '윤석열 후보 지지 선언하고 그만둬야...  "
      ]
     },
     "execution_count": 9,
     "metadata": {},
     "output_type": "execute_result"
    }
   ],
   "source": [
    "df = article_list(100, 2)\n",
    "df.tail(1)"
   ]
  },
  {
   "cell_type": "code",
   "execution_count": 10,
   "id": "0cf26901",
   "metadata": {},
   "outputs": [],
   "source": [
    "# article_list함수를 이용하여 100 ~ 105 카테고리, 각 카테고리별 2페이지까지 데이터 수집"
   ]
  },
  {
   "cell_type": "code",
   "execution_count": 11,
   "id": "b868014b",
   "metadata": {},
   "outputs": [
    {
     "name": "stdout",
     "output_type": "stream",
     "text": [
      "100 1 100 2 101 1 101 2 102 1 102 2 103 1 103 2 104 1 104 2 105 1 105 2 Wall time: 500 ms\n"
     ]
    },
    {
     "data": {
      "text/html": [
       "<div>\n",
       "<style scoped>\n",
       "    .dataframe tbody tr th:only-of-type {\n",
       "        vertical-align: middle;\n",
       "    }\n",
       "\n",
       "    .dataframe tbody tr th {\n",
       "        vertical-align: top;\n",
       "    }\n",
       "\n",
       "    .dataframe thead th {\n",
       "        text-align: right;\n",
       "    }\n",
       "</style>\n",
       "<table border=\"1\" class=\"dataframe\">\n",
       "  <thead>\n",
       "    <tr style=\"text-align: right;\">\n",
       "      <th></th>\n",
       "      <th>sectionId</th>\n",
       "      <th>articleId</th>\n",
       "      <th>officeId</th>\n",
       "      <th>officeName</th>\n",
       "      <th>title</th>\n",
       "      <th>summary</th>\n",
       "    </tr>\n",
       "  </thead>\n",
       "  <tbody>\n",
       "    <tr>\n",
       "      <th>238</th>\n",
       "      <td>105</td>\n",
       "      <td>0001950833</td>\n",
       "      <td>016</td>\n",
       "      <td>헤럴드경제</td>\n",
       "      <td>“짜장면 그릇 회수도 돈 내라” 플라스틱 줄이려다 배달비가 2배?</td>\n",
       "      <td>[헤럴드경제=박지영 기자] “짜장면 그릇 밖에 내놓기만 하면 가져가던 시절이 좋았죠...</td>\n",
       "    </tr>\n",
       "    <tr>\n",
       "      <th>239</th>\n",
       "      <td>105</td>\n",
       "      <td>0004018712</td>\n",
       "      <td>011</td>\n",
       "      <td>서울경제</td>\n",
       "      <td>“한국, R&amp;D 후츠파 정신 부족…연구 포퓰리즘 벗어나 위험 감수해야” [청론직설]</td>\n",
       "      <td>[서울경제] “미국과 이스라엘은 위험을 감수하는 것을 두려워하지 않는 풍토죠. 중국...</td>\n",
       "    </tr>\n",
       "  </tbody>\n",
       "</table>\n",
       "</div>"
      ],
      "text/plain": [
       "    sectionId   articleId officeId officeName  \\\n",
       "238       105  0001950833      016      헤럴드경제   \n",
       "239       105  0004018712      011       서울경제   \n",
       "\n",
       "                                              title  \\\n",
       "238            “짜장면 그릇 회수도 돈 내라” 플라스틱 줄이려다 배달비가 2배?   \n",
       "239  “한국, R&D 후츠파 정신 부족…연구 포퓰리즘 벗어나 위험 감수해야” [청론직설]   \n",
       "\n",
       "                                               summary  \n",
       "238  [헤럴드경제=박지영 기자] “짜장면 그릇 밖에 내놓기만 하면 가져가던 시절이 좋았죠...  \n",
       "239  [서울경제] “미국과 이스라엘은 위험을 감수하는 것을 두려워하지 않는 풍토죠. 중국...  "
      ]
     },
     "execution_count": 11,
     "metadata": {},
     "output_type": "execute_result"
    }
   ],
   "source": [
    "%%time\n",
    "dfs = []\n",
    "for sid1 in range(100, 106):\n",
    "    for page in range(1, 3):\n",
    "        print(sid1, page, end=\" \")\n",
    "        dfs.append(article_list(sid1, page))\n",
    "article_df = pd.concat(dfs, ignore_index=True)\n",
    "article_df.tail(2)"
   ]
  },
  {
   "cell_type": "code",
   "execution_count": 12,
   "id": "c7eeca44",
   "metadata": {},
   "outputs": [],
   "source": [
    "# 5. 상세 페이지 링크 생성\n",
    "# https://news.naver.com/main/read.naver?mode=LSD&mid=shm\n",
    "# &sid1=105&oid=092&aid=0002244690"
   ]
  },
  {
   "cell_type": "code",
   "execution_count": 13,
   "id": "05b3fced",
   "metadata": {},
   "outputs": [
    {
     "name": "stdout",
     "output_type": "stream",
     "text": [
      "https://news.naver.com/main/read.naver?mode=LSD&mid=shm&sid1=105&oid=023&aid=0003672832\n"
     ]
    }
   ],
   "source": [
    "article_df[\"link\"] = \"https://news.naver.com/main/read.naver?mode=LSD&mid=shm\"\n",
    "article_df[\"link\"] += \"&sid1=\" + article_df[\"sectionId\"]\n",
    "article_df[\"link\"] += \"&oid=\" + article_df[\"officeId\"]\n",
    "article_df[\"link\"] += \"&aid=\" + article_df[\"articleId\"]\n",
    "link = article_df.loc[200, \"link\"]\n",
    "print(link)"
   ]
  },
  {
   "cell_type": "code",
   "execution_count": 14,
   "id": "ac2586ef",
   "metadata": {},
   "outputs": [],
   "source": [
    "# 6. request > response : str(html)"
   ]
  },
  {
   "cell_type": "code",
   "execution_count": 15,
   "id": "fdbe93f8",
   "metadata": {},
   "outputs": [
    {
     "data": {
      "text/plain": [
       "<Response [200]>"
      ]
     },
     "execution_count": 15,
     "metadata": {},
     "output_type": "execute_result"
    }
   ],
   "source": [
    "response = requests.get(link, headers=headers)\n",
    "response"
   ]
  },
  {
   "cell_type": "code",
   "execution_count": 16,
   "id": "78fcf6b2",
   "metadata": {},
   "outputs": [],
   "source": [
    "# 7. str(html) > css-selector > text(기사내용) > 기사 리스트 데이터 프레임에 적용"
   ]
  },
  {
   "cell_type": "code",
   "execution_count": 17,
   "id": "d26e06e8",
   "metadata": {},
   "outputs": [
    {
     "data": {
      "text/plain": [
       "'[사이언스카페]동료의 뼈를 살피는 아프리카 코끼리. 해마다 코끼리 5만 마리가 상아 때문에 희생된다./Karl Ammann\\t\\t\\t\\t\\t\\t\\t\\t\\t\\t연쇄 살인범 수사에 결정적인 역할을 했던'"
      ]
     },
     "execution_count": 17,
     "metadata": {},
     "output_type": "execute_result"
    }
   ],
   "source": [
    "dom = BeautifulSoup(response.text, \"html.parser\")\n",
    "content = dom.select_one(\"#articleBodyContents\").text.strip()\n",
    "\n",
    "# 환경에 따라서 아래의 코드를 실행\n",
    "# content = dom.select_one(\"#articleBodyContents\").text.strip().split(\"{}\")[1]\n",
    "\n",
    "content[:100]"
   ]
  },
  {
   "cell_type": "code",
   "execution_count": 18,
   "id": "bcbdd744",
   "metadata": {},
   "outputs": [],
   "source": [
    "def article_content(link):\n",
    "    response = requests.get(link, headers=headers)\n",
    "    dom = BeautifulSoup(response.text, \"html.parser\")\n",
    "    return dom.select_one(\"#articleBodyContents\").text.strip()\n",
    "\n",
    "    # 환경에 따라서 아래의 코드를 실행\n",
    "    # return dom.select_one(\"#articleBodyContents\").text.strip().split(\"{}\")[1]"
   ]
  },
  {
   "cell_type": "code",
   "execution_count": 19,
   "id": "3c7a609a",
   "metadata": {},
   "outputs": [
    {
     "name": "stdout",
     "output_type": "stream",
     "text": [
      "Wall time: 51.3 s\n"
     ]
    }
   ],
   "source": [
    "%%time\n",
    "article_df[\"content\"] = article_df[\"link\"].apply(article_content)"
   ]
  },
  {
   "cell_type": "code",
   "execution_count": 20,
   "id": "89db21a1",
   "metadata": {},
   "outputs": [
    {
     "name": "stdout",
     "output_type": "stream",
     "text": [
      "0 1 2 3 4 5 6 7 8 9 10 11 12 13 14 15 16 17 18 19 20 21 22 23 24 25 26 27 28 29 30 31 32 33 34 35 36 37 38 39 40 41 42 43 44 45 46 47 48 49 50 51 52 53 54 55 56 57 58 59 60 61 62 63 64 65 66 67 68 69 70 71 72 73 74 75 76 77 78 79 80 81 82 83 84 85 86 87 88 89 90 91 92 93 94 95 96 97 98 99 100 101 102 103 104 105 106 107 108 109 110 111 112 113 114 115 116 117 118 119 120 121 122 123 124 125 126 127 128 129 130 131 132 133 134 135 136 137 138 139 140 141 142 143 144 145 146 147 148 149 150 151 152 153 154 155 156 157 158 159 160 161 162 163 164 165 166 167 168 169 170 171 172 173 174 175 176 177 178 179 180 181 182 183 184 185 186 187 188 189 190 191 192 193 194 195 196 197 198 199 200 201 202 203 204 205 206 207 208 209 210 211 212 213 214 215 216 217 218 219 220 221 222 223 224 225 226 227 228 229 230 231 232 233 234 235 236 237 238 239 Wall time: 49.2 s\n"
     ]
    }
   ],
   "source": [
    "%%time\n",
    "article_df[\"content\"] = \"\"\n",
    "for idx, data in article_df.iterrows():\n",
    "    print(idx, end=\" \")\n",
    "    article_df.loc[idx, \"content\"] = article_content(data.link)"
   ]
  },
  {
   "cell_type": "code",
   "execution_count": 21,
   "id": "741b893a",
   "metadata": {},
   "outputs": [],
   "source": [
    "# 모듈로 만들기"
   ]
  },
  {
   "cell_type": "code",
   "execution_count": 22,
   "id": "2613266d",
   "metadata": {},
   "outputs": [
    {
     "name": "stdout",
     "output_type": "stream",
     "text": [
      "Writing naver.py\n"
     ]
    }
   ],
   "source": [
    "%%writefile naver.py\n",
    "import json\n",
    "import requests\n",
    "import pandas as pd\n",
    "from bs4 import BeautifulSoup\n",
    "from datetime import datetime\n",
    "\n",
    "headers = {'user-agent': 'Mozilla/5.0 (Macintosh; Intel Mac OS X 10_15_7) AppleWebKit/537.36 \\\n",
    "(KHTML, like Gecko) Chrome/97.0.4692.71 Safari/537.3'}\n",
    "\n",
    "def article_list(sid1, page):\n",
    "    url = f\"https://news.naver.com/main/mainNews.naver?sid1={sid1}&date=00:00:00&page={page}\"\n",
    "    response = requests.post(url, headers=headers)\n",
    "    datas = response.json()[\"airsResult\"]\n",
    "    datas = json.loads(datas)[\"result\"][str(sid1)]\n",
    "    columns = ['sectionId', 'articleId', 'officeId', 'officeName', 'title', 'summary']\n",
    "    return pd.DataFrame(datas)[columns]\n",
    "\n",
    "def article_content(link):\n",
    "    response = requests.get(link, headers=headers)\n",
    "    dom = BeautifulSoup(response.text, \"html.parser\")\n",
    "    return dom.select_one(\"#articleBodyContents\").text.strip()\n",
    "\n",
    "    # 환경에 따라서 아래의 코드를 실행\n",
    "    # return dom.select_one(\"#articleBodyContents\").text.strip().split(\"{}\")[1]\n",
    "\n",
    "def crawling(start, end, filename=\"naver_article.csv\"):\n",
    "    \n",
    "    print(\"crawling article list ...\")\n",
    "    dfs = []\n",
    "    for sid1 in range(100, 106):\n",
    "        for page in range(start, end + 1):\n",
    "            print(sid1, page, end=\" \")\n",
    "            dfs.append(article_list(sid1, page))\n",
    "    article_df = pd.concat(dfs, ignore_index=True)\n",
    "    \n",
    "    print(\"\\n\\nmaking link ...\")\n",
    "    article_df[\"link\"] = \"https://news.naver.com/main/read.naver?mode=LSD&mid=shm\"\n",
    "    article_df[\"link\"] += \"&sid1=\" + article_df[\"sectionId\"]\n",
    "    article_df[\"link\"] += \"&oid=\" + article_df[\"officeId\"]\n",
    "    article_df[\"link\"] += \"&aid=\" + article_df[\"articleId\"]\n",
    "    \n",
    "    print(\"\\ncrawling content ...\")\n",
    "    article_df[\"content\"] = article_df[\"link\"].apply(article_content)\n",
    "    \n",
    "    article_df.to_csv(filename, index=False)"
   ]
  },
  {
   "cell_type": "code",
   "execution_count": 23,
   "id": "852441ce",
   "metadata": {},
   "outputs": [],
   "source": [
    "# filename = datetime.now().strftime(\"%Y%m%d_%H%M%S\")\n",
    "# crawling(1, 1, f\"{filename}.csv\")"
   ]
  },
  {
   "cell_type": "code",
   "execution_count": 24,
   "id": "0f743bca",
   "metadata": {},
   "outputs": [],
   "source": [
    "import naver\n",
    "from datetime import datetime"
   ]
  },
  {
   "cell_type": "code",
   "execution_count": null,
   "id": "831d7815",
   "metadata": {},
   "outputs": [
    {
     "name": "stdout",
     "output_type": "stream",
     "text": [
      "crawling article list ...\n",
      "100 1 101 1 102 1 103 1 104 1 105 1 \n",
      "\n",
      "making link ...\n",
      "\n",
      "crawling content ...\n"
     ]
    }
   ],
   "source": [
    "filename = datetime.now().strftime(\"%Y%m%d_%H%M%S\")\n",
    "naver.crawling(1, 1, f\"{filename}.csv\")"
   ]
  },
  {
   "cell_type": "code",
   "execution_count": null,
   "id": "9cc0a4c6",
   "metadata": {},
   "outputs": [],
   "source": [
    "%ls"
   ]
  },
  {
   "cell_type": "code",
   "execution_count": null,
   "id": "890f1bb9",
   "metadata": {},
   "outputs": [],
   "source": [
    "df = pd.read_csv(\"20220210_134040.csv\")\n",
    "df.tail(2)"
   ]
  }
 ],
 "metadata": {
  "kernelspec": {
   "display_name": "Python 3 (ipykernel)",
   "language": "python",
   "name": "python3"
  },
  "language_info": {
   "codemirror_mode": {
    "name": "ipython",
    "version": 3
   },
   "file_extension": ".py",
   "mimetype": "text/x-python",
   "name": "python",
   "nbconvert_exporter": "python",
   "pygments_lexer": "ipython3",
   "version": "3.9.7"
  },
  "toc": {
   "base_numbering": 1,
   "nav_menu": {},
   "number_sections": false,
   "sideBar": true,
   "skip_h1_title": false,
   "title_cell": "Table of Contents",
   "title_sidebar": "Contents",
   "toc_cell": false,
   "toc_position": {},
   "toc_section_display": true,
   "toc_window_display": false
  }
 },
 "nbformat": 4,
 "nbformat_minor": 5
}
