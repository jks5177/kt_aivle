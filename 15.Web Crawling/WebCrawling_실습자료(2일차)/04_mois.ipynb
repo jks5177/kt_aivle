{
 "cells": [
  {
   "cell_type": "markdown",
   "id": "4af71b1f",
   "metadata": {
    "id": "4af71b1f"
   },
   "source": [
    "### 행전안전부 보도자료\n",
    "- 뉴스,소식 > 보도자료 데이터 수집\n",
    "- `https://mois.go.kr/`\n",
    "- 정적(static) 웹페이지 데이수집 \n",
    "- post 방식의 데이터 수집\n",
    "- 여러페이지 데이터 수집"
   ]
  },
  {
   "cell_type": "code",
   "execution_count": 1,
   "id": "29d05ce1",
   "metadata": {},
   "outputs": [],
   "source": [
    "import pandas as pd\n",
    "import requests\n",
    "from bs4 import BeautifulSoup"
   ]
  },
  {
   "cell_type": "code",
   "execution_count": 2,
   "id": "092b83e0",
   "metadata": {
    "id": "092b83e0"
   },
   "outputs": [],
   "source": [
    "# 1. 웹서비스 분석 : URL"
   ]
  },
  {
   "cell_type": "code",
   "execution_count": 3,
   "id": "b35629a4",
   "metadata": {
    "id": "b35629a4"
   },
   "outputs": [],
   "source": [
    "page = 5\n",
    "url = \"https://mois.go.kr/frt/bbs/type010/commonSelectBoardList.do?bbsId=BBSMSTR_000000000008\"\n",
    "params = {\n",
    "    \"nttId\": \"0\",\n",
    "    \"bbsTyCode\": \"BBST03\",\n",
    "    \"bbsAttrbCode\": \"BBSA03\",\n",
    "    \"authFlag\": \"Y\",\n",
    "    \"pageIndex\": page,\n",
    "    \"cal_url\": \"/sym/cal/EgovNormalCalPopup.do\",\n",
    "    \"searchCnd\": \"0\",\n",
    "}"
   ]
  },
  {
   "cell_type": "code",
   "execution_count": 4,
   "id": "980cdadb",
   "metadata": {
    "id": "980cdadb"
   },
   "outputs": [],
   "source": [
    "# 2. request > response : str(html)"
   ]
  },
  {
   "cell_type": "code",
   "execution_count": 5,
   "id": "e935025a",
   "metadata": {
    "id": "e935025a",
    "outputId": "0ce93212-449b-423c-eedd-c76079dfdf61"
   },
   "outputs": [
    {
     "data": {
      "text/plain": [
       "<Response [200]>"
      ]
     },
     "execution_count": 5,
     "metadata": {},
     "output_type": "execute_result"
    }
   ],
   "source": [
    "response = requests.post(url, params)\n",
    "response"
   ]
  },
  {
   "cell_type": "code",
   "execution_count": 6,
   "id": "d424f1b1",
   "metadata": {
    "id": "d424f1b1",
    "outputId": "03e92722-1850-4f26-cc3f-018239e3a1a7"
   },
   "outputs": [
    {
     "data": {
      "text/plain": [
       "'<!DOCTYPE html>\\r\\n<html lang=\"ko\">\\r\\n<head>\\r\\n<title>\\r\\n\\r\\n행정안전부&gt;  뉴스·소식&gt; 보도자료&gt; 보도자료</title>\\r\\n<meta http-equiv=\"X-UA-Compatible\" content=\"IE=edge\" />\\r\\n<meta charset=\"utf-8\" />\\r\\n<meta name=\"viewport\" content=\"width=device-width,maximum-scale=1,min'"
      ]
     },
     "execution_count": 6,
     "metadata": {},
     "output_type": "execute_result"
    }
   ],
   "source": [
    "response.text[:250]"
   ]
  },
  {
   "cell_type": "code",
   "execution_count": 7,
   "id": "4333798b",
   "metadata": {
    "id": "4333798b"
   },
   "outputs": [],
   "source": [
    "# 3. bs object > select() : text(str)"
   ]
  },
  {
   "cell_type": "code",
   "execution_count": 8,
   "id": "3392aaf3",
   "metadata": {
    "id": "3392aaf3"
   },
   "outputs": [],
   "source": [
    "dom = BeautifulSoup(response.text, \"html.parser\")"
   ]
  },
  {
   "cell_type": "code",
   "execution_count": 9,
   "id": "3266f983",
   "metadata": {
    "id": "3266f983",
    "outputId": "263236fe-9afe-4c26-c96f-32a277ff4ebb"
   },
   "outputs": [
    {
     "data": {
      "text/plain": [
       "10"
      ]
     },
     "execution_count": 9,
     "metadata": {},
     "output_type": "execute_result"
    }
   ],
   "source": [
    "selector = '#print_area > div.table_wrap.type_01 > form > table > tbody > tr'\n",
    "elements = dom.select(selector)\n",
    "len(elements)"
   ]
  },
  {
   "cell_type": "code",
   "execution_count": 10,
   "id": "a8c1c9b9",
   "metadata": {
    "id": "a8c1c9b9"
   },
   "outputs": [],
   "source": [
    "element = elements[0]"
   ]
  },
  {
   "cell_type": "code",
   "execution_count": 11,
   "id": "966ca7a1",
   "metadata": {
    "id": "966ca7a1",
    "outputId": "2f133c10-2dca-4da3-e1f7-dad9f2f6c344"
   },
   "outputs": [
    {
     "data": {
      "text/plain": [
       "{'no': '12883',\n",
       " 'title': '정부 과천청사관리소, 「상호 존중의 날」 행사 개최',\n",
       " 'link': 'https://mois.go.kr/frt/bbs/type010/commonSelectBoardArticle.do;jsessionid=pixSbNIHZeaj9WBJySm4wuZb.node50?bbsId=BBSMSTR_000000000008&nttId=90097',\n",
       " 'writer': '관리과',\n",
       " 'date': '2022.01.24.',\n",
       " 'pv': '572'}"
      ]
     },
     "execution_count": 11,
     "metadata": {},
     "output_type": "execute_result"
    }
   ],
   "source": [
    "data = {\n",
    "    \"no\": element.select(\"td\")[0].text.strip(),\n",
    "    \"title\": element.select(\"td\")[1].text.strip(),\n",
    "    \"link\": \"https://mois.go.kr\" + element.select(\"td\")[1].select_one(\"a\").get(\"href\"),\n",
    "    \"writer\": element.select(\"td\")[3].text.strip(),\n",
    "    \"date\": element.select(\"td\")[4].text.strip(),\n",
    "    \"pv\": element.select(\"td\")[5].text.strip(),\n",
    "}\n",
    "data"
   ]
  },
  {
   "cell_type": "code",
   "execution_count": 12,
   "id": "86883e8b",
   "metadata": {
    "id": "86883e8b"
   },
   "outputs": [],
   "source": [
    "datas = []\n",
    "for element in elements:\n",
    "    datas.append({\n",
    "        \"no\": element.select(\"td\")[0].text.strip(),\n",
    "        \"title\": element.select(\"td\")[1].text.strip(),\n",
    "        \"link\": \"https://mois.go.kr\" + element.select(\"td\")[1].select_one(\"a\").get(\"href\"),\n",
    "        \"writer\": element.select(\"td\")[3].text.strip(),\n",
    "        \"date\": element.select(\"td\")[4].text.strip(),\n",
    "        \"pv\": element.select(\"td\")[5].text.strip(),\n",
    "    })"
   ]
  },
  {
   "cell_type": "code",
   "execution_count": 13,
   "id": "ec433475",
   "metadata": {
    "id": "ec433475"
   },
   "outputs": [],
   "source": [
    "# 4. DataFrame"
   ]
  },
  {
   "cell_type": "code",
   "execution_count": 14,
   "id": "7c095d69",
   "metadata": {
    "id": "7c095d69",
    "outputId": "df24f249-ce4a-49f8-eff2-8b049268535f"
   },
   "outputs": [
    {
     "data": {
      "text/html": [
       "<div>\n",
       "<style scoped>\n",
       "    .dataframe tbody tr th:only-of-type {\n",
       "        vertical-align: middle;\n",
       "    }\n",
       "\n",
       "    .dataframe tbody tr th {\n",
       "        vertical-align: top;\n",
       "    }\n",
       "\n",
       "    .dataframe thead th {\n",
       "        text-align: right;\n",
       "    }\n",
       "</style>\n",
       "<table border=\"1\" class=\"dataframe\">\n",
       "  <thead>\n",
       "    <tr style=\"text-align: right;\">\n",
       "      <th></th>\n",
       "      <th>no</th>\n",
       "      <th>title</th>\n",
       "      <th>link</th>\n",
       "      <th>writer</th>\n",
       "      <th>date</th>\n",
       "      <th>pv</th>\n",
       "    </tr>\n",
       "  </thead>\n",
       "  <tbody>\n",
       "    <tr>\n",
       "      <th>8</th>\n",
       "      <td>12875</td>\n",
       "      <td>서해 5도 주민, 정주생활지원금 월 12만 원으로 20% 인상</td>\n",
       "      <td>https://mois.go.kr/frt/bbs/type010/commonSelec...</td>\n",
       "      <td>지역균형발전과</td>\n",
       "      <td>2022.01.19.</td>\n",
       "      <td>779</td>\n",
       "    </tr>\n",
       "    <tr>\n",
       "      <th>9</th>\n",
       "      <td>12874</td>\n",
       "      <td>중앙-지자체 주소기반 신사업 개발 위해 머리 맞댄다</td>\n",
       "      <td>https://mois.go.kr/frt/bbs/type010/commonSelec...</td>\n",
       "      <td>주소정책과</td>\n",
       "      <td>2022.01.19.</td>\n",
       "      <td>813</td>\n",
       "    </tr>\n",
       "  </tbody>\n",
       "</table>\n",
       "</div>"
      ],
      "text/plain": [
       "      no                               title  \\\n",
       "8  12875  서해 5도 주민, 정주생활지원금 월 12만 원으로 20% 인상   \n",
       "9  12874        중앙-지자체 주소기반 신사업 개발 위해 머리 맞댄다   \n",
       "\n",
       "                                                link   writer         date  \\\n",
       "8  https://mois.go.kr/frt/bbs/type010/commonSelec...  지역균형발전과  2022.01.19.   \n",
       "9  https://mois.go.kr/frt/bbs/type010/commonSelec...    주소정책과  2022.01.19.   \n",
       "\n",
       "    pv  \n",
       "8  779  \n",
       "9  813  "
      ]
     },
     "execution_count": 14,
     "metadata": {},
     "output_type": "execute_result"
    }
   ],
   "source": [
    "df = pd.DataFrame(datas)\n",
    "df.tail(2)"
   ]
  },
  {
   "cell_type": "code",
   "execution_count": 15,
   "id": "8fc7eccc",
   "metadata": {
    "id": "8fc7eccc"
   },
   "outputs": [],
   "source": [
    "# 5. 함수로 만들어서 1페이지 ~ 3페이지까지 데이터 수집"
   ]
  },
  {
   "cell_type": "code",
   "execution_count": 16,
   "id": "5eb8ba26",
   "metadata": {
    "id": "5eb8ba26"
   },
   "outputs": [],
   "source": [
    "def mois(page):\n",
    "    \n",
    "    url = \"https://mois.go.kr/frt/bbs/type010/commonSelectBoardList.do?bbsId=BBSMSTR_000000000008\"\n",
    "    params = {\n",
    "        \"nttId\": \"0\",\n",
    "        \"bbsTyCode\": \"BBST03\",\n",
    "        \"bbsAttrbCode\": \"BBSA03\",\n",
    "        \"authFlag\": \"Y\",\n",
    "        \"pageIndex\": page,\n",
    "        \"cal_url\": \"/sym/cal/EgovNormalCalPopup.do\",\n",
    "        \"searchCnd\": \"0\",\n",
    "    }\n",
    "    response = requests.post(url, params)\n",
    "    dom = BeautifulSoup(response.text, \"html.parser\")\n",
    "    selector = '#print_area > div.table_wrap.type_01 > form > table > tbody > tr'\n",
    "    elements = dom.select(selector)\n",
    "    \n",
    "    datas = []\n",
    "    for element in elements:\n",
    "        datas.append({\n",
    "            \"no\": element.select(\"td\")[0].text.strip(),\n",
    "            \"title\": element.select(\"td\")[1].text.strip(),\n",
    "            \"link\": \"https://mois.go.kr\" + element.select(\"td\")[1].select_one(\"a\").get(\"href\"),\n",
    "            \"writer\": element.select(\"td\")[3].text.strip(),\n",
    "            \"date\": element.select(\"td\")[4].text.strip(),\n",
    "            \"pv\": element.select(\"td\")[5].text.strip(),\n",
    "        })\n",
    "    return pd.DataFrame(datas)"
   ]
  },
  {
   "cell_type": "code",
   "execution_count": 17,
   "id": "662ca59c",
   "metadata": {
    "id": "662ca59c",
    "outputId": "5a1bd4af-38a0-43a3-f476-606140fc1ca8"
   },
   "outputs": [
    {
     "name": "stdout",
     "output_type": "stream",
     "text": [
      "1 2 3 "
     ]
    }
   ],
   "source": [
    "dfs = []\n",
    "start, end = 1, 3\n",
    "for page in range(start, end + 1):\n",
    "    print(page, end=\" \")\n",
    "    dfs.append(mois(page))"
   ]
  },
  {
   "cell_type": "code",
   "execution_count": 18,
   "id": "0cc38b50",
   "metadata": {
    "id": "0cc38b50",
    "outputId": "e0a1d408-ba66-4879-9e98-8002cd4351f2"
   },
   "outputs": [
    {
     "data": {
      "text/html": [
       "<div>\n",
       "<style scoped>\n",
       "    .dataframe tbody tr th:only-of-type {\n",
       "        vertical-align: middle;\n",
       "    }\n",
       "\n",
       "    .dataframe tbody tr th {\n",
       "        vertical-align: top;\n",
       "    }\n",
       "\n",
       "    .dataframe thead th {\n",
       "        text-align: right;\n",
       "    }\n",
       "</style>\n",
       "<table border=\"1\" class=\"dataframe\">\n",
       "  <thead>\n",
       "    <tr style=\"text-align: right;\">\n",
       "      <th></th>\n",
       "      <th>no</th>\n",
       "      <th>title</th>\n",
       "      <th>link</th>\n",
       "      <th>writer</th>\n",
       "      <th>date</th>\n",
       "      <th>pv</th>\n",
       "    </tr>\n",
       "  </thead>\n",
       "  <tbody>\n",
       "    <tr>\n",
       "      <th>28</th>\n",
       "      <td>12895</td>\n",
       "      <td>정부세종청사 중앙동 미술작품 공모 당선작 선정</td>\n",
       "      <td>https://mois.go.kr/frt/bbs/type010/commonSelec...</td>\n",
       "      <td>청사건축과</td>\n",
       "      <td>2022.01.26.</td>\n",
       "      <td>581</td>\n",
       "    </tr>\n",
       "    <tr>\n",
       "      <th>29</th>\n",
       "      <td>12894</td>\n",
       "      <td>설 명절, 교통사고와 주택화재에 주의하세요!</td>\n",
       "      <td>https://mois.go.kr/frt/bbs/type010/commonSelec...</td>\n",
       "      <td>홍보담당관</td>\n",
       "      <td>2022.01.26.</td>\n",
       "      <td>645</td>\n",
       "    </tr>\n",
       "  </tbody>\n",
       "</table>\n",
       "</div>"
      ],
      "text/plain": [
       "       no                      title  \\\n",
       "28  12895  정부세종청사 중앙동 미술작품 공모 당선작 선정   \n",
       "29  12894   설 명절, 교통사고와 주택화재에 주의하세요!   \n",
       "\n",
       "                                                 link writer         date   pv  \n",
       "28  https://mois.go.kr/frt/bbs/type010/commonSelec...  청사건축과  2022.01.26.  581  \n",
       "29  https://mois.go.kr/frt/bbs/type010/commonSelec...  홍보담당관  2022.01.26.  645  "
      ]
     },
     "execution_count": 18,
     "metadata": {},
     "output_type": "execute_result"
    }
   ],
   "source": [
    "result = pd.concat(dfs, ignore_index=True)\n",
    "result.tail(2)"
   ]
  }
 ],
 "metadata": {
  "colab": {
   "name": "07_mois.ipynb",
   "provenance": []
  },
  "kernelspec": {
   "display_name": "Python 3",
   "language": "python",
   "name": "python3"
  },
  "language_info": {
   "codemirror_mode": {
    "name": "ipython",
    "version": 3
   },
   "file_extension": ".py",
   "mimetype": "text/x-python",
   "name": "python",
   "nbconvert_exporter": "python",
   "pygments_lexer": "ipython3",
   "version": "3.7.6"
  },
  "toc": {
   "base_numbering": 1,
   "nav_menu": {},
   "number_sections": false,
   "sideBar": true,
   "skip_h1_title": false,
   "title_cell": "Table of Contents",
   "title_sidebar": "Contents",
   "toc_cell": false,
   "toc_position": {},
   "toc_section_display": true,
   "toc_window_display": false
  }
 },
 "nbformat": 4,
 "nbformat_minor": 5
}
