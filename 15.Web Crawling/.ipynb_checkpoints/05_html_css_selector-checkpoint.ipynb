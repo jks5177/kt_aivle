{
 "cells": [
  {
   "cell_type": "markdown",
   "id": "8f746d5b",
   "metadata": {},
   "source": [
    "### web\n",
    "- client-server : url\n",
    "- 동적 페이지 : json\n",
    "    - 웹페이지 분석 : url\n",
    "    - request(url) > response(data) : data(json(str))\n",
    "    - data(json(str)) > parsing(response.json()) > list, dict\n",
    "- 정적 페이지 : html\n",
    "    - 웹페이지 분석 : url\n",
    "    - request(url) > response(data) : data(html(str))\n",
    "    - data(html(str)) > parsing(bs(css-selector)) > text"
   ]
  },
  {
   "cell_type": "markdown",
   "id": "fa3555f0",
   "metadata": {},
   "source": [
    "### HTML\n",
    "- 웹피이지에서 레이아웃, 문자열, 속성값 등등을 나타내는 문법 입니다.\n",
    "\n",
    "### HTML의 구성요소\n",
    "- Document : 한페이지 전체의 html code\n",
    "- Element : 하나의 레이아웃을 나타내는 단위\n",
    "- Tag : 레이아웃의 종류를 나타내는 단위, 주로 시작태그와 끝태그가 있다.\n",
    "- Attribute : 속성값, 시작태그에 포함, 태그에서 특정 기능을 하는 값\n",
    "- Text : 시작태그와 끝태그 사이에 있는 문자열"
   ]
  },
  {
   "cell_type": "code",
   "execution_count": null,
   "id": "302f5e85",
   "metadata": {},
   "outputs": [],
   "source": [
    "# html code에서 text를 가져오기위해 에리먼트를 선택해야 합니다.\n",
    "# 엘리먼트를 선택하는 문법이 css-selector\n",
    "# css-select를 사용할 수 있게 해주는 패키지가 bs"
   ]
  },
  {
   "cell_type": "code",
   "execution_count": 2,
   "id": "c8ed6705",
   "metadata": {},
   "outputs": [
    {
     "data": {
      "text/html": [
       "<div>\n",
       "    <button class=\"btn no1\" value=\"1\">click 1</button>\n",
       "    <button class=\"btn no2\" value=\"2\">click 2</button>\n",
       "    <a href=\"https://google.com\" target=\"_blink\">click!!</a>\n",
       "</div>\n"
      ],
      "text/plain": [
       "<IPython.core.display.HTML object>"
      ]
     },
     "metadata": {},
     "output_type": "display_data"
    }
   ],
   "source": [
    "%%html\n",
    "<div>\n",
    "    <button class=\"btn no1\" value=\"1\">click 1</button>\n",
    "    <button class=\"btn no2\" value=\"2\">click 2</button>\n",
    "    <a href=\"https://google.com\" target=\"_blink\">click!!</a>\n",
    "</div>"
   ]
  },
  {
   "cell_type": "code",
   "execution_count": 3,
   "id": "8ed56b83",
   "metadata": {},
   "outputs": [],
   "source": [
    "# p : 한줄의 문자열 출력"
   ]
  },
  {
   "cell_type": "code",
   "execution_count": 4,
   "id": "60ab6417",
   "metadata": {},
   "outputs": [
    {
     "data": {
      "text/html": [
       "<p>kt 1</p>\n",
       "<p>kt 2</p>\n"
      ],
      "text/plain": [
       "<IPython.core.display.HTML object>"
      ]
     },
     "metadata": {},
     "output_type": "display_data"
    }
   ],
   "source": [
    "%%html\n",
    "<p>kt 1</p>\n",
    "<p>kt 2</p>"
   ]
  },
  {
   "cell_type": "code",
   "execution_count": 5,
   "id": "137f874d",
   "metadata": {},
   "outputs": [],
   "source": [
    "# span : 한 블럭의 문자열 출력"
   ]
  },
  {
   "cell_type": "code",
   "execution_count": 6,
   "id": "284f605e",
   "metadata": {},
   "outputs": [
    {
     "data": {
      "text/html": [
       "<span>kt 1</span>\n",
       "<span>kt 2</span>\n"
      ],
      "text/plain": [
       "<IPython.core.display.HTML object>"
      ]
     },
     "metadata": {},
     "output_type": "display_data"
    }
   ],
   "source": [
    "%%html\n",
    "<span>kt 1</span>\n",
    "<span>kt 2</span>"
   ]
  },
  {
   "cell_type": "code",
   "execution_count": 7,
   "id": "4beb9d97",
   "metadata": {},
   "outputs": [],
   "source": [
    "# div : 레이아웃(영역)을 출력"
   ]
  },
  {
   "cell_type": "code",
   "execution_count": 8,
   "id": "e1289d02",
   "metadata": {},
   "outputs": [
    {
     "data": {
      "text/html": [
       "<div>\n",
       "    <p>kt 1</p>\n",
       "    <p>kt 2</p>\n",
       "</div>\n",
       "<div>\n",
       "    <span>kt 3</span>\n",
       "</div>\n"
      ],
      "text/plain": [
       "<IPython.core.display.HTML object>"
      ]
     },
     "metadata": {},
     "output_type": "display_data"
    }
   ],
   "source": [
    "%%html\n",
    "<div>\n",
    "    <p>kt 1</p>\n",
    "    <p>kt 2</p>\n",
    "</div>\n",
    "<div>\n",
    "    <span>kt 3</span>\n",
    "</div>\n"
   ]
  },
  {
   "cell_type": "code",
   "execution_count": 9,
   "id": "dbacc96a",
   "metadata": {},
   "outputs": [],
   "source": [
    "# table : 행과 열로 이루어진 데이터를 출력"
   ]
  },
  {
   "cell_type": "code",
   "execution_count": 12,
   "id": "1a7b5330",
   "metadata": {},
   "outputs": [
    {
     "data": {
      "text/html": [
       "<table>\n",
       "    <caption>table tag</caption>\n",
       "    <thead>\n",
       "        <tr>\n",
       "            <th>column1</th>\n",
       "            <th>column2</th>\n",
       "        </tr>\n",
       "    </thead>\n",
       "    <tbody>\n",
       "        <tr>\n",
       "            <th>kt1</th>\n",
       "            <th>kt2</th>\n",
       "        </tr>\n",
       "        <tr>\n",
       "            <th>kt3</th>\n",
       "            <th>kt4</th>\n",
       "        </tr>\n",
       "    </tbody>\n",
       "</table>\n"
      ],
      "text/plain": [
       "<IPython.core.display.HTML object>"
      ]
     },
     "metadata": {},
     "output_type": "display_data"
    }
   ],
   "source": [
    "%%html\n",
    "<table>\n",
    "    <caption>table tag</caption>\n",
    "    <thead>\n",
    "        <tr>\n",
    "            <th>column1</th>\n",
    "            <th>column2</th>\n",
    "        </tr>\n",
    "    </thead>\n",
    "    <tbody>\n",
    "        <tr>\n",
    "            <th>kt1</th>\n",
    "            <th>kt2</th>\n",
    "        </tr>\n",
    "        <tr>\n",
    "            <th>kt3</th>\n",
    "            <th>kt4</th>\n",
    "        </tr>\n",
    "    </tbody>\n",
    "</table>"
   ]
  },
  {
   "cell_type": "code",
   "execution_count": 13,
   "id": "087a027f",
   "metadata": {},
   "outputs": [],
   "source": [
    "# ul, li : 리스트 문자열을 출력"
   ]
  },
  {
   "cell_type": "code",
   "execution_count": 14,
   "id": "1ae0bb57",
   "metadata": {},
   "outputs": [
    {
     "data": {
      "text/html": [
       "<ul>\n",
       "    <li>kt1</li>\n",
       "    <li>kt2</li>\n",
       "</ul>\n"
      ],
      "text/plain": [
       "<IPython.core.display.HTML object>"
      ]
     },
     "metadata": {},
     "output_type": "display_data"
    }
   ],
   "source": [
    "%%html\n",
    "<ul>\n",
    "    <li>kt1</li>\n",
    "    <li>kt2</li>\n",
    "</ul>"
   ]
  },
  {
   "cell_type": "code",
   "execution_count": 15,
   "id": "6854d423",
   "metadata": {},
   "outputs": [],
   "source": [
    "# a : 링크 출력\n",
    "# target-\"_blink\" : 새로운 탭에서 띄우는 기능"
   ]
  },
  {
   "cell_type": "code",
   "execution_count": 17,
   "id": "8df207dd",
   "metadata": {},
   "outputs": [
    {
     "data": {
      "text/html": [
       "<a href=\"https://naver.com\" target=\"_blink\">move naver</a>\n"
      ],
      "text/plain": [
       "<IPython.core.display.HTML object>"
      ]
     },
     "metadata": {},
     "output_type": "display_data"
    }
   ],
   "source": [
    "%%html\n",
    "<a href=\"https://naver.com\" target=\"_blink\">move naver</a>"
   ]
  },
  {
   "cell_type": "code",
   "execution_count": 18,
   "id": "7c5b0587",
   "metadata": {},
   "outputs": [],
   "source": [
    "# img : 이미지를 출력"
   ]
  },
  {
   "cell_type": "code",
   "execution_count": 20,
   "id": "01830465",
   "metadata": {},
   "outputs": [
    {
     "data": {
      "text/html": [
       "<img src=\"https://cfm.kt.com/images/v2/layout/gnb-ktlogo.png\">\n"
      ],
      "text/plain": [
       "<IPython.core.display.HTML object>"
      ]
     },
     "metadata": {},
     "output_type": "display_data"
    }
   ],
   "source": [
    "%%html\n",
    "<img src=\"https://cfm.kt.com/images/v2/layout/gnb-ktlogo.png\">"
   ]
  },
  {
   "cell_type": "markdown",
   "id": "bc73973e",
   "metadata": {},
   "source": [
    "### css selector\n",
    "- html element를 선택하기 위한 문법\n",
    "\n",
    "#### element를 선택하기 위한 방법들\n",
    "- tag\n",
    "- id\n",
    "- class\n",
    "- attr\n",
    "\n",
    "- id > class > tag > attr 순으로 선택하는 것이 좋음"
   ]
  },
  {
   "cell_type": "code",
   "execution_count": 21,
   "id": "46062834",
   "metadata": {},
   "outputs": [],
   "source": [
    "# tag\n",
    "# css-selector : span : kt3가 선택"
   ]
  },
  {
   "cell_type": "code",
   "execution_count": 22,
   "id": "43d8e64f",
   "metadata": {},
   "outputs": [
    {
     "data": {
      "text/html": [
       "<div>kt1</div>\n",
       "<p>kt2</p>\n",
       "<span>kt3</span>\n"
      ],
      "text/plain": [
       "<IPython.core.display.HTML object>"
      ]
     },
     "metadata": {},
     "output_type": "display_data"
    }
   ],
   "source": [
    "%%html\n",
    "<div>kt1</div>\n",
    "<p>kt2</p>\n",
    "<span>kt3</span>"
   ]
  },
  {
   "cell_type": "code",
   "execution_count": null,
   "id": "9147ec05",
   "metadata": {},
   "outputs": [],
   "source": [
    "# id : 한페이지에 같은 id 값을 사용하지 않습니다.\n",
    "# css-selector : #d2 : kt2 선택"
   ]
  },
  {
   "cell_type": "code",
   "execution_count": 23,
   "id": "06a34772",
   "metadata": {},
   "outputs": [
    {
     "data": {
      "text/html": [
       "<p id=\"d1\">kt1</p>\n",
       "<p id=\"d2\">kt2</p>\n",
       "<p id=\"d3\">kt3</p>\n"
      ],
      "text/plain": [
       "<IPython.core.display.HTML object>"
      ]
     },
     "metadata": {},
     "output_type": "display_data"
    }
   ],
   "source": [
    "%%html\n",
    "<p id=\"d1\">kt1</p>\n",
    "<p id=\"d2\">kt2</p>\n",
    "<p id=\"d3\">kt3</p>"
   ]
  },
  {
   "cell_type": "code",
   "execution_count": 24,
   "id": "ebb88020",
   "metadata": {},
   "outputs": [],
   "source": [
    "# class\n",
    "# 하나의 태그에 여러개의 값을 사용할 수 있다.\n",
    "# 한 페이지에서 동일값을 여러번 사용할 수 있다.\n",
    "# css-selecter : .txt : kt1, kt3 선택"
   ]
  },
  {
   "cell_type": "code",
   "execution_count": 27,
   "id": "8769e53b",
   "metadata": {},
   "outputs": [
    {
     "data": {
      "text/html": [
       "<p class=\"txt d1\">kt1</p>\n",
       "<p class=\"d2\">kt2</p>\n",
       "<p class=\"txt d3\">kt3</p>\n"
      ],
      "text/plain": [
       "<IPython.core.display.HTML object>"
      ]
     },
     "metadata": {},
     "output_type": "display_data"
    }
   ],
   "source": [
    "%%html\n",
    "<p class=\"txt d1\">kt1</p>\n",
    "<p class=\"d2\">kt2</p>\n",
    "<p class=\"txt d3\">kt3</p>"
   ]
  },
  {
   "cell_type": "code",
   "execution_count": null,
   "id": "9bb193ad",
   "metadata": {},
   "outputs": [],
   "source": [
    "# attr\n",
    "# css-selecter : [value=\"no2\"] : kt2"
   ]
  },
  {
   "cell_type": "code",
   "execution_count": 28,
   "id": "9b5e8aaa",
   "metadata": {},
   "outputs": [
    {
     "data": {
      "text/html": [
       "<p value=\"no1\">kt1</p>\n",
       "<p value=\"no2\">kt2</p>\n",
       "<p value=\"no3\">kt3</p>\n"
      ],
      "text/plain": [
       "<IPython.core.display.HTML object>"
      ]
     },
     "metadata": {},
     "output_type": "display_data"
    }
   ],
   "source": [
    "%%html\n",
    "<p value=\"no1\">kt1</p>\n",
    "<p value=\"no2\">kt2</p>\n",
    "<p value=\"no3\">kt3</p>"
   ]
  },
  {
   "cell_type": "code",
   "execution_count": 29,
   "id": "96c1264a",
   "metadata": {},
   "outputs": [],
   "source": [
    "# 계층적으로 엘리먼트 선택\n",
    "# css-selecter : p : kt1 kt2\n",
    "\n",
    "# > : 한 단계 하위 엘리먼트 선택\n",
    "# css-selecter : .wrap > p : kt1\n",
    "# css-selecter : .wrap > div > p : kt2\n",
    "\n",
    "# 공백 : 하위 엘리먼트 모두 선택\n",
    "# css-selecter : .wrap p : kt1 kt2\n",
    "\n",
    "# span 태그 이면서 no1 클래스를 가진 엘리먼트 선택\n",
    "# css-selecter : span.no1 : kt3"
   ]
  },
  {
   "cell_type": "code",
   "execution_count": 30,
   "id": "ad79ab02",
   "metadata": {},
   "outputs": [
    {
     "data": {
      "text/html": [
       "<div>\n",
       "    <p>kt1</p>\n",
       "    <div>\n",
       "        <p>kt2</p>\n",
       "    </div>\n",
       "</div>\n"
      ],
      "text/plain": [
       "<IPython.core.display.HTML object>"
      ]
     },
     "metadata": {},
     "output_type": "display_data"
    }
   ],
   "source": [
    "%%html\n",
    "<div class='wrap'>\n",
    "    <p class=\"no1\">kt1</p>\n",
    "    <div>\n",
    "        <p class=\"no1\">kt2</p>\n",
    "        <span class=\"no1\">kt3</span>\n",
    "    </div>\n",
    "</div>"
   ]
  },
  {
   "cell_type": "code",
   "execution_count": 31,
   "id": "0d16c676",
   "metadata": {},
   "outputs": [],
   "source": [
    "# nth-child(n) : n번째 엘리먼트 선택\n",
    "# css-selecter : .wrap > p:nth-child(2) : kt2\n",
    "# css-selecter : .wrap > p:nth-child(2), .wrap > p:nth-child(3) : kt2 kt3"
   ]
  },
  {
   "cell_type": "code",
   "execution_count": 32,
   "id": "758cf329",
   "metadata": {},
   "outputs": [
    {
     "data": {
      "text/html": [
       "<div class=\"wrap\">\n",
       "    <p>kt1</p>\n",
       "    <p>kt2</p>\n",
       "    <p>kt3</p>\n",
       "</div>\n"
      ],
      "text/plain": [
       "<IPython.core.display.HTML object>"
      ]
     },
     "metadata": {},
     "output_type": "display_data"
    }
   ],
   "source": [
    "%%html\n",
    "<div class=\"wrap\">\n",
    "    <p>kt1</p>\n",
    "    <p>kt2</p>\n",
    "    <p>kt3</p>\n",
    "</div>"
   ]
  },
  {
   "cell_type": "code",
   "execution_count": 33,
   "id": "58991d49",
   "metadata": {},
   "outputs": [],
   "source": [
    "# css-selecter : .wrap > p:nth-child(2) : kt1"
   ]
  },
  {
   "cell_type": "code",
   "execution_count": 34,
   "id": "ad835bca",
   "metadata": {},
   "outputs": [
    {
     "data": {
      "text/html": [
       "<div class=\"wrap\">\n",
       "    <span>kt0</span>\n",
       "    <p>kt1</p>\n",
       "    <p>kt2</p>\n",
       "    <p>kt3</p>\n",
       "</div>\n"
      ],
      "text/plain": [
       "<IPython.core.display.HTML object>"
      ]
     },
     "metadata": {},
     "output_type": "display_data"
    }
   ],
   "source": [
    "%%html\n",
    "<div class=\"wrap\">\n",
    "    <span>kt0</span>\n",
    "    <p>kt1</p>\n",
    "    <p>kt2</p>\n",
    "    <p>kt3</p>\n",
    "</div>"
   ]
  }
 ],
 "metadata": {
  "kernelspec": {
   "display_name": "Python 3",
   "language": "python",
   "name": "python3"
  },
  "language_info": {
   "codemirror_mode": {
    "name": "ipython",
    "version": 3
   },
   "file_extension": ".py",
   "mimetype": "text/x-python",
   "name": "python",
   "nbconvert_exporter": "python",
   "pygments_lexer": "ipython3",
   "version": "3.8.8"
  }
 },
 "nbformat": 4,
 "nbformat_minor": 5
}
