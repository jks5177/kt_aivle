{
 "cells": [
  {
   "cell_type": "markdown",
   "metadata": {},
   "source": [
    "# Chapter 3.\n",
    "# Unit 1. 재귀 알고리즘"
   ]
  },
  {
   "cell_type": "code",
   "execution_count": 1,
   "metadata": {},
   "outputs": [],
   "source": [
    "# 양의 정수 n의 팩토리얼 구하기\n",
    "\n",
    "def factorial(n):\n",
    "    if n > 0:\n",
    "        return n * factorial(n-1)\n",
    "    else:\n",
    "        return 1"
   ]
  },
  {
   "cell_type": "code",
   "execution_count": 2,
   "metadata": {},
   "outputs": [
    {
     "name": "stdout",
     "output_type": "stream",
     "text": [
      "출력할 팩토리얼 값을 입력하세요.: 3\n",
      "3의 팩토리얼은 6입니다.\n"
     ]
    }
   ],
   "source": [
    "n = int(input('출력할 팩토리얼 값을 입력하세요.: '))\n",
    "print(f'{n}의 팩토리얼은 {factorial(n)}입니다.')"
   ]
  },
  {
   "cell_type": "markdown",
   "metadata": {},
   "source": [
    "### 미니 실습 1)\n",
    "\n",
    "### Q) 양의 정수 n의 팩토리얼 구하기를 재귀 알고리즘을 사용하지 말고 구하시오"
   ]
  },
  {
   "cell_type": "code",
   "execution_count": 2,
   "metadata": {},
   "outputs": [
    {
     "name": "stdout",
     "output_type": "stream",
     "text": [
      "6\n"
     ]
    }
   ],
   "source": [
    "def factori(n) :\n",
    "    fact = 1\n",
    "    for i in range(n, 0, -1) :\n",
    "        fact *= i\n",
    "    return fact\n",
    "\n",
    "print(factori(3))"
   ]
  },
  {
   "cell_type": "markdown",
   "metadata": {},
   "source": [
    "### 미니 실습 2)\n",
    "\n",
    "### Q) 두 정수의 최대 공약수 구하기를 재귀 알고리즘을 사용하지 말고 구현하시오."
   ]
  },
  {
   "cell_type": "code",
   "execution_count": 4,
   "metadata": {},
   "outputs": [
    {
     "name": "stdout",
     "output_type": "stream",
     "text": [
      "2\n"
     ]
    }
   ],
   "source": [
    "def gcd_2(num1, num2) :\n",
    "    while num2 != 0 :\n",
    "        num1, num2 = num2, num1%num2\n",
    "    return num1\n",
    "\n",
    "print(gcd_2(22, 8))"
   ]
  },
  {
   "cell_type": "markdown",
   "metadata": {},
   "source": [
    "## 정렬"
   ]
  },
  {
   "cell_type": "code",
   "execution_count": 14,
   "metadata": {},
   "outputs": [],
   "source": [
    "# 버블 정렬 알고리즘 구현\n",
    "\n",
    "def bubble_sort(a):\n",
    "    n = len(a)\n",
    "    for i in range(n-1):\n",
    "        for j in range(n-1,i,-1):\n",
    "            if a[j-1] > a[j]:\n",
    "                a[j-1], a[j] = a[j], a[j-1]"
   ]
  },
  {
   "cell_type": "code",
   "execution_count": 15,
   "metadata": {},
   "outputs": [
    {
     "name": "stdout",
     "output_type": "stream",
     "text": [
      "버블 정렬을 수행합니다.\n",
      "원소 수를 입력하세요.: 7\n",
      "x[0]값을 입력하세요.: 6\n",
      "x[1]값을 입력하세요.: 4\n",
      "x[2]값을 입력하세요.: 3\n",
      "x[3]값을 입력하세요.: 7\n",
      "x[4]값을 입력하세요.: 1\n",
      "x[5]값을 입력하세요.: 9\n",
      "x[6]값을 입력하세요.: 8\n",
      "오름차순으로 정렬했습니다.\n",
      "[1, 3, 4, 6, 7, 8, 9]\n"
     ]
    }
   ],
   "source": [
    "print('버블 정렬을 수행합니다.')\n",
    "num = int(input('원소 수를 입력하세요.: '))\n",
    "x = [None] * num # 원소 수가 num인 리스트를 생성\n",
    "\n",
    "for i in range(num):\n",
    "    x[i] = int(input(f'x[{i}]값을 입력하세요.: '))\n",
    "\n",
    "bubble_sort(x)\n",
    "\n",
    "print('오름차순으로 정렬했습니다.')\n",
    "print(x)"
   ]
  },
  {
   "cell_type": "code",
   "execution_count": 21,
   "metadata": {},
   "outputs": [],
   "source": [
    "# 버블 정렬 과정 출력 (교환하는 경우 +, 교환하지 않는 경우 -)\n",
    "\n",
    "def bubble_sort_trace(a):\n",
    "    ccnt = 0 # 비교 횟수\n",
    "    scnt = 0 # 교환 횟수\n",
    "    n = len(a)\n",
    "    for i in range(n-1):\n",
    "        print(f'패스 {i+1}') # 패스 번호 출력\n",
    "        for j in range(n-1,i,-1):\n",
    "            for m in range(0, n-1): # 원소값과 교환 여부 출력\n",
    "                print(f'{a[m]:2}' + (' ' if m != j - 1 else\n",
    "                                     ' +' if a[j-1] > a[j] else ' -'),\n",
    "                                     end='')\n",
    "            print(f'{a[n-1]:2}')\n",
    "                \n",
    "            ccnt += 1\n",
    "            if a[j-1] > a[j]:\n",
    "                scnt += 1\n",
    "                a[j-1], a[j] = a[j], a[j-1]\n",
    "        \n",
    "        for m in range(0, n-1):\n",
    "            print(f'{a[m]:2}', end=' ')\n",
    "        print(f'{a[n-1]:2}')\n",
    "        \n",
    "    print(f'비교를 {ccnt}번 했습니다')\n",
    "    print(f'교환을 {scnt}번 했습니다')"
   ]
  },
  {
   "cell_type": "code",
   "execution_count": 22,
   "metadata": {},
   "outputs": [
    {
     "name": "stdout",
     "output_type": "stream",
     "text": [
      "버블 정렬을 수행합니다.\n",
      "원소 수를 입력하세요.: 7\n",
      "x[0]값을 입력하세요.: 6\n",
      "x[1]값을 입력하세요.: 4\n",
      "x[2]값을 입력하세요.: 3\n",
      "x[3]값을 입력하세요.: 7\n",
      "x[4]값을 입력하세요.: 1\n",
      "x[5]값을 입력하세요.: 9\n",
      "x[6]값을 입력하세요.: 8\n",
      "패스 1\n",
      " 6  4  3  7  1  9 + 8\n",
      " 6  4  3  7  1 - 8  9\n",
      " 6  4  3  7 + 1  8  9\n",
      " 6  4  3 + 1  7  8  9\n",
      " 6  4 + 1  3  7  8  9\n",
      " 6 + 1  4  3  7  8  9\n",
      " 1  6  4  3  7  8  9\n",
      "패스 2\n",
      " 1  6  4  3  7  8 - 9\n",
      " 1  6  4  3  7 - 8  9\n",
      " 1  6  4  3 - 7  8  9\n",
      " 1  6  4 + 3  7  8  9\n",
      " 1  6 + 3  4  7  8  9\n",
      " 1  3  6  4  7  8  9\n",
      "패스 3\n",
      " 1  3  6  4  7  8 - 9\n",
      " 1  3  6  4  7 - 8  9\n",
      " 1  3  6  4 - 7  8  9\n",
      " 1  3  6 + 4  7  8  9\n",
      " 1  3  4  6  7  8  9\n",
      "패스 4\n",
      " 1  3  4  6  7  8 - 9\n",
      " 1  3  4  6  7 - 8  9\n",
      " 1  3  4  6 - 7  8  9\n",
      " 1  3  4  6  7  8  9\n",
      "패스 5\n",
      " 1  3  4  6  7  8 - 9\n",
      " 1  3  4  6  7 - 8  9\n",
      " 1  3  4  6  7  8  9\n",
      "패스 6\n",
      " 1  3  4  6  7  8 - 9\n",
      " 1  3  4  6  7  8  9\n",
      "비교를 21번 했습니다\n",
      "교환을 8번 했습니다\n",
      "오름차순으로 정렬했습니다.\n",
      "[1, 3, 4, 6, 7, 8, 9]\n"
     ]
    }
   ],
   "source": [
    "print('버블 정렬을 수행합니다.')\n",
    "num = int(input('원소 수를 입력하세요.: '))\n",
    "x = [None] * num # 원소 수가 num인 리스트를 생성\n",
    "\n",
    "for i in range(num):\n",
    "    x[i] = int(input(f'x[{i}]값을 입력하세요.: '))\n",
    "\n",
    "bubble_sort_trace(x)\n",
    "\n",
    "print('오름차순으로 정렬했습니다.')\n",
    "print(x)"
   ]
  },
  {
   "cell_type": "code",
   "execution_count": 1,
   "metadata": {},
   "outputs": [],
   "source": [
    "# 버블 정렬 개선 1\n",
    "\n",
    "def bubble_sort(a):\n",
    "    n = len(a)\n",
    "    for i in range(n-1):\n",
    "        exchange = 0\n",
    "        for j in range(n-1,i,-1):\n",
    "            if a[j-1] > a[j]:\n",
    "                a[j-1], a[j] = a[j], a[j-1]\n",
    "                exchange += 1\n",
    "        if exchange ==0 :\n",
    "            break"
   ]
  },
  {
   "cell_type": "code",
   "execution_count": null,
   "metadata": {},
   "outputs": [],
   "source": [
    "# 버블 정렬 개선 2\n",
    "\n",
    "def bubble_sort(a):\n",
    "    n = len(a)\n",
    "    k = 0\n",
    "    while k < n - 1:\n",
    "        last = n - 1\n",
    "        for j in range(n-1, k, -1):\n",
    "            if a[j-1] > a[j]:\n",
    "                a[j-1], a[j] = a[j], a[j-1]\n",
    "                last = j\n",
    "        k = last"
   ]
  },
  {
   "cell_type": "code",
   "execution_count": null,
   "metadata": {},
   "outputs": [],
   "source": [
    "# 단순 선택 정렬 pseudo code\n",
    "\n",
    "for i in range(n-1):\n",
    "    min    # 값이 가장 작은 원소의 인덱스\n",
    "    a[i]와 a[min]의 값을 교환"
   ]
  },
  {
   "cell_type": "code",
   "execution_count": 35,
   "metadata": {},
   "outputs": [],
   "source": [
    "# 단순 선택 정렬\n",
    "\n",
    "def selection_sort(a):\n",
    "    n = len(a)\n",
    "    for i in range(n - 1):\n",
    "        min = i\n",
    "        for j in range(i + 1, n):\n",
    "            if a[j] < a[min]:\n",
    "                min = j\n",
    "        a[i], a[min] = a[min], a[i]"
   ]
  },
  {
   "cell_type": "code",
   "execution_count": 36,
   "metadata": {},
   "outputs": [
    {
     "name": "stdout",
     "output_type": "stream",
     "text": [
      "단순 선택 정렬을 수행합니다.\n",
      "원소 수를 입력하세요.: 7\n",
      "x[0]값을 입력하세요.: 6\n",
      "x[1]값을 입력하세요.: 4\n",
      "x[2]값을 입력하세요.: 8\n",
      "x[3]값을 입력하세요.: 3\n",
      "x[4]값을 입력하세요.: 1\n",
      "x[5]값을 입력하세요.: 9\n",
      "x[6]값을 입력하세요.: 7\n",
      "오름차순으로 정렬했습니다.\n",
      "[1, 3, 4, 6, 7, 8, 9]\n"
     ]
    }
   ],
   "source": [
    "print('단순 선택 정렬을 수행합니다.')\n",
    "num = int(input('원소 수를 입력하세요.: '))\n",
    "x = [None] * num # 원소 수가 num인 리스트를 생성\n",
    "\n",
    "for i in range(num):\n",
    "    x[i] = int(input(f'x[{i}]값을 입력하세요.: '))\n",
    "\n",
    "selection_sort(x)\n",
    "\n",
    "print('오름차순으로 정렬했습니다.')\n",
    "print(x)"
   ]
  },
  {
   "cell_type": "code",
   "execution_count": null,
   "metadata": {},
   "outputs": [],
   "source": [
    "# 단순 삽입 정렬 pseudo code\n",
    "\n",
    "for i in range(1, n):\n",
    "    tmp <- a[i]를 넣습니다.\n",
    "    tmp를 a[0], ... , a[i-1] 의 알맞은 위치에 삽입"
   ]
  },
  {
   "cell_type": "code",
   "execution_count": null,
   "metadata": {},
   "outputs": [],
   "source": [
    "# 단순 삽입 정렬 알고리즘 pseudo code\n",
    "\n",
    "for i in range(1, n):\n",
    "    j = i\n",
    "    tmp = a[i]\n",
    "    while j > 0 and a[j-1] > tmp:\n",
    "        a[j] = a[j-1]\n",
    "        j -= 1\n",
    "    a[j] = tmp"
   ]
  },
  {
   "cell_type": "code",
   "execution_count": 2,
   "metadata": {},
   "outputs": [],
   "source": [
    "# 단순 삽입 정렬\n",
    "\n",
    "def insertion_sort(a):\n",
    "    n = len(a)\n",
    "    for i in range(1, n):\n",
    "        j = i\n",
    "        tmp = a[i]\n",
    "        while j > 0 and a[j-1] > tmp:\n",
    "            a[j] = a[j-1]\n",
    "            j -= 1\n",
    "        a[j] = tmp"
   ]
  },
  {
   "cell_type": "code",
   "execution_count": 3,
   "metadata": {},
   "outputs": [
    {
     "name": "stdout",
     "output_type": "stream",
     "text": [
      "단순 선택 정렬을 수행합니다.\n",
      "원소 수를 입력하세요.: 7\n",
      "x[0]값을 입력하세요.: 6\n",
      "x[1]값을 입력하세요.: 4\n",
      "x[2]값을 입력하세요.: 3\n",
      "x[3]값을 입력하세요.: 7\n",
      "x[4]값을 입력하세요.: 1\n",
      "x[5]값을 입력하세요.: 9\n",
      "x[6]값을 입력하세요.: 8\n",
      "오름차순으로 정렬했습니다.\n",
      "[1, 3, 4, 6, 7, 8, 9]\n"
     ]
    }
   ],
   "source": [
    "print('단순 삽입 정렬을 수행합니다.')\n",
    "num = int(input('원소 수를 입력하세요.: '))\n",
    "x = [None] * num # 원소 수가 num인 리스트를 생성\n",
    "\n",
    "for i in range(num):\n",
    "    x[i] = int(input(f'x[{i}]값을 입력하세요.: '))\n",
    "\n",
    "insertion_sort(x)\n",
    "\n",
    "print('오름차순으로 정렬했습니다.')\n",
    "print(x)"
   ]
  },
  {
   "cell_type": "markdown",
   "metadata": {},
   "source": [
    "## 실습 1"
   ]
  },
  {
   "cell_type": "markdown",
   "metadata": {},
   "source": [
    "### Q) 버블 정렬 개선 1 알고리즘도 과정을 출력하게 하라."
   ]
  },
  {
   "cell_type": "code",
   "execution_count": 32,
   "metadata": {},
   "outputs": [],
   "source": [
    "# 버블 정렬 개선 1\n",
    "\n",
    "def bubble_sort1(a):\n",
    "    n = len(a)\n",
    "    ccnt = 0\n",
    "    scnt = 0\n",
    "    for i in range(n-1):\n",
    "        exchange = 0\n",
    "        \n",
    "        print(f'패스 {i+1}') # 패스 번호 출력\n",
    "        \n",
    "        for j in range(n-1,i,-1):\n",
    "            \n",
    "            for m in range(0, n-1): # 원소값과 교환 여부 출력\n",
    "                print(f'{a[m]:2}' + (' ' if m != j - 1 else\n",
    "                                     ' +' if a[j-1] > a[j] else ' -'),\n",
    "                                     end='')\n",
    "            print(f'{a[n-1]:2}')\n",
    "            \n",
    "            ccnt += 1\n",
    "            if a[j-1] > a[j]:\n",
    "                scnt += 1\n",
    "                a[j-1], a[j] = a[j], a[j-1]\n",
    "                exchange += 1\n",
    "        if exchange ==0 :\n",
    "            break\n",
    "    print(f'비교를 {ccnt}번 했습니다')\n",
    "    print(f'교환을 {scnt}번 했습니다')"
   ]
  },
  {
   "cell_type": "code",
   "execution_count": 8,
   "metadata": {},
   "outputs": [
    {
     "name": "stdout",
     "output_type": "stream",
     "text": [
      "버블 정렬을 수행합니다.\n",
      "원소 수를 입력하세요.: 7\n",
      "x[0]값을 입력하세요.: 6\n",
      "x[1]값을 입력하세요.: 4\n",
      "x[2]값을 입력하세요.: 8\n",
      "x[3]값을 입력하세요.: 3\n",
      "x[4]값을 입력하세요.: 1\n",
      "x[5]값을 입력하세요.: 9\n",
      "x[6]값을 입력하세요.: 7\n",
      "패스 1\n",
      " 6  4  8  3  1  9 + 7\n",
      " 6  4  8  3  1 - 7  9\n",
      " 6  4  8  3 + 1  7  9\n",
      " 6  4  8 + 1  3  7  9\n",
      " 6  4 + 1  8  3  7  9\n",
      " 6 + 1  4  8  3  7  9\n",
      "패스 2\n",
      " 1  6  4  8  3  7 - 9\n",
      " 1  6  4  8  3 - 7  9\n",
      " 1  6  4  8 + 3  7  9\n",
      " 1  6  4 + 3  8  7  9\n",
      " 1  6 + 3  4  8  7  9\n",
      "패스 3\n",
      " 1  3  6  4  8  7 - 9\n",
      " 1  3  6  4  8 + 7  9\n",
      " 1  3  6  4 - 7  8  9\n",
      " 1  3  6 + 4  7  8  9\n",
      "패스 4\n",
      " 1  3  4  6  7  8 - 9\n",
      " 1  3  4  6  7 - 8  9\n",
      " 1  3  4  6 - 7  8  9\n",
      "오름차순으로 정렬했습니다.\n",
      "[1, 3, 4, 6, 7, 8, 9]\n"
     ]
    }
   ],
   "source": [
    "print('버블 정렬을 수행합니다.')\n",
    "num = int(input('원소 수를 입력하세요.: '))\n",
    "x = [None] * num # 원소 수가 num인 리스트를 생성\n",
    "\n",
    "for i in range(num):\n",
    "    x[i] = int(input(f'x[{i}]값을 입력하세요.: '))\n",
    "\n",
    "bubble_sort(x)\n",
    "\n",
    "print('오름차순으로 정렬했습니다.')\n",
    "print(x)"
   ]
  },
  {
   "cell_type": "markdown",
   "metadata": {},
   "source": [
    "## 실습 2"
   ]
  },
  {
   "cell_type": "markdown",
   "metadata": {},
   "source": [
    "### Q) 버블 정렬 개선 2 알고리즘도 과정을 출력하게 하라."
   ]
  },
  {
   "cell_type": "code",
   "execution_count": 33,
   "metadata": {},
   "outputs": [],
   "source": [
    "# 버블 정렬 개선 2\n",
    "\n",
    "def bubble_sort2(a):\n",
    "    ccnt = 0\n",
    "    scnt = 0\n",
    "    n = len(a)\n",
    "    k = 0\n",
    "    while k < n - 1:\n",
    "        last = n - 1\n",
    "        \n",
    "        print(f'패스 {k+1}') # 패스 번호 출력\n",
    "        \n",
    "        for j in range(n-1, k, -1):\n",
    "            \n",
    "            for m in range(0, n-1): # 원소값과 교환 여부 출력\n",
    "                print(f'{a[m]:2}' + (' ' if m != j - 1 else\n",
    "                                     ' +' if a[j-1] > a[j] else ' -'),\n",
    "                                     end='')\n",
    "            print(f'{a[n-1]:2}')\n",
    "            \n",
    "            ccnt += 1\n",
    "            if a[j-1] > a[j]:\n",
    "                scnt += 1\n",
    "                a[j-1], a[j] = a[j], a[j-1]\n",
    "                last = j\n",
    "        k = last\n",
    "        \n",
    "    print(f'비교를 {ccnt}번 했습니다')\n",
    "    print(f'교환을 {scnt}번 했습니다')"
   ]
  },
  {
   "cell_type": "code",
   "execution_count": 18,
   "metadata": {},
   "outputs": [
    {
     "name": "stdout",
     "output_type": "stream",
     "text": [
      "버블 정렬을 수행합니다.\n",
      "원소 수를 입력하세요.: 7\n",
      "x[0]값을 입력하세요.: 6\n",
      "x[1]값을 입력하세요.: 4\n",
      "x[2]값을 입력하세요.: 8\n",
      "x[3]값을 입력하세요.: 3\n",
      "x[4]값을 입력하세요.: 1\n",
      "x[5]값을 입력하세요.: 9\n",
      "x[6]값을 입력하세요.: 7\n",
      "패스 1\n",
      " 6  4  8  3  1  9 + 7\n",
      " 6  4  8  3  1 - 7  9\n",
      " 6  4  8  3 + 1  7  9\n",
      " 6  4  8 + 1  3  7  9\n",
      " 6  4 + 1  8  3  7  9\n",
      " 6 + 1  4  8  3  7  9\n",
      "패스 2\n",
      " 1  6  4  8  3  7 - 9\n",
      " 1  6  4  8  3 - 7  9\n",
      " 1  6  4  8 + 3  7  9\n",
      " 1  6  4 + 3  8  7  9\n",
      " 1  6 + 3  4  8  7  9\n",
      "패스 3\n",
      " 1  3  6  4  8  7 - 9\n",
      " 1  3  6  4  8 + 7  9\n",
      " 1  3  6  4 - 7  8  9\n",
      " 1  3  6 + 4  7  8  9\n",
      "패스 4\n",
      " 1  3  4  6  7  8 - 9\n",
      " 1  3  4  6  7 - 8  9\n",
      " 1  3  4  6 - 7  8  9\n",
      "비교를 18번 했습니다\n",
      "교환을 10번 했습니다\n",
      "오름차순으로 정렬했습니다.\n",
      "[1, 3, 4, 6, 7, 8, 9]\n"
     ]
    }
   ],
   "source": [
    "print('버블 정렬을 수행합니다.')\n",
    "num = int(input('원소 수를 입력하세요.: '))\n",
    "x = [None] * num # 원소 수가 num인 리스트를 생성\n",
    "\n",
    "for i in range(num):\n",
    "    x[i] = int(input(f'x[{i}]값을 입력하세요.: '))\n",
    "\n",
    "bubble_sort(x)\n",
    "\n",
    "print('오름차순으로 정렬했습니다.')\n",
    "print(x)"
   ]
  },
  {
   "cell_type": "markdown",
   "metadata": {},
   "source": [
    "## 실습 3"
   ]
  },
  {
   "cell_type": "markdown",
   "metadata": {},
   "source": [
    "### Q) 과정이 출력되는 버블 정렬, 버블 정렬 개선1, 버블 정렬 개선 2에 아래 리스트를 입력하였을 때 각각의 비교, 교환횟수를 비교하라. 어느 경우가 가장 적게 비교와 교환이 일어나는가?\n",
    "\n",
    "    [1, 3, 9, 4, 7, 8, 6]"
   ]
  },
  {
   "cell_type": "code",
   "execution_count": 34,
   "metadata": {},
   "outputs": [
    {
     "name": "stdout",
     "output_type": "stream",
     "text": [
      "패스 1\n",
      " 1  3  9  4  7  8 + 6\n",
      " 1  3  9  4  7 + 6  8\n",
      " 1  3  9  4 - 6  7  8\n",
      " 1  3  9 + 4  6  7  8\n",
      " 1  3 - 4  9  6  7  8\n",
      " 1 - 3  4  9  6  7  8\n",
      "패스 2\n",
      " 1  3  4  9  6  7 - 8\n",
      " 1  3  4  9  6 - 7  8\n",
      " 1  3  4  9 + 6  7  8\n",
      " 1  3  4 - 6  9  7  8\n",
      " 1  3 - 4  6  9  7  8\n",
      "패스 3\n",
      " 1  3  4  6  9  7 - 8\n",
      " 1  3  4  6  9 + 7  8\n",
      " 1  3  4  6 - 7  9  8\n",
      " 1  3  4 - 6  7  9  8\n",
      "패스 4\n",
      " 1  3  4  6  7  9 + 8\n",
      " 1  3  4  6  7 - 8  9\n",
      " 1  3  4  6 - 7  8  9\n",
      "패스 5\n",
      " 1  3  4  6  7  8 - 9\n",
      " 1  3  4  6  7 - 8  9\n",
      "비교를 20번 했습니다\n",
      "교환을 6번 했습니다\n",
      "패스 1\n",
      " 1  3  9  4  7  8 + 6\n",
      " 1  3  9  4  7 + 6  8\n",
      " 1  3  9  4 - 6  7  8\n",
      " 1  3  9 + 4  6  7  8\n",
      " 1  3 - 4  9  6  7  8\n",
      " 1 - 3  4  9  6  7  8\n",
      "패스 4\n",
      " 1  3  4  9  6  7 - 8\n",
      " 1  3  4  9  6 - 7  8\n",
      " 1  3  4  9 + 6  7  8\n",
      "패스 5\n",
      " 1  3  4  6  9  7 - 8\n",
      " 1  3  4  6  9 + 7  8\n",
      "패스 6\n",
      " 1  3  4  6  7  9 + 8\n",
      "비교를 12번 했습니다\n",
      "교환을 6번 했습니다\n"
     ]
    }
   ],
   "source": [
    "a = [1, 3, 9, 4, 7, 8, 6]\n",
    "bubble_sort1(a)\n",
    "\n",
    "a = [1, 3, 9, 4, 7, 8, 6]\n",
    "bubble_sort2(a)"
   ]
  },
  {
   "cell_type": "markdown",
   "metadata": {},
   "source": [
    "## 실습 4"
   ]
  },
  {
   "cell_type": "markdown",
   "metadata": {},
   "source": [
    "### Q) 단순 선택 정렬의 진행 내용을 출력하라.\n",
    "\n",
    "진행과정에 정렬되지 않은 부분의 가장 작은 원소는 () 로 표시한다."
   ]
  },
  {
   "cell_type": "code",
   "execution_count": 29,
   "metadata": {},
   "outputs": [],
   "source": [
    "# 단순 선택 정렬\n",
    "\n",
    "def selection_sort(a):\n",
    "    n = len(a)\n",
    "    for i in range(n - 1):\n",
    "        min = i\n",
    "        \n",
    "        for j in range(i + 1, n):\n",
    "            if a[j] < a[min]:\n",
    "                min = j\n",
    "        \n",
    "        for m in range(n) :   \n",
    "            if m == min :\n",
    "                print(f'({a[m]})', end = ' ')\n",
    "                continue\n",
    "            print(f'{a[m]}', end = ' ')\n",
    "        print()\n",
    "        \n",
    "        a[i], a[min] = a[min], a[i]\n",
    "    for m in range(n) :\n",
    "        print(f'{a[m]}', end = ' ')\n",
    "    print()"
   ]
  },
  {
   "cell_type": "code",
   "execution_count": 31,
   "metadata": {},
   "outputs": [
    {
     "name": "stdout",
     "output_type": "stream",
     "text": [
      "버블 정렬을 수행합니다.\n",
      "원소 수를 입력하세요.: 7\n",
      "x[0]값을 입력하세요.: 6\n",
      "x[1]값을 입력하세요.: 4\n",
      "x[2]값을 입력하세요.: 3\n",
      "x[3]값을 입력하세요.: 7\n",
      "x[4]값을 입력하세요.: 1\n",
      "x[5]값을 입력하세요.: 9\n",
      "x[6]값을 입력하세요.: 8\n",
      "6 4 3 7 (1) 9 8 \n",
      "1 4 (3) 7 6 9 8 \n",
      "1 3 (4) 7 6 9 8 \n",
      "1 3 4 7 (6) 9 8 \n",
      "1 3 4 6 (7) 9 8 \n",
      "1 3 4 6 7 9 (8) \n",
      "1 3 4 6 7 8 9 \n",
      "오름차순으로 정렬했습니다.\n",
      "[1, 3, 4, 6, 7, 8, 9]\n"
     ]
    }
   ],
   "source": [
    "print('버블 정렬을 수행합니다.')\n",
    "num = int(input('원소 수를 입력하세요.: '))\n",
    "x = [None] * num # 원소 수가 num인 리스트를 생성\n",
    "\n",
    "for i in range(num):\n",
    "    x[i] = int(input(f'x[{i}]값을 입력하세요.: '))\n",
    "\n",
    "selection_sort(x)\n",
    "\n",
    "print('오름차순으로 정렬했습니다.')\n",
    "print(x)"
   ]
  },
  {
   "cell_type": "markdown",
   "metadata": {},
   "source": [
    "## 실습 5\n",
    "### Q) 단순 선택 정렬을 내림차순으로 정렬하게 변경하여라."
   ]
  },
  {
   "cell_type": "code",
   "execution_count": 35,
   "metadata": {},
   "outputs": [],
   "source": [
    "# 단순 선택 정렬\n",
    "\n",
    "def selection_sort(a):\n",
    "    n = len(a)\n",
    "    for i in range(n - 1):\n",
    "        max = i\n",
    "        for j in range(i + 1, n):\n",
    "            if a[j] > a[max]:\n",
    "                max = j\n",
    "        a[i], a[max] = a[max], a[i]"
   ]
  },
  {
   "cell_type": "code",
   "execution_count": 37,
   "metadata": {},
   "outputs": [
    {
     "name": "stdout",
     "output_type": "stream",
     "text": [
      "[9, 8, 7, 6, 4, 3, 1]\n"
     ]
    }
   ],
   "source": [
    "a = [1, 3, 9, 4, 7, 8, 6]\n",
    "selection_sort(a)\n",
    "print(a)"
   ]
  },
  {
   "cell_type": "markdown",
   "metadata": {},
   "source": [
    "## 실습 6\n",
    "### Q) 단순 삽입 정렬을 내림차순으로 정렬하게 변경하라."
   ]
  },
  {
   "cell_type": "code",
   "execution_count": 38,
   "metadata": {},
   "outputs": [],
   "source": [
    "# 단순 삽입 정렬\n",
    "\n",
    "def insertion_sort(a):\n",
    "    n = len(a)\n",
    "    for i in range(1, n):\n",
    "        j = i\n",
    "        tmp = a[i]\n",
    "        while j > 0 and a[j-1] < tmp:\n",
    "            a[j] = a[j-1]\n",
    "            j -= 1\n",
    "        a[j] = tmp"
   ]
  },
  {
   "cell_type": "code",
   "execution_count": 39,
   "metadata": {},
   "outputs": [
    {
     "name": "stdout",
     "output_type": "stream",
     "text": [
      "[9, 8, 7, 6, 4, 3, 1]\n"
     ]
    }
   ],
   "source": [
    "a = [1, 3, 9, 4, 7, 8, 6]\n",
    "insertion_sort(a)\n",
    "print(a)"
   ]
  }
 ],
 "metadata": {
  "kernelspec": {
   "display_name": "Python 3",
   "language": "python",
   "name": "python3"
  },
  "language_info": {
   "codemirror_mode": {
    "name": "ipython",
    "version": 3
   },
   "file_extension": ".py",
   "mimetype": "text/x-python",
   "name": "python",
   "nbconvert_exporter": "python",
   "pygments_lexer": "ipython3",
   "version": "3.8.8"
  }
 },
 "nbformat": 4,
 "nbformat_minor": 4
}
