{
 "cells": [
  {
   "cell_type": "markdown",
   "metadata": {},
   "source": [
    "## Chapter 3."
   ]
  },
  {
   "cell_type": "markdown",
   "metadata": {},
   "source": [
    "### Q0 (https://www.acmicpc.net/problem/2108)\n",
    "### 수를 처리하는 것은 통계학에서 상당히 중요한 일이다. 통계학에서 N개의 수를 대표하는 기본 통계값에는 다음과 같은 것들이 있다. 단, N은 홀수라고 가정하자.\n",
    "\n",
    "- 산술평균 : N개의 수들의 합을 N으로 나눈 값\n",
    "- 중앙값 : N개의 수들을 증가하는 순서로 나열했을 경우 그 중앙에 위치하는 값\n",
    "- 최빈값 : N개의 수들 중 가장 많이 나타나는 값 (여기서는 제외하자.)\n",
    "- 범위 : N개의 수들 중 최댓값과 최솟값의 차이\n",
    "- N개의 수가 주어졌을 때, 네 가지 기본 통계값을 구하는 프로그램을 작성하시오.\n",
    "\n",
    "### 입력\n",
    "- 첫째 줄에 수의 개수 N(1 ≤ N ≤ 500,000)이 주어진다. 단, N은 홀수이다. 그 다음 N개의 줄에는 정수들이 주어진다. 입력되는 정수의 절댓값은 4,000을 넘지 않는다.\n",
    "\n",
    "### 출력\n",
    "- 첫째 줄에는 산술평균을 출력한다. 소수점 이하 첫째 자리에서 반올림한 값을 출력한다.\n",
    "\n",
    "- 둘째 줄에는 중앙값을 출력한다.\n",
    "\n",
    "- 셋째 줄에는 범위를 출력한다.\n",
    "\n",
    "### 입출력예제\n",
    "|입력      |출력\n",
    "|---------|-------\n",
    "|5 <br> 1 <br> 3 <br> 8 <br> -2 <br> 2 | 2 <br> 2 <br> 10\n",
    "|1 <br> 4000 | 4000 <br> 4000 <br> 0\n",
    "|5 <br> -1 <br> -2 <br> -3 <br> -1 <br> -2 | -2 <br> -2 <br> 2\n",
    "\n",
    "\n",
    "### 반올림 \n",
    "- int(round(3.14, 0)) # round() 의 두 번째 인수는 반올림하는 위치이며 0은 소수점 이하 첫째 자리에서 반올림하라는 뜻임"
   ]
  },
  {
   "cell_type": "code",
   "execution_count": 16,
   "metadata": {},
   "outputs": [
    {
     "name": "stdout",
     "output_type": "stream",
     "text": [
      "5\n",
      "-1\n",
      "-2\n",
      "-3\n",
      "-1\n",
      "-2\n",
      "{-3: 1, -2: 2, -1: 2}\n",
      "-2\n",
      "-2.0\n",
      "-2\n",
      "2\n"
     ]
    }
   ],
   "source": [
    "# Q0 Answer template\n",
    "\n",
    "n = int(input())\n",
    "data = []\n",
    "for i in range(n):\n",
    "    data.append(int(input()))\n",
    "    \n",
    "dic_num = {}\n",
    "\n",
    "for i in range(1, n):\n",
    "    j = i\n",
    "    tmp = data[i]\n",
    "    while j > 0 and data[j-1] > tmp:\n",
    "        data[j] = data[j-1]\n",
    "        j -= 1\n",
    "    data[j] = tmp\n",
    "\n",
    "for i in data :\n",
    "    if dic_num.get(i, 0) == 0 :\n",
    "        dic_num[i] = 1\n",
    "    else :\n",
    "        dic_num[i] += 1\n",
    "\n",
    "max_num = -1\n",
    "mode = -1\n",
    "for i in dic_num.keys() :\n",
    "    if dic_num[i] > max_num :\n",
    "        max_num = dic_num[i]\n",
    "        mode = i\n",
    "\n",
    "avg = round(sum(data)/len(data),0)\n",
    "median = data[n//2]\n",
    "ran = data[-1] - data[0]\n",
    "\n",
    "print(mode)\n",
    "print(avg)\n",
    "print(median)\n",
    "print(ran)"
   ]
  },
  {
   "cell_type": "code",
   "execution_count": null,
   "metadata": {},
   "outputs": [],
   "source": []
  },
  {
   "cell_type": "markdown",
   "metadata": {},
   "source": [
    "### Q1 \n",
    "\n",
    "### 피보나치 수는 F(0) = 0, F(1) = 1일 때, 1 이상의 n에 대하여 F(n) = F(n-1) + F(n-2) 가 적용되는 수 입니다.\n",
    "\n",
    "### 예를들어\n",
    "\n",
    "- F(2) = F(0) + F(1) = 0 + 1 = 1\n",
    "- F(3) = F(1) + F(2) = 1 + 1 = 2\n",
    "- F(4) = F(2) + F(3) = 1 + 2 = 3\n",
    "- F(5) = F(3) + F(4) = 2 + 3 = 5\n",
    "- 와 같이 이어집니다.\n",
    "\n",
    "### 2 이상의 n이 입력되었을 때, n번째 피보나치 수를 리턴하는 함수, solution을 완성해 주세요.\n",
    "\n",
    "### 제한 사항\n",
    "- n은 2 이상 100 이하인 자연수입니다.\n",
    "\n",
    "### 입출력 예\n",
    "|n|return\n",
    "|-|-\n",
    "|3|2\n",
    "|5|5"
   ]
  },
  {
   "cell_type": "code",
   "execution_count": 19,
   "metadata": {},
   "outputs": [
    {
     "name": "stdout",
     "output_type": "stream",
     "text": [
      "5\n"
     ]
    }
   ],
   "source": [
    "# Q1 Answer template\n",
    "\n",
    "def solution(n):\n",
    "    if n == 0 :\n",
    "        return 0\n",
    "    if n == 1 :\n",
    "        return 1\n",
    "    return solution(n-1) + solution(n-2)\n",
    "\n",
    "answer = solution(5)\n",
    "print(answer)"
   ]
  },
  {
   "cell_type": "code",
   "execution_count": null,
   "metadata": {},
   "outputs": [],
   "source": []
  },
  {
   "cell_type": "markdown",
   "metadata": {},
   "source": [
    "### Q2 (https://programmers.co.kr/learn/courses/30/lessons/68644)\n",
    "\n",
    "### 정수 리스트 numbers가 주어집니다. numbers에서 서로 다른 인덱스에 있는 두 개의 수를 뽑아 더해서 만들 수 있는 모든 수를 리스트에 오름차순으로 담아 return 하도록 solution 함수를 완성해주세요.\n",
    "\n",
    "### 제한사항\n",
    "- numbers의 길이는 2 이상 100 이하입니다.\n",
    "- numbers의 모든 수는 0 이상 100 이하입니다.\n",
    "- 결과값에 중복되는 값은 한번만 포함되어야 합니다.\n",
    "\n",
    "### 입출력 예\n",
    "|numbers |result\n",
    "|--------|-------\n",
    "|[2,1,3,4,1]|[2,3,4,5,6,7]\n",
    "|[5,0,2,7]|[2,5,7,9,12]"
   ]
  },
  {
   "cell_type": "code",
   "execution_count": 37,
   "metadata": {},
   "outputs": [
    {
     "name": "stdout",
     "output_type": "stream",
     "text": [
      "[2, 5, 7, 9, 12]\n"
     ]
    }
   ],
   "source": [
    "# Q2 Answer template\n",
    "\n",
    "def solution(numbers):\n",
    "    answer = []\n",
    "    for i in range(len(numbers)-1) :\n",
    "        for j in range(i+1, len(numbers)) :\n",
    "            if numbers[i]+numbers[j] not in answer :\n",
    "                answer.append(numbers[i]+numbers[j])\n",
    "    answer.sort()\n",
    "#     for i in range(1, len(answer)):\n",
    "#         j = i\n",
    "#         tmp = answer[i]\n",
    "#         while j > 0 and answer[j-1] > tmp:\n",
    "#             answer[j] = answer[j-1]\n",
    "#             j -= 1\n",
    "#         answer[j] = tmp\n",
    "        \n",
    "    return answer\n",
    "\n",
    "numbers = [5,0,2,7]\n",
    "answer = solution(numbers)\n",
    "print(answer)"
   ]
  },
  {
   "cell_type": "code",
   "execution_count": null,
   "metadata": {},
   "outputs": [],
   "source": []
  },
  {
   "cell_type": "markdown",
   "metadata": {},
   "source": [
    "### Q3 \n",
    "\n",
    "### 리스트의 각 element 중 divisor로 나누어 떨어지는 값을 오름차순으로 정렬한 리스트를 반환하는 함수, solution을 작성해주세요. divisor로 나누어 떨어지는 element가 하나도 없다면 리스트에 -1을 담아 반환하세요.\n",
    "\n",
    "### 제한사항\n",
    "- arr은 자연수를 담은 리스트입니다.\n",
    "- 정수 i, j에 대해 i ≠ j 이면 arr[i] ≠ arr[j] 입니다.\n",
    "- divisor는 자연수입니다.\n",
    "- array는 길이 1 이상인 리스트입니다.\n",
    "\n",
    "### 입출력 예\n",
    "|arr  |divisor  |return\n",
    "|-----|---------|-------\n",
    "|[5, 9, 7, 10] |5 |[5, 10]\n",
    "|[2, 36, 1, 3] |1 |[1, 2, 3, 36]\n",
    "|[3,2,6] |10 |[-1]"
   ]
  },
  {
   "cell_type": "code",
   "execution_count": 36,
   "metadata": {},
   "outputs": [
    {
     "name": "stdout",
     "output_type": "stream",
     "text": [
      "[-1]\n"
     ]
    }
   ],
   "source": [
    "# Q3 answer template\n",
    "\n",
    "def solution(arr, divisor):\n",
    "    answer = []\n",
    "    for i in arr :\n",
    "        if i % divisor == 0 :\n",
    "            answer.append(i)\n",
    "            \n",
    "    if len(answer) < 1 :\n",
    "        return [-1]\n",
    "    \n",
    "    answer.sort()\n",
    "#     for i in range(1, len(answer)):\n",
    "#         j = i\n",
    "#         tmp = answer[i]\n",
    "#         while j > 0 and answer[j-1] > tmp:\n",
    "#             answer[j] = answer[j-1]\n",
    "#             j -= 1\n",
    "#         answer[j] = tmp\n",
    "        \n",
    "    return answer\n",
    "\n",
    "arr = [3,2,6]\n",
    "divisor = 10\n",
    "answer = solution(arr, divisor)\n",
    "print(answer)"
   ]
  },
  {
   "cell_type": "code",
   "execution_count": null,
   "metadata": {},
   "outputs": [],
   "source": []
  },
  {
   "cell_type": "markdown",
   "metadata": {},
   "source": [
    "### Q4 \n",
    "\n",
    "### 동일한 갯수의 원소로 구성된 두 개의 리스트 a와 b를 입력 받는다. 리스트의 원소는 모두 자연수이다. k 를 입력받아 k의 값만큼 리스트 a에 있는 원소 하나와 리스트 b에 있는 원소 하나를 골라서 두 원소를 서로 바꾸어라. 다만, 원소 교환의 목표는 교환 후 리스트 a의 모든 원소의 합이 최대가 되도록 하는 것이다.\n",
    "\n",
    "### k, 리스트 a와 b가 주어졌을 때, 최대 k번의 바꿔치기 연산을 수행하여 만들 수 있는 리스트 a의 모든 원소의 합의 최댓값을 출력하는 프로그램을 작성하시오. \n",
    "\n",
    "### 입출력 예\n",
    "| k | a | b | answer\n",
    "|---|---|---|-------\n",
    "| 3 |[1,2,5,4,3]|[5,5,6,6,5]|26\n",
    "\n"
   ]
  },
  {
   "cell_type": "code",
   "execution_count": 35,
   "metadata": {},
   "outputs": [
    {
     "name": "stdout",
     "output_type": "stream",
     "text": [
      "26\n"
     ]
    }
   ],
   "source": [
    "# Q4 answer template\n",
    "\n",
    "def solution(k, a, b):\n",
    "    answer = 0\n",
    "    \n",
    "    a.sort()\n",
    "    b.sort()\n",
    "    \n",
    "#     for i in range(1, len(a)):\n",
    "#         j = i\n",
    "#         tmp_a = a[i]\n",
    "#         while j > 0 and a[j-1] > tmp_a:\n",
    "#             a[j] = a[j-1]\n",
    "#             j -= 1\n",
    "#         a[j] = tmp_a\n",
    "        \n",
    "#         j = i\n",
    "#         tmp_b = b[i]\n",
    "#         while j > 0 and b[j-1] > tmp_b:\n",
    "#             b[j] = b[j-1]\n",
    "#             j -= 1\n",
    "#         b[j] = tmp_b\n",
    "     \n",
    "    for i in range(k) :\n",
    "        a[i] = b[-i-1]\n",
    "    \n",
    "    answer = sum(a)\n",
    "    return answer\n",
    "\n",
    "k = 3\n",
    "a = [1,2,5,4,3]\n",
    "b = [5,5,6,6,5]\n",
    "answer = solution(k, a, b)\n",
    "print(answer)"
   ]
  },
  {
   "cell_type": "code",
   "execution_count": null,
   "metadata": {},
   "outputs": [],
   "source": []
  },
  {
   "cell_type": "markdown",
   "metadata": {},
   "source": [
    "### Q5 (https://www.acmicpc.net/problem/18310)\n",
    "\n",
    "### 일직선 상의 마을에 여러 채의 집이 위치해 있다. 이중에서 특정 위치의 집에 특별히 한 개의 안테나를 설치하기로 결정했다. 효율성을 위해 안테나로부터 모든 집까지의 거리의 총 합이 최소가 되도록 설치하려고 한다. 이 때 안테나는 집이 위치한 곳에만 설치할 수 있고, 논리적으로 동일한 위치에 여러 개의 집이 존재하는 것이 가능하다.\n",
    "### 집들의 위치 값이 주어질 때, 안테나를 설치할 위치를 선택하는 프로그램을 작성하시오.\n",
    "### 예를 들어 N=4이고, 각 위치가 1, 5, 7, 9일 때를 가정하자.\n",
    "\n",
    "<img src=\"preview.jpeg\" />\n",
    "\n",
    "### 이 경우 5의 위치에 설치했을 때, 안테나로부터 모든 집까지의 거리의 총 합이 (4+0+2+4)=10으로, 최소가 된다.\n",
    "\n",
    "### 입력\n",
    "- 집의 수 N의 범위는 1≤N≤200,000이며, N채의 집에 위치가 공백을 기준으로 구분되어 1이상 100,000이하의 자연수로 주어진다.\n",
    "\n",
    "### 출력\n",
    "- 첫째 줄에 안테나를 설치할 위치의 값을 출력한다. 단, 안테나를 설치할 수 있는 위치 값으로 여러 개의 값이 도출될 경우 가장 작은 값을 출력한다.\n",
    "\n",
    "### 입출력 예\n",
    "|입력 | 출력\n",
    "|----|----\n",
    "|[1,5,7,9]| 5"
   ]
  },
  {
   "cell_type": "code",
   "execution_count": 109,
   "metadata": {},
   "outputs": [
    {
     "name": "stdout",
     "output_type": "stream",
     "text": [
      "5\n"
     ]
    }
   ],
   "source": [
    "# Q5 Answer template\n",
    "\n",
    "def solution(numbers):\n",
    "    \n",
    "    numbers.sort()\n",
    "    answer = numbers[(len(numbers)-1)//2]\n",
    "    \n",
    "    return answer\n",
    "\n",
    "numbers = [1, 5, 7, 9]\n",
    "answer = solution(numbers)\n",
    "print(answer)"
   ]
  },
  {
   "cell_type": "code",
   "execution_count": null,
   "metadata": {},
   "outputs": [],
   "source": []
  },
  {
   "cell_type": "markdown",
   "metadata": {},
   "source": [
    "### Q6 (https://programmers.co.kr/learn/courses/30/lessons/42889)\n",
    "\n",
    "### 슈퍼 게임 개발자 오렐리는 큰 고민에 빠졌다. 그녀가 만든 프랜즈 오천성이 대성공을 거뒀지만, 요즘 신규 사용자의 수가 급감한 것이다. 원인은 신규 사용자와 기존 사용자 사이에 스테이지 차이가 너무 큰 것이 문제였다.\n",
    "### 이 문제를 어떻게 할까 고민 한 그녀는 동적으로 게임 시간을 늘려서 난이도를 조절하기로 했다. 역시 슈퍼 개발자라 대부분의 로직은 쉽게 구현했지만, 실패율을 구하는 부분에서 위기에 빠지고 말았다. 오렐리를 위해 실패율을 구하는 코드를 완성하라.\n",
    "### 실패율은 다음과 같이 정의한다.\n",
    "\n",
    "- 스테이지에 도달했으나 아직 클리어하지 못한 플레이어의 수 / 스테이지에 도달한 플레이어 수\n",
    "\n",
    "### 전체 스테이지의 개수 N, 게임을 이용하는 사용자가 현재 멈춰있는 스테이지의 번호가 담긴 배열 stages가 매개변수로 주어질 때, 실패율이 높은 스테이지부터 내림차순으로 스테이지의 번호가 담겨있는 배열을 return 하도록 solution 함수를 완성하라.\n",
    "\n",
    "### 제한사항\n",
    "- 스테이지의 개수 N은 1 이상 500 이하의 자연수이다.\n",
    "- stages의 길이는 1 이상 200,000 이하이다.\n",
    "- stages에는 1 이상 N + 1 이하의 자연수가 담겨있다.\n",
    "- 각 자연수는 사용자가 현재 도전 중인 스테이지의 번호를 나타낸다.\n",
    "- 단, N + 1 은 마지막 스테이지(N 번째 스테이지) 까지 클리어 한 사용자를 나타낸다.\n",
    "- 만약 실패율이 같은 스테이지가 있다면 작은 번호의 스테이지가 먼저 오도록 하면 된다.\n",
    "- 스테이지에 도달한 유저가 없는 경우 해당 스테이지의 실패율은 0 으로 정의한다.\n",
    "\n",
    "### 입출력 예\n",
    "|N |stages  |result\n",
    "|--|--------|------\n",
    "|5 |[2, 1, 2, 6, 2, 4, 3, 3] |[3,4,2,1,5]\n",
    "|4 |[4,4,4,4,4] |[4,1,2,3]\n",
    "\n",
    "### 입출력 예 설명\n",
    "\n",
    "### 입출력 예 #1\n",
    "- 1번 스테이지에는 총 8명의 사용자가 도전했으며, 이 중 1명의 사용자가 아직 클리어하지 못했다. 따라서 1번 스테이지의 실패율은 다음과 같다.\n",
    "- 1 번 스테이지 실패율 : 1/8\n",
    "- 2번 스테이지에는 총 7명의 사용자가 도전했으며, 이 중 3명의 사용자가 아직 클리어하지 못했다. 따라서 2번 스테이지의 실패율은 다음과 같다.\n",
    "- 2 번 스테이지 실패율 : 3/7\n",
    "- 마찬가지로 나머지 스테이지의 실패율은 다음과 같다.\n",
    "- 3 번 스테이지 실패율 : 2/4\n",
    "- 4번 스테이지 실패율 : 1/2\n",
    "- 5번 스테이지 실패율 : 0/1\n",
    "- 각 스테이지의 번호를 실패율의 내림차순으로 정렬하면 다음과 같다.\n",
    "- [3,4,2,1,5]\n",
    "\n",
    "### 입출력 예 #2\n",
    "- 모든 사용자가 마지막 스테이지에 있으므로 4번 스테이지의 실패율은 1이며 나머지 스테이지의 실패율은 0이다.\n",
    "- [4,1,2,3]"
   ]
  },
  {
   "cell_type": "code",
   "execution_count": 110,
   "metadata": {},
   "outputs": [
    {
     "name": "stdout",
     "output_type": "stream",
     "text": [
      "[4, 1, 2, 3]\n"
     ]
    }
   ],
   "source": [
    "# Q6 Answer template\n",
    "\n",
    "def solution(N, stages):\n",
    "    answer = []\n",
    "    stages.sort()\n",
    "    \n",
    "    fail = [0] * N\n",
    "    \n",
    "    for i in range(N+1) :\n",
    "        if i in stages  :\n",
    "            fail[i-1] = stages.count(i)/(len(stages)-stages.index(i))\n",
    "        else :\n",
    "            fail[i-1] = 0\n",
    "            \n",
    "    fail_sort = fail.copy()\n",
    "    fail_sort.sort(reverse=True)\n",
    "    \n",
    "    for i in fail_sort :\n",
    "        answer.append(fail.index(i)+1)\n",
    "        fail[fail.index(i)] = -1\n",
    "    \n",
    "    return answer\n",
    "\n",
    "# N = 5\n",
    "N = 4\n",
    "# stages = [2, 1, 2, 6, 2, 4, 3, 3]\n",
    "stages = [4,4,4,4,4]\n",
    "answer = solution(N, stages)\n",
    "print(answer)"
   ]
  },
  {
   "cell_type": "code",
   "execution_count": null,
   "metadata": {},
   "outputs": [],
   "source": []
  }
 ],
 "metadata": {
  "kernelspec": {
   "display_name": "Python 3",
   "language": "python",
   "name": "python3"
  },
  "language_info": {
   "codemirror_mode": {
    "name": "ipython",
    "version": 3
   },
   "file_extension": ".py",
   "mimetype": "text/x-python",
   "name": "python",
   "nbconvert_exporter": "python",
   "pygments_lexer": "ipython3",
   "version": "3.8.8"
  }
 },
 "nbformat": 4,
 "nbformat_minor": 4
}
