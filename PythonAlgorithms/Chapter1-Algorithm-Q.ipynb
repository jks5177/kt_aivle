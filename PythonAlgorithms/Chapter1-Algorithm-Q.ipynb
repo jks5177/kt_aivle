{
 "cells": [
  {
   "cell_type": "markdown",
   "metadata": {},
   "source": [
    "# Chapter 1. \n",
    "# 알고리즘 기초\n",
    "# Unit 1. 알고리즘과 플로우 차트"
   ]
  },
  {
   "cell_type": "markdown",
   "metadata": {},
   "source": [
    "## 문자열과 숫자 입력받기"
   ]
  },
  {
   "cell_type": "code",
   "execution_count": 1,
   "metadata": {},
   "outputs": [
    {
     "name": "stdout",
     "output_type": "stream",
     "text": [
      "이름을 입력하세요.: 전성호\n",
      "안녕하세요? 전성호님.\n"
     ]
    }
   ],
   "source": [
    "name = input('이름을 입력하세요.: ')\n",
    "print(f'안녕하세요? {name}님.')"
   ]
  },
  {
   "cell_type": "code",
   "execution_count": 2,
   "metadata": {},
   "outputs": [
    {
     "name": "stdout",
     "output_type": "stream",
     "text": [
      "정사각형의 한 변의 길이를 입력하세요.: 3\n",
      "정사각형의 넓이는 9입니다.\n"
     ]
    }
   ],
   "source": [
    "length = input('정사각형의 한 변의 길이를 입력하세요.: ')\n",
    "print(f'정사각형의 넓이는 {int(length)**2}입니다.')"
   ]
  },
  {
   "cell_type": "markdown",
   "metadata": {},
   "source": [
    "## 세 정수를 입력받아 최댓값 구하기"
   ]
  },
  {
   "cell_type": "code",
   "execution_count": 3,
   "metadata": {},
   "outputs": [
    {
     "name": "stdout",
     "output_type": "stream",
     "text": [
      "세 정수의 최댓값을 구합니다.\n",
      "정수 a의 값을 입력하세요.: 10\n",
      "정수 b의 값을 입력하세요.: 42\n",
      "정수 c의 값을 입력하세요.: 8\n",
      "최대값은 42입니다.\n"
     ]
    }
   ],
   "source": [
    "print('세 정수의 최댓값을 구합니다.')\n",
    "a = int(input('정수 a의 값을 입력하세요.: '))\n",
    "b = int(input('정수 b의 값을 입력하세요.: '))\n",
    "c = int(input('정수 c의 값을 입력하세요.: '))\n",
    "\n",
    "maximum = a\n",
    "if b > maximum:\n",
    "    maximum = b\n",
    "if c > maximum:\n",
    "    maximum = c\n",
    "    \n",
    "print(f'최대값은 {maximum}입니다.')"
   ]
  },
  {
   "cell_type": "markdown",
   "metadata": {},
   "source": [
    "## 세 정수의 최댓값 구하기 알고리즘 확인"
   ]
  },
  {
   "cell_type": "code",
   "execution_count": 4,
   "metadata": {},
   "outputs": [
    {
     "name": "stdout",
     "output_type": "stream",
     "text": [
      "max3(3, 2, 1) = 3\n",
      "max3(3, 2, 2) = 3\n",
      "max3(3, 1, 2) = 3\n",
      "max3(3, 2, 3) = 3\n",
      "max3(2, 1, 3) = 3\n",
      "max3(3, 3, 2) = 3\n",
      "max3(3, 3, 3) = 3\n",
      "max3(2, 2, 3) = 3\n",
      "max3(2, 3, 1) = 3\n",
      "max3(2, 3, 2) = 3\n",
      "max3(1, 3, 2) = 3\n",
      "max3(2, 3, 3) = 3\n",
      "max3(1, 2, 3) = 3\n"
     ]
    }
   ],
   "source": [
    "def max3(a, b, c):\n",
    "    maximum = a\n",
    "    if b > maximum:\n",
    "        maximum = b\n",
    "    if c > maximum:\n",
    "        maximum = c\n",
    "        \n",
    "    return maximum # 최댓값 반환\n",
    "\n",
    "print(f'max3(3, 2, 1) = {max3(3, 2, 1)}')\n",
    "print(f'max3(3, 2, 2) = {max3(3, 2, 2)}')\n",
    "print(f'max3(3, 1, 2) = {max3(3, 1, 2)}')\n",
    "print(f'max3(3, 2, 3) = {max3(3, 2, 3)}')\n",
    "print(f'max3(2, 1, 3) = {max3(2, 1, 3)}')\n",
    "print(f'max3(3, 3, 2) = {max3(3, 3, 2)}')\n",
    "print(f'max3(3, 3, 3) = {max3(3, 3, 3)}')\n",
    "print(f'max3(2, 2, 3) = {max3(2, 2, 3)}')\n",
    "print(f'max3(2, 3, 1) = {max3(2, 3, 1)}')\n",
    "print(f'max3(2, 3, 2) = {max3(2, 3, 2)}')\n",
    "print(f'max3(1, 3, 2) = {max3(1, 3, 2)}')\n",
    "print(f'max3(2, 3, 3) = {max3(2, 3, 3)}')\n",
    "print(f'max3(1, 2, 3) = {max3(1, 2, 3)}')"
   ]
  },
  {
   "cell_type": "markdown",
   "metadata": {},
   "source": [
    "## 미니 실습 1)\n",
    "## 네 정수의 최댓값 구하기"
   ]
  },
  {
   "cell_type": "code",
   "execution_count": 5,
   "metadata": {},
   "outputs": [
    {
     "name": "stdout",
     "output_type": "stream",
     "text": [
      "max3(3, 2, 1) = 4\n",
      "max3(3, 2, 2) = 4\n",
      "max3(3, 1, 2) = 4\n",
      "max3(3, 2, 3) = 4\n",
      "max3(2, 1, 3) = 4\n",
      "max3(3, 3, 2) = 4\n",
      "max3(3, 3, 3) = 4\n",
      "max3(2, 2, 3) = 4\n",
      "max3(2, 3, 1) = 4\n",
      "max3(2, 3, 2) = 4\n",
      "max3(1, 3, 2) = 4\n",
      "max3(2, 3, 3) = 4\n",
      "max3(1, 2, 3) = 4\n"
     ]
    }
   ],
   "source": [
    "def max4(a, b, c, d):\n",
    "    maximum = a\n",
    "    if b > maximum:\n",
    "        maximum = b\n",
    "    if c > maximum:\n",
    "        maximum = c\n",
    "    if d > maximum :\n",
    "        maximum = d\n",
    "        \n",
    "    return maximum # 최댓값 반환\n",
    "\n",
    "print(f'max3(3, 2, 1) = {max4(4, 3, 2, 1)}')\n",
    "print(f'max3(3, 2, 2) = {max4(4, 3, 2, 2)}')\n",
    "print(f'max3(3, 1, 2) = {max4(3, 4, 1, 2)}')\n",
    "print(f'max3(3, 2, 3) = {max4(4, 3, 2, 3)}')\n",
    "print(f'max3(2, 1, 3) = {max4(4, 2, 1, 3)}')\n",
    "print(f'max3(3, 3, 2) = {max4(3, 3, 4, 2)}')\n",
    "print(f'max3(3, 3, 3) = {max4(4, 3, 3, 3)}')\n",
    "print(f'max3(2, 2, 3) = {max4(4, 2, 2, 3)}')\n",
    "print(f'max3(2, 3, 1) = {max4(4, 2, 3, 1)}')\n",
    "print(f'max3(2, 3, 2) = {max4(4, 2, 3, 2)}')\n",
    "print(f'max3(1, 3, 2) = {max4(4, 1, 3, 2)}')\n",
    "print(f'max3(2, 3, 3) = {max4(4, 2, 3, 3)}')\n",
    "print(f'max3(1, 2, 3) = {max4(4, 1, 2, 3)}')"
   ]
  },
  {
   "cell_type": "markdown",
   "metadata": {},
   "source": [
    "## 조건문과 분기"
   ]
  },
  {
   "cell_type": "markdown",
   "metadata": {},
   "source": [
    "### 입력받은 정수의 부호(양수, 음수, 0) 출력하기"
   ]
  },
  {
   "cell_type": "code",
   "execution_count": 6,
   "metadata": {},
   "outputs": [
    {
     "name": "stdout",
     "output_type": "stream",
     "text": [
      "정수를 입력하세요.: 5\n",
      "이 수는 양수입니다.\n"
     ]
    }
   ],
   "source": [
    "n = int(input('정수를 입력하세요.: '))\n",
    "\n",
    "if n > 0:\n",
    "    print('이 수는 양수입니다.')\n",
    "elif n < 0:\n",
    "    print('이 수는 음수입니다.')\n",
    "else:\n",
    "    print('이 수는 0입니다.')"
   ]
  },
  {
   "cell_type": "markdown",
   "metadata": {},
   "source": [
    "## 세 정수의 중앙값 구하기"
   ]
  },
  {
   "cell_type": "code",
   "execution_count": 7,
   "metadata": {},
   "outputs": [
    {
     "name": "stdout",
     "output_type": "stream",
     "text": [
      "세 정수의 중앙값을 구합니다.\n",
      "정수 a의 값을 입력하세요.: 15\n",
      "정수 b의 값을 입력하세요.: 5\n",
      "정수 c의 값을 입력하세요.: 20\n",
      "중앙값은 15입니다.\n"
     ]
    }
   ],
   "source": [
    "def med3(a, b, c):\n",
    "    \n",
    "    if a >= b:\n",
    "        if b >= c:\n",
    "            return b\n",
    "        elif a <= c:\n",
    "            return a\n",
    "        else:\n",
    "            return c\n",
    "    elif a > c:\n",
    "        return a\n",
    "    elif b > c:\n",
    "        return c\n",
    "    else:\n",
    "        return b\n",
    "    \n",
    "print('세 정수의 중앙값을 구합니다.')\n",
    "a = int(input('정수 a의 값을 입력하세요.: '))\n",
    "b = int(input('정수 b의 값을 입력하세요.: '))\n",
    "c = int(input('정수 c의 값을 입력하세요.: '))\n",
    "\n",
    "print(f'중앙값은 {med3(a, b, c)}입니다.')"
   ]
  },
  {
   "cell_type": "markdown",
   "metadata": {},
   "source": [
    "## 미니 실습 2)"
   ]
  },
  {
   "cell_type": "markdown",
   "metadata": {},
   "source": [
    "## 수도 요금 계산"
   ]
  },
  {
   "cell_type": "markdown",
   "metadata": {},
   "source": [
    "Q) 다음은 A, B 두 수도 회사의 요금 체계이다.\n",
    "    \n",
    "    A : 1L 당 요금 100원\n",
    "    B : 50리터 이하 1L 당 요금 150원, 50리터 초과는 1L 당 75원\n",
    "\n",
    "수도 회사와 수도 사용량을 입력받아서 지불해야하는 수도 요금을 계산하는 waterPay()를 만들고, 수도회사와 수도 사용량을 입력 받아 요금을 출력하라."
   ]
  },
  {
   "cell_type": "code",
   "execution_count": 10,
   "metadata": {},
   "outputs": [
    {
     "name": "stdout",
     "output_type": "stream",
     "text": [
      "회사를 입력하세요 (A or B) : B\n",
      "사용량을 입력하세요 : 50\n",
      "수도 요금은 7500원 입니다.\n"
     ]
    }
   ],
   "source": [
    "def waterPay(comp, useage) :\n",
    "    if comp == 'A' :\n",
    "        return useage * 100\n",
    "    elif comp == 'B' :\n",
    "        if useage > 50 :\n",
    "            return useage * 75\n",
    "        else :\n",
    "            return useage * 150\n",
    "\n",
    "comp = input('회사를 입력하세요 (A or B) : ')\n",
    "useage = int(input('사용량을 입력하세요 : '))\n",
    "print(f'수도 요금은 {waterPay(comp, useage)}원 입니다.')"
   ]
  },
  {
   "cell_type": "markdown",
   "metadata": {},
   "source": [
    "# Unit 2. 반복하는 알고리즘"
   ]
  },
  {
   "cell_type": "markdown",
   "metadata": {},
   "source": [
    "### 1부터 n까지 정수의 합 구하기 (while)"
   ]
  },
  {
   "cell_type": "code",
   "execution_count": 7,
   "metadata": {},
   "outputs": [
    {
     "name": "stdout",
     "output_type": "stream",
     "text": [
      "1부터 n까지 정수의 합을 구합니다.\n",
      "n값을 입력하세요.: 5\n",
      "1부터 5까지 정수의 합은 15입니다.\n"
     ]
    }
   ],
   "source": [
    "print('1부터 n까지 정수의 합을 구합니다.')\n",
    "\n",
    "n = int(input('n값을 입력하세요.: '))\n",
    "\n",
    "sum = 0\n",
    "i = 1\n",
    "\n",
    "while i <= n: \n",
    "    sum += i\n",
    "    i += 1\n",
    "\n",
    "print(f'1부터 {n}까지 정수의 합은 {sum}입니다.')"
   ]
  },
  {
   "cell_type": "markdown",
   "metadata": {},
   "source": [
    "### 1부터 n까지 정수의 합 구하기 (for)"
   ]
  },
  {
   "cell_type": "code",
   "execution_count": 1,
   "metadata": {},
   "outputs": [
    {
     "name": "stdout",
     "output_type": "stream",
     "text": [
      "1부터 n까지 정수의 합을 구합니다.\n",
      "n값을 입력하세요.: 5\n",
      "1부터 5까지 정수의 합은 15입니다.\n"
     ]
    }
   ],
   "source": [
    "print('1부터 n까지 정수의 합을 구합니다.')\n",
    "\n",
    "n = int(input('n값을 입력하세요.: '))\n",
    "\n",
    "sum = 0\n",
    "\n",
    "for i in range(1, n+1):\n",
    "    sum += i\n",
    "\n",
    "print(f'1부터 {n}까지 정수의 합은 {sum}입니다.')"
   ]
  },
  {
   "cell_type": "markdown",
   "metadata": {},
   "source": [
    "### a부터 b까지 정수의 합 구하기 (for)"
   ]
  },
  {
   "cell_type": "code",
   "execution_count": 3,
   "metadata": {},
   "outputs": [
    {
     "name": "stdout",
     "output_type": "stream",
     "text": [
      "a부터 b까지 정수의 합을 구합니다.\n",
      "정수 a를 입력하세요.: 8\n",
      "정수 b를 입력하세요.: 3\n",
      "3부터 8까지 정수의 합은 33입니다.\n"
     ]
    }
   ],
   "source": [
    "print('a부터 b까지 정수의 합을 구합니다.')\n",
    "\n",
    "a = int(input('정수 a를 입력하세요.: '))\n",
    "b = int(input('정수 b를 입력하세요.: '))\n",
    "\n",
    "if a > b:\n",
    "    a, b = b, a\n",
    "    \n",
    "sum = 0\n",
    "\n",
    "for i in range(a, b+1):\n",
    "    sum += i\n",
    "\n",
    "print(f'{a}부터 {b}까지 정수의 합은 {sum}입니다.')"
   ]
  },
  {
   "cell_type": "markdown",
   "metadata": {},
   "source": [
    "### 반복과정에서 조건 판단하기 1"
   ]
  },
  {
   "cell_type": "code",
   "execution_count": 3,
   "metadata": {},
   "outputs": [
    {
     "name": "stdout",
     "output_type": "stream",
     "text": [
      "a부터 b까지 정수의 합을 구합니다.\n",
      "정수 a를 입력하세요.: 3\n",
      "정수 b를 입력하세요.: 4\n",
      "3 + 4 = 7\n"
     ]
    }
   ],
   "source": [
    "print('a부터 b까지 정수의 합을 구합니다.')\n",
    "\n",
    "a = int(input('정수 a를 입력하세요.: '))\n",
    "b = int(input('정수 b를 입력하세요.: '))\n",
    "\n",
    "if a > b:\n",
    "    a, b = b, a\n",
    "    \n",
    "sum = 0\n",
    "\n",
    "for i in range(a, b+1):\n",
    "    if i < b:\n",
    "        print(f'{i} + ', end='')\n",
    "    else:\n",
    "        print(f'{i} = ', end='')\n",
    "    sum +=i\n",
    "\n",
    "print(sum)"
   ]
  },
  {
   "cell_type": "markdown",
   "metadata": {},
   "source": [
    "### 미니 실습 3)\n",
    "### 반복 과정에서 조건 판단하기 (업그레이드)"
   ]
  },
  {
   "cell_type": "markdown",
   "metadata": {},
   "source": [
    "Q) 앞 페이지의 코드에서 for loop 안의 if 문에서 앞부분 if는 반복시에 대부분 시행되지만 else 부분은 맨 마지막에만 시행된다. 따라서 else 에 해당하는 부분을 반복 부분이 아니고 반복이 끝난 후에 시행되도록 코드를 변경하라."
   ]
  },
  {
   "cell_type": "code",
   "execution_count": 11,
   "metadata": {},
   "outputs": [
    {
     "name": "stdout",
     "output_type": "stream",
     "text": [
      "a부터 b까지 정수의 합을 구합니다.\n",
      "정수 a를 입력하세요.: 3\n",
      "정수 b를 입력하세요.: 4\n",
      "3 + 4 = 11\n"
     ]
    }
   ],
   "source": [
    "print('a부터 b까지 정수의 합을 구합니다.')\n",
    "\n",
    "a = int(input('정수 a를 입력하세요.: '))\n",
    "b = int(input('정수 b를 입력하세요.: '))\n",
    "\n",
    "if a > b:\n",
    "    a, b = b, a\n",
    "    \n",
    "sum = 0\n",
    "\n",
    "for i in range(a, b):\n",
    "    print(f'{i} + ', end='')\n",
    "    sum +=i\n",
    "    \n",
    "print(f'{b} = ', end='')\n",
    "sum += b\n",
    "\n",
    "print(sum)"
   ]
  },
  {
   "cell_type": "markdown",
   "metadata": {},
   "source": [
    "### 반복과정에서 조건 판단하기 2"
   ]
  },
  {
   "cell_type": "code",
   "execution_count": 14,
   "metadata": {},
   "outputs": [
    {
     "name": "stdout",
     "output_type": "stream",
     "text": [
      "*를 출력합니다.\n",
      "몇 개를 출력할까요?: 14\n",
      "몇 개마다 줄바꿈할까요?: 5\n",
      "*****\n",
      "*****\n",
      "****\n"
     ]
    }
   ],
   "source": [
    "# * 를 n 개 출력하되 w개마다 줄바꿈하기 1 \n",
    "\n",
    "print('*를 출력합니다.')\n",
    "n = int(input('몇 개를 출력할까요?: '))\n",
    "w = int(input('몇 개마다 줄바꿈할까요?: '))\n",
    "\n",
    "for i in range(n):\n",
    "    print('*', end='')\n",
    "    if i % w == w-1:\n",
    "        print()\n",
    "\n",
    "if n%w:\n",
    "    print()"
   ]
  },
  {
   "cell_type": "code",
   "execution_count": 15,
   "metadata": {},
   "outputs": [
    {
     "name": "stdout",
     "output_type": "stream",
     "text": [
      "*를 출력합니다.\n",
      "몇 개를 출력할까요?: 14\n",
      "몇 개마다 줄바꿈할까요?: 5\n",
      "*****\n",
      "*****\n",
      "****\n"
     ]
    }
   ],
   "source": [
    "# * 를 n 개 출력하되 w개마다 줄바꿈하기 2 \n",
    "\n",
    "print('*를 출력합니다.')\n",
    "n = int(input('몇 개를 출력할까요?: '))\n",
    "w = int(input('몇 개마다 줄바꿈할까요?: '))\n",
    "\n",
    "for _ in range(n // w): # n//w번 반복\n",
    "    print('*' * w)      # *를 w번 출력\n",
    "   \n",
    "rest = n % w \n",
    "if rest:                # rest 값이 있으면\n",
    "    print('*' * rest)   # rest 값만큼 * 반복 출력"
   ]
  },
  {
   "cell_type": "markdown",
   "metadata": {},
   "source": [
    "### 무한 루프와 break"
   ]
  },
  {
   "cell_type": "code",
   "execution_count": 16,
   "metadata": {},
   "outputs": [
    {
     "name": "stdout",
     "output_type": "stream",
     "text": [
      "1부터 n까지 정수의 합을 구합니다.\n",
      "n값을 입력하세요.: -6\n",
      "n값을 입력하세요.: 0\n",
      "n값을 입력하세요.: 10\n",
      "1부터 10까지 정수의 합은 55입니다.\n"
     ]
    }
   ],
   "source": [
    "# 1부터 n까지 정수의 합 구하기 (n값은 양수만 입력받음)\n",
    "\n",
    "print('1부터 n까지 정수의 합을 구합니다.')\n",
    "\n",
    "while True:\n",
    "    n = int(input('n값을 입력하세요.: '))\n",
    "    if n > 0:\n",
    "        break # n이 0보다 커질때 까지 반복\n",
    "        \n",
    "sum = 0\n",
    "i = 1\n",
    "\n",
    "for i in range(1, n+1):\n",
    "    sum += i\n",
    "    i += 1\n",
    "    \n",
    "print(f'1부터 {n}까지 정수의 합은 {sum}입니다.')"
   ]
  },
  {
   "cell_type": "markdown",
   "metadata": {},
   "source": [
    "### continue 와 break"
   ]
  },
  {
   "cell_type": "code",
   "execution_count": 13,
   "metadata": {},
   "outputs": [
    {
     "name": "stdout",
     "output_type": "stream",
     "text": [
      "직사각형의 넓이를 입력하세요.: 32\n",
      "1 x 32\n",
      "2 x 16\n",
      "4 x 8\n"
     ]
    }
   ],
   "source": [
    "# 가로, 세로 길이가 정수이고 넓이가 area인 직사각형에서 가능한 변의 길이 나열\n",
    "\n",
    "area = int(input('직사각형의 넓이를 입력하세요.: '))\n",
    "\n",
    "for i in range(1, area + 1):\n",
    "    if i * i > area: break       \n",
    "    if area % i: continue\n",
    "    print(f'{i} x {area // i}')"
   ]
  },
  {
   "cell_type": "markdown",
   "metadata": {},
   "source": [
    "### 미니 실습 4"
   ]
  },
  {
   "cell_type": "markdown",
   "metadata": {},
   "source": [
    "Q) 앞 페이지의 코드에서는 두 변의 길이 순서를 고려하지 않고 가능한 조합만 표시되었다. 앞 변과 뒷 변의 길이를 고려하여 가능한 모든 경우가 표시되게 수정하라.\n",
    "\n",
    "출력결과)\n",
    "\n",
    "직사각형의 넓이를 입력하세요 : 32\n",
    "\n",
    "    1 x 32\n",
    "    2 x 16\n",
    "    4 x 8\n",
    "    8 x 4\n",
    "    16 x 2\n",
    "    32 x 1"
   ]
  },
  {
   "cell_type": "code",
   "execution_count": 14,
   "metadata": {},
   "outputs": [
    {
     "name": "stdout",
     "output_type": "stream",
     "text": [
      "직사각형의 넓이를 입력하세요.: 32\n",
      "1 x 32\n",
      "2 x 16\n",
      "4 x 8\n",
      "8 x 4\n",
      "16 x 2\n",
      "32 x 1\n"
     ]
    }
   ],
   "source": [
    "area = int(input('직사각형의 넓이를 입력하세요.: '))\n",
    "\n",
    "for i in range(1, area + 1):\n",
    "#     if i * i > area: break       \n",
    "    if area % i: continue\n",
    "    print(f'{i} x {area // i}')"
   ]
  },
  {
   "cell_type": "markdown",
   "metadata": {},
   "source": [
    "### 구구단 출력"
   ]
  },
  {
   "cell_type": "code",
   "execution_count": 8,
   "metadata": {},
   "outputs": [
    {
     "name": "stdout",
     "output_type": "stream",
     "text": [
      "---------------------------\n",
      "  1  2  3  4  5  6  7  8  9\n",
      "  2  4  6  8 10 12 14 16 18\n",
      "  3  6  9 12 15 18 21 24 27\n",
      "  4  8 12 16 20 24 28 32 36\n",
      "  5 10 15 20 25 30 35 40 45\n",
      "  6 12 18 24 30 36 42 48 54\n",
      "  7 14 21 28 35 42 49 56 63\n",
      "  8 16 24 32 40 48 56 64 72\n",
      "  9 18 27 36 45 54 63 72 81\n",
      "---------------------------\n"
     ]
    }
   ],
   "source": [
    "print('-' * 27)\n",
    "for i in range(1, 10):\n",
    "    for j in range(1, 10):\n",
    "        print(f'{i * j:3}', end='')\n",
    "    print()\n",
    "\n",
    "print('-' * 27)"
   ]
  },
  {
   "cell_type": "markdown",
   "metadata": {},
   "source": [
    "# 실습 1"
   ]
  },
  {
   "cell_type": "markdown",
   "metadata": {},
   "source": [
    "Q) 다음과 같이 계싼되는 전기 요금 산출 함수 electricPay()를 만들고, 전기사용량(kWh)을 인수로 전해주면 전기 요금(원)을 계산하여 return해 준다.\n",
    "\n",
    "|기본요금(원/호)| | 전력량 요금(원/kWh)||\n",
    "|---------------|-|-------------------|-|\n",
    "|100kWh 미만 사용|410|처음 100kWh까지|60.7|\n",
    "|100kWh이상 200kWh이하 사용|910|다음 100kWh까지 | 125.9|\n",
    "|200kWh 초과 사용|1,600|200kWh 초과 부분|187.9|\n",
    "\n",
    "예를 들어 한달 전기 사용량이 250kWh일 경우, 기본 요금 1600원에 전력량 요금 100kWh x 60.7원 + 100kWh x 125.9원 + 50kWh x 187.9원 = 28,055원이어서 합산하면 29,655원이다.\n",
    "\n",
    "이 요금합계에 부가가치세 10%(2,9655원 * 0.1 = 2965.5원)와 전력산업기반기금 3.7%(29,655원 x 0.037 = 1097.235원)을 더하면 총 전기요금은 29,655원 + 2965.5원 + 1097.235원 = 33717원(1원 미만 절사)이다.\n",
    "(실수값을 가진 변수를 int를 활용하여 정수로 변경하면 소수점 값들은 버려진다.)"
   ]
  },
  {
   "cell_type": "code",
   "execution_count": 18,
   "metadata": {},
   "outputs": [
    {
     "name": "stdout",
     "output_type": "stream",
     "text": [
      "한달 전기 사용 요금은 33717원 입니다.\n"
     ]
    }
   ],
   "source": [
    "def electricPay(useage) :\n",
    "    charge = 0\n",
    "    fee_table = [60.7, 125.9, 187.9]\n",
    "    if useage < 100 :\n",
    "        charge += 410\n",
    "    elif useage <= 200 :\n",
    "        charge += 910\n",
    "    else :\n",
    "        charge += 1600\n",
    "    \n",
    "    for i in range(useage//100) :\n",
    "        charge += (fee_table[i]*100)\n",
    "    \n",
    "    charge += (useage%100) * fee_table[useage//100]\n",
    "    \n",
    "    charge = charge + (charge*0.1) + (charge*0.037)\n",
    "    \n",
    "    return int(charge)\n",
    "\n",
    "print(f\"한달 전기 사용 요금은 {electricPay(250)}원 입니다.\")"
   ]
  },
  {
   "cell_type": "markdown",
   "metadata": {},
   "source": [
    "# 실습 2"
   ]
  },
  {
   "cell_type": "markdown",
   "metadata": {},
   "source": [
    "Q) + 와 - 번갈아 가면서 출력하려고 하며, 몇 개를 출력할지는 입력을 받아 입력된 개수만큼 출력하라.\n",
    "\n",
    "예) + 와 -를 벌갈아 출력합니다.\n",
    "\n",
    "몇 개를 출력할까요? 12\n",
    "\n",
    "+-+-+-+-+-+-"
   ]
  },
  {
   "cell_type": "code",
   "execution_count": 22,
   "metadata": {},
   "outputs": [
    {
     "name": "stdout",
     "output_type": "stream",
     "text": [
      "+-+-+-+-+-+-"
     ]
    }
   ],
   "source": [
    "def pul_minu_print(num) :\n",
    "    for i in range(num) :\n",
    "        if i%2== 0 :\n",
    "            print('+', end='')\n",
    "        else :\n",
    "            print('-', end='')\n",
    "pul_minu_print(12)"
   ]
  },
  {
   "cell_type": "markdown",
   "metadata": {},
   "source": [
    "# 실습 3"
   ]
  },
  {
   "cell_type": "markdown",
   "metadata": {},
   "source": [
    "Q) 1부터 12까지를 for loop를 활용하여 출력하는 데, 8은 건너뛰고 출력하라.\n",
    "\n",
    "결과) 1 2 3 4 5 6 7 9 10 11 12"
   ]
  },
  {
   "cell_type": "code",
   "execution_count": 25,
   "metadata": {},
   "outputs": [
    {
     "name": "stdout",
     "output_type": "stream",
     "text": [
      "1 2 3 4 5 6 7 9 10 11 12 "
     ]
    }
   ],
   "source": [
    "for i in range(1, 13) :\n",
    "    if i == 8 :\n",
    "        continue\n",
    "    print(i, end = ' ')"
   ]
  },
  {
   "cell_type": "markdown",
   "metadata": {},
   "source": [
    "# 실습 4"
   ]
  },
  {
   "cell_type": "markdown",
   "metadata": {},
   "source": [
    "Q) 사용자에게 정수를 입력받아, root**pwr 값이 사용자가 입력한 정수와 같은 두 개의 정수 root 및 pwr을 찾아 출력하라 (단 1 < pwr < 6). 그러한 정수 쌍이 없으면 결과가 없음을 출력하라.\n",
    "\n",
    "(root ** pwr은 root를 pwr 만큼 거듭제공하였다는 뜻이다. 예를 드어 2 ** 3d은 2의 세 제곱이며 값은 8이다.)"
   ]
  },
  {
   "cell_type": "code",
   "execution_count": 41,
   "metadata": {},
   "outputs": [
    {
     "name": "stdout",
     "output_type": "stream",
     "text": [
      "[(32.0, 2), (4.0, 5)]\n"
     ]
    }
   ],
   "source": [
    "def find_root(num) :\n",
    "    list_find = []\n",
    "    for i in range(2, 6) :\n",
    "        tmp = num ** (1/i)\n",
    "        if tmp == int(tmp) :\n",
    "            list_find.append((tmp, i))\n",
    "            \n",
    "    if len(list_find) > 0 :\n",
    "        print(list_find)\n",
    "    else :\n",
    "        print(\"결과가 없음\")\n",
    "        \n",
    "\n",
    "find_root(1024)"
   ]
  },
  {
   "cell_type": "code",
   "execution_count": null,
   "metadata": {},
   "outputs": [],
   "source": []
  }
 ],
 "metadata": {
  "kernelspec": {
   "display_name": "Python 3",
   "language": "python",
   "name": "python3"
  },
  "language_info": {
   "codemirror_mode": {
    "name": "ipython",
    "version": 3
   },
   "file_extension": ".py",
   "mimetype": "text/x-python",
   "name": "python",
   "nbconvert_exporter": "python",
   "pygments_lexer": "ipython3",
   "version": "3.8.8"
  }
 },
 "nbformat": 4,
 "nbformat_minor": 4
}
